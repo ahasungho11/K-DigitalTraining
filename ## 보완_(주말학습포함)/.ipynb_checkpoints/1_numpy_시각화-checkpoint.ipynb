{
 "cells": [
  {
   "cell_type": "code",
   "execution_count": 1,
   "id": "b65fb975",
   "metadata": {},
   "outputs": [],
   "source": [
    "import numpy as np"
   ]
  },
  {
   "cell_type": "code",
   "execution_count": 3,
   "id": "906dd2e8",
   "metadata": {},
   "outputs": [],
   "source": [
    "# 데이터 불러오기 (np.loadtxt)\n",
    "# python 파일 경로에 data폴더 만든 후 다음의 births.txt 파일 넣어놓기\n",
    "\n",
    "birth = np.loadtxt( 'data/births.txt', delimiter=',', dtype=np.int64) \n",
    "# data폴더 안의 births.txt파일 ','로 구분하여 load하기"
   ]
  },
  {
   "cell_type": "code",
   "execution_count": 4,
   "id": "e0055a7d",
   "metadata": {},
   "outputs": [
    {
     "data": {
      "text/plain": [
       "(132, 3)"
      ]
     },
     "execution_count": 4,
     "metadata": {},
     "output_type": "execute_result"
    }
   ],
   "source": [
    "birth.shape # 132행 3열"
   ]
  },
  {
   "cell_type": "code",
   "execution_count": 5,
   "id": "24d1644e",
   "metadata": {
    "collapsed": true
   },
   "outputs": [
    {
     "data": {
      "text/plain": [
       "array([[   1880,   90993,  110491],\n",
       "       [   1881,   91954,  100745],\n",
       "       [   1882,  107850,  113688],\n",
       "       [   1883,  112321,  104629],\n",
       "       [   1884,  129022,  114445],\n",
       "       [   1885,  133055,  107800],\n",
       "       [   1886,  144535,  110784],\n",
       "       [   1887,  145982,  101414],\n",
       "       [   1888,  178627,  120853],\n",
       "       [   1889,  178366,  110584],\n",
       "       [   1890,  190377,  111025],\n",
       "       [   1891,  185482,  101196],\n",
       "       [   1892,  212346,  122037],\n",
       "       [   1893,  212906,  112317],\n",
       "       [   1894,  222922,  115772],\n",
       "       [   1895,  233630,  117398],\n",
       "       [   1896,  237920,  119570],\n",
       "       [   1897,  234202,  112758],\n",
       "       [   1898,  258770,  122693],\n",
       "       [   1899,  233023,  106212],\n",
       "       [   1900,  299828,  150499],\n",
       "       [   1901,  239348,  106471],\n",
       "       [   1902,  264077,  122659],\n",
       "       [   1903,  261973,  119234],\n",
       "       [   1904,  275371,  128125],\n",
       "       [   1905,  291629,  132319],\n",
       "       [   1906,  295303,  133159],\n",
       "       [   1907,  318566,  146833],\n",
       "       [   1908,  334313,  154344],\n",
       "       [   1909,  347228,  163999],\n",
       "       [   1910,  396501,  194218],\n",
       "       [   1911,  418299,  225968],\n",
       "       [   1912,  558103,  429945],\n",
       "       [   1913,  624518,  512557],\n",
       "       [   1914,  761548,  654762],\n",
       "       [   1915,  983874,  848603],\n",
       "       [   1916, 1044323,  890099],\n",
       "       [   1917, 1081280,  925511],\n",
       "       [   1918, 1157647, 1013537],\n",
       "       [   1919, 1130145,  980149],\n",
       "       [   1920, 1198283, 1064463],\n",
       "       [   1921, 1232999, 1101457],\n",
       "       [   1922, 1200919, 1088287],\n",
       "       [   1923, 1206330, 1096168],\n",
       "       [   1924, 1248876, 1132751],\n",
       "       [   1925, 1217352, 1115958],\n",
       "       [   1926, 1185304, 1110505],\n",
       "       [   1927, 1192330, 1126717],\n",
       "       [   1928, 1153117, 1107518],\n",
       "       [   1929, 1116422, 1075313],\n",
       "       [   1930, 1125761, 1097176],\n",
       "       [   1931, 1064497, 1039127],\n",
       "       [   1932, 1066994, 1043808],\n",
       "       [   1933, 1007710,  991127],\n",
       "       [   1934, 1044039, 1032291],\n",
       "       [   1935, 1048428, 1040930],\n",
       "       [   1936, 1040202, 1036974],\n",
       "       [   1937, 1063872, 1066309],\n",
       "       [   1938, 1103277, 1108841],\n",
       "       [   1939, 1096518, 1106544],\n",
       "       [   1940, 1143325, 1158900],\n",
       "       [   1941, 1207919, 1227941],\n",
       "       [   1942, 1350545, 1380774],\n",
       "       [   1943, 1395082, 1426846],\n",
       "       [   1944, 1327104, 1362555],\n",
       "       [   1945, 1307028, 1345610],\n",
       "       [   1946, 1571184, 1623650],\n",
       "       [   1947, 1772644, 1829223],\n",
       "       [   1948, 1697814, 1754469],\n",
       "       [   1949, 1710825, 1773725],\n",
       "       [   1950, 1713180, 1790673],\n",
       "       [   1951, 1800042, 1881080],\n",
       "       [   1952, 1854698, 1944277],\n",
       "       [   1953, 1880326, 1969777],\n",
       "       [   1954, 1941682, 2037374],\n",
       "       [   1955, 1954664, 2057918],\n",
       "       [   1956, 2007512, 2113694],\n",
       "       [   1957, 2044160, 2155866],\n",
       "       [   1958, 2010884, 2120712],\n",
       "       [   1959, 2023044, 2133509],\n",
       "       [   1960, 2022093, 2132717],\n",
       "       [   1961, 2017316, 2122502],\n",
       "       [   1962, 1966548, 2068945],\n",
       "       [   1963, 1927217, 2031755],\n",
       "       [   1964, 1894594, 1993270],\n",
       "       [   1965, 1765001, 1861378],\n",
       "       [   1966, 1691868, 1783964],\n",
       "       [   1967, 1650764, 1744527],\n",
       "       [   1968, 1640103, 1738928],\n",
       "       [   1969, 1686947, 1789732],\n",
       "       [   1970, 1748147, 1859594],\n",
       "       [   1971, 1663475, 1769201],\n",
       "       [   1972, 1521185, 1622666],\n",
       "       [   1973, 1458139, 1559338],\n",
       "       [   1974, 1467413, 1573105],\n",
       "       [   1975, 1457699, 1562207],\n",
       "       [   1976, 1465096, 1569904],\n",
       "       [   1977, 1532997, 1643684],\n",
       "       [   1978, 1531658, 1642250],\n",
       "       [   1979, 1605051, 1721947],\n",
       "       [   1980, 1659933, 1783876],\n",
       "       [   1981, 1667465, 1790907],\n",
       "       [   1982, 1692678, 1813970],\n",
       "       [   1983, 1670061, 1791732],\n",
       "       [   1984, 1682973, 1803830],\n",
       "       [   1985, 1720036, 1847032],\n",
       "       [   1986, 1714664, 1840164],\n",
       "       [   1987, 1737891, 1865662],\n",
       "       [   1988, 1779839, 1912602],\n",
       "       [   1989, 1843105, 1999999],\n",
       "       [   1990, 1897709, 2052543],\n",
       "       [   1991, 1874434, 2019463],\n",
       "       [   1992, 1843304, 1996388],\n",
       "       [   1993, 1808379, 1960397],\n",
       "       [   1994, 1785074, 1931157],\n",
       "       [   1995, 1757927, 1902832],\n",
       "       [   1996, 1752249, 1893378],\n",
       "       [   1997, 1739806, 1884122],\n",
       "       [   1998, 1765915, 1910250],\n",
       "       [   1999, 1772632, 1918809],\n",
       "       [   2000, 1814601, 1962406],\n",
       "       [   2001, 1799049, 1941251],\n",
       "       [   2002, 1795206, 1939815],\n",
       "       [   2003, 1825359, 1973434],\n",
       "       [   2004, 1834145, 1982794],\n",
       "       [   2005, 1845379, 1994841],\n",
       "       [   2006, 1898463, 2052377],\n",
       "       [   2007, 1919408, 2072139],\n",
       "       [   2008, 1887234, 2036289],\n",
       "       [   2009, 1832925, 1979303],\n",
       "       [   2010, 1772738, 1913851],\n",
       "       [   2011, 1753500, 1893230]], dtype=int64)"
      ]
     },
     "execution_count": 5,
     "metadata": {},
     "output_type": "execute_result"
    }
   ],
   "source": [
    "birth # 연도, 남아수, 여아수로 구성되어있음"
   ]
  },
  {
   "cell_type": "code",
   "execution_count": 6,
   "id": "84becd38",
   "metadata": {},
   "outputs": [],
   "source": [
    "# 데이터 시각화하기 (matplotlib)\n",
    "import matplotlib.pyplot as plt # 시각화와 관련된 라이브러리"
   ]
  },
  {
   "cell_type": "code",
   "execution_count": 13,
   "id": "df0248f4",
   "metadata": {
    "collapsed": true
   },
   "outputs": [
    {
     "data": {
      "image/png": "[encoded data removed]",
      "text/plain": [
       "<Figure size 432x288 with 1 Axes>"
      ]
     },
     "metadata": {
      "needs_background": "light"
     },
     "output_type": "display_data"
    }
   ],
   "source": [
    " # matplotlib 연습\n",
    "a = np.array([1,2,3,4,5])\n",
    "b = np.array([11,22,33,44,55])\n",
    "# b = [11,22,33,44,55]\n",
    "\n",
    "plt.plot(a,b , 'bo--')\n",
    "plt.bar(a,b) # bar chart 만들기\n",
    "\n",
    "plt.title( 'kor' ) # chart의 제목 : 'kor'\n",
    "plt.xlabel('Students_num') # x축 label : 'Students_num'\n",
    "plt.ylabel('Score') # y축 label : 'Score'\n",
    "plt.show()"
   ]
  },
  {
   "cell_type": "code",
   "execution_count": 15,
   "id": "0eea05cc",
   "metadata": {},
   "outputs": [
    {
     "name": "stdout",
     "output_type": "stream",
     "text": [
      "남아 평균: 1225776\n",
      "여아 평균: 1245399\n"
     ]
    }
   ],
   "source": [
    "#1. 남아 ,여아 출생 평균을 구하시오.\n",
    "\n",
    "birth\n",
    "print( \"남아 평균:\",int(birth[:,1].mean()) ) #남아\n",
    "print( \"여아 평균:\",int(birth[:,2].mean()) ) #여아"
   ]
  },
  {
   "cell_type": "code",
   "execution_count": 19,
   "id": "e33164e1",
   "metadata": {},
   "outputs": [
    {
     "name": "stdout",
     "output_type": "stream",
     "text": [
      "연도\t남아\t여아\n",
      "=======================\n",
      "2000\t1814601\t1962406\n",
      "2001\t1799049\t1941251\n",
      "2002\t1795206\t1939815\n",
      "2003\t1825359\t1973434\n",
      "2004\t1834145\t1982794\n",
      "2005\t1845379\t1994841\n",
      "2006\t1898463\t2052377\n",
      "2007\t1919408\t2072139\n",
      "2008\t1887234\t2036289\n",
      "2009\t1832925\t1979303\n",
      "2010\t1772738\t1913851\n",
      "2011\t1753500\t1893230\n"
     ]
    }
   ],
   "source": [
    "#2. 2000년대 이후 데이터를 구하시오.\n",
    "# 년도   남아   여아\n",
    "# ==============\n",
    "# 2000     xx     xx\n",
    "\n",
    "print('연도','남아', '여아',sep='\\t')\n",
    "print('='*23)\n",
    "for y,m,f in birth[ birth[:,0] >= 2000 ]:\n",
    "    print( y,m,f,sep='\\t')"
   ]
  },
  {
   "cell_type": "code",
   "execution_count": 20,
   "id": "3b87d195",
   "metadata": {},
   "outputs": [
    {
     "name": "stdout",
     "output_type": "stream",
     "text": [
      "연도\t남아수\n",
      "1957\t2044160\n"
     ]
    }
   ],
   "source": [
    "#3. 남아출생이 가장 많은 연도와 남아수를 구하시오.\n",
    "\n",
    "# birth[:,1].argmax() : 남아수가 가장 많은 값의 index반환\n",
    "# birth[birth[:,1].argmax()][[0,1]] : 남아수가 가장 많은 값의 연도와 남아수 리스트 형태로 반환\n",
    "y = birth[birth[:,1].argmax()][[0,1]][0] \n",
    "b = birth[birth[:,1].argmax()][[0,1]][1]\n",
    "print('연도','남아수',sep='\\t')\n",
    "print(y,b,sep='\\t')"
   ]
  },
  {
   "cell_type": "code",
   "execution_count": 33,
   "id": "9b584fc4",
   "metadata": {},
   "outputs": [
    {
     "name": "stdout",
     "output_type": "stream",
     "text": [
      "연도 남아수\n",
      "============\n",
      "1957 2044160\n",
      "1958 2010884\n",
      "1959 2023044\n",
      "1960 2022093\n",
      "1961 2017316\n"
     ]
    }
   ],
   "source": [
    "#4. 남아출생이 가장 많은 top 5를 구하시오.(연도와 남아수)\n",
    "\n",
    "top5_boys = np.sort( birth[:,1] )[-1:-6:-1]\n",
    "print('연도 남아수')\n",
    "print('='*12)\n",
    "for i in birth:\n",
    "    for j in top5_boys:\n",
    "        if i[1] == j:\n",
    "            print(i[0],j)"
   ]
  },
  {
   "cell_type": "code",
   "execution_count": 38,
   "id": "98c06d1c",
   "metadata": {
    "collapsed": true
   },
   "outputs": [
    {
     "name": "stdout",
     "output_type": "stream",
     "text": [
      "년도\t남아\t여아\t남아율\n",
      "============================\n",
      "1880\t90993\t110491\t0.45\n",
      "1881\t91954\t100745\t0.48\n",
      "1882\t107850\t113688\t0.49\n",
      "1883\t112321\t104629\t0.52\n",
      "1884\t129022\t114445\t0.53\n",
      "1885\t133055\t107800\t0.55\n",
      "1886\t144535\t110784\t0.57\n",
      "1887\t145982\t101414\t0.59\n",
      "1888\t178627\t120853\t0.6\n",
      "1889\t178366\t110584\t0.62\n",
      "1890\t190377\t111025\t0.63\n",
      "1891\t185482\t101196\t0.65\n",
      "1892\t212346\t122037\t0.64\n",
      "1893\t212906\t112317\t0.65\n",
      "1894\t222922\t115772\t0.66\n",
      "1895\t233630\t117398\t0.67\n",
      "1896\t237920\t119570\t0.67\n",
      "1897\t234202\t112758\t0.68\n",
      "1898\t258770\t122693\t0.68\n",
      "1899\t233023\t106212\t0.69\n",
      "1900\t299828\t150499\t0.67\n",
      "1901\t239348\t106471\t0.69\n",
      "1902\t264077\t122659\t0.68\n",
      "1903\t261973\t119234\t0.69\n",
      "1904\t275371\t128125\t0.68\n",
      "1905\t291629\t132319\t0.69\n",
      "1906\t295303\t133159\t0.69\n",
      "1907\t318566\t146833\t0.68\n",
      "1908\t334313\t154344\t0.68\n",
      "1909\t347228\t163999\t0.68\n",
      "1910\t396501\t194218\t0.67\n",
      "1911\t418299\t225968\t0.65\n",
      "1912\t558103\t429945\t0.56\n",
      "1913\t624518\t512557\t0.55\n",
      "1914\t761548\t654762\t0.54\n",
      "1915\t983874\t848603\t0.54\n",
      "1916\t1044323\t890099\t0.54\n",
      "1917\t1081280\t925511\t0.54\n",
      "1918\t1157647\t1013537\t0.53\n",
      "1919\t1130145\t980149\t0.54\n",
      "1920\t1198283\t1064463\t0.53\n",
      "1921\t1232999\t1101457\t0.53\n",
      "1922\t1200919\t1088287\t0.52\n",
      "1923\t1206330\t1096168\t0.52\n",
      "1924\t1248876\t1132751\t0.52\n",
      "1925\t1217352\t1115958\t0.52\n",
      "1926\t1185304\t1110505\t0.52\n",
      "1927\t1192330\t1126717\t0.51\n",
      "1928\t1153117\t1107518\t0.51\n",
      "1929\t1116422\t1075313\t0.51\n",
      "1930\t1125761\t1097176\t0.51\n",
      "1931\t1064497\t1039127\t0.51\n",
      "1932\t1066994\t1043808\t0.51\n",
      "1933\t1007710\t991127\t0.5\n",
      "1934\t1044039\t1032291\t0.5\n",
      "1935\t1048428\t1040930\t0.5\n",
      "1936\t1040202\t1036974\t0.5\n",
      "1937\t1063872\t1066309\t0.5\n",
      "1938\t1103277\t1108841\t0.5\n",
      "1939\t1096518\t1106544\t0.5\n",
      "1940\t1143325\t1158900\t0.5\n",
      "1941\t1207919\t1227941\t0.5\n",
      "1942\t1350545\t1380774\t0.49\n",
      "1943\t1395082\t1426846\t0.49\n",
      "1944\t1327104\t1362555\t0.49\n",
      "1945\t1307028\t1345610\t0.49\n",
      "1946\t1571184\t1623650\t0.49\n",
      "1947\t1772644\t1829223\t0.49\n",
      "1948\t1697814\t1754469\t0.49\n",
      "1949\t1710825\t1773725\t0.49\n",
      "1950\t1713180\t1790673\t0.49\n",
      "1951\t1800042\t1881080\t0.49\n",
      "1952\t1854698\t1944277\t0.49\n",
      "1953\t1880326\t1969777\t0.49\n",
      "1954\t1941682\t2037374\t0.49\n",
      "1955\t1954664\t2057918\t0.49\n",
      "1956\t2007512\t2113694\t0.49\n",
      "1957\t2044160\t2155866\t0.49\n",
      "1958\t2010884\t2120712\t0.49\n",
      "1959\t2023044\t2133509\t0.49\n",
      "1960\t2022093\t2132717\t0.49\n",
      "1961\t2017316\t2122502\t0.49\n",
      "1962\t1966548\t2068945\t0.49\n",
      "1963\t1927217\t2031755\t0.49\n",
      "1964\t1894594\t1993270\t0.49\n",
      "1965\t1765001\t1861378\t0.49\n",
      "1966\t1691868\t1783964\t0.49\n",
      "1967\t1650764\t1744527\t0.49\n",
      "1968\t1640103\t1738928\t0.49\n",
      "1969\t1686947\t1789732\t0.49\n",
      "1970\t1748147\t1859594\t0.48\n",
      "1971\t1663475\t1769201\t0.48\n",
      "1972\t1521185\t1622666\t0.48\n",
      "1973\t1458139\t1559338\t0.48\n",
      "1974\t1467413\t1573105\t0.48\n",
      "1975\t1457699\t1562207\t0.48\n",
      "1976\t1465096\t1569904\t0.48\n",
      "1977\t1532997\t1643684\t0.48\n",
      "1978\t1531658\t1642250\t0.48\n",
      "1979\t1605051\t1721947\t0.48\n",
      "1980\t1659933\t1783876\t0.48\n",
      "1981\t1667465\t1790907\t0.48\n",
      "1982\t1692678\t1813970\t0.48\n",
      "1983\t1670061\t1791732\t0.48\n",
      "1984\t1682973\t1803830\t0.48\n",
      "1985\t1720036\t1847032\t0.48\n",
      "1986\t1714664\t1840164\t0.48\n",
      "1987\t1737891\t1865662\t0.48\n",
      "1988\t1779839\t1912602\t0.48\n",
      "1989\t1843105\t1999999\t0.48\n",
      "1990\t1897709\t2052543\t0.48\n",
      "1991\t1874434\t2019463\t0.48\n",
      "1992\t1843304\t1996388\t0.48\n",
      "1993\t1808379\t1960397\t0.48\n",
      "1994\t1785074\t1931157\t0.48\n",
      "1995\t1757927\t1902832\t0.48\n",
      "1996\t1752249\t1893378\t0.48\n",
      "1997\t1739806\t1884122\t0.48\n",
      "1998\t1765915\t1910250\t0.48\n",
      "1999\t1772632\t1918809\t0.48\n",
      "2000\t1814601\t1962406\t0.48\n",
      "2001\t1799049\t1941251\t0.48\n",
      "2002\t1795206\t1939815\t0.48\n",
      "2003\t1825359\t1973434\t0.48\n",
      "2004\t1834145\t1982794\t0.48\n",
      "2005\t1845379\t1994841\t0.48\n",
      "2006\t1898463\t2052377\t0.48\n",
      "2007\t1919408\t2072139\t0.48\n",
      "2008\t1887234\t2036289\t0.48\n",
      "2009\t1832925\t1979303\t0.48\n",
      "2010\t1772738\t1913851\t0.48\n",
      "2011\t1753500\t1893230\t0.48\n"
     ]
    }
   ],
   "source": [
    "#5. 남아율(%) 을 구하고 각 연도별 남아수가 차지하는비율을 데이터로 보여주시오.\n",
    "# 남아수    여아수    남아율\n",
    "# ===================\n",
    "# ..\n",
    "\n",
    "boys_ratio = (  birth[:,1]/ (birth[:,1]+birth[:,2])  ).round(2)\n",
    "print( '년도','남아', '여아', '남아율',sep='\\t')\n",
    "print('=='*14)\n",
    "for year, boy , girl , boy_ratio in zip(birth[:,0], birth[:,1],birth[:,2], boys_ratio):\n",
    "    print(year,boy, girl, boy_ratio,sep='\\t')"
   ]
  },
  {
   "cell_type": "code",
   "execution_count": 39,
   "id": "9f5fbb3b",
   "metadata": {
    "collapsed": true
   },
   "outputs": [
    {
     "name": "stdout",
     "output_type": "stream",
     "text": [
      "2000 1814601 많음\n",
      "2001 1799049 적음\n",
      "2002 1795206 적음\n",
      "2003 1825359 많음\n",
      "2004 1834145 많음\n",
      "2005 1845379 많음\n",
      "2006 1898463 많음\n",
      "2007 1919408 많음\n",
      "2008 1887234 많음\n",
      "2009 1832925 많음\n",
      "2010 1772738 적음\n",
      "2011 1753500 적음\n"
     ]
    }
   ],
   "source": [
    "#6. 2000년도 이후데이터 에 대해 출생량 을 구하고 남아수가 1800000 이상이면 '많음'아니면 '적음'이라고 보여 주시오.\n",
    "# 연도 남아수 출생량\n",
    "# 2000   1233   '많음'\n",
    "# 2001   1234   '적음'\n",
    "\n",
    "aft_2000 = birth [ birth[:,0] >= 2000 ]\n",
    "boys = aft_2000[:,1]\n",
    "amount = np.where( aft_2000[:,1] >= 1800000 , '많음', '적음')\n",
    "for year, boy, amt in zip( aft_2000[:,0],aft_2000[:,1], amount):\n",
    "    print(year, boy, amt)"
   ]
  },
  {
   "cell_type": "code",
   "execution_count": 40,
   "id": "fa059bfc",
   "metadata": {},
   "outputs": [
    {
     "name": "stdout",
     "output_type": "stream",
     "text": [
      "1800년대\n",
      "남아수 평균, 여아수 평균\n",
      "176714.15 111820.55\n"
     ]
    }
   ],
   "source": [
    "#7. 1800년대, 1900년대, 2000년대각 남아, 여아수 평균을 구하시오.\n",
    "\n",
    "print('1800년대')\n",
    "print('남아수 평균, 여아수 평균')\n",
    "kids_1800s = birth[ (birth[:,0] >= 1800) & (birth[:,0]< 1900) ][:,1:]\n",
    "print(kids_1800s.mean( axis=0 )[0],kids_1800s.mean( axis=0 )[1])"
   ]
  },
  {
   "cell_type": "code",
   "execution_count": 41,
   "id": "82eeb152",
   "metadata": {},
   "outputs": [
    {
     "name": "stdout",
     "output_type": "stream",
     "text": [
      "1900년대\n",
      "남아수 평균, 여아수 평균\n",
      "1362901.51 1384145.55\n"
     ]
    }
   ],
   "source": [
    "print('1900년대')\n",
    "print('남아수 평균, 여아수 평균')\n",
    "kids_1900s = birth[ (birth[:,0] >= 1900) & (birth[:,0]< 2000) ][:,1:]\n",
    "print(kids_1900s.mean( axis=0 )[0],kids_1900s.mean( axis=0 )[1])"
   ]
  },
  {
   "cell_type": "code",
   "execution_count": 42,
   "id": "772c25fe",
   "metadata": {},
   "outputs": [
    {
     "name": "stdout",
     "output_type": "stream",
     "text": [
      "2000년대\n",
      "남아수 평균, 여아수 평균\n",
      "1831500.5833333333 1978477.5\n"
     ]
    }
   ],
   "source": [
    "print('2000년대')\n",
    "print('남아수 평균, 여아수 평균')\n",
    "kids_2000s = birth[ birth[:,0] >= 2000 ][:,1:]\n",
    "print(kids_2000s.mean( axis=0 )[0],kids_2000s.mean( axis=0 )[1])"
   ]
  },
  {
   "cell_type": "code",
   "execution_count": 45,
   "id": "868d4b45",
   "metadata": {
    "collapsed": true
   },
   "outputs": [
    {
     "data": {
      "text/plain": [
       "array([[   1913,  512557],\n",
       "       [   1914,  654762],\n",
       "       [   1915,  848603],\n",
       "       [   1916,  890099],\n",
       "       [   1917,  925511],\n",
       "       [   1918, 1013537],\n",
       "       [   1919,  980149],\n",
       "       [   1920, 1064463],\n",
       "       [   1921, 1101457],\n",
       "       [   1922, 1088287],\n",
       "       [   1923, 1096168],\n",
       "       [   1924, 1132751],\n",
       "       [   1925, 1115958],\n",
       "       [   1926, 1110505],\n",
       "       [   1927, 1126717],\n",
       "       [   1928, 1107518],\n",
       "       [   1929, 1075313],\n",
       "       [   1930, 1097176],\n",
       "       [   1931, 1039127],\n",
       "       [   1932, 1043808],\n",
       "       [   1933,  991127],\n",
       "       [   1934, 1032291],\n",
       "       [   1935, 1040930],\n",
       "       [   1936, 1036974],\n",
       "       [   1937, 1066309],\n",
       "       [   1938, 1108841],\n",
       "       [   1939, 1106544],\n",
       "       [   1940, 1158900],\n",
       "       [   1941, 1227941],\n",
       "       [   1942, 1380774],\n",
       "       [   1943, 1426846],\n",
       "       [   1944, 1362555],\n",
       "       [   1945, 1345610],\n",
       "       [   1946, 1623650],\n",
       "       [   1947, 1829223],\n",
       "       [   1948, 1754469],\n",
       "       [   1949, 1773725],\n",
       "       [   1950, 1790673],\n",
       "       [   1951, 1881080],\n",
       "       [   1965, 1861378],\n",
       "       [   1966, 1783964],\n",
       "       [   1967, 1744527],\n",
       "       [   1968, 1738928],\n",
       "       [   1969, 1789732],\n",
       "       [   1970, 1859594],\n",
       "       [   1971, 1769201],\n",
       "       [   1972, 1622666],\n",
       "       [   1973, 1559338],\n",
       "       [   1974, 1573105],\n",
       "       [   1975, 1562207],\n",
       "       [   1976, 1569904],\n",
       "       [   1977, 1643684],\n",
       "       [   1978, 1642250],\n",
       "       [   1979, 1721947],\n",
       "       [   1980, 1783876],\n",
       "       [   1981, 1790907],\n",
       "       [   1982, 1813970],\n",
       "       [   1983, 1791732],\n",
       "       [   1984, 1803830],\n",
       "       [   1985, 1847032],\n",
       "       [   1986, 1840164],\n",
       "       [   1987, 1865662],\n",
       "       [   1995, 1902832],\n",
       "       [   1996, 1893378],\n",
       "       [   1997, 1884122],\n",
       "       [   2011, 1893230]], dtype=int64)"
      ]
     },
     "execution_count": 45,
     "metadata": {},
     "output_type": "execute_result"
    }
   ],
   "source": [
    "#8. 여아 25%~75% 사이의 값을 구하시오.\n",
    "\n",
    "girls_q25 = np.quantile( birth[:,2] ,0.25 )\n",
    "girls_q75 = np.quantile( birth[:,2] ,0.75 )\n",
    "birth [ (birth[:,2] >= girls_q25) & (birth[:,2] <= girls_q75 ) ][:,[0,2]]"
   ]
  },
  {
   "cell_type": "code",
   "execution_count": 46,
   "id": "b33e55f4",
   "metadata": {},
   "outputs": [
    {
     "data": {
      "image/png": "[encoded data removed]",
      "text/plain": [
       "<Figure size 432x288 with 1 Axes>"
      ]
     },
     "metadata": {
      "needs_background": "light"
     },
     "output_type": "display_data"
    }
   ],
   "source": [
    "#9. 2000년대 남아 데이터를 바 차트로 그리시오.\n",
    "\n",
    "boys_2000s = birth[ birth[:,0] >= 2000 ][:,0:2]\n",
    "\n",
    "plt.bar( boys_2000s[:,0] ,boys_2000s[:,1], color='salmon')\n",
    "plt.xlabel('year')\n",
    "plt.ylabel('boysBirth')\n",
    "plt.show()"
   ]
  },
  {
   "cell_type": "markdown",
   "id": "4b5f212f",
   "metadata": {},
   "source": [
    "**np와 list의 성질 차이로 활용하는 것. 어떤 다른 것이 있어서 별도로 쓰는 것은 아님**"
   ]
  }
 ],
 "metadata": {
  "kernelspec": {
   "display_name": "Python 3 (ipykernel)",
   "language": "python",
   "name": "python3"
  },
  "language_info": {
   "codemirror_mode": {
    "name": "ipython",
    "version": 3
   },
   "file_extension": ".py",
   "mimetype": "text/x-python",
   "name": "python",
   "nbconvert_exporter": "python",
   "pygments_lexer": "ipython3",
   "version": "3.9.12"
  }
 },
 "nbformat": 4,
 "nbformat_minor": 5
}
