{
 "cells": [
  {
   "cell_type": "markdown",
   "id": "584a612d",
   "metadata": {},
   "source": [
    "# 세계최근동향\n",
    "- 조이름: 4달러\n",
    "\n",
    "- 주제: 미국 금리 변화가 한국경제에 미치는 영향에 대해 분석\n",
    "    - 분석하고자하는 주요경제 지표는 주가/환율/채권/부채\n",
    "  \n",
    "- 역할\n",
    "    - 나령: 주가\n",
    "    - 병립: 환율, 수출/입\n",
    "    - 건영: 채권\n",
    "    - 재열: 부채\n",
    "    - 성화: 분석결과의 요약"
   ]
  },
  {
   "cell_type": "code",
   "execution_count": null,
   "id": "cac0b1d2",
   "metadata": {},
   "outputs": [],
   "source": []
  }
 ],
 "metadata": {
  "kernelspec": {
   "display_name": "Python 3 (ipykernel)",
   "language": "python",
   "name": "python3"
  },
  "language_info": {
   "codemirror_mode": {
    "name": "ipython",
    "version": 3
   },
   "file_extension": ".py",
   "mimetype": "text/x-python",
   "name": "python",
   "nbconvert_exporter": "python",
   "pygments_lexer": "ipython3",
   "version": "3.9.12"
  }
 },
 "nbformat": 4,
 "nbformat_minor": 5
}
