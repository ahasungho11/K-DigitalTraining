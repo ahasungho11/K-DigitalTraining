{
 "cells": [
  {
   "cell_type": "code",
   "execution_count": null,
   "id": "f101dece",
   "metadata": {},
   "outputs": [],
   "source": []
  },
  {
   "cell_type": "code",
   "execution_count": 7,
   "id": "057fefdd",
   "metadata": {},
   "outputs": [],
   "source": [
    "import matplotlib.pyplot as plt\n",
    "import numpy as np"
   ]
  },
  {
   "cell_type": "code",
   "execution_count": 15,
   "id": "7d34d441",
   "metadata": {},
   "outputs": [],
   "source": [
    "a = [0.72962445, 0.22850762, 0.03668922, 0.00517871]\n",
    "cumsum = np.cumsum(a)"
   ]
  },
  {
   "cell_type": "markdown",
   "id": "e5acd867",
   "metadata": {},
   "source": [
    "**축(axes,axis)의 포맷팅(범위, 스케일)**\n",
    "- 관련된 함수는 xlim(), ylim(), axis(), xscale(), yscale()이 있다.\n",
    "- 본 포스팅에서 다루는 함수들은 전부 pyplot 모듈에 포함되어 있다."
   ]
  },
  {
   "cell_type": "code",
   "execution_count": 26,
   "id": "2df857ff",
   "metadata": {},
   "outputs": [
    {
     "data": {
      "image/png": "[encoded data removed]",
      "text/plain": [
       "<Figure size 432x288 with 1 Axes>"
      ]
     },
     "metadata": {
      "needs_background": "light"
     },
     "output_type": "display_data"
    }
   ],
   "source": [
    "plt.plot(cumsum)\n",
    "plt.plot(2, 0.95, 'ro')\n",
    "plt.plot([2.0, 2.0], [0, 0.95], 'b--')\n",
    "\n",
    "plt.axis([0, 4, 0, 1])\n",
    "# axis(*v, **kwargs)\n",
    "# -> x,y축의 범위를 설정할 수 있게 하는 것과 동시에 여러 옵션을 설정할 수 있는 함수\n",
    "# -> *v자리에는 리스트나 튜플같이 순서가 있는 시퀀스형 자료형이 입력된다.\n",
    "# x, y축의 범위: [xmin, xmax, ymin, ymax]\n",
    "\n",
    "plt.xlabel('Dimention')\n",
    "plt.ylabel('Explainde Variance')\n",
    "plt.show()"
   ]
  },
  {
   "cell_type": "code",
   "execution_count": null,
   "id": "a39d6f84",
   "metadata": {},
   "outputs": [],
   "source": []
  }
 ],
 "metadata": {
  "kernelspec": {
   "display_name": "Python 3 (ipykernel)",
   "language": "python",
   "name": "python3"
  },
  "language_info": {
   "codemirror_mode": {
    "name": "ipython",
    "version": 3
   },
   "file_extension": ".py",
   "mimetype": "text/x-python",
   "name": "python",
   "nbconvert_exporter": "python",
   "pygments_lexer": "ipython3",
   "version": "3.9.12"
  }
 },
 "nbformat": 4,
 "nbformat_minor": 5
}
