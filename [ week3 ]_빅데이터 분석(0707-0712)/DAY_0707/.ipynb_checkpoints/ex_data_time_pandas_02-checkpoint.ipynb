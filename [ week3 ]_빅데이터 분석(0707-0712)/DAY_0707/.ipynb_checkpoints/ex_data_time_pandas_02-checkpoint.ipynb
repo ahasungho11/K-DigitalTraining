{
 "cells": [
  {
   "cell_type": "markdown",
   "id": "800d6d5c",
   "metadata": {},
   "source": [
    "# 날짜시간관련 패키지 다루기(판다스)\n",
    "\n",
    "- 관련 자료형 : timestamp, datetime64, period\n",
    "\n",
    "- 관련 메서드 : to_datetime(), date_range(), to_period(), period_range()"
   ]
  },
  {
   "cell_type": "code",
   "execution_count": 53,
   "id": "d19c102a",
   "metadata": {},
   "outputs": [],
   "source": [
    "# 판다스에서 쓰는~\n",
    "# 206~, 207"
   ]
  },
  {
   "cell_type": "code",
   "execution_count": 54,
   "id": "8f779af4",
   "metadata": {},
   "outputs": [],
   "source": [
    "# range처럼 날짜도 date_range를 쓰는 것임\n",
    "# => Timestamp"
   ]
  },
  {
   "cell_type": "code",
   "execution_count": 55,
   "id": "6a0fc0a6",
   "metadata": {},
   "outputs": [],
   "source": [
    "# Timestamp : 특정 시점 기록하는 데이터 자료형\n",
    "# Peroid : 두 시점 사이 일정한 기간을 나타내는 자료형"
   ]
  },
  {
   "cell_type": "markdown",
   "id": "4e236111",
   "metadata": {},
   "source": [
    "# PANDAS DATE-TIME 다루기"
   ]
  },
  {
   "cell_type": "code",
   "execution_count": 56,
   "id": "ad6736e6",
   "metadata": {},
   "outputs": [],
   "source": [
    "# pandas.to_datetime( 1개 데이터 ) -> Timestamp\n",
    "# pandas.to_datetime( 여러 개 데이터 ) -> datetime64\n",
    "\n",
    "# Timestamp, datetime64  =>  pandas.to_period()  =>  Period"
   ]
  },
  {
   "cell_type": "code",
   "execution_count": 57,
   "id": "9f76e4b7",
   "metadata": {},
   "outputs": [],
   "source": [
    "# Timestamp 배열  :  pandas.date_range( ~ )\n",
    "# Period 배열  :  pandas.period_range( ~ )"
   ]
  },
  {
   "cell_type": "code",
   "execution_count": 58,
   "id": "5bda2ac6",
   "metadata": {},
   "outputs": [
    {
     "name": "stdout",
     "output_type": "stream",
     "text": [
      "<class 'pandas.core.frame.DataFrame'>\n",
      "RangeIndex: 2 entries, 0 to 1\n",
      "Data columns (total 3 columns):\n",
      " #   Column  Non-Null Count  Dtype\n",
      "---  ------  --------------  -----\n",
      " 0   year    2 non-null      int64\n",
      " 1   month   2 non-null      int64\n",
      " 2   day     2 non-null      int64\n",
      "dtypes: int64(3)\n",
      "memory usage: 176.0 bytes\n"
     ]
    }
   ],
   "source": [
    "# 모듈 로딩\n",
    "import pandas as pd\n",
    "\n",
    "# DF 객체 생성\n",
    "df = pd.DataFrame({'year':[2021,2022],\n",
    "                   'month':[11,12],\n",
    "                   'day':[1,24]})\n",
    "df.info()"
   ]
  },
  {
   "cell_type": "code",
   "execution_count": 59,
   "id": "261fe389",
   "metadata": {},
   "outputs": [
    {
     "data": {
      "text/plain": [
       "year     int64\n",
       "month    int64\n",
       "day      int64\n",
       "dtype: object"
      ]
     },
     "execution_count": 59,
     "metadata": {},
     "output_type": "execute_result"
    }
   ],
   "source": [
    "# DF 안에 있는 컬럼(객체)들의 타입 정보\n",
    "df.dtypes"
   ]
  },
  {
   "cell_type": "code",
   "execution_count": 60,
   "id": "ade7120f",
   "metadata": {},
   "outputs": [
    {
     "name": "stdout",
     "output_type": "stream",
     "text": [
      "<class 'pandas.core.series.Series'>\n",
      "0   2021-11-01\n",
      "1   2022-12-24\n",
      "dtype: datetime64[ns]\n"
     ]
    }
   ],
   "source": [
    "# DateTime으로 변환하기 => pandas.to_datetime()\n",
    "result = pd.to_datetime(df)\n",
    "\n",
    "print(type(result), result, sep='\\n')\n",
    "# datetime64 유형"
   ]
  },
  {
   "cell_type": "code",
   "execution_count": 61,
   "id": "fd8df601",
   "metadata": {},
   "outputs": [
    {
     "name": "stdout",
     "output_type": "stream",
     "text": [
      "<class 'pandas._libs.tslibs.timestamps.Timestamp'>\n",
      "2021-11-01 00:00:00\n"
     ]
    }
   ],
   "source": [
    "one = result[0]\n",
    "print(type(one), one, sep='\\n')\n",
    "# Timestamp 유형 -> 1개를 뽑아서 'Timestamp'로 나오는 것임"
   ]
  },
  {
   "cell_type": "code",
   "execution_count": 62,
   "id": "7ef09424",
   "metadata": {},
   "outputs": [
    {
     "data": {
      "text/plain": [
       "(1, 11, <function Timestamp.month_name>, 0)"
      ]
     },
     "execution_count": 62,
     "metadata": {},
     "output_type": "execute_result"
    }
   ],
   "source": [
    "one.day, one.month, one.month_name, one.hour\n",
    "# one 객체의 day, month, hour\n",
    "# 수 많은 객체들의 '월'만 뺀다거나 하는 식으로 사용하겠지"
   ]
  },
  {
   "cell_type": "markdown",
   "id": "e028b5c6",
   "metadata": {},
   "source": [
    "# 타입 및 다른 포맷 변환 메서드들. to_변환타입()"
   ]
  },
  {
   "cell_type": "code",
   "execution_count": 63,
   "id": "81c93c06",
   "metadata": {},
   "outputs": [
    {
     "data": {
      "text/plain": [
       "[Timestamp('2021-11-01 00:00:00'), Timestamp('2022-12-24 00:00:00')]"
      ]
     },
     "execution_count": 63,
     "metadata": {},
     "output_type": "execute_result"
    }
   ],
   "source": [
    "# 타입 및 다른 포맷 변환 메서드들. to_변환타입()\n",
    "\n",
    "# => SR와 DF에 모두 있음\n",
    "result.to_list()"
   ]
  },
  {
   "cell_type": "code",
   "execution_count": 64,
   "id": "47ce73e0",
   "metadata": {},
   "outputs": [
    {
     "data": {
      "text/html": [
       "<div>\n",
       "<style scoped>\n",
       "    .dataframe tbody tr th:only-of-type {\n",
       "        vertical-align: middle;\n",
       "    }\n",
       "\n",
       "    .dataframe tbody tr th {\n",
       "        vertical-align: top;\n",
       "    }\n",
       "\n",
       "    .dataframe thead th {\n",
       "        text-align: right;\n",
       "    }\n",
       "</style>\n",
       "<table border=\"1\" class=\"dataframe\">\n",
       "  <thead>\n",
       "    <tr style=\"text-align: right;\">\n",
       "      <th></th>\n",
       "      <th>0</th>\n",
       "    </tr>\n",
       "  </thead>\n",
       "  <tbody>\n",
       "    <tr>\n",
       "      <th>0</th>\n",
       "      <td>2021-11-01</td>\n",
       "    </tr>\n",
       "    <tr>\n",
       "      <th>1</th>\n",
       "      <td>2022-12-24</td>\n",
       "    </tr>\n",
       "  </tbody>\n",
       "</table>\n",
       "</div>"
      ],
      "text/plain": [
       "           0\n",
       "0 2021-11-01\n",
       "1 2022-12-24"
      ]
     },
     "execution_count": 64,
     "metadata": {},
     "output_type": "execute_result"
    }
   ],
   "source": [
    "result.to_frame()\n",
    "# 굳이 다시금 pd.DataFrame 으로 담을 필요없이 형변환만 해주면 편하겠지"
   ]
  },
  {
   "cell_type": "code",
   "execution_count": 65,
   "id": "36a77613",
   "metadata": {},
   "outputs": [
    {
     "data": {
      "text/plain": [
       "'0   2021-11-01\\n1   2022-12-24'"
      ]
     },
     "execution_count": 65,
     "metadata": {},
     "output_type": "execute_result"
    }
   ],
   "source": [
    "result.to_string()"
   ]
  },
  {
   "cell_type": "code",
   "execution_count": 66,
   "id": "85089998",
   "metadata": {},
   "outputs": [],
   "source": [
    "result.to_csv('result.csv')\n",
    "# 인덱스까지도 다 들어가지요\n",
    "# => 안쓰고 싶으면 괄호 안에서 shift+tab으로 확인해서 파라미터 확인\n",
    "# index=False, 파라미터 설명 부분을 확인후, 적용해주면 => 인덱스 사라짐"
   ]
  },
  {
   "cell_type": "code",
   "execution_count": 67,
   "id": "c8481e6b",
   "metadata": {},
   "outputs": [],
   "source": [
    "result.to_csv('result.csv', index=False)"
   ]
  },
  {
   "cell_type": "code",
   "execution_count": 68,
   "id": "06b97938",
   "metadata": {},
   "outputs": [],
   "source": [
    "# is~ True or False로 나옴"
   ]
  },
  {
   "cell_type": "markdown",
   "id": "864188b2",
   "metadata": {},
   "source": [
    "# csv 파일 활용 실습\n",
    "\n",
    "- 날짜 데이터가 있는 CSV 파일 처리하기"
   ]
  },
  {
   "cell_type": "code",
   "execution_count": 69,
   "id": "740b4c1b",
   "metadata": {},
   "outputs": [],
   "source": [
    "# 파일 관련\n",
    "# survey_visited.csv\n",
    "DIR_PATH = '../Data/'\n",
    "FILE_NAME = DIR_PATH+'survey_visited.csv'"
   ]
  },
  {
   "cell_type": "code",
   "execution_count": 70,
   "id": "22db20fb",
   "metadata": {},
   "outputs": [
    {
     "name": "stdout",
     "output_type": "stream",
     "text": [
      "<class 'pandas.core.frame.DataFrame'>\n",
      "RangeIndex: 8 entries, 0 to 7\n",
      "Data columns (total 3 columns):\n",
      " #   Column  Non-Null Count  Dtype \n",
      "---  ------  --------------  ----- \n",
      " 0   ident   8 non-null      int64 \n",
      " 1   site    8 non-null      object\n",
      " 2   dated   7 non-null      object\n",
      "dtypes: int64(1), object(2)\n",
      "memory usage: 320.0+ bytes\n"
     ]
    }
   ],
   "source": [
    "# CSV FILE => DataFrame으로 가져오기\n",
    "survey_visited = pd.read_csv(FILE_NAME)\n",
    "survey_visited.info()\n",
    "# 결측치 값이 하나 있넹?"
   ]
  },
  {
   "cell_type": "code",
   "execution_count": 71,
   "id": "ac004e55",
   "metadata": {},
   "outputs": [
    {
     "data": {
      "text/plain": [
       "ident    0\n",
       "site     0\n",
       "dated    1\n",
       "dtype: int64"
      ]
     },
     "execution_count": 71,
     "metadata": {},
     "output_type": "execute_result"
    }
   ],
   "source": [
    "survey_visited.isnull().sum()\n",
    "# 널값이 하나 있넹"
   ]
  },
  {
   "cell_type": "code",
   "execution_count": 72,
   "id": "eee19f5f",
   "metadata": {},
   "outputs": [
    {
     "data": {
      "text/html": [
       "<div>\n",
       "<style scoped>\n",
       "    .dataframe tbody tr th:only-of-type {\n",
       "        vertical-align: middle;\n",
       "    }\n",
       "\n",
       "    .dataframe tbody tr th {\n",
       "        vertical-align: top;\n",
       "    }\n",
       "\n",
       "    .dataframe thead th {\n",
       "        text-align: right;\n",
       "    }\n",
       "</style>\n",
       "<table border=\"1\" class=\"dataframe\">\n",
       "  <thead>\n",
       "    <tr style=\"text-align: right;\">\n",
       "      <th></th>\n",
       "      <th>ident</th>\n",
       "      <th>site</th>\n",
       "      <th>dated</th>\n",
       "    </tr>\n",
       "  </thead>\n",
       "  <tbody>\n",
       "    <tr>\n",
       "      <th>0</th>\n",
       "      <td>619</td>\n",
       "      <td>DR-1</td>\n",
       "      <td>1927-02-08</td>\n",
       "    </tr>\n",
       "    <tr>\n",
       "      <th>1</th>\n",
       "      <td>622</td>\n",
       "      <td>DR-1</td>\n",
       "      <td>1927-02-10</td>\n",
       "    </tr>\n",
       "    <tr>\n",
       "      <th>2</th>\n",
       "      <td>734</td>\n",
       "      <td>DR-3</td>\n",
       "      <td>1939-01-07</td>\n",
       "    </tr>\n",
       "    <tr>\n",
       "      <th>3</th>\n",
       "      <td>735</td>\n",
       "      <td>DR-3</td>\n",
       "      <td>1930-01-12</td>\n",
       "    </tr>\n",
       "    <tr>\n",
       "      <th>4</th>\n",
       "      <td>751</td>\n",
       "      <td>DR-3</td>\n",
       "      <td>1930-02-26</td>\n",
       "    </tr>\n",
       "    <tr>\n",
       "      <th>5</th>\n",
       "      <td>752</td>\n",
       "      <td>DR-3</td>\n",
       "      <td>1932-01-14</td>\n",
       "    </tr>\n",
       "    <tr>\n",
       "      <th>6</th>\n",
       "      <td>837</td>\n",
       "      <td>MSK-4</td>\n",
       "      <td>1932-01-14</td>\n",
       "    </tr>\n",
       "    <tr>\n",
       "      <th>7</th>\n",
       "      <td>844</td>\n",
       "      <td>DR-1</td>\n",
       "      <td>1932-03-22</td>\n",
       "    </tr>\n",
       "  </tbody>\n",
       "</table>\n",
       "</div>"
      ],
      "text/plain": [
       "   ident   site       dated\n",
       "0    619   DR-1  1927-02-08\n",
       "1    622   DR-1  1927-02-10\n",
       "2    734   DR-3  1939-01-07\n",
       "3    735   DR-3  1930-01-12\n",
       "4    751   DR-3  1930-02-26\n",
       "5    752   DR-3  1932-01-14\n",
       "6    837  MSK-4  1932-01-14\n",
       "7    844   DR-1  1932-03-22"
      ]
     },
     "execution_count": 72,
     "metadata": {},
     "output_type": "execute_result"
    }
   ],
   "source": [
    "survey_visited = survey_visited.fillna(method = 'bfill')\n",
    "survey_visited\n",
    "# 지금은 run all 돌려서 바뀐 상태기 때문에. 그전에는 NaN 있었음"
   ]
  },
  {
   "cell_type": "code",
   "execution_count": 73,
   "id": "1d53012d",
   "metadata": {},
   "outputs": [],
   "source": [
    "# 해당 'dated' 컬럼을 시리즈로 뽑아서 datatime으로 \n",
    "survey_visited['dated'] = pd.to_datetime(survey_visited['dated'])\n",
    "\n",
    "# 컬럼만 뽑았으면 그 컬럼에 재선언해야지, 컬럼하나인 SR이므로, DF로 해당 컬럼을 다시 확인해봤자 안됨"
   ]
  },
  {
   "cell_type": "code",
   "execution_count": 74,
   "id": "fa16f4ff",
   "metadata": {},
   "outputs": [
    {
     "name": "stdout",
     "output_type": "stream",
     "text": [
      "<class 'pandas.core.frame.DataFrame'>\n",
      "RangeIndex: 8 entries, 0 to 7\n",
      "Data columns (total 3 columns):\n",
      " #   Column  Non-Null Count  Dtype         \n",
      "---  ------  --------------  -----         \n",
      " 0   ident   8 non-null      int64         \n",
      " 1   site    8 non-null      object        \n",
      " 2   dated   8 non-null      datetime64[ns]\n",
      "dtypes: datetime64[ns](1), int64(1), object(1)\n",
      "memory usage: 320.0+ bytes\n"
     ]
    }
   ],
   "source": [
    "survey_visited.info()\n",
    "# 'dated' 컬럼의 Dtype이 object -> datetime64[ns] 으로 바뀜"
   ]
  },
  {
   "cell_type": "code",
   "execution_count": 75,
   "id": "d36aceaf",
   "metadata": {},
   "outputs": [
    {
     "data": {
      "text/plain": [
       "(Timestamp('1927-02-08 00:00:00'), 1927, 8)"
      ]
     },
     "execution_count": 75,
     "metadata": {},
     "output_type": "execute_result"
    }
   ],
   "source": [
    "# 이렇게 뽑으면 timestamp\n",
    "survey_visited['dated'][0], survey_visited['dated'][0].year, survey_visited['dated'][0].day"
   ]
  },
  {
   "cell_type": "code",
   "execution_count": 76,
   "id": "d1310612",
   "metadata": {},
   "outputs": [
    {
     "data": {
      "text/plain": [
       "(pandas.core.series.Series, dtype('<M8[ns]'))"
      ]
     },
     "execution_count": 76,
     "metadata": {},
     "output_type": "execute_result"
    }
   ],
   "source": [
    "type(survey_visited['dated']), survey_visited['dated'].dtype"
   ]
  },
  {
   "cell_type": "code",
   "execution_count": 77,
   "id": "2875819f",
   "metadata": {},
   "outputs": [
    {
     "data": {
      "text/plain": [
       "0    1927\n",
       "1    1927\n",
       "2    1939\n",
       "3    1930\n",
       "4    1930\n",
       "5    1932\n",
       "6    1932\n",
       "7    1932\n",
       "Name: dated, dtype: int64"
      ]
     },
     "execution_count": 77,
     "metadata": {},
     "output_type": "execute_result"
    }
   ],
   "source": [
    "# survey_visited['dated'].year\n",
    "# survey_visited['dated'] 시리즈 자체에는 year, month, day가 없으니 에러\n",
    "# datetime에 있는 속성이지\n",
    "# =>해결책은?! 'dt'를 써라!!\n",
    "# => 선언한 것이 아니라, 클래스? 메서드? 같은 것임!\n",
    "survey_visited['dated'].dt.year"
   ]
  },
  {
   "cell_type": "code",
   "execution_count": 78,
   "id": "304d7f29",
   "metadata": {},
   "outputs": [
    {
     "data": {
      "text/plain": [
       "0    2\n",
       "1    2\n",
       "2    1\n",
       "3    1\n",
       "4    2\n",
       "5    1\n",
       "6    1\n",
       "7    3\n",
       "Name: dated, dtype: int64"
      ]
     },
     "execution_count": 78,
     "metadata": {},
     "output_type": "execute_result"
    }
   ],
   "source": [
    "survey_visited['dated'].dt.month"
   ]
  },
  {
   "cell_type": "code",
   "execution_count": 79,
   "id": "6d39afdf",
   "metadata": {},
   "outputs": [
    {
     "data": {
      "text/plain": [
       "0     8\n",
       "1    10\n",
       "2     7\n",
       "3    12\n",
       "4    26\n",
       "5    14\n",
       "6    14\n",
       "7    22\n",
       "Name: dated, dtype: int64"
      ]
     },
     "execution_count": 79,
     "metadata": {},
     "output_type": "execute_result"
    }
   ],
   "source": [
    "survey_visited['dated'].dt.day"
   ]
  },
  {
   "cell_type": "code",
   "execution_count": 80,
   "id": "742dc447",
   "metadata": {},
   "outputs": [],
   "source": [
    "# SR 객체 안에 든 것을 빼는 메서드로 dt를 쓰는 것\n",
    "\n",
    "# pandas.Series.dt()\n",
    "# pandas.Series.str()\n",
    "\n",
    "# dt - datetime에 관련된 것\n",
    "# str - string에 관련된 것\n",
    "# => 요고 두개는 엄청쓰게 될 것이다.\n",
    "\n",
    "# pandas.Series.dt/str 등 이런식으로 쓰지\n",
    "# DF 객체 안에도 쓰는 것들이 있다."
   ]
  },
  {
   "cell_type": "code",
   "execution_count": 89,
   "id": "bf5160bf",
   "metadata": {},
   "outputs": [
    {
     "data": {
      "text/plain": [
       "0   1927-02-08\n",
       "1   1927-02-10\n",
       "2   1939-01-07\n",
       "3   1930-01-12\n",
       "4   1930-02-26\n",
       "5   1932-01-14\n",
       "6   1932-01-14\n",
       "7   1932-03-22\n",
       "Name: dated, dtype: datetime64[ns]"
      ]
     },
     "execution_count": 89,
     "metadata": {},
     "output_type": "execute_result"
    }
   ],
   "source": [
    "dateSR"
   ]
  },
  {
   "cell_type": "code",
   "execution_count": 82,
   "id": "be2191b5",
   "metadata": {},
   "outputs": [
    {
     "data": {
      "text/plain": [
       "0    False\n",
       "1    False\n",
       "2     True\n",
       "3     True\n",
       "4     True\n",
       "5     True\n",
       "6     True\n",
       "7     True\n",
       "Name: dated, dtype: bool"
      ]
     },
     "execution_count": 82,
     "metadata": {},
     "output_type": "execute_result"
    }
   ],
   "source": [
    "dateSR = survey_visited['dated']\n",
    "dateSR.dt.year >= 1930"
   ]
  },
  {
   "cell_type": "code",
   "execution_count": 86,
   "id": "50fba1ce",
   "metadata": {},
   "outputs": [
    {
     "data": {
      "text/plain": [
       "2   1939-01-07\n",
       "3   1930-01-12\n",
       "4   1930-02-26\n",
       "5   1932-01-14\n",
       "6   1932-01-14\n",
       "7   1932-03-22\n",
       "Name: dated, dtype: datetime64[ns]"
      ]
     },
     "execution_count": 86,
     "metadata": {},
     "output_type": "execute_result"
    }
   ],
   "source": [
    "dateSR[dateSR.dt.year >= 1930]\n",
    "# 해당 DF에서 True인 것만 뽑아내겠지?\n",
    "# 조건에는 시리즈(컬럼 하나)에 조건을 걸어서"
   ]
  },
  {
   "cell_type": "code",
   "execution_count": 84,
   "id": "608ec42f",
   "metadata": {},
   "outputs": [
    {
     "data": {
      "text/plain": [
       "0   1927-02-08\n",
       "1   1927-02-10\n",
       "4   1930-02-26\n",
       "7   1932-03-22\n",
       "Name: dated, dtype: datetime64[ns]"
      ]
     },
     "execution_count": 84,
     "metadata": {},
     "output_type": "execute_result"
    }
   ],
   "source": [
    "dateSR[dateSR.dt.month >= 2]\n",
    "# 2월달인 것만 뽑아내겠지?\n",
    "# 조건에는 시리즈(컬럼 하나)에 조건을 걸어서"
   ]
  },
  {
   "cell_type": "code",
   "execution_count": null,
   "id": "18b227bd",
   "metadata": {},
   "outputs": [],
   "source": []
  }
 ],
 "metadata": {
  "kernelspec": {
   "display_name": "Python 3 (ipykernel)",
   "language": "python",
   "name": "python3"
  },
  "language_info": {
   "codemirror_mode": {
    "name": "ipython",
    "version": 3
   },
   "file_extension": ".py",
   "mimetype": "text/x-python",
   "name": "python",
   "nbconvert_exporter": "python",
   "pygments_lexer": "ipython3",
   "version": "3.9.12"
  }
 },
 "nbformat": 4,
 "nbformat_minor": 5
}
