{
 "cells": [
  {
   "cell_type": "markdown",
   "id": "d2681775",
   "metadata": {},
   "source": [
    "# 날짜시간관련 패키지 다루기 (파이썬)\n",
    "\n",
    "- 파이썬 => date, time, datetime 관련 클래스"
   ]
  },
  {
   "cell_type": "code",
   "execution_count": 64,
   "id": "7f014313",
   "metadata": {},
   "outputs": [
    {
     "data": {
      "text/plain": [
       "'3.5.1'"
      ]
     },
     "execution_count": 64,
     "metadata": {},
     "output_type": "execute_result"
    }
   ],
   "source": [
    "# 모듈 로딩\n",
    "import time as tm\n",
    "import matplotlib as mp\n",
    "\n",
    "mp.__version__      # 이렇게 버전을 알 수 있음\n",
    "\n",
    "# import date as dt\n"
   ]
  },
  {
   "cell_type": "code",
   "execution_count": 65,
   "id": "918b012a",
   "metadata": {},
   "outputs": [],
   "source": [
    "tm.ctime()    # 요것도 똑같이 되는데?\n",
    "localStrct = tm.localtime()\n",
    "# => 안에 안넣어도 다 되는데, 다르나?"
   ]
  },
  {
   "cell_type": "code",
   "execution_count": 66,
   "id": "8316c7c9",
   "metadata": {},
   "outputs": [
    {
     "name": "stdout",
     "output_type": "stream",
     "text": [
      "현재시간 : Thu Jul  7 19:57:16 2022\n"
     ]
    }
   ],
   "source": [
    "# 현재 시간 출력 메서드\n",
    "# 1) 보기 쉽게 변환된 것 가져오기\n",
    "currentTm = tm.ctime(tm.time())\n",
    "print(f'현재시간 : {currentTm}')"
   ]
  },
  {
   "cell_type": "code",
   "execution_count": 67,
   "id": "ab55d5a6",
   "metadata": {},
   "outputs": [
    {
     "name": "stdout",
     "output_type": "stream",
     "text": [
      "현재시간 구조체 클래스 : time.struct_time(tm_year=2022, tm_mon=7, tm_mday=7, tm_hour=19, tm_min=57, tm_sec=16, tm_wday=3, tm_yday=188, tm_isdst=0)\n"
     ]
    }
   ],
   "source": [
    "# 현재 시간 구조체 클래스\n",
    "# 2) 원하는 대로 변환할 수 있는 구조체 객체\n",
    "\n",
    "localStrct = tm.localtime(tm.time())\n",
    "print(f'현재시간 구조체 클래스 : {localStrct}')"
   ]
  },
  {
   "cell_type": "code",
   "execution_count": 68,
   "id": "f3bbc508",
   "metadata": {},
   "outputs": [],
   "source": [
    "# time과 datetime 모두 동일한 포매팅을 함\n",
    "# strtime과 밑에 (reference 사이트) 있는 것 2가지는 많이 쓰이는 것임\n",
    " # => 찾아서 기록할 것"
   ]
  },
  {
   "cell_type": "code",
   "execution_count": 69,
   "id": "ec697eda",
   "metadata": {},
   "outputs": [],
   "source": [
    "# time 관련 설명 페이지에서 -> date Objects "
   ]
  },
  {
   "cell_type": "markdown",
   "id": "22bcd41c",
   "metadata": {},
   "source": [
    "# 날짜 관련 클래스 -----> datetime.date 클래스\n",
    "\n",
    "- datetime 안의 date 인 것임"
   ]
  },
  {
   "cell_type": "code",
   "execution_count": 70,
   "id": "fbad3e1a",
   "metadata": {},
   "outputs": [],
   "source": [
    "from datetime import date\n",
    "# datetime 패키지 안에서 date 함수만 쓰겠다"
   ]
  },
  {
   "cell_type": "code",
   "execution_count": 71,
   "id": "d994748a",
   "metadata": {},
   "outputs": [
    {
     "name": "stdout",
     "output_type": "stream",
     "text": [
      "2022-07-07, type => <class 'datetime.date'>\n"
     ]
    }
   ],
   "source": [
    "cuttentDT = date.today()\n",
    "# today() 자체는 클래스 메서드라고 함\n",
    "print(f'{cuttentDT}, type => {type(cuttentDT)}')\n",
    "# 함수() 에서 괄호 사이에서 shift + tab 누르면 설명을 볼 수 있음"
   ]
  },
  {
   "cell_type": "code",
   "execution_count": 72,
   "id": "a20ab335",
   "metadata": {},
   "outputs": [
    {
     "name": "stdout",
     "output_type": "stream",
     "text": [
      "<class 'datetime.date'> 2022-12-24\n"
     ]
    }
   ],
   "source": [
    "# 원하는 날짜 생성\n",
    "d_day = date(2022, 12, 24)\n",
    "print(type(d_day), d_day)"
   ]
  },
  {
   "cell_type": "code",
   "execution_count": 73,
   "id": "431e1a1d",
   "metadata": {},
   "outputs": [
    {
     "data": {
      "text/plain": [
       "(24, 12, 2022)"
      ]
     },
     "execution_count": 73,
     "metadata": {},
     "output_type": "execute_result"
    }
   ],
   "source": [
    "# 직접 date안에 입력한 것을 출력하는 것임\n",
    "d_day.day, d_day.month, d_day.year"
   ]
  },
  {
   "cell_type": "code",
   "execution_count": 74,
   "id": "a6cb795c",
   "metadata": {
    "scrolled": true
   },
   "outputs": [
    {
     "data": {
      "text/plain": [
       "<function date.weekday>"
      ]
     },
     "execution_count": 74,
     "metadata": {},
     "output_type": "execute_result"
    }
   ],
   "source": [
    "d_day.weekday"
   ]
  },
  {
   "cell_type": "code",
   "execution_count": 75,
   "id": "636b738a",
   "metadata": {},
   "outputs": [],
   "source": [
    "# 객체를 생성해서 접근하는 메서드와 변수들 => 인스턴스 변수/메서드\n",
    "# datetime.date(year,month,day) 각 파라미터들의 범위가 어떤지 사이트 들어가서 확인도 해가면서 해야\n",
    "# 객체 생성을 하지 않고 쓰는 것 = > 클래스 메서드\n",
    "# 레퍼런스 읽다가 classmethod라고 적혀 있으면 참고\n",
    "# 그래서 클래스명 안찍고 사용\n",
    "# date.today()에서 toda()       =>  괄호 적고 바로 쓴다는 것\n",
    "# @ class method명 이라고 적음"
   ]
  },
  {
   "cell_type": "markdown",
   "id": "746b1b92",
   "metadata": {},
   "source": [
    "# 날짜 시간 관련 클래스 -----> datetime.datetime"
   ]
  },
  {
   "cell_type": "code",
   "execution_count": 76,
   "id": "9c2182c3",
   "metadata": {},
   "outputs": [
    {
     "name": "stdout",
     "output_type": "stream",
     "text": [
      "type : <class 'datetime.datetime'>, 2022-07-07 19:57:16.492486, dt.today()\n",
      "type : <class 'datetime.date'>, 2022-07-07, date.today()\n"
     ]
    }
   ],
   "source": [
    "from datetime import datetime as dt\n",
    "# today와 now의 차이는 timezone의 차이\n",
    "\n",
    "# today(), now() => 현재 날짜, 시간\n",
    "# datetime 타입, 자주 씀\n",
    "dt.today()\n",
    "\n",
    "print(f'type : {type(dt.today())}, {dt.today()}, dt.today()')\n",
    "print(f'type : {type(date.today())}, {date.today()}, date.today()')"
   ]
  },
  {
   "cell_type": "code",
   "execution_count": 77,
   "id": "9ca33798",
   "metadata": {},
   "outputs": [
    {
     "name": "stdout",
     "output_type": "stream",
     "text": [
      "type : <class 'datetime.datetime'>, 2022-07-07 19:57:16.507486, 2022-07-07 19:57:16.507486, dt.now()\n"
     ]
    }
   ],
   "source": [
    "# datetime 타입, 자주 씀\n",
    "dt.now()\n",
    "\n",
    "print(f'type : {type(dt.now())}, {dt.now()}, {dt.now()}, dt.now()')\n",
    "\n",
    "\n",
    "# print(f'type : {type(date.now())}, {date.now()}, {date.now()}, date.now()')\n",
    "# => date.now()는 없기 때문에 오류가 생김"
   ]
  },
  {
   "cell_type": "code",
   "execution_count": 78,
   "id": "5ffefe90",
   "metadata": {},
   "outputs": [
    {
     "data": {
      "text/plain": [
       "datetime.datetime(2022, 12, 24, 0, 0)"
      ]
     },
     "execution_count": 78,
     "metadata": {},
     "output_type": "execute_result"
    }
   ],
   "source": [
    "# 원하는 날짜시간 생성\n",
    "d_daytime = dt(2022, 12, 24)\n",
    "d_daytime"
   ]
  },
  {
   "cell_type": "code",
   "execution_count": 86,
   "id": "d7b44ab6",
   "metadata": {},
   "outputs": [
    {
     "data": {
      "text/plain": [
       "24"
      ]
     },
     "execution_count": 86,
     "metadata": {},
     "output_type": "execute_result"
    }
   ],
   "source": [
    "d_daytime.day\n",
    "\n",
    "# 속성 뽑듯이 .day 등으로 써주면 됨\n",
    "# 점(.) 찍고 어떤 것들이 있는지 확인 후 원하는 것 쓰면됨"
   ]
  }
 ],
 "metadata": {
  "kernelspec": {
   "display_name": "Python 3 (ipykernel)",
   "language": "python",
   "name": "python3"
  },
  "language_info": {
   "codemirror_mode": {
    "name": "ipython",
    "version": 3
   },
   "file_extension": ".py",
   "mimetype": "text/x-python",
   "name": "python",
   "nbconvert_exporter": "python",
   "pygments_lexer": "ipython3",
   "version": "3.9.12"
  }
 },
 "nbformat": 4,
 "nbformat_minor": 5
}
