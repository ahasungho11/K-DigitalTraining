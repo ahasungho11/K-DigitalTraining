{
 "cells": [
  {
   "cell_type": "markdown",
   "id": "9ba2238a",
   "metadata": {},
   "source": [
    "# Pandas의 DateTime 관련 범위지정 생성\n",
    "\n",
    "- pandas.date_range() : 파라미터 설정으로 원하는 날짜시간 범위 생성"
   ]
  },
  {
   "cell_type": "code",
   "execution_count": 6,
   "id": "fa545c47",
   "metadata": {},
   "outputs": [
    {
     "data": {
      "text/plain": [
       "DatetimeIndex(['2022-07-01', '2022-07-02', '2022-07-03', '2022-07-04',\n",
       "               '2022-07-05'],\n",
       "              dtype='datetime64[ns]', freq='D')"
      ]
     },
     "execution_count": 6,
     "metadata": {},
     "output_type": "execute_result"
    }
   ],
   "source": [
    "# 모듈 생성\n",
    "import pandas as pd\n",
    "\n",
    "# 날짜시간 범위 객체 생성 (freq의 기본값이 'D'(Day)이기 때문에 periods=5 이면, 1일씩 x 5)\n",
    "dtRange = pd.date_range('2022-07-01', periods = 5)   # 5일 동안\n",
    "dtRange"
   ]
  },
  {
   "cell_type": "code",
   "execution_count": 19,
   "id": "a13a6fa3",
   "metadata": {},
   "outputs": [
    {
     "name": "stdout",
     "output_type": "stream",
     "text": [
      "dtRange => DatetimeIndex(['2022-07-01', '2022-07-02', '2022-07-03', '2022-07-04',\n",
      "               '2022-07-05', '2022-07-06', '2022-07-07', '2022-07-08',\n",
      "               '2022-07-09', '2022-07-10',\n",
      "               ...\n",
      "               '2022-11-22', '2022-11-23', '2022-11-24', '2022-11-25',\n",
      "               '2022-11-26', '2022-11-27', '2022-11-28', '2022-11-29',\n",
      "               '2022-11-30', '2022-12-01'],\n",
      "              dtype='datetime64[ns]', length=154, freq='D')'\n",
      "'type(dtRange) => <class 'pandas.core.indexes.datetimes.DatetimeIndex'>\n"
     ]
    }
   ],
   "source": [
    "dtRange = pd.date_range('2022-07-01', '2022-12-01')\n",
    "print(f\"dtRange => {dtRange}'\\n'type(dtRange) => {type(dtRange)}\")"
   ]
  },
  {
   "cell_type": "code",
   "execution_count": 8,
   "id": "634f9a08",
   "metadata": {},
   "outputs": [
    {
     "data": {
      "text/plain": [
       "DatetimeIndex(['2022-07-31', '2022-08-31', '2022-09-30', '2022-10-31',\n",
       "               '2022-11-30'],\n",
       "              dtype='datetime64[ns]', freq='M')"
      ]
     },
     "execution_count": 8,
     "metadata": {},
     "output_type": "execute_result"
    }
   ],
   "source": [
    "dtRange = pd.date_range('2022-07-01', '2022-12-01', freq='M')   # Month\n",
    "dtRange"
   ]
  },
  {
   "cell_type": "code",
   "execution_count": 9,
   "id": "766d7217",
   "metadata": {},
   "outputs": [
    {
     "data": {
      "text/plain": [
       "DatetimeIndex(['2022-07-01', '2022-08-01', '2022-09-01', '2022-10-01',\n",
       "               '2022-11-01', '2022-12-01'],\n",
       "              dtype='datetime64[ns]', freq='MS')"
      ]
     },
     "execution_count": 9,
     "metadata": {},
     "output_type": "execute_result"
    }
   ],
   "source": [
    "dtRange = pd.date_range('2022-07-01', '2022-12-01', freq='MS')\n",
    "dtRange"
   ]
  },
  {
   "cell_type": "code",
   "execution_count": 25,
   "id": "d975fe00",
   "metadata": {},
   "outputs": [
    {
     "data": {
      "text/plain": [
       "2022-07-01      0\n",
       "2022-07-02      1\n",
       "2022-07-03      2\n",
       "2022-07-04      3\n",
       "2022-07-05      4\n",
       "             ... \n",
       "2022-11-27    149\n",
       "2022-11-28    150\n",
       "2022-11-29    151\n",
       "2022-11-30    152\n",
       "2022-12-01    153\n",
       "Freq: D, Length: 154, dtype: int64"
      ]
     },
     "execution_count": 25,
     "metadata": {},
     "output_type": "execute_result"
    }
   ],
   "source": [
    "# 인덱스를 DatetimeIndex 설정해서 Series 객체 생성\n",
    "b = pd.Series(list(range(len(dtRange))), index=dtRange)\n",
    "b"
   ]
  },
  {
   "cell_type": "code",
   "execution_count": 11,
   "id": "2af92ce6",
   "metadata": {},
   "outputs": [],
   "source": [
    "# 인덱스를 datetime으로 하고 싶을 때, 인덱스를 미리 정한 상태라는 것 (periods로 개수 정해놓고 하면 되니까)\n",
    "# 인덱스가 많다면 range를 안쓰면 일일이 넣어야 되니까 힘들겠즤?"
   ]
  }
 ],
 "metadata": {
  "kernelspec": {
   "display_name": "Python 3 (ipykernel)",
   "language": "python",
   "name": "python3"
  },
  "language_info": {
   "codemirror_mode": {
    "name": "ipython",
    "version": 3
   },
   "file_extension": ".py",
   "mimetype": "text/x-python",
   "name": "python",
   "nbconvert_exporter": "python",
   "pygments_lexer": "ipython3",
   "version": "3.9.12"
  }
 },
 "nbformat": 4,
 "nbformat_minor": 5
}
