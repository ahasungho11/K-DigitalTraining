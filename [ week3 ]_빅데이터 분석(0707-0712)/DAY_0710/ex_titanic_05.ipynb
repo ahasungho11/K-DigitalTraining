{
 "cells": [
  {
   "cell_type": "code",
   "execution_count": 1,
   "id": "be1992bb",
   "metadata": {},
   "outputs": [],
   "source": [
    "# DF를 만들든, data를 불러오든 해서, 원하는 pivot 형태로 만드는 게 가장 이상적일 수도 있음\n",
    "# groupby, 집계함수, agg로 골라서, 원하는 컬럼을 뽑아서 DF를 만드는 것\n",
    "# => 하고자 하는 분석에 따라 정리해서 DF을 별도로 할 수 있는 것"
   ]
  },
  {
   "cell_type": "code",
   "execution_count": 2,
   "id": "5ac2f230",
   "metadata": {},
   "outputs": [],
   "source": [
    "import pandas as pd\n",
    "import seaborn"
   ]
  },
  {
   "cell_type": "code",
   "execution_count": 3,
   "id": "cccd087c",
   "metadata": {},
   "outputs": [
    {
     "name": "stdout",
     "output_type": "stream",
     "text": [
      "<class 'pandas.core.frame.DataFrame'>\n",
      "RangeIndex: 891 entries, 0 to 890\n",
      "Data columns (total 15 columns):\n",
      " #   Column       Non-Null Count  Dtype   \n",
      "---  ------       --------------  -----   \n",
      " 0   survived     891 non-null    int64   \n",
      " 1   pclass       891 non-null    int64   \n",
      " 2   sex          891 non-null    object  \n",
      " 3   age          714 non-null    float64 \n",
      " 4   sibsp        891 non-null    int64   \n",
      " 5   parch        891 non-null    int64   \n",
      " 6   fare         891 non-null    float64 \n",
      " 7   embarked     889 non-null    object  \n",
      " 8   class        891 non-null    category\n",
      " 9   who          891 non-null    object  \n",
      " 10  adult_male   891 non-null    bool    \n",
      " 11  deck         203 non-null    category\n",
      " 12  embark_town  889 non-null    object  \n",
      " 13  alive        891 non-null    object  \n",
      " 14  alone        891 non-null    bool    \n",
      "dtypes: bool(2), category(2), float64(2), int64(4), object(5)\n",
      "memory usage: 80.7+ KB\n"
     ]
    }
   ],
   "source": [
    "# Data 로딩\n",
    "df = seaborn.load_dataset('titanic')\n",
    "df.info()"
   ]
  },
  {
   "cell_type": "code",
   "execution_count": 8,
   "id": "0452c621",
   "metadata": {},
   "outputs": [
    {
     "data": {
      "text/plain": [
       "survived         0\n",
       "pclass           0\n",
       "sex              0\n",
       "age            177\n",
       "sibsp            0\n",
       "parch            0\n",
       "fare             0\n",
       "embarked         2\n",
       "class            0\n",
       "who              0\n",
       "adult_male       0\n",
       "deck           688\n",
       "embark_town      2\n",
       "alive            0\n",
       "alone            0\n",
       "dtype: int64"
      ]
     },
     "execution_count": 8,
     "metadata": {},
     "output_type": "execute_result"
    }
   ],
   "source": [
    "# 결측치 확인\n",
    "df.isna().sum()"
   ]
  },
  {
   "cell_type": "code",
   "execution_count": 14,
   "id": "02e30634",
   "metadata": {
    "collapsed": true
   },
   "outputs": [
    {
     "data": {
      "text/html": [
       "<div>\n",
       "<style scoped>\n",
       "    .dataframe tbody tr th:only-of-type {\n",
       "        vertical-align: middle;\n",
       "    }\n",
       "\n",
       "    .dataframe tbody tr th {\n",
       "        vertical-align: top;\n",
       "    }\n",
       "\n",
       "    .dataframe thead th {\n",
       "        text-align: right;\n",
       "    }\n",
       "</style>\n",
       "<table border=\"1\" class=\"dataframe\">\n",
       "  <thead>\n",
       "    <tr style=\"text-align: right;\">\n",
       "      <th></th>\n",
       "      <th>sex</th>\n",
       "      <th>pclass</th>\n",
       "      <th>age</th>\n",
       "      <th>survived</th>\n",
       "    </tr>\n",
       "  </thead>\n",
       "  <tbody>\n",
       "    <tr>\n",
       "      <th>0</th>\n",
       "      <td>male</td>\n",
       "      <td>3</td>\n",
       "      <td>22.0</td>\n",
       "      <td>0</td>\n",
       "    </tr>\n",
       "    <tr>\n",
       "      <th>1</th>\n",
       "      <td>female</td>\n",
       "      <td>1</td>\n",
       "      <td>38.0</td>\n",
       "      <td>1</td>\n",
       "    </tr>\n",
       "    <tr>\n",
       "      <th>2</th>\n",
       "      <td>female</td>\n",
       "      <td>3</td>\n",
       "      <td>26.0</td>\n",
       "      <td>1</td>\n",
       "    </tr>\n",
       "    <tr>\n",
       "      <th>3</th>\n",
       "      <td>female</td>\n",
       "      <td>1</td>\n",
       "      <td>35.0</td>\n",
       "      <td>1</td>\n",
       "    </tr>\n",
       "    <tr>\n",
       "      <th>4</th>\n",
       "      <td>male</td>\n",
       "      <td>3</td>\n",
       "      <td>35.0</td>\n",
       "      <td>0</td>\n",
       "    </tr>\n",
       "    <tr>\n",
       "      <th>...</th>\n",
       "      <td>...</td>\n",
       "      <td>...</td>\n",
       "      <td>...</td>\n",
       "      <td>...</td>\n",
       "    </tr>\n",
       "    <tr>\n",
       "      <th>886</th>\n",
       "      <td>male</td>\n",
       "      <td>2</td>\n",
       "      <td>27.0</td>\n",
       "      <td>0</td>\n",
       "    </tr>\n",
       "    <tr>\n",
       "      <th>887</th>\n",
       "      <td>female</td>\n",
       "      <td>1</td>\n",
       "      <td>19.0</td>\n",
       "      <td>1</td>\n",
       "    </tr>\n",
       "    <tr>\n",
       "      <th>888</th>\n",
       "      <td>female</td>\n",
       "      <td>3</td>\n",
       "      <td>NaN</td>\n",
       "      <td>0</td>\n",
       "    </tr>\n",
       "    <tr>\n",
       "      <th>889</th>\n",
       "      <td>male</td>\n",
       "      <td>1</td>\n",
       "      <td>26.0</td>\n",
       "      <td>1</td>\n",
       "    </tr>\n",
       "    <tr>\n",
       "      <th>890</th>\n",
       "      <td>male</td>\n",
       "      <td>3</td>\n",
       "      <td>32.0</td>\n",
       "      <td>0</td>\n",
       "    </tr>\n",
       "  </tbody>\n",
       "</table>\n",
       "<p>891 rows × 4 columns</p>\n",
       "</div>"
      ],
      "text/plain": [
       "        sex  pclass   age  survived\n",
       "0      male       3  22.0         0\n",
       "1    female       1  38.0         1\n",
       "2    female       3  26.0         1\n",
       "3    female       1  35.0         1\n",
       "4      male       3  35.0         0\n",
       "..      ...     ...   ...       ...\n",
       "886    male       2  27.0         0\n",
       "887  female       1  19.0         1\n",
       "888  female       3   NaN         0\n",
       "889    male       1  26.0         1\n",
       "890    male       3  32.0         0\n",
       "\n",
       "[891 rows x 4 columns]"
      ]
     },
     "execution_count": 14,
     "metadata": {},
     "output_type": "execute_result"
    }
   ],
   "source": [
    "# 성별, 등석, 나이에 따른 생존율\n",
    "# 일단, 쓰고자 하는 컬럼들만 뽑아서 별도의 DF를 만들어보자\n",
    "df2 = pd.concat([df['sex'],df['pclass'],df['age'],df['survived']],axis=1) \n",
    "df2"
   ]
  },
  {
   "cell_type": "markdown",
   "id": "d6647478",
   "metadata": {},
   "source": [
    "### age -> 결측치 처리"
   ]
  },
  {
   "cell_type": "code",
   "execution_count": 20,
   "id": "b8df3495",
   "metadata": {},
   "outputs": [],
   "source": [
    "# 결측치 값을 평균값으로 넣어주도록 해보자\n",
    "# 그런데, age컬럼 자체의 나이로 평균을 처리하면, 생존여부에 따른 것들이 다르므로 그룹화로 구분을 해 주어야 함"
   ]
  },
  {
   "cell_type": "code",
   "execution_count": 21,
   "id": "b3e59b47",
   "metadata": {
    "collapsed": true
   },
   "outputs": [
    {
     "name": "stdout",
     "output_type": "stream",
     "text": [
      "----- 그룹화o : survived  sex   \n",
      "0         female    25.046875\n",
      "          male      31.618056\n",
      "1         female    28.847716\n",
      "          male      27.276022\n",
      "Name: age, dtype: float64---\n",
      "\n",
      "----- 그룹화x : 29.69911764705882\n"
     ]
    }
   ],
   "source": [
    "# survived와 성별에 따라 그룹화(groupby) -> 그 그룹별로 평균값을 찾아야 함\n",
    "print(f\"----- 그룹화o : {df.groupby(['survived','sex']).age.mean()}---\",\n",
    "      f\"----- 그룹화x : {df.age.mean()}\", sep='\\n\\n')"
   ]
  },
  {
   "cell_type": "code",
   "execution_count": 40,
   "id": "021ded0a",
   "metadata": {},
   "outputs": [
    {
     "data": {
      "text/plain": [
       "pandas.core.series.Series"
      ]
     },
     "execution_count": 40,
     "metadata": {},
     "output_type": "execute_result"
    }
   ],
   "source": [
    "# 그룹별 평균을 결측치로 채워 넣으면서 새로운 시리즈를 만들어서 => age_02 컬럼을 추가\n",
    "age_02 = df2.groupby(['survived','sex']).age.transform(lambda g: g.fillna(g.mean()))\n",
    "type(age_02)"
   ]
  },
  {
   "cell_type": "code",
   "execution_count": 29,
   "id": "b7564ff0",
   "metadata": {
    "scrolled": true
   },
   "outputs": [
    {
     "data": {
      "text/plain": [
       "Index(['sex', 'pclass', 'age', 'survived', 'age_02'], dtype='object')"
      ]
     },
     "execution_count": 29,
     "metadata": {},
     "output_type": "execute_result"
    }
   ],
   "source": [
    "df2.columns"
   ]
  },
  {
   "cell_type": "code",
   "execution_count": 43,
   "id": "164eba7f",
   "metadata": {
    "collapsed": true
   },
   "outputs": [
    {
     "data": {
      "text/html": [
       "<div>\n",
       "<style scoped>\n",
       "    .dataframe tbody tr th:only-of-type {\n",
       "        vertical-align: middle;\n",
       "    }\n",
       "\n",
       "    .dataframe tbody tr th {\n",
       "        vertical-align: top;\n",
       "    }\n",
       "\n",
       "    .dataframe thead th {\n",
       "        text-align: right;\n",
       "    }\n",
       "</style>\n",
       "<table border=\"1\" class=\"dataframe\">\n",
       "  <thead>\n",
       "    <tr style=\"text-align: right;\">\n",
       "      <th></th>\n",
       "      <th>sex</th>\n",
       "      <th>pclass</th>\n",
       "      <th>age</th>\n",
       "      <th>age_02</th>\n",
       "      <th>survived</th>\n",
       "    </tr>\n",
       "  </thead>\n",
       "  <tbody>\n",
       "    <tr>\n",
       "      <th>0</th>\n",
       "      <td>male</td>\n",
       "      <td>3</td>\n",
       "      <td>22.0</td>\n",
       "      <td>22.000000</td>\n",
       "      <td>0</td>\n",
       "    </tr>\n",
       "    <tr>\n",
       "      <th>1</th>\n",
       "      <td>female</td>\n",
       "      <td>1</td>\n",
       "      <td>38.0</td>\n",
       "      <td>38.000000</td>\n",
       "      <td>1</td>\n",
       "    </tr>\n",
       "    <tr>\n",
       "      <th>2</th>\n",
       "      <td>female</td>\n",
       "      <td>3</td>\n",
       "      <td>26.0</td>\n",
       "      <td>26.000000</td>\n",
       "      <td>1</td>\n",
       "    </tr>\n",
       "    <tr>\n",
       "      <th>3</th>\n",
       "      <td>female</td>\n",
       "      <td>1</td>\n",
       "      <td>35.0</td>\n",
       "      <td>35.000000</td>\n",
       "      <td>1</td>\n",
       "    </tr>\n",
       "    <tr>\n",
       "      <th>4</th>\n",
       "      <td>male</td>\n",
       "      <td>3</td>\n",
       "      <td>35.0</td>\n",
       "      <td>35.000000</td>\n",
       "      <td>0</td>\n",
       "    </tr>\n",
       "    <tr>\n",
       "      <th>...</th>\n",
       "      <td>...</td>\n",
       "      <td>...</td>\n",
       "      <td>...</td>\n",
       "      <td>...</td>\n",
       "      <td>...</td>\n",
       "    </tr>\n",
       "    <tr>\n",
       "      <th>886</th>\n",
       "      <td>male</td>\n",
       "      <td>2</td>\n",
       "      <td>27.0</td>\n",
       "      <td>27.000000</td>\n",
       "      <td>0</td>\n",
       "    </tr>\n",
       "    <tr>\n",
       "      <th>887</th>\n",
       "      <td>female</td>\n",
       "      <td>1</td>\n",
       "      <td>19.0</td>\n",
       "      <td>19.000000</td>\n",
       "      <td>1</td>\n",
       "    </tr>\n",
       "    <tr>\n",
       "      <th>888</th>\n",
       "      <td>female</td>\n",
       "      <td>3</td>\n",
       "      <td>NaN</td>\n",
       "      <td>25.046875</td>\n",
       "      <td>0</td>\n",
       "    </tr>\n",
       "    <tr>\n",
       "      <th>889</th>\n",
       "      <td>male</td>\n",
       "      <td>1</td>\n",
       "      <td>26.0</td>\n",
       "      <td>26.000000</td>\n",
       "      <td>1</td>\n",
       "    </tr>\n",
       "    <tr>\n",
       "      <th>890</th>\n",
       "      <td>male</td>\n",
       "      <td>3</td>\n",
       "      <td>32.0</td>\n",
       "      <td>32.000000</td>\n",
       "      <td>0</td>\n",
       "    </tr>\n",
       "  </tbody>\n",
       "</table>\n",
       "<p>891 rows × 5 columns</p>\n",
       "</div>"
      ],
      "text/plain": [
       "        sex  pclass   age     age_02  survived\n",
       "0      male       3  22.0  22.000000         0\n",
       "1    female       1  38.0  38.000000         1\n",
       "2    female       3  26.0  26.000000         1\n",
       "3    female       1  35.0  35.000000         1\n",
       "4      male       3  35.0  35.000000         0\n",
       "..      ...     ...   ...        ...       ...\n",
       "886    male       2  27.0  27.000000         0\n",
       "887  female       1  19.0  19.000000         1\n",
       "888  female       3   NaN  25.046875         0\n",
       "889    male       1  26.0  26.000000         1\n",
       "890    male       3  32.0  32.000000         0\n",
       "\n",
       "[891 rows x 5 columns]"
      ]
     },
     "execution_count": 43,
     "metadata": {},
     "output_type": "execute_result"
    }
   ],
   "source": [
    "# df2.insert(3, 'age_02', age_02)\n",
    "df2"
   ]
  },
  {
   "cell_type": "markdown",
   "id": "8c6ed611",
   "metadata": {},
   "source": [
    "### age -> 연령대 범위로 나누기"
   ]
  },
  {
   "cell_type": "code",
   "execution_count": 109,
   "id": "9b47aa19",
   "metadata": {},
   "outputs": [],
   "source": [
    "# Age_02의 최대값이 80임을 확인\n",
    "df2['age_02'].max()\n",
    "\n",
    "# Age_02를 범주형으로 나눠보자 \n",
    "age_02_label = pd.cut(x = df2['age_02'], bins=4,\n",
    "                                  labels = ['~10대','~30대','~50대','50대~'], include_lowest = True)"
   ]
  },
  {
   "cell_type": "code",
   "execution_count": null,
   "id": "26192756",
   "metadata": {},
   "outputs": [],
   "source": []
  },
  {
   "cell_type": "markdown",
   "id": "2bef7ff0",
   "metadata": {},
   "source": [
    "### pclass"
   ]
  },
  {
   "cell_type": "code",
   "execution_count": null,
   "id": "da715307",
   "metadata": {},
   "outputs": [],
   "source": [
    "# pclass의 카테고리별 라벨을 적어줘서 처리해줘"
   ]
  },
  {
   "cell_type": "code",
   "execution_count": 79,
   "id": "f6769abb",
   "metadata": {},
   "outputs": [
    {
     "data": {
      "text/plain": [
       "array([3, 1, 2], dtype=int64)"
      ]
     },
     "execution_count": 79,
     "metadata": {},
     "output_type": "execute_result"
    }
   ],
   "source": [
    "df['pclass'].unique()"
   ]
  },
  {
   "cell_type": "code",
   "execution_count": 80,
   "id": "1c6553a5",
   "metadata": {},
   "outputs": [
    {
     "data": {
      "text/plain": [
       "3    491\n",
       "1    216\n",
       "2    184\n",
       "Name: pclass, dtype: int64"
      ]
     },
     "execution_count": 80,
     "metadata": {},
     "output_type": "execute_result"
    }
   ],
   "source": [
    "df['pclass'].value_counts()\n",
    "# 1:2:3 = 가:나:다 => 뭘로 구분해야되징"
   ]
  },
  {
   "cell_type": "code",
   "execution_count": 81,
   "id": "acdc32a7",
   "metadata": {
    "collapsed": true
   },
   "outputs": [
    {
     "data": {
      "text/plain": [
       "Index(['survived', 'pclass', 'sex', 'age', 'sibsp', 'parch', 'fare',\n",
       "       'embarked', 'class', 'who', 'adult_male', 'deck', 'embark_town',\n",
       "       'alive', 'alone'],\n",
       "      dtype='object')"
      ]
     },
     "execution_count": 81,
     "metadata": {},
     "output_type": "execute_result"
    }
   ],
   "source": [
    "df.columns"
   ]
  },
  {
   "cell_type": "code",
   "execution_count": 83,
   "id": "b734d420",
   "metadata": {},
   "outputs": [],
   "source": [
    "# Pclass 컬럼 라벨 데이터 생성\n",
    "pclassLabel = df['pclass'].replace({1:'가', 2:'나', 3:'다'})\n",
    "\n",
    "# DF에 컬럼 추가\n",
    "df2.insert(2, 'pclass_label', pclassLabel)"
   ]
  },
  {
   "cell_type": "code",
   "execution_count": 84,
   "id": "c549ffb5",
   "metadata": {},
   "outputs": [
    {
     "data": {
      "text/html": [
       "<div>\n",
       "<style scoped>\n",
       "    .dataframe tbody tr th:only-of-type {\n",
       "        vertical-align: middle;\n",
       "    }\n",
       "\n",
       "    .dataframe tbody tr th {\n",
       "        vertical-align: top;\n",
       "    }\n",
       "\n",
       "    .dataframe thead th {\n",
       "        text-align: right;\n",
       "    }\n",
       "</style>\n",
       "<table border=\"1\" class=\"dataframe\">\n",
       "  <thead>\n",
       "    <tr style=\"text-align: right;\">\n",
       "      <th></th>\n",
       "      <th>sex</th>\n",
       "      <th>pclass</th>\n",
       "      <th>pclass_label</th>\n",
       "      <th>age</th>\n",
       "      <th>age_02</th>\n",
       "      <th>survived</th>\n",
       "      <th>alive</th>\n",
       "    </tr>\n",
       "  </thead>\n",
       "  <tbody>\n",
       "    <tr>\n",
       "      <th>0</th>\n",
       "      <td>male</td>\n",
       "      <td>3</td>\n",
       "      <td>다</td>\n",
       "      <td>22.0</td>\n",
       "      <td>22.000000</td>\n",
       "      <td>0</td>\n",
       "      <td>no</td>\n",
       "    </tr>\n",
       "    <tr>\n",
       "      <th>1</th>\n",
       "      <td>female</td>\n",
       "      <td>1</td>\n",
       "      <td>가</td>\n",
       "      <td>38.0</td>\n",
       "      <td>38.000000</td>\n",
       "      <td>1</td>\n",
       "      <td>yes</td>\n",
       "    </tr>\n",
       "    <tr>\n",
       "      <th>2</th>\n",
       "      <td>female</td>\n",
       "      <td>3</td>\n",
       "      <td>다</td>\n",
       "      <td>26.0</td>\n",
       "      <td>26.000000</td>\n",
       "      <td>1</td>\n",
       "      <td>yes</td>\n",
       "    </tr>\n",
       "    <tr>\n",
       "      <th>3</th>\n",
       "      <td>female</td>\n",
       "      <td>1</td>\n",
       "      <td>가</td>\n",
       "      <td>35.0</td>\n",
       "      <td>35.000000</td>\n",
       "      <td>1</td>\n",
       "      <td>yes</td>\n",
       "    </tr>\n",
       "    <tr>\n",
       "      <th>4</th>\n",
       "      <td>male</td>\n",
       "      <td>3</td>\n",
       "      <td>다</td>\n",
       "      <td>35.0</td>\n",
       "      <td>35.000000</td>\n",
       "      <td>0</td>\n",
       "      <td>no</td>\n",
       "    </tr>\n",
       "    <tr>\n",
       "      <th>...</th>\n",
       "      <td>...</td>\n",
       "      <td>...</td>\n",
       "      <td>...</td>\n",
       "      <td>...</td>\n",
       "      <td>...</td>\n",
       "      <td>...</td>\n",
       "      <td>...</td>\n",
       "    </tr>\n",
       "    <tr>\n",
       "      <th>886</th>\n",
       "      <td>male</td>\n",
       "      <td>2</td>\n",
       "      <td>나</td>\n",
       "      <td>27.0</td>\n",
       "      <td>27.000000</td>\n",
       "      <td>0</td>\n",
       "      <td>no</td>\n",
       "    </tr>\n",
       "    <tr>\n",
       "      <th>887</th>\n",
       "      <td>female</td>\n",
       "      <td>1</td>\n",
       "      <td>가</td>\n",
       "      <td>19.0</td>\n",
       "      <td>19.000000</td>\n",
       "      <td>1</td>\n",
       "      <td>yes</td>\n",
       "    </tr>\n",
       "    <tr>\n",
       "      <th>888</th>\n",
       "      <td>female</td>\n",
       "      <td>3</td>\n",
       "      <td>다</td>\n",
       "      <td>NaN</td>\n",
       "      <td>25.046875</td>\n",
       "      <td>0</td>\n",
       "      <td>no</td>\n",
       "    </tr>\n",
       "    <tr>\n",
       "      <th>889</th>\n",
       "      <td>male</td>\n",
       "      <td>1</td>\n",
       "      <td>가</td>\n",
       "      <td>26.0</td>\n",
       "      <td>26.000000</td>\n",
       "      <td>1</td>\n",
       "      <td>yes</td>\n",
       "    </tr>\n",
       "    <tr>\n",
       "      <th>890</th>\n",
       "      <td>male</td>\n",
       "      <td>3</td>\n",
       "      <td>다</td>\n",
       "      <td>32.0</td>\n",
       "      <td>32.000000</td>\n",
       "      <td>0</td>\n",
       "      <td>no</td>\n",
       "    </tr>\n",
       "  </tbody>\n",
       "</table>\n",
       "<p>891 rows × 7 columns</p>\n",
       "</div>"
      ],
      "text/plain": [
       "        sex  pclass pclass_label   age     age_02  survived alive\n",
       "0      male       3            다  22.0  22.000000         0    no\n",
       "1    female       1            가  38.0  38.000000         1   yes\n",
       "2    female       3            다  26.0  26.000000         1   yes\n",
       "3    female       1            가  35.0  35.000000         1   yes\n",
       "4      male       3            다  35.0  35.000000         0    no\n",
       "..      ...     ...          ...   ...        ...       ...   ...\n",
       "886    male       2            나  27.0  27.000000         0    no\n",
       "887  female       1            가  19.0  19.000000         1   yes\n",
       "888  female       3            다   NaN  25.046875         0    no\n",
       "889    male       1            가  26.0  26.000000         1   yes\n",
       "890    male       3            다  32.0  32.000000         0    no\n",
       "\n",
       "[891 rows x 7 columns]"
      ]
     },
     "execution_count": 84,
     "metadata": {},
     "output_type": "execute_result"
    }
   ],
   "source": [
    "df2"
   ]
  },
  {
   "cell_type": "code",
   "execution_count": 85,
   "id": "46ed8a4b",
   "metadata": {
    "collapsed": true
   },
   "outputs": [
    {
     "name": "stdout",
     "output_type": "stream",
     "text": [
      "<class 'pandas.core.frame.DataFrame'>\n",
      "RangeIndex: 891 entries, 0 to 890\n",
      "Data columns (total 7 columns):\n",
      " #   Column        Non-Null Count  Dtype  \n",
      "---  ------        --------------  -----  \n",
      " 0   sex           891 non-null    object \n",
      " 1   pclass        891 non-null    int64  \n",
      " 2   pclass_label  891 non-null    object \n",
      " 3   age           714 non-null    float64\n",
      " 4   age_02        891 non-null    float64\n",
      " 5   survived      891 non-null    int64  \n",
      " 6   alive         891 non-null    object \n",
      "dtypes: float64(2), int64(2), object(3)\n",
      "memory usage: 48.9+ KB\n"
     ]
    }
   ],
   "source": [
    "df2.info()"
   ]
  },
  {
   "cell_type": "markdown",
   "id": "09212e2f",
   "metadata": {},
   "source": [
    "### 형변환\n",
    "\n",
    "- 일단 구해보고 안되는 거라면 바꿔주도록 해보자"
   ]
  },
  {
   "cell_type": "code",
   "execution_count": null,
   "id": "232add8b",
   "metadata": {},
   "outputs": [],
   "source": [
    "# 성별, 등석, 나이에 따른 생존율"
   ]
  },
  {
   "cell_type": "code",
   "execution_count": 103,
   "id": "7b286105",
   "metadata": {},
   "outputs": [
    {
     "data": {
      "text/plain": [
       "38.38383838383838"
      ]
     },
     "execution_count": 103,
     "metadata": {},
     "output_type": "execute_result"
    }
   ],
   "source": [
    "# cut으로 나이 연령대를 나누고\n",
    "# survived 든 alive 든 \n",
    "\n",
    "# 각 요소별\n",
    "all = df2['survived'].count()\n",
    "alive_sum = df2['survived'].sum()\n",
    "alive_pct = b / a * 100\n",
    "alive_pct"
   ]
  },
  {
   "cell_type": "code",
   "execution_count": 100,
   "id": "b2daba83",
   "metadata": {},
   "outputs": [
    {
     "data": {
      "text/plain": [
       "314"
      ]
     },
     "execution_count": 100,
     "metadata": {},
     "output_type": "execute_result"
    }
   ],
   "source": [
    "# 승선 인원 중 여성의 숫자\n",
    "survived_female = df2['sex'][df2['sex']=='female'].count()\n",
    "# 승선 인원 중 남성의 숫자\n",
    "survived_male = df2['sex'][df2['sex']=='male'].count()"
   ]
  },
  {
   "cell_type": "code",
   "execution_count": null,
   "id": "7fa0e9e7",
   "metadata": {},
   "outputs": [],
   "source": []
  },
  {
   "cell_type": "code",
   "execution_count": null,
   "id": "029876d4",
   "metadata": {},
   "outputs": [],
   "source": [
    "# 연령대 별로 나누고, 연령대별로 수치를 더하고, 숫자들 변수들 넣어서 나눠서 생존율을 구해봐"
   ]
  },
  {
   "cell_type": "code",
   "execution_count": null,
   "id": "a3b58f07",
   "metadata": {},
   "outputs": [],
   "source": [
    "# => 전처리를 한 df2의 그룹화(성별, 등석, 나이) / 평균(.mean()) / "
   ]
  },
  {
   "cell_type": "code",
   "execution_count": null,
   "id": "a36f1819",
   "metadata": {},
   "outputs": [],
   "source": [
    "s"
   ]
  },
  {
   "cell_type": "code",
   "execution_count": null,
   "id": "d08feead",
   "metadata": {},
   "outputs": [],
   "source": []
  }
 ],
 "metadata": {
  "kernelspec": {
   "display_name": "Python 3 (ipykernel)",
   "language": "python",
   "name": "python3"
  },
  "language_info": {
   "codemirror_mode": {
    "name": "ipython",
    "version": 3
   },
   "file_extension": ".py",
   "mimetype": "text/x-python",
   "name": "python",
   "nbconvert_exporter": "python",
   "pygments_lexer": "ipython3",
   "version": "3.9.12"
  }
 },
 "nbformat": 4,
 "nbformat_minor": 5
}
