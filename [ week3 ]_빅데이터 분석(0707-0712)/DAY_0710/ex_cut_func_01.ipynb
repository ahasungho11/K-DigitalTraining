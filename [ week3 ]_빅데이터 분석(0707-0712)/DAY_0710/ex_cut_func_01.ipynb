{
 "cells": [
  {
   "cell_type": "markdown",
   "id": "ad0f9ff9",
   "metadata": {},
   "source": [
    "## 연속형 자료형 -> 범주형 변환\n",
    "\n",
    "- pandas.cut() 함수 제공\n",
    "    - PARAMETER [\n",
    "    \n",
    "    \n",
    "        - bins : 구간 갯수           -> 정렬 후 지정된 갯수 만큼\n",
    "        - right : 오른쪽 값 포함여부 -> True\n",
    "        - labels : 구간에 대한 라벨, 리스트  -> 구간 갯수에 맞게 설정 (작->크 순서로 정렬된다고 보고, 라벨명 작성)\n",
    "        - include lowest : True가 되면 구간 중 첫번째 구간(가장 왼쪽 라벨)에서 가장 작은 값을 포함시킬 것이냐. False가 기본 \n",
    "        \n",
    "        a < value <= b    =>   기본 값\n",
    "        \n",
    "        - retbins : 구간 리스트 반환 여부  ->  False\n",
    "        (나눠만 주는데 True를 하면 반환값을 \n",
    "        \n",
    "    -RESULT\n",
    "            - 범주형 변환 데이터 (기본은 얘 밖에 반환 안됨)\n",
    "            - 구간 리스트  <-- retbins = True로 설정도니 경우 반환\n",
    "        \n",
    "        "
   ]
  },
  {
   "cell_type": "code",
   "execution_count": 2,
   "id": "7de2503b",
   "metadata": {},
   "outputs": [
    {
     "data": {
      "text/html": [
       "<div>\n",
       "<style scoped>\n",
       "    .dataframe tbody tr th:only-of-type {\n",
       "        vertical-align: middle;\n",
       "    }\n",
       "\n",
       "    .dataframe tbody tr th {\n",
       "        vertical-align: top;\n",
       "    }\n",
       "\n",
       "    .dataframe thead th {\n",
       "        text-align: right;\n",
       "    }\n",
       "</style>\n",
       "<table border=\"1\" class=\"dataframe\">\n",
       "  <thead>\n",
       "    <tr style=\"text-align: right;\">\n",
       "      <th></th>\n",
       "      <th>value</th>\n",
       "    </tr>\n",
       "  </thead>\n",
       "  <tbody>\n",
       "    <tr>\n",
       "      <th>0</th>\n",
       "      <td>1</td>\n",
       "    </tr>\n",
       "    <tr>\n",
       "      <th>1</th>\n",
       "      <td>2</td>\n",
       "    </tr>\n",
       "    <tr>\n",
       "      <th>2</th>\n",
       "      <td>3</td>\n",
       "    </tr>\n",
       "    <tr>\n",
       "      <th>3</th>\n",
       "      <td>4</td>\n",
       "    </tr>\n",
       "    <tr>\n",
       "      <th>4</th>\n",
       "      <td>5</td>\n",
       "    </tr>\n",
       "  </tbody>\n",
       "</table>\n",
       "</div>"
      ],
      "text/plain": [
       "   value\n",
       "0      1\n",
       "1      2\n",
       "2      3\n",
       "3      4\n",
       "4      5"
      ]
     },
     "execution_count": 2,
     "metadata": {},
     "output_type": "execute_result"
    }
   ],
   "source": [
    "import pandas as pd\n",
    "\n",
    "# DF 데이터 생성\n",
    "df = pd.DataFrame({'value':[1,2,3,4,5]})\n",
    "df"
   ]
  },
  {
   "cell_type": "code",
   "execution_count": 5,
   "id": "ce736831",
   "metadata": {},
   "outputs": [
    {
     "data": {
      "text/plain": [
       "0    (0.996, 3.0]\n",
       "1    (0.996, 3.0]\n",
       "2    (0.996, 3.0]\n",
       "3      (3.0, 5.0]\n",
       "4      (3.0, 5.0]\n",
       "Name: value, dtype: category\n",
       "Categories (2, interval[float64, right]): [(0.996, 3.0] < (3.0, 5.0]]"
      ]
     },
     "execution_count": 5,
     "metadata": {},
     "output_type": "execute_result"
    }
   ],
   "source": [
    "# 연속형 자료형 ===> 범주형(Category) 변환\n",
    "# [기본값] right = True, include_lowest = False\n",
    "caDF, retbins = pd.cut(x = df['value'], bins=2, retbins=True)\n",
    "caDF\n",
    "# 1,2,3,4,5 입력 중 2개로 나눠달라.\n",
    "# 대괄호([]) 표시가 포함, 괄호(()) 표시는 미포함\n"
   ]
  },
  {
   "cell_type": "code",
   "execution_count": 6,
   "id": "48aed8fb",
   "metadata": {},
   "outputs": [
    {
     "data": {
      "text/plain": [
       "0    (0.995, 3.0]\n",
       "1    (0.995, 3.0]\n",
       "2    (0.995, 3.0]\n",
       "3      (3.0, 5.0]\n",
       "4      (3.0, 5.0]\n",
       "Name: value, dtype: category\n",
       "Categories (2, interval[float64, right]): [(0.995, 3.0] < (3.0, 5.0]]"
      ]
     },
     "execution_count": 6,
     "metadata": {},
     "output_type": "execute_result"
    }
   ],
   "source": [
    "# [수정] right = True, include_lowest = False, include_lowest=True\n",
    "caDF, retbins = pd.cut(x = df['value'], bins=2, retbins=True, include_lowest=True)\n",
    "caDF"
   ]
  },
  {
   "cell_type": "code",
   "execution_count": 8,
   "id": "631c9a12",
   "metadata": {},
   "outputs": [
    {
     "data": {
      "text/plain": [
       "array([1.   , 3.   , 5.004])"
      ]
     },
     "execution_count": 8,
     "metadata": {},
     "output_type": "execute_result"
    }
   ],
   "source": [
    "retbins"
   ]
  },
  {
   "cell_type": "code",
   "execution_count": 7,
   "id": "6d356ab3",
   "metadata": {},
   "outputs": [
    {
     "data": {
      "text/plain": [
       "0      [1.0, 3.0)\n",
       "1      [1.0, 3.0)\n",
       "2    [3.0, 5.004)\n",
       "3    [3.0, 5.004)\n",
       "4    [3.0, 5.004)\n",
       "Name: value, dtype: category\n",
       "Categories (2, interval[float64, left]): [[1.0, 3.0) < [3.0, 5.004)]"
      ]
     },
     "execution_count": 7,
     "metadata": {},
     "output_type": "execute_result"
    }
   ],
   "source": [
    "# [수정] right = False, \n",
    "caDF, retbins = pd.cut(x = df['value'], bins=2, retbins=True, right=False)\n",
    "caDF\n",
    "# 구간의 대괄호와 괄호가 바뀐 것을 볼 수 있음\n",
    "# 내가 봤었던 80이 딱 마지막에 걸리니까 그건 넣어주면 될 것 같은데"
   ]
  },
  {
   "cell_type": "code",
   "execution_count": 9,
   "id": "75c22da7",
   "metadata": {},
   "outputs": [
    {
     "data": {
      "text/plain": [
       "array([1.   , 3.   , 5.004])"
      ]
     },
     "execution_count": 9,
     "metadata": {},
     "output_type": "execute_result"
    }
   ],
   "source": [
    "retbins"
   ]
  },
  {
   "cell_type": "code",
   "execution_count": 10,
   "id": "40c4723b",
   "metadata": {},
   "outputs": [
    {
     "data": {
      "text/plain": [
       "0      [1.0, 3.0)\n",
       "1      [1.0, 3.0)\n",
       "2    [3.0, 5.004)\n",
       "3    [3.0, 5.004)\n",
       "4    [3.0, 5.004)\n",
       "Name: value, dtype: category\n",
       "Categories (2, interval[float64, left]): [[1.0, 3.0) < [3.0, 5.004)]"
      ]
     },
     "execution_count": 10,
     "metadata": {},
     "output_type": "execute_result"
    }
   ],
   "source": [
    "# [수정] right = False, include_lowest = False\n",
    "caDF, retbins = pd.cut(x = df['value'], bins=2, retbins=True, right=False, include_lowest = False)\n",
    "caDF"
   ]
  },
  {
   "cell_type": "code",
   "execution_count": null,
   "id": "9113bb89",
   "metadata": {},
   "outputs": [],
   "source": []
  },
  {
   "cell_type": "code",
   "execution_count": null,
   "id": "004e2188",
   "metadata": {},
   "outputs": [],
   "source": []
  }
 ],
 "metadata": {
  "kernelspec": {
   "display_name": "Python 3 (ipykernel)",
   "language": "python",
   "name": "python3"
  },
  "language_info": {
   "codemirror_mode": {
    "name": "ipython",
    "version": 3
   },
   "file_extension": ".py",
   "mimetype": "text/x-python",
   "name": "python",
   "nbconvert_exporter": "python",
   "pygments_lexer": "ipython3",
   "version": "3.9.12"
  }
 },
 "nbformat": 4,
 "nbformat_minor": 5
}
