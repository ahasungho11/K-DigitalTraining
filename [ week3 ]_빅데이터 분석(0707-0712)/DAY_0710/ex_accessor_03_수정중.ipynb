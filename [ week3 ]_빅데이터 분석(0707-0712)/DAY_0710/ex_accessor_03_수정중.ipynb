{
 "cells": [
  {
   "cell_type": "markdown",
   "id": "6cabbed0",
   "metadata": {},
   "source": [
    "# 접근자(Accessor) 실습\n",
    "\n",
    "- DF/SR에 속성으로 제공되며 다른 객체의 기능/속성을 사용할 수 있도록 해줌\n",
    "\n",
    "- 종류\n",
    "    - Series.dt : datetime 속성 사용할 수 있도록 해줌\n",
    "    - Series.str : string 관리  \n",
    "    => 컬럼 관련된 것을 수행할 때 이 2가지를 많이 활용\n",
    "    - DataFrame.spare : spare 관련 속성/메서드 사용할 수 있도록 해줌"
   ]
  },
  {
   "cell_type": "code",
   "execution_count": 6,
   "id": "8761e1f1",
   "metadata": {},
   "outputs": [],
   "source": [
    "# 하나의 컬럼을 여러 개로 분리 = > 접근자 활용"
   ]
  },
  {
   "cell_type": "code",
   "execution_count": 7,
   "id": "8fe41a95",
   "metadata": {
    "collapsed": true
   },
   "outputs": [
    {
     "data": {
      "text/plain": [
       "DatetimeIndex(['2020-01-31', '2020-02-29', '2020-03-31', '2020-04-30',\n",
       "               '2020-05-31', '2020-06-30', '2020-07-31', '2020-08-31',\n",
       "               '2020-09-30', '2020-10-31'],\n",
       "              dtype='datetime64[ns]', freq='M')"
      ]
     },
     "execution_count": 7,
     "metadata": {},
     "output_type": "execute_result"
    }
   ],
   "source": [
    "# 모듈 로딩\n",
    "import pandas as pd\n",
    "import random\n",
    "# import pandas as pd, random\n",
    "\n",
    "# 데이터 생성\n",
    "# 이름, 생년월일( ex) 2020-02-20 ), 나이 3개 컬럼으로 구성\n",
    "# 이름은 영어, 10명, 생일이 1달 차이로 일자는 모두 같게끔\n",
    "\n",
    "# date_range 활용\n",
    "birth = pd.date_range('2020-01-10', periods=10, freq='M')\n",
    "birth\n",
    "\n",
    "# # i) range 쓰는 것, ii) random 쓰는 겄\n",
    "# age = [num for num range(16, 26)]\n",
    "# random.randint(17,25) for count in range(10)"
   ]
  },
  {
   "cell_type": "code",
   "execution_count": 8,
   "id": "96d8dbe5",
   "metadata": {},
   "outputs": [],
   "source": [
    "# # i) range 쓰는 것, ii) random 쓰는 겄\n",
    "# age = [num for num range(16, 26)]\n",
    "\n",
    "\n",
    "# a = random.randrange(12, 40)\n",
    "# # for count in range(10)"
   ]
  },
  {
   "cell_type": "code",
   "execution_count": 9,
   "id": "3b29c07f",
   "metadata": {
    "collapsed": true
   },
   "outputs": [
    {
     "data": {
      "text/html": [
       "<div>\n",
       "<style scoped>\n",
       "    .dataframe tbody tr th:only-of-type {\n",
       "        vertical-align: middle;\n",
       "    }\n",
       "\n",
       "    .dataframe tbody tr th {\n",
       "        vertical-align: top;\n",
       "    }\n",
       "\n",
       "    .dataframe thead th {\n",
       "        text-align: right;\n",
       "    }\n",
       "</style>\n",
       "<table border=\"1\" class=\"dataframe\">\n",
       "  <thead>\n",
       "    <tr style=\"text-align: right;\">\n",
       "      <th></th>\n",
       "      <th>name</th>\n",
       "      <th>birth</th>\n",
       "      <th>age</th>\n",
       "    </tr>\n",
       "  </thead>\n",
       "  <tbody>\n",
       "    <tr>\n",
       "      <th>0</th>\n",
       "      <td>Mc Kim</td>\n",
       "      <td>2020-01-20</td>\n",
       "      <td>12</td>\n",
       "    </tr>\n",
       "    <tr>\n",
       "      <th>1</th>\n",
       "      <td>Alice Lee</td>\n",
       "      <td>2020-02-20</td>\n",
       "      <td>54</td>\n",
       "    </tr>\n",
       "    <tr>\n",
       "      <th>2</th>\n",
       "      <td>Pole Park</td>\n",
       "      <td>2020-05-20</td>\n",
       "      <td>23</td>\n",
       "    </tr>\n",
       "    <tr>\n",
       "      <th>3</th>\n",
       "      <td>DJ Koo</td>\n",
       "      <td>2020-04-20</td>\n",
       "      <td>20</td>\n",
       "    </tr>\n",
       "    <tr>\n",
       "      <th>4</th>\n",
       "      <td>Note Bae</td>\n",
       "      <td>2020-03-20</td>\n",
       "      <td>11</td>\n",
       "    </tr>\n",
       "    <tr>\n",
       "      <th>5</th>\n",
       "      <td>Heaven Seo</td>\n",
       "      <td>2020-06-20</td>\n",
       "      <td>18</td>\n",
       "    </tr>\n",
       "    <tr>\n",
       "      <th>6</th>\n",
       "      <td>Black List</td>\n",
       "      <td>2020-09-20</td>\n",
       "      <td>20</td>\n",
       "    </tr>\n",
       "    <tr>\n",
       "      <th>7</th>\n",
       "      <td>White Paper</td>\n",
       "      <td>2020-08-20</td>\n",
       "      <td>40</td>\n",
       "    </tr>\n",
       "    <tr>\n",
       "      <th>8</th>\n",
       "      <td>White House</td>\n",
       "      <td>2020-07-20</td>\n",
       "      <td>32</td>\n",
       "    </tr>\n",
       "    <tr>\n",
       "      <th>9</th>\n",
       "      <td>Sun Cap</td>\n",
       "      <td>2020-10-20</td>\n",
       "      <td>34</td>\n",
       "    </tr>\n",
       "  </tbody>\n",
       "</table>\n",
       "</div>"
      ],
      "text/plain": [
       "          name       birth  age\n",
       "0       Mc Kim  2020-01-20   12\n",
       "1    Alice Lee  2020-02-20   54\n",
       "2    Pole Park  2020-05-20   23\n",
       "3       DJ Koo  2020-04-20   20\n",
       "4     Note Bae  2020-03-20   11\n",
       "5   Heaven Seo  2020-06-20   18\n",
       "6   Black List  2020-09-20   20\n",
       "7  White Paper  2020-08-20   40\n",
       "8  White House  2020-07-20   32\n",
       "9      Sun Cap  2020-10-20   34"
      ]
     },
     "execution_count": 9,
     "metadata": {},
     "output_type": "execute_result"
    }
   ],
   "source": [
    "df = pd.DataFrame({'name':['Mc Kim','Alice Lee','Pole Park', 'DJ Koo', 'Note Bae', 'Heaven Seo', 'Black List','White Paper','White House','Sun Cap'],\n",
    "                   'birth':['2020-01-20','2020-02-20','2020-05-20','2020-04-20','2020-03-20','2020-06-20','2020-09-20','2020-08-20','2020-07-20','2020-10-20'],\n",
    "                    'age':[12, 54, 23, 20, 11, 18, 20, 40, 32, 34]})\n",
    "df\n",
    "\n",
    "# 위에서 적힌 방법처럼 birth와 age를 다른 방법으로 넣어주는 것도 해보고"
   ]
  },
  {
   "cell_type": "code",
   "execution_count": 10,
   "id": "fcd119ef",
   "metadata": {},
   "outputs": [
    {
     "data": {
      "text/plain": [
       "name     object\n",
       "birth    object\n",
       "age       int64\n",
       "dtype: object"
      ]
     },
     "execution_count": 10,
     "metadata": {},
     "output_type": "execute_result"
    }
   ],
   "source": [
    "df.dtypes"
   ]
  },
  {
   "cell_type": "code",
   "execution_count": null,
   "id": "dc68bbb8",
   "metadata": {},
   "outputs": [],
   "source": []
  }
 ],
 "metadata": {
  "kernelspec": {
   "display_name": "Python 3 (ipykernel)",
   "language": "python",
   "name": "python3"
  },
  "language_info": {
   "codemirror_mode": {
    "name": "ipython",
    "version": 3
   },
   "file_extension": ".py",
   "mimetype": "text/x-python",
   "name": "python",
   "nbconvert_exporter": "python",
   "pygments_lexer": "ipython3",
   "version": "3.9.12"
  }
 },
 "nbformat": 4,
 "nbformat_minor": 5
}
