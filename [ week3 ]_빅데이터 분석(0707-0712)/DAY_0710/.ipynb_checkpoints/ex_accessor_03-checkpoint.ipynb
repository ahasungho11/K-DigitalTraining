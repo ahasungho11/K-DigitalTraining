{
 "cells": [
  {
   "cell_type": "code",
   "execution_count": null,
   "id": "a3383eb0",
   "metadata": {},
   "outputs": [],
   "source": [
    "# i) range 쓰는 것, ii) random 쓰는 겄\n",
    "age = [num for num range(16, 26)]\n"
   ]
  },
  {
   "cell_type": "code",
   "execution_count": 27,
   "id": "df9edd92",
   "metadata": {},
   "outputs": [
    {
     "data": {
      "text/plain": [
       "23"
      ]
     },
     "execution_count": 27,
     "metadata": {},
     "output_type": "execute_result"
    }
   ],
   "source": [
    "import random\n",
    "a = random.randint(17,25) for count in range(10)\n",
    "a"
   ]
  },
  {
   "cell_type": "code",
   "execution_count": null,
   "id": "c59b25ef",
   "metadata": {},
   "outputs": [],
   "source": []
  },
  {
   "cell_type": "code",
   "execution_count": 10,
   "id": "6000829a",
   "metadata": {},
   "outputs": [
    {
     "data": {
      "text/plain": [
       "name     object\n",
       "birth    object\n",
       "age       int64\n",
       "dtype: object"
      ]
     },
     "execution_count": 10,
     "metadata": {},
     "output_type": "execute_result"
    }
   ],
   "source": [
    "df.dtypes"
   ]
  },
  {
   "cell_type": "code",
   "execution_count": 11,
   "id": "342d779b",
   "metadata": {},
   "outputs": [
    {
     "data": {
      "text/plain": [
       "('Mc Kim', str)"
      ]
     },
     "execution_count": 11,
     "metadata": {},
     "output_type": "execute_result"
    }
   ],
   "source": [
    "# 영어 이름의 경우, 성과 이름을 분리 시키고 싶을 경우\n",
    "df['name']\n",
    "df['name'][0], type(df['name'][0])\n",
    "\n",
    "# 생일의 경우,"
   ]
  },
  {
   "cell_type": "code",
   "execution_count": 12,
   "id": "361e450c",
   "metadata": {},
   "outputs": [
    {
     "data": {
      "text/plain": [
       "['Mc', 'Kim']"
      ]
     },
     "execution_count": 12,
     "metadata": {},
     "output_type": "execute_result"
    }
   ],
   "source": [
    "# str 타입이니까\n",
    "df['name'][0].split()"
   ]
  },
  {
   "cell_type": "code",
   "execution_count": 13,
   "id": "d63b519f",
   "metadata": {},
   "outputs": [
    {
     "data": {
      "text/plain": [
       "0         [Mc, Kim]\n",
       "1      [Alice, Lee]\n",
       "2      [Pole, Park]\n",
       "3         [DJ, Koo]\n",
       "4       [Note, Bae]\n",
       "5     [Heaven, Seo]\n",
       "6     [Black, List]\n",
       "7    [White, Paper]\n",
       "8    [White, House]\n",
       "9        [Sun, Cap]\n",
       "Name: name, dtype: object"
      ]
     },
     "execution_count": 13,
     "metadata": {},
     "output_type": "execute_result"
    }
   ],
   "source": [
    "# 시리즈는 split() 메서드가 없어서 오류!\n",
    "# df['name'].split()\n",
    "# but, 접근자를 사용해 쓸 수 있게 해준다\n",
    "# df['name']가 시리즈라서 split을 못쓰지만\n",
    "df['name'].str.split()"
   ]
  },
  {
   "cell_type": "code",
   "execution_count": 14,
   "id": "a9d76b82",
   "metadata": {},
   "outputs": [
    {
     "data": {
      "text/plain": [
       "0    False\n",
       "1    False\n",
       "2     True\n",
       "3    False\n",
       "4     True\n",
       "5     True\n",
       "6     True\n",
       "7     True\n",
       "8    False\n",
       "9     True\n",
       "Name: name, dtype: bool"
      ]
     },
     "execution_count": 14,
     "metadata": {},
     "output_type": "execute_result"
    }
   ],
   "source": [
    "# 마찬가지로 str에만 쓸 수 있는 메서드들을 쓸 수 있게 해준다\n",
    "df['name'].str.contains('a')  # 해당 데이터에 'a'가 들어있는 유무에 따라 True/False 출력\n",
    "#lower(), capitalize() 등등"
   ]
  },
  {
   "cell_type": "code",
   "execution_count": null,
   "id": "e2e06189",
   "metadata": {},
   "outputs": [],
   "source": []
  },
  {
   "cell_type": "code",
   "execution_count": null,
   "id": "a17e577a",
   "metadata": {},
   "outputs": [],
   "source": []
  },
  {
   "cell_type": "markdown",
   "id": "4f395999",
   "metadata": {},
   "source": [
    "## str 데이터로 구성된 컬럼(Series)의 str 접근자\n",
    "\n",
    "- 전체 컬럼의 요소에 str 관련 메서드 사용 가능하도록 하는 접근자\n",
    "- 사용법\n",
    "    - 객체변수(컬럼명).str.메서드()  =>  ex) upper, split 등등\n",
    "    - 객체변수(컬럼명).str.get(인덱스)  =>  분리 문자리스트에서 특정 요소 추출"
   ]
  },
  {
   "cell_type": "code",
   "execution_count": 15,
   "id": "45b3ddcf",
   "metadata": {},
   "outputs": [
    {
     "data": {
      "text/plain": [
       "pandas.core.series.Series"
      ]
     },
     "execution_count": 15,
     "metadata": {},
     "output_type": "execute_result"
    }
   ],
   "source": [
    "# 문자열 분리\n",
    "a = df['name'].str.split()\n",
    "type(a)"
   ]
  },
  {
   "cell_type": "code",
   "execution_count": 16,
   "id": "580dc3bd",
   "metadata": {},
   "outputs": [
    {
     "data": {
      "text/plain": [
       "pandas.core.series.Series"
      ]
     },
     "execution_count": 16,
     "metadata": {},
     "output_type": "execute_result"
    }
   ],
   "source": [
    "a = df['name'].str.split()\n",
    "type(a)"
   ]
  },
  {
   "cell_type": "code",
   "execution_count": 17,
   "id": "6d7585d9",
   "metadata": {
    "collapsed": true
   },
   "outputs": [
    {
     "data": {
      "text/plain": [
       "(0        Mc\n",
       " 1     Alice\n",
       " 2      Pole\n",
       " 3        DJ\n",
       " 4      Note\n",
       " 5    Heaven\n",
       " 6     Black\n",
       " 7     White\n",
       " 8     White\n",
       " 9       Sun\n",
       " Name: name, dtype: object,\n",
       " 0      Kim\n",
       " 1      Lee\n",
       " 2     Park\n",
       " 3      Koo\n",
       " 4      Bae\n",
       " 5      Seo\n",
       " 6     List\n",
       " 7    Paper\n",
       " 8    House\n",
       " 9      Cap\n",
       " Name: name, dtype: object)"
      ]
     },
     "execution_count": 17,
     "metadata": {},
     "output_type": "execute_result"
    }
   ],
   "source": [
    "# 분리된 문자열 리스트에서 특정값 가져오기\n",
    "# str, list 니까\n",
    "a.str.get(0), a.str.get(1)"
   ]
  },
  {
   "cell_type": "code",
   "execution_count": 18,
   "id": "aba984ee",
   "metadata": {},
   "outputs": [],
   "source": [
    "df['first_name'] = a.str.get(0)\n",
    "df['last_name'] = a.str.get(1)"
   ]
  },
  {
   "cell_type": "code",
   "execution_count": 19,
   "id": "dd910f91",
   "metadata": {},
   "outputs": [
    {
     "data": {
      "text/html": [
       "<div>\n",
       "<style scoped>\n",
       "    .dataframe tbody tr th:only-of-type {\n",
       "        vertical-align: middle;\n",
       "    }\n",
       "\n",
       "    .dataframe tbody tr th {\n",
       "        vertical-align: top;\n",
       "    }\n",
       "\n",
       "    .dataframe thead th {\n",
       "        text-align: right;\n",
       "    }\n",
       "</style>\n",
       "<table border=\"1\" class=\"dataframe\">\n",
       "  <thead>\n",
       "    <tr style=\"text-align: right;\">\n",
       "      <th></th>\n",
       "      <th>0</th>\n",
       "      <th>1</th>\n",
       "    </tr>\n",
       "  </thead>\n",
       "  <tbody>\n",
       "    <tr>\n",
       "      <th>0</th>\n",
       "      <td>Mc</td>\n",
       "      <td>Kim</td>\n",
       "    </tr>\n",
       "    <tr>\n",
       "      <th>1</th>\n",
       "      <td>Alice</td>\n",
       "      <td>Lee</td>\n",
       "    </tr>\n",
       "    <tr>\n",
       "      <th>2</th>\n",
       "      <td>Pole</td>\n",
       "      <td>Park</td>\n",
       "    </tr>\n",
       "    <tr>\n",
       "      <th>3</th>\n",
       "      <td>DJ</td>\n",
       "      <td>Koo</td>\n",
       "    </tr>\n",
       "    <tr>\n",
       "      <th>4</th>\n",
       "      <td>Note</td>\n",
       "      <td>Bae</td>\n",
       "    </tr>\n",
       "    <tr>\n",
       "      <th>5</th>\n",
       "      <td>Heaven</td>\n",
       "      <td>Seo</td>\n",
       "    </tr>\n",
       "    <tr>\n",
       "      <th>6</th>\n",
       "      <td>Black</td>\n",
       "      <td>List</td>\n",
       "    </tr>\n",
       "    <tr>\n",
       "      <th>7</th>\n",
       "      <td>White</td>\n",
       "      <td>Paper</td>\n",
       "    </tr>\n",
       "    <tr>\n",
       "      <th>8</th>\n",
       "      <td>White</td>\n",
       "      <td>House</td>\n",
       "    </tr>\n",
       "    <tr>\n",
       "      <th>9</th>\n",
       "      <td>Sun</td>\n",
       "      <td>Cap</td>\n",
       "    </tr>\n",
       "  </tbody>\n",
       "</table>\n",
       "</div>"
      ],
      "text/plain": [
       "        0      1\n",
       "0      Mc    Kim\n",
       "1   Alice    Lee\n",
       "2    Pole   Park\n",
       "3      DJ    Koo\n",
       "4    Note    Bae\n",
       "5  Heaven    Seo\n",
       "6   Black   List\n",
       "7   White  Paper\n",
       "8   White  House\n",
       "9     Sun    Cap"
      ]
     },
     "execution_count": 19,
     "metadata": {},
     "output_type": "execute_result"
    }
   ],
   "source": [
    "# # str.split()\n",
    "# # 하나의 리스트에 담겨져서 시리즈로 나오지만, \n",
    "# # 파라미터 expeand를 쓰면, DF로 나옴\n",
    "# value=df['name'].str.split(expand=True)\n",
    "# type(value)\n",
    "# value"
   ]
  },
  {
   "cell_type": "code",
   "execution_count": 20,
   "id": "c4b92596",
   "metadata": {},
   "outputs": [
    {
     "data": {
      "text/html": [
       "<div>\n",
       "<style scoped>\n",
       "    .dataframe tbody tr th:only-of-type {\n",
       "        vertical-align: middle;\n",
       "    }\n",
       "\n",
       "    .dataframe tbody tr th {\n",
       "        vertical-align: top;\n",
       "    }\n",
       "\n",
       "    .dataframe thead th {\n",
       "        text-align: right;\n",
       "    }\n",
       "</style>\n",
       "<table border=\"1\" class=\"dataframe\">\n",
       "  <thead>\n",
       "    <tr style=\"text-align: right;\">\n",
       "      <th></th>\n",
       "      <th>name</th>\n",
       "      <th>birth</th>\n",
       "      <th>age</th>\n",
       "      <th>first_name</th>\n",
       "      <th>last_name</th>\n",
       "      <th>0</th>\n",
       "      <th>1</th>\n",
       "      <th>0</th>\n",
       "      <th>1</th>\n",
       "    </tr>\n",
       "  </thead>\n",
       "  <tbody>\n",
       "    <tr>\n",
       "      <th>0</th>\n",
       "      <td>Mc Kim</td>\n",
       "      <td>2020-01-20</td>\n",
       "      <td>12</td>\n",
       "      <td>Mc</td>\n",
       "      <td>Kim</td>\n",
       "      <td>Mc</td>\n",
       "      <td>Kim</td>\n",
       "      <td>Mc</td>\n",
       "      <td>Kim</td>\n",
       "    </tr>\n",
       "    <tr>\n",
       "      <th>1</th>\n",
       "      <td>Alice Lee</td>\n",
       "      <td>2020-02-20</td>\n",
       "      <td>54</td>\n",
       "      <td>Alice</td>\n",
       "      <td>Lee</td>\n",
       "      <td>Alice</td>\n",
       "      <td>Lee</td>\n",
       "      <td>Alice</td>\n",
       "      <td>Lee</td>\n",
       "    </tr>\n",
       "    <tr>\n",
       "      <th>2</th>\n",
       "      <td>Pole Park</td>\n",
       "      <td>2020-05-20</td>\n",
       "      <td>23</td>\n",
       "      <td>Pole</td>\n",
       "      <td>Park</td>\n",
       "      <td>Pole</td>\n",
       "      <td>Park</td>\n",
       "      <td>Pole</td>\n",
       "      <td>Park</td>\n",
       "    </tr>\n",
       "    <tr>\n",
       "      <th>3</th>\n",
       "      <td>DJ Koo</td>\n",
       "      <td>2020-04-20</td>\n",
       "      <td>20</td>\n",
       "      <td>DJ</td>\n",
       "      <td>Koo</td>\n",
       "      <td>DJ</td>\n",
       "      <td>Koo</td>\n",
       "      <td>DJ</td>\n",
       "      <td>Koo</td>\n",
       "    </tr>\n",
       "    <tr>\n",
       "      <th>4</th>\n",
       "      <td>Note Bae</td>\n",
       "      <td>2020-03-20</td>\n",
       "      <td>11</td>\n",
       "      <td>Note</td>\n",
       "      <td>Bae</td>\n",
       "      <td>Note</td>\n",
       "      <td>Bae</td>\n",
       "      <td>Note</td>\n",
       "      <td>Bae</td>\n",
       "    </tr>\n",
       "    <tr>\n",
       "      <th>5</th>\n",
       "      <td>Heaven Seo</td>\n",
       "      <td>2020-06-20</td>\n",
       "      <td>18</td>\n",
       "      <td>Heaven</td>\n",
       "      <td>Seo</td>\n",
       "      <td>Heaven</td>\n",
       "      <td>Seo</td>\n",
       "      <td>Heaven</td>\n",
       "      <td>Seo</td>\n",
       "    </tr>\n",
       "    <tr>\n",
       "      <th>6</th>\n",
       "      <td>Black List</td>\n",
       "      <td>2020-09-20</td>\n",
       "      <td>20</td>\n",
       "      <td>Black</td>\n",
       "      <td>List</td>\n",
       "      <td>Black</td>\n",
       "      <td>List</td>\n",
       "      <td>Black</td>\n",
       "      <td>List</td>\n",
       "    </tr>\n",
       "    <tr>\n",
       "      <th>7</th>\n",
       "      <td>White Paper</td>\n",
       "      <td>2020-08-20</td>\n",
       "      <td>40</td>\n",
       "      <td>White</td>\n",
       "      <td>Paper</td>\n",
       "      <td>White</td>\n",
       "      <td>Paper</td>\n",
       "      <td>White</td>\n",
       "      <td>Paper</td>\n",
       "    </tr>\n",
       "    <tr>\n",
       "      <th>8</th>\n",
       "      <td>White House</td>\n",
       "      <td>2020-07-20</td>\n",
       "      <td>32</td>\n",
       "      <td>White</td>\n",
       "      <td>House</td>\n",
       "      <td>White</td>\n",
       "      <td>House</td>\n",
       "      <td>White</td>\n",
       "      <td>House</td>\n",
       "    </tr>\n",
       "    <tr>\n",
       "      <th>9</th>\n",
       "      <td>Sun Cap</td>\n",
       "      <td>2020-10-20</td>\n",
       "      <td>34</td>\n",
       "      <td>Sun</td>\n",
       "      <td>Cap</td>\n",
       "      <td>Sun</td>\n",
       "      <td>Cap</td>\n",
       "      <td>Sun</td>\n",
       "      <td>Cap</td>\n",
       "    </tr>\n",
       "  </tbody>\n",
       "</table>\n",
       "</div>"
      ],
      "text/plain": [
       "          name       birth  age first_name last_name       0      1       0  \\\n",
       "0       Mc Kim  2020-01-20   12         Mc       Kim      Mc    Kim      Mc   \n",
       "1    Alice Lee  2020-02-20   54      Alice       Lee   Alice    Lee   Alice   \n",
       "2    Pole Park  2020-05-20   23       Pole      Park    Pole   Park    Pole   \n",
       "3       DJ Koo  2020-04-20   20         DJ       Koo      DJ    Koo      DJ   \n",
       "4     Note Bae  2020-03-20   11       Note       Bae    Note    Bae    Note   \n",
       "5   Heaven Seo  2020-06-20   18     Heaven       Seo  Heaven    Seo  Heaven   \n",
       "6   Black List  2020-09-20   20      Black      List   Black   List   Black   \n",
       "7  White Paper  2020-08-20   40      White     Paper   White  Paper   White   \n",
       "8  White House  2020-07-20   32      White     House   White  House   White   \n",
       "9      Sun Cap  2020-10-20   34        Sun       Cap     Sun    Cap     Sun   \n",
       "\n",
       "       1  \n",
       "0    Kim  \n",
       "1    Lee  \n",
       "2   Park  \n",
       "3    Koo  \n",
       "4    Bae  \n",
       "5    Seo  \n",
       "6   List  \n",
       "7  Paper  \n",
       "8  House  \n",
       "9    Cap  "
      ]
     },
     "execution_count": 20,
     "metadata": {},
     "output_type": "execute_result"
    }
   ],
   "source": [
    "# 이후 데이터 프레임에 연결시켜 (concat, 열방향)\n",
    "df = pd.concat([df, value], axis=1)\n",
    "# # => 자동으로 컬럼이 추가 되니까 별도로 inplace나 선언할 필요x\n",
    "# df = df.drop([0,1], axis=1)\n",
    "# df\n",
    "# # => 0과 1이 들어가는 같은 이름의 컬럼들은 다 지워지는 것을 알 것\n",
    "df = pd.concat([df, value], axis=1)\n",
    "df"
   ]
  },
  {
   "cell_type": "code",
   "execution_count": 21,
   "id": "ae63cb11",
   "metadata": {},
   "outputs": [
    {
     "data": {
      "text/plain": [
       "Index(['name', 'birth', 'age', 'first_name', 'last_name', 0, 1, 0, 1], dtype='object')"
      ]
     },
     "execution_count": 21,
     "metadata": {},
     "output_type": "execute_result"
    }
   ],
   "source": [
    "df.columns"
   ]
  },
  {
   "cell_type": "code",
   "execution_count": 22,
   "id": "55ce895f",
   "metadata": {},
   "outputs": [
    {
     "ename": "SyntaxError",
     "evalue": "invalid syntax (3370336688.py, line 1)",
     "output_type": "error",
     "traceback": [
      "\u001b[1;36m  Input \u001b[1;32mIn [22]\u001b[1;36m\u001b[0m\n\u001b[1;33m    df.columns = [쥭~]  # => 컬럼의 개수만큼\u001b[0m\n\u001b[1;37m                   ^\u001b[0m\n\u001b[1;31mSyntaxError\u001b[0m\u001b[1;31m:\u001b[0m invalid syntax\n"
     ]
    }
   ],
   "source": [
    "# df.columns = [쥭~]  # => 컬럼의 개수만큼"
   ]
  },
  {
   "cell_type": "code",
   "execution_count": null,
   "id": "248aeda8",
   "metadata": {},
   "outputs": [],
   "source": [
    "# df.rename(columns={'0':'firstName','1':'lastName'}, inplace=True)"
   ]
  },
  {
   "cell_type": "code",
   "execution_count": null,
   "id": "96764522",
   "metadata": {},
   "outputs": [],
   "source": [
    "df2 = pd.concat([df, value], axis=1)\n",
    "df"
   ]
  },
  {
   "cell_type": "code",
   "execution_count": null,
   "id": "ee3da359",
   "metadata": {},
   "outputs": [],
   "source": [
    "# firstName = []\n",
    "# familyName = []\n",
    "\n",
    "# for i1, i2 in a:\n",
    "#     firstName = i2\n",
    "#     familyName = i1\n",
    "\n",
    "# firstName, familyName\n",
    "\n",
    "# # 이런식으로 list에 이름과 성을 떼어 담아서\n",
    "# # 컬럼을 각각 만들어 주려고 하는데\n",
    "\n",
    "# df['first_name'] = firstName\n",
    "# df['last_name'] = lastName"
   ]
  },
  {
   "cell_type": "markdown",
   "id": "682b31eb",
   "metadata": {},
   "source": [
    "# 새 파일로 \n",
    "\n",
    "- stock-data.csv  \n",
    "\n",
    "- 접근자 사용하여 Data 컬럼 분할 (Y, M, D)  \n",
    "\n",
    "- D일 기준으로 정렬"
   ]
  },
  {
   "cell_type": "code",
   "execution_count": null,
   "id": "0c41b169",
   "metadata": {},
   "outputs": [],
   "source": [
    "# 파일 로딩\n",
    "DIR = '../Data/'\n",
    "FILE = DIR+'stock-data.csv'\n",
    "FILE"
   ]
  },
  {
   "cell_type": "code",
   "execution_count": null,
   "id": "d86ad37b",
   "metadata": {},
   "outputs": [],
   "source": [
    "stockDF = pd.read_csv(FILE)\n",
    "stockDF.info()"
   ]
  },
  {
   "cell_type": "code",
   "execution_count": null,
   "id": "5c6f1ba9",
   "metadata": {},
   "outputs": [],
   "source": [
    "stockDF.head()"
   ]
  },
  {
   "cell_type": "code",
   "execution_count": null,
   "id": "77e3df53",
   "metadata": {},
   "outputs": [],
   "source": [
    "# Data 컬럼의 type들 확인 => object\n",
    "stockDF['Date'].dtype"
   ]
  },
  {
   "cell_type": "code",
   "execution_count": null,
   "id": "a23e64a9",
   "metadata": {},
   "outputs": [],
   "source": []
  },
  {
   "cell_type": "code",
   "execution_count": null,
   "id": "bb5ceff6",
   "metadata": {},
   "outputs": [],
   "source": [
    "# 해당 컬럼 (시리즈) 분리\n",
    "date = stockDF['Date'].str.split('-')\n",
    "\n",
    "# 각 값들의 데이터 형태 확인 => list\n",
    "# type(date[0]) \n",
    "date"
   ]
  },
  {
   "cell_type": "code",
   "execution_count": null,
   "id": "9f46f25f",
   "metadata": {},
   "outputs": [],
   "source": [
    "# 각 값들 확인\n",
    "date.str.get(0)\n",
    "date.str.get(1)\n",
    "date.str.get(2)"
   ]
  },
  {
   "cell_type": "code",
   "execution_count": null,
   "id": "ac85a3b6",
   "metadata": {},
   "outputs": [],
   "source": [
    "stockDF['Y'] = date.str.get(0)\n",
    "stockDF['M'] = date.str.get(1)\n",
    "stockDF['D'] = date.str.get(2)\n",
    "\n",
    "# 추가된 컬럼 확인\n",
    "stockDF"
   ]
  },
  {
   "cell_type": "code",
   "execution_count": null,
   "id": "c09e92af",
   "metadata": {},
   "outputs": [],
   "source": [
    "# D를 기준으로 정렬\n",
    "stockDF = stockDF.sort_values(by = 'D')\n",
    "stockDF"
   ]
  },
  {
   "cell_type": "markdown",
   "id": "9f0addcb",
   "metadata": {},
   "source": []
  },
  {
   "cell_type": "code",
   "execution_count": null,
   "id": "6773add6",
   "metadata": {},
   "outputs": [],
   "source": [
    "# 간단하게는 expand로 Df로 뽑아서 그것만 바로 concat으로 붙여\n",
    "# => 실습해보시옹"
   ]
  },
  {
   "cell_type": "code",
   "execution_count": null,
   "id": "b121439d",
   "metadata": {},
   "outputs": [],
   "source": [
    "# str.split()\n",
    "# 하나의 리스트에 담겨져서 시리즈로 나오지만, 파라미터 expeand를 쓰면, DF로 나옴\n",
    "split_Date = stockDF['Date'].str.split('-', expand=True)\n",
    "type(split_Date)\n",
    "# split_Date"
   ]
  },
  {
   "cell_type": "code",
   "execution_count": null,
   "id": "d4ce8e8a",
   "metadata": {},
   "outputs": [],
   "source": []
  }
 ],
 "metadata": {
  "kernelspec": {
   "display_name": "Python 3 (ipykernel)",
   "language": "python",
   "name": "python3"
  },
  "language_info": {
   "codemirror_mode": {
    "name": "ipython",
    "version": 3
   },
   "file_extension": ".py",
   "mimetype": "text/x-python",
   "name": "python",
   "nbconvert_exporter": "python",
   "pygments_lexer": "ipython3",
   "version": "3.9.12"
  }
 },
 "nbformat": 4,
 "nbformat_minor": 5
}
