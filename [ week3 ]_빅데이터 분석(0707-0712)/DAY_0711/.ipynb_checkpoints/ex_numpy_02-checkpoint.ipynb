{
 "cells": [
  {
   "cell_type": "markdown",
   "id": "d22f63b6",
   "metadata": {},
   "source": [
    "# Numpy 패키지\n",
    "\n",
    "- pandas에서 데이터를 저장 및 처리에 사용되는 패키지  \n",
    "- 외부 패키지로 반드시 설치 필요  \n",
    "- 고속 데이터 처리, 수치 계산 수행 패키지\n",
    "- 머신러닝/딥러닝용 패키지 Scikit-lern, Tensorflow, PyTorch, Keras 등등에서도 내부 데이터 저장 및 수치 계산 사용되는 패키지\n",
    "\n",
    "- 중요) 동일한 데이터 타입의 데이터를 저장하는 배열(Array) 타입!!\n",
    "- 주피터에서 설치시 => !pip install numpy"
   ]
  },
  {
   "cell_type": "code",
   "execution_count": 6,
   "id": "b2ffa3c6",
   "metadata": {},
   "outputs": [
    {
     "data": {
      "text/plain": [
       "'1.21.5'"
      ]
     },
     "execution_count": 6,
     "metadata": {},
     "output_type": "execute_result"
    }
   ],
   "source": [
    "# 버전 확인\n",
    "import numpy as np\n",
    "\n",
    "np.__version__"
   ]
  },
  {
   "cell_type": "code",
   "execution_count": 7,
   "id": "320c99d4",
   "metadata": {},
   "outputs": [],
   "source": [
    "# - 외형은 판다스와 같다고 볼 수 있음\n",
    "# - array(배열) : 연속된 메모리 공간, 동일한 데이터 타입\n",
    "# => 순차적 데이터 저장하는 자료형, 서로 연관이씨는 dat를 하나의 변수명으로 저장\n",
    "# => 원소 개수 변경 불가, 위치를 가리키는 숫자는 인덱스\n",
    "\n",
    "# => 처음부터 메모리를 정하기 때문에처리 속도 향상\n",
    "# => 파이썬에서는 제공x, 다른 객체 지향 언어에는 있음(C, 자바 등)"
   ]
  },
  {
   "cell_type": "code",
   "execution_count": 8,
   "id": "5a98a072",
   "metadata": {},
   "outputs": [],
   "source": [
    "# numpy => 동일한 데이터 타입이어야 함\n",
    "# 판다스 설치시 자동으로 설치 됨 (상호간 버전이 같아야 하고)\n"
   ]
  },
  {
   "cell_type": "code",
   "execution_count": 9,
   "id": "001a34cd",
   "metadata": {},
   "outputs": [],
   "source": [
    "# 적어도 4~ 부터"
   ]
  },
  {
   "cell_type": "code",
   "execution_count": 10,
   "id": "9c44dce9",
   "metadata": {},
   "outputs": [],
   "source": [
    "# dtype(s)를 했을 때 뜨는 알파벳으로 볼 때 => 판다스 내부적으로 넘파이의 배열로 저장 된다는 것을 말함"
   ]
  },
  {
   "cell_type": "code",
   "execution_count": 13,
   "id": "f5a5bae3",
   "metadata": {},
   "outputs": [
    {
     "data": {
      "text/plain": [
       "(array([1, 2, 3]), numpy.ndarray)"
      ]
     },
     "execution_count": 13,
     "metadata": {},
     "output_type": "execute_result"
    }
   ],
   "source": [
    "# ndarray 객체 생성 하기  -->  numpy.array()\n",
    "\n",
    "arr1 = np.array([1,2,3])\n",
    "arr1, type(arr1)"
   ]
  },
  {
   "cell_type": "code",
   "execution_count": 18,
   "id": "654a4e9c",
   "metadata": {},
   "outputs": [
    {
     "name": "stdout",
     "output_type": "stream",
     "text": [
      "1\n",
      "(3,)\n",
      "int32\n",
      "4\n",
      "3\n"
     ]
    }
   ],
   "source": [
    "# ndarray 객체의 속성 확인하기\n",
    "# 객체변수명.속성명\n",
    "# ndim : 차원 ( ex) 1, 2, 3... )\n",
    "# shape : 형태 ( ex) (갯수,), (행, 열), (면, 행, 열) )\n",
    "# type : 데이터 타입\n",
    "# itemsize : 배열 요소의 바이트 크기\n",
    "# size : 배열 요소 갯수\n",
    "print( arr1.ndim, arr1.shape, arr1.dtype, arr1.itemsize, arr1.size, sep='\\n' )"
   ]
  },
  {
   "cell_type": "code",
   "execution_count": 24,
   "id": "e90c380f",
   "metadata": {},
   "outputs": [
    {
     "name": "stdout",
     "output_type": "stream",
     "text": [
      "객체변수명 arr1 : [1 2 3], <class 'numpy.ndarray'>\n",
      "객체변수명 arr1[0] : 1, <class 'numpy.int32'>\n",
      "객체변수명 arr1[1] : 2, <class 'numpy.int32'>\n"
     ]
    }
   ],
   "source": [
    "# 배열의 요소. 즉 아이템, 원소 접근하기\n",
    "# 0-base 인덱스 자동 지정 => 객체변수명[ 인덱스 ]\n",
    "\n",
    "print(f'객체변수명 arr1 : {arr1}, {type(arr1)}')\n",
    "print(f'객체변수명 arr1[0] : {arr1[0]}, {type(arr1[0])}')\n",
    "print(f'객체변수명 arr1[1] : {arr1[1]}, {type(arr1[1])}')"
   ]
  },
  {
   "cell_type": "code",
   "execution_count": 27,
   "id": "5b62854b",
   "metadata": {},
   "outputs": [
    {
     "data": {
      "text/plain": [
       "array([1, 1, 1, 1], dtype=int16)"
      ]
     },
     "execution_count": 27,
     "metadata": {},
     "output_type": "execute_result"
    }
   ],
   "source": [
    "# 모든 값을 0으로 채워서 ndarray 객체 생성하는 함수 => ones()\n",
    "arr2 = np.array([0,0,0,0])\n",
    "arr2 = np.ones(4, dtype = np.int16)\n",
    "# 2가지 모두 가능\n",
    "arr2"
   ]
  },
  {
   "cell_type": "code",
   "execution_count": 28,
   "id": "4fa093f0",
   "metadata": {},
   "outputs": [
    {
     "name": "stdout",
     "output_type": "stream",
     "text": [
      "1\n",
      "(3,)\n",
      "int32\n",
      "4\n",
      "3\n",
      "객체변수명 arr2 : [1 1 1 1], <class 'numpy.ndarray'>\n",
      "객체변수명 arr2[0] : 1, <class 'numpy.int16'>\n",
      "객체변수명 arr2[1] : 1, <class 'numpy.int16'>\n"
     ]
    }
   ],
   "source": [
    "print( arr1.ndim, arr1.shape, arr1.dtype, arr1.itemsize, arr1.size, sep='\\n' )\n",
    "print(f'객체변수명 arr2 : {arr2}, {type(arr2)}')\n",
    "print(f'객체변수명 arr2[0] : {arr2[0]}, {type(arr2[0])}')\n",
    "print(f'객체변수명 arr2[1] : {arr2[1]}, {type(arr2[1])}')"
   ]
  },
  {
   "cell_type": "code",
   "execution_count": 29,
   "id": "531d96b5",
   "metadata": {},
   "outputs": [
    {
     "data": {
      "text/plain": [
       "array([[ 4.63939877e-308, -5.64938534e+036, -1.78409531e+046],\n",
       "       [-4.32950182e-035, -8.72433218e-026, -1.57234264e-063]])"
      ]
     },
     "execution_count": 29,
     "metadata": {},
     "output_type": "execute_result"
    }
   ],
   "source": [
    "# 초기화하지 않고 ndarray 객체 생성 => numpy.empty()\n",
    "arr3 = np.empty((2,3))\n",
    "arr3"
   ]
  },
  {
   "cell_type": "code",
   "execution_count": 31,
   "id": "2f47d0cb",
   "metadata": {},
   "outputs": [
    {
     "name": "stdout",
     "output_type": "stream",
     "text": [
      "[0, 1, 7776, 8801, 6176, 625, 6576, 4001]\n",
      "[0, 1, 0, 6897, 0, 3617, 0, 1537]\n"
     ]
    }
   ],
   "source": [
    "# np.arange => 파이썬의 range와 비슷\n",
    "power = 40\n",
    "modulo = 10000\n",
    "x1 = [(n ** power) % modulo for n in range(8)]\n",
    "x2 = [(n ** power) % modulo for n in np.arange(8)]\n",
    "print(x1)\n",
    "print(x2)"
   ]
  },
  {
   "cell_type": "code",
   "execution_count": 32,
   "id": "e9903e51",
   "metadata": {},
   "outputs": [
    {
     "data": {
      "text/plain": [
       "array([[1, 2, 3],\n",
       "       [4, 5, 6]])"
      ]
     },
     "execution_count": 32,
     "metadata": {},
     "output_type": "execute_result"
    }
   ],
   "source": [
    "# 2차원 형태의 ndarray 객체 생성\n",
    "arr4 = np.array([[1,2,3],[4,5,6]])\n",
    "arr4"
   ]
  },
  {
   "cell_type": "code",
   "execution_count": 33,
   "id": "abf9df14",
   "metadata": {},
   "outputs": [
    {
     "data": {
      "text/plain": [
       "((2, 3), 2)"
      ]
     },
     "execution_count": 33,
     "metadata": {},
     "output_type": "execute_result"
    }
   ],
   "source": [
    "arr4.shape, arr4.ndim"
   ]
  },
  {
   "cell_type": "code",
   "execution_count": 35,
   "id": "fddd9d2d",
   "metadata": {},
   "outputs": [],
   "source": [
    "# 2차원 -> 1차원\n",
    "arr5 = arr4.flatten()"
   ]
  },
  {
   "cell_type": "code",
   "execution_count": 36,
   "id": "5109ef83",
   "metadata": {},
   "outputs": [
    {
     "data": {
      "text/plain": [
       "((6,), 2)"
      ]
     },
     "execution_count": 36,
     "metadata": {},
     "output_type": "execute_result"
    }
   ],
   "source": [
    "arr5.shape, arr4.ndim"
   ]
  },
  {
   "cell_type": "code",
   "execution_count": 38,
   "id": "fbf9ab35",
   "metadata": {},
   "outputs": [
    {
     "data": {
      "text/plain": [
       "array([[1, 2, 3, 4, 5, 6]])"
      ]
     },
     "execution_count": 38,
     "metadata": {},
     "output_type": "execute_result"
    }
   ],
   "source": [
    "# 1차원 -> 다른 차원으로 변경 reshape()\n",
    "arr6 = arr5.reshape((1,6))\n",
    "arr6"
   ]
  },
  {
   "cell_type": "code",
   "execution_count": 39,
   "id": "f135b27d",
   "metadata": {},
   "outputs": [
    {
     "data": {
      "text/plain": [
       "array([[1, 2],\n",
       "       [3, 4],\n",
       "       [5, 6]])"
      ]
     },
     "execution_count": 39,
     "metadata": {},
     "output_type": "execute_result"
    }
   ],
   "source": [
    "arr6 = arr5.reshape((3,2))\n",
    "arr6"
   ]
  },
  {
   "cell_type": "code",
   "execution_count": 41,
   "id": "d38efe36",
   "metadata": {},
   "outputs": [
    {
     "data": {
      "text/plain": [
       "array([[[1, 2],\n",
       "        [3, 4],\n",
       "        [5, 6]]])"
      ]
     },
     "execution_count": 41,
     "metadata": {},
     "output_type": "execute_result"
    }
   ],
   "source": [
    "arr6 = arr5.reshape((1,3,2))  # 3차원 -> 대괄호 3개\n",
    "arr6"
   ]
  },
  {
   "cell_type": "code",
   "execution_count": 43,
   "id": "0a705e2b",
   "metadata": {},
   "outputs": [
    {
     "data": {
      "text/plain": [
       "((6,), 1)"
      ]
     },
     "execution_count": 43,
     "metadata": {},
     "output_type": "execute_result"
    }
   ],
   "source": [
    "arr7 = arr6.flatten()  \n",
    "arr7.shape, arr7.ndim"
   ]
  },
  {
   "cell_type": "code",
   "execution_count": 45,
   "id": "dfa1893c",
   "metadata": {},
   "outputs": [
    {
     "data": {
      "text/plain": [
       "array([[1, 2, 3],\n",
       "       [4, 5, 6]])"
      ]
     },
     "execution_count": 45,
     "metadata": {},
     "output_type": "execute_result"
    }
   ],
   "source": [
    "# numpy.vstack(tup)\n",
    "a = np.array([1, 2, 3])\n",
    "b = np.array([4, 5, 6])\n",
    "np.vstack((a,b))"
   ]
  },
  {
   "cell_type": "code",
   "execution_count": 46,
   "id": "25390537",
   "metadata": {},
   "outputs": [
    {
     "data": {
      "text/plain": [
       "array([[1],\n",
       "       [2],\n",
       "       [3],\n",
       "       [4],\n",
       "       [5],\n",
       "       [6]])"
      ]
     },
     "execution_count": 46,
     "metadata": {},
     "output_type": "execute_result"
    }
   ],
   "source": [
    "a = np.array([[1], [2], [3]])\n",
    "b = np.array([[4], [5], [6]])\n",
    "np.vstack((a,b))"
   ]
  },
  {
   "cell_type": "code",
   "execution_count": 47,
   "id": "5ccd14bb",
   "metadata": {},
   "outputs": [],
   "source": [
    "# 넘파이에서의 '집계'함수 => 축 입력할 때 주의\n",
    "# 판다스에서 썼던 것들과는 반대라고 생각할 것\n",
    "# => axis = 0 (열) 기준 계산\n",
    "# => axis = 1 (행) 기준 계산"
   ]
  },
  {
   "cell_type": "code",
   "execution_count": 48,
   "id": "b0eb4119",
   "metadata": {},
   "outputs": [
    {
     "data": {
      "text/plain": [
       "array([0, 1, 2, 3, 4, 5, 6, 7])"
      ]
     },
     "execution_count": 48,
     "metadata": {},
     "output_type": "execute_result"
    }
   ],
   "source": [
    "# 차원/형태 변환 => reshape(-1, n) or reshape(n, -1)\n",
    "# 모르는 자리에 '-1'을 넣어\n",
    "arr8 = np.arange(8)\n",
    "arr8"
   ]
  },
  {
   "cell_type": "code",
   "execution_count": 49,
   "id": "006fefc0",
   "metadata": {},
   "outputs": [
    {
     "data": {
      "text/plain": [
       "array([[0, 1],\n",
       "       [2, 3],\n",
       "       [4, 5],\n",
       "       [6, 7]])"
      ]
     },
     "execution_count": 49,
     "metadata": {},
     "output_type": "execute_result"
    }
   ],
   "source": [
    "arr9 = arr8.reshape(-1,2)\n",
    "arr9"
   ]
  },
  {
   "cell_type": "code",
   "execution_count": 50,
   "id": "2e897a70",
   "metadata": {},
   "outputs": [
    {
     "ename": "ValueError",
     "evalue": "cannot reshape array of size 8 into shape (3)",
     "output_type": "error",
     "traceback": [
      "\u001b[1;31m---------------------------------------------------------------------------\u001b[0m",
      "\u001b[1;31mValueError\u001b[0m                                Traceback (most recent call last)",
      "Input \u001b[1;32mIn [50]\u001b[0m, in \u001b[0;36m<cell line: 1>\u001b[1;34m()\u001b[0m\n\u001b[1;32m----> 1\u001b[0m arr9 \u001b[38;5;241m=\u001b[39m \u001b[43marr8\u001b[49m\u001b[38;5;241;43m.\u001b[39;49m\u001b[43mreshape\u001b[49m\u001b[43m(\u001b[49m\u001b[38;5;241;43m-\u001b[39;49m\u001b[38;5;241;43m1\u001b[39;49m\u001b[43m,\u001b[49m\u001b[38;5;241;43m3\u001b[39;49m\u001b[43m)\u001b[49m\n\u001b[0;32m      2\u001b[0m arr9\n",
      "\u001b[1;31mValueError\u001b[0m: cannot reshape array of size 8 into shape (3)"
     ]
    }
   ],
   "source": [
    "arr9 = arr8.reshape(-1,3) \n",
    "arr9\n",
    "# 3을 곱해서는 8이 나올 수가 없지 => 개수가 맞아야 함# => 오류가 나지"
   ]
  },
  {
   "cell_type": "code",
   "execution_count": null,
   "id": "3648ac58",
   "metadata": {},
   "outputs": [],
   "source": []
  }
 ],
 "metadata": {
  "kernelspec": {
   "display_name": "Python 3 (ipykernel)",
   "language": "python",
   "name": "python3"
  },
  "language_info": {
   "codemirror_mode": {
    "name": "ipython",
    "version": 3
   },
   "file_extension": ".py",
   "mimetype": "text/x-python",
   "name": "python",
   "nbconvert_exporter": "python",
   "pygments_lexer": "ipython3",
   "version": "3.9.12"
  }
 },
 "nbformat": 4,
 "nbformat_minor": 5
}
