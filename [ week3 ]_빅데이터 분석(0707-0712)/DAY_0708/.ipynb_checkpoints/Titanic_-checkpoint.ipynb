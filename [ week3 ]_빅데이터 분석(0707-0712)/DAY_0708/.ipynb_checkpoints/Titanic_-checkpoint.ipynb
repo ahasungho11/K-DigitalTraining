{
 "cells": [
  {
   "cell_type": "code",
   "execution_count": 289,
   "id": "4f44fc9b",
   "metadata": {},
   "outputs": [],
   "source": [
    "# 모듈 로딩\n",
    "import pandas as pd\n",
    "import numpy as np\n",
    "import matplotlib.pyplot as plt\n",
    "import seaborn as sns\n",
    "\n",
    "# 파일 관련 변수들\n",
    "DIR = '../Data/'\n",
    "FILE = DIR + 'titanic.csv'"
   ]
  },
  {
   "cell_type": "code",
   "execution_count": 290,
   "id": "612ac9ee",
   "metadata": {},
   "outputs": [
    {
     "data": {
      "text/html": [
       "<div>\n",
       "<style scoped>\n",
       "    .dataframe tbody tr th:only-of-type {\n",
       "        vertical-align: middle;\n",
       "    }\n",
       "\n",
       "    .dataframe tbody tr th {\n",
       "        vertical-align: top;\n",
       "    }\n",
       "\n",
       "    .dataframe thead th {\n",
       "        text-align: right;\n",
       "    }\n",
       "</style>\n",
       "<table border=\"1\" class=\"dataframe\">\n",
       "  <thead>\n",
       "    <tr style=\"text-align: right;\">\n",
       "      <th></th>\n",
       "      <th>PassengerId</th>\n",
       "      <th>Survived</th>\n",
       "      <th>Survived_label</th>\n",
       "      <th>Pclass</th>\n",
       "      <th>Pclass_label</th>\n",
       "      <th>Name</th>\n",
       "      <th>Sex</th>\n",
       "      <th>Age</th>\n",
       "      <th>Age_02</th>\n",
       "      <th>Age_02_label</th>\n",
       "      <th>SibSp</th>\n",
       "      <th>Parch</th>\n",
       "      <th>Ticket</th>\n",
       "      <th>Fare</th>\n",
       "      <th>Cabin</th>\n",
       "      <th>Embarked</th>\n",
       "    </tr>\n",
       "  </thead>\n",
       "  <tbody>\n",
       "    <tr>\n",
       "      <th>0</th>\n",
       "      <td>1</td>\n",
       "      <td>0</td>\n",
       "      <td>사망</td>\n",
       "      <td>3</td>\n",
       "      <td>다</td>\n",
       "      <td>Braund, Mr. Owen Harris</td>\n",
       "      <td>male</td>\n",
       "      <td>22.0</td>\n",
       "      <td>22</td>\n",
       "      <td>~30대</td>\n",
       "      <td>1</td>\n",
       "      <td>0</td>\n",
       "      <td>A/5 21171</td>\n",
       "      <td>7.2500</td>\n",
       "      <td>NaN</td>\n",
       "      <td>S</td>\n",
       "    </tr>\n",
       "    <tr>\n",
       "      <th>1</th>\n",
       "      <td>2</td>\n",
       "      <td>1</td>\n",
       "      <td>생존</td>\n",
       "      <td>1</td>\n",
       "      <td>가</td>\n",
       "      <td>Cumings, Mrs. John Bradley (Florence Briggs Th...</td>\n",
       "      <td>female</td>\n",
       "      <td>38.0</td>\n",
       "      <td>38</td>\n",
       "      <td>~30대</td>\n",
       "      <td>1</td>\n",
       "      <td>0</td>\n",
       "      <td>PC 17599</td>\n",
       "      <td>71.2833</td>\n",
       "      <td>C85</td>\n",
       "      <td>C</td>\n",
       "    </tr>\n",
       "    <tr>\n",
       "      <th>2</th>\n",
       "      <td>3</td>\n",
       "      <td>1</td>\n",
       "      <td>생존</td>\n",
       "      <td>3</td>\n",
       "      <td>다</td>\n",
       "      <td>Heikkinen, Miss. Laina</td>\n",
       "      <td>female</td>\n",
       "      <td>26.0</td>\n",
       "      <td>26</td>\n",
       "      <td>~30대</td>\n",
       "      <td>0</td>\n",
       "      <td>0</td>\n",
       "      <td>STON/O2. 3101282</td>\n",
       "      <td>7.9250</td>\n",
       "      <td>NaN</td>\n",
       "      <td>S</td>\n",
       "    </tr>\n",
       "    <tr>\n",
       "      <th>3</th>\n",
       "      <td>4</td>\n",
       "      <td>1</td>\n",
       "      <td>생존</td>\n",
       "      <td>1</td>\n",
       "      <td>가</td>\n",
       "      <td>Futrelle, Mrs. Jacques Heath (Lily May Peel)</td>\n",
       "      <td>female</td>\n",
       "      <td>35.0</td>\n",
       "      <td>35</td>\n",
       "      <td>~30대</td>\n",
       "      <td>1</td>\n",
       "      <td>0</td>\n",
       "      <td>113803</td>\n",
       "      <td>53.1000</td>\n",
       "      <td>C123</td>\n",
       "      <td>S</td>\n",
       "    </tr>\n",
       "    <tr>\n",
       "      <th>4</th>\n",
       "      <td>5</td>\n",
       "      <td>0</td>\n",
       "      <td>사망</td>\n",
       "      <td>3</td>\n",
       "      <td>다</td>\n",
       "      <td>Allen, Mr. William Henry</td>\n",
       "      <td>male</td>\n",
       "      <td>35.0</td>\n",
       "      <td>35</td>\n",
       "      <td>~30대</td>\n",
       "      <td>0</td>\n",
       "      <td>0</td>\n",
       "      <td>373450</td>\n",
       "      <td>8.0500</td>\n",
       "      <td>NaN</td>\n",
       "      <td>S</td>\n",
       "    </tr>\n",
       "  </tbody>\n",
       "</table>\n",
       "</div>"
      ],
      "text/plain": [
       "   PassengerId Survived Survived_label Pclass Pclass_label  \\\n",
       "0            1        0             사망      3            다   \n",
       "1            2        1             생존      1            가   \n",
       "2            3        1             생존      3            다   \n",
       "3            4        1             생존      1            가   \n",
       "4            5        0             사망      3            다   \n",
       "\n",
       "                                                Name     Sex   Age  Age_02  \\\n",
       "0                            Braund, Mr. Owen Harris    male  22.0      22   \n",
       "1  Cumings, Mrs. John Bradley (Florence Briggs Th...  female  38.0      38   \n",
       "2                             Heikkinen, Miss. Laina  female  26.0      26   \n",
       "3       Futrelle, Mrs. Jacques Heath (Lily May Peel)  female  35.0      35   \n",
       "4                           Allen, Mr. William Henry    male  35.0      35   \n",
       "\n",
       "  Age_02_label  SibSp  Parch            Ticket     Fare Cabin Embarked  \n",
       "0         ~30대      1      0         A/5 21171   7.2500   NaN        S  \n",
       "1         ~30대      1      0          PC 17599  71.2833   C85        C  \n",
       "2         ~30대      0      0  STON/O2. 3101282   7.9250   NaN        S  \n",
       "3         ~30대      1      0            113803  53.1000  C123        S  \n",
       "4         ~30대      0      0            373450   8.0500   NaN        S  "
      ]
     },
     "execution_count": 290,
     "metadata": {},
     "output_type": "execute_result"
    }
   ],
   "source": [
    "# DF 정보 확인\n",
    "titanicDF.head()"
   ]
  },
  {
   "cell_type": "code",
   "execution_count": 291,
   "id": "b4e3ea1e",
   "metadata": {},
   "outputs": [
    {
     "name": "stdout",
     "output_type": "stream",
     "text": [
      "<class 'pandas.core.frame.DataFrame'>\n",
      "RangeIndex: 891 entries, 0 to 890\n",
      "Data columns (total 12 columns):\n",
      " #   Column       Non-Null Count  Dtype  \n",
      "---  ------       --------------  -----  \n",
      " 0   PassengerId  891 non-null    int64  \n",
      " 1   Survived     891 non-null    int64  \n",
      " 2   Pclass       891 non-null    int64  \n",
      " 3   Name         891 non-null    object \n",
      " 4   Sex          891 non-null    object \n",
      " 5   Age          714 non-null    float64\n",
      " 6   SibSp        891 non-null    int64  \n",
      " 7   Parch        891 non-null    int64  \n",
      " 8   Ticket       891 non-null    object \n",
      " 9   Fare         891 non-null    float64\n",
      " 10  Cabin        204 non-null    object \n",
      " 11  Embarked     889 non-null    object \n",
      "dtypes: float64(2), int64(5), object(5)\n",
      "memory usage: 83.7+ KB\n"
     ]
    }
   ],
   "source": [
    "titanicDF = pd.read_csv(FILE)\n",
    "titanicDF.info()"
   ]
  },
  {
   "cell_type": "markdown",
   "id": "e7991039",
   "metadata": {},
   "source": [
    "## 1. 각 컬럼별 자료의 의미"
   ]
  },
  {
   "cell_type": "markdown",
   "id": "15b71933",
   "metadata": {},
   "source": [
    "PassengerId : 승선자들 일련번호\n",
    "Survived : 생존 여부(생존은 1, 아닌 경우는 0)  \n",
    "Pclass : Passenger Class, 승객 등급  \n",
    "Name : 승객 이름  \n",
    "Sex : 승객 성별  \n",
    "Age : 승객 나이  \n",
    "Sibsp : 동승한 형제 또는 배우자 수  \n",
    "Parch : 동승한 부모 또는 자녀 수  \n",
    "Ticket : 티켓 번호  \n",
    "Fare : 승객 지불 요금  \n",
    "Cabin : 선실 이름  \n",
    "Embarked : 승선항(C=쉘 부르크, Q=퀸즈타운, S=사우스 햄튼)"
   ]
  },
  {
   "cell_type": "markdown",
   "id": "f8d6eda3",
   "metadata": {},
   "source": [
    "## 2. 데이터의 구분"
   ]
  },
  {
   "cell_type": "markdown",
   "id": "8f455abd",
   "metadata": {},
   "source": [
    "### 2-1) 각 컬럼 데이터가 분류 분석에 미칠 영향에 대한 객관적 탐색 (아래 부분은 주관적으로 한 것이라 볼 수 있음)"
   ]
  },
  {
   "cell_type": "code",
   "execution_count": 292,
   "id": "556c6748",
   "metadata": {},
   "outputs": [],
   "source": [
    "# - 데이터를 그룹(생존자 그룹 / 비생존자 그룹)으로 나누어 컬럼의 그룹 간 차이를 탐색하는 것"
   ]
  },
  {
   "cell_type": "code",
   "execution_count": 293,
   "id": "b7bd55a1",
   "metadata": {},
   "outputs": [],
   "source": [
    "# 구분형(Pclass, Sex, Embarkded)  vs.  수치형(Age, Sibsp, Parch, Fare) 중 구분형을 살펴봄"
   ]
  },
  {
   "cell_type": "code",
   "execution_count": 294,
   "id": "73e3c086",
   "metadata": {
    "scrolled": false
   },
   "outputs": [
    {
     "name": "stdout",
     "output_type": "stream",
     "text": [
      "0    549\n",
      "1    342\n",
      "Name: Survived, dtype: int64\n"
     ]
    },
    {
     "data": {
      "text/plain": [
       "<AxesSubplot:>"
      ]
     },
     "execution_count": 294,
     "metadata": {},
     "output_type": "execute_result"
    },
    {
     "data": {
      "image/png": "[encoded data removed]",
      "text/plain": [
       "<Figure size 432x288 with 1 Axes>"
      ]
     },
     "metadata": {
      "needs_background": "light"
     },
     "output_type": "display_data"
    }
   ],
   "source": [
    "print(titanicDF['Survived'].value_counts())\n",
    "titanicDF['Survived'].value_counts().plot.bar()"
   ]
  },
  {
   "cell_type": "code",
   "execution_count": 295,
   "id": "cb33033d",
   "metadata": {},
   "outputs": [],
   "source": [
    "# - 생존 여부 (생존 = 1, 아닌 경우 = 0)인 survived를 그룹으로 하여 pclass 컬럼/의 그룹별 분포를 출력한 결과는 아래와 같았음\n",
    "# seaborn의 countplot이라는 함수를 사용하면 아래와 같은 그래프를 출력할 수 있습니다. 그룹 비율은 약 3:5 정도로 나타났고,\n",
    "# 그룹별 pclass의 분포는 상이하게 나타남\n",
    "# => 이를 통해 pclass 피처는 생존자 분류에 유의미한 영향을 미친다는 가설을 세워 볼 수 있음."
   ]
  },
  {
   "cell_type": "code",
   "execution_count": 296,
   "id": "9242cae0",
   "metadata": {
    "scrolled": true
   },
   "outputs": [
    {
     "name": "stdout",
     "output_type": "stream",
     "text": [
      "3    491\n",
      "1    216\n",
      "2    184\n",
      "Name: Pclass, dtype: int64\n"
     ]
    },
    {
     "data": {
      "image/png": "[encoded data removed]",
      "text/plain": [
       "<Figure size 432x288 with 1 Axes>"
      ]
     },
     "metadata": {
      "needs_background": "light"
     },
     "output_type": "display_data"
    }
   ],
   "source": [
    "# Survived 피처를 기준으로 그룹을 나누어, 그룹별 Pclass 컬럼의 분포를 살펴봄.  =>  3개 이상의 그룹으로 나뉘는 것\n",
    "print(titanicDF['Pclass'].value_counts())\n",
    "ax1 = sns.countplot(x='Pclass', hue = 'Survived',  data = titanicDF)"
   ]
  },
  {
   "cell_type": "code",
   "execution_count": 297,
   "id": "6392dd86",
   "metadata": {
    "scrolled": true
   },
   "outputs": [
    {
     "name": "stdout",
     "output_type": "stream",
     "text": [
      "male      577\n",
      "female    314\n",
      "Name: Sex, dtype: int64\n"
     ]
    },
    {
     "data": {
      "image/png": "[encoded data removed]",
      "text/plain": [
       "<Figure size 432x288 with 1 Axes>"
      ]
     },
     "metadata": {
      "needs_background": "light"
     },
     "output_type": "display_data"
    }
   ],
   "source": [
    "# Survived 피처를 기준으로 그룹을 나누어, 그룹별 Sex 컬럼의 분포를 살펴봄.\n",
    "print(titanicDF['Sex'].value_counts())\n",
    "ax2 = sns.countplot(x='Sex', hue = 'Survived',  data = titanicDF)"
   ]
  },
  {
   "cell_type": "code",
   "execution_count": 298,
   "id": "6e84e91b",
   "metadata": {},
   "outputs": [],
   "source": [
    "# 해당 컬럼이 남/여 2개의 그룹으로 밖에 나누어지지 않지만, 성별 생존율을 봤을 때 여성이 더 높은 것을 알 수 있음"
   ]
  },
  {
   "cell_type": "code",
   "execution_count": 299,
   "id": "a37ff1c1",
   "metadata": {
    "scrolled": true
   },
   "outputs": [
    {
     "name": "stdout",
     "output_type": "stream",
     "text": [
      "S    644\n",
      "C    168\n",
      "Q     77\n",
      "Name: Embarked, dtype: int64\n"
     ]
    },
    {
     "data": {
      "image/png": "[encoded data removed]",
      "text/plain": [
       "<Figure size 432x288 with 1 Axes>"
      ]
     },
     "metadata": {
      "needs_background": "light"
     },
     "output_type": "display_data"
    }
   ],
   "source": [
    "# Survived 피처를 기준으로 그룹을 나누어, 그룹별 Embarked 컬럼의 분포를 살펴봄.\n",
    "print(titanicDF['Embarked'].value_counts())\n",
    "ax2 = sns.countplot(x='Embarked', hue = 'Survived',  data = titanicDF)"
   ]
  },
  {
   "cell_type": "code",
   "execution_count": 300,
   "id": "42d8fd78",
   "metadata": {},
   "outputs": [],
   "source": [
    "# 정해진 항로를 얼마나 지나왔는지, 어느 지점에서 사고가 발생했는지 여부를 알 수 없기도 하고,\n",
    "# 승선항과 승객들과의 연관 관계를 밝히기 힘들 것 같아 배제"
   ]
  },
  {
   "cell_type": "markdown",
   "id": "40df2652",
   "metadata": {},
   "source": [
    "### 2-2) 목표에 부합하지 않아서 필요하지 않거나, 즉시 분석에 필요한 데이터가 아니라고 주관적으로 판단한 부분\n",
    "(단순히 승객들의 구분을 위한 id 성격의 데이터들은 거의 포함되는 것이라 생각함 (PassengerId 같은 경우))"
   ]
  },
  {
   "cell_type": "markdown",
   "id": "07e64bc0",
   "metadata": {},
   "source": [
    "- 'PassengerId', 'Name', 'Ticket', ' Embarked', 'Cabin' \n",
    "    - PassengerId : 일련번호로 사람을 카운팅 할 수 있는 고유번호 느낌. 즉시 분석이 쓰일 것 같지는 않다고 판단\n",
    "    - Name, Ticket, Embarked  : 생존여부와 큰 영향이 없을 것으로 판단\n",
    "    - Cabin : 승객들이 배정받는 선실을 말하는 것은 아닌 것 같음. 결측치도 많고. 선원들이 배정받는 공간인 것 같으므로 배제"
   ]
  },
  {
   "cell_type": "code",
   "execution_count": 301,
   "id": "c5a8f0b7",
   "metadata": {},
   "outputs": [],
   "source": [
    "# 2-2)로 분류한 부분을 drop해야 하지만 일단 원본 파일 그대로 진행\n",
    "# -> 전처리를 통해 생성되는 컬럼들이 많다면 새로 만드는 것도 괜찮을 것 같은데,,\n",
    "# -> but, 혹시 예상치 못한 다른 컬럼과의 상관관계를 발견할 수도 있으니 원본에 넣을 수도 있겠다는 생각이 들었음\n",
    "\n",
    "# 분석의 목표에 부합하지 않거나, 당장 분석에 사용할 수 없는 경우나, 분석에 큰 영향을 미칠 것 같지 않은 컬럼들\n",
    "# => drop으로 삭제를 해준다 (원본은 유지해주도록 하면서)\n",
    "# 분석할 데이터들의 결측치들을 파악하여 전처리 과정을 진행한다"
   ]
  },
  {
   "cell_type": "markdown",
   "id": "9f79a08a",
   "metadata": {},
   "source": [
    "### 2-2) 분석에 필요하다고 판단, 전처리를 해야 한다고 판단한 부분\n",
    "- 'Survived', 'Pclass', 'Sex', 'Age', 'Sibsp', 'Parch', 'Fare'\n",
    "    - Survived : 기준\n",
    "    - Pclass : 배정받은 선실의 위치/안전성 등에 차이가 생존 여부에 영향을 미칠 것으로 판단\n",
    "    - Sex : 남자와 여자의 성별에 따라 생물학적/사회적 영향을 받아 생존 여부에 차이가 있을 것으로 판단\n",
    "    - Age : 구조받기까지 생존할 수 있는 능력에 상당한 영향을 미칠 것으로 판단\n",
    "    - Sibsp, Parch : 동승한 형제/배우자/부모/자녀의 수에 따라 사건 발생했을 때, 생존율에 영향을 미칠 것으로 판단\n",
    "    - Fare : 승객이 지불한 요금이 많을 수록, 형편이나 부의 정도를 어느 정도 유추할 수 있을 것이라 판단 (어느 정도만)    "
   ]
  },
  {
   "cell_type": "markdown",
   "id": "883476c0",
   "metadata": {},
   "source": [
    "## 3. 각 데이터 상태 확인 -> 분석을 위해 수정이 필요한 컬럼들 전처리 진행"
   ]
  },
  {
   "cell_type": "code",
   "execution_count": 302,
   "id": "b6a5f11f",
   "metadata": {},
   "outputs": [
    {
     "data": {
      "text/plain": [
       "PassengerId      int64\n",
       "Survived         int64\n",
       "Pclass           int64\n",
       "Name            object\n",
       "Sex             object\n",
       "Age            float64\n",
       "SibSp            int64\n",
       "Parch            int64\n",
       "Ticket          object\n",
       "Fare           float64\n",
       "Cabin           object\n",
       "Embarked        object\n",
       "dtype: object"
      ]
     },
     "execution_count": 302,
     "metadata": {},
     "output_type": "execute_result"
    }
   ],
   "source": [
    "# 컬럼별 데이터 형태\n",
    "titanicDF.dtypes"
   ]
  },
  {
   "cell_type": "code",
   "execution_count": 303,
   "id": "024ed64a",
   "metadata": {},
   "outputs": [
    {
     "data": {
      "text/plain": [
       "PassengerId      0\n",
       "Survived         0\n",
       "Pclass           0\n",
       "Name             0\n",
       "Sex              0\n",
       "Age            177\n",
       "SibSp            0\n",
       "Parch            0\n",
       "Ticket           0\n",
       "Fare             0\n",
       "Cabin          687\n",
       "Embarked         2\n",
       "dtype: int64"
      ]
     },
     "execution_count": 303,
     "metadata": {},
     "output_type": "execute_result"
    }
   ],
   "source": [
    "# 컬럼별 결측치 확인\n",
    "titanicDF.isna().sum()"
   ]
  },
  {
   "cell_type": "markdown",
   "id": "75279eb0",
   "metadata": {},
   "source": [
    "### Survived\n",
    "- 생존 / 사망으로 구분한 것 같음.\n",
    "- 0 -> 사망, 1 -> 생존 으로 구분.\n",
    "- category로 형변환  =>  금일 수업 origin 컬럼 처리 했던 것 참고 "
   ]
  },
  {
   "cell_type": "code",
   "execution_count": 304,
   "id": "dd722910",
   "metadata": {
    "scrolled": true
   },
   "outputs": [
    {
     "name": "stdout",
     "output_type": "stream",
     "text": [
      "set : {0, 1}\n",
      "unique : [0 1]\n"
     ]
    }
   ],
   "source": [
    "# 2가지 밖에 값이 없음 (set, unique로 확인)\n",
    "print(f\"set : {set(titanicDF['Survived'])}\\nunique : {titanicDF['Survived'].unique()}\")"
   ]
  },
  {
   "cell_type": "code",
   "execution_count": 305,
   "id": "47b192c9",
   "metadata": {},
   "outputs": [
    {
     "data": {
      "text/plain": [
       "Index(['PassengerId', 'Survived', 'Pclass', 'Name', 'Sex', 'Age', 'SibSp',\n",
       "       'Parch', 'Ticket', 'Fare', 'Cabin', 'Embarked'],\n",
       "      dtype='object')"
      ]
     },
     "execution_count": 305,
     "metadata": {},
     "output_type": "execute_result"
    }
   ],
   "source": [
    "titanicDF.columns"
   ]
  },
  {
   "cell_type": "code",
   "execution_count": 306,
   "id": "1639ed49",
   "metadata": {
    "scrolled": true
   },
   "outputs": [],
   "source": [
    "# survived 컬럼 라벨 데이터 생성(시리즈)\n",
    "survivedLabel = titanicDF['Survived'].replace({0:'사망', 1:'생존'})\n",
    "\n",
    "# i) 시리즈만 생성한 상태로 유지\n",
    "# => 전처리를 한 시리즈들만 모아서 별도의 DF를 만들 예정 (일단 이런 방식으로 진행해보고 피드백 할 것)\n",
    "\n",
    "# ii) DF에 컬럼 추가 \n",
    "# => 여기서는 원본에 추가하지는 않을 것이지만, 추가하는 경우 이런 식으로 추가해야 할 듯\n",
    "# => 추가할 인덱스 번호를 제대로 뽑아내도록 해야 함\n",
    "titanicDF.insert(2, 'Survived_label', survivedLabel)"
   ]
  },
  {
   "cell_type": "code",
   "execution_count": 307,
   "id": "724397db",
   "metadata": {},
   "outputs": [
    {
     "data": {
      "text/html": [
       "<div>\n",
       "<style scoped>\n",
       "    .dataframe tbody tr th:only-of-type {\n",
       "        vertical-align: middle;\n",
       "    }\n",
       "\n",
       "    .dataframe tbody tr th {\n",
       "        vertical-align: top;\n",
       "    }\n",
       "\n",
       "    .dataframe thead th {\n",
       "        text-align: right;\n",
       "    }\n",
       "</style>\n",
       "<table border=\"1\" class=\"dataframe\">\n",
       "  <thead>\n",
       "    <tr style=\"text-align: right;\">\n",
       "      <th></th>\n",
       "      <th>PassengerId</th>\n",
       "      <th>Survived</th>\n",
       "      <th>Survived_label</th>\n",
       "      <th>Pclass</th>\n",
       "      <th>Name</th>\n",
       "      <th>Sex</th>\n",
       "      <th>Age</th>\n",
       "      <th>SibSp</th>\n",
       "      <th>Parch</th>\n",
       "      <th>Ticket</th>\n",
       "      <th>Fare</th>\n",
       "      <th>Cabin</th>\n",
       "      <th>Embarked</th>\n",
       "    </tr>\n",
       "  </thead>\n",
       "  <tbody>\n",
       "    <tr>\n",
       "      <th>0</th>\n",
       "      <td>1</td>\n",
       "      <td>0</td>\n",
       "      <td>사망</td>\n",
       "      <td>3</td>\n",
       "      <td>Braund, Mr. Owen Harris</td>\n",
       "      <td>male</td>\n",
       "      <td>22.0</td>\n",
       "      <td>1</td>\n",
       "      <td>0</td>\n",
       "      <td>A/5 21171</td>\n",
       "      <td>7.2500</td>\n",
       "      <td>NaN</td>\n",
       "      <td>S</td>\n",
       "    </tr>\n",
       "    <tr>\n",
       "      <th>1</th>\n",
       "      <td>2</td>\n",
       "      <td>1</td>\n",
       "      <td>생존</td>\n",
       "      <td>1</td>\n",
       "      <td>Cumings, Mrs. John Bradley (Florence Briggs Th...</td>\n",
       "      <td>female</td>\n",
       "      <td>38.0</td>\n",
       "      <td>1</td>\n",
       "      <td>0</td>\n",
       "      <td>PC 17599</td>\n",
       "      <td>71.2833</td>\n",
       "      <td>C85</td>\n",
       "      <td>C</td>\n",
       "    </tr>\n",
       "    <tr>\n",
       "      <th>2</th>\n",
       "      <td>3</td>\n",
       "      <td>1</td>\n",
       "      <td>생존</td>\n",
       "      <td>3</td>\n",
       "      <td>Heikkinen, Miss. Laina</td>\n",
       "      <td>female</td>\n",
       "      <td>26.0</td>\n",
       "      <td>0</td>\n",
       "      <td>0</td>\n",
       "      <td>STON/O2. 3101282</td>\n",
       "      <td>7.9250</td>\n",
       "      <td>NaN</td>\n",
       "      <td>S</td>\n",
       "    </tr>\n",
       "    <tr>\n",
       "      <th>3</th>\n",
       "      <td>4</td>\n",
       "      <td>1</td>\n",
       "      <td>생존</td>\n",
       "      <td>1</td>\n",
       "      <td>Futrelle, Mrs. Jacques Heath (Lily May Peel)</td>\n",
       "      <td>female</td>\n",
       "      <td>35.0</td>\n",
       "      <td>1</td>\n",
       "      <td>0</td>\n",
       "      <td>113803</td>\n",
       "      <td>53.1000</td>\n",
       "      <td>C123</td>\n",
       "      <td>S</td>\n",
       "    </tr>\n",
       "    <tr>\n",
       "      <th>4</th>\n",
       "      <td>5</td>\n",
       "      <td>0</td>\n",
       "      <td>사망</td>\n",
       "      <td>3</td>\n",
       "      <td>Allen, Mr. William Henry</td>\n",
       "      <td>male</td>\n",
       "      <td>35.0</td>\n",
       "      <td>0</td>\n",
       "      <td>0</td>\n",
       "      <td>373450</td>\n",
       "      <td>8.0500</td>\n",
       "      <td>NaN</td>\n",
       "      <td>S</td>\n",
       "    </tr>\n",
       "    <tr>\n",
       "      <th>...</th>\n",
       "      <td>...</td>\n",
       "      <td>...</td>\n",
       "      <td>...</td>\n",
       "      <td>...</td>\n",
       "      <td>...</td>\n",
       "      <td>...</td>\n",
       "      <td>...</td>\n",
       "      <td>...</td>\n",
       "      <td>...</td>\n",
       "      <td>...</td>\n",
       "      <td>...</td>\n",
       "      <td>...</td>\n",
       "      <td>...</td>\n",
       "    </tr>\n",
       "    <tr>\n",
       "      <th>886</th>\n",
       "      <td>887</td>\n",
       "      <td>0</td>\n",
       "      <td>사망</td>\n",
       "      <td>2</td>\n",
       "      <td>Montvila, Rev. Juozas</td>\n",
       "      <td>male</td>\n",
       "      <td>27.0</td>\n",
       "      <td>0</td>\n",
       "      <td>0</td>\n",
       "      <td>211536</td>\n",
       "      <td>13.0000</td>\n",
       "      <td>NaN</td>\n",
       "      <td>S</td>\n",
       "    </tr>\n",
       "    <tr>\n",
       "      <th>887</th>\n",
       "      <td>888</td>\n",
       "      <td>1</td>\n",
       "      <td>생존</td>\n",
       "      <td>1</td>\n",
       "      <td>Graham, Miss. Margaret Edith</td>\n",
       "      <td>female</td>\n",
       "      <td>19.0</td>\n",
       "      <td>0</td>\n",
       "      <td>0</td>\n",
       "      <td>112053</td>\n",
       "      <td>30.0000</td>\n",
       "      <td>B42</td>\n",
       "      <td>S</td>\n",
       "    </tr>\n",
       "    <tr>\n",
       "      <th>888</th>\n",
       "      <td>889</td>\n",
       "      <td>0</td>\n",
       "      <td>사망</td>\n",
       "      <td>3</td>\n",
       "      <td>Johnston, Miss. Catherine Helen \"Carrie\"</td>\n",
       "      <td>female</td>\n",
       "      <td>NaN</td>\n",
       "      <td>1</td>\n",
       "      <td>2</td>\n",
       "      <td>W./C. 6607</td>\n",
       "      <td>23.4500</td>\n",
       "      <td>NaN</td>\n",
       "      <td>S</td>\n",
       "    </tr>\n",
       "    <tr>\n",
       "      <th>889</th>\n",
       "      <td>890</td>\n",
       "      <td>1</td>\n",
       "      <td>생존</td>\n",
       "      <td>1</td>\n",
       "      <td>Behr, Mr. Karl Howell</td>\n",
       "      <td>male</td>\n",
       "      <td>26.0</td>\n",
       "      <td>0</td>\n",
       "      <td>0</td>\n",
       "      <td>111369</td>\n",
       "      <td>30.0000</td>\n",
       "      <td>C148</td>\n",
       "      <td>C</td>\n",
       "    </tr>\n",
       "    <tr>\n",
       "      <th>890</th>\n",
       "      <td>891</td>\n",
       "      <td>0</td>\n",
       "      <td>사망</td>\n",
       "      <td>3</td>\n",
       "      <td>Dooley, Mr. Patrick</td>\n",
       "      <td>male</td>\n",
       "      <td>32.0</td>\n",
       "      <td>0</td>\n",
       "      <td>0</td>\n",
       "      <td>370376</td>\n",
       "      <td>7.7500</td>\n",
       "      <td>NaN</td>\n",
       "      <td>Q</td>\n",
       "    </tr>\n",
       "  </tbody>\n",
       "</table>\n",
       "<p>891 rows × 13 columns</p>\n",
       "</div>"
      ],
      "text/plain": [
       "     PassengerId  Survived Survived_label  Pclass  \\\n",
       "0              1         0             사망       3   \n",
       "1              2         1             생존       1   \n",
       "2              3         1             생존       3   \n",
       "3              4         1             생존       1   \n",
       "4              5         0             사망       3   \n",
       "..           ...       ...            ...     ...   \n",
       "886          887         0             사망       2   \n",
       "887          888         1             생존       1   \n",
       "888          889         0             사망       3   \n",
       "889          890         1             생존       1   \n",
       "890          891         0             사망       3   \n",
       "\n",
       "                                                  Name     Sex   Age  SibSp  \\\n",
       "0                              Braund, Mr. Owen Harris    male  22.0      1   \n",
       "1    Cumings, Mrs. John Bradley (Florence Briggs Th...  female  38.0      1   \n",
       "2                               Heikkinen, Miss. Laina  female  26.0      0   \n",
       "3         Futrelle, Mrs. Jacques Heath (Lily May Peel)  female  35.0      1   \n",
       "4                             Allen, Mr. William Henry    male  35.0      0   \n",
       "..                                                 ...     ...   ...    ...   \n",
       "886                              Montvila, Rev. Juozas    male  27.0      0   \n",
       "887                       Graham, Miss. Margaret Edith  female  19.0      0   \n",
       "888           Johnston, Miss. Catherine Helen \"Carrie\"  female   NaN      1   \n",
       "889                              Behr, Mr. Karl Howell    male  26.0      0   \n",
       "890                                Dooley, Mr. Patrick    male  32.0      0   \n",
       "\n",
       "     Parch            Ticket     Fare Cabin Embarked  \n",
       "0        0         A/5 21171   7.2500   NaN        S  \n",
       "1        0          PC 17599  71.2833   C85        C  \n",
       "2        0  STON/O2. 3101282   7.9250   NaN        S  \n",
       "3        0            113803  53.1000  C123        S  \n",
       "4        0            373450   8.0500   NaN        S  \n",
       "..     ...               ...      ...   ...      ...  \n",
       "886      0            211536  13.0000   NaN        S  \n",
       "887      0            112053  30.0000   B42        S  \n",
       "888      2        W./C. 6607  23.4500   NaN        S  \n",
       "889      0            111369  30.0000  C148        C  \n",
       "890      0            370376   7.7500   NaN        Q  \n",
       "\n",
       "[891 rows x 13 columns]"
      ]
     },
     "execution_count": 307,
     "metadata": {},
     "output_type": "execute_result"
    }
   ],
   "source": [
    "titanicDF"
   ]
  },
  {
   "cell_type": "code",
   "execution_count": 308,
   "id": "14f618a4",
   "metadata": {},
   "outputs": [
    {
     "data": {
      "text/plain": [
       "PassengerId          int64\n",
       "Survived          category\n",
       "Survived_label    category\n",
       "Pclass               int64\n",
       "Name                object\n",
       "Sex                 object\n",
       "Age                float64\n",
       "SibSp                int64\n",
       "Parch                int64\n",
       "Ticket              object\n",
       "Fare               float64\n",
       "Cabin               object\n",
       "Embarked            object\n",
       "dtype: object"
      ]
     },
     "execution_count": 308,
     "metadata": {},
     "output_type": "execute_result"
    }
   ],
   "source": [
    "# 해당 컬럼 category로 형변환\n",
    "titanicDF[['Survived','Survived_label']] = titanicDF[['Survived','Survived_label']].astype('category')\n",
    "\n",
    "# 데이터 타입 수정 여부 확인\n",
    "titanicDF.dtypes"
   ]
  },
  {
   "cell_type": "markdown",
   "id": "e157308e",
   "metadata": {},
   "source": [
    "### Pclass"
   ]
  },
  {
   "cell_type": "code",
   "execution_count": 309,
   "id": "65cf2545",
   "metadata": {},
   "outputs": [],
   "source": [
    "# 승객 등급을 나누는 것이므로 category로 해 주도록 하자 (1,2,3이 있으니까)\n",
    "# 하지만, 등급이 어떤 식으로 나누어져 있는지 알 수 없으니 일단 '가,나,다'로 해 놓기로 함 => 수정만 하면 되게끔\n",
    "# 하지만, 위에서도 살펴봤듯이, 상관관계는 있는 것 같으나, 현재 배운것까지만 한다고 치면,\n",
    "# 어떠한 분석 방법을 쓸 수도 없는 상황이기 때문에, 라벨 생성/DF에 라벨 컬럼 추가/카테고리로 형 변환. 이정도 밖에 할 수 없었음\n",
    "\n",
    "# 현재, '1,2,3으로 적혀있는 카테고리마다 생존여부의 상이한 관계가 있음' 정도까지는 알았기 때문에\n",
    "# 향후, 분석하는 함수를 만든다거나, 통계적 처리를 배워서 적용한다면  =>  어떤 관계가 있는지, 유의미하다고 할 수 있는지 알 수 있을듯"
   ]
  },
  {
   "cell_type": "code",
   "execution_count": 310,
   "id": "3ef16e24",
   "metadata": {},
   "outputs": [
    {
     "data": {
      "text/plain": [
       "array([3, 1, 2], dtype=int64)"
      ]
     },
     "execution_count": 310,
     "metadata": {},
     "output_type": "execute_result"
    }
   ],
   "source": [
    "titanicDF['Pclass'].unique()"
   ]
  },
  {
   "cell_type": "code",
   "execution_count": 311,
   "id": "dd27591f",
   "metadata": {},
   "outputs": [
    {
     "data": {
      "text/plain": [
       "3    491\n",
       "1    216\n",
       "2    184\n",
       "Name: Pclass, dtype: int64"
      ]
     },
     "execution_count": 311,
     "metadata": {},
     "output_type": "execute_result"
    }
   ],
   "source": [
    "titanicDF['Pclass'].value_counts()\n",
    "# 1:2:3 = 가:나:다 => 뭘로 구분해야되징"
   ]
  },
  {
   "cell_type": "code",
   "execution_count": 312,
   "id": "ac06d13a",
   "metadata": {},
   "outputs": [
    {
     "data": {
      "text/plain": [
       "Index(['PassengerId', 'Survived', 'Survived_label', 'Pclass', 'Name', 'Sex',\n",
       "       'Age', 'SibSp', 'Parch', 'Ticket', 'Fare', 'Cabin', 'Embarked'],\n",
       "      dtype='object')"
      ]
     },
     "execution_count": 312,
     "metadata": {},
     "output_type": "execute_result"
    }
   ],
   "source": [
    "titanicDF.columns"
   ]
  },
  {
   "cell_type": "code",
   "execution_count": 313,
   "id": "905ebb6e",
   "metadata": {},
   "outputs": [],
   "source": [
    "# Pclass 컬럼 라벨 데이터 생성\n",
    "pclassLabel = titanicDF['Pclass'].replace({1:'가', 2:'나', 3:'다'})\n",
    "\n",
    "# DF에 컬럼 추가\n",
    "titanicDF.insert(4, 'Pclass_label', pclassLabel)"
   ]
  },
  {
   "cell_type": "code",
   "execution_count": 314,
   "id": "89a7e4af",
   "metadata": {},
   "outputs": [
    {
     "data": {
      "text/plain": [
       "PassengerId          int64\n",
       "Survived          category\n",
       "Survived_label    category\n",
       "Pclass            category\n",
       "Pclass_label      category\n",
       "Name                object\n",
       "Sex                 object\n",
       "Age                float64\n",
       "SibSp                int64\n",
       "Parch                int64\n",
       "Ticket              object\n",
       "Fare               float64\n",
       "Cabin               object\n",
       "Embarked            object\n",
       "dtype: object"
      ]
     },
     "execution_count": 314,
     "metadata": {},
     "output_type": "execute_result"
    }
   ],
   "source": [
    "# 해당 컬럼 category로 형변환\n",
    "titanicDF[['Pclass','Pclass_label']] = titanicDF[['Pclass','Pclass_label']].astype('category')\n",
    "\n",
    "# 데이터 타입 수정 여부 확인\n",
    "titanicDF.dtypes"
   ]
  },
  {
   "cell_type": "markdown",
   "id": "4f999db1",
   "metadata": {},
   "source": [
    "### Sex"
   ]
  },
  {
   "cell_type": "code",
   "execution_count": 315,
   "id": "c6e38993",
   "metadata": {
    "collapsed": true
   },
   "outputs": [
    {
     "data": {
      "text/plain": [
       "PassengerId          int64\n",
       "Survived          category\n",
       "Survived_label    category\n",
       "Pclass            category\n",
       "Pclass_label      category\n",
       "Name                object\n",
       "Sex                 object\n",
       "Age                float64\n",
       "SibSp                int64\n",
       "Parch                int64\n",
       "Ticket              object\n",
       "Fare               float64\n",
       "Cabin               object\n",
       "Embarked            object\n",
       "dtype: object"
      ]
     },
     "execution_count": 315,
     "metadata": {},
     "output_type": "execute_result"
    }
   ],
   "source": [
    "titanicDF.dtypes"
   ]
  },
  {
   "cell_type": "code",
   "execution_count": 316,
   "id": "5265fdf5",
   "metadata": {},
   "outputs": [],
   "source": [
    "# 남/녀만 있으니까 이 또한 카테고리로 바꿔주는 작업만\n",
    "# 굳이 한글로 '남/여'로 바꿔주지 않는다면 할 필요 없을 것임\n",
    "# Object니까 굳이 데이터 형태를 바꿔줄 필요는 없다고 판단함\n",
    "\n",
    "# # sex 컬럼 라벨 데이터 생성\n",
    "# sexLabel = titanicDF['Sex'].replace({'male':'남성', 'female':'여성'})\n",
    "\n",
    "# # DF에 컬럼 추가\n",
    "# titanicDF.insert(2, 'Sex_label', sexLabel)"
   ]
  },
  {
   "cell_type": "code",
   "execution_count": 317,
   "id": "9eb352e5",
   "metadata": {},
   "outputs": [],
   "source": [
    "# titanicDF.info()로도 봤듯이 결측치는 없음\n",
    "# 추가적으로 결측치 확인시\n",
    "# titanicDF['Sex'].isna().sum()\n",
    "# titanicDF['Sex'].isnull().sum()"
   ]
  },
  {
   "cell_type": "markdown",
   "id": "803ee5cb",
   "metadata": {},
   "source": [
    "### Age"
   ]
  },
  {
   "cell_type": "code",
   "execution_count": 318,
   "id": "b719647b",
   "metadata": {},
   "outputs": [],
   "source": [
    "# 처음엔, 숫자로된 '나이'로 생각하기보다는 나이의 '숫자'에 매몰되어서 => '연산'을 먼저 생각해서\n",
    "# 해당 컬럼의 활용에 대해 '나이를 '정수'로만 바꾸려는 생각을 했었기 때문에 행한 전처리가 있었음\n",
    "\n",
    "# 하지만, 해당 컬럼의 '나이/연령대'와 '생존여부'를 연관지어볼 때, 숫자의 연산보다는 '연령대의 생존여부'에 대해\n",
    "# 파악하는 게 맞다고 느낌"
   ]
  },
  {
   "cell_type": "code",
   "execution_count": 319,
   "id": "13e75020",
   "metadata": {
    "scrolled": true
   },
   "outputs": [
    {
     "data": {
      "text/plain": [
       "dtype('float64')"
      ]
     },
     "execution_count": 319,
     "metadata": {},
     "output_type": "execute_result"
    }
   ],
   "source": [
    "titanicDF['Age'].dtype"
   ]
  },
  {
   "cell_type": "code",
   "execution_count": 320,
   "id": "a4a26fa9",
   "metadata": {},
   "outputs": [
    {
     "data": {
      "text/plain": [
       "177"
      ]
     },
     "execution_count": 320,
     "metadata": {},
     "output_type": "execute_result"
    }
   ],
   "source": [
    "titanicDF['Age'].isna().sum()\n",
    "# titanicDF['Age'].isnull().sum()"
   ]
  },
  {
   "cell_type": "markdown",
   "id": "12115e85",
   "metadata": {},
   "source": [
    "###### Age i) 나이의  '숫자'"
   ]
  },
  {
   "cell_type": "code",
   "execution_count": 321,
   "id": "fac69451",
   "metadata": {},
   "outputs": [],
   "source": [
    "# titanicDF['Age'].unique()\n",
    "# NaN 값도 있고, 나이임에도 불구 소수로 된 것도 있음"
   ]
  },
  {
   "cell_type": "code",
   "execution_count": 322,
   "id": "a9abaa6c",
   "metadata": {},
   "outputs": [],
   "source": [
    "# i) NaN 값은 평균으로 채우고, 소수는 소수점을 처리해서 정수로 바꾼 값을 채우고 싶었음\n",
    "# ii) 아니면 소수점은 그대로 두고, NaN값만 평균으로 처리해주는 것으로"
   ]
  },
  {
   "cell_type": "code",
   "execution_count": 323,
   "id": "42f89178",
   "metadata": {},
   "outputs": [
    {
     "data": {
      "text/plain": [
       "array([22.  , 38.  , 26.  , 35.  ,   nan, 54.  ,  2.  , 27.  , 14.  ,\n",
       "        4.  , 58.  , 20.  , 39.  , 55.  , 31.  , 34.  , 15.  , 28.  ,\n",
       "        8.  , 19.  , 40.  , 66.  , 42.  , 21.  , 18.  ,  3.  ,  7.  ,\n",
       "       49.  , 29.  , 65.  , 28.5 ,  5.  , 11.  , 45.  , 17.  , 32.  ,\n",
       "       16.  , 25.  ,  0.83, 30.  , 33.  , 23.  , 24.  , 46.  , 59.  ,\n",
       "       71.  , 37.  , 47.  , 14.5 , 70.5 , 32.5 , 12.  ,  9.  , 36.5 ,\n",
       "       51.  , 55.5 , 40.5 , 44.  ,  1.  , 61.  , 56.  , 50.  , 36.  ,\n",
       "       45.5 , 20.5 , 62.  , 41.  , 52.  , 63.  , 23.5 ,  0.92, 43.  ,\n",
       "       60.  , 10.  , 64.  , 13.  , 48.  ,  0.75, 53.  , 57.  , 80.  ,\n",
       "       70.  , 24.5 ,  6.  ,  0.67, 30.5 ,  0.42, 34.5 , 74.  ])"
      ]
     },
     "execution_count": 323,
     "metadata": {},
     "output_type": "execute_result"
    }
   ],
   "source": [
    "# Age 컬럼에 대한 데이터 값 확인\n",
    "titanicDF['Age'].unique()"
   ]
  },
  {
   "cell_type": "code",
   "execution_count": 324,
   "id": "942d2a10",
   "metadata": {},
   "outputs": [],
   "source": [
    "# Age의 평균값으로 NaN을 채워주기 위해 \n",
    "# ageMean = titanicDF['Age'].mean()\n",
    "# ageMean\n",
    "# titanicDF['Age'] = titanicDF['Age'].fillna(value = ageMean)"
   ]
  },
  {
   "cell_type": "code",
   "execution_count": 325,
   "id": "2efc8bdb",
   "metadata": {},
   "outputs": [],
   "source": [
    "# 단, 주의!! 다른 컬럼과의 관계가 있을 수 있으므로(Survived 컬럼과 성별 컬럼의 값에 따라 나이의 평균값이 다를 수도 있다는 것)"
   ]
  },
  {
   "cell_type": "code",
   "execution_count": 326,
   "id": "eb2b78b0",
   "metadata": {},
   "outputs": [
    {
     "data": {
      "text/plain": [
       "0    549\n",
       "1    342\n",
       "Name: Survived, dtype: int64"
      ]
     },
     "execution_count": 326,
     "metadata": {},
     "output_type": "execute_result"
    }
   ],
   "source": [
    "# 비율이 딱 5:5로 나뉘어 지는 것도 아니고\n",
    "titanicDF['Survived'].value_counts()"
   ]
  },
  {
   "cell_type": "code",
   "execution_count": 327,
   "id": "ac11b02c",
   "metadata": {},
   "outputs": [
    {
     "data": {
      "text/plain": [
       "male      577\n",
       "female    314\n",
       "Name: Sex, dtype: int64"
      ]
     },
     "execution_count": 327,
     "metadata": {},
     "output_type": "execute_result"
    }
   ],
   "source": [
    "# 남자가 더 많음\n",
    "titanicDF['Sex'].value_counts()"
   ]
  },
  {
   "cell_type": "code",
   "execution_count": 328,
   "id": "3fde48ca",
   "metadata": {},
   "outputs": [
    {
     "name": "stdout",
     "output_type": "stream",
     "text": [
      "----- 그룹화o : Survived  Sex   \n",
      "0         female    25.046875\n",
      "          male      31.618056\n",
      "1         female    28.847716\n",
      "          male      27.276022\n",
      "Name: Age, dtype: float64---\n",
      "\n",
      "----- 그룹화x : 29.69911764705882\n"
     ]
    }
   ],
   "source": [
    "# 따라서, Survived와 성별에 따라 그룹화(groupby) -> 그 그룹별로 평균값을 찾아야 함\n",
    "print(f\"----- 그룹화o : {titanicDF.groupby(['Survived','Sex']).Age.mean()}---\",\n",
    "      f\"----- 그룹화x : {titanicDF.Age.mean()}\", sep='\\n\\n')"
   ]
  },
  {
   "cell_type": "code",
   "execution_count": 329,
   "id": "32116a11",
   "metadata": {},
   "outputs": [],
   "source": [
    "# 그룹별 평균을 결측치로 채워 넣으면서 새로운 시리즈를 만들어서 => Age_02 컬럼을 추가\n",
    "Age_02 = titanicDF.groupby(['Survived','Sex']).Age.transform(lambda g: g.fillna(g.mean()))"
   ]
  },
  {
   "cell_type": "code",
   "execution_count": 330,
   "id": "b39541e3",
   "metadata": {},
   "outputs": [
    {
     "data": {
      "text/plain": [
       "0      22.000000\n",
       "1      38.000000\n",
       "2      26.000000\n",
       "3      35.000000\n",
       "4      35.000000\n",
       "         ...    \n",
       "886    27.000000\n",
       "887    19.000000\n",
       "888    25.046875\n",
       "889    26.000000\n",
       "890    32.000000\n",
       "Name: Age, Length: 891, dtype: float64"
      ]
     },
     "execution_count": 330,
     "metadata": {},
     "output_type": "execute_result"
    }
   ],
   "source": [
    "Age_02"
   ]
  },
  {
   "cell_type": "code",
   "execution_count": 331,
   "id": "7ea5ae1c",
   "metadata": {},
   "outputs": [],
   "source": [
    "# 정수로 만들어 주기\n",
    "# titanicDF['Age'] = titanicDF['Age'].astype('int64')"
   ]
  },
  {
   "cell_type": "code",
   "execution_count": 332,
   "id": "d998000e",
   "metadata": {},
   "outputs": [
    {
     "data": {
      "text/plain": [
       "177"
      ]
     },
     "execution_count": 332,
     "metadata": {},
     "output_type": "execute_result"
    }
   ],
   "source": [
    "# 결측치 개수 확인\n",
    "titanicDF['Age'].isna().sum()"
   ]
  },
  {
   "cell_type": "code",
   "execution_count": 333,
   "id": "f21f140e",
   "metadata": {},
   "outputs": [
    {
     "data": {
      "text/plain": [
       "array([22.  , 38.  , 26.  , 35.  ,   nan, 54.  ,  2.  , 27.  , 14.  ,\n",
       "        4.  , 58.  , 20.  , 39.  , 55.  , 31.  , 34.  , 15.  , 28.  ,\n",
       "        8.  , 19.  , 40.  , 66.  , 42.  , 21.  , 18.  ,  3.  ,  7.  ,\n",
       "       49.  , 29.  , 65.  , 28.5 ,  5.  , 11.  , 45.  , 17.  , 32.  ,\n",
       "       16.  , 25.  ,  0.83, 30.  , 33.  , 23.  , 24.  , 46.  , 59.  ,\n",
       "       71.  , 37.  , 47.  , 14.5 , 70.5 , 32.5 , 12.  ,  9.  , 36.5 ,\n",
       "       51.  , 55.5 , 40.5 , 44.  ,  1.  , 61.  , 56.  , 50.  , 36.  ,\n",
       "       45.5 , 20.5 , 62.  , 41.  , 52.  , 63.  , 23.5 ,  0.92, 43.  ,\n",
       "       60.  , 10.  , 64.  , 13.  , 48.  ,  0.75, 53.  , 57.  , 80.  ,\n",
       "       70.  , 24.5 ,  6.  ,  0.67, 30.5 ,  0.42, 34.5 , 74.  ])"
      ]
     },
     "execution_count": 333,
     "metadata": {},
     "output_type": "execute_result"
    }
   ],
   "source": [
    "# Age 컬럼에 대한 데이터 값 확인\n",
    "titanicDF['Age'].unique()"
   ]
  },
  {
   "cell_type": "code",
   "execution_count": 334,
   "id": "8165fbc2",
   "metadata": {},
   "outputs": [],
   "source": [
    "# 어떤 값으로 해당 결측치를 채울 것인가\n",
    "# i) 평균값을 누락값을 채운다\n",
    "# 단, 주의!! 다른 컬럼과의 관계가 있을 수 있으므로(Survived 컬럼과 성별 컬럼의 값에 따라 나이의 평균값이 다를 수도 있다는 것)\n",
    "# "
   ]
  },
  {
   "cell_type": "code",
   "execution_count": 335,
   "id": "0fd898fe",
   "metadata": {},
   "outputs": [
    {
     "data": {
      "text/plain": [
       "0    549\n",
       "1    342\n",
       "Name: Survived, dtype: int64"
      ]
     },
     "execution_count": 335,
     "metadata": {},
     "output_type": "execute_result"
    }
   ],
   "source": [
    "# 비율이 딱 5:5로 나뉘어 지는 것도 아니고\n",
    "titanicDF['Survived'].value_counts()"
   ]
  },
  {
   "cell_type": "code",
   "execution_count": 336,
   "id": "a4f4fafd",
   "metadata": {},
   "outputs": [
    {
     "data": {
      "text/plain": [
       "male      577\n",
       "female    314\n",
       "Name: Sex, dtype: int64"
      ]
     },
     "execution_count": 336,
     "metadata": {},
     "output_type": "execute_result"
    }
   ],
   "source": [
    "# 남자가 더 많음\n",
    "titanicDF['Sex'].value_counts()"
   ]
  },
  {
   "cell_type": "code",
   "execution_count": 337,
   "id": "6b2865c7",
   "metadata": {
    "scrolled": true
   },
   "outputs": [
    {
     "name": "stdout",
     "output_type": "stream",
     "text": [
      "----- 그룹화o : Survived  Sex   \n",
      "0         female    25.046875\n",
      "          male      31.618056\n",
      "1         female    28.847716\n",
      "          male      27.276022\n",
      "Name: Age, dtype: float64---\n",
      "\n",
      "----- 그룹화x : 29.69911764705882\n"
     ]
    }
   ],
   "source": [
    "# 따라서, Survived와 성별에 따라 그룹화(groupby) -> 그 그룹별로 평균값을 찾아야 함\n",
    "print(f\"----- 그룹화o : {titanicDF.groupby(['Survived','Sex']).Age.mean()}---\",\n",
    "      f\"----- 그룹화x : {titanicDF.Age.mean()}\", sep='\\n\\n')"
   ]
  },
  {
   "cell_type": "code",
   "execution_count": 338,
   "id": "a558c03c",
   "metadata": {},
   "outputs": [],
   "source": [
    "# 그룹별 평균을 결측치로 채워 넣으면서 새로운 시리즈를 만들어서 => Age_02 컬럼을 추가\n",
    "Age_02 = titanicDF.groupby(['Survived','Sex']).Age.transform(lambda g: g.fillna(g.mean()))"
   ]
  },
  {
   "cell_type": "code",
   "execution_count": 339,
   "id": "e46a9d0b",
   "metadata": {},
   "outputs": [
    {
     "data": {
      "text/plain": [
       "0      22.000000\n",
       "1      38.000000\n",
       "2      26.000000\n",
       "3      35.000000\n",
       "4      35.000000\n",
       "         ...    \n",
       "886    27.000000\n",
       "887    19.000000\n",
       "888    25.046875\n",
       "889    26.000000\n",
       "890    32.000000\n",
       "Name: Age, Length: 891, dtype: float64"
      ]
     },
     "execution_count": 339,
     "metadata": {},
     "output_type": "execute_result"
    }
   ],
   "source": [
    "Age_02"
   ]
  },
  {
   "cell_type": "code",
   "execution_count": 340,
   "id": "7ec7e23c",
   "metadata": {},
   "outputs": [],
   "source": [
    "# 넣을 컬럼 인덱스 확인\n",
    "titanicDF.columns[7]\n",
    "\n",
    "# DF에 컬럼 추가\n",
    "titanicDF.insert(8, 'Age_02', Age_02)\n",
    "# => 이미 만들어줬기 때문에 오류 생겨서 주석 걸고"
   ]
  },
  {
   "cell_type": "code",
   "execution_count": 341,
   "id": "4e723af4",
   "metadata": {
    "collapsed": true
   },
   "outputs": [
    {
     "data": {
      "text/html": [
       "<div>\n",
       "<style scoped>\n",
       "    .dataframe tbody tr th:only-of-type {\n",
       "        vertical-align: middle;\n",
       "    }\n",
       "\n",
       "    .dataframe tbody tr th {\n",
       "        vertical-align: top;\n",
       "    }\n",
       "\n",
       "    .dataframe thead th {\n",
       "        text-align: right;\n",
       "    }\n",
       "</style>\n",
       "<table border=\"1\" class=\"dataframe\">\n",
       "  <thead>\n",
       "    <tr style=\"text-align: right;\">\n",
       "      <th></th>\n",
       "      <th>PassengerId</th>\n",
       "      <th>Survived</th>\n",
       "      <th>Survived_label</th>\n",
       "      <th>Pclass</th>\n",
       "      <th>Pclass_label</th>\n",
       "      <th>Name</th>\n",
       "      <th>Sex</th>\n",
       "      <th>Age</th>\n",
       "      <th>Age_02</th>\n",
       "      <th>SibSp</th>\n",
       "      <th>Parch</th>\n",
       "      <th>Ticket</th>\n",
       "      <th>Fare</th>\n",
       "      <th>Cabin</th>\n",
       "      <th>Embarked</th>\n",
       "    </tr>\n",
       "  </thead>\n",
       "  <tbody>\n",
       "    <tr>\n",
       "      <th>0</th>\n",
       "      <td>1</td>\n",
       "      <td>0</td>\n",
       "      <td>사망</td>\n",
       "      <td>3</td>\n",
       "      <td>다</td>\n",
       "      <td>Braund, Mr. Owen Harris</td>\n",
       "      <td>male</td>\n",
       "      <td>22.0</td>\n",
       "      <td>22.000000</td>\n",
       "      <td>1</td>\n",
       "      <td>0</td>\n",
       "      <td>A/5 21171</td>\n",
       "      <td>7.2500</td>\n",
       "      <td>NaN</td>\n",
       "      <td>S</td>\n",
       "    </tr>\n",
       "    <tr>\n",
       "      <th>1</th>\n",
       "      <td>2</td>\n",
       "      <td>1</td>\n",
       "      <td>생존</td>\n",
       "      <td>1</td>\n",
       "      <td>가</td>\n",
       "      <td>Cumings, Mrs. John Bradley (Florence Briggs Th...</td>\n",
       "      <td>female</td>\n",
       "      <td>38.0</td>\n",
       "      <td>38.000000</td>\n",
       "      <td>1</td>\n",
       "      <td>0</td>\n",
       "      <td>PC 17599</td>\n",
       "      <td>71.2833</td>\n",
       "      <td>C85</td>\n",
       "      <td>C</td>\n",
       "    </tr>\n",
       "    <tr>\n",
       "      <th>2</th>\n",
       "      <td>3</td>\n",
       "      <td>1</td>\n",
       "      <td>생존</td>\n",
       "      <td>3</td>\n",
       "      <td>다</td>\n",
       "      <td>Heikkinen, Miss. Laina</td>\n",
       "      <td>female</td>\n",
       "      <td>26.0</td>\n",
       "      <td>26.000000</td>\n",
       "      <td>0</td>\n",
       "      <td>0</td>\n",
       "      <td>STON/O2. 3101282</td>\n",
       "      <td>7.9250</td>\n",
       "      <td>NaN</td>\n",
       "      <td>S</td>\n",
       "    </tr>\n",
       "    <tr>\n",
       "      <th>3</th>\n",
       "      <td>4</td>\n",
       "      <td>1</td>\n",
       "      <td>생존</td>\n",
       "      <td>1</td>\n",
       "      <td>가</td>\n",
       "      <td>Futrelle, Mrs. Jacques Heath (Lily May Peel)</td>\n",
       "      <td>female</td>\n",
       "      <td>35.0</td>\n",
       "      <td>35.000000</td>\n",
       "      <td>1</td>\n",
       "      <td>0</td>\n",
       "      <td>113803</td>\n",
       "      <td>53.1000</td>\n",
       "      <td>C123</td>\n",
       "      <td>S</td>\n",
       "    </tr>\n",
       "    <tr>\n",
       "      <th>4</th>\n",
       "      <td>5</td>\n",
       "      <td>0</td>\n",
       "      <td>사망</td>\n",
       "      <td>3</td>\n",
       "      <td>다</td>\n",
       "      <td>Allen, Mr. William Henry</td>\n",
       "      <td>male</td>\n",
       "      <td>35.0</td>\n",
       "      <td>35.000000</td>\n",
       "      <td>0</td>\n",
       "      <td>0</td>\n",
       "      <td>373450</td>\n",
       "      <td>8.0500</td>\n",
       "      <td>NaN</td>\n",
       "      <td>S</td>\n",
       "    </tr>\n",
       "    <tr>\n",
       "      <th>...</th>\n",
       "      <td>...</td>\n",
       "      <td>...</td>\n",
       "      <td>...</td>\n",
       "      <td>...</td>\n",
       "      <td>...</td>\n",
       "      <td>...</td>\n",
       "      <td>...</td>\n",
       "      <td>...</td>\n",
       "      <td>...</td>\n",
       "      <td>...</td>\n",
       "      <td>...</td>\n",
       "      <td>...</td>\n",
       "      <td>...</td>\n",
       "      <td>...</td>\n",
       "      <td>...</td>\n",
       "    </tr>\n",
       "    <tr>\n",
       "      <th>886</th>\n",
       "      <td>887</td>\n",
       "      <td>0</td>\n",
       "      <td>사망</td>\n",
       "      <td>2</td>\n",
       "      <td>나</td>\n",
       "      <td>Montvila, Rev. Juozas</td>\n",
       "      <td>male</td>\n",
       "      <td>27.0</td>\n",
       "      <td>27.000000</td>\n",
       "      <td>0</td>\n",
       "      <td>0</td>\n",
       "      <td>211536</td>\n",
       "      <td>13.0000</td>\n",
       "      <td>NaN</td>\n",
       "      <td>S</td>\n",
       "    </tr>\n",
       "    <tr>\n",
       "      <th>887</th>\n",
       "      <td>888</td>\n",
       "      <td>1</td>\n",
       "      <td>생존</td>\n",
       "      <td>1</td>\n",
       "      <td>가</td>\n",
       "      <td>Graham, Miss. Margaret Edith</td>\n",
       "      <td>female</td>\n",
       "      <td>19.0</td>\n",
       "      <td>19.000000</td>\n",
       "      <td>0</td>\n",
       "      <td>0</td>\n",
       "      <td>112053</td>\n",
       "      <td>30.0000</td>\n",
       "      <td>B42</td>\n",
       "      <td>S</td>\n",
       "    </tr>\n",
       "    <tr>\n",
       "      <th>888</th>\n",
       "      <td>889</td>\n",
       "      <td>0</td>\n",
       "      <td>사망</td>\n",
       "      <td>3</td>\n",
       "      <td>다</td>\n",
       "      <td>Johnston, Miss. Catherine Helen \"Carrie\"</td>\n",
       "      <td>female</td>\n",
       "      <td>NaN</td>\n",
       "      <td>25.046875</td>\n",
       "      <td>1</td>\n",
       "      <td>2</td>\n",
       "      <td>W./C. 6607</td>\n",
       "      <td>23.4500</td>\n",
       "      <td>NaN</td>\n",
       "      <td>S</td>\n",
       "    </tr>\n",
       "    <tr>\n",
       "      <th>889</th>\n",
       "      <td>890</td>\n",
       "      <td>1</td>\n",
       "      <td>생존</td>\n",
       "      <td>1</td>\n",
       "      <td>가</td>\n",
       "      <td>Behr, Mr. Karl Howell</td>\n",
       "      <td>male</td>\n",
       "      <td>26.0</td>\n",
       "      <td>26.000000</td>\n",
       "      <td>0</td>\n",
       "      <td>0</td>\n",
       "      <td>111369</td>\n",
       "      <td>30.0000</td>\n",
       "      <td>C148</td>\n",
       "      <td>C</td>\n",
       "    </tr>\n",
       "    <tr>\n",
       "      <th>890</th>\n",
       "      <td>891</td>\n",
       "      <td>0</td>\n",
       "      <td>사망</td>\n",
       "      <td>3</td>\n",
       "      <td>다</td>\n",
       "      <td>Dooley, Mr. Patrick</td>\n",
       "      <td>male</td>\n",
       "      <td>32.0</td>\n",
       "      <td>32.000000</td>\n",
       "      <td>0</td>\n",
       "      <td>0</td>\n",
       "      <td>370376</td>\n",
       "      <td>7.7500</td>\n",
       "      <td>NaN</td>\n",
       "      <td>Q</td>\n",
       "    </tr>\n",
       "  </tbody>\n",
       "</table>\n",
       "<p>891 rows × 15 columns</p>\n",
       "</div>"
      ],
      "text/plain": [
       "     PassengerId Survived Survived_label Pclass Pclass_label  \\\n",
       "0              1        0             사망      3            다   \n",
       "1              2        1             생존      1            가   \n",
       "2              3        1             생존      3            다   \n",
       "3              4        1             생존      1            가   \n",
       "4              5        0             사망      3            다   \n",
       "..           ...      ...            ...    ...          ...   \n",
       "886          887        0             사망      2            나   \n",
       "887          888        1             생존      1            가   \n",
       "888          889        0             사망      3            다   \n",
       "889          890        1             생존      1            가   \n",
       "890          891        0             사망      3            다   \n",
       "\n",
       "                                                  Name     Sex   Age  \\\n",
       "0                              Braund, Mr. Owen Harris    male  22.0   \n",
       "1    Cumings, Mrs. John Bradley (Florence Briggs Th...  female  38.0   \n",
       "2                               Heikkinen, Miss. Laina  female  26.0   \n",
       "3         Futrelle, Mrs. Jacques Heath (Lily May Peel)  female  35.0   \n",
       "4                             Allen, Mr. William Henry    male  35.0   \n",
       "..                                                 ...     ...   ...   \n",
       "886                              Montvila, Rev. Juozas    male  27.0   \n",
       "887                       Graham, Miss. Margaret Edith  female  19.0   \n",
       "888           Johnston, Miss. Catherine Helen \"Carrie\"  female   NaN   \n",
       "889                              Behr, Mr. Karl Howell    male  26.0   \n",
       "890                                Dooley, Mr. Patrick    male  32.0   \n",
       "\n",
       "        Age_02  SibSp  Parch            Ticket     Fare Cabin Embarked  \n",
       "0    22.000000      1      0         A/5 21171   7.2500   NaN        S  \n",
       "1    38.000000      1      0          PC 17599  71.2833   C85        C  \n",
       "2    26.000000      0      0  STON/O2. 3101282   7.9250   NaN        S  \n",
       "3    35.000000      1      0            113803  53.1000  C123        S  \n",
       "4    35.000000      0      0            373450   8.0500   NaN        S  \n",
       "..         ...    ...    ...               ...      ...   ...      ...  \n",
       "886  27.000000      0      0            211536  13.0000   NaN        S  \n",
       "887  19.000000      0      0            112053  30.0000   B42        S  \n",
       "888  25.046875      1      2        W./C. 6607  23.4500   NaN        S  \n",
       "889  26.000000      0      0            111369  30.0000  C148        C  \n",
       "890  32.000000      0      0            370376   7.7500   NaN        Q  \n",
       "\n",
       "[891 rows x 15 columns]"
      ]
     },
     "execution_count": 341,
     "metadata": {},
     "output_type": "execute_result"
    }
   ],
   "source": [
    "# 확인\n",
    "titanicDF"
   ]
  },
  {
   "cell_type": "markdown",
   "id": "f10b04d4",
   "metadata": {},
   "source": [
    "###### Age ii) 숫자의 '나이'"
   ]
  },
  {
   "cell_type": "code",
   "execution_count": 342,
   "id": "d0401115",
   "metadata": {},
   "outputs": [],
   "source": [
    "# Age_02 컬럼 타입 변경\n",
    "# titanicDF['Age_02'].astype['int64']\n",
    "\n",
    "# 일단 실수로도 범위로도 범주형 category로 변환 가능한지 확인"
   ]
  },
  {
   "cell_type": "code",
   "execution_count": 343,
   "id": "774bcc41",
   "metadata": {
    "collapsed": true
   },
   "outputs": [
    {
     "data": {
      "text/plain": [
       "0      22.000000\n",
       "1      38.000000\n",
       "2      26.000000\n",
       "3      35.000000\n",
       "4      35.000000\n",
       "         ...    \n",
       "886    27.000000\n",
       "887    19.000000\n",
       "888    25.046875\n",
       "889    26.000000\n",
       "890    32.000000\n",
       "Name: Age_02, Length: 891, dtype: float64"
      ]
     },
     "execution_count": 343,
     "metadata": {},
     "output_type": "execute_result"
    }
   ],
   "source": [
    "titanicDF['Age_02']"
   ]
  },
  {
   "cell_type": "code",
   "execution_count": 344,
   "id": "b2c1d0c8",
   "metadata": {},
   "outputs": [
    {
     "data": {
      "text/plain": [
       "dtype('int64')"
      ]
     },
     "execution_count": 344,
     "metadata": {},
     "output_type": "execute_result"
    }
   ],
   "source": [
    "# category로 타입 변환\n",
    "titanicDF['Age_02'] = titanicDF['Age_02'].astype('int64')\n",
    "titanicDF['Age_02'].dtype\n",
    "# titanicDF['Age_02']=pd.to_numeric(titanicDF['Age_02'])\n"
   ]
  },
  {
   "cell_type": "code",
   "execution_count": 350,
   "id": "a16f4f10",
   "metadata": {},
   "outputs": [],
   "source": [
    "# Age_02의 최대값이 80임을 확인\n",
    "titanicDF['Age_02'].max()\n",
    "\n",
    "# Age_02를 범주형으로 나눠보자 \n",
    "titanicDF['Age_02_label'] = pd.cut(x = titanicDF['Age_02'], bins=4,\n",
    "                                  labels = ['~10대','~30대','~50대','50대~'], include_lowest = True)"
   ]
  },
  {
   "cell_type": "code",
   "execution_count": 346,
   "id": "995d7116",
   "metadata": {},
   "outputs": [
    {
     "data": {
      "text/plain": [
       "891"
      ]
     },
     "execution_count": 346,
     "metadata": {},
     "output_type": "execute_result"
    }
   ],
   "source": [
    "# 누락된 사항은 없음을 확인\n",
    "titanicDF['Age_02_label'].value_counts().sum()"
   ]
  },
  {
   "cell_type": "code",
   "execution_count": 347,
   "id": "2e0539de",
   "metadata": {},
   "outputs": [],
   "source": [
    "# 카테고리로 형 변환\n",
    "titanicDF['Age_02_label']=titanicDF['Age_02_label'].astype('category')\n",
    "\n",
    "# 라벨을 별도로 시리즈로 저장\n",
    "Age_02_label = titanicDF['Age_02_label']"
   ]
  },
  {
   "cell_type": "code",
   "execution_count": 354,
   "id": "d7855586",
   "metadata": {},
   "outputs": [],
   "source": [
    "titanicDF = titanicDF.drop('Age_02_label', axis=1)"
   ]
  },
  {
   "cell_type": "code",
   "execution_count": 355,
   "id": "0ba8fcf4",
   "metadata": {},
   "outputs": [],
   "source": [
    "# 라벨을 DF에 삽입\n",
    "titanicDF.insert(9, 'Age_02_label', Age_02_label)"
   ]
  },
  {
   "cell_type": "code",
   "execution_count": 356,
   "id": "77c860bc",
   "metadata": {
    "collapsed": true
   },
   "outputs": [
    {
     "data": {
      "text/html": [
       "<div>\n",
       "<style scoped>\n",
       "    .dataframe tbody tr th:only-of-type {\n",
       "        vertical-align: middle;\n",
       "    }\n",
       "\n",
       "    .dataframe tbody tr th {\n",
       "        vertical-align: top;\n",
       "    }\n",
       "\n",
       "    .dataframe thead th {\n",
       "        text-align: right;\n",
       "    }\n",
       "</style>\n",
       "<table border=\"1\" class=\"dataframe\">\n",
       "  <thead>\n",
       "    <tr style=\"text-align: right;\">\n",
       "      <th></th>\n",
       "      <th>PassengerId</th>\n",
       "      <th>Survived</th>\n",
       "      <th>Survived_label</th>\n",
       "      <th>Pclass</th>\n",
       "      <th>Pclass_label</th>\n",
       "      <th>Name</th>\n",
       "      <th>Sex</th>\n",
       "      <th>Age</th>\n",
       "      <th>Age_02</th>\n",
       "      <th>Age_02_label</th>\n",
       "      <th>SibSp</th>\n",
       "      <th>Parch</th>\n",
       "      <th>Ticket</th>\n",
       "      <th>Fare</th>\n",
       "      <th>Cabin</th>\n",
       "      <th>Embarked</th>\n",
       "    </tr>\n",
       "  </thead>\n",
       "  <tbody>\n",
       "    <tr>\n",
       "      <th>0</th>\n",
       "      <td>1</td>\n",
       "      <td>0</td>\n",
       "      <td>사망</td>\n",
       "      <td>3</td>\n",
       "      <td>다</td>\n",
       "      <td>Braund, Mr. Owen Harris</td>\n",
       "      <td>male</td>\n",
       "      <td>22.0</td>\n",
       "      <td>22</td>\n",
       "      <td>~30대</td>\n",
       "      <td>1</td>\n",
       "      <td>0</td>\n",
       "      <td>A/5 21171</td>\n",
       "      <td>7.2500</td>\n",
       "      <td>NaN</td>\n",
       "      <td>S</td>\n",
       "    </tr>\n",
       "    <tr>\n",
       "      <th>1</th>\n",
       "      <td>2</td>\n",
       "      <td>1</td>\n",
       "      <td>생존</td>\n",
       "      <td>1</td>\n",
       "      <td>가</td>\n",
       "      <td>Cumings, Mrs. John Bradley (Florence Briggs Th...</td>\n",
       "      <td>female</td>\n",
       "      <td>38.0</td>\n",
       "      <td>38</td>\n",
       "      <td>~30대</td>\n",
       "      <td>1</td>\n",
       "      <td>0</td>\n",
       "      <td>PC 17599</td>\n",
       "      <td>71.2833</td>\n",
       "      <td>C85</td>\n",
       "      <td>C</td>\n",
       "    </tr>\n",
       "    <tr>\n",
       "      <th>2</th>\n",
       "      <td>3</td>\n",
       "      <td>1</td>\n",
       "      <td>생존</td>\n",
       "      <td>3</td>\n",
       "      <td>다</td>\n",
       "      <td>Heikkinen, Miss. Laina</td>\n",
       "      <td>female</td>\n",
       "      <td>26.0</td>\n",
       "      <td>26</td>\n",
       "      <td>~30대</td>\n",
       "      <td>0</td>\n",
       "      <td>0</td>\n",
       "      <td>STON/O2. 3101282</td>\n",
       "      <td>7.9250</td>\n",
       "      <td>NaN</td>\n",
       "      <td>S</td>\n",
       "    </tr>\n",
       "    <tr>\n",
       "      <th>3</th>\n",
       "      <td>4</td>\n",
       "      <td>1</td>\n",
       "      <td>생존</td>\n",
       "      <td>1</td>\n",
       "      <td>가</td>\n",
       "      <td>Futrelle, Mrs. Jacques Heath (Lily May Peel)</td>\n",
       "      <td>female</td>\n",
       "      <td>35.0</td>\n",
       "      <td>35</td>\n",
       "      <td>~30대</td>\n",
       "      <td>1</td>\n",
       "      <td>0</td>\n",
       "      <td>113803</td>\n",
       "      <td>53.1000</td>\n",
       "      <td>C123</td>\n",
       "      <td>S</td>\n",
       "    </tr>\n",
       "    <tr>\n",
       "      <th>4</th>\n",
       "      <td>5</td>\n",
       "      <td>0</td>\n",
       "      <td>사망</td>\n",
       "      <td>3</td>\n",
       "      <td>다</td>\n",
       "      <td>Allen, Mr. William Henry</td>\n",
       "      <td>male</td>\n",
       "      <td>35.0</td>\n",
       "      <td>35</td>\n",
       "      <td>~30대</td>\n",
       "      <td>0</td>\n",
       "      <td>0</td>\n",
       "      <td>373450</td>\n",
       "      <td>8.0500</td>\n",
       "      <td>NaN</td>\n",
       "      <td>S</td>\n",
       "    </tr>\n",
       "    <tr>\n",
       "      <th>...</th>\n",
       "      <td>...</td>\n",
       "      <td>...</td>\n",
       "      <td>...</td>\n",
       "      <td>...</td>\n",
       "      <td>...</td>\n",
       "      <td>...</td>\n",
       "      <td>...</td>\n",
       "      <td>...</td>\n",
       "      <td>...</td>\n",
       "      <td>...</td>\n",
       "      <td>...</td>\n",
       "      <td>...</td>\n",
       "      <td>...</td>\n",
       "      <td>...</td>\n",
       "      <td>...</td>\n",
       "      <td>...</td>\n",
       "    </tr>\n",
       "    <tr>\n",
       "      <th>886</th>\n",
       "      <td>887</td>\n",
       "      <td>0</td>\n",
       "      <td>사망</td>\n",
       "      <td>2</td>\n",
       "      <td>나</td>\n",
       "      <td>Montvila, Rev. Juozas</td>\n",
       "      <td>male</td>\n",
       "      <td>27.0</td>\n",
       "      <td>27</td>\n",
       "      <td>~30대</td>\n",
       "      <td>0</td>\n",
       "      <td>0</td>\n",
       "      <td>211536</td>\n",
       "      <td>13.0000</td>\n",
       "      <td>NaN</td>\n",
       "      <td>S</td>\n",
       "    </tr>\n",
       "    <tr>\n",
       "      <th>887</th>\n",
       "      <td>888</td>\n",
       "      <td>1</td>\n",
       "      <td>생존</td>\n",
       "      <td>1</td>\n",
       "      <td>가</td>\n",
       "      <td>Graham, Miss. Margaret Edith</td>\n",
       "      <td>female</td>\n",
       "      <td>19.0</td>\n",
       "      <td>19</td>\n",
       "      <td>~10대</td>\n",
       "      <td>0</td>\n",
       "      <td>0</td>\n",
       "      <td>112053</td>\n",
       "      <td>30.0000</td>\n",
       "      <td>B42</td>\n",
       "      <td>S</td>\n",
       "    </tr>\n",
       "    <tr>\n",
       "      <th>888</th>\n",
       "      <td>889</td>\n",
       "      <td>0</td>\n",
       "      <td>사망</td>\n",
       "      <td>3</td>\n",
       "      <td>다</td>\n",
       "      <td>Johnston, Miss. Catherine Helen \"Carrie\"</td>\n",
       "      <td>female</td>\n",
       "      <td>NaN</td>\n",
       "      <td>25</td>\n",
       "      <td>~30대</td>\n",
       "      <td>1</td>\n",
       "      <td>2</td>\n",
       "      <td>W./C. 6607</td>\n",
       "      <td>23.4500</td>\n",
       "      <td>NaN</td>\n",
       "      <td>S</td>\n",
       "    </tr>\n",
       "    <tr>\n",
       "      <th>889</th>\n",
       "      <td>890</td>\n",
       "      <td>1</td>\n",
       "      <td>생존</td>\n",
       "      <td>1</td>\n",
       "      <td>가</td>\n",
       "      <td>Behr, Mr. Karl Howell</td>\n",
       "      <td>male</td>\n",
       "      <td>26.0</td>\n",
       "      <td>26</td>\n",
       "      <td>~30대</td>\n",
       "      <td>0</td>\n",
       "      <td>0</td>\n",
       "      <td>111369</td>\n",
       "      <td>30.0000</td>\n",
       "      <td>C148</td>\n",
       "      <td>C</td>\n",
       "    </tr>\n",
       "    <tr>\n",
       "      <th>890</th>\n",
       "      <td>891</td>\n",
       "      <td>0</td>\n",
       "      <td>사망</td>\n",
       "      <td>3</td>\n",
       "      <td>다</td>\n",
       "      <td>Dooley, Mr. Patrick</td>\n",
       "      <td>male</td>\n",
       "      <td>32.0</td>\n",
       "      <td>32</td>\n",
       "      <td>~30대</td>\n",
       "      <td>0</td>\n",
       "      <td>0</td>\n",
       "      <td>370376</td>\n",
       "      <td>7.7500</td>\n",
       "      <td>NaN</td>\n",
       "      <td>Q</td>\n",
       "    </tr>\n",
       "  </tbody>\n",
       "</table>\n",
       "<p>891 rows × 16 columns</p>\n",
       "</div>"
      ],
      "text/plain": [
       "     PassengerId Survived Survived_label Pclass Pclass_label  \\\n",
       "0              1        0             사망      3            다   \n",
       "1              2        1             생존      1            가   \n",
       "2              3        1             생존      3            다   \n",
       "3              4        1             생존      1            가   \n",
       "4              5        0             사망      3            다   \n",
       "..           ...      ...            ...    ...          ...   \n",
       "886          887        0             사망      2            나   \n",
       "887          888        1             생존      1            가   \n",
       "888          889        0             사망      3            다   \n",
       "889          890        1             생존      1            가   \n",
       "890          891        0             사망      3            다   \n",
       "\n",
       "                                                  Name     Sex   Age  Age_02  \\\n",
       "0                              Braund, Mr. Owen Harris    male  22.0      22   \n",
       "1    Cumings, Mrs. John Bradley (Florence Briggs Th...  female  38.0      38   \n",
       "2                               Heikkinen, Miss. Laina  female  26.0      26   \n",
       "3         Futrelle, Mrs. Jacques Heath (Lily May Peel)  female  35.0      35   \n",
       "4                             Allen, Mr. William Henry    male  35.0      35   \n",
       "..                                                 ...     ...   ...     ...   \n",
       "886                              Montvila, Rev. Juozas    male  27.0      27   \n",
       "887                       Graham, Miss. Margaret Edith  female  19.0      19   \n",
       "888           Johnston, Miss. Catherine Helen \"Carrie\"  female   NaN      25   \n",
       "889                              Behr, Mr. Karl Howell    male  26.0      26   \n",
       "890                                Dooley, Mr. Patrick    male  32.0      32   \n",
       "\n",
       "    Age_02_label  SibSp  Parch            Ticket     Fare Cabin Embarked  \n",
       "0           ~30대      1      0         A/5 21171   7.2500   NaN        S  \n",
       "1           ~30대      1      0          PC 17599  71.2833   C85        C  \n",
       "2           ~30대      0      0  STON/O2. 3101282   7.9250   NaN        S  \n",
       "3           ~30대      1      0            113803  53.1000  C123        S  \n",
       "4           ~30대      0      0            373450   8.0500   NaN        S  \n",
       "..           ...    ...    ...               ...      ...   ...      ...  \n",
       "886         ~30대      0      0            211536  13.0000   NaN        S  \n",
       "887         ~10대      0      0            112053  30.0000   B42        S  \n",
       "888         ~30대      1      2        W./C. 6607  23.4500   NaN        S  \n",
       "889         ~30대      0      0            111369  30.0000  C148        C  \n",
       "890         ~30대      0      0            370376   7.7500   NaN        Q  \n",
       "\n",
       "[891 rows x 16 columns]"
      ]
     },
     "execution_count": 356,
     "metadata": {},
     "output_type": "execute_result"
    }
   ],
   "source": [
    "titanicDF"
   ]
  },
  {
   "cell_type": "code",
   "execution_count": 359,
   "id": "9036f9bc",
   "metadata": {},
   "outputs": [
    {
     "data": {
      "text/plain": [
       "PassengerId          int64\n",
       "Survived          category\n",
       "Survived_label    category\n",
       "Pclass            category\n",
       "Pclass_label      category\n",
       "Name                object\n",
       "Sex                 object\n",
       "Age                float64\n",
       "Age_02               int64\n",
       "Age_02_label      category\n",
       "SibSp                int64\n",
       "Parch                int64\n",
       "Ticket              object\n",
       "Fare               float64\n",
       "Cabin               object\n",
       "Embarked            object\n",
       "dtype: object"
      ]
     },
     "execution_count": 359,
     "metadata": {},
     "output_type": "execute_result"
    }
   ],
   "source": [
    "titanicDF.dtypes"
   ]
  },
  {
   "cell_type": "code",
   "execution_count": 357,
   "id": "ed519300",
   "metadata": {},
   "outputs": [
    {
     "data": {
      "text/html": [
       "<div>\n",
       "<style scoped>\n",
       "    .dataframe tbody tr th:only-of-type {\n",
       "        vertical-align: middle;\n",
       "    }\n",
       "\n",
       "    .dataframe tbody tr th {\n",
       "        vertical-align: top;\n",
       "    }\n",
       "\n",
       "    .dataframe thead th {\n",
       "        text-align: right;\n",
       "    }\n",
       "</style>\n",
       "<table border=\"1\" class=\"dataframe\">\n",
       "  <thead>\n",
       "    <tr style=\"text-align: right;\">\n",
       "      <th></th>\n",
       "      <th>PassengerId</th>\n",
       "      <th>Age</th>\n",
       "      <th>Age_02</th>\n",
       "      <th>SibSp</th>\n",
       "      <th>Parch</th>\n",
       "      <th>Fare</th>\n",
       "    </tr>\n",
       "  </thead>\n",
       "  <tbody>\n",
       "    <tr>\n",
       "      <th>PassengerId</th>\n",
       "      <td>1.000000</td>\n",
       "      <td>0.036847</td>\n",
       "      <td>0.035524</td>\n",
       "      <td>-0.057527</td>\n",
       "      <td>-0.001652</td>\n",
       "      <td>0.012658</td>\n",
       "    </tr>\n",
       "    <tr>\n",
       "      <th>Age</th>\n",
       "      <td>0.036847</td>\n",
       "      <td>1.000000</td>\n",
       "      <td>0.999973</td>\n",
       "      <td>-0.308247</td>\n",
       "      <td>-0.189119</td>\n",
       "      <td>0.096067</td>\n",
       "    </tr>\n",
       "    <tr>\n",
       "      <th>Age_02</th>\n",
       "      <td>0.035524</td>\n",
       "      <td>0.999973</td>\n",
       "      <td>1.000000</td>\n",
       "      <td>-0.241480</td>\n",
       "      <td>-0.184507</td>\n",
       "      <td>0.089988</td>\n",
       "    </tr>\n",
       "    <tr>\n",
       "      <th>SibSp</th>\n",
       "      <td>-0.057527</td>\n",
       "      <td>-0.308247</td>\n",
       "      <td>-0.241480</td>\n",
       "      <td>1.000000</td>\n",
       "      <td>0.414838</td>\n",
       "      <td>0.159651</td>\n",
       "    </tr>\n",
       "    <tr>\n",
       "      <th>Parch</th>\n",
       "      <td>-0.001652</td>\n",
       "      <td>-0.189119</td>\n",
       "      <td>-0.184507</td>\n",
       "      <td>0.414838</td>\n",
       "      <td>1.000000</td>\n",
       "      <td>0.216225</td>\n",
       "    </tr>\n",
       "    <tr>\n",
       "      <th>Fare</th>\n",
       "      <td>0.012658</td>\n",
       "      <td>0.096067</td>\n",
       "      <td>0.089988</td>\n",
       "      <td>0.159651</td>\n",
       "      <td>0.216225</td>\n",
       "      <td>1.000000</td>\n",
       "    </tr>\n",
       "  </tbody>\n",
       "</table>\n",
       "</div>"
      ],
      "text/plain": [
       "             PassengerId       Age    Age_02     SibSp     Parch      Fare\n",
       "PassengerId     1.000000  0.036847  0.035524 -0.057527 -0.001652  0.012658\n",
       "Age             0.036847  1.000000  0.999973 -0.308247 -0.189119  0.096067\n",
       "Age_02          0.035524  0.999973  1.000000 -0.241480 -0.184507  0.089988\n",
       "SibSp          -0.057527 -0.308247 -0.241480  1.000000  0.414838  0.159651\n",
       "Parch          -0.001652 -0.189119 -0.184507  0.414838  1.000000  0.216225\n",
       "Fare            0.012658  0.096067  0.089988  0.159651  0.216225  1.000000"
      ]
     },
     "execution_count": 357,
     "metadata": {},
     "output_type": "execute_result"
    }
   ],
   "source": [
    "titanicDF.corr(method='pearson', min_periods=1)"
   ]
  },
  {
   "cell_type": "markdown",
   "id": "ff071d50",
   "metadata": {},
   "source": [
    "## 4. 데이터 정규화"
   ]
  },
  {
   "cell_type": "code",
   "execution_count": 363,
   "id": "d03ba9cd",
   "metadata": {},
   "outputs": [],
   "source": [
    "# 비교할 컬럼들만 정규화 해보자\n",
    "data1 = titanicDF['Age_02']\n",
    "data2 = titanicDF['SibSp']\n",
    "data3 = titanicDF['Parch']\n",
    "data4 = titanicDF['Fare']"
   ]
  },
  {
   "cell_type": "code",
   "execution_count": 367,
   "id": "8b00f73d",
   "metadata": {},
   "outputs": [],
   "source": [
    "titanicDF['Age_02_P'] = (data1 - data1.mean()) / data1.std()\n",
    "titanicDF['SibSp_P'] = (data2 - data2.mean()) / data2.std()\n",
    "titanicDF['Parch_P'] = (data3 - data3.mean()) / data3.std()\n",
    "titanicDF['Fare_P'] = (data4 - data4.mean()) / data4.std()"
   ]
  },
  {
   "cell_type": "code",
   "execution_count": 368,
   "id": "cac77eda",
   "metadata": {
    "collapsed": true
   },
   "outputs": [
    {
     "data": {
      "text/html": [
       "<div>\n",
       "<style scoped>\n",
       "    .dataframe tbody tr th:only-of-type {\n",
       "        vertical-align: middle;\n",
       "    }\n",
       "\n",
       "    .dataframe tbody tr th {\n",
       "        vertical-align: top;\n",
       "    }\n",
       "\n",
       "    .dataframe thead th {\n",
       "        text-align: right;\n",
       "    }\n",
       "</style>\n",
       "<table border=\"1\" class=\"dataframe\">\n",
       "  <thead>\n",
       "    <tr style=\"text-align: right;\">\n",
       "      <th></th>\n",
       "      <th>PassengerId</th>\n",
       "      <th>Survived</th>\n",
       "      <th>Survived_label</th>\n",
       "      <th>Pclass</th>\n",
       "      <th>Pclass_label</th>\n",
       "      <th>Name</th>\n",
       "      <th>Sex</th>\n",
       "      <th>Age</th>\n",
       "      <th>Age_02</th>\n",
       "      <th>Age_02_label</th>\n",
       "      <th>SibSp</th>\n",
       "      <th>Parch</th>\n",
       "      <th>Ticket</th>\n",
       "      <th>Fare</th>\n",
       "      <th>Cabin</th>\n",
       "      <th>Embarked</th>\n",
       "      <th>Age_02_P</th>\n",
       "      <th>SibSp_P</th>\n",
       "      <th>Parch_P</th>\n",
       "      <th>Fare_P</th>\n",
       "    </tr>\n",
       "  </thead>\n",
       "  <tbody>\n",
       "    <tr>\n",
       "      <th>0</th>\n",
       "      <td>1</td>\n",
       "      <td>0</td>\n",
       "      <td>사망</td>\n",
       "      <td>3</td>\n",
       "      <td>다</td>\n",
       "      <td>Braund, Mr. Owen Harris</td>\n",
       "      <td>male</td>\n",
       "      <td>22.0</td>\n",
       "      <td>22</td>\n",
       "      <td>~30대</td>\n",
       "      <td>1</td>\n",
       "      <td>0</td>\n",
       "      <td>A/5 21171</td>\n",
       "      <td>7.2500</td>\n",
       "      <td>NaN</td>\n",
       "      <td>S</td>\n",
       "      <td>-0.585242</td>\n",
       "      <td>0.432550</td>\n",
       "      <td>-0.473408</td>\n",
       "      <td>-0.502163</td>\n",
       "    </tr>\n",
       "    <tr>\n",
       "      <th>1</th>\n",
       "      <td>2</td>\n",
       "      <td>1</td>\n",
       "      <td>생존</td>\n",
       "      <td>1</td>\n",
       "      <td>가</td>\n",
       "      <td>Cumings, Mrs. John Bradley (Florence Briggs Th...</td>\n",
       "      <td>female</td>\n",
       "      <td>38.0</td>\n",
       "      <td>38</td>\n",
       "      <td>~30대</td>\n",
       "      <td>1</td>\n",
       "      <td>0</td>\n",
       "      <td>PC 17599</td>\n",
       "      <td>71.2833</td>\n",
       "      <td>C85</td>\n",
       "      <td>C</td>\n",
       "      <td>0.641340</td>\n",
       "      <td>0.432550</td>\n",
       "      <td>-0.473408</td>\n",
       "      <td>0.786404</td>\n",
       "    </tr>\n",
       "    <tr>\n",
       "      <th>2</th>\n",
       "      <td>3</td>\n",
       "      <td>1</td>\n",
       "      <td>생존</td>\n",
       "      <td>3</td>\n",
       "      <td>다</td>\n",
       "      <td>Heikkinen, Miss. Laina</td>\n",
       "      <td>female</td>\n",
       "      <td>26.0</td>\n",
       "      <td>26</td>\n",
       "      <td>~30대</td>\n",
       "      <td>0</td>\n",
       "      <td>0</td>\n",
       "      <td>STON/O2. 3101282</td>\n",
       "      <td>7.9250</td>\n",
       "      <td>NaN</td>\n",
       "      <td>S</td>\n",
       "      <td>-0.278597</td>\n",
       "      <td>-0.474279</td>\n",
       "      <td>-0.473408</td>\n",
       "      <td>-0.488580</td>\n",
       "    </tr>\n",
       "    <tr>\n",
       "      <th>3</th>\n",
       "      <td>4</td>\n",
       "      <td>1</td>\n",
       "      <td>생존</td>\n",
       "      <td>1</td>\n",
       "      <td>가</td>\n",
       "      <td>Futrelle, Mrs. Jacques Heath (Lily May Peel)</td>\n",
       "      <td>female</td>\n",
       "      <td>35.0</td>\n",
       "      <td>35</td>\n",
       "      <td>~30대</td>\n",
       "      <td>1</td>\n",
       "      <td>0</td>\n",
       "      <td>113803</td>\n",
       "      <td>53.1000</td>\n",
       "      <td>C123</td>\n",
       "      <td>S</td>\n",
       "      <td>0.411356</td>\n",
       "      <td>0.432550</td>\n",
       "      <td>-0.473408</td>\n",
       "      <td>0.420494</td>\n",
       "    </tr>\n",
       "    <tr>\n",
       "      <th>4</th>\n",
       "      <td>5</td>\n",
       "      <td>0</td>\n",
       "      <td>사망</td>\n",
       "      <td>3</td>\n",
       "      <td>다</td>\n",
       "      <td>Allen, Mr. William Henry</td>\n",
       "      <td>male</td>\n",
       "      <td>35.0</td>\n",
       "      <td>35</td>\n",
       "      <td>~30대</td>\n",
       "      <td>0</td>\n",
       "      <td>0</td>\n",
       "      <td>373450</td>\n",
       "      <td>8.0500</td>\n",
       "      <td>NaN</td>\n",
       "      <td>S</td>\n",
       "      <td>0.411356</td>\n",
       "      <td>-0.474279</td>\n",
       "      <td>-0.473408</td>\n",
       "      <td>-0.486064</td>\n",
       "    </tr>\n",
       "    <tr>\n",
       "      <th>...</th>\n",
       "      <td>...</td>\n",
       "      <td>...</td>\n",
       "      <td>...</td>\n",
       "      <td>...</td>\n",
       "      <td>...</td>\n",
       "      <td>...</td>\n",
       "      <td>...</td>\n",
       "      <td>...</td>\n",
       "      <td>...</td>\n",
       "      <td>...</td>\n",
       "      <td>...</td>\n",
       "      <td>...</td>\n",
       "      <td>...</td>\n",
       "      <td>...</td>\n",
       "      <td>...</td>\n",
       "      <td>...</td>\n",
       "      <td>...</td>\n",
       "      <td>...</td>\n",
       "      <td>...</td>\n",
       "      <td>...</td>\n",
       "    </tr>\n",
       "    <tr>\n",
       "      <th>886</th>\n",
       "      <td>887</td>\n",
       "      <td>0</td>\n",
       "      <td>사망</td>\n",
       "      <td>2</td>\n",
       "      <td>나</td>\n",
       "      <td>Montvila, Rev. Juozas</td>\n",
       "      <td>male</td>\n",
       "      <td>27.0</td>\n",
       "      <td>27</td>\n",
       "      <td>~30대</td>\n",
       "      <td>0</td>\n",
       "      <td>0</td>\n",
       "      <td>211536</td>\n",
       "      <td>13.0000</td>\n",
       "      <td>NaN</td>\n",
       "      <td>S</td>\n",
       "      <td>-0.201935</td>\n",
       "      <td>-0.474279</td>\n",
       "      <td>-0.473408</td>\n",
       "      <td>-0.386454</td>\n",
       "    </tr>\n",
       "    <tr>\n",
       "      <th>887</th>\n",
       "      <td>888</td>\n",
       "      <td>1</td>\n",
       "      <td>생존</td>\n",
       "      <td>1</td>\n",
       "      <td>가</td>\n",
       "      <td>Graham, Miss. Margaret Edith</td>\n",
       "      <td>female</td>\n",
       "      <td>19.0</td>\n",
       "      <td>19</td>\n",
       "      <td>~10대</td>\n",
       "      <td>0</td>\n",
       "      <td>0</td>\n",
       "      <td>112053</td>\n",
       "      <td>30.0000</td>\n",
       "      <td>B42</td>\n",
       "      <td>S</td>\n",
       "      <td>-0.815226</td>\n",
       "      <td>-0.474279</td>\n",
       "      <td>-0.473408</td>\n",
       "      <td>-0.044356</td>\n",
       "    </tr>\n",
       "    <tr>\n",
       "      <th>888</th>\n",
       "      <td>889</td>\n",
       "      <td>0</td>\n",
       "      <td>사망</td>\n",
       "      <td>3</td>\n",
       "      <td>다</td>\n",
       "      <td>Johnston, Miss. Catherine Helen \"Carrie\"</td>\n",
       "      <td>female</td>\n",
       "      <td>NaN</td>\n",
       "      <td>25</td>\n",
       "      <td>~30대</td>\n",
       "      <td>1</td>\n",
       "      <td>2</td>\n",
       "      <td>W./C. 6607</td>\n",
       "      <td>23.4500</td>\n",
       "      <td>NaN</td>\n",
       "      <td>S</td>\n",
       "      <td>-0.355258</td>\n",
       "      <td>0.432550</td>\n",
       "      <td>2.007806</td>\n",
       "      <td>-0.176164</td>\n",
       "    </tr>\n",
       "    <tr>\n",
       "      <th>889</th>\n",
       "      <td>890</td>\n",
       "      <td>1</td>\n",
       "      <td>생존</td>\n",
       "      <td>1</td>\n",
       "      <td>가</td>\n",
       "      <td>Behr, Mr. Karl Howell</td>\n",
       "      <td>male</td>\n",
       "      <td>26.0</td>\n",
       "      <td>26</td>\n",
       "      <td>~30대</td>\n",
       "      <td>0</td>\n",
       "      <td>0</td>\n",
       "      <td>111369</td>\n",
       "      <td>30.0000</td>\n",
       "      <td>C148</td>\n",
       "      <td>C</td>\n",
       "      <td>-0.278597</td>\n",
       "      <td>-0.474279</td>\n",
       "      <td>-0.473408</td>\n",
       "      <td>-0.044356</td>\n",
       "    </tr>\n",
       "    <tr>\n",
       "      <th>890</th>\n",
       "      <td>891</td>\n",
       "      <td>0</td>\n",
       "      <td>사망</td>\n",
       "      <td>3</td>\n",
       "      <td>다</td>\n",
       "      <td>Dooley, Mr. Patrick</td>\n",
       "      <td>male</td>\n",
       "      <td>32.0</td>\n",
       "      <td>32</td>\n",
       "      <td>~30대</td>\n",
       "      <td>0</td>\n",
       "      <td>0</td>\n",
       "      <td>370376</td>\n",
       "      <td>7.7500</td>\n",
       "      <td>NaN</td>\n",
       "      <td>Q</td>\n",
       "      <td>0.181372</td>\n",
       "      <td>-0.474279</td>\n",
       "      <td>-0.473408</td>\n",
       "      <td>-0.492101</td>\n",
       "    </tr>\n",
       "  </tbody>\n",
       "</table>\n",
       "<p>891 rows × 20 columns</p>\n",
       "</div>"
      ],
      "text/plain": [
       "     PassengerId Survived Survived_label Pclass Pclass_label  \\\n",
       "0              1        0             사망      3            다   \n",
       "1              2        1             생존      1            가   \n",
       "2              3        1             생존      3            다   \n",
       "3              4        1             생존      1            가   \n",
       "4              5        0             사망      3            다   \n",
       "..           ...      ...            ...    ...          ...   \n",
       "886          887        0             사망      2            나   \n",
       "887          888        1             생존      1            가   \n",
       "888          889        0             사망      3            다   \n",
       "889          890        1             생존      1            가   \n",
       "890          891        0             사망      3            다   \n",
       "\n",
       "                                                  Name     Sex   Age  Age_02  \\\n",
       "0                              Braund, Mr. Owen Harris    male  22.0      22   \n",
       "1    Cumings, Mrs. John Bradley (Florence Briggs Th...  female  38.0      38   \n",
       "2                               Heikkinen, Miss. Laina  female  26.0      26   \n",
       "3         Futrelle, Mrs. Jacques Heath (Lily May Peel)  female  35.0      35   \n",
       "4                             Allen, Mr. William Henry    male  35.0      35   \n",
       "..                                                 ...     ...   ...     ...   \n",
       "886                              Montvila, Rev. Juozas    male  27.0      27   \n",
       "887                       Graham, Miss. Margaret Edith  female  19.0      19   \n",
       "888           Johnston, Miss. Catherine Helen \"Carrie\"  female   NaN      25   \n",
       "889                              Behr, Mr. Karl Howell    male  26.0      26   \n",
       "890                                Dooley, Mr. Patrick    male  32.0      32   \n",
       "\n",
       "    Age_02_label  SibSp  Parch            Ticket     Fare Cabin Embarked  \\\n",
       "0           ~30대      1      0         A/5 21171   7.2500   NaN        S   \n",
       "1           ~30대      1      0          PC 17599  71.2833   C85        C   \n",
       "2           ~30대      0      0  STON/O2. 3101282   7.9250   NaN        S   \n",
       "3           ~30대      1      0            113803  53.1000  C123        S   \n",
       "4           ~30대      0      0            373450   8.0500   NaN        S   \n",
       "..           ...    ...    ...               ...      ...   ...      ...   \n",
       "886         ~30대      0      0            211536  13.0000   NaN        S   \n",
       "887         ~10대      0      0            112053  30.0000   B42        S   \n",
       "888         ~30대      1      2        W./C. 6607  23.4500   NaN        S   \n",
       "889         ~30대      0      0            111369  30.0000  C148        C   \n",
       "890         ~30대      0      0            370376   7.7500   NaN        Q   \n",
       "\n",
       "     Age_02_P   SibSp_P   Parch_P    Fare_P  \n",
       "0   -0.585242  0.432550 -0.473408 -0.502163  \n",
       "1    0.641340  0.432550 -0.473408  0.786404  \n",
       "2   -0.278597 -0.474279 -0.473408 -0.488580  \n",
       "3    0.411356  0.432550 -0.473408  0.420494  \n",
       "4    0.411356 -0.474279 -0.473408 -0.486064  \n",
       "..        ...       ...       ...       ...  \n",
       "886 -0.201935 -0.474279 -0.473408 -0.386454  \n",
       "887 -0.815226 -0.474279 -0.473408 -0.044356  \n",
       "888 -0.355258  0.432550  2.007806 -0.176164  \n",
       "889 -0.278597 -0.474279 -0.473408 -0.044356  \n",
       "890  0.181372 -0.474279 -0.473408 -0.492101  \n",
       "\n",
       "[891 rows x 20 columns]"
      ]
     },
     "execution_count": 368,
     "metadata": {},
     "output_type": "execute_result"
    }
   ],
   "source": [
    "titanicDF"
   ]
  },
  {
   "cell_type": "markdown",
   "id": "5fb723a9",
   "metadata": {},
   "source": []
  },
  {
   "cell_type": "code",
   "execution_count": null,
   "id": "5633efd1",
   "metadata": {},
   "outputs": [],
   "source": [
    "# cut\n",
    "# retbins = True => 반환값이 2개가 넘어옴\n",
    "# retbins = x   직접 넣어줘라\n",
    "# 파라미터 봐보셈\n"
   ]
  }
 ],
 "metadata": {
  "kernelspec": {
   "display_name": "Python 3 (ipykernel)",
   "language": "python",
   "name": "python3"
  },
  "language_info": {
   "codemirror_mode": {
    "name": "ipython",
    "version": 3
   },
   "file_extension": ".py",
   "mimetype": "text/x-python",
   "name": "python",
   "nbconvert_exporter": "python",
   "pygments_lexer": "ipython3",
   "version": "3.9.12"
  }
 },
 "nbformat": 4,
 "nbformat_minor": 5
}
