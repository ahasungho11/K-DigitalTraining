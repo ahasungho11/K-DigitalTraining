{
 "cells": [
  {
   "cell_type": "markdown",
   "id": "d65d57af-6fa5-4b46-8937-09951e44f8b5",
   "metadata": {
    "tags": []
   },
   "source": [
    "# CNN - 이상감지"
   ]
  },
  {
   "cell_type": "code",
   "execution_count": 1,
   "id": "f9ab3214-f6de-44dc-8546-3c6038801bbe",
   "metadata": {},
   "outputs": [],
   "source": [
    "# 모듈 로딩(1)\n",
    "import json\n",
    "import pandas as pd\n",
    "import os\n",
    "import matplotlib.pyplot as plt\n",
    "from tqdm import tqdm\n",
    "import numpy as np\n",
    "from collections import Counter"
   ]
  },
  {
   "cell_type": "code",
   "execution_count": 2,
   "id": "715c0f8a-0e02-4493-9625-6f48271e9d2a",
   "metadata": {},
   "outputs": [],
   "source": [
    "# 모듈 로딩(2)\n",
    "import tensorflow as tf\n",
    "from keras.models import Sequential\n",
    "from keras.layers import Dense\n",
    "from tensorflow.keras.optimizers import Adam,SGD,RMSprop,Adagrad\n",
    "from tensorflow.keras.callbacks import EarlyStopping\n",
    "from keras.layers import Dropout, Flatten,Activation, BatchNormalization\n",
    "from keras.layers import Conv2D, MaxPooling2D, MaxPool2D, Dense"
   ]
  },
  {
   "cell_type": "code",
   "execution_count": 3,
   "id": "349da43a-fdb1-4c0b-91a8-384f99d966f2",
   "metadata": {},
   "outputs": [],
   "source": [
    "df = pd.read_csv('./bus_getonoff_sum.csv')\n",
    "# df"
   ]
  },
  {
   "cell_type": "markdown",
   "id": "b765b855-4d97-4bbf-bc23-d8c37df5403e",
   "metadata": {},
   "source": [
    "***"
   ]
  },
  {
   "cell_type": "code",
   "execution_count": 4,
   "id": "6e5bf848-5044-491b-a46d-8d94ac8b6ed0",
   "metadata": {},
   "outputs": [
    {
     "data": {
      "text/plain": [
       "2    626429\n",
       "0    225248\n",
       "1    131447\n",
       "Name: get_num, dtype: int64"
      ]
     },
     "execution_count": 4,
     "metadata": {},
     "output_type": "execute_result"
    }
   ],
   "source": [
    "df['get_num'].value_counts()"
   ]
  },
  {
   "cell_type": "markdown",
   "id": "a0cad690-5b3c-43e3-a37f-dd80a61ecede",
   "metadata": {},
   "source": [
    "***"
   ]
  },
  {
   "cell_type": "code",
   "execution_count": 5,
   "id": "4e9aef3c-166c-4af9-913d-ca75b70e462c",
   "metadata": {},
   "outputs": [
    {
     "data": {
      "text/plain": [
       "3    486990\n",
       "1    279102\n",
       "0    108011\n",
       "5     99613\n",
       "4      4799\n",
       "7      2641\n",
       "2      1631\n",
       "6       337\n",
       "Name: action_num, dtype: int64"
      ]
     },
     "execution_count": 5,
     "metadata": {},
     "output_type": "execute_result"
    }
   ],
   "source": [
    "df['action_num'].value_counts()\n",
    "# 약 90만개의 데이터가 있음"
   ]
  },
  {
   "cell_type": "code",
   "execution_count": 6,
   "id": "0fb5a9df-2ffa-49d6-acf9-47603f2a82a2",
   "metadata": {},
   "outputs": [],
   "source": [
    "df1 = pd.read_csv('./bus_state.csv')"
   ]
  },
  {
   "cell_type": "code",
   "execution_count": 7,
   "id": "24e03415-8e43-4358-be89-00987bcf3996",
   "metadata": {},
   "outputs": [
    {
     "data": {
      "text/plain": [
       "3    14756\n",
       "0     9412\n",
       "1     8111\n",
       "4     4718\n",
       "5     3791\n",
       "7     2641\n",
       "6      327\n",
       "2      150\n",
       "Name: action_num, dtype: int64"
      ]
     },
     "execution_count": 7,
     "metadata": {},
     "output_type": "execute_result"
    }
   ],
   "source": [
    "df1['action_num'].value_counts()"
   ]
  },
  {
   "cell_type": "code",
   "execution_count": 8,
   "id": "84bb75ac-d4bf-4d68-8c42-2e0c65d157e9",
   "metadata": {},
   "outputs": [],
   "source": [
    "# 6k 10\n",
    "# 2r 1100 (x)\n",
    "# 0st, 1w, 3s d, 5g h 다\n",
    "# 4l d ,7p =\n",
    "# ===== \n",
    "# 6(kick)은 그다지 늘어나지 않음\n",
    "# 2(run)은 그렇게 많지는 않을 것임\n",
    "# 4(lay down)과 7(punch)는 거의 변동x\n",
    "# 0(stand), 1(walk), 3(sit down), 5(grab handle)은 많이 늘어남\n",
    "# 효용이 있을지는 모르겠으나 일단 ㄱ"
   ]
  },
  {
   "cell_type": "code",
   "execution_count": 9,
   "id": "b6b030cb-698c-44bd-9830-11bb802bc74e",
   "metadata": {},
   "outputs": [
    {
     "data": {
      "text/html": [
       "<div>\n",
       "<style scoped>\n",
       "    .dataframe tbody tr th:only-of-type {\n",
       "        vertical-align: middle;\n",
       "    }\n",
       "\n",
       "    .dataframe tbody tr th {\n",
       "        vertical-align: top;\n",
       "    }\n",
       "\n",
       "    .dataframe thead th {\n",
       "        text-align: right;\n",
       "    }\n",
       "</style>\n",
       "<table border=\"1\" class=\"dataframe\">\n",
       "  <thead>\n",
       "    <tr style=\"text-align: right;\">\n",
       "      <th></th>\n",
       "      <th>bbox</th>\n",
       "      <th>keypoints</th>\n",
       "      <th>action</th>\n",
       "      <th>get_on</th>\n",
       "      <th>get_off</th>\n",
       "      <th>get_num</th>\n",
       "      <th>action_num</th>\n",
       "    </tr>\n",
       "  </thead>\n",
       "  <tbody>\n",
       "    <tr>\n",
       "      <th>0</th>\n",
       "      <td>[974, 266, 1471, 1077]</td>\n",
       "      <td>[1074, 1020, 2, 1111, 923, 2, 1151, 752, 2, 12...</td>\n",
       "      <td>stand</td>\n",
       "      <td>True</td>\n",
       "      <td>False</td>\n",
       "      <td>1</td>\n",
       "      <td>0</td>\n",
       "    </tr>\n",
       "    <tr>\n",
       "      <th>1</th>\n",
       "      <td>[1017, 224, 1452, 1060]</td>\n",
       "      <td>[1094, 918, 2, 1131, 802, 2, 1185, 643, 2, 131...</td>\n",
       "      <td>stand</td>\n",
       "      <td>True</td>\n",
       "      <td>False</td>\n",
       "      <td>1</td>\n",
       "      <td>0</td>\n",
       "    </tr>\n",
       "    <tr>\n",
       "      <th>2</th>\n",
       "      <td>[1007, 224, 1445, 1049]</td>\n",
       "      <td>[1085, 909, 2, 1118, 787, 2, 1174, 634, 2, 129...</td>\n",
       "      <td>stand</td>\n",
       "      <td>True</td>\n",
       "      <td>False</td>\n",
       "      <td>1</td>\n",
       "      <td>0</td>\n",
       "    </tr>\n",
       "    <tr>\n",
       "      <th>3</th>\n",
       "      <td>[1007, 222, 1428, 1049]</td>\n",
       "      <td>[1082, 908, 2, 1113, 786, 2, 1155, 627, 2, 127...</td>\n",
       "      <td>stand</td>\n",
       "      <td>True</td>\n",
       "      <td>False</td>\n",
       "      <td>1</td>\n",
       "      <td>0</td>\n",
       "    </tr>\n",
       "    <tr>\n",
       "      <th>4</th>\n",
       "      <td>[995, 220, 1421, 1044]</td>\n",
       "      <td>[1071, 904, 2, 1102, 782, 2, 1144, 623, 2, 127...</td>\n",
       "      <td>stand</td>\n",
       "      <td>True</td>\n",
       "      <td>False</td>\n",
       "      <td>1</td>\n",
       "      <td>0</td>\n",
       "    </tr>\n",
       "  </tbody>\n",
       "</table>\n",
       "</div>"
      ],
      "text/plain": [
       "                      bbox                                          keypoints  \\\n",
       "0   [974, 266, 1471, 1077]  [1074, 1020, 2, 1111, 923, 2, 1151, 752, 2, 12...   \n",
       "1  [1017, 224, 1452, 1060]  [1094, 918, 2, 1131, 802, 2, 1185, 643, 2, 131...   \n",
       "2  [1007, 224, 1445, 1049]  [1085, 909, 2, 1118, 787, 2, 1174, 634, 2, 129...   \n",
       "3  [1007, 222, 1428, 1049]  [1082, 908, 2, 1113, 786, 2, 1155, 627, 2, 127...   \n",
       "4   [995, 220, 1421, 1044]  [1071, 904, 2, 1102, 782, 2, 1144, 623, 2, 127...   \n",
       "\n",
       "  action  get_on  get_off  get_num  action_num  \n",
       "0  stand    True    False        1           0  \n",
       "1  stand    True    False        1           0  \n",
       "2  stand    True    False        1           0  \n",
       "3  stand    True    False        1           0  \n",
       "4  stand    True    False        1           0  "
      ]
     },
     "execution_count": 9,
     "metadata": {},
     "output_type": "execute_result"
    }
   ],
   "source": [
    "df.head()"
   ]
  },
  {
   "cell_type": "code",
   "execution_count": 10,
   "id": "fd7f1d8b-84b4-4ffd-bf63-f3239ea10954",
   "metadata": {},
   "outputs": [
    {
     "data": {
      "text/plain": [
       "0         [1074, 1020, 2, 1111, 923, 2, 1151, 752, 2, 12...\n",
       "1         [1094, 918, 2, 1131, 802, 2, 1185, 643, 2, 131...\n",
       "2         [1085, 909, 2, 1118, 787, 2, 1174, 634, 2, 129...\n",
       "3         [1082, 908, 2, 1113, 786, 2, 1155, 627, 2, 127...\n",
       "4         [1071, 904, 2, 1102, 782, 2, 1144, 623, 2, 127...\n",
       "                                ...                        \n",
       "983119    [997, 1077, 0, 997, 1010, 0, 1016, 1042, 0, 88...\n",
       "983120    [1458, 636, 1, 1483, 581, 1, 1494, 658, 1, 141...\n",
       "983121    [1446, 632, 1, 1471, 577, 1, 1482, 654, 1, 139...\n",
       "983122    [1373, 670, 1, 1372, 585, 1, 1418, 523, 2, 133...\n",
       "983123    [1331, 670, 1, 1337, 561, 1, 1381, 437, 1, 129...\n",
       "Name: keypoints, Length: 983124, dtype: object"
      ]
     },
     "execution_count": 10,
     "metadata": {},
     "output_type": "execute_result"
    }
   ],
   "source": [
    "df['keypoints']"
   ]
  },
  {
   "cell_type": "code",
   "execution_count": 11,
   "id": "fd26bc7f",
   "metadata": {},
   "outputs": [],
   "source": [
    "# df[df['keypoints']==[x_test[0].tolist()]]"
   ]
  },
  {
   "cell_type": "code",
   "execution_count": 12,
   "id": "3003119c-4fa3-449c-9541-56707a233125",
   "metadata": {},
   "outputs": [],
   "source": [
    "# 열 타입변경\n",
    "# keypoints와 bbox는 문자열 값으로 저장되어 있어서 배열 형태로 바꾸어 주어야 할 필요성이 있어보여서 이 코드를 만듬\n",
    "keypoins_arr=[]\n",
    "bbox_arr=[]\n",
    "\n",
    "for i in range(len(df)): # 테이블 행 수 만큼 for문 돌림\n",
    "    bbox_arr.append(np.array(list(map(int,df.bbox[i].strip('[').strip(']').split(','))))) \n",
    "    keypoins_arr.append(np.array(list(map(int,df.keypoints[i].strip('[').strip(']').split(',')))))\n",
    "    \n",
    "# 배열 형태로 값들이 저장됨\n",
    "df.bbox=bbox_arr\n",
    "df.keypoints=keypoins_arr"
   ]
  },
  {
   "cell_type": "code",
   "execution_count": 43,
   "id": "e03df9e9-9c23-47fb-bbb1-6a8fbebdfb19",
   "metadata": {},
   "outputs": [],
   "source": [
    "keypoints = np.array(list(df.keypoints)).reshape(-1,16,1,3)"
   ]
  },
  {
   "cell_type": "code",
   "execution_count": 44,
   "id": "35a5affb-7dc4-4333-b5cc-264da5a48101",
   "metadata": {},
   "outputs": [
    {
     "name": "stdout",
     "output_type": "stream",
     "text": [
      "<class 'pandas.core.series.Series'>\n",
      "(983124, 16, 1, 3)\n"
     ]
    }
   ],
   "source": [
    "print(type(df.keypoints))\n",
    "print(keypoints.shape)"
   ]
  },
  {
   "cell_type": "code",
   "execution_count": 45,
   "id": "a843666d-7bef-41fb-a0b7-1aac87826ebc",
   "metadata": {},
   "outputs": [
    {
     "data": {
      "text/plain": [
       "(983124,)"
      ]
     },
     "execution_count": 45,
     "metadata": {},
     "output_type": "execute_result"
    }
   ],
   "source": [
    "# 'action_num'을 배열로만 넘겨주면 되겠지\n",
    "y = np.array(df.action_num)\n",
    "y.shape"
   ]
  },
  {
   "cell_type": "code",
   "execution_count": 46,
   "id": "51c68f84-fef4-4a78-a32e-0b3d32d8aff3",
   "metadata": {},
   "outputs": [],
   "source": [
    "# train과 test 나누기\n",
    "from sklearn.model_selection import train_test_split\n",
    "x_train, x_test, y_train, y_test = train_test_split(keypoints, y, test_size=0.2, random_state=42)"
   ]
  },
  {
   "cell_type": "code",
   "execution_count": 47,
   "id": "9329db75",
   "metadata": {},
   "outputs": [],
   "source": [
    "# 스케일링\n",
    "x_train = x_train/255.0\n",
    "x_test = x_test/255.0"
   ]
  },
  {
   "cell_type": "markdown",
   "id": "a6b95093",
   "metadata": {},
   "source": [
    "***"
   ]
  },
  {
   "cell_type": "code",
   "execution_count": null,
   "id": "0cb246e6",
   "metadata": {},
   "outputs": [],
   "source": [
    "import tensorflow as tf\n",
    "from tensorflow.keras import datasets, layers, models\n",
    "\n",
    "# 1. MNIST 데이터셋 불러오기\n",
    "(train_images, train_labels), (test_images, test_labels) = datasets.mnist.load_data()\n",
    "\n",
    "# 2. 데이터 전처리하기\n",
    "train_images = train_images.reshape((60000, 28, 28, 1))\n",
    "test_images = test_images.reshape((10000, 28, 28, 1))\n",
    "train_images, test_images = train_images / 255.0, test_images / 255.0\n",
    "\n",
    "# 3. 합성곱 신경망 구성하기\n",
    "model = models.Sequential()\n",
    "model.add(layers.Conv2D(32, (3, 3), activation='relu', input_shape=(28, 28, 1)))\n",
    "model.add(layers.MaxPooling2D((2, 2)))\n",
    "model.add(layers.Conv2D(64, (3, 3), activation='relu'))\n",
    "model.add(layers.MaxPooling2D((2, 2)))\n",
    "model.add(layers.Conv2D(64, (3, 3), activation='relu'))\n",
    "model.add(layers.MaxPooling2D((2, 2)))\n",
    "\n",
    "model.summary()\n",
    "\n",
    "# 4. Dense 층 추가하기\n",
    "model.add(layers.Flatten())\n",
    "model.add(layers.Dense(64, activation='relu'))\n",
    "model.add(layers.Dense(10, activation='softmax'))\n",
    "\n",
    "model.summary()\n",
    "\n",
    "# 5. 모델 컴파일하기\n",
    "model.compile(optimizer='adam',\n",
    "              loss='sparse_categorical_crossentropy',\n",
    "              metrics=['accuracy'])\n",
    "\n",
    "#-> compile() 메서드를 이용해서 옵티마이저, 손실 함수, 지표를 각각 설정\n",
    "\n",
    "# 6. 훈련하기\n",
    "model.fit(train_images, train_labels, epochs=5)\n",
    "\n",
    "# 7. 모델 평가하기\n",
    "loss, acc = model.evaluate(test_images, test_labels, verbose=2)\n",
    "\n",
    "## 단순한 Dense 층으로만 이루어진 신경망으로 학습한 경우의 정확도인 0.9802에 비해 더 높은 정확도"
   ]
  },
  {
   "cell_type": "code",
   "execution_count": null,
   "id": "8cf99077",
   "metadata": {},
   "outputs": [],
   "source": [
    "# 합성곱 신경망과 Dense 층을 구성하는 또 다른 방식\n",
    "model = tf.keras.models.Sequential([\n",
    "  tf.keras.layers.Conv2D(32, (3, 3), activation='relu', input_shape=(28, 28, 1)),\n",
    "  tf.keras.layers.MaxPooling2D(2, 2),\n",
    "  tf.keras.layers.Conv2D(64, (3, 3), activation='relu'),\n",
    "  tf.keras.layers.MaxPooling2D(2, 2),\n",
    "  tf.keras.layers.Conv2D(64, (3, 3), activation='relu'),\n",
    "  tf.keras.layers.MaxPooling2D(2, 2),\n",
    "  tf.keras.layers.Flatten(),\n",
    "  tf.keras.layers.Dense(64, activation='relu'),\n",
    "  tf.keras.layers.Dense(10, activation='softmax')\n",
    "])\n",
    "\n",
    "model.summary()"
   ]
  },
  {
   "cell_type": "markdown",
   "id": "e978addb",
   "metadata": {},
   "source": [
    "***"
   ]
  },
  {
   "cell_type": "code",
   "execution_count": 49,
   "id": "0263666c-3ce2-4cc9-be37-d2d75fc6130e",
   "metadata": {},
   "outputs": [
    {
     "name": "stdout",
     "output_type": "stream",
     "text": [
      "Model: \"sequential_1\"\n",
      "_________________________________________________________________\n",
      " Layer (type)                Output Shape              Param #   \n",
      "=================================================================\n",
      " conv2d_3 (Conv2D)           (None, 16, 1, 32)         896       \n",
      "                                                                 \n",
      " max_pooling2d_3 (MaxPooling  (None, 8, 1, 32)         0         \n",
      " 2D)                                                             \n",
      "                                                                 \n",
      " activation_3 (Activation)   (None, 8, 1, 32)          0         \n",
      "                                                                 \n",
      " batch_normalization_3 (Batc  (None, 8, 1, 32)         128       \n",
      " hNormalization)                                                 \n",
      "                                                                 \n",
      " conv2d_4 (Conv2D)           (None, 8, 1, 64)          18496     \n",
      "                                                                 \n",
      " max_pooling2d_4 (MaxPooling  (None, 4, 1, 64)         0         \n",
      " 2D)                                                             \n",
      "                                                                 \n",
      " activation_4 (Activation)   (None, 4, 1, 64)          0         \n",
      "                                                                 \n",
      " batch_normalization_4 (Batc  (None, 4, 1, 64)         256       \n",
      " hNormalization)                                                 \n",
      "                                                                 \n",
      " conv2d_5 (Conv2D)           (None, 4, 1, 64)          36928     \n",
      "                                                                 \n",
      " max_pooling2d_5 (MaxPooling  (None, 2, 1, 64)         0         \n",
      " 2D)                                                             \n",
      "                                                                 \n",
      " activation_5 (Activation)   (None, 2, 1, 64)          0         \n",
      "                                                                 \n",
      " batch_normalization_5 (Batc  (None, 2, 1, 64)         256       \n",
      " hNormalization)                                                 \n",
      "                                                                 \n",
      " flatten_1 (Flatten)         (None, 128)               0         \n",
      "                                                                 \n",
      " dense_1 (Dense)             (None, 8)                 1032      \n",
      "                                                                 \n",
      "=================================================================\n",
      "Total params: 57,992\n",
      "Trainable params: 57,672\n",
      "Non-trainable params: 320\n",
      "_________________________________________________________________\n",
      "None\n"
     ]
    }
   ],
   "source": [
    "# 경고무시\n",
    "import warnings\n",
    "warnings.filterwarnings(action='ignore')\n",
    "\n",
    "# model = Sequential()\n",
    "# model.add(Conv2D(12, kernel_size=(5, 5), activation='relu', input_shape=(120, 60, 1)))\n",
    "# model.add(MaxPooling2D(pool_size=(2, 2)))\n",
    "# model.add(Conv2D(16, kernel_size=(5, 5), activation='relu'))\n",
    "# model.add(MaxPooling2D(pool_size=(2, 2)))\n",
    "# model.add(Conv2D(20, kernel_size=(4, 4), activation='relu'))\n",
    "# model.add(MaxPooling2D(pool_size=(2, 2)))\n",
    "# model.add(Flatten())\n",
    "# model.add(Dense(128, activation='relu'))\n",
    "# model.add(Dense(4, activation='softmax'))\n",
    "\n",
    "# batch normalization : \n",
    "# 입력값 x를 평균 0, 분산 1로 표준화하여 활성화 함수로 전달하고 활성화 함수 출력값을 분포를 고르게 합니다.\n",
    "# x를 표준화 하는 과정에서 배치 사이즈 단위로 평균과 분산값을 계산하는데요.\n",
    "# 어떤 배치 사이즈를 선택하느냐에 따라 평균과 분산값이 달라지므로 성능에 영향을 미치게 됩니다.\n",
    "\n",
    "# dropout -> 회귀, 과적합 해소\n",
    "\n",
    "# CNN2d\n",
    "model = Sequential()          \n",
    "model.add(Conv2D(filters = 32, kernel_size = (3,3), strides = (1,1), padding = 'same', input_shape=(16,1,3)))\n",
    "model.add(MaxPooling2D(pool_size = (2,1)))\n",
    "model.add(Activation('relu'))\n",
    "model.add(BatchNormalization())\n",
    "\n",
    "model.add(Conv2D(filters = 64, kernel_size = (3,3), strides = (1,1), padding = 'same'))\n",
    "model.add(MaxPooling2D(pool_size = (2,1)))\n",
    "model.add(Activation('relu'))\n",
    "model.add(BatchNormalization())\n",
    "\n",
    "model.add(Conv2D(filters = 64, kernel_size = (3,3), strides = (1,1), padding = 'same'))\n",
    "model.add(MaxPooling2D(pool_size = (2,1)))\n",
    "model.add(Activation('relu'))\n",
    "model.add(BatchNormalization())\n",
    "\n",
    "# model.add(Conv2D(filters = 10, kernel_size = (3,3), strides = (1,1), padding = 'same', kernel_initializer='he_normal'))\n",
    "# model.add(MaxPooling2D(pool_size = (2,1)))\n",
    "# model.add(BatchNormalization())\n",
    "# model.add(Activation('relu'))\n",
    "\n",
    "# Flatten (펴주기)\n",
    "model.add(Flatten())\n",
    "\n",
    "# dense layer with 50 neurons\n",
    "# model.add(Dense(50, activation = 'relu', kernel_initializer='he_normal'))\n",
    "# model.add(Dropout(0.5))\n",
    "\n",
    "# final layer with 8 neurons to classify the instances\n",
    "model.add(Dense(8, activation='softmax'))\n",
    "\n",
    "# model 컴파일\n",
    "model.compile(loss='sparse_categorical_crossentropy',\n",
    "              optimizer=tf.keras.optimizers.Adam(lr=0.001),\n",
    "              metrics=['accuracy'])\n",
    "\n",
    "print(model.summary())"
   ]
  },
  {
   "cell_type": "code",
   "execution_count": 44,
   "id": "4a7a1698",
   "metadata": {},
   "outputs": [],
   "source": [
    "# with tf.device(\"/device:CPU:0\"):\n",
    "#     # model.fit(X_train, y_train, epochs=10)\n",
    "#     model.fit(x_train, y_train, validation_split=0.2, epochs=5)"
   ]
  },
  {
   "cell_type": "code",
   "execution_count": 51,
   "id": "6e1612ee-24cb-4cf9-ad9e-e31d90d8e71e",
   "metadata": {},
   "outputs": [
    {
     "name": "stdout",
     "output_type": "stream",
     "text": [
      "Epoch 1/10\n",
      "31460/31460 [==============================] - 147s 5ms/step - loss: 0.2840 - accuracy: 0.8986 - val_loss: 0.2910 - val_accuracy: 0.8959\n",
      "Epoch 2/10\n",
      "31460/31460 [==============================] - 163s 5ms/step - loss: 0.2812 - accuracy: 0.8994 - val_loss: 0.2838 - val_accuracy: 0.8969\n",
      "Epoch 3/10\n",
      "31460/31460 [==============================] - 169s 5ms/step - loss: 0.2787 - accuracy: 0.9003 - val_loss: 0.2781 - val_accuracy: 0.9010\n",
      "Epoch 4/10\n",
      "31460/31460 [==============================] - 175s 6ms/step - loss: 0.2768 - accuracy: 0.9015 - val_loss: 0.2875 - val_accuracy: 0.8969\n",
      "Epoch 5/10\n",
      "31460/31460 [==============================] - 176s 6ms/step - loss: 0.2751 - accuracy: 0.9021 - val_loss: 0.2740 - val_accuracy: 0.9052\n",
      "Epoch 6/10\n",
      "31460/31460 [==============================] - 174s 6ms/step - loss: 0.2730 - accuracy: 0.9024 - val_loss: 0.2853 - val_accuracy: 0.8993\n",
      "Epoch 7/10\n",
      "31460/31460 [==============================] - 165s 5ms/step - loss: 0.2720 - accuracy: 0.9031 - val_loss: 0.2934 - val_accuracy: 0.8970\n",
      "Epoch 8/10\n",
      "31460/31460 [==============================] - 165s 5ms/step - loss: 0.2705 - accuracy: 0.9034 - val_loss: 0.2645 - val_accuracy: 0.9076\n",
      "Epoch 9/10\n",
      "31460/31460 [==============================] - 167s 5ms/step - loss: 0.2694 - accuracy: 0.9040 - val_loss: 0.2728 - val_accuracy: 0.9025\n",
      "Epoch 10/10\n",
      "31460/31460 [==============================] - 165s 5ms/step - loss: 0.2684 - accuracy: 0.9046 - val_loss: 0.2756 - val_accuracy: 0.9046\n"
     ]
    },
    {
     "data": {
      "image/png": "[encoded data removed]",
      "text/plain": [
       "<Figure size 640x480 with 1 Axes>"
      ]
     },
     "metadata": {},
     "output_type": "display_data"
    }
   ],
   "source": [
    "from tensorflow.keras.callbacks import EarlyStopping\n",
    "# 검증 데이터에 대한 loss값 3번 연속 개선되지 않으면 학습 중지\n",
    "stopCB = EarlyStopping(monitor='val_loss', patience=3)\n",
    "\n",
    "# result = model.fit(x_train, y_train, epochs=3, batch_size = 10,\n",
    "#                    validation_data=(X_test, y_test), callbacks=[stopCB])\n",
    "# epochs = 1      : 처음~끝까지 학습 횟수가 1이라는 것\n",
    "\n",
    "#########################################################################\n",
    "\n",
    "with tf.device(\"/device:GPU:0\"):\n",
    "    # model.fit(X_train, y_train, epochs=10)\n",
    "    history = model.fit(x_train, y_train,epochs=10, batch_size = 20,\n",
    "                        validation_split=0.2, callbacks=[stopCB])\n",
    "    \n",
    "    plt.plot(history.history['accuracy'])\n",
    "    plt.plot(history.history['val_accuracy'])\n",
    "    plt.legend(['training', 'validation'], loc = 'upper left')\n",
    "    plt.show()\n"
   ]
  },
  {
   "cell_type": "code",
   "execution_count": 52,
   "id": "3ea52335",
   "metadata": {},
   "outputs": [
    {
     "data": {
      "image/png": "[encoded data removed]",
      "text/plain": [
       "<Figure size 640x480 with 1 Axes>"
      ]
     },
     "metadata": {},
     "output_type": "display_data"
    }
   ],
   "source": [
    "# history = model.fit(x_train, y_train, batch_size = 50, validation_split = 0.2, epochs = 10, verbose = 0)\n",
    "\n",
    "plt.plot(history.history['accuracy'])\n",
    "plt.plot(history.history['val_accuracy'])\n",
    "plt.legend(['training', 'validation'], loc = 'upper left')\n",
    "plt.show()"
   ]
  },
  {
   "cell_type": "code",
   "execution_count": 53,
   "id": "e7899495",
   "metadata": {},
   "outputs": [
    {
     "data": {
      "text/plain": [
       "{'verbose': 1, 'epochs': 10, 'steps': 31460}"
      ]
     },
     "execution_count": 53,
     "metadata": {},
     "output_type": "execute_result"
    }
   ],
   "source": [
    "history.params"
   ]
  },
  {
   "cell_type": "code",
   "execution_count": 54,
   "id": "b756fd96",
   "metadata": {},
   "outputs": [
    {
     "data": {
      "text/plain": [
       "dict_keys(['loss', 'accuracy', 'val_loss', 'val_accuracy'])"
      ]
     },
     "execution_count": 54,
     "metadata": {},
     "output_type": "execute_result"
    }
   ],
   "source": [
    "history.history.keys()"
   ]
  },
  {
   "cell_type": "code",
   "execution_count": 55,
   "id": "308a17f3",
   "metadata": {},
   "outputs": [
    {
     "data": {
      "image/png": "[encoded data removed]",
      "text/plain": [
       "<Figure size 640x480 with 1 Axes>"
      ]
     },
     "metadata": {},
     "output_type": "display_data"
    }
   ],
   "source": [
    "### 시각화\n",
    "import matplotlib.pyplot as plt\n",
    "plt.plot(history.epoch, history.history['loss'], label='loss')\n",
    "# plt.plot(result.epoch, result.history['accuracy'], label='accuracy')\n",
    "plt.plot(history.epoch, history.history['val_loss'], label='val_loss')\n",
    "plt.legend()\n",
    "plt.show()"
   ]
  },
  {
   "cell_type": "code",
   "execution_count": null,
   "id": "14fdf2c6",
   "metadata": {},
   "outputs": [],
   "source": [
    "- scaling 해서 해보기\n",
    "- 전체 vs. 26만개"
   ]
  },
  {
   "cell_type": "code",
   "execution_count": null,
   "id": "619b5e8a",
   "metadata": {},
   "outputs": [],
   "source": []
  },
  {
   "cell_type": "code",
   "execution_count": null,
   "id": "65252135",
   "metadata": {},
   "outputs": [],
   "source": []
  },
  {
   "cell_type": "code",
   "execution_count": null,
   "id": "d96a09c8",
   "metadata": {},
   "outputs": [],
   "source": []
  },
  {
   "cell_type": "code",
   "execution_count": 66,
   "id": "fff35e2a-5122-4dd2-b719-31f7c930af57",
   "metadata": {},
   "outputs": [
    {
     "name": "stdout",
     "output_type": "stream",
     "text": [
      "6145/6145 [==============================] - 16s 3ms/step - loss: 0.3137 - accuracy: 0.8857\n",
      "Test accuracy:  [0.3136594593524933, 0.8857113718986511]\n"
     ]
    }
   ],
   "source": [
    "# 평가\n",
    "results = model.evaluate(x_test, y_test)\n",
    "print('Test accuracy: ', results)"
   ]
  },
  {
   "cell_type": "code",
   "execution_count": 47,
   "id": "20496efd",
   "metadata": {},
   "outputs": [
    {
     "name": "stdout",
     "output_type": "stream",
     "text": [
      "1/1 [==============================] - 0s 156ms/step\n"
     ]
    }
   ],
   "source": [
    "pre_y = model.predict(x_test[0].reshape(-1,16,1,3))"
   ]
  },
  {
   "cell_type": "code",
   "execution_count": 51,
   "id": "83ad45c2",
   "metadata": {},
   "outputs": [
    {
     "data": {
      "text/plain": [
       "array([[1.4672713e-01, 8.4683043e-01, 4.0486781e-03, 1.2188915e-04,\n",
       "        4.0519667e-06, 7.1546972e-05, 2.1933174e-05, 2.1743134e-03]],\n",
       "      dtype=float32)"
      ]
     },
     "execution_count": 51,
     "metadata": {},
     "output_type": "execute_result"
    }
   ],
   "source": [
    "pre_y"
   ]
  },
  {
   "cell_type": "code",
   "execution_count": 48,
   "id": "d1573580",
   "metadata": {},
   "outputs": [
    {
     "data": {
      "text/plain": [
       "(array([[0.15, 0.85, 0.  , 0.  , 0.  , 0.  , 0.  , 0.  ]], dtype=float32),\n",
       " (1, 8))"
      ]
     },
     "execution_count": 48,
     "metadata": {},
     "output_type": "execute_result"
    }
   ],
   "source": [
    "pre_y.round(2), pre_y.shape"
   ]
  },
  {
   "cell_type": "code",
   "execution_count": 67,
   "id": "739e02ea",
   "metadata": {},
   "outputs": [
    {
     "data": {
      "text/plain": [
       "array([[[741, 334,   2]],\n",
       "\n",
       "       [[739, 275,   2]],\n",
       "\n",
       "       [[751, 214,   2]],\n",
       "\n",
       "       [[719, 218,   2]],\n",
       "\n",
       "       [[707, 279,   2]],\n",
       "\n",
       "       [[703, 339,   2]],\n",
       "\n",
       "       [[735, 221,   2]],\n",
       "\n",
       "       [[735, 163,   2]],\n",
       "\n",
       "       [[729, 131,   2]],\n",
       "\n",
       "       [[727, 116,   2]],\n",
       "\n",
       "       [[732, 190,   1]],\n",
       "\n",
       "       [[748, 176,   2]],\n",
       "\n",
       "       [[749, 141,   2]],\n",
       "\n",
       "       [[706, 152,   2]],\n",
       "\n",
       "       [[701, 184,   2]],\n",
       "\n",
       "       [[713, 192,   1]]])"
      ]
     },
     "execution_count": 67,
     "metadata": {},
     "output_type": "execute_result"
    }
   ],
   "source": [
    "x_test[0]\n",
    "# len(x_test[0])"
   ]
  },
  {
   "cell_type": "code",
   "execution_count": null,
   "id": "0ce9d13a",
   "metadata": {},
   "outputs": [],
   "source": [
    "741, 334, 2, 739, 275, 2, 751, 214, 2, 719, 218, 2, 707, 279, 2, 703, 339, 2, 735, 221, 2"
   ]
  },
  {
   "cell_type": "code",
   "execution_count": null,
   "id": "f0c10353-3877-488b-9972-8a454ec48f07",
   "metadata": {},
   "outputs": [],
   "source": [
    "# 1) 전체 vs 다운 샘플링 \n",
    "# 2) 불균형 해소\n",
    "# 3) 교차검증"
   ]
  },
  {
   "cell_type": "code",
   "execution_count": null,
   "id": "fa418cde-7b1c-47b2-aa9e-65baa08406ef",
   "metadata": {},
   "outputs": [],
   "source": []
  },
  {
   "cell_type": "code",
   "execution_count": null,
   "id": "b75d74f5-0208-4383-a98c-64dc498e2d83",
   "metadata": {},
   "outputs": [],
   "source": []
  },
  {
   "cell_type": "code",
   "execution_count": null,
   "id": "dc97114e-e570-4c62-a742-206c792f0f80",
   "metadata": {},
   "outputs": [],
   "source": []
  },
  {
   "cell_type": "code",
   "execution_count": null,
   "id": "4efa701b-b23b-493a-bb50-63c49a7a8d1b",
   "metadata": {},
   "outputs": [],
   "source": []
  }
 ],
 "metadata": {
  "kernelspec": {
   "display_name": "Python 3 (ipykernel)",
   "language": "python",
   "name": "python3"
  },
  "language_info": {
   "codemirror_mode": {
    "name": "ipython",
    "version": 3
   },
   "file_extension": ".py",
   "mimetype": "text/x-python",
   "name": "python",
   "nbconvert_exporter": "python",
   "pygments_lexer": "ipython3",
   "version": "3.7.15"
  },
  "vscode": {
   "interpreter": {
    "hash": "7e0eb1af616953100c925ada868747bf6fc1917d125436367e4c1399a5bd1fb8"
   }
  }
 },
 "nbformat": 4,
 "nbformat_minor": 5
}
