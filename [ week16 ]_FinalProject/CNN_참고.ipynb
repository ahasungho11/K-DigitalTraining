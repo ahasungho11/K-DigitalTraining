{
 "cells": [
  {
   "cell_type": "markdown",
   "id": "1c7f96ed-0337-4245-80dd-43a4610c1499",
   "metadata": {},
   "source": [
    "## CNN참고"
   ]
  },
  {
   "cell_type": "code",
   "execution_count": 75,
   "id": "aceeebed-0714-4239-a0e6-7c6e580bcb88",
   "metadata": {},
   "outputs": [],
   "source": [
    "import json\n",
    "import pandas as pd\n",
    "import os"
   ]
  },
  {
   "cell_type": "code",
   "execution_count": 76,
   "id": "84a493a6-3641-4fe1-b26d-3c5473fbad07",
   "metadata": {},
   "outputs": [],
   "source": [
    "path = 'C:/Users/USER/Desktop/data2/Validation/[라벨]General_val_A/district/'"
   ]
  },
  {
   "cell_type": "code",
   "execution_count": 77,
   "id": "c015ae22-5e7f-4eaa-8bbf-d3a7ffc194ab",
   "metadata": {},
   "outputs": [],
   "source": [
    "keypoints = []\n",
    "get_on = []\n",
    "get_off = []\n",
    "\n",
    "for i in os.listdir(path):\n",
    "    # os.listdir(path+i)\n",
    "    file_list = os.listdir(path+i)\n",
    "       \n",
    "    for a in file_list:\n",
    "        with open ((path+i+'/'+a),\"r\") as j:\n",
    "            contents = json.loads(j.read())\n",
    "            if len(contents['annotations']) != 0:\n",
    "                keypoints.append(contents['annotations'][0]['keypoints'])\n",
    "                get_on.append(contents['annotations'][0]['get_on'])\n",
    "                get_off.append(contents['annotations'][0]['get_off'])        "
   ]
  },
  {
   "cell_type": "code",
   "execution_count": 78,
   "id": "db14f351-fff4-45f0-b160-b3b1a21e5c73",
   "metadata": {},
   "outputs": [],
   "source": [
    "# file_list = os.listdir(path)\n",
    "# file_list_py = [file for file in file_list if file.endswith('.json')] ## 파일명 끝이 .json인 경우"
   ]
  },
  {
   "cell_type": "code",
   "execution_count": 79,
   "id": "b8f11ba2-c093-4818-8ac4-0d21bdd99c81",
   "metadata": {},
   "outputs": [],
   "source": [
    "df = pd.DataFrame({'keypoints':keypoints,\n",
    "                   'get_on':get_on,\n",
    "                   'get_off':get_off})"
   ]
  },
  {
   "cell_type": "code",
   "execution_count": 80,
   "id": "eecd9f62-a105-439f-af13-cf846e0614ee",
   "metadata": {
    "scrolled": true
   },
   "outputs": [],
   "source": [
    "get = []\n",
    "for i in range(len(get_on)):\n",
    "    if (df['get_on'][i] == False) and (df['get_off'][i] == False):\n",
    "        get.append(2)\n",
    "    elif (df['get_on'][i] == True) and (df['get_off'][i] == False):\n",
    "        get.append(1)\n",
    "    else:\n",
    "        get.append(0)"
   ]
  },
  {
   "cell_type": "code",
   "execution_count": 81,
   "id": "8df48f4a-ff43-433e-aad1-936d8fe5f93f",
   "metadata": {},
   "outputs": [],
   "source": [
    "df['get'] = get"
   ]
  },
  {
   "cell_type": "code",
   "execution_count": 82,
   "id": "2506ddd2-0e63-4a1e-9fde-d4a1cefd10b0",
   "metadata": {},
   "outputs": [
    {
     "data": {
      "text/html": [
       "<div>\n",
       "<style scoped>\n",
       "    .dataframe tbody tr th:only-of-type {\n",
       "        vertical-align: middle;\n",
       "    }\n",
       "\n",
       "    .dataframe tbody tr th {\n",
       "        vertical-align: top;\n",
       "    }\n",
       "\n",
       "    .dataframe thead th {\n",
       "        text-align: right;\n",
       "    }\n",
       "</style>\n",
       "<table border=\"1\" class=\"dataframe\">\n",
       "  <thead>\n",
       "    <tr style=\"text-align: right;\">\n",
       "      <th></th>\n",
       "      <th>keypoints</th>\n",
       "      <th>get_on</th>\n",
       "      <th>get_off</th>\n",
       "      <th>get</th>\n",
       "    </tr>\n",
       "  </thead>\n",
       "  <tbody>\n",
       "    <tr>\n",
       "      <th>0</th>\n",
       "      <td>[279, 703, 1, 337, 604, 2, 313, 413, 2, 314, 3...</td>\n",
       "      <td>False</td>\n",
       "      <td>True</td>\n",
       "      <td>0</td>\n",
       "    </tr>\n",
       "    <tr>\n",
       "      <th>1</th>\n",
       "      <td>[348, 700, 2, 496, 705, 2, 469, 504, 2, 507, 4...</td>\n",
       "      <td>False</td>\n",
       "      <td>True</td>\n",
       "      <td>0</td>\n",
       "    </tr>\n",
       "    <tr>\n",
       "      <th>2</th>\n",
       "      <td>[748, 880, 2, 695, 729, 2, 618, 529, 2, 692, 4...</td>\n",
       "      <td>False</td>\n",
       "      <td>True</td>\n",
       "      <td>0</td>\n",
       "    </tr>\n",
       "    <tr>\n",
       "      <th>3</th>\n",
       "      <td>[800, 898, 2, 849, 780, 2, 852, 565, 2, 908, 5...</td>\n",
       "      <td>False</td>\n",
       "      <td>True</td>\n",
       "      <td>0</td>\n",
       "    </tr>\n",
       "    <tr>\n",
       "      <th>4</th>\n",
       "      <td>[833, 892, 2, 989, 820, 2, 1044, 609, 2, 1107,...</td>\n",
       "      <td>False</td>\n",
       "      <td>True</td>\n",
       "      <td>0</td>\n",
       "    </tr>\n",
       "    <tr>\n",
       "      <th>...</th>\n",
       "      <td>...</td>\n",
       "      <td>...</td>\n",
       "      <td>...</td>\n",
       "      <td>...</td>\n",
       "    </tr>\n",
       "    <tr>\n",
       "      <th>16488</th>\n",
       "      <td>[1058, 189, 2, 1059, 154, 2, 1056, 115, 2, 103...</td>\n",
       "      <td>False</td>\n",
       "      <td>False</td>\n",
       "      <td>2</td>\n",
       "    </tr>\n",
       "    <tr>\n",
       "      <th>16489</th>\n",
       "      <td>[992, 168, 1, 997, 138, 1, 1000, 110, 2, 986, ...</td>\n",
       "      <td>False</td>\n",
       "      <td>False</td>\n",
       "      <td>2</td>\n",
       "    </tr>\n",
       "    <tr>\n",
       "      <th>16490</th>\n",
       "      <td>[943, 256, 1, 935, 225, 1, 927, 185, 2, 934, 1...</td>\n",
       "      <td>False</td>\n",
       "      <td>False</td>\n",
       "      <td>2</td>\n",
       "    </tr>\n",
       "    <tr>\n",
       "      <th>16491</th>\n",
       "      <td>[1668, 453, 2, 1663, 399, 2, 1683, 350, 2, 171...</td>\n",
       "      <td>False</td>\n",
       "      <td>False</td>\n",
       "      <td>2</td>\n",
       "    </tr>\n",
       "    <tr>\n",
       "      <th>16492</th>\n",
       "      <td>[1394, 311, 2, 1374, 274, 2, 1391, 228, 2, 141...</td>\n",
       "      <td>False</td>\n",
       "      <td>False</td>\n",
       "      <td>2</td>\n",
       "    </tr>\n",
       "  </tbody>\n",
       "</table>\n",
       "<p>16493 rows × 4 columns</p>\n",
       "</div>"
      ],
      "text/plain": [
       "                                               keypoints  get_on  get_off  get\n",
       "0      [279, 703, 1, 337, 604, 2, 313, 413, 2, 314, 3...   False     True    0\n",
       "1      [348, 700, 2, 496, 705, 2, 469, 504, 2, 507, 4...   False     True    0\n",
       "2      [748, 880, 2, 695, 729, 2, 618, 529, 2, 692, 4...   False     True    0\n",
       "3      [800, 898, 2, 849, 780, 2, 852, 565, 2, 908, 5...   False     True    0\n",
       "4      [833, 892, 2, 989, 820, 2, 1044, 609, 2, 1107,...   False     True    0\n",
       "...                                                  ...     ...      ...  ...\n",
       "16488  [1058, 189, 2, 1059, 154, 2, 1056, 115, 2, 103...   False    False    2\n",
       "16489  [992, 168, 1, 997, 138, 1, 1000, 110, 2, 986, ...   False    False    2\n",
       "16490  [943, 256, 1, 935, 225, 1, 927, 185, 2, 934, 1...   False    False    2\n",
       "16491  [1668, 453, 2, 1663, 399, 2, 1683, 350, 2, 171...   False    False    2\n",
       "16492  [1394, 311, 2, 1374, 274, 2, 1391, 228, 2, 141...   False    False    2\n",
       "\n",
       "[16493 rows x 4 columns]"
      ]
     },
     "execution_count": 82,
     "metadata": {},
     "output_type": "execute_result"
    }
   ],
   "source": [
    "df"
   ]
  },
  {
   "cell_type": "code",
   "execution_count": 83,
   "id": "56790f67-b7d8-421e-9665-402ee8d0b68d",
   "metadata": {},
   "outputs": [
    {
     "data": {
      "text/plain": [
       "0         True\n",
       "1         True\n",
       "2         True\n",
       "3         True\n",
       "4         True\n",
       "         ...  \n",
       "16488    False\n",
       "16489    False\n",
       "16490    False\n",
       "16491    False\n",
       "16492    False\n",
       "Name: get_off, Length: 16493, dtype: bool"
      ]
     },
     "execution_count": 83,
     "metadata": {},
     "output_type": "execute_result"
    }
   ],
   "source": [
    "df['get_off']"
   ]
  },
  {
   "cell_type": "code",
   "execution_count": 84,
   "id": "e21bd386-9f10-4e24-86b0-a3af7088eef8",
   "metadata": {},
   "outputs": [],
   "source": [
    "import numpy as np"
   ]
  },
  {
   "cell_type": "code",
   "execution_count": 86,
   "id": "75f4fc3b-5ea8-4547-8eb6-9ef60ddbd699",
   "metadata": {},
   "outputs": [],
   "source": [
    "keypoints = np.array(keypoints)"
   ]
  },
  {
   "cell_type": "code",
   "execution_count": 87,
   "id": "8aa26c15-62e2-4810-9e3b-fb4dabe89f0c",
   "metadata": {},
   "outputs": [],
   "source": [
    "keypoints = keypoints.reshape(-1,16,1,3)"
   ]
  },
  {
   "cell_type": "code",
   "execution_count": 88,
   "id": "8d2a8922-c670-4451-8240-82011fba7b05",
   "metadata": {},
   "outputs": [
    {
     "data": {
      "text/plain": [
       "(16493, 16, 1, 3)"
      ]
     },
     "execution_count": 88,
     "metadata": {},
     "output_type": "execute_result"
    }
   ],
   "source": [
    "keypoints.shape"
   ]
  },
  {
   "cell_type": "code",
   "execution_count": 89,
   "id": "6888e3a5-48d2-4f66-9495-7a2e077c38c5",
   "metadata": {},
   "outputs": [],
   "source": [
    "from tensorflow.keras.utils import to_categorical\n",
    "y = to_categorical(get, num_classes=3)"
   ]
  },
  {
   "cell_type": "code",
   "execution_count": 90,
   "id": "7ae063b7-9e66-49b0-85ca-555d1c5fb6bd",
   "metadata": {
    "scrolled": true
   },
   "outputs": [
    {
     "data": {
      "text/plain": [
       "(16493, 3)"
      ]
     },
     "execution_count": 90,
     "metadata": {},
     "output_type": "execute_result"
    }
   ],
   "source": [
    "y.shape"
   ]
  },
  {
   "cell_type": "code",
   "execution_count": 91,
   "id": "f6374342-0d25-434e-bc85-5e79450cd911",
   "metadata": {},
   "outputs": [],
   "source": [
    "from sklearn.model_selection import train_test_split"
   ]
  },
  {
   "cell_type": "code",
   "execution_count": 92,
   "id": "e074c891-8f14-45ba-a469-45acedd16406",
   "metadata": {},
   "outputs": [],
   "source": [
    "x_train,x_test,y_train,y_test=train_test_split(keypoints,y,test_size=0.2,random_state=42)"
   ]
  },
  {
   "cell_type": "code",
   "execution_count": 93,
   "id": "82fc19a4-82d0-42ed-91b2-91db4c9fbd87",
   "metadata": {},
   "outputs": [],
   "source": [
    "import tensorflow as tf"
   ]
  },
  {
   "cell_type": "code",
   "execution_count": 94,
   "id": "5a96a61b-5519-4a07-afec-2a2126057cc9",
   "metadata": {},
   "outputs": [],
   "source": [
    "from keras.models import Sequential\n",
    "from keras.layers import Dense\n",
    "from tensorflow.keras.optimizers import Adam,SGD,RMSprop,Adagrad\n",
    "from tensorflow.keras.callbacks import EarlyStopping\n",
    "from keras.layers import Dropout, Flatten,Activation\n",
    "from keras.layers import Conv2D, MaxPooling2D, Conv3D, MaxPool2D"
   ]
  },
  {
   "cell_type": "code",
   "execution_count": 95,
   "id": "571161ba-2663-48e2-aae8-ae2d0260547d",
   "metadata": {},
   "outputs": [],
   "source": [
    "model=Sequential()\n",
    "model.add(Conv2D(30, kernel_size=3, padding='same', input_shape=(16, 1, 3))) \n",
    "# 이미지 특징 다운샘플링 Layer => MaxPool2D\n",
    "# 1차원으로 데이터 형태 변환 Layer => Flatten\n",
    "model.add(Flatten())\n",
    "model.add(Dense(64, activation='relu'))\n",
    "model.add(Dropout(0.3))\n",
    "model.add(Dense(3, activation='softmax')) # 1차원"
   ]
  },
  {
   "cell_type": "code",
   "execution_count": 96,
   "id": "e8f14047-9334-47e2-8498-ade3ccadbbcd",
   "metadata": {},
   "outputs": [
    {
     "name": "stdout",
     "output_type": "stream",
     "text": [
      "Model: \"sequential_3\"\n",
      "_________________________________________________________________\n",
      " Layer (type)                Output Shape              Param #   \n",
      "=================================================================\n",
      " conv2d_3 (Conv2D)           (None, 16, 1, 30)         840       \n",
      "                                                                 \n",
      " flatten_3 (Flatten)         (None, 480)               0         \n",
      "                                                                 \n",
      " dense_6 (Dense)             (None, 64)                30784     \n",
      "                                                                 \n",
      " dropout_3 (Dropout)         (None, 64)                0         \n",
      "                                                                 \n",
      " dense_7 (Dense)             (None, 3)                 195       \n",
      "                                                                 \n",
      "=================================================================\n",
      "Total params: 31,819\n",
      "Trainable params: 31,819\n",
      "Non-trainable params: 0\n",
      "_________________________________________________________________\n"
     ]
    }
   ],
   "source": [
    "model.summary()"
   ]
  },
  {
   "cell_type": "code",
   "execution_count": 97,
   "id": "cf021924-dd0d-4288-ac70-48bbe18302e4",
   "metadata": {},
   "outputs": [],
   "source": [
    "model.compile(optimizer='adam', loss='categorical_crossentropy', metrics=['accuracy'])"
   ]
  },
  {
   "cell_type": "code",
   "execution_count": 98,
   "id": "b80edadf-a454-4a1a-898b-3b04f2fb73c6",
   "metadata": {},
   "outputs": [
    {
     "name": "stdout",
     "output_type": "stream",
     "text": [
      "Epoch 1/30\n",
      "165/165 [==============================] - 3s 8ms/step - loss: 11.7300 - accuracy: 0.5028 - val_loss: 0.8292 - val_accuracy: 0.5699\n",
      "Epoch 2/30\n",
      "165/165 [==============================] - 1s 4ms/step - loss: 0.8816 - accuracy: 0.5628 - val_loss: 0.7939 - val_accuracy: 0.5623\n",
      "Epoch 3/30\n",
      "165/165 [==============================] - 1s 5ms/step - loss: 0.8612 - accuracy: 0.5709 - val_loss: 0.8354 - val_accuracy: 0.5710\n",
      "Epoch 4/30\n",
      "165/165 [==============================] - 1s 5ms/step - loss: 0.8304 - accuracy: 0.5702 - val_loss: 0.7642 - val_accuracy: 0.5809\n",
      "Epoch 5/30\n",
      "165/165 [==============================] - 1s 5ms/step - loss: 0.8269 - accuracy: 0.5719 - val_loss: 0.7477 - val_accuracy: 0.5854\n",
      "Epoch 6/30\n",
      "165/165 [==============================] - 1s 5ms/step - loss: 0.8239 - accuracy: 0.5710 - val_loss: 0.7736 - val_accuracy: 0.5654\n",
      "Epoch 7/30\n",
      "165/165 [==============================] - 1s 5ms/step - loss: 0.8239 - accuracy: 0.5738 - val_loss: 0.7688 - val_accuracy: 0.5972\n",
      "Epoch 8/30\n",
      "165/165 [==============================] - 1s 5ms/step - loss: 0.8304 - accuracy: 0.5636 - val_loss: 0.7238 - val_accuracy: 0.5926\n",
      "Epoch 9/30\n",
      "165/165 [==============================] - 1s 5ms/step - loss: 0.7796 - accuracy: 0.5832 - val_loss: 0.8651 - val_accuracy: 0.5892\n",
      "Epoch 10/30\n",
      "165/165 [==============================] - 1s 4ms/step - loss: 0.7754 - accuracy: 0.5811 - val_loss: 0.7003 - val_accuracy: 0.5995\n",
      "Epoch 11/30\n",
      "165/165 [==============================] - 1s 4ms/step - loss: 0.7750 - accuracy: 0.5821 - val_loss: 0.7619 - val_accuracy: 0.6495\n",
      "Epoch 12/30\n",
      "165/165 [==============================] - 1s 4ms/step - loss: 0.7749 - accuracy: 0.5612 - val_loss: 0.6984 - val_accuracy: 0.6548\n",
      "Epoch 13/30\n",
      "165/165 [==============================] - 1s 4ms/step - loss: 0.7699 - accuracy: 0.5621 - val_loss: 0.6965 - val_accuracy: 0.6745\n",
      "Epoch 14/30\n",
      "165/165 [==============================] - 1s 5ms/step - loss: 0.7595 - accuracy: 0.5744 - val_loss: 0.7029 - val_accuracy: 0.6756\n",
      "Epoch 15/30\n",
      "165/165 [==============================] - 1s 5ms/step - loss: 0.7626 - accuracy: 0.5748 - val_loss: 0.7168 - val_accuracy: 0.6703\n",
      "Epoch 16/30\n",
      "165/165 [==============================] - 1s 4ms/step - loss: 0.7463 - accuracy: 0.5911 - val_loss: 0.7238 - val_accuracy: 0.6760\n",
      "Epoch 17/30\n",
      "165/165 [==============================] - 1s 5ms/step - loss: 0.7540 - accuracy: 0.5856 - val_loss: 0.7133 - val_accuracy: 0.6768\n",
      "Epoch 18/30\n",
      "165/165 [==============================] - 1s 5ms/step - loss: 0.7540 - accuracy: 0.5901 - val_loss: 0.7175 - val_accuracy: 0.6927\n",
      "Epoch 19/30\n",
      "165/165 [==============================] - 1s 4ms/step - loss: 0.7602 - accuracy: 0.5870 - val_loss: 0.7853 - val_accuracy: 0.6048\n",
      "Epoch 20/30\n",
      "165/165 [==============================] - 1s 4ms/step - loss: 0.7507 - accuracy: 0.5936 - val_loss: 0.6851 - val_accuracy: 0.6938\n",
      "Epoch 21/30\n",
      "165/165 [==============================] - 1s 5ms/step - loss: 0.7426 - accuracy: 0.5996 - val_loss: 0.6744 - val_accuracy: 0.6972\n",
      "Epoch 22/30\n",
      "165/165 [==============================] - 1s 4ms/step - loss: 0.7450 - accuracy: 0.5966 - val_loss: 0.6627 - val_accuracy: 0.6616\n",
      "Epoch 23/30\n",
      "165/165 [==============================] - 1s 4ms/step - loss: 0.7436 - accuracy: 0.5995 - val_loss: 0.6798 - val_accuracy: 0.7078\n",
      "Epoch 24/30\n",
      "165/165 [==============================] - 1s 4ms/step - loss: 0.7404 - accuracy: 0.6051 - val_loss: 0.6645 - val_accuracy: 0.7052\n",
      "Epoch 25/30\n",
      "165/165 [==============================] - 1s 5ms/step - loss: 0.7384 - accuracy: 0.6044 - val_loss: 0.6665 - val_accuracy: 0.7037\n",
      "Epoch 26/30\n",
      "165/165 [==============================] - 1s 5ms/step - loss: 0.7461 - accuracy: 0.6154 - val_loss: 0.6874 - val_accuracy: 0.6862\n",
      "Epoch 27/30\n",
      "165/165 [==============================] - 1s 5ms/step - loss: 0.7294 - accuracy: 0.6130 - val_loss: 0.6544 - val_accuracy: 0.7018\n",
      "Epoch 28/30\n",
      "165/165 [==============================] - 1s 5ms/step - loss: 0.7513 - accuracy: 0.6085 - val_loss: 0.6740 - val_accuracy: 0.7124\n",
      "Epoch 29/30\n",
      "165/165 [==============================] - 1s 5ms/step - loss: 0.7433 - accuracy: 0.6128 - val_loss: 0.6682 - val_accuracy: 0.6965\n",
      "Epoch 30/30\n",
      "165/165 [==============================] - 1s 5ms/step - loss: 0.7512 - accuracy: 0.6106 - val_loss: 0.6791 - val_accuracy: 0.7056\n"
     ]
    },
    {
     "data": {
      "text/plain": [
       "<keras.callbacks.History at 0x2381e879970>"
      ]
     },
     "execution_count": 98,
     "metadata": {},
     "output_type": "execute_result"
    }
   ],
   "source": [
    "model.fit(x_train,y_train,epochs=30,batch_size=64,validation_split=0.2)"
   ]
  },
  {
   "cell_type": "code",
   "execution_count": 99,
   "id": "7a6f21cf-ab00-4316-ab43-37e58515a277",
   "metadata": {},
   "outputs": [
    {
     "name": "stdout",
     "output_type": "stream",
     "text": [
      "104/104 [==============================] - 0s 2ms/step - loss: 0.6684 - accuracy: 0.7142\n"
     ]
    },
    {
     "data": {
      "text/plain": [
       "[0.6683507561683655, 0.7141557931900024]"
      ]
     },
     "execution_count": 99,
     "metadata": {},
     "output_type": "execute_result"
    }
   ],
   "source": [
    "model.evaluate(x_test,y_test)"
   ]
  }
 ],
 "metadata": {
  "kernelspec": {
   "display_name": "Python 3 (ipykernel)",
   "language": "python",
   "name": "python3"
  },
  "language_info": {
   "codemirror_mode": {
    "name": "ipython",
    "version": 3
   },
   "file_extension": ".py",
   "mimetype": "text/x-python",
   "name": "python",
   "nbconvert_exporter": "python",
   "pygments_lexer": "ipython3",
   "version": "3.7.15"
  },
  "vscode": {
   "interpreter": {
    "hash": "25334c1ec4fe8ade4d2de16036465563188327fab73b93d66eced48be3141c83"
   }
  }
 },
 "nbformat": 4,
 "nbformat_minor": 5
}
