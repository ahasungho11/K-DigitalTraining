{
 "cells": [
  {
   "cell_type": "code",
   "execution_count": 211,
   "id": "529e0af5-d663-475d-9bca-7f1ce47241c1",
   "metadata": {},
   "outputs": [],
   "source": [
    "# 모듈 로딩(1)\n",
    "import json\n",
    "import pandas as pd\n",
    "import os\n",
    "import matplotlib.pyplot as plt\n",
    "from tqdm import tqdm\n",
    "import numpy as np\n",
    "from collections import Counter"
   ]
  },
  {
   "cell_type": "code",
   "execution_count": 212,
   "id": "06c74abc-0234-4fe8-b899-8176e8b51081",
   "metadata": {},
   "outputs": [],
   "source": [
    "# 모듈 로딩(2)\n",
    "from tensorflow.keras.utils import set_random_seed, plot_model\n",
    "from tensorflow.keras import Sequential\n",
    "from tensorflow.keras.layers import Dense, Conv2D, Flatten, MaxPool2D\n",
    "from tensorflow.keras.datasets.fashion_mnist import load_data\n",
    "import matplotlib.pyplot as plt"
   ]
  },
  {
   "cell_type": "code",
   "execution_count": 213,
   "id": "2bc51480-886f-4021-9ddd-5d1c350a0c16",
   "metadata": {},
   "outputs": [],
   "source": [
    "df = pd.read_csv('./bus_getonoff_sum.csv')\n",
    "# df"
   ]
  },
  {
   "cell_type": "markdown",
   "id": "05dc94ee-e283-43dd-b1f7-698a0d53b05d",
   "metadata": {},
   "source": [
    "***"
   ]
  },
  {
   "cell_type": "code",
   "execution_count": 214,
   "id": "f5aa5cbc-6635-4064-bc3e-b7fb240f9e73",
   "metadata": {},
   "outputs": [
    {
     "data": {
      "text/plain": [
       "2    626429\n",
       "0    225248\n",
       "1    131447\n",
       "Name: get_num, dtype: int64"
      ]
     },
     "execution_count": 214,
     "metadata": {},
     "output_type": "execute_result"
    }
   ],
   "source": [
    "df['get_num'].value_counts()"
   ]
  },
  {
   "cell_type": "markdown",
   "id": "d84cd74b-4925-472e-a6d8-0434fb2520e5",
   "metadata": {},
   "source": [
    "***"
   ]
  },
  {
   "cell_type": "code",
   "execution_count": 215,
   "id": "9adeac5b-00a9-4816-bb88-0b3405dc4ac6",
   "metadata": {},
   "outputs": [
    {
     "data": {
      "text/plain": [
       "3    486990\n",
       "1    279102\n",
       "0    108011\n",
       "5     99613\n",
       "4      4799\n",
       "7      2641\n",
       "2      1631\n",
       "6       337\n",
       "Name: action_num, dtype: int64"
      ]
     },
     "execution_count": 215,
     "metadata": {},
     "output_type": "execute_result"
    }
   ],
   "source": [
    "df['action_num'].value_counts()\n",
    "# 약 90만개의 데이터가 있음"
   ]
  },
  {
   "cell_type": "code",
   "execution_count": 216,
   "id": "9c41d70e-47f4-4f85-bb96-0e7a2f38fe87",
   "metadata": {},
   "outputs": [],
   "source": [
    "df1 = pd.read_csv('./bus_state.csv')"
   ]
  },
  {
   "cell_type": "code",
   "execution_count": 217,
   "id": "f22985ee-24c3-47fa-93c1-78b97fb9980b",
   "metadata": {},
   "outputs": [
    {
     "data": {
      "text/plain": [
       "3    14756\n",
       "0     9412\n",
       "1     8111\n",
       "4     4718\n",
       "5     3791\n",
       "7     2641\n",
       "6      327\n",
       "2      150\n",
       "Name: action_num, dtype: int64"
      ]
     },
     "execution_count": 217,
     "metadata": {},
     "output_type": "execute_result"
    }
   ],
   "source": [
    "df1['action_num'].value_counts()"
   ]
  },
  {
   "cell_type": "code",
   "execution_count": 218,
   "id": "7aad5443-f703-4c33-ad2d-2e087de4a432",
   "metadata": {},
   "outputs": [],
   "source": [
    "# 6k 10\n",
    "# 2r 1100 (x)\n",
    "# 0st, 1w, 3s d, 5g h 다\n",
    "# 4l d ,7p =\n",
    "# ===== \n",
    "# 6(kick)은 그다지 늘어나지 않음\n",
    "# 2(run)은 그렇게 많지는 않을 것임\n",
    "# 4(lay down)과 7(punch)는 거의 변동x\n",
    "# 0(stand), 1(walk), 3(sit down), 5(grab handle)은 많이 늘어남\n",
    "# 효용이 있을지는 모르겠으나 일단 ㄱ"
   ]
  },
  {
   "cell_type": "code",
   "execution_count": 219,
   "id": "8aeefd05-fac7-4ec9-a5b8-3395e937348b",
   "metadata": {},
   "outputs": [
    {
     "data": {
      "text/html": [
       "<div>\n",
       "<style scoped>\n",
       "    .dataframe tbody tr th:only-of-type {\n",
       "        vertical-align: middle;\n",
       "    }\n",
       "\n",
       "    .dataframe tbody tr th {\n",
       "        vertical-align: top;\n",
       "    }\n",
       "\n",
       "    .dataframe thead th {\n",
       "        text-align: right;\n",
       "    }\n",
       "</style>\n",
       "<table border=\"1\" class=\"dataframe\">\n",
       "  <thead>\n",
       "    <tr style=\"text-align: right;\">\n",
       "      <th></th>\n",
       "      <th>bbox</th>\n",
       "      <th>keypoints</th>\n",
       "      <th>action</th>\n",
       "      <th>get_on</th>\n",
       "      <th>get_off</th>\n",
       "      <th>get_num</th>\n",
       "      <th>action_num</th>\n",
       "    </tr>\n",
       "  </thead>\n",
       "  <tbody>\n",
       "    <tr>\n",
       "      <th>0</th>\n",
       "      <td>[974, 266, 1471, 1077]</td>\n",
       "      <td>[1074, 1020, 2, 1111, 923, 2, 1151, 752, 2, 12...</td>\n",
       "      <td>stand</td>\n",
       "      <td>True</td>\n",
       "      <td>False</td>\n",
       "      <td>1</td>\n",
       "      <td>0</td>\n",
       "    </tr>\n",
       "    <tr>\n",
       "      <th>1</th>\n",
       "      <td>[1017, 224, 1452, 1060]</td>\n",
       "      <td>[1094, 918, 2, 1131, 802, 2, 1185, 643, 2, 131...</td>\n",
       "      <td>stand</td>\n",
       "      <td>True</td>\n",
       "      <td>False</td>\n",
       "      <td>1</td>\n",
       "      <td>0</td>\n",
       "    </tr>\n",
       "    <tr>\n",
       "      <th>2</th>\n",
       "      <td>[1007, 224, 1445, 1049]</td>\n",
       "      <td>[1085, 909, 2, 1118, 787, 2, 1174, 634, 2, 129...</td>\n",
       "      <td>stand</td>\n",
       "      <td>True</td>\n",
       "      <td>False</td>\n",
       "      <td>1</td>\n",
       "      <td>0</td>\n",
       "    </tr>\n",
       "    <tr>\n",
       "      <th>3</th>\n",
       "      <td>[1007, 222, 1428, 1049]</td>\n",
       "      <td>[1082, 908, 2, 1113, 786, 2, 1155, 627, 2, 127...</td>\n",
       "      <td>stand</td>\n",
       "      <td>True</td>\n",
       "      <td>False</td>\n",
       "      <td>1</td>\n",
       "      <td>0</td>\n",
       "    </tr>\n",
       "    <tr>\n",
       "      <th>4</th>\n",
       "      <td>[995, 220, 1421, 1044]</td>\n",
       "      <td>[1071, 904, 2, 1102, 782, 2, 1144, 623, 2, 127...</td>\n",
       "      <td>stand</td>\n",
       "      <td>True</td>\n",
       "      <td>False</td>\n",
       "      <td>1</td>\n",
       "      <td>0</td>\n",
       "    </tr>\n",
       "  </tbody>\n",
       "</table>\n",
       "</div>"
      ],
      "text/plain": [
       "                      bbox                                          keypoints  \\\n",
       "0   [974, 266, 1471, 1077]  [1074, 1020, 2, 1111, 923, 2, 1151, 752, 2, 12...   \n",
       "1  [1017, 224, 1452, 1060]  [1094, 918, 2, 1131, 802, 2, 1185, 643, 2, 131...   \n",
       "2  [1007, 224, 1445, 1049]  [1085, 909, 2, 1118, 787, 2, 1174, 634, 2, 129...   \n",
       "3  [1007, 222, 1428, 1049]  [1082, 908, 2, 1113, 786, 2, 1155, 627, 2, 127...   \n",
       "4   [995, 220, 1421, 1044]  [1071, 904, 2, 1102, 782, 2, 1144, 623, 2, 127...   \n",
       "\n",
       "  action  get_on  get_off  get_num  action_num  \n",
       "0  stand    True    False        1           0  \n",
       "1  stand    True    False        1           0  \n",
       "2  stand    True    False        1           0  \n",
       "3  stand    True    False        1           0  \n",
       "4  stand    True    False        1           0  "
      ]
     },
     "execution_count": 219,
     "metadata": {},
     "output_type": "execute_result"
    }
   ],
   "source": [
    "df.head()"
   ]
  },
  {
   "cell_type": "code",
   "execution_count": 220,
   "id": "8b04eb75-cfd5-48cf-8464-cb31756dc57b",
   "metadata": {},
   "outputs": [
    {
     "data": {
      "text/plain": [
       "0         [1074, 1020, 2, 1111, 923, 2, 1151, 752, 2, 12...\n",
       "1         [1094, 918, 2, 1131, 802, 2, 1185, 643, 2, 131...\n",
       "2         [1085, 909, 2, 1118, 787, 2, 1174, 634, 2, 129...\n",
       "3         [1082, 908, 2, 1113, 786, 2, 1155, 627, 2, 127...\n",
       "4         [1071, 904, 2, 1102, 782, 2, 1144, 623, 2, 127...\n",
       "                                ...                        \n",
       "983119    [997, 1077, 0, 997, 1010, 0, 1016, 1042, 0, 88...\n",
       "983120    [1458, 636, 1, 1483, 581, 1, 1494, 658, 1, 141...\n",
       "983121    [1446, 632, 1, 1471, 577, 1, 1482, 654, 1, 139...\n",
       "983122    [1373, 670, 1, 1372, 585, 1, 1418, 523, 2, 133...\n",
       "983123    [1331, 670, 1, 1337, 561, 1, 1381, 437, 1, 129...\n",
       "Name: keypoints, Length: 983124, dtype: object"
      ]
     },
     "execution_count": 220,
     "metadata": {},
     "output_type": "execute_result"
    }
   ],
   "source": [
    "df['keypoints']"
   ]
  },
  {
   "cell_type": "code",
   "execution_count": 221,
   "id": "6a97a128-b4b6-4a56-8b2b-7fdb7e1fefe6",
   "metadata": {},
   "outputs": [],
   "source": [
    "# 열 타입변경\n",
    "# keypoints와 bbox는 문자열 값으로 저장되어 있어서 배열 형태로 바꾸어 주어야 할 필요성이 있어보여서 이 코드를 만듬\n",
    "keypoins_arr=[]\n",
    "bbox_arr=[]\n",
    "\n",
    "for i in range(len(df)): # 테이블 행 수 만큼 for문 돌림\n",
    "    bbox_arr.append(np.array(list(map(int,df.bbox[i].strip('[').strip(']').split(','))))) \n",
    "    keypoins_arr.append(np.array(list(map(int,df.keypoints[i].strip('[').strip(']').split(',')))))\n",
    "    \n",
    "# 배열 형태로 값들이 저장됨\n",
    "df.bbox=bbox_arr\n",
    "df.keypoints=keypoins_arr\n"
   ]
  },
  {
   "cell_type": "code",
   "execution_count": 222,
   "id": "c48ba3d1-20d2-44be-ae79-29bf35e0dcb1",
   "metadata": {
    "tags": []
   },
   "outputs": [],
   "source": [
    "keypoints = np.array(list(df.keypoints)).reshape(-1,16,3,1)"
   ]
  },
  {
   "cell_type": "code",
   "execution_count": 223,
   "id": "c6dcbaf0-eec3-4e04-a387-43e031f399d5",
   "metadata": {},
   "outputs": [
    {
     "data": {
      "text/plain": [
       "pandas.core.series.Series"
      ]
     },
     "execution_count": 223,
     "metadata": {},
     "output_type": "execute_result"
    }
   ],
   "source": [
    "type(df.keypoints)"
   ]
  },
  {
   "cell_type": "code",
   "execution_count": 224,
   "id": "fd2080d2-2c65-4d82-ac96-7fbb2cb39874",
   "metadata": {},
   "outputs": [
    {
     "data": {
      "text/plain": [
       "(983124, 16, 1, 3)"
      ]
     },
     "execution_count": 224,
     "metadata": {},
     "output_type": "execute_result"
    }
   ],
   "source": [
    "keypoints.shape"
   ]
  },
  {
   "cell_type": "code",
   "execution_count": null,
   "id": "7fb5d629-e2ec-4004-bcf1-8ff9ecf6cf3f",
   "metadata": {},
   "outputs": [],
   "source": []
  },
  {
   "cell_type": "code",
   "execution_count": 225,
   "id": "c5ca6da8-6f70-47a8-96fb-3315e7d545de",
   "metadata": {},
   "outputs": [
    {
     "data": {
      "text/plain": [
       "(983124,)"
      ]
     },
     "execution_count": 225,
     "metadata": {},
     "output_type": "execute_result"
    }
   ],
   "source": [
    "# 'action_num'을 배열로만 넘겨주면 되겠지\n",
    "y = np.array(df.action_num)\n",
    "y.shape"
   ]
  },
  {
   "cell_type": "code",
   "execution_count": 226,
   "id": "0dbcfef1-eb85-4641-8721-6748f9d7adeb",
   "metadata": {},
   "outputs": [],
   "source": [
    "# train과 test 나누기\n",
    "from sklearn.model_selection import train_test_split\n",
    "x_train, x_test, y_train, y_test = train_test_split(keypoints, y, test_size=0.2, random_state=42)"
   ]
  },
  {
   "cell_type": "code",
   "execution_count": 227,
   "id": "987fe259-0415-461c-bbc4-63c5f3e15bba",
   "metadata": {},
   "outputs": [],
   "source": [
    "import tensorflow as tf"
   ]
  },
  {
   "cell_type": "code",
   "execution_count": 244,
   "id": "c83a566b-176f-4ce8-8dab-9c6308d8aaa4",
   "metadata": {},
   "outputs": [],
   "source": [
    "from keras.models import Sequential\n",
    "from keras.layers import Dense\n",
    "from tensorflow.keras.optimizers import Adam,SGD,RMSprop,Adagrad\n",
    "from tensorflow.keras.callbacks import EarlyStopping\n",
    "from keras.layers import Dropout, Flatten,Activation, BatchNormalization\n",
    "from keras.layers import Conv2D, MaxPooling2D, Conv3D, MaxPool2D"
   ]
  },
  {
   "cell_type": "markdown",
   "id": "f67fe500-7402-4902-9347-2d995b3b54f9",
   "metadata": {},
   "source": [
    "***"
   ]
  },
  {
   "cell_type": "markdown",
   "id": "46e605cd-6b63-4de7-8134-13c9d54a836b",
   "metadata": {},
   "source": [
    "***"
   ]
  },
  {
   "cell_type": "markdown",
   "id": "8b72bbf7-5811-4e71-ba7e-f021d96900e8",
   "metadata": {},
   "source": [
    "***"
   ]
  },
  {
   "cell_type": "code",
   "execution_count": 205,
   "id": "67848f10-4737-4e58-b054-e406f9f4cd4a",
   "metadata": {},
   "outputs": [],
   "source": [
    "# model=Sequential()\n",
    "# 이미지 특징 추출 Layer => 첫번째 입력값 설정\n",
    "model.add(Conv2D(10, kernel_size=3, padding='same', input_shape=(28,28,1)))\n",
    "\n",
    "# Conv와 MaxPool2D는 한 세트로 생각하고 바로 입력\n",
    "# 이미지 특징 다운샘플링 layer => MaxPool2D\n",
    "\n",
    "# 더이상 한 세트를 실행하지 않겠다 => 출력전 1차원으로 펴줘야 함\n",
    "# 1차원으로 데이터 형태 변환 Layer => Flatten\n",
    "model.add(Flatten())\n",
    "\n",
    "# 결과 출력층 => Node : 0-9까지 10개, activation : softmax\n",
    "model.add(Dense(10, activation='softmax'))\n",
    "\n",
    "# 아웃풋으로 보는 것\n",
    "model.summary()\n",
    "# (None, 28, 28, 1)에서 None은 -1이라고 생각하면 됨 <= 몇 개 들어올지 모름\n",
    "# 피처는 786개인데\n",
    "# 왜 Param #이 10 ?\n",
    "# -> 커널 한개 특징맵 1개\n",
    "# -> 커널에는 가중치가 들어 있음 (3x3+1) => 10개 (1개는 bias)\n",
    "\n",
    "# 커널마다 특징맵에 2개가 되니까, 커널을 2개로 바꾸면\n",
    "# => (None, 28, 28, 1) -> (None, 28, 28, 2)\n",
    "\n",
    "# pedding = 'same'을 없애면\n",
    "# (None, 28, 28, 2) -> (None, 26, 26, 2)\n",
    "\n",
    "# MaxPool2D -> 연산x, 가로세로 줄어듦 : (28->14)\n",
    "\n",
    "# 과정 시각화 (인풋도 볼 수 있즤)\n",
    "# plot_model(model, show_shapes=True, to_file='CNN.png')\n"
   ]
  },
  {
   "cell_type": "markdown",
   "id": "9e066788-c1ba-4414-b948-ff01e23d2ce3",
   "metadata": {},
   "source": [
    "***"
   ]
  },
  {
   "cell_type": "code",
   "execution_count": null,
   "id": "43aa8e87-ae72-4cc3-8a97-1d9c4db2696e",
   "metadata": {},
   "outputs": [],
   "source": []
  },
  {
   "cell_type": "code",
   "execution_count": 229,
   "id": "33dda633-cf91-4ebd-9003-82fadf06865d",
   "metadata": {},
   "outputs": [],
   "source": [
    "model=Sequential()\n",
    "model.add(Conv2D(30, kernel_size=3, padding='same', input_shape=(16, 3, 1))) \n",
    "# 이미지 특징 다운샘플링 Layer => MaxPool2D\n",
    "# 1차원으로 데이터 형태 변환 Layer => Flatten\n",
    "model.add(Flatten())\n",
    "model.add(Dense(64, activation='relu'))\n",
    "model.add(Dropout(0.3))\n",
    "model.add(Dense(8, activation='softmax')) # 1차원"
   ]
  },
  {
   "cell_type": "code",
   "execution_count": null,
   "id": "4702aaf7-048c-4e22-a6fa-338a03114543",
   "metadata": {},
   "outputs": [],
   "source": []
  },
  {
   "cell_type": "code",
   "execution_count": null,
   "id": "26931750-d73a-4118-a6c8-6e4ee25b9473",
   "metadata": {},
   "outputs": [],
   "source": [
    "model = Sequential()\n",
    "\n",
    "model.add(Conv2D(input_shape = (X_train.shape[1], X_train.shape[2], X_train.shape[3]), filters = 50, kernel_size = (3,3), strides = (1,1), padding = 'same', kernel_initializer='he_normal'))\n",
    "model.add(BatchNormalization())\n",
    "model.add(Activation('relu'))\n",
    "model.add(Conv2D(filters = 50, kernel_size = (3,3), strides = (1,1), padding = 'same', kernel_initializer='he_normal'))\n",
    "model.add(BatchNormalization())\n",
    "model.add(Activation('relu'))\n",
    "model.add(MaxPooling2D(pool_size = (2,2)))\n",
    "model.add(Conv2D(filters = 50, kernel_size = (3,3), strides = (1,1), padding = 'same', kernel_initializer='he_normal'))\n",
    "model.add(BatchNormalization())\n",
    "model.add(Activation('relu'))\n",
    "model.add(Conv2D(filters = 50, kernel_size = (3,3), strides = (1,1), padding = 'same', kernel_initializer='he_normal'))\n",
    "model.add(BatchNormalization())\n",
    "model.add(Activation('relu'))\n",
    "model.add(MaxPooling2D(pool_size = (2,2)))\n",
    "model.add(Conv2D(filters = 50, kernel_size = (3,3), strides = (1,1), padding = 'same', kernel_initializer='he_normal'))\n",
    "model.add(BatchNormalization())\n",
    "model.add(Activation('relu'))\n",
    "model.add(Conv2D(filters = 50, kernel_size = (3,3), strides = (1,1), padding = 'same', kernel_initializer='he_normal'))\n",
    "model.add(BatchNormalization())\n",
    "model.add(Activation('relu'))\n",
    "model.add(MaxPooling2D(pool_size = (2,2)))"
   ]
  },
  {
   "cell_type": "code",
   "execution_count": 245,
   "id": "9865c8ac-e047-4928-88d9-73e908319a5f",
   "metadata": {},
   "outputs": [],
   "source": [
    "# 2D \n",
    "model = Sequential()\n",
    "model.add(Conv2D(32, kernel_size=3, activation='relu', kernel_initializer='he_uniform', input_shape=(16,3,1)))\n",
    "model.add(MaxPooling2D(pool_size=2,padding='same'))\n",
    "model.add(BatchNormalization(center=True, scale=True))\n",
    "model.add(Dropout(0.5))\n",
    "# model.add(Conv2D(64, kernel_size=3, activation='relu', kernel_initializer='he_uniform'))\n",
    "# model.add(MaxPooling2D(pool_size=2,padding='same'))\n",
    "# model.add(BatchNormalization(center=True, scale=True))\n",
    "# model.add(Dropout(0.5))\n",
    "model.add(Flatten())\n",
    "model.add(Dense(256, activation='relu', kernel_initializer='he_uniform'))\n",
    "model.add(Dense(256, activation='relu', kernel_initializer='he_uniform'))\n",
    "model.add(Dense(8, activation='softmax'))"
   ]
  },
  {
   "cell_type": "markdown",
   "id": "51f1caba-41ce-41c2-93d4-76c93ea6523a",
   "metadata": {},
   "source": [
    "# 여기요 여기예요\n",
    "---"
   ]
  },
  {
   "cell_type": "code",
   "execution_count": 253,
   "id": "c70b64c3-ea02-4ea8-a074-d72b44b1ecee",
   "metadata": {},
   "outputs": [],
   "source": [
    "# CNN2d\n",
    "model = Sequential()          \n",
    "model.add(Conv2D(filters = 50, kernel_size = (3,3), strides = (1,1), padding = 'same', kernel_initializer='he_normal', input_shape=(16,3,1)))\n",
    "model.add(BatchNormalization())\n",
    "model.add(Activation('relu'))\n",
    "model.add(Conv2D(filters = 50, kernel_size = (3,3), strides = (1,1), padding = 'same', kernel_initializer='he_normal'))\n",
    "model.add(BatchNormalization())\n",
    "model.add(Activation('relu'))\n",
    "model.add(MaxPooling2D(pool_size = (2,2)))\n",
    "model.add(Conv2D(filters = 50, kernel_size = (3,3), strides = (1,1), padding = 'same', kernel_initializer='he_normal'))\n",
    "model.add(BatchNormalization())\n",
    "model.add(Activation('relu'))\n",
    "model.add(Conv2D(filters = 50, kernel_size = (3,3), strides = (1,1), padding = 'same', kernel_initializer='he_normal'))\n",
    "model.add(BatchNormalization())\n",
    "model.add(Activation('relu'))\n",
    "model.add(Flatten())\n",
    "\n",
    "# dense layer with 50 neurons\n",
    "model.add(Dense(50, activation = 'relu', kernel_initializer='he_normal'))\n",
    "model.add(Dropout(0.5))\n",
    "\n",
    "# final layer with 8 neurons to classify the instances\n",
    "model.add(Dense(8, activation='softmax'))\n",
    "\n",
    "# model 컴파일\n",
    "model.compile(loss='sparse_categorical_crossentropy',\n",
    "              optimizer=tf.keras.optimizers.Adam(lr=0.001),\n",
    "              metrics=['accuracy'])\n",
    "\n",
    "# print(model.summary())\n"
   ]
  },
  {
   "cell_type": "code",
   "execution_count": null,
   "id": "f1f80252-de56-42fc-b230-03e0843bcbd5",
   "metadata": {},
   "outputs": [],
   "source": []
  },
  {
   "cell_type": "code",
   "execution_count": null,
   "id": "3dfbfc2d-68de-4592-8726-016583aa727f",
   "metadata": {},
   "outputs": [],
   "source": []
  },
  {
   "cell_type": "code",
   "execution_count": null,
   "id": "640e1ab0-60ea-48fd-b46e-d58dda9fee94",
   "metadata": {},
   "outputs": [],
   "source": []
  },
  {
   "cell_type": "markdown",
   "id": "278a0dae-47ac-413a-896d-6a6d648118dd",
   "metadata": {},
   "source": [
    "***"
   ]
  },
  {
   "cell_type": "code",
   "execution_count": 251,
   "id": "27ad80c3-59f4-4ebd-b045-d7d120c22620",
   "metadata": {},
   "outputs": [
    {
     "name": "stderr",
     "output_type": "stream",
     "text": [
      "C:\\Users\\ahasu\\anaconda3\\lib\\site-packages\\keras\\optimizers\\optimizer_v2\\adam.py:114: UserWarning: The `lr` argument is deprecated, use `learning_rate` instead.\n",
      "  super().__init__(name, **kwargs)\n"
     ]
    }
   ],
   "source": [
    "# prior layer should be flattend to be connected to dense layers\n",
    "model.add(Flatten())\n",
    "\n",
    "# dense layer with 50 neurons\n",
    "model.add(Dense(50, activation = 'relu', kernel_initializer='he_normal'))\n",
    "model.add(Dropout(0.5))\n",
    "\n",
    "# final layer with 10 neurons to classify the instances\n",
    "model.add(Dense(10, activation = 'softmax', kernel_initializer='he_normal'))\n",
    "\n",
    "# model 컴파일\n",
    "model.compile(loss='sparse_categorical_crossentropy',\n",
    "              optimizer=tf.keras.optimizers.Adam(lr=0.001),\n",
    "              metrics=['accuracy'])\n",
    "\n",
    "# adam = optimizers.Adam(lr = 0.001)\n",
    "# model.compile(loss = 'categorical_crossentropy', optimizer = adam, metrics = ['accuracy'])\n"
   ]
  },
  {
   "cell_type": "code",
   "execution_count": null,
   "id": "f67ddc39-fe0a-4a48-bbba-2b6be2cf11bc",
   "metadata": {},
   "outputs": [],
   "source": []
  },
  {
   "cell_type": "code",
   "execution_count": 254,
   "id": "8fdc9756-a3b2-410f-998d-4f7870e49299",
   "metadata": {},
   "outputs": [
    {
     "name": "stdout",
     "output_type": "stream",
     "text": [
      "Epoch 1/20\n"
     ]
    },
    {
     "ename": "ValueError",
     "evalue": "in user code:\n\n    File \"C:\\Users\\ahasu\\anaconda3\\lib\\site-packages\\keras\\engine\\training.py\", line 1160, in train_function  *\n        return step_function(self, iterator)\n    File \"C:\\Users\\ahasu\\anaconda3\\lib\\site-packages\\keras\\engine\\training.py\", line 1146, in step_function  **\n        outputs = model.distribute_strategy.run(run_step, args=(data,))\n    File \"C:\\Users\\ahasu\\anaconda3\\lib\\site-packages\\keras\\engine\\training.py\", line 1135, in run_step  **\n        outputs = model.train_step(data)\n    File \"C:\\Users\\ahasu\\anaconda3\\lib\\site-packages\\keras\\engine\\training.py\", line 993, in train_step\n        y_pred = self(x, training=True)\n    File \"C:\\Users\\ahasu\\anaconda3\\lib\\site-packages\\keras\\utils\\traceback_utils.py\", line 70, in error_handler\n        raise e.with_traceback(filtered_tb) from None\n    File \"C:\\Users\\ahasu\\anaconda3\\lib\\site-packages\\keras\\engine\\input_spec.py\", line 296, in assert_input_compatibility\n        f'Input {input_index} of layer \"{layer_name}\" is '\n\n    ValueError: Input 0 of layer \"sequential_19\" is incompatible with the layer: expected shape=(None, 16, 3, 1), found shape=(None, 16, 1, 3)\n",
     "output_type": "error",
     "traceback": [
      "\u001b[1;31m---------------------------------------------------------------------------\u001b[0m",
      "\u001b[1;31mValueError\u001b[0m                                Traceback (most recent call last)",
      "\u001b[1;32m~\\AppData\\Local\\Temp\\ipykernel_18100\\1273371399.py\u001b[0m in \u001b[0;36m<module>\u001b[1;34m\u001b[0m\n\u001b[0;32m      1\u001b[0m \u001b[1;32mwith\u001b[0m \u001b[0mtf\u001b[0m\u001b[1;33m.\u001b[0m\u001b[0mdevice\u001b[0m\u001b[1;33m(\u001b[0m\u001b[1;34m\"/device:GPU:0\"\u001b[0m\u001b[1;33m)\u001b[0m\u001b[1;33m:\u001b[0m\u001b[1;33m\u001b[0m\u001b[1;33m\u001b[0m\u001b[0m\n\u001b[0;32m      2\u001b[0m     \u001b[1;31m# model.fit(X_train, y_train, epochs=10)\u001b[0m\u001b[1;33m\u001b[0m\u001b[1;33m\u001b[0m\u001b[1;33m\u001b[0m\u001b[0m\n\u001b[1;32m----> 3\u001b[1;33m     \u001b[0mmodel\u001b[0m\u001b[1;33m.\u001b[0m\u001b[0mfit\u001b[0m\u001b[1;33m(\u001b[0m\u001b[0mx_train\u001b[0m\u001b[1;33m,\u001b[0m \u001b[0my_train\u001b[0m\u001b[1;33m,\u001b[0m \u001b[0mvalidation_split\u001b[0m\u001b[1;33m=\u001b[0m\u001b[1;36m0.2\u001b[0m\u001b[1;33m,\u001b[0m \u001b[0mepochs\u001b[0m\u001b[1;33m=\u001b[0m\u001b[1;36m20\u001b[0m\u001b[1;33m)\u001b[0m\u001b[1;33m\u001b[0m\u001b[1;33m\u001b[0m\u001b[0m\n\u001b[0m",
      "\u001b[1;32m~\\anaconda3\\lib\\site-packages\\keras\\utils\\traceback_utils.py\u001b[0m in \u001b[0;36merror_handler\u001b[1;34m(*args, **kwargs)\u001b[0m\n\u001b[0;32m     68\u001b[0m             \u001b[1;31m# To get the full stack trace, call:\u001b[0m\u001b[1;33m\u001b[0m\u001b[1;33m\u001b[0m\u001b[1;33m\u001b[0m\u001b[0m\n\u001b[0;32m     69\u001b[0m             \u001b[1;31m# `tf.debugging.disable_traceback_filtering()`\u001b[0m\u001b[1;33m\u001b[0m\u001b[1;33m\u001b[0m\u001b[1;33m\u001b[0m\u001b[0m\n\u001b[1;32m---> 70\u001b[1;33m             \u001b[1;32mraise\u001b[0m \u001b[0me\u001b[0m\u001b[1;33m.\u001b[0m\u001b[0mwith_traceback\u001b[0m\u001b[1;33m(\u001b[0m\u001b[0mfiltered_tb\u001b[0m\u001b[1;33m)\u001b[0m \u001b[1;32mfrom\u001b[0m \u001b[1;32mNone\u001b[0m\u001b[1;33m\u001b[0m\u001b[1;33m\u001b[0m\u001b[0m\n\u001b[0m\u001b[0;32m     71\u001b[0m         \u001b[1;32mfinally\u001b[0m\u001b[1;33m:\u001b[0m\u001b[1;33m\u001b[0m\u001b[1;33m\u001b[0m\u001b[0m\n\u001b[0;32m     72\u001b[0m             \u001b[1;32mdel\u001b[0m \u001b[0mfiltered_tb\u001b[0m\u001b[1;33m\u001b[0m\u001b[1;33m\u001b[0m\u001b[0m\n",
      "\u001b[1;32m~\\anaconda3\\lib\\site-packages\\keras\\engine\\training.py\u001b[0m in \u001b[0;36mtf__train_function\u001b[1;34m(iterator)\u001b[0m\n\u001b[0;32m     13\u001b[0m                 \u001b[1;32mtry\u001b[0m\u001b[1;33m:\u001b[0m\u001b[1;33m\u001b[0m\u001b[1;33m\u001b[0m\u001b[0m\n\u001b[0;32m     14\u001b[0m                     \u001b[0mdo_return\u001b[0m \u001b[1;33m=\u001b[0m \u001b[1;32mTrue\u001b[0m\u001b[1;33m\u001b[0m\u001b[1;33m\u001b[0m\u001b[0m\n\u001b[1;32m---> 15\u001b[1;33m                     \u001b[0mretval_\u001b[0m \u001b[1;33m=\u001b[0m \u001b[0mag__\u001b[0m\u001b[1;33m.\u001b[0m\u001b[0mconverted_call\u001b[0m\u001b[1;33m(\u001b[0m\u001b[0mag__\u001b[0m\u001b[1;33m.\u001b[0m\u001b[0mld\u001b[0m\u001b[1;33m(\u001b[0m\u001b[0mstep_function\u001b[0m\u001b[1;33m)\u001b[0m\u001b[1;33m,\u001b[0m \u001b[1;33m(\u001b[0m\u001b[0mag__\u001b[0m\u001b[1;33m.\u001b[0m\u001b[0mld\u001b[0m\u001b[1;33m(\u001b[0m\u001b[0mself\u001b[0m\u001b[1;33m)\u001b[0m\u001b[1;33m,\u001b[0m \u001b[0mag__\u001b[0m\u001b[1;33m.\u001b[0m\u001b[0mld\u001b[0m\u001b[1;33m(\u001b[0m\u001b[0miterator\u001b[0m\u001b[1;33m)\u001b[0m\u001b[1;33m)\u001b[0m\u001b[1;33m,\u001b[0m \u001b[1;32mNone\u001b[0m\u001b[1;33m,\u001b[0m \u001b[0mfscope\u001b[0m\u001b[1;33m)\u001b[0m\u001b[1;33m\u001b[0m\u001b[1;33m\u001b[0m\u001b[0m\n\u001b[0m\u001b[0;32m     16\u001b[0m                 \u001b[1;32mexcept\u001b[0m\u001b[1;33m:\u001b[0m\u001b[1;33m\u001b[0m\u001b[1;33m\u001b[0m\u001b[0m\n\u001b[0;32m     17\u001b[0m                     \u001b[0mdo_return\u001b[0m \u001b[1;33m=\u001b[0m \u001b[1;32mFalse\u001b[0m\u001b[1;33m\u001b[0m\u001b[1;33m\u001b[0m\u001b[0m\n",
      "\u001b[1;31mValueError\u001b[0m: in user code:\n\n    File \"C:\\Users\\ahasu\\anaconda3\\lib\\site-packages\\keras\\engine\\training.py\", line 1160, in train_function  *\n        return step_function(self, iterator)\n    File \"C:\\Users\\ahasu\\anaconda3\\lib\\site-packages\\keras\\engine\\training.py\", line 1146, in step_function  **\n        outputs = model.distribute_strategy.run(run_step, args=(data,))\n    File \"C:\\Users\\ahasu\\anaconda3\\lib\\site-packages\\keras\\engine\\training.py\", line 1135, in run_step  **\n        outputs = model.train_step(data)\n    File \"C:\\Users\\ahasu\\anaconda3\\lib\\site-packages\\keras\\engine\\training.py\", line 993, in train_step\n        y_pred = self(x, training=True)\n    File \"C:\\Users\\ahasu\\anaconda3\\lib\\site-packages\\keras\\utils\\traceback_utils.py\", line 70, in error_handler\n        raise e.with_traceback(filtered_tb) from None\n    File \"C:\\Users\\ahasu\\anaconda3\\lib\\site-packages\\keras\\engine\\input_spec.py\", line 296, in assert_input_compatibility\n        f'Input {input_index} of layer \"{layer_name}\" is '\n\n    ValueError: Input 0 of layer \"sequential_19\" is incompatible with the layer: expected shape=(None, 16, 3, 1), found shape=(None, 16, 1, 3)\n"
     ]
    }
   ],
   "source": [
    "with tf.device(\"/device:GPU:0\"):\n",
    "    # model.fit(X_train, y_train, epochs=10)\n",
    "    model.fit(x_train, y_train, validation_split=0.2, epochs=20)"
   ]
  },
  {
   "cell_type": "code",
   "execution_count": null,
   "id": "425eb9d1-31f9-42d8-b5f3-cd332e481493",
   "metadata": {},
   "outputs": [],
   "source": [
    "# callbacks\n",
    "es=EarlyStopping(monitor='val_accuracy',patience=10)\n",
    "mc=ModelCheckpoint('model.h5',monitor='val_accuracy',save_best_only=True)\n",
    "\n",
    "# 모델훈련\n",
    "history = model.fit(x_train, y_train,\n",
    "            batch_size=128,\n",
    "            epochs=1000,\n",
    "            verbose=1,\n",
    "            validation_data=(x_val,y_val),\n",
    "            callbacks=[es,mc])"
   ]
  },
  {
   "cell_type": "markdown",
   "id": "42685469-8414-4e82-aadd-15b280507708",
   "metadata": {},
   "source": [
    "***"
   ]
  },
  {
   "cell_type": "code",
   "execution_count": null,
   "id": "061acd79-3a5b-4522-a167-06d94dc1fd1b",
   "metadata": {},
   "outputs": [],
   "source": [
    "# 2D \n",
    "model = Sequential()\n",
    "model.add(Conv2D(32, kernel_size=3, activation='relu', kernel_initializer='he_uniform', input_shape=(16,3,1)))\n",
    "model.add(MaxPooling2D(pool_size=2,padding='same'))\n",
    "model.add(BatchNormalization(center=True, scale=True))\n",
    "model.add(Dropout(0.5))\n",
    "# model.add(Conv2D(64, kernel_size=3, activation='relu', kernel_initializer='he_uniform'))\n",
    "# model.add(MaxPooling2D(pool_size=2,padding='same'))\n",
    "# model.add(BatchNormalization(center=True, scale=True))\n",
    "# model.add(Dropout(0.5))\n",
    "model.add(Flatten())\n",
    "model.add(Dense(256, activation='relu', kernel_initializer='he_uniform'))\n",
    "model.add(Dense(256, activation='relu', kernel_initializer='he_uniform'))\n",
    "model.add(Dense(8, activation='softmax'))\n",
    "\n",
    "# callbacks\n",
    "es=EarlyStopping(monitor='val_accuracy',patience=10)\n",
    "mc=ModelCheckpoint('model.h5',monitor='val_accuracy',save_best_only=True)\n",
    "\n",
    "# 모델 컴파일\n",
    "model.compile(loss='sparse_categorical_crossentropy',\n",
    "              optimizer=tf.keras.optimizers.Adam(lr=0.001),\n",
    "              metrics=['accuracy'])\n",
    "model.summary()\n",
    "\n",
    "# 모델훈련\n",
    "history = model.fit(x_train, y_train,\n",
    "            batch_size=128,\n",
    "            epochs=1000,\n",
    "            verbose=1,\n",
    "            validation_data=(x_val,y_val),\n",
    "            callbacks=[es,mc])"
   ]
  },
  {
   "cell_type": "code",
   "execution_count": null,
   "id": "e8ff25c4-a8e5-40e7-8ace-4f5e2a80b082",
   "metadata": {},
   "outputs": [],
   "source": []
  },
  {
   "cell_type": "code",
   "execution_count": null,
   "id": "979ca5e6-e689-4b1d-8f51-3388602f8bd3",
   "metadata": {},
   "outputs": [],
   "source": []
  },
  {
   "cell_type": "markdown",
   "id": "4dcbd5e6-3e7d-482d-89c1-0e1ded71f06e",
   "metadata": {},
   "source": [
    "***"
   ]
  },
  {
   "cell_type": "code",
   "execution_count": 207,
   "id": "49bf9bc6-7d94-412c-9e40-35250b0f5098",
   "metadata": {},
   "outputs": [],
   "source": [
    "from tensorflow.keras.utils import to_categorical\n",
    "y = to_categorical(y, num_classes=8)"
   ]
  },
  {
   "cell_type": "code",
   "execution_count": 208,
   "id": "bb5bf3e5-b6d0-48af-9694-f782b647d023",
   "metadata": {},
   "outputs": [],
   "source": [
    "model.compile(loss='categorical_crossentropy',\n",
    "              optimizer = 'adam', metrics='accuracy')"
   ]
  },
  {
   "cell_type": "markdown",
   "id": "0ebcf4ab-dead-44aa-ab99-30422dd1e1bf",
   "metadata": {},
   "source": [
    "***"
   ]
  },
  {
   "cell_type": "code",
   "execution_count": 230,
   "id": "a691e8a7-a1e1-41b8-844a-a9bd9e7e546b",
   "metadata": {},
   "outputs": [],
   "source": [
    "model.compile(loss='sparse_categorical_crossentropy',\n",
    "              optimizer = 'adam', metrics='accuracy')"
   ]
  },
  {
   "cell_type": "code",
   "execution_count": 151,
   "id": "e3dc87e6-ea09-492b-97b4-5221c552933d",
   "metadata": {},
   "outputs": [
    {
     "data": {
      "text/plain": [
       "array([0, 5, 5, ..., 1, 3, 1], dtype=int64)"
      ]
     },
     "execution_count": 151,
     "metadata": {},
     "output_type": "execute_result"
    }
   ],
   "source": [
    "y_train"
   ]
  },
  {
   "cell_type": "code",
   "execution_count": null,
   "id": "29c9b55e-0b6e-4b23-afdd-147f7c7d66f7",
   "metadata": {},
   "outputs": [],
   "source": []
  },
  {
   "cell_type": "code",
   "execution_count": 209,
   "id": "afa9bc96-3f4e-4592-a92d-1d794ca6de64",
   "metadata": {
    "tags": []
   },
   "outputs": [
    {
     "name": "stdout",
     "output_type": "stream",
     "text": [
      "[name: \"/device:CPU:0\"\n",
      "device_type: \"CPU\"\n",
      "memory_limit: 268435456\n",
      "locality {\n",
      "}\n",
      "incarnation: 15433314001887705777\n",
      "xla_global_id: -1\n",
      ", name: \"/device:GPU:0\"\n",
      "device_type: \"GPU\"\n",
      "memory_limit: 3646947328\n",
      "locality {\n",
      "  bus_id: 1\n",
      "  links {\n",
      "  }\n",
      "}\n",
      "incarnation: 9405054585743190922\n",
      "physical_device_desc: \"device: 0, name: NVIDIA GeForce RTX 3060 Laptop GPU, pci bus id: 0000:01:00.0, compute capability: 8.6\"\n",
      "xla_global_id: 416903419\n",
      "]\n",
      "Num GPUs Available:  1\n"
     ]
    }
   ],
   "source": [
    "import tensorflow as tf\n",
    "from tensorflow.python.client import device_lib\n",
    "print(device_lib.list_local_devices())\n",
    "print(\"Num GPUs Available: \", len(tf.config.list_physical_devices('GPU')))"
   ]
  },
  {
   "cell_type": "code",
   "execution_count": null,
   "id": "2e9fbb1d-b522-4d3a-9a43-bee567805bee",
   "metadata": {},
   "outputs": [],
   "source": []
  },
  {
   "cell_type": "code",
   "execution_count": 233,
   "id": "04ee46b1-c7e9-480c-894c-e0f6d4452bc7",
   "metadata": {},
   "outputs": [
    {
     "name": "stdout",
     "output_type": "stream",
     "text": [
      "Epoch 1/20\n",
      "19663/19663 [==============================] - 64s 3ms/step - loss: 1.2351 - accuracy: 0.4955 - val_loss: 1.2347 - val_accuracy: 0.4952\n",
      "Epoch 2/20\n",
      "19663/19663 [==============================] - 62s 3ms/step - loss: 1.2351 - accuracy: 0.4955 - val_loss: 1.2346 - val_accuracy: 0.4952\n",
      "Epoch 3/20\n",
      "19663/19663 [==============================] - 62s 3ms/step - loss: 1.2351 - accuracy: 0.4955 - val_loss: 1.2346 - val_accuracy: 0.4952\n",
      "Epoch 4/20\n",
      "19663/19663 [==============================] - 64s 3ms/step - loss: 1.2351 - accuracy: 0.4955 - val_loss: 1.2346 - val_accuracy: 0.4952\n",
      "Epoch 5/20\n",
      "19663/19663 [==============================] - 64s 3ms/step - loss: 1.2351 - accuracy: 0.4955 - val_loss: 1.2346 - val_accuracy: 0.4952\n",
      "Epoch 6/20\n",
      "19663/19663 [==============================] - 64s 3ms/step - loss: 1.2351 - accuracy: 0.4955 - val_loss: 1.2346 - val_accuracy: 0.4952\n",
      "Epoch 7/20\n",
      "19663/19663 [==============================] - 65s 3ms/step - loss: 1.2351 - accuracy: 0.4955 - val_loss: 1.2349 - val_accuracy: 0.4952\n",
      "Epoch 8/20\n",
      "19663/19663 [==============================] - 65s 3ms/step - loss: 1.2351 - accuracy: 0.4955 - val_loss: 1.2345 - val_accuracy: 0.4952\n",
      "Epoch 9/20\n",
      "19663/19663 [==============================] - 64s 3ms/step - loss: 1.2351 - accuracy: 0.4955 - val_loss: 1.2346 - val_accuracy: 0.4952\n",
      "Epoch 10/20\n",
      "19663/19663 [==============================] - 64s 3ms/step - loss: 1.2351 - accuracy: 0.4955 - val_loss: 1.2346 - val_accuracy: 0.4952\n",
      "Epoch 11/20\n",
      "19663/19663 [==============================] - 65s 3ms/step - loss: 1.2351 - accuracy: 0.4955 - val_loss: 1.2347 - val_accuracy: 0.4952\n",
      "Epoch 12/20\n",
      "19663/19663 [==============================] - 63s 3ms/step - loss: 1.2351 - accuracy: 0.4955 - val_loss: 1.2346 - val_accuracy: 0.4952\n",
      "Epoch 13/20\n",
      "19663/19663 [==============================] - 64s 3ms/step - loss: 1.2351 - accuracy: 0.4955 - val_loss: 1.2346 - val_accuracy: 0.4952\n",
      "Epoch 14/20\n",
      "19663/19663 [==============================] - 63s 3ms/step - loss: 1.2351 - accuracy: 0.4955 - val_loss: 1.2346 - val_accuracy: 0.4952\n",
      "Epoch 15/20\n",
      "19663/19663 [==============================] - 63s 3ms/step - loss: 1.2351 - accuracy: 0.4955 - val_loss: 1.2346 - val_accuracy: 0.4952\n",
      "Epoch 16/20\n",
      "19663/19663 [==============================] - 63s 3ms/step - loss: 1.2351 - accuracy: 0.4955 - val_loss: 1.2346 - val_accuracy: 0.4952\n",
      "Epoch 17/20\n",
      "19663/19663 [==============================] - 63s 3ms/step - loss: 1.2351 - accuracy: 0.4955 - val_loss: 1.2346 - val_accuracy: 0.4952\n",
      "Epoch 18/20\n",
      "19663/19663 [==============================] - 63s 3ms/step - loss: 1.2351 - accuracy: 0.4955 - val_loss: 1.2346 - val_accuracy: 0.4952\n",
      "Epoch 19/20\n",
      "19663/19663 [==============================] - 64s 3ms/step - loss: 1.2351 - accuracy: 0.4955 - val_loss: 1.2346 - val_accuracy: 0.4952\n",
      "Epoch 20/20\n",
      "19663/19663 [==============================] - 61s 3ms/step - loss: 1.2351 - accuracy: 0.4955 - val_loss: 1.2347 - val_accuracy: 0.4952\n"
     ]
    }
   ],
   "source": [
    "with tf.device(\"/device:GPU:0\"):\n",
    "    # model.fit(X_train, y_train, epochs=10)\n",
    "    model.fit(x_train, y_train, validation_split=0.2, epochs=20)"
   ]
  },
  {
   "cell_type": "code",
   "execution_count": null,
   "id": "db1bc42c-1d2b-4adf-9bfb-bfb442b47802",
   "metadata": {},
   "outputs": [],
   "source": []
  },
  {
   "cell_type": "code",
   "execution_count": null,
   "id": "1fd9d844-618a-40da-a833-65b75af46786",
   "metadata": {},
   "outputs": [],
   "source": []
  },
  {
   "cell_type": "code",
   "execution_count": null,
   "id": "7cc98976-5e6e-4566-90c7-69f15df7ad1f",
   "metadata": {},
   "outputs": [],
   "source": []
  },
  {
   "cell_type": "code",
   "execution_count": 159,
   "id": "3716ecd8-072a-4e3d-879f-f8dcafdb1aad",
   "metadata": {},
   "outputs": [
    {
     "name": "stdout",
     "output_type": "stream",
     "text": [
      "Epoch 1/20\n"
     ]
    },
    {
     "ename": "ValueError",
     "evalue": "in user code:\n\n    File \"C:\\Users\\ahasu\\anaconda3\\lib\\site-packages\\keras\\engine\\training.py\", line 1160, in train_function  *\n        return step_function(self, iterator)\n    File \"C:\\Users\\ahasu\\anaconda3\\lib\\site-packages\\keras\\engine\\training.py\", line 1146, in step_function  **\n        outputs = model.distribute_strategy.run(run_step, args=(data,))\n    File \"C:\\Users\\ahasu\\anaconda3\\lib\\site-packages\\keras\\engine\\training.py\", line 1135, in run_step  **\n        outputs = model.train_step(data)\n    File \"C:\\Users\\ahasu\\anaconda3\\lib\\site-packages\\keras\\engine\\training.py\", line 994, in train_step\n        loss = self.compute_loss(x, y, y_pred, sample_weight)\n    File \"C:\\Users\\ahasu\\anaconda3\\lib\\site-packages\\keras\\engine\\training.py\", line 1053, in compute_loss\n        y, y_pred, sample_weight, regularization_losses=self.losses\n    File \"C:\\Users\\ahasu\\anaconda3\\lib\\site-packages\\keras\\engine\\compile_utils.py\", line 265, in __call__\n        loss_value = loss_obj(y_t, y_p, sample_weight=sw)\n    File \"C:\\Users\\ahasu\\anaconda3\\lib\\site-packages\\keras\\losses.py\", line 152, in __call__\n        losses = call_fn(y_true, y_pred)\n    File \"C:\\Users\\ahasu\\anaconda3\\lib\\site-packages\\keras\\losses.py\", line 272, in call  **\n        return ag_fn(y_true, y_pred, **self._fn_kwargs)\n    File \"C:\\Users\\ahasu\\anaconda3\\lib\\site-packages\\keras\\losses.py\", line 1991, in categorical_crossentropy\n        y_true, y_pred, from_logits=from_logits, axis=axis\n    File \"C:\\Users\\ahasu\\anaconda3\\lib\\site-packages\\keras\\backend.py\", line 5529, in categorical_crossentropy\n        target.shape.assert_is_compatible_with(output.shape)\n\n    ValueError: Shapes (None, 1) and (None, 8) are incompatible\n",
     "output_type": "error",
     "traceback": [
      "\u001b[1;31m---------------------------------------------------------------------------\u001b[0m",
      "\u001b[1;31mValueError\u001b[0m                                Traceback (most recent call last)",
      "\u001b[1;32m~\\AppData\\Local\\Temp\\ipykernel_18100\\190150441.py\u001b[0m in \u001b[0;36m<module>\u001b[1;34m\u001b[0m\n\u001b[1;32m----> 1\u001b[1;33m \u001b[0mmodel\u001b[0m\u001b[1;33m.\u001b[0m\u001b[0mfit\u001b[0m\u001b[1;33m(\u001b[0m\u001b[0mx_train\u001b[0m\u001b[1;33m,\u001b[0m \u001b[0my_train\u001b[0m\u001b[1;33m,\u001b[0m \u001b[0mvalidation_split\u001b[0m\u001b[1;33m=\u001b[0m\u001b[1;36m0.2\u001b[0m\u001b[1;33m,\u001b[0m \u001b[0mepochs\u001b[0m\u001b[1;33m=\u001b[0m\u001b[1;36m20\u001b[0m\u001b[1;33m)\u001b[0m\u001b[1;33m\u001b[0m\u001b[1;33m\u001b[0m\u001b[0m\n\u001b[0m",
      "\u001b[1;32m~\\anaconda3\\lib\\site-packages\\keras\\utils\\traceback_utils.py\u001b[0m in \u001b[0;36merror_handler\u001b[1;34m(*args, **kwargs)\u001b[0m\n\u001b[0;32m     68\u001b[0m             \u001b[1;31m# To get the full stack trace, call:\u001b[0m\u001b[1;33m\u001b[0m\u001b[1;33m\u001b[0m\u001b[1;33m\u001b[0m\u001b[0m\n\u001b[0;32m     69\u001b[0m             \u001b[1;31m# `tf.debugging.disable_traceback_filtering()`\u001b[0m\u001b[1;33m\u001b[0m\u001b[1;33m\u001b[0m\u001b[1;33m\u001b[0m\u001b[0m\n\u001b[1;32m---> 70\u001b[1;33m             \u001b[1;32mraise\u001b[0m \u001b[0me\u001b[0m\u001b[1;33m.\u001b[0m\u001b[0mwith_traceback\u001b[0m\u001b[1;33m(\u001b[0m\u001b[0mfiltered_tb\u001b[0m\u001b[1;33m)\u001b[0m \u001b[1;32mfrom\u001b[0m \u001b[1;32mNone\u001b[0m\u001b[1;33m\u001b[0m\u001b[1;33m\u001b[0m\u001b[0m\n\u001b[0m\u001b[0;32m     71\u001b[0m         \u001b[1;32mfinally\u001b[0m\u001b[1;33m:\u001b[0m\u001b[1;33m\u001b[0m\u001b[1;33m\u001b[0m\u001b[0m\n\u001b[0;32m     72\u001b[0m             \u001b[1;32mdel\u001b[0m \u001b[0mfiltered_tb\u001b[0m\u001b[1;33m\u001b[0m\u001b[1;33m\u001b[0m\u001b[0m\n",
      "\u001b[1;32m~\\anaconda3\\lib\\site-packages\\keras\\engine\\training.py\u001b[0m in \u001b[0;36mtf__train_function\u001b[1;34m(iterator)\u001b[0m\n\u001b[0;32m     13\u001b[0m                 \u001b[1;32mtry\u001b[0m\u001b[1;33m:\u001b[0m\u001b[1;33m\u001b[0m\u001b[1;33m\u001b[0m\u001b[0m\n\u001b[0;32m     14\u001b[0m                     \u001b[0mdo_return\u001b[0m \u001b[1;33m=\u001b[0m \u001b[1;32mTrue\u001b[0m\u001b[1;33m\u001b[0m\u001b[1;33m\u001b[0m\u001b[0m\n\u001b[1;32m---> 15\u001b[1;33m                     \u001b[0mretval_\u001b[0m \u001b[1;33m=\u001b[0m \u001b[0mag__\u001b[0m\u001b[1;33m.\u001b[0m\u001b[0mconverted_call\u001b[0m\u001b[1;33m(\u001b[0m\u001b[0mag__\u001b[0m\u001b[1;33m.\u001b[0m\u001b[0mld\u001b[0m\u001b[1;33m(\u001b[0m\u001b[0mstep_function\u001b[0m\u001b[1;33m)\u001b[0m\u001b[1;33m,\u001b[0m \u001b[1;33m(\u001b[0m\u001b[0mag__\u001b[0m\u001b[1;33m.\u001b[0m\u001b[0mld\u001b[0m\u001b[1;33m(\u001b[0m\u001b[0mself\u001b[0m\u001b[1;33m)\u001b[0m\u001b[1;33m,\u001b[0m \u001b[0mag__\u001b[0m\u001b[1;33m.\u001b[0m\u001b[0mld\u001b[0m\u001b[1;33m(\u001b[0m\u001b[0miterator\u001b[0m\u001b[1;33m)\u001b[0m\u001b[1;33m)\u001b[0m\u001b[1;33m,\u001b[0m \u001b[1;32mNone\u001b[0m\u001b[1;33m,\u001b[0m \u001b[0mfscope\u001b[0m\u001b[1;33m)\u001b[0m\u001b[1;33m\u001b[0m\u001b[1;33m\u001b[0m\u001b[0m\n\u001b[0m\u001b[0;32m     16\u001b[0m                 \u001b[1;32mexcept\u001b[0m\u001b[1;33m:\u001b[0m\u001b[1;33m\u001b[0m\u001b[1;33m\u001b[0m\u001b[0m\n\u001b[0;32m     17\u001b[0m                     \u001b[0mdo_return\u001b[0m \u001b[1;33m=\u001b[0m \u001b[1;32mFalse\u001b[0m\u001b[1;33m\u001b[0m\u001b[1;33m\u001b[0m\u001b[0m\n",
      "\u001b[1;31mValueError\u001b[0m: in user code:\n\n    File \"C:\\Users\\ahasu\\anaconda3\\lib\\site-packages\\keras\\engine\\training.py\", line 1160, in train_function  *\n        return step_function(self, iterator)\n    File \"C:\\Users\\ahasu\\anaconda3\\lib\\site-packages\\keras\\engine\\training.py\", line 1146, in step_function  **\n        outputs = model.distribute_strategy.run(run_step, args=(data,))\n    File \"C:\\Users\\ahasu\\anaconda3\\lib\\site-packages\\keras\\engine\\training.py\", line 1135, in run_step  **\n        outputs = model.train_step(data)\n    File \"C:\\Users\\ahasu\\anaconda3\\lib\\site-packages\\keras\\engine\\training.py\", line 994, in train_step\n        loss = self.compute_loss(x, y, y_pred, sample_weight)\n    File \"C:\\Users\\ahasu\\anaconda3\\lib\\site-packages\\keras\\engine\\training.py\", line 1053, in compute_loss\n        y, y_pred, sample_weight, regularization_losses=self.losses\n    File \"C:\\Users\\ahasu\\anaconda3\\lib\\site-packages\\keras\\engine\\compile_utils.py\", line 265, in __call__\n        loss_value = loss_obj(y_t, y_p, sample_weight=sw)\n    File \"C:\\Users\\ahasu\\anaconda3\\lib\\site-packages\\keras\\losses.py\", line 152, in __call__\n        losses = call_fn(y_true, y_pred)\n    File \"C:\\Users\\ahasu\\anaconda3\\lib\\site-packages\\keras\\losses.py\", line 272, in call  **\n        return ag_fn(y_true, y_pred, **self._fn_kwargs)\n    File \"C:\\Users\\ahasu\\anaconda3\\lib\\site-packages\\keras\\losses.py\", line 1991, in categorical_crossentropy\n        y_true, y_pred, from_logits=from_logits, axis=axis\n    File \"C:\\Users\\ahasu\\anaconda3\\lib\\site-packages\\keras\\backend.py\", line 5529, in categorical_crossentropy\n        target.shape.assert_is_compatible_with(output.shape)\n\n    ValueError: Shapes (None, 1) and (None, 8) are incompatible\n"
     ]
    }
   ],
   "source": [
    "model.fit(x_train, y_train, validation_split=0.2, epochs=20)"
   ]
  },
  {
   "cell_type": "code",
   "execution_count": 89,
   "id": "588b5ad5-296e-4335-a34d-287a394cb498",
   "metadata": {},
   "outputs": [],
   "source": [
    "from tensorflow.keras.utils import to_categorical\n",
    "y = to_categorical(get, num_classes=3)"
   ]
  },
  {
   "cell_type": "code",
   "execution_count": 90,
   "id": "53fb196c-74b8-4f22-b85f-2179556df866",
   "metadata": {
    "scrolled": true
   },
   "outputs": [
    {
     "data": {
      "text/plain": [
       "(16493, 3)"
      ]
     },
     "execution_count": 90,
     "metadata": {},
     "output_type": "execute_result"
    }
   ],
   "source": [
    "y.shape"
   ]
  },
  {
   "cell_type": "code",
   "execution_count": null,
   "id": "76618f9b-19f5-4f63-9ae5-db0f4b87072a",
   "metadata": {},
   "outputs": [],
   "source": []
  },
  {
   "cell_type": "markdown",
   "id": "9ede9878-2446-45f4-80c0-133a508900e2",
   "metadata": {},
   "source": [
    "# 연습"
   ]
  },
  {
   "cell_type": "code",
   "execution_count": null,
   "id": "ca1863f9-00b8-47e5-831b-f31fe33ca807",
   "metadata": {},
   "outputs": [],
   "source": []
  },
  {
   "cell_type": "code",
   "execution_count": null,
   "id": "4f58a40f-79cf-47f7-819a-8c779fbf42a4",
   "metadata": {},
   "outputs": [],
   "source": []
  },
  {
   "cell_type": "code",
   "execution_count": null,
   "id": "f7ba2af8-0e68-437c-9698-2171275a3c8f",
   "metadata": {},
   "outputs": [],
   "source": []
  },
  {
   "cell_type": "code",
   "execution_count": 94,
   "id": "20e8c398-dd7a-4279-8465-1d80dee25645",
   "metadata": {},
   "outputs": [],
   "source": [
    "# stand = 0\n",
    "# walk = 1\n",
    "# run = 2\n",
    "# sit down = 3\n",
    "# laydown = 4\n",
    "# grab handle = 5\n",
    "# kick = 6\n",
    "# violence = 7"
   ]
  },
  {
   "cell_type": "code",
   "execution_count": null,
   "id": "5f987adf-1b2e-4780-9ede-61ae1a56ea46",
   "metadata": {},
   "outputs": [],
   "source": [
    "from sklearn.preprocessing import LabelEncoder\n",
    "le = LabelEncoder()\n",
    "result = le.fit_transform(df[''])\n",
    "print(result)"
   ]
  },
  {
   "cell_type": "code",
   "execution_count": null,
   "id": "7986294b-b98f-41e6-bc60-1887d682ec5e",
   "metadata": {},
   "outputs": [],
   "source": []
  },
  {
   "cell_type": "code",
   "execution_count": null,
   "id": "44784486-9f15-4cad-9b47-d91604b33122",
   "metadata": {},
   "outputs": [],
   "source": []
  },
  {
   "cell_type": "code",
   "execution_count": null,
   "id": "49df87df-eced-4eda-a735-b8a4544a07fd",
   "metadata": {},
   "outputs": [],
   "source": []
  },
  {
   "cell_type": "code",
   "execution_count": null,
   "id": "49e143ea-9c82-4b85-b852-9187800a7ba6",
   "metadata": {},
   "outputs": [],
   "source": []
  },
  {
   "cell_type": "markdown",
   "id": "d60db5ad-e93e-479f-b0cb-ba8ee249d617",
   "metadata": {},
   "source": [
    "i) 라벨(y)를 'action'컬럼을 라벨인코딩해서 배열로 넘기는 것"
   ]
  },
  {
   "cell_type": "code",
   "execution_count": 86,
   "id": "99cffb15-51fa-4427-8130-2d8089fb16de",
   "metadata": {},
   "outputs": [
    {
     "data": {
      "text/plain": [
       "array(['stand', 'walk', 'sit down', 'run', 'grab handle', 'lay down',\n",
       "       'kick', 'punch'], dtype=object)"
      ]
     },
     "execution_count": 86,
     "metadata": {},
     "output_type": "execute_result"
    }
   ],
   "source": [
    "label = df['action']\n",
    "label.unique()"
   ]
  },
  {
   "cell_type": "code",
   "execution_count": null,
   "id": "360cb919-8b54-4cf4-a2d8-92ce8af47060",
   "metadata": {},
   "outputs": [],
   "source": []
  },
  {
   "cell_type": "code",
   "execution_count": null,
   "id": "483c7774-1042-4323-8f7e-e876a1a2eb1c",
   "metadata": {},
   "outputs": [],
   "source": []
  },
  {
   "cell_type": "code",
   "execution_count": null,
   "id": "362bb658-b3a7-4e53-af7b-d21d57e65940",
   "metadata": {},
   "outputs": [],
   "source": []
  },
  {
   "cell_type": "code",
   "execution_count": 95,
   "id": "9f7c016d-14cb-4396-92d7-ae0ceb192c89",
   "metadata": {},
   "outputs": [
    {
     "data": {
      "text/plain": [
       "array(['grab handle', 'kick', 'lay down', 'run', 'sit down', 'stand',\n",
       "       'violence', 'walk'], dtype='<U11')"
      ]
     },
     "execution_count": 95,
     "metadata": {},
     "output_type": "execute_result"
    }
   ],
   "source": [
    "from sklearn.preprocessing import LabelEncoder\n",
    "le = LabelEncoder()\n",
    "le.fit([\"stand\", \"walk\", \"run\", \"sit down\", \"lay down\", \"grab handle\", \"kick\", \"violence\"])\n",
    "le.classes_"
   ]
  },
  {
   "cell_type": "code",
   "execution_count": 88,
   "id": "85592fed-1a82-444c-8b88-6174383e808c",
   "metadata": {},
   "outputs": [
    {
     "data": {
      "text/plain": [
       "LabelEncoder()"
      ]
     },
     "execution_count": 88,
     "metadata": {},
     "output_type": "execute_result"
    }
   ],
   "source": [
    "le"
   ]
  },
  {
   "cell_type": "code",
   "execution_count": 89,
   "id": "aa01c948-a940-49b6-b5e8-b4f7f4b229c9",
   "metadata": {},
   "outputs": [
    {
     "data": {
      "text/plain": [
       "LabelEncoder()"
      ]
     },
     "execution_count": 89,
     "metadata": {},
     "output_type": "execute_result"
    }
   ],
   "source": [
    "le.fit(label)"
   ]
  },
  {
   "cell_type": "code",
   "execution_count": 90,
   "id": "ce12c7fc-dedf-4797-93a1-425c8b70f18e",
   "metadata": {},
   "outputs": [
    {
     "data": {
      "text/plain": [
       "array([6, 6, 6, ..., 5, 6, 6])"
      ]
     },
     "execution_count": 90,
     "metadata": {},
     "output_type": "execute_result"
    }
   ],
   "source": [
    "label_encoded = le.transform(label)\n",
    "label_encoded"
   ]
  },
  {
   "cell_type": "code",
   "execution_count": 91,
   "id": "f8fe7b23-dd60-4ef0-9c3e-04e54433f1d5",
   "metadata": {},
   "outputs": [
    {
     "data": {
      "text/plain": [
       "numpy.ndarray"
      ]
     },
     "execution_count": 91,
     "metadata": {},
     "output_type": "execute_result"
    }
   ],
   "source": [
    "type(label_encoded)"
   ]
  },
  {
   "cell_type": "code",
   "execution_count": 92,
   "id": "6072378b-3168-4e3d-9eb1-de8df211b42c",
   "metadata": {},
   "outputs": [
    {
     "data": {
      "text/plain": [
       "pandas.core.series.Series"
      ]
     },
     "execution_count": 92,
     "metadata": {},
     "output_type": "execute_result"
    }
   ],
   "source": [
    "type(label)"
   ]
  },
  {
   "cell_type": "code",
   "execution_count": null,
   "id": "803ccf22-63e8-4e89-9c95-1144f576521c",
   "metadata": {},
   "outputs": [],
   "source": []
  },
  {
   "cell_type": "code",
   "execution_count": 93,
   "id": "571808e1-aa89-4767-a9fc-9095dd098d19",
   "metadata": {},
   "outputs": [
    {
     "data": {
      "text/html": [
       "<div>\n",
       "<style scoped>\n",
       "    .dataframe tbody tr th:only-of-type {\n",
       "        vertical-align: middle;\n",
       "    }\n",
       "\n",
       "    .dataframe tbody tr th {\n",
       "        vertical-align: top;\n",
       "    }\n",
       "\n",
       "    .dataframe thead th {\n",
       "        text-align: right;\n",
       "    }\n",
       "</style>\n",
       "<table border=\"1\" class=\"dataframe\">\n",
       "  <thead>\n",
       "    <tr style=\"text-align: right;\">\n",
       "      <th></th>\n",
       "      <th>action</th>\n",
       "      <th>label_encoded</th>\n",
       "    </tr>\n",
       "  </thead>\n",
       "  <tbody>\n",
       "    <tr>\n",
       "      <th>0</th>\n",
       "      <td>stand</td>\n",
       "      <td>6</td>\n",
       "    </tr>\n",
       "    <tr>\n",
       "      <th>1</th>\n",
       "      <td>stand</td>\n",
       "      <td>6</td>\n",
       "    </tr>\n",
       "    <tr>\n",
       "      <th>2</th>\n",
       "      <td>stand</td>\n",
       "      <td>6</td>\n",
       "    </tr>\n",
       "    <tr>\n",
       "      <th>3</th>\n",
       "      <td>stand</td>\n",
       "      <td>6</td>\n",
       "    </tr>\n",
       "    <tr>\n",
       "      <th>4</th>\n",
       "      <td>stand</td>\n",
       "      <td>6</td>\n",
       "    </tr>\n",
       "    <tr>\n",
       "      <th>...</th>\n",
       "      <td>...</td>\n",
       "      <td>...</td>\n",
       "    </tr>\n",
       "    <tr>\n",
       "      <th>983119</th>\n",
       "      <td>walk</td>\n",
       "      <td>7</td>\n",
       "    </tr>\n",
       "    <tr>\n",
       "      <th>983120</th>\n",
       "      <td>sit down</td>\n",
       "      <td>5</td>\n",
       "    </tr>\n",
       "    <tr>\n",
       "      <th>983121</th>\n",
       "      <td>sit down</td>\n",
       "      <td>5</td>\n",
       "    </tr>\n",
       "    <tr>\n",
       "      <th>983122</th>\n",
       "      <td>stand</td>\n",
       "      <td>6</td>\n",
       "    </tr>\n",
       "    <tr>\n",
       "      <th>983123</th>\n",
       "      <td>stand</td>\n",
       "      <td>6</td>\n",
       "    </tr>\n",
       "  </tbody>\n",
       "</table>\n",
       "<p>983124 rows × 2 columns</p>\n",
       "</div>"
      ],
      "text/plain": [
       "          action  label_encoded\n",
       "0          stand              6\n",
       "1          stand              6\n",
       "2          stand              6\n",
       "3          stand              6\n",
       "4          stand              6\n",
       "...          ...            ...\n",
       "983119      walk              7\n",
       "983120  sit down              5\n",
       "983121  sit down              5\n",
       "983122     stand              6\n",
       "983123     stand              6\n",
       "\n",
       "[983124 rows x 2 columns]"
      ]
     },
     "execution_count": 93,
     "metadata": {},
     "output_type": "execute_result"
    }
   ],
   "source": [
    "l_e_df = pd.DataFrame(label_encoded, columns=['label_encoded'])\n",
    "pd.concat([label, l_e_df], axis=1)"
   ]
  },
  {
   "cell_type": "code",
   "execution_count": null,
   "id": "6b8b2899-b76a-462f-a521-64a2b24baf3c",
   "metadata": {},
   "outputs": [],
   "source": []
  },
  {
   "cell_type": "code",
   "execution_count": null,
   "id": "0319f6a5-046c-4a03-96e3-10d04ed9431e",
   "metadata": {},
   "outputs": [],
   "source": []
  },
  {
   "cell_type": "code",
   "execution_count": null,
   "id": "aab54ef8-0cd8-4a0f-ac40-206b9372f772",
   "metadata": {},
   "outputs": [],
   "source": []
  },
  {
   "cell_type": "code",
   "execution_count": 68,
   "id": "8b61fe36-7304-43e1-84d5-a2e55be43316",
   "metadata": {},
   "outputs": [
    {
     "data": {
      "text/plain": [
       "LabelEncoder()"
      ]
     },
     "execution_count": 68,
     "metadata": {},
     "output_type": "execute_result"
    }
   ],
   "source": [
    "\n",
    "le.fit([\"stand\", \"walk\", \"run\", \"sit down\", \"lay down\", \"grab handle\", \"kick\", \"violence\"])"
   ]
  },
  {
   "cell_type": "code",
   "execution_count": 69,
   "id": "47dfa462-1f55-4c75-9227-2dbcbd92fef1",
   "metadata": {},
   "outputs": [
    {
     "data": {
      "text/plain": [
       "array(['grab handle', 'kick', 'lay down', 'run', 'sit down', 'stand',\n",
       "       'violence', 'walk'], dtype='<U11')"
      ]
     },
     "execution_count": 69,
     "metadata": {},
     "output_type": "execute_result"
    }
   ],
   "source": [
    "le.classes_"
   ]
  },
  {
   "cell_type": "code",
   "execution_count": 70,
   "id": "a67e3560-8f14-4e36-8ba7-347c7d13317e",
   "metadata": {},
   "outputs": [
    {
     "data": {
      "text/plain": [
       "array([5, 7, 3, 4, 2, 0, 1, 6])"
      ]
     },
     "execution_count": 70,
     "metadata": {},
     "output_type": "execute_result"
    }
   ],
   "source": [
    "le.transform([\"stand\", \"walk\", \"run\", \"sit down\", \"lay down\", \"grab handle\", \"kick\", \"violence\"])"
   ]
  },
  {
   "cell_type": "code",
   "execution_count": null,
   "id": "d48aabc3-4cb5-4cdc-968c-502a813ba578",
   "metadata": {},
   "outputs": [],
   "source": []
  },
  {
   "cell_type": "code",
   "execution_count": null,
   "id": "a10ceb7c-3474-410a-b954-3894b1d95999",
   "metadata": {},
   "outputs": [],
   "source": [
    ">>> from sklearn import preprocessing\n",
    ">>> le = preprocessing.LabelEncoder()\n",
    ">>> le.fit([1, 2, 2, 6])\n",
    "LabelEncoder()\n",
    "\n",
    ">>> le.classes_\n",
    "array([1, 2, 6])\n",
    "\n",
    ">>> le.transform([1, 1, 2, 6])\n",
    "array([0, 0, 1, 2])\n",
    "\n",
    ">>> le.inverse_transform([0, 0, 1, 2])\n",
    "array([1, 1, 2, 6])"
   ]
  },
  {
   "cell_type": "code",
   "execution_count": 67,
   "id": "638062e5-972d-4e58-854a-4fd94d6702ad",
   "metadata": {},
   "outputs": [
    {
     "ename": "NameError",
     "evalue": "name 'LabelEncoder' is not defined",
     "output_type": "error",
     "traceback": [
      "\u001b[1;31m---------------------------------------------------------------------------\u001b[0m",
      "\u001b[1;31mNameError\u001b[0m                                 Traceback (most recent call last)",
      "\u001b[1;32m~\\AppData\\Local\\Temp\\ipykernel_18100\\3808124553.py\u001b[0m in \u001b[0;36m<module>\u001b[1;34m\u001b[0m\n\u001b[0;32m      1\u001b[0m \u001b[0mle\u001b[0m \u001b[1;33m=\u001b[0m \u001b[0mpreprocessing\u001b[0m\u001b[1;33m.\u001b[0m\u001b[0mLabelEncoder\u001b[0m\u001b[1;33m(\u001b[0m\u001b[1;33m)\u001b[0m\u001b[1;33m\u001b[0m\u001b[1;33m\u001b[0m\u001b[0m\n\u001b[0;32m      2\u001b[0m \u001b[0mle\u001b[0m\u001b[1;33m.\u001b[0m\u001b[0mfit\u001b[0m\u001b[1;33m(\u001b[0m\u001b[1;33m[\u001b[0m\u001b[1;34m\"stand\"\u001b[0m\u001b[1;33m,\u001b[0m \u001b[1;34m\"walk\"\u001b[0m\u001b[1;33m,\u001b[0m \u001b[1;34m\"run\"\u001b[0m\u001b[1;33m,\u001b[0m \u001b[1;34m\"sit down\"\u001b[0m\u001b[1;33m,\u001b[0m \u001b[1;34m\"lay down\"\u001b[0m\u001b[1;33m,\u001b[0m \u001b[1;34m\"grab handle\"\u001b[0m\u001b[1;33m,\u001b[0m \u001b[1;34m\"kick\"\u001b[0m\u001b[1;33m,\u001b[0m \u001b[1;34m\"violence\"\u001b[0m\u001b[1;33m]\u001b[0m\u001b[1;33m)\u001b[0m\u001b[1;33m\u001b[0m\u001b[1;33m\u001b[0m\u001b[0m\n\u001b[1;32m----> 3\u001b[1;33m \u001b[0mLabelEncoder\u001b[0m\u001b[1;33m(\u001b[0m\u001b[1;33m)\u001b[0m\u001b[1;33m\u001b[0m\u001b[1;33m\u001b[0m\u001b[0m\n\u001b[0m\u001b[0;32m      4\u001b[0m \u001b[0mlist\u001b[0m\u001b[1;33m(\u001b[0m\u001b[0mle\u001b[0m\u001b[1;33m.\u001b[0m\u001b[0mclasses_\u001b[0m\u001b[1;33m)\u001b[0m\u001b[1;33m\u001b[0m\u001b[1;33m\u001b[0m\u001b[0m\n\u001b[0;32m      5\u001b[0m \u001b[1;31m# ['amsterdam', 'paris', 'tokyo']\u001b[0m\u001b[1;33m\u001b[0m\u001b[1;33m\u001b[0m\u001b[1;33m\u001b[0m\u001b[0m\n",
      "\u001b[1;31mNameError\u001b[0m: name 'LabelEncoder' is not defined"
     ]
    }
   ],
   "source": [
    "le = preprocessing.LabelEncoder()\n",
    "le.fit([\"stand\", \"walk\", \"run\", \"sit down\", \"lay down\", \"grab handle\", \"kick\", \"violence\"])\n",
    "LabelEncoder()\n",
    "list(le.classes_)\n",
    "# ['amsterdam', 'paris', 'tokyo']\n",
    "# le.transform([\"tokyo\", \"tokyo\", \"paris\"])\n",
    "# array([2, 2, 1])\n",
    "# list(le.inverse_transform([2, 2, 1]))\n",
    "# ['tokyo', 'tokyo', 'paris']"
   ]
  },
  {
   "cell_type": "code",
   "execution_count": null,
   "id": "274d5f32-3e54-4df9-abe1-767325548302",
   "metadata": {},
   "outputs": [],
   "source": [
    "stand = 0\n",
    "walk = 1\n",
    "run = 2\n",
    "sit down = 3\n",
    "laydown = 4\n",
    "grab handle = 5\n",
    "kick = 6\n",
    "violence = 7"
   ]
  },
  {
   "cell_type": "code",
   "execution_count": null,
   "id": "ab45a719-abd7-4cf7-a4f5-8f62cb444f09",
   "metadata": {},
   "outputs": [],
   "source": []
  },
  {
   "cell_type": "code",
   "execution_count": null,
   "id": "a771c09d-9a5f-40b8-b937-30e39193aa95",
   "metadata": {},
   "outputs": [],
   "source": []
  },
  {
   "cell_type": "code",
   "execution_count": 33,
   "id": "d73f0dac-7c08-4deb-bd03-6ea8f7dfdfd7",
   "metadata": {},
   "outputs": [],
   "source": [
    "keypoints = df['keypoints']"
   ]
  },
  {
   "cell_type": "code",
   "execution_count": 38,
   "id": "6852f2fa-6c59-4b01-8356-627f75d2bf6c",
   "metadata": {},
   "outputs": [],
   "source": [
    "keypoints = np.array(keypoints)"
   ]
  },
  {
   "cell_type": "code",
   "execution_count": 37,
   "id": "45a51f5c-a4c5-4e5b-bbf8-62ee7bef9e8e",
   "metadata": {
    "tags": []
   },
   "outputs": [
    {
     "data": {
      "text/plain": [
       "array(['[1074, 1020, 2, 1111, 923, 2, 1151, 752, 2, 1266, 829, 2, 1180, 1012, 2, 1371, 1077, 0, 1193, 798, 2, 1248, 643, 2, 1334, 462, 2, 1320, 342, 2, 1102, 736, 2, 1148, 649, 2, 1225, 456, 2, 1442, 563, 2, 1407, 763, 2, 1334, 889, 2]',\n",
       "       '[1094, 918, 2, 1131, 802, 2, 1185, 643, 2, 1311, 694, 2, 1234, 873, 2, 1189, 979, 2, 1233, 687, 2, 1288, 559, 2, 1357, 382, 2, 1357, 303, 2, 1121, 634, 2, 1178, 542, 2, 1232, 392, 2, 1418, 454, 2, 1400, 604, 2, 1344, 700, 2]',\n",
       "       '[1085, 909, 2, 1118, 787, 2, 1174, 634, 2, 1291, 684, 2, 1214, 862, 2, 1187, 967, 2, 1226, 678, 2, 1281, 542, 2, 1345, 377, 2, 1334, 302, 2, 1100, 624, 2, 1158, 543, 2, 1230, 389, 2, 1415, 450, 2, 1392, 599, 2, 1336, 693, 2]',\n",
       "       ...,\n",
       "       '[1446, 632, 1, 1471, 577, 1, 1482, 654, 1, 1399, 654, 1, 1249, 594, 2, 1233, 682, 2, 1437, 654, 1, 1402, 504, 2, 1385, 410, 2, 1379, 345, 2, 1438, 566, 1, 1512, 543, 1, 1480, 432, 2, 1333, 424, 1, 1268, 454, 1, 1298, 368, 1]',\n",
       "       '[1373, 670, 1, 1372, 585, 1, 1418, 523, 2, 1339, 551, 2, 1231, 581, 2, 1236, 679, 2, 1366, 542, 2, 1344, 428, 2, 1311, 346, 2, 1299, 299, 2, 1402, 473, 2, 1461, 442, 1, 1420, 354, 1, 1264, 416, 2, 1259, 496, 2, 1314, 452, 1]',\n",
       "       '[1331, 670, 1, 1337, 561, 1, 1381, 437, 1, 1292, 486, 2, 1230, 580, 2, 1236, 670, 2, 1336, 468, 2, 1292, 324, 2, 1246, 251, 2, 1219, 188, 2, 1366, 383, 1, 1415, 307, 1, 1333, 232, 2, 1201, 321, 2, 1205, 447, 2, 1229, 384, 1]'],\n",
       "      dtype=object)"
      ]
     },
     "execution_count": 37,
     "metadata": {},
     "output_type": "execute_result"
    }
   ],
   "source": [
    "keypoints"
   ]
  }
 ],
 "metadata": {
  "kernelspec": {
   "display_name": "Python 3 (ipykernel)",
   "language": "python",
   "name": "python3"
  },
  "language_info": {
   "codemirror_mode": {
    "name": "ipython",
    "version": 3
   },
   "file_extension": ".py",
   "mimetype": "text/x-python",
   "name": "python",
   "nbconvert_exporter": "python",
   "pygments_lexer": "ipython3",
   "version": "3.7.15"
  },
  "vscode": {
   "interpreter": {
    "hash": "25334c1ec4fe8ade4d2de16036465563188327fab73b93d66eced48be3141c83"
   }
  }
 },
 "nbformat": 4,
 "nbformat_minor": 5
}
