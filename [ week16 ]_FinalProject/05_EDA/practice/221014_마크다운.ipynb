{
 "cells": [
  {
   "cell_type": "markdown",
   "metadata": {},
   "source": [
    "red\n",
    "파랑\n",
    "초록\n",
    "Strong\n",
    "그레이\n",
    "노랑\n",
    "\n",
    "<span style=\"color: red\">red</span>\n",
    "<span style=\"color: #0000FF\">파랑</span>\n",
    "<span style=\"color: #008000\">초록</span>\n",
    "<span style=\"color: #2D3748; background-color:#fff5b1;\"> Strong</span>\n",
    "<span style=\"color: #808080\">그레이</span>\n",
    "<span style=\"color: #ffd33d\">노랑</span>"
   ]
  },
  {
   "cell_type": "code",
   "execution_count": 1,
   "metadata": {},
   "outputs": [
    {
     "data": {
      "text/plain": [
       "'\\n<span style=\"color: red\">red</span>\\n<span style=\"color: #0000FF\">파랑</span>\\n<span style=\"color: #008000\">초록</span>\\n<span style=\"color: #2D3748; background-color:#fff5b1;\"> Strong</span>\\n<span style=\"color: #808080\">그레이</span>\\n<span style=\"color: #ffd33d\">노랑</span>\\n'"
      ]
     },
     "execution_count": 1,
     "metadata": {},
     "output_type": "execute_result"
    }
   ],
   "source": [
    "'''\n",
    "<span style=\"color: red\">red</span>\n",
    "<span style=\"color: #0000FF\">파랑</span>\n",
    "<span style=\"color: #008000\">초록</span>\n",
    "<span style=\"color: #2D3748; background-color:#fff5b1;\"> Strong</span>\n",
    "<span style=\"color: #808080\">그레이</span>\n",
    "<span style=\"color: #ffd33d\">노랑</span>\n",
    "'''"
   ]
  },
  {
   "cell_type": "markdown",
   "metadata": {},
   "source": []
  },
  {
   "cell_type": "code",
   "execution_count": null,
   "metadata": {},
   "outputs": [],
   "source": []
  },
  {
   "cell_type": "code",
   "execution_count": null,
   "metadata": {},
   "outputs": [],
   "source": []
  }
 ],
 "metadata": {
  "kernelspec": {
   "display_name": "Python 3.8.13 ('PY_38')",
   "language": "python",
   "name": "python3"
  },
  "language_info": {
   "codemirror_mode": {
    "name": "ipython",
    "version": 3
   },
   "file_extension": ".py",
   "mimetype": "text/x-python",
   "name": "python",
   "nbconvert_exporter": "python",
   "pygments_lexer": "ipython3",
   "version": "3.8.13"
  },
  "orig_nbformat": 4,
  "vscode": {
   "interpreter": {
    "hash": "f51318b53217ab8299067641ea34f52a46e1c9ab8e7a1d9b283304c943f905f7"
   }
  }
 },
 "nbformat": 4,
 "nbformat_minor": 2
}
