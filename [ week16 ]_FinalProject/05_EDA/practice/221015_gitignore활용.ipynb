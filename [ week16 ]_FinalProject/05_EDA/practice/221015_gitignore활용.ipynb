{
 "cells": [
  {
   "cell_type": "markdown",
   "metadata": {},
   "source": [
    "### .gitignore 활용"
   ]
  },
  {
   "cell_type": "markdown",
   "metadata": {},
   "source": [
    "1. 일단 작업하는 것들이 프로젝트 단위로 없기 때문에, 해당 디렉토리에 들어가면 모두 추적 중지를 하는 것만 해봄\n",
    "2. [ . ]을 쓰는 거랑 [ / ]를 쓰는 것 구분을 잘 해야 했음\n",
    "3. [ .gitignore ] 이렇게 파일을 만들었고, [ ig_nore/ ]을 내용으로 적었음\n",
    "4. [ ig_nore/ ] 폴더 안에 있는 모든 것드을 추적이 중지되도록 만든 것"
   ]
  },
  {
   "cell_type": "markdown",
   "metadata": {},
   "source": [
    "\n",
    "* <span style=\"color: red\">처음에는 .gitignore.txt로 만들었어서 적용이 안되는 거였음</span>\n",
    "* .txt를 지우니까 실시간 추적이 중지되는 것을 확인할 수 있었음"
   ]
  },
  {
   "cell_type": "markdown",
   "metadata": {},
   "source": [
    "* <span style=\"color: #ffd33d\">향후, 프로젝트 단위의 추적 중지 파일(사용 데이터 등) 및 폴더 관리를 할 때는 북마크 해둔 것들을 다시금 참고해서 학습 요망</span>"
   ]
  },
  {
   "cell_type": "markdown",
   "metadata": {},
   "source": []
  }
 ],
 "metadata": {
  "kernelspec": {
   "display_name": "Python 3.8.13 ('PY_38')",
   "language": "python",
   "name": "python3"
  },
  "language_info": {
   "name": "python",
   "version": "3.8.13"
  },
  "orig_nbformat": 4,
  "vscode": {
   "interpreter": {
    "hash": "f51318b53217ab8299067641ea34f52a46e1c9ab8e7a1d9b283304c943f905f7"
   }
  }
 },
 "nbformat": 4,
 "nbformat_minor": 2
}
