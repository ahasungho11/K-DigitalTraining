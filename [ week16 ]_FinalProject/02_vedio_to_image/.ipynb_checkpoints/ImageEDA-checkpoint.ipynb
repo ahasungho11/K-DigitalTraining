{
 "cells": [
  {
   "cell_type": "code",
   "execution_count": 1,
   "id": "d9b01c77-4cf3-49c8-88be-1d32cd139289",
   "metadata": {},
   "outputs": [],
   "source": [
    "# 이미지 EDA"
   ]
  },
  {
   "cell_type": "markdown",
   "id": "96f9a9d3-ff42-430d-a17e-09d502e8aa5a",
   "metadata": {},
   "source": [
    "## 데이터를 분석하고, 시각화하며 인사이트를 얻어내는 작업이 필요합니다.\n",
    "\n",
    "1. 현재 우리가 활용하기 위해 받았던 image파일 (사용할 것)\n",
    "\n",
    "- 목록 확인\n",
    " -> 총 이미지 모두 목록\n",
    " -> 우리가 사용하고자 하는 이미지\n",
    " \n",
    "2. 총 이미지 중 메타데이터만 쓸 것\n",
    "- 영상 촬영 후, 객체인식 -> \n",
    "\n",
    "\n",
    "\n",
    "\n",
    "\n",
    "\n"
   ]
  },
  {
   "cell_type": "code",
   "execution_count": 2,
   "id": "a51a40cf-6148-4e78-a010-b53b8b6b78c3",
   "metadata": {},
   "outputs": [
    {
     "data": {
      "text/plain": [
       "<module 'PIL.Image' from 'C:\\\\Users\\\\ahasu\\\\anaconda3\\\\lib\\\\site-packages\\\\PIL\\\\Image.py'>"
      ]
     },
     "execution_count": 2,
     "metadata": {},
     "output_type": "execute_result"
    }
   ],
   "source": [
    "### Data Load\n",
    "import os\n",
    "import numpy as np\n",
    "import warnings\n",
    "warnings.filterwarnings(action='ignore') # 경고 메세지 숨김\n",
    "from glob import glob\n",
    "import numpy as np\n",
    "import matplotlib\n",
    "import seaborn as sns\n",
    "import PIL\n",
    "PIL.Image"
   ]
  },
  {
   "cell_type": "markdown",
   "id": "4eaa4174-6456-4cac-96f3-298d17170142",
   "metadata": {},
   "source": [
    "# 파일 이름과 라벨 입력에 관한 내용"
   ]
  },
  {
   "cell_type": "code",
   "execution_count": null,
   "id": "2334268f-bc73-46b5-9336-177a4ecb698c",
   "metadata": {},
   "outputs": [],
   "source": [
    "## 간단한 EDA\n",
    "1. 이미지 크기 확인\n",
    " 1) 이미지 데이터 크기(shape)"
   ]
  },
  {
   "cell_type": "code",
   "execution_count": null,
   "id": "e573e339-610e-47e8-83bb-ea331cd93871",
   "metadata": {},
   "outputs": [],
   "source": [
    "print(\"train 이미지 크기:\", training_images.shape)\n",
    "print(\"train 라벨 크기:\", label_df.shape)"
   ]
  },
  {
   "cell_type": "code",
   "execution_count": null,
   "id": "bbf1fee8-7f6e-4d20-9220-6bc8bd10fdf4",
   "metadata": {},
   "outputs": [],
   "source": [
    "shape의 출력값에서 (858, 224, 224, 3)는 (count, high pixel, width pixel, channels)를 의미"
   ]
  },
  {
   "cell_type": "code",
   "execution_count": null,
   "id": "9adda4b6-3df3-4db6-85aa-d492b8acbfe1",
   "metadata": {},
   "outputs": [],
   "source": [
    "* count\n",
    "train과 validation에 존재하는 이미지 확인"
   ]
  },
  {
   "cell_type": "code",
   "execution_count": null,
   "id": "eadff325-3067-48cb-813a-a5163f5caf66",
   "metadata": {},
   "outputs": [],
   "source": [
    "* pixel\n",
    "현재 이미지에서는 224개 픽셀 X 224개 픽셀로 구성"
   ]
  },
  {
   "cell_type": "code",
   "execution_count": null,
   "id": "27a5ffc6-7be7-4286-9ff6-92875bdaf284",
   "metadata": {},
   "outputs": [],
   "source": [
    "* channels\n",
    "마지막 숫자 3 값은 RGB 값을 나타냅니다.\n",
    "픽셀의 색을 숫자로 표현하는 방식을 색공간(color space)라고 하는데,\n",
    "대표적인 색공간으로는 RGB(Red-Green-Blue), 그레이스케일(gray scale), HSV(Hue-Saturation-Value) 방식"
   ]
  },
  {
   "cell_type": "code",
   "execution_count": null,
   "id": "24b8d81d-bbf0-4670-abf8-de24ea274080",
   "metadata": {},
   "outputs": [],
   "source": [
    "* 해당 이미지 출력"
   ]
  },
  {
   "cell_type": "code",
   "execution_count": null,
   "id": "c840b02a-48d2-4a9f-89fd-227171957717",
   "metadata": {},
   "outputs": [],
   "source": [
    "* 라벨 이미지 출력\n",
    "- 우리의 경우, 라벨이 적힌 json 파일을 DB에 적재하여 \n",
    "모델에 넣을 생각을 하고 있음\n",
    "-> 예시 표시"
   ]
  },
  {
   "cell_type": "code",
   "execution_count": null,
   "id": "d39e7d8d-e98b-4e65-bb48-1bfee65f113a",
   "metadata": {},
   "outputs": [],
   "source": [
    "import matplotlib.pyplot as plt\n",
    "%matplotlib inline\n",
    "\n",
    "plt.figure(figsize=[10,5])\n",
    "for i in range(10):\n",
    "    import random\n",
    "    num = random.randint(0,858)\n",
    "    plt.subplot(2, 5, i + 1)\n",
    "    plt.grid(False)\n",
    "    plt.xticks([])\n",
    "    plt.yticks([])\n",
    "    plt.xlabel(label_df.label[num])\n",
    "    plt.imshow(training_images[num])\n",
    "plt.show()"
   ]
  },
  {
   "cell_type": "markdown",
   "id": "f3dea5e9-2dc3-41fc-9b43-3a0283ecfa01",
   "metadata": {},
   "source": [
    "* 라벨 분포 확인\n",
    "- 일단, 승하차 시에 쓰일 라벨들을 띄워서 사용하겠다는 것을 보여주자\n",
    "\n",
    "```\n",
    "10-2를 제외하곤 모든 클래스가 거의 균일하게 분포하는 것을 확인했습니다.\n",
    "실제로 학습에 하기 앞서 라벨을 모두 정수형으로 바꿔주어야 하므로\n",
    "문자열을 숫자로 처리하는 작업\n",
    "```"
   ]
  },
  {
   "cell_type": "code",
   "execution_count": null,
   "id": "63364ab0-9d23-4f5d-881d-2cdaa0ab9f72",
   "metadata": {},
   "outputs": [],
   "source": [
    "json 파일이 담긴 folder을 읽고, DF로 바꿔서\n",
    "해당 get_on / get_off의 개수를 파악해서 그래프로 표현\n",
    "0 / 1 / 2로 된 것은 각각 몇 개 인지 파악\n",
    "\n",
    "- 일부 이미지 읽고, 맞는 이미지 이름 출력\n",
    "- 있는 것, 없는 것, "
   ]
  },
  {
   "cell_type": "code",
   "execution_count": null,
   "id": "21746ac0-269a-4ac6-b388-f5dd71844d81",
   "metadata": {},
   "outputs": [],
   "source": []
  },
  {
   "cell_type": "code",
   "execution_count": null,
   "id": "ee793794-086a-4e45-b0ff-5067067d3d99",
   "metadata": {},
   "outputs": [],
   "source": [
    "* 작업 환경에 따라 어떻게 할지에 대한 의견\n",
    "* 몇 개를 쓸지, 샘플만 일단 할지"
   ]
  },
  {
   "cell_type": "code",
   "execution_count": null,
   "id": "dedbbf2c-8c46-49c0-9e3b-6d40f37274eb",
   "metadata": {},
   "outputs": [],
   "source": []
  },
  {
   "cell_type": "code",
   "execution_count": null,
   "id": "416d6331-1a7d-4425-9d65-c5cc5d007856",
   "metadata": {},
   "outputs": [],
   "source": []
  },
  {
   "cell_type": "code",
   "execution_count": null,
   "id": "25b4dbb8-fcee-46aa-a4d7-7d1a648db544",
   "metadata": {},
   "outputs": [],
   "source": []
  },
  {
   "cell_type": "code",
   "execution_count": null,
   "id": "eae6fb16-93bd-4bfd-a4ad-2266754d761d",
   "metadata": {},
   "outputs": [],
   "source": [
    "* 데이터 분포\n",
    "- 몇 개씩 있는지를 보여줄 수 있도록\n",
    "- 영상을 3fps로 하여 나온 이미지 파일인데\n",
    "- 어떻게 개수를 다룰지 _ 관련된 내용이 "
   ]
  },
  {
   "cell_type": "markdown",
   "id": "3633cf6e-de8b-4204-ad02-ea5f4042a7c4",
   "metadata": {},
   "source": [
    "---"
   ]
  },
  {
   "cell_type": "code",
   "execution_count": null,
   "id": "e07199ba-81bf-4832-aed3-54fd5a5b9132",
   "metadata": {},
   "outputs": [],
   "source": [
    "* 일단 말로 죽 풀어보자\n",
    "- 승하차 간의 사고가 발생하고 있다.\n",
    "- 교통 약자인 노인이나 어린이의 경우 승하차시 상대적으로 더 위험할 수 있음\n",
    "- "
   ]
  },
  {
   "cell_type": "code",
   "execution_count": null,
   "id": "595257d7-1cef-400c-bec4-1c8f2e2ddd7a",
   "metadata": {},
   "outputs": [],
   "source": []
  },
  {
   "cell_type": "code",
   "execution_count": null,
   "id": "9823651b-35d2-4e2e-9045-42a3c811742c",
   "metadata": {},
   "outputs": [],
   "source": [
    "* 하루 종일 자료를 찾아보는데도 나오지 않는다\n",
    "* 다른 어떤 자료를 연결해야 사용할 수 있을까"
   ]
  },
  {
   "cell_type": "markdown",
   "id": "e63d71f3-9980-4dc8-9acd-ae9b0178ea65",
   "metadata": {},
   "source": [
    "* 유뷰브 영상\n",
    "- 바인딩 후, 스켈레톤 잡는 것 교육 영상 찾을 것"
   ]
  },
  {
   "cell_type": "code",
   "execution_count": null,
   "id": "84039eef-7136-4263-8f06-dc74a229b6f9",
   "metadata": {},
   "outputs": [],
   "source": []
  },
  {
   "cell_type": "code",
   "execution_count": null,
   "id": "af560408-fc80-4683-8418-1e932d3c120d",
   "metadata": {},
   "outputs": [],
   "source": []
  },
  {
   "cell_type": "code",
   "execution_count": null,
   "id": "87abc547-406d-4354-9ba3-fb595c335e4e",
   "metadata": {},
   "outputs": [],
   "source": []
  },
  {
   "cell_type": "code",
   "execution_count": null,
   "id": "923b59e3-4922-404a-b77e-f67a7784cf3c",
   "metadata": {},
   "outputs": [],
   "source": []
  },
  {
   "cell_type": "code",
   "execution_count": null,
   "id": "a8fe4e59-ac4c-4d9a-9307-94eccf020329",
   "metadata": {},
   "outputs": [],
   "source": []
  },
  {
   "cell_type": "code",
   "execution_count": null,
   "id": "7d6fc0b7-1293-47df-9493-35179e54dca3",
   "metadata": {},
   "outputs": [],
   "source": [
    "- a/b/c\n",
    "- 이상탐지"
   ]
  },
  {
   "cell_type": "code",
   "execution_count": null,
   "id": "0adc2c1f-253f-4724-beaf-6d4aa1b56795",
   "metadata": {},
   "outputs": [],
   "source": []
  }
 ],
 "metadata": {
  "kernelspec": {
   "display_name": "Python 3 (ipykernel)",
   "language": "python",
   "name": "python3"
  },
  "language_info": {
   "codemirror_mode": {
    "name": "ipython",
    "version": 3
   },
   "file_extension": ".py",
   "mimetype": "text/x-python",
   "name": "python",
   "nbconvert_exporter": "python",
   "pygments_lexer": "ipython3",
   "version": "3.9.13"
  }
 },
 "nbformat": 4,
 "nbformat_minor": 5
}
