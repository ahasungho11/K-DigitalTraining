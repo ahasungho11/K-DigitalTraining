{
 "cells": [
  {
   "cell_type": "markdown",
   "id": "02b5173c-43c9-4761-9ea8-2b3fb0a8a940",
   "metadata": {},
   "source": [
    "## 영상 데이터에서 이미지 불러오기 (1)"
   ]
  },
  {
   "cell_type": "code",
   "execution_count": null,
   "id": "b5967795-762a-4434-9ca1-16104340b07e",
   "metadata": {},
   "outputs": [],
   "source": [
    "#라이브러리 호출\n",
    "import cv2\n",
    "import os\n",
    "\n",
    "print(cv2.__version__)"
   ]
  },
  {
   "cell_type": "code",
   "execution_count": 10,
   "id": "27dc13de-8126-442d-b598-e25e8105e7e7",
   "metadata": {},
   "outputs": [],
   "source": [
    "filepath = './test.mp4'\n",
    "video = cv2.VideoCapture(filepath)\n",
    "\n",
    "# 비디오 파일이 아닐 경우(예외 경우) 처리\n",
    "if not video.isOpened():\n",
    "    print(\"Could not Open :\", filepath)\n",
    "    exit(0)"
   ]
  },
  {
   "cell_type": "code",
   "execution_count": 11,
   "id": "fb952f2d-9b1b-46de-a28b-0717cf0ec055",
   "metadata": {},
   "outputs": [
    {
     "name": "stdout",
     "output_type": "stream",
     "text": [
      "length : 301\n",
      "width : 720\n",
      "height : 1280\n",
      "fps : 24.0\n"
     ]
    }
   ],
   "source": [
    "# 불러온 비디오 파일의 정보 출력\n",
    "length = int(video.get(cv2.CAP_PROP_FRAME_COUNT))\n",
    "width = int(video.get(cv2.CAP_PROP_FRAME_WIDTH))\n",
    "height = int(video.get(cv2.CAP_PROP_FRAME_HEIGHT))\n",
    "fps = video.get(cv2.CAP_PROP_FPS)\n",
    "\n",
    "print(\"length :\", length)\n",
    "print(\"width :\", width)\n",
    "print(\"height :\", height)\n",
    "print(\"fps :\", fps)"
   ]
  },
  {
   "cell_type": "code",
   "execution_count": 12,
   "id": "27f61716-499b-4feb-a95d-3e43099b9e68",
   "metadata": {},
   "outputs": [],
   "source": [
    "# 프레임을 저장할 디렉토리를 생성\n",
    "try:\n",
    "    if not os.path.exists(filepath[:-4]):\n",
    "        os.makedirs(filepath[:-4])\n",
    "except OSError:\n",
    "    print ('Error: Creating directory. ' +  filepath[:-4])"
   ]
  },
  {
   "cell_type": "code",
   "execution_count": null,
   "id": "a267f7ca-8aa6-455f-bbdb-6270d86ba093",
   "metadata": {
    "collapsed": true,
    "jupyter": {
     "outputs_hidden": true
    },
    "tags": []
   },
   "outputs": [],
   "source": [
    "count = 0\n",
    "\n",
    "while(video.isOpened()):\n",
    "    ret, image = video.read()\n",
    "    if(int(video.get(1)) % fps == 0): #앞서 불러온 fps 값을 사용하여 1초마다 추출\n",
    "        cv2.imwrite(filepath[:-4] + \"/frame%d.jpg\" % count, image)\n",
    "        print('Saved frame number :', str(int(video.get(1))))\n",
    "        count += 1\n",
    "        \n",
    "video.release()"
   ]
  },
  {
   "cell_type": "markdown",
   "id": "14322e50-5553-4f88-9749-e8eacfc133ce",
   "metadata": {},
   "source": [
    "## 영상 데이터에서 이미지 불러오기 (2)"
   ]
  },
  {
   "cell_type": "code",
   "execution_count": 14,
   "id": "7059c9e4-92b1-49b3-9b08-899a23054416",
   "metadata": {},
   "outputs": [],
   "source": [
    "cap = cv2.VideoCapture('/test.mp4')\n",
    "# cap = cv2.VideoCapture(f\"{VideoPath}\")"
   ]
  },
  {
   "cell_type": "code",
   "execution_count": 17,
   "id": "82d05836-9e62-48ac-b235-7c6c41e22db6",
   "metadata": {},
   "outputs": [],
   "source": [
    "def readFrame(cap, frame):\n",
    "    cap.set(cv2.CAP_PROP_POS_FRAMES, frame)\n",
    "    ok, image = cap.read()\n",
    "\n",
    "    if not ok:\n",
    "        raise \"프레임 없음\"\n",
    "    return image\n",
    "\n"
   ]
  },
  {
   "cell_type": "code",
   "execution_count": null,
   "id": "a836b7ed-fd13-4d12-8fa0-87314e68e1a4",
   "metadata": {
    "collapsed": true,
    "jupyter": {
     "outputs_hidden": true
    },
    "tags": []
   },
   "outputs": [],
   "source": [
    "# -*- coding: utf-8 -*-\n",
    "__author__ = 'Seran'\n",
    " \n",
    "import cv2\n",
    " \n",
    "# 영상의 의미지를 연속적으로 캡쳐할 수 있게 하는 class\n",
    "vidcap = cv2.VideoCapture('test.mp4')\n",
    " \n",
    "count = 0\n",
    " \n",
    "while(vidcap.isOpened()):\n",
    "    # read()는 grab()와 retrieve() 두 함수를 한 함수로 불러옴\n",
    "    # 두 함수를 동시에 불러오는 이유는 프레임이 존재하지 않을 때\n",
    "    # grab() 함수를 이용하여 return false 혹은 NULL 값을 넘겨 주기 때문\n",
    "    ret, image = vidcap.read()\n",
    " \n",
    "    # 캡쳐된 이미지를 저장하는 함수 \n",
    "    cv2.imwrite(\"/images/frame%d.jpg\" % count, image)\n",
    " \n",
    "    print('Saved frame%d.jpg' % count)\n",
    "    count += 1\n",
    " \n",
    "vidcap.release()"
   ]
  },
  {
   "cell_type": "code",
   "execution_count": null,
   "id": "0cc48f3e-b651-459b-9844-836e46e07b9e",
   "metadata": {},
   "outputs": [],
   "source": [
    "while(vidcap.isOpened()):\n",
    "    ret, image = vidcap.read()\n",
    " \n",
    "    if(int(vidcap.get(1)) % 20 == 0):\n",
    "        print('Saved frame number : ' + str(int(vidcap.get(1))))\n",
    "        cv2.imwrite(\"../images/frame%d.jpg\" % count, image)\n",
    "        print('Saved frame%d.jpg' % count)\n",
    "        count += 1\n"
   ]
  }
 ],
 "metadata": {
  "kernelspec": {
   "display_name": "Python 3.11.0 64-bit",
   "language": "python",
   "name": "python3"
  },
  "language_info": {
   "name": "python",
   "version": "3.11.0"
  },
  "vscode": {
   "interpreter": {
    "hash": "25334c1ec4fe8ade4d2de16036465563188327fab73b93d66eced48be3141c83"
   }
  }
 },
 "nbformat": 4,
 "nbformat_minor": 5
}
