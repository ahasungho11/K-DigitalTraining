{
 "cells": [
  {
   "cell_type": "markdown",
   "id": "d65d57af-6fa5-4b46-8937-09951e44f8b5",
   "metadata": {
    "tags": []
   },
   "source": [
    "# CNN - 이상감지"
   ]
  },
  {
   "cell_type": "code",
   "execution_count": 1,
   "id": "f9ab3214-f6de-44dc-8546-3c6038801bbe",
   "metadata": {},
   "outputs": [],
   "source": [
    "# 모듈 로딩(1)\n",
    "import json\n",
    "import pandas as pd\n",
    "import os\n",
    "import matplotlib.pyplot as plt\n",
    "from tqdm import tqdm\n",
    "import numpy as np\n",
    "from collections import Counter"
   ]
  },
  {
   "cell_type": "code",
   "execution_count": 17,
   "id": "715c0f8a-0e02-4493-9625-6f48271e9d2a",
   "metadata": {},
   "outputs": [],
   "source": [
    "# 모듈 로딩(2)\n",
    "import tensorflow as tf\n",
    "from keras.models import Sequential\n",
    "from keras.layers import Dense\n",
    "from tensorflow.keras.optimizers import Adam,SGD,RMSprop,Adagrad\n",
    "from tensorflow.keras.callbacks import EarlyStopping\n",
    "from keras.layers import Dropout, Flatten,Activation, BatchNormalization\n",
    "from keras.layers import Conv2D, MaxPooling2D, Conv3D, MaxPool2D, Dense"
   ]
  },
  {
   "cell_type": "code",
   "execution_count": 3,
   "id": "349da43a-fdb1-4c0b-91a8-384f99d966f2",
   "metadata": {},
   "outputs": [],
   "source": [
    "df = pd.read_csv('./bus_getonoff_sum.csv')\n",
    "# df"
   ]
  },
  {
   "cell_type": "markdown",
   "id": "b765b855-4d97-4bbf-bc23-d8c37df5403e",
   "metadata": {},
   "source": [
    "***"
   ]
  },
  {
   "cell_type": "code",
   "execution_count": 4,
   "id": "6e5bf848-5044-491b-a46d-8d94ac8b6ed0",
   "metadata": {},
   "outputs": [
    {
     "data": {
      "text/plain": [
       "2    626429\n",
       "0    225248\n",
       "1    131447\n",
       "Name: get_num, dtype: int64"
      ]
     },
     "execution_count": 4,
     "metadata": {},
     "output_type": "execute_result"
    }
   ],
   "source": [
    "df['get_num'].value_counts()"
   ]
  },
  {
   "cell_type": "markdown",
   "id": "a0cad690-5b3c-43e3-a37f-dd80a61ecede",
   "metadata": {},
   "source": [
    "***"
   ]
  },
  {
   "cell_type": "code",
   "execution_count": 5,
   "id": "4e9aef3c-166c-4af9-913d-ca75b70e462c",
   "metadata": {},
   "outputs": [
    {
     "data": {
      "text/plain": [
       "3    486990\n",
       "1    279102\n",
       "0    108011\n",
       "5     99613\n",
       "4      4799\n",
       "7      2641\n",
       "2      1631\n",
       "6       337\n",
       "Name: action_num, dtype: int64"
      ]
     },
     "execution_count": 5,
     "metadata": {},
     "output_type": "execute_result"
    }
   ],
   "source": [
    "df['action_num'].value_counts()\n",
    "# 약 90만개의 데이터가 있음"
   ]
  },
  {
   "cell_type": "code",
   "execution_count": 6,
   "id": "0fb5a9df-2ffa-49d6-acf9-47603f2a82a2",
   "metadata": {},
   "outputs": [],
   "source": [
    "df1 = pd.read_csv('./bus_state.csv')"
   ]
  },
  {
   "cell_type": "code",
   "execution_count": 7,
   "id": "24e03415-8e43-4358-be89-00987bcf3996",
   "metadata": {},
   "outputs": [
    {
     "data": {
      "text/plain": [
       "3    14756\n",
       "0     9412\n",
       "1     8111\n",
       "4     4718\n",
       "5     3791\n",
       "7     2641\n",
       "6      327\n",
       "2      150\n",
       "Name: action_num, dtype: int64"
      ]
     },
     "execution_count": 7,
     "metadata": {},
     "output_type": "execute_result"
    }
   ],
   "source": [
    "df1['action_num'].value_counts()"
   ]
  },
  {
   "cell_type": "code",
   "execution_count": 8,
   "id": "84bb75ac-d4bf-4d68-8c42-2e0c65d157e9",
   "metadata": {},
   "outputs": [],
   "source": [
    "# 6k 10\n",
    "# 2r 1100 (x)\n",
    "# 0st, 1w, 3s d, 5g h 다\n",
    "# 4l d ,7p =\n",
    "# ===== \n",
    "# 6(kick)은 그다지 늘어나지 않음\n",
    "# 2(run)은 그렇게 많지는 않을 것임\n",
    "# 4(lay down)과 7(punch)는 거의 변동x\n",
    "# 0(stand), 1(walk), 3(sit down), 5(grab handle)은 많이 늘어남\n",
    "# 효용이 있을지는 모르겠으나 일단 ㄱ"
   ]
  },
  {
   "cell_type": "code",
   "execution_count": 9,
   "id": "b6b030cb-698c-44bd-9830-11bb802bc74e",
   "metadata": {},
   "outputs": [
    {
     "data": {
      "text/html": [
       "<div>\n",
       "<style scoped>\n",
       "    .dataframe tbody tr th:only-of-type {\n",
       "        vertical-align: middle;\n",
       "    }\n",
       "\n",
       "    .dataframe tbody tr th {\n",
       "        vertical-align: top;\n",
       "    }\n",
       "\n",
       "    .dataframe thead th {\n",
       "        text-align: right;\n",
       "    }\n",
       "</style>\n",
       "<table border=\"1\" class=\"dataframe\">\n",
       "  <thead>\n",
       "    <tr style=\"text-align: right;\">\n",
       "      <th></th>\n",
       "      <th>bbox</th>\n",
       "      <th>keypoints</th>\n",
       "      <th>action</th>\n",
       "      <th>get_on</th>\n",
       "      <th>get_off</th>\n",
       "      <th>get_num</th>\n",
       "      <th>action_num</th>\n",
       "    </tr>\n",
       "  </thead>\n",
       "  <tbody>\n",
       "    <tr>\n",
       "      <th>0</th>\n",
       "      <td>[974, 266, 1471, 1077]</td>\n",
       "      <td>[1074, 1020, 2, 1111, 923, 2, 1151, 752, 2, 12...</td>\n",
       "      <td>stand</td>\n",
       "      <td>True</td>\n",
       "      <td>False</td>\n",
       "      <td>1</td>\n",
       "      <td>0</td>\n",
       "    </tr>\n",
       "    <tr>\n",
       "      <th>1</th>\n",
       "      <td>[1017, 224, 1452, 1060]</td>\n",
       "      <td>[1094, 918, 2, 1131, 802, 2, 1185, 643, 2, 131...</td>\n",
       "      <td>stand</td>\n",
       "      <td>True</td>\n",
       "      <td>False</td>\n",
       "      <td>1</td>\n",
       "      <td>0</td>\n",
       "    </tr>\n",
       "    <tr>\n",
       "      <th>2</th>\n",
       "      <td>[1007, 224, 1445, 1049]</td>\n",
       "      <td>[1085, 909, 2, 1118, 787, 2, 1174, 634, 2, 129...</td>\n",
       "      <td>stand</td>\n",
       "      <td>True</td>\n",
       "      <td>False</td>\n",
       "      <td>1</td>\n",
       "      <td>0</td>\n",
       "    </tr>\n",
       "    <tr>\n",
       "      <th>3</th>\n",
       "      <td>[1007, 222, 1428, 1049]</td>\n",
       "      <td>[1082, 908, 2, 1113, 786, 2, 1155, 627, 2, 127...</td>\n",
       "      <td>stand</td>\n",
       "      <td>True</td>\n",
       "      <td>False</td>\n",
       "      <td>1</td>\n",
       "      <td>0</td>\n",
       "    </tr>\n",
       "    <tr>\n",
       "      <th>4</th>\n",
       "      <td>[995, 220, 1421, 1044]</td>\n",
       "      <td>[1071, 904, 2, 1102, 782, 2, 1144, 623, 2, 127...</td>\n",
       "      <td>stand</td>\n",
       "      <td>True</td>\n",
       "      <td>False</td>\n",
       "      <td>1</td>\n",
       "      <td>0</td>\n",
       "    </tr>\n",
       "  </tbody>\n",
       "</table>\n",
       "</div>"
      ],
      "text/plain": [
       "                      bbox                                          keypoints  \\\n",
       "0   [974, 266, 1471, 1077]  [1074, 1020, 2, 1111, 923, 2, 1151, 752, 2, 12...   \n",
       "1  [1017, 224, 1452, 1060]  [1094, 918, 2, 1131, 802, 2, 1185, 643, 2, 131...   \n",
       "2  [1007, 224, 1445, 1049]  [1085, 909, 2, 1118, 787, 2, 1174, 634, 2, 129...   \n",
       "3  [1007, 222, 1428, 1049]  [1082, 908, 2, 1113, 786, 2, 1155, 627, 2, 127...   \n",
       "4   [995, 220, 1421, 1044]  [1071, 904, 2, 1102, 782, 2, 1144, 623, 2, 127...   \n",
       "\n",
       "  action  get_on  get_off  get_num  action_num  \n",
       "0  stand    True    False        1           0  \n",
       "1  stand    True    False        1           0  \n",
       "2  stand    True    False        1           0  \n",
       "3  stand    True    False        1           0  \n",
       "4  stand    True    False        1           0  "
      ]
     },
     "execution_count": 9,
     "metadata": {},
     "output_type": "execute_result"
    }
   ],
   "source": [
    "df.head()"
   ]
  },
  {
   "cell_type": "code",
   "execution_count": 10,
   "id": "fd7f1d8b-84b4-4ffd-bf63-f3239ea10954",
   "metadata": {},
   "outputs": [
    {
     "data": {
      "text/plain": [
       "0         [1074, 1020, 2, 1111, 923, 2, 1151, 752, 2, 12...\n",
       "1         [1094, 918, 2, 1131, 802, 2, 1185, 643, 2, 131...\n",
       "2         [1085, 909, 2, 1118, 787, 2, 1174, 634, 2, 129...\n",
       "3         [1082, 908, 2, 1113, 786, 2, 1155, 627, 2, 127...\n",
       "4         [1071, 904, 2, 1102, 782, 2, 1144, 623, 2, 127...\n",
       "                                ...                        \n",
       "983119    [997, 1077, 0, 997, 1010, 0, 1016, 1042, 0, 88...\n",
       "983120    [1458, 636, 1, 1483, 581, 1, 1494, 658, 1, 141...\n",
       "983121    [1446, 632, 1, 1471, 577, 1, 1482, 654, 1, 139...\n",
       "983122    [1373, 670, 1, 1372, 585, 1, 1418, 523, 2, 133...\n",
       "983123    [1331, 670, 1, 1337, 561, 1, 1381, 437, 1, 129...\n",
       "Name: keypoints, Length: 983124, dtype: object"
      ]
     },
     "execution_count": 10,
     "metadata": {},
     "output_type": "execute_result"
    }
   ],
   "source": [
    "df['keypoints']"
   ]
  },
  {
   "cell_type": "code",
   "execution_count": 11,
   "id": "3003119c-4fa3-449c-9541-56707a233125",
   "metadata": {},
   "outputs": [],
   "source": [
    "# 열 타입변경\n",
    "# keypoints와 bbox는 문자열 값으로 저장되어 있어서 배열 형태로 바꾸어 주어야 할 필요성이 있어보여서 이 코드를 만듬\n",
    "keypoins_arr=[]\n",
    "bbox_arr=[]\n",
    "\n",
    "for i in range(len(df)): # 테이블 행 수 만큼 for문 돌림\n",
    "    bbox_arr.append(np.array(list(map(int,df.bbox[i].strip('[').strip(']').split(','))))) \n",
    "    keypoins_arr.append(np.array(list(map(int,df.keypoints[i].strip('[').strip(']').split(',')))))\n",
    "    \n",
    "# 배열 형태로 값들이 저장됨\n",
    "df.bbox=bbox_arr\n",
    "df.keypoints=keypoins_arr"
   ]
  },
  {
   "cell_type": "code",
   "execution_count": 12,
   "id": "e03df9e9-9c23-47fb-bbb1-6a8fbebdfb19",
   "metadata": {},
   "outputs": [],
   "source": [
    "keypoints = np.array(list(df.keypoints)).reshape(-1,16,3,1)"
   ]
  },
  {
   "cell_type": "code",
   "execution_count": 13,
   "id": "35a5affb-7dc4-4333-b5cc-264da5a48101",
   "metadata": {},
   "outputs": [
    {
     "name": "stdout",
     "output_type": "stream",
     "text": [
      "<class 'pandas.core.series.Series'>\n",
      "(983124, 16, 3, 1)\n"
     ]
    }
   ],
   "source": [
    "print(type(df.keypoints))\n",
    "print(keypoints.shape)"
   ]
  },
  {
   "cell_type": "code",
   "execution_count": 14,
   "id": "a843666d-7bef-41fb-a0b7-1aac87826ebc",
   "metadata": {},
   "outputs": [
    {
     "data": {
      "text/plain": [
       "(983124,)"
      ]
     },
     "execution_count": 14,
     "metadata": {},
     "output_type": "execute_result"
    }
   ],
   "source": [
    "# 'action_num'을 배열로만 넘겨주면 되겠지\n",
    "y = np.array(df.action_num)\n",
    "y.shape"
   ]
  },
  {
   "cell_type": "code",
   "execution_count": 15,
   "id": "51c68f84-fef4-4a78-a32e-0b3d32d8aff3",
   "metadata": {},
   "outputs": [],
   "source": [
    "# train과 test 나누기\n",
    "from sklearn.model_selection import train_test_split\n",
    "x_train, x_test, y_train, y_test = train_test_split(keypoints, y, test_size=0.2, random_state=42)"
   ]
  },
  {
   "cell_type": "code",
   "execution_count": 19,
   "id": "0263666c-3ce2-4cc9-be37-d2d75fc6130e",
   "metadata": {},
   "outputs": [],
   "source": [
    "# 경고무시\n",
    "import warnings\n",
    "warnings.filterwarnings(action='ignore')\n",
    "\n",
    "# CNN2d\n",
    "model = Sequential()          \n",
    "model.add(Conv2D(filters = 50, kernel_size = (3,3), strides = (1,1), padding = 'same', kernel_initializer='he_normal', input_shape=(16,3,1)))\n",
    "model.add(BatchNormalization())\n",
    "model.add(Activation('relu'))\n",
    "model.add(Conv2D(filters = 50, kernel_size = (3,3), strides = (1,1), padding = 'same', kernel_initializer='he_normal'))\n",
    "model.add(BatchNormalization())\n",
    "model.add(Activation('relu'))\n",
    "model.add(MaxPooling2D(pool_size = (2,2)))\n",
    "model.add(Conv2D(filters = 50, kernel_size = (3,3), strides = (1,1), padding = 'same', kernel_initializer='he_normal'))\n",
    "model.add(BatchNormalization())\n",
    "model.add(Activation('relu'))\n",
    "model.add(Conv2D(filters = 50, kernel_size = (3,3), strides = (1,1), padding = 'same', kernel_initializer='he_normal'))\n",
    "model.add(BatchNormalization())\n",
    "model.add(Activation('relu'))\n",
    "model.add(Flatten())\n",
    "\n",
    "# dense layer with 50 neurons\n",
    "model.add(Dense(50, activation = 'relu', kernel_initializer='he_normal'))\n",
    "model.add(Dropout(0.5))\n",
    "\n",
    "# final layer with 8 neurons to classify the instances\n",
    "model.add(Dense(8, activation='softmax'))\n",
    "\n",
    "# model 컴파일\n",
    "model.compile(loss='sparse_categorical_crossentropy',\n",
    "              optimizer=tf.keras.optimizers.Adam(lr=0.001),\n",
    "              metrics=['accuracy'])\n",
    "\n",
    "# print(model.summary())"
   ]
  },
  {
   "cell_type": "code",
   "execution_count": null,
   "id": "6e1612ee-24cb-4cf9-ad9e-e31d90d8e71e",
   "metadata": {},
   "outputs": [],
   "source": []
  },
  {
   "cell_type": "code",
   "execution_count": null,
   "id": "fff35e2a-5122-4dd2-b719-31f7c930af57",
   "metadata": {},
   "outputs": [],
   "source": []
  },
  {
   "cell_type": "code",
   "execution_count": null,
   "id": "f0c10353-3877-488b-9972-8a454ec48f07",
   "metadata": {},
   "outputs": [],
   "source": []
  },
  {
   "cell_type": "code",
   "execution_count": null,
   "id": "fa418cde-7b1c-47b2-aa9e-65baa08406ef",
   "metadata": {},
   "outputs": [],
   "source": []
  },
  {
   "cell_type": "code",
   "execution_count": null,
   "id": "b75d74f5-0208-4383-a98c-64dc498e2d83",
   "metadata": {},
   "outputs": [],
   "source": []
  },
  {
   "cell_type": "code",
   "execution_count": null,
   "id": "dc97114e-e570-4c62-a742-206c792f0f80",
   "metadata": {},
   "outputs": [],
   "source": []
  },
  {
   "cell_type": "code",
   "execution_count": null,
   "id": "4efa701b-b23b-493a-bb50-63c49a7a8d1b",
   "metadata": {},
   "outputs": [],
   "source": []
  }
 ],
 "metadata": {
  "kernelspec": {
   "display_name": "Python 3 (ipykernel)",
   "language": "python",
   "name": "python3"
  },
  "language_info": {
   "codemirror_mode": {
    "name": "ipython",
    "version": 3
   },
   "file_extension": ".py",
   "mimetype": "text/x-python",
   "name": "python",
   "nbconvert_exporter": "python",
   "pygments_lexer": "ipython3",
   "version": "3.7.15"
  }
 },
 "nbformat": 4,
 "nbformat_minor": 5
}
