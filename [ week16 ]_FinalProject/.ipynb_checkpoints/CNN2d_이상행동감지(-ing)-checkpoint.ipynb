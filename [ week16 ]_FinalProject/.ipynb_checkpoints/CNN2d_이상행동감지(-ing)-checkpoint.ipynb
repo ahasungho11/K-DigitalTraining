{
 "cells": [
  {
   "cell_type": "markdown",
   "id": "a0ce78b3",
   "metadata": {},
   "source": [
    "# CNN2d_이상행동감지\n",
    "---\n",
    "- 8개의 라벨 중 4개 => 0(stand), 1(walk), 3(sit down), 4(lay down) \n",
    "- 우선적으로 해보기"
   ]
  },
  {
   "cell_type": "code",
   "execution_count": 123,
   "id": "4d063a9d",
   "metadata": {},
   "outputs": [],
   "source": [
    "# 모듈 로딩\n",
    "import json\n",
    "import pandas as pd\n",
    "import os\n",
    "import matplotlib.pyplot as plt\n",
    "from tqdm import tqdm\n",
    "import numpy as np\n",
    "import pickle\n",
    "from collections import Counter"
   ]
  },
  {
   "cell_type": "code",
   "execution_count": 146,
   "id": "70ded839",
   "metadata": {},
   "outputs": [],
   "source": [
    "# 모듈 로딩(2)\n",
    "import tensorflow as tf\n",
    "# import logging\n",
    "from keras.models import Sequential\n",
    "from sklearn.model_selection import train_test_split\n",
    "# from sklearn.preprocessing import LabelEncoder\n",
    "from keras.layers import Dense\n",
    "from tensorflow.keras.optimizers import Adam,SGD,RMSprop,Adagrad\n",
    "from tensorflow.keras.callbacks import EarlyStopping\n",
    "from keras.layers import Dropout, Flatten,Activation, BatchNormalization\n",
    "from keras.layers import Conv2D, MaxPooling2D, MaxPool2D, Dense"
   ]
  },
  {
   "cell_type": "markdown",
   "id": "71508ef7",
   "metadata": {},
   "source": [
    "***"
   ]
  },
  {
   "cell_type": "markdown",
   "id": "32ffef2a",
   "metadata": {},
   "source": [
    "## 1. **데이터 세트 준비(Data Setup)**"
   ]
  },
  {
   "cell_type": "code",
   "execution_count": 125,
   "id": "9c92ed01",
   "metadata": {},
   "outputs": [],
   "source": [
    "# 로컬에 저장된 iris 데이터 csv 파일을 읽어온다.\n",
    "# 전체 (train+val) 합쳐진 DataFrame 불러오기\n",
    "df = pd.read_csv('./bus_getonoff_sum.csv')"
   ]
  },
  {
   "cell_type": "code",
   "execution_count": 126,
   "id": "6d76f7e1",
   "metadata": {
    "collapsed": true
   },
   "outputs": [
    {
     "name": "stdout",
     "output_type": "stream",
     "text": [
      "<class 'pandas.core.frame.DataFrame'>\n",
      "RangeIndex: 983124 entries, 0 to 983123\n",
      "Data columns (total 7 columns):\n",
      " #   Column      Non-Null Count   Dtype \n",
      "---  ------      --------------   ----- \n",
      " 0   bbox        983124 non-null  object\n",
      " 1   keypoints   983124 non-null  object\n",
      " 2   action      983124 non-null  object\n",
      " 3   get_on      983124 non-null  bool  \n",
      " 4   get_off     983124 non-null  bool  \n",
      " 5   get_num     983124 non-null  int64 \n",
      " 6   action_num  983124 non-null  int64 \n",
      "dtypes: bool(2), int64(2), object(3)\n",
      "memory usage: 39.4+ MB\n"
     ]
    }
   ],
   "source": [
    "df.info()"
   ]
  },
  {
   "cell_type": "code",
   "execution_count": 127,
   "id": "a0d7473c",
   "metadata": {},
   "outputs": [
    {
     "data": {
      "text/plain": [
       "array(['stand', 'walk', 'sit down', 'run', 'grab handle', 'lay down',\n",
       "       'kick', 'punch'], dtype=object)"
      ]
     },
     "execution_count": 127,
     "metadata": {},
     "output_type": "execute_result"
    }
   ],
   "source": [
    "df.action.unique()"
   ]
  },
  {
   "cell_type": "code",
   "execution_count": 128,
   "id": "04bb7a22",
   "metadata": {
    "collapsed": true
   },
   "outputs": [
    {
     "name": "stdout",
     "output_type": "stream",
     "text": [
      "<class 'pandas.core.frame.DataFrame'>\n",
      "Int64Index: 878902 entries, 0 to 983123\n",
      "Data columns (total 7 columns):\n",
      " #   Column      Non-Null Count   Dtype \n",
      "---  ------      --------------   ----- \n",
      " 0   bbox        878902 non-null  object\n",
      " 1   keypoints   878902 non-null  object\n",
      " 2   action      878902 non-null  object\n",
      " 3   get_on      878902 non-null  bool  \n",
      " 4   get_off     878902 non-null  bool  \n",
      " 5   get_num     878902 non-null  int64 \n",
      " 6   action_num  878902 non-null  int64 \n",
      "dtypes: bool(2), int64(2), object(3)\n",
      "memory usage: 41.9+ MB\n"
     ]
    }
   ],
   "source": [
    "# 모두 합쳐진 라벨 중, 4개만 추려서 활용할 DataFrame 만들기\n",
    "df = df.loc[(df.action == 'stand') | (df.action == 'walk')| (df.action == 'sit down')| (df.action == 'lay down')]\n",
    "# df[df['action']=='stand']\n",
    "df.info()"
   ]
  },
  {
   "cell_type": "code",
   "execution_count": 129,
   "id": "5847a57b",
   "metadata": {},
   "outputs": [
    {
     "data": {
      "text/plain": [
       "sit down    486990\n",
       "walk        279102\n",
       "stand       108011\n",
       "lay down      4799\n",
       "Name: action, dtype: int64"
      ]
     },
     "execution_count": 129,
     "metadata": {},
     "output_type": "execute_result"
    }
   ],
   "source": [
    "df.action.value_counts()"
   ]
  },
  {
   "cell_type": "code",
   "execution_count": 132,
   "id": "8c406e62",
   "metadata": {},
   "outputs": [],
   "source": [
    "df.index=range(len(df))\n",
    "# 인덱스 번호 리셋 확인\n",
    "# df"
   ]
  },
  {
   "cell_type": "markdown",
   "id": "bcb950fe",
   "metadata": {},
   "source": [
    "***"
   ]
  },
  {
   "cell_type": "markdown",
   "id": "6bf308de",
   "metadata": {},
   "source": [
    "## **2. 데이터 전처리(Data Preprocessing)**"
   ]
  },
  {
   "cell_type": "code",
   "execution_count": 133,
   "id": "2fe4952c",
   "metadata": {},
   "outputs": [
    {
     "data": {
      "text/html": [
       "<div>\n",
       "<style scoped>\n",
       "    .dataframe tbody tr th:only-of-type {\n",
       "        vertical-align: middle;\n",
       "    }\n",
       "\n",
       "    .dataframe tbody tr th {\n",
       "        vertical-align: top;\n",
       "    }\n",
       "\n",
       "    .dataframe thead th {\n",
       "        text-align: right;\n",
       "    }\n",
       "</style>\n",
       "<table border=\"1\" class=\"dataframe\">\n",
       "  <thead>\n",
       "    <tr style=\"text-align: right;\">\n",
       "      <th></th>\n",
       "      <th>bbox</th>\n",
       "      <th>keypoints</th>\n",
       "      <th>action</th>\n",
       "      <th>get_on</th>\n",
       "      <th>get_off</th>\n",
       "      <th>get_num</th>\n",
       "      <th>action_num</th>\n",
       "    </tr>\n",
       "  </thead>\n",
       "  <tbody>\n",
       "    <tr>\n",
       "      <th>878899</th>\n",
       "      <td>[1177, 288, 1569, 716]</td>\n",
       "      <td>[1446, 632, 1, 1471, 577, 1, 1482, 654, 1, 139...</td>\n",
       "      <td>sit down</td>\n",
       "      <td>False</td>\n",
       "      <td>False</td>\n",
       "      <td>2</td>\n",
       "      <td>3</td>\n",
       "    </tr>\n",
       "    <tr>\n",
       "      <th>878900</th>\n",
       "      <td>[1163, 250, 1488, 716]</td>\n",
       "      <td>[1373, 670, 1, 1372, 585, 1, 1418, 523, 2, 133...</td>\n",
       "      <td>stand</td>\n",
       "      <td>False</td>\n",
       "      <td>False</td>\n",
       "      <td>2</td>\n",
       "      <td>0</td>\n",
       "    </tr>\n",
       "    <tr>\n",
       "      <th>878901</th>\n",
       "      <td>[1145, 161, 1458, 715]</td>\n",
       "      <td>[1331, 670, 1, 1337, 561, 1, 1381, 437, 1, 129...</td>\n",
       "      <td>stand</td>\n",
       "      <td>False</td>\n",
       "      <td>False</td>\n",
       "      <td>2</td>\n",
       "      <td>0</td>\n",
       "    </tr>\n",
       "  </tbody>\n",
       "</table>\n",
       "</div>"
      ],
      "text/plain": [
       "                          bbox  \\\n",
       "878899  [1177, 288, 1569, 716]   \n",
       "878900  [1163, 250, 1488, 716]   \n",
       "878901  [1145, 161, 1458, 715]   \n",
       "\n",
       "                                                keypoints    action  get_on  \\\n",
       "878899  [1446, 632, 1, 1471, 577, 1, 1482, 654, 1, 139...  sit down   False   \n",
       "878900  [1373, 670, 1, 1372, 585, 1, 1418, 523, 2, 133...     stand   False   \n",
       "878901  [1331, 670, 1, 1337, 561, 1, 1381, 437, 1, 129...     stand   False   \n",
       "\n",
       "        get_off  get_num  action_num  \n",
       "878899    False        2           3  \n",
       "878900    False        2           0  \n",
       "878901    False        2           0  "
      ]
     },
     "execution_count": 133,
     "metadata": {},
     "output_type": "execute_result"
    }
   ],
   "source": [
    "df.tail(3)"
   ]
  },
  {
   "cell_type": "code",
   "execution_count": 134,
   "id": "0ec8cbdd",
   "metadata": {},
   "outputs": [],
   "source": [
    "# 문제 데이터와 정답 데이터 나누기\n",
    "# 1) X => 문제 데이터\n",
    "# 관절 좌표(keypoints)의 문자열 값을 배열 형태로 변환해야 CNN의 input_shape로 쓸 수 있음\n",
    "type(df.keypoints[0])\n",
    "\n",
    "X = []\n",
    "for i in range(len(df)): # DataFrame의 행의 수만큼 반복\n",
    "    X.append(np.array(list(map(int,df.keypoints[i].strip('[').strip(']').split(',')))))\n",
    "\n",
    "# # 배열 형태로 넣기\n",
    "# df.keypoints = X"
   ]
  },
  {
   "cell_type": "code",
   "execution_count": 119,
   "id": "86f94c17",
   "metadata": {
    "collapsed": true
   },
   "outputs": [
    {
     "data": {
      "text/plain": [
       "['1331',\n",
       " ' 670',\n",
       " ' 1',\n",
       " ' 1337',\n",
       " ' 561',\n",
       " ' 1',\n",
       " ' 1381',\n",
       " ' 437',\n",
       " ' 1',\n",
       " ' 1292',\n",
       " ' 486',\n",
       " ' 2',\n",
       " ' 1230',\n",
       " ' 580',\n",
       " ' 2',\n",
       " ' 1236',\n",
       " ' 670',\n",
       " ' 2',\n",
       " ' 1336',\n",
       " ' 468',\n",
       " ' 2',\n",
       " ' 1292',\n",
       " ' 324',\n",
       " ' 2',\n",
       " ' 1246',\n",
       " ' 251',\n",
       " ' 2',\n",
       " ' 1219',\n",
       " ' 188',\n",
       " ' 2',\n",
       " ' 1366',\n",
       " ' 383',\n",
       " ' 1',\n",
       " ' 1415',\n",
       " ' 307',\n",
       " ' 1',\n",
       " ' 1333',\n",
       " ' 232',\n",
       " ' 2',\n",
       " ' 1201',\n",
       " ' 321',\n",
       " ' 2',\n",
       " ' 1205',\n",
       " ' 447',\n",
       " ' 2',\n",
       " ' 1229',\n",
       " ' 384',\n",
       " ' 1']"
      ]
     },
     "execution_count": 119,
     "metadata": {},
     "output_type": "execute_result"
    }
   ],
   "source": [
    "# df.keypoints[i].strip('[').strip(']').split(',')"
   ]
  },
  {
   "cell_type": "code",
   "execution_count": 166,
   "id": "304047f4",
   "metadata": {},
   "outputs": [],
   "source": [
    "# X를 reshape\n",
    "X = np.array(list(X)).reshape(-1,16,1,3)"
   ]
  },
  {
   "cell_type": "code",
   "execution_count": 136,
   "id": "ac9d2cb0",
   "metadata": {
    "collapsed": true
   },
   "outputs": [
    {
     "data": {
      "text/plain": [
       "array([[[1074],\n",
       "        [1020],\n",
       "        [   2]],\n",
       "\n",
       "       [[1111],\n",
       "        [ 923],\n",
       "        [   2]],\n",
       "\n",
       "       [[1151],\n",
       "        [ 752],\n",
       "        [   2]],\n",
       "\n",
       "       [[1266],\n",
       "        [ 829],\n",
       "        [   2]],\n",
       "\n",
       "       [[1180],\n",
       "        [1012],\n",
       "        [   2]],\n",
       "\n",
       "       [[1371],\n",
       "        [1077],\n",
       "        [   0]],\n",
       "\n",
       "       [[1193],\n",
       "        [ 798],\n",
       "        [   2]],\n",
       "\n",
       "       [[1248],\n",
       "        [ 643],\n",
       "        [   2]],\n",
       "\n",
       "       [[1334],\n",
       "        [ 462],\n",
       "        [   2]],\n",
       "\n",
       "       [[1320],\n",
       "        [ 342],\n",
       "        [   2]],\n",
       "\n",
       "       [[1102],\n",
       "        [ 736],\n",
       "        [   2]],\n",
       "\n",
       "       [[1148],\n",
       "        [ 649],\n",
       "        [   2]],\n",
       "\n",
       "       [[1225],\n",
       "        [ 456],\n",
       "        [   2]],\n",
       "\n",
       "       [[1442],\n",
       "        [ 563],\n",
       "        [   2]],\n",
       "\n",
       "       [[1407],\n",
       "        [ 763],\n",
       "        [   2]],\n",
       "\n",
       "       [[1334],\n",
       "        [ 889],\n",
       "        [   2]]])"
      ]
     },
     "execution_count": 136,
     "metadata": {},
     "output_type": "execute_result"
    }
   ],
   "source": [
    "X[0]"
   ]
  },
  {
   "cell_type": "code",
   "execution_count": 180,
   "id": "6035b112",
   "metadata": {},
   "outputs": [
    {
     "data": {
      "text/plain": [
       "(878902,)"
      ]
     },
     "execution_count": 180,
     "metadata": {},
     "output_type": "execute_result"
    }
   ],
   "source": [
    "# 2) Y => 정답 데이터\n",
    "y = np.array(df.action)\n",
    "y.shape"
   ]
  },
  {
   "cell_type": "code",
   "execution_count": 168,
   "id": "f87835b9",
   "metadata": {},
   "outputs": [
    {
     "data": {
      "text/plain": [
       "(878902, 16, 1, 3)"
      ]
     },
     "execution_count": 168,
     "metadata": {},
     "output_type": "execute_result"
    }
   ],
   "source": [
    "# 배열 형태로 값들이 저장됨\n",
    "X.shape"
   ]
  },
  {
   "cell_type": "code",
   "execution_count": null,
   "id": "4f12418e",
   "metadata": {},
   "outputs": [],
   "source": [
    "# DataFrame 인덱스 번호 문제\n",
    "# 곧바로 .to_numpy() 해도 nope, 배열안에 배열로 되어 있어야 째서 나눌 수 있음 => [[]] 느낌"
   ]
  },
  {
   "cell_type": "code",
   "execution_count": null,
   "id": "08f53487",
   "metadata": {},
   "outputs": [],
   "source": [
    "len(df)"
   ]
  },
  {
   "cell_type": "code",
   "execution_count": 139,
   "id": "4923d1f5",
   "metadata": {},
   "outputs": [],
   "source": [
    "# 문제 데이터와 정답 데이터 나누기 완료\n",
    "# -> X(문제 데이터), y(정답 데이터)"
   ]
  },
  {
   "cell_type": "code",
   "execution_count": null,
   "id": "816402a0",
   "metadata": {},
   "outputs": [],
   "source": []
  },
  {
   "cell_type": "code",
   "execution_count": null,
   "id": "54d88ca4",
   "metadata": {
    "scrolled": true
   },
   "outputs": [],
   "source": [
    "# # 스케일링 (해봤지만 큰 차이x)\n",
    "# x_train = x_train/255.0\n",
    "# x_test = x_test/255.0"
   ]
  },
  {
   "cell_type": "code",
   "execution_count": 182,
   "id": "e3c4e028",
   "metadata": {},
   "outputs": [],
   "source": [
    "# LabelEncoder나 One-hot Coding 중 할 것이 있는가?\n",
    "# -> 이미 'action_num'으로 나누어 놓은 컬럼을 썼기 때문에 굳이 해줄 필요 없음\n",
    "# LabelEncoder를 이용해서 'Iris-setosa', 'Iris-versicolor', 'Iris-virginica'를 각각 0, 1, 2의 숫자형 레이블로 변환\n",
    "label_encoder = LabelEncoder()\n",
    "y=label_encoder.fit_transform(y)"
   ]
  },
  {
   "cell_type": "code",
   "execution_count": 183,
   "id": "e68531d2",
   "metadata": {},
   "outputs": [],
   "source": [
    "# 과적합 방지를 위한 데이터 셋 분리\n",
    "# suffle : CNN의 경우, LSTM처럼 시계열성을 굳이 가질 필요가 없다고 판단 (False로 하지 않아도 될 듯함, 디폴트 값이 True)\n",
    "# - 여부에 따라 다른지 차후 한번 해보기\n",
    "# stratify : \n",
    "# - 앞에서 인코딩을 안해서 그런지\n",
    "# - 모집단의 데이터 분포를 유지하는 것이 맞을 것이므로\n",
    "# - 현재 많이 나오는 컬럼만 (stand, walk, sit down, lay down) 들어간 상태니까\n",
    "X_train, X_test, y_train, y_test = train_test_split(X,y,test_size=0.2, random_state=0)"
   ]
  },
  {
   "cell_type": "code",
   "execution_count": null,
   "id": "1b431da4",
   "metadata": {},
   "outputs": [],
   "source": [
    "# # 추론을 위한 데이터 저장.\n",
    "# with open(os.path.join('meta_data/label_encoder.p'), 'wb') as f:\n",
    "#     pickle.dump(label_encoder, f) "
   ]
  },
  {
   "cell_type": "markdown",
   "id": "0e9db589",
   "metadata": {},
   "source": [
    "## 3.모델 설계 및 훈련"
   ]
  },
  {
   "cell_type": "code",
   "execution_count": 184,
   "id": "3c4b7667",
   "metadata": {},
   "outputs": [],
   "source": [
    "# 합성곱 신경망 구성하기\n",
    "# 굳이 MaxPooling2D를 해야 하는지 여부에 대해서는 여부로 실험해볼 것\n",
    "# BatchNormalization()의 필요성은?\n",
    "# - 학습/추론 단계의 배치 정규화는 달라야 함 => 여기선 학습에서 쓰는 배치 정규화에 따름\n",
    "# - batch normalization은 activation function 앞에 적용\n",
    "# - Normalization 과정을 통하여, 모든 계층의 Feature가 동일한 Scale이 되어\n",
    "# - learning rate 결정에 유리한 효과를 가지게 되고 추가적인 Scale, Bias를 학습하여 Activation에 적합한 분포로 변환 가능\n",
    "# 합성곱(Convolution) -> 특성(Feature) -> 배치 정규화(BatchNormalization) - 활성화 함수(activation function) 순서로 적용\n",
    "# https://gaussian37.github.io/dl-concept-batchnorm/#batch-normalization-1\n",
    "\n",
    "# =======================================================\n",
    "\n",
    "model = Sequential()          \n",
    "model.add(Conv2D(filters = 32, kernel_size = (3,3), strides = (1,1), padding = 'same', input_shape=(16,1,3)))\n",
    "model.add(MaxPooling2D(pool_size = (2,1)))\n",
    "model.add(BatchNormalization())\n",
    "model.add(Activation('relu'))\n",
    "\n",
    "# model.add(Conv2D(filters = 64, kernel_size = (3,3), strides = (1,1), padding = 'same'))\n",
    "# model.add(MaxPooling2D(pool_size = (2,1)))\n",
    "# model.add(BatchNormalization())\n",
    "# model.add(Activation('relu'))\n",
    "\n",
    "# model.add(Conv2D(filters = 64, kernel_size = (3,3), strides = (1,1), padding = 'same'))\n",
    "# model.add(MaxPooling2D(pool_size = (2,1)))\n",
    "# model.add(BatchNormalization())\n",
    "# model.add(Activation('relu'))\n"
   ]
  },
  {
   "cell_type": "code",
   "execution_count": 185,
   "id": "ae651a3f",
   "metadata": {},
   "outputs": [],
   "source": [
    "# Flatten (펴주기) & Dense층 추가하기\n",
    "model.add(Flatten())\n",
    "model.add(Dense(32, activation='relu'))\n",
    "model.add(Dense(8, activation='softmax'))"
   ]
  },
  {
   "cell_type": "code",
   "execution_count": 186,
   "id": "058d77bd",
   "metadata": {},
   "outputs": [
    {
     "name": "stdout",
     "output_type": "stream",
     "text": [
      "Model: \"sequential_4\"\n",
      "_________________________________________________________________\n",
      " Layer (type)                Output Shape              Param #   \n",
      "=================================================================\n",
      " conv2d_9 (Conv2D)           (None, 16, 1, 32)         896       \n",
      "                                                                 \n",
      " max_pooling2d_9 (MaxPooling  (None, 8, 1, 32)         0         \n",
      " 2D)                                                             \n",
      "                                                                 \n",
      " batch_normalization_9 (Batc  (None, 8, 1, 32)         128       \n",
      " hNormalization)                                                 \n",
      "                                                                 \n",
      " activation_9 (Activation)   (None, 8, 1, 32)          0         \n",
      "                                                                 \n",
      " flatten_4 (Flatten)         (None, 256)               0         \n",
      "                                                                 \n",
      " dense_8 (Dense)             (None, 32)                8224      \n",
      "                                                                 \n",
      " dense_9 (Dense)             (None, 8)                 264       \n",
      "                                                                 \n",
      "=================================================================\n",
      "Total params: 9,512\n",
      "Trainable params: 9,448\n",
      "Non-trainable params: 64\n",
      "_________________________________________________________________\n",
      "None\n"
     ]
    }
   ],
   "source": [
    "# model 컴파일\n",
    "# - compile() 메서드를 이용해서 옵티마이저, 손실 함수, 지표를 각각 설정\n",
    "# - 다중 클래스 범주 -> i) 원-핫 벡터 형태(categorical_crossentropy), ii) 정수 형태(sparse_categorical_crossentropy)\n",
    "# -> 둘 다 정확도에는 영향을 미치지는 않지만, sparse~가 메모리 소요가 적다고 함\n",
    "\n",
    "model.compile(loss='sparse_categorical_crossentropy',\n",
    "              optimizer=Adam(lr=0.01),\n",
    "              metrics=['accuracy'])\n",
    "\n",
    "print(model.summary())"
   ]
  },
  {
   "cell_type": "code",
   "execution_count": 187,
   "id": "26a72c87",
   "metadata": {},
   "outputs": [
    {
     "name": "stdout",
     "output_type": "stream",
     "text": [
      "Epoch 1/10\n",
      "70313/70313 [==============================] - ETA: 0s - loss: 0.3958 - accuracy: 0.8445WARNING:tensorflow:Early stopping conditioned on metric `val_loss` which is not available. Available metrics are: loss,accuracy\n",
      "70313/70313 [==============================] - 202s 3ms/step - loss: 0.3958 - accuracy: 0.8445\n",
      "Epoch 2/10\n",
      "70302/70313 [============================>.] - ETA: 0s - loss: 0.3679 - accuracy: 0.8568WARNING:tensorflow:Early stopping conditioned on metric `val_loss` which is not available. Available metrics are: loss,accuracy\n",
      "70313/70313 [==============================] - 197s 3ms/step - loss: 0.3679 - accuracy: 0.8568\n",
      "Epoch 3/10\n",
      "70306/70313 [============================>.] - ETA: 0s - loss: 0.3630 - accuracy: 0.8586WARNING:tensorflow:Early stopping conditioned on metric `val_loss` which is not available. Available metrics are: loss,accuracy\n",
      "70313/70313 [==============================] - 202s 3ms/step - loss: 0.3630 - accuracy: 0.8586\n",
      "Epoch 4/10\n",
      "70298/70313 [============================>.] - ETA: 0s - loss: 0.3599 - accuracy: 0.8596WARNING:tensorflow:Early stopping conditioned on metric `val_loss` which is not available. Available metrics are: loss,accuracy\n",
      "70313/70313 [==============================] - 203s 3ms/step - loss: 0.3599 - accuracy: 0.8596\n",
      "Epoch 5/10\n",
      "70310/70313 [============================>.] - ETA: 0s - loss: 0.3578 - accuracy: 0.8607WARNING:tensorflow:Early stopping conditioned on metric `val_loss` which is not available. Available metrics are: loss,accuracy\n",
      "70313/70313 [==============================] - 203s 3ms/step - loss: 0.3578 - accuracy: 0.8607\n",
      "Epoch 6/10\n",
      "70300/70313 [============================>.] - ETA: 0s - loss: 0.3566 - accuracy: 0.8610WARNING:tensorflow:Early stopping conditioned on metric `val_loss` which is not available. Available metrics are: loss,accuracy\n",
      "70313/70313 [==============================] - 196s 3ms/step - loss: 0.3566 - accuracy: 0.8610\n",
      "Epoch 7/10\n",
      "70292/70313 [============================>.] - ETA: 0s - loss: 0.3557 - accuracy: 0.8614WARNING:tensorflow:Early stopping conditioned on metric `val_loss` which is not available. Available metrics are: loss,accuracy\n",
      "70313/70313 [==============================] - 199s 3ms/step - loss: 0.3557 - accuracy: 0.8613\n",
      "Epoch 8/10\n",
      "70303/70313 [============================>.] - ETA: 0s - loss: 0.3555 - accuracy: 0.8615WARNING:tensorflow:Early stopping conditioned on metric `val_loss` which is not available. Available metrics are: loss,accuracy\n",
      "70313/70313 [==============================] - 202s 3ms/step - loss: 0.3555 - accuracy: 0.8615\n",
      "Epoch 9/10\n",
      "70306/70313 [============================>.] - ETA: 0s - loss: 0.3550 - accuracy: 0.8619WARNING:tensorflow:Early stopping conditioned on metric `val_loss` which is not available. Available metrics are: loss,accuracy\n",
      "70313/70313 [==============================] - 200s 3ms/step - loss: 0.3550 - accuracy: 0.8619\n",
      "Epoch 10/10\n",
      "70296/70313 [============================>.] - ETA: 0s - loss: 0.3543 - accuracy: 0.8622WARNING:tensorflow:Early stopping conditioned on metric `val_loss` which is not available. Available metrics are: loss,accuracy\n",
      "70313/70313 [==============================] - 202s 3ms/step - loss: 0.3543 - accuracy: 0.8622\n"
     ]
    },
    {
     "ename": "KeyError",
     "evalue": "'val_accuracy'",
     "output_type": "error",
     "traceback": [
      "\u001b[1;31m---------------------------------------------------------------------------\u001b[0m",
      "\u001b[1;31mKeyError\u001b[0m                                  Traceback (most recent call last)",
      "\u001b[1;32m~\\AppData\\Local\\Temp\\ipykernel_13272\\1496978539.py\u001b[0m in \u001b[0;36m<module>\u001b[1;34m\u001b[0m\n\u001b[0;32m     13\u001b[0m \u001b[1;33m\u001b[0m\u001b[0m\n\u001b[0;32m     14\u001b[0m     \u001b[0mplt\u001b[0m\u001b[1;33m.\u001b[0m\u001b[0mplot\u001b[0m\u001b[1;33m(\u001b[0m\u001b[0mhistory\u001b[0m\u001b[1;33m.\u001b[0m\u001b[0mhistory\u001b[0m\u001b[1;33m[\u001b[0m\u001b[1;34m'accuracy'\u001b[0m\u001b[1;33m]\u001b[0m\u001b[1;33m)\u001b[0m\u001b[1;33m\u001b[0m\u001b[1;33m\u001b[0m\u001b[0m\n\u001b[1;32m---> 15\u001b[1;33m     \u001b[0mplt\u001b[0m\u001b[1;33m.\u001b[0m\u001b[0mplot\u001b[0m\u001b[1;33m(\u001b[0m\u001b[0mhistory\u001b[0m\u001b[1;33m.\u001b[0m\u001b[0mhistory\u001b[0m\u001b[1;33m[\u001b[0m\u001b[1;34m'val_accuracy'\u001b[0m\u001b[1;33m]\u001b[0m\u001b[1;33m)\u001b[0m\u001b[1;33m\u001b[0m\u001b[1;33m\u001b[0m\u001b[0m\n\u001b[0m\u001b[0;32m     16\u001b[0m     \u001b[0mplt\u001b[0m\u001b[1;33m.\u001b[0m\u001b[0mlegend\u001b[0m\u001b[1;33m(\u001b[0m\u001b[1;33m[\u001b[0m\u001b[1;34m'training'\u001b[0m\u001b[1;33m,\u001b[0m \u001b[1;34m'validation'\u001b[0m\u001b[1;33m]\u001b[0m\u001b[1;33m,\u001b[0m \u001b[0mloc\u001b[0m \u001b[1;33m=\u001b[0m \u001b[1;34m'upper left'\u001b[0m\u001b[1;33m)\u001b[0m\u001b[1;33m\u001b[0m\u001b[1;33m\u001b[0m\u001b[0m\n\u001b[0;32m     17\u001b[0m     \u001b[0mplt\u001b[0m\u001b[1;33m.\u001b[0m\u001b[0mshow\u001b[0m\u001b[1;33m(\u001b[0m\u001b[1;33m)\u001b[0m\u001b[1;33m\u001b[0m\u001b[1;33m\u001b[0m\u001b[0m\n",
      "\u001b[1;31mKeyError\u001b[0m: 'val_accuracy'"
     ]
    },
    {
     "data": {
      "image/png": "[encoded data removed]",
      "text/plain": [
       "<Figure size 640x480 with 1 Axes>"
      ]
     },
     "metadata": {},
     "output_type": "display_data"
    }
   ],
   "source": [
    "from tensorflow.keras.callbacks import EarlyStopping\n",
    "# 검증 데이터에 대한 loss값 3번 연속 개선되지 않으면 학습 중지\n",
    "stopCB = EarlyStopping(monitor='val_loss', patience=3)\n",
    "\n",
    "# 6. 훈련하기\n",
    "# model.fit(X_train, y_train, epochs=5)\n",
    "\n",
    "with tf.device(\"/device:GPU:0\"):\n",
    "    # model.fit(X_train, y_train, epochs=10)\n",
    "    history = model.fit(X_train, y_train, epochs=10, batch_size = 10,\n",
    "                        callbacks=[stopCB])\n",
    "#                         validation_split=0.2)\n",
    "    \n",
    "    plt.plot(history.history['accuracy'])\n",
    "    plt.plot(history.history['val_accuracy'])\n",
    "    plt.legend(['training', 'validation'], loc = 'upper left')\n",
    "    plt.show()"
   ]
  },
  {
   "cell_type": "code",
   "execution_count": null,
   "id": "bc73fb71",
   "metadata": {},
   "outputs": [],
   "source": [
    "# 모델을 평가한다\n",
    "model.evaluate(X_test,y_test)"
   ]
  },
  {
   "cell_type": "markdown",
   "id": "1bc83342",
   "metadata": {},
   "source": [
    "## 4. 모델 추론(Inference)"
   ]
  },
  {
   "cell_type": "code",
   "execution_count": null,
   "id": "081715b9",
   "metadata": {},
   "outputs": [],
   "source": [
    "# np.argmax : 가장 높은 값의 인덱스 반환\n",
    "(np.argmax(model.predict(X_test), axis=1))"
   ]
  },
  {
   "cell_type": "code",
   "execution_count": null,
   "id": "fc5885d6",
   "metadata": {},
   "outputs": [],
   "source": [
    "# 숫자형 레이블을 다시 문자형으로 변환\n",
    "label_encoder.inverse_transform(np.argmax(model.predict(X_test),axis=1))"
   ]
  },
  {
   "cell_type": "code",
   "execution_count": null,
   "id": "98e24630",
   "metadata": {},
   "outputs": [],
   "source": []
  },
  {
   "cell_type": "code",
   "execution_count": null,
   "id": "5a718010",
   "metadata": {},
   "outputs": [],
   "source": []
  }
 ],
 "metadata": {
  "kernelspec": {
   "display_name": "Python 3 (ipykernel)",
   "language": "python",
   "name": "python3"
  },
  "language_info": {
   "codemirror_mode": {
    "name": "ipython",
    "version": 3
   },
   "file_extension": ".py",
   "mimetype": "text/x-python",
   "name": "python",
   "nbconvert_exporter": "python",
   "pygments_lexer": "ipython3",
   "version": "3.7.15"
  }
 },
 "nbformat": 4,
 "nbformat_minor": 5
}
