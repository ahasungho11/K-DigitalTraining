{
 "cells": [
  {
   "cell_type": "code",
   "execution_count": 4,
   "id": "c28a64ef",
   "metadata": {},
   "outputs": [
    {
     "name": "stdout",
     "output_type": "stream",
     "text": [
      "[[1 2]\n",
      " [3 4]]\n"
     ]
    }
   ],
   "source": [
    "import numpy as np\n",
    "x = np.array([[1, 2], [3, 4]])\n",
    "print(x)\n",
    " \n",
    "np.save('./saved_x', x)"
   ]
  },
  {
   "cell_type": "code",
   "execution_count": 25,
   "id": "efc6104f",
   "metadata": {},
   "outputs": [
    {
     "name": "stdout",
     "output_type": "stream",
     "text": [
      "A1:[0. 0. 0. 0. 0. 0.]\n",
      "\n",
      "A2:[[0. 0. 0.]\n",
      " [0. 0. 0.]]\n",
      "\n",
      "A3:[[0 0 0]\n",
      " [0 0 0]]\n",
      "\n",
      "B1:[[1. 1. 1.]\n",
      " [1. 1. 1.]]\n",
      "\n",
      "B2:[[0. 0. 0. 0. 0.]\n",
      " [0. 0. 0. 0. 0.]\n",
      " [0. 0. 0. 0. 0.]\n",
      " [0. 0. 0. 0. 0.]\n",
      " [0. 0. 0. 0. 0.]]\n",
      "\n",
      "C1:[[10 10]\n",
      " [10 10]\n",
      " [10 10]]\n",
      "\n",
      "C2:[[1. 1.]\n",
      " [1. 1.]\n",
      " [1. 1.]]\n",
      "\n",
      "D1:[[10 10 10]\n",
      " [10 10 10]]\n",
      "\n"
     ]
    }
   ],
   "source": [
    "A1 = np.zeros(6)\n",
    "A2 = np.zeros((2,3))\n",
    "A3 = np.zeros((2,3), dtype = np.int64, order = 'C')\n",
    "B1= np.ones((2,3))\n",
    "B2= np.zeros((5,5))\n",
    "C1 = np.full((3,2), 10, dtype = np.int32)\n",
    "C2 = np.empty((3,2))\n",
    "D1 = np.full((2,3), 10, dtype = np.int32)\n",
    "\n",
    "print(F'A1:{A1}\\n')\n",
    "print(F'A2:{A2}\\n')\n",
    "print(F'A3:{A3}\\n')\n",
    "print(F'B1:{B1}\\n')\n",
    "print(F'B2:{B2}\\n')\n",
    "print(F'C1:{C1}\\n')\n",
    "print(F'C2:{C2}\\n')\n",
    "print(F'D1:{D1}\\n')"
   ]
  },
  {
   "cell_type": "code",
   "execution_count": 28,
   "id": "6d8b5873",
   "metadata": {},
   "outputs": [
    {
     "name": "stdout",
     "output_type": "stream",
     "text": [
      "abd!der!skskeojh!329iefjkdlasEND!!!"
     ]
    }
   ],
   "source": [
    "print('abd','der','skskeojh','329iefjkdlas',sep='!', end='END!!!')"
   ]
  },
  {
   "cell_type": "code",
   "execution_count": null,
   "id": "eb364ff0",
   "metadata": {},
   "outputs": [],
   "source": []
  },
  {
   "cell_type": "code",
   "execution_count": null,
   "id": "99c74763",
   "metadata": {},
   "outputs": [],
   "source": []
  },
  {
   "cell_type": "code",
   "execution_count": null,
   "id": "64d715d4",
   "metadata": {},
   "outputs": [],
   "source": []
  }
 ],
 "metadata": {
  "kernelspec": {
   "display_name": "Python 3 (ipykernel)",
   "language": "python",
   "name": "python3"
  },
  "language_info": {
   "codemirror_mode": {
    "name": "ipython",
    "version": 3
   },
   "file_extension": ".py",
   "mimetype": "text/x-python",
   "name": "python",
   "nbconvert_exporter": "python",
   "pygments_lexer": "ipython3",
   "version": "3.9.12"
  }
 },
 "nbformat": 4,
 "nbformat_minor": 5
}
