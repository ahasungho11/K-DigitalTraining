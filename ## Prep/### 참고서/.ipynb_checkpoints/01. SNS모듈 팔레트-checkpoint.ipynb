{
 "cells": [
  {
   "cell_type": "markdown",
   "id": "b43a8f92",
   "metadata": {},
   "source": [
    "### <span style='color:red'> * 크게 네 가지 영역으로 나눠서 다뤄볼 수 있겠다. </span>\n",
    "\n",
    "1. 팔레트(palette) 설정하는 방법  \n",
    "2. seaborn의 기본 built-in 팔레트 사용하기  \n",
    "3. Color Brewer 팔레트 사용하기  \n",
    "4. 데이터에 따라 적절한 팔레트를 선택하는 방법  "
   ]
  },
  {
   "cell_type": "code",
   "execution_count": 10,
   "id": "afb4442e",
   "metadata": {},
   "outputs": [],
   "source": [
    "# < 라이브러리 불러오기 >\n",
    "# seaborn\n",
    "import seaborn as sns\n",
    "\n",
    "# IPython 이미지 불러오기 ( 대소문자 주의 'I', 'P', 'I' )\n",
    "from IPython.display import Image"
   ]
  },
  {
   "cell_type": "markdown",
   "id": "8a31d957",
   "metadata": {},
   "source": [
    "---"
   ]
  },
  {
   "cell_type": "markdown",
   "id": "ebb02d8e",
   "metadata": {},
   "source": [
    "### 1. 팔레트(palette) 설정하는 방법  \n",
    "- seaborn에서는 sns.color_palette()를 사용해 팔레트를 설정"
   ]
  },
  {
   "cell_type": "code",
   "execution_count": 11,
   "id": "45bfb41a",
   "metadata": {},
   "outputs": [
    {
     "data": {
      "image/png": "[encoded data removed]",
      "text/plain": [
       "<Figure size 720x72 with 1 Axes>"
      ]
     },
     "metadata": {
      "needs_background": "light"
     },
     "output_type": "display_data"
    }
   ],
   "source": [
    "# 만약 팔레트를 확인하고 싶다면 이렇게 할수 있다.\n",
    "\n",
    "# 팔레트를 변수로 저장하고\n",
    "palette = sns.color_palette(\"bright\")\n",
    "\n",
    "# palplot을 통해 저장한 팔레트를 불러온다.\n",
    "sns.palplot(palette)"
   ]
  },
  {
   "cell_type": "code",
   "execution_count": 12,
   "id": "bc5937e1",
   "metadata": {},
   "outputs": [
    {
     "name": "stderr",
     "output_type": "stream",
     "text": [
      "C:\\Users\\Heochaebeom\\anaconda3\\lib\\site-packages\\seaborn\\_decorators.py:36: FutureWarning: Pass the following variables as keyword args: x, y. From version 0.12, the only valid positional argument will be `data`, and passing other arguments without an explicit keyword will result in an error or misinterpretation.\n",
      "  warnings.warn(\n"
     ]
    },
    {
     "data": {
      "text/plain": [
       "<AxesSubplot:>"
      ]
     },
     "execution_count": 12,
     "metadata": {},
     "output_type": "execute_result"
    },
    {
     "data": {
      "image/png": "[encoded data removed]",
      "text/plain": [
       "<Figure size 432x288 with 1 Axes>"
      ]
     },
     "metadata": {
      "needs_background": "light"
     },
     "output_type": "display_data"
    }
   ],
   "source": [
    "# 실제로 사용하려면 plot을 그리기 전에 미리 sns.set_palette()로 선언하면 된다.\n",
    "\n",
    "x=[]\n",
    "y=[]\n",
    "\n",
    "for num in range(30):\n",
    "    x.append(num)\n",
    "    y.append(num)\n",
    "    \n",
    "sns.set_palette(\"Paired\")\n",
    "sns.stripplot(x, y, x=\"day\", y=\"total_bill\")"
   ]
  },
  {
   "cell_type": "markdown",
   "id": "42dd238e",
   "metadata": {},
   "source": [
    "---"
   ]
  },
  {
   "cell_type": "markdown",
   "id": "4cb9a6aa",
   "metadata": {},
   "source": [
    "### 2. seaborn의 기본 built-in 팔레트 사용하기  \n",
    "\n",
    "- 만약 matplotlib으로 플롯을 그린다고 하더라도 sns.set()을 미리 선언해주면 좋다. 알아서 seaborn 기본 팔레트로 그려주기 때문이다.  \n",
    "- 그리고 seaborn은 총 6개의 기본 팔레트를 제공하고 있다.  \n",
    "=> deep, muted, pastel, bright, dark, colorblind.  \n",
    "\n",
    "- 결국 대부분은 귀찮아서 기본 팔레트 6개 중 하나를 선택하는 이 방법을 쓰게 될 거다.  "
   ]
  },
  {
   "cell_type": "code",
   "execution_count": 13,
   "id": "13013d3d",
   "metadata": {
    "scrolled": true
   },
   "outputs": [
    {
     "data": {
      "image/png": "[encoded data removed]",
      "text/plain": [
       "<Figure size 720x72 with 1 Axes>"
      ]
     },
     "metadata": {
      "needs_background": "light"
     },
     "output_type": "display_data"
    },
    {
     "data": {
      "image/png": "[encoded data removed]",
      "text/plain": [
       "<Figure size 720x72 with 1 Axes>"
      ]
     },
     "metadata": {
      "needs_background": "light"
     },
     "output_type": "display_data"
    },
    {
     "data": {
      "image/png": "[encoded data removed]",
      "text/plain": [
       "<Figure size 720x72 with 1 Axes>"
      ]
     },
     "metadata": {
      "needs_background": "light"
     },
     "output_type": "display_data"
    },
    {
     "data": {
      "image/png": "[encoded data removed]",
      "text/plain": [
       "<Figure size 720x72 with 1 Axes>"
      ]
     },
     "metadata": {
      "needs_background": "light"
     },
     "output_type": "display_data"
    },
    {
     "data": {
      "image/png": "[encoded data removed]",
      "text/plain": [
       "<Figure size 720x72 with 1 Axes>"
      ]
     },
     "metadata": {
      "needs_background": "light"
     },
     "output_type": "display_data"
    },
    {
     "data": {
      "image/png": "[encoded data removed]",
      "text/plain": [
       "<Figure size 720x72 with 1 Axes>"
      ]
     },
     "metadata": {
      "needs_background": "light"
     },
     "output_type": "display_data"
    }
   ],
   "source": [
    "colors = ['deep', 'muted', 'pastel', 'bright', 'dark', 'colorblind']\n",
    "\n",
    "for i in colors:\n",
    "    palette = sns.color_palette(i)\n",
    "    sns.palplot(palette)"
   ]
  },
  {
   "cell_type": "markdown",
   "id": "7e3ad282",
   "metadata": {},
   "source": [
    "---"
   ]
  },
  {
   "cell_type": "markdown",
   "id": "f0853423",
   "metadata": {},
   "source": [
    "### 2-1) 이미지 불러오기 (2가지 방법있음)  \n",
    "\n",
    "1. 코드블럭  \n",
    "  Image(\"파일경로/파일명.확장자명\")  \n",
    "\n",
    "  ex) 현재 코드를 입력하고 있는 파일의 하위폴더(폴더명:folder)에 okky.jpg라는 파일명을 불러오고 싶다.  \n",
    "  Image(\"folder/okky.jpg\")  \n",
    "\n",
    "\n",
    "2. 마크다운안에 삽입  \n",
    "\n",
    "  ![이미지파일명](파일경로/파일명.확장자명)  \n",
    "  \n",
    "  ex) 아래의 것 참고"
   ]
  },
  {
   "cell_type": "markdown",
   "id": "71a2525d",
   "metadata": {},
   "source": [
    "---"
   ]
  },
  {
   "cell_type": "markdown",
   "id": "0c62d1c4",
   "metadata": {},
   "source": [
    "### 3. Color Brewer 팔레트 사용하기  \n",
    "\n",
    "![팔레트색깔](./img/article2_image9.png)"
   ]
  },
  {
   "cell_type": "code",
   "execution_count": 14,
   "id": "6f745d53",
   "metadata": {},
   "outputs": [
    {
     "data": {
      "image/png": "[encoded data removed]",
      "text/plain": [
       "<IPython.core.display.Image object>"
      ]
     },
     "execution_count": 14,
     "metadata": {},
     "output_type": "execute_result"
    }
   ],
   "source": [
    "Image('./img/article2_image9.png')"
   ]
  },
  {
   "cell_type": "code",
   "execution_count": 15,
   "id": "5cdae8b9",
   "metadata": {},
   "outputs": [
    {
     "data": {
      "image/png": "[encoded data removed]",
      "text/plain": [
       "<Figure size 648x72 with 1 Axes>"
      ]
     },
     "metadata": {
      "needs_background": "light"
     },
     "output_type": "display_data"
    }
   ],
   "source": [
    "# 사용할 땐 왼쪽에 제시된 팔레트의 이름을 직접 전달하면 된다.\n",
    "# 예를 들어 “Paired”라는 팔레트의 9개 색상을 가져오고 싶다면 이렇게.\n",
    "\n",
    "custom_palette = sns.color_palette(\"Paired\", 9)\n",
    "sns.palplot(custom_palette)"
   ]
  },
  {
   "cell_type": "markdown",
   "id": "62142463",
   "metadata": {},
   "source": [
    "---"
   ]
  },
  {
   "cell_type": "markdown",
   "id": "f7477f0d",
   "metadata": {},
   "source": [
    "### 4. 데이터에 따라 적절한 팔레트를 선택하는 방법  \n",
    "- Color Brewer 팔레트 표를 보면 오른쪽에 3개의 카테고리가 있다.  \n",
    "- 어떤 데이터에 사용하면 좋은지 알려주는 힌트라고 봐도 된다.  "
   ]
  },
  {
   "cell_type": "markdown",
   "id": "13218daf",
   "metadata": {},
   "source": [
    "#### 1) Qualitative  : 범주형 자료에 쓰면 좋다. 특정 순서를 암시하지 않는, 그냥 고유한 색상"
   ]
  },
  {
   "cell_type": "code",
   "execution_count": 16,
   "id": "23bec2d0",
   "metadata": {},
   "outputs": [
    {
     "data": {
      "image/png": "[encoded data removed]",
      "text/plain": [
       "<Figure size 720x72 with 1 Axes>"
      ]
     },
     "metadata": {
      "needs_background": "light"
     },
     "output_type": "display_data"
    }
   ],
   "source": [
    "qualitative_colors = sns.color_palette(\"Set3\", 10)\n",
    "sns.palplot(qualitative_colors)"
   ]
  },
  {
   "cell_type": "markdown",
   "id": "06529d83",
   "metadata": {},
   "source": [
    "#### 2) Sequential  :  Sequential 팔레트는 밝은 색부터 어두운 색까지 연속적 -> 등급과 같은 데이터에 사용. 결국 높은 값(어두운 색)이 강조"
   ]
  },
  {
   "cell_type": "code",
   "execution_count": 17,
   "id": "7e6125de",
   "metadata": {},
   "outputs": [
    {
     "data": {
      "image/png": "[encoded data removed]",
      "text/plain": [
       "<Figure size 720x72 with 1 Axes>"
      ]
     },
     "metadata": {
      "needs_background": "light"
     },
     "output_type": "display_data"
    }
   ],
   "source": [
    "sequential_colors = sns.color_palette(\"RdPu\", 10)\n",
    "sns.palplot(sequential_colors)"
   ]
  },
  {
   "cell_type": "markdown",
   "id": "5fb0b08c",
   "metadata": {},
   "source": [
    "#### 3) Diverging  :  양쪽으로 강조 -> 낮은 값과 높은 값에 모두 관심을 가져야 하는 데이터 세트에 적합"
   ]
  },
  {
   "cell_type": "code",
   "execution_count": 18,
   "id": "40f90021",
   "metadata": {},
   "outputs": [
    {
     "data": {
      "image/png": "[encoded data removed]",
      "text/plain": [
       "<Figure size 720x72 with 1 Axes>"
      ]
     },
     "metadata": {
      "needs_background": "light"
     },
     "output_type": "display_data"
    }
   ],
   "source": [
    "diverging_colors = sns.color_palette(\"RdBu\", 10)\n",
    "sns.palplot(diverging_colors)"
   ]
  }
 ],
 "metadata": {
  "kernelspec": {
   "display_name": "Python 3 (ipykernel)",
   "language": "python",
   "name": "python3"
  },
  "language_info": {
   "codemirror_mode": {
    "name": "ipython",
    "version": 3
   },
   "file_extension": ".py",
   "mimetype": "text/x-python",
   "name": "python",
   "nbconvert_exporter": "python",
   "pygments_lexer": "ipython3",
   "version": "3.9.12"
  }
 },
 "nbformat": 4,
 "nbformat_minor": 5
}
