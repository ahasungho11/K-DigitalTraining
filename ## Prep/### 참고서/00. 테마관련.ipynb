{
 "cells": [
  {
   "cell_type": "code",
   "execution_count": null,
   "id": "823d6ae0",
   "metadata": {},
   "outputs": [],
   "source": [
    "!jt"
   ]
  },
  {
   "cell_type": "code",
   "execution_count": 1,
   "id": "6f299515",
   "metadata": {},
   "outputs": [
    {
     "name": "stdout",
     "output_type": "stream",
     "text": [
      "Available Themes: \n",
      "   chesterish\n",
      "   grade3\n",
      "   gruvboxd\n",
      "   gruvboxl\n",
      "   monokai\n",
      "   oceans16\n",
      "   onedork\n",
      "   solarizedd\n",
      "   solarizedl\n"
     ]
    }
   ],
   "source": [
    "!jt -l"
   ]
  },
  {
   "cell_type": "code",
   "execution_count": null,
   "id": "a15d17ee",
   "metadata": {},
   "outputs": [],
   "source": [
    "!jt -t grade3 -f bitstream -fs 12 -tf roboto -tfs 13 -nf opensans -nfs 12 -ofs 12 -dfs 12 -cellw 80% -lineh 150 -T -N"
   ]
  },
  {
   "cell_type": "code",
   "execution_count": null,
   "id": "8d60b476",
   "metadata": {},
   "outputs": [],
   "source": [
    "# jupyterteme 패키지 설치\n",
    "pip install jupyterthemes\n",
    "\n",
    "# 추천 테마 및 옵션 적용\n",
    "jt -t onedork -fs 115 -nfs 125 -tfs 115 -dfs 115 -ofs 115 -cursc r -cellw 80% -lineh 115 -altmd  -kl -T -N\n",
    "\n",
    "# 끝"
   ]
  },
  {
   "cell_type": "code",
   "execution_count": null,
   "id": "e95cc548",
   "metadata": {},
   "outputs": [],
   "source": [
    "# jupyter notebook 최신버전\n",
    "pip install --upgrade notebook\n",
    "\n",
    "# jupyter notebook 최신버전\n",
    "pip install --upgrade jupyterthemes"
   ]
  },
  {
   "cell_type": "code",
   "execution_count": null,
   "id": "afaa2074",
   "metadata": {},
   "outputs": [],
   "source": []
  },
  {
   "cell_type": "code",
   "execution_count": null,
   "id": "f486ba88",
   "metadata": {},
   "outputs": [],
   "source": []
  },
  {
   "cell_type": "code",
   "execution_count": null,
   "id": "aeb79563",
   "metadata": {},
   "outputs": [],
   "source": []
  },
  {
   "cell_type": "code",
   "execution_count": null,
   "id": "8c32eac1",
   "metadata": {},
   "outputs": [],
   "source": []
  }
 ],
 "metadata": {
  "kernelspec": {
   "display_name": "Python 3 (ipykernel)",
   "language": "python",
   "name": "python3"
  },
  "language_info": {
   "codemirror_mode": {
    "name": "ipython",
    "version": 3
   },
   "file_extension": ".py",
   "mimetype": "text/x-python",
   "name": "python",
   "nbconvert_exporter": "python",
   "pygments_lexer": "ipython3",
   "version": "3.9.12"
  }
 },
 "nbformat": 4,
 "nbformat_minor": 5
}
