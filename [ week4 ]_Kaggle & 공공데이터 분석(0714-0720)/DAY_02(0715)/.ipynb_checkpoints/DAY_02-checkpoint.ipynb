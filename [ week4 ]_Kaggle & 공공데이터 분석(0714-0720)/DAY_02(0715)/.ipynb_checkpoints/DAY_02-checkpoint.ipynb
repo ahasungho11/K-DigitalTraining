{
 "cells": [
  {
   "cell_type": "markdown",
   "id": "ce3ed1ef",
   "metadata": {},
   "source": [
    "# 대중교통 데이터 읽어오기"
   ]
  },
  {
   "cell_type": "markdown",
   "id": "692e1fbc",
   "metadata": {},
   "source": [
    "- 데이터의 구성 살피고, 필요한 부분도 한번 체크해보고\n",
    "- reader~ 리드객체 생성\n",
    "- 5줄만 출력 (루틴)\n"
   ]
  },
  {
   "cell_type": "code",
   "execution_count": 3,
   "id": "252bd53a",
   "metadata": {
    "collapsed": true
   },
   "outputs": [
    {
     "name": "stdout",
     "output_type": "stream",
     "text": [
      "['사용월', '호선명', '역ID', '지하철역', '유임승차', '유임하차', '무임승차', '무임하차']\n",
      "['Jun-22', '1호선', '150', '서울역', '1150754', '1123193', '194717', '187155']\n",
      "['Jun-22', '1호선', '151', '시청', '537067', '543569', '80671', '78279']\n",
      "['Jun-22', '1호선', '152', '종각', '834173', '815704', '131987', '121717']\n",
      "['Jun-22', '1호선', '153', '종로3가', '450317', '404106', '299617', '278151']\n",
      "['Jun-22', '1호선', '154', '종로5가', '394420', '404105', '254236', '244555']\n",
      "['Jun-22', '1호선', '155', '동대문', '212719', '198987', '117499', '118515']\n",
      "['Jun-22', '1호선', '156', '신설동', '264825', '252339', '112362', '106855']\n"
     ]
    }
   ],
   "source": [
    "import csv\n",
    "with open('subwayfee.csv', encoding = 'utf-8-sig') as f:\n",
    "                    # utf-8로만 하면, 헤더 부분에\\ufeff이 출력됨\n",
    "                    # 해결책으로 utf-8-sig로 해도 되고, notepad++에서 변환해도 됨\n",
    "                    # euc_kr로 하면, 나타나지 않기는 함\n",
    "                \n",
    "    data = csv.reader(f)\n",
    "    header = next(data)\n",
    "    print(header)\n",
    "    i = 0\n",
    "    for row in data:\n",
    "        print(row)\n",
    "        if i > 5:\n",
    "            break\n",
    "        i += 1\n",
    "        \n",
    "# 6월달로 한정했으니 사용월은 무의미 => 필요한 정보가 있는 것 확인"
   ]
  },
  {
   "cell_type": "code",
   "execution_count": 4,
   "id": "862c9eb5",
   "metadata": {
    "collapsed": true
   },
   "outputs": [
    {
     "ename": "ZeroDivisionError",
     "evalue": "division by zero",
     "output_type": "error",
     "traceback": [
      "\u001b[1;31m---------------------------------------------------------------------------\u001b[0m",
      "\u001b[1;31mZeroDivisionError\u001b[0m                         Traceback (most recent call last)",
      "Input \u001b[1;32mIn [4]\u001b[0m, in \u001b[0;36m<cell line: 2>\u001b[1;34m()\u001b[0m\n\u001b[0;32m     10\u001b[0m \u001b[38;5;28;01mfor\u001b[39;00m i \u001b[38;5;129;01min\u001b[39;00m \u001b[38;5;28mrange\u001b[39m(\u001b[38;5;241m4\u001b[39m,\u001b[38;5;241m8\u001b[39m):\n\u001b[0;32m     11\u001b[0m     row[i] \u001b[38;5;241m=\u001b[39m \u001b[38;5;28mint\u001b[39m(row[i])\n\u001b[1;32m---> 12\u001b[0m rate \u001b[38;5;241m=\u001b[39m \u001b[43mrow\u001b[49m\u001b[43m[\u001b[49m\u001b[38;5;241;43m4\u001b[39;49m\u001b[43m]\u001b[49m\u001b[43m \u001b[49m\u001b[38;5;241;43m/\u001b[39;49m\u001b[43m \u001b[49m\u001b[43mrow\u001b[49m\u001b[43m[\u001b[49m\u001b[38;5;241;43m6\u001b[39;49m\u001b[43m]\u001b[49m\n\u001b[0;32m     13\u001b[0m \u001b[38;5;28;01mif\u001b[39;00m rate \u001b[38;5;241m>\u001b[39m max_rate:\n\u001b[0;32m     14\u001b[0m     max_rate \u001b[38;5;241m=\u001b[39m rate\n",
      "\u001b[1;31mZeroDivisionError\u001b[0m: division by zero"
     ]
    }
   ],
   "source": [
    "import csv\n",
    "with open('subwayfee.csv', encoding = 'utf-8-sig') as f:\n",
    "    data = csv.reader(f)\n",
    "    header = next(data)\n",
    "    \n",
    "    max_rate = 0\n",
    "    rate = 0\n",
    "    \n",
    "    for row in data:\n",
    "        for i in range(4,8):\n",
    "            row[i] = int(row[i])\n",
    "        rate = row[4] / row[6]\n",
    "        \n",
    "        if rate > max_rate:\n",
    "            max_rate = rate\n",
    "    print(max_rate)"
   ]
  },
  {
   "cell_type": "markdown",
   "id": "61b7e02e",
   "metadata": {},
   "source": [
    "- 무임승차인원이 없을 수도 있음 (분모가 0일 수도 있다는 것)\n",
    " => 그래서 유임승차인원/무임승차인원 하면 오류가 날 수 있음\n",
    "\n",
    "- $rate = {유임승차인원 \\over 무임승차인원}$  \n",
    "\n",
    " -> 수식은 ($, 중괄호, \\over  활용)\n",
    "\n",
    "- 유임승차 인원은 4번 인덱스 / 무임승차 인원은 6번 인덱스  \n",
    " => 무임승차가 없는 역이 있어서 zero~ 오류뜸  \n",
    " => 해결: $rate = {유임승차인원 \\over 유임승차인원+무임승차인원}$"
   ]
  },
  {
   "cell_type": "code",
   "execution_count": 92,
   "id": "00cff05c",
   "metadata": {},
   "outputs": [
    {
     "name": "stdout",
     "output_type": "stream",
     "text": [
      "['Jun-22', '일산선', '1949', '지축', 10, 0, 0, 0]\n",
      "['Jun-22', '경의선', '1296', '계양', 10, 0, 0, 0]\n",
      "['Jun-22', '경의선', '1297', '검암', 2, 0, 0, 0]\n",
      "['Jun-22', '6호선', '2615', '연신내', 31, 0, 0, 0]\n",
      "['Jun-22', '6호선', '2649', '신내', 4, 0, 0, 0]\n",
      "['Jun-22', '7호선', '2753', '까치울', 1, 0, 0, 0]\n",
      "['Jun-22', '7호선', '2758', '상동', 1, 0, 0, 0]\n",
      "['Jun-22', '7호선', '2761', '부평구청', 1, 0, 0, 0]\n"
     ]
    }
   ],
   "source": [
    "import csv\n",
    "with open('subwayfee.csv', encoding = 'utf-8-sig') as f:\n",
    "    data = csv.reader(f)\n",
    "    header = next(data)\n",
    "    \n",
    "    max_rate = 0\n",
    "    rate = 0\n",
    "    i = 0\n",
    "\n",
    "    for row in data:\n",
    "        for i in range(4,8):\n",
    "            row[i] = int(row[i])  # 4, 5, 6, 7 컬럼값을 정수로 변환\n",
    "        rate = row[4] / (row[4] + row[6]) # 단순 비율만 계산\n",
    "        \n",
    "        if row[6] == 0:          # 무임승차 인원[6]이 없는 역 출력\n",
    "            print(row)\n",
    "            \n",
    "# 일일이 엑셀(원본데이터)를 보고 확인할 수 없음\n",
    "# 이런식으로 0이 있는 행을 확인해보면서 해야함"
   ]
  },
  {
   "cell_type": "markdown",
   "id": "c690d5e6",
   "metadata": {},
   "source": [
    "# 최대 무임 승차 비율 확인"
   ]
  },
  {
   "cell_type": "code",
   "execution_count": 6,
   "id": "69ce7ba0",
   "metadata": {},
   "outputs": [
    {
     "name": "stdout",
     "output_type": "stream",
     "text": [
      "['Jun-22', '1호선', '150', '서울역', 1150754, 1123193, 194717, 187155] 14.47 %\n",
      "['Jun-22', '1호선', '153', '종로3가', 450317, 404106, 299617, 278151] 39.95 %\n",
      "['Jun-22', '1호선', '157', '제기동', 218782, 209109, 263173, 281985] 54.61 %\n",
      "['Jun-22', '경원선', '1916', '소요산', 32659, 25998, 62990, 56806] 65.86 %\n",
      "['Jun-22', '7호선', '2756', '신중동', 0, 0, 1, 0] 100.0 %\n"
     ]
    }
   ],
   "source": [
    "import csv\n",
    "f = open('subwayfee.csv', encoding = 'utf-8-sig')\n",
    "data = csv.reader(f)\n",
    "next(data)\n",
    "\n",
    "max_rate = 0 # 초기화\n",
    "rate = 0  # 초기화\n",
    "\n",
    "for row in data:\n",
    "    for i in range(4,8):\n",
    "        row[i] = int(row[i])  # 문자열을 정수로 변환\n",
    "        \n",
    "    if row[6] != 0:\n",
    "        rate = (row[6]*100) / (row[4]+row[6]) # 무임승차수 /(유임승차수+무임승차수)\n",
    "        if rate > max_rate:    # 최고값들을 갱신해나가는 것\n",
    "            max_rate = rate\n",
    "            print(row, round(rate, 2), '%')  # 무임승차 %가 최고인 역을 찾는 과정 출력\n",
    "\n",
    "# 1번 밖에 없으므로 무의미하긴 함"
   ]
  },
  {
   "cell_type": "markdown",
   "id": "13d11736",
   "metadata": {},
   "source": [
    "# 최대 유임 승차 인원이 있는 역은? #1"
   ]
  },
  {
   "cell_type": "code",
   "execution_count": 100,
   "id": "78869fdd",
   "metadata": {},
   "outputs": [
    {
     "name": "stdout",
     "output_type": "stream",
     "text": [
      "['사용월', '호선명', '역ID', '지하철역', '유임승차', '유임하차', '무임승차', '무임하차']\n",
      "['Jun-22', '2호선', '209', '한양대', 269240, 295829, 12481, 13227]\n",
      "역이름: 한양대, 전체 인원: 281,721, 유임승차인원: 269,240, 유임승차 비율: 0.96\n"
     ]
    }
   ],
   "source": [
    "import csv\n",
    "f = open('subwayfee.csv', encoding = 'utf-8-sig')\n",
    "data = csv.reader(f)\n",
    "header = next(data)\n",
    "print(header)\n",
    "\n",
    "max_rate = 0 # 초기화\n",
    "rate = 0  # 초기화\n",
    "\n",
    "max_row = []\n",
    "total_count = 0\n",
    "max_total_num = 0\n",
    "\n",
    "for row in data:\n",
    "    for i in range(4,8):\n",
    "        row[i] = int(row[i])      # 문자열을 정수로 변환\n",
    "    total_count = row[4] + row[6] # 유임승차수 + 무임승차수\n",
    "    \n",
    "    if (row[6] != 0) and (total_count > 100000):   # 조건\n",
    "        rate = row[4] / total_count\n",
    "        if rate > max_rate:           # 최대값 if 과정\n",
    "            max_rate = rate\n",
    "            max_row = row              # 최대값인 행의 전체정보\n",
    "            max_total_num = total_count\n",
    "            \n",
    "print(max_row)\n",
    "print('역이름: {0}, 전체 인원: {1:,}, 유임승차인원: {2:,}, 유임승차 비율: {3:,}'.format(max_row[3], max_total_num, max_row[4], round(max_rate, 2)))\n",
    "# 4가지 정보 출력\n",
    "\n",
    "f.close()"
   ]
  },
  {
   "cell_type": "markdown",
   "id": "b68be49d",
   "metadata": {},
   "source": [
    "# 최대 유임 승차 인원이 있는 역은? #2"
   ]
  },
  {
   "cell_type": "markdown",
   "id": "21c2d10e",
   "metadata": {},
   "source": [
    "# 실습 : 유임 승차 비율이 50% 이하인 역"
   ]
  },
  {
   "cell_type": "code",
   "execution_count": 8,
   "id": "4322dc44",
   "metadata": {},
   "outputs": [
    {
     "name": "stdout",
     "output_type": "stream",
     "text": [
      "['사용월', '호선명', '역ID', '지하철역', '유임승차', '유임하차', '무임승차', '무임하차']\n",
      "['Jun-22', '1호선', '157', '제기동', 218782, '209109', 263173, '281985'] 0.45\n",
      "['Jun-22', '1호선', '159', '동묘앞', 122460, '131299', 146455, '147539'] 0.46\n",
      "['Jun-22', '경원선', '1916', '소요산', 32659, '25998', 62990, '56806'] 0.34\n",
      "['Jun-22', '중앙선', '1218', '원덕', 5854, '5749', 6959, '6739'] 0.46\n",
      "['Jun-22', '중앙선', '1219', '용문', 34168, '34477', 38467, '38202'] 0.47\n",
      "유임 승차 비율이 가장 낮은 역: 소요산, 전체 인원:95,649, 유임승차인원:32,659, 유임승차비율:0.34\n"
     ]
    },
    {
     "data": {
      "image/png": "[encoded data removed]",
      "text/plain": [
       "<Figure size 432x288 with 1 Axes>"
      ]
     },
     "metadata": {},
     "output_type": "display_data"
    }
   ],
   "source": [
    "# 5번 7번 인덱스는 안쓰니까 4,6번만 가져온다는 것\n",
    "\n",
    "import csv\n",
    "import matplotlib.pyplot as plt\n",
    "import platform\n",
    "f = open('subwayfee.csv', encoding = 'utf-8-sig')\n",
    "data = csv.reader(f)\n",
    "header = next(data)\n",
    "print(header)\n",
    "                 # 최소값 (최대값도 마찬가지) 구하는 패턴\n",
    "min_rate = 100   # 나올 수 없는 많이 큰 값을 적지\n",
    "rate = 0\n",
    "min_row = []\n",
    "total_count = 0\n",
    "min_total_count = 0\n",
    "\n",
    "for row in data:\n",
    "    for i in [4,6]:\n",
    "        row[i] = int(row[i])\n",
    "    total_count = row[4] + row[6]\n",
    "                                                  # 조건1\n",
    "    if (row[6] != 0) and (total_count >= 10000): # 무임승차 인원이 없고, 총 승차인원이 1만명 이상\n",
    "        rate = row[4] / total_count\n",
    "        if rate <= 0.5:  # 조건2\n",
    "            print(row, round(rate, 2))\n",
    "            if rate < min_rate: # 유임 승차 비율이 가장 낮은 역 찾기\n",
    "                min_rate = rate  # 최소값으로 갱신해나가는 것\n",
    "                min_row = row    # 사진 찍은 것\n",
    "                min_total_count = total_count\n",
    "print('유임 승차 비율이 가장 낮은 역: {0}, 전체 인원:{1:,}, 유임승차인원:{2:,}, 유임승차비율:{3:,}'.\n",
    "    format(min_row[3], min_total_count, min_row[4], round(min_rate, 2)))\n",
    "\n",
    "f.close()\n",
    "\n",
    "if(platform.system() == 'Windows'):\n",
    "    plt.rc('font', family='Malgun Gothic')\n",
    "else:\n",
    "    plt.rc('font', family='AppleGothic')\n",
    "\n",
    "plt.title(min_row[3] + \" 유,무임 승차 비율\")\n",
    "label = ['유임승차', '무임승차']\n",
    "values = [min_row[4], min_row[6]]\n",
    "\n",
    "plt.pie(values, labels=label, autopct='%.1f%%')  # auto percentage (자동으로 퍼센트 채워줌)\n",
    "plt.show()                                       # 특수기호라서 %자체 출력을 위해 2개(%%) 출력\n",
    "\n",
    "\n",
    "# values = [값1, 값2]\n",
    "# => 자동으로 값1 / 값1+값2, 값2 / 값1+값2로 만들어줌"
   ]
  },
  {
   "cell_type": "markdown",
   "id": "5d34705f",
   "metadata": {},
   "source": [
    "# 승·하차 인원이 가장 많은 역은?"
   ]
  },
  {
   "cell_type": "code",
   "execution_count": 104,
   "id": "3d6cc9c4",
   "metadata": {},
   "outputs": [
    {
     "name": "stdout",
     "output_type": "stream",
     "text": [
      "유임승차: 강남 2호선 2,055,521\n",
      "유임하차: 강남 2호선 2,039,847\n",
      "무임승차: 종로3가 1호선 299,617\n",
      "무임하차: 제기동 1호선 281,985\n"
     ]
    }
   ],
   "source": [
    "# 파일을 저장하려면 반드시 닫아야 하지\n",
    "# with 문만 반복되는 것이지 아래 블록으로 들어간 부분이 반복 되는 것은 아님\n",
    "\n",
    "import csv\n",
    "max = [0] * 4\n",
    "# [0]: 최대 유임승차,[1]: 최대 유임하차, [2]: 최대 무임승차, [3]: 최대 무임하차\n",
    "# 4개의 최대값을 저장하기 위핸 리스트\n",
    "max_station = [''] * 4\n",
    "label = ['유임승차', '유임하차', '무임승차', '무임하차']\n",
    "\n",
    "with open('subwayfee.csv', encoding = 'utf-8-sig') as f:\n",
    "    data = csv.reader(f)\n",
    "    next(data)\n",
    "    \n",
    "    for row in data:      # 1줄씩 데이터 읽기를 한 것 (csv 파일 읽는 방법)\n",
    "        for i in range(4,8):  \n",
    "            row[i] = int(row[i])  # 갖고 온 컬럼 정수로 변환\n",
    "            if row[i] > max[i-4]:\n",
    "                max[i-4] = row[i] # 위에서 만들었던 max와 max_station 배열에 넣기 위해서 -4를 해 준 것\n",
    "                                  # 캡처 확인 (6번?)\n",
    "                max_station[i-4] = row[3] + ' ' + row[1] # '역이름' + ' ' + '지하철호선' 추가\n",
    "                \n",
    "for i in range(4):\n",
    "    print('{0}: {1} {2:,}'.format(label[i], max_station[i], max[i]))"
   ]
  },
  {
   "cell_type": "code",
   "execution_count": 106,
   "id": "df1caccf",
   "metadata": {},
   "outputs": [],
   "source": [
    "# 200dpi로 씀 => 파이차트 크기 조절\n",
    "# 확인해야\n",
    "\n",
    "import csv\n",
    "import matplotlib.pyplot as plt\n",
    "import platform\n",
    "label = ['유임승차', '유임하차', '무임승차', '무임하차']\n",
    "c = ['#14CCC0', '#389993', '#FF1C6A', '#CC14AF'] # 파이차트 컬러 값\n",
    "pic_count = 0\n",
    "\n",
    "with open('subwayfee.csv', encoding='utf-8-sig') as f:\n",
    "    data = csv.reader(f)\n",
    "    next(data)\n",
    "    \n",
    "    if(platform.system() == 'Windows'):\n",
    "        plt.rc('font', family='Malgun Gothic')\n",
    "    else:\n",
    "        plt.rc('font', family='AppleGothic')\n",
    "    \n",
    "    for row in data:\n",
    "        for i in range(4, 8):\n",
    "            row[i] = int(row[i])\n",
    "        plt.figure(dpi=200) # 저장할 그림파일의 dpi 설정\n",
    "        plt.title(row[3] + ' ' + row[1])\n",
    "        plt.pie(row[4:8], labels=label, colors=c, autopct = '%.1f%%')\n",
    "        plt.savefig(row[3] + ' ' + row[1] + '.png')\n",
    "        plt.close() # 파일 닫기\n",
    "               \n",
    "        pic_count += 1\n",
    "        if pic_count >= 3:\n",
    "            break\n"
   ]
  },
  {
   "cell_type": "code",
   "execution_count": 27,
   "id": "bd759136",
   "metadata": {},
   "outputs": [],
   "source": [
    "#16"
   ]
  },
  {
   "cell_type": "markdown",
   "id": "df03855d",
   "metadata": {},
   "source": [
    "# 전체 지하철 역 파이차트 분석"
   ]
  },
  {
   "cell_type": "code",
   "execution_count": 28,
   "id": "eb9193b3",
   "metadata": {},
   "outputs": [],
   "source": [
    "# 논문이나 도서에서 주로\n",
    "#17"
   ]
  },
  {
   "cell_type": "code",
   "execution_count": null,
   "id": "bd234e16",
   "metadata": {},
   "outputs": [],
   "source": [
    "# 7번 캡처 + array \n",
    "# 1줄 읽어와서 4칸 채운 리스트들을 바로 pie차트로 넘김\n",
    "# (아래 3줄 지우면 만드는 많은 과정 볼 수 있겠지)\n"
   ]
  },
  {
   "cell_type": "code",
   "execution_count": null,
   "id": "1dbf76ec",
   "metadata": {},
   "outputs": [],
   "source": []
  },
  {
   "cell_type": "markdown",
   "id": "dfd527a7",
   "metadata": {},
   "source": [
    "# 2. 지하철 시간대별 데이터 시각화"
   ]
  },
  {
   "cell_type": "markdown",
   "id": "ac4ef1c7",
   "metadata": {},
   "source": [
    "한 행에 컬럼이 죽 다 들어가 있었으나, 두줄로 되어 있는 부분도 많음\n",
    "#19\n",
    "인덱스 0번부터 3번까지는 xx\n",
    "인덱스 4번부터 51번까지 쓰는 것\n",
    "\n",
    "< 해당 데이터 파일이 어떻게 구성되어있는지 파악하는 것이 먼저 >\n",
    "- 해당 데이터에서는 환승을 파악할 수 없음\n",
    "- 두 줄의 헤더 정보를 포함하고 있음"
   ]
  },
  {
   "cell_type": "markdown",
   "id": "12d7c968",
   "metadata": {},
   "source": [
    "#7\n",
    "map()\n",
    "- 첫번째 인자는 함수이름, 두번째는 실제 데이터"
   ]
  },
  {
   "cell_type": "markdown",
   "id": "22816035",
   "metadata": {},
   "source": [
    "# map() 함수"
   ]
  },
  {
   "cell_type": "code",
   "execution_count": 22,
   "id": "6b015867",
   "metadata": {},
   "outputs": [
    {
     "name": "stdout",
     "output_type": "stream",
     "text": [
      "[1, 2, 3, 4] 1 <class 'int'>\n"
     ]
    }
   ],
   "source": [
    "data = ['1','2','3','4']\n",
    "data = list(map(int,data)) # 문자열 형태의 자료를 일괄적으로 정수형으로 변환\n",
    "                           # map형태의 데이터를 list로 변경\n",
    "print(data, data[0], type(data[0]))"
   ]
  },
  {
   "cell_type": "code",
   "execution_count": 19,
   "id": "7f007676",
   "metadata": {},
   "outputs": [
    {
     "name": "stdout",
     "output_type": "stream",
     "text": [
      "[1, 4, 9, 16]\n"
     ]
    }
   ],
   "source": [
    "def func(x):\n",
    "    return x**2\n",
    "\n",
    "a = [1, 2, 3, 4]\n",
    "a = list(map(func, a)) # 각 숫자의 제곱\n",
    "print(a)"
   ]
  },
  {
   "cell_type": "markdown",
   "id": "eb43340a",
   "metadata": {},
   "source": [
    "# 새벽 4시 지하철 승차 전체 인원"
   ]
  },
  {
   "cell_type": "code",
   "execution_count": null,
   "id": "647a0b25",
   "metadata": {},
   "outputs": [],
   "source": [
    "# 헤더 정보 건너뛰는 캡처"
   ]
  },
  {
   "cell_type": "markdown",
   "id": "34f0e969",
   "metadata": {},
   "source": [
    "# 시간대별 지하철 이용 인원 수"
   ]
  },
  {
   "cell_type": "code",
   "execution_count": 110,
   "id": "916b7bb6",
   "metadata": {},
   "outputs": [
    {
     "name": "stdout",
     "output_type": "stream",
     "text": [
      "총 지하철 역의 수: 615\n",
      "새벽 4시 승차인원: 135,398\n"
     ]
    }
   ],
   "source": [
    "import csv\n",
    "\n",
    "result = []\n",
    "total_number = 0\n",
    "\n",
    "with open('subwaytime.csv', encoding = 'utf-8') as f:\n",
    "    data = csv.reader(f)\n",
    "    next(data) #2줄의 헤더 정보를 건너뜀\n",
    "    next(data)\n",
    "\n",
    "    for row in data:\n",
    "        row[4:] = map(int, row[4:]) # 문자열을 숫자로 변경\n",
    "        total_number += row[4]\n",
    "        result.append(row[4]) # row[4] : 새벽 4시에 승차한 인원\n",
    "                              # 아래로 죽 길게 뽑아내겠징~? 데이터 추가하면서\n",
    "\n",
    "print('총 지하철 역의 수:', len(result))\n",
    "print('새벽 4시 승차인원: {:,}'.format(total_number))"
   ]
  },
  {
   "cell_type": "markdown",
   "id": "361c3085",
   "metadata": {},
   "source": [
    "# 새벽4시 지하철 이용 인원 수 (그래프)"
   ]
  },
  {
   "cell_type": "code",
   "execution_count": null,
   "id": "33bac0ac",
   "metadata": {},
   "outputs": [],
   "source": [
    "#22\n",
    "# 정렬한 그래프를 그린 것\n",
    "# 새벽4시 승차인원을 추가\n",
    "# ex) result.sort(reverse = True/False) Top N 뽑기 용이\n",
    "# -> rewult 본인이 갖고 있는 것 자체가 바뀐 것\n",
    "# sort : 원본 리스트가 변경 (내부 값이 바뀜)\n",
    "# sorted : 원본은 유지하고, 새롭게 정렬도니 리스트 생성"
   ]
  },
  {
   "cell_type": "code",
   "execution_count": 113,
   "id": "980cfc28",
   "metadata": {},
   "outputs": [
    {
     "name": "stdout",
     "output_type": "stream",
     "text": [
      "새벽 4시 승차 인원수: 135,398\n",
      "최대 승차역: 구로, 인원수:11,784\n"
     ]
    }
   ],
   "source": [
    "import csv\n",
    "import matplotlib.pyplot as plt\n",
    "\n",
    "with open('subwaytime.csv', encoding = 'utf-8') as f:\n",
    "    data = csv.reader(f)\n",
    "    next(data) #2줄의 헤더 정보를 건너뜀\n",
    "    next(data)\n",
    "    \n",
    "    result = []\n",
    "    total_number = 0\n",
    "    max_num = 0\n",
    "    max_station = ''\n",
    "\n",
    "    for row in data:\n",
    "        row[4:] = map(int, row[4:]) # 문자열을 숫자로 변경\n",
    "        total_number += row[4]\n",
    "        result.append(row[4]) # row[4] : 새벽 4시에 승차한 인원\n",
    "                              # 아래로 죽 길게 뽑아내겠징~? 데이터 추가하면서\n",
    "        if(row[4] > max_num):      # 새벽 4시 승차 인원을 추가\n",
    "            max_num = row[4]       # 최대값 최신화\n",
    "            max_station = row[3]   # 최신화 시키는 최대값이 들어왔을 때만 max_station이 입력되겠지.\n",
    "            \n",
    "print('새벽 4시 승차 인원수: {0:,}'.format(total_number))\n",
    "print('최대 승차역: {0}, 인원수:{1:,}'.format(max_station, max_num))"
   ]
  },
  {
   "cell_type": "code",
   "execution_count": 115,
   "id": "b5807eb2",
   "metadata": {},
   "outputs": [
    {
     "data": {
      "text/plain": [
       "<BarContainer object of 615 artists>"
      ]
     },
     "execution_count": 115,
     "metadata": {},
     "output_type": "execute_result"
    },
    {
     "data": {
      "image/png": "[encoded data removed]",
      "text/plain": [
       "<Figure size 600x400 with 1 Axes>"
      ]
     },
     "metadata": {
      "needs_background": "light"
     },
     "output_type": "display_data"
    }
   ],
   "source": [
    "result.sort() # 오름 차순으로 정렬, 내림차순: result.sort(reverse=True)\n",
    "plt.figure(dpi=100)\n",
    "plt.bar(range(len(result)), result)"
   ]
  },
  {
   "cell_type": "markdown",
   "id": "eb666b9e",
   "metadata": {},
   "source": [
    "#24\n",
    "-짝수 인덱스 => 승차 / 홀수 인덱스 => 하차\n"
   ]
  },
  {
   "cell_type": "markdown",
   "id": "b90f8de0",
   "metadata": {},
   "source": [
    "# 실습 : 출근 시간대 지하철 이용 현황 #2"
   ]
  },
  {
   "cell_type": "code",
   "execution_count": 33,
   "id": "72cd000f",
   "metadata": {},
   "outputs": [
    {
     "name": "stdout",
     "output_type": "stream",
     "text": [
      "최대 승차 인원역: 신림(2호선) 638,753\n"
     ]
    },
    {
     "data": {
      "image/png": "[encoded data removed]",
      "text/plain": [
       "<Figure size 600x400 with 1 Axes>"
      ]
     },
     "metadata": {
      "needs_background": "light"
     },
     "output_type": "display_data"
    }
   ],
   "source": [
    "import csv\n",
    "import matplotlib.pyplot as plt\n",
    "\n",
    "with open('subwaytime.csv', encoding = 'utf-8' ) as f:\n",
    "    data = csv.reader(f)\n",
    "    next(data) # 2줄의 헤더 정보 건너뜀\n",
    "    next(data)\n",
    "    \n",
    "    result = []\n",
    "    total_number = 0\n",
    "    max_num = 0\n",
    "    max_station = ''\n",
    "    \n",
    "    for row in data:\n",
    "        row[4:] = map(int, row[4:])\n",
    "        row_sum = sum(row[10:15:2]) # index 10, 12, 14\n",
    "        # row_sum = row[10] + row[12] + row[14]\n",
    "        result.append(row_sum)\n",
    "        \n",
    "        if row_sum > max_num:\n",
    "            max_num = row_sum\n",
    "            max_station = row[3] + '(' + row[1] + ')'\n",
    "            \n",
    "print('최대 승차 인원역: {0} {1:,}'.format(max_station, max_num))\n",
    "result.sort(reverse=True)\n",
    "plt.figure(dpi=100)\n",
    "plt.bar(range(len(result)), result)\n",
    "plt.show()"
   ]
  },
  {
   "cell_type": "markdown",
   "id": "16688bdb",
   "metadata": {},
   "source": [
    "# 시간대별 가장 많이 승차하는 역 정보 분석\n",
    "\n",
    "- 시간대별 최대값을 뽑아내는"
   ]
  },
  {
   "cell_type": "code",
   "execution_count": null,
   "id": "b0878e8a",
   "metadata": {},
   "outputs": [],
   "source": [
    "#4~27 \n",
    "# 34,24,0,1,2 이렇게 순환하는 것을 표시하기 위해 /24\n",
    "# xtick_~ : 그래프 x축 레이블\n",
    "# 승차인원만 갖고 올 것이고, 2개씩 건너뛸 것이기 때문\n",
    "# [0] => 4시 시작\n",
    "# i * 2 + 4([4]부터 시작하니까)\n",
    "# -> j = 0이라면, data[4]. 즉 새벽4시 값을 갖고 오는 것\n",
    "#27 : 그래프를 위한 소스코든\n",
    "# -> x라벨. 즉, xstick들을 살짝 기울여서 최대한 많은 것들을 x좌표에 기록하기 위해 기울여줌"
   ]
  },
  {
   "cell_type": "code",
   "execution_count": 116,
   "id": "830d5b79",
   "metadata": {},
   "outputs": [
    {
     "name": "stdout",
     "output_type": "stream",
     "text": [
      "4시:관악산(서울대): 2, 5시:관악산(서울대): 475, 6시:관악산(서울대): 1,258, 7시:관악산(서울대): 4,086, \n",
      "8시:관악산(서울대): 4,382, 9시:관악산(서울대): 3,446, 10시:관악산(서울대): 4,042, 11시:관악산(서울대): 5,471, \n",
      "12시:관악산(서울대): 7,264, 13시:관악산(서울대): 8,889, 14시:관악산(서울대): 10,156, 15시:관악산(서울대): 12,362, \n",
      "16시:관악산(서울대): 12,217, 17시:관악산(서울대): 10,329, 18시:관악산(서울대): 7,512, 19시:관악산(서울대): 2,774, \n",
      "20시:관악산(서울대): 1,864, 21시:관악산(서울대): 1,267, 22시:관악산(서울대): 1,000, 23시:관악산(서울대): 485, \n",
      "0시:관악산(서울대): 90, 1시:관악산(서울대): 1, : 0, "
     ]
    }
   ],
   "source": [
    "import csv\n",
    "import matplotlib.pyplot as plt\n",
    "import platform\n",
    "\n",
    "with open('subwaytime.csv', encoding = 'utf-8') as f:\n",
    "    data = csv.reader(f)\n",
    "    next(data)\n",
    "    next(data)\n",
    "    \n",
    "    max =[0] * 23 # 새벽 3시는 지하철 운행 안함\n",
    "    max_station = [''] * 23\n",
    "    xtick_list = []\n",
    "    \n",
    "    for i in range(4, 27):\n",
    "        n = i % 24 # 4, 5, 6, ... 23, 0, 1, 2시로 표시\n",
    "        xtick_list.append(str(n))\n",
    "        \n",
    "    for row in data:\n",
    "        row[4:] = map(int, row[4:])\n",
    "            \n",
    "    for j in range(23):\n",
    "        a = row[j*2 +4]\n",
    "        if  a > max[j]:\n",
    "            max[j] = a\n",
    "            max_station[j] = xtick_list[j] + '시:' + row[3] #4시: 구로\n",
    "        \n",
    "    for i in range(len(max)):\n",
    "        print('{0}: {1:,}'.format(max_station[i], max[i]), end=', ')\n",
    "        if (i+1) % 4 == 0: # 한 줄에 6개씩 출력\n",
    "            print()"
   ]
  },
  {
   "cell_type": "code",
   "execution_count": 43,
   "id": "7c0ca4dd",
   "metadata": {
    "scrolled": true
   },
   "outputs": [
    {
     "name": "stdout",
     "output_type": "stream",
     "text": [
      "4시:관악산(서울대): 2, 5시:관악산(서울대): 475, 6시:관악산(서울대): 1,258, 7시:관악산(서울대): 4,086, \n",
      "8시:관악산(서울대): 4,382, 9시:관악산(서울대): 3,446, 10시:관악산(서울대): 4,042, 11시:관악산(서울대): 5,471, \n",
      "12시:관악산(서울대): 7,264, 13시:관악산(서울대): 8,889, 14시:관악산(서울대): 10,156, 15시:관악산(서울대): 12,362, \n",
      "16시:관악산(서울대): 12,217, 17시:관악산(서울대): 10,329, 18시:관악산(서울대): 7,512, 19시:관악산(서울대): 2,774, \n",
      "20시:관악산(서울대): 1,864, 21시:관악산(서울대): 1,267, 22시:관악산(서울대): 1,000, 23시:관악산(서울대): 485, \n",
      "0시:관악산(서울대): 90, 1시:관악산(서울대): 1, : 0, "
     ]
    },
    {
     "data": {
      "image/png": "[encoded data removed]",
      "text/plain": [
       "<Figure size 600x400 with 1 Axes>"
      ]
     },
     "metadata": {
      "needs_background": "light"
     },
     "output_type": "display_data"
    }
   ],
   "source": [
    "import csv\n",
    "import matplotlib.pyplot as plt\n",
    "import platform\n",
    "\n",
    "with open('subwaytime.csv', encoding = 'utf-8') as f:\n",
    "    data = csv.reader(f)\n",
    "    next(data)\n",
    "    next(data)\n",
    "    \n",
    "    max =[0] * 23 # 새벽 3시는 지하철 운행 안함\n",
    "    max_station = [''] * 23\n",
    "    xtick_list = []\n",
    "    \n",
    "    for i in range(4, 27):\n",
    "        n = i % 24 # 4, 5, 6, ... 23, 0, 1, 2시로 표시\n",
    "        xtick_list.append(str(n))\n",
    "        \n",
    "    for row in data:\n",
    "        row[4:] = map(int, row[4:])\n",
    "        \n",
    "    for j in range(23):\n",
    "        a = row[j * 2 + 4] # j=0: data[j*2+4]의 값을 max[0]에 저장하기 위함\n",
    "        if a > max[j]:\n",
    "            max[j] = a\n",
    "            max_station[j] = xtick_list[j] + '시:' + row[3] # 4시: 구로\n",
    "\n",
    "    for i in range(len(max)):\n",
    "        print('{0}: {1:,}'.format(max_station[i], max[i]), end=', ')\n",
    "        if (i+1) % 4 == 0: # 한 줄에 6개씩 출력\n",
    "            print()\n",
    "            \n",
    "if(platform.system() == 'Windows'):\n",
    "    plt.rc('font', family = 'Malgun Gothic')\n",
    "else:\n",
    "    plt.rc('font', family = 'AppleGothic')\n",
    "\n",
    "plt.figure(dpi=100)\n",
    "plt.bar(range(23), max)\n",
    "plt.xticks(range(23), max_station, rotation=80)\n",
    "plt.show()"
   ]
  },
  {
   "cell_type": "code",
   "execution_count": 34,
   "id": "cd0ef74a",
   "metadata": {},
   "outputs": [
    {
     "name": "stdout",
     "output_type": "stream",
     "text": [
      "4 5 6 7 8 9 10 11 12 13 14 15 16 17 18 19 20 21 22 23 0 1 2 \n"
     ]
    }
   ],
   "source": [
    "for i in range(4,27):\n",
    "    n = i % 24 \n",
    "    print(n, end= ' ')\n",
    "print()"
   ]
  },
  {
   "cell_type": "markdown",
   "id": "f93e0d28",
   "metadata": {},
   "source": [
    "# 모든 지하철역에서 시간대별 승하차 인원?"
   ]
  },
  {
   "cell_type": "code",
   "execution_count": null,
   "id": "2bb4d410",
   "metadata": {},
   "outputs": [],
   "source": []
  },
  {
   "cell_type": "code",
   "execution_count": null,
   "id": "eb4e4c0a",
   "metadata": {},
   "outputs": [],
   "source": [
    "# key와 value로 정렬하려는 것은 힘듦\n",
    "# => lambda를 활용 -> 그나마 쉬운뎅 (그나마 더 많이 사용하는 편)\n",
    "\n",
    "# item으로 부르면, key[0], value[1]로 출력 가능하지\n",
    "# 금일 과제에서 쓸 일은 없을 것이공\n"
   ]
  },
  {
   "cell_type": "markdown",
   "id": "a1d1c303",
   "metadata": {},
   "source": [
    "# Pandas 활용\n",
    "- #31\n",
    "- 엑셀파일 받은 것 그대로 활용"
   ]
  },
  {
   "cell_type": "code",
   "execution_count": 62,
   "id": "6b6947a4",
   "metadata": {},
   "outputs": [],
   "source": [
    "# 특정한 시트만 갖고 오고 싶을 때 사용\n",
    "# 헤더에 대한 정보 (접때도 거르기 힘들었던 것)\n",
    "# -> 어디까지가 헤더인지\n",
    "# [0]~[3] => 판다스에서는 빈칸이 unnmaed 이렇게 떠버림 (접때 처럼) \n",
    "# -> \n",
    "# 하차 위쪽 칸도 함께 시간을 나타내는 칸이 붙어 있는 것으로 보면 됨\n",
    "# (컬럼을 확인하면 승차, 하차의 시간이 같게 나타나는 것을 볼 수 있음)"
   ]
  },
  {
   "cell_type": "markdown",
   "id": "55b13c63",
   "metadata": {},
   "source": [
    "- 멀티 인덱스의 경우, 튜플 형식으로 접근\n",
    "- 적혀 있는 그대로 적어(~#33) -> 해당 데이터로 가져옴\n",
    "- df[행, 열]\n",
    "  df[1:5, 2:10]\n",
    "  df[ : , [1,3,10,12,14]]\n",
    "  \n",
    " - 필요한 것만 뽑아서, DF를 줄인 것\n",
    "- objec -> 문자열 형태 -> 숫자로 변경해야 할 듯 (for 연산 등)\n",
    "- apply() -> 전체 모든 행들에 적용\n",
    "- lambda x : x.replace(',', '')\n",
    " -> x는 '입력된 데이터1개' 라고 생각하기\n",
    " \n",
    " < 엑셀, 멀티인덱스 일 때 >  \n",
    " 엑셀 부르고  \n",
    " 헤더 확인(헤더부분 처리 중요)  \n",
    " 컬럼 정보 확인  \n",
    " 필요한 데이터 잘라 오기  \n",
    " \n",
    " 각각의 컬럼에 접근할 때, 튜플 형태로 접근했다는 것 주의  \n",
    " 1000단위 콤마(,) 제거  \n",
    " data type 변경  \n",
    " DF의 연산  "
   ]
  },
  {
   "cell_type": "code",
   "execution_count": 74,
   "id": "95fff284",
   "metadata": {
    "collapsed": true
   },
   "outputs": [
    {
     "data": {
      "text/html": [
       "<div>\n",
       "<style scoped>\n",
       "    .dataframe tbody tr th:only-of-type {\n",
       "        vertical-align: middle;\n",
       "    }\n",
       "\n",
       "    .dataframe tbody tr th {\n",
       "        vertical-align: top;\n",
       "    }\n",
       "\n",
       "    .dataframe thead tr th {\n",
       "        text-align: left;\n",
       "    }\n",
       "</style>\n",
       "<table border=\"1\" class=\"dataframe\">\n",
       "  <thead>\n",
       "    <tr>\n",
       "      <th></th>\n",
       "      <th>사용월</th>\n",
       "      <th>호선명</th>\n",
       "      <th>역ID</th>\n",
       "      <th>지하철역</th>\n",
       "      <th colspan=\"2\" halign=\"left\">04:00:00~04:59:59</th>\n",
       "      <th colspan=\"2\" halign=\"left\">05:00:00~05:59:59</th>\n",
       "      <th colspan=\"2\" halign=\"left\">06:00:00~06:59:59</th>\n",
       "      <th>...</th>\n",
       "      <th colspan=\"2\" halign=\"left\">23:00:00~23:59:59</th>\n",
       "      <th colspan=\"2\" halign=\"left\">00:00:00~00:59:59</th>\n",
       "      <th colspan=\"2\" halign=\"left\">01:00:00~01:59:59</th>\n",
       "      <th colspan=\"2\" halign=\"left\">02:00:00~02:59:59</th>\n",
       "      <th colspan=\"2\" halign=\"left\">03:00:00~03:59:59</th>\n",
       "    </tr>\n",
       "    <tr>\n",
       "      <th></th>\n",
       "      <th>Unnamed: 0_level_1</th>\n",
       "      <th>Unnamed: 1_level_1</th>\n",
       "      <th>Unnamed: 2_level_1</th>\n",
       "      <th>Unnamed: 3_level_1</th>\n",
       "      <th>승차</th>\n",
       "      <th>하차</th>\n",
       "      <th>승차</th>\n",
       "      <th>하차</th>\n",
       "      <th>승차</th>\n",
       "      <th>하차</th>\n",
       "      <th>...</th>\n",
       "      <th>승차</th>\n",
       "      <th>하차</th>\n",
       "      <th>승차</th>\n",
       "      <th>하차</th>\n",
       "      <th>승차</th>\n",
       "      <th>하차</th>\n",
       "      <th>승차</th>\n",
       "      <th>하차</th>\n",
       "      <th>승차</th>\n",
       "      <th>하차</th>\n",
       "    </tr>\n",
       "  </thead>\n",
       "  <tbody>\n",
       "    <tr>\n",
       "      <th>0</th>\n",
       "      <td>2022-06</td>\n",
       "      <td>1호선</td>\n",
       "      <td>150</td>\n",
       "      <td>서울역</td>\n",
       "      <td>646</td>\n",
       "      <td>24</td>\n",
       "      <td>8,433</td>\n",
       "      <td>7,694</td>\n",
       "      <td>12,608</td>\n",
       "      <td>46,963</td>\n",
       "      <td>...</td>\n",
       "      <td>20,385</td>\n",
       "      <td>15,480</td>\n",
       "      <td>158</td>\n",
       "      <td>1,332</td>\n",
       "      <td>1</td>\n",
       "      <td>4</td>\n",
       "      <td>0</td>\n",
       "      <td>1</td>\n",
       "      <td>0</td>\n",
       "      <td>0</td>\n",
       "    </tr>\n",
       "    <tr>\n",
       "      <th>1</th>\n",
       "      <td>2022-06</td>\n",
       "      <td>1호선</td>\n",
       "      <td>151</td>\n",
       "      <td>시청</td>\n",
       "      <td>271</td>\n",
       "      <td>7</td>\n",
       "      <td>3,133</td>\n",
       "      <td>4,802</td>\n",
       "      <td>3,321</td>\n",
       "      <td>23,621</td>\n",
       "      <td>...</td>\n",
       "      <td>9,254</td>\n",
       "      <td>2,938</td>\n",
       "      <td>72</td>\n",
       "      <td>422</td>\n",
       "      <td>0</td>\n",
       "      <td>2</td>\n",
       "      <td>0</td>\n",
       "      <td>0</td>\n",
       "      <td>0</td>\n",
       "      <td>0</td>\n",
       "    </tr>\n",
       "    <tr>\n",
       "      <th>2</th>\n",
       "      <td>2022-06</td>\n",
       "      <td>1호선</td>\n",
       "      <td>152</td>\n",
       "      <td>종각</td>\n",
       "      <td>91</td>\n",
       "      <td>9</td>\n",
       "      <td>4,007</td>\n",
       "      <td>3,960</td>\n",
       "      <td>3,682</td>\n",
       "      <td>22,533</td>\n",
       "      <td>...</td>\n",
       "      <td>27,781</td>\n",
       "      <td>3,590</td>\n",
       "      <td>315</td>\n",
       "      <td>394</td>\n",
       "      <td>0</td>\n",
       "      <td>1</td>\n",
       "      <td>0</td>\n",
       "      <td>0</td>\n",
       "      <td>0</td>\n",
       "      <td>0</td>\n",
       "    </tr>\n",
       "    <tr>\n",
       "      <th>3</th>\n",
       "      <td>2022-06</td>\n",
       "      <td>1호선</td>\n",
       "      <td>153</td>\n",
       "      <td>종로3가</td>\n",
       "      <td>190</td>\n",
       "      <td>12</td>\n",
       "      <td>3,882</td>\n",
       "      <td>3,261</td>\n",
       "      <td>3,570</td>\n",
       "      <td>14,038</td>\n",
       "      <td>...</td>\n",
       "      <td>17,170</td>\n",
       "      <td>4,119</td>\n",
       "      <td>310</td>\n",
       "      <td>843</td>\n",
       "      <td>3</td>\n",
       "      <td>3</td>\n",
       "      <td>0</td>\n",
       "      <td>0</td>\n",
       "      <td>0</td>\n",
       "      <td>0</td>\n",
       "    </tr>\n",
       "    <tr>\n",
       "      <th>4</th>\n",
       "      <td>2022-06</td>\n",
       "      <td>1호선</td>\n",
       "      <td>154</td>\n",
       "      <td>종로5가</td>\n",
       "      <td>34</td>\n",
       "      <td>0</td>\n",
       "      <td>1,730</td>\n",
       "      <td>3,909</td>\n",
       "      <td>2,986</td>\n",
       "      <td>16,406</td>\n",
       "      <td>...</td>\n",
       "      <td>6,208</td>\n",
       "      <td>2,628</td>\n",
       "      <td>98</td>\n",
       "      <td>668</td>\n",
       "      <td>0</td>\n",
       "      <td>0</td>\n",
       "      <td>0</td>\n",
       "      <td>0</td>\n",
       "      <td>0</td>\n",
       "      <td>0</td>\n",
       "    </tr>\n",
       "    <tr>\n",
       "      <th>...</th>\n",
       "      <td>...</td>\n",
       "      <td>...</td>\n",
       "      <td>...</td>\n",
       "      <td>...</td>\n",
       "      <td>...</td>\n",
       "      <td>...</td>\n",
       "      <td>...</td>\n",
       "      <td>...</td>\n",
       "      <td>...</td>\n",
       "      <td>...</td>\n",
       "      <td>...</td>\n",
       "      <td>...</td>\n",
       "      <td>...</td>\n",
       "      <td>...</td>\n",
       "      <td>...</td>\n",
       "      <td>...</td>\n",
       "      <td>...</td>\n",
       "      <td>...</td>\n",
       "      <td>...</td>\n",
       "      <td>...</td>\n",
       "      <td>...</td>\n",
       "    </tr>\n",
       "    <tr>\n",
       "      <th>610</th>\n",
       "      <td>2022-06</td>\n",
       "      <td>신림선</td>\n",
       "      <td>4407</td>\n",
       "      <td>당곡</td>\n",
       "      <td>0</td>\n",
       "      <td>0</td>\n",
       "      <td>1,061</td>\n",
       "      <td>118</td>\n",
       "      <td>2,650</td>\n",
       "      <td>704</td>\n",
       "      <td>...</td>\n",
       "      <td>822</td>\n",
       "      <td>2,710</td>\n",
       "      <td>156</td>\n",
       "      <td>637</td>\n",
       "      <td>0</td>\n",
       "      <td>0</td>\n",
       "      <td>0</td>\n",
       "      <td>0</td>\n",
       "      <td>0</td>\n",
       "      <td>0</td>\n",
       "    </tr>\n",
       "    <tr>\n",
       "      <th>611</th>\n",
       "      <td>2022-06</td>\n",
       "      <td>신림선</td>\n",
       "      <td>4408</td>\n",
       "      <td>신림</td>\n",
       "      <td>2</td>\n",
       "      <td>1</td>\n",
       "      <td>651</td>\n",
       "      <td>153</td>\n",
       "      <td>853</td>\n",
       "      <td>488</td>\n",
       "      <td>...</td>\n",
       "      <td>770</td>\n",
       "      <td>2,023</td>\n",
       "      <td>177</td>\n",
       "      <td>629</td>\n",
       "      <td>0</td>\n",
       "      <td>1</td>\n",
       "      <td>0</td>\n",
       "      <td>0</td>\n",
       "      <td>0</td>\n",
       "      <td>0</td>\n",
       "    </tr>\n",
       "    <tr>\n",
       "      <th>612</th>\n",
       "      <td>2022-06</td>\n",
       "      <td>신림선</td>\n",
       "      <td>4409</td>\n",
       "      <td>서원</td>\n",
       "      <td>2</td>\n",
       "      <td>1</td>\n",
       "      <td>1,287</td>\n",
       "      <td>151</td>\n",
       "      <td>2,552</td>\n",
       "      <td>513</td>\n",
       "      <td>...</td>\n",
       "      <td>349</td>\n",
       "      <td>3,281</td>\n",
       "      <td>68</td>\n",
       "      <td>782</td>\n",
       "      <td>2</td>\n",
       "      <td>2</td>\n",
       "      <td>0</td>\n",
       "      <td>0</td>\n",
       "      <td>0</td>\n",
       "      <td>0</td>\n",
       "    </tr>\n",
       "    <tr>\n",
       "      <th>613</th>\n",
       "      <td>2022-06</td>\n",
       "      <td>신림선</td>\n",
       "      <td>4410</td>\n",
       "      <td>서울대벤처타운</td>\n",
       "      <td>10</td>\n",
       "      <td>3</td>\n",
       "      <td>3,314</td>\n",
       "      <td>166</td>\n",
       "      <td>5,162</td>\n",
       "      <td>1,676</td>\n",
       "      <td>...</td>\n",
       "      <td>1,201</td>\n",
       "      <td>7,279</td>\n",
       "      <td>180</td>\n",
       "      <td>1,974</td>\n",
       "      <td>1</td>\n",
       "      <td>40</td>\n",
       "      <td>0</td>\n",
       "      <td>0</td>\n",
       "      <td>0</td>\n",
       "      <td>0</td>\n",
       "    </tr>\n",
       "    <tr>\n",
       "      <th>614</th>\n",
       "      <td>2022-06</td>\n",
       "      <td>신림선</td>\n",
       "      <td>4411</td>\n",
       "      <td>관악산(서울대)</td>\n",
       "      <td>2</td>\n",
       "      <td>5</td>\n",
       "      <td>475</td>\n",
       "      <td>742</td>\n",
       "      <td>1,258</td>\n",
       "      <td>1,712</td>\n",
       "      <td>...</td>\n",
       "      <td>485</td>\n",
       "      <td>1,224</td>\n",
       "      <td>90</td>\n",
       "      <td>412</td>\n",
       "      <td>1</td>\n",
       "      <td>33</td>\n",
       "      <td>0</td>\n",
       "      <td>0</td>\n",
       "      <td>0</td>\n",
       "      <td>0</td>\n",
       "    </tr>\n",
       "  </tbody>\n",
       "</table>\n",
       "<p>615 rows × 52 columns</p>\n",
       "</div>"
      ],
      "text/plain": [
       "                   사용월                호선명                역ID  \\\n",
       "    Unnamed: 0_level_1 Unnamed: 1_level_1 Unnamed: 2_level_1   \n",
       "0              2022-06                1호선                150   \n",
       "1              2022-06                1호선                151   \n",
       "2              2022-06                1호선                152   \n",
       "3              2022-06                1호선                153   \n",
       "4              2022-06                1호선                154   \n",
       "..                 ...                ...                ...   \n",
       "610            2022-06                신림선               4407   \n",
       "611            2022-06                신림선               4408   \n",
       "612            2022-06                신림선               4409   \n",
       "613            2022-06                신림선               4410   \n",
       "614            2022-06                신림선               4411   \n",
       "\n",
       "                  지하철역 04:00:00~04:59:59     05:00:00~05:59:59         \\\n",
       "    Unnamed: 3_level_1                승차  하차                승차     하차   \n",
       "0                  서울역               646  24             8,433  7,694   \n",
       "1                   시청               271   7             3,133  4,802   \n",
       "2                   종각                91   9             4,007  3,960   \n",
       "3                 종로3가               190  12             3,882  3,261   \n",
       "4                 종로5가                34   0             1,730  3,909   \n",
       "..                 ...               ...  ..               ...    ...   \n",
       "610                 당곡                 0   0             1,061    118   \n",
       "611                 신림                 2   1               651    153   \n",
       "612                 서원                 2   1             1,287    151   \n",
       "613            서울대벤처타운                10   3             3,314    166   \n",
       "614           관악산(서울대)                 2   5               475    742   \n",
       "\n",
       "    06:00:00~06:59:59          ... 23:00:00~23:59:59          \\\n",
       "                   승차      하차  ...                승차      하차   \n",
       "0              12,608  46,963  ...            20,385  15,480   \n",
       "1               3,321  23,621  ...             9,254   2,938   \n",
       "2               3,682  22,533  ...            27,781   3,590   \n",
       "3               3,570  14,038  ...            17,170   4,119   \n",
       "4               2,986  16,406  ...             6,208   2,628   \n",
       "..                ...     ...  ...               ...     ...   \n",
       "610             2,650     704  ...               822   2,710   \n",
       "611               853     488  ...               770   2,023   \n",
       "612             2,552     513  ...               349   3,281   \n",
       "613             5,162   1,676  ...             1,201   7,279   \n",
       "614             1,258   1,712  ...               485   1,224   \n",
       "\n",
       "    00:00:00~00:59:59        01:00:00~01:59:59     02:00:00~02:59:59     \\\n",
       "                   승차     하차                승차  하차                승차 하차   \n",
       "0                 158  1,332                 1   4                 0  1   \n",
       "1                  72    422                 0   2                 0  0   \n",
       "2                 315    394                 0   1                 0  0   \n",
       "3                 310    843                 3   3                 0  0   \n",
       "4                  98    668                 0   0                 0  0   \n",
       "..                ...    ...               ...  ..               ... ..   \n",
       "610               156    637                 0   0                 0  0   \n",
       "611               177    629                 0   1                 0  0   \n",
       "612                68    782                 2   2                 0  0   \n",
       "613               180  1,974                 1  40                 0  0   \n",
       "614                90    412                 1  33                 0  0   \n",
       "\n",
       "    03:00:00~03:59:59     \n",
       "                   승차 하차  \n",
       "0                   0  0  \n",
       "1                   0  0  \n",
       "2                   0  0  \n",
       "3                   0  0  \n",
       "4                   0  0  \n",
       "..                ... ..  \n",
       "610                 0  0  \n",
       "611                 0  0  \n",
       "612                 0  0  \n",
       "613                 0  0  \n",
       "614                 0  0  \n",
       "\n",
       "[615 rows x 52 columns]"
      ]
     },
     "execution_count": 74,
     "metadata": {},
     "output_type": "execute_result"
    }
   ],
   "source": [
    "import pandas as pd\n",
    "\n",
    "df = pd.read_excel('subway.xls', sheet_name = '지하철 시간대별 이용현황', header=[0,1])\n",
    "df"
   ]
  },
  {
   "cell_type": "code",
   "execution_count": 75,
   "id": "7e0333f9",
   "metadata": {
    "collapsed": true
   },
   "outputs": [
    {
     "data": {
      "text/plain": [
       "MultiIndex([(              '사용월', 'Unnamed: 0_level_1'),\n",
       "            (              '호선명', 'Unnamed: 1_level_1'),\n",
       "            (              '역ID', 'Unnamed: 2_level_1'),\n",
       "            (             '지하철역', 'Unnamed: 3_level_1'),\n",
       "            ('04:00:00~04:59:59',                 '승차'),\n",
       "            ('04:00:00~04:59:59',                 '하차'),\n",
       "            ('05:00:00~05:59:59',                 '승차'),\n",
       "            ('05:00:00~05:59:59',                 '하차'),\n",
       "            ('06:00:00~06:59:59',                 '승차'),\n",
       "            ('06:00:00~06:59:59',                 '하차'),\n",
       "            ('07:00:00~07:59:59',                 '승차'),\n",
       "            ('07:00:00~07:59:59',                 '하차'),\n",
       "            ('08:00:00~08:59:59',                 '승차'),\n",
       "            ('08:00:00~08:59:59',                 '하차'),\n",
       "            ('09:00:00~09:59:59',                 '승차'),\n",
       "            ('09:00:00~09:59:59',                 '하차'),\n",
       "            ('10:00:00~10:59:59',                 '승차'),\n",
       "            ('10:00:00~10:59:59',                 '하차'),\n",
       "            ('11:00:00~11:59:59',                 '승차'),\n",
       "            ('11:00:00~11:59:59',                 '하차'),\n",
       "            ('12:00:00~12:59:59',                 '승차'),\n",
       "            ('12:00:00~12:59:59',                 '하차'),\n",
       "            ('13:00:00~13:59:59',                 '승차'),\n",
       "            ('13:00:00~13:59:59',                 '하차'),\n",
       "            ('14:00:00~14:59:59',                 '승차'),\n",
       "            ('14:00:00~14:59:59',                 '하차'),\n",
       "            ('15:00:00~15:59:59',                 '승차'),\n",
       "            ('15:00:00~15:59:59',                 '하차'),\n",
       "            ('16:00:00~16:59:59',                 '승차'),\n",
       "            ('16:00:00~16:59:59',                 '하차'),\n",
       "            ('17:00:00~17:59:59',                 '승차'),\n",
       "            ('17:00:00~17:59:59',                 '하차'),\n",
       "            ('18:00:00~18:59:59',                 '승차'),\n",
       "            ('18:00:00~18:59:59',                 '하차'),\n",
       "            ('19:00:00~19:59:59',                 '승차'),\n",
       "            ('19:00:00~19:59:59',                 '하차'),\n",
       "            ('20:00:00~20:59:59',                 '승차'),\n",
       "            ('20:00:00~20:59:59',                 '하차'),\n",
       "            ('21:00:00~21:59:59',                 '승차'),\n",
       "            ('21:00:00~21:59:59',                 '하차'),\n",
       "            ('22:00:00~22:59:59',                 '승차'),\n",
       "            ('22:00:00~22:59:59',                 '하차'),\n",
       "            ('23:00:00~23:59:59',                 '승차'),\n",
       "            ('23:00:00~23:59:59',                 '하차'),\n",
       "            ('00:00:00~00:59:59',                 '승차'),\n",
       "            ('00:00:00~00:59:59',                 '하차'),\n",
       "            ('01:00:00~01:59:59',                 '승차'),\n",
       "            ('01:00:00~01:59:59',                 '하차'),\n",
       "            ('02:00:00~02:59:59',                 '승차'),\n",
       "            ('02:00:00~02:59:59',                 '하차'),\n",
       "            ('03:00:00~03:59:59',                 '승차'),\n",
       "            ('03:00:00~03:59:59',                 '하차')],\n",
       "           )"
      ]
     },
     "execution_count": 75,
     "metadata": {},
     "output_type": "execute_result"
    }
   ],
   "source": [
    "df.columns"
   ]
  },
  {
   "cell_type": "code",
   "execution_count": 119,
   "id": "d957cff6",
   "metadata": {
    "collapsed": true
   },
   "outputs": [
    {
     "data": {
      "text/plain": [
       "0      24\n",
       "1       7\n",
       "2       9\n",
       "3      12\n",
       "4       0\n",
       "       ..\n",
       "610     0\n",
       "611     1\n",
       "612     1\n",
       "613     3\n",
       "614     5\n",
       "Name: (04:00:00~04:59:59, 하차), Length: 615, dtype: int64"
      ]
     },
     "execution_count": 119,
     "metadata": {},
     "output_type": "execute_result"
    }
   ],
   "source": [
    "df[('04:00:00~04:59:59', '승차')]\n",
    "df[('04:00:00~04:59:59', '하차')]"
   ]
  },
  {
   "cell_type": "code",
   "execution_count": 76,
   "id": "43152a94",
   "metadata": {
    "collapsed": true
   },
   "outputs": [
    {
     "data": {
      "text/plain": [
       "0      1호선\n",
       "1      1호선\n",
       "2      1호선\n",
       "3      1호선\n",
       "4      1호선\n",
       "      ... \n",
       "610    신림선\n",
       "611    신림선\n",
       "612    신림선\n",
       "613    신림선\n",
       "614    신림선\n",
       "Name: (호선명, Unnamed: 1_level_1), Length: 615, dtype: object"
      ]
     },
     "execution_count": 76,
     "metadata": {},
     "output_type": "execute_result"
    }
   ],
   "source": [
    "df[('호선명','Unnamed: 1_level_1')]"
   ]
  },
  {
   "cell_type": "code",
   "execution_count": 77,
   "id": "1c9c1826",
   "metadata": {
    "collapsed": true
   },
   "outputs": [
    {
     "data": {
      "text/plain": [
       "0           서울역\n",
       "1            시청\n",
       "2            종각\n",
       "3          종로3가\n",
       "4          종로5가\n",
       "         ...   \n",
       "610          당곡\n",
       "611          신림\n",
       "612          서원\n",
       "613     서울대벤처타운\n",
       "614    관악산(서울대)\n",
       "Name: (지하철역, Unnamed: 3_level_1), Length: 615, dtype: object"
      ]
     },
     "execution_count": 77,
     "metadata": {},
     "output_type": "execute_result"
    }
   ],
   "source": [
    "df[('지하철역', 'Unnamed: 3_level_1')]"
   ]
  },
  {
   "cell_type": "code",
   "execution_count": 78,
   "id": "0a35e3d8",
   "metadata": {
    "collapsed": true
   },
   "outputs": [
    {
     "data": {
      "text/html": [
       "<div>\n",
       "<style scoped>\n",
       "    .dataframe tbody tr th:only-of-type {\n",
       "        vertical-align: middle;\n",
       "    }\n",
       "\n",
       "    .dataframe tbody tr th {\n",
       "        vertical-align: top;\n",
       "    }\n",
       "\n",
       "    .dataframe thead tr th {\n",
       "        text-align: left;\n",
       "    }\n",
       "</style>\n",
       "<table border=\"1\" class=\"dataframe\">\n",
       "  <thead>\n",
       "    <tr>\n",
       "      <th></th>\n",
       "      <th>호선명</th>\n",
       "      <th>지하철역</th>\n",
       "      <th>07:00:00~07:59:59</th>\n",
       "      <th>08:00:00~08:59:59</th>\n",
       "      <th>09:00:00~09:59:59</th>\n",
       "    </tr>\n",
       "    <tr>\n",
       "      <th></th>\n",
       "      <th>Unnamed: 1_level_1</th>\n",
       "      <th>Unnamed: 3_level_1</th>\n",
       "      <th>승차</th>\n",
       "      <th>승차</th>\n",
       "      <th>승차</th>\n",
       "    </tr>\n",
       "  </thead>\n",
       "  <tbody>\n",
       "    <tr>\n",
       "      <th>0</th>\n",
       "      <td>1호선</td>\n",
       "      <td>서울역</td>\n",
       "      <td>39,233</td>\n",
       "      <td>65,106</td>\n",
       "      <td>54,833</td>\n",
       "    </tr>\n",
       "    <tr>\n",
       "      <th>1</th>\n",
       "      <td>1호선</td>\n",
       "      <td>시청</td>\n",
       "      <td>6,647</td>\n",
       "      <td>8,294</td>\n",
       "      <td>9,211</td>\n",
       "    </tr>\n",
       "    <tr>\n",
       "      <th>2</th>\n",
       "      <td>1호선</td>\n",
       "      <td>종각</td>\n",
       "      <td>5,814</td>\n",
       "      <td>9,612</td>\n",
       "      <td>11,847</td>\n",
       "    </tr>\n",
       "    <tr>\n",
       "      <th>3</th>\n",
       "      <td>1호선</td>\n",
       "      <td>종로3가</td>\n",
       "      <td>4,746</td>\n",
       "      <td>8,589</td>\n",
       "      <td>13,179</td>\n",
       "    </tr>\n",
       "    <tr>\n",
       "      <th>4</th>\n",
       "      <td>1호선</td>\n",
       "      <td>종로5가</td>\n",
       "      <td>5,020</td>\n",
       "      <td>8,550</td>\n",
       "      <td>11,925</td>\n",
       "    </tr>\n",
       "  </tbody>\n",
       "</table>\n",
       "</div>"
      ],
      "text/plain": [
       "                 호선명               지하철역 07:00:00~07:59:59 08:00:00~08:59:59  \\\n",
       "  Unnamed: 1_level_1 Unnamed: 3_level_1                승차                승차   \n",
       "0                1호선                서울역            39,233            65,106   \n",
       "1                1호선                 시청             6,647             8,294   \n",
       "2                1호선                 종각             5,814             9,612   \n",
       "3                1호선               종로3가             4,746             8,589   \n",
       "4                1호선               종로5가             5,020             8,550   \n",
       "\n",
       "  09:00:00~09:59:59  \n",
       "                 승차  \n",
       "0            54,833  \n",
       "1             9,211  \n",
       "2            11,847  \n",
       "3            13,179  \n",
       "4            11,925  "
      ]
     },
     "execution_count": 78,
     "metadata": {},
     "output_type": "execute_result"
    }
   ],
   "source": [
    "commute_time_df = df.iloc[:, [1, 3, 10, 12, 14]]\n",
    "commute_time_df.head()"
   ]
  },
  {
   "cell_type": "code",
   "execution_count": 79,
   "id": "0e0569d6",
   "metadata": {
    "collapsed": true
   },
   "outputs": [
    {
     "data": {
      "text/plain": [
       "호선명                Unnamed: 1_level_1    object\n",
       "지하철역               Unnamed: 3_level_1    object\n",
       "07:00:00~07:59:59  승차                    object\n",
       "08:00:00~08:59:59  승차                    object\n",
       "09:00:00~09:59:59  승차                    object\n",
       "dtype: object"
      ]
     },
     "execution_count": 79,
     "metadata": {},
     "output_type": "execute_result"
    }
   ],
   "source": [
    "commute_time_df.dtypes"
   ]
  },
  {
   "cell_type": "code",
   "execution_count": 85,
   "id": "d74c0609",
   "metadata": {
    "collapsed": true
   },
   "outputs": [
    {
     "name": "stderr",
     "output_type": "stream",
     "text": [
      "C:\\Users\\ahasu\\AppData\\Local\\Temp\\ipykernel_9908\\3642604935.py:1: SettingWithCopyWarning: \n",
      "A value is trying to be set on a copy of a slice from a DataFrame.\n",
      "Try using .loc[row_indexer,col_indexer] = value instead\n",
      "\n",
      "See the caveats in the documentation: https://pandas.pydata.org/pandas-docs/stable/user_guide/indexing.html#returning-a-view-versus-a-copy\n",
      "  commute_time_df[('07:00:00~07:59:59', '승차')] = commute_time_df[('07:00:00~07:59:59', '승차')].apply(lambda x : x.replace(',',''))\n",
      "C:\\Users\\ahasu\\AppData\\Local\\Temp\\ipykernel_9908\\3642604935.py:2: SettingWithCopyWarning: \n",
      "A value is trying to be set on a copy of a slice from a DataFrame.\n",
      "Try using .loc[row_indexer,col_indexer] = value instead\n",
      "\n",
      "See the caveats in the documentation: https://pandas.pydata.org/pandas-docs/stable/user_guide/indexing.html#returning-a-view-versus-a-copy\n",
      "  commute_time_df[('08:00:00~08:59:59', '승차')] = commute_time_df[('08:00:00~08:59:59', '승차')].apply(lambda x : x.replace(',',''))\n",
      "C:\\Users\\ahasu\\AppData\\Local\\Temp\\ipykernel_9908\\3642604935.py:3: SettingWithCopyWarning: \n",
      "A value is trying to be set on a copy of a slice from a DataFrame.\n",
      "Try using .loc[row_indexer,col_indexer] = value instead\n",
      "\n",
      "See the caveats in the documentation: https://pandas.pydata.org/pandas-docs/stable/user_guide/indexing.html#returning-a-view-versus-a-copy\n",
      "  commute_time_df[('09:00:00~09:59:59', '승차')] = commute_time_df[('09:00:00~09:59:59', '승차')].apply(lambda x : x.replace(',',''))\n"
     ]
    },
    {
     "data": {
      "text/html": [
       "<div>\n",
       "<style scoped>\n",
       "    .dataframe tbody tr th:only-of-type {\n",
       "        vertical-align: middle;\n",
       "    }\n",
       "\n",
       "    .dataframe tbody tr th {\n",
       "        vertical-align: top;\n",
       "    }\n",
       "\n",
       "    .dataframe thead tr th {\n",
       "        text-align: left;\n",
       "    }\n",
       "</style>\n",
       "<table border=\"1\" class=\"dataframe\">\n",
       "  <thead>\n",
       "    <tr>\n",
       "      <th></th>\n",
       "      <th>호선명</th>\n",
       "      <th>지하철역</th>\n",
       "      <th>07:00:00~07:59:59</th>\n",
       "      <th>08:00:00~08:59:59</th>\n",
       "      <th>09:00:00~09:59:59</th>\n",
       "    </tr>\n",
       "    <tr>\n",
       "      <th></th>\n",
       "      <th>Unnamed: 1_level_1</th>\n",
       "      <th>Unnamed: 3_level_1</th>\n",
       "      <th>승차</th>\n",
       "      <th>승차</th>\n",
       "      <th>승차</th>\n",
       "    </tr>\n",
       "  </thead>\n",
       "  <tbody>\n",
       "    <tr>\n",
       "      <th>0</th>\n",
       "      <td>1호선</td>\n",
       "      <td>서울역</td>\n",
       "      <td>39233</td>\n",
       "      <td>65106</td>\n",
       "      <td>54833</td>\n",
       "    </tr>\n",
       "    <tr>\n",
       "      <th>1</th>\n",
       "      <td>1호선</td>\n",
       "      <td>시청</td>\n",
       "      <td>6647</td>\n",
       "      <td>8294</td>\n",
       "      <td>9211</td>\n",
       "    </tr>\n",
       "    <tr>\n",
       "      <th>2</th>\n",
       "      <td>1호선</td>\n",
       "      <td>종각</td>\n",
       "      <td>5814</td>\n",
       "      <td>9612</td>\n",
       "      <td>11847</td>\n",
       "    </tr>\n",
       "    <tr>\n",
       "      <th>3</th>\n",
       "      <td>1호선</td>\n",
       "      <td>종로3가</td>\n",
       "      <td>4746</td>\n",
       "      <td>8589</td>\n",
       "      <td>13179</td>\n",
       "    </tr>\n",
       "    <tr>\n",
       "      <th>4</th>\n",
       "      <td>1호선</td>\n",
       "      <td>종로5가</td>\n",
       "      <td>5020</td>\n",
       "      <td>8550</td>\n",
       "      <td>11925</td>\n",
       "    </tr>\n",
       "    <tr>\n",
       "      <th>...</th>\n",
       "      <td>...</td>\n",
       "      <td>...</td>\n",
       "      <td>...</td>\n",
       "      <td>...</td>\n",
       "      <td>...</td>\n",
       "    </tr>\n",
       "    <tr>\n",
       "      <th>610</th>\n",
       "      <td>신림선</td>\n",
       "      <td>당곡</td>\n",
       "      <td>7708</td>\n",
       "      <td>11603</td>\n",
       "      <td>6862</td>\n",
       "    </tr>\n",
       "    <tr>\n",
       "      <th>611</th>\n",
       "      <td>신림선</td>\n",
       "      <td>신림</td>\n",
       "      <td>3099</td>\n",
       "      <td>5402</td>\n",
       "      <td>2941</td>\n",
       "    </tr>\n",
       "    <tr>\n",
       "      <th>612</th>\n",
       "      <td>신림선</td>\n",
       "      <td>서원</td>\n",
       "      <td>8427</td>\n",
       "      <td>12646</td>\n",
       "      <td>7590</td>\n",
       "    </tr>\n",
       "    <tr>\n",
       "      <th>613</th>\n",
       "      <td>신림선</td>\n",
       "      <td>서울대벤처타운</td>\n",
       "      <td>16194</td>\n",
       "      <td>22232</td>\n",
       "      <td>13280</td>\n",
       "    </tr>\n",
       "    <tr>\n",
       "      <th>614</th>\n",
       "      <td>신림선</td>\n",
       "      <td>관악산(서울대)</td>\n",
       "      <td>4086</td>\n",
       "      <td>4382</td>\n",
       "      <td>3446</td>\n",
       "    </tr>\n",
       "  </tbody>\n",
       "</table>\n",
       "<p>615 rows × 5 columns</p>\n",
       "</div>"
      ],
      "text/plain": [
       "                   호선명               지하철역 07:00:00~07:59:59 08:00:00~08:59:59  \\\n",
       "    Unnamed: 1_level_1 Unnamed: 3_level_1                승차                승차   \n",
       "0                  1호선                서울역             39233             65106   \n",
       "1                  1호선                 시청              6647              8294   \n",
       "2                  1호선                 종각              5814              9612   \n",
       "3                  1호선               종로3가              4746              8589   \n",
       "4                  1호선               종로5가              5020              8550   \n",
       "..                 ...                ...               ...               ...   \n",
       "610                신림선                 당곡              7708             11603   \n",
       "611                신림선                 신림              3099              5402   \n",
       "612                신림선                 서원              8427             12646   \n",
       "613                신림선            서울대벤처타운             16194             22232   \n",
       "614                신림선           관악산(서울대)              4086              4382   \n",
       "\n",
       "    09:00:00~09:59:59  \n",
       "                   승차  \n",
       "0               54833  \n",
       "1                9211  \n",
       "2               11847  \n",
       "3               13179  \n",
       "4               11925  \n",
       "..                ...  \n",
       "610              6862  \n",
       "611              2941  \n",
       "612              7590  \n",
       "613             13280  \n",
       "614              3446  \n",
       "\n",
       "[615 rows x 5 columns]"
      ]
     },
     "execution_count": 85,
     "metadata": {},
     "output_type": "execute_result"
    }
   ],
   "source": [
    "commute_time_df[('07:00:00~07:59:59', '승차')] = commute_time_df[('07:00:00~07:59:59', '승차')].apply(lambda x : x.replace(',',''))\n",
    "commute_time_df[('08:00:00~08:59:59', '승차')] = commute_time_df[('08:00:00~08:59:59', '승차')].apply(lambda x : x.replace(',',''))\n",
    "commute_time_df[('09:00:00~09:59:59', '승차')] = commute_time_df[('09:00:00~09:59:59', '승차')].apply(lambda x : x.replace(',',''))\n",
    "commute_time_df"
   ]
  },
  {
   "cell_type": "code",
   "execution_count": 86,
   "id": "eb5d8d53",
   "metadata": {},
   "outputs": [
    {
     "data": {
      "text/plain": [
       "호선명                Unnamed: 1_level_1    object\n",
       "지하철역               Unnamed: 3_level_1    object\n",
       "07:00:00~07:59:59  승차                     int64\n",
       "08:00:00~08:59:59  승차                     int64\n",
       "09:00:00~09:59:59  승차                     int64\n",
       "dtype: object"
      ]
     },
     "execution_count": 86,
     "metadata": {},
     "output_type": "execute_result"
    }
   ],
   "source": [
    "commute_time_df = commute_time_df.astype({('07:00:00~07:59:59', '승차'):'int64'})\n",
    "commute_time_df = commute_time_df.astype({('08:00:00~08:59:59', '승차'):'int64'})\n",
    "commute_time_df = commute_time_df.astype({('09:00:00~09:59:59', '승차'):'int64'})\n",
    "commute_time_df.dtypes"
   ]
  },
  {
   "cell_type": "code",
   "execution_count": 87,
   "id": "a884336a",
   "metadata": {
    "collapsed": true
   },
   "outputs": [
    {
     "name": "stderr",
     "output_type": "stream",
     "text": [
      "C:\\Users\\ahasu\\AppData\\Local\\Temp\\ipykernel_9908\\1623111422.py:1: FutureWarning: Dropping of nuisance columns in DataFrame reductions (with 'numeric_only=None') is deprecated; in a future version this will raise TypeError.  Select only valid columns before calling the reduction.\n",
      "  row_sum_df = commute_time_df.sum(axis=1)\n"
     ]
    }
   ],
   "source": [
    "row_sum_df = commute_time_df.sum(axis=1)\n",
    "passenger_number_list = row_sum_df.to_list()"
   ]
  },
  {
   "cell_type": "code",
   "execution_count": 88,
   "id": "76b1ad52",
   "metadata": {
    "scrolled": true
   },
   "outputs": [
    {
     "data": {
      "text/plain": [
       "638753"
      ]
     },
     "execution_count": 88,
     "metadata": {},
     "output_type": "execute_result"
    }
   ],
   "source": [
    "max_number = row_sum_df.max(axis=0) # 해당 열에서 최대값 찾기\n",
    "max_number"
   ]
  },
  {
   "cell_type": "code",
   "execution_count": 125,
   "id": "75da87b6",
   "metadata": {},
   "outputs": [
    {
     "name": "stdout",
     "output_type": "stream",
     "text": [
      "출근 시간대 최대 승차 인원역: 2호선 신림 638,753명\n"
     ]
    }
   ],
   "source": [
    "max_index = row_sum_df.idxmax()\n",
    "max_line, max_station = df.iloc[max_index, [1, 3]] # [1]: 호선,[3]: 지하철역명\n",
    "print('출근 시간대 최대 승차 인원역: {0} {1} {2:,}명'.format(max_line,max_station, max_number))"
   ]
  },
  {
   "cell_type": "code",
   "execution_count": 90,
   "id": "4b9a0da9",
   "metadata": {},
   "outputs": [
    {
     "data": {
      "image/png": "[encoded data removed]",
      "text/plain": [
       "<Figure size 600x400 with 1 Axes>"
      ]
     },
     "metadata": {
      "needs_background": "light"
     },
     "output_type": "display_data"
    }
   ],
   "source": [
    "import matplotlib.pyplot as plt\n",
    "passenger_number_list.sort(reverse=True)\n",
    "plt.figure(dpi=100)\n",
    "plt.bar(range(len(passenger_number_list)), passenger_number_list)\n",
    "plt.show()"
   ]
  },
  {
   "cell_type": "code",
   "execution_count": null,
   "id": "16b48776",
   "metadata": {},
   "outputs": [],
   "source": [
    "#35 수정 -> 영어로 보면 됨\n",
    "# df.idxmax() -> 최대값이 있는 인덱스 출력\n",
    "# df.iloc[max_index, [1,3]] -> 원본에서 최대값 index의 지하철역 정보를 찾음\n",
    "# 잘라낸 df에서 최대값과 인덱스값을 뽑아낸 것은 원본 DF에다가 써야 함\n",
    "# 쉽게 잘라가면서 df를 작게 만들어가고 -> 조건에 맞는 인덱스를 찾아 -> 원본 df에다가 적어서 뽑아\n",
    "# 아예 원본 df를 새로 만든다는 생각으로 하든지\n",
    "# -> but, 일부 데이터 뽑아서 하려면 오류가 생길 확률이 높다고 함\n",
    "\n",
    "# DF를 리스트로 변환 -> matplotlib에서 그래프를 그리기 위해서\n",
    "# 판다스 #4 슬라이스\n",
    "\n",
    "# 같은 패턴이니까 과제의 경우, 1호선만 하면 7호선까지 죽 파면 됨\n",
    "# 한번에 다 하지 말고, 1호선만 해보고, 정상 동작 되면 -> 7호선까지 컬럼만 바꿔가면서 죽\n",
    "# 인덱스 처리 주의"
   ]
  },
  {
   "cell_type": "code",
   "execution_count": 129,
   "id": "7d42c8c3",
   "metadata": {},
   "outputs": [],
   "source": [
    "# 한수씨 오류 잡아서 역으로 올라가는 과정 => 흐름타고 역으로 올라가면서 왜 그런지 알 것"
   ]
  },
  {
   "cell_type": "code",
   "execution_count": null,
   "id": "3ca63b1a",
   "metadata": {},
   "outputs": [],
   "source": []
  }
 ],
 "metadata": {
  "kernelspec": {
   "display_name": "Python 3 (ipykernel)",
   "language": "python",
   "name": "python3"
  },
  "language_info": {
   "codemirror_mode": {
    "name": "ipython",
    "version": 3
   },
   "file_extension": ".py",
   "mimetype": "text/x-python",
   "name": "python",
   "nbconvert_exporter": "python",
   "pygments_lexer": "ipython3",
   "version": "3.9.12"
  }
 },
 "nbformat": 4,
 "nbformat_minor": 5
}
