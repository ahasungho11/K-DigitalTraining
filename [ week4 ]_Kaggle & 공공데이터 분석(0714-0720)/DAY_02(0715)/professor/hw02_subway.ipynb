{
 "cells": [
  {
   "cell_type": "markdown",
   "metadata": {
    "pycharm": {
     "name": "#%% md\n"
    }
   },
   "source": [
    "# 과제 2. 출근 시간대 지하철 노선별 최대 하차 인원 및 해당 지하철 역을 구하시오\n",
    "## - 출근시간대: 07:00 ~ 08:59"
   ]
  },
  {
   "cell_type": "code",
   "execution_count": 2,
   "metadata": {
    "pycharm": {
     "name": "#%%\n"
    }
   },
   "outputs": [],
   "source": [
    "import pandas as pd\n",
    "import matplotlib.pyplot as plt\n",
    "import platform"
   ]
  },
  {
   "cell_type": "code",
   "execution_count": 3,
   "metadata": {
    "pycharm": {
     "name": "#%%\n"
    }
   },
   "outputs": [
    {
     "data": {
      "text/plain": [
       "MultiIndex([(              '호선명', 'Unnamed: 1_level_1'),\n",
       "            (             '지하철역', 'Unnamed: 3_level_1'),\n",
       "            ('07:00:00~07:59:59',                 '하차'),\n",
       "            ('08:00:00~08:59:59',                 '하차')],\n",
       "           )"
      ]
     },
     "execution_count": 3,
     "metadata": {},
     "output_type": "execute_result"
    }
   ],
   "source": [
    "df = pd.read_excel('subway.xls', sheet_name='지하철 시간대별 이용현황', header=[0, 1])\n",
    "commute_time_df = df.iloc[:, [1, 3, 11, 13]].copy()\n",
    "commute_time_df.columns"
   ]
  },
  {
   "cell_type": "markdown",
   "metadata": {
    "pycharm": {
     "name": "#%% md\n"
    }
   },
   "source": [
    "## 천단위 콤마 제거\n",
    "#### - replace(',', '')\n",
    "## object 타입의 데이터를 정수형(int64)로 변경\n",
    "#### - df.astype({'컬럼명' : 'int64'})"
   ]
  },
  {
   "cell_type": "code",
   "execution_count": 4,
   "metadata": {
    "pycharm": {
     "name": "#%%\n"
    }
   },
   "outputs": [
    {
     "data": {
      "text/html": [
       "<div>\n",
       "<style scoped>\n",
       "    .dataframe tbody tr th:only-of-type {\n",
       "        vertical-align: middle;\n",
       "    }\n",
       "\n",
       "    .dataframe tbody tr th {\n",
       "        vertical-align: top;\n",
       "    }\n",
       "\n",
       "    .dataframe thead tr th {\n",
       "        text-align: left;\n",
       "    }\n",
       "</style>\n",
       "<table border=\"1\" class=\"dataframe\">\n",
       "  <thead>\n",
       "    <tr>\n",
       "      <th></th>\n",
       "      <th>호선명</th>\n",
       "      <th>지하철역</th>\n",
       "      <th>07:00:00~07:59:59</th>\n",
       "      <th>08:00:00~08:59:59</th>\n",
       "      <th>총하차인원</th>\n",
       "    </tr>\n",
       "    <tr>\n",
       "      <th></th>\n",
       "      <th>Unnamed: 1_level_1</th>\n",
       "      <th>Unnamed: 3_level_1</th>\n",
       "      <th>하차</th>\n",
       "      <th>하차</th>\n",
       "      <th></th>\n",
       "    </tr>\n",
       "  </thead>\n",
       "  <tbody>\n",
       "    <tr>\n",
       "      <th>0</th>\n",
       "      <td>1호선</td>\n",
       "      <td>서울역</td>\n",
       "      <td>100397</td>\n",
       "      <td>201687</td>\n",
       "      <td>302084</td>\n",
       "    </tr>\n",
       "    <tr>\n",
       "      <th>1</th>\n",
       "      <td>1호선</td>\n",
       "      <td>시청</td>\n",
       "      <td>62427</td>\n",
       "      <td>179710</td>\n",
       "      <td>242137</td>\n",
       "    </tr>\n",
       "    <tr>\n",
       "      <th>2</th>\n",
       "      <td>1호선</td>\n",
       "      <td>종각</td>\n",
       "      <td>95376</td>\n",
       "      <td>235160</td>\n",
       "      <td>330536</td>\n",
       "    </tr>\n",
       "    <tr>\n",
       "      <th>3</th>\n",
       "      <td>1호선</td>\n",
       "      <td>종로3가</td>\n",
       "      <td>25469</td>\n",
       "      <td>68699</td>\n",
       "      <td>94168</td>\n",
       "    </tr>\n",
       "    <tr>\n",
       "      <th>4</th>\n",
       "      <td>1호선</td>\n",
       "      <td>종로5가</td>\n",
       "      <td>41304</td>\n",
       "      <td>96113</td>\n",
       "      <td>137417</td>\n",
       "    </tr>\n",
       "  </tbody>\n",
       "</table>\n",
       "</div>"
      ],
      "text/plain": [
       "                 호선명               지하철역 07:00:00~07:59:59 08:00:00~08:59:59  \\\n",
       "  Unnamed: 1_level_1 Unnamed: 3_level_1                하차                하차   \n",
       "0                1호선                서울역            100397            201687   \n",
       "1                1호선                 시청             62427            179710   \n",
       "2                1호선                 종각             95376            235160   \n",
       "3                1호선               종로3가             25469             68699   \n",
       "4                1호선               종로5가             41304             96113   \n",
       "\n",
       "    총하차인원  \n",
       "           \n",
       "0  302084  \n",
       "1  242137  \n",
       "2  330536  \n",
       "3   94168  \n",
       "4  137417  "
      ]
     },
     "execution_count": 4,
     "metadata": {},
     "output_type": "execute_result"
    }
   ],
   "source": [
    "# 천단위 콤마 제거 및  데이터 타입 변경\n",
    "commute_time_df[('07:00:00~07:59:59', '하차')] = commute_time_df[('07:00:00~07:59:59', '하차')].apply(lambda x : x.replace(',',''))\n",
    "commute_time_df[('08:00:00~08:59:59', '하차')] = commute_time_df[('08:00:00~08:59:59', '하차')].apply(lambda x : x.replace(',',''))\n",
    "\n",
    "commute_time_df = commute_time_df.astype({('07:00:00~07:59:59', '하차'):'int64'})\n",
    "commute_time_df = commute_time_df.astype({('08:00:00~08:59:59', '하차'):'int64'})\n",
    "\n",
    "# '총하차 인원' 컬럼 추가\n",
    "commute_time_df['총하차인원'] = commute_time_df.sum(axis=1, numeric_only=True)\n",
    "commute_time_df.head()"
   ]
  },
  {
   "cell_type": "markdown",
   "metadata": {
    "pycharm": {
     "name": "#%% md\n"
    }
   },
   "source": [
    "## ['총하차인원'] 컬럼을 기준으로 내림차순 정렬 후 첫 번째 행의 데이터를 가져옴 (최대값)\n",
    "#### - 내림차순 정렬: sort_values(by=['컬럼명'], ascending=False)"
   ]
  },
  {
   "cell_type": "code",
   "execution_count": 5,
   "metadata": {
    "pycharm": {
     "name": "#%%\n"
    }
   },
   "outputs": [
    {
     "name": "stdout",
     "output_type": "stream",
     "text": [
      "출근 시간대 1호선 최대 하차역은 종각역이고 하차 인원은 330,536명 입니다.:\n",
      "출근 시간대 2호선 최대 하차역은 역삼역이고 하차 인원은 479,969명 입니다.:\n",
      "출근 시간대 3호선 최대 하차역은 양재(서초구청)역이고 하차 인원은 331,279명 입니다.:\n",
      "출근 시간대 4호선 최대 하차역은 충무로역이고 하차 인원은 208,776명 입니다.:\n",
      "출근 시간대 5호선 최대 하차역은 여의도역이고 하차 인원은 352,602명 입니다.:\n",
      "출근 시간대 6호선 최대 하차역은 공덕역이고 하차 인원은 134,342명 입니다.:\n",
      "출근 시간대 7호선 최대 하차역은 가산디지털단지역이고 하차 인원은 486,420명 입니다.:\n"
     ]
    }
   ],
   "source": [
    "max_num_list = []\n",
    "max_station_list = []\n",
    "xtick_list = []\n",
    "for i in range(7):\n",
    "    line = commute_time_df[('호선명', 'Unnamed: 1_level_1')] == str(i+1) + '호선'\n",
    "    line_df = commute_time_df.loc[line]\n",
    "    # 마지막 컬럼인 [총하차인원]을 기준으로 내림차순 정렬\n",
    "    sorted_df = line_df.sort_values(by=['총하차인원'], ascending=False)\n",
    "\n",
    "    max_info = sorted_df.head(1)\n",
    "\n",
    "    # 각 라인별 최대 하차수 및 지하철 정보 저장\n",
    "    # 첫 번째 행의 [1]: 지하철역 이름, [4]: 총인원수\n",
    "    max_station, max_num = max_info.iloc[0, [1, 4]]\n",
    "    max_num_list.append(max_num)\n",
    "    max_station_list.append(max_station)\n",
    "    xtick_list.append(str(i+1) + '호선:' + max_station)\n",
    "    print('출근 시간대 {}호선 최대 하차역은 {}역이고 하차 인원은 {:,}명 입니다.:'.format(i+1, max_station, max_num))"
   ]
  },
  {
   "cell_type": "code",
   "execution_count": 8,
   "metadata": {
    "pycharm": {
     "name": "#%%\n"
    }
   },
   "outputs": [
    {
     "name": "stdout",
     "output_type": "stream",
     "text": [
      "['1호선:종각', '2호선:역삼', '3호선:양재(서초구청)', '4호선:충무로', '5호선:여의도', '6호선:공덕', '7호선:가산디지털단지']\n"
     ]
    },
    {
     "data": {
      "image/png": "[encoded data removed]",
      "text/plain": [
       "<Figure size 600x400 with 1 Axes>"
      ]
     },
     "metadata": {
      "needs_background": "light"
     },
     "output_type": "display_data"
    }
   ],
   "source": [
    "print(xtick_list)\n",
    "if platform.system() == 'Windows':\n",
    "    plt.rc('font', family='Malgun Gothic')\n",
    "elif platform.system() == 'Darwin':\n",
    "    plt.rc('font', family='AppleGothic')\n",
    "else:\n",
    "    print('지원하지 않는 시스템입니다. ')\n",
    "\n",
    "plt.figure(dpi=100)\n",
    "plt.bar(range(7), max_num_list)\n",
    "plt.xticks(range(7), xtick_list, rotation=80)\n",
    "plt.title('출근 시간대 지하철 노선별 최대 하차 인원 및 하차역')\n",
    "plt.show()\n"
   ]
  },
  {
   "cell_type": "code",
   "execution_count": 6,
   "metadata": {
    "pycharm": {
     "name": "#%%\n"
    }
   },
   "outputs": [],
   "source": []
  }
 ],
 "metadata": {
  "kernelspec": {
   "display_name": "Python 3 (ipykernel)",
   "language": "python",
   "name": "python3"
  },
  "language_info": {
   "codemirror_mode": {
    "name": "ipython",
    "version": 3
   },
   "file_extension": ".py",
   "mimetype": "text/x-python",
   "name": "python",
   "nbconvert_exporter": "python",
   "pygments_lexer": "ipython3",
   "version": "3.9.12"
  }
 },
 "nbformat": 4,
 "nbformat_minor": 1
}
