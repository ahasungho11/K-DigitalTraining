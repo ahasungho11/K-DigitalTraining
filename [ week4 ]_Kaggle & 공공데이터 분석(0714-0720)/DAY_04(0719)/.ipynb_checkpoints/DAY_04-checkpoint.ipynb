{
 "cells": [
  {
   "cell_type": "markdown",
   "id": "e6c1d83f",
   "metadata": {},
   "source": [
    "# 행정 구역별 공공보건의료기관 분석\n",
    "\n",
    "- concat(연관x 붙임 ), merge(연관 o 붙임)  \n",
    "- 공통된 사항 묶어서 새로운 DF 만드는게 목적이지 (전처리의 일환)  \n",
    "- 파일 열어 보고, 필요한 일부만 확인 -> ex) 주소  \n",
    "- 특이점 확인 => 전처리해야함    ex) 경남 vs. 경상남도  "
   ]
  },
  {
   "cell_type": "code",
   "execution_count": 52,
   "id": "4f3cc0bd",
   "metadata": {},
   "outputs": [
    {
     "name": "stdout",
     "output_type": "stream",
     "text": [
      "Index(['병원 명', '설립형태', '근거 법령', '관계 행정기관', '관계 공공단체', '심평원 요양기관번호', '종별구분',\n",
      "       '병상수', '소재지 우편번호', '주소', '홈페이지', '대표전화', 'FAX', '비고'],\n",
      "      dtype='object')\n"
     ]
    },
    {
     "data": {
      "text/html": [
       "<div>\n",
       "<style scoped>\n",
       "    .dataframe tbody tr th:only-of-type {\n",
       "        vertical-align: middle;\n",
       "    }\n",
       "\n",
       "    .dataframe tbody tr th {\n",
       "        vertical-align: top;\n",
       "    }\n",
       "\n",
       "    .dataframe thead th {\n",
       "        text-align: right;\n",
       "    }\n",
       "</style>\n",
       "<table border=\"1\" class=\"dataframe\">\n",
       "  <thead>\n",
       "    <tr style=\"text-align: right;\">\n",
       "      <th></th>\n",
       "      <th>병원 명</th>\n",
       "      <th>설립형태</th>\n",
       "      <th>근거 법령</th>\n",
       "      <th>관계 행정기관</th>\n",
       "      <th>관계 공공단체</th>\n",
       "      <th>심평원 요양기관번호</th>\n",
       "      <th>종별구분</th>\n",
       "      <th>병상수</th>\n",
       "      <th>소재지 우편번호</th>\n",
       "      <th>주소</th>\n",
       "      <th>홈페이지</th>\n",
       "      <th>대표전화</th>\n",
       "      <th>FAX</th>\n",
       "      <th>비고</th>\n",
       "    </tr>\n",
       "    <tr>\n",
       "      <th>연번</th>\n",
       "      <th></th>\n",
       "      <th></th>\n",
       "      <th></th>\n",
       "      <th></th>\n",
       "      <th></th>\n",
       "      <th></th>\n",
       "      <th></th>\n",
       "      <th></th>\n",
       "      <th></th>\n",
       "      <th></th>\n",
       "      <th></th>\n",
       "      <th></th>\n",
       "      <th></th>\n",
       "      <th></th>\n",
       "    </tr>\n",
       "  </thead>\n",
       "  <tbody>\n",
       "    <tr>\n",
       "      <th>1</th>\n",
       "      <td>강원도 재활병원</td>\n",
       "      <td>시도립</td>\n",
       "      <td>강원도재활병원설치및운영에관한조례</td>\n",
       "      <td>강원도</td>\n",
       "      <td>해당없음</td>\n",
       "      <td>32200641</td>\n",
       "      <td>병원</td>\n",
       "      <td>165</td>\n",
       "      <td>24227</td>\n",
       "      <td>강원도 춘천시 충열로 142번길 24-16</td>\n",
       "      <td>www.grh.or.kr</td>\n",
       "      <td>033-248-7700</td>\n",
       "      <td>033-248-7723</td>\n",
       "      <td>NaN</td>\n",
       "    </tr>\n",
       "    <tr>\n",
       "      <th>2</th>\n",
       "      <td>강원도 삼척의료원</td>\n",
       "      <td>특수법인</td>\n",
       "      <td>지방의료원의 설립 및 운영에 관한 법률</td>\n",
       "      <td>보건복지부(강원도)</td>\n",
       "      <td>지방의료원</td>\n",
       "      <td>32100060</td>\n",
       "      <td>종합병원</td>\n",
       "      <td>152</td>\n",
       "      <td>25920</td>\n",
       "      <td>강원도 삼척시 오십천로 418</td>\n",
       "      <td>http://ksmc.or.kr</td>\n",
       "      <td>033-572-1141</td>\n",
       "      <td>033-573-8424</td>\n",
       "      <td>NaN</td>\n",
       "    </tr>\n",
       "    <tr>\n",
       "      <th>3</th>\n",
       "      <td>강원도 영월의료원</td>\n",
       "      <td>특수법인</td>\n",
       "      <td>지방의료원의 설립 및 운영에 관한 법률</td>\n",
       "      <td>보건복지부(강원도)</td>\n",
       "      <td>지방의료원</td>\n",
       "      <td>32100078</td>\n",
       "      <td>종합병원</td>\n",
       "      <td>214</td>\n",
       "      <td>26234</td>\n",
       "      <td>강원도 영월군 영월읍 중앙1로 59</td>\n",
       "      <td>http://www.youngwol.org</td>\n",
       "      <td>033-370-9117</td>\n",
       "      <td>033-370-9137</td>\n",
       "      <td>NaN</td>\n",
       "    </tr>\n",
       "    <tr>\n",
       "      <th>4</th>\n",
       "      <td>강원도 원주의료원</td>\n",
       "      <td>특수법인</td>\n",
       "      <td>지방의료원의 설립 및 운영에 관한 법률</td>\n",
       "      <td>보건복지부(강원도)</td>\n",
       "      <td>지방의료원</td>\n",
       "      <td>32100086</td>\n",
       "      <td>종합병원</td>\n",
       "      <td>237</td>\n",
       "      <td>26448</td>\n",
       "      <td>강원도 원주시 서원대로 387(개운동)</td>\n",
       "      <td>www.kwmc.or.kr</td>\n",
       "      <td>033-760-4500</td>\n",
       "      <td>033-761-5121</td>\n",
       "      <td>NaN</td>\n",
       "    </tr>\n",
       "    <tr>\n",
       "      <th>5</th>\n",
       "      <td>강원도 강릉의료원</td>\n",
       "      <td>특수법인</td>\n",
       "      <td>지방의료원의 설립 및 운영에 관한 법률</td>\n",
       "      <td>보건복지부(강원도)</td>\n",
       "      <td>지방의료원</td>\n",
       "      <td>32100159</td>\n",
       "      <td>종합병원</td>\n",
       "      <td>137</td>\n",
       "      <td>25535</td>\n",
       "      <td>강원도 강릉시 경강로 2007(남문동 164-1)</td>\n",
       "      <td>http://www.gnmc.or.kr</td>\n",
       "      <td>033-646-6910</td>\n",
       "      <td>033-610-1415</td>\n",
       "      <td>NaN</td>\n",
       "    </tr>\n",
       "  </tbody>\n",
       "</table>\n",
       "</div>"
      ],
      "text/plain": [
       "         병원 명  설립형태                  근거 법령     관계 행정기관 관계 공공단체  심평원 요양기관번호  \\\n",
       "연번                                                                           \n",
       "1    강원도 재활병원   시도립      강원도재활병원설치및운영에관한조례         강원도    해당없음    32200641   \n",
       "2   강원도 삼척의료원  특수법인  지방의료원의 설립 및 운영에 관한 법률  보건복지부(강원도)   지방의료원    32100060   \n",
       "3   강원도 영월의료원  특수법인  지방의료원의 설립 및 운영에 관한 법률  보건복지부(강원도)   지방의료원    32100078   \n",
       "4   강원도 원주의료원  특수법인  지방의료원의 설립 및 운영에 관한 법률  보건복지부(강원도)   지방의료원    32100086   \n",
       "5   강원도 강릉의료원  특수법인  지방의료원의 설립 및 운영에 관한 법률  보건복지부(강원도)   지방의료원    32100159   \n",
       "\n",
       "    종별구분  병상수 소재지 우편번호                           주소                     홈페이지  \\\n",
       "연번                                                                             \n",
       "1     병원  165    24227      강원도 춘천시 충열로 142번길 24-16            www.grh.or.kr   \n",
       "2   종합병원  152    25920             강원도 삼척시 오십천로 418        http://ksmc.or.kr   \n",
       "3   종합병원  214    26234          강원도 영월군 영월읍 중앙1로 59  http://www.youngwol.org   \n",
       "4   종합병원  237    26448        강원도 원주시 서원대로 387(개운동)           www.kwmc.or.kr   \n",
       "5   종합병원  137    25535  강원도 강릉시 경강로 2007(남문동 164-1)    http://www.gnmc.or.kr   \n",
       "\n",
       "            대표전화           FAX   비고  \n",
       "연번                                   \n",
       "1   033-248-7700  033-248-7723  NaN  \n",
       "2   033-572-1141  033-573-8424  NaN  \n",
       "3   033-370-9117  033-370-9137  NaN  \n",
       "4   033-760-4500  033-761-5121  NaN  \n",
       "5   033-646-6910  033-610-1415  NaN  "
      ]
     },
     "execution_count": 52,
     "metadata": {},
     "output_type": "execute_result"
    }
   ],
   "source": [
    "import pandas as pd\n",
    "import numpy as np\n",
    "\n",
    "data = pd.read_csv('공공보건의료기관현황.csv', index_col=0, encoding='euc_kr')\n",
    "print(data.columns)\n",
    "data.head()"
   ]
  },
  {
   "cell_type": "markdown",
   "id": "364f4f26",
   "metadata": {},
   "source": [
    "### ['시도'] 컬럼에서 고유한 값 찾기"
   ]
  },
  {
   "cell_type": "code",
   "execution_count": 53,
   "id": "2d0fe490",
   "metadata": {},
   "outputs": [
    {
     "ename": "SyntaxError",
     "evalue": "invalid syntax (2957555140.py, line 3)",
     "output_type": "error",
     "traceback": [
      "\u001b[1;36m  Input \u001b[1;32mIn [53]\u001b[1;36m\u001b[0m\n\u001b[1;33m    addr = addr['주소'].apply(lambda v:v.split()[:2])컬럼에서 고유한 값 찾기\u001b[0m\n\u001b[1;37m                                                   ^\u001b[0m\n\u001b[1;31mSyntaxError\u001b[0m\u001b[1;31m:\u001b[0m invalid syntax\n"
     ]
    }
   ],
   "source": [
    "# 주소에서 시도, 군구 정보 분리 (-> 새로운 DF 만들기)\n",
    "addr = pd.DataFrame(data['주소'])\n",
    "addr = addr['주소'].apply(lambda v:v.split()[:2])컬럼에서 고유한 값 찾기\n",
    "addr = pd.DataFrame(addr.tolist(), columns=('시도', '군구'))\n",
    "addr"
   ]
  },
  {
   "cell_type": "code",
   "execution_count": null,
   "id": "52294be4",
   "metadata": {},
   "outputs": [],
   "source": [
    "print(addr['시도'].unique())  # 경산시, 창원시 등 수정할 것 있음\n",
    "print()\n",
    "print(addr['시도'].unique)"
   ]
  },
  {
   "cell_type": "code",
   "execution_count": null,
   "id": "a9ce4c47",
   "metadata": {},
   "outputs": [],
   "source": [
    "addr[addr['시도'] == '창원시']\n",
    "# '경상남도 창원시' 까지만 필요,\n",
    "# '의창구,마산합포구3.15대로'는 필요가없지"
   ]
  },
  {
   "cell_type": "code",
   "execution_count": null,
   "id": "767dcbf0",
   "metadata": {},
   "outputs": [],
   "source": [
    "addr.iloc[27] = ['경상남도', '창원시']\n",
    "addr.iloc[31] = ['경상남도', '창원시']\n",
    "addr.iloc[31]"
   ]
  },
  {
   "cell_type": "code",
   "execution_count": null,
   "id": "90067176",
   "metadata": {},
   "outputs": [],
   "source": [
    "# 바꿔야 할 '경산시' 확인\n",
    "addr[addr['시도']=='경산시']\n",
    "addr.iloc[47] = ['경상북도', '경산시']\n",
    "addr.iloc[47]"
   ]
  },
  {
   "cell_type": "code",
   "execution_count": null,
   "id": "61bd9699",
   "metadata": {
    "scrolled": false
   },
   "outputs": [],
   "source": [
    "# 바꿔야 할 '천안시' 확인\n",
    "# addr[addr['시도']=='천안시']\n",
    "addr.iloc[209] = ['충청남도', '천안시']\n",
    "addr.iloc[210] = ['충청남도', '천안시']\n",
    "addr.iloc[209]\n",
    "addr.iloc[210]"
   ]
  },
  {
   "cell_type": "code",
   "execution_count": null,
   "id": "aae99b15",
   "metadata": {},
   "outputs": [],
   "source": [
    "# 현재 수정 필요한 것들 전처리 해 주는 과정 중입니다"
   ]
  },
  {
   "cell_type": "code",
   "execution_count": null,
   "id": "cb8423e4",
   "metadata": {},
   "outputs": [],
   "source": [
    "# \n",
    "# 시도 이름을 표준 이름으로 변경\n",
    "addr_aliases = {'경기':'경기도', '경남':'경상남도', '경북':'경상북도',\n",
    "                '충북':'충청북도', '서울시':'서울특별시', '부산특별시':'부산광역시',\n",
    "                '대전시':'대전광역시', '충남':'충청남도', '전남':'전라남도', '전북':'전라북도'}\n",
    "\n",
    "addr['시도'] = addr['시도'].apply(lambda v: addr_aliases.get(v, v))\n",
    "# dict.get(key[,default]) => 생략가능\n",
    "# -> key에 해당하는 값이 없으면 default값을 리턴\n",
    "# -> key에 적어놓은 것을 우선적으로 해서, 원하는 대로 채우고자 함"
   ]
  },
  {
   "cell_type": "code",
   "execution_count": null,
   "id": "b1e0a9f5",
   "metadata": {},
   "outputs": [],
   "source": [
    "print(addr['시도'].unique())\n",
    "# 확인해보면 정상적으로 다 바뀐 것을 알 수 있음\n",
    "# unique() 활용!!"
   ]
  },
  {
   "cell_type": "code",
   "execution_count": null,
   "id": "735ab7f2",
   "metadata": {},
   "outputs": [],
   "source": [
    "# 군구 이름 확인\n",
    "print(addr['군구'].unique())"
   ]
  },
  {
   "cell_type": "code",
   "execution_count": null,
   "id": "15521b9c",
   "metadata": {},
   "outputs": [],
   "source": [
    "# '도,시'의 정보만 필요하니까, '아란13길'의 위치 확인 후 수정\n",
    "addr[addr['군구']=='아란13길']\n",
    "# 제주도였구나, 해당 DF로 찾든, 웹에서 지도를 찾든"
   ]
  },
  {
   "cell_type": "code",
   "execution_count": null,
   "id": "cd21c524",
   "metadata": {},
   "outputs": [],
   "source": [
    "addr.iloc[75] = ['제주특별자도','제주시']\n",
    "addr.iloc[75]"
   ]
  },
  {
   "cell_type": "code",
   "execution_count": null,
   "id": "3dc9c0e4",
   "metadata": {},
   "outputs": [],
   "source": [
    "# 제대로 되었는지 재확인\n",
    "print(addr['군구'].unique())"
   ]
  },
  {
   "cell_type": "code",
   "execution_count": null,
   "id": "15695962",
   "metadata": {},
   "outputs": [],
   "source": [
    "# 가로축의 시도, 군구 내용을 합침\n",
    "addr['시도군구'] = addr.apply(lambda r: r['시도'] + ' ' + r['군구'], axis=1)\n",
    "addr.head()"
   ]
  },
  {
   "cell_type": "code",
   "execution_count": null,
   "id": "1b9cade3",
   "metadata": {},
   "outputs": [],
   "source": [
    "# 'count'컬럼 추가 (for 공공의료 기관의 개수 확인)\n",
    "addr['count'] = 0\n",
    "addr.head()"
   ]
  },
  {
   "cell_type": "code",
   "execution_count": null,
   "id": "3a35039b",
   "metadata": {},
   "outputs": [],
   "source": [
    "# 행정구역별 공공보건의료기관의 수 구하기\n",
    "addr_group = pd.DataFrame(addr.groupby(['시도','군구','시도군구'], as_index=False).count())\n",
    "# 그룹화 한 것을 인덱스로 사용하지 않겠다는 것 (그냥 count용으로만 쓸거니까)\n",
    "addr_group.head()"
   ]
  },
  {
   "cell_type": "code",
   "execution_count": null,
   "id": "c73131d5",
   "metadata": {},
   "outputs": [],
   "source": [
    "addr_group = addr_group.set_index('시도군구')\n",
    "addr_group.head()"
   ]
  },
  {
   "cell_type": "markdown",
   "id": "ceed5823",
   "metadata": {},
   "source": [
    "# 행정구역별 인구 데이터 준비"
   ]
  },
  {
   "cell_type": "code",
   "execution_count": null,
   "id": "66dbcae2",
   "metadata": {},
   "outputs": [],
   "source": [
    "# 다운받은 것을 수정한 엑셀 파일임\n",
    "population = pd.read_excel('행정구역시군구별_성별인구수.xlsx')\n",
    "population.head()"
   ]
  },
  {
   "cell_type": "code",
   "execution_count": null,
   "id": "42fc6347",
   "metadata": {},
   "outputs": [],
   "source": [
    "# 앞에서 전처리한 파일과 동일하게 맞춰주기 위한 작업\n",
    "# 컬럼의 이름 변경\n",
    "population = population.rename(columns = {'행정구역(시군구)별(1)':'시도','행정구역(시군구)별(2)':'군구'})\n",
    "population.head()"
   ]
  },
  {
   "cell_type": "code",
   "execution_count": null,
   "id": "89f444c0",
   "metadata": {},
   "outputs": [],
   "source": [
    "# 병합에 사용할 공통 컬럼 추가\n",
    "# ['군구'] 컬럼에서 공백부터 제거\n",
    "# element는 index로 생각해버리셈\n",
    "row_count = population.shape[0]\n",
    "for element in range(0, row_count):\n",
    "    population['군구'][element] = population['군구'][element].strip()"
   ]
  },
  {
   "cell_type": "code",
   "execution_count": null,
   "id": "fed4eb53",
   "metadata": {},
   "outputs": [],
   "source": [
    "# ['시도']와 ['군구'] 연결하여 ['시도군구'] 컬럼 추가\n",
    "\n",
    "# r을 DF로 생각하고, 콜론(:)을 기준으로 나눠 지는 것, 인수 개수 무관\n",
    "# 인자 : 수식 형태 => 인수가 수식에 전달 => 연산의 결과가 앞에 있는 변수로 전달\n",
    "# population. 이니까 r이 DF로 들어가는 것\n",
    "# 변수에 넣든지, 새로운 것을 만들든지는 선택이지 (결국 같긴하지)\n",
    "# 람다 앞에 있는 객체의 성질을 따른다고 보자 (여기서는 population이 DF니까 Df)\n",
    "population['시도군구'] = population.apply(lambda r : r['시도'] + ' ' + r['군구'], axis =1)\n",
    "population.head()"
   ]
  },
  {
   "cell_type": "code",
   "execution_count": 54,
   "id": "a6256b67",
   "metadata": {
    "collapsed": true
   },
   "outputs": [
    {
     "data": {
      "text/html": [
       "<div>\n",
       "<style scoped>\n",
       "    .dataframe tbody tr th:only-of-type {\n",
       "        vertical-align: middle;\n",
       "    }\n",
       "\n",
       "    .dataframe tbody tr th {\n",
       "        vertical-align: top;\n",
       "    }\n",
       "\n",
       "    .dataframe thead th {\n",
       "        text-align: right;\n",
       "    }\n",
       "</style>\n",
       "<table border=\"1\" class=\"dataframe\">\n",
       "  <thead>\n",
       "    <tr style=\"text-align: right;\">\n",
       "      <th></th>\n",
       "      <th>시도</th>\n",
       "      <th>군구</th>\n",
       "      <th>총인구수 (명)</th>\n",
       "      <th>남자인구수 (명)</th>\n",
       "      <th>여자인구수 (명)</th>\n",
       "    </tr>\n",
       "    <tr>\n",
       "      <th>시도군구</th>\n",
       "      <th></th>\n",
       "      <th></th>\n",
       "      <th></th>\n",
       "      <th></th>\n",
       "      <th></th>\n",
       "    </tr>\n",
       "  </thead>\n",
       "  <tbody>\n",
       "    <tr>\n",
       "      <th>서울특별시 종로구</th>\n",
       "      <td>서울특별시</td>\n",
       "      <td>종로구</td>\n",
       "      <td>151215</td>\n",
       "      <td>73688</td>\n",
       "      <td>77527</td>\n",
       "    </tr>\n",
       "    <tr>\n",
       "      <th>서울특별시 중구</th>\n",
       "      <td>서울특별시</td>\n",
       "      <td>중구</td>\n",
       "      <td>126201</td>\n",
       "      <td>61946</td>\n",
       "      <td>64255</td>\n",
       "    </tr>\n",
       "    <tr>\n",
       "      <th>서울특별시 용산구</th>\n",
       "      <td>서울특별시</td>\n",
       "      <td>용산구</td>\n",
       "      <td>229385</td>\n",
       "      <td>110701</td>\n",
       "      <td>118684</td>\n",
       "    </tr>\n",
       "    <tr>\n",
       "      <th>서울특별시 성동구</th>\n",
       "      <td>서울특별시</td>\n",
       "      <td>성동구</td>\n",
       "      <td>300410</td>\n",
       "      <td>147020</td>\n",
       "      <td>153390</td>\n",
       "    </tr>\n",
       "    <tr>\n",
       "      <th>서울특별시 광진구</th>\n",
       "      <td>서울특별시</td>\n",
       "      <td>광진구</td>\n",
       "      <td>351263</td>\n",
       "      <td>170164</td>\n",
       "      <td>181099</td>\n",
       "    </tr>\n",
       "    <tr>\n",
       "      <th>...</th>\n",
       "      <td>...</td>\n",
       "      <td>...</td>\n",
       "      <td>...</td>\n",
       "      <td>...</td>\n",
       "      <td>...</td>\n",
       "    </tr>\n",
       "    <tr>\n",
       "      <th>경상남도 함양군</th>\n",
       "      <td>경상남도</td>\n",
       "      <td>함양군</td>\n",
       "      <td>39555</td>\n",
       "      <td>19058</td>\n",
       "      <td>20497</td>\n",
       "    </tr>\n",
       "    <tr>\n",
       "      <th>경상남도 거창군</th>\n",
       "      <td>경상남도</td>\n",
       "      <td>거창군</td>\n",
       "      <td>62049</td>\n",
       "      <td>30275</td>\n",
       "      <td>31774</td>\n",
       "    </tr>\n",
       "    <tr>\n",
       "      <th>경상남도 합천군</th>\n",
       "      <td>경상남도</td>\n",
       "      <td>합천군</td>\n",
       "      <td>45054</td>\n",
       "      <td>21590</td>\n",
       "      <td>23464</td>\n",
       "    </tr>\n",
       "    <tr>\n",
       "      <th>제주특별자치도 제주시</th>\n",
       "      <td>제주특별자치도</td>\n",
       "      <td>제주시</td>\n",
       "      <td>489202</td>\n",
       "      <td>245389</td>\n",
       "      <td>243813</td>\n",
       "    </tr>\n",
       "    <tr>\n",
       "      <th>제주특별자치도 서귀포시</th>\n",
       "      <td>제주특별자치도</td>\n",
       "      <td>서귀포시</td>\n",
       "      <td>181547</td>\n",
       "      <td>91842</td>\n",
       "      <td>89705</td>\n",
       "    </tr>\n",
       "  </tbody>\n",
       "</table>\n",
       "<p>261 rows × 5 columns</p>\n",
       "</div>"
      ],
      "text/plain": [
       "                   시도    군구  총인구수 (명)  남자인구수 (명)  여자인구수 (명)\n",
       "시도군구                                                       \n",
       "서울특별시 종로구       서울특별시   종로구    151215      73688      77527\n",
       "서울특별시 중구        서울특별시    중구    126201      61946      64255\n",
       "서울특별시 용산구       서울특별시   용산구    229385     110701     118684\n",
       "서울특별시 성동구       서울특별시   성동구    300410     147020     153390\n",
       "서울특별시 광진구       서울특별시   광진구    351263     170164     181099\n",
       "...               ...   ...       ...        ...        ...\n",
       "경상남도 함양군         경상남도   함양군     39555      19058      20497\n",
       "경상남도 거창군         경상남도   거창군     62049      30275      31774\n",
       "경상남도 합천군         경상남도   합천군     45054      21590      23464\n",
       "제주특별자치도 제주시   제주특별자치도   제주시    489202     245389     243813\n",
       "제주특별자치도 서귀포시  제주특별자치도  서귀포시    181547      91842      89705\n",
       "\n",
       "[261 rows x 5 columns]"
      ]
     },
     "execution_count": 54,
     "metadata": {},
     "output_type": "execute_result"
    }
   ],
   "source": [
    "# ['군구'] 컬럼에서 '소계' 항목 제거\n",
    "# -> 소계 아닌 것만 넣는 다는 것은 제거하겠다는 것\n",
    "population = population[population.군구 != '소계']\n",
    "population\n",
    "# '소계'가 있던 0,1번 행이 날라감"
   ]
  },
  {
   "cell_type": "code",
   "execution_count": 59,
   "id": "1508a314",
   "metadata": {
    "collapsed": true
   },
   "outputs": [
    {
     "data": {
      "text/html": [
       "<div>\n",
       "<style scoped>\n",
       "    .dataframe tbody tr th:only-of-type {\n",
       "        vertical-align: middle;\n",
       "    }\n",
       "\n",
       "    .dataframe tbody tr th {\n",
       "        vertical-align: top;\n",
       "    }\n",
       "\n",
       "    .dataframe thead th {\n",
       "        text-align: right;\n",
       "    }\n",
       "</style>\n",
       "<table border=\"1\" class=\"dataframe\">\n",
       "  <thead>\n",
       "    <tr style=\"text-align: right;\">\n",
       "      <th></th>\n",
       "      <th>시도</th>\n",
       "      <th>군구</th>\n",
       "      <th>총인구수 (명)</th>\n",
       "      <th>남자인구수 (명)</th>\n",
       "      <th>여자인구수 (명)</th>\n",
       "    </tr>\n",
       "    <tr>\n",
       "      <th>시도군구</th>\n",
       "      <th></th>\n",
       "      <th></th>\n",
       "      <th></th>\n",
       "      <th></th>\n",
       "      <th></th>\n",
       "    </tr>\n",
       "  </thead>\n",
       "  <tbody>\n",
       "    <tr>\n",
       "      <th>서울특별시 종로구</th>\n",
       "      <td>서울특별시</td>\n",
       "      <td>종로구</td>\n",
       "      <td>151215</td>\n",
       "      <td>73688</td>\n",
       "      <td>77527</td>\n",
       "    </tr>\n",
       "    <tr>\n",
       "      <th>서울특별시 중구</th>\n",
       "      <td>서울특별시</td>\n",
       "      <td>중구</td>\n",
       "      <td>126201</td>\n",
       "      <td>61946</td>\n",
       "      <td>64255</td>\n",
       "    </tr>\n",
       "    <tr>\n",
       "      <th>서울특별시 용산구</th>\n",
       "      <td>서울특별시</td>\n",
       "      <td>용산구</td>\n",
       "      <td>229385</td>\n",
       "      <td>110701</td>\n",
       "      <td>118684</td>\n",
       "    </tr>\n",
       "    <tr>\n",
       "      <th>서울특별시 성동구</th>\n",
       "      <td>서울특별시</td>\n",
       "      <td>성동구</td>\n",
       "      <td>300410</td>\n",
       "      <td>147020</td>\n",
       "      <td>153390</td>\n",
       "    </tr>\n",
       "    <tr>\n",
       "      <th>서울특별시 광진구</th>\n",
       "      <td>서울특별시</td>\n",
       "      <td>광진구</td>\n",
       "      <td>351263</td>\n",
       "      <td>170164</td>\n",
       "      <td>181099</td>\n",
       "    </tr>\n",
       "  </tbody>\n",
       "</table>\n",
       "</div>"
      ],
      "text/plain": [
       "              시도   군구  총인구수 (명)  남자인구수 (명)  여자인구수 (명)\n",
       "시도군구                                                 \n",
       "서울특별시 종로구  서울특별시  종로구    151215      73688      77527\n",
       "서울특별시 중구   서울특별시   중구    126201      61946      64255\n",
       "서울특별시 용산구  서울특별시  용산구    229385     110701     118684\n",
       "서울특별시 성동구  서울특별시  성동구    300410     147020     153390\n",
       "서울특별시 광진구  서울특별시  광진구    351263     170164     181099"
      ]
     },
     "execution_count": 59,
     "metadata": {},
     "output_type": "execute_result"
    }
   ],
   "source": [
    "# population = population.set_index('시도군구')\n",
    "# 오류문 확인 => 컬럼에 '시도군구'가 없다고 하는 것 -> 이미 인덱스로 설정되었기 때문에\n",
    "# 이미 인덱스 한번 설정 되었음\n",
    "population.head()"
   ]
  },
  {
   "cell_type": "markdown",
   "id": "f61f1b28",
   "metadata": {},
   "source": [
    "# 데이터프레임 병합\n",
    "\n",
    "- 내부 조인 -> 둘 DF에서 조건에 맞는 행 연결 (공통 사항이 존재)  \n",
    "- 외부 조인 -> 연관이 없는 2개 데이터를 붙여서 크기만 크게 만듦  \n",
    "\n",
    "- DataFrame.merge(right, how='inner', left_on=None, right_on=None,\n",
    "left_index=True, right_index=True)  \n",
    "  -> 인덱스 가지고만 사용하면 left_on=None, right_on=None (안쓰는 거지)  \n",
    "  "
   ]
  },
  {
   "cell_type": "code",
   "execution_count": 57,
   "id": "43c07fd5",
   "metadata": {
    "collapsed": true
   },
   "outputs": [
    {
     "data": {
      "text/html": [
       "<div>\n",
       "<style scoped>\n",
       "    .dataframe tbody tr th:only-of-type {\n",
       "        vertical-align: middle;\n",
       "    }\n",
       "\n",
       "    .dataframe tbody tr th {\n",
       "        vertical-align: top;\n",
       "    }\n",
       "\n",
       "    .dataframe thead th {\n",
       "        text-align: right;\n",
       "    }\n",
       "</style>\n",
       "<table border=\"1\" class=\"dataframe\">\n",
       "  <thead>\n",
       "    <tr style=\"text-align: right;\">\n",
       "      <th></th>\n",
       "      <th>시도_x</th>\n",
       "      <th>군구_x</th>\n",
       "      <th>count</th>\n",
       "      <th>시도_y</th>\n",
       "      <th>군구_y</th>\n",
       "      <th>총인구수 (명)</th>\n",
       "      <th>남자인구수 (명)</th>\n",
       "      <th>여자인구수 (명)</th>\n",
       "    </tr>\n",
       "    <tr>\n",
       "      <th>시도군구</th>\n",
       "      <th></th>\n",
       "      <th></th>\n",
       "      <th></th>\n",
       "      <th></th>\n",
       "      <th></th>\n",
       "      <th></th>\n",
       "      <th></th>\n",
       "      <th></th>\n",
       "    </tr>\n",
       "  </thead>\n",
       "  <tbody>\n",
       "    <tr>\n",
       "      <th>강원도 강릉시</th>\n",
       "      <td>강원도</td>\n",
       "      <td>강릉시</td>\n",
       "      <td>4</td>\n",
       "      <td>강원도</td>\n",
       "      <td>강릉시</td>\n",
       "      <td>213328</td>\n",
       "      <td>105775</td>\n",
       "      <td>107553</td>\n",
       "    </tr>\n",
       "    <tr>\n",
       "      <th>강원도 동해시</th>\n",
       "      <td>강원도</td>\n",
       "      <td>동해시</td>\n",
       "      <td>1</td>\n",
       "      <td>강원도</td>\n",
       "      <td>동해시</td>\n",
       "      <td>90417</td>\n",
       "      <td>45782</td>\n",
       "      <td>44635</td>\n",
       "    </tr>\n",
       "    <tr>\n",
       "      <th>강원도 삼척시</th>\n",
       "      <td>강원도</td>\n",
       "      <td>삼척시</td>\n",
       "      <td>1</td>\n",
       "      <td>강원도</td>\n",
       "      <td>삼척시</td>\n",
       "      <td>66806</td>\n",
       "      <td>33811</td>\n",
       "      <td>32995</td>\n",
       "    </tr>\n",
       "    <tr>\n",
       "      <th>강원도 속초시</th>\n",
       "      <td>강원도</td>\n",
       "      <td>속초시</td>\n",
       "      <td>1</td>\n",
       "      <td>강원도</td>\n",
       "      <td>속초시</td>\n",
       "      <td>81840</td>\n",
       "      <td>40470</td>\n",
       "      <td>41370</td>\n",
       "    </tr>\n",
       "    <tr>\n",
       "      <th>강원도 양구군</th>\n",
       "      <td>강원도</td>\n",
       "      <td>양구군</td>\n",
       "      <td>1</td>\n",
       "      <td>강원도</td>\n",
       "      <td>양구군</td>\n",
       "      <td>22526</td>\n",
       "      <td>11937</td>\n",
       "      <td>10589</td>\n",
       "    </tr>\n",
       "  </tbody>\n",
       "</table>\n",
       "</div>"
      ],
      "text/plain": [
       "        시도_x 군구_x  count 시도_y 군구_y  총인구수 (명)  남자인구수 (명)  여자인구수 (명)\n",
       "시도군구                                                              \n",
       "강원도 강릉시  강원도  강릉시      4  강원도  강릉시    213328     105775     107553\n",
       "강원도 동해시  강원도  동해시      1  강원도  동해시     90417      45782      44635\n",
       "강원도 삼척시  강원도  삼척시      1  강원도  삼척시     66806      33811      32995\n",
       "강원도 속초시  강원도  속초시      1  강원도  속초시     81840      40470      41370\n",
       "강원도 양구군  강원도  양구군      1  강원도  양구군     22526      11937      10589"
      ]
     },
     "execution_count": 57,
     "metadata": {},
     "output_type": "execute_result"
    }
   ],
   "source": [
    "# 의료기관 데이터와 행정구역별 인구수 데이터 병합\n",
    "# (데이터가 잘 기록되어있었다면 앞의 전처리 과정 필요없이 바로 merge를 했으면 됐겠지)\n",
    "addr_population_merge = pd.merge(addr_group, population, how='inner', left_index=True, right_index=True)\n",
    "addr_population_merge.head()\n",
    "# 병합 후 이름이 같은 컬럼에는 _x, _y가 붙음"
   ]
  },
  {
   "cell_type": "code",
   "execution_count": 62,
   "id": "f0f88447",
   "metadata": {
    "collapsed": true
   },
   "outputs": [
    {
     "data": {
      "text/html": [
       "<div>\n",
       "<style scoped>\n",
       "    .dataframe tbody tr th:only-of-type {\n",
       "        vertical-align: middle;\n",
       "    }\n",
       "\n",
       "    .dataframe tbody tr th {\n",
       "        vertical-align: top;\n",
       "    }\n",
       "\n",
       "    .dataframe thead th {\n",
       "        text-align: right;\n",
       "    }\n",
       "</style>\n",
       "<table border=\"1\" class=\"dataframe\">\n",
       "  <thead>\n",
       "    <tr style=\"text-align: right;\">\n",
       "      <th></th>\n",
       "      <th>시도</th>\n",
       "      <th>군구</th>\n",
       "      <th>공공의료기관수</th>\n",
       "      <th>인구수</th>\n",
       "    </tr>\n",
       "    <tr>\n",
       "      <th>시도군구</th>\n",
       "      <th></th>\n",
       "      <th></th>\n",
       "      <th></th>\n",
       "      <th></th>\n",
       "    </tr>\n",
       "  </thead>\n",
       "  <tbody>\n",
       "    <tr>\n",
       "      <th>강원도 강릉시</th>\n",
       "      <td>강원도</td>\n",
       "      <td>강릉시</td>\n",
       "      <td>4</td>\n",
       "      <td>213328</td>\n",
       "    </tr>\n",
       "    <tr>\n",
       "      <th>강원도 동해시</th>\n",
       "      <td>강원도</td>\n",
       "      <td>동해시</td>\n",
       "      <td>1</td>\n",
       "      <td>90417</td>\n",
       "    </tr>\n",
       "    <tr>\n",
       "      <th>강원도 삼척시</th>\n",
       "      <td>강원도</td>\n",
       "      <td>삼척시</td>\n",
       "      <td>1</td>\n",
       "      <td>66806</td>\n",
       "    </tr>\n",
       "    <tr>\n",
       "      <th>강원도 속초시</th>\n",
       "      <td>강원도</td>\n",
       "      <td>속초시</td>\n",
       "      <td>1</td>\n",
       "      <td>81840</td>\n",
       "    </tr>\n",
       "    <tr>\n",
       "      <th>강원도 양구군</th>\n",
       "      <td>강원도</td>\n",
       "      <td>양구군</td>\n",
       "      <td>1</td>\n",
       "      <td>22526</td>\n",
       "    </tr>\n",
       "  </tbody>\n",
       "</table>\n",
       "</div>"
      ],
      "text/plain": [
       "          시도   군구  공공의료기관수     인구수\n",
       "시도군구                              \n",
       "강원도 강릉시  강원도  강릉시        4  213328\n",
       "강원도 동해시  강원도  동해시        1   90417\n",
       "강원도 삼척시  강원도  삼척시        1   66806\n",
       "강원도 속초시  강원도  속초시        1   81840\n",
       "강원도 양구군  강원도  양구군        1   22526"
      ]
     },
     "execution_count": 62,
     "metadata": {},
     "output_type": "execute_result"
    }
   ],
   "source": [
    "# 전처리를 하고 병합을 했던 Df에서 최종적으로 필요한 컬럼을 뽑아서 DF를 만듦\n",
    "# 필요한 컬럼만 추출해서 새로운 데이터프레임 생성\n",
    "# -> ['시도_x'], ['군구_x'], ['count'], ['총인구수 (명)']\n",
    "\n",
    "local_medicalcenter_population = addr_population_merge[['시도_x', '군구_x',\n",
    "'count', '총인구수 (명)']]\n",
    "# 컬럼명 변경하여 정리\n",
    "local_medicalcenter_population = local_medicalcenter_population.rename(columns = {'시도_x':'시도', '군구_x':'군구',\n",
    "'count': '공공의료기관수', '총인구수 (명)':'인구수'})\n",
    "\n",
    "local_medicalcenter_population.head()\n",
    "# 최종적으로 쓸 DF 완성"
   ]
  },
  {
   "cell_type": "code",
   "execution_count": 66,
   "id": "21f065d2",
   "metadata": {
    "collapsed": true
   },
   "outputs": [
    {
     "data": {
      "text/html": [
       "<div>\n",
       "<style scoped>\n",
       "    .dataframe tbody tr th:only-of-type {\n",
       "        vertical-align: middle;\n",
       "    }\n",
       "\n",
       "    .dataframe tbody tr th {\n",
       "        vertical-align: top;\n",
       "    }\n",
       "\n",
       "    .dataframe thead th {\n",
       "        text-align: right;\n",
       "    }\n",
       "</style>\n",
       "<table border=\"1\" class=\"dataframe\">\n",
       "  <thead>\n",
       "    <tr style=\"text-align: right;\">\n",
       "      <th></th>\n",
       "      <th>시도</th>\n",
       "      <th>군구</th>\n",
       "      <th>공공의료기관수</th>\n",
       "      <th>인구수</th>\n",
       "      <th>인구대비의료기관비율</th>\n",
       "    </tr>\n",
       "    <tr>\n",
       "      <th>시도군구</th>\n",
       "      <th></th>\n",
       "      <th></th>\n",
       "      <th></th>\n",
       "      <th></th>\n",
       "      <th></th>\n",
       "    </tr>\n",
       "  </thead>\n",
       "  <tbody>\n",
       "    <tr>\n",
       "      <th>강원도 강릉시</th>\n",
       "      <td>강원도</td>\n",
       "      <td>강릉시</td>\n",
       "      <td>4</td>\n",
       "      <td>213328</td>\n",
       "      <td>1.875047</td>\n",
       "    </tr>\n",
       "    <tr>\n",
       "      <th>강원도 동해시</th>\n",
       "      <td>강원도</td>\n",
       "      <td>동해시</td>\n",
       "      <td>1</td>\n",
       "      <td>90417</td>\n",
       "      <td>1.105987</td>\n",
       "    </tr>\n",
       "    <tr>\n",
       "      <th>강원도 삼척시</th>\n",
       "      <td>강원도</td>\n",
       "      <td>삼척시</td>\n",
       "      <td>1</td>\n",
       "      <td>66806</td>\n",
       "      <td>1.496872</td>\n",
       "    </tr>\n",
       "    <tr>\n",
       "      <th>강원도 속초시</th>\n",
       "      <td>강원도</td>\n",
       "      <td>속초시</td>\n",
       "      <td>1</td>\n",
       "      <td>81840</td>\n",
       "      <td>1.221896</td>\n",
       "    </tr>\n",
       "    <tr>\n",
       "      <th>강원도 양구군</th>\n",
       "      <td>강원도</td>\n",
       "      <td>양구군</td>\n",
       "      <td>1</td>\n",
       "      <td>22526</td>\n",
       "      <td>4.439315</td>\n",
       "    </tr>\n",
       "  </tbody>\n",
       "</table>\n",
       "</div>"
      ],
      "text/plain": [
       "          시도   군구  공공의료기관수     인구수  인구대비의료기관비율\n",
       "시도군구                                          \n",
       "강원도 강릉시  강원도  강릉시        4  213328    1.875047\n",
       "강원도 동해시  강원도  동해시        1   90417    1.105987\n",
       "강원도 삼척시  강원도  삼척시        1   66806    1.496872\n",
       "강원도 속초시  강원도  속초시        1   81840    1.221896\n",
       "강원도 양구군  강원도  양구군        1   22526    4.439315"
      ]
     },
     "execution_count": 66,
     "metadata": {},
     "output_type": "execute_result"
    }
   ],
   "source": [
    "# 인구대비 공공의료기관 비율 계산 및 컬럼 추가\n",
    "# -> div 쓰는 방식 익힐 것\n",
    "mc_count = local_medicalcenter_population['공공의료기관수']\n",
    "local_population = local_medicalcenter_population['인구수']\n",
    "local_medicalcenter_population['인구대비의료기관비율'] = mc_count.div(local_population, axis=0) * 100000\n",
    "\n",
    "local_medicalcenter_population.head()"
   ]
  },
  {
   "cell_type": "code",
   "execution_count": 67,
   "id": "95dc9a30",
   "metadata": {},
   "outputs": [
    {
     "data": {
      "text/plain": [
       "<AxesSubplot:xlabel='시도군구'>"
      ]
     },
     "execution_count": 67,
     "metadata": {},
     "output_type": "execute_result"
    },
    {
     "data": {
      "image/png": "[encoded data removed]",
      "text/plain": [
       "<Figure size 2160x432 with 1 Axes>"
      ]
     },
     "metadata": {},
     "output_type": "display_data"
    }
   ],
   "source": [
    "# DF로 바로 그래프 그리기 가능\n",
    "# '의료기관수' 컬럼으로 그린 것\n",
    "# -> 지역별 공공의료기관수 현황\n",
    "# ['공공의료기관수'] 컬럼 내림차순 정렬\n",
    "\n",
    "import matplotlib.pyplot as plt\n",
    "import platform\n",
    "\n",
    "plt.style.use('ggplot')\n",
    "if platform.system() == 'Windows':\n",
    "    plt.rc('font', family='Malgun Gothic')\n",
    "else:\n",
    "    plt.rc('font', family='AppleGothic')\n",
    "    \n",
    "mc_ratio = local_medicalcenter_population[['공공의료기관수']]\n",
    "mc_ratio = mc_ratio.sort_values('공공의료기관수', ascending=False)\n",
    "mc_ratio.plot(kind='bar', rot=90, figsize=(30, 6))\n"
   ]
  },
  {
   "cell_type": "code",
   "execution_count": 69,
   "id": "758c961a",
   "metadata": {},
   "outputs": [
    {
     "data": {
      "text/plain": [
       "<AxesSubplot:xlabel='시도군구'>"
      ]
     },
     "execution_count": 69,
     "metadata": {},
     "output_type": "execute_result"
    },
    {
     "data": {
      "image/png": "[encoded data removed]",
      "text/plain": [
       "<Figure size 2160x432 with 1 Axes>"
      ]
     },
     "metadata": {},
     "output_type": "display_data"
    }
   ],
   "source": [
    "# DF로 바로 그래프 그리기 가능\n",
    "# '인구대비의료기관비율' 컬럼으로 그린 것\n",
    "# -> 인구대비 공공의료기관 비율\n",
    "\n",
    "import matplotlib.pyplot as plt\n",
    "import platform\n",
    "\n",
    "plt.style.use('ggplot')\n",
    "if platform.system() == 'Windows':\n",
    "    plt.rc('font', family='Malgun Gothic')\n",
    "else:\n",
    "    plt.rc('font', family='AppleGothic')\n",
    "           \n",
    "population_mc_rate = local_medicalcenter_population[['인구대비의료기관비율']]\n",
    "population_mc_rate = population_mc_rate.sort_values('인구대비의료기관비율',\n",
    "ascending=False)\n",
    "population_mc_rate.plot(kind='bar', rot=90, figsize=(30, 6))"
   ]
  },
  {
   "cell_type": "code",
   "execution_count": null,
   "id": "419a8ed4",
   "metadata": {},
   "outputs": [],
   "source": [
    "# 필요한 것만 DB에서 갖고와서, 자료를 추려 파일을 만들고, 이를 DF 작업해서 쓰는"
   ]
  },
  {
   "cell_type": "code",
   "execution_count": null,
   "id": "58a437b8",
   "metadata": {},
   "outputs": [],
   "source": []
  },
  {
   "cell_type": "code",
   "execution_count": null,
   "id": "f34cf97d",
   "metadata": {},
   "outputs": [],
   "source": []
  }
 ],
 "metadata": {
  "kernelspec": {
   "display_name": "Python 3 (ipykernel)",
   "language": "python",
   "name": "python3"
  },
  "language_info": {
   "codemirror_mode": {
    "name": "ipython",
    "version": 3
   },
   "file_extension": ".py",
   "mimetype": "text/x-python",
   "name": "python",
   "nbconvert_exporter": "python",
   "pygments_lexer": "ipython3",
   "version": "3.9.12"
  }
 },
 "nbformat": 4,
 "nbformat_minor": 5
}
