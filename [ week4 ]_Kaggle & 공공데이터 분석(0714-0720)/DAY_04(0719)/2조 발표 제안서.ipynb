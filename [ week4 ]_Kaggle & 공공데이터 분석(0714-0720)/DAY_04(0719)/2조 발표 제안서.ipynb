{
 "cells": [
  {
   "cell_type": "markdown",
   "id": "8ffa1e17",
   "metadata": {},
   "source": [
    "# 1. 팀이름 : 2조"
   ]
  },
  {
   "cell_type": "markdown",
   "id": "05142687",
   "metadata": {},
   "source": [
    "# 2. 팀 주제 : 원유 가격 변동 현황과 그에 따른 영향 분석"
   ]
  },
  {
   "cell_type": "markdown",
   "id": "ba2f6b7b",
   "metadata": {},
   "source": [
    "- 현재 유가가 상당히 오른 상태.\n",
    "- 해외여행 가는 것보다 국내여행을 가게 되는 등의 의사결정에 영향을 받게 됨\n",
    "- 10년치의 원유 가격의 변동을 바탕으로, 유가에 영향을 받는 업종들이 어떤 영향을 받는지에 대한 토의\n",
    "- 각자 맡은 분야/업종들이 유가와 어떤 상관관계나 영향을 받는지 분석"
   ]
  },
  {
   "cell_type": "markdown",
   "id": "dd46fbaa",
   "metadata": {},
   "source": [
    "### * 국제 원유 가격 변동과 업종별 관련 통계나 지표들과의 비교를 통해 상관관계를 살펴보자"
   ]
  },
  {
   "cell_type": "markdown",
   "id": "756f9517",
   "metadata": {},
   "source": [
    "# 3. 팀원별 개인주제"
   ]
  },
  {
   "cell_type": "markdown",
   "id": "28897329",
   "metadata": {},
   "source": [
    "0) 원유 가격 변동 데이터(10년치) 제시"
   ]
  },
  {
   "cell_type": "markdown",
   "id": "e51e3538",
   "metadata": {},
   "source": [
    "1) 김라희\n",
    ": 국내 산업별 석유 소비 현황"
   ]
  },
  {
   "cell_type": "markdown",
   "id": "0a9f3603",
   "metadata": {},
   "source": [
    "2) 남재환\n",
    ": 바이오 연료 분야"
   ]
  },
  {
   "cell_type": "markdown",
   "id": "d6ad1fb4",
   "metadata": {},
   "source": [
    "3) 박병준\n",
    ": 섬유산업 분야"
   ]
  },
  {
   "cell_type": "markdown",
   "id": "06492c77",
   "metadata": {},
   "source": [
    "4) 우남광\n",
    ": 물류/유통 분야"
   ]
  },
  {
   "cell_type": "markdown",
   "id": "3df8f4a1",
   "metadata": {},
   "source": [
    "5) 허채범\n",
    ": 관광업 분야"
   ]
  }
 ],
 "metadata": {
  "kernelspec": {
   "display_name": "Python 3 (ipykernel)",
   "language": "python",
   "name": "python3"
  },
  "language_info": {
   "codemirror_mode": {
    "name": "ipython",
    "version": 3
   },
   "file_extension": ".py",
   "mimetype": "text/x-python",
   "name": "python",
   "nbconvert_exporter": "python",
   "pygments_lexer": "ipython3",
   "version": "3.9.12"
  }
 },
 "nbformat": 4,
 "nbformat_minor": 5
}
