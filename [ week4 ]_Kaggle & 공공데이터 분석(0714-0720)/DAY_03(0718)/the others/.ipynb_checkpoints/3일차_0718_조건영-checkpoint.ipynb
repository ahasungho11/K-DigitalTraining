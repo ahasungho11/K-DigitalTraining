{
 "cells": [
  {
   "cell_type": "markdown",
   "id": "6e17b43e",
   "metadata": {},
   "source": [
    "# 대구광역시 남녀비율 파이그래프 그리기\n",
    "- 대구광역시 전체 + 7개 구별(중구,동구,서구,남구,북구,수성구,달서구) => 달성군 제외\n",
    "- 총 8개의 남녀 비율 파이차트 그리기\n",
    "- subplot으로 2x4형태로 구현"
   ]
  },
  {
   "cell_type": "code",
   "execution_count": 43,
   "id": "549e8d88",
   "metadata": {},
   "outputs": [],
   "source": [
    "# 모듈로딩\n",
    "import csv\n",
    "import platform\n",
    "import matplotlib.pyplot as plt"
   ]
  },
  {
   "cell_type": "code",
   "execution_count": 44,
   "id": "293cd047",
   "metadata": {},
   "outputs": [
    {
     "name": "stdout",
     "output_type": "stream",
     "text": [
      "[   0]:행정구역,[   1]:2022년06월_계_총인구수,[   2]:2022년06월_계_연령구간인구수,\n",
      "[   3]:2022년06월_계_0세,[   4]:2022년06월_계_1세,[   5]:2022년06월_계_2세,\n",
      "[   6]:2022년06월_계_3세,[   7]:2022년06월_계_4세,[   8]:2022년06월_계_5세,\n",
      "[   9]:2022년06월_계_6세,[  10]:2022년06월_계_7세,[  11]:2022년06월_계_8세,\n",
      "[  12]:2022년06월_계_9세,[  13]:2022년06월_계_10세,[  14]:2022년06월_계_11세,\n",
      "[  15]:2022년06월_계_12세,[  16]:2022년06월_계_13세,[  17]:2022년06월_계_14세,\n",
      "[  18]:2022년06월_계_15세,[  19]:2022년06월_계_16세,[  20]:2022년06월_계_17세,\n",
      "[  21]:2022년06월_계_18세,[  22]:2022년06월_계_19세,[  23]:2022년06월_계_20세,\n",
      "[  24]:2022년06월_계_21세,[  25]:2022년06월_계_22세,[  26]:2022년06월_계_23세,\n",
      "[  27]:2022년06월_계_24세,[  28]:2022년06월_계_25세,[  29]:2022년06월_계_26세,\n",
      "[  30]:2022년06월_계_27세,[  31]:2022년06월_계_28세,[  32]:2022년06월_계_29세,\n",
      "[  33]:2022년06월_계_30세,[  34]:2022년06월_계_31세,[  35]:2022년06월_계_32세,\n",
      "[  36]:2022년06월_계_33세,[  37]:2022년06월_계_34세,[  38]:2022년06월_계_35세,\n",
      "[  39]:2022년06월_계_36세,[  40]:2022년06월_계_37세,[  41]:2022년06월_계_38세,\n",
      "[  42]:2022년06월_계_39세,[  43]:2022년06월_계_40세,[  44]:2022년06월_계_41세,\n",
      "[  45]:2022년06월_계_42세,[  46]:2022년06월_계_43세,[  47]:2022년06월_계_44세,\n",
      "[  48]:2022년06월_계_45세,[  49]:2022년06월_계_46세,[  50]:2022년06월_계_47세,\n",
      "[  51]:2022년06월_계_48세,[  52]:2022년06월_계_49세,[  53]:2022년06월_계_50세,\n",
      "[  54]:2022년06월_계_51세,[  55]:2022년06월_계_52세,[  56]:2022년06월_계_53세,\n",
      "[  57]:2022년06월_계_54세,[  58]:2022년06월_계_55세,[  59]:2022년06월_계_56세,\n",
      "[  60]:2022년06월_계_57세,[  61]:2022년06월_계_58세,[  62]:2022년06월_계_59세,\n",
      "[  63]:2022년06월_계_60세,[  64]:2022년06월_계_61세,[  65]:2022년06월_계_62세,\n",
      "[  66]:2022년06월_계_63세,[  67]:2022년06월_계_64세,[  68]:2022년06월_계_65세,\n",
      "[  69]:2022년06월_계_66세,[  70]:2022년06월_계_67세,[  71]:2022년06월_계_68세,\n",
      "[  72]:2022년06월_계_69세,[  73]:2022년06월_계_70세,[  74]:2022년06월_계_71세,\n",
      "[  75]:2022년06월_계_72세,[  76]:2022년06월_계_73세,[  77]:2022년06월_계_74세,\n",
      "[  78]:2022년06월_계_75세,[  79]:2022년06월_계_76세,[  80]:2022년06월_계_77세,\n",
      "[  81]:2022년06월_계_78세,[  82]:2022년06월_계_79세,[  83]:2022년06월_계_80세,\n",
      "[  84]:2022년06월_계_81세,[  85]:2022년06월_계_82세,[  86]:2022년06월_계_83세,\n",
      "[  87]:2022년06월_계_84세,[  88]:2022년06월_계_85세,[  89]:2022년06월_계_86세,\n",
      "[  90]:2022년06월_계_87세,[  91]:2022년06월_계_88세,[  92]:2022년06월_계_89세,\n",
      "[  93]:2022년06월_계_90세,[  94]:2022년06월_계_91세,[  95]:2022년06월_계_92세,\n",
      "[  96]:2022년06월_계_93세,[  97]:2022년06월_계_94세,[  98]:2022년06월_계_95세,\n",
      "[  99]:2022년06월_계_96세,[ 100]:2022년06월_계_97세,[ 101]:2022년06월_계_98세,\n",
      "[ 102]:2022년06월_계_99세,[ 103]:2022년06월_계_100세 이상,[ 104]:2022년06월_남_총인구수,\n",
      "[ 105]:2022년06월_남_연령구간인구수,[ 106]:2022년06월_남_0세,[ 107]:2022년06월_남_1세,\n",
      "[ 108]:2022년06월_남_2세,[ 109]:2022년06월_남_3세,[ 110]:2022년06월_남_4세,\n",
      "[ 111]:2022년06월_남_5세,[ 112]:2022년06월_남_6세,[ 113]:2022년06월_남_7세,\n",
      "[ 114]:2022년06월_남_8세,[ 115]:2022년06월_남_9세,[ 116]:2022년06월_남_10세,\n",
      "[ 117]:2022년06월_남_11세,[ 118]:2022년06월_남_12세,[ 119]:2022년06월_남_13세,\n",
      "[ 120]:2022년06월_남_14세,[ 121]:2022년06월_남_15세,[ 122]:2022년06월_남_16세,\n",
      "[ 123]:2022년06월_남_17세,[ 124]:2022년06월_남_18세,[ 125]:2022년06월_남_19세,\n",
      "[ 126]:2022년06월_남_20세,[ 127]:2022년06월_남_21세,[ 128]:2022년06월_남_22세,\n",
      "[ 129]:2022년06월_남_23세,[ 130]:2022년06월_남_24세,[ 131]:2022년06월_남_25세,\n",
      "[ 132]:2022년06월_남_26세,[ 133]:2022년06월_남_27세,[ 134]:2022년06월_남_28세,\n",
      "[ 135]:2022년06월_남_29세,[ 136]:2022년06월_남_30세,[ 137]:2022년06월_남_31세,\n",
      "[ 138]:2022년06월_남_32세,[ 139]:2022년06월_남_33세,[ 140]:2022년06월_남_34세,\n",
      "[ 141]:2022년06월_남_35세,[ 142]:2022년06월_남_36세,[ 143]:2022년06월_남_37세,\n",
      "[ 144]:2022년06월_남_38세,[ 145]:2022년06월_남_39세,[ 146]:2022년06월_남_40세,\n",
      "[ 147]:2022년06월_남_41세,[ 148]:2022년06월_남_42세,[ 149]:2022년06월_남_43세,\n",
      "[ 150]:2022년06월_남_44세,[ 151]:2022년06월_남_45세,[ 152]:2022년06월_남_46세,\n",
      "[ 153]:2022년06월_남_47세,[ 154]:2022년06월_남_48세,[ 155]:2022년06월_남_49세,\n",
      "[ 156]:2022년06월_남_50세,[ 157]:2022년06월_남_51세,[ 158]:2022년06월_남_52세,\n",
      "[ 159]:2022년06월_남_53세,[ 160]:2022년06월_남_54세,[ 161]:2022년06월_남_55세,\n",
      "[ 162]:2022년06월_남_56세,[ 163]:2022년06월_남_57세,[ 164]:2022년06월_남_58세,\n",
      "[ 165]:2022년06월_남_59세,[ 166]:2022년06월_남_60세,[ 167]:2022년06월_남_61세,\n",
      "[ 168]:2022년06월_남_62세,[ 169]:2022년06월_남_63세,[ 170]:2022년06월_남_64세,\n",
      "[ 171]:2022년06월_남_65세,[ 172]:2022년06월_남_66세,[ 173]:2022년06월_남_67세,\n",
      "[ 174]:2022년06월_남_68세,[ 175]:2022년06월_남_69세,[ 176]:2022년06월_남_70세,\n",
      "[ 177]:2022년06월_남_71세,[ 178]:2022년06월_남_72세,[ 179]:2022년06월_남_73세,\n",
      "[ 180]:2022년06월_남_74세,[ 181]:2022년06월_남_75세,[ 182]:2022년06월_남_76세,\n",
      "[ 183]:2022년06월_남_77세,[ 184]:2022년06월_남_78세,[ 185]:2022년06월_남_79세,\n",
      "[ 186]:2022년06월_남_80세,[ 187]:2022년06월_남_81세,[ 188]:2022년06월_남_82세,\n",
      "[ 189]:2022년06월_남_83세,[ 190]:2022년06월_남_84세,[ 191]:2022년06월_남_85세,\n",
      "[ 192]:2022년06월_남_86세,[ 193]:2022년06월_남_87세,[ 194]:2022년06월_남_88세,\n",
      "[ 195]:2022년06월_남_89세,[ 196]:2022년06월_남_90세,[ 197]:2022년06월_남_91세,\n",
      "[ 198]:2022년06월_남_92세,[ 199]:2022년06월_남_93세,[ 200]:2022년06월_남_94세,\n",
      "[ 201]:2022년06월_남_95세,[ 202]:2022년06월_남_96세,[ 203]:2022년06월_남_97세,\n",
      "[ 204]:2022년06월_남_98세,[ 205]:2022년06월_남_99세,[ 206]:2022년06월_남_100세 이상,\n",
      "[ 207]:2022년06월_여_총인구수,[ 208]:2022년06월_여_연령구간인구수,[ 209]:2022년06월_여_0세,\n",
      "[ 210]:2022년06월_여_1세,[ 211]:2022년06월_여_2세,[ 212]:2022년06월_여_3세,\n",
      "[ 213]:2022년06월_여_4세,[ 214]:2022년06월_여_5세,[ 215]:2022년06월_여_6세,\n",
      "[ 216]:2022년06월_여_7세,[ 217]:2022년06월_여_8세,[ 218]:2022년06월_여_9세,\n",
      "[ 219]:2022년06월_여_10세,[ 220]:2022년06월_여_11세,[ 221]:2022년06월_여_12세,\n",
      "[ 222]:2022년06월_여_13세,[ 223]:2022년06월_여_14세,[ 224]:2022년06월_여_15세,\n",
      "[ 225]:2022년06월_여_16세,[ 226]:2022년06월_여_17세,[ 227]:2022년06월_여_18세,\n",
      "[ 228]:2022년06월_여_19세,[ 229]:2022년06월_여_20세,[ 230]:2022년06월_여_21세,\n",
      "[ 231]:2022년06월_여_22세,[ 232]:2022년06월_여_23세,[ 233]:2022년06월_여_24세,\n",
      "[ 234]:2022년06월_여_25세,[ 235]:2022년06월_여_26세,[ 236]:2022년06월_여_27세,\n",
      "[ 237]:2022년06월_여_28세,[ 238]:2022년06월_여_29세,[ 239]:2022년06월_여_30세,\n",
      "[ 240]:2022년06월_여_31세,[ 241]:2022년06월_여_32세,[ 242]:2022년06월_여_33세,\n",
      "[ 243]:2022년06월_여_34세,[ 244]:2022년06월_여_35세,[ 245]:2022년06월_여_36세,\n",
      "[ 246]:2022년06월_여_37세,[ 247]:2022년06월_여_38세,[ 248]:2022년06월_여_39세,\n",
      "[ 249]:2022년06월_여_40세,[ 250]:2022년06월_여_41세,[ 251]:2022년06월_여_42세,\n",
      "[ 252]:2022년06월_여_43세,[ 253]:2022년06월_여_44세,[ 254]:2022년06월_여_45세,\n",
      "[ 255]:2022년06월_여_46세,[ 256]:2022년06월_여_47세,[ 257]:2022년06월_여_48세,\n",
      "[ 258]:2022년06월_여_49세,[ 259]:2022년06월_여_50세,[ 260]:2022년06월_여_51세,\n",
      "[ 261]:2022년06월_여_52세,[ 262]:2022년06월_여_53세,[ 263]:2022년06월_여_54세,\n",
      "[ 264]:2022년06월_여_55세,[ 265]:2022년06월_여_56세,[ 266]:2022년06월_여_57세,\n",
      "[ 267]:2022년06월_여_58세,[ 268]:2022년06월_여_59세,[ 269]:2022년06월_여_60세,\n",
      "[ 270]:2022년06월_여_61세,[ 271]:2022년06월_여_62세,[ 272]:2022년06월_여_63세,\n",
      "[ 273]:2022년06월_여_64세,[ 274]:2022년06월_여_65세,[ 275]:2022년06월_여_66세,\n",
      "[ 276]:2022년06월_여_67세,[ 277]:2022년06월_여_68세,[ 278]:2022년06월_여_69세,\n",
      "[ 279]:2022년06월_여_70세,[ 280]:2022년06월_여_71세,[ 281]:2022년06월_여_72세,\n",
      "[ 282]:2022년06월_여_73세,[ 283]:2022년06월_여_74세,[ 284]:2022년06월_여_75세,\n",
      "[ 285]:2022년06월_여_76세,[ 286]:2022년06월_여_77세,[ 287]:2022년06월_여_78세,\n",
      "[ 288]:2022년06월_여_79세,[ 289]:2022년06월_여_80세,[ 290]:2022년06월_여_81세,\n",
      "[ 291]:2022년06월_여_82세,[ 292]:2022년06월_여_83세,[ 293]:2022년06월_여_84세,\n",
      "[ 294]:2022년06월_여_85세,[ 295]:2022년06월_여_86세,[ 296]:2022년06월_여_87세,\n",
      "[ 297]:2022년06월_여_88세,[ 298]:2022년06월_여_89세,[ 299]:2022년06월_여_90세,\n",
      "[ 300]:2022년06월_여_91세,[ 301]:2022년06월_여_92세,[ 302]:2022년06월_여_93세,\n",
      "[ 303]:2022년06월_여_94세,[ 304]:2022년06월_여_95세,[ 305]:2022년06월_여_96세,\n",
      "[ 306]:2022년06월_여_97세,[ 307]:2022년06월_여_98세,[ 308]:2022년06월_여_99세,\n",
      "[ 309]:2022년06월_여_100세 이상,"
     ]
    }
   ],
   "source": [
    "# 열이름 인덱스 알아보기\n",
    "f=open('../Data/gender.csv',encoding='euc_kr')\n",
    "data=csv.reader(f)\n",
    "header=next(data)\n",
    "\n",
    "for i in range(len(header)):\n",
    "    print(f'[{i:4d}]:{header[i]}',end=',')\n",
    "    if (i+1)%3==0: # 3개씩 출력할 때마다\n",
    "        print() #엔터\n",
    "f.close()"
   ]
  },
  {
   "cell_type": "markdown",
   "id": "cccdb17b",
   "metadata": {},
   "source": [
    "- 남자 총인구수는 104인덱스\n",
    "- 여자 총인구수는 207인덱스"
   ]
  },
  {
   "cell_type": "code",
   "execution_count": 45,
   "id": "5b8f043d",
   "metadata": {},
   "outputs": [],
   "source": [
    "# 대구 => 달성군 제외 7개의 구 => 상수로 만들기\n",
    "DEAGU_LIST=['중구','동구','서구','남구','북구','수성구','달서구','전체']"
   ]
  },
  {
   "cell_type": "code",
   "execution_count": 46,
   "id": "050d817f",
   "metadata": {},
   "outputs": [],
   "source": [
    "# 대구 구별 남녀 인구 데이터 찾는 함수\n",
    "def calc_deagu(DEAGU_LIST):\n",
    "    deagu_male_value_list=[0]*len(DEAGU_LIST) # 각 구별에 맞는 남성 인구 수를 넣기 위한 빈리스트\n",
    "    deagu_female_value_list=[0]*len(DEAGU_LIST) # 각 구별에 맞는 여성 인구 수를 넣기 위한 빈리스트\n",
    "    \n",
    "    for idx in range(len(DEAGU_LIST)): # 중구는 0인덱스, 동구는 1인덱스,...,전체는 7인덱스\n",
    "        with open('../Data/gender.csv',encoding='euc_kr') as f: # 구의 인덱스를 부를때 마다 파일 열기\n",
    "            data=csv.reader(f)\n",
    "            for row in data: # 한줄씩 읽어\n",
    "                if '대구광역시 '+DEAGU_LIST[idx] in row[0]: # 대구광역시 + 구(동구,중구)가 행정구역에 포함된다면\n",
    "                    deagu_male_value_list[idx]+=int(row[104].replace(',','')) # 콤마삭제 정수변환 후 맞는 남성 구 인덱스에 덧셈\n",
    "                    deagu_female_value_list[idx]+=int(row[207].replace(',','')) # 콤마삭제 정수변환 후 맞는 여성 구 인덱스에 덧셈\n",
    "                    break # 제일 위에있는 한줄만 읽으면 되므로 break\n",
    "    deagu_male_value_list[-1]=sum(deagu_male_value_list) # 대구 남성 전체 인덱스는 각 구별의 전체 합과 같음\n",
    "    deagu_female_value_list[-1]=sum(deagu_female_value_list) # 대구 여성 전체 인덱스는 각 구별의 전체 합과 같음\n",
    "    return deagu_male_value_list, deagu_female_value_list # 남녀 인구 리스트 반환"
   ]
  },
  {
   "cell_type": "code",
   "execution_count": 49,
   "id": "596f8882",
   "metadata": {},
   "outputs": [],
   "source": [
    "# 파이그래프그리는 함수\n",
    "def draw_pie_deagu(DEAGU_LIST):\n",
    "    deagu_male_value_list, deagu_female_value_list=calc_deagu(DEAGU_LIST) # 데이터 분석 한 값 불러오기\n",
    "    \n",
    "    # 운영체제별 한글 폰트 설정\n",
    "    if platform.system()=='Windows':\n",
    "        plt.rc('font',family='Malgun Gothic')\n",
    "    else:\n",
    "        plt.rc('font',family='AppleGothic')\n",
    "    \n",
    "    plt.subplots(2,4,figsize=(20,5)) # 2행 4열의 subplots 생성\n",
    "    plt.suptitle('대구광역시 구별 남녀 인구 비율',fontsize=17) # suptitle\n",
    "    for idx in range(len(DEAGU_LIST)): # 각 구별 파이 그래프 그리기 => 총 8개의 subplot그래프가 나옴\n",
    "        plt.subplot(2,4,idx+1) # subplot의 인덱스는 1부터 시작하므로 +1을 함\n",
    "        plt.pie([deagu_male_value_list[idx],deagu_female_value_list[idx]],\n",
    "                startangle=90,autopct='%.1f%%',labels=['남성','여성'])\n",
    "        plt.title('대구광역시 '+DEAGU_LIST[idx])\n",
    "    plt.show()"
   ]
  },
  {
   "cell_type": "code",
   "execution_count": 50,
   "id": "c1305b3c",
   "metadata": {},
   "outputs": [
    {
     "data": {
      "image/png": "[encoded data removed]",
      "text/plain": [
       "<Figure size 1440x360 with 8 Axes>"
      ]
     },
     "metadata": {},
     "output_type": "display_data"
    }
   ],
   "source": [
    "draw_pie_deagu(DEAGU_LIST)"
   ]
  },
  {
   "cell_type": "code",
   "execution_count": null,
   "id": "982fe53a",
   "metadata": {},
   "outputs": [],
   "source": []
  }
 ],
 "metadata": {
  "kernelspec": {
   "display_name": "Python 3 (ipykernel)",
   "language": "python",
   "name": "python3"
  },
  "language_info": {
   "codemirror_mode": {
    "name": "ipython",
    "version": 3
   },
   "file_extension": ".py",
   "mimetype": "text/x-python",
   "name": "python",
   "nbconvert_exporter": "python",
   "pygments_lexer": "ipython3",
   "version": "3.9.12"
  }
 },
 "nbformat": 4,
 "nbformat_minor": 5
}
