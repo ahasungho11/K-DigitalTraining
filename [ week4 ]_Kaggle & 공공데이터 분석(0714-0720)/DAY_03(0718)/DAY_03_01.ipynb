{
 "cells": [
  {
   "cell_type": "markdown",
   "id": "a94cbfa8",
   "metadata": {},
   "source": [
    "# 대구 산격동 인구 현황"
   ]
  },
  {
   "cell_type": "code",
   "execution_count": 76,
   "id": "39f349df",
   "metadata": {
    "collapsed": true
   },
   "outputs": [
    {
     "name": "stdout",
     "output_type": "stream",
     "text": [
      "<_csv.reader object at 0x00000138DCE52D00>\n",
      "['행정구역', '2022년06월_계_총인구수', '2022년06월_계_연령구간인구수', '2022년06월_계_0세', '2022년06월_계_1세', '2022년06월_계_2세', '2022년06월_계_3세', '2022년06월_계_4세', '2022년06월_계_5세', '2022년06월_계_6세', '2022년06월_계_7세', '2022년06월_계_8세', '2022년06월_계_9세', '2022년06월_계_10세', '2022년06월_계_11세', '2022년06월_계_12세', '2022년06월_계_13세', '2022년06월_계_14세', '2022년06월_계_15세', '2022년06월_계_16세', '2022년06월_계_17세', '2022년06월_계_18세', '2022년06월_계_19세', '2022년06월_계_20세', '2022년06월_계_21세', '2022년06월_계_22세', '2022년06월_계_23세', '2022년06월_계_24세', '2022년06월_계_25세', '2022년06월_계_26세', '2022년06월_계_27세', '2022년06월_계_28세', '2022년06월_계_29세', '2022년06월_계_30세', '2022년06월_계_31세', '2022년06월_계_32세', '2022년06월_계_33세', '2022년06월_계_34세', '2022년06월_계_35세', '2022년06월_계_36세', '2022년06월_계_37세', '2022년06월_계_38세', '2022년06월_계_39세', '2022년06월_계_40세', '2022년06월_계_41세', '2022년06월_계_42세', '2022년06월_계_43세', '2022년06월_계_44세', '2022년06월_계_45세', '2022년06월_계_46세', '2022년06월_계_47세', '2022년06월_계_48세', '2022년06월_계_49세', '2022년06월_계_50세', '2022년06월_계_51세', '2022년06월_계_52세', '2022년06월_계_53세', '2022년06월_계_54세', '2022년06월_계_55세', '2022년06월_계_56세', '2022년06월_계_57세', '2022년06월_계_58세', '2022년06월_계_59세', '2022년06월_계_60세', '2022년06월_계_61세', '2022년06월_계_62세', '2022년06월_계_63세', '2022년06월_계_64세', '2022년06월_계_65세', '2022년06월_계_66세', '2022년06월_계_67세', '2022년06월_계_68세', '2022년06월_계_69세', '2022년06월_계_70세', '2022년06월_계_71세', '2022년06월_계_72세', '2022년06월_계_73세', '2022년06월_계_74세', '2022년06월_계_75세', '2022년06월_계_76세', '2022년06월_계_77세', '2022년06월_계_78세', '2022년06월_계_79세', '2022년06월_계_80세', '2022년06월_계_81세', '2022년06월_계_82세', '2022년06월_계_83세', '2022년06월_계_84세', '2022년06월_계_85세', '2022년06월_계_86세', '2022년06월_계_87세', '2022년06월_계_88세', '2022년06월_계_89세', '2022년06월_계_90세', '2022년06월_계_91세', '2022년06월_계_92세', '2022년06월_계_93세', '2022년06월_계_94세', '2022년06월_계_95세', '2022년06월_계_96세', '2022년06월_계_97세', '2022년06월_계_98세', '2022년06월_계_99세', '2022년06월_계_100세 이상']\n",
      "['대구광역시 북구 산격3동(2723063000)', '9,499', '9,499', '13', '9', '19', '26', '22', '26', '24', '35', '16', '33', '30', '38', '37', '31', '38', '40', '35', '49', '127', '179', '193', '250', '345', '371', '351', '339', '298', '268', '231', '226', '205', '161', '158', '123', '90', '87', '81', '85', '75', '83', '106', '87', '112', '100', '68', '98', '92', '105', '117', '115', '109', '104', '131', '117', '114', '137', '124', '116', '108', '133', '120', '171', '158', '127', '135', '109', '129', '118', '102', '107', '103', '79', '98', '95', '84', '82', '44', '67', '55', '74', '46', '53', '61', '35', '39', '32', '39', '19', '18', '12', '10', '12', '8', '9', '2', '3', '0', '3', '0', '0', '1']\n"
     ]
    }
   ],
   "source": [
    "import csv\n",
    "\n",
    "f = open('age.csv', encoding = 'euc_kr')\n",
    "data = csv.reader(f)\n",
    "header = next(data)\n",
    "print(header)\n",
    "# row[0]: 행정구역\n",
    "for row in data:\n",
    "    if '산격3' in row[0]: # '산격3'이 포함된 자료만 출력\n",
    "        print(row)\n",
    "f.close()"
   ]
  },
  {
   "cell_type": "code",
   "execution_count": 61,
   "id": "7ee2febd",
   "metadata": {},
   "outputs": [],
   "source": [
    "#7~\n",
    "# 인덱스 형태 기억 (헤더부분)\n",
    "# 인구분포를 보고 마케팅 등의 타게팅을 할 수 있겠지?\n",
    "\n",
    "# import re => 정규(표현)식 : regular expression (regex)\n",
    "# regex => 정규(표현)식 임을 알 것\n",
    "# re.split => 여기선 간단하게만 수행해보쟈\n",
    "# ex) s(170127) 자체를 싹다 사제\n",
    "\n",
    "# 해당 자료에서는 천단위 콤마(,)가 없으니 굳이 없애는 것을 입력할 필요x\n",
    "# -> 항상 데이터 상태 살펴보고"
   ]
  },
  {
   "cell_type": "markdown",
   "id": "8e452e29",
   "metadata": {},
   "source": [
    "# 인구수 출력"
   ]
  },
  {
   "cell_type": "code",
   "execution_count": 62,
   "id": "18d33591",
   "metadata": {},
   "outputs": [
    {
     "name": "stdout",
     "output_type": "stream",
     "text": [
      "['13', '9', '19', '26', '22', '26', '24', '35', '16', '33', '30', '38', '37', '31', '38', '40', '35', '49', '127', '179', '193', '250', '345', '371', '351', '339', '298', '268', '231', '226', '205', '161', '158', '123', '90', '87', '81', '85', '75', '83', '106', '87', '112', '100', '68', '98', '92', '105', '117', '115', '109', '104', '131', '117', '114', '137', '124', '116', '108', '133', '120', '171', '158', '127', '135', '109', '129', '118', '102', '107', '103', '79', '98', '95', '84', '82', '44', '67', '55', '74', '46', '53', '61', '35', '39', '32', '39', '19', '18', '12', '10', '12', '8', '9', '2', '3', '0', '3', '0', '0', '1']\n"
     ]
    }
   ],
   "source": [
    "import csv\n",
    "with open('age.csv', encoding = 'euc_kr') as f:\n",
    "    data = csv.reader(f)\n",
    "    header = next(data)\n",
    "\n",
    "    result = []\n",
    "    for row in data:\n",
    "        if '산격3' in row[0]: # '산격3'이 포함된 자료 중에서\n",
    "            for data in row[3:]: # ‘0세 ~ 100세 이상까지 자료만 리스트에 추가\n",
    "                result.append(data)\n",
    "    print(result)"
   ]
  },
  {
   "cell_type": "markdown",
   "id": "369777c6",
   "metadata": {},
   "source": [
    "# 대구시 산격3동의 인구 분포 그래프 그리기"
   ]
  },
  {
   "cell_type": "code",
   "execution_count": 87,
   "id": "e57ee418",
   "metadata": {},
   "outputs": [
    {
     "name": "stdout",
     "output_type": "stream",
     "text": [
      "['대구광역시 북구 산격3동', '2723063000', '']\n"
     ]
    },
    {
     "data": {
      "image/png": "[encoded data removed]",
      "text/plain": [
       "<Figure size 432x288 with 1 Axes>"
      ]
     },
     "metadata": {},
     "output_type": "display_data"
    }
   ],
   "source": [
    "import csv\n",
    "import matplotlib.pyplot as plt\n",
    "import re\n",
    "import platform\n",
    "\n",
    "f = open('age.csv', encoding='euc_kr')\n",
    "data = csv.reader(f)\n",
    "\n",
    "result = []\n",
    "city = ''\n",
    "\n",
    "### 중요부분 ###\n",
    "for row in data:\n",
    "#     print(row[0])        # 0번 행의 자료들이 어떻게 들어가 있는지 확인\n",
    "    if '산격3' in row[0]:  # 본인 동네 하려면 '관음동'\n",
    "        str_list = re.split('[()]', row[0]) # [0]: '대구광역시 북구 산격3동(2723063000)'\n",
    "        print(str_list)                     # split되어서 어떻게 보관되는지 확인\n",
    "        city = str_list[0]\n",
    "        for data in row[3:]: # 0세부터 100세 이상까지 데이터\n",
    "            result.append(int(data)) # 숫자로 변환, result 리스트에 담아\n",
    "#             print(result)\n",
    "f.close()\n",
    "### ###\n",
    "\n",
    "if platform.system() == 'Windows':\n",
    "    plt.rc('font', family='Malgun Gothic')\n",
    "else:\n",
    "    plt.rc('font', family='AppleGothic')\n",
    "\n",
    "plt.title('{0} 인구현황'.format(city)) # 코드번호 떼고, 바로 타이틀로 사용하기 위한 re.split였음\n",
    "plt.xlabel('나이')\n",
    "plt.ylabel('인구수')\n",
    "plt.style.use('ggplot') # R에서 사용하는 ggplot 패키지 형태\n",
    "plt.plot(result)\n",
    "plt.show()"
   ]
  },
  {
   "cell_type": "markdown",
   "id": "29ee0bcf",
   "metadata": {},
   "source": [
    "# 정규식을 사용한 문자열 분리\n",
    "\n",
    "import re  \n",
    "re.split(패턴, 문자열, [최대분할개수])\n",
    "\n",
    "\n",
    "- 전체를 디버깅 하지마셈\n",
    "- 작은 단위의 테스트(small test, unit test)를 하면서 찾아낼 것  \n",
    " -> 따로 떼서 시험적으로 해보셈\n",
    "- 정규식을 쓰기 위해서는 re.split가 있는 모듈을 열어야 함  \n",
    " -> import re\n",
    "- re.split(패턴, 문자열, [최대분할개수])  \n",
    " ->      찾고자 하는 패턴, 원본문자열\n",
    "- API reference를 찾아가면서 꼭 할 것\n",
    "\n",
    "- 행정구역의 패턴을 확인 -> 남길 것, 제거할 것 등 구분해서 쓰기\n",
    "- 캡처(2,3)\n",
    "\n",
    "\n",
    "\n"
   ]
  },
  {
   "cell_type": "code",
   "execution_count": 84,
   "id": "6c2bfa71",
   "metadata": {},
   "outputs": [
    {
     "name": "stdout",
     "output_type": "stream",
     "text": [
      "3 ['대구광역시 북구 산격3동', '2723063000', '']\n",
      "대구광역시 북구 산격3동\n",
      "0\n",
      "[0]: 대구광역시 북구 산격3동\n",
      "1\n",
      "[1]: 2723063000\n",
      "2\n",
      "[2]: \n"
     ]
    }
   ],
   "source": [
    "import re\n",
    "\n",
    "city = '대구광역시 북구 산격3동(2723063000)'\n",
    "str_list = re.split('[()]', city)\n",
    "\n",
    "print(len(str_list), str_list)\n",
    "print(str_list[0])\n",
    "for i in range(len(str_list)):\n",
    "    print(i)\n",
    "    print('[{}]: {}'.format(i, str_list[i]))    "
   ]
  },
  {
   "cell_type": "code",
   "execution_count": 66,
   "id": "1f11486d",
   "metadata": {},
   "outputs": [
    {
     "name": "stdout",
     "output_type": "stream",
     "text": [
      "re.split 결과: ['apple', 'orange', 'banana', 'tomato', 'melon']\n",
      "s.split 결과 : ['apple orange:banana', 'tomato;melon']\n"
     ]
    }
   ],
   "source": [
    "import re\n",
    "s = 'apple orange:banana,tomato;melon'\n",
    "fruits = re.split('[ ,:;]', s)          # 순서는 안지켜도 됨.\n",
    "print(f're.split 결과: {fruits}')\n",
    "\n",
    "# vs. 문자열 내장함수 split와 비교\n",
    "fruits_1 = s.split(',')\n",
    "print(f's.split 결과 : {fruits_1}')"
   ]
  },
  {
   "cell_type": "markdown",
   "id": "41bf767a",
   "metadata": {},
   "source": [
    "# 실습: 인구 구조 그래프 함수 구현  \n",
    "- 라이브러리만으로 작업하는 것은 한계가 있지  \n",
    " -> 함수 만들어 놓으면 불러오면 되는 것  \n",
    " -> 자주 쓰는 것은 만들어 놓아보자  \n",
    " - 반복 => for문, 함수 (떠올리기)  \n",
    " - tip) 1줄에 10개들어가면 한 줄 띄우기  \n",
    "  \n",
    " - 앞의 함수 불러와서 사용\n",
    "- 반복된 일을 하게 되니까, 패턴화된 업무에 적용하기 위해서 코드를 재사용 하셈  \n",
    " - 그동안의 개발 경력들로 누적된 모듈들의 함수들을 잘 쓰도록  \n",
    " - 모듈화해서 잘 모아놓을 것  "
   ]
  },
  {
   "cell_type": "markdown",
   "id": "ebadb828",
   "metadata": {},
   "source": [
    "================================================================"
   ]
  },
  {
   "cell_type": "markdown",
   "id": "8804f55a",
   "metadata": {},
   "source": [
    "# 인구 구조 그래프 함수 구현 #1"
   ]
  },
  {
   "cell_type": "code",
   "execution_count": 89,
   "id": "f75ce313",
   "metadata": {},
   "outputs": [],
   "source": [
    "import csv\n",
    "import matplotlib.pyplot as plt\n",
    "import platform\n",
    "import matplotlib.font_manager as fm\n",
    "import re\n",
    "def parse_district_name(district):\n",
    "    '''\n",
    "    '행정구역' 명칭에서 숫자 부분을 제거함\n",
    "    - 서울특별시 종로구 (1111000000)\n",
    "    '''\n",
    "    district_name = re.split('[()]', district)\n",
    "    # [0]: 행정구역 이름, [1]: 코드 번호\n",
    "    return district_name[0]\n",
    "\n",
    "def print_population(population):\n",
    "    '''\n",
    "    특정 지역의 인구 현황을 화면에 출력함\n",
    "    '''\n",
    "    for i in range(len(population)):\n",
    "        print('{0:3d}세: {1:4d}명'.format(i, population[i]), end=' ')\n",
    "        if (i + 1) % 10 == 0:\n",
    "            print()"
   ]
  },
  {
   "cell_type": "markdown",
   "id": "d0be93c3",
   "metadata": {},
   "source": [
    "# 인구 구조 그래프 함수 구현 #2 "
   ]
  },
  {
   "cell_type": "code",
   "execution_count": 68,
   "id": "a1c51273",
   "metadata": {},
   "outputs": [],
   "source": [
    "def draw_population(district_name, population_list):\n",
    "    '''\n",
    "    특정 지역에 대한 인구 분포를 그래프로 나타냄(plot)\n",
    "    - district_name: 지역 이름\n",
    "    - population_list: 0~100세 이상까지 인구수 리스트\n",
    "    '''\n",
    "    # 그래프 출력\n",
    "    \n",
    "    if platform.system() == 'Windows':\n",
    "        font_name = fm.FontProperties(fname=\"c:\\Windows\\Fonts\\malgun.ttf\").get_name()\n",
    "        plt.rc('font', family=font_name)\n",
    "    else:\n",
    "        plt.rc('font', family='AppleGothic')\n",
    "\n",
    "    plt.style.use('ggplot')\n",
    "    plt.title('{} 인구 현황'.format(district_name))\n",
    "    plt.xlabel('나이')\n",
    "    plt.ylabel('인구수')\n",
    "\n",
    "    plt.bar(range(101), population_list)\n",
    "    plt.xticks(range(0, 101, 10)) # 0세 ~ 100세 이상\n",
    "\n",
    "    plt.plot(population_list)\n",
    "    plt.show()"
   ]
  },
  {
   "cell_type": "markdown",
   "id": "4e429ac4",
   "metadata": {},
   "source": [
    "# 인구 구조 그래프 함수 구현 #3"
   ]
  },
  {
   "cell_type": "code",
   "execution_count": 69,
   "id": "e3b35062",
   "metadata": {},
   "outputs": [
    {
     "name": "stdout",
     "output_type": "stream",
     "text": [
      "인구 구조를 알고 싶은 지역의 이름(읍면동 단위)을 입력하세요: 관음동\n",
      "  0세:   48명   1세:   44명   2세:   55명   3세:   56명   4세:   59명   5세:   73명   6세:   79명   7세:  120명   8세:  103명   9세:  106명 \n",
      " 10세:  116명  11세:  135명  12세:   95명  13세:  118명  14세:  144명  15세:  130명  16세:  151명  17세:  158명  18세:  188명  19세:  168명 \n",
      " 20세:  183명  21세:  199명  22세:  266명  23세:  205명  24세:  229명  25세:  239명  26세:  217명  27세:  223명  28세:  197명  29세:  200명 \n",
      " 30세:  227명  31세:  157명  32세:  159명  33세:  152명  34세:  148명  35세:  140명  36세:  156명  37세:  143명  38세:  128명  39세:  145명 \n",
      " 40세:  191명  41세:  183명  42세:  197명  43세:  196명  44세:  179명  45세:  199명  46세:  214명  47세:  255명  48세:  281명  49세:  312명 \n",
      " 50세:  338명  51세:  337명  52세:  362명  53세:  396명  54세:  334명  55세:  335명  56세:  311명  57세:  347명  58세:  287명  59세:  398명 \n",
      " 60세:  319명  61세:  387명  62세:  370명  63세:  307명  64세:  296명  65세:  271명  66세:  237명  67세:  252명  68세:  181명  69세:  193명 \n",
      " 70세:  192명  71세:  132명  72세:  122명  73세:  123명  74세:  146명  75세:  130명  76세:   57명  77세:  105명  78세:   99명  79세:  106명 \n",
      " 80세:  120명  81세:   90명  82세:   85명  83세:   83명  84세:   60명  85세:   65명  86세:   59명  87세:   40명  88세:   34명  89세:   23명 \n",
      " 90세:   21명  91세:   10명  92세:    8명  93세:    7명  94세:    4명  95세:    2명  96세:    1명  97세:    1명  98세:    0명  99세:    1명 \n",
      "100세:    4명 "
     ]
    },
    {
     "data": {
      "image/png": "[encoded data removed]",
      "text/plain": [
       "<Figure size 432x288 with 1 Axes>"
      ]
     },
     "metadata": {},
     "output_type": "display_data"
    }
   ],
   "source": [
    "def get_population(district):\n",
    "    f = open('age.csv', encoding='euc_kr')\n",
    "    data = csv.reader(f)\n",
    "    header = next(data) # 헤더 정보 건너뜀\n",
    "    population_list = []\n",
    "    full_district_name = ''\n",
    "    for row in data:\n",
    "        if district in row[0]:\n",
    "            full_district_name = parse_district_name(row[0]) # (시 구 동) 이름만 분리\n",
    "            for data in row[3:]:\n",
    "                if ',' in data:\n",
    "                    data = data.replace(',','') # 천단위 콤마 제거\n",
    "                population_list.append(int(data))\n",
    "    f.close()\n",
    "    print_population(population_list)\n",
    "    draw_population(full_district_name, population_list)\n",
    "\n",
    "district = input('인구 구조를 알고 싶은 지역의 이름(읍면동 단위)을 입력하세요: ')\n",
    "get_population(district)"
   ]
  },
  {
   "cell_type": "code",
   "execution_count": 70,
   "id": "30f94e44",
   "metadata": {},
   "outputs": [],
   "source": [
    "## 위의 district_name 해결 => 들여쓰기 문제였음. 잘 보고 할 것"
   ]
  },
  {
   "cell_type": "markdown",
   "id": "e7af2c79",
   "metadata": {},
   "source": [
    "# 투표 가능 인구수 분석 #1"
   ]
  },
  {
   "cell_type": "code",
   "execution_count": 71,
   "id": "072d54f9",
   "metadata": {},
   "outputs": [],
   "source": [
    "# city_population = int(city_populaiotn) 의 들여쓰기 주의\n",
    "# #19\n",
    "# 18세이 이상만 빼낼 거니까 [21:]\n",
    "# break => 전체 것만 빼내기 위해"
   ]
  },
  {
   "cell_type": "code",
   "execution_count": 72,
   "id": "e6fd6f20",
   "metadata": {},
   "outputs": [],
   "source": [
    "import csv\n",
    "import matplotlib.pyplot as plt\n",
    "import platform\n",
    "import matplotlib.font_manager as fm\n",
    "import re\n",
    "\n",
    "def parse_city_name(city):\n",
    "    '''\n",
    "    행정구역명에서 도시 이름 파싱 (코드 번호 제거)\n",
    "    :param city:\n",
    "    :return:\n",
    "    '''\n",
    "    city_name = re.split('[()]', city)\n",
    "    # [0]: 행정구역 이름, [1]: 코드 번호\n",
    "    return city_name[0]"
   ]
  },
  {
   "cell_type": "code",
   "execution_count": 73,
   "id": "cebf6215",
   "metadata": {
    "scrolled": true
   },
   "outputs": [],
   "source": [
    "def draw_piechart(city_name, city_population, voting_population):\n",
    "    '''\n",
    "    전체 인구수 대비 투표 가능 인구의 파이차트 작성\n",
    "    '''\n",
    "    non_voting_population = city_population - voting_population\n",
    "    population = [non_voting_population, voting_population]\n",
    "    \n",
    "    if platform.system() == 'Windows':\n",
    "        plt.rc('font', family='Malgun Gothic')\n",
    "    else:\n",
    "        plt.rc('font', family='AppleGothic')\n",
    "\n",
    "    color = ['tomato', 'royalblue']\n",
    "               \n",
    "    plt.pie(population, labels=['18세 미만', '투표가능인구'],\n",
    "            autopct='%.1f%%', colors=color, startangle=90)\n",
    "               \n",
    "    plt.legend()\n",
    "    plt.title(city_name + \" 투표 가능 인구 비율\")\n",
    "    plt.show()"
   ]
  },
  {
   "cell_type": "code",
   "execution_count": 75,
   "id": "7ada8135",
   "metadata": {
    "scrolled": true
   },
   "outputs": [
    {
     "name": "stdout",
     "output_type": "stream",
     "text": [
      "투표 가능 인구수를 확인할 도시이름을 입력하시오: 대구광역시\n",
      "대구광역시   전체 인구수:2,375,306명, 투표 가능 인구수: 2,042,207명\n"
     ]
    },
    {
     "data": {
      "image/png": "[encoded data removed]",
      "text/plain": [
       "<Figure size 432x288 with 1 Axes>"
      ]
     },
     "metadata": {},
     "output_type": "display_data"
    }
   ],
   "source": [
    "def get_voting_population(city):\n",
    "    '''\n",
    "    전체 인구수 : row[1], 투표 가능 인구수 분석 row[21:]\n",
    "    '''\n",
    "    f = open('age.csv', encoding='euc_kr')\n",
    "    data = csv.reader(f)\n",
    "    header = next(data) # 헤더 정보 건너뜀\n",
    "\n",
    "    city_name = ''\n",
    "    city_population = 0 # 도시 전체 인구수\n",
    "    voting_population = 0 # 투표 가능 인구수\n",
    "\n",
    "    for row in data:\n",
    "        if city in row[0]:\n",
    "            city_population = row[1]\n",
    "            if ',' in city_population:\n",
    "                # 도시 전체 인구수에서 천단위 콤마 제거\n",
    "                city_population = city_population.replace(',', '')\n",
    "            city_population = int(city_population)\n",
    "            city_name = parse_city_name(row[0]) # (시 구 동) 이름만 분리: 지역 번호 제거\n",
    "\n",
    "            for data in row[21:]:\n",
    "                if ',' in data:\n",
    "                    data = data.replace(',','') # 천단위 콤마 제거\n",
    "                voting_num = int(data)\n",
    "                voting_population += voting_num # 누적된 투표 가능 인구수\n",
    "            break                               # 위치 주의!!\n",
    "    f.close()\n",
    "    \n",
    "    print('{} 전체 인구수:{:,}명, 투표 가능 인구수: {:,}명'.\n",
    "    format(city_name, city_population, voting_population))\n",
    "    draw_piechart(city_name, city_population, voting_population)\n",
    "    \n",
    "city = input('투표 가능 인구수를 확인할 도시이름을 입력하시오: ')\n",
    "# '대구광역시'까지 써야합니당\n",
    "get_voting_population(city)"
   ]
  }
 ],
 "metadata": {
  "kernelspec": {
   "display_name": "Python 3 (ipykernel)",
   "language": "python",
   "name": "python3"
  },
  "language_info": {
   "codemirror_mode": {
    "name": "ipython",
    "version": 3
   },
   "file_extension": ".py",
   "mimetype": "text/x-python",
   "name": "python",
   "nbconvert_exporter": "python",
   "pygments_lexer": "ipython3",
   "version": "3.9.12"
  }
 },
 "nbformat": 4,
 "nbformat_minor": 5
}
