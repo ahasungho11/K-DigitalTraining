{
 "cells": [
  {
   "cell_type": "code",
   "execution_count": 260,
   "id": "783097e9",
   "metadata": {},
   "outputs": [
    {
     "name": "stdout",
     "output_type": "stream",
     "text": [
      "Index(['날짜', '지점', '평균기온', '최저기온', '최고기온'], dtype='object')\n",
      "object\n"
     ]
    }
   ],
   "source": [
    "import pandas as pd\n",
    "\n",
    "weather_df = pd.read_csv('Daegu_utf8.csv', encoding='utf-8')\n",
    "print(weather_df.columns)\n",
    "print(weather_df['날짜'].dtype)  # 날짜 컬럼이 문자열이구나 -> datetime으로 변환"
   ]
  },
  {
   "cell_type": "code",
   "execution_count": 261,
   "id": "8759fcef",
   "metadata": {},
   "outputs": [
    {
     "name": "stdout",
     "output_type": "stream",
     "text": [
      "datetime64[ns]\n"
     ]
    }
   ],
   "source": [
    "weather_df['날짜'] = pd.to_datetime(weather_df['날짜'])\n",
    "print(weather_df['날짜'].dtype)"
   ]
  },
  {
   "cell_type": "code",
   "execution_count": 262,
   "id": "782f5160",
   "metadata": {},
   "outputs": [
    {
     "name": "stdout",
     "output_type": "stream",
     "text": [
      "시작 연도를 입력하세요: 2010\n",
      "마지막 연도를 입력하세요: 2021\n",
      "기온 변화를 측정할 달을 입력하세요: 12\n"
     ]
    }
   ],
   "source": [
    "start_year = input('시작 연도를 입력하세요: ')\n",
    "last_year = input('마지막 연도를 입력하세요: ')\n",
    "choice_month = input('기온 변화를 측정할 달을 입력하세요: ')"
   ]
  },
  {
   "cell_type": "code",
   "execution_count": 263,
   "id": "fb14d4d1",
   "metadata": {},
   "outputs": [
    {
     "name": "stderr",
     "output_type": "stream",
     "text": [
      "C:\\Users\\ahasu\\AppData\\Local\\Temp\\ipykernel_12392\\4172243068.py:11: SettingWithCopyWarning: \n",
      "A value is trying to be set on a copy of a slice from a DataFrame.\n",
      "Try using .loc[row_indexer,col_indexer] = value instead\n",
      "\n",
      "See the caveats in the documentation: https://pandas.pydata.org/pandas-docs/stable/user_guide/indexing.html#returning-a-view-versus-a-copy\n",
      "  choice_month_df['날짜'] = choice_month_df['날짜'].astype(str)\n"
     ]
    },
    {
     "data": {
      "text/html": [
       "<div>\n",
       "<style scoped>\n",
       "    .dataframe tbody tr th:only-of-type {\n",
       "        vertical-align: middle;\n",
       "    }\n",
       "\n",
       "    .dataframe tbody tr th {\n",
       "        vertical-align: top;\n",
       "    }\n",
       "\n",
       "    .dataframe thead th {\n",
       "        text-align: right;\n",
       "    }\n",
       "</style>\n",
       "<table border=\"1\" class=\"dataframe\">\n",
       "  <thead>\n",
       "    <tr style=\"text-align: right;\">\n",
       "      <th></th>\n",
       "      <th>날짜</th>\n",
       "      <th>지점</th>\n",
       "      <th>평균기온</th>\n",
       "      <th>최저기온</th>\n",
       "      <th>최고기온</th>\n",
       "      <th>0</th>\n",
       "      <th>1</th>\n",
       "      <th>2</th>\n",
       "    </tr>\n",
       "  </thead>\n",
       "  <tbody>\n",
       "    <tr>\n",
       "      <th>37222</th>\n",
       "      <td>2010-12-01</td>\n",
       "      <td>143</td>\n",
       "      <td>8.4</td>\n",
       "      <td>2.4</td>\n",
       "      <td>16.9</td>\n",
       "      <td>2010</td>\n",
       "      <td>12</td>\n",
       "      <td>01</td>\n",
       "    </tr>\n",
       "    <tr>\n",
       "      <th>37223</th>\n",
       "      <td>2010-12-02</td>\n",
       "      <td>143</td>\n",
       "      <td>6.8</td>\n",
       "      <td>3.7</td>\n",
       "      <td>10.0</td>\n",
       "      <td>2010</td>\n",
       "      <td>12</td>\n",
       "      <td>02</td>\n",
       "    </tr>\n",
       "    <tr>\n",
       "      <th>37224</th>\n",
       "      <td>2010-12-03</td>\n",
       "      <td>143</td>\n",
       "      <td>5.6</td>\n",
       "      <td>1.8</td>\n",
       "      <td>8.7</td>\n",
       "      <td>2010</td>\n",
       "      <td>12</td>\n",
       "      <td>03</td>\n",
       "    </tr>\n",
       "    <tr>\n",
       "      <th>37225</th>\n",
       "      <td>2010-12-04</td>\n",
       "      <td>143</td>\n",
       "      <td>5.0</td>\n",
       "      <td>0.7</td>\n",
       "      <td>11.5</td>\n",
       "      <td>2010</td>\n",
       "      <td>12</td>\n",
       "      <td>04</td>\n",
       "    </tr>\n",
       "    <tr>\n",
       "      <th>37226</th>\n",
       "      <td>2010-12-05</td>\n",
       "      <td>143</td>\n",
       "      <td>7.4</td>\n",
       "      <td>1.0</td>\n",
       "      <td>15.5</td>\n",
       "      <td>2010</td>\n",
       "      <td>12</td>\n",
       "      <td>05</td>\n",
       "    </tr>\n",
       "    <tr>\n",
       "      <th>...</th>\n",
       "      <td>...</td>\n",
       "      <td>...</td>\n",
       "      <td>...</td>\n",
       "      <td>...</td>\n",
       "      <td>...</td>\n",
       "      <td>...</td>\n",
       "      <td>...</td>\n",
       "      <td>...</td>\n",
       "    </tr>\n",
       "    <tr>\n",
       "      <th>41264</th>\n",
       "      <td>2021-12-27</td>\n",
       "      <td>143</td>\n",
       "      <td>-2.1</td>\n",
       "      <td>-7.9</td>\n",
       "      <td>2.3</td>\n",
       "      <td>2021</td>\n",
       "      <td>12</td>\n",
       "      <td>27</td>\n",
       "    </tr>\n",
       "    <tr>\n",
       "      <th>41265</th>\n",
       "      <td>2021-12-28</td>\n",
       "      <td>143</td>\n",
       "      <td>2.1</td>\n",
       "      <td>-3.4</td>\n",
       "      <td>7.4</td>\n",
       "      <td>2021</td>\n",
       "      <td>12</td>\n",
       "      <td>28</td>\n",
       "    </tr>\n",
       "    <tr>\n",
       "      <th>41266</th>\n",
       "      <td>2021-12-29</td>\n",
       "      <td>143</td>\n",
       "      <td>3.5</td>\n",
       "      <td>-2.6</td>\n",
       "      <td>10.0</td>\n",
       "      <td>2021</td>\n",
       "      <td>12</td>\n",
       "      <td>29</td>\n",
       "    </tr>\n",
       "    <tr>\n",
       "      <th>41267</th>\n",
       "      <td>2021-12-30</td>\n",
       "      <td>143</td>\n",
       "      <td>1.1</td>\n",
       "      <td>-1.9</td>\n",
       "      <td>4.9</td>\n",
       "      <td>2021</td>\n",
       "      <td>12</td>\n",
       "      <td>30</td>\n",
       "    </tr>\n",
       "    <tr>\n",
       "      <th>41268</th>\n",
       "      <td>2021-12-31</td>\n",
       "      <td>143</td>\n",
       "      <td>-2.5</td>\n",
       "      <td>-4.9</td>\n",
       "      <td>1.6</td>\n",
       "      <td>2021</td>\n",
       "      <td>12</td>\n",
       "      <td>31</td>\n",
       "    </tr>\n",
       "  </tbody>\n",
       "</table>\n",
       "<p>372 rows × 8 columns</p>\n",
       "</div>"
      ],
      "text/plain": [
       "               날짜   지점  평균기온  최저기온  최고기온     0   1   2\n",
       "37222  2010-12-01  143   8.4   2.4  16.9  2010  12  01\n",
       "37223  2010-12-02  143   6.8   3.7  10.0  2010  12  02\n",
       "37224  2010-12-03  143   5.6   1.8   8.7  2010  12  03\n",
       "37225  2010-12-04  143   5.0   0.7  11.5  2010  12  04\n",
       "37226  2010-12-05  143   7.4   1.0  15.5  2010  12  05\n",
       "...           ...  ...   ...   ...   ...   ...  ..  ..\n",
       "41264  2021-12-27  143  -2.1  -7.9   2.3  2021  12  27\n",
       "41265  2021-12-28  143   2.1  -3.4   7.4  2021  12  28\n",
       "41266  2021-12-29  143   3.5  -2.6  10.0  2021  12  29\n",
       "41267  2021-12-30  143   1.1  -1.9   4.9  2021  12  30\n",
       "41268  2021-12-31  143  -2.5  -4.9   1.6  2021  12  31\n",
       "\n",
       "[372 rows x 8 columns]"
      ]
     },
     "execution_count": 263,
     "metadata": {},
     "output_type": "execute_result"
    }
   ],
   "source": [
    "# 입력한 조건에 맞는 날짜들로 줄여 나가는 중\n",
    "# datetime으로 바꿨기 때문에 dt를 써서 조건을 주면서 줄여나가는 중\n",
    "\n",
    "start_year_df = weather_df[weather_df['날짜'].dt.year >= int(start_year)]\n",
    "last_year_df = start_year_df[start_year_df['날짜'].dt.year <= int(last_year)]\n",
    "last_year_df\n",
    "\n",
    "choice_month_df = last_year_df[last_year_df['날짜'].dt.month == int(choice_month)]\n",
    "\n",
    "# 입력한 조건대로 DF을 뽑았다면, 그 DF에서의 '날짜'컬럼을 다시 그룹화를 위해 문자열로 바꿔줌\n",
    "choice_month_df['날짜'] = choice_month_df['날짜'].astype(str)\n",
    "\n",
    "choice_month_df = pd.concat([choice_month_df, choice_month_df['날짜'].str.split('-', expand=True)], axis=1)\n",
    "choice_month_df"
   ]
  },
  {
   "cell_type": "code",
   "execution_count": 265,
   "id": "5f1a7556",
   "metadata": {},
   "outputs": [
    {
     "name": "stdout",
     "output_type": "stream",
     "text": [
      "2010년부터 2021년까지 12월의 기온 변화\n",
      "12월 최저기온 평균: \n",
      "-2.5, -1.5, -3.9, -0.5, -2.8, 0.5, -0.6, -4.0, -2.3, -1.0, -3.1, -2.1\n",
      "12월 최고기온 평균: \n",
      "7.3, 6.9, 3.9, 8.1, 5.8, 9.0, 8.7, 5.8, 7.0, 9.0, 7.2, 8.9\n"
     ]
    },
    {
     "data": {
      "image/png": "[encoded data removed]",
      "text/plain": [
       "<Figure size 1440x288 with 1 Axes>"
      ]
     },
     "metadata": {
      "needs_background": "light"
     },
     "output_type": "display_data"
    }
   ],
   "source": [
    "choice_month_df = choice_month_df.groupby(0).mean()     # 그룹바이 할때 ''안 쓰는 것 인지!, 집계함수 쓸 때도 주의 !!\n",
    "\n",
    "max_temp_mean = list(round(choice_month_df['최고기온'],1))\n",
    "min_temp_mean = list(round(choice_month_df['최저기온'],1))\n",
    "\n",
    "x_year = []\n",
    "for i in range(int(start_year), int(last_year)+1):\n",
    "    x_year.append(i)\n",
    "\n",
    "# 대괄호 없애고 출력하기 (인욱씨 style) => 과정 이해하기!!\n",
    "str1 = str(max_temp_mean[0])\n",
    "for data in max_temp_mean[1:]:\n",
    "    str1 = str1 + ', ' + str(data)\n",
    "    \n",
    "str2 = str(min_temp_mean[0])\n",
    "for data in min_temp_mean[1:]:\n",
    "    str2 = str2 + ', ' + str(data)\n",
    "    \n",
    "print(f'{start_year}년부터 {last_year}년까지 {choice_month}월의 기온 변화')\n",
    "print(f'{choice_month}월 최저기온 평균: \\n{str2}')\n",
    "print(f'{choice_month}월 최고기온 평균: \\n{str1}')\n",
    "\n",
    "import csv\n",
    "import platform\n",
    "import matplotlib.pyplot as plt\n",
    "import matplotlib.font_manager as fm\n",
    "   \n",
    "if platform.system() == 'Windows':\n",
    "    font_name = fm.FontProperties(fname='c:\\Windows\\Fonts\\malgun.ttf').get_name()\n",
    "    plt.rc('font', family=font_name)\n",
    "\n",
    "plt.figure(figsize=(20, 4))\n",
    "plt.plot(x_year, max_temp_mean, 'red', marker='o', label='최고기온')\n",
    "plt.plot(x_year, min_temp_mean, 'blue', marker='s', label='최저기온')\n",
    "plt.rcParams['axes.unicode_minus'] = False\n",
    "plt.title(\"{}년부터 {}년까지 {}월의 기온 변화\".format(start_year, last_year, choice_month), size=16)\n",
    "plt.xticks(x_year)\n",
    "plt.legend(loc=0)\n",
    "plt.show()"
   ]
  }
 ],
 "metadata": {
  "kernelspec": {
   "display_name": "Python 3 (ipykernel)",
   "language": "python",
   "name": "python3"
  },
  "language_info": {
   "codemirror_mode": {
    "name": "ipython",
    "version": 3
   },
   "file_extension": ".py",
   "mimetype": "text/x-python",
   "name": "python",
   "nbconvert_exporter": "python",
   "pygments_lexer": "ipython3",
   "version": "3.9.12"
  }
 },
 "nbformat": 4,
 "nbformat_minor": 5
}
