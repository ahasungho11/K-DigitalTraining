{
 "cells": [
  {
   "cell_type": "markdown",
   "id": "1f02b84a",
   "metadata": {},
   "source": [
    "#### ★ 처음 데이터 확인하는 사항들\n",
    "- head()나 tail(), info(), .shape, .index, columns, .info() 등 정보확인 해줄것\n",
    "- 확장자에 맞는 구분자가 맞는지 (구분자가 무엇인지) 확인\n",
    "- 첫 행이 컬럼명인지 / 아닌지"
   ]
  },
  {
   "cell_type": "markdown",
   "id": "f129fa91",
   "metadata": {},
   "source": [
    "# 데이터 개수와 고유값\n",
    "\n",
    "- 컬럼별 개수  =>  count() 메서드             (중복o, 개수 파악)  \n",
    "\n",
    "- 컬럼별 고유값  =>  unique() 메서드          (중복x, 종류 파악)\n",
    "\n",
    "- 컬럼별 값 개수  =>  value_counts() 메서드   (종류에 따른 개수 파악)\n"
   ]
  },
  {
   "cell_type": "code",
   "execution_count": 4,
   "id": "51b4f6b6",
   "metadata": {},
   "outputs": [],
   "source": [
    "# 모듈 로딩\n",
    "import pandas as pd\n",
    "\n",
    "# 파일 관련 변수 선언\n",
    "DIR_PATH = '../Data/'\n",
    "FILE_NAME = DIR_PATH+'iris.csv'"
   ]
  },
  {
   "cell_type": "code",
   "execution_count": 5,
   "id": "8cba1c91",
   "metadata": {},
   "outputs": [],
   "source": [
    "# 1) 데이터 로딩 (File -> DataFrame으로 가져오기)\n",
    "#  - 구분자가 맞는가 (확장자에 맞는)\n",
    "#  - 첫 행이 컬럼명인가, 데이터 인가 확인\n",
    "irisDF = pd.read_csv(FILE_NAME)      # csv는 첫행을 컬럼명으로 하기 때문에 그대로"
   ]
  },
  {
   "cell_type": "code",
   "execution_count": 6,
   "id": "1ab36228",
   "metadata": {
    "collapsed": true
   },
   "outputs": [
    {
     "data": {
      "text/plain": [
       "<bound method DataFrame.info of      SepalLength  SepalWidth  PetalLength  PetalWidth            Name\n",
       "0            5.1         3.5          1.4         0.2     Iris-setosa\n",
       "1            4.9         3.0          1.4         0.2     Iris-setosa\n",
       "2            4.7         3.2          1.3         0.2     Iris-setosa\n",
       "3            4.6         3.1          1.5         0.2     Iris-setosa\n",
       "4            5.0         3.6          1.4         0.2     Iris-setosa\n",
       "..           ...         ...          ...         ...             ...\n",
       "145          6.7         3.0          5.2         2.3  Iris-virginica\n",
       "146          6.3         2.5          5.0         1.9  Iris-virginica\n",
       "147          6.5         3.0          5.2         2.0  Iris-virginica\n",
       "148          6.2         3.4          5.4         2.3  Iris-virginica\n",
       "149          5.9         3.0          5.1         1.8  Iris-virginica\n",
       "\n",
       "[150 rows x 5 columns]>"
      ]
     },
     "execution_count": 6,
     "metadata": {},
     "output_type": "execute_result"
    }
   ],
   "source": [
    "# 1) 데이터 확인하기\n",
    "# DF 요약 정보 ==> info()\n",
    "irisDF. info"
   ]
  },
  {
   "cell_type": "code",
   "execution_count": 7,
   "id": "cca44dfd",
   "metadata": {},
   "outputs": [
    {
     "data": {
      "text/plain": [
       "Index(['SepalLength', 'SepalWidth', 'PetalLength', 'PetalWidth', 'Name'], dtype='object')"
      ]
     },
     "execution_count": 7,
     "metadata": {},
     "output_type": "execute_result"
    }
   ],
   "source": [
    "# DF columns 정보 확인\n",
    "irisDF.columns"
   ]
  },
  {
   "cell_type": "code",
   "execution_count": 66,
   "id": "e333539f",
   "metadata": {
    "scrolled": true
   },
   "outputs": [
    {
     "data": {
      "text/plain": [
       "((150, 5), 2)"
      ]
     },
     "execution_count": 66,
     "metadata": {},
     "output_type": "execute_result"
    }
   ],
   "source": [
    "# DF shape, ndim 정보 확인\n",
    "irisDF.shape, irisDF.ndim"
   ]
  },
  {
   "cell_type": "code",
   "execution_count": 24,
   "id": "27c9e26a",
   "metadata": {},
   "outputs": [
    {
     "data": {
      "text/plain": [
       "(0         Iris-setosa\n",
       " 1         Iris-setosa\n",
       " 2         Iris-setosa\n",
       " 3         Iris-setosa\n",
       " 4         Iris-setosa\n",
       "             ...      \n",
       " 145    Iris-virginica\n",
       " 146    Iris-virginica\n",
       " 147    Iris-virginica\n",
       " 148    Iris-virginica\n",
       " 149    Iris-virginica\n",
       " Name: Name, Length: 150, dtype: object,\n",
       " pandas.core.series.Series)"
      ]
     },
     "execution_count": 24,
     "metadata": {},
     "output_type": "execute_result"
    }
   ],
   "source": [
    "# 2) 원하는 작업 수행\n",
    "# 'Name' 컬럼 추출\n",
    "irisDF_name = irisDF['Name']\n",
    "irisDF_name, type(irisDF_name)"
   ]
  },
  {
   "cell_type": "code",
   "execution_count": 19,
   "id": "c728eca0",
   "metadata": {},
   "outputs": [
    {
     "data": {
      "text/plain": [
       "150"
      ]
     },
     "execution_count": 19,
     "metadata": {},
     "output_type": "execute_result"
    }
   ],
   "source": [
    "# 'Name' 컬럼의 데이터 개수 (중복 허용)\n",
    "irisDF_name.count()"
   ]
  },
  {
   "cell_type": "code",
   "execution_count": 20,
   "id": "7bbe3e84",
   "metadata": {},
   "outputs": [
    {
     "data": {
      "text/plain": [
       "array(['Iris-setosa', 'Iris-versicolor', 'Iris-virginica'], dtype=object)"
      ]
     },
     "execution_count": 20,
     "metadata": {},
     "output_type": "execute_result"
    }
   ],
   "source": [
    "# 'Name' 컬럼의 고유값  (중복 제거, 값의 종류, like 고유명사가 몇개인가)\n",
    "irisDF_name.unique()"
   ]
  },
  {
   "cell_type": "code",
   "execution_count": 21,
   "id": "26933185",
   "metadata": {},
   "outputs": [
    {
     "data": {
      "text/plain": [
       "Iris-setosa        50\n",
       "Iris-versicolor    50\n",
       "Iris-virginica     50\n",
       "Name: Name, dtype: int64"
      ]
     },
     "execution_count": 21,
     "metadata": {},
     "output_type": "execute_result"
    }
   ],
   "source": [
    "# 'Name' 컬럼의 고유값 종류&개수 ㅇ\n",
    "irisDF_name.value_counts()"
   ]
  },
  {
   "cell_type": "code",
   "execution_count": 64,
   "id": "eaebb506",
   "metadata": {},
   "outputs": [],
   "source": [
    "# irisDF.columns"
   ]
  },
  {
   "cell_type": "code",
   "execution_count": 25,
   "id": "6ca5359b",
   "metadata": {
    "collapsed": true
   },
   "outputs": [
    {
     "data": {
      "text/plain": [
       "0      5.1\n",
       "1      4.9\n",
       "2      4.7\n",
       "3      4.6\n",
       "4      5.0\n",
       "      ... \n",
       "145    6.7\n",
       "146    6.3\n",
       "147    6.5\n",
       "148    6.2\n",
       "149    5.9\n",
       "Name: SepalLength, Length: 150, dtype: float64"
      ]
     },
     "execution_count": 25,
     "metadata": {},
     "output_type": "execute_result"
    }
   ],
   "source": [
    "# 'SepalLength' 컬럼의 데이터 갯수, 값의 종류, 값의 갯수 출력\n",
    "irisDF_SL = irisDF['SepalLength']\n",
    "irisDF_SL"
   ]
  },
  {
   "cell_type": "code",
   "execution_count": 27,
   "id": "61b74749",
   "metadata": {},
   "outputs": [
    {
     "data": {
      "text/plain": [
       "150"
      ]
     },
     "execution_count": 27,
     "metadata": {},
     "output_type": "execute_result"
    }
   ],
   "source": [
    "irisDF_SL.count()"
   ]
  },
  {
   "cell_type": "code",
   "execution_count": 28,
   "id": "5634f326",
   "metadata": {
    "collapsed": true
   },
   "outputs": [
    {
     "data": {
      "text/plain": [
       "array([5.1, 4.9, 4.7, 4.6, 5. , 5.4, 4.4, 4.8, 4.3, 5.8, 5.7, 5.2, 5.5,\n",
       "       4.5, 5.3, 7. , 6.4, 6.9, 6.5, 6.3, 6.6, 5.9, 6. , 6.1, 5.6, 6.7,\n",
       "       6.2, 6.8, 7.1, 7.6, 7.3, 7.2, 7.7, 7.4, 7.9])"
      ]
     },
     "execution_count": 28,
     "metadata": {},
     "output_type": "execute_result"
    }
   ],
   "source": [
    "irisDF_SL.unique()"
   ]
  },
  {
   "cell_type": "code",
   "execution_count": 32,
   "id": "55c80171",
   "metadata": {
    "collapsed": true
   },
   "outputs": [
    {
     "data": {
      "text/plain": [
       "5.0    10\n",
       "5.1     9\n",
       "6.3     9\n",
       "5.7     8\n",
       "6.7     8\n",
       "5.8     7\n",
       "5.5     7\n",
       "6.4     7\n",
       "4.9     6\n",
       "5.4     6\n",
       "6.1     6\n",
       "6.0     6\n",
       "5.6     6\n",
       "4.8     5\n",
       "6.5     5\n",
       "6.2     4\n",
       "7.7     4\n",
       "6.9     4\n",
       "4.6     4\n",
       "5.2     4\n",
       "5.9     3\n",
       "4.4     3\n",
       "7.2     3\n",
       "6.8     3\n",
       "6.6     2\n",
       "4.7     2\n",
       "7.6     1\n",
       "7.4     1\n",
       "7.3     1\n",
       "7.0     1\n",
       "7.1     1\n",
       "5.3     1\n",
       "4.3     1\n",
       "4.5     1\n",
       "7.9     1\n",
       "Name: SepalLength, dtype: int64"
      ]
     },
     "execution_count": 32,
     "metadata": {},
     "output_type": "execute_result"
    }
   ],
   "source": [
    "irisDF_SL.value_counts()"
   ]
  },
  {
   "cell_type": "code",
   "execution_count": 36,
   "id": "79ac1961",
   "metadata": {
    "scrolled": true
   },
   "outputs": [
    {
     "data": {
      "text/plain": [
       "10"
      ]
     },
     "execution_count": 36,
     "metadata": {},
     "output_type": "execute_result"
    }
   ],
   "source": [
    "# 해당 객체 안에서 빈도의 최대값\n",
    "irisDF_SL.value_counts().max()"
   ]
  },
  {
   "cell_type": "code",
   "execution_count": 48,
   "id": "80ad9cac",
   "metadata": {},
   "outputs": [
    {
     "data": {
      "text/plain": [
       "1"
      ]
     },
     "execution_count": 48,
     "metadata": {},
     "output_type": "execute_result"
    }
   ],
   "source": [
    "# 해당 객체 안에서 빈도의 최소값\n",
    "irisDF_SL.value_counts().min()"
   ]
  },
  {
   "cell_type": "code",
   "execution_count": 43,
   "id": "8577195d",
   "metadata": {},
   "outputs": [
    {
     "data": {
      "text/plain": [
       "Float64Index([5.0, 5.1, 6.3, 5.7, 6.7, 5.8, 5.5, 6.4, 4.9, 5.4, 6.1, 6.0, 5.6,\n",
       "              4.8, 6.5, 6.2, 7.7, 6.9, 4.6, 5.2, 5.9, 4.4, 7.2, 6.8, 6.6, 4.7,\n",
       "              7.6, 7.4, 7.3, 7.0, 7.1, 5.3, 4.3, 4.5, 7.9],\n",
       "             dtype='float64')"
      ]
     },
     "execution_count": 43,
     "metadata": {},
     "output_type": "execute_result"
    }
   ],
   "source": [
    "# 해당 객체의 고유값들의 인덱스\n",
    "irisDF_SL.value_counts().index"
   ]
  },
  {
   "cell_type": "code",
   "execution_count": 47,
   "id": "aa5c76a9",
   "metadata": {},
   "outputs": [
    {
     "data": {
      "text/plain": [
       "5.0"
      ]
     },
     "execution_count": 47,
     "metadata": {},
     "output_type": "execute_result"
    }
   ],
   "source": [
    "# 해당 객체의 인덱스에서 0번 요소\n",
    "irisDF_SL.value_counts().index[0]"
   ]
  },
  {
   "cell_type": "code",
   "execution_count": 37,
   "id": "efae5945",
   "metadata": {},
   "outputs": [
    {
     "data": {
      "text/plain": [
       "0"
      ]
     },
     "execution_count": 37,
     "metadata": {},
     "output_type": "execute_result"
    }
   ],
   "source": [
    "# 최대값이 들어 있는 인덱스\n",
    "irisDF_SL.value_counts().argmax()"
   ]
  },
  {
   "cell_type": "code",
   "execution_count": 61,
   "id": "ddf0d211",
   "metadata": {},
   "outputs": [
    {
     "data": {
      "text/plain": [
       "0"
      ]
     },
     "execution_count": 61,
     "metadata": {},
     "output_type": "execute_result"
    }
   ],
   "source": [
    "irisDF_SL.index[irisDF_SL.value_counts().argmax()]"
   ]
  },
  {
   "cell_type": "code",
   "execution_count": 60,
   "id": "8fab1c4f",
   "metadata": {},
   "outputs": [
    {
     "data": {
      "text/plain": [
       "26"
      ]
     },
     "execution_count": 60,
     "metadata": {},
     "output_type": "execute_result"
    }
   ],
   "source": [
    "# 최소값이 들어 있는 인덱스\n",
    "irisDF_SL.value_counts().argmin()"
   ]
  },
  {
   "cell_type": "code",
   "execution_count": 62,
   "id": "df6ec1d2",
   "metadata": {
    "scrolled": true
   },
   "outputs": [
    {
     "data": {
      "text/plain": [
       "26"
      ]
     },
     "execution_count": 62,
     "metadata": {},
     "output_type": "execute_result"
    }
   ],
   "source": [
    "irisDF_SL.index[irisDF_SL.value_counts().argmin()]"
   ]
  },
  {
   "cell_type": "code",
   "execution_count": null,
   "id": "a6803684",
   "metadata": {},
   "outputs": [],
   "source": [
    "# array 요소들 중 최대값 또는 최소값의 index를 반환하는 함수\n",
    "# argmx(), argmin()"
   ]
  }
 ],
 "metadata": {
  "kernelspec": {
   "display_name": "Python 3 (ipykernel)",
   "language": "python",
   "name": "python3"
  },
  "language_info": {
   "codemirror_mode": {
    "name": "ipython",
    "version": 3
   },
   "file_extension": ".py",
   "mimetype": "text/x-python",
   "name": "python",
   "nbconvert_exporter": "python",
   "pygments_lexer": "ipython3",
   "version": "3.9.12"
  }
 },
 "nbformat": 4,
 "nbformat_minor": 5
}
