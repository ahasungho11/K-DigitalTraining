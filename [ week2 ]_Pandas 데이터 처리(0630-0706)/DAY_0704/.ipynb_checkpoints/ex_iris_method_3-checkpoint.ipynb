{
 "cells": [
  {
   "cell_type": "markdown",
   "id": "b2aa8e71",
   "metadata": {},
   "source": [
    "# 통계 관련 메서드 실습\n",
    "\n",
    "- 데이터에 대한 평균(mean()), 표준편차(std()), 중앙값(median()),  \n",
    "최빈값(mode(), 상관계수값(corr()) 관련 메서드 활용  \n",
    "- 데이터 간의 관계, 데이터의 분포 등을 파악할 수 있음"
   ]
  },
  {
   "cell_type": "code",
   "execution_count": 2,
   "id": "8445ea35",
   "metadata": {},
   "outputs": [],
   "source": [
    "# 모듈 로딩\n",
    "import pandas as pd\n",
    "\n",
    "# 파일 관련 변수들\n",
    "DIR_PATH = '../Data/'\n",
    "FILE_NAME = DIR_PATH+'iris.csv'"
   ]
  },
  {
   "cell_type": "code",
   "execution_count": 33,
   "id": "36c739ab",
   "metadata": {},
   "outputs": [
    {
     "name": "stdout",
     "output_type": "stream",
     "text": [
      "<class 'pandas.core.frame.DataFrame'>\n",
      "RangeIndex: 150 entries, 0 to 149\n",
      "Data columns (total 5 columns):\n",
      " #   Column       Non-Null Count  Dtype  \n",
      "---  ------       --------------  -----  \n",
      " 0   SepalLength  150 non-null    float64\n",
      " 1   SepalWidth   150 non-null    float64\n",
      " 2   PetalLength  150 non-null    float64\n",
      " 3   PetalWidth   150 non-null    float64\n",
      " 4   Name         150 non-null    object \n",
      "dtypes: float64(4), object(1)\n",
      "memory usage: 6.0+ KB\n"
     ]
    },
    {
     "data": {
      "text/plain": [
       "(150, 5)"
      ]
     },
     "execution_count": 33,
     "metadata": {},
     "output_type": "execute_result"
    }
   ],
   "source": [
    "# 1) 데이터 로딩 (CSV File -> DataFrame으로)\n",
    "irisDF = pd.read_csv(FILE_NAME)\n",
    "irisDF.info()\n",
    "irisDF.shape"
   ]
  },
  {
   "cell_type": "code",
   "execution_count": 46,
   "id": "803a400c",
   "metadata": {},
   "outputs": [
    {
     "name": "stderr",
     "output_type": "stream",
     "text": [
      "C:\\Users\\ahasu\\AppData\\Local\\Temp\\ipykernel_11216\\3371535425.py:2: FutureWarning: Dropping of nuisance columns in DataFrame reductions (with 'numeric_only=None') is deprecated; in a future version this will raise TypeError.  Select only valid columns before calling the reduction.\n",
      "  irisDF.mean().copy\n"
     ]
    },
    {
     "data": {
      "text/plain": [
       "<bound method NDFrame.copy of SepalLength    5.843333\n",
       "SepalWidth     3.054000\n",
       "PetalLength    3.758667\n",
       "PetalWidth     1.198667\n",
       "dtype: float64>"
      ]
     },
     "execution_count": 46,
     "metadata": {},
     "output_type": "execute_result"
    }
   ],
   "source": [
    "# 2) DF 객체에 대한 통계 관련 메서드 적용\n",
    "irisDF.mean()"
   ]
  },
  {
   "cell_type": "code",
   "execution_count": 9,
   "id": "389138c0",
   "metadata": {},
   "outputs": [
    {
     "name": "stderr",
     "output_type": "stream",
     "text": [
      "C:\\Users\\ahasu\\AppData\\Local\\Temp\\ipykernel_11216\\3239076404.py:1: FutureWarning: Dropping of nuisance columns in DataFrame reductions (with 'numeric_only=None') is deprecated; in a future version this will raise TypeError.  Select only valid columns before calling the reduction.\n",
      "  irisDF.median().copy()\n"
     ]
    },
    {
     "data": {
      "text/plain": [
       "SepalLength    5.80\n",
       "SepalWidth     3.00\n",
       "PetalLength    4.35\n",
       "PetalWidth     1.30\n",
       "dtype: float64"
      ]
     },
     "execution_count": 9,
     "metadata": {},
     "output_type": "execute_result"
    }
   ],
   "source": [
    "irisDF.median()"
   ]
  },
  {
   "cell_type": "code",
   "execution_count": 8,
   "id": "6e0acd3a",
   "metadata": {},
   "outputs": [
    {
     "data": {
      "text/html": [
       "<div>\n",
       "<style scoped>\n",
       "    .dataframe tbody tr th:only-of-type {\n",
       "        vertical-align: middle;\n",
       "    }\n",
       "\n",
       "    .dataframe tbody tr th {\n",
       "        vertical-align: top;\n",
       "    }\n",
       "\n",
       "    .dataframe thead th {\n",
       "        text-align: right;\n",
       "    }\n",
       "</style>\n",
       "<table border=\"1\" class=\"dataframe\">\n",
       "  <thead>\n",
       "    <tr style=\"text-align: right;\">\n",
       "      <th></th>\n",
       "      <th>SepalLength</th>\n",
       "      <th>SepalWidth</th>\n",
       "      <th>PetalLength</th>\n",
       "      <th>PetalWidth</th>\n",
       "    </tr>\n",
       "  </thead>\n",
       "  <tbody>\n",
       "    <tr>\n",
       "      <th>SepalLength</th>\n",
       "      <td>1.000000</td>\n",
       "      <td>-0.109369</td>\n",
       "      <td>0.871754</td>\n",
       "      <td>0.817954</td>\n",
       "    </tr>\n",
       "    <tr>\n",
       "      <th>SepalWidth</th>\n",
       "      <td>-0.109369</td>\n",
       "      <td>1.000000</td>\n",
       "      <td>-0.420516</td>\n",
       "      <td>-0.356544</td>\n",
       "    </tr>\n",
       "    <tr>\n",
       "      <th>PetalLength</th>\n",
       "      <td>0.871754</td>\n",
       "      <td>-0.420516</td>\n",
       "      <td>1.000000</td>\n",
       "      <td>0.962757</td>\n",
       "    </tr>\n",
       "    <tr>\n",
       "      <th>PetalWidth</th>\n",
       "      <td>0.817954</td>\n",
       "      <td>-0.356544</td>\n",
       "      <td>0.962757</td>\n",
       "      <td>1.000000</td>\n",
       "    </tr>\n",
       "  </tbody>\n",
       "</table>\n",
       "</div>"
      ],
      "text/plain": [
       "             SepalLength  SepalWidth  PetalLength  PetalWidth\n",
       "SepalLength     1.000000   -0.109369     0.871754    0.817954\n",
       "SepalWidth     -0.109369    1.000000    -0.420516   -0.356544\n",
       "PetalLength     0.871754   -0.420516     1.000000    0.962757\n",
       "PetalWidth      0.817954   -0.356544     0.962757    1.000000"
      ]
     },
     "execution_count": 8,
     "metadata": {},
     "output_type": "execute_result"
    }
   ],
   "source": [
    "irisDF.corr()"
   ]
  },
  {
   "cell_type": "code",
   "execution_count": 10,
   "id": "995c5a03",
   "metadata": {},
   "outputs": [],
   "source": [
    "# -1.0 ~ 1.0 에 가까운 수치를 나타내는 관계가 높은 상관관계라는 것\n",
    "# 부호(+,-)를 떠나서 수치가 0.5이하라면 의미 낮은 (확인)"
   ]
  },
  {
   "cell_type": "code",
   "execution_count": 23,
   "id": "093ebdce",
   "metadata": {},
   "outputs": [
    {
     "data": {
      "text/plain": [
       "SepalLength    5.843333\n",
       "SepalWidth     3.054000\n",
       "PetalLength    3.758667\n",
       "PetalWidth     1.198667\n",
       "dtype: float64"
      ]
     },
     "execution_count": 23,
     "metadata": {},
     "output_type": "execute_result"
    }
   ],
   "source": [
    "# 3) 컬럼별 평균, 표준편차, 상관계수 출력하기\n",
    "irisDF_col = irisDF[irisDF.columns[0:4]]\n",
    "irisDF_col.mean()"
   ]
  },
  {
   "cell_type": "code",
   "execution_count": 31,
   "id": "c9af68e1",
   "metadata": {
    "scrolled": true
   },
   "outputs": [
    {
     "data": {
      "text/html": [
       "<div>\n",
       "<style scoped>\n",
       "    .dataframe tbody tr th:only-of-type {\n",
       "        vertical-align: middle;\n",
       "    }\n",
       "\n",
       "    .dataframe tbody tr th {\n",
       "        vertical-align: top;\n",
       "    }\n",
       "\n",
       "    .dataframe thead th {\n",
       "        text-align: right;\n",
       "    }\n",
       "</style>\n",
       "<table border=\"1\" class=\"dataframe\">\n",
       "  <thead>\n",
       "    <tr style=\"text-align: right;\">\n",
       "      <th></th>\n",
       "      <th>0</th>\n",
       "    </tr>\n",
       "  </thead>\n",
       "  <tbody>\n",
       "    <tr>\n",
       "      <th>SepalLength</th>\n",
       "      <td>5.80</td>\n",
       "    </tr>\n",
       "    <tr>\n",
       "      <th>SepalWidth</th>\n",
       "      <td>3.00</td>\n",
       "    </tr>\n",
       "    <tr>\n",
       "      <th>PetalLength</th>\n",
       "      <td>4.35</td>\n",
       "    </tr>\n",
       "    <tr>\n",
       "      <th>PetalWidth</th>\n",
       "      <td>1.30</td>\n",
       "    </tr>\n",
       "  </tbody>\n",
       "</table>\n",
       "</div>"
      ],
      "text/plain": [
       "                0\n",
       "SepalLength  5.80\n",
       "SepalWidth   3.00\n",
       "PetalLength  4.35\n",
       "PetalWidth   1.30"
      ]
     },
     "execution_count": 31,
     "metadata": {},
     "output_type": "execute_result"
    }
   ],
   "source": [
    "a = pd.DataFrame(irisDF_col.median())\n",
    "a"
   ]
  },
  {
   "cell_type": "code",
   "execution_count": 24,
   "id": "cca3c8d0",
   "metadata": {},
   "outputs": [
    {
     "data": {
      "text/plain": [
       "SepalLength    0.828066\n",
       "SepalWidth     0.433594\n",
       "PetalLength    1.764420\n",
       "PetalWidth     0.763161\n",
       "dtype: float64"
      ]
     },
     "execution_count": 24,
     "metadata": {},
     "output_type": "execute_result"
    }
   ],
   "source": [
    "irisDF_col.std()"
   ]
  },
  {
   "cell_type": "code",
   "execution_count": 25,
   "id": "238bf27e",
   "metadata": {
    "scrolled": true
   },
   "outputs": [
    {
     "data": {
      "text/html": [
       "<div>\n",
       "<style scoped>\n",
       "    .dataframe tbody tr th:only-of-type {\n",
       "        vertical-align: middle;\n",
       "    }\n",
       "\n",
       "    .dataframe tbody tr th {\n",
       "        vertical-align: top;\n",
       "    }\n",
       "\n",
       "    .dataframe thead th {\n",
       "        text-align: right;\n",
       "    }\n",
       "</style>\n",
       "<table border=\"1\" class=\"dataframe\">\n",
       "  <thead>\n",
       "    <tr style=\"text-align: right;\">\n",
       "      <th></th>\n",
       "      <th>SepalLength</th>\n",
       "      <th>SepalWidth</th>\n",
       "      <th>PetalLength</th>\n",
       "      <th>PetalWidth</th>\n",
       "    </tr>\n",
       "  </thead>\n",
       "  <tbody>\n",
       "    <tr>\n",
       "      <th>SepalLength</th>\n",
       "      <td>1.000000</td>\n",
       "      <td>-0.109369</td>\n",
       "      <td>0.871754</td>\n",
       "      <td>0.817954</td>\n",
       "    </tr>\n",
       "    <tr>\n",
       "      <th>SepalWidth</th>\n",
       "      <td>-0.109369</td>\n",
       "      <td>1.000000</td>\n",
       "      <td>-0.420516</td>\n",
       "      <td>-0.356544</td>\n",
       "    </tr>\n",
       "    <tr>\n",
       "      <th>PetalLength</th>\n",
       "      <td>0.871754</td>\n",
       "      <td>-0.420516</td>\n",
       "      <td>1.000000</td>\n",
       "      <td>0.962757</td>\n",
       "    </tr>\n",
       "    <tr>\n",
       "      <th>PetalWidth</th>\n",
       "      <td>0.817954</td>\n",
       "      <td>-0.356544</td>\n",
       "      <td>0.962757</td>\n",
       "      <td>1.000000</td>\n",
       "    </tr>\n",
       "  </tbody>\n",
       "</table>\n",
       "</div>"
      ],
      "text/plain": [
       "             SepalLength  SepalWidth  PetalLength  PetalWidth\n",
       "SepalLength     1.000000   -0.109369     0.871754    0.817954\n",
       "SepalWidth     -0.109369    1.000000    -0.420516   -0.356544\n",
       "PetalLength     0.871754   -0.420516     1.000000    0.962757\n",
       "PetalWidth      0.817954   -0.356544     0.962757    1.000000"
      ]
     },
     "execution_count": 25,
     "metadata": {},
     "output_type": "execute_result"
    }
   ],
   "source": [
    "irisDF_col.corr()"
   ]
  },
  {
   "cell_type": "markdown",
   "id": "6cf79e7f",
   "metadata": {},
   "source": [
    "#### * 선생님 작성 (메서드 사용하는 방법 익숙해지기)"
   ]
  },
  {
   "cell_type": "code",
   "execution_count": 43,
   "id": "f53c6cee",
   "metadata": {},
   "outputs": [
    {
     "name": "stdout",
     "output_type": "stream",
     "text": [
      "-------- SepalLength --------\n",
      "평    균 : 5.843333333333335\n",
      "표준편차 : 0.8280661279778629\n",
      "최 빈 값 : 5.0\n",
      "상관관계 \n",
      "SepalWidth : -0.10936924995064935\n",
      "PetalLength : 0.8717541573048714\n",
      "PetalWidth : 0.8179536333691634\n",
      "\n",
      "-------- SepalWidth --------\n",
      "평    균 : 3.0540000000000007\n",
      "표준편차 : 0.4335943113621737\n",
      "최 빈 값 : 3.0\n",
      "상관관계 \n",
      "SepalLength : -0.10936924995064935\n",
      "PetalLength : -0.4205160964011546\n",
      "PetalWidth : -0.3565440896138058\n",
      "\n",
      "-------- PetalLength --------\n",
      "평    균 : 3.7586666666666693\n",
      "표준편차 : 1.7644204199522617\n",
      "최 빈 값 : 1.5\n",
      "상관관계 \n",
      "SepalLength : 0.8717541573048714\n",
      "SepalWidth : -0.4205160964011546\n",
      "PetalWidth : 0.9627570970509662\n",
      "\n",
      "-------- PetalWidth --------\n",
      "평    균 : 1.1986666666666672\n",
      "표준편차 : 0.7631607417008414\n",
      "최 빈 값 : 0.2\n",
      "상관관계 \n",
      "SepalLength : 0.8179536333691634\n",
      "SepalWidth : -0.35654408961380574\n",
      "PetalLength : 0.9627570970509662\n",
      "\n"
     ]
    }
   ],
   "source": [
    "for col in irisDF.columns[0:4]:\n",
    "    print(f'-------- {col} --------')\n",
    "    print(f'평    균 : {irisDF[col].mean()}')\n",
    "    print(f'표준편차 : {irisDF[col].std()}')\n",
    "    print(f'최 빈 값 : {irisDF[col].mode()[0]}')   # 0(인덱스), 5.0 (값)  =>  이렇게 나오는데,\n",
    "                                                  # 필요한 값을 빼기 위해 '[0]' 해준 것\n",
    "    print(f'상관관계 ')\n",
    "    for icol in irisDF.columns[:4]:\n",
    "        if col == icol: continue\n",
    "        print(f'{icol} : {irisDF[col].corr(irisDF[icol])}')    # {a.corr(b)} => a와 b 컬럼 간의 상관관계를 나타내는 것이지\n",
    "    print()   "
   ]
  },
  {
   "cell_type": "code",
   "execution_count": null,
   "id": "f97e9c4d",
   "metadata": {},
   "outputs": [],
   "source": []
  }
 ],
 "metadata": {
  "kernelspec": {
   "display_name": "Python 3 (ipykernel)",
   "language": "python",
   "name": "python3"
  },
  "language_info": {
   "codemirror_mode": {
    "name": "ipython",
    "version": 3
   },
   "file_extension": ".py",
   "mimetype": "text/x-python",
   "name": "python",
   "nbconvert_exporter": "python",
   "pygments_lexer": "ipython3",
   "version": "3.9.12"
  }
 },
 "nbformat": 4,
 "nbformat_minor": 5
}
