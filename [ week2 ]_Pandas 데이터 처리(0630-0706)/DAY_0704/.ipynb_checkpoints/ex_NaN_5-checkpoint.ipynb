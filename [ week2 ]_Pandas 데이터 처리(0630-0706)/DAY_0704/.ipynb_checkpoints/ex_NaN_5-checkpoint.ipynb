{
 "cells": [
  {
   "cell_type": "markdown",
   "id": "68ee4cb6",
   "metadata": {},
   "source": [
    "# 결측치(Missing Value) 처리하기_2\n",
    "\n",
    "   #### < RUN ALL 금지! >\n",
    "\n",
    "- 데이터 정보 확인에서 NaN 감지가 안 되는 경우에 대한 처리\n",
    "(non-null이나 isnull로 해도 알 수 없을 때)\n",
    "- 1) NaN으로 처리해야 되는 데이터를 찾기   ex) '-'이나 ' '\n",
    "- 2) 데이터를 NaN으로 변경\n",
    "- 3) NaN 데이터 처리"
   ]
  },
  {
   "cell_type": "code",
   "execution_count": 6,
   "id": "a63ece07",
   "metadata": {},
   "outputs": [],
   "source": [
    "# 모듈 로딩\n",
    "import pandas as pd\n",
    "\n",
    "# 파일 관련 변수 선언\n",
    "DIR_PATH = '../Data/'\n",
    "FILE_NAME = DIR_PATH+'auto_mpg.csv'"
   ]
  },
  {
   "cell_type": "code",
   "execution_count": 7,
   "id": "eaa77637",
   "metadata": {},
   "outputs": [],
   "source": [
    "# 파일을 열어보니, 첫줄은 컬럼명 & 구분자도 콤마(,)로 맞군\n",
    "# 1) CSV File -> DataFrame 로딩\n",
    "mpgDF = pd.read_csv(FILE_NAME)"
   ]
  },
  {
   "cell_type": "code",
   "execution_count": 8,
   "id": "b524e889",
   "metadata": {
    "collapsed": true
   },
   "outputs": [
    {
     "name": "stdout",
     "output_type": "stream",
     "text": [
      "<class 'pandas.core.frame.DataFrame'>\n",
      "RangeIndex: 398 entries, 0 to 397\n",
      "Data columns (total 9 columns):\n",
      " #   Column        Non-Null Count  Dtype  \n",
      "---  ------        --------------  -----  \n",
      " 0   mpg           398 non-null    float64\n",
      " 1   cylinders     398 non-null    int64  \n",
      " 2   displacement  398 non-null    float64\n",
      " 3   horsepower    398 non-null    object \n",
      " 4   weight        398 non-null    int64  \n",
      " 5   acceleration  398 non-null    float64\n",
      " 6   model year    398 non-null    int64  \n",
      " 7   origin        398 non-null    int64  \n",
      " 8   car name      398 non-null    object \n",
      "dtypes: float64(3), int64(4), object(2)\n",
      "memory usage: 28.1+ KB\n"
     ]
    }
   ],
   "source": [
    "# 2) Data 정보 확인\n",
    "mpgDF.info()\n",
    "# entry개수가 398, Non-Null이 398 => NaN 값이 없는가보군"
   ]
  },
  {
   "cell_type": "code",
   "execution_count": 9,
   "id": "e2cefe10",
   "metadata": {
    "collapsed": true
   },
   "outputs": [
    {
     "data": {
      "text/html": [
       "<div>\n",
       "<style scoped>\n",
       "    .dataframe tbody tr th:only-of-type {\n",
       "        vertical-align: middle;\n",
       "    }\n",
       "\n",
       "    .dataframe tbody tr th {\n",
       "        vertical-align: top;\n",
       "    }\n",
       "\n",
       "    .dataframe thead th {\n",
       "        text-align: right;\n",
       "    }\n",
       "</style>\n",
       "<table border=\"1\" class=\"dataframe\">\n",
       "  <thead>\n",
       "    <tr style=\"text-align: right;\">\n",
       "      <th></th>\n",
       "      <th>mpg</th>\n",
       "      <th>cylinders</th>\n",
       "      <th>displacement</th>\n",
       "      <th>horsepower</th>\n",
       "      <th>weight</th>\n",
       "      <th>acceleration</th>\n",
       "      <th>model year</th>\n",
       "      <th>origin</th>\n",
       "      <th>car name</th>\n",
       "    </tr>\n",
       "  </thead>\n",
       "  <tbody>\n",
       "    <tr>\n",
       "      <th>0</th>\n",
       "      <td>18.0</td>\n",
       "      <td>8</td>\n",
       "      <td>307.0</td>\n",
       "      <td>130</td>\n",
       "      <td>3504</td>\n",
       "      <td>12.0</td>\n",
       "      <td>70</td>\n",
       "      <td>1</td>\n",
       "      <td>chevrolet chevelle malibu</td>\n",
       "    </tr>\n",
       "    <tr>\n",
       "      <th>1</th>\n",
       "      <td>15.0</td>\n",
       "      <td>8</td>\n",
       "      <td>350.0</td>\n",
       "      <td>165</td>\n",
       "      <td>3693</td>\n",
       "      <td>11.5</td>\n",
       "      <td>70</td>\n",
       "      <td>1</td>\n",
       "      <td>buick skylark 320</td>\n",
       "    </tr>\n",
       "    <tr>\n",
       "      <th>2</th>\n",
       "      <td>18.0</td>\n",
       "      <td>8</td>\n",
       "      <td>318.0</td>\n",
       "      <td>150</td>\n",
       "      <td>3436</td>\n",
       "      <td>11.0</td>\n",
       "      <td>70</td>\n",
       "      <td>1</td>\n",
       "      <td>plymouth satellite</td>\n",
       "    </tr>\n",
       "    <tr>\n",
       "      <th>3</th>\n",
       "      <td>16.0</td>\n",
       "      <td>8</td>\n",
       "      <td>304.0</td>\n",
       "      <td>150</td>\n",
       "      <td>3433</td>\n",
       "      <td>12.0</td>\n",
       "      <td>70</td>\n",
       "      <td>1</td>\n",
       "      <td>amc rebel sst</td>\n",
       "    </tr>\n",
       "    <tr>\n",
       "      <th>4</th>\n",
       "      <td>17.0</td>\n",
       "      <td>8</td>\n",
       "      <td>302.0</td>\n",
       "      <td>140</td>\n",
       "      <td>3449</td>\n",
       "      <td>10.5</td>\n",
       "      <td>70</td>\n",
       "      <td>1</td>\n",
       "      <td>ford torino</td>\n",
       "    </tr>\n",
       "  </tbody>\n",
       "</table>\n",
       "</div>"
      ],
      "text/plain": [
       "    mpg  cylinders  displacement horsepower  weight  acceleration  model year  \\\n",
       "0  18.0          8         307.0        130    3504          12.0          70   \n",
       "1  15.0          8         350.0        165    3693          11.5          70   \n",
       "2  18.0          8         318.0        150    3436          11.0          70   \n",
       "3  16.0          8         304.0        150    3433          12.0          70   \n",
       "4  17.0          8         302.0        140    3449          10.5          70   \n",
       "\n",
       "   origin                   car name  \n",
       "0       1  chevrolet chevelle malibu  \n",
       "1       1          buick skylark 320  \n",
       "2       1         plymouth satellite  \n",
       "3       1              amc rebel sst  \n",
       "4       1                ford torino  "
      ]
     },
     "execution_count": 9,
     "metadata": {},
     "output_type": "execute_result"
    }
   ],
   "source": [
    "# 일부 데이터 확인\n",
    "mpgDF.head()\n",
    "# horsepower이 숫자인데 -> object로 되어 있네?"
   ]
  },
  {
   "cell_type": "code",
   "execution_count": 12,
   "id": "f2c2bddc",
   "metadata": {
    "collapsed": true
   },
   "outputs": [
    {
     "data": {
      "text/plain": [
       "mpg             0\n",
       "cylinders       0\n",
       "displacement    0\n",
       "horsepower      0\n",
       "weight          0\n",
       "acceleration    0\n",
       "model year      0\n",
       "origin          0\n",
       "car name        0\n",
       "dtype: int64"
      ]
     },
     "execution_count": 12,
     "metadata": {},
     "output_type": "execute_result"
    }
   ],
   "source": [
    "# NaN 체크\n",
    "mpgDF.isnull().sum()"
   ]
  },
  {
   "cell_type": "code",
   "execution_count": 13,
   "id": "0fee348f",
   "metadata": {
    "collapsed": true
   },
   "outputs": [
    {
     "data": {
      "text/plain": [
       "0      130\n",
       "1      165\n",
       "2      150\n",
       "3      150\n",
       "4      140\n",
       "      ... \n",
       "393     86\n",
       "394     52\n",
       "395     84\n",
       "396     79\n",
       "397     82\n",
       "Name: horsepower, Length: 398, dtype: object"
      ]
     },
     "execution_count": 13,
     "metadata": {},
     "output_type": "execute_result"
    }
   ],
   "source": [
    "# 3) 데이터 전처리\n",
    "# 데이터와 해당 데이터의 타입이 맞도록 설정\n",
    "mpgDF.horsepower"
   ]
  },
  {
   "cell_type": "code",
   "execution_count": null,
   "id": "cfc92cad",
   "metadata": {},
   "outputs": [],
   "source": [
    "# 타입 변경 => astype(타입)\n",
    "# mpgDF.horsepower.astype(int)\n",
    "\n",
    "# 정수로 바꾸려고 했는데, 오류 메시지를 보면 '?'가 있다고 하는데!?\n",
    "# => 따라서, 아래 순서를 먼저 진행해야 함!!"
   ]
  },
  {
   "cell_type": "code",
   "execution_count": 20,
   "id": "44fc01de",
   "metadata": {
    "collapsed": true
   },
   "outputs": [
    {
     "data": {
      "text/plain": [
       "array(['130', '165', '150', '140', '198', '220', '215', '225', '190',\n",
       "       '170', '160', '95', '97', '85', '88', '46', '87', '90', '113',\n",
       "       '200', '210', '193', nan, '100', '105', '175', '153', '180', '110',\n",
       "       '72', '86', '70', '76', '65', '69', '60', '80', '54', '208', '155',\n",
       "       '112', '92', '145', '137', '158', '167', '94', '107', '230', '49',\n",
       "       '75', '91', '122', '67', '83', '78', '52', '61', '93', '148',\n",
       "       '129', '96', '71', '98', '115', '53', '81', '79', '120', '152',\n",
       "       '102', '108', '68', '58', '149', '89', '63', '48', '66', '139',\n",
       "       '103', '125', '133', '138', '135', '142', '77', '62', '132', '84',\n",
       "       '64', '74', '116', '82'], dtype=object)"
      ]
     },
     "execution_count": 20,
     "metadata": {},
     "output_type": "execute_result"
    }
   ],
   "source": [
    "# 데이터의 고유값 확인\n",
    "mpgDF.horsepower.unique()\n",
    "# 확인하면 '?'가 있는 것을 볼 수 있음\n",
    "#--------------------------------------------------------------------------\n",
    "# '?'와 같이 문제가 되는 데이터를 NaN으로 변경 => replace(원래값, 새로운 값)\n",
    "#  NaN 상수 사용을 위해 Numpy 모듈을 포함\n",
    "import numpy as np\n",
    "\n",
    "mpgDF.horsepower.replace('?', np.nan)\n",
    "# repolace()가 inplace 속성이 있는지 확인해 봐야\n",
    "mpgDF.horsepower.unique()\n",
    "# 허허, 그대로 있네, 그럼 replace()는 inplace 속성이 있는 것! True 로 !\n",
    "mpgDF.horsepower.replace('?', np.nan, inplace=True)\n",
    "mpgDF.horsepower.unique()\n",
    "# '?'이 'nan'으로 바뀐 것을 확인할 수 있군!\n",
    "#--------------------------------------------------------------------------\n",
    "# 타입 변경 => astype(타입)\n",
    "# mpgDF.horsepower.astype(int)\n",
    "\n",
    "# 정수로 바꾸려고 했는데, 오류 메시지를 보면 '?'가 있다고 하는데!?\n",
    "# => 따라서, 위로 올라가서 진행!!"
   ]
  },
  {
   "cell_type": "code",
   "execution_count": 21,
   "id": "a6bc0338",
   "metadata": {
    "collapsed": true
   },
   "outputs": [
    {
     "data": {
      "text/plain": [
       "mpg             0\n",
       "cylinders       0\n",
       "displacement    0\n",
       "horsepower      6\n",
       "weight          0\n",
       "acceleration    0\n",
       "model year      0\n",
       "origin          0\n",
       "car name        0\n",
       "dtype: int64"
      ]
     },
     "execution_count": 21,
     "metadata": {},
     "output_type": "execute_result"
    }
   ],
   "source": [
    "mpgDF.isnull().sum()\n",
    "# 이제서야 결측치를 제대로 카운팅이 되었구나"
   ]
  },
  {
   "cell_type": "code",
   "execution_count": 22,
   "id": "ba4ce947",
   "metadata": {},
   "outputs": [],
   "source": [
    "# 볼만큼 보고 불렀더니\n",
    "# Null 해보니 제대로 되었고\n",
    "# 데이터 형태 맞추려고 보니\n",
    "# 전환이 안되네 => 못잡은게 있나?\n",
    "# 정상적으로 카운팅 되네\n",
    "# 삭제냐 / 치환이냐"
   ]
  },
  {
   "cell_type": "code",
   "execution_count": 24,
   "id": "5f745735",
   "metadata": {
    "collapsed": true
   },
   "outputs": [
    {
     "data": {
      "text/plain": [
       "mpg             0\n",
       "cylinders       0\n",
       "displacement    0\n",
       "horsepower      0\n",
       "weight          0\n",
       "acceleration    0\n",
       "model year      0\n",
       "origin          0\n",
       "car name        0\n",
       "dtype: int64"
      ]
     },
     "execution_count": 24,
     "metadata": {},
     "output_type": "execute_result"
    }
   ],
   "source": [
    "# NaN => 0으로 채우기\n",
    "mpgDF.fillna(0, inplace=True)\n",
    "mpgDF.isnull().sum()\n",
    "# 6개던데 사라졌네!!"
   ]
  },
  {
   "cell_type": "code",
   "execution_count": 25,
   "id": "18b400ee",
   "metadata": {
    "collapsed": true
   },
   "outputs": [
    {
     "data": {
      "text/plain": [
       "0      130\n",
       "1      165\n",
       "2      150\n",
       "3      150\n",
       "4      140\n",
       "      ... \n",
       "393     86\n",
       "394     52\n",
       "395     84\n",
       "396     79\n",
       "397     82\n",
       "Name: horsepower, Length: 398, dtype: int32"
      ]
     },
     "execution_count": 25,
     "metadata": {},
     "output_type": "execute_result"
    }
   ],
   "source": [
    "# 자, 이제 숫자로 다 전환했으니, 데이터 형태를 변환해보자\n",
    "mpgDF.horsepower.astype(int)\n",
    "# object -> int32로 바뀐 것을 확인할 수 있음"
   ]
  },
  {
   "cell_type": "code",
   "execution_count": 26,
   "id": "f62c1ec2",
   "metadata": {
    "collapsed": true
   },
   "outputs": [
    {
     "name": "stdout",
     "output_type": "stream",
     "text": [
      "<class 'pandas.core.frame.DataFrame'>\n",
      "RangeIndex: 398 entries, 0 to 397\n",
      "Data columns (total 9 columns):\n",
      " #   Column        Non-Null Count  Dtype  \n",
      "---  ------        --------------  -----  \n",
      " 0   mpg           398 non-null    float64\n",
      " 1   cylinders     398 non-null    int64  \n",
      " 2   displacement  398 non-null    float64\n",
      " 3   horsepower    398 non-null    object \n",
      " 4   weight        398 non-null    int64  \n",
      " 5   acceleration  398 non-null    float64\n",
      " 6   model year    398 non-null    int64  \n",
      " 7   origin        398 non-null    int64  \n",
      " 8   car name      398 non-null    object \n",
      "dtypes: float64(3), int64(4), object(2)\n",
      "memory usage: 28.1+ KB\n"
     ]
    }
   ],
   "source": [
    "mpgDF.info()\n",
    "# !? info()로 하니까 object 그대로네!? int32로 안바꼈네!?\n",
    "# mpgDF.horsepower.astype(int, inplace=True)\n",
    "# astype에는 inplace 파라미터가 없어서 오류가 생기네?"
   ]
  },
  {
   "cell_type": "code",
   "execution_count": 29,
   "id": "fe99d1aa",
   "metadata": {
    "collapsed": true
   },
   "outputs": [
    {
     "name": "stdout",
     "output_type": "stream",
     "text": [
      "<class 'pandas.core.frame.DataFrame'>\n",
      "RangeIndex: 398 entries, 0 to 397\n",
      "Data columns (total 9 columns):\n",
      " #   Column        Non-Null Count  Dtype  \n",
      "---  ------        --------------  -----  \n",
      " 0   mpg           398 non-null    float64\n",
      " 1   cylinders     398 non-null    int64  \n",
      " 2   displacement  398 non-null    float64\n",
      " 3   horsepower    398 non-null    int32  \n",
      " 4   weight        398 non-null    int64  \n",
      " 5   acceleration  398 non-null    float64\n",
      " 6   model year    398 non-null    int64  \n",
      " 7   origin        398 non-null    int64  \n",
      " 8   car name      398 non-null    object \n",
      "dtypes: float64(3), int32(1), int64(4), object(1)\n",
      "memory usage: 26.6+ KB\n"
     ]
    }
   ],
   "source": [
    "# 그럼 mpgDF.horsepower에다가 넣어주지뭐!!\n",
    "mpgDF.horsepower = mpgDF.horsepower.astype(int)\n",
    "mpgDF.info()\n",
    "# 이제서야 int32로 바꼈구나"
   ]
  }
 ],
 "metadata": {
  "kernelspec": {
   "display_name": "Python 3 (ipykernel)",
   "language": "python",
   "name": "python3"
  },
  "language_info": {
   "codemirror_mode": {
    "name": "ipython",
    "version": 3
   },
   "file_extension": ".py",
   "mimetype": "text/x-python",
   "name": "python",
   "nbconvert_exporter": "python",
   "pygments_lexer": "ipython3",
   "version": "3.9.12"
  }
 },
 "nbformat": 4,
 "nbformat_minor": 5
}
