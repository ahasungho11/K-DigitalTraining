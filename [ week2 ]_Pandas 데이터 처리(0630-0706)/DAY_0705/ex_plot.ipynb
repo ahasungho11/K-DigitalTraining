{
 "cells": [
  {
   "cell_type": "markdown",
   "id": "6958ee7d",
   "metadata": {},
   "source": [
    "# 데이터 시각화\n",
    "\n",
    "- 판다스의 DF와 SR의 내장 메서드 => plot() : Matplotlib 모듈 백그라운도 구동\n",
    "\n",
    "- 외부 패키지 Matplotlib 사용 => 설치 필요 : !pip install matplotlib"
   ]
  },
  {
   "cell_type": "code",
   "execution_count": 1,
   "id": "7464f70f",
   "metadata": {
    "collapsed": true
   },
   "outputs": [
    {
     "name": "stdout",
     "output_type": "stream",
     "text": [
      "Defaulting to user installation because normal site-packages is not writeable\n",
      "Requirement already satisfied: matplotlib in c:\\programdata\\anaconda3\\lib\\site-packages (3.5.1)\n",
      "Requirement already satisfied: pyparsing>=2.2.1 in c:\\programdata\\anaconda3\\lib\\site-packages (from matplotlib) (3.0.4)\n",
      "Requirement already satisfied: python-dateutil>=2.7 in c:\\programdata\\anaconda3\\lib\\site-packages (from matplotlib) (2.8.2)\n",
      "Requirement already satisfied: pillow>=6.2.0 in c:\\programdata\\anaconda3\\lib\\site-packages (from matplotlib) (9.0.1)\n",
      "Requirement already satisfied: numpy>=1.17 in c:\\programdata\\anaconda3\\lib\\site-packages (from matplotlib) (1.21.5)\n",
      "Requirement already satisfied: kiwisolver>=1.0.1 in c:\\programdata\\anaconda3\\lib\\site-packages (from matplotlib) (1.3.2)\n",
      "Requirement already satisfied: cycler>=0.10 in c:\\programdata\\anaconda3\\lib\\site-packages (from matplotlib) (0.11.0)\n",
      "Requirement already satisfied: packaging>=20.0 in c:\\programdata\\anaconda3\\lib\\site-packages (from matplotlib) (21.3)\n",
      "Requirement already satisfied: fonttools>=4.22.0 in c:\\programdata\\anaconda3\\lib\\site-packages (from matplotlib) (4.25.0)\n",
      "Requirement already satisfied: six>=1.5 in c:\\programdata\\anaconda3\\lib\\site-packages (from python-dateutil>=2.7->matplotlib) (1.16.0)\n"
     ]
    }
   ],
   "source": [
    "# 설치\n",
    "!pip install matplotlib"
   ]
  },
  {
   "cell_type": "code",
   "execution_count": 17,
   "id": "e4632a89",
   "metadata": {},
   "outputs": [],
   "source": [
    "# 모듈 로딩\n",
    "import matplotlib.pyplot as plt\n",
    "\n",
    "# Matplotlib 한글 Font 설정\n",
    "from matplotlib import font_manager as fm, rc\n",
    "\n",
    "# 한글 폰트 설정\n",
    "font_path = '../Fonts/malgun.ttf'\n",
    "font_name = fm.FontProperties(fname=font_path).get_name()\n",
    "rc('font', family=font_name)"
   ]
  },
  {
   "cell_type": "code",
   "execution_count": 24,
   "id": "a6bebdff",
   "metadata": {},
   "outputs": [
    {
     "data": {
      "image/png": "[encoded data removed]",
      "text/plain": [
       "<Figure size 432x288 with 1 Axes>"
      ]
     },
     "metadata": {
      "needs_background": "light"
     },
     "output_type": "display_data"
    }
   ],
   "source": [
    "# 그래프 그리기 => plot( y_data ) => 값을 하나만 주면, y가 기본값임\n",
    "#                                 => 앞에 하나 더 주면, 그것이 x, 뒤는 y\n",
    "plt.plot([1,2,3,4],[11,22,33,44], 'ro')  # 'ro' : x와 y가 만나는 곳에 체크\n",
    "                                         # red O, blue O 등\n",
    "                                         # 기본값은 실선\n",
    "# 'r^', 'r--' 등\n",
    "plt.plot([1,2,3,4],[11,22,33,44], 'r--') # 필요하면 복사해서 한번 더 or\n",
    "                                         # 한줄에 더 적기\n",
    "plt.plot([1,2,3,4],[11,22,55,88], 'b--', [1,2,3,4],[11,22,33,77], 'b^')\n",
    "\n",
    "# 한글을 쓰면 글자가 깨져서 나옴 -> 폰트를 설치해 주어야 함\n",
    "# => 위에 설정한 대로 하면 해당 폰트로 한글이 뜸\n",
    "\n",
    "plt.xlabel('Value')        # x축 라벨\n",
    "plt.ylabel('시범 데이터')    # y축 라벨  \n",
    "plt.title('TEST MATPLOT') # 그래프 제목\n",
    "plt.legend(['a','b','c','d'])\n",
    "# 범례 (그래프 상의 범례 개수보다 넘게 입력해도, 개수까지만 출력해줌)\n",
    "plt.show()"
   ]
  },
  {
   "cell_type": "code",
   "execution_count": 35,
   "id": "71898927",
   "metadata": {},
   "outputs": [
    {
     "data": {
      "image/png": "[encoded data removed]",
      "text/plain": [
       "<Figure size 432x288 with 3 Axes>"
      ]
     },
     "metadata": {
      "needs_background": "light"
     },
     "output_type": "display_data"
    }
   ],
   "source": [
    "# 여러개 그래프를 하나에 넣기 => subplot(행열인덱스)\n",
    "fig = plt.figure()     # 피규어 객체 반환\n",
    "\n",
    "ax1 = fig.add_subplot(221) \n",
    "ax1.set_title(\"LINE\")   \n",
    "ax1.plot([1,2,3,4])\n",
    "\n",
    "ax2 = fig.add_subplot(222) \n",
    "ax2.set_title(\"BAR\")   \n",
    "ax2.bar([1,2,3,4],[11,22,33,44], color='y')\n",
    "\n",
    "ax3 = fig.add_subplot(223) \n",
    "ax3.set_title(\"LINE\")   \n",
    "ax3.hist([1,2,3,4], color= 'r')\n",
    "\n",
    "#여러개 plot 간격 자동 조절\n",
    "fig.tight_layout()\n",
    "\n",
    "# ax4 = fig.add_subplot(322) \n",
    "# ax4.set_title(\"LINE\")   \n",
    "# ax4.plot([1,2,3,4])\n",
    "\n",
    "# 화면 출력\n",
    "plt.show()\n",
    "\n",
    "# matplotlib 사이트에서 reference 참고하면서 파라미터 써보는 습관\n",
    "\n",
    "\n"
   ]
  },
  {
   "cell_type": "code",
   "execution_count": null,
   "id": "779d04f2",
   "metadata": {},
   "outputs": [],
   "source": []
  }
 ],
 "metadata": {
  "kernelspec": {
   "display_name": "Python 3 (ipykernel)",
   "language": "python",
   "name": "python3"
  },
  "language_info": {
   "codemirror_mode": {
    "name": "ipython",
    "version": 3
   },
   "file_extension": ".py",
   "mimetype": "text/x-python",
   "name": "python",
   "nbconvert_exporter": "python",
   "pygments_lexer": "ipython3",
   "version": "3.9.12"
  }
 },
 "nbformat": 4,
 "nbformat_minor": 5
}
