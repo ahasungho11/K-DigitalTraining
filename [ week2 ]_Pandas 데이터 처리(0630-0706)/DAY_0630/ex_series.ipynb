{
 "cells": [
  {
   "cell_type": "markdown",
   "id": "add88b10",
   "metadata": {},
   "source": [
    "# 시리즈 (Series) 타입 실습-------------------------------------------------------------------------\n",
    "- Pandas의 1종류 (1차원 배열 or 세로 벡터) 데이터를 저장하는 데이터 타입 (Type)  \n",
    "\n",
    "- 생성 : Series 객체 생성"
   ]
  },
  {
   "cell_type": "code",
   "execution_count": 191,
   "id": "a2967dc2",
   "metadata": {},
   "outputs": [],
   "source": [
    "# 모듈 로딩------------------------------------------------------------------------------------------------\n",
    "import pandas as pd\n",
    "\n",
    "# Series 객체 생성\n",
    "sr=pd.Series([1,2,3,4])"
   ]
  },
  {
   "cell_type": "code",
   "execution_count": 192,
   "id": "ce9cfd87",
   "metadata": {
    "scrolled": true
   },
   "outputs": [
    {
     "data": {
      "text/plain": [
       "0    1\n",
       "1    2\n",
       "2    3\n",
       "3    4\n",
       "dtype: int64"
      ]
     },
     "execution_count": 192,
     "metadata": {},
     "output_type": "execute_result"
    }
   ],
   "source": [
    "# 생성된 Series 객체 데이터 확인하기\n",
    "sr"
   ]
  },
  {
   "cell_type": "code",
   "execution_count": 193,
   "id": "a866cebd",
   "metadata": {},
   "outputs": [
    {
     "data": {
      "text/plain": [
       "RangeIndex(start=0, stop=4, step=1)"
      ]
     },
     "execution_count": 193,
     "metadata": {},
     "output_type": "execute_result"
    }
   ],
   "source": [
    "# Series 객체의 속성 Attribute 확인 => 객체변수명.속성명\n",
    "sr.index\n",
    "\n",
    "# 따로 인덱스를 입력하지 않았기 때문에 0부터 시작하는 인덱스가 부여됨"
   ]
  },
  {
   "cell_type": "code",
   "execution_count": 194,
   "id": "e27d2b4b",
   "metadata": {},
   "outputs": [
    {
     "data": {
      "text/plain": [
       "array([1, 2, 3, 4], dtype=int64)"
      ]
     },
     "execution_count": 194,
     "metadata": {},
     "output_type": "execute_result"
    }
   ],
   "source": [
    "# 값 속성\n",
    "sr.values"
   ]
  },
  {
   "cell_type": "code",
   "execution_count": 195,
   "id": "d1396c30",
   "metadata": {},
   "outputs": [
    {
     "data": {
      "text/plain": [
       "1"
      ]
     },
     "execution_count": 195,
     "metadata": {},
     "output_type": "execute_result"
    }
   ],
   "source": [
    "# 차원(Dimension) 속성\n",
    "sr.ndim"
   ]
  },
  {
   "cell_type": "code",
   "execution_count": 196,
   "id": "c3d08d32",
   "metadata": {},
   "outputs": [
    {
     "data": {
      "text/plain": [
       "(4,)"
      ]
     },
     "execution_count": 196,
     "metadata": {},
     "output_type": "execute_result"
    }
   ],
   "source": [
    "# 형 (Shape) 속성\n",
    "sr.shape # 튜플이라서 콤마(,)가 뜨는 것"
   ]
  },
  {
   "cell_type": "code",
   "execution_count": 197,
   "id": "434dfafc",
   "metadata": {},
   "outputs": [
    {
     "data": {
      "text/plain": [
       "(3,)"
      ]
     },
     "execution_count": 197,
     "metadata": {},
     "output_type": "execute_result"
    }
   ],
   "source": [
    "sr = pd.Series([1,2,3])\n",
    "sr.shape"
   ]
  },
  {
   "cell_type": "code",
   "execution_count": 198,
   "id": "9f01be71",
   "metadata": {},
   "outputs": [
    {
     "data": {
      "text/plain": [
       "(2,)"
      ]
     },
     "execution_count": 198,
     "metadata": {},
     "output_type": "execute_result"
    }
   ],
   "source": [
    "sr = pd.Series(['a','b'])\n",
    "sr.shape"
   ]
  },
  {
   "cell_type": "code",
   "execution_count": 199,
   "id": "45210335",
   "metadata": {},
   "outputs": [
    {
     "data": {
      "text/plain": [
       "(1,)"
      ]
     },
     "execution_count": 199,
     "metadata": {},
     "output_type": "execute_result"
    }
   ],
   "source": [
    "sr = pd.Series([2.4])\n",
    "sr.shape"
   ]
  },
  {
   "cell_type": "code",
   "execution_count": 200,
   "id": "1ec30468",
   "metadata": {},
   "outputs": [
    {
     "data": {
      "text/plain": [
       "(8, 1)"
      ]
     },
     "execution_count": 200,
     "metadata": {},
     "output_type": "execute_result"
    }
   ],
   "source": [
    "# 실제 사용 메모리 byte, 데이터 갯수\n",
    "sr.nbytes, sr.size\n",
    "\n",
    "# 32 -> 실제 사용 메모리 byte (데이터의 개수  x 1바이트당 들어가는 개수)\n",
    "# 4 -> 데이터 개수"
   ]
  },
  {
   "cell_type": "code",
   "execution_count": 201,
   "id": "e342119d",
   "metadata": {},
   "outputs": [
    {
     "data": {
      "text/plain": [
       "0    1\n",
       "1    4\n",
       "dtype: int64"
      ]
     },
     "execution_count": 201,
     "metadata": {},
     "output_type": "execute_result"
    }
   ],
   "source": [
    "# 여러 타입의 데이터로 Series 객체 생성\n",
    "sr2=pd.Series([1,4])\n",
    "sr2 \n",
    "\n"
   ]
  },
  {
   "cell_type": "code",
   "execution_count": 202,
   "id": "a681edf4",
   "metadata": {},
   "outputs": [
    {
     "data": {
      "text/plain": [
       "0    1\n",
       "1    4\n",
       "2    A\n",
       "dtype: object"
      ]
     },
     "execution_count": 202,
     "metadata": {},
     "output_type": "execute_result"
    }
   ],
   "source": [
    "sr3=pd.Series([1,4,'A'])\n",
    "sr3 # 'A'가 섞여서 object"
   ]
  },
  {
   "cell_type": "code",
   "execution_count": 203,
   "id": "37635884",
   "metadata": {},
   "outputs": [
    {
     "data": {
      "text/plain": [
       "0    1.0\n",
       "1    4.0\n",
       "2    4.5\n",
       "dtype: float64"
      ]
     },
     "execution_count": 203,
     "metadata": {},
     "output_type": "execute_result"
    }
   ],
   "source": [
    "sr4=pd.Series([1,4, 4.5])\n",
    "sr4"
   ]
  },
  {
   "cell_type": "code",
   "execution_count": 204,
   "id": "2290de90",
   "metadata": {},
   "outputs": [
    {
     "name": "stdout",
     "output_type": "stream",
     "text": [
      "0    1\n",
      "1    4\n",
      "dtype: int64\n",
      "index => RangeIndex(start=0, stop=2, step=1)\n",
      "values => [1 4] | values type => <class 'numpy.ndarray'>\n",
      "array => <PandasArray>\n",
      "[1, 4]\n",
      "Length: 2, dtype: int64\n",
      "0    1\n",
      "1    4\n",
      "dtype: int64\n"
     ]
    }
   ],
   "source": [
    "# Series 객체 속성 읽기\n",
    "print(sr2)\n",
    "print(f'index => {sr2.index}')\n",
    "print(f'values => {sr2.values} | values type => {type(sr2.values)}') # 콤마(,)없음 => 리스트 아님\n",
    "print(f'array => {sr2.array}')\n",
    "print(sr2) # 정수형 인덱스를 자동으로 적어줌"
   ]
  },
  {
   "cell_type": "code",
   "execution_count": 233,
   "id": "e6b471e5",
   "metadata": {},
   "outputs": [
    {
     "name": "stdout",
     "output_type": "stream",
     "text": [
      "<PandasArray>\n",
      "[1, 2, 3, 4, 5, 6]\n",
      "Length: 6, dtype: int64\n",
      "[1 2 3 4 5 6]\n"
     ]
    }
   ],
   "source": [
    "ad = pd.Series([1,2,3,4,5,6])\n",
    "ad.array\n",
    "print(ad.array)  # 콤마(,)가 있음 => 리스트 라는 것\n",
    "print(ad.values) # 콤마(,)가 없음 => 리스트가 아니라는 것"
   ]
  },
  {
   "cell_type": "code",
   "execution_count": 205,
   "id": "bd2a9acc",
   "metadata": {},
   "outputs": [
    {
     "data": {
      "text/plain": [
       "name      LEE\n",
       "age        29\n",
       "loc     Daegu\n",
       "dtype: object"
      ]
     },
     "execution_count": 205,
     "metadata": {},
     "output_type": "execute_result"
    }
   ],
   "source": [
    "# Dict 데이터로 Series 객체 생성\n",
    "sr3=pd.Series({'name': 'LEE', 'age':29, 'loc':'Daegu'})\n",
    "sr3 # key가 인덱스로 들어감  =>  딕셔너리로 만드는 것과 다르다"
   ]
  },
  {
   "cell_type": "code",
   "execution_count": 206,
   "id": "bc869c13",
   "metadata": {},
   "outputs": [
    {
     "data": {
      "text/plain": [
       "하나    a\n",
       "둘     b\n",
       "셋     c\n",
       "dtype: object"
      ]
     },
     "execution_count": 206,
     "metadata": {},
     "output_type": "execute_result"
    }
   ],
   "source": [
    "# 인덱스를 바꿀 수도 있고, 인덱스를 바로 지정해줄 수도 있음\n",
    "# Series 객체 생성\n",
    "sr=pd.Series(['a','b','c'], index=['하나','둘','셋'])\n",
    "sr"
   ]
  },
  {
   "cell_type": "code",
   "execution_count": 207,
   "id": "2af6ed3e",
   "metadata": {},
   "outputs": [
    {
     "data": {
      "text/plain": [
       "0    a\n",
       "1    b\n",
       "2    c\n",
       "dtype: object"
      ]
     },
     "execution_count": 207,
     "metadata": {},
     "output_type": "execute_result"
    }
   ],
   "source": [
    "sr2=pd.Series(['a','b','c'])\n",
    "sr2"
   ]
  },
  {
   "cell_type": "code",
   "execution_count": 208,
   "id": "cc76f2cc",
   "metadata": {},
   "outputs": [
    {
     "data": {
      "text/plain": [
       "11    a\n",
       "22    b\n",
       "33    c\n",
       "dtype: object"
      ]
     },
     "execution_count": 208,
     "metadata": {},
     "output_type": "execute_result"
    }
   ],
   "source": [
    "# 인덱스 새로운 값으로 설정 => 객체 변수명, 속성명 =새로운값\n",
    "sr2.index=[11,22,33]\n",
    "sr2"
   ]
  },
  {
   "cell_type": "markdown",
   "id": "18a9960a",
   "metadata": {},
   "source": [
    "# 시리즈(Series) 객체의 원소/요소 다루기\n",
    "- 방법\n",
    "    - 시리즈 객체[인덱스번호]\n",
    "    - 시리즈 객체[인덱스라벨]"
   ]
  },
  {
   "cell_type": "code",
   "execution_count": 238,
   "id": "fbcc5df8",
   "metadata": {},
   "outputs": [
    {
     "data": {
      "text/plain": [
       "Index(['one', 'two', 'three'], dtype='object')"
      ]
     },
     "execution_count": 238,
     "metadata": {},
     "output_type": "execute_result"
    }
   ],
   "source": [
    "# 1번 원소 읽기\n",
    "sr2.index"
   ]
  },
  {
   "cell_type": "code",
   "execution_count": 240,
   "id": "a0c6286c",
   "metadata": {},
   "outputs": [
    {
     "data": {
      "text/plain": [
       "'b'"
      ]
     },
     "execution_count": 240,
     "metadata": {},
     "output_type": "execute_result"
    }
   ],
   "source": [
    "sr2[1] # sr2[22] -> 오류. 안됨   # 바꿔서 한것 생각해볼 것"
   ]
  },
  {
   "cell_type": "code",
   "execution_count": 212,
   "id": "fd894737",
   "metadata": {},
   "outputs": [
    {
     "data": {
      "text/plain": [
       "Index(['one', 'two', 'three'], dtype='object')"
      ]
     },
     "execution_count": 212,
     "metadata": {},
     "output_type": "execute_result"
    }
   ],
   "source": [
    "# 문자형 인덱스로 새롭게 설정 \n",
    "sr2.index=['one', 'two', 'three']\n",
    "sr2.index # 판다스에서는 str을 object로 본다"
   ]
  },
  {
   "cell_type": "code",
   "execution_count": 213,
   "id": "2e04011b",
   "metadata": {},
   "outputs": [
    {
     "data": {
      "text/plain": [
       "('b', 'b', 'c', 'c')"
      ]
     },
     "execution_count": 213,
     "metadata": {},
     "output_type": "execute_result"
    }
   ],
   "source": [
    "sr2['two'], sr2[1], sr2['three'], sr2[2]\n",
    "# 정수형 인덱스 -> 문자형 인덱스 로 바꿨을 경우, value를 출력하기 위해 [ 정수든 문자든 다 쓸 수 있음]"
   ]
  },
  {
   "cell_type": "code",
   "execution_count": 214,
   "id": "ab15b2a7",
   "metadata": {},
   "outputs": [],
   "source": [
    "# 정수형 index와 문자형 index가 같이 존재하게 되는 경우도 있음\n",
    "# 문자형으로 index로 만들면, index label[name]이라고 함 => 정수형도 같이 존재하게 됨\n",
    "# 정수형으로 주면 어차피, 기본적으로 주는 것도 정수이기 때문에 "
   ]
  },
  {
   "cell_type": "code",
   "execution_count": 215,
   "id": "52f311d1",
   "metadata": {},
   "outputs": [
    {
     "data": {
      "text/plain": [
       "name    Hong\n",
       "age       12\n",
       "dtype: object"
      ]
     },
     "execution_count": 215,
     "metadata": {},
     "output_type": "execute_result"
    }
   ],
   "source": [
    "sr3 = pd.Series({'name':'Hong', 'age':12})\n",
    "sr3"
   ]
  },
  {
   "cell_type": "code",
   "execution_count": 216,
   "id": "bda13bb3",
   "metadata": {},
   "outputs": [
    {
     "data": {
      "text/plain": [
       "Index(['name', 'age'], dtype='object')"
      ]
     },
     "execution_count": 216,
     "metadata": {},
     "output_type": "execute_result"
    }
   ],
   "source": [
    "sr3.index"
   ]
  },
  {
   "cell_type": "code",
   "execution_count": 217,
   "id": "d5383201",
   "metadata": {},
   "outputs": [
    {
     "data": {
      "text/plain": [
       "(12, 'Hong')"
      ]
     },
     "execution_count": 217,
     "metadata": {},
     "output_type": "execute_result"
    }
   ],
   "source": [
    "sr3['age'], sr3['name']  "
   ]
  },
  {
   "cell_type": "code",
   "execution_count": 218,
   "id": "6d381918",
   "metadata": {},
   "outputs": [
    {
     "data": {
      "text/plain": [
       "('Hong', 12)"
      ]
     },
     "execution_count": 218,
     "metadata": {},
     "output_type": "execute_result"
    }
   ],
   "source": [
    "sr3[0], sr3[1]           # 문자형으로 index가 되었지만, 기존에 있던 정수형 index가 살아 있어서 되는 것"
   ]
  },
  {
   "cell_type": "code",
   "execution_count": 219,
   "id": "92f909ae",
   "metadata": {},
   "outputs": [],
   "source": [
    "# 튜플과 리스트는 똑같고, 딕셔너리만 다름"
   ]
  },
  {
   "cell_type": "code",
   "execution_count": 220,
   "id": "67ca666b",
   "metadata": {},
   "outputs": [
    {
     "data": {
      "text/plain": [
       "0    2022-06-30\n",
       "1        Pandas\n",
       "2          True\n",
       "3          4.55\n",
       "4       No Work\n",
       "dtype: object"
      ]
     },
     "execution_count": 220,
     "metadata": {},
     "output_type": "execute_result"
    }
   ],
   "source": [
    "sr4 = pd.Series(('2022-06-30','Pandas', True, 4.55, 'No Work'))\n",
    "sr4"
   ]
  },
  {
   "cell_type": "code",
   "execution_count": 221,
   "id": "5106b0af",
   "metadata": {},
   "outputs": [
    {
     "data": {
      "text/plain": [
       "날짜    2022-06-30\n",
       "과목        Pandas\n",
       "공복          True\n",
       "소수          4.55\n",
       "희망       No Work\n",
       "dtype: object"
      ]
     },
     "execution_count": 221,
     "metadata": {},
     "output_type": "execute_result"
    }
   ],
   "source": [
    "sr4.index = ['날짜','과목','공복','소수','희망']\n",
    "sr4"
   ]
  },
  {
   "cell_type": "code",
   "execution_count": 246,
   "id": "d43a7b20",
   "metadata": {},
   "outputs": [
    {
     "name": "stdout",
     "output_type": "stream",
     "text": [
      "0번요소 : 2022-06-30  /  3번요소 : 4.55  / 4번요소 : No Work\n",
      "0번요소 : 2022-06-30  /  3번요소 : 4.55  / 4번요소 : No Work\n"
     ]
    }
   ],
   "source": [
    "# 정수 인덱스든 문자 인덱스든 똑같이 부를 수 있는 것을 보여줌\n",
    "print(f'0번요소 : {sr4[0]}  /  3번요소 : {sr4[3]}  / 4번요소 : {sr4[4]}')\n",
    "print(f\"0번요소 : {sr4['날짜']}  /  3번요소 : {sr4['소수']}  / 4번요소 : {sr4['희망']}\")"
   ]
  },
  {
   "cell_type": "code",
   "execution_count": 223,
   "id": "5a3042c2",
   "metadata": {},
   "outputs": [
    {
     "name": "stdout",
     "output_type": "stream",
     "text": [
      "날짜    2022-06-30\n",
      "소수          4.55\n",
      "희망       No Work\n",
      "dtype: object\n"
     ]
    }
   ],
   "source": [
    "print(sr4[[0,3,4]])  # 2개 이상이면, 리스트 안에 리스트를 담아 => 인덱스부분 넣기"
   ]
  },
  {
   "cell_type": "code",
   "execution_count": 224,
   "id": "d41fcc67",
   "metadata": {},
   "outputs": [
    {
     "name": "stdout",
     "output_type": "stream",
     "text": [
      "1번요소부터 끝까지\n",
      "과목     Pandas\n",
      "공복       True\n",
      "소수       4.55\n",
      "희망    No Work\n",
      "dtype: object\n"
     ]
    }
   ],
   "source": [
    "print(f'1번요소부터 끝까지\\n{sr4[1:]}')"
   ]
  },
  {
   "cell_type": "code",
   "execution_count": 225,
   "id": "aace9a1e",
   "metadata": {},
   "outputs": [
    {
     "name": "stdout",
     "output_type": "stream",
     "text": [
      "<class 'str'> <class 'float'> <class 'str'>\n",
      "날짜    2022-06-30\n",
      "소수          4.55\n",
      "희망       No Work\n",
      "dtype: object <class 'pandas.core.series.Series'>\n"
     ]
    }
   ],
   "source": [
    "print( type(sr4[0]), type(sr4[3]), type(sr4[4]) )\n",
    "\n",
    "# 덩어리로 object였었고, 원소 하나씩 빼내면 원래 자기 타입인 'str'\n",
    "\n",
    "print( sr4[ [0,3,4] ], type(sr4[ [0,3,4] ]) )\n",
    "\n",
    "# 리스트에 담으면 Series 형태로 나옴"
   ]
  },
  {
   "cell_type": "code",
   "execution_count": 254,
   "id": "3870570b",
   "metadata": {},
   "outputs": [
    {
     "name": "stdout",
     "output_type": "stream",
     "text": [
      "0    0\n",
      "3    3\n",
      "4    4\n",
      "dtype: int64 <class 'pandas.core.series.Series'>\n",
      "0 <class 'numpy.int64'>\n"
     ]
    }
   ],
   "source": [
    "pp = pd.Series([0,1,2,3,4])\n",
    "print(pp[[0,3,4]], type(pp[[0,3,4]]))\n",
    "print(pp[0], type(pp[0])) # 정수들 덩어리는 Series 타입, 원소 하나씩 빼내면 int64 타입"
   ]
  },
  {
   "cell_type": "code",
   "execution_count": 226,
   "id": "38140105",
   "metadata": {},
   "outputs": [
    {
     "name": "stdout",
     "output_type": "stream",
     "text": [
      "과목     Pandas\n",
      "공복       True\n",
      "소수       4.55\n",
      "희망    No Work\n",
      "dtype: object\n",
      "과목     Pandas\n",
      "공복       True\n",
      "소수       4.55\n",
      "희망    No Work\n",
      "dtype: object\n"
     ]
    }
   ],
   "source": [
    "# (2) 1번요소부터 끝까지요소값 \n",
    "print(sr4[1:])\n",
    "print(sr4['과목':])"
   ]
  },
  {
   "cell_type": "code",
   "execution_count": 227,
   "id": "1a1e5f68",
   "metadata": {},
   "outputs": [
    {
     "name": "stdout",
     "output_type": "stream",
     "text": [
      "과목    Pandas\n",
      "공복      True\n",
      "소수      4.55\n",
      "dtype: object\n",
      "\n",
      "과목     Pandas\n",
      "공복       True\n",
      "소수       4.55\n",
      "희망    No Work\n",
      "dtype: object\n"
     ]
    }
   ],
   "source": [
    "# (3) 1번요소부터 3번요소까지 요소값 출력  \n",
    "print(sr4[1:4])  #  인덱스로 하면 끝 원소 미포함\n",
    "print()\n",
    "print(sr4['과목':'희망'])  # 인덱스 라벨은 끝 원소로 포함"
   ]
  }
 ],
 "metadata": {
  "kernelspec": {
   "display_name": "Python 3 (ipykernel)",
   "language": "python",
   "name": "python3"
  },
  "language_info": {
   "codemirror_mode": {
    "name": "ipython",
    "version": 3
   },
   "file_extension": ".py",
   "mimetype": "text/x-python",
   "name": "python",
   "nbconvert_exporter": "python",
   "pygments_lexer": "ipython3",
   "version": "3.9.12"
  }
 },
 "nbformat": 4,
 "nbformat_minor": 5
}
