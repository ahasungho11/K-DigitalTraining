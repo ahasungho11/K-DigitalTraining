{
 "cells": [
  {
   "cell_type": "markdown",
   "id": "ad98243a",
   "metadata": {},
   "source": [
    "# 데이터프레임(DataFrame\n",
    "- 시리즈(Series) 객체가 2개이상 합쳐진 pandas의 데이터 타입    ex) 0번 떼와라 -> 어느 시리즈!? -> 시리즈 식별해줄 수 있어야 함\n",
    "- 열/column/feature, 행(row)/entry/instance\n",
    "- 구성 : 행(로우) 인덱스 + 열(컬럼) 라벨  \n",
    "cf) df명.columns[0,1]  이런식으로 행번호로도 컬럼 호출 가능"
   ]
  },
  {
   "cell_type": "code",
   "execution_count": 4,
   "id": "403ad700",
   "metadata": {},
   "outputs": [
    {
     "name": "stdout",
     "output_type": "stream",
     "text": [
      "22\n"
     ]
    }
   ],
   "source": [
    "# 모듈 로딩\n",
    "import pandas as pd\n",
    "\n",
    "# 리스트에 리스트를 넣으면 2차원이 됨\n",
    "datas = [1,2,3,[11,22]]\n",
    "print(datas[3][1])"
   ]
  },
  {
   "cell_type": "code",
   "execution_count": 5,
   "id": "4a5851a0",
   "metadata": {},
   "outputs": [
    {
     "data": {
      "text/html": [
       "<div>\n",
       "<style scoped>\n",
       "    .dataframe tbody tr th:only-of-type {\n",
       "        vertical-align: middle;\n",
       "    }\n",
       "\n",
       "    .dataframe tbody tr th {\n",
       "        vertical-align: top;\n",
       "    }\n",
       "\n",
       "    .dataframe thead th {\n",
       "        text-align: right;\n",
       "    }\n",
       "</style>\n",
       "<table border=\"1\" class=\"dataframe\">\n",
       "  <thead>\n",
       "    <tr style=\"text-align: right;\">\n",
       "      <th></th>\n",
       "      <th>0</th>\n",
       "      <th>1</th>\n",
       "      <th>2</th>\n",
       "    </tr>\n",
       "  </thead>\n",
       "  <tbody>\n",
       "    <tr>\n",
       "      <th>0</th>\n",
       "      <td>1</td>\n",
       "      <td>2</td>\n",
       "      <td>3</td>\n",
       "    </tr>\n",
       "    <tr>\n",
       "      <th>1</th>\n",
       "      <td>a</td>\n",
       "      <td>b</td>\n",
       "      <td>c</td>\n",
       "    </tr>\n",
       "  </tbody>\n",
       "</table>\n",
       "</div>"
      ],
      "text/plain": [
       "   0  1  2\n",
       "0  1  2  3\n",
       "1  a  b  c"
      ]
     },
     "execution_count": 5,
     "metadata": {},
     "output_type": "execute_result"
    }
   ],
   "source": [
    "datas = [[1,2,3],['a','b','c']]\n",
    "df = pd.DataFrame(datas)   # 객체 만든 것\n",
    "df"
   ]
  },
  {
   "cell_type": "code",
   "execution_count": 6,
   "id": "ec5d052e",
   "metadata": {},
   "outputs": [
    {
     "name": "stdout",
     "output_type": "stream",
     "text": [
      "RangeIndex(start=0, stop=2, step=1)\n",
      "RangeIndex(start=0, stop=3, step=1)\n",
      "[[1 2 3]\n",
      " ['a' 'b' 'c']]\n",
      "6\n",
      "2\n",
      "(2, 3)\n"
     ]
    }
   ],
   "source": [
    "# DataFrame의 속성 읽기\n",
    "print(df.index, df.columns, df.values, df.size, df.ndim, df.shape, sep='\\n')   # print()에 [ sep='\\n' ] 옵션으로 작성"
   ]
  },
  {
   "cell_type": "code",
   "execution_count": 7,
   "id": "69c6476e",
   "metadata": {},
   "outputs": [],
   "source": [
    "# 0, 1\n",
    "# 0, 1, 2\n",
    "# (2, 3) = 2행 3열"
   ]
  },
  {
   "cell_type": "code",
   "execution_count": 8,
   "id": "399ffafb",
   "metadata": {},
   "outputs": [
    {
     "name": "stdout",
     "output_type": "stream",
     "text": [
      "<class 'pandas.core.frame.DataFrame'>\n",
      "RangeIndex: 2 entries, 0 to 1\n",
      "Data columns (total 3 columns):\n",
      " #   Column  Non-Null Count  Dtype \n",
      "---  ------  --------------  ----- \n",
      " 0   0       2 non-null      object\n",
      " 1   1       2 non-null      object\n",
      " 2   2       2 non-null      object\n",
      "dtypes: object(3)\n",
      "memory usage: 176.0+ bytes\n"
     ]
    }
   ],
   "source": [
    "df.info()"
   ]
  },
  {
   "cell_type": "code",
   "execution_count": 9,
   "id": "80dea5ab",
   "metadata": {},
   "outputs": [],
   "source": [
    "# non-null : 비어있지 않은 것\n",
    "# 파일을 읽어오면, info()로 data에 대한 정보를 한눈에 봐야 => 특히 데이터 누락된 것 확인"
   ]
  },
  {
   "cell_type": "code",
   "execution_count": 10,
   "id": "40500099",
   "metadata": {},
   "outputs": [
    {
     "data": {
      "text/html": [
       "<div>\n",
       "<style scoped>\n",
       "    .dataframe tbody tr th:only-of-type {\n",
       "        vertical-align: middle;\n",
       "    }\n",
       "\n",
       "    .dataframe tbody tr th {\n",
       "        vertical-align: top;\n",
       "    }\n",
       "\n",
       "    .dataframe thead th {\n",
       "        text-align: right;\n",
       "    }\n",
       "</style>\n",
       "<table border=\"1\" class=\"dataframe\">\n",
       "  <thead>\n",
       "    <tr style=\"text-align: right;\">\n",
       "      <th></th>\n",
       "      <th>name</th>\n",
       "      <th>age</th>\n",
       "      <th>loc</th>\n",
       "      <th>Gen</th>\n",
       "    </tr>\n",
       "  </thead>\n",
       "  <tbody>\n",
       "    <tr>\n",
       "      <th>0</th>\n",
       "      <td>HONG</td>\n",
       "      <td>12</td>\n",
       "      <td>Daege</td>\n",
       "      <td>F</td>\n",
       "    </tr>\n",
       "    <tr>\n",
       "      <th>1</th>\n",
       "      <td>LEE</td>\n",
       "      <td>5</td>\n",
       "      <td>Busan</td>\n",
       "      <td>M</td>\n",
       "    </tr>\n",
       "  </tbody>\n",
       "</table>\n",
       "</div>"
      ],
      "text/plain": [
       "   name  age    loc Gen\n",
       "0  HONG   12  Daege   F\n",
       "1   LEE    5  Busan   M"
      ]
     },
     "execution_count": 10,
     "metadata": {},
     "output_type": "execute_result"
    }
   ],
   "source": [
    "# Dict 데이터로 DataFrame 객체 생성하기\n",
    "df2 = pd.DataFrame( {'name':['HONG','LEE'],\n",
    "                     'age':[12,5],\n",
    "                    'loc':['Daege', 'Busan'],\n",
    "                    'Gen':['F','M']})\n",
    "\n",
    "# key 이름이 컬럼명\n",
    "\n",
    "df2"
   ]
  },
  {
   "cell_type": "code",
   "execution_count": 11,
   "id": "d5953835",
   "metadata": {},
   "outputs": [],
   "source": [
    "# 리스트, 튜플은 가로로 들어가지만\n",
    "# 딕셔너리는 세로로 들어간다"
   ]
  },
  {
   "cell_type": "code",
   "execution_count": 12,
   "id": "13922c91",
   "metadata": {},
   "outputs": [
    {
     "name": "stdout",
     "output_type": "stream",
     "text": [
      "<class 'pandas.core.frame.DataFrame'>\n",
      "RangeIndex: 2 entries, 0 to 1\n",
      "Data columns (total 4 columns):\n",
      " #   Column  Non-Null Count  Dtype \n",
      "---  ------  --------------  ----- \n",
      " 0   name    2 non-null      object\n",
      " 1   age     2 non-null      int64 \n",
      " 2   loc     2 non-null      object\n",
      " 3   Gen     2 non-null      object\n",
      "dtypes: int64(1), object(3)\n",
      "memory usage: 192.0+ bytes\n"
     ]
    }
   ],
   "source": [
    "df2.info()"
   ]
  },
  {
   "cell_type": "code",
   "execution_count": 13,
   "id": "06fbadf7",
   "metadata": {},
   "outputs": [
    {
     "data": {
      "text/plain": [
       "'Busan'"
      ]
     },
     "execution_count": 13,
     "metadata": {},
     "output_type": "execute_result"
    }
   ],
   "source": [
    "# DataFrame객체에서 'Busan' 데이터 추출\n",
    "\n",
    "df2.loc[1,'loc']\n",
    "# df2.loc[1,2]는 에러남 => 왜인지 알 것!  \n",
    "-> 열(컬럼)은 행번호로 부르기 위해서는 다르케 해야함"
   ]
  },
  {
   "cell_type": "code",
   "execution_count": null,
   "id": "11e8a3b6",
   "metadata": {},
   "outputs": [],
   "source": []
  }
 ],
 "metadata": {
  "kernelspec": {
   "display_name": "Python 3 (ipykernel)",
   "language": "python",
   "name": "python3"
  },
  "language_info": {
   "codemirror_mode": {
    "name": "ipython",
    "version": 3
   },
   "file_extension": ".py",
   "mimetype": "text/x-python",
   "name": "python",
   "nbconvert_exporter": "python",
   "pygments_lexer": "ipython3",
   "version": "3.9.12"
  }
 },
 "nbformat": 4,
 "nbformat_minor": 5
}
