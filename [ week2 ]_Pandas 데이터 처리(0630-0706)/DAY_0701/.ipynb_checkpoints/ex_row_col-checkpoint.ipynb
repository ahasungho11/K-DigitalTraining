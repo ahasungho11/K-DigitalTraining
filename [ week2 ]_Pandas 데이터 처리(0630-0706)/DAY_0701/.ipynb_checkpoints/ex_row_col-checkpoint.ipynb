{
 "cells": [
  {
   "cell_type": "markdown",
   "id": "33003f0e",
   "metadata": {},
   "source": [
    "# DataFrame에서 데이터 추출\n",
    "\n",
    "- 열 (컬럼, column 세로백터) 단위 데이터 추출\n",
    "    - 방식 : DF객체변수명[컬럼명]  or  DF객체변수명.컬럼명\n",
    "\n",
    "- 행 (로우, row 가로백터) 단위 데이터 추출\n",
    "    - 방식 : DF객체변수명.loc[인덱스라벨]  (숫자, 문자 모두 가능) 또는 DF객체변수명.iloc[정수인덱스]\n",
    "    \n",
    "\n",
    "- 1개 원소 단위 데이터 추출\n",
    "- (행과 열을 이용해서 1개 원소를 뽑아야되므로 loc나 iloc는 무조건 쓴다고 보면 됨)\n",
    "- 방식 : DF객체변수명.loc[행인덱스라벨, 열인덱스라벨]   또는  DF객체변수명.[행인덱스라벨].[열인덱스라벨]  \n",
    "- DF객체변수명.iloc[행인덱스, 열인덱스]  또는   DF객체변수명.[행인덱스].[열인덱스]\n"
   ]
  },
  {
   "cell_type": "code",
   "execution_count": 24,
   "id": "b2413fe4",
   "metadata": {},
   "outputs": [
    {
     "name": "stdout",
     "output_type": "stream",
     "text": [
      "    0   1   2\n",
      "0   1   2   3\n",
      "1  11  22  33\n",
      "<class 'pandas.core.frame.DataFrame'>\n",
      "RangeIndex: 2 entries, 0 to 1\n",
      "Data columns (total 3 columns):\n",
      " #   Column  Non-Null Count  Dtype\n",
      "---  ------  --------------  -----\n",
      " 0   0       2 non-null      int64\n",
      " 1   1       2 non-null      int64\n",
      " 2   2       2 non-null      int64\n",
      "dtypes: int64(3)\n",
      "memory usage: 176.0 bytes\n"
     ]
    }
   ],
   "source": [
    "# 모듈 로딩\n",
    "import pandas as pd\n",
    "\n",
    "# DF객체 생성\n",
    "df = pd.DataFrame([[1,2,3], [11,22,33]])\n",
    "\n",
    "# DF객체 출력\n",
    "print(df)\n",
    "\n",
    "# DataFrame 요약 정보 출력 메서드\n",
    "df.info()\n",
    "# rangeindex는 행을 뜻하는 것\n",
    "# 아래쪽에 가서 보겠지만 column은 열을 뜻하는 것 => 정수로 0,1,2 되어 있음 => 문자열로는 안되는 것"
   ]
  },
  {
   "cell_type": "code",
   "execution_count": 2,
   "id": "a44d386b",
   "metadata": {},
   "outputs": [
    {
     "data": {
      "text/html": [
       "<div>\n",
       "<style scoped>\n",
       "    .dataframe tbody tr th:only-of-type {\n",
       "        vertical-align: middle;\n",
       "    }\n",
       "\n",
       "    .dataframe tbody tr th {\n",
       "        vertical-align: top;\n",
       "    }\n",
       "\n",
       "    .dataframe thead th {\n",
       "        text-align: right;\n",
       "    }\n",
       "</style>\n",
       "<table border=\"1\" class=\"dataframe\">\n",
       "  <thead>\n",
       "    <tr style=\"text-align: right;\">\n",
       "      <th></th>\n",
       "      <th>0</th>\n",
       "      <th>1</th>\n",
       "      <th>2</th>\n",
       "    </tr>\n",
       "  </thead>\n",
       "  <tbody>\n",
       "    <tr>\n",
       "      <th>0</th>\n",
       "      <td>1</td>\n",
       "      <td>2</td>\n",
       "      <td>3</td>\n",
       "    </tr>\n",
       "    <tr>\n",
       "      <th>1</th>\n",
       "      <td>11</td>\n",
       "      <td>22</td>\n",
       "      <td>33</td>\n",
       "    </tr>\n",
       "  </tbody>\n",
       "</table>\n",
       "</div>"
      ],
      "text/plain": [
       "    0   1   2\n",
       "0   1   2   3\n",
       "1  11  22  33"
      ]
     },
     "execution_count": 2,
     "metadata": {},
     "output_type": "execute_result"
    }
   ],
   "source": [
    "# DF객체 구성 확인\n",
    "df"
   ]
  },
  {
   "cell_type": "code",
   "execution_count": 5,
   "id": "6a8421d4",
   "metadata": {},
   "outputs": [
    {
     "name": "stdout",
     "output_type": "stream",
     "text": [
      "oneCol = > \n",
      "0     1\n",
      "1    11\n",
      "Name: 0, dtype: int64\n",
      "oneCol Type => <class 'pandas.core.series.Series'>\n"
     ]
    }
   ],
   "source": [
    "# 열(세로) 데이터 추출\n",
    "\n",
    "# DF객체변수명[컬럼명]\n",
    "oneCol = df[0]\n",
    "\n",
    "print(f'oneCol = > \\n{oneCol}', f'oneCol Type => {type(oneCol)}', sep='\\n')"
   ]
  },
  {
   "cell_type": "code",
   "execution_count": 8,
   "id": "49733a1a",
   "metadata": {
    "scrolled": true
   },
   "outputs": [
    {
     "name": "stdout",
     "output_type": "stream",
     "text": [
      "oneCol = > \n",
      "    0   2\n",
      "0   1   3\n",
      "1  11  33\n",
      "oneCol Type => <class 'pandas.core.frame.DataFrame'>\n"
     ]
    }
   ],
   "source": [
    "twoCol = df[[0,2]]\n",
    "print(f'oneCol = > \\n{twoCol}', f'oneCol Type => {type(twoCol)}', sep='\\n')\n",
    "# 시리즈와 마찬가지로 2개 이상이 되면 데이터프레임도 타입이 DataFrame이 됨"
   ]
  },
  {
   "cell_type": "code",
   "execution_count": 1,
   "id": "80b5163b",
   "metadata": {},
   "outputs": [
    {
     "ename": "NameError",
     "evalue": "name 'df' is not defined",
     "output_type": "error",
     "traceback": [
      "\u001b[1;31m---------------------------------------------------------------------------\u001b[0m",
      "\u001b[1;31mNameError\u001b[0m                                 Traceback (most recent call last)",
      "Input \u001b[1;32mIn [1]\u001b[0m, in \u001b[0;36m<cell line: 1>\u001b[1;34m()\u001b[0m\n\u001b[1;32m----> 1\u001b[0m twoCOl \u001b[38;5;241m=\u001b[39m \u001b[43mdf\u001b[49m[\u001b[38;5;241m0\u001b[39m:\u001b[38;5;241m2\u001b[39m]\n\u001b[0;32m      2\u001b[0m \u001b[38;5;28mprint\u001b[39m(\u001b[38;5;124mf\u001b[39m\u001b[38;5;124m'\u001b[39m\u001b[38;5;124moneCol = > \u001b[39m\u001b[38;5;130;01m\\n\u001b[39;00m\u001b[38;5;132;01m{\u001b[39;00mtwoCol\u001b[38;5;132;01m}\u001b[39;00m\u001b[38;5;124m'\u001b[39m, \u001b[38;5;124mf\u001b[39m\u001b[38;5;124m'\u001b[39m\u001b[38;5;124moneCol Type => \u001b[39m\u001b[38;5;132;01m{\u001b[39;00m\u001b[38;5;28mtype\u001b[39m(twoCol)\u001b[38;5;132;01m}\u001b[39;00m\u001b[38;5;124m'\u001b[39m, sep\u001b[38;5;241m=\u001b[39m\u001b[38;5;124m'\u001b[39m\u001b[38;5;130;01m\\n\u001b[39;00m\u001b[38;5;124m'\u001b[39m)\n",
      "\u001b[1;31mNameError\u001b[0m: name 'df' is not defined"
     ]
    }
   ],
   "source": [
    "twoCOl = df[0:2]\n",
    "print(f'oneCol = > \\n{twoCol}', f'oneCol Type => {type(twoCol)}', sep='\\n')"
   ]
  },
  {
   "cell_type": "code",
   "execution_count": 15,
   "id": "c6e70f50",
   "metadata": {},
   "outputs": [
    {
     "data": {
      "text/plain": [
       "<bound method DataFrame.info of    one  two  three\n",
       "0    1    2      3\n",
       "1   11   22     33>"
      ]
     },
     "execution_count": 15,
     "metadata": {},
     "output_type": "execute_result"
    }
   ],
   "source": [
    "# DF객체의 column 속성변경\n",
    "df.columns=['one','two','three']\n",
    "df.info"
   ]
  },
  {
   "cell_type": "code",
   "execution_count": null,
   "id": "aa2763a6",
   "metadata": {},
   "outputs": [],
   "source": [
    "twoCOl = df['one':'three']\n",
    "print(f'oneCol = > \\n{twoCol}', f'oneCol Type => {type(twoCol)}', sep='\\n')\n",
    "# 오류가 생기지 => why : 컬럼으로 슬라이싱 할 때는 \n",
    "세로 백터(열)는 문자열로 슬라이싱 불가 !주의!\n",
    "(시리즈는 가능하지만)\n",
    "# rangeindex - god\n",
    "# column - 열 표시된 것"
   ]
  },
  {
   "cell_type": "markdown",
   "id": "6980f541",
   "metadata": {},
   "source": [
    "# 행(row, 가로) 데이터 추출\n",
    "\n",
    "DF객체변수명.loc[], DF객체변수명.iloc[]"
   ]
  },
  {
   "cell_type": "code",
   "execution_count": 17,
   "id": "621ef0f3",
   "metadata": {},
   "outputs": [
    {
     "data": {
      "text/html": [
       "<div>\n",
       "<style scoped>\n",
       "    .dataframe tbody tr th:only-of-type {\n",
       "        vertical-align: middle;\n",
       "    }\n",
       "\n",
       "    .dataframe tbody tr th {\n",
       "        vertical-align: top;\n",
       "    }\n",
       "\n",
       "    .dataframe thead th {\n",
       "        text-align: right;\n",
       "    }\n",
       "</style>\n",
       "<table border=\"1\" class=\"dataframe\">\n",
       "  <thead>\n",
       "    <tr style=\"text-align: right;\">\n",
       "      <th></th>\n",
       "      <th>one</th>\n",
       "      <th>two</th>\n",
       "      <th>three</th>\n",
       "    </tr>\n",
       "  </thead>\n",
       "  <tbody>\n",
       "    <tr>\n",
       "      <th>0</th>\n",
       "      <td>1</td>\n",
       "      <td>2</td>\n",
       "      <td>3</td>\n",
       "    </tr>\n",
       "    <tr>\n",
       "      <th>1</th>\n",
       "      <td>11</td>\n",
       "      <td>22</td>\n",
       "      <td>33</td>\n",
       "    </tr>\n",
       "  </tbody>\n",
       "</table>\n",
       "</div>"
      ],
      "text/plain": [
       "   one  two  three\n",
       "0    1    2      3\n",
       "1   11   22     33"
      ]
     },
     "execution_count": 17,
     "metadata": {},
     "output_type": "execute_result"
    }
   ],
   "source": [
    "# DF 객체 데이터 확인\n",
    "df"
   ]
  },
  {
   "cell_type": "code",
   "execution_count": 19,
   "id": "b4b724f8",
   "metadata": {},
   "outputs": [
    {
     "name": "stdout",
     "output_type": "stream",
     "text": [
      "oneRow = > \n",
      "one      11\n",
      "two      22\n",
      "three    33\n",
      "Name: 1, dtype: int64\n",
      "oneRow Type => <class 'pandas.core.series.Series'>\n"
     ]
    }
   ],
   "source": [
    "# 11, 22, 33 라인 전체 추출\n",
    "# df[1]  # 1->'one' 해서 오류남\n",
    "oneRow = df.iloc[1]\n",
    "\n",
    "print(f'oneRow = > \\n{oneRow}', f'oneRow Type => {type(oneRow)}', sep='\\n')\n",
    "\n",
    "# 가로 백터, 세로 백터 => 하나로 뺀 것이라서 꼭 컬럼이 아니더라도 시리즈 가능\n",
    "\n",
    "# 세로로 뽑는 건 컬럼명, 가로로 뽑는 건 iloc나 loc를 써서 뽑으면 됨\n"
   ]
  },
  {
   "cell_type": "code",
   "execution_count": 21,
   "id": "b4ceb3b3",
   "metadata": {},
   "outputs": [
    {
     "name": "stdout",
     "output_type": "stream",
     "text": [
      "oneRow = > \n",
      "one      11\n",
      "two      22\n",
      "three    33\n",
      "Name: 1, dtype: int64\n",
      "oneRow Type => <class 'pandas.core.series.Series'>\n"
     ]
    }
   ],
   "source": [
    "oneRow = df.loc[1]\n",
    "\n",
    "print(f'oneRow = > \\n{oneRow}', f'oneRow Type => {type(oneRow)}', sep='\\n')\n",
    "\n",
    "# 인덱스 라벨은 별도로 정하지 않았기 때문에 직전과 똑같이 나오는 것"
   ]
  },
  {
   "cell_type": "code",
   "execution_count": 25,
   "id": "6085490a",
   "metadata": {},
   "outputs": [
    {
     "name": "stdout",
     "output_type": "stream",
     "text": [
      "twoRow = > \n",
      "    0   1   2\n",
      "0   1   2   3\n",
      "1  11  22  33\n",
      "twoRow Type => <class 'pandas.core.frame.DataFrame'>\n"
     ]
    }
   ],
   "source": [
    "twoRow = df.iloc[[0,1]]  # 2개라서 리스트에 담는 것\n",
    "print(f'twoRow = > \\n{twoRow}', f'twoRow Type => {type(twoRow)}', sep='\\n')"
   ]
  },
  {
   "cell_type": "code",
   "execution_count": 42,
   "id": "750c5677",
   "metadata": {},
   "outputs": [],
   "source": [
    "# 딕셔너리 자료 -> key가 컬럼이 되지\n",
    "# 106\n",
    "# -> 행인덱스를 뽑는 경우, "
   ]
  },
  {
   "cell_type": "code",
   "execution_count": 43,
   "id": "89e3f5f4",
   "metadata": {},
   "outputs": [
    {
     "data": {
      "text/html": [
       "<div>\n",
       "<style scoped>\n",
       "    .dataframe tbody tr th:only-of-type {\n",
       "        vertical-align: middle;\n",
       "    }\n",
       "\n",
       "    .dataframe tbody tr th {\n",
       "        vertical-align: top;\n",
       "    }\n",
       "\n",
       "    .dataframe thead th {\n",
       "        text-align: right;\n",
       "    }\n",
       "</style>\n",
       "<table border=\"1\" class=\"dataframe\">\n",
       "  <thead>\n",
       "    <tr style=\"text-align: right;\">\n",
       "      <th></th>\n",
       "      <th>수학</th>\n",
       "      <th>영어</th>\n",
       "      <th>음악</th>\n",
       "      <th>체육</th>\n",
       "    </tr>\n",
       "  </thead>\n",
       "  <tbody>\n",
       "    <tr>\n",
       "      <th>서준</th>\n",
       "      <td>90</td>\n",
       "      <td>98</td>\n",
       "      <td>85</td>\n",
       "      <td>100</td>\n",
       "    </tr>\n",
       "    <tr>\n",
       "      <th>우현</th>\n",
       "      <td>80</td>\n",
       "      <td>89</td>\n",
       "      <td>95</td>\n",
       "      <td>90</td>\n",
       "    </tr>\n",
       "    <tr>\n",
       "      <th>인아</th>\n",
       "      <td>70</td>\n",
       "      <td>95</td>\n",
       "      <td>100</td>\n",
       "      <td>90</td>\n",
       "    </tr>\n",
       "  </tbody>\n",
       "</table>\n",
       "</div>"
      ],
      "text/plain": [
       "    수학  영어   음악   체육\n",
       "서준  90  98   85  100\n",
       "우현  80  89   95   90\n",
       "인아  70  95  100   90"
      ]
     },
     "execution_count": 43,
     "metadata": {},
     "output_type": "execute_result"
    }
   ],
   "source": [
    "exam_data = {'수학':[90,80,70], '영어':[98,89,95],\n",
    "             '음악':[85,95,100], '체육':[100,90,90]}\n",
    "df2 = pd.DataFrame(exam_data, index=['서준','우현','인아'])\n",
    "df2"
   ]
  },
  {
   "cell_type": "code",
   "execution_count": 44,
   "id": "ae448d8e",
   "metadata": {},
   "outputs": [
    {
     "name": "stdout",
     "output_type": "stream",
     "text": [
      "<class 'pandas.core.frame.DataFrame'>\n",
      "Index: 3 entries, 서준 to 인아\n",
      "Data columns (total 4 columns):\n",
      " #   Column  Non-Null Count  Dtype\n",
      "---  ------  --------------  -----\n",
      " 0   수학      3 non-null      int64\n",
      " 1   영어      3 non-null      int64\n",
      " 2   음악      3 non-null      int64\n",
      " 3   체육      3 non-null      int64\n",
      "dtypes: int64(4)\n",
      "memory usage: 120.0+ bytes\n"
     ]
    }
   ],
   "source": [
    "df2.info()"
   ]
  },
  {
   "cell_type": "code",
   "execution_count": 48,
   "id": "546c1c7e",
   "metadata": {},
   "outputs": [
    {
     "data": {
      "text/plain": [
       "수학    80\n",
       "영어    89\n",
       "음악    95\n",
       "체육    90\n",
       "Name: 우현, dtype: int64"
      ]
     },
     "execution_count": 48,
     "metadata": {},
     "output_type": "execute_result"
    }
   ],
   "source": [
    "# 우현학생의 성적만 추출 (loc 사용) - 문자, 정수 모두 가능\n",
    "df2.loc['우현']"
   ]
  },
  {
   "cell_type": "code",
   "execution_count": 49,
   "id": "fcf0caf0",
   "metadata": {},
   "outputs": [
    {
     "data": {
      "text/plain": [
       "수학     70\n",
       "영어     95\n",
       "음악    100\n",
       "체육     90\n",
       "Name: 인아, dtype: int64"
      ]
     },
     "execution_count": 49,
     "metadata": {},
     "output_type": "execute_result"
    }
   ],
   "source": [
    "# 인아학생의 성적만 추출 (iloc 사용) - 정수만 가능\n",
    "df2.iloc[2]"
   ]
  },
  {
   "cell_type": "code",
   "execution_count": 56,
   "id": "fe7ea542",
   "metadata": {},
   "outputs": [
    {
     "data": {
      "text/plain": [
       "서준     85\n",
       "우현     95\n",
       "인아    100\n",
       "Name: 음악, dtype: int64"
      ]
     },
     "execution_count": 56,
     "metadata": {},
     "output_type": "execute_result"
    }
   ],
   "source": [
    "# 음악과목의 성적만 추출\n",
    "oneCol = df2.음악\n",
    "oneCol"
   ]
  },
  {
   "cell_type": "code",
   "execution_count": 55,
   "id": "1577bb9d",
   "metadata": {},
   "outputs": [
    {
     "data": {
      "text/plain": [
       "서준     85\n",
       "우현     95\n",
       "인아    100\n",
       "Name: 음악, dtype: int64"
      ]
     },
     "execution_count": 55,
     "metadata": {},
     "output_type": "execute_result"
    }
   ],
   "source": [
    "oneCol = df2['음악']\n",
    "oneCol"
   ]
  },
  {
   "cell_type": "code",
   "execution_count": 57,
   "id": "bf72b803",
   "metadata": {},
   "outputs": [
    {
     "data": {
      "text/html": [
       "<div>\n",
       "<style scoped>\n",
       "    .dataframe tbody tr th:only-of-type {\n",
       "        vertical-align: middle;\n",
       "    }\n",
       "\n",
       "    .dataframe tbody tr th {\n",
       "        vertical-align: top;\n",
       "    }\n",
       "\n",
       "    .dataframe thead th {\n",
       "        text-align: right;\n",
       "    }\n",
       "</style>\n",
       "<table border=\"1\" class=\"dataframe\">\n",
       "  <thead>\n",
       "    <tr style=\"text-align: right;\">\n",
       "      <th></th>\n",
       "      <th>수학</th>\n",
       "      <th>영어</th>\n",
       "      <th>음악</th>\n",
       "      <th>체육</th>\n",
       "    </tr>\n",
       "  </thead>\n",
       "  <tbody>\n",
       "    <tr>\n",
       "      <th>서준</th>\n",
       "      <td>90</td>\n",
       "      <td>98</td>\n",
       "      <td>85</td>\n",
       "      <td>100</td>\n",
       "    </tr>\n",
       "    <tr>\n",
       "      <th>우현</th>\n",
       "      <td>80</td>\n",
       "      <td>89</td>\n",
       "      <td>95</td>\n",
       "      <td>90</td>\n",
       "    </tr>\n",
       "    <tr>\n",
       "      <th>인아</th>\n",
       "      <td>70</td>\n",
       "      <td>95</td>\n",
       "      <td>100</td>\n",
       "      <td>90</td>\n",
       "    </tr>\n",
       "  </tbody>\n",
       "</table>\n",
       "</div>"
      ],
      "text/plain": [
       "    수학  영어   음악   체육\n",
       "서준  90  98   85  100\n",
       "우현  80  89   95   90\n",
       "인아  70  95  100   90"
      ]
     },
     "execution_count": 57,
     "metadata": {},
     "output_type": "execute_result"
    }
   ],
   "source": [
    "# 우현 학생의 음악 점수만 추출\n",
    "df2"
   ]
  },
  {
   "cell_type": "code",
   "execution_count": 65,
   "id": "f1c6f4a1",
   "metadata": {},
   "outputs": [
    {
     "name": "stdout",
     "output_type": "stream",
     "text": [
      "woo => 95\n",
      "woo type = > <class 'numpy.int64'>\n"
     ]
    }
   ],
   "source": [
    "# 행 -> loc , iloc   떠올리기\n",
    "# DF에서 원소 추출 => iloc[ 행, 열 ]  또는  loc[ 행, 열 ]\n",
    "# i가 붙으면 정수라고 생각하기\n",
    "\n",
    "# woo = df2.loc['우현','음악']  이것도 가능 (콤마(,)찍는 것)\n",
    "woo = df2.loc['우현']['음악']   # 콤마(,) 없이 따로 찍는 것도 가능\n",
    "print(f'woo => {woo}', f'woo type = > {type(woo)}',sep='\\n')"
   ]
  },
  {
   "cell_type": "code",
   "execution_count": 64,
   "id": "7405231c",
   "metadata": {},
   "outputs": [
    {
     "name": "stdout",
     "output_type": "stream",
     "text": [
      "woo => 95\n",
      "woo type = > <class 'numpy.int64'>\n"
     ]
    }
   ],
   "source": [
    "woo = df2.iloc[1,2]\n",
    "print(f'woo => {woo}', f'woo type = > {type(woo)}',sep='\\n')\n",
    "\n",
    "# i라면 정수를 써야된다는 것으로 바로 연결되도록!!"
   ]
  },
  {
   "cell_type": "code",
   "execution_count": 68,
   "id": "80fca537",
   "metadata": {},
   "outputs": [
    {
     "data": {
      "text/plain": [
       "70"
      ]
     },
     "execution_count": 68,
     "metadata": {},
     "output_type": "execute_result"
    }
   ],
   "source": [
    "# select = df2[1][2]     # loc나 iloc가 없으니 밑에와 다른 경우지\n",
    "select = df2['수학'][2]  # 컬럼 뽑고, 해당 컬럼의 원소를 뽑는 것이고\n",
    "select\n",
    "#iloc와 loc 없이 객체명[] 은 컬럼 뽑는 것 (df2[1]) 시리즈의 2번요소\n",
    "# iloc나 loc가 안나오면 '열'로 생각하라"
   ]
  },
  {
   "cell_type": "code",
   "execution_count": 69,
   "id": "a1c6205b",
   "metadata": {},
   "outputs": [
    {
     "data": {
      "text/plain": [
       "70"
      ]
     },
     "execution_count": 69,
     "metadata": {},
     "output_type": "execute_result"
    }
   ],
   "source": [
    "oneCol = df2['수학']\n",
    "oneCol[2]"
   ]
  },
  {
   "cell_type": "code",
   "execution_count": 70,
   "id": "abeb0f6c",
   "metadata": {},
   "outputs": [],
   "source": [
    "# 행이나 열을 뽑으면, 그 이후는 다 메서드를 쓰는 것\n",
    "# => 평균, 분산, 최댓값, 최솟값 등 통계적인 것들"
   ]
  },
  {
   "cell_type": "markdown",
   "id": "7e2aafdd",
   "metadata": {},
   "source": [
    "# DF에 행과 열 추가하기\n",
    "\n",
    "- 행 추가 => DF객체변수명.loc[행라벨] = 데이터\n",
    "\n",
    "- 열 추가 => DF객체변수명[컬럼] = 데이터"
   ]
  },
  {
   "cell_type": "code",
   "execution_count": 73,
   "id": "3ab1377a",
   "metadata": {},
   "outputs": [
    {
     "data": {
      "text/html": [
       "<div>\n",
       "<style scoped>\n",
       "    .dataframe tbody tr th:only-of-type {\n",
       "        vertical-align: middle;\n",
       "    }\n",
       "\n",
       "    .dataframe tbody tr th {\n",
       "        vertical-align: top;\n",
       "    }\n",
       "\n",
       "    .dataframe thead th {\n",
       "        text-align: right;\n",
       "    }\n",
       "</style>\n",
       "<table border=\"1\" class=\"dataframe\">\n",
       "  <thead>\n",
       "    <tr style=\"text-align: right;\">\n",
       "      <th></th>\n",
       "      <th>수학</th>\n",
       "      <th>영어</th>\n",
       "      <th>음악</th>\n",
       "      <th>체육</th>\n",
       "    </tr>\n",
       "  </thead>\n",
       "  <tbody>\n",
       "    <tr>\n",
       "      <th>서준</th>\n",
       "      <td>90</td>\n",
       "      <td>98</td>\n",
       "      <td>85</td>\n",
       "      <td>100</td>\n",
       "    </tr>\n",
       "    <tr>\n",
       "      <th>우현</th>\n",
       "      <td>80</td>\n",
       "      <td>89</td>\n",
       "      <td>95</td>\n",
       "      <td>90</td>\n",
       "    </tr>\n",
       "    <tr>\n",
       "      <th>인아</th>\n",
       "      <td>70</td>\n",
       "      <td>95</td>\n",
       "      <td>100</td>\n",
       "      <td>90</td>\n",
       "    </tr>\n",
       "    <tr>\n",
       "      <th>혜진</th>\n",
       "      <td>100</td>\n",
       "      <td>100</td>\n",
       "      <td>100</td>\n",
       "      <td>100</td>\n",
       "    </tr>\n",
       "    <tr>\n",
       "      <th>현진</th>\n",
       "      <td>100</td>\n",
       "      <td>100</td>\n",
       "      <td>100</td>\n",
       "      <td>100</td>\n",
       "    </tr>\n",
       "  </tbody>\n",
       "</table>\n",
       "</div>"
      ],
      "text/plain": [
       "     수학   영어   음악   체육\n",
       "서준   90   98   85  100\n",
       "우현   80   89   95   90\n",
       "인아   70   95  100   90\n",
       "혜진  100  100  100  100\n",
       "현진  100  100  100  100"
      ]
     },
     "execution_count": 73,
     "metadata": {},
     "output_type": "execute_result"
    }
   ],
   "source": [
    "# 행(row) 추가하기\n",
    "df2.loc['현진']=[100, 100, 100, 100]\n",
    "df2"
   ]
  },
  {
   "cell_type": "code",
   "execution_count": 75,
   "id": "988eca61",
   "metadata": {},
   "outputs": [
    {
     "data": {
      "text/html": [
       "<div>\n",
       "<style scoped>\n",
       "    .dataframe tbody tr th:only-of-type {\n",
       "        vertical-align: middle;\n",
       "    }\n",
       "\n",
       "    .dataframe tbody tr th {\n",
       "        vertical-align: top;\n",
       "    }\n",
       "\n",
       "    .dataframe thead th {\n",
       "        text-align: right;\n",
       "    }\n",
       "</style>\n",
       "<table border=\"1\" class=\"dataframe\">\n",
       "  <thead>\n",
       "    <tr style=\"text-align: right;\">\n",
       "      <th></th>\n",
       "      <th>수학</th>\n",
       "      <th>영어</th>\n",
       "      <th>음악</th>\n",
       "      <th>체육</th>\n",
       "    </tr>\n",
       "  </thead>\n",
       "  <tbody>\n",
       "    <tr>\n",
       "      <th>서준</th>\n",
       "      <td>90</td>\n",
       "      <td>98</td>\n",
       "      <td>85</td>\n",
       "      <td>100</td>\n",
       "    </tr>\n",
       "    <tr>\n",
       "      <th>우현</th>\n",
       "      <td>80</td>\n",
       "      <td>89</td>\n",
       "      <td>95</td>\n",
       "      <td>90</td>\n",
       "    </tr>\n",
       "    <tr>\n",
       "      <th>인아</th>\n",
       "      <td>70</td>\n",
       "      <td>95</td>\n",
       "      <td>100</td>\n",
       "      <td>90</td>\n",
       "    </tr>\n",
       "    <tr>\n",
       "      <th>혜진</th>\n",
       "      <td>100</td>\n",
       "      <td>100</td>\n",
       "      <td>100</td>\n",
       "      <td>100</td>\n",
       "    </tr>\n",
       "    <tr>\n",
       "      <th>현진</th>\n",
       "      <td>100</td>\n",
       "      <td>100</td>\n",
       "      <td>100</td>\n",
       "      <td>100</td>\n",
       "    </tr>\n",
       "    <tr>\n",
       "      <th>구름</th>\n",
       "      <td>100</td>\n",
       "      <td>100</td>\n",
       "      <td>100</td>\n",
       "      <td>100</td>\n",
       "    </tr>\n",
       "  </tbody>\n",
       "</table>\n",
       "</div>"
      ],
      "text/plain": [
       "     수학   영어   음악   체육\n",
       "서준   90   98   85  100\n",
       "우현   80   89   95   90\n",
       "인아   70   95  100   90\n",
       "혜진  100  100  100  100\n",
       "현진  100  100  100  100\n",
       "구름  100  100  100  100"
      ]
     },
     "execution_count": 75,
     "metadata": {},
     "output_type": "execute_result"
    }
   ],
   "source": [
    "# df2.loc['구름']=[100,90]  오류\n",
    "df2.loc['구름']=100\n",
    "df2\n",
    "# 하나의 로우를 작성하는데 컬럼마다 다 같은 값이 들어간다면,\n",
    "# 이렇게 한번만 적으면 된다"
   ]
  },
  {
   "cell_type": "code",
   "execution_count": 77,
   "id": "752399ef",
   "metadata": {},
   "outputs": [
    {
     "data": {
      "text/html": [
       "<div>\n",
       "<style scoped>\n",
       "    .dataframe tbody tr th:only-of-type {\n",
       "        vertical-align: middle;\n",
       "    }\n",
       "\n",
       "    .dataframe tbody tr th {\n",
       "        vertical-align: top;\n",
       "    }\n",
       "\n",
       "    .dataframe thead th {\n",
       "        text-align: right;\n",
       "    }\n",
       "</style>\n",
       "<table border=\"1\" class=\"dataframe\">\n",
       "  <thead>\n",
       "    <tr style=\"text-align: right;\">\n",
       "      <th></th>\n",
       "      <th>수학</th>\n",
       "      <th>영어</th>\n",
       "      <th>음악</th>\n",
       "      <th>체육</th>\n",
       "      <th>국어</th>\n",
       "    </tr>\n",
       "  </thead>\n",
       "  <tbody>\n",
       "    <tr>\n",
       "      <th>서준</th>\n",
       "      <td>90</td>\n",
       "      <td>98</td>\n",
       "      <td>85</td>\n",
       "      <td>100</td>\n",
       "      <td>100</td>\n",
       "    </tr>\n",
       "    <tr>\n",
       "      <th>우현</th>\n",
       "      <td>80</td>\n",
       "      <td>89</td>\n",
       "      <td>95</td>\n",
       "      <td>90</td>\n",
       "      <td>100</td>\n",
       "    </tr>\n",
       "    <tr>\n",
       "      <th>인아</th>\n",
       "      <td>70</td>\n",
       "      <td>95</td>\n",
       "      <td>100</td>\n",
       "      <td>90</td>\n",
       "      <td>100</td>\n",
       "    </tr>\n",
       "    <tr>\n",
       "      <th>혜진</th>\n",
       "      <td>100</td>\n",
       "      <td>100</td>\n",
       "      <td>100</td>\n",
       "      <td>100</td>\n",
       "      <td>100</td>\n",
       "    </tr>\n",
       "    <tr>\n",
       "      <th>현진</th>\n",
       "      <td>100</td>\n",
       "      <td>100</td>\n",
       "      <td>100</td>\n",
       "      <td>100</td>\n",
       "      <td>100</td>\n",
       "    </tr>\n",
       "    <tr>\n",
       "      <th>구름</th>\n",
       "      <td>100</td>\n",
       "      <td>100</td>\n",
       "      <td>100</td>\n",
       "      <td>100</td>\n",
       "      <td>100</td>\n",
       "    </tr>\n",
       "  </tbody>\n",
       "</table>\n",
       "</div>"
      ],
      "text/plain": [
       "     수학   영어   음악   체육   국어\n",
       "서준   90   98   85  100  100\n",
       "우현   80   89   95   90  100\n",
       "인아   70   95  100   90  100\n",
       "혜진  100  100  100  100  100\n",
       "현진  100  100  100  100  100\n",
       "구름  100  100  100  100  100"
      ]
     },
     "execution_count": 77,
     "metadata": {},
     "output_type": "execute_result"
    }
   ],
   "source": [
    "# 열(컬럼, column) 추가하기\n",
    "df2['국어']=[100,100,100,100,100,100]\n",
    "df2"
   ]
  },
  {
   "cell_type": "code",
   "execution_count": 81,
   "id": "8bbd6a6c",
   "metadata": {},
   "outputs": [
    {
     "data": {
      "text/html": [
       "<div>\n",
       "<style scoped>\n",
       "    .dataframe tbody tr th:only-of-type {\n",
       "        vertical-align: middle;\n",
       "    }\n",
       "\n",
       "    .dataframe tbody tr th {\n",
       "        vertical-align: top;\n",
       "    }\n",
       "\n",
       "    .dataframe thead th {\n",
       "        text-align: right;\n",
       "    }\n",
       "</style>\n",
       "<table border=\"1\" class=\"dataframe\">\n",
       "  <thead>\n",
       "    <tr style=\"text-align: right;\">\n",
       "      <th></th>\n",
       "      <th>수학</th>\n",
       "      <th>영어</th>\n",
       "      <th>음악</th>\n",
       "      <th>체육</th>\n",
       "      <th>국어</th>\n",
       "    </tr>\n",
       "  </thead>\n",
       "  <tbody>\n",
       "    <tr>\n",
       "      <th>서준</th>\n",
       "      <td>90</td>\n",
       "      <td>98</td>\n",
       "      <td>85</td>\n",
       "      <td>100</td>\n",
       "      <td>0</td>\n",
       "    </tr>\n",
       "    <tr>\n",
       "      <th>우현</th>\n",
       "      <td>80</td>\n",
       "      <td>89</td>\n",
       "      <td>95</td>\n",
       "      <td>90</td>\n",
       "      <td>0</td>\n",
       "    </tr>\n",
       "    <tr>\n",
       "      <th>인아</th>\n",
       "      <td>70</td>\n",
       "      <td>95</td>\n",
       "      <td>100</td>\n",
       "      <td>90</td>\n",
       "      <td>0</td>\n",
       "    </tr>\n",
       "    <tr>\n",
       "      <th>혜진</th>\n",
       "      <td>100</td>\n",
       "      <td>100</td>\n",
       "      <td>100</td>\n",
       "      <td>100</td>\n",
       "      <td>0</td>\n",
       "    </tr>\n",
       "    <tr>\n",
       "      <th>현진</th>\n",
       "      <td>100</td>\n",
       "      <td>100</td>\n",
       "      <td>100</td>\n",
       "      <td>100</td>\n",
       "      <td>0</td>\n",
       "    </tr>\n",
       "    <tr>\n",
       "      <th>구름</th>\n",
       "      <td>100</td>\n",
       "      <td>100</td>\n",
       "      <td>100</td>\n",
       "      <td>100</td>\n",
       "      <td>100</td>\n",
       "    </tr>\n",
       "  </tbody>\n",
       "</table>\n",
       "</div>"
      ],
      "text/plain": [
       "     수학   영어   음악   체육   국어\n",
       "서준   90   98   85  100    0\n",
       "우현   80   89   95   90    0\n",
       "인아   70   95  100   90    0\n",
       "혜진  100  100  100  100    0\n",
       "현진  100  100  100  100    0\n",
       "구름  100  100  100  100  100"
      ]
     },
     "execution_count": 81,
     "metadata": {},
     "output_type": "execute_result"
    }
   ],
   "source": [
    "df2['국어']=[0,0,0,0,0,100]\n",
    "df2\n",
    "    # 있는 것은 덮어써짐\n",
    "    # 없는 것은 추가됨"
   ]
  },
  {
   "cell_type": "markdown",
   "id": "3a74306b",
   "metadata": {},
   "source": [
    "# DF에서 행과 열 삭제하기\n",
    "\n",
    " - 보통 데이터에서 행 자체를 완전한 데이터라고 본다\n",
    " - 컬럼의 경우는 단순히 동일한 데이터라고 본다\n",
    "\n",
    "- 삭제 관련 메서드 => drop()\n",
    "    - 삭제의 경우, 기본적으로 행을 삭제한다고 본다\n",
    "    - 행 삭제 : DF객체변수명.drop(행, axis = 0)  # 0이 디폴트값\n",
    "    - 열 삭제 : DF객체변수명.drop(열, axis = 1)  # 1로 주어야 '열'로 인식함\n",
    "    \n",
    "- drop() 특징\n",
    "    - 실제 데이터를 삭제하지 않고, backup을 갖고 있음\n",
    "    - 복사본을 만들어서, 거기서 삭제하고, 삭제한 복사본을 반환하는 것\n",
    "    - 실제 데이터(원본 데이터) 삭제하기 => inplace = True 를 파라미터로 입력\n",
    "    (고로, inplace의 디폴트 값은 False 라는 것)"
   ]
  },
  {
   "cell_type": "code",
   "execution_count": 83,
   "id": "ca4124ee",
   "metadata": {},
   "outputs": [
    {
     "data": {
      "text/html": [
       "<div>\n",
       "<style scoped>\n",
       "    .dataframe tbody tr th:only-of-type {\n",
       "        vertical-align: middle;\n",
       "    }\n",
       "\n",
       "    .dataframe tbody tr th {\n",
       "        vertical-align: top;\n",
       "    }\n",
       "\n",
       "    .dataframe thead th {\n",
       "        text-align: right;\n",
       "    }\n",
       "</style>\n",
       "<table border=\"1\" class=\"dataframe\">\n",
       "  <thead>\n",
       "    <tr style=\"text-align: right;\">\n",
       "      <th></th>\n",
       "      <th>수학</th>\n",
       "      <th>영어</th>\n",
       "      <th>음악</th>\n",
       "      <th>체육</th>\n",
       "      <th>국어</th>\n",
       "    </tr>\n",
       "  </thead>\n",
       "  <tbody>\n",
       "    <tr>\n",
       "      <th>서준</th>\n",
       "      <td>90</td>\n",
       "      <td>98</td>\n",
       "      <td>85</td>\n",
       "      <td>100</td>\n",
       "      <td>0</td>\n",
       "    </tr>\n",
       "    <tr>\n",
       "      <th>우현</th>\n",
       "      <td>80</td>\n",
       "      <td>89</td>\n",
       "      <td>95</td>\n",
       "      <td>90</td>\n",
       "      <td>0</td>\n",
       "    </tr>\n",
       "    <tr>\n",
       "      <th>인아</th>\n",
       "      <td>70</td>\n",
       "      <td>95</td>\n",
       "      <td>100</td>\n",
       "      <td>90</td>\n",
       "      <td>0</td>\n",
       "    </tr>\n",
       "    <tr>\n",
       "      <th>현진</th>\n",
       "      <td>100</td>\n",
       "      <td>100</td>\n",
       "      <td>100</td>\n",
       "      <td>100</td>\n",
       "      <td>0</td>\n",
       "    </tr>\n",
       "    <tr>\n",
       "      <th>구름</th>\n",
       "      <td>100</td>\n",
       "      <td>100</td>\n",
       "      <td>100</td>\n",
       "      <td>100</td>\n",
       "      <td>100</td>\n",
       "    </tr>\n",
       "  </tbody>\n",
       "</table>\n",
       "</div>"
      ],
      "text/plain": [
       "     수학   영어   음악   체육   국어\n",
       "서준   90   98   85  100    0\n",
       "우현   80   89   95   90    0\n",
       "인아   70   95  100   90    0\n",
       "현진  100  100  100  100    0\n",
       "구름  100  100  100  100  100"
      ]
     },
     "execution_count": 83,
     "metadata": {},
     "output_type": "execute_result"
    }
   ],
   "source": [
    "# 혜진 학생 성적 제거 (# 101-102)\n",
    "df2.drop('혜진')"
   ]
  },
  {
   "cell_type": "code",
   "execution_count": 91,
   "id": "fd2a5932",
   "metadata": {},
   "outputs": [
    {
     "data": {
      "text/html": [
       "<div>\n",
       "<style scoped>\n",
       "    .dataframe tbody tr th:only-of-type {\n",
       "        vertical-align: middle;\n",
       "    }\n",
       "\n",
       "    .dataframe tbody tr th {\n",
       "        vertical-align: top;\n",
       "    }\n",
       "\n",
       "    .dataframe thead th {\n",
       "        text-align: right;\n",
       "    }\n",
       "</style>\n",
       "<table border=\"1\" class=\"dataframe\">\n",
       "  <thead>\n",
       "    <tr style=\"text-align: right;\">\n",
       "      <th></th>\n",
       "      <th>수학</th>\n",
       "      <th>영어</th>\n",
       "      <th>음악</th>\n",
       "      <th>체육</th>\n",
       "      <th>국어</th>\n",
       "    </tr>\n",
       "  </thead>\n",
       "  <tbody>\n",
       "    <tr>\n",
       "      <th>서준</th>\n",
       "      <td>90</td>\n",
       "      <td>98</td>\n",
       "      <td>85</td>\n",
       "      <td>100</td>\n",
       "      <td>0</td>\n",
       "    </tr>\n",
       "    <tr>\n",
       "      <th>우현</th>\n",
       "      <td>80</td>\n",
       "      <td>89</td>\n",
       "      <td>95</td>\n",
       "      <td>90</td>\n",
       "      <td>0</td>\n",
       "    </tr>\n",
       "    <tr>\n",
       "      <th>인아</th>\n",
       "      <td>70</td>\n",
       "      <td>95</td>\n",
       "      <td>100</td>\n",
       "      <td>90</td>\n",
       "      <td>0</td>\n",
       "    </tr>\n",
       "    <tr>\n",
       "      <th>혜진</th>\n",
       "      <td>100</td>\n",
       "      <td>100</td>\n",
       "      <td>100</td>\n",
       "      <td>100</td>\n",
       "      <td>0</td>\n",
       "    </tr>\n",
       "  </tbody>\n",
       "</table>\n",
       "</div>"
      ],
      "text/plain": [
       "     수학   영어   음악   체육  국어\n",
       "서준   90   98   85  100   0\n",
       "우현   80   89   95   90   0\n",
       "인아   70   95  100   90   0\n",
       "혜진  100  100  100  100   0"
      ]
     },
     "execution_count": 91,
     "metadata": {},
     "output_type": "execute_result"
    }
   ],
   "source": [
    "df2\n",
    "# 삭제했던 혜진이 있네!?\n",
    "# drop을 쓸 경우 복사본에서 지우고 출력해주는 것임 => 원본은 살아 있음)"
   ]
  },
  {
   "cell_type": "code",
   "execution_count": 107,
   "id": "91557a70",
   "metadata": {},
   "outputs": [],
   "source": [
    "# df3 = df2.drop('인아', inplace=True)\n",
    "# print(df3)\n",
    "# # 이미 없는 데이터라 'None' 뜨게 됨\n",
    "# # 다시 돌려서 오류 뜸\n",
    "# # 해당 행을 두번째 지우면 아래와 같이 오류가 나게 됨"
   ]
  },
  {
   "cell_type": "code",
   "execution_count": 104,
   "id": "3a76567e",
   "metadata": {},
   "outputs": [
    {
     "data": {
      "text/html": [
       "<div>\n",
       "<style scoped>\n",
       "    .dataframe tbody tr th:only-of-type {\n",
       "        vertical-align: middle;\n",
       "    }\n",
       "\n",
       "    .dataframe tbody tr th {\n",
       "        vertical-align: top;\n",
       "    }\n",
       "\n",
       "    .dataframe thead th {\n",
       "        text-align: right;\n",
       "    }\n",
       "</style>\n",
       "<table border=\"1\" class=\"dataframe\">\n",
       "  <thead>\n",
       "    <tr style=\"text-align: right;\">\n",
       "      <th></th>\n",
       "      <th>수학</th>\n",
       "      <th>영어</th>\n",
       "      <th>음악</th>\n",
       "      <th>체육</th>\n",
       "      <th>국어</th>\n",
       "    </tr>\n",
       "  </thead>\n",
       "  <tbody>\n",
       "    <tr>\n",
       "      <th>서준</th>\n",
       "      <td>90</td>\n",
       "      <td>98</td>\n",
       "      <td>85</td>\n",
       "      <td>100</td>\n",
       "      <td>0</td>\n",
       "    </tr>\n",
       "    <tr>\n",
       "      <th>우현</th>\n",
       "      <td>80</td>\n",
       "      <td>89</td>\n",
       "      <td>95</td>\n",
       "      <td>90</td>\n",
       "      <td>0</td>\n",
       "    </tr>\n",
       "  </tbody>\n",
       "</table>\n",
       "</div>"
      ],
      "text/plain": [
       "    수학  영어  음악   체육  국어\n",
       "서준  90  98  85  100   0\n",
       "우현  80  89  95   90   0"
      ]
     },
     "execution_count": 104,
     "metadata": {},
     "output_type": "execute_result"
    }
   ],
   "source": [
    "df2\n",
    "# 다시금 확인해보면 '서준'과 '우현'만 있는 것을 확인할 수 있음"
   ]
  },
  {
   "cell_type": "code",
   "execution_count": 113,
   "id": "f5838b5a",
   "metadata": {},
   "outputs": [],
   "source": [
    "# 열 삭제 => 수학 컬럼\n",
    "# => DF객체변수명.drop(행, axis=1, inplace=True)  # 원본 날리는 것\n",
    "df2.drop('수학', axis=1, inplace=True)\n",
    "# 다시금 하면 오류생기지 (지금 돌리면 오류나겠지?)"
   ]
  },
  {
   "cell_type": "code",
   "execution_count": 111,
   "id": "53da70d1",
   "metadata": {},
   "outputs": [],
   "source": [
    "df2.drop(3, axis=1)\n",
    "# 컬럼의 경우, 정수로 하면 오류가 생기네 => 문자로 되어 있으니 문자만 가능"
   ]
  },
  {
   "cell_type": "code",
   "execution_count": 115,
   "id": "992b622c",
   "metadata": {},
   "outputs": [
    {
     "data": {
      "text/html": [
       "<div>\n",
       "<style scoped>\n",
       "    .dataframe tbody tr th:only-of-type {\n",
       "        vertical-align: middle;\n",
       "    }\n",
       "\n",
       "    .dataframe tbody tr th {\n",
       "        vertical-align: top;\n",
       "    }\n",
       "\n",
       "    .dataframe thead th {\n",
       "        text-align: right;\n",
       "    }\n",
       "</style>\n",
       "<table border=\"1\" class=\"dataframe\">\n",
       "  <thead>\n",
       "    <tr style=\"text-align: right;\">\n",
       "      <th></th>\n",
       "      <th>영어</th>\n",
       "      <th>음악</th>\n",
       "      <th>체육</th>\n",
       "      <th>국어</th>\n",
       "    </tr>\n",
       "  </thead>\n",
       "  <tbody>\n",
       "    <tr>\n",
       "      <th>서준</th>\n",
       "      <td>98</td>\n",
       "      <td>85</td>\n",
       "      <td>100</td>\n",
       "      <td>0</td>\n",
       "    </tr>\n",
       "    <tr>\n",
       "      <th>우현</th>\n",
       "      <td>89</td>\n",
       "      <td>95</td>\n",
       "      <td>90</td>\n",
       "      <td>0</td>\n",
       "    </tr>\n",
       "  </tbody>\n",
       "</table>\n",
       "</div>"
      ],
      "text/plain": [
       "    영어  음악   체육  국어\n",
       "서준  98  85  100   0\n",
       "우현  89  95   90   0"
      ]
     },
     "execution_count": 115,
     "metadata": {},
     "output_type": "execute_result"
    }
   ],
   "source": [
    "df2\n",
    "# 당연히 inplace=True 했으니까 죽었지"
   ]
  },
  {
   "cell_type": "code",
   "execution_count": null,
   "id": "eed51bc1",
   "metadata": {},
   "outputs": [],
   "source": [
    "# 행 -> loc, iloc\n",
    "# 컬럼 -> 대괄호([])\n",
    "# 원소 -> '행'이 들어가서 무조건 loc, iloc를 써야한다는 것\n",
    "# 데이터를 지운다고 하면 '행'을 지우는 것\n",
    "# 인덱스를 바꾸는 경우, 원본을 두는 것이 기본임\n",
    "# 무조건 원본에 변경을 가하고 싶으면 inplace=True를 쓰는 것이지"
   ]
  },
  {
   "cell_type": "markdown",
   "id": "111e4e2c",
   "metadata": {},
   "source": [
    "# 행과 열의 전환\n",
    "\n",
    "- 행->열 or 열->행 \n",
    "\n",
    "- 방법\n",
    "    - 메서드 : DF객체변수명.transpose() \n",
    "    - 속  성 : DF객체변수명.T"
   ]
  },
  {
   "cell_type": "code",
   "execution_count": 117,
   "id": "588a7d35",
   "metadata": {},
   "outputs": [
    {
     "data": {
      "text/html": [
       "<div>\n",
       "<style scoped>\n",
       "    .dataframe tbody tr th:only-of-type {\n",
       "        vertical-align: middle;\n",
       "    }\n",
       "\n",
       "    .dataframe tbody tr th {\n",
       "        vertical-align: top;\n",
       "    }\n",
       "\n",
       "    .dataframe thead th {\n",
       "        text-align: right;\n",
       "    }\n",
       "</style>\n",
       "<table border=\"1\" class=\"dataframe\">\n",
       "  <thead>\n",
       "    <tr style=\"text-align: right;\">\n",
       "      <th></th>\n",
       "      <th>영어</th>\n",
       "      <th>음악</th>\n",
       "      <th>체육</th>\n",
       "      <th>국어</th>\n",
       "    </tr>\n",
       "  </thead>\n",
       "  <tbody>\n",
       "    <tr>\n",
       "      <th>서준</th>\n",
       "      <td>98</td>\n",
       "      <td>85</td>\n",
       "      <td>100</td>\n",
       "      <td>0</td>\n",
       "    </tr>\n",
       "    <tr>\n",
       "      <th>우현</th>\n",
       "      <td>89</td>\n",
       "      <td>95</td>\n",
       "      <td>90</td>\n",
       "      <td>0</td>\n",
       "    </tr>\n",
       "  </tbody>\n",
       "</table>\n",
       "</div>"
      ],
      "text/plain": [
       "    영어  음악   체육  국어\n",
       "서준  98  85  100   0\n",
       "우현  89  95   90   0"
      ]
     },
     "execution_count": 117,
     "metadata": {},
     "output_type": "execute_result"
    }
   ],
   "source": [
    "df2"
   ]
  },
  {
   "cell_type": "code",
   "execution_count": 118,
   "id": "3e30ff4c",
   "metadata": {},
   "outputs": [
    {
     "data": {
      "text/plain": [
       "(2, 4)"
      ]
     },
     "execution_count": 118,
     "metadata": {},
     "output_type": "execute_result"
    }
   ],
   "source": [
    "# 현재 DF 객체의 형태 => shape속성\n",
    "df2.shape"
   ]
  },
  {
   "cell_type": "code",
   "execution_count": 119,
   "id": "647bc2cf",
   "metadata": {},
   "outputs": [
    {
     "data": {
      "text/html": [
       "<div>\n",
       "<style scoped>\n",
       "    .dataframe tbody tr th:only-of-type {\n",
       "        vertical-align: middle;\n",
       "    }\n",
       "\n",
       "    .dataframe tbody tr th {\n",
       "        vertical-align: top;\n",
       "    }\n",
       "\n",
       "    .dataframe thead th {\n",
       "        text-align: right;\n",
       "    }\n",
       "</style>\n",
       "<table border=\"1\" class=\"dataframe\">\n",
       "  <thead>\n",
       "    <tr style=\"text-align: right;\">\n",
       "      <th></th>\n",
       "      <th>서준</th>\n",
       "      <th>우현</th>\n",
       "    </tr>\n",
       "  </thead>\n",
       "  <tbody>\n",
       "    <tr>\n",
       "      <th>영어</th>\n",
       "      <td>98</td>\n",
       "      <td>89</td>\n",
       "    </tr>\n",
       "    <tr>\n",
       "      <th>음악</th>\n",
       "      <td>85</td>\n",
       "      <td>95</td>\n",
       "    </tr>\n",
       "    <tr>\n",
       "      <th>체육</th>\n",
       "      <td>100</td>\n",
       "      <td>90</td>\n",
       "    </tr>\n",
       "    <tr>\n",
       "      <th>국어</th>\n",
       "      <td>0</td>\n",
       "      <td>0</td>\n",
       "    </tr>\n",
       "  </tbody>\n",
       "</table>\n",
       "</div>"
      ],
      "text/plain": [
       "     서준  우현\n",
       "영어   98  89\n",
       "음악   85  95\n",
       "체육  100  90\n",
       "국어    0   0"
      ]
     },
     "execution_count": 119,
     "metadata": {},
     "output_type": "execute_result"
    }
   ],
   "source": [
    "# 행<->열 전환\n",
    "df2.T"
   ]
  },
  {
   "cell_type": "code",
   "execution_count": 121,
   "id": "08242f68",
   "metadata": {},
   "outputs": [
    {
     "data": {
      "text/plain": [
       "(2, 4)"
      ]
     },
     "execution_count": 121,
     "metadata": {},
     "output_type": "execute_result"
    }
   ],
   "source": [
    "df2.shape\n",
    "# 똑같이 (2, 4)로 나오는 것을 보니, 복사본을 변경한 것"
   ]
  },
  {
   "cell_type": "code",
   "execution_count": 127,
   "id": "d26ff55f",
   "metadata": {},
   "outputs": [
    {
     "data": {
      "text/plain": [
       "(2, 4)"
      ]
     },
     "execution_count": 127,
     "metadata": {},
     "output_type": "execute_result"
    }
   ],
   "source": [
    "# df2.trnaspose(inplace=True)\n",
    "# 오류 발생 : 모든 메서드에 inplace 옵션이 있는 것이 아니다.\n",
    "df2 = df2.transpose()  #저장해주면 되지\n",
    "# 다시 돌려주면 바뀌징\n",
    "df2.shape   # (4, 2)로 바뀌게 확인"
   ]
  },
  {
   "cell_type": "code",
   "execution_count": 128,
   "id": "467e6927",
   "metadata": {},
   "outputs": [],
   "source": [
    "# 정수 - 문자\n",
    "# 행 - 컬럼\n",
    "# 인덱스 => 정리해서 질문할 것\n",
    "# 행은 정수(기존) + 문자열 (라벨) => 모두 가능\n",
    "# 열은 문자열 (라벨) 이라면 => 라벨만 가능\n",
    "# 모든 기능에 대한 행과 열의 성질은 위의 내용 모두 해당 되는 것!!"
   ]
  },
  {
   "cell_type": "code",
   "execution_count": null,
   "id": "52f2b95c",
   "metadata": {},
   "outputs": [],
   "source": []
  }
 ],
 "metadata": {
  "kernelspec": {
   "display_name": "Python 3 (ipykernel)",
   "language": "python",
   "name": "python3"
  },
  "language_info": {
   "codemirror_mode": {
    "name": "ipython",
    "version": 3
   },
   "file_extension": ".py",
   "mimetype": "text/x-python",
   "name": "python",
   "nbconvert_exporter": "python",
   "pygments_lexer": "ipython3",
   "version": "3.9.12"
  }
 },
 "nbformat": 4,
 "nbformat_minor": 5
}
