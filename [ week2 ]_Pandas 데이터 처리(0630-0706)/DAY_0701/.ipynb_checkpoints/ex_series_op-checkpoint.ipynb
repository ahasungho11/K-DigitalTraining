{
 "cells": [
  {
   "cell_type": "markdown",
   "id": "918798e7",
   "metadata": {},
   "source": [
    "# Series 객체와 숫자 연산 수행\n",
    "\n",
    "- Series 객체의 모든 원소에 숫자 연산 적용 => 브로드캐스팅  \n",
    "    - 브로드캐스팅 : 전체를 다 뿌리는 것\n",
    "    - 부족한 행이나 열을 맞추기 위해 있던 것을 확장해주는 느낌"
   ]
  },
  {
   "cell_type": "code",
   "execution_count": 2,
   "id": "f8f18432",
   "metadata": {},
   "outputs": [
    {
     "data": {
      "text/plain": [
       "0    10\n",
       "1    20\n",
       "2    30\n",
       "3    40\n",
       "dtype: int64"
      ]
     },
     "execution_count": 2,
     "metadata": {},
     "output_type": "execute_result"
    }
   ],
   "source": [
    "# 모듈 로딩\n",
    "import pandas as pd\n",
    "\n",
    "# Series 객체 생성\n",
    "sr = pd.Series([10,20,30,40])\n",
    "\n",
    "# Series 객체 데이터 확인\n",
    "sr"
   ]
  },
  {
   "cell_type": "code",
   "execution_count": 5,
   "id": "0288b907",
   "metadata": {},
   "outputs": [
    {
     "name": "stdout",
     "output_type": "stream",
     "text": [
      "result => \n",
      "0    15\n",
      "1    25\n",
      "2    35\n",
      "3    45\n",
      "dtype: int64\n",
      "result type => <class 'pandas.core.series.Series'>\n"
     ]
    }
   ],
   "source": [
    "# 숫자 데이터와 연산 수행\n",
    "result = sr + 5\n",
    "print(f'result => \\n{result}', f'result type => {type(result)}', sep='\\n')\n",
    "\n",
    "# 입력한 시리즈에 모두 5씩 더해진 결과가 출력됨"
   ]
  },
  {
   "cell_type": "code",
   "execution_count": 18,
   "id": "ed2f981d",
   "metadata": {},
   "outputs": [
    {
     "name": "stdout",
     "output_type": "stream",
     "text": [
      "sr1.index => Index(['국어', '영어', '수학'], dtype='object')\n",
      "sr2.index => Index(['수학', '국어', '영어'], dtype='object')\n"
     ]
    }
   ],
   "source": [
    "# 136\n",
    "# Series 객체 + Series 객체 연산 수행\n",
    "sr1 = pd.Series({'국어':90, '영어':100, '수학':88})\n",
    "sr2 = pd.Series({'수학':78, '국어':90, '영어':50})\n",
    "\n",
    "print(f'sr1.index => {sr1.index}', f'sr2.index => {sr2.index}', sep='\\n')"
   ]
  },
  {
   "cell_type": "code",
   "execution_count": 19,
   "id": "b0395f96",
   "metadata": {},
   "outputs": [
    {
     "data": {
      "text/plain": [
       "국어    180\n",
       "수학    166\n",
       "영어    150\n",
       "dtype: int64"
      ]
     },
     "execution_count": 19,
     "metadata": {},
     "output_type": "execute_result"
    }
   ],
   "source": [
    "# 인덱스 정렬 후 동일 인덱스끼리 연산 수행\n",
    "result = sr1+sr2\n",
    "result"
   ]
  },
  {
   "cell_type": "code",
   "execution_count": 23,
   "id": "0fd193e7",
   "metadata": {},
   "outputs": [
    {
     "name": "stdout",
     "output_type": "stream",
     "text": [
      "sr1.index => Index(['국어', '영어', '수학'], dtype='object')\n",
      "sr2.index => Index(['국어', '영어'], dtype='object')\n"
     ]
    }
   ],
   "source": [
    "# Series 객체 + Series 객체 연산 수행\n",
    "sr1 = pd.Series({'국어':90, '영어':100, '수학':88})\n",
    "sr3 = pd.Series({'국어':90, '영어':50})\n",
    "\n",
    "print(f'sr1.index => {sr1.index}', f'sr2.index => {sr2.index}', sep='\\n')"
   ]
  },
  {
   "cell_type": "code",
   "execution_count": 24,
   "id": "dd8a8576",
   "metadata": {},
   "outputs": [
    {
     "data": {
      "text/plain": [
       "국어    180.0\n",
       "수학      NaN\n",
       "영어    150.0\n",
       "dtype: float64"
      ]
     },
     "execution_count": 24,
     "metadata": {},
     "output_type": "execute_result"
    }
   ],
   "source": [
    "# 동일 인덱스가 없는 경우, 연산 수행 안함 => NaN   빈칸 의미\n",
    "result = sr1+sr3\n",
    "result"
   ]
  },
  {
   "cell_type": "code",
   "execution_count": 22,
   "id": "76cc9924",
   "metadata": {},
   "outputs": [],
   "source": [
    "# 사칙연산 모두 동일함"
   ]
  },
  {
   "cell_type": "code",
   "execution_count": 25,
   "id": "06f2a8c5",
   "metadata": {},
   "outputs": [],
   "source": [
    "# 데이터를 받았을 때 비어있는 자료(결측치)를 날림\n",
    "# - 공란인 질문의 중요도에 따라 구분해서\n",
    "# 정렬-연산-일대일 대응이 안되서 빈칸인 경우, value=0 주면서 빈칸에 0을 채우는 것"
   ]
  },
  {
   "cell_type": "code",
   "execution_count": null,
   "id": "8314eb9f",
   "metadata": {},
   "outputs": [],
   "source": [
    "# 마스킹\n",
    "# ex) OMR 정답만 뚫어서 보는 느낌\n"
   ]
  }
 ],
 "metadata": {
  "kernelspec": {
   "display_name": "Python 3 (ipykernel)",
   "language": "python",
   "name": "python3"
  },
  "language_info": {
   "codemirror_mode": {
    "name": "ipython",
    "version": 3
   },
   "file_extension": ".py",
   "mimetype": "text/x-python",
   "name": "python",
   "nbconvert_exporter": "python",
   "pygments_lexer": "ipython3",
   "version": "3.9.12"
  }
 },
 "nbformat": 4,
 "nbformat_minor": 5
}
