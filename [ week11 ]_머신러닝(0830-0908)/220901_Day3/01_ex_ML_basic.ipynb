{
 "cells": [
  {
   "cell_type": "markdown",
   "id": "b995c993",
   "metadata": {},
   "source": [
    "# Scikit-learn ML 기본 동작"
   ]
  },
  {
   "cell_type": "code",
   "execution_count": 1,
   "id": "4871acfa",
   "metadata": {},
   "outputs": [],
   "source": [
    "# 모듈 로딩\n",
    "from sklearn.model_selection import train_test_split\n",
    "from sklearn.linear_model import LinearRegression"
   ]
  },
  {
   "cell_type": "markdown",
   "id": "9dbd010a",
   "metadata": {},
   "source": [
    "### [1] 데이터 수집 & 준비"
   ]
  },
  {
   "cell_type": "code",
   "execution_count": 2,
   "id": "cb1732ee",
   "metadata": {},
   "outputs": [],
   "source": [
    "# 시간 : 점수\n",
    "X = [2,4,6,8,10,12]\n",
    "y = [40,50,60,70,80,90]"
   ]
  },
  {
   "cell_type": "markdown",
   "id": "89cb99e7",
   "metadata": {},
   "source": [
    "### [2] 데이터 분포 분석 => EDA => 시각화"
   ]
  },
  {
   "cell_type": "code",
   "execution_count": 3,
   "id": "bbecff08",
   "metadata": {},
   "outputs": [],
   "source": [
    "# 탐색적 데이터 분석\n",
    "# -> 시각화 시켜서 데이터의 정보가 어떻게 되는지 확인"
   ]
  },
  {
   "cell_type": "code",
   "execution_count": 4,
   "id": "5fbd0c2d",
   "metadata": {
    "scrolled": true
   },
   "outputs": [
    {
     "data": {
      "text/plain": [
       "Text(0, 0.5, 'Score')"
      ]
     },
     "execution_count": 4,
     "metadata": {},
     "output_type": "execute_result"
    },
    {
     "data": {
      "image/png": "[encoded data removed]",
      "text/plain": [
       "<Figure size 432x288 with 1 Axes>"
      ]
     },
     "metadata": {
      "needs_background": "light"
     },
     "output_type": "display_data"
    }
   ],
   "source": [
    "import matplotlib.pyplot as plt\n",
    "plt.scatter(X,y)\n",
    "plt.xlabel('Hour')\n",
    "plt.ylabel('Score')"
   ]
  },
  {
   "cell_type": "code",
   "execution_count": 5,
   "id": "63bed4d2",
   "metadata": {},
   "outputs": [],
   "source": [
    "# 선형/비선형\n",
    "# 특성이 많을 것 같으면, 특성간의 선형관계를 파악해 봐야함\n",
    "# -> 필요한 feature를 이런식으로 확인해서 뽑아내야겠지\n",
    "\n",
    "# 이번의 경우, 'Hour와 Score는 선형관계에 있다'고 확인\n",
    "# -> 선형의 데이터 분포\n",
    "\n",
    "# 독립변수 : hour\n",
    "# 종속변수 : score\n",
    "\n",
    "# 시간(Hour)에 따라 점수(Score)를 예측하는 모델을 만들어 보자\n",
    "# -> 지도학습() & 선형관계(확인했으니까) & 회귀모델(수치로 할테니)"
   ]
  },
  {
   "cell_type": "code",
   "execution_count": 6,
   "id": "33aeab6b",
   "metadata": {},
   "outputs": [],
   "source": [
    "# 사이킷 런에서 fit()쓸 때에는\n",
    "# - x축에 들어가는게 2차원 형태가 들어가야 함\n",
    "# - y축은 1차원이어도 무관"
   ]
  },
  {
   "cell_type": "code",
   "execution_count": 7,
   "id": "45113aef",
   "metadata": {},
   "outputs": [
    {
     "name": "stdout",
     "output_type": "stream",
     "text": [
      "shape :  (6, 2)\n"
     ]
    }
   ],
   "source": [
    "# 데이터를 준비할 때, 학습에 사용하기 위한 형태로 미리 만들어 둠\n",
    "# 학습에 사용되는 형태로 데이터 변환\n",
    "\n",
    "import pandas as pd\n",
    "\n",
    "# df = pd.DataFrame([X,y])\n",
    "df = pd.DataFrame({'Hour':X, 'Score':y})\n",
    "print('shape : ', df.shape)\n",
    "\n",
    "# X와 y가 같이 들어가야 DF가 만들어지니까\n",
    "# 둘다 같은 결과겠지 당연?\n",
    "# 현재 리스트안에 리스트가 들어간 것임"
   ]
  },
  {
   "cell_type": "code",
   "execution_count": 8,
   "id": "de4f3c23",
   "metadata": {},
   "outputs": [
    {
     "name": "stdout",
     "output_type": "stream",
     "text": [
      "arrX :  (6,) \n",
      "arry :  (6,)\n"
     ]
    }
   ],
   "source": [
    "import numpy as np\n",
    "\n",
    "arrX = np.array(X)\n",
    "arry = np.array(y)\n",
    "\n",
    "print('arrX : ', arrX.shape, \"\\n\"'arry : ', arry.shape)"
   ]
  },
  {
   "cell_type": "code",
   "execution_count": 9,
   "id": "fe4bbbd3",
   "metadata": {},
   "outputs": [
    {
     "name": "stdout",
     "output_type": "stream",
     "text": [
      "arrX :  (6, 1) \n",
      "arry :  (6,) 1\n"
     ]
    }
   ],
   "source": [
    "# 1차원 -> 2차원\n",
    "arrX = arrX.reshape(-1,1)\n",
    "print('arrX : ', arrX.shape, \"\\n\"'arry : ', arry.shape, arry.ndim)"
   ]
  },
  {
   "cell_type": "markdown",
   "id": "06974a71",
   "metadata": {},
   "source": [
    "### [3] 학습 방법 선택 및 모델 생성"
   ]
  },
  {
   "cell_type": "markdown",
   "id": "a5b3cefe",
   "metadata": {},
   "source": [
    "- 데이터 + 라벨 -> 지도학습\n",
    "- 선형 데이터 분포 -> 선형 모델 적용\n",
    "- 시간에 따른 점수 예측 -> 회귀"
   ]
  },
  {
   "cell_type": "markdown",
   "id": "9718e926",
   "metadata": {},
   "source": [
    "#### [3-1] 모델 객체 생성"
   ]
  },
  {
   "cell_type": "code",
   "execution_count": 11,
   "id": "94d7284e",
   "metadata": {},
   "outputs": [],
   "source": [
    "model = LinearRegression()"
   ]
  },
  {
   "cell_type": "code",
   "execution_count": 12,
   "id": "335ff724",
   "metadata": {},
   "outputs": [],
   "source": [
    "# 사이킷런 홈페이지\n",
    "# - 지도 : 분류/회귀\n",
    "# - 비지도 : 클러스터링(군집)\n",
    "    \n",
    "# 대부분 파라미터 자체는 건드릴 일이 없을 것임\n",
    "# [ 모델 파라미터 ] : 학습한 후의 파라미터\n",
    "# => 학습이 끝나고 찾아야 할 것은 모델 파라미터!!\n",
    "# => _가 붙어 있는 것은 학습이 끝나고 난 후에 정해진 값\n",
    "\n",
    "# coef_ : 기울기\n",
    "# intercept_ : 절편"
   ]
  },
  {
   "cell_type": "markdown",
   "id": "79d678bf",
   "metadata": {},
   "source": [
    "#### [3-2] 훈련(학습)"
   ]
  },
  {
   "cell_type": "code",
   "execution_count": 13,
   "id": "a2ab56db",
   "metadata": {},
   "outputs": [
    {
     "data": {
      "text/plain": [
       "LinearRegression()"
      ]
     },
     "execution_count": 13,
     "metadata": {},
     "output_type": "execute_result"
    }
   ],
   "source": [
    "# train 데이터로 해야함 (현재는 data가 별로 없기 때문에 다 넣음)\n",
    "model.fit(arrX, arry)"
   ]
  },
  {
   "cell_type": "code",
   "execution_count": 14,
   "id": "3df1ce6e",
   "metadata": {},
   "outputs": [
    {
     "name": "stdout",
     "output_type": "stream",
     "text": [
      "[5.] 30.0\n"
     ]
    }
   ],
   "source": [
    "# 모델 파라미터 출력 => w 가중치, b 절편\n",
    "print(model.coef_, model.intercept_)\n",
    "\n",
    "# 이번 경우는, \n",
    "# 변수 1개라서 coef_가 1개나올 것이고\n",
    "# 다중이라면 변수 개수만큼 coef_가 나올 것임"
   ]
  },
  {
   "cell_type": "code",
   "execution_count": 15,
   "id": "50158053",
   "metadata": {},
   "outputs": [],
   "source": [
    "# 회귀직선을 그어서 산점도와 얼마나 일치를 하는지 확인"
   ]
  },
  {
   "cell_type": "markdown",
   "id": "324ad91e",
   "metadata": {},
   "source": [
    "### [4] 모델 평가"
   ]
  },
  {
   "cell_type": "code",
   "execution_count": 16,
   "id": "a77495e3",
   "metadata": {},
   "outputs": [],
   "source": [
    "# score()\n",
    "# - 분류 : 정답과 예측값이 맞는 정도 (맞춘 정도) (like 정답과 내가 푼 것이 맞는지 확인)\n",
    "#   -> 정확도(accuracy)\n",
    "\n",
    "# - 회귀 : 정답과 예측답 사이의 차이 정도 (차이 오차(Error))\n",
    "#   -> 손실함수(Loss/Cost Fuction) : MSE(제곱), MAE(절대값), RMSE => 오차니까 낮을 수록 좋은 것이지\n",
    "#   -> R2 계수 : 범위(0 ~ 1), 높을 수록 좋음\n",
    "\n",
    "# cf)\n",
    "# 사이킷런 site\n",
    "# API -> sklearn.metrics : Metrics => 우측 regression에서 보면 mean_squared_error 등 확인해서 뽑아서 쓰면 됨"
   ]
  },
  {
   "cell_type": "markdown",
   "id": "cfdcc51c",
   "metadata": {},
   "source": [
    "#### 평가( score() )"
   ]
  },
  {
   "cell_type": "code",
   "execution_count": 17,
   "id": "779bb5a6",
   "metadata": {},
   "outputs": [
    {
     "name": "stdout",
     "output_type": "stream",
     "text": [
      "정확도(accuracy) :  1.0\n"
     ]
    }
   ],
   "source": [
    "# 이번 경우는, 정확도와 R2계수 활용\n",
    "# - 테스트(검증) 데이터로 평가\n",
    "# - 사이킷런은 [ 객체명.score() ] 로 하면 되고\n",
    "\n",
    "# 회귀 => 결정계수 R^2 반환\n",
    "print('정확도(accuracy) : ', model.score(arrX, arry))"
   ]
  },
  {
   "cell_type": "markdown",
   "id": "9ff9c3f3",
   "metadata": {},
   "source": [
    "#### 오차확인 ( MAE, MSE )"
   ]
  },
  {
   "cell_type": "code",
   "execution_count": 19,
   "id": "06aff55b",
   "metadata": {},
   "outputs": [
    {
     "name": "stdout",
     "output_type": "stream",
     "text": [
      "[40. 50. 60. 70. 80. 90.] 58.0 3550.6666666666665\n"
     ]
    }
   ],
   "source": [
    "# 오차 확인\n",
    "from sklearn.metrics import mean_absolute_error, mean_squared_error\n",
    "\n",
    "# 예측값 추출 (for 오차확인)\n",
    "prey = model.predict(arrX)\n",
    "\n",
    "mae = mean_absolute_error(arrX, prey)    \n",
    "mse = mean_squared_error(arrX, prey)\n",
    "\n",
    "print(prey, mae, mse)"
   ]
  },
  {
   "cell_type": "code",
   "execution_count": null,
   "id": "40649659",
   "metadata": {},
   "outputs": [],
   "source": []
  },
  {
   "cell_type": "code",
   "execution_count": null,
   "id": "4fb758ea",
   "metadata": {},
   "outputs": [],
   "source": []
  },
  {
   "cell_type": "code",
   "execution_count": null,
   "id": "bed62931",
   "metadata": {},
   "outputs": [],
   "source": []
  }
 ],
 "metadata": {
  "kernelspec": {
   "display_name": "Python 3 (ipykernel)",
   "language": "python",
   "name": "python3"
  },
  "language_info": {
   "codemirror_mode": {
    "name": "ipython",
    "version": 3
   },
   "file_extension": ".py",
   "mimetype": "text/x-python",
   "name": "python",
   "nbconvert_exporter": "python",
   "pygments_lexer": "ipython3",
   "version": "3.9.12"
  }
 },
 "nbformat": 4,
 "nbformat_minor": 5
}
