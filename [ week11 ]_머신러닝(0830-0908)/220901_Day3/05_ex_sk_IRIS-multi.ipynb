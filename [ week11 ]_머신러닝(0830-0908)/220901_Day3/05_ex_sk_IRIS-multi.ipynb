{
 "cells": [
  {
   "cell_type": "markdown",
   "id": "2badf327",
   "metadata": {},
   "source": [
    "## IRIS Dataset 활용 분류"
   ]
  },
  {
   "cell_type": "code",
   "execution_count": 1,
   "id": "8fc1e580",
   "metadata": {},
   "outputs": [],
   "source": [
    "# 모듈 로딩\n",
    "from sklearn.linear_model import LogisticRegression\n",
    "from sklearn.datasets import load_iris\n",
    "import matplotlib.pyplot as plt\n",
    "import numpy as np"
   ]
  },
  {
   "cell_type": "markdown",
   "id": "d32628e3",
   "metadata": {},
   "source": [
    "### [1] 데이터 로딩 및 확인"
   ]
  },
  {
   "cell_type": "code",
   "execution_count": null,
   "id": "22c4d697",
   "metadata": {},
   "outputs": [],
   "source": [
    "# iris = load_iris()\n",
    "# type(iris)"
   ]
  },
  {
   "cell_type": "code",
   "execution_count": null,
   "id": "1eaf4904",
   "metadata": {},
   "outputs": [],
   "source": [
    "# iris = load_iris(as_frame=True, return_X_y=True)\n",
    "# type(iris), type(iris[0]), type(iris[1])"
   ]
  },
  {
   "cell_type": "code",
   "execution_count": 2,
   "id": "a5660576",
   "metadata": {},
   "outputs": [
    {
     "data": {
      "text/plain": [
       "(pandas.core.frame.DataFrame, pandas.core.series.Series)"
      ]
     },
     "execution_count": 2,
     "metadata": {},
     "output_type": "execute_result"
    }
   ],
   "source": [
    "data, target = load_iris(as_frame=True, return_X_y=True)\n",
    "type(data), type(target)"
   ]
  },
  {
   "cell_type": "code",
   "execution_count": 4,
   "id": "5b1d0337",
   "metadata": {},
   "outputs": [
    {
     "name": "stdout",
     "output_type": "stream",
     "text": [
      "<class 'pandas.core.frame.DataFrame'>\n",
      "RangeIndex: 150 entries, 0 to 149\n",
      "Data columns (total 4 columns):\n",
      " #   Column             Non-Null Count  Dtype  \n",
      "---  ------             --------------  -----  \n",
      " 0   sepal length (cm)  150 non-null    float64\n",
      " 1   sepal width (cm)   150 non-null    float64\n",
      " 2   petal length (cm)  150 non-null    float64\n",
      " 3   petal width (cm)   150 non-null    float64\n",
      "dtypes: float64(4)\n",
      "memory usage: 4.8 KB\n",
      "None\n",
      "\n",
      "   sepal length (cm)  sepal width (cm)  petal length (cm)  petal width (cm)\n",
      "0                5.1               3.5                1.4               0.2\n",
      "1                4.9               3.0                1.4               0.2\n",
      "2                4.7               3.2                1.3               0.2\n",
      "3                4.6               3.1                1.5               0.2\n",
      "4                5.0               3.6                1.4               0.2\n"
     ]
    }
   ],
   "source": [
    "print(data.info(), data.head(5), sep='\\n\\n')"
   ]
  },
  {
   "cell_type": "code",
   "execution_count": 5,
   "id": "f9e0c1bf",
   "metadata": {},
   "outputs": [
    {
     "name": "stdout",
     "output_type": "stream",
     "text": [
      "0    0\n",
      "1    0\n",
      "2    0\n",
      "Name: target, dtype: int32\n",
      "\n",
      "[0 1 2]\n",
      "\n",
      "0    50\n",
      "1    50\n",
      "2    50\n",
      "Name: target, dtype: int64\n"
     ]
    }
   ],
   "source": [
    "print(target.head(3), target.unique(), target.value_counts(), sep='\\n\\n')"
   ]
  },
  {
   "cell_type": "markdown",
   "id": "9afab07b",
   "metadata": {},
   "source": [
    "### [2] 학습 데이터 준비"
   ]
  },
  {
   "cell_type": "code",
   "execution_count": 6,
   "id": "b3623941",
   "metadata": {},
   "outputs": [
    {
     "name": "stdout",
     "output_type": "stream",
     "text": [
      "data =>  (150, 2)\n"
     ]
    }
   ],
   "source": [
    "# 데이터 => petal_length, petal_width\n",
    "# 타  겟 => 0, 2\n",
    "# 현재 있는 data에서 2개만 뽑아\n",
    "# train과 target을 따로 안주고, 차원으로 된 상태에서 됨\n",
    "\n",
    "data=data.loc[:, data.columns[2:]]\n",
    "print('data => ', data.shape)"
   ]
  },
  {
   "cell_type": "code",
   "execution_count": 7,
   "id": "cd961baa",
   "metadata": {
    "collapsed": true
   },
   "outputs": [
    {
     "data": {
      "text/html": [
       "<div>\n",
       "<style scoped>\n",
       "    .dataframe tbody tr th:only-of-type {\n",
       "        vertical-align: middle;\n",
       "    }\n",
       "\n",
       "    .dataframe tbody tr th {\n",
       "        vertical-align: top;\n",
       "    }\n",
       "\n",
       "    .dataframe thead th {\n",
       "        text-align: right;\n",
       "    }\n",
       "</style>\n",
       "<table border=\"1\" class=\"dataframe\">\n",
       "  <thead>\n",
       "    <tr style=\"text-align: right;\">\n",
       "      <th></th>\n",
       "      <th>petal length (cm)</th>\n",
       "      <th>petal width (cm)</th>\n",
       "    </tr>\n",
       "  </thead>\n",
       "  <tbody>\n",
       "    <tr>\n",
       "      <th>0</th>\n",
       "      <td>1.4</td>\n",
       "      <td>0.2</td>\n",
       "    </tr>\n",
       "    <tr>\n",
       "      <th>1</th>\n",
       "      <td>1.4</td>\n",
       "      <td>0.2</td>\n",
       "    </tr>\n",
       "    <tr>\n",
       "      <th>2</th>\n",
       "      <td>1.3</td>\n",
       "      <td>0.2</td>\n",
       "    </tr>\n",
       "    <tr>\n",
       "      <th>3</th>\n",
       "      <td>1.5</td>\n",
       "      <td>0.2</td>\n",
       "    </tr>\n",
       "    <tr>\n",
       "      <th>4</th>\n",
       "      <td>1.4</td>\n",
       "      <td>0.2</td>\n",
       "    </tr>\n",
       "    <tr>\n",
       "      <th>...</th>\n",
       "      <td>...</td>\n",
       "      <td>...</td>\n",
       "    </tr>\n",
       "    <tr>\n",
       "      <th>145</th>\n",
       "      <td>5.2</td>\n",
       "      <td>2.3</td>\n",
       "    </tr>\n",
       "    <tr>\n",
       "      <th>146</th>\n",
       "      <td>5.0</td>\n",
       "      <td>1.9</td>\n",
       "    </tr>\n",
       "    <tr>\n",
       "      <th>147</th>\n",
       "      <td>5.2</td>\n",
       "      <td>2.0</td>\n",
       "    </tr>\n",
       "    <tr>\n",
       "      <th>148</th>\n",
       "      <td>5.4</td>\n",
       "      <td>2.3</td>\n",
       "    </tr>\n",
       "    <tr>\n",
       "      <th>149</th>\n",
       "      <td>5.1</td>\n",
       "      <td>1.8</td>\n",
       "    </tr>\n",
       "  </tbody>\n",
       "</table>\n",
       "<p>150 rows × 2 columns</p>\n",
       "</div>"
      ],
      "text/plain": [
       "     petal length (cm)  petal width (cm)\n",
       "0                  1.4               0.2\n",
       "1                  1.4               0.2\n",
       "2                  1.3               0.2\n",
       "3                  1.5               0.2\n",
       "4                  1.4               0.2\n",
       "..                 ...               ...\n",
       "145                5.2               2.3\n",
       "146                5.0               1.9\n",
       "147                5.2               2.0\n",
       "148                5.4               2.3\n",
       "149                5.1               1.8\n",
       "\n",
       "[150 rows x 2 columns]"
      ]
     },
     "execution_count": 7,
     "metadata": {},
     "output_type": "execute_result"
    }
   ],
   "source": [
    "data"
   ]
  },
  {
   "cell_type": "code",
   "execution_count": 8,
   "id": "45824545",
   "metadata": {},
   "outputs": [],
   "source": [
    "# 학습용, 테스트용 데이터 분리\n",
    "# 기본이 셔플로 섞어서 줌\n",
    "# train:test=75%:25%\n",
    "# test_size = 0.X\n",
    "# stratify => 분류 항목 비율 맞추어서 데이터셋 설정\n",
    "# -> 각 항목별 분류하는 것의 비율도 맞춰줌\n",
    "# random_state => 매번 동일하게 데이터 구성하는 경우 지정\n",
    "\n",
    "from sklearn.model_selection import train_test_split\n",
    "train_input, test_input, train_target, test_target = train_test_split(data, \n",
    "                                                    target,\n",
    "                                                    test_size=0.2,\n",
    "                                                    random_state=42,\n",
    "                                                    stratify=target)\n"
   ]
  },
  {
   "cell_type": "code",
   "execution_count": 9,
   "id": "35c69072",
   "metadata": {},
   "outputs": [
    {
     "name": "stdout",
     "output_type": "stream",
     "text": [
      "(120, 2) (30,)\n",
      "0    40\n",
      "2    40\n",
      "1    40\n",
      "Name: target, dtype: int64 0    10\n",
      "2    10\n",
      "1    10\n",
      "Name: target, dtype: int64\n"
     ]
    }
   ],
   "source": [
    "print(train_input.shape, test_target.shape)\n",
    "print(train_target.value_counts(), test_target.value_counts())"
   ]
  },
  {
   "cell_type": "markdown",
   "id": "84eb240f",
   "metadata": {},
   "source": [
    "### [3] 훈련"
   ]
  },
  {
   "cell_type": "code",
   "execution_count": 10,
   "id": "8433989a",
   "metadata": {},
   "outputs": [
    {
     "data": {
      "text/plain": [
       "LogisticRegression()"
      ]
     },
     "execution_count": 10,
     "metadata": {},
     "output_type": "execute_result"
    }
   ],
   "source": [
    "logis = LogisticRegression()\n",
    "logis.fit(train_input, train_target)"
   ]
  },
  {
   "cell_type": "code",
   "execution_count": 14,
   "id": "78445b8b",
   "metadata": {},
   "outputs": [
    {
     "name": "stdout",
     "output_type": "stream",
     "text": [
      "분류 종류 :  [0 1 2]\n",
      "가중치 값 :  [[-2.57480323 -1.08787617]\n",
      " [ 0.11136326 -0.84266177]\n",
      " [ 2.46343997  1.93053794]]\n",
      "절편 값 :  [ 10.41582694   2.8335323  -13.24935924]\n",
      "특성 갯수 :  2\n"
     ]
    }
   ],
   "source": [
    "# 학습 후, 설정된 속성(Attributes)\n",
    "print(\"분류 종류 : \", logis.classes_)\n",
    "print(\"가중치 값 : \", logis.coef_)\n",
    "print(\"절편 값 : \", logis.intercept_)\n",
    "print(\"특성 갯수 : \", logis.n_features_in_)"
   ]
  },
  {
   "cell_type": "markdown",
   "id": "c8a89083",
   "metadata": {},
   "source": [
    "### [4] 평가"
   ]
  },
  {
   "cell_type": "code",
   "execution_count": 11,
   "id": "81530cc1",
   "metadata": {},
   "outputs": [
    {
     "name": "stdout",
     "output_type": "stream",
     "text": [
      "train :  0.9666666666666667\n",
      "test  :  0.9666666666666667\n"
     ]
    }
   ],
   "source": [
    "print('train : ', logis.score(train_input, train_target))\n",
    "print('test  : ', logis.score(test_input, test_target))"
   ]
  },
  {
   "cell_type": "markdown",
   "id": "3ec953f6",
   "metadata": {},
   "source": [
    "### [5] 예측"
   ]
  },
  {
   "cell_type": "code",
   "execution_count": 12,
   "id": "9b588b10",
   "metadata": {},
   "outputs": [
    {
     "name": "stderr",
     "output_type": "stream",
     "text": [
      "C:\\ProgramData\\Anaconda3\\lib\\site-packages\\sklearn\\base.py:450: UserWarning: X does not have valid feature names, but LogisticRegression was fitted with feature names\n",
      "  warnings.warn(\n"
     ]
    },
    {
     "data": {
      "text/plain": [
       "array([2])"
      ]
     },
     "execution_count": 12,
     "metadata": {},
     "output_type": "execute_result"
    }
   ],
   "source": [
    "logis.predict([[5.8, 2.7]])"
   ]
  }
 ],
 "metadata": {
  "kernelspec": {
   "display_name": "Python 3 (ipykernel)",
   "language": "python",
   "name": "python3"
  },
  "language_info": {
   "codemirror_mode": {
    "name": "ipython",
    "version": 3
   },
   "file_extension": ".py",
   "mimetype": "text/x-python",
   "name": "python",
   "nbconvert_exporter": "python",
   "pygments_lexer": "ipython3",
   "version": "3.9.12"
  }
 },
 "nbformat": 4,
 "nbformat_minor": 5
}
