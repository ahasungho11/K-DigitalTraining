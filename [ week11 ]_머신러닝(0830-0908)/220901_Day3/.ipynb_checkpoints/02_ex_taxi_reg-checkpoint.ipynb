{
 "cells": [
  {
   "cell_type": "markdown",
   "id": "a09e856c",
   "metadata": {},
   "source": [
    "## 뉴욕시의 Taxi 데이터를 활용한 예측 모델\n",
    "- 데이터셋 : 캐글의 NYT_taxi.csv\n",
    "- 조건 : 뉴욕시 내\n",
    "- '거리'에 따른 '요금' '예측' => 회귀\n",
    "- 승차에 따른 하차지역 예측   => 분류"
   ]
  },
  {
   "cell_type": "markdown",
   "id": "c51b8c99",
   "metadata": {},
   "source": [
    "### <span style = 'color : red'>  [ 각 컬럼에서 가지는 특징들, 컬럼 간의 관계, 불필요한 것은 제거 ] </span>"
   ]
  },
  {
   "cell_type": "markdown",
   "id": "2cf5fae3",
   "metadata": {},
   "source": [
    "위도와 경도 -> [범주형] 승하차 지역, 시간대/요일\n",
    "           -> [수치형] 승객수\n",
    "요금       -> [수치형] 거리마다의 요금 예측"
   ]
  },
  {
   "cell_type": "markdown",
   "id": "b65bb202",
   "metadata": {},
   "source": [
    "### [1] 데이터 로딩"
   ]
  },
  {
   "cell_type": "code",
   "execution_count": 1,
   "id": "abc3b123",
   "metadata": {},
   "outputs": [],
   "source": [
    "import pandas as pd\n",
    "import numpy as np\n",
    "import matplotlib.pyplot as plt"
   ]
  },
  {
   "cell_type": "code",
   "execution_count": 2,
   "id": "38f89d12",
   "metadata": {},
   "outputs": [],
   "source": [
    "FILE='./NYC_taxi_data/train.csv'"
   ]
  },
  {
   "cell_type": "code",
   "execution_count": 3,
   "id": "baae7536",
   "metadata": {},
   "outputs": [],
   "source": [
    "# 데이터 로딩\n",
    "# nrows=로딩 데이터 수\n",
    "df=pd.read_csv(FILE, nrows=5000, parse_dates=['pickup_datetime'])"
   ]
  },
  {
   "cell_type": "code",
   "execution_count": 4,
   "id": "2ecc5213",
   "metadata": {},
   "outputs": [
    {
     "data": {
      "text/html": [
       "<div>\n",
       "<style scoped>\n",
       "    .dataframe tbody tr th:only-of-type {\n",
       "        vertical-align: middle;\n",
       "    }\n",
       "\n",
       "    .dataframe tbody tr th {\n",
       "        vertical-align: top;\n",
       "    }\n",
       "\n",
       "    .dataframe thead th {\n",
       "        text-align: right;\n",
       "    }\n",
       "</style>\n",
       "<table border=\"1\" class=\"dataframe\">\n",
       "  <thead>\n",
       "    <tr style=\"text-align: right;\">\n",
       "      <th></th>\n",
       "      <th>key</th>\n",
       "      <th>fare_amount</th>\n",
       "      <th>pickup_datetime</th>\n",
       "      <th>pickup_longitude</th>\n",
       "      <th>pickup_latitude</th>\n",
       "      <th>dropoff_longitude</th>\n",
       "      <th>dropoff_latitude</th>\n",
       "      <th>passenger_count</th>\n",
       "    </tr>\n",
       "  </thead>\n",
       "  <tbody>\n",
       "    <tr>\n",
       "      <th>0</th>\n",
       "      <td>2009-06-15 17:26:21.0000001</td>\n",
       "      <td>4.5</td>\n",
       "      <td>2009-06-15 17:26:21+00:00</td>\n",
       "      <td>-73.844311</td>\n",
       "      <td>40.721319</td>\n",
       "      <td>-73.841610</td>\n",
       "      <td>40.712278</td>\n",
       "      <td>1</td>\n",
       "    </tr>\n",
       "    <tr>\n",
       "      <th>1</th>\n",
       "      <td>2010-01-05 16:52:16.0000002</td>\n",
       "      <td>16.9</td>\n",
       "      <td>2010-01-05 16:52:16+00:00</td>\n",
       "      <td>-74.016048</td>\n",
       "      <td>40.711303</td>\n",
       "      <td>-73.979268</td>\n",
       "      <td>40.782004</td>\n",
       "      <td>1</td>\n",
       "    </tr>\n",
       "    <tr>\n",
       "      <th>2</th>\n",
       "      <td>2011-08-18 00:35:00.00000049</td>\n",
       "      <td>5.7</td>\n",
       "      <td>2011-08-18 00:35:00+00:00</td>\n",
       "      <td>-73.982738</td>\n",
       "      <td>40.761270</td>\n",
       "      <td>-73.991242</td>\n",
       "      <td>40.750562</td>\n",
       "      <td>2</td>\n",
       "    </tr>\n",
       "    <tr>\n",
       "      <th>3</th>\n",
       "      <td>2012-04-21 04:30:42.0000001</td>\n",
       "      <td>7.7</td>\n",
       "      <td>2012-04-21 04:30:42+00:00</td>\n",
       "      <td>-73.987130</td>\n",
       "      <td>40.733143</td>\n",
       "      <td>-73.991567</td>\n",
       "      <td>40.758092</td>\n",
       "      <td>1</td>\n",
       "    </tr>\n",
       "    <tr>\n",
       "      <th>4</th>\n",
       "      <td>2010-03-09 07:51:00.000000135</td>\n",
       "      <td>5.3</td>\n",
       "      <td>2010-03-09 07:51:00+00:00</td>\n",
       "      <td>-73.968095</td>\n",
       "      <td>40.768008</td>\n",
       "      <td>-73.956655</td>\n",
       "      <td>40.783762</td>\n",
       "      <td>1</td>\n",
       "    </tr>\n",
       "  </tbody>\n",
       "</table>\n",
       "</div>"
      ],
      "text/plain": [
       "                             key  fare_amount           pickup_datetime  \\\n",
       "0    2009-06-15 17:26:21.0000001          4.5 2009-06-15 17:26:21+00:00   \n",
       "1    2010-01-05 16:52:16.0000002         16.9 2010-01-05 16:52:16+00:00   \n",
       "2   2011-08-18 00:35:00.00000049          5.7 2011-08-18 00:35:00+00:00   \n",
       "3    2012-04-21 04:30:42.0000001          7.7 2012-04-21 04:30:42+00:00   \n",
       "4  2010-03-09 07:51:00.000000135          5.3 2010-03-09 07:51:00+00:00   \n",
       "\n",
       "   pickup_longitude  pickup_latitude  dropoff_longitude  dropoff_latitude  \\\n",
       "0        -73.844311        40.721319         -73.841610         40.712278   \n",
       "1        -74.016048        40.711303         -73.979268         40.782004   \n",
       "2        -73.982738        40.761270         -73.991242         40.750562   \n",
       "3        -73.987130        40.733143         -73.991567         40.758092   \n",
       "4        -73.968095        40.768008         -73.956655         40.783762   \n",
       "\n",
       "   passenger_count  \n",
       "0                1  \n",
       "1                1  \n",
       "2                2  \n",
       "3                1  \n",
       "4                1  "
      ]
     },
     "execution_count": 4,
     "metadata": {},
     "output_type": "execute_result"
    }
   ],
   "source": [
    "df.head()"
   ]
  },
  {
   "cell_type": "code",
   "execution_count": 5,
   "id": "1ca409ba",
   "metadata": {},
   "outputs": [
    {
     "name": "stdout",
     "output_type": "stream",
     "text": [
      "<class 'pandas.core.frame.DataFrame'>\n",
      "RangeIndex: 5000 entries, 0 to 4999\n",
      "Data columns (total 8 columns):\n",
      " #   Column             Non-Null Count  Dtype              \n",
      "---  ------             --------------  -----              \n",
      " 0   key                5000 non-null   object             \n",
      " 1   fare_amount        5000 non-null   float64            \n",
      " 2   pickup_datetime    5000 non-null   datetime64[ns, UTC]\n",
      " 3   pickup_longitude   5000 non-null   float64            \n",
      " 4   pickup_latitude    5000 non-null   float64            \n",
      " 5   dropoff_longitude  5000 non-null   float64            \n",
      " 6   dropoff_latitude   5000 non-null   float64            \n",
      " 7   passenger_count    5000 non-null   int64              \n",
      "dtypes: datetime64[ns, UTC](1), float64(5), int64(1), object(1)\n",
      "memory usage: 312.6+ KB\n"
     ]
    }
   ],
   "source": [
    "df.info()\n",
    "# key값은 PrimaryKey로 쓰려고 들어간 것이고\n",
    "# pickup_datetime => 컬럼과 같은 내용이므로 날리면 됨\n",
    "# pickup_datetime => 문자열로 되어있으니, 읽어올 때 바로 바꿔줄 수도 있음\n",
    "# =-> df=pd.read_csv(FILE, nrows=5000, parse_dates=['pickup_datetime'])에서 parse_dates부분\n",
    "\n",
    "# 이런식으로 csv파일 열어보는 것은\n",
    "# - 데이터 타입등을 확인하고 처리하기 위해서"
   ]
  },
  {
   "cell_type": "markdown",
   "id": "c31ca716",
   "metadata": {},
   "source": [
    "### '거리'에 따른 '요금', '예측' => 회귀"
   ]
  },
  {
   "cell_type": "code",
   "execution_count": 6,
   "id": "e8c07b0a",
   "metadata": {},
   "outputs": [
    {
     "data": {
      "text/plain": [
       "Index(['key', 'fare_amount', 'pickup_datetime', 'pickup_longitude',\n",
       "       'pickup_latitude', 'dropoff_longitude', 'dropoff_latitude',\n",
       "       'passenger_count'],\n",
       "      dtype='object')"
      ]
     },
     "execution_count": 6,
     "metadata": {},
     "output_type": "execute_result"
    }
   ],
   "source": [
    "df.columns"
   ]
  },
  {
   "cell_type": "code",
   "execution_count": 7,
   "id": "3195625e",
   "metadata": {},
   "outputs": [],
   "source": [
    "# 특성을 잘 뽑아내야 차원이 줄고 / 연산이 줄고 속도도 / 빨라지고\n",
    "\n",
    "# 특성공학()\n",
    "# - 결과에 중요한 영향을 미치는 피처 선택\n",
    "# - 비슷한 피처 제거\n",
    "# - 존재하지 않는 피처는 조합 하여 피처 생성\n",
    "\n",
    "# 거리에 따른 요금을 알고 싶음\n",
    "# => 특성(features)을 추가해야지 (기존 컬럼 활용해도 되지)"
   ]
  },
  {
   "cell_type": "code",
   "execution_count": 8,
   "id": "b55717d0",
   "metadata": {},
   "outputs": [],
   "source": [
    "# 수치가 0이거나 결측치이거나 이상치이거나"
   ]
  },
  {
   "cell_type": "code",
   "execution_count": null,
   "id": "00b56675",
   "metadata": {},
   "outputs": [],
   "source": []
  },
  {
   "cell_type": "markdown",
   "id": "40027281",
   "metadata": {},
   "source": [
    "### [2] 결측치 및 이상치 체크"
   ]
  },
  {
   "cell_type": "code",
   "execution_count": 9,
   "id": "1e974284",
   "metadata": {},
   "outputs": [
    {
     "data": {
      "text/plain": [
       "key                  0\n",
       "fare_amount          0\n",
       "pickup_datetime      0\n",
       "pickup_longitude     0\n",
       "pickup_latitude      0\n",
       "dropoff_longitude    0\n",
       "dropoff_latitude     0\n",
       "passenger_count      0\n",
       "dtype: int64"
      ]
     },
     "execution_count": 9,
     "metadata": {},
     "output_type": "execute_result"
    }
   ],
   "source": [
    "df.isnull().sum()"
   ]
  },
  {
   "cell_type": "code",
   "execution_count": 10,
   "id": "db4c47fa",
   "metadata": {},
   "outputs": [
    {
     "data": {
      "text/html": [
       "<div>\n",
       "<style scoped>\n",
       "    .dataframe tbody tr th:only-of-type {\n",
       "        vertical-align: middle;\n",
       "    }\n",
       "\n",
       "    .dataframe tbody tr th {\n",
       "        vertical-align: top;\n",
       "    }\n",
       "\n",
       "    .dataframe thead th {\n",
       "        text-align: right;\n",
       "    }\n",
       "</style>\n",
       "<table border=\"1\" class=\"dataframe\">\n",
       "  <thead>\n",
       "    <tr style=\"text-align: right;\">\n",
       "      <th></th>\n",
       "      <th>fare_amount</th>\n",
       "      <th>pickup_longitude</th>\n",
       "      <th>pickup_latitude</th>\n",
       "      <th>dropoff_longitude</th>\n",
       "      <th>dropoff_latitude</th>\n",
       "      <th>passenger_count</th>\n",
       "    </tr>\n",
       "  </thead>\n",
       "  <tbody>\n",
       "    <tr>\n",
       "      <th>count</th>\n",
       "      <td>5000.000000</td>\n",
       "      <td>5000.000000</td>\n",
       "      <td>5000.000000</td>\n",
       "      <td>5000.000000</td>\n",
       "      <td>5000.000000</td>\n",
       "      <td>5000.000000</td>\n",
       "    </tr>\n",
       "    <tr>\n",
       "      <th>mean</th>\n",
       "      <td>11.296238</td>\n",
       "      <td>-72.426826</td>\n",
       "      <td>39.867237</td>\n",
       "      <td>-72.426130</td>\n",
       "      <td>39.875767</td>\n",
       "      <td>1.631000</td>\n",
       "    </tr>\n",
       "    <tr>\n",
       "      <th>std</th>\n",
       "      <td>9.710106</td>\n",
       "      <td>10.722381</td>\n",
       "      <td>6.351342</td>\n",
       "      <td>10.722293</td>\n",
       "      <td>6.326084</td>\n",
       "      <td>1.257122</td>\n",
       "    </tr>\n",
       "    <tr>\n",
       "      <th>min</th>\n",
       "      <td>-2.900000</td>\n",
       "      <td>-74.438233</td>\n",
       "      <td>-73.991840</td>\n",
       "      <td>-74.429332</td>\n",
       "      <td>-73.979010</td>\n",
       "      <td>0.000000</td>\n",
       "    </tr>\n",
       "    <tr>\n",
       "      <th>25%</th>\n",
       "      <td>6.000000</td>\n",
       "      <td>-73.992449</td>\n",
       "      <td>40.734045</td>\n",
       "      <td>-73.991349</td>\n",
       "      <td>40.734379</td>\n",
       "      <td>1.000000</td>\n",
       "    </tr>\n",
       "    <tr>\n",
       "      <th>50%</th>\n",
       "      <td>8.500000</td>\n",
       "      <td>-73.982069</td>\n",
       "      <td>40.752128</td>\n",
       "      <td>-73.980196</td>\n",
       "      <td>40.753512</td>\n",
       "      <td>1.000000</td>\n",
       "    </tr>\n",
       "    <tr>\n",
       "      <th>75%</th>\n",
       "      <td>12.500000</td>\n",
       "      <td>-73.967040</td>\n",
       "      <td>40.766890</td>\n",
       "      <td>-73.963589</td>\n",
       "      <td>40.767636</td>\n",
       "      <td>2.000000</td>\n",
       "    </tr>\n",
       "    <tr>\n",
       "      <th>max</th>\n",
       "      <td>180.000000</td>\n",
       "      <td>40.751582</td>\n",
       "      <td>41.366138</td>\n",
       "      <td>40.758867</td>\n",
       "      <td>41.032598</td>\n",
       "      <td>6.000000</td>\n",
       "    </tr>\n",
       "  </tbody>\n",
       "</table>\n",
       "</div>"
      ],
      "text/plain": [
       "       fare_amount  pickup_longitude  pickup_latitude  dropoff_longitude  \\\n",
       "count  5000.000000       5000.000000      5000.000000        5000.000000   \n",
       "mean     11.296238        -72.426826        39.867237         -72.426130   \n",
       "std       9.710106         10.722381         6.351342          10.722293   \n",
       "min      -2.900000        -74.438233       -73.991840         -74.429332   \n",
       "25%       6.000000        -73.992449        40.734045         -73.991349   \n",
       "50%       8.500000        -73.982069        40.752128         -73.980196   \n",
       "75%      12.500000        -73.967040        40.766890         -73.963589   \n",
       "max     180.000000         40.751582        41.366138          40.758867   \n",
       "\n",
       "       dropoff_latitude  passenger_count  \n",
       "count       5000.000000      5000.000000  \n",
       "mean          39.875767         1.631000  \n",
       "std            6.326084         1.257122  \n",
       "min          -73.979010         0.000000  \n",
       "25%           40.734379         1.000000  \n",
       "50%           40.753512         1.000000  \n",
       "75%           40.767636         2.000000  \n",
       "max           41.032598         6.000000  "
      ]
     },
     "execution_count": 10,
     "metadata": {},
     "output_type": "execute_result"
    }
   ],
   "source": [
    "# 데이터들의 분포\n",
    "df.describe()\n",
    "\n",
    "# i) 요금에 min에 -값이 있네!?\n",
    "# ii) 승하차 지점은 있는데 승객은 없네!?\n",
    "# iii) 위도, 경도 데이터에 0은 없네"
   ]
  },
  {
   "cell_type": "markdown",
   "id": "28f0889b",
   "metadata": {},
   "source": [
    "#### 특성 새롭게 생성 => 거리 Feature\n",
    "- 공식 : (x2-x1)^2 + (y2-y1)^2 계산 결과의 제곱근"
   ]
  },
  {
   "cell_type": "code",
   "execution_count": 16,
   "id": "d561934a",
   "metadata": {
    "collapsed": true
   },
   "outputs": [
    {
     "data": {
      "text/plain": [
       "0       40.721319\n",
       "1       40.711303\n",
       "2       40.761270\n",
       "3       40.733143\n",
       "4       40.768008\n",
       "          ...    \n",
       "4995    40.745157\n",
       "4996    40.766989\n",
       "4997    40.734343\n",
       "4998    40.776642\n",
       "4999    40.743722\n",
       "Name: pickup_latitude, Length: 5000, dtype: float64"
      ]
     },
     "execution_count": 16,
     "metadata": {},
     "output_type": "execute_result"
    }
   ],
   "source": [
    "# 값 뽑기\n",
    "df.pickup_latitude\n",
    "# df['pickup_latitude']"
   ]
  },
  {
   "cell_type": "code",
   "execution_count": 12,
   "id": "d647d384",
   "metadata": {},
   "outputs": [],
   "source": [
    "df['distance'] = ((df.pickup_latitude - df.dropoff_latitude)**2 + (df.pickup_longitude - df.dropoff_longitude)**2)**0.5\n",
    "\n",
    "# df['distance'] = distance\n",
    "# sqlt((pickup_latitude - dropoff_latitude)^2 + (pickup_longitude - dropoff_longitude)^2)\n"
   ]
  },
  {
   "cell_type": "code",
   "execution_count": 13,
   "id": "82a2e6d0",
   "metadata": {},
   "outputs": [
    {
     "data": {
      "text/plain": [
       "Index(['key', 'fare_amount', 'pickup_datetime', 'pickup_longitude',\n",
       "       'pickup_latitude', 'dropoff_longitude', 'dropoff_latitude',\n",
       "       'passenger_count', 'distance'],\n",
       "      dtype='object')"
      ]
     },
     "execution_count": 13,
     "metadata": {},
     "output_type": "execute_result"
    }
   ],
   "source": [
    "df.columns"
   ]
  },
  {
   "cell_type": "code",
   "execution_count": 14,
   "id": "4064c961",
   "metadata": {},
   "outputs": [],
   "source": [
    "# 머신러닝 & 딥러닝 -> 유사도多\n",
    "# - 숫자값 간의 거리를 보고 유사한 정도를 표현\n",
    "# - 거리 계산 : 유클리드(多, 디폴트값)/맨하튼/코사인/해밍/자카드 거리법 등\n",
    "\n",
    "# 데이터의 위도와 경도값을 알아도 사이의 거리값을 구해야 함\n",
    "# 구글맵의 뉴욕시 눌러가면서\n",
    "# 범위 벗어 나는 것 제거"
   ]
  }
 ],
 "metadata": {
  "kernelspec": {
   "display_name": "Python 3 (ipykernel)",
   "language": "python",
   "name": "python3"
  },
  "language_info": {
   "codemirror_mode": {
    "name": "ipython",
    "version": 3
   },
   "file_extension": ".py",
   "mimetype": "text/x-python",
   "name": "python",
   "nbconvert_exporter": "python",
   "pygments_lexer": "ipython3",
   "version": "3.9.12"
  }
 },
 "nbformat": 4,
 "nbformat_minor": 5
}
