{
 "cells": [
  {
   "cell_type": "code",
   "execution_count": null,
   "id": "1bbdf923",
   "metadata": {},
   "outputs": [],
   "source": [
    "# 교재에서는 사이킷런 사이트에 있는 dataset을 써서 실습을 해야 함\n",
    "# Scikit-learn Dataset 사용\n",
    "\n",
    "# 종류\n",
    "# - i) load_dataset() : scikit-learn 저장소에서 로딩\n",
    "# - ii) fetch_xxx : dataset 저장소에서 가져오기\n",
    "\n",
    "# 반환값\n",
    "# Bunch 타입 (dict과 유사)"
   ]
  },
  {
   "cell_type": "code",
   "execution_count": 2,
   "id": "d4581db7",
   "metadata": {},
   "outputs": [],
   "source": [
    "# 모듈 로딩\n",
    "from sklearn.datasets import load_diabetes\n",
    "\n",
    "# 당뇨병 유무 => 8개 피처 + 1개 라벨\n",
    "# 걸린다/안걸린다 => 이진분류\n",
    "\n",
    "data = load_diabetes()"
   ]
  },
  {
   "cell_type": "code",
   "execution_count": 3,
   "id": "afdda4e1",
   "metadata": {
    "collapsed": true
   },
   "outputs": [
    {
     "data": {
      "text/plain": [
       "sklearn.utils.Bunch"
      ]
     },
     "execution_count": 3,
     "metadata": {},
     "output_type": "execute_result"
    }
   ],
   "source": [
    "# dict처럼 Bunch로 나옴\n",
    "# key:value\n",
    "type(data)"
   ]
  },
  {
   "cell_type": "code",
   "execution_count": 6,
   "id": "87183975",
   "metadata": {
    "collapsed": true
   },
   "outputs": [
    {
     "data": {
      "text/plain": [
       "'.. _diabetes_dataset:\\n\\nDiabetes dataset\\n----------------\\n\\nTen baseline variables, age, sex, body mass index, average blood\\npressure, and six blood serum measurements were obtained for each of n =\\n442 diabetes patients, as well as the response of interest, a\\nquantitative measure of disease progression one year after baseline.\\n\\n**Data Set Characteristics:**\\n\\n  :Number of Instances: 442\\n\\n  :Number of Attributes: First 10 columns are numeric predictive values\\n\\n  :Target: Column 11 is a quantitative measure of disease progression one year after baseline\\n\\n  :Attribute Information:\\n      - age     age in years\\n      - sex\\n      - bmi     body mass index\\n      - bp      average blood pressure\\n      - s1      tc, total serum cholesterol\\n      - s2      ldl, low-density lipoproteins\\n      - s3      hdl, high-density lipoproteins\\n      - s4      tch, total cholesterol / HDL\\n      - s5      ltg, possibly log of serum triglycerides level\\n      - s6      glu, blood sugar level\\n\\nNote: Each of these 10 feature variables have been mean centered and scaled by the standard deviation times `n_samples` (i.e. the sum of squares of each column totals 1).\\n\\nSource URL:\\nhttps://www4.stat.ncsu.edu/~boos/var.select/diabetes.html\\n\\nFor more information see:\\nBradley Efron, Trevor Hastie, Iain Johnstone and Robert Tibshirani (2004) \"Least Angle Regression,\" Annals of Statistics (with discussion), 407-499.\\n(https://web.stanford.edu/~hastie/Papers/LARS/LeastAngle_2002.pdf)'"
      ]
     },
     "execution_count": 6,
     "metadata": {},
     "output_type": "execute_result"
    }
   ],
   "source": [
    "# dict에서 key로 value 접근\n",
    "data['DESCR']"
   ]
  },
  {
   "cell_type": "code",
   "execution_count": null,
   "id": "ee234ab9",
   "metadata": {},
   "outputs": [],
   "source": [
    "# 데이터와 라벨이 필요\n",
    "# - 당뇨병 유무를 결정짓는 주요 특징을 찾아서\n",
    "# .keys()로 변수에 담아서\n"
   ]
  },
  {
   "cell_type": "code",
   "execution_count": null,
   "id": "e51f7c3d",
   "metadata": {},
   "outputs": [],
   "source": [
    "# 선형 vs 비선형(다항회귀, 로지스틱 회귀)\n",
    "# - 기본이 가중치(기울기), 바이어스(절편)를 갖고 있어서 찾아야 함\n",
    "# - 피처의 개수에 따라 가중치 개수도 정해질테고\n",
    "# \n"
   ]
  },
  {
   "cell_type": "code",
   "execution_count": null,
   "id": "f88ef591",
   "metadata": {},
   "outputs": [],
   "source": [
    "# <회귀일 때>\n",
    "\n",
    "#  분류 만들면 - 오차계산 - 함수는 알아야겠징\n",
    "# cost/lost function\n",
    "\n",
    "# 오차를 최적화 시켜야지, 좋은 가중치와 절편을 구하겠지\n",
    "\n",
    "# 절편을 올리든 내리든 오차가 커지게 되겠지 (적정 지점이 아니라면)\n",
    "# 에러가 없는게 아니라 아래로 내려왔을 때 최저점을 찾는 (경사하방법)\n",
    "# - 경사하방법이 많은데 (기울기와 오차, 절편과 오차)\n",
    "\n",
    "# 간격을 너무 크게 주면 넘어갈 수도\n",
    "# 간격을 너무 작게 주면 훈련이 덜됐는데 끝날 수도\n",
    " - 해당 간격을 하이퍼 파라미터로 정해줘야\n",
    "    \n"
   ]
  },
  {
   "cell_type": "code",
   "execution_count": null,
   "id": "020d6c5a",
   "metadata": {},
   "outputs": [],
   "source": [
    "< 로지스틱 회귀 >\n",
    "p. 87\n",
    "# 입출력 데이터 수집 & 준비\n",
    "# 타겟값이 범주형 데이터 => 선형으로 안되니까 => 방법을 바꿔야\n",
    "# 이진 분류, 다중 분류\n",
    "# y = aX+b"
   ]
  },
  {
   "cell_type": "code",
   "execution_count": null,
   "id": "abc3a3bd",
   "metadata": {},
   "outputs": [],
   "source": []
  },
  {
   "cell_type": "code",
   "execution_count": null,
   "id": "68588a13",
   "metadata": {},
   "outputs": [],
   "source": [
    "# 분류가 될만한 컬럼을 잡아서 바꿔야 함\n",
    "# mean이나 max를 낼 수 있는 것들로\n",
    "# 형변환이 되어야 하고\n",
    "# 연속형 -> 범주형\n"
   ]
  },
  {
   "cell_type": "code",
   "execution_count": null,
   "id": "189bdb18",
   "metadata": {},
   "outputs": [],
   "source": []
  },
  {
   "cell_type": "markdown",
   "id": "42b17620",
   "metadata": {},
   "source": [
    "### 오후1)"
   ]
  },
  {
   "cell_type": "code",
   "execution_count": null,
   "id": "3959279a",
   "metadata": {},
   "outputs": [],
   "source": [
    "# 선형회귀\n",
    "# 오차 구할 때 => MAE, MSE, RMSE\n",
    "# 결정계수 => R^2\n",
    "# 모델에 따라 모델의 성능을 검사하는 것은 다르니 알아야\n",
    "=================================\n",
    "# 비선형 계수는 위의 것 불가\n",
    "# #67\n",
    "\n",
    "# 양끝단에 모여있어서 손실함수 그래프를 그리고 알아볼 수 없음\n",
    "# -> #70 계속 가면 X축에 평행하는 평행선이 되어 버림\n",
    "\n",
    "#  CF)\n",
    "# 각 모델마다 손실모형 등 다르니 구분은 할 수 있어야 함\n",
    "# 논문 등에서 곧바로 이해하려면 외워야하긴 함\n",
    "# 손실함수 -> 로그함수"
   ]
  }
 ],
 "metadata": {
  "kernelspec": {
   "display_name": "Python 3 (ipykernel)",
   "language": "python",
   "name": "python3"
  },
  "language_info": {
   "codemirror_mode": {
    "name": "ipython",
    "version": 3
   },
   "file_extension": ".py",
   "mimetype": "text/x-python",
   "name": "python",
   "nbconvert_exporter": "python",
   "pygments_lexer": "ipython3",
   "version": "3.9.12"
  }
 },
 "nbformat": 4,
 "nbformat_minor": 5
}
