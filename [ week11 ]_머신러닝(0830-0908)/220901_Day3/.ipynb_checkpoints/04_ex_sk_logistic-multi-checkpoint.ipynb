{
 "cells": [
  {
   "cell_type": "markdown",
   "id": "6991ecac",
   "metadata": {},
   "source": [
    "### 오후 2)"
   ]
  },
  {
   "cell_type": "markdown",
   "id": "2b243261",
   "metadata": {},
   "source": [
    "## 로지스틱회귀(LogisticRegression)\n",
    "- 인공신경망의 기본 개념과 동일\n",
    "- Regression이지만 다중'분류'로 사용\n",
    "- 선형모델 기반으로 y=Wx+b 그대로 사용\n",
    "- y=Wx+b의 결과를 분류로 변환하기 위해 함수를 사용 => softmax()"
   ]
  },
  {
   "cell_type": "markdown",
   "id": "cab766fd",
   "metadata": {},
   "source": [
    "### 성적 - 합격/불합격 분류 실습"
   ]
  },
  {
   "cell_type": "code",
   "execution_count": 21,
   "id": "e04998a1",
   "metadata": {},
   "outputs": [],
   "source": [
    "# 사용 모듈 로딩\n",
    "from sklearn.linear_model import LogisticRegression\n",
    "import matplotlib.pyplot as plt\n",
    "import numpy as np\n",
    "import pandas as pd"
   ]
  },
  {
   "cell_type": "markdown",
   "id": "87869fe0",
   "metadata": {},
   "source": [
    "### [1] 데이터 준비"
   ]
  },
  {
   "cell_type": "code",
   "execution_count": 22,
   "id": "03732ea1",
   "metadata": {},
   "outputs": [],
   "source": [
    "X = [89, 95, 100, 78, 85, 70, 55, 67]        # 점수\n",
    "y = ['B', 'A', 'A', 'B', 'B', 'C', 'C', 'C'] # 등급 (A, B, C)"
   ]
  },
  {
   "cell_type": "code",
   "execution_count": 23,
   "id": "fe232d47",
   "metadata": {},
   "outputs": [],
   "source": [
    "# 데이터가 많지 않으니 학습에 사용할 수 있도록 형변환까지 해버리자\n",
    "arrX = np.array(X).reshape(-1,1)\n",
    "arrY = np.array(y)"
   ]
  },
  {
   "cell_type": "code",
   "execution_count": 24,
   "id": "ebbb6e8c",
   "metadata": {},
   "outputs": [
    {
     "name": "stdout",
     "output_type": "stream",
     "text": [
      "arrX :  (8, 1) \n",
      "arrY :  (8,)\n"
     ]
    }
   ],
   "source": [
    "# 데이터 체크\n",
    "print('arrX : ', arrX.shape, \"\\n\"'arrY : ', arrY.shape)"
   ]
  },
  {
   "cell_type": "markdown",
   "id": "7c799188",
   "metadata": {},
   "source": [
    "### [2] 데이터 확인"
   ]
  },
  {
   "cell_type": "code",
   "execution_count": 25,
   "id": "081ff497",
   "metadata": {},
   "outputs": [],
   "source": [
    "# #78 넘파이에서 시그모이드 함수를 처리해주는 것, scipy로도"
   ]
  },
  {
   "cell_type": "code",
   "execution_count": 26,
   "id": "068fbd2d",
   "metadata": {},
   "outputs": [
    {
     "data": {
      "image/png": "[encoded data removed]",
      "text/plain": [
       "<Figure size 432x288 with 1 Axes>"
      ]
     },
     "metadata": {
      "needs_background": "light"
     },
     "output_type": "display_data"
    }
   ],
   "source": [
    "# 현재 데이터 시각화\n",
    "plt.scatter(X,y)\n",
    "plt.xlabel('Score')\n",
    "plt.ylabel('Result')\n",
    "plt.show()"
   ]
  },
  {
   "cell_type": "markdown",
   "id": "bad230f0",
   "metadata": {},
   "source": [
    "### [3] 모델 생성 & 학습"
   ]
  },
  {
   "cell_type": "code",
   "execution_count": 27,
   "id": "116dfcf8",
   "metadata": {},
   "outputs": [],
   "source": [
    "# #82-83 (API에 있는 해당 클래스의 파라미터)\n",
    "# 머신러닝이나 딥러닝에서 과대적합 해결하는게 가장 문제가 될 것임\n",
    "# - 규제(=>penalty 파라미터)\n",
    "# - [ C =1.0 ]으로 잡혀있는 이 값(규제강도)을 조절하며 '튜닝'할 것임\n",
    "# - max_iter (계산 작업 수, 기본이 100, 경고 메시지가 뜨면 조절)\n",
    "# - predict(X) => 확률값에 대한 결과(라벨)를 반환\n",
    "# - predict_proba(X) => 100%는 아니더라도 학습한 것으로 해보고 나오는 확률값을 반환"
   ]
  },
  {
   "cell_type": "code",
   "execution_count": 28,
   "id": "dc83b856",
   "metadata": {},
   "outputs": [],
   "source": [
    "# 모델 생성\n",
    "model = LogisticRegression()"
   ]
  },
  {
   "cell_type": "code",
   "execution_count": 29,
   "id": "bb316606",
   "metadata": {},
   "outputs": [
    {
     "data": {
      "text/plain": [
       "LogisticRegression()"
      ]
     },
     "execution_count": 29,
     "metadata": {},
     "output_type": "execute_result"
    }
   ],
   "source": [
    "# 모델 학습\n",
    "model.fit(arrX, arrY)"
   ]
  },
  {
   "cell_type": "code",
   "execution_count": 30,
   "id": "ecd30ee3",
   "metadata": {},
   "outputs": [
    {
     "name": "stdout",
     "output_type": "stream",
     "text": [
      "분류 종류 :  ['A' 'B' 'C']\n",
      "가중치 값 :  [[ 0.69223254]\n",
      " [-0.02709865]\n",
      " [-0.66513389]]\n",
      "절편 값 :  [-59.89233063   6.30319355  53.58913709]\n",
      "특성 갯수 :  1\n"
     ]
    }
   ],
   "source": [
    "# 학습 후, 설정된 속성(Attributes)\n",
    "print(\"분류 종류 : \", model.classes_)\n",
    "print(\"가중치 값 : \", model.coef_)\n",
    "print(\"절편 값 : \", model.intercept_)\n",
    "print(\"특성 갯수 : \", model.n_features_in_)"
   ]
  },
  {
   "cell_type": "markdown",
   "id": "c74d4de2",
   "metadata": {},
   "source": [
    "### [4] 모델 평가"
   ]
  },
  {
   "cell_type": "code",
   "execution_count": 31,
   "id": "4e0d981c",
   "metadata": {},
   "outputs": [],
   "source": [
    "# 학습용/테스터용 데이터 점수 비교해서 -> 과소/과대적합 체크\n",
    "# => 학습의 횟수 / 규제 조절"
   ]
  },
  {
   "cell_type": "code",
   "execution_count": 32,
   "id": "ca825dd8",
   "metadata": {},
   "outputs": [
    {
     "data": {
      "text/plain": [
       "1.0"
      ]
     },
     "execution_count": 32,
     "metadata": {},
     "output_type": "execute_result"
    }
   ],
   "source": [
    "model.score(arrX, arrY)"
   ]
  },
  {
   "cell_type": "markdown",
   "id": "089cc9e7",
   "metadata": {},
   "source": [
    "### [5] 테스트"
   ]
  },
  {
   "cell_type": "code",
   "execution_count": 33,
   "id": "499177be",
   "metadata": {},
   "outputs": [],
   "source": [
    "# predict() : 새로운 데이터로 진행"
   ]
  },
  {
   "cell_type": "code",
   "execution_count": 34,
   "id": "5d5ccd49",
   "metadata": {},
   "outputs": [
    {
     "data": {
      "text/plain": [
       "array(['B', 'A', 'A', 'B', 'B', 'C', 'C', 'C'], dtype='<U1')"
      ]
     },
     "execution_count": 34,
     "metadata": {},
     "output_type": "execute_result"
    }
   ],
   "source": [
    "preY = model.predict(arrX)\n",
    "preY"
   ]
  },
  {
   "cell_type": "code",
   "execution_count": 35,
   "id": "00f0662a",
   "metadata": {},
   "outputs": [
    {
     "data": {
      "text/plain": [
       "array(['B'], dtype='<U1')"
      ]
     },
     "execution_count": 35,
     "metadata": {},
     "output_type": "execute_result"
    }
   ],
   "source": [
    "# 1개 데이터\n",
    "preY = model.predict([arrX[0]])\n",
    "preY"
   ]
  },
  {
   "cell_type": "code",
   "execution_count": 40,
   "id": "40f2d8f5",
   "metadata": {},
   "outputs": [
    {
     "name": "stdout",
     "output_type": "stream",
     "text": [
      "예측결과 :  ['B']\n",
      "분류 종류 :  ['A' 'B' 'C']\n",
      "예측확률 :  [[2.62374692e-02 9.73501267e-01 2.61264222e-04]]\n"
     ]
    }
   ],
   "source": [
    "preY = model.predict([[87]])\n",
    "print('예측결과 : ', preY)\n",
    "\n",
    "probaY = model.predict_proba([[87]])\n",
    "print(\"분류 종류 : \", model.classes_)\n",
    "print('예측확률 : ', probaY)"
   ]
  },
  {
   "cell_type": "code",
   "execution_count": 41,
   "id": "870cbf42",
   "metadata": {},
   "outputs": [
    {
     "data": {
      "text/plain": [
       "array([[ 0.33190041,  3.94561102, -4.27751114]])"
      ]
     },
     "execution_count": 41,
     "metadata": {},
     "output_type": "execute_result"
    }
   ],
   "source": [
    "# 결정함수 (아래 계산을 해서 띄워줌, 아직 시그모이드나 소프트맥스 안 거친것)\n",
    "ret = model.decision_function([[87]])\n",
    "ret\n",
    "# print(np.round(ret,3))"
   ]
  },
  {
   "cell_type": "code",
   "execution_count": 42,
   "id": "23fc27d6",
   "metadata": {},
   "outputs": [
    {
     "data": {
      "text/plain": [
       "array([[   0.33190041,   66.52742459,  113.81336813],\n",
       "       [ -62.24991316,    3.94561102,   51.23155456],\n",
       "       [-117.75897886,  -51.56345468,   -4.27751114]])"
      ]
     },
     "execution_count": 42,
     "metadata": {},
     "output_type": "execute_result"
    }
   ],
   "source": [
    "# y=ax+b라고 한다면 : 모델 파라미터\n",
    "# - y로 나온 것을 소프트맥스 씌워서 나온 것 (위와 같음)\n",
    "result = (model.coef_*87)+model.intercept_\n",
    "result\n",
    "# print('result : ', np.round(result,3))"
   ]
  },
  {
   "cell_type": "code",
   "execution_count": 39,
   "id": "0969682c",
   "metadata": {},
   "outputs": [
    {
     "name": "stdout",
     "output_type": "stream",
     "text": [
      "[[2.624e-02 9.735e-01 2.600e-04]]\n"
     ]
    }
   ],
   "source": [
    "# 시그모이드 함수 expit(ax+b) / 소프트맥스 함수 softmax(ax+b) 후 결과 확인\n",
    "# 결정함수의 proba와 같은 값이 나올 것임\n",
    "from scipy.special import softmax, expit\n",
    "sigValue2 = softmax(ret)\n",
    "print(np.round(sigValue2, 5))"
   ]
  }
 ],
 "metadata": {
  "kernelspec": {
   "display_name": "Python 3 (ipykernel)",
   "language": "python",
   "name": "python3"
  },
  "language_info": {
   "codemirror_mode": {
    "name": "ipython",
    "version": 3
   },
   "file_extension": ".py",
   "mimetype": "text/x-python",
   "name": "python",
   "nbconvert_exporter": "python",
   "pygments_lexer": "ipython3",
   "version": "3.9.12"
  }
 },
 "nbformat": 4,
 "nbformat_minor": 5
}
