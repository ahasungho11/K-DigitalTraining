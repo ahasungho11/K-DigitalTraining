{
 "cells": [
  {
   "cell_type": "markdown",
   "id": "51ac940c",
   "metadata": {},
   "source": [
    "## NYC_taxi Dataset 활용한 회귀"
   ]
  },
  {
   "cell_type": "markdown",
   "id": "9584e909",
   "metadata": {},
   "source": [
    "- Dataset : NYC_taxi.csv\n",
    "- 거리에 따른 택시요금 예측\n",
    "- 조건) 뉴욕시 내에서 승차/하차의 경우만 "
   ]
  },
  {
   "cell_type": "markdown",
   "id": "920b1c6c",
   "metadata": {},
   "source": [
    "### [0] 모듈 로딩"
   ]
  },
  {
   "cell_type": "code",
   "execution_count": 1,
   "id": "cdfdfe8e",
   "metadata": {},
   "outputs": [],
   "source": [
    "import numpy as np\n",
    "import pandas as pd\n",
    "import matplotlib.pyplot as plt\n",
    "\n",
    "from sklearn.linear_model import LinearRegression\n",
    "from sklearn.model_selection import train_test_split"
   ]
  },
  {
   "cell_type": "markdown",
   "id": "2f5b45ad",
   "metadata": {},
   "source": [
    "### [1] 데이터 로딩"
   ]
  },
  {
   "cell_type": "code",
   "execution_count": 2,
   "id": "d411ce0a",
   "metadata": {},
   "outputs": [],
   "source": [
    "# 데이터 로딩\n",
    "FILE='./NYC_taxi_data/train.csv'\n",
    "df=pd.read_csv(FILE, nrows=500000, parse_dates=['pickup_datetime'])"
   ]
  },
  {
   "cell_type": "code",
   "execution_count": 3,
   "id": "ac65feca",
   "metadata": {},
   "outputs": [
    {
     "name": "stdout",
     "output_type": "stream",
     "text": [
      "<class 'pandas.core.frame.DataFrame'>\n",
      "RangeIndex: 500000 entries, 0 to 499999\n",
      "Data columns (total 8 columns):\n",
      " #   Column             Non-Null Count   Dtype              \n",
      "---  ------             --------------   -----              \n",
      " 0   key                500000 non-null  object             \n",
      " 1   fare_amount        500000 non-null  float64            \n",
      " 2   pickup_datetime    500000 non-null  datetime64[ns, UTC]\n",
      " 3   pickup_longitude   500000 non-null  float64            \n",
      " 4   pickup_latitude    500000 non-null  float64            \n",
      " 5   dropoff_longitude  499995 non-null  float64            \n",
      " 6   dropoff_latitude   499995 non-null  float64            \n",
      " 7   passenger_count    500000 non-null  int64              \n",
      "dtypes: datetime64[ns, UTC](1), float64(5), int64(1), object(1)\n",
      "memory usage: 30.5+ MB\n"
     ]
    }
   ],
   "source": [
    "# 데이터 확인\n",
    "df.info()"
   ]
  },
  {
   "cell_type": "code",
   "execution_count": 4,
   "id": "3450b64c",
   "metadata": {},
   "outputs": [
    {
     "data": {
      "text/html": [
       "<div>\n",
       "<style scoped>\n",
       "    .dataframe tbody tr th:only-of-type {\n",
       "        vertical-align: middle;\n",
       "    }\n",
       "\n",
       "    .dataframe tbody tr th {\n",
       "        vertical-align: top;\n",
       "    }\n",
       "\n",
       "    .dataframe thead th {\n",
       "        text-align: right;\n",
       "    }\n",
       "</style>\n",
       "<table border=\"1\" class=\"dataframe\">\n",
       "  <thead>\n",
       "    <tr style=\"text-align: right;\">\n",
       "      <th></th>\n",
       "      <th>key</th>\n",
       "      <th>fare_amount</th>\n",
       "      <th>pickup_datetime</th>\n",
       "      <th>pickup_longitude</th>\n",
       "      <th>pickup_latitude</th>\n",
       "      <th>dropoff_longitude</th>\n",
       "      <th>dropoff_latitude</th>\n",
       "      <th>passenger_count</th>\n",
       "    </tr>\n",
       "  </thead>\n",
       "  <tbody>\n",
       "    <tr>\n",
       "      <th>0</th>\n",
       "      <td>2009-06-15 17:26:21.0000001</td>\n",
       "      <td>4.5</td>\n",
       "      <td>2009-06-15 17:26:21+00:00</td>\n",
       "      <td>-73.844311</td>\n",
       "      <td>40.721319</td>\n",
       "      <td>-73.841610</td>\n",
       "      <td>40.712278</td>\n",
       "      <td>1</td>\n",
       "    </tr>\n",
       "    <tr>\n",
       "      <th>1</th>\n",
       "      <td>2010-01-05 16:52:16.0000002</td>\n",
       "      <td>16.9</td>\n",
       "      <td>2010-01-05 16:52:16+00:00</td>\n",
       "      <td>-74.016048</td>\n",
       "      <td>40.711303</td>\n",
       "      <td>-73.979268</td>\n",
       "      <td>40.782004</td>\n",
       "      <td>1</td>\n",
       "    </tr>\n",
       "    <tr>\n",
       "      <th>2</th>\n",
       "      <td>2011-08-18 00:35:00.00000049</td>\n",
       "      <td>5.7</td>\n",
       "      <td>2011-08-18 00:35:00+00:00</td>\n",
       "      <td>-73.982738</td>\n",
       "      <td>40.761270</td>\n",
       "      <td>-73.991242</td>\n",
       "      <td>40.750562</td>\n",
       "      <td>2</td>\n",
       "    </tr>\n",
       "    <tr>\n",
       "      <th>3</th>\n",
       "      <td>2012-04-21 04:30:42.0000001</td>\n",
       "      <td>7.7</td>\n",
       "      <td>2012-04-21 04:30:42+00:00</td>\n",
       "      <td>-73.987130</td>\n",
       "      <td>40.733143</td>\n",
       "      <td>-73.991567</td>\n",
       "      <td>40.758092</td>\n",
       "      <td>1</td>\n",
       "    </tr>\n",
       "    <tr>\n",
       "      <th>4</th>\n",
       "      <td>2010-03-09 07:51:00.000000135</td>\n",
       "      <td>5.3</td>\n",
       "      <td>2010-03-09 07:51:00+00:00</td>\n",
       "      <td>-73.968095</td>\n",
       "      <td>40.768008</td>\n",
       "      <td>-73.956655</td>\n",
       "      <td>40.783762</td>\n",
       "      <td>1</td>\n",
       "    </tr>\n",
       "  </tbody>\n",
       "</table>\n",
       "</div>"
      ],
      "text/plain": [
       "                             key  fare_amount           pickup_datetime  \\\n",
       "0    2009-06-15 17:26:21.0000001          4.5 2009-06-15 17:26:21+00:00   \n",
       "1    2010-01-05 16:52:16.0000002         16.9 2010-01-05 16:52:16+00:00   \n",
       "2   2011-08-18 00:35:00.00000049          5.7 2011-08-18 00:35:00+00:00   \n",
       "3    2012-04-21 04:30:42.0000001          7.7 2012-04-21 04:30:42+00:00   \n",
       "4  2010-03-09 07:51:00.000000135          5.3 2010-03-09 07:51:00+00:00   \n",
       "\n",
       "   pickup_longitude  pickup_latitude  dropoff_longitude  dropoff_latitude  \\\n",
       "0        -73.844311        40.721319         -73.841610         40.712278   \n",
       "1        -74.016048        40.711303         -73.979268         40.782004   \n",
       "2        -73.982738        40.761270         -73.991242         40.750562   \n",
       "3        -73.987130        40.733143         -73.991567         40.758092   \n",
       "4        -73.968095        40.768008         -73.956655         40.783762   \n",
       "\n",
       "   passenger_count  \n",
       "0                1  \n",
       "1                1  \n",
       "2                2  \n",
       "3                1  \n",
       "4                1  "
      ]
     },
     "execution_count": 4,
     "metadata": {},
     "output_type": "execute_result"
    }
   ],
   "source": [
    "df.head()"
   ]
  },
  {
   "cell_type": "code",
   "execution_count": 5,
   "id": "baac4da0",
   "metadata": {},
   "outputs": [
    {
     "data": {
      "text/html": [
       "<div>\n",
       "<style scoped>\n",
       "    .dataframe tbody tr th:only-of-type {\n",
       "        vertical-align: middle;\n",
       "    }\n",
       "\n",
       "    .dataframe tbody tr th {\n",
       "        vertical-align: top;\n",
       "    }\n",
       "\n",
       "    .dataframe thead th {\n",
       "        text-align: right;\n",
       "    }\n",
       "</style>\n",
       "<table border=\"1\" class=\"dataframe\">\n",
       "  <thead>\n",
       "    <tr style=\"text-align: right;\">\n",
       "      <th></th>\n",
       "      <th>fare_amount</th>\n",
       "      <th>pickup_longitude</th>\n",
       "      <th>pickup_latitude</th>\n",
       "      <th>dropoff_longitude</th>\n",
       "      <th>dropoff_latitude</th>\n",
       "      <th>passenger_count</th>\n",
       "    </tr>\n",
       "  </thead>\n",
       "  <tbody>\n",
       "    <tr>\n",
       "      <th>count</th>\n",
       "      <td>500000.000000</td>\n",
       "      <td>500000.000000</td>\n",
       "      <td>500000.000000</td>\n",
       "      <td>499995.000000</td>\n",
       "      <td>499995.000000</td>\n",
       "      <td>500000.000000</td>\n",
       "    </tr>\n",
       "    <tr>\n",
       "      <th>mean</th>\n",
       "      <td>11.358361</td>\n",
       "      <td>-72.519958</td>\n",
       "      <td>39.920276</td>\n",
       "      <td>-72.522435</td>\n",
       "      <td>39.916526</td>\n",
       "      <td>1.683428</td>\n",
       "    </tr>\n",
       "    <tr>\n",
       "      <th>std</th>\n",
       "      <td>9.916617</td>\n",
       "      <td>11.856831</td>\n",
       "      <td>8.073475</td>\n",
       "      <td>11.797362</td>\n",
       "      <td>7.391002</td>\n",
       "      <td>1.307395</td>\n",
       "    </tr>\n",
       "    <tr>\n",
       "      <th>min</th>\n",
       "      <td>-44.900000</td>\n",
       "      <td>-2986.242495</td>\n",
       "      <td>-3116.285383</td>\n",
       "      <td>-3383.296608</td>\n",
       "      <td>-2559.748913</td>\n",
       "      <td>0.000000</td>\n",
       "    </tr>\n",
       "    <tr>\n",
       "      <th>25%</th>\n",
       "      <td>6.000000</td>\n",
       "      <td>-73.992047</td>\n",
       "      <td>40.734917</td>\n",
       "      <td>-73.991382</td>\n",
       "      <td>40.734057</td>\n",
       "      <td>1.000000</td>\n",
       "    </tr>\n",
       "    <tr>\n",
       "      <th>50%</th>\n",
       "      <td>8.500000</td>\n",
       "      <td>-73.981785</td>\n",
       "      <td>40.752670</td>\n",
       "      <td>-73.980126</td>\n",
       "      <td>40.753152</td>\n",
       "      <td>1.000000</td>\n",
       "    </tr>\n",
       "    <tr>\n",
       "      <th>75%</th>\n",
       "      <td>12.500000</td>\n",
       "      <td>-73.967117</td>\n",
       "      <td>40.767076</td>\n",
       "      <td>-73.963572</td>\n",
       "      <td>40.768135</td>\n",
       "      <td>2.000000</td>\n",
       "    </tr>\n",
       "    <tr>\n",
       "      <th>max</th>\n",
       "      <td>500.000000</td>\n",
       "      <td>2140.601160</td>\n",
       "      <td>1703.092772</td>\n",
       "      <td>40.851027</td>\n",
       "      <td>404.616667</td>\n",
       "      <td>6.000000</td>\n",
       "    </tr>\n",
       "  </tbody>\n",
       "</table>\n",
       "</div>"
      ],
      "text/plain": [
       "         fare_amount  pickup_longitude  pickup_latitude  dropoff_longitude  \\\n",
       "count  500000.000000     500000.000000    500000.000000      499995.000000   \n",
       "mean       11.358361        -72.519958        39.920276         -72.522435   \n",
       "std         9.916617         11.856831         8.073475          11.797362   \n",
       "min       -44.900000      -2986.242495     -3116.285383       -3383.296608   \n",
       "25%         6.000000        -73.992047        40.734917         -73.991382   \n",
       "50%         8.500000        -73.981785        40.752670         -73.980126   \n",
       "75%        12.500000        -73.967117        40.767076         -73.963572   \n",
       "max       500.000000       2140.601160      1703.092772          40.851027   \n",
       "\n",
       "       dropoff_latitude  passenger_count  \n",
       "count     499995.000000    500000.000000  \n",
       "mean          39.916526         1.683428  \n",
       "std            7.391002         1.307395  \n",
       "min        -2559.748913         0.000000  \n",
       "25%           40.734057         1.000000  \n",
       "50%           40.753152         1.000000  \n",
       "75%           40.768135         2.000000  \n",
       "max          404.616667         6.000000  "
      ]
     },
     "execution_count": 5,
     "metadata": {},
     "output_type": "execute_result"
    }
   ],
   "source": [
    "df.describe()"
   ]
  },
  {
   "cell_type": "code",
   "execution_count": 6,
   "id": "5d92a036",
   "metadata": {},
   "outputs": [
    {
     "data": {
      "text/plain": [
       "key                  0\n",
       "fare_amount          0\n",
       "pickup_datetime      0\n",
       "pickup_longitude     0\n",
       "pickup_latitude      0\n",
       "dropoff_longitude    5\n",
       "dropoff_latitude     5\n",
       "passenger_count      0\n",
       "dtype: int64"
      ]
     },
     "execution_count": 6,
     "metadata": {},
     "output_type": "execute_result"
    }
   ],
   "source": [
    "# 이상치 및 결측치 체크\n",
    "df.isnull().sum()"
   ]
  },
  {
   "cell_type": "code",
   "execution_count": 7,
   "id": "a7b3b814",
   "metadata": {},
   "outputs": [],
   "source": [
    "# (0) key값은 DB의 PrimaryKey로 쓰면서 들어간 것이고, \n",
    "#     pickup_datetime 컬럼과 같은 내용이므로 불필요한 컬럼으로 삭제할 것\n",
    "#     (+ pickup_datetime => 문자열로 되어있었으나, 읽어올 때 바로 바꿔줌)\n",
    "# (1) null값 5개씩 있는 컬럼 있음\n",
    "# (2) shape확인 (500000행 x 8열)\n",
    "# (3) 0-7(피처), 거리에 따른 요금(타겟)을 위해 'distance(거리) 피처' 추가\n",
    "# (4) 요금 min값에 -44.9로 음수값이 있음을 확인\n",
    "# (5) 승하차 경도와 위도는 있는데, 승객 카운팅이 안되는 행이 있는가 봄\n",
    "# (6) 경도와 위도가 0인 값은 없구만 => '뉴욕시 내(內)' 조건 충족시키기"
   ]
  },
  {
   "cell_type": "markdown",
   "id": "06968229",
   "metadata": {},
   "source": [
    "### [2] 데이터 준비"
   ]
  },
  {
   "cell_type": "code",
   "execution_count": 8,
   "id": "54fd5aa3",
   "metadata": {},
   "outputs": [],
   "source": [
    "# 원본 복사\n",
    "df2 = df.copy(deep=True)\n",
    "\n",
    "# key 컬럼 제거\n",
    "df2.drop(labels='key', axis=1, inplace=True)\n",
    "\n",
    "# 결측치 제거 (50만개 중 5개라서 안해줘도 될 것 같긴함)\n",
    "df2 = df2.dropna()\n",
    "\n",
    "# distance 피처 추가\n",
    "df2['distance'] = ((df2.pickup_latitude - df2.dropoff_latitude)**2 + (df2.pickup_longitude - df2.dropoff_longitude)**2)**0.5"
   ]
  },
  {
   "cell_type": "code",
   "execution_count": 9,
   "id": "8a433744",
   "metadata": {},
   "outputs": [],
   "source": [
    "# 요금 데이터 확인하고 전처리\n",
    "len(df2[df2.fare_amount>100])  # 214개로 0.05%도 안되므로 100이하만 남기면 될 듯\n",
    "len(df2[df2.fare_amount<0])    # 21개로 0보다 작은 음수 행도 지우면 될 듯\n",
    "\n",
    "df2 = df2[(df2.fare_amount >=0) & (df2.fare_amount <= 100)]\n",
    "\n",
    "# 승객 카운팅 안된 것 전처리\n",
    "len(df2[df2.passenger_count==0])  # 1791개로 0.3%정도. 전제 데이터가 50만개가 넘으니 삭제할거임\n",
    "df2.drop(df2[df2.passenger_count==0].index.values, inplace=True)"
   ]
  },
  {
   "cell_type": "code",
   "execution_count": 10,
   "id": "f05531ae",
   "metadata": {},
   "outputs": [
    {
     "data": {
      "text/plain": [
       "Index(['fare_amount', 'pickup_datetime', 'pickup_longitude', 'pickup_latitude',\n",
       "       'dropoff_longitude', 'dropoff_latitude', 'passenger_count', 'distance'],\n",
       "      dtype='object')"
      ]
     },
     "execution_count": 10,
     "metadata": {},
     "output_type": "execute_result"
    }
   ],
   "source": [
    "df2.columns"
   ]
  },
  {
   "cell_type": "code",
   "execution_count": 11,
   "id": "81bfa0c8",
   "metadata": {},
   "outputs": [],
   "source": [
    "# '뉴욕시 내(內)' 조건 충족시키기\n",
    "# (대략) 경도 -74.05  ~  -73.75 사이\n",
    "#        위도 40.63  ~   40.85 사이\n",
    "\n",
    "df2 = df2[(df2.pickup_longitude > -74.05) & (df2.pickup_longitude < -73.75)]\n",
    "df2 = df2[(df2.dropoff_longitude > -74.05) & (df2.dropoff_longitude < -73.75)]\n",
    "\n",
    "df2 = df2[(df2.pickup_latitude > 40.63) & (df2.pickup_latitude < 40.85)]\n",
    "df2 = df2[(df2.dropoff_latitude > 40.63) & (df2.dropoff_latitude < 40.85)]"
   ]
  },
  {
   "cell_type": "code",
   "execution_count": 12,
   "id": "8b5d6201",
   "metadata": {},
   "outputs": [
    {
     "data": {
      "image/png": "[encoded data removed]",
      "text/plain": [
       "<Figure size 432x288 with 1 Axes>"
      ]
     },
     "metadata": {
      "needs_background": "light"
     },
     "output_type": "display_data"
    }
   ],
   "source": [
    "# (일부 전처리 전 data포함) df1의 산점도 => 이상치 보임\n",
    "df.plot.scatter('pickup_longitude', 'pickup_latitude')\n",
    "plt.show()"
   ]
  },
  {
   "cell_type": "code",
   "execution_count": 13,
   "id": "1857237c",
   "metadata": {
    "scrolled": false
   },
   "outputs": [
    {
     "data": {
      "image/png": "[encoded data removed]",
      "text/plain": [
       "<Figure size 432x288 with 1 Axes>"
      ]
     },
     "metadata": {
      "needs_background": "light"
     },
     "output_type": "display_data"
    }
   ],
   "source": [
    "# 전처리한 후의 df2의 산점도 => 뉴욕시 내에만 데이터들이 들어옴\n",
    "df2.plot.scatter('pickup_longitude', 'pickup_latitude')\n",
    "plt.show()"
   ]
  },
  {
   "cell_type": "code",
   "execution_count": 14,
   "id": "6ca87e16",
   "metadata": {},
   "outputs": [],
   "source": [
    "# # 피처와 타겟 잡아주기\n",
    "# X = np.array(df2.distance).reshape(-1,1)\n",
    "# y = np.array(df2.fare_amount).reshape(-1,1)\n",
    "\n",
    "# train_input, test_input, train_target, test_target = train_test_split(X,\n",
    "#                                                                       y,\n",
    "#                                                                       random_state=42)\n",
    "\n",
    "# 시리즈로 해서 -> 다항회귀 때, 항 제곱해서 넣을 때 오류 발생 -> 미리 처리 해주고 진행할 것"
   ]
  },
  {
   "cell_type": "code",
   "execution_count": 15,
   "id": "23964073",
   "metadata": {},
   "outputs": [],
   "source": [
    "# 피처와 타겟 잡아주기\n",
    "# 주의!! 시리즈는 못 넣음\n",
    "train_input, test_input, train_target, test_target = train_test_split(np.array(df2.distance),\n",
    "                                                                      np.array(df2.fare_amount),\n",
    "                                                                      random_state=42)\n",
    "\n",
    "train_input = train_input.reshape(-1,1)\n",
    "test_input = test_input.reshape(-1,1)"
   ]
  },
  {
   "cell_type": "markdown",
   "id": "b2932785",
   "metadata": {},
   "source": [
    "### [3] 모델 생성"
   ]
  },
  {
   "cell_type": "code",
   "execution_count": 16,
   "id": "ca0794d5",
   "metadata": {},
   "outputs": [],
   "source": [
    "# 선형/다항/다중 회귀는 모두 선형회귀 모델 생성\n",
    "model = LinearRegression()"
   ]
  },
  {
   "cell_type": "markdown",
   "id": "6a343716",
   "metadata": {},
   "source": [
    "### [4] 모델 훈련"
   ]
  },
  {
   "cell_type": "code",
   "execution_count": 17,
   "id": "6171bf94",
   "metadata": {},
   "outputs": [
    {
     "name": "stdout",
     "output_type": "stream",
     "text": [
      "기  울  기:  [213.93987537]\n",
      "절      편:  3.991206947225707\n"
     ]
    }
   ],
   "source": [
    "model.fit(train_input, train_target)\n",
    "\n",
    "# 모델 파라미터\n",
    "# print('분류 종류: ', model.classes_) <- 선형회귀\n",
    "print('기  울  기: ', model.coef_)\n",
    "print('절      편: ', model.intercept_)\n",
    "# print('피처 갯수: ', model.n_features_in_) <- 굳이x"
   ]
  },
  {
   "cell_type": "code",
   "execution_count": 18,
   "id": "020fca0f",
   "metadata": {},
   "outputs": [
    {
     "data": {
      "image/png": "[encoded data removed]",
      "text/plain": [
       "<Figure size 432x288 with 1 Axes>"
      ]
     },
     "metadata": {
      "needs_background": "light"
     },
     "output_type": "display_data"
    }
   ],
   "source": [
    "# distance와 fare_amount의 관계 확인\n",
    "df2.plot.scatter('distance','fare_amount')\n",
    "plt.show()"
   ]
  },
  {
   "cell_type": "markdown",
   "id": "352bb477",
   "metadata": {},
   "source": [
    "### [5] 모델 평가"
   ]
  },
  {
   "cell_type": "code",
   "execution_count": 19,
   "id": "106c4c4c",
   "metadata": {},
   "outputs": [
    {
     "name": "stdout",
     "output_type": "stream",
     "text": [
      "훈련용 :  0.7803196614920731\n",
      "검증용 :  0.782817436943904\n",
      "\n",
      "=> 훈련점수 < 테스트점수 & 둘다 낮은 점수\n",
      "=> 과소적합 문제 => 제곱항을 넣어서 좀 더 복잡하게 다항식으로 만들어 보자(다항회귀)\n"
     ]
    }
   ],
   "source": [
    "print('훈련용 : ', model.score(train_input, train_target))\n",
    "print('검증용 : ', model.score(test_input, test_target))\n",
    "print('\\n=> 훈련점수 < 테스트점수 & 둘다 낮은 점수\\n=> 과소적합 문제 => 제곱항을 넣어서 좀 더 복잡하게 다항식으로 만들어 보자(다항회귀)')"
   ]
  },
  {
   "cell_type": "markdown",
   "id": "e6d3c49f",
   "metadata": {},
   "source": [
    "### [6] 모델 예측"
   ]
  },
  {
   "cell_type": "code",
   "execution_count": 20,
   "id": "69c435e7",
   "metadata": {},
   "outputs": [
    {
     "name": "stdout",
     "output_type": "stream",
     "text": [
      "예측값 :  [15.97183997]\n"
     ]
    }
   ],
   "source": [
    "print('예측값 : ', model.predict([[0.056]]))"
   ]
  },
  {
   "cell_type": "markdown",
   "id": "7f67f347",
   "metadata": {},
   "source": [
    "### [ 다항회귀 ]"
   ]
  },
  {
   "cell_type": "code",
   "execution_count": 21,
   "id": "15e3645a",
   "metadata": {},
   "outputs": [],
   "source": [
    "# 데이터 준비\n",
    "train_input_p = np.column_stack((train_input ** 2, train_input))\n",
    "test_input_p = np.column_stack((test_input ** 2, test_input))"
   ]
  },
  {
   "cell_type": "code",
   "execution_count": 22,
   "id": "43f0bcfc",
   "metadata": {},
   "outputs": [],
   "source": [
    "# 모델 생성\n",
    "model2 = LinearRegression()"
   ]
  },
  {
   "cell_type": "code",
   "execution_count": 23,
   "id": "ba1a99b6",
   "metadata": {},
   "outputs": [
    {
     "data": {
      "text/plain": [
       "LinearRegression()"
      ]
     },
     "execution_count": 23,
     "metadata": {},
     "output_type": "execute_result"
    }
   ],
   "source": [
    "# 모델 훈련\n",
    "model2.fit(train_input_p, train_target)"
   ]
  },
  {
   "cell_type": "code",
   "execution_count": 24,
   "id": "1b3b12cb",
   "metadata": {},
   "outputs": [
    {
     "name": "stdout",
     "output_type": "stream",
     "text": [
      "기  울  기:  [-59.34645435 224.59276454]\n",
      "절      편:  3.782976797797004\n"
     ]
    }
   ],
   "source": [
    "# 모델 파라미터\n",
    "print('기  울  기: ', model2.coef_)\n",
    "print('절      편: ', model2.intercept_)"
   ]
  },
  {
   "cell_type": "code",
   "execution_count": 25,
   "id": "a6599c6b",
   "metadata": {},
   "outputs": [
    {
     "name": "stdout",
     "output_type": "stream",
     "text": [
      "훈련용 :  0.7806553284149444\n",
      "검증용 :  0.7830557820346296\n",
      "\n",
      "=> 별차이 없노\n"
     ]
    }
   ],
   "source": [
    "# 모델 평가\n",
    "print('훈련용 : ', model2.score(train_input_p, train_target))\n",
    "print('검증용 : ', model2.score(test_input_p, test_target))\n",
    "print('\\n=> 별차이 없노')"
   ]
  },
  {
   "cell_type": "code",
   "execution_count": 26,
   "id": "9a5f830c",
   "metadata": {},
   "outputs": [
    {
     "data": {
      "text/plain": [
       "array([36.13659626])"
      ]
     },
     "execution_count": 26,
     "metadata": {},
     "output_type": "execute_result"
    }
   ],
   "source": [
    "# 모델 예측\n",
    "exp = model2.predict([[0.15 ** 2, 0.15]])\n",
    "exp"
   ]
  },
  {
   "cell_type": "code",
   "execution_count": 27,
   "id": "a8c33158",
   "metadata": {},
   "outputs": [
    {
     "name": "stdout",
     "output_type": "stream",
     "text": [
      "예측값 : 36.13659625629419\n"
     ]
    }
   ],
   "source": [
    "print('예측값 :', exp[0])"
   ]
  },
  {
   "cell_type": "markdown",
   "id": "44304271",
   "metadata": {},
   "source": [
    "1) 회귀선 그리는 것 (2차원으로 해서 넣는?)"
   ]
  }
 ],
 "metadata": {
  "kernelspec": {
   "display_name": "Python 3 (ipykernel)",
   "language": "python",
   "name": "python3"
  },
  "language_info": {
   "codemirror_mode": {
    "name": "ipython",
    "version": 3
   },
   "file_extension": ".py",
   "mimetype": "text/x-python",
   "name": "python",
   "nbconvert_exporter": "python",
   "pygments_lexer": "ipython3",
   "version": "3.9.12"
  }
 },
 "nbformat": 4,
 "nbformat_minor": 5
}
