{
 "cells": [
  {
   "cell_type": "markdown",
   "id": "c736f966",
   "metadata": {},
   "source": [
    "### 교차검증(Cross Validation)\n",
    "---\n",
    "- 데이터셋 부족에 대한 과소적합 해결\n",
    "- 테스트 데이터셋에 대한 과대적합(Overfitting) 해결\n",
    "- cross_validate() 사용하여 -> 기본값 cv = 5-fold => 모델 5개"
   ]
  },
  {
   "cell_type": "code",
   "execution_count": 1,
   "id": "0075a4f8",
   "metadata": {},
   "outputs": [],
   "source": [
    "# 데이터가 적어서 교차검증으로 인한 성능차이가 없을 것이지만,\n",
    "# 실제로 적정 데이터로 하면 성능차이가 있다!!"
   ]
  },
  {
   "cell_type": "code",
   "execution_count": 3,
   "id": "d3a6185d",
   "metadata": {},
   "outputs": [],
   "source": [
    "from sklearn.model_selection import cross_validate\n",
    "from sklearn.datasets import load_iris\n",
    "from sklearn.linear_model import LogisticRegression\n",
    "import numpy as np"
   ]
  },
  {
   "cell_type": "markdown",
   "id": "214d21c7",
   "metadata": {},
   "source": [
    "### [1] 데이터 준비\n",
    "---"
   ]
  },
  {
   "cell_type": "code",
   "execution_count": 4,
   "id": "bdc88b15",
   "metadata": {},
   "outputs": [],
   "source": [
    "data = load_iris()\n",
    "input_data = data['data']\n",
    "input_target = data['target']"
   ]
  },
  {
   "cell_type": "code",
   "execution_count": 5,
   "id": "a8c7f135",
   "metadata": {},
   "outputs": [
    {
     "data": {
      "text/plain": [
       "((150, 4), (150,))"
      ]
     },
     "execution_count": 5,
     "metadata": {},
     "output_type": "execute_result"
    }
   ],
   "source": [
    "input_data.shape, input_target.shape"
   ]
  },
  {
   "cell_type": "code",
   "execution_count": 14,
   "id": "3c3bde73",
   "metadata": {},
   "outputs": [],
   "source": [
    "# 모델 객체 생성\n",
    "model = LogisticRegression(max_iter=500)\n",
    "# penalty\n",
    "# 특정한 피처를 뽑았을 경우, l1쓰는 경우가 많지만 (0을 만들기 떄문에 -> 곱하면 0이 됨)\n",
    "# 피처 전체를 쓸 경우, l2를 쓰는 경우가 많음 (0에 가까움 -> 곱해도 0이 안되게끔)"
   ]
  },
  {
   "cell_type": "code",
   "execution_count": 18,
   "id": "6d87aff0",
   "metadata": {},
   "outputs": [],
   "source": [
    "# 기본값 -> 5-Flod로 5등분으로 나누어서 학습/검증 모델 생성 진행\n",
    "result = cross_validate(model, input_data, input_target,\n",
    "                        return_train_score=True,\n",
    "                        cv=10)\n",
    "\n",
    "# max_iter에 대한 경고 메시지가 뜬다면, 늘려주면 되지!!"
   ]
  },
  {
   "cell_type": "code",
   "execution_count": null,
   "id": "396b357a",
   "metadata": {},
   "outputs": [],
   "source": [
    "# cv가 3, 5, 10일때 등등 각각 확인해보고"
   ]
  },
  {
   "cell_type": "code",
   "execution_count": 19,
   "id": "5ad184b2",
   "metadata": {},
   "outputs": [
    {
     "data": {
      "text/plain": [
       "{'fit_time': array([0.02419901, 0.01700377, 0.01800418, 0.0180037 , 0.0220058 ,\n",
       "        0.02300477, 0.02300501, 0.0170176 , 0.01750278, 0.01600432]),\n",
       " 'score_time': array([0., 0., 0., 0., 0., 0., 0., 0., 0., 0.]),\n",
       " 'test_score': array([1.        , 0.93333333, 1.        , 1.        , 0.93333333,\n",
       "        0.93333333, 0.93333333, 1.        , 1.        , 1.        ]),\n",
       " 'train_score': array([0.97037037, 0.97777778, 0.97037037, 0.97037037, 0.97777778,\n",
       "        0.97777778, 0.98518519, 0.97037037, 0.97037037, 0.97777778])}"
      ]
     },
     "execution_count": 19,
     "metadata": {},
     "output_type": "execute_result"
    }
   ],
   "source": [
    "result"
   ]
  },
  {
   "cell_type": "code",
   "execution_count": 20,
   "id": "80bd034b",
   "metadata": {},
   "outputs": [
    {
     "data": {
      "text/plain": [
       "0.9733333333333334"
      ]
     },
     "execution_count": 20,
     "metadata": {},
     "output_type": "execute_result"
    }
   ],
   "source": [
    "# 5개 모델의 test_score의 평균값\n",
    "result['test_score'].mean()"
   ]
  },
  {
   "cell_type": "code",
   "execution_count": null,
   "id": "9ae8b1cf",
   "metadata": {},
   "outputs": [],
   "source": []
  },
  {
   "cell_type": "code",
   "execution_count": null,
   "id": "486cf7ec",
   "metadata": {},
   "outputs": [],
   "source": []
  },
  {
   "cell_type": "code",
   "execution_count": null,
   "id": "d40aa6b1",
   "metadata": {},
   "outputs": [],
   "source": []
  }
 ],
 "metadata": {
  "kernelspec": {
   "display_name": "Python 3 (ipykernel)",
   "language": "python",
   "name": "python3"
  },
  "language_info": {
   "codemirror_mode": {
    "name": "ipython",
    "version": 3
   },
   "file_extension": ".py",
   "mimetype": "text/x-python",
   "name": "python",
   "nbconvert_exporter": "python",
   "pygments_lexer": "ipython3",
   "version": "3.9.12"
  }
 },
 "nbformat": 4,
 "nbformat_minor": 5
}
