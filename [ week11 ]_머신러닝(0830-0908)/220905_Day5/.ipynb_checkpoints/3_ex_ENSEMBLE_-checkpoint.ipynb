{
 "cells": [
  {
   "cell_type": "code",
   "execution_count": null,
   "id": "efa39dbb",
   "metadata": {},
   "outputs": [],
   "source": [
    "# 데이터만 넣으면 가장 좋은 모델은 무엇인지 알려주는 것이 있음\n",
    "# 여러개의 모델을 넣어서 성능 향상시키는"
   ]
  },
  {
   "cell_type": "code",
   "execution_count": null,
   "id": "e99f6f63",
   "metadata": {},
   "outputs": [],
   "source": [
    "앙상블\n",
    "1. 모델 및 샘플 결합 방법에 따른 분류(3)\n",
    "2. 활용\n",
    " i) 모델이 여러개니까 여러개의 결과를 한꺼번에 평균화해서 쓰느냐\n",
    " ii) 1번 결과-> 2번에 넣고 결과 -> 3번에 넣고 => 순차적으로 쓰느냐\n"
   ]
  },
  {
   "cell_type": "code",
   "execution_count": null,
   "id": "22f67e50",
   "metadata": {},
   "outputs": [],
   "source": [
    "트리의 깊이를 조절해서\n",
    "특성을 랜덤으로 하는 등의 차이를 줌으로써 나오는 여러개를 합쳐서 쓰는 것"
   ]
  },
  {
   "cell_type": "code",
   "execution_count": null,
   "id": "8df73a64",
   "metadata": {},
   "outputs": [],
   "source": [
    "보팅 - 동일데이터, 다른 모델\n",
    "i) 제일 많이 나온 것\n",
    "ii) predict_proba()를 갖고 있는 모델이어야 할 수 있겠지?\n",
    "-> 로지스틱회귀, svc(True해놔야)처럼 각 모델에서 나올 확률들을 더해서 평균"
   ]
  },
  {
   "cell_type": "code",
   "execution_count": null,
   "id": "2d5d44e2",
   "metadata": {},
   "outputs": [],
   "source": [
    "배깅\n",
    "중복 샘플링(부트스트랩) 허용 -> 데이터 부족 문제 해결\n",
    "중복 샘프링을 통한 다른 데이터 & 동일 알고리즘의 여러 모델\n",
    "=> 이때 DT를 많이 쓴다고 함\n",
    "(BEST로 잡는 것)\n",
    "(모든 피처들의 속성을 갖고 불순도가 많이 감소 되는 특성 선택)"
   ]
  },
  {
   "cell_type": "code",
   "execution_count": null,
   "id": "138a5bd2",
   "metadata": {},
   "outputs": [],
   "source": [
    "DT의 깊이가 커지면 과적합 => 해결하기 위해 => RF"
   ]
  },
  {
   "cell_type": "code",
   "execution_count": null,
   "id": "ee496d37",
   "metadata": {},
   "outputs": [],
   "source": [
    "페이스팅\n",
    "DT를 기본으로 씀\n",
    "중복 불허 샘플링 (특성을 잡을 때도 랜덤으로 잡음)\n",
    "RANDOM으로 잡는 것, 속도가 빨라짐, 과대적합 해결"
   ]
  },
  {
   "cell_type": "code",
   "execution_count": null,
   "id": "b23f34ab",
   "metadata": {},
   "outputs": [],
   "source": [
    "RF (DT의 파라미터와 유사)\n",
    "- n_estimators의 디폴트가 100개\n",
    "- criterion (기본값이 gini라서 그대로 두면 될테고)\n",
    "- max_depth (주로 수정)\n",
    "- min_samples_split (주로 수정)\n",
    "- bootstrap이 True로 되어 있어서 중복 샘플링 한다는 것\n",
    "- oob_score => 학습에 안 쓰여서 검증용으로 쓰겠다는 것\n",
    "  (True를 해야 검증에 사용되고 점수로 나옴)"
   ]
  }
 ],
 "metadata": {
  "kernelspec": {
   "display_name": "Python 3 (ipykernel)",
   "language": "python",
   "name": "python3"
  },
  "language_info": {
   "codemirror_mode": {
    "name": "ipython",
    "version": 3
   },
   "file_extension": ".py",
   "mimetype": "text/x-python",
   "name": "python",
   "nbconvert_exporter": "python",
   "pygments_lexer": "ipython3",
   "version": "3.9.12"
  }
 },
 "nbformat": 4,
 "nbformat_minor": 5
}
