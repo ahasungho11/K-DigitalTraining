{
 "cells": [
  {
   "cell_type": "markdown",
   "id": "906e709f",
   "metadata": {},
   "source": [
    "### sklearn 모델 추천 메서드 활용\n",
    "---\n",
    "- sklearn.utils 모듈의 all_estimators()\n",
    "    * type_filter 파라미터 : 'classifier', 'regressor' 지정\n",
    "    * 반환 : 해당 타입의 모델 리스트 => 모델 이름, 모델 객체"
   ]
  },
  {
   "cell_type": "code",
   "execution_count": 1,
   "id": "653c96d4",
   "metadata": {},
   "outputs": [],
   "source": [
    "# 모듈 로딩\n",
    "from sklearn.utils import all_estimators\n",
    "from sklearn.datasets import load_iris\n",
    "from sklearn.model_selection import train_test_split\n",
    "import numpy as np\n",
    "import pandas as pd"
   ]
  },
  {
   "cell_type": "markdown",
   "id": "68ebb4d0",
   "metadata": {},
   "source": [
    "### [1] 데이터 로딩 및 확인\n",
    "---"
   ]
  },
  {
   "cell_type": "code",
   "execution_count": 2,
   "id": "1e044420",
   "metadata": {},
   "outputs": [],
   "source": [
    "# Bunch 데이터 타입 => dict와 유사한 형태\n",
    "data = load_iris()"
   ]
  },
  {
   "cell_type": "code",
   "execution_count": 3,
   "id": "06adff0b",
   "metadata": {},
   "outputs": [
    {
     "data": {
      "text/plain": [
       "dict_keys(['data', 'target', 'frame', 'target_names', 'DESCR', 'feature_names', 'filename', 'data_module'])"
      ]
     },
     "execution_count": 3,
     "metadata": {},
     "output_type": "execute_result"
    }
   ],
   "source": [
    "data.keys()"
   ]
  },
  {
   "cell_type": "code",
   "execution_count": 4,
   "id": "56092043",
   "metadata": {},
   "outputs": [],
   "source": [
    "# data, target => numpy  타입\n",
    "# target_names => 라벨 -> setosa, versicolor ...\n",
    "# feature_names => 컬럼명 -> petal_length, ...\n",
    "\n",
    "# 필요한 것은 data와 target\n",
    "input_data = data['data']\n",
    "input_target = data['target']"
   ]
  },
  {
   "cell_type": "code",
   "execution_count": 5,
   "id": "a91488aa",
   "metadata": {},
   "outputs": [
    {
     "data": {
      "text/plain": [
       "((150, 4), (150,))"
      ]
     },
     "execution_count": 5,
     "metadata": {},
     "output_type": "execute_result"
    }
   ],
   "source": [
    "input_data.shape, input_target.shape"
   ]
  },
  {
   "cell_type": "markdown",
   "id": "fc050320",
   "metadata": {},
   "source": [
    "### [2] 학습 데이터 분리\n",
    "---"
   ]
  },
  {
   "cell_type": "code",
   "execution_count": 6,
   "id": "e97a1a56",
   "metadata": {},
   "outputs": [],
   "source": [
    "# 학습-테스트 데이터셋 구분 (80:20)\n",
    "train_X, test_X, train_y, test_y = train_test_split(input_data,\n",
    "                                                    input_target,\n",
    "                                                    test_size=0.2)"
   ]
  },
  {
   "cell_type": "code",
   "execution_count": 9,
   "id": "02622c09",
   "metadata": {},
   "outputs": [],
   "source": [
    "# 한번 더 추가해서 학습-검증용 데이터셋으로 추가 구분 (80:20)\n",
    "train_X, val_X, train_y, val_y = train_test_split(train_X,\n",
    "                                                    train_y,\n",
    "                                                    test_size=0.2)"
   ]
  },
  {
   "cell_type": "code",
   "execution_count": 10,
   "id": "1ae80717",
   "metadata": {},
   "outputs": [],
   "source": [
    "# iris의 경우 150개 데이터 밖에 없어서 \n",
    "# - 이렇게 쪼개면 훈련할 데이터가 너무 적음\n",
    "# "
   ]
  },
  {
   "cell_type": "markdown",
   "id": "26e3185b",
   "metadata": {},
   "source": [
    "### [3] 학습\n",
    "---\n",
    "- 학습방법 선정 -> 분류 / 회귀\n",
    "- 분류 => kNN, LogisticRegression, DecisionTree, SGDClassifier, SVC\n",
    "- 회귀 => kNN, DecisionTree\n",
    "- but, 이번에는 유틸을 써서 해보자\n",
    "\n",
    "- 분류 모델 적용 후, 결과 -> all_estimators()"
   ]
  },
  {
   "cell_type": "code",
   "execution_count": 16,
   "id": "ed701ea0",
   "metadata": {},
   "outputs": [],
   "source": [
    "# 필터 타입에 해당하는 sklearn에 존재하는 모든 모델 이름과 객체 리스트로 반환\n",
    "models_c = all_estimators(type_filter='classifier')"
   ]
  },
  {
   "cell_type": "code",
   "execution_count": 17,
   "id": "fc4f49ef",
   "metadata": {
    "collapsed": true
   },
   "outputs": [
    {
     "data": {
      "text/plain": [
       "[('AdaBoostClassifier', sklearn.ensemble._weight_boosting.AdaBoostClassifier),\n",
       " ('BaggingClassifier', sklearn.ensemble._bagging.BaggingClassifier),\n",
       " ('BernoulliNB', sklearn.naive_bayes.BernoulliNB),\n",
       " ('CalibratedClassifierCV', sklearn.calibration.CalibratedClassifierCV),\n",
       " ('CategoricalNB', sklearn.naive_bayes.CategoricalNB),\n",
       " ('ClassifierChain', sklearn.multioutput.ClassifierChain),\n",
       " ('ComplementNB', sklearn.naive_bayes.ComplementNB),\n",
       " ('DecisionTreeClassifier', sklearn.tree._classes.DecisionTreeClassifier),\n",
       " ('DummyClassifier', sklearn.dummy.DummyClassifier),\n",
       " ('ExtraTreeClassifier', sklearn.tree._classes.ExtraTreeClassifier),\n",
       " ('ExtraTreesClassifier', sklearn.ensemble._forest.ExtraTreesClassifier),\n",
       " ('GaussianNB', sklearn.naive_bayes.GaussianNB),\n",
       " ('GaussianProcessClassifier',\n",
       "  sklearn.gaussian_process._gpc.GaussianProcessClassifier),\n",
       " ('GradientBoostingClassifier',\n",
       "  sklearn.ensemble._gb.GradientBoostingClassifier),\n",
       " ('HistGradientBoostingClassifier',\n",
       "  sklearn.ensemble._hist_gradient_boosting.gradient_boosting.HistGradientBoostingClassifier),\n",
       " ('KNeighborsClassifier',\n",
       "  sklearn.neighbors._classification.KNeighborsClassifier),\n",
       " ('LabelPropagation',\n",
       "  sklearn.semi_supervised._label_propagation.LabelPropagation),\n",
       " ('LabelSpreading', sklearn.semi_supervised._label_propagation.LabelSpreading),\n",
       " ('LinearDiscriminantAnalysis',\n",
       "  sklearn.discriminant_analysis.LinearDiscriminantAnalysis),\n",
       " ('LinearSVC', sklearn.svm._classes.LinearSVC),\n",
       " ('LogisticRegression', sklearn.linear_model._logistic.LogisticRegression),\n",
       " ('LogisticRegressionCV', sklearn.linear_model._logistic.LogisticRegressionCV),\n",
       " ('MLPClassifier',\n",
       "  sklearn.neural_network._multilayer_perceptron.MLPClassifier),\n",
       " ('MultiOutputClassifier', sklearn.multioutput.MultiOutputClassifier),\n",
       " ('MultinomialNB', sklearn.naive_bayes.MultinomialNB),\n",
       " ('NearestCentroid', sklearn.neighbors._nearest_centroid.NearestCentroid),\n",
       " ('NuSVC', sklearn.svm._classes.NuSVC),\n",
       " ('OneVsOneClassifier', sklearn.multiclass.OneVsOneClassifier),\n",
       " ('OneVsRestClassifier', sklearn.multiclass.OneVsRestClassifier),\n",
       " ('OutputCodeClassifier', sklearn.multiclass.OutputCodeClassifier),\n",
       " ('PassiveAggressiveClassifier',\n",
       "  sklearn.linear_model._passive_aggressive.PassiveAggressiveClassifier),\n",
       " ('Perceptron', sklearn.linear_model._perceptron.Perceptron),\n",
       " ('QuadraticDiscriminantAnalysis',\n",
       "  sklearn.discriminant_analysis.QuadraticDiscriminantAnalysis),\n",
       " ('RadiusNeighborsClassifier',\n",
       "  sklearn.neighbors._classification.RadiusNeighborsClassifier),\n",
       " ('RandomForestClassifier', sklearn.ensemble._forest.RandomForestClassifier),\n",
       " ('RidgeClassifier', sklearn.linear_model._ridge.RidgeClassifier),\n",
       " ('RidgeClassifierCV', sklearn.linear_model._ridge.RidgeClassifierCV),\n",
       " ('SGDClassifier', sklearn.linear_model._stochastic_gradient.SGDClassifier),\n",
       " ('SVC', sklearn.svm._classes.SVC),\n",
       " ('StackingClassifier', sklearn.ensemble._stacking.StackingClassifier),\n",
       " ('VotingClassifier', sklearn.ensemble._voting.VotingClassifier)]"
      ]
     },
     "execution_count": 17,
     "metadata": {},
     "output_type": "execute_result"
    }
   ],
   "source": [
    "models_c"
   ]
  },
  {
   "cell_type": "code",
   "execution_count": 18,
   "id": "97a37b24",
   "metadata": {},
   "outputs": [],
   "source": [
    "models_r = all_estimators(type_filter='regressor')"
   ]
  },
  {
   "cell_type": "code",
   "execution_count": 19,
   "id": "68f1af70",
   "metadata": {
    "collapsed": true
   },
   "outputs": [
    {
     "data": {
      "text/plain": [
       "[('ARDRegression', sklearn.linear_model._bayes.ARDRegression),\n",
       " ('AdaBoostRegressor', sklearn.ensemble._weight_boosting.AdaBoostRegressor),\n",
       " ('BaggingRegressor', sklearn.ensemble._bagging.BaggingRegressor),\n",
       " ('BayesianRidge', sklearn.linear_model._bayes.BayesianRidge),\n",
       " ('CCA', sklearn.cross_decomposition._pls.CCA),\n",
       " ('DecisionTreeRegressor', sklearn.tree._classes.DecisionTreeRegressor),\n",
       " ('DummyRegressor', sklearn.dummy.DummyRegressor),\n",
       " ('ElasticNet', sklearn.linear_model._coordinate_descent.ElasticNet),\n",
       " ('ElasticNetCV', sklearn.linear_model._coordinate_descent.ElasticNetCV),\n",
       " ('ExtraTreeRegressor', sklearn.tree._classes.ExtraTreeRegressor),\n",
       " ('ExtraTreesRegressor', sklearn.ensemble._forest.ExtraTreesRegressor),\n",
       " ('GammaRegressor', sklearn.linear_model._glm.glm.GammaRegressor),\n",
       " ('GaussianProcessRegressor',\n",
       "  sklearn.gaussian_process._gpr.GaussianProcessRegressor),\n",
       " ('GradientBoostingRegressor', sklearn.ensemble._gb.GradientBoostingRegressor),\n",
       " ('HistGradientBoostingRegressor',\n",
       "  sklearn.ensemble._hist_gradient_boosting.gradient_boosting.HistGradientBoostingRegressor),\n",
       " ('HuberRegressor', sklearn.linear_model._huber.HuberRegressor),\n",
       " ('IsotonicRegression', sklearn.isotonic.IsotonicRegression),\n",
       " ('KNeighborsRegressor', sklearn.neighbors._regression.KNeighborsRegressor),\n",
       " ('KernelRidge', sklearn.kernel_ridge.KernelRidge),\n",
       " ('Lars', sklearn.linear_model._least_angle.Lars),\n",
       " ('LarsCV', sklearn.linear_model._least_angle.LarsCV),\n",
       " ('Lasso', sklearn.linear_model._coordinate_descent.Lasso),\n",
       " ('LassoCV', sklearn.linear_model._coordinate_descent.LassoCV),\n",
       " ('LassoLars', sklearn.linear_model._least_angle.LassoLars),\n",
       " ('LassoLarsCV', sklearn.linear_model._least_angle.LassoLarsCV),\n",
       " ('LassoLarsIC', sklearn.linear_model._least_angle.LassoLarsIC),\n",
       " ('LinearRegression', sklearn.linear_model._base.LinearRegression),\n",
       " ('LinearSVR', sklearn.svm._classes.LinearSVR),\n",
       " ('MLPRegressor', sklearn.neural_network._multilayer_perceptron.MLPRegressor),\n",
       " ('MultiOutputRegressor', sklearn.multioutput.MultiOutputRegressor),\n",
       " ('MultiTaskElasticNet',\n",
       "  sklearn.linear_model._coordinate_descent.MultiTaskElasticNet),\n",
       " ('MultiTaskElasticNetCV',\n",
       "  sklearn.linear_model._coordinate_descent.MultiTaskElasticNetCV),\n",
       " ('MultiTaskLasso', sklearn.linear_model._coordinate_descent.MultiTaskLasso),\n",
       " ('MultiTaskLassoCV',\n",
       "  sklearn.linear_model._coordinate_descent.MultiTaskLassoCV),\n",
       " ('NuSVR', sklearn.svm._classes.NuSVR),\n",
       " ('OrthogonalMatchingPursuit',\n",
       "  sklearn.linear_model._omp.OrthogonalMatchingPursuit),\n",
       " ('OrthogonalMatchingPursuitCV',\n",
       "  sklearn.linear_model._omp.OrthogonalMatchingPursuitCV),\n",
       " ('PLSCanonical', sklearn.cross_decomposition._pls.PLSCanonical),\n",
       " ('PLSRegression', sklearn.cross_decomposition._pls.PLSRegression),\n",
       " ('PassiveAggressiveRegressor',\n",
       "  sklearn.linear_model._passive_aggressive.PassiveAggressiveRegressor),\n",
       " ('PoissonRegressor', sklearn.linear_model._glm.glm.PoissonRegressor),\n",
       " ('QuantileRegressor', sklearn.linear_model._quantile.QuantileRegressor),\n",
       " ('RANSACRegressor', sklearn.linear_model._ransac.RANSACRegressor),\n",
       " ('RadiusNeighborsRegressor',\n",
       "  sklearn.neighbors._regression.RadiusNeighborsRegressor),\n",
       " ('RandomForestRegressor', sklearn.ensemble._forest.RandomForestRegressor),\n",
       " ('RegressorChain', sklearn.multioutput.RegressorChain),\n",
       " ('Ridge', sklearn.linear_model._ridge.Ridge),\n",
       " ('RidgeCV', sklearn.linear_model._ridge.RidgeCV),\n",
       " ('SGDRegressor', sklearn.linear_model._stochastic_gradient.SGDRegressor),\n",
       " ('SVR', sklearn.svm._classes.SVR),\n",
       " ('StackingRegressor', sklearn.ensemble._stacking.StackingRegressor),\n",
       " ('TheilSenRegressor', sklearn.linear_model._theil_sen.TheilSenRegressor),\n",
       " ('TransformedTargetRegressor',\n",
       "  sklearn.compose._target.TransformedTargetRegressor),\n",
       " ('TweedieRegressor', sklearn.linear_model._glm.glm.TweedieRegressor),\n",
       " ('VotingRegressor', sklearn.ensemble._voting.VotingRegressor)]"
      ]
     },
     "execution_count": 19,
     "metadata": {},
     "output_type": "execute_result"
    }
   ],
   "source": [
    "models_r"
   ]
  },
  {
   "cell_type": "code",
   "execution_count": null,
   "id": "164b5009",
   "metadata": {},
   "outputs": [],
   "source": [
    "# SGD를 하기에는 횟수가 적다는 것\n",
    "=> 조건문으로 SGD인 것은 배제하거나\n",
    "=> warningignore"
   ]
  },
  {
   "cell_type": "code",
   "execution_count": 14,
   "id": "378ed5ca",
   "metadata": {
    "collapsed": true
   },
   "outputs": [
    {
     "name": "stderr",
     "output_type": "stream",
     "text": [
      "C:\\ProgramData\\Anaconda3\\lib\\site-packages\\sklearn\\svm\\_base.py:1206: ConvergenceWarning: Liblinear failed to converge, increase the number of iterations.\n",
      "  warnings.warn(\n",
      "C:\\ProgramData\\Anaconda3\\lib\\site-packages\\sklearn\\svm\\_base.py:1206: ConvergenceWarning: Liblinear failed to converge, increase the number of iterations.\n",
      "  warnings.warn(\n",
      "C:\\ProgramData\\Anaconda3\\lib\\site-packages\\sklearn\\svm\\_base.py:1206: ConvergenceWarning: Liblinear failed to converge, increase the number of iterations.\n",
      "  warnings.warn(\n",
      "C:\\ProgramData\\Anaconda3\\lib\\site-packages\\sklearn\\svm\\_base.py:1206: ConvergenceWarning: Liblinear failed to converge, increase the number of iterations.\n",
      "  warnings.warn(\n",
      "C:\\ProgramData\\Anaconda3\\lib\\site-packages\\sklearn\\svm\\_base.py:1206: ConvergenceWarning: Liblinear failed to converge, increase the number of iterations.\n",
      "  warnings.warn(\n",
      "C:\\ProgramData\\Anaconda3\\lib\\site-packages\\sklearn\\svm\\_base.py:1206: ConvergenceWarning: Liblinear failed to converge, increase the number of iterations.\n",
      "  warnings.warn(\n",
      "C:\\ProgramData\\Anaconda3\\lib\\site-packages\\sklearn\\linear_model\\_logistic.py:814: ConvergenceWarning: lbfgs failed to converge (status=1):\n",
      "STOP: TOTAL NO. of ITERATIONS REACHED LIMIT.\n",
      "\n",
      "Increase the number of iterations (max_iter) or scale the data as shown in:\n",
      "    https://scikit-learn.org/stable/modules/preprocessing.html\n",
      "Please also refer to the documentation for alternative solver options:\n",
      "    https://scikit-learn.org/stable/modules/linear_model.html#logistic-regression\n",
      "  n_iter_i = _check_optimize_result(\n",
      "C:\\ProgramData\\Anaconda3\\lib\\site-packages\\sklearn\\linear_model\\_logistic.py:814: ConvergenceWarning: lbfgs failed to converge (status=1):\n",
      "STOP: TOTAL NO. of ITERATIONS REACHED LIMIT.\n",
      "\n",
      "Increase the number of iterations (max_iter) or scale the data as shown in:\n",
      "    https://scikit-learn.org/stable/modules/preprocessing.html\n",
      "Please also refer to the documentation for alternative solver options:\n",
      "    https://scikit-learn.org/stable/modules/linear_model.html#logistic-regression\n",
      "  n_iter_i = _check_optimize_result(\n",
      "C:\\ProgramData\\Anaconda3\\lib\\site-packages\\sklearn\\linear_model\\_logistic.py:814: ConvergenceWarning: lbfgs failed to converge (status=1):\n",
      "STOP: TOTAL NO. of ITERATIONS REACHED LIMIT.\n",
      "\n",
      "Increase the number of iterations (max_iter) or scale the data as shown in:\n",
      "    https://scikit-learn.org/stable/modules/preprocessing.html\n",
      "Please also refer to the documentation for alternative solver options:\n",
      "    https://scikit-learn.org/stable/modules/linear_model.html#logistic-regression\n",
      "  n_iter_i = _check_optimize_result(\n",
      "C:\\ProgramData\\Anaconda3\\lib\\site-packages\\sklearn\\linear_model\\_logistic.py:814: ConvergenceWarning: lbfgs failed to converge (status=1):\n",
      "STOP: TOTAL NO. of ITERATIONS REACHED LIMIT.\n",
      "\n",
      "Increase the number of iterations (max_iter) or scale the data as shown in:\n",
      "    https://scikit-learn.org/stable/modules/preprocessing.html\n",
      "Please also refer to the documentation for alternative solver options:\n",
      "    https://scikit-learn.org/stable/modules/linear_model.html#logistic-regression\n",
      "  n_iter_i = _check_optimize_result(\n",
      "C:\\ProgramData\\Anaconda3\\lib\\site-packages\\sklearn\\linear_model\\_logistic.py:814: ConvergenceWarning: lbfgs failed to converge (status=1):\n",
      "STOP: TOTAL NO. of ITERATIONS REACHED LIMIT.\n",
      "\n",
      "Increase the number of iterations (max_iter) or scale the data as shown in:\n",
      "    https://scikit-learn.org/stable/modules/preprocessing.html\n",
      "Please also refer to the documentation for alternative solver options:\n",
      "    https://scikit-learn.org/stable/modules/linear_model.html#logistic-regression\n",
      "  n_iter_i = _check_optimize_result(\n",
      "C:\\ProgramData\\Anaconda3\\lib\\site-packages\\sklearn\\neural_network\\_multilayer_perceptron.py:692: ConvergenceWarning: Stochastic Optimizer: Maximum iterations (200) reached and the optimization hasn't converged yet.\n",
      "  warnings.warn(\n"
     ]
    }
   ],
   "source": [
    "scores=[]\n",
    "for name, model in models:\n",
    "    try :\n",
    "        # 모델 객체 생성\n",
    "        md=model()\n",
    "        # 학습\n",
    "        md.fit(train_X, train_y)\n",
    "        #평가\n",
    "        result = md.score(test_X, test_y)\n",
    "        scores.append((name, np.round(result,3)))\n",
    "        # 모델명과 결과를 따로 담아도 되고\n",
    "    except:\n",
    "        pass   "
   ]
  },
  {
   "cell_type": "code",
   "execution_count": 15,
   "id": "47d209e4",
   "metadata": {
    "collapsed": true
   },
   "outputs": [
    {
     "data": {
      "text/plain": [
       "[('AdaBoostClassifier', 0.933),\n",
       " ('BaggingClassifier', 0.933),\n",
       " ('BernoulliNB', 0.3),\n",
       " ('CalibratedClassifierCV', 0.8),\n",
       " ('CategoricalNB', 1.0),\n",
       " ('ComplementNB', 0.7),\n",
       " ('DecisionTreeClassifier', 0.933),\n",
       " ('DummyClassifier', 0.3),\n",
       " ('ExtraTreeClassifier', 0.9),\n",
       " ('ExtraTreesClassifier', 0.933),\n",
       " ('GaussianNB', 0.933),\n",
       " ('GaussianProcessClassifier', 0.933),\n",
       " ('GradientBoostingClassifier', 0.933),\n",
       " ('HistGradientBoostingClassifier', 0.967),\n",
       " ('KNeighborsClassifier', 0.933),\n",
       " ('LabelPropagation', 0.933),\n",
       " ('LabelSpreading', 0.933),\n",
       " ('LinearDiscriminantAnalysis', 0.967),\n",
       " ('LinearSVC', 0.9),\n",
       " ('LogisticRegression', 0.933),\n",
       " ('LogisticRegressionCV', 0.933),\n",
       " ('MLPClassifier', 1.0),\n",
       " ('MultinomialNB', 0.767),\n",
       " ('NearestCentroid', 0.967),\n",
       " ('NuSVC', 0.933),\n",
       " ('PassiveAggressiveClassifier', 0.767),\n",
       " ('Perceptron', 0.533),\n",
       " ('QuadraticDiscriminantAnalysis', 0.967),\n",
       " ('RadiusNeighborsClassifier', 0.933),\n",
       " ('RandomForestClassifier', 0.933),\n",
       " ('RidgeClassifier', 0.767),\n",
       " ('RidgeClassifierCV', 0.767),\n",
       " ('SGDClassifier', 0.8),\n",
       " ('SVC', 0.933)]"
      ]
     },
     "execution_count": 15,
     "metadata": {},
     "output_type": "execute_result"
    }
   ],
   "source": [
    "# 이 중에서 하나의 모델을 골라서\n",
    "# - 하이퍼 파라미터를 조절하면서 성능을 향상 시켜봐\n",
    "scores"
   ]
  },
  {
   "cell_type": "code",
   "execution_count": null,
   "id": "b7e31df6",
   "metadata": {},
   "outputs": [],
   "source": []
  }
 ],
 "metadata": {
  "kernelspec": {
   "display_name": "Python 3 (ipykernel)",
   "language": "python",
   "name": "python3"
  },
  "language_info": {
   "codemirror_mode": {
    "name": "ipython",
    "version": 3
   },
   "file_extension": ".py",
   "mimetype": "text/x-python",
   "name": "python",
   "nbconvert_exporter": "python",
   "pygments_lexer": "ipython3",
   "version": "3.9.12"
  }
 },
 "nbformat": 4,
 "nbformat_minor": 5
}
