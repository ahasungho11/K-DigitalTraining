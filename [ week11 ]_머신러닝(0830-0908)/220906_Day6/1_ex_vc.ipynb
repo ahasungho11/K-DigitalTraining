{
 "cells": [
  {
   "cell_type": "code",
   "execution_count": 4,
   "id": "61206ca4",
   "metadata": {},
   "outputs": [],
   "source": [
    "# 220906)"
   ]
  },
  {
   "cell_type": "code",
   "execution_count": 5,
   "id": "c56fa8e9",
   "metadata": {},
   "outputs": [],
   "source": [
    "# 히스토그램기반 부스팅 2가지\\\n",
    "# - scikit-learn 아님 => 설치 필요\n",
    "# pip install lightgbm\n",
    "# pip install xgboost"
   ]
  },
  {
   "cell_type": "code",
   "execution_count": null,
   "id": "8e132ed7",
   "metadata": {},
   "outputs": [],
   "source": [
    "model validation\n",
    "cross_val_score\n",
    "cross_validate -> "
   ]
  },
  {
   "cell_type": "markdown",
   "id": "9fb38d8e",
   "metadata": {},
   "source": [
    "## 다양한 교차검증\n",
    "---\n",
    "- model_selection 모듈\n",
    "    * cross_val_score(estimator, X)\n",
    "    * cross_val_validate(estimator, X)\n",
    "    * cross_val_predict(estimator, X)"
   ]
  },
  {
   "cell_type": "code",
   "execution_count": 14,
   "id": "95b2fb87",
   "metadata": {},
   "outputs": [],
   "source": [
    "from sklearn.model_selection import  cross_val_predict, cross_val_score, cross_validate\n",
    "from sklearn.linear_model import LogisticRegression\n",
    "from sklearn.datasets import load_iris\n",
    "import numpy as np\n",
    "import pandas as pd"
   ]
  },
  {
   "cell_type": "markdown",
   "id": "c714fc8a",
   "metadata": {},
   "source": [
    "### [1] 데이터 로딩"
   ]
  },
  {
   "cell_type": "code",
   "execution_count": 15,
   "id": "72da52dc",
   "metadata": {},
   "outputs": [],
   "source": [
    "iris=load_iris()"
   ]
  },
  {
   "cell_type": "code",
   "execution_count": 16,
   "id": "b544cfbe",
   "metadata": {},
   "outputs": [],
   "source": [
    "# Bunch 타입 => dict\n",
    "data = iris['data']\n",
    "target = iris['target']\n",
    "featureName = iris['feature_names']\n",
    "className = iris['target_names']"
   ]
  },
  {
   "cell_type": "code",
   "execution_count": 19,
   "id": "2081fc32",
   "metadata": {},
   "outputs": [
    {
     "name": "stdout",
     "output_type": "stream",
     "text": [
      "dict_keys(['data', 'target', 'frame', 'target_names', 'DESCR', 'feature_names', 'filename', 'data_module'])\n"
     ]
    },
    {
     "data": {
      "text/plain": [
       "array(['setosa', 'versicolor', 'virginica'], dtype='<U10')"
      ]
     },
     "execution_count": 19,
     "metadata": {},
     "output_type": "execute_result"
    }
   ],
   "source": [
    "# 확인\n",
    "print(iris.keys())\n",
    "iris['target_names']"
   ]
  },
  {
   "cell_type": "code",
   "execution_count": 20,
   "id": "33f7d13b",
   "metadata": {},
   "outputs": [
    {
     "data": {
      "text/plain": [
       "(['sepal length (cm)',\n",
       "  'sepal width (cm)',\n",
       "  'petal length (cm)',\n",
       "  'petal width (cm)'],\n",
       " array(['setosa', 'versicolor', 'virginica'], dtype='<U10'))"
      ]
     },
     "execution_count": 20,
     "metadata": {},
     "output_type": "execute_result"
    }
   ],
   "source": [
    "# 확인\n",
    "featureName, className"
   ]
  },
  {
   "cell_type": "markdown",
   "id": "35bf744d",
   "metadata": {},
   "source": [
    "### [2] 모델 생성"
   ]
  },
  {
   "cell_type": "code",
   "execution_count": 24,
   "id": "abfaf059",
   "metadata": {},
   "outputs": [],
   "source": [
    "# max_iter : 처음~끝까지 샘플데이터 학습 => 에포크(epoch) 횟수\n",
    "lrModel = LogisticRegression(max_iter=500)"
   ]
  },
  {
   "cell_type": "code",
   "execution_count": 28,
   "id": "4c40639b",
   "metadata": {},
   "outputs": [],
   "source": [
    "# 교차 검증으로 모델 학습 진행\n",
    "# -> 학습 데이터 기반 5개 Fold로 학습 & 검증 진행\n",
    "# -> cv 파라미터로 개수 조절 가능\n",
    "result = cross_val_score(lrModel, data, target, cv=10)"
   ]
  },
  {
   "cell_type": "code",
   "execution_count": 29,
   "id": "f7643926",
   "metadata": {},
   "outputs": [
    {
     "data": {
      "text/plain": [
       "array([1.        , 0.93333333, 1.        , 1.        , 0.93333333,\n",
       "       0.93333333, 0.93333333, 1.        , 1.        , 1.        ])"
      ]
     },
     "execution_count": 29,
     "metadata": {},
     "output_type": "execute_result"
    }
   ],
   "source": [
    "# 5개 모델에 대한 score => 정확도(accuracy)\n",
    "result"
   ]
  },
  {
   "cell_type": "code",
   "execution_count": 38,
   "id": "457160a5",
   "metadata": {},
   "outputs": [],
   "source": [
    "# return_train_score=True => train에 대한 score까지 주셈\n",
    "allResult = cross_validate(lrModel, data, target, \n",
    "                           return_train_score=True,\n",
    "                           cv=7)\n",
    "\n",
    "# 비율과 셔플에 관련된 파라미터는 없음\n",
    "# -> cv 객체를 만들어서 넣어주면 됨"
   ]
  },
  {
   "cell_type": "code",
   "execution_count": 37,
   "id": "5794b611",
   "metadata": {},
   "outputs": [
    {
     "data": {
      "text/html": [
       "<div>\n",
       "<style scoped>\n",
       "    .dataframe tbody tr th:only-of-type {\n",
       "        vertical-align: middle;\n",
       "    }\n",
       "\n",
       "    .dataframe tbody tr th {\n",
       "        vertical-align: top;\n",
       "    }\n",
       "\n",
       "    .dataframe thead th {\n",
       "        text-align: right;\n",
       "    }\n",
       "</style>\n",
       "<table border=\"1\" class=\"dataframe\">\n",
       "  <thead>\n",
       "    <tr style=\"text-align: right;\">\n",
       "      <th></th>\n",
       "      <th>fit_time</th>\n",
       "      <th>score_time</th>\n",
       "      <th>test_score</th>\n",
       "      <th>train_score</th>\n",
       "    </tr>\n",
       "  </thead>\n",
       "  <tbody>\n",
       "    <tr>\n",
       "      <th>0</th>\n",
       "      <td>0.018121</td>\n",
       "      <td>0.0</td>\n",
       "      <td>0.966667</td>\n",
       "      <td>0.966667</td>\n",
       "    </tr>\n",
       "    <tr>\n",
       "      <th>1</th>\n",
       "      <td>0.024008</td>\n",
       "      <td>0.0</td>\n",
       "      <td>1.000000</td>\n",
       "      <td>0.966667</td>\n",
       "    </tr>\n",
       "    <tr>\n",
       "      <th>2</th>\n",
       "      <td>0.015996</td>\n",
       "      <td>0.0</td>\n",
       "      <td>0.933333</td>\n",
       "      <td>0.983333</td>\n",
       "    </tr>\n",
       "    <tr>\n",
       "      <th>3</th>\n",
       "      <td>0.016002</td>\n",
       "      <td>0.0</td>\n",
       "      <td>0.966667</td>\n",
       "      <td>0.983333</td>\n",
       "    </tr>\n",
       "    <tr>\n",
       "      <th>4</th>\n",
       "      <td>0.013003</td>\n",
       "      <td>0.0</td>\n",
       "      <td>1.000000</td>\n",
       "      <td>0.975000</td>\n",
       "    </tr>\n",
       "  </tbody>\n",
       "</table>\n",
       "</div>"
      ],
      "text/plain": [
       "   fit_time  score_time  test_score  train_score\n",
       "0  0.018121         0.0    0.966667     0.966667\n",
       "1  0.024008         0.0    1.000000     0.966667\n",
       "2  0.015996         0.0    0.933333     0.983333\n",
       "3  0.016002         0.0    0.966667     0.983333\n",
       "4  0.013003         0.0    1.000000     0.975000"
      ]
     },
     "execution_count": 37,
     "metadata": {},
     "output_type": "execute_result"
    }
   ],
   "source": [
    "# DF로 출력 가능 (cv = 5 (기본값))\n",
    "resultDF = pd.DataFrame(allResult)\n",
    "resultDF"
   ]
  },
  {
   "cell_type": "code",
   "execution_count": 40,
   "id": "bd614d58",
   "metadata": {},
   "outputs": [
    {
     "data": {
      "text/html": [
       "<div>\n",
       "<style scoped>\n",
       "    .dataframe tbody tr th:only-of-type {\n",
       "        vertical-align: middle;\n",
       "    }\n",
       "\n",
       "    .dataframe tbody tr th {\n",
       "        vertical-align: top;\n",
       "    }\n",
       "\n",
       "    .dataframe thead th {\n",
       "        text-align: right;\n",
       "    }\n",
       "</style>\n",
       "<table border=\"1\" class=\"dataframe\">\n",
       "  <thead>\n",
       "    <tr style=\"text-align: right;\">\n",
       "      <th></th>\n",
       "      <th>fit_time</th>\n",
       "      <th>score_time</th>\n",
       "      <th>test_score</th>\n",
       "      <th>train_score</th>\n",
       "    </tr>\n",
       "  </thead>\n",
       "  <tbody>\n",
       "    <tr>\n",
       "      <th>0</th>\n",
       "      <td>0.022139</td>\n",
       "      <td>0.0</td>\n",
       "      <td>0.954545</td>\n",
       "      <td>0.968750</td>\n",
       "    </tr>\n",
       "    <tr>\n",
       "      <th>1</th>\n",
       "      <td>0.018005</td>\n",
       "      <td>0.0</td>\n",
       "      <td>1.000000</td>\n",
       "      <td>0.968750</td>\n",
       "    </tr>\n",
       "    <tr>\n",
       "      <th>2</th>\n",
       "      <td>0.015004</td>\n",
       "      <td>0.0</td>\n",
       "      <td>0.909091</td>\n",
       "      <td>0.976562</td>\n",
       "    </tr>\n",
       "    <tr>\n",
       "      <th>3</th>\n",
       "      <td>0.016003</td>\n",
       "      <td>0.0</td>\n",
       "      <td>0.952381</td>\n",
       "      <td>0.976744</td>\n",
       "    </tr>\n",
       "    <tr>\n",
       "      <th>4</th>\n",
       "      <td>0.015003</td>\n",
       "      <td>0.0</td>\n",
       "      <td>0.952381</td>\n",
       "      <td>0.992248</td>\n",
       "    </tr>\n",
       "    <tr>\n",
       "      <th>5</th>\n",
       "      <td>0.015003</td>\n",
       "      <td>0.0</td>\n",
       "      <td>1.000000</td>\n",
       "      <td>0.968992</td>\n",
       "    </tr>\n",
       "    <tr>\n",
       "      <th>6</th>\n",
       "      <td>0.021005</td>\n",
       "      <td>0.0</td>\n",
       "      <td>1.000000</td>\n",
       "      <td>0.976744</td>\n",
       "    </tr>\n",
       "  </tbody>\n",
       "</table>\n",
       "</div>"
      ],
      "text/plain": [
       "   fit_time  score_time  test_score  train_score\n",
       "0  0.022139         0.0    0.954545     0.968750\n",
       "1  0.018005         0.0    1.000000     0.968750\n",
       "2  0.015004         0.0    0.909091     0.976562\n",
       "3  0.016003         0.0    0.952381     0.976744\n",
       "4  0.015003         0.0    0.952381     0.992248\n",
       "5  0.015003         0.0    1.000000     0.968992\n",
       "6  0.021005         0.0    1.000000     0.976744"
      ]
     },
     "execution_count": 40,
     "metadata": {},
     "output_type": "execute_result"
    }
   ],
   "source": [
    "# DF로 출력 가능 (cv = 7)\n",
    "resultDF = pd.DataFrame(allResult)\n",
    "resultDF"
   ]
  },
  {
   "cell_type": "code",
   "execution_count": 49,
   "id": "84930d24",
   "metadata": {},
   "outputs": [],
   "source": [
    "# 비율과 셔플에 관련된 파라미터는 없음\n",
    "# -> cv 객체를 만들어서 넣어주면 됨\n",
    "# cross_validate()\n",
    "\n",
    "# KFold -> 데이터가 편증 되는 경우 발생\n",
    "# 객체를 만들어서 cv에 지정해주면 됨\n",
    "\n",
    "# Splitter 객체 생성 - KFold()\n",
    "from sklearn.model_selection import KFold, StratifiedKFold\n",
    "\n",
    "kSplitter = KFold(n_splits=7, shuffle=True)\n",
    "sSplitter = StratifiedKFold(n_splits=7, shuffle=True)\n",
    "\n",
    "# 파라미터\n",
    "# return_train_score : 학습 데이터 평가 결과 반환 여부 설정\n",
    "# return_estimator : 모델 객체 반환 여부 설정\n",
    "\n",
    "\n",
    "allResult = cross_validate(lrModel, data, target, \n",
    "                           return_train_score=True,\n",
    "                           return_estimator=True,\n",
    "                           cv=kSplitter)\n",
    "\n",
    "allResult_1 = cross_validate(lrModel, data, target, \n",
    "                           return_train_score=True,\n",
    "                           return_estimator=True,\n",
    "                           cv=sSplitter)"
   ]
  },
  {
   "cell_type": "code",
   "execution_count": 46,
   "id": "7aa9277a",
   "metadata": {},
   "outputs": [
    {
     "data": {
      "text/html": [
       "<div>\n",
       "<style scoped>\n",
       "    .dataframe tbody tr th:only-of-type {\n",
       "        vertical-align: middle;\n",
       "    }\n",
       "\n",
       "    .dataframe tbody tr th {\n",
       "        vertical-align: top;\n",
       "    }\n",
       "\n",
       "    .dataframe thead th {\n",
       "        text-align: right;\n",
       "    }\n",
       "</style>\n",
       "<table border=\"1\" class=\"dataframe\">\n",
       "  <thead>\n",
       "    <tr style=\"text-align: right;\">\n",
       "      <th></th>\n",
       "      <th>fit_time</th>\n",
       "      <th>score_time</th>\n",
       "      <th>test_score</th>\n",
       "      <th>train_score</th>\n",
       "    </tr>\n",
       "  </thead>\n",
       "  <tbody>\n",
       "    <tr>\n",
       "      <th>0</th>\n",
       "      <td>0.022005</td>\n",
       "      <td>0.000</td>\n",
       "      <td>1.000000</td>\n",
       "      <td>0.976562</td>\n",
       "    </tr>\n",
       "    <tr>\n",
       "      <th>1</th>\n",
       "      <td>0.016004</td>\n",
       "      <td>0.000</td>\n",
       "      <td>0.954545</td>\n",
       "      <td>0.960938</td>\n",
       "    </tr>\n",
       "    <tr>\n",
       "      <th>2</th>\n",
       "      <td>0.014002</td>\n",
       "      <td>0.001</td>\n",
       "      <td>1.000000</td>\n",
       "      <td>0.968750</td>\n",
       "    </tr>\n",
       "    <tr>\n",
       "      <th>3</th>\n",
       "      <td>0.020004</td>\n",
       "      <td>0.000</td>\n",
       "      <td>0.952381</td>\n",
       "      <td>0.984496</td>\n",
       "    </tr>\n",
       "    <tr>\n",
       "      <th>4</th>\n",
       "      <td>0.014003</td>\n",
       "      <td>0.001</td>\n",
       "      <td>1.000000</td>\n",
       "      <td>0.968992</td>\n",
       "    </tr>\n",
       "    <tr>\n",
       "      <th>5</th>\n",
       "      <td>0.015004</td>\n",
       "      <td>0.000</td>\n",
       "      <td>0.952381</td>\n",
       "      <td>0.976744</td>\n",
       "    </tr>\n",
       "    <tr>\n",
       "      <th>6</th>\n",
       "      <td>0.016004</td>\n",
       "      <td>0.001</td>\n",
       "      <td>0.904762</td>\n",
       "      <td>0.976744</td>\n",
       "    </tr>\n",
       "  </tbody>\n",
       "</table>\n",
       "</div>"
      ],
      "text/plain": [
       "   fit_time  score_time  test_score  train_score\n",
       "0  0.022005       0.000    1.000000     0.976562\n",
       "1  0.016004       0.000    0.954545     0.960938\n",
       "2  0.014002       0.001    1.000000     0.968750\n",
       "3  0.020004       0.000    0.952381     0.984496\n",
       "4  0.014003       0.001    1.000000     0.968992\n",
       "5  0.015004       0.000    0.952381     0.976744\n",
       "6  0.016004       0.001    0.904762     0.976744"
      ]
     },
     "execution_count": 46,
     "metadata": {},
     "output_type": "execute_result"
    }
   ],
   "source": [
    "# KFold() - return_estimator=True (x)\n",
    "resultDF = pd.DataFrame(allResult)\n",
    "resultDF"
   ]
  },
  {
   "cell_type": "code",
   "execution_count": 48,
   "id": "721d0340",
   "metadata": {},
   "outputs": [
    {
     "data": {
      "text/html": [
       "<div>\n",
       "<style scoped>\n",
       "    .dataframe tbody tr th:only-of-type {\n",
       "        vertical-align: middle;\n",
       "    }\n",
       "\n",
       "    .dataframe tbody tr th {\n",
       "        vertical-align: top;\n",
       "    }\n",
       "\n",
       "    .dataframe thead th {\n",
       "        text-align: right;\n",
       "    }\n",
       "</style>\n",
       "<table border=\"1\" class=\"dataframe\">\n",
       "  <thead>\n",
       "    <tr style=\"text-align: right;\">\n",
       "      <th></th>\n",
       "      <th>fit_time</th>\n",
       "      <th>score_time</th>\n",
       "      <th>test_score</th>\n",
       "      <th>train_score</th>\n",
       "    </tr>\n",
       "  </thead>\n",
       "  <tbody>\n",
       "    <tr>\n",
       "      <th>0</th>\n",
       "      <td>0.016004</td>\n",
       "      <td>0.000</td>\n",
       "      <td>1.000000</td>\n",
       "      <td>0.976562</td>\n",
       "    </tr>\n",
       "    <tr>\n",
       "      <th>1</th>\n",
       "      <td>0.017004</td>\n",
       "      <td>0.000</td>\n",
       "      <td>0.954545</td>\n",
       "      <td>0.976562</td>\n",
       "    </tr>\n",
       "    <tr>\n",
       "      <th>2</th>\n",
       "      <td>0.015003</td>\n",
       "      <td>0.000</td>\n",
       "      <td>1.000000</td>\n",
       "      <td>0.968750</td>\n",
       "    </tr>\n",
       "    <tr>\n",
       "      <th>3</th>\n",
       "      <td>0.014003</td>\n",
       "      <td>0.001</td>\n",
       "      <td>0.952381</td>\n",
       "      <td>0.968992</td>\n",
       "    </tr>\n",
       "    <tr>\n",
       "      <th>4</th>\n",
       "      <td>0.016004</td>\n",
       "      <td>0.000</td>\n",
       "      <td>0.952381</td>\n",
       "      <td>0.984496</td>\n",
       "    </tr>\n",
       "    <tr>\n",
       "      <th>5</th>\n",
       "      <td>0.017004</td>\n",
       "      <td>0.000</td>\n",
       "      <td>0.952381</td>\n",
       "      <td>0.984496</td>\n",
       "    </tr>\n",
       "    <tr>\n",
       "      <th>6</th>\n",
       "      <td>0.020004</td>\n",
       "      <td>0.000</td>\n",
       "      <td>1.000000</td>\n",
       "      <td>0.968992</td>\n",
       "    </tr>\n",
       "  </tbody>\n",
       "</table>\n",
       "</div>"
      ],
      "text/plain": [
       "   fit_time  score_time  test_score  train_score\n",
       "0  0.016004       0.000    1.000000     0.976562\n",
       "1  0.017004       0.000    0.954545     0.976562\n",
       "2  0.015003       0.000    1.000000     0.968750\n",
       "3  0.014003       0.001    0.952381     0.968992\n",
       "4  0.016004       0.000    0.952381     0.984496\n",
       "5  0.017004       0.000    0.952381     0.984496\n",
       "6  0.020004       0.000    1.000000     0.968992"
      ]
     },
     "execution_count": 48,
     "metadata": {},
     "output_type": "execute_result"
    }
   ],
   "source": [
    "# StratifiedKFold() - return_estimator=True (x)\n",
    "resultDF = pd.DataFrame(allResult_1)\n",
    "resultDF"
   ]
  },
  {
   "cell_type": "code",
   "execution_count": 50,
   "id": "1daac6a2",
   "metadata": {},
   "outputs": [
    {
     "data": {
      "text/html": [
       "<div>\n",
       "<style scoped>\n",
       "    .dataframe tbody tr th:only-of-type {\n",
       "        vertical-align: middle;\n",
       "    }\n",
       "\n",
       "    .dataframe tbody tr th {\n",
       "        vertical-align: top;\n",
       "    }\n",
       "\n",
       "    .dataframe thead th {\n",
       "        text-align: right;\n",
       "    }\n",
       "</style>\n",
       "<table border=\"1\" class=\"dataframe\">\n",
       "  <thead>\n",
       "    <tr style=\"text-align: right;\">\n",
       "      <th></th>\n",
       "      <th>fit_time</th>\n",
       "      <th>score_time</th>\n",
       "      <th>estimator</th>\n",
       "      <th>test_score</th>\n",
       "      <th>train_score</th>\n",
       "    </tr>\n",
       "  </thead>\n",
       "  <tbody>\n",
       "    <tr>\n",
       "      <th>0</th>\n",
       "      <td>0.018005</td>\n",
       "      <td>0.001</td>\n",
       "      <td>LogisticRegression(max_iter=500)</td>\n",
       "      <td>1.000000</td>\n",
       "      <td>0.968750</td>\n",
       "    </tr>\n",
       "    <tr>\n",
       "      <th>1</th>\n",
       "      <td>0.015003</td>\n",
       "      <td>0.000</td>\n",
       "      <td>LogisticRegression(max_iter=500)</td>\n",
       "      <td>0.909091</td>\n",
       "      <td>1.000000</td>\n",
       "    </tr>\n",
       "    <tr>\n",
       "      <th>2</th>\n",
       "      <td>0.015003</td>\n",
       "      <td>0.000</td>\n",
       "      <td>LogisticRegression(max_iter=500)</td>\n",
       "      <td>0.909091</td>\n",
       "      <td>0.984375</td>\n",
       "    </tr>\n",
       "    <tr>\n",
       "      <th>3</th>\n",
       "      <td>0.013003</td>\n",
       "      <td>0.000</td>\n",
       "      <td>LogisticRegression(max_iter=500)</td>\n",
       "      <td>1.000000</td>\n",
       "      <td>0.968992</td>\n",
       "    </tr>\n",
       "    <tr>\n",
       "      <th>4</th>\n",
       "      <td>0.017004</td>\n",
       "      <td>0.000</td>\n",
       "      <td>LogisticRegression(max_iter=500)</td>\n",
       "      <td>0.952381</td>\n",
       "      <td>0.968992</td>\n",
       "    </tr>\n",
       "    <tr>\n",
       "      <th>5</th>\n",
       "      <td>0.017004</td>\n",
       "      <td>0.000</td>\n",
       "      <td>LogisticRegression(max_iter=500)</td>\n",
       "      <td>1.000000</td>\n",
       "      <td>0.976744</td>\n",
       "    </tr>\n",
       "    <tr>\n",
       "      <th>6</th>\n",
       "      <td>0.017004</td>\n",
       "      <td>0.000</td>\n",
       "      <td>LogisticRegression(max_iter=500)</td>\n",
       "      <td>1.000000</td>\n",
       "      <td>0.968992</td>\n",
       "    </tr>\n",
       "  </tbody>\n",
       "</table>\n",
       "</div>"
      ],
      "text/plain": [
       "   fit_time  score_time                         estimator  test_score  \\\n",
       "0  0.018005       0.001  LogisticRegression(max_iter=500)    1.000000   \n",
       "1  0.015003       0.000  LogisticRegression(max_iter=500)    0.909091   \n",
       "2  0.015003       0.000  LogisticRegression(max_iter=500)    0.909091   \n",
       "3  0.013003       0.000  LogisticRegression(max_iter=500)    1.000000   \n",
       "4  0.017004       0.000  LogisticRegression(max_iter=500)    0.952381   \n",
       "5  0.017004       0.000  LogisticRegression(max_iter=500)    1.000000   \n",
       "6  0.017004       0.000  LogisticRegression(max_iter=500)    1.000000   \n",
       "\n",
       "   train_score  \n",
       "0     0.968750  \n",
       "1     1.000000  \n",
       "2     0.984375  \n",
       "3     0.968992  \n",
       "4     0.968992  \n",
       "5     0.976744  \n",
       "6     0.968992  "
      ]
     },
     "execution_count": 50,
     "metadata": {},
     "output_type": "execute_result"
    }
   ],
   "source": [
    "# KFold() - return_estimator=True (o)\n",
    "resultDF = pd.DataFrame(allResult)\n",
    "resultDF"
   ]
  },
  {
   "cell_type": "code",
   "execution_count": 51,
   "id": "a939afd7",
   "metadata": {},
   "outputs": [
    {
     "data": {
      "text/html": [
       "<div>\n",
       "<style scoped>\n",
       "    .dataframe tbody tr th:only-of-type {\n",
       "        vertical-align: middle;\n",
       "    }\n",
       "\n",
       "    .dataframe tbody tr th {\n",
       "        vertical-align: top;\n",
       "    }\n",
       "\n",
       "    .dataframe thead th {\n",
       "        text-align: right;\n",
       "    }\n",
       "</style>\n",
       "<table border=\"1\" class=\"dataframe\">\n",
       "  <thead>\n",
       "    <tr style=\"text-align: right;\">\n",
       "      <th></th>\n",
       "      <th>fit_time</th>\n",
       "      <th>score_time</th>\n",
       "      <th>estimator</th>\n",
       "      <th>test_score</th>\n",
       "      <th>train_score</th>\n",
       "    </tr>\n",
       "  </thead>\n",
       "  <tbody>\n",
       "    <tr>\n",
       "      <th>0</th>\n",
       "      <td>0.017004</td>\n",
       "      <td>0.001</td>\n",
       "      <td>LogisticRegression(max_iter=500)</td>\n",
       "      <td>0.954545</td>\n",
       "      <td>0.984375</td>\n",
       "    </tr>\n",
       "    <tr>\n",
       "      <th>1</th>\n",
       "      <td>0.021004</td>\n",
       "      <td>0.000</td>\n",
       "      <td>LogisticRegression(max_iter=500)</td>\n",
       "      <td>1.000000</td>\n",
       "      <td>0.968750</td>\n",
       "    </tr>\n",
       "    <tr>\n",
       "      <th>2</th>\n",
       "      <td>0.015003</td>\n",
       "      <td>0.001</td>\n",
       "      <td>LogisticRegression(max_iter=500)</td>\n",
       "      <td>0.954545</td>\n",
       "      <td>0.992188</td>\n",
       "    </tr>\n",
       "    <tr>\n",
       "      <th>3</th>\n",
       "      <td>0.018004</td>\n",
       "      <td>0.001</td>\n",
       "      <td>LogisticRegression(max_iter=500)</td>\n",
       "      <td>0.857143</td>\n",
       "      <td>0.976744</td>\n",
       "    </tr>\n",
       "    <tr>\n",
       "      <th>4</th>\n",
       "      <td>0.019005</td>\n",
       "      <td>0.000</td>\n",
       "      <td>LogisticRegression(max_iter=500)</td>\n",
       "      <td>0.952381</td>\n",
       "      <td>0.984496</td>\n",
       "    </tr>\n",
       "    <tr>\n",
       "      <th>5</th>\n",
       "      <td>0.021004</td>\n",
       "      <td>0.000</td>\n",
       "      <td>LogisticRegression(max_iter=500)</td>\n",
       "      <td>1.000000</td>\n",
       "      <td>0.968992</td>\n",
       "    </tr>\n",
       "    <tr>\n",
       "      <th>6</th>\n",
       "      <td>0.016003</td>\n",
       "      <td>0.000</td>\n",
       "      <td>LogisticRegression(max_iter=500)</td>\n",
       "      <td>1.000000</td>\n",
       "      <td>0.968992</td>\n",
       "    </tr>\n",
       "  </tbody>\n",
       "</table>\n",
       "</div>"
      ],
      "text/plain": [
       "   fit_time  score_time                         estimator  test_score  \\\n",
       "0  0.017004       0.001  LogisticRegression(max_iter=500)    0.954545   \n",
       "1  0.021004       0.000  LogisticRegression(max_iter=500)    1.000000   \n",
       "2  0.015003       0.001  LogisticRegression(max_iter=500)    0.954545   \n",
       "3  0.018004       0.001  LogisticRegression(max_iter=500)    0.857143   \n",
       "4  0.019005       0.000  LogisticRegression(max_iter=500)    0.952381   \n",
       "5  0.021004       0.000  LogisticRegression(max_iter=500)    1.000000   \n",
       "6  0.016003       0.000  LogisticRegression(max_iter=500)    1.000000   \n",
       "\n",
       "   train_score  \n",
       "0     0.984375  \n",
       "1     0.968750  \n",
       "2     0.992188  \n",
       "3     0.976744  \n",
       "4     0.984496  \n",
       "5     0.968992  \n",
       "6     0.968992  "
      ]
     },
     "execution_count": 51,
     "metadata": {},
     "output_type": "execute_result"
    }
   ],
   "source": [
    "# StratifiedKFold() - return_estimator=True (o)\n",
    "resultDF = pd.DataFrame(allResult_1)\n",
    "resultDF"
   ]
  },
  {
   "cell_type": "code",
   "execution_count": null,
   "id": "b928aac7",
   "metadata": {},
   "outputs": [],
   "source": [
    "# [ 모델선정 -> 교차검증 ] 과정을 거쳐야"
   ]
  },
  {
   "cell_type": "code",
   "execution_count": null,
   "id": "9662c329",
   "metadata": {},
   "outputs": [],
   "source": []
  }
 ],
 "metadata": {
  "kernelspec": {
   "display_name": "Python 3 (ipykernel)",
   "language": "python",
   "name": "python3"
  },
  "language_info": {
   "codemirror_mode": {
    "name": "ipython",
    "version": 3
   },
   "file_extension": ".py",
   "mimetype": "text/x-python",
   "name": "python",
   "nbconvert_exporter": "python",
   "pygments_lexer": "ipython3",
   "version": "3.9.12"
  }
 },
 "nbformat": 4,
 "nbformat_minor": 5
}
