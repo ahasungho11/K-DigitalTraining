{
 "cells": [
  {
   "cell_type": "code",
   "execution_count": null,
   "id": "32b9a2f8",
   "metadata": {},
   "outputs": [],
   "source": [
    "# 튜닝\n",
    "# - 정확도를 올리고 싶을 때\n",
    "# - 하이퍼 파라미터 조절"
   ]
  },
  {
   "cell_type": "code",
   "execution_count": null,
   "id": "4d95cc9b",
   "metadata": {},
   "outputs": [],
   "source": [
    "# 정확도가 올라가면 따라오는 문제는 -> 과대적합\n",
    "# 목표 : 정확도를 올리면서 과대적합은 되지 않는 것\n",
    "# => 튜닝을 해야 하는데!!\n",
    "\n",
    "# 정확도를 높이려면?\n",
    "# KNN - K값 조절\n",
    "\n",
    "# - 회귀\n",
    "# - 분류\n",
    "\n",
    "# < 최적의 epoch를 찾는 것 > ------> SGD로 하는 것\n",
    "# 참고 - ex_sgd_fish\n",
    "\n",
    "# i) \n",
    "# partial-fit()를 통해서\n",
    "# 효율로 돌아서는 그때의 epoch를 파악해서 훈련 횟수를 정해야\n",
    "# => 최적의 epoch를 찾는 것\n",
    "\n",
    "# ii)\n",
    "# early-stopping / tol / 뭐시기 => 3개 써서 자동으로 멈추게 하는\n",
    "\n",
    "# cf) 과소적합 해결 => 피처, 데이터 수 늘려야\n"
   ]
  },
  {
   "cell_type": "code",
   "execution_count": null,
   "id": "6fb7bc20",
   "metadata": {},
   "outputs": [],
   "source": [
    "# 많은 파라미터중에 왜 몇 가지만 하이퍼 파라미터인가"
   ]
  },
  {
   "cell_type": "code",
   "execution_count": null,
   "id": "0c4890b6",
   "metadata": {},
   "outputs": [],
   "source": [
    "# 선형회귀에 규제가 나왔지 (표준화or정규화 후에 행해야 함)\n",
    "\n",
    "# 과대적합의 원인\n",
    "# - 피처의 수가 많아\n",
    "# - 피처들이 유사해\n",
    "\n",
    "# i) 특성 공학으로 피처 조절\n",
    "# ii) 가중치 조절 -> 릿지 or 라쏘 or 엘라스틱(릿지+라쏘)\n",
    "# iii) \n",
    "\n",
    "# i)로도 오버피팅 해결이 안되면\n",
    "# - 가중치 조절 -> 회귀계수 '규제' -> 가중치(w)값을 조절해서 차원 축소 효과\n"
   ]
  }
 ],
 "metadata": {
  "kernelspec": {
   "display_name": "Python 3 (ipykernel)",
   "language": "python",
   "name": "python3"
  },
  "language_info": {
   "codemirror_mode": {
    "name": "ipython",
    "version": 3
   },
   "file_extension": ".py",
   "mimetype": "text/x-python",
   "name": "python",
   "nbconvert_exporter": "python",
   "pygments_lexer": "ipython3",
   "version": "3.9.12"
  }
 },
 "nbformat": 4,
 "nbformat_minor": 5
}
