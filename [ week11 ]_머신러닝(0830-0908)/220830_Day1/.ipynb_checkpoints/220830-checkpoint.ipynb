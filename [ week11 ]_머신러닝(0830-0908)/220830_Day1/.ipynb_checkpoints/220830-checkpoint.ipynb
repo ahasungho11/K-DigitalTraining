{
 "cells": [
  {
   "cell_type": "code",
   "execution_count": 164,
   "id": "9d88242d",
   "metadata": {},
   "outputs": [],
   "source": [
    "# 220830\n",
    "# 오전1)\n",
    "# 머신러닝 : 자동으로 데이터에서 규칙을 학습하는 알고리즘 연구 => 데이터 중심 학습 및 예측 ( 서킷러닝 )\n",
    "# 딥러닝 : 인공 신경망 학습 알고리즘 ( 텐서플로, 파이토치 )\n",
    "\n",
    "# - [ 만들고, 오류나면 그걸 고치기 위해서 또 만들고 ] 의 반복"
   ]
  },
  {
   "cell_type": "code",
   "execution_count": 165,
   "id": "809cf0fb",
   "metadata": {},
   "outputs": [],
   "source": [
    "# 도미 데이터\n",
    "\n",
    "bream_length = [25.4, 26.3, 26.5, 29.0, 29.0, 29.7, 29.7, 30.0, 30.0, 30.7, 31.0,\n",
    "31.0, 31.5, 32.0, 32.0, 32.0, 33.0, 33.0, 33.5, 33.5, 34.0, 34.0,\n",
    "34.5, 35.0, 35.0, 35.0, 35.0, 36.0, 36.0, 37.0, 38.5, 38.5, 39.5,\n",
    "41.0, 41.0]\n",
    "\n",
    "bream_weight = [242.0, 290.0, 340.0, 363.0, 430.0, 450.0, 500.0, 390.0, 450.0, 500.0,\n",
    "475.0, 500.0, 500.0, 340.0, 600.0, 600.0, 700.0, 700.0, 610.0, 650.0,\n",
    "575.0, 685.0, 620.0, 680.0, 700.0, 725.0, 720.0, 714.0, 850.0, 1000.0,\n",
    "920.0, 955.0, 925.0, 975.0, 950.0]"
   ]
  },
  {
   "cell_type": "code",
   "execution_count": 166,
   "id": "5971f80c",
   "metadata": {},
   "outputs": [
    {
     "data": {
      "image/png": "[encoded data removed]",
      "text/plain": [
       "<Figure size 432x288 with 1 Axes>"
      ]
     },
     "metadata": {
      "needs_background": "light"
     },
     "output_type": "display_data"
    }
   ],
   "source": [
    "import matplotlib.pyplot as plt\n",
    "\n",
    "# 산점도 그리기\n",
    "plt.scatter(bream_length, bream_weight)\n",
    "\n",
    "plt.xlabel('bream length') # x축은 길이\n",
    "plt.ylabel('bream weight') # y축은 무게\n",
    "\n",
    "plt.show()"
   ]
  },
  {
   "cell_type": "code",
   "execution_count": 167,
   "id": "40613b9c",
   "metadata": {},
   "outputs": [],
   "source": [
    "# 빙어 데이터\n",
    "\n",
    "smelt_length = [9.8, 10.5, 10.6, 11.0, 11.2, 11.3, 11.8, 11.8, 12.0, 12.2,\n",
    "12.4, 13.0, 14.3, 15.0]\n",
    "\n",
    "smelt_weight = [6.7, 7.5, 7.0, 9.7, 9.8, 8.7, 10.0, 9.9, 9.8, 12.2, 13.4,\n",
    "12.2, 19.7, 19.9]"
   ]
  },
  {
   "cell_type": "code",
   "execution_count": 168,
   "id": "39e28f81",
   "metadata": {},
   "outputs": [
    {
     "data": {
      "image/png": "[encoded data removed]",
      "text/plain": [
       "<Figure size 432x288 with 1 Axes>"
      ]
     },
     "metadata": {
      "needs_background": "light"
     },
     "output_type": "display_data"
    }
   ],
   "source": [
    "plt.scatter(bream_length, bream_weight, label='bream')\n",
    "plt.scatter(smelt_length, smelt_weight, label='smelt')\n",
    "\n",
    "plt.xlabel('length')\n",
    "plt.ylabel('weight')\n",
    "\n",
    "plt.legend()\n",
    "plt.show()"
   ]
  },
  {
   "cell_type": "code",
   "execution_count": 169,
   "id": "6f694e03",
   "metadata": {},
   "outputs": [],
   "source": [
    "# 2개의 리스트 생성 ( cf) 넘파이랑은 다름 )\n",
    "length = bream_length + smelt_length\n",
    "weight = bream_weight + smelt_weight"
   ]
  },
  {
   "cell_type": "code",
   "execution_count": 170,
   "id": "25ec9900",
   "metadata": {},
   "outputs": [],
   "source": [
    "# zip -> 묶어서 담은 다음, 풀어서 같은 것끼리 담아두게 되는 원리\n",
    "# column stack(s)로 뒤에가면 바로 붙여서 씀"
   ]
  },
  {
   "cell_type": "code",
   "execution_count": 171,
   "id": "d6d1371f",
   "metadata": {},
   "outputs": [
    {
     "name": "stdout",
     "output_type": "stream",
     "text": [
      "[[25.4, 242.0], [26.3, 290.0], [26.5, 340.0], [29.0, 363.0], [29.0, 430.0], [29.7, 450.0], [29.7, 500.0], [30.0, 390.0], [30.0, 450.0], [30.7, 500.0], [31.0, 475.0], [31.0, 500.0], [31.5, 500.0], [32.0, 340.0], [32.0, 600.0], [32.0, 600.0], [33.0, 700.0], [33.0, 700.0], [33.5, 610.0], [33.5, 650.0], [34.0, 575.0], [34.0, 685.0], [34.5, 620.0], [35.0, 680.0], [35.0, 700.0], [35.0, 725.0], [35.0, 720.0], [36.0, 714.0], [36.0, 850.0], [37.0, 1000.0], [38.5, 920.0], [38.5, 955.0], [39.5, 925.0], [41.0, 975.0], [41.0, 950.0], [9.8, 6.7], [10.5, 7.5], [10.6, 7.0], [11.0, 9.7], [11.2, 9.8], [11.3, 8.7], [11.8, 10.0], [11.8, 9.9], [12.0, 9.8], [12.2, 12.2], [12.4, 13.4], [13.0, 12.2], [14.3, 19.7], [15.0, 19.9]]\n"
     ]
    }
   ],
   "source": [
    "# 범주 기준의 변화!!\n",
    "# 길이&무게 -> 도미&빙어\n",
    "\n",
    "fish_data = [[l,w] for l, w in  zip(length, weight)]\n",
    "print(fish_data)"
   ]
  },
  {
   "cell_type": "code",
   "execution_count": 172,
   "id": "3460095c",
   "metadata": {},
   "outputs": [
    {
     "name": "stdout",
     "output_type": "stream",
     "text": [
      "[1, 1, 1, 1, 1, 1, 1, 1, 1, 1, 1, 1, 1, 1, 1, 1, 1, 1, 1, 1, 1, 1, 1, 1, 1, 1, 1, 1, 1, 1, 1, 1, 1, 1, 1, 0, 0, 0, 0, 0, 0, 0, 0, 0, 0, 0, 0, 0, 0]\n"
     ]
    }
   ],
   "source": [
    "# 흔히 정답을 타겟(target)이라고 표현함\n",
    "# 0(빙어), 1(도미)\n",
    "\n",
    "fish_target = [1] * 35 + [0] * 14\n",
    "print(fish_target)"
   ]
  },
  {
   "cell_type": "markdown",
   "id": "2dad300a",
   "metadata": {},
   "source": [
    "### k최근접 알고리즘 [ kNN(k는 개수를 의미함) ] => 5개(디폴트)"
   ]
  },
  {
   "cell_type": "markdown",
   "id": "a8367658",
   "metadata": {},
   "source": [
    "## 1) kNN 모델 생성"
   ]
  },
  {
   "cell_type": "code",
   "execution_count": 173,
   "id": "33b238c4",
   "metadata": {},
   "outputs": [],
   "source": [
    "# - 객체 생성\n",
    "# - 기본 이웃의 개수 : n_neighbors = 5\n",
    "\n",
    "from sklearn.neighbors import KNeighborsClassifier\n",
    "kn = KNeighborsClassifier()"
   ]
  },
  {
   "cell_type": "markdown",
   "id": "a6166b53",
   "metadata": {},
   "source": [
    "## 2) 모델 훈련(학습) : fit()함수"
   ]
  },
  {
   "cell_type": "code",
   "execution_count": 174,
   "id": "ff07f890",
   "metadata": {},
   "outputs": [
    {
     "data": {
      "text/plain": [
       "KNeighborsClassifier()"
      ]
     },
     "execution_count": 174,
     "metadata": {},
     "output_type": "execute_result"
    }
   ],
   "source": [
    "# fit(훈련 데이터, 정답 데이터)\n",
    "\n",
    "kn.fit(fish_data, fish_target)"
   ]
  },
  {
   "cell_type": "markdown",
   "id": "8c99ccc4",
   "metadata": {},
   "source": [
    "## 3) 모델 평가 : score() 함수"
   ]
  },
  {
   "cell_type": "code",
   "execution_count": 175,
   "id": "6d393aca",
   "metadata": {},
   "outputs": [
    {
     "data": {
      "text/plain": [
       "1.0"
      ]
     },
     "execution_count": 175,
     "metadata": {},
     "output_type": "execute_result"
    }
   ],
   "source": [
    "# score(테스트 샘플, 정답 데이터)\n",
    "\n",
    "kn.score(fish_data, fish_target)"
   ]
  },
  {
   "cell_type": "markdown",
   "id": "ee114020",
   "metadata": {},
   "source": [
    "## 4) 새로운 데이터를 활용한 결과 예측 : predict(x)"
   ]
  },
  {
   "cell_type": "code",
   "execution_count": 176,
   "id": "3e349972",
   "metadata": {},
   "outputs": [
    {
     "data": {
      "text/plain": [
       "array([1])"
      ]
     },
     "execution_count": 176,
     "metadata": {},
     "output_type": "execute_result"
    }
   ],
   "source": [
    "# x는 새로운 데이터\n",
    "\n",
    "kn.predict([[30, 600]])\n",
    "# class label 리턴 (0,1)"
   ]
  },
  {
   "cell_type": "code",
   "execution_count": null,
   "id": "bb640651",
   "metadata": {},
   "outputs": [],
   "source": []
  },
  {
   "cell_type": "code",
   "execution_count": 177,
   "id": "c43b8b37",
   "metadata": {},
   "outputs": [
    {
     "name": "stdout",
     "output_type": "stream",
     "text": [
      "score:  1.0\n",
      "predict:  [1]\n"
     ]
    },
    {
     "data": {
      "image/png": "[encoded data removed]",
      "text/plain": [
       "<Figure size 432x288 with 1 Axes>"
      ]
     },
     "metadata": {
      "needs_background": "light"
     },
     "output_type": "display_data"
    }
   ],
   "source": [
    "import platform\n",
    "from sklearn.neighbors import KNeighborsClassifier\n",
    "\n",
    "kn = KNeighborsClassifier() # 모델 생성\n",
    "kn.fit(fish_data, fish_target) # 모델 훈련\n",
    "\n",
    "print(\"score: \", kn.score(fish_data, fish_target)) # 모델 평가\n",
    "print(\"predict: \", kn.predict([[30, 600]])) # 정답 예측, 리턴값: class label(분류값: 0, 1)\n",
    "\n",
    "if platform.system() == 'Windows':\n",
    "    plt.rc('font', family='Malgun Gothic')\n",
    "elif platform.system() == 'Darwin': # MacOS\n",
    "    plt.rc('font', family='AppleGothic')\n",
    "else:\n",
    "    plt.rc('font', family='Malgun Gothic')\n",
    "\n",
    "plt.scatter(bream_length, bream_weight, label='bream(도미)')\n",
    "plt.scatter(smelt_length, smelt_weight, label='smelt(빙어)')\n",
    "plt.scatter(30, 600, marker='^', color='red')\n",
    "\n",
    "plt.xlabel('length')\n",
    "plt.ylabel('weight')\n",
    "\n",
    "plt.legend()\n",
    "plt.show()"
   ]
  },
  {
   "cell_type": "code",
   "execution_count": 178,
   "id": "9bead674",
   "metadata": {
    "scrolled": true
   },
   "outputs": [
    {
     "name": "stdout",
     "output_type": "stream",
     "text": [
      "[[  25.4  242. ]\n",
      " [  26.3  290. ]\n",
      " [  26.5  340. ]\n",
      " [  29.   363. ]\n",
      " [  29.   430. ]\n",
      " [  29.7  450. ]\n",
      " [  29.7  500. ]\n",
      " [  30.   390. ]\n",
      " [  30.   450. ]\n",
      " [  30.7  500. ]\n",
      " [  31.   475. ]\n",
      " [  31.   500. ]\n",
      " [  31.5  500. ]\n",
      " [  32.   340. ]\n",
      " [  32.   600. ]\n",
      " [  32.   600. ]\n",
      " [  33.   700. ]\n",
      " [  33.   700. ]\n",
      " [  33.5  610. ]\n",
      " [  33.5  650. ]\n",
      " [  34.   575. ]\n",
      " [  34.   685. ]\n",
      " [  34.5  620. ]\n",
      " [  35.   680. ]\n",
      " [  35.   700. ]\n",
      " [  35.   725. ]\n",
      " [  35.   720. ]\n",
      " [  36.   714. ]\n",
      " [  36.   850. ]\n",
      " [  37.  1000. ]\n",
      " [  38.5  920. ]\n",
      " [  38.5  955. ]\n",
      " [  39.5  925. ]\n",
      " [  41.   975. ]\n",
      " [  41.   950. ]\n",
      " [   9.8    6.7]\n",
      " [  10.5    7.5]\n",
      " [  10.6    7. ]\n",
      " [  11.     9.7]\n",
      " [  11.2    9.8]\n",
      " [  11.3    8.7]\n",
      " [  11.8   10. ]\n",
      " [  11.8    9.9]\n",
      " [  12.     9.8]\n",
      " [  12.2   12.2]\n",
      " [  12.4   13.4]\n",
      " [  13.    12.2]\n",
      " [  14.3   19.7]\n",
      " [  15.    19.9]]\n"
     ]
    }
   ],
   "source": [
    "# fit_X 속성 : 훈련 데이터를 모두 가짐(fish_data)\n",
    "print(kn._fit_X)"
   ]
  },
  {
   "cell_type": "code",
   "execution_count": 179,
   "id": "3668e53c",
   "metadata": {},
   "outputs": [
    {
     "name": "stdout",
     "output_type": "stream",
     "text": [
      "[1 1 1 1 1 1 1 1 1 1 1 1 1 1 1 1 1 1 1 1 1 1 1 1 1 1 1 1 1 1 1 1 1 1 1 0 0\n",
      " 0 0 0 0 0 0 0 0 0 0 0 0]\n"
     ]
    }
   ],
   "source": [
    "# _y 속성 : fish_target을 가짐\n",
    "print(kn._y)"
   ]
  },
  {
   "cell_type": "code",
   "execution_count": 180,
   "id": "64bdc074",
   "metadata": {},
   "outputs": [
    {
     "data": {
      "text/plain": [
       "0.7142857142857143"
      ]
     },
     "execution_count": 180,
     "metadata": {},
     "output_type": "execute_result"
    }
   ],
   "source": [
    "kn49 = KNeighborsClassifier(n_neighbors=49)\n",
    "# kn49 = KNeighborsClassifier(49) 파라미터명 안적어도 똑같이 나옴\n",
    "\n",
    "kn49.fit(fish_data, fish_target)\n",
    "kn49.score(fish_data, fish_target)"
   ]
  },
  {
   "cell_type": "code",
   "execution_count": 181,
   "id": "8fbd1c23",
   "metadata": {},
   "outputs": [
    {
     "name": "stdout",
     "output_type": "stream",
     "text": [
      "0.7142857142857143\n"
     ]
    }
   ],
   "source": [
    "# 위의 결과와 동일\n",
    "print(35/49)"
   ]
  },
  {
   "cell_type": "code",
   "execution_count": 182,
   "id": "c470ef67",
   "metadata": {},
   "outputs": [],
   "source": [
    "# 넘파이나 판다스는 별도로 다시 봐줘야 함\n",
    "# - 특히 인덱스 처리를 한다거나 하는 게 多"
   ]
  },
  {
   "cell_type": "code",
   "execution_count": null,
   "id": "0fa75b7f",
   "metadata": {},
   "outputs": [],
   "source": []
  },
  {
   "cell_type": "code",
   "execution_count": 183,
   "id": "b16e3b3c",
   "metadata": {},
   "outputs": [],
   "source": [
    "# Ch2\n",
    "# 총 49마리 = 도미 35마리, 빙어 14마리\n",
    "# 각각의 길이(l)와 무게(w)가 있겠지"
   ]
  },
  {
   "cell_type": "code",
   "execution_count": 184,
   "id": "ddf415bb",
   "metadata": {},
   "outputs": [],
   "source": [
    "fish_length = [25.4, 26.3, 26.5, 29.0, 29.0, 29.7, 29.7, 30.0, 30.0, \n",
    "              30.7, 31.0, 31.0, 31.5, 32.0, 32.0, 32.0, 33.0, 33.0, \n",
    "              33.5, 33.5, 34.0, 34.0, 34.5, 35.0, 35.0, 35.0, 35.0,\n",
    "              36.0, 36.0, 37.0, 38.5, 38.5, 39.5, 41.0, 41.0, 9.8,  \n",
    "              10.5, 10.6, 11.0, 11.2, 11.3, 11.8, 11.8, 12.0, 12.2, \n",
    "              12.4, 13.0, 14.3, 15.0]\n",
    "fish_weight = [242.0, 290.0, 340.0, 363.0, 430.0, 450.0, 500.0, 390.0, \n",
    "               450.0, 500.0, 475.0, 500.0, 500.0, 340.0, 600.0, 600.0, \n",
    "               700.0, 700.0, 610.0, 650.0, 575.0, 685.0, 620.0, 680.0, \n",
    "               700.0, 725.0, 720.0, 714.0, 850.0, 1000.0, 920.0, 955.0, \n",
    "               925.0, 975.0, 950.0, 6.7,  7.5, 7.0, 9.7, 9.8, 8.7, \n",
    "               10.0, 9.9, 9.8, 12.2, 13.4, 12.2, 19.7, 19.9]"
   ]
  },
  {
   "cell_type": "code",
   "execution_count": 185,
   "id": "d1fe7905",
   "metadata": {},
   "outputs": [],
   "source": [
    "# 2차원 리스트[길이, 무게]\n",
    "fish_data = [[l,w] for l, w in zip(fish_length, fish_weight)]\n",
    "\n",
    "# target값 생성\n",
    "fish_target = [1] * 35 + [0] * 14"
   ]
  },
  {
   "cell_type": "code",
   "execution_count": null,
   "id": "d50e2d5d",
   "metadata": {},
   "outputs": [],
   "source": []
  },
  {
   "cell_type": "code",
   "execution_count": 186,
   "id": "91caa8b3",
   "metadata": {},
   "outputs": [],
   "source": [
    "# 아래처럼 하면 훈련 세트는 도미끼리, 테스트 세트는 빙어끼리 딱 모아만 놓은 셈\n",
    "\n",
    "# - 정확도가 0이 되는 것\n",
    "\n",
    "# 훈련 세트 생성(35개)\n",
    "train_input = fish_data[:35]\n",
    "train_target = fish_target[:35]\n",
    "\n",
    "# 테스트 세트 생성(14개)\n",
    "test_input = fish_data[35:]\n",
    "test_target = fish_target[35:]"
   ]
  },
  {
   "cell_type": "code",
   "execution_count": 187,
   "id": "7dde7d66",
   "metadata": {},
   "outputs": [
    {
     "data": {
      "text/plain": [
       "0.0"
      ]
     },
     "execution_count": 187,
     "metadata": {},
     "output_type": "execute_result"
    }
   ],
   "source": [
    "from sklearn.neighbors import KNeighborsClassifier\n",
    "\n",
    "kn = KNeighborsClassifier() # 객체 생성\n",
    "kn = kn.fit(train_input, train_target) # 모델 훈련\n",
    "kn.score(test_input, test_target) # 테스트 세트로 평가 (정확도 출력)"
   ]
  },
  {
   "cell_type": "markdown",
   "id": "1b05b9c2",
   "metadata": {},
   "source": [
    "## 해결하기 위해 => 기존 fish_data와 fish_target를 Numpy 배열로 변경"
   ]
  },
  {
   "cell_type": "code",
   "execution_count": 188,
   "id": "b6f005cd",
   "metadata": {},
   "outputs": [],
   "source": [
    "# numpy => 고정된 크기, 동일한 자료형, 연속된 메모리\n",
    "# 대부분 같은 유형의 데이터, 빠르기 떄문에 쓰게 됨\n",
    "\n",
    "# 파이썬의 list를 numpy의 array로 변경\n",
    "# -> Numpy.array(list)"
   ]
  },
  {
   "cell_type": "code",
   "execution_count": 189,
   "id": "61387378",
   "metadata": {},
   "outputs": [
    {
     "name": "stdout",
     "output_type": "stream",
     "text": [
      "[[  25.4  242. ]\n",
      " [  26.3  290. ]\n",
      " [  26.5  340. ]\n",
      " [  29.   363. ]\n",
      " [  29.   430. ]\n",
      " [  29.7  450. ]\n",
      " [  29.7  500. ]\n",
      " [  30.   390. ]\n",
      " [  30.   450. ]\n",
      " [  30.7  500. ]\n",
      " [  31.   475. ]\n",
      " [  31.   500. ]\n",
      " [  31.5  500. ]\n",
      " [  32.   340. ]\n",
      " [  32.   600. ]\n",
      " [  32.   600. ]\n",
      " [  33.   700. ]\n",
      " [  33.   700. ]\n",
      " [  33.5  610. ]\n",
      " [  33.5  650. ]\n",
      " [  34.   575. ]\n",
      " [  34.   685. ]\n",
      " [  34.5  620. ]\n",
      " [  35.   680. ]\n",
      " [  35.   700. ]\n",
      " [  35.   725. ]\n",
      " [  35.   720. ]\n",
      " [  36.   714. ]\n",
      " [  36.   850. ]\n",
      " [  37.  1000. ]\n",
      " [  38.5  920. ]\n",
      " [  38.5  955. ]\n",
      " [  39.5  925. ]\n",
      " [  41.   975. ]\n",
      " [  41.   950. ]\n",
      " [   9.8    6.7]\n",
      " [  10.5    7.5]\n",
      " [  10.6    7. ]\n",
      " [  11.     9.7]\n",
      " [  11.2    9.8]\n",
      " [  11.3    8.7]\n",
      " [  11.8   10. ]\n",
      " [  11.8    9.9]\n",
      " [  12.     9.8]\n",
      " [  12.2   12.2]\n",
      " [  12.4   13.4]\n",
      " [  13.    12.2]\n",
      " [  14.3   19.7]\n",
      " [  15.    19.9]]\n",
      "(49, 2)\n"
     ]
    }
   ],
   "source": [
    "import numpy as np\n",
    "\n",
    "input_arr = np.array(fish_data)\n",
    "target_arr = np.array(fish_target)\n",
    "print(input_arr)\n",
    "print(input_arr.shape) # shape: 배열의 크기 리턴"
   ]
  },
  {
   "cell_type": "code",
   "execution_count": 190,
   "id": "48ba17c7",
   "metadata": {},
   "outputs": [],
   "source": [
    "# 현재 데이터를 골고루 섞기 위한 작업중인 것임"
   ]
  },
  {
   "cell_type": "code",
   "execution_count": 191,
   "id": "c3a96911",
   "metadata": {},
   "outputs": [],
   "source": [
    "# seed에 42를 주로 쓰는 것은 아무 의미 없음. 그냥 42를 많이 씀\n",
    "# arange : arry range\n"
   ]
  },
  {
   "cell_type": "code",
   "execution_count": 192,
   "id": "7d5e5498",
   "metadata": {},
   "outputs": [
    {
     "name": "stdout",
     "output_type": "stream",
     "text": [
      "[ 0  1  2  3  4  5  6  7  8  9 10 11 12 13 14 15 16 17 18 19 20 21 22 23\n",
      " 24 25 26 27 28 29 30 31 32 33 34 35 36 37 38 39 40 41 42 43 44 45 46 47\n",
      " 48]\n"
     ]
    }
   ],
   "source": [
    "import numpy as np\n",
    "np.random.seed(42)\n",
    "index_list = np.arange(49) # 0~48까지 값을 가지는 배열 생성\n",
    "print(index_list)"
   ]
  },
  {
   "cell_type": "code",
   "execution_count": 193,
   "id": "a8ff216b",
   "metadata": {},
   "outputs": [
    {
     "name": "stdout",
     "output_type": "stream",
     "text": [
      "[13 45 47 44 17 27 26 25 31 19 12  4 34  8  3  6 40 41 46 15  9 16 24 33\n",
      " 30  0 43 32  5 29 11 36  1 21  2 37 35 23 39 10 22 18 48 20  7 42 14 28\n",
      " 38]\n"
     ]
    }
   ],
   "source": [
    "np.random.shuffle(index_list) # 배열 내용을 무작위로 섞음 (for 인덱스로 사용하기 위해서)\n",
    "print(index_list)"
   ]
  },
  {
   "cell_type": "code",
   "execution_count": 194,
   "id": "4b61fc34",
   "metadata": {},
   "outputs": [],
   "source": [
    "# 도미와 빙어가 섞인 총 4개의 배열을 생성"
   ]
  },
  {
   "cell_type": "code",
   "execution_count": 195,
   "id": "7e012026",
   "metadata": {},
   "outputs": [],
   "source": [
    "# 훈련 세트 생성\n",
    "train_input = input_arr[index_list[:35]]\n",
    "train_target = target_arr[index_list[:35]]\n",
    "\n",
    "# 테스트 세트 생성\n",
    "test_input = input_arr[index_list[35:]]\n",
    "test_target = target_arr[index_list[35:]]"
   ]
  },
  {
   "cell_type": "code",
   "execution_count": 196,
   "id": "958c9e6d",
   "metadata": {},
   "outputs": [],
   "source": [
    "# 오전 3"
   ]
  },
  {
   "cell_type": "code",
   "execution_count": 197,
   "id": "a66ca96d",
   "metadata": {},
   "outputs": [
    {
     "data": {
      "image/png": "[encoded data removed]",
      "text/plain": [
       "<Figure size 432x288 with 1 Axes>"
      ]
     },
     "metadata": {
      "needs_background": "light"
     },
     "output_type": "display_data"
    }
   ],
   "source": [
    "import matplotlib.pyplot as plt\n",
    "# [:, 0] -> 모든 행에서 0번째 length, [:, 1] -> 모든 행에서 1번째 weight\n",
    "\n",
    "plt.scatter(train_input[:, 0], train_input[:, 1], label='train set')\n",
    "plt.scatter(test_input[:, 0], test_input[:, 1], label='test set')\n",
    "\n",
    "plt.xlabel('length')\n",
    "plt.ylabel('weight')\n",
    "\n",
    "plt.legend()\n",
    "plt.show()"
   ]
  },
  {
   "cell_type": "code",
   "execution_count": 198,
   "id": "dfb546b3",
   "metadata": {},
   "outputs": [],
   "source": [
    "# 도미와 빙어끼리 모여 있지 않고, 잘 섞여 있는 것을 확인할 수 있음"
   ]
  },
  {
   "cell_type": "code",
   "execution_count": null,
   "id": "bec58a0d",
   "metadata": {},
   "outputs": [],
   "source": []
  },
  {
   "cell_type": "code",
   "execution_count": 199,
   "id": "e6d241f7",
   "metadata": {
    "scrolled": true
   },
   "outputs": [
    {
     "name": "stdout",
     "output_type": "stream",
     "text": [
      "score:  1.0\n",
      "predict     :  [0 0 1 0 1 1 1 0 1 1 0 1 1 0]\n",
      "teset_target:  [0 0 1 0 1 1 1 0 1 1 0 1 1 0]\n"
     ]
    }
   ],
   "source": [
    "kn = kn.fit(train_input, train_target)\n",
    "print('score: ', kn.score(test_input, test_target))\n",
    "\n",
    "# test의 결과가 정답인 target와 같은지 비교하기 위해\n",
    "print('predict     : ', kn.predict(test_input))\n",
    "print('teset_target: ', test_target)"
   ]
  },
  {
   "cell_type": "code",
   "execution_count": 200,
   "id": "f2badc26",
   "metadata": {},
   "outputs": [
    {
     "name": "stdout",
     "output_type": "stream",
     "text": [
      "predict(길이 25com, 무게 150g): [0]\n"
     ]
    }
   ],
   "source": [
    "print('predict(길이 25com, 무게 150g):', kn.predict([[25, 150.0]]))  # 2차원 표시하는 것\n",
    "# !!? 도미(1)여야 하는데, 빙어(0)가 나오넹!?\n",
    "# - 왜일까?! !! => 해결해야 함!!"
   ]
  },
  {
   "cell_type": "code",
   "execution_count": 201,
   "id": "3d14260d",
   "metadata": {},
   "outputs": [],
   "source": [
    "# 오후 1)"
   ]
  },
  {
   "cell_type": "code",
   "execution_count": 202,
   "id": "3cb2a0c5",
   "metadata": {},
   "outputs": [],
   "source": [
    "# 배열 붙이기 : column_stack()\n",
    "# 같은 결과가 나오겠징\n",
    "# [1] * 35 <=>  np.ones(35)"
   ]
  },
  {
   "cell_type": "code",
   "execution_count": 235,
   "id": "319cffb0",
   "metadata": {},
   "outputs": [
    {
     "name": "stdout",
     "output_type": "stream",
     "text": [
      "[[ 25.4 242. ]\n",
      " [ 26.3 290. ]\n",
      " [ 26.5 340. ]\n",
      " [ 29.  363. ]\n",
      " [ 29.  430. ]] <class 'numpy.ndarray'>\n"
     ]
    }
   ],
   "source": [
    "# column_stack((list1, list2)): 튜플 형태로 전달\n",
    "fish_data = np.column_stack((fish_length, fish_weight))\n",
    "print(fish_data[:5], type(fish_data))"
   ]
  },
  {
   "cell_type": "code",
   "execution_count": 204,
   "id": "1cebf4ff",
   "metadata": {},
   "outputs": [
    {
     "name": "stdout",
     "output_type": "stream",
     "text": [
      "[1. 1. 1. 1. 1. 1. 1. 1. 1. 1. 1. 1. 1. 1. 1. 1. 1. 1. 1. 1. 1. 1. 1. 1.\n",
      " 1. 1. 1. 1. 1. 1. 1. 1. 1. 1. 1. 0. 0. 0. 0. 0. 0. 0. 0. 0. 0. 0. 0. 0.\n",
      " 0.]\n"
     ]
    }
   ],
   "source": [
    "fish_target = np.concatenate((np.ones(35), np.zeros(14)))\n",
    "print(fish_target)"
   ]
  },
  {
   "cell_type": "code",
   "execution_count": 205,
   "id": "e3a3422d",
   "metadata": {},
   "outputs": [
    {
     "name": "stdout",
     "output_type": "stream",
     "text": [
      "train_input.shape: (36, 2) test_input.shape (13, 2)\n"
     ]
    }
   ],
   "source": [
    "# 사이킷런으로 훈련 세트와 테스트 세트 나누기 #1\n",
    "# -> 4개의 데이터 셋(테스트/훈련(2) x 입력/정답(2))을 리턴\n",
    "# 비율을 나눠서 알아서 테스트셋과 훈련셋으로 나누어 줌\n",
    "\n",
    "from sklearn.model_selection import train_test_split\n",
    "train_input, test_input, train_target, test_target = train_test_split(\n",
    "fish_data, fish_target, stratify=fish_target, random_state=42)\n",
    "\n",
    "print('train_input.shape:', train_input.shape,\n",
    "'test_input.shape', test_input.shape)"
   ]
  },
  {
   "cell_type": "code",
   "execution_count": 206,
   "id": "921660fd",
   "metadata": {},
   "outputs": [
    {
     "name": "stdout",
     "output_type": "stream",
     "text": [
      "(36,) (13,)\n"
     ]
    }
   ],
   "source": [
    "print(train_target.shape, test_target.shape)"
   ]
  },
  {
   "cell_type": "code",
   "execution_count": 207,
   "id": "63e25b7c",
   "metadata": {},
   "outputs": [
    {
     "name": "stdout",
     "output_type": "stream",
     "text": [
      "train_target: [1. 0. 1. 0. 1. 1. 1. 1. 1. 1. 1. 0. 1. 0. 1. 1. 1. 1. 1. 0. 1. 1. 0. 1.\n",
      " 0. 1. 0. 1. 1. 1. 0. 1. 1. 0. 1. 1.]\n"
     ]
    }
   ],
   "source": [
    "print('train_target:', train_target)"
   ]
  },
  {
   "cell_type": "code",
   "execution_count": 208,
   "id": "ced92856",
   "metadata": {},
   "outputs": [
    {
     "name": "stdout",
     "output_type": "stream",
     "text": [
      "test_target: [0. 0. 1. 0. 1. 0. 1. 1. 1. 1. 1. 1. 1.]\n"
     ]
    }
   ],
   "source": [
    "print('test_target:', test_target)"
   ]
  },
  {
   "cell_type": "code",
   "execution_count": null,
   "id": "4d96cb6f",
   "metadata": {},
   "outputs": [],
   "source": []
  },
  {
   "cell_type": "code",
   "execution_count": 209,
   "id": "5b17642f",
   "metadata": {},
   "outputs": [],
   "source": [
    "# 가장 가까운 이웃 찾기\n",
    "# 방금 직전에 만든 훈련용과 테스트용 데이터를 활용해서 정확도가 얼마나 뜨는지 재확인"
   ]
  },
  {
   "cell_type": "code",
   "execution_count": 210,
   "id": "2ec895b0",
   "metadata": {},
   "outputs": [
    {
     "name": "stdout",
     "output_type": "stream",
     "text": [
      "score:  1.0\n"
     ]
    }
   ],
   "source": [
    "from sklearn.neighbors import KNeighborsClassifier\n",
    "kn = KNeighborsClassifier()\n",
    "kn.fit(train_input, train_target)\n",
    "print(\"score: \", kn.score(test_input, test_target))"
   ]
  },
  {
   "cell_type": "code",
   "execution_count": 211,
   "id": "36b6fa3e",
   "metadata": {},
   "outputs": [
    {
     "name": "stdout",
     "output_type": "stream",
     "text": [
      "[0.]\n"
     ]
    }
   ],
   "source": [
    "# 25cm, 150g의 생선 분류 (수상한 도미)\n",
    "print(kn.predict([[25, 150]]))\n",
    "# => 빙어로 분류"
   ]
  },
  {
   "cell_type": "code",
   "execution_count": 212,
   "id": "cf0a9158",
   "metadata": {},
   "outputs": [],
   "source": [
    "# 오전에 한 것들을 과정을 설명하기 위한 작업들이었고\n",
    "# train_test_split()를 통해 할 수 있다고 보면됨\n",
    "# => 함수보다 과정을 이해할 것"
   ]
  },
  {
   "cell_type": "code",
   "execution_count": null,
   "id": "8361d8f3",
   "metadata": {},
   "outputs": [],
   "source": []
  },
  {
   "cell_type": "code",
   "execution_count": 213,
   "id": "d599b5ad",
   "metadata": {},
   "outputs": [
    {
     "data": {
      "image/png": "[encoded data removed]",
      "text/plain": [
       "<Figure size 432x288 with 1 Axes>"
      ]
     },
     "metadata": {
      "needs_background": "light"
     },
     "output_type": "display_data"
    }
   ],
   "source": [
    "# 길이 25cm, 무게 150g의 생선을 산점도로 표시\n",
    "import matplotlib.pyplot as plt\n",
    "plt.scatter(train_input[:,0], train_input[:,1])\n",
    "plt.scatter(25, 150, marker='^')\n",
    "plt.xlabel('length')\n",
    "plt.ylabel('weight')\n",
    "plt.show()"
   ]
  },
  {
   "cell_type": "markdown",
   "id": "5ba5a027",
   "metadata": {},
   "source": [
    "# ccc"
   ]
  },
  {
   "cell_type": "code",
   "execution_count": 214,
   "id": "88ae8bf5",
   "metadata": {},
   "outputs": [],
   "source": [
    "# 왜 빙어(0)로 판단하는 것일까?\n",
    "# => 예측한 검정을 다시금 확인해보는 것 (이상해 보이니까)"
   ]
  },
  {
   "cell_type": "code",
   "execution_count": 215,
   "id": "0eb857c2",
   "metadata": {},
   "outputs": [
    {
     "data": {
      "text/plain": [
       "(array([[ 92.00086956, 130.48375378, 130.73859415, 138.32150953,\n",
       "         138.39320793]]),\n",
       " array([[21, 33, 19, 30,  1]], dtype=int64))"
      ]
     },
     "execution_count": 215,
     "metadata": {},
     "output_type": "execute_result"
    }
   ],
   "source": [
    "kn.kneighbors([[25, 150]])"
   ]
  },
  {
   "cell_type": "code",
   "execution_count": 216,
   "id": "3c13883a",
   "metadata": {},
   "outputs": [
    {
     "name": "stdout",
     "output_type": "stream",
     "text": [
      "기본 5개 이웃의 거리:  [[ 92.00086956 130.48375378 130.73859415 138.32150953 138.39320793]]\n",
      "훈련데이터의 인덱스:  [[21 33 19 30  1]]\n"
     ]
    }
   ],
   "source": [
    "# kneighbors(): n_neighbors(default값 5)개의 이웃을 찾음 -> 기본 5개의 이웃 거리와 값을 찾아줌\n",
    "distances, indexes = kn.kneighbors([[25, 150]])\n",
    "print('기본 5개 이웃의 거리: ', distances)\n",
    "print('훈련데이터의 인덱스: ', indexes)\n",
    "\n",
    "# indexes => 정수 배열 인덱스"
   ]
  },
  {
   "cell_type": "code",
   "execution_count": 217,
   "id": "d231e48e",
   "metadata": {},
   "outputs": [
    {
     "data": {
      "image/png": "[encoded data removed]",
      "text/plain": [
       "<Figure size 432x288 with 1 Axes>"
      ]
     },
     "metadata": {
      "needs_background": "light"
     },
     "output_type": "display_data"
    }
   ],
   "source": [
    "# 해당 가까운 이웃 5개를 어디에 있는지 산점도를 그려봐\n",
    "# 가장 가까운 이웃들을 산점도로 표시\n",
    "import matplotlib.pyplot as plt\n",
    "plt.scatter(train_input[:, 0], train_input[:, 1], label='train_data',\n",
    "color='b')\n",
    "plt.scatter(25, 150, marker='^', color='orange', label='Unknown')\n",
    "plt.scatter(train_input[indexes, 0], train_input[indexes, 1], marker='D', label='neighbors', color='r')\n",
    "# 넘파이에 넣을 때랑 다르다는 것 정도로만 이해하고 일단 넘어가기 => train_input[indexes, 0]\n",
    "\n",
    "plt.xlabel('length')\n",
    "plt.ylabel('weight')\n",
    "plt.legend()\n",
    "plt.show()\n",
    "\n",
    "# train_input은 2차원 array라서 행과 열 둘 다 인덱스를 지정해줘야 하는 거고  \n",
    "# indexes는 row의 인덱스이고 0은 column의 인덱스이군요!"
   ]
  },
  {
   "cell_type": "code",
   "execution_count": 218,
   "id": "cdca9a7d",
   "metadata": {},
   "outputs": [
    {
     "data": {
      "text/plain": [
       "array([[25.4, 15. , 14.3, 13. , 12.2]])"
      ]
     },
     "execution_count": 218,
     "metadata": {},
     "output_type": "execute_result"
    }
   ],
   "source": [
    "train_input[indexes, 0]"
   ]
  },
  {
   "cell_type": "code",
   "execution_count": 236,
   "id": "89316b1f",
   "metadata": {},
   "outputs": [
    {
     "data": {
      "text/plain": [
       "array([[[ 25.4, 242. ],\n",
       "        [ 29. , 363. ],\n",
       "        [ 30. , 390. ],\n",
       "        [ 32. , 340. ],\n",
       "        [ 29. , 430. ]]])"
      ]
     },
     "execution_count": 236,
     "metadata": {},
     "output_type": "execute_result"
    }
   ],
   "source": [
    "train_input[indexes]"
   ]
  },
  {
   "cell_type": "code",
   "execution_count": 237,
   "id": "93826466",
   "metadata": {
    "collapsed": true
   },
   "outputs": [
    {
     "name": "stdout",
     "output_type": "stream",
     "text": [
      "<class 'numpy.ndarray'>\n"
     ]
    },
    {
     "data": {
      "text/plain": [
       "array([[  29.7,  500. ],\n",
       "       [  12.2,   12.2],\n",
       "       [  33. ,  700. ],\n",
       "       [  11.3,    8.7],\n",
       "       [  39.5,  925. ],\n",
       "       [  29. ,  430. ],\n",
       "       [  36. ,  714. ],\n",
       "       [  36. ,  850. ],\n",
       "       [  31. ,  475. ],\n",
       "       [  35. ,  720. ],\n",
       "       [  37. , 1000. ],\n",
       "       [  11.2,    9.8],\n",
       "       [  34.5,  620. ],\n",
       "       [  12. ,    9.8],\n",
       "       [  29. ,  363. ],\n",
       "       [  33. ,  700. ],\n",
       "       [  30.7,  500. ],\n",
       "       [  38.5,  955. ],\n",
       "       [  33.5,  650. ],\n",
       "       [  14.3,   19.7],\n",
       "       [  31.5,  500. ],\n",
       "       [  25.4,  242. ],\n",
       "       [   9.8,    6.7],\n",
       "       [  32. ,  600. ],\n",
       "       [  10.5,    7.5],\n",
       "       [  33.5,  610. ],\n",
       "       [  10.6,    7. ],\n",
       "       [  35. ,  700. ],\n",
       "       [  32. ,  600. ],\n",
       "       [  35. ,  725. ],\n",
       "       [  13. ,   12.2],\n",
       "       [  30. ,  450. ],\n",
       "       [  32. ,  340. ],\n",
       "       [  15. ,   19.9],\n",
       "       [  30. ,  390. ],\n",
       "       [  41. ,  975. ]])"
      ]
     },
     "execution_count": 237,
     "metadata": {},
     "output_type": "execute_result"
    }
   ],
   "source": [
    "print(type(train_input))\n",
    "train_input"
   ]
  },
  {
   "cell_type": "code",
   "execution_count": 219,
   "id": "c9de1e05",
   "metadata": {},
   "outputs": [],
   "source": [
    "# 가까운 곳에 이웃 (1개) vs. 먼 곳에 이웃(4개)\n",
    "# => 그래서 빙어(0)로 나오게 된 것\n",
    "# => 무게와 길이의 scale이 안맞아서 발생"
   ]
  },
  {
   "cell_type": "code",
   "execution_count": 220,
   "id": "8310af14",
   "metadata": {
    "collapsed": true
   },
   "outputs": [
    {
     "name": "stdout",
     "output_type": "stream",
     "text": [
      "[[  29.7  500. ]\n",
      " [  12.2   12.2]\n",
      " [  33.   700. ]\n",
      " [  11.3    8.7]\n",
      " [  39.5  925. ]\n",
      " [  29.   430. ]\n",
      " [  36.   714. ]\n",
      " [  36.   850. ]\n",
      " [  31.   475. ]\n",
      " [  35.   720. ]\n",
      " [  37.  1000. ]\n",
      " [  11.2    9.8]\n",
      " [  34.5  620. ]\n",
      " [  12.     9.8]\n",
      " [  29.   363. ]\n",
      " [  33.   700. ]\n",
      " [  30.7  500. ]\n",
      " [  38.5  955. ]\n",
      " [  33.5  650. ]\n",
      " [  14.3   19.7]\n",
      " [  31.5  500. ]\n",
      " [  25.4  242. ]\n",
      " [   9.8    6.7]\n",
      " [  32.   600. ]\n",
      " [  10.5    7.5]\n",
      " [  33.5  610. ]\n",
      " [  10.6    7. ]\n",
      " [  35.   700. ]\n",
      " [  32.   600. ]\n",
      " [  35.   725. ]\n",
      " [  13.    12.2]\n",
      " [  30.   450. ]\n",
      " [  32.   340. ]\n",
      " [  15.    19.9]\n",
      " [  30.   390. ]\n",
      " [  41.   975. ]]\n"
     ]
    }
   ],
   "source": [
    "print(train_input)"
   ]
  },
  {
   "cell_type": "code",
   "execution_count": 221,
   "id": "d9454d09",
   "metadata": {
    "scrolled": true
   },
   "outputs": [
    {
     "name": "stdout",
     "output_type": "stream",
     "text": [
      "[1. 0. 1. 0. 1. 1. 1. 1. 1. 1. 1. 0. 1. 0. 1. 1. 1. 1. 1. 0. 1. 1. 0. 1.\n",
      " 0. 1. 0. 1. 1. 1. 0. 1. 1. 0. 1. 1.]\n"
     ]
    }
   ],
   "source": [
    "print(train_target)"
   ]
  },
  {
   "cell_type": "code",
   "execution_count": 222,
   "id": "3e9715e5",
   "metadata": {},
   "outputs": [
    {
     "name": "stdout",
     "output_type": "stream",
     "text": [
      "neighbors:  [[[ 25.4 242. ]\n",
      "  [ 15.   19.9]\n",
      "  [ 14.3  19.7]\n",
      "  [ 13.   12.2]\n",
      "  [ 12.2  12.2]]]\n",
      "target:  [[1. 0. 0. 0. 0.]]\n"
     ]
    }
   ],
   "source": [
    "print(\"neighbors: \", train_input[indexes])\n",
    "print(\"target: \", train_target[indexes])      # 훈련용 정답 (이웃 데이터(25,150)의 정답)"
   ]
  },
  {
   "cell_type": "code",
   "execution_count": 223,
   "id": "eb42a36d",
   "metadata": {},
   "outputs": [],
   "source": [
    "# 그렇다면 이제 scale을 맞춰보자 (x축과 y축의 범위 지정)\n",
    "# -> 그래프 그릴 때, 활용가능(!?)\n",
    "# scale =>  척도가 달라서 위치상 거리가 달라진 느낌으로 받아들이면 될 듯"
   ]
  },
  {
   "cell_type": "code",
   "execution_count": 224,
   "id": "2606f7c8",
   "metadata": {},
   "outputs": [
    {
     "data": {
      "image/png": "[encoded data removed]",
      "text/plain": [
       "<Figure size 432x288 with 1 Axes>"
      ]
     },
     "metadata": {
      "needs_background": "light"
     },
     "output_type": "display_data"
    }
   ],
   "source": [
    "plt.scatter(train_input[:, 0], train_input[:, 1],\n",
    "label='train_data', color='b')\n",
    "plt.scatter(25, 150, marker='^', color='orange', label='Unknown')\n",
    "plt.scatter(train_input[indexes, 0], train_input[indexes, 1],\n",
    "marker='D', label='neighbors', color='r')\n",
    "\n",
    "plt.xlim((0, 1000)) # x축의 눈금 간격을 y축과 동일하게 변경\n",
    "plt.axvspan(0, 50,  ymin= 0, ymax=0.3, color='orange', alpha=0.3)  # (25,150 포함한 것)\n",
    "plt.xlabel('length')\n",
    "plt.ylabel('weight')\n",
    "plt.legend()\n",
    "plt.show()\n"
   ]
  },
  {
   "cell_type": "code",
   "execution_count": 225,
   "id": "ada0a778",
   "metadata": {},
   "outputs": [
    {
     "name": "stdout",
     "output_type": "stream",
     "text": [
      "[ 27.29722222 454.09722222] [  9.98244253 323.29893931]\n"
     ]
    }
   ],
   "source": [
    "# 무게와 길이의 차이가 크기 때문에 => 표준화 처리\n",
    "# 데이터 전처리 \n",
    "# - 특성값을 일정한 기준으로 맞춤\n",
    "# - 표준 점수 (Standard Score, Z 점수)\n",
    "\n",
    "# cf) 브로드캐스팅 => '확장'의 의미\n",
    "# => 그래서 넘파이의 경우, 반복문 없이 계산을 하는 경우가 多\n",
    "\n",
    "mean = np.mean(train_input, axis=0) # axes=0: 각 컬럼의 평균 계산\n",
    "std = np.std(train_input, axis=0)\n",
    "print(mean, std)"
   ]
  },
  {
   "cell_type": "code",
   "execution_count": 226,
   "id": "0499e643",
   "metadata": {},
   "outputs": [
    {
     "name": "stdout",
     "output_type": "stream",
     "text": [
      "[[ 0.24070039  0.14198246]\n",
      " [-1.51237757 -1.36683783]\n",
      " [ 0.5712808   0.76060496]]\n"
     ]
    }
   ],
   "source": [
    "# 표준 점수를 구하기 위해, 브로드캐스팅으로 계산되는 평균과 표편, 분산을 구하면 됨\n",
    "# 아래의 코드를 그림으로 이해(#25)하기\n",
    "\n",
    "train_scaled = (train_input - mean) / std # 표준 점수로 변환한 데이터\n",
    "print(train_scaled[:3])"
   ]
  },
  {
   "cell_type": "code",
   "execution_count": 227,
   "id": "ae240fc6",
   "metadata": {},
   "outputs": [
    {
     "name": "stdout",
     "output_type": "stream",
     "text": [
      "(36, 2)\n"
     ]
    }
   ],
   "source": [
    "print(train_scaled.shape)"
   ]
  },
  {
   "cell_type": "markdown",
   "id": "7438775d",
   "metadata": {},
   "source": [
    "## 전처리 데이터로 모델 훈련 #1"
   ]
  },
  {
   "cell_type": "code",
   "execution_count": 228,
   "id": "f3c7f470",
   "metadata": {},
   "outputs": [
    {
     "data": {
      "image/png": "[encoded data removed]",
      "text/plain": [
       "<Figure size 432x288 with 1 Axes>"
      ]
     },
     "metadata": {
      "needs_background": "light"
     },
     "output_type": "display_data"
    }
   ],
   "source": [
    "plt.scatter(train_scaled[:, 0], train_scaled[:, 1], label='train_scaled')\n",
    "plt.scatter(25, 150, marker='^', label='unknown')\n",
    "plt.xlabel('length')\n",
    "plt.ylabel('weight')\n",
    "plt.legend()\n",
    "plt.show()"
   ]
  },
  {
   "cell_type": "code",
   "execution_count": 229,
   "id": "573a9032",
   "metadata": {},
   "outputs": [
    {
     "name": "stdout",
     "output_type": "stream",
     "text": [
      "표준 점수 sample [-0.23012627 -0.94060693]\n"
     ]
    },
    {
     "data": {
      "image/png": "[encoded data removed]",
      "text/plain": [
       "<Figure size 432x288 with 1 Axes>"
      ]
     },
     "metadata": {
      "needs_background": "light"
     },
     "output_type": "display_data"
    }
   ],
   "source": [
    "# train_scaled 데이터와 샘플 데이터(25, 150) 비교\n",
    "# 똑같이 Z로 바꿔줘야지\n",
    "\n",
    "# 결국 이것이 최종 결론\n",
    "\n",
    "# 샘플 데이터를 표준 점수로 변환\n",
    "new = ([25, 150] - mean) / std\n",
    "print(\"표준 점수 sample\", new)\n",
    "\n",
    "plt.scatter(train_scaled[:, 0], train_scaled[:, 1], label='train_scaled')\n",
    "plt.scatter(new[0], new[1], marker='^', label='unknown')\n",
    "plt.xlabel('length')\n",
    "plt.ylabel('weight')\n",
    "plt.legend()\n",
    "plt.show()\n",
    "\n",
    "# => x축과 y축의 tick값들을 보면 표준값들임을 알 수 있음"
   ]
  },
  {
   "cell_type": "code",
   "execution_count": 230,
   "id": "397231e2",
   "metadata": {},
   "outputs": [
    {
     "name": "stdout",
     "output_type": "stream",
     "text": [
      "1.0\n",
      "[1.]\n"
     ]
    }
   ],
   "source": [
    "# 표준 점수로 변환한 훈련 데이터로 k-최근접 이웃 모델 훈련\n",
    "\n",
    "# 표준점수로 변환한 훈련 데이터로 k-NN 훈련\n",
    "kn.fit(train_scaled, train_target)\n",
    "\n",
    "# 테스트 세트를 표준 점수로 변환\n",
    "test_scaled = (test_input - mean) / std\n",
    "print(kn.score(test_scaled, test_target))\n",
    "\n",
    "# 표준 점수로 변환된 샘플 데이터를 가지고 예측\n",
    "print(kn.predict([new]))"
   ]
  },
  {
   "cell_type": "code",
   "execution_count": 244,
   "id": "a5003646",
   "metadata": {},
   "outputs": [
    {
     "name": "stdout",
     "output_type": "stream",
     "text": [
      "[[0.2873737  0.7711188  0.89552179 0.91493515 0.95427626]]\n"
     ]
    },
    {
     "data": {
      "image/png": "[encoded data removed]",
      "text/plain": [
       "<Figure size 432x288 with 1 Axes>"
      ]
     },
     "metadata": {
      "needs_background": "light"
     },
     "output_type": "display_data"
    }
   ],
   "source": [
    "# => 표준점수로 바꾸니, 제대로 '도미'로 인식하게 됨\n",
    "# 표준화하니 왜 '도미'로 인식하는지 산점도로 확인해보자\n",
    "\n",
    "# 이번에 가장 근접한 이웃 5개를 뽑아서는 연두색 다이아로 표식한 것\n",
    "\n",
    "# 표준 점수로 변경된 샘플 데이터의 이웃 찾기 및 산점도\n",
    "distances, indexes = kn.kneighbors([new])\n",
    "print(distances)\n",
    "\n",
    "plt.rcParams['axes.unicode_minus'] = False    # 음수 안깨지도록\n",
    "plt.scatter(train_scaled[:, 0], train_scaled[:, 1], label='train_scaled')\n",
    "plt.scatter(new[0], new[1], marker='^', label='sample')\n",
    "plt.scatter(train_scaled[indexes, 0], train_scaled[indexes, 1], marker='D', label='neighbors')\n",
    "\n",
    "plt.xlabel('length')\n",
    "plt.ylabel('weight')\n",
    "plt.legend()\n",
    "plt.show()"
   ]
  },
  {
   "cell_type": "code",
   "execution_count": 233,
   "id": "6cecfc45",
   "metadata": {},
   "outputs": [],
   "source": [
    "# 결국, ch1과 ch2는 분류 과정인 것"
   ]
  },
  {
   "cell_type": "code",
   "execution_count": 234,
   "id": "701ce2c3",
   "metadata": {},
   "outputs": [],
   "source": [
    "# 범위 [:, :-1]\n",
    "# 마지막 컬럼 선택 => 많이 사용 [:, -1]"
   ]
  }
 ],
 "metadata": {
  "kernelspec": {
   "display_name": "Python 3 (ipykernel)",
   "language": "python",
   "name": "python3"
  },
  "language_info": {
   "codemirror_mode": {
    "name": "ipython",
    "version": 3
   },
   "file_extension": ".py",
   "mimetype": "text/x-python",
   "name": "python",
   "nbconvert_exporter": "python",
   "pygments_lexer": "ipython3",
   "version": "3.9.12"
  }
 },
 "nbformat": 4,
 "nbformat_minor": 5
}
