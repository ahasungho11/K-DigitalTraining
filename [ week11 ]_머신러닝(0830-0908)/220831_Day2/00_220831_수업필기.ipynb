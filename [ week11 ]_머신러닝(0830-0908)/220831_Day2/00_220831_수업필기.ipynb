{
 "cells": [
  {
   "cell_type": "code",
   "execution_count": 173,
   "id": "ff1f9b94",
   "metadata": {},
   "outputs": [],
   "source": [
    "# 220831\n",
    "# 오전1)\n",
    "# k-최근접 이웃 회귀 => 이웃의 평균을 내서 "
   ]
  },
  {
   "cell_type": "markdown",
   "id": "7231244c",
   "metadata": {},
   "source": [
    "## 1. 데이터 준비"
   ]
  },
  {
   "cell_type": "code",
   "execution_count": 174,
   "id": "d4621cde",
   "metadata": {},
   "outputs": [],
   "source": [
    "# 농어의 길이로 무게를 잘 예측할 수 있겠음?\n",
    "\n",
    "import numpy as np\n",
    "perch_length = np.array([8.4, 13.7, 15.0, 16.2, 17.4, 18.0, 18.7, 19.0, \n",
    "                        19.6, 20.0, 21.0, 21.0, 21.0, 21.3, 22.0, 22.0, \n",
    "                        22.0, 22.0, 22.0, 22.5, 22.5, 22.7, 23.0, 23.5, \n",
    "                        24.0, 24.0, 24.6, 25.0, 25.6, 26.5,\t27.3, 27.5, \n",
    "                        27.5, 27.5, 28.0, 28.7, 30.0, 32.8, 34.5, 35.0,\n",
    "                     \t36.5, 36.0, 37.0, 37.0, 39.0, 39.0, 39.0, 40.0, \n",
    "                        40.0, 40.0,\t40.0, 42.0, 43.0, 43.0, 43.5, 44.0])\n",
    "\n",
    "perch_weight = np.array([5.9, 32.0, 40.0, 51.5, 70.0, 100.0, 78.0, 80.0, \n",
    "                         85.0, 85.0, 110.0, 115.0, 125.0, 130.0, 120.0, \n",
    "                         120.0, 130.0, 135.0, 110.0, 130.0,150.0, 145.0,\n",
    "                         150.0, 170.0, 225.0, 145.0, 188.0, 180.0,197.0,\n",
    "                         218.0,300.0, 260.0, 265.0, 250.0, 250.0, 300.0,\n",
    "                         320.0, 514.0, 556.0, 840.0,685.0, 700.0, 700.0,\n",
    "                         690.0, 900.0, 650.0, 820.0, 850.0, 900.0,\n",
    "                         1015.0, 820.0, 1100.0, 1000.0, 1100.0, \n",
    "                         1000.0, 1000.0])"
   ]
  },
  {
   "cell_type": "code",
   "execution_count": 175,
   "id": "1f670ca5",
   "metadata": {},
   "outputs": [
    {
     "data": {
      "image/png": "[encoded data removed]",
      "text/plain": [
       "<Figure size 432x288 with 1 Axes>"
      ]
     },
     "metadata": {
      "needs_background": "light"
     },
     "output_type": "display_data"
    }
   ],
   "source": [
    "# 산점도 확인\n",
    "import matplotlib.pyplot as plt\n",
    "\n",
    "plt.scatter(perch_length, perch_weight)\n",
    "plt.xlabel('length')\n",
    "plt.ylabel('weight')\n",
    "plt.show()"
   ]
  },
  {
   "cell_type": "markdown",
   "id": "c7ba22df",
   "metadata": {},
   "source": [
    "## 2. 훈련 세트와 테스트 세트 준비"
   ]
  },
  {
   "cell_type": "code",
   "execution_count": 176,
   "id": "3ce19898",
   "metadata": {},
   "outputs": [],
   "source": [
    "# 길이로 무게를 예측하는 것이니까 => input은 length\n",
    "\n",
    "# reshape에 '-1'을 넣으면 행이든 열이든 자동으로 크기를 지정해줌\n",
    "# => 머신러닝에서 하나의 패턴으로 봐주면 됨\n",
    "# => 행x열의 값이 같아야 변환 가능함\n",
    "# => 따라서, -1을 넣으면 자동으로 '행x열' 해준 값과 같게끔 맞춰짐\n",
    "\n",
    "# reshape()부분 잘 봐주기\n",
    "# - 수집한 데이터 개수를 모르는 경우가 많기 때문에, '-1'을 쓰게 됨\n",
    "# - array1 = np.arange(0,10).reshape(2,5) 이런식으로 바로 변환도 가능\n"
   ]
  },
  {
   "cell_type": "code",
   "execution_count": 177,
   "id": "802e5c37",
   "metadata": {
    "scrolled": true
   },
   "outputs": [
    {
     "name": "stdout",
     "output_type": "stream",
     "text": [
      "perch_length의 개수 : 56개\n",
      "perch_weight의 개수 : 56개\n",
      "\n",
      "length에서 input 으로 들어감 => train에 42개/teset에 14개\n",
      "weight에서 target으로 들어감 => train에 42개/teset에 14개\n",
      "\n",
      "(42,) (14,)\n",
      "(42, 1) (14, 1)\n",
      "\n",
      "데이터 내용은 같은데 1차원 -> 2차원 배열로 바꾼 것\n"
     ]
    }
   ],
   "source": [
    "from sklearn.model_selection import train_test_split\n",
    "\n",
    "print('perch_length의 개수 : {}개'.format(len(perch_length)))\n",
    "print('perch_weight의 개수 : {}개'.format(len(perch_weight)))\n",
    "      \n",
    "train_input, test_input, train_target, test_target = train_test_split(perch_length, perch_weight, random_state=42)\n",
    "\n",
    "print()\n",
    "print('length에서 input 으로 들어감 => train에 42개/teset에 14개')\n",
    "print('weight에서 target으로 들어감 => train에 42개/teset에 14개')\n",
    "print()\n",
    "print(train_input.shape, test_input.shape)\n",
    "\n",
    "train_input = train_input.reshape(-1, 1) # 2차원 배열로 변경\n",
    "test_input = test_input.reshape(-1, 1) # 2차원 배열로 변경\n",
    "print(train_input.shape, test_input.shape)\n",
    "print('\\n데이터 내용은 같은데 1차원 -> 2차원 배열로 바꾼 것')"
   ]
  },
  {
   "cell_type": "code",
   "execution_count": 178,
   "id": "bc3d77db",
   "metadata": {},
   "outputs": [
    {
     "data": {
      "text/plain": [
       "array([19.6, 22. , 18.7, 17.4, 36. , 25. , 40. , 39. , 43. , 22. , 20. ,\n",
       "       22. , 24. , 27.5, 43. , 40. , 24. , 21. , 27.5, 40. , 32.8, 26.5,\n",
       "       36.5, 13.7, 22.7, 15. , 37. , 35. , 28.7, 23.5, 39. , 21. , 23. ,\n",
       "       22. , 44. , 22.5, 19. , 37. , 22. , 25.6, 42. , 34.5])"
      ]
     },
     "execution_count": 178,
     "metadata": {},
     "output_type": "execute_result"
    }
   ],
   "source": [
    "train_input1"
   ]
  },
  {
   "cell_type": "code",
   "execution_count": 179,
   "id": "470f0b46",
   "metadata": {},
   "outputs": [
    {
     "data": {
      "text/plain": [
       "array([[19.6],\n",
       "       [22. ],\n",
       "       [18.7],\n",
       "       [17.4],\n",
       "       [36. ],\n",
       "       [25. ],\n",
       "       [40. ],\n",
       "       [39. ],\n",
       "       [43. ],\n",
       "       [22. ],\n",
       "       [20. ],\n",
       "       [22. ],\n",
       "       [24. ],\n",
       "       [27.5],\n",
       "       [43. ],\n",
       "       [40. ],\n",
       "       [24. ],\n",
       "       [21. ],\n",
       "       [27.5],\n",
       "       [40. ],\n",
       "       [32.8],\n",
       "       [26.5],\n",
       "       [36.5],\n",
       "       [13.7],\n",
       "       [22.7],\n",
       "       [15. ],\n",
       "       [37. ],\n",
       "       [35. ],\n",
       "       [28.7],\n",
       "       [23.5],\n",
       "       [39. ],\n",
       "       [21. ],\n",
       "       [23. ],\n",
       "       [22. ],\n",
       "       [44. ],\n",
       "       [22.5],\n",
       "       [19. ],\n",
       "       [37. ],\n",
       "       [22. ],\n",
       "       [25.6],\n",
       "       [42. ],\n",
       "       [34.5]])"
      ]
     },
     "execution_count": 179,
     "metadata": {},
     "output_type": "execute_result"
    }
   ],
   "source": [
    "train_input"
   ]
  },
  {
   "cell_type": "markdown",
   "id": "364cea4b",
   "metadata": {},
   "source": [
    "## 3. k-최근접 이웃 회귀 알고리즘 정확도 계산"
   ]
  },
  {
   "cell_type": "code",
   "execution_count": 180,
   "id": "3fdd441e",
   "metadata": {},
   "outputs": [],
   "source": [
    "# KNeighborsRegressor 클래스는 결정계수(R^2)을 리턴해줌\n",
    "# => k-최근접 이웃 회귀 모델을 훈련\n",
    "# cf) KNeighborsClassifier\n",
    "\n",
    "# 메서드 이름은 똑같음\n",
    "# => 머신러닝 모델에 따라 메서드는 같지만, 출력값은 다르다는 것\n",
    "# cf) KNeighborsClassifier는 정확도, 는 KNeighborsRegressor는 결정계수\n"
   ]
  },
  {
   "cell_type": "code",
   "execution_count": 181,
   "id": "35326391",
   "metadata": {},
   "outputs": [
    {
     "name": "stdout",
     "output_type": "stream",
     "text": [
      "0.992809406101064\n"
     ]
    }
   ],
   "source": [
    "from sklearn.neighbors import KNeighborsRegressor\n",
    "\n",
    "# 객체 생성\n",
    "knr = KNeighborsRegressor()\n",
    "\n",
    "# 모델 훈련\n",
    "knr.fit(train_input, train_target)\n",
    "\n",
    "# score(): 훈련 모델 점수 확인, 결정 계수(R2)를 리턴\n",
    "print(knr.score(test_input, test_target))"
   ]
  },
  {
   "cell_type": "markdown",
   "id": "ba914a88",
   "metadata": {},
   "source": [
    "##### 1) 결정계수"
   ]
  },
  {
   "cell_type": "code",
   "execution_count": 182,
   "id": "e4794115",
   "metadata": {},
   "outputs": [],
   "source": [
    "# 결정계수에서의 target은 측정데이터\n",
    "\n",
    "# 결정계수가 1이 되려면 (예측도가 높으려면)\n",
    "# i) 분모와 분자가 같은 경우 : (target-예측)^2 = target-target평균)^2\n",
    "# ii) 분자가 매우 작은 경우 : (target-예측)^2이 매우 작은 경우\n",
    "# #9 그래프와 분모&분자와의 관계 이해 죽 해볼 것"
   ]
  },
  {
   "cell_type": "markdown",
   "id": "aa4ba2bb",
   "metadata": {},
   "source": [
    "##### 2) 평균 절대 오차 (MAE : Mean Absolute Error )"
   ]
  },
  {
   "cell_type": "code",
   "execution_count": 183,
   "id": "8bf7908b",
   "metadata": {},
   "outputs": [
    {
     "name": "stdout",
     "output_type": "stream",
     "text": [
      "19.157142857142862\n"
     ]
    }
   ],
   "source": [
    "# MAE : 실제값(타겟)과 예측값의 절대값 오차 평균\n",
    "\n",
    "# 해당 패키지는 따로 있지\n",
    "from sklearn.metrics import mean_absolute_error\n",
    "# 테스트 세트에 대한 예측값 계산\n",
    "test_prediction = knr.predict(test_input)\n",
    "# 테스트 세트에 대한 평균 절대 오차 계산\n",
    "mae = mean_absolute_error(test_target, test_prediction)\n",
    "print(mae)"
   ]
  },
  {
   "cell_type": "markdown",
   "id": "b9bdecf0",
   "metadata": {},
   "source": [
    "##### 3) 과대적합 vs. 과소적합"
   ]
  },
  {
   "cell_type": "code",
   "execution_count": 184,
   "id": "978a2d4f",
   "metadata": {},
   "outputs": [
    {
     "name": "stdout",
     "output_type": "stream",
     "text": [
      "테스트 세트의 값 : 0.992809406101064\n",
      "훈련 세트의 값   : 0.9698823289099254\n",
      "=> 테스트 세트의 값 > 훈련 세트의 값\n"
     ]
    }
   ],
   "source": [
    "# 과소적합 => 훈련/테스트 데이터 모두 낮은 스코어\n",
    "# - 훈련 세트보다 테스트 세트의 점수가 높거나,\n",
    "# - 훈련 세트와 테스트 세트의 두 점수가 모두 낮음\n",
    "# => 모델이 너무 단순해서 훈련 세트로 훈련이 되지 않은 경우\n",
    "\n",
    "# 테스트 세트를 사용하여 R2값 계산\n",
    "print('테스트 세트의 값 :', knr.score(test_input, test_target))\n",
    "\n",
    "# 훈련 세트 R2값 계산\n",
    "print('훈련 세트의 값   :', knr.score(train_input, train_target))\n",
    "\n",
    "print('=> 테스트 세트의 값 > 훈련 세트의 값')"
   ]
  },
  {
   "cell_type": "markdown",
   "id": "092363e2",
   "metadata": {},
   "source": [
    "### 4. 모델 개선 : 이웃 개수 줄이기 (for 과소적합 해결)"
   ]
  },
  {
   "cell_type": "code",
   "execution_count": 185,
   "id": "bacf2db2",
   "metadata": {},
   "outputs": [
    {
     "name": "stdout",
     "output_type": "stream",
     "text": [
      "훈련 데이터로 모델의 정확도 점수 계산  :  0.9804899950518966\n",
      "테스트 데이터로 모델의 정확도 점수 계산:  0.9746459963987609\n",
      "=> 훈련 데이터의 점수가 높아지고(기존: 0.9698823289099254), 테스트 데이터의 점수가 낮아짐\n"
     ]
    }
   ],
   "source": [
    "# 이웃의 개수가 줄어듦\n",
    "# -> 모델이 더 복잡해짐 -> 훈련 세트의 국지적 패턴이 더 민감해짐\n",
    "# - 좀 더 가까운 3개로 줄어들면, 더 '민감하게' 튀게 됨\n",
    "# -> like 표본이 많아지면 정규화가 되면서 부드럽고 둥글게 되는 그런 느낌\n",
    "\n",
    "# -> n이 커질수록 과소적합\n",
    "# -> n이 작을수록 과대적합 (그래서 정확도가 올라가게 되는 것)\n",
    "\n",
    "knr.n_neighbors = 3\n",
    "\n",
    "# 모델을 다시 훈련\n",
    "knr.fit(train_input, train_target)\n",
    "\n",
    "print('훈련 데이터로 모델의 정확도 점수 계산  : ', knr.score(train_input, train_target))\n",
    "print('테스트 데이터로 모델의 정확도 점수 계산: ', knr.score(test_input, test_target))\n",
    "print('=> 훈련 데이터의 점수가 높아지고(기존: 0.9698823289099254), 테스트 데이터의 점수가 낮아짐')"
   ]
  },
  {
   "cell_type": "markdown",
   "id": "f0f898a7",
   "metadata": {},
   "source": [
    "##### 1) 이웃의 수에 따른 그래프 비교"
   ]
  },
  {
   "cell_type": "code",
   "execution_count": 186,
   "id": "8e19e928",
   "metadata": {},
   "outputs": [
    {
     "data": {
      "image/png": "[encoded data removed]",
      "text/plain": [
       "<Figure size 432x288 with 1 Axes>"
      ]
     },
     "metadata": {
      "needs_background": "light"
     },
     "output_type": "display_data"
    },
    {
     "data": {
      "image/png": "[encoded data removed]",
      "text/plain": [
       "<Figure size 432x288 with 1 Axes>"
      ]
     },
     "metadata": {
      "needs_background": "light"
     },
     "output_type": "display_data"
    },
    {
     "data": {
      "image/png": "[encoded data removed]",
      "text/plain": [
       "<Figure size 432x288 with 1 Axes>"
      ]
     },
     "metadata": {
      "needs_background": "light"
     },
     "output_type": "display_data"
    },
    {
     "data": {
      "image/png": "[encoded data removed]",
      "text/plain": [
       "<Figure size 432x288 with 1 Axes>"
      ]
     },
     "metadata": {
      "needs_background": "light"
     },
     "output_type": "display_data"
    },
    {
     "data": {
      "image/png": "[encoded data removed]",
      "text/plain": [
       "<Figure size 432x288 with 1 Axes>"
      ]
     },
     "metadata": {
      "needs_background": "light"
     },
     "output_type": "display_data"
    },
    {
     "data": {
      "image/png": "[encoded data removed]",
      "text/plain": [
       "<Figure size 432x288 with 1 Axes>"
      ]
     },
     "metadata": {
      "needs_background": "light"
     },
     "output_type": "display_data"
    }
   ],
   "source": [
    "# k-최근접 회귀 알고리즘에서 이웃의 수 변경: 1, 5, 10\n",
    "# -> 농어의 길이를 5~45까지 변경하면서 무게 예측\n",
    "\n",
    "# k-최근접 이웃 회귀 객체 생성\n",
    "knr = KNeighborsRegressor()\n",
    "\n",
    "# x:농어의 길이(5 ~ 45까지 범위 설정)\n",
    "x = np.arange(5, 45).reshape(-1, 1)\n",
    "\n",
    "# n=1, 5, 10일때 예측 결과 그래프\n",
    "# input되는 개수에 맞춰서 숫자를 적어야 함\n",
    "for n in [1, 5, 10, 25, 40, 42]:\n",
    "    \n",
    "    # 모델 훈련\n",
    "    knr.n_neighbors = n\n",
    "    knr.fit(train_input, train_target)\n",
    "    \n",
    "    # 지정한 범위 x(농어의 길이)에 대한 농어 무게 예측하기\n",
    "    prediction = knr.predict(x)\n",
    "    \n",
    "    # 훈련 세트와 예측 결과 그래프 그리기\n",
    "    plt.scatter(train_input, train_target, label='train set')\n",
    "    plt.plot(x, prediction, label='prediction', color='orange')\n",
    "    plt.title('n_neighbors = {}'.format(n))\n",
    "    plt.xlabel('length')\n",
    "    plt.ylabel('weight')\n",
    "    plt.legend()\n",
    "    plt.show()"
   ]
  },
  {
   "cell_type": "code",
   "execution_count": 187,
   "id": "e975e119",
   "metadata": {},
   "outputs": [
    {
     "data": {
      "text/plain": [
       "array([ 5,  6,  7,  8,  9, 10, 11, 12, 13, 14, 15, 16, 17, 18, 19, 20, 21,\n",
       "       22, 23, 24, 25, 26, 27, 28, 29, 30, 31, 32, 33, 34, 35, 36, 37, 38,\n",
       "       39, 40, 41, 42, 43, 44])"
      ]
     },
     "execution_count": 187,
     "metadata": {},
     "output_type": "execute_result"
    }
   ],
   "source": [
    "x = np.arange(5, 45)\n",
    "x"
   ]
  },
  {
   "cell_type": "code",
   "execution_count": 188,
   "id": "7ef94999",
   "metadata": {},
   "outputs": [
    {
     "data": {
      "text/plain": [
       "array([[ 5],\n",
       "       [ 6],\n",
       "       [ 7],\n",
       "       [ 8],\n",
       "       [ 9],\n",
       "       [10],\n",
       "       [11],\n",
       "       [12],\n",
       "       [13],\n",
       "       [14],\n",
       "       [15],\n",
       "       [16],\n",
       "       [17],\n",
       "       [18],\n",
       "       [19],\n",
       "       [20],\n",
       "       [21],\n",
       "       [22],\n",
       "       [23],\n",
       "       [24],\n",
       "       [25],\n",
       "       [26],\n",
       "       [27],\n",
       "       [28],\n",
       "       [29],\n",
       "       [30],\n",
       "       [31],\n",
       "       [32],\n",
       "       [33],\n",
       "       [34],\n",
       "       [35],\n",
       "       [36],\n",
       "       [37],\n",
       "       [38],\n",
       "       [39],\n",
       "       [40],\n",
       "       [41],\n",
       "       [42],\n",
       "       [43],\n",
       "       [44]])"
      ]
     },
     "execution_count": 188,
     "metadata": {},
     "output_type": "execute_result"
    }
   ],
   "source": [
    "xx = np.arange(5, 45).reshape(-1, 1)\n",
    "xx"
   ]
  },
  {
   "cell_type": "code",
   "execution_count": 189,
   "id": "c84ed5f2",
   "metadata": {},
   "outputs": [],
   "source": [
    "# x : numpy에서 생성한 배열\n",
    "# 'orange'는 예측선\n",
    "# 모델에 따라 어떤 상태인지(과대/적합/과소)를 확인하고, 조절해야하지요\n",
    "# stackoverflow에서 네트워크나 언어, 개발 등에 관련된 커뮤니티 => 거의 다 있음"
   ]
  },
  {
   "cell_type": "markdown",
   "id": "4decf696",
   "metadata": {},
   "source": [
    "##### 2) 참고_random_state"
   ]
  },
  {
   "cell_type": "code",
   "execution_count": 190,
   "id": "301e1286",
   "metadata": {},
   "outputs": [
    {
     "name": "stdout",
     "output_type": "stream",
     "text": [
      "random_state=0\n",
      "[2, 8, 4]\n",
      "[2, 8, 4]\n",
      "[2, 8, 4]\n",
      "[2, 8, 4]\n",
      "[2, 8, 4]\n",
      "******************************\n",
      "random_state=None\n",
      "[0, 9, 2]\n",
      "[2, 5, 8]\n",
      "[4, 8, 5]\n",
      "[6, 9, 4]\n",
      "[3, 1, 8]\n"
     ]
    }
   ],
   "source": [
    "from sklearn.model_selection import train_test_split\n",
    "\n",
    "X_data = range(10)\n",
    "y_data = range(10)\n",
    "\n",
    "print('random_state=0')\n",
    "for i in range(5):\n",
    "    X_train, X_test, y_train, y_test = train_test_split(X_data, y_data, \n",
    "            test_size = 0.3, random_state = 0) # zero or any other integer\n",
    "    print(y_test)\n",
    "\n",
    "\n",
    "print(\"*\"*30)\n",
    "print('random_state=None')\n",
    "for i in range(5): \n",
    "    X_train, X_test, y_train, y_test = train_test_split(X_data, y_data, \n",
    "                test_size = 0.3, random_state = None)\n",
    "    print(y_test)"
   ]
  },
  {
   "cell_type": "markdown",
   "id": "ce69febc",
   "metadata": {},
   "source": [
    "### "
   ]
  },
  {
   "cell_type": "markdown",
   "id": "c79e9647",
   "metadata": {},
   "source": [
    "### k-최근접 이웃 알고리즘의 문제점"
   ]
  },
  {
   "cell_type": "code",
   "execution_count": 191,
   "id": "25cb8626",
   "metadata": {},
   "outputs": [],
   "source": [
    "# i) 새로운 샘플이 훈련 세트의 범위를 벗어나면 잘못된 예측을 함\n",
    "#  ex) 50cm, 100cm 길이의 농어 무게 예측: 동일한 예측값\n",
    "\n",
    "import numpy as np\n",
    "\n",
    "perch_length = np.array([8.4, 13.7, 15.0, 16.2, 17.4, 18.0, 18.7, 19.0, 19.6, 20.0,\n",
    "21.0, 21.0, 21.0, 21.3, 22.0, 22.0, 22.0, 22.0, 22.0, 22.5,\n",
    "22.5, 22.7, 23.0, 23.5, 24.0, 24.0, 24.6, 25.0, 25.6, 26.5,\n",
    "27.3, 27.5, 27.5, 27.5, 28.0, 28.7, 30.0, 32.8, 34.5, 35.0,\n",
    "36.5, 36.0, 37.0, 37.0, 39.0, 39.0, 39.0, 40.0, 40.0, 40.0,\n",
    "40.0, 42.0, 43.0, 43.0, 43.5, 44.0])\n",
    "\n",
    "perch_weight = np.array([5.9, 32.0, 40.0, 51.5, 70.0, 100.0, 78.0, 80.0, 85.0, 85.0,\n",
    "110.0, 115.0, 125.0, 130.0, 120.0, 120.0, 130.0, 135.0, 110.0, 130.0,\n",
    "150.0, 145.0, 150.0, 170.0, 225.0, 145.0, 188.0, 180.0, 197.0, 218.0,\n",
    "300.0, 260.0, 265.0, 250.0, 250.0, 300.0, 320.0, 514.0, 556.0, 840.0,\n",
    "685.0, 700.0, 700.0, 690.0, 900.0, 650.0, 820.0, 850.0, 900.0, 1015.0,\n",
    "820.0, 1100.0, 1000.0, 1100.0, 1000.0, 1000.0])"
   ]
  },
  {
   "cell_type": "code",
   "execution_count": 192,
   "id": "1b4d1bd0",
   "metadata": {},
   "outputs": [
    {
     "name": "stdout",
     "output_type": "stream",
     "text": [
      "50cm: [1033.33333333]\n",
      "100cm: [1033.33333333]\n",
      "=> 50cm와 100cm의 농어의 무게를 같은 값으로 예측함\n"
     ]
    }
   ],
   "source": [
    "from sklearn.model_selection import train_test_split\n",
    "\n",
    "# 훈련 세트와 테스트 세트로 나눔\n",
    "train_input, test_input, train_target, test_target = train_test_split(\n",
    "perch_length, perch_weight, random_state=42)\n",
    "\n",
    "# 훈련 세트와 테스트 세트를 2차원 배열로 변경\n",
    "train_input = train_input.reshape(-1, 1)\n",
    "test_input = test_input.reshape(-1, 1)\n",
    "\n",
    "from sklearn.neighbors import KNeighborsRegressor\n",
    "knr = KNeighborsRegressor(n_neighbors=3)\n",
    "\n",
    "# k-최근접 이웃 회귀 모델을 훈련\n",
    "knr.fit(train_input, train_target)\n",
    "print('50cm:', knr.predict([[50]]))\n",
    "print('100cm:', knr.predict([[100]]))\n",
    "print('=> 50cm와 100cm의 농어의 무게를 같은 값으로 예측함')"
   ]
  },
  {
   "cell_type": "code",
   "execution_count": 193,
   "id": "a075b092",
   "metadata": {},
   "outputs": [
    {
     "data": {
      "image/png": "[encoded data removed]",
      "text/plain": [
       "<Figure size 432x288 with 1 Axes>"
      ]
     },
     "metadata": {
      "needs_background": "light"
     },
     "output_type": "display_data"
    }
   ],
   "source": [
    "# 50cm, 100cm 길이의 농어의 이웃 및 산점도 비교\n",
    "\n",
    "# 50cm 농어의 이웃을 구함\n",
    "distances_50, indexes_50 = knr.kneighbors([[50]])\n",
    "# 100cm 농어의 이웃을 구함\n",
    "distances_100, indexes_100 = knr.kneighbors([[100]])\n",
    "\n",
    "# 훈련 세트의 산점도\n",
    "plt.scatter(train_input, train_target, label='train set')\n",
    "\n",
    "# 훈련 세트 중에서 50cm 농어의 이웃 데이터만 다시 그림\n",
    "plt.scatter(train_input[indexes_50], train_target[indexes_50],\n",
    "marker='D', label='50cm neighbors')\n",
    "\n",
    "# 50cm 농어 데이터\n",
    "plt.scatter(50, 1033, marker='^', label='50cm')\n",
    "\n",
    "# 훈련 세트 중에서 100cm 농어의 이웃 데이터만 다시 그림\n",
    "plt.scatter(train_input[indexes_100], train_target[indexes_100],\n",
    "marker='P', label='100cm neighbors')\n",
    "\n",
    "# 100cm 농어 데이터\n",
    "plt.scatter(100, 1033, marker='s', label='100cm')\n",
    "\n",
    "plt.xlim(0, 110)\n",
    "plt.legend(loc=5)\n",
    "plt.show()"
   ]
  },
  {
   "cell_type": "code",
   "execution_count": 194,
   "id": "be832fd8",
   "metadata": {},
   "outputs": [
    {
     "name": "stdout",
     "output_type": "stream",
     "text": [
      "< 훈련데이터에서 이웃 데이터의 인덱스 확인 >\n",
      "50cm neighbor indexes: [[34  8 14]]\n",
      "100cm neighbor indexes: [[34  8 14]]\n",
      "\n",
      "< 이웃 데이터의 무게 평균 계산 >\n",
      "1033.3333333333333\n",
      "1033.3333333333333\n"
     ]
    }
   ],
   "source": [
    "# k-최근접 이웃 => 이웃들이 동일함\n",
    "# k-최근접 이웃 회귀 => 평균값이 같게됨 \n",
    "# => 결국, 길이가 다른 농어 2마리(50cm, 100cm)의 예측값이 같게되는 것\n",
    "\n",
    "print('< 훈련데이터에서 이웃 데이터의 인덱스 확인 >')\n",
    "print('50cm neighbor indexes:', indexes_50)\n",
    "print('100cm neighbor indexes:', indexes_100)\n",
    "\n",
    "print('\\n< 이웃 데이터의 무게 평균 계산 >')\n",
    "print(np.mean(train_target[indexes_50]))\n",
    "print(np.mean(train_target[indexes_100]))"
   ]
  },
  {
   "cell_type": "code",
   "execution_count": 195,
   "id": "53fbf55f",
   "metadata": {},
   "outputs": [],
   "source": [
    "# 오후 1)"
   ]
  },
  {
   "cell_type": "markdown",
   "id": "706a359a",
   "metadata": {},
   "source": [
    "### 해결책 : 선형 회귀 (Linear Regression)"
   ]
  },
  {
   "cell_type": "code",
   "execution_count": 196,
   "id": "131757af",
   "metadata": {},
   "outputs": [],
   "source": [
    "# 선형 회귀 : 데이터를 가장 잘 표현할 수 있는 직선 방정식을 찾는  알고리즘"
   ]
  },
  {
   "cell_type": "code",
   "execution_count": 197,
   "id": "5757a3ba",
   "metadata": {},
   "outputs": [],
   "source": [
    "# LinearRegression 클래스 사용\n",
    "# 기울기와 절편을 찾아보는 것"
   ]
  },
  {
   "cell_type": "markdown",
   "id": "795202ab",
   "metadata": {},
   "source": [
    "##### 1) 훈련 데이터를 이용한 '직선 방정식' 구하기"
   ]
  },
  {
   "cell_type": "code",
   "execution_count": 213,
   "id": "b11c7af4",
   "metadata": {},
   "outputs": [
    {
     "name": "stdout",
     "output_type": "stream",
     "text": [
      "50cm:  [1241.83860323]\n",
      "[39.01714496] -709.0186449535477\n"
     ]
    }
   ],
   "source": [
    "from sklearn.linear_model import LinearRegression\n",
    "# 객체 생성\n",
    "lr = LinearRegression()\n",
    "\n",
    "# 선형 회귀 모델 훈련\n",
    "lr.fit(train_input, train_target)\n",
    "\n",
    "# 50cm 농어에 대한 예측\n",
    "print('50cm: ', lr.predict([[50]]))\n",
    "\n",
    "# 기울기(a): coef_, 절편(bias): intercept_\n",
    "print(lr.coef_,  lr.intercept_)\n",
    "\n",
    "# 기울기와 절편이 출력 -> 기울기는 여러개 나올 수도 있음"
   ]
  },
  {
   "cell_type": "markdown",
   "id": "d1cdf609",
   "metadata": {},
   "source": [
    "##### 2) 산점도 및 직선 그래프 그리기"
   ]
  },
  {
   "cell_type": "code",
   "execution_count": 214,
   "id": "67647061",
   "metadata": {
    "scrolled": true
   },
   "outputs": [
    {
     "data": {
      "image/png": "[encoded data removed]",
      "text/plain": [
       "<Figure size 432x288 with 1 Axes>"
      ]
     },
     "metadata": {
      "needs_background": "light"
     },
     "output_type": "display_data"
    },
    {
     "name": "stdout",
     "output_type": "stream",
     "text": [
      "train data score:  0.939846333997604\n",
      "test data score:  0.8247503123313558\n",
      "\n",
      "전체적으로 과소 적합 => 훈련 세트와 테스트 세트의 점수가 모두 낮음\n"
     ]
    }
   ],
   "source": [
    "# 기울기와 절편을 이용한 1차 방정식 그래프\n",
    "import matplotlib.pyplot as plt\n",
    "\n",
    "plt.scatter(train_input, train_target)\n",
    "\n",
    "# 15에서 50까지 1차 방정식 그래프 그리기\n",
    "# plot([x축 데이터:시작, 끝], [y축 데이터:시작, 끝])\n",
    "plt.plot([15, 50], [15*lr.coef_ + lr.intercept_, 50*lr.coef_ + lr.intercept_],\n",
    "color='red', linestyle='--')\n",
    "# 점 2개가 있을 때 직선을 그을 수 있는 그 원리\n",
    "\n",
    "# 50cm 농어 데이터\n",
    "# -> 직선의 연장선 상에 있음을 알 수 있음\n",
    "plt.scatter(50, 1241.8, marker='^', color='orangered')\n",
    "plt.show()\n",
    "\n",
    "print('train data score: ', lr.score(train_input, train_target))\n",
    "print('test data score: ', lr.score(test_input, test_target))  # 과소적합\n",
    "print('\\n전체적으로 과소 적합 => 훈련 세트와 테스트 세트의 점수가 모두 낮음')"
   ]
  },
  {
   "cell_type": "code",
   "execution_count": 230,
   "id": "632828cb",
   "metadata": {},
   "outputs": [
    {
     "name": "stdout",
     "output_type": "stream",
     "text": [
      "15cm :  [ 131.26519242 -207.3186639 ]\n",
      "16cm :  [ 132.27952453 -228.87658888]\n",
      "18cm :  [ 134.30818875 -271.99243884]\n",
      "19cm :  [ 135.32252086 -293.55036382]\n"
     ]
    }
   ],
   "source": [
    "print('15cm : ', 15*lr.coef_ + lr.intercept_)\n",
    "print('16cm : ', 16*lr.coef_ + lr.intercept_)\n",
    "print('18cm : ', 18*lr.coef_ + lr.intercept_)\n",
    "print('19cm : ', 19*lr.coef_ + lr.intercept_)"
   ]
  },
  {
   "cell_type": "code",
   "execution_count": 231,
   "id": "da1e497a",
   "metadata": {},
   "outputs": [],
   "source": [
    "# 문제점 발생 : 농어의 무게감 0보다 작게 되는 경우가 발생\n",
    "# => 1차 방정식으로 표현하기 어려움\n",
    "# => 모델이 더 복잡할 필요성이 생김"
   ]
  },
  {
   "cell_type": "markdown",
   "id": "604d5507",
   "metadata": {},
   "source": [
    "### 해결책 : 다항회귀(Polynomial Regression)"
   ]
  },
  {
   "cell_type": "code",
   "execution_count": 232,
   "id": "11d9cf11",
   "metadata": {},
   "outputs": [],
   "source": [
    "# x^2과 x에 각각 농어의 길이를 다 넣어줘야 하지요\n",
    "# -> 길이를 제곱한 항을 훈련 세트에 추가해야 됨\n",
    "# -> 농어무게 = 𝜶×길이𝟐 + 𝒃×길이+ 𝒄\n",
    "\n",
    "# -> a, b, c 3개의 값을 훈련을 통해 얻는다 -> 2차 방정식을 그려 -> 예측을 하자\n",
    "# 각각 변수에 넣기 위해 ^2에 해당하는 값을 더 넣어준 것\n",
    "\n",
    "# LinearRegression()으로 객체를 생성하는 것은 똑같음\n",
    "# 제곱수가 들어가는 것만 추가된 것 밖에 없다고 봐도 됨\n",
    "\n",
    "# 훈련세트(42x2), 테스트세트(14x2)"
   ]
  },
  {
   "cell_type": "markdown",
   "id": "bf0c806c",
   "metadata": {},
   "source": [
    "##### 1) 훈련 세트에 데이터 추가"
   ]
  },
  {
   "cell_type": "code",
   "execution_count": 233,
   "id": "358f5dcf",
   "metadata": {},
   "outputs": [
    {
     "name": "stdout",
     "output_type": "stream",
     "text": [
      "[[ 384.16   19.6 ]\n",
      " [ 484.     22.  ]\n",
      " [ 349.69   18.7 ]\n",
      " [ 302.76   17.4 ]\n",
      " [1296.     36.  ]]\n",
      "(42, 2) (14, 2)\n"
     ]
    }
   ],
   "source": [
    "# 길이를 제곱한 데이터를 훈련 세트에 추가\n",
    "# column_stack()사용 -> broadcasting 적용\n",
    "\n",
    "train_poly = np.column_stack((train_input**2, train_input))\n",
    "test_poly = np.column_stack((test_input**2, test_input))\n",
    "\n",
    "print(train_poly[0:5])\n",
    "print(train_poly.shape, test_poly.shape)"
   ]
  },
  {
   "cell_type": "markdown",
   "id": "0628dbee",
   "metadata": {},
   "source": [
    "##### 2) 다항 회귀식 구하기"
   ]
  },
  {
   "cell_type": "code",
   "execution_count": 234,
   "id": "b261473a",
   "metadata": {},
   "outputs": [],
   "source": [
    "# 선형 회귀 모델 재훈련\n",
    "# - 제곱한 데이터를 이용하여 선형 회귀 모델을 다시 훈련\n",
    "# - 타깃값은 그대로 사용함\n",
    "\n",
    "# 예측할 때도, 제곱수를 추가적으로 넣어줘\n",
    "# => 앞서 말했듯, a,b,c 3가지가 리턴됨"
   ]
  },
  {
   "cell_type": "code",
   "execution_count": 235,
   "id": "73c6eab4",
   "metadata": {},
   "outputs": [
    {
     "name": "stdout",
     "output_type": "stream",
     "text": [
      "[1573.98423528]\n",
      "[  1.01433211 -21.55792498] 116.05021078278304\n",
      "\n",
      "순서대로 a, b, c로 사용 : 농어무게 = 𝛼×길이^2 + 𝑏×길이+ 𝑐\n",
      "\n",
      "1.01×길이^2 − 21.6×길이+ 116.05\n"
     ]
    }
   ],
   "source": [
    "lr = LinearRegression()\n",
    "lr.fit(train_poly, train_target)\n",
    "print(lr.predict([[50**2, 50]])) # 50cm 농어의 무게 예측\n",
    "print(lr.coef_, lr.intercept_)\n",
    "print('\\n순서대로 a, b, c로 사용 : 농어무게 = 𝛼×길이^2 + 𝑏×길이+ 𝑐')\n",
    "print('\\n1.01×길이^2 − 21.6×길이+ 116.05')"
   ]
  },
  {
   "cell_type": "markdown",
   "id": "4cc1b4b8",
   "metadata": {},
   "source": [
    "##### 3) 다항 회귀식 그리기"
   ]
  },
  {
   "cell_type": "code",
   "execution_count": 237,
   "id": "10aced76",
   "metadata": {
    "scrolled": true
   },
   "outputs": [
    {
     "data": {
      "image/png": "[encoded data removed]",
      "text/plain": [
       "<Figure size 432x288 with 1 Axes>"
      ]
     },
     "metadata": {
      "needs_background": "light"
     },
     "output_type": "display_data"
    },
    {
     "name": "stdout",
     "output_type": "stream",
     "text": [
      "0.9706807451768623\n",
      "0.9775935108325122\n",
      "\n",
      "여전히 테스트 세트의 점수가 높음(과소 적합이 남아 있음)\n"
     ]
    }
   ],
   "source": [
    "# 구간별 직선을 그리기 위해 15에서 50까지 정수 배열을 만듬\n",
    "point= np.arange(15, 51)\n",
    "\n",
    "# 훈련 세트의 산점도 그리기\n",
    "plt.scatter(train_input, train_target)\n",
    "\n",
    "# 15에서 49까지 2차 방정식 그래프 그리기\n",
    "plt.plot(point, 1.01*point**2 - 21.6*point + 116.05, color='red', linestyle='--')\n",
    "# 이부분이 Point!!!\n",
    "\n",
    "# a=1.01  ,  b=-21.6  ,  c=116.05\n",
    "                  \n",
    "# 50cm 농어 데이터(무게:1574g)\n",
    "plt.scatter([50], [1574], marker='^')\n",
    "plt.xlabel('length')\n",
    "plt.ylabel('weight')\n",
    "plt.show()\n",
    "\n",
    "print(lr.score(train_poly, train_target))\n",
    "print(lr.score(test_poly, test_target))\n",
    "\n",
    "print('\\n여전히 테스트 세트의 점수가 높음(과소 적합이 남아 있음)')"
   ]
  },
  {
   "cell_type": "markdown",
   "id": "a6859344",
   "metadata": {},
   "source": [
    "-----------------------------------------------------------------------"
   ]
  },
  {
   "cell_type": "markdown",
   "id": "bd096f41",
   "metadata": {},
   "source": [
    "### 해결책 : 다중 회귀(Multiple Regression)"
   ]
  },
  {
   "cell_type": "code",
   "execution_count": 238,
   "id": "9ff053c0",
   "metadata": {},
   "outputs": [],
   "source": [
    "# 여러 특성을 사용하겠다 => 길이뿐만 아니라 높이, 두께 등 다른 것도 사용하겠다\n",
    "# => for 무게 예측"
   ]
  },
  {
   "cell_type": "code",
   "execution_count": 239,
   "id": "c144acfa",
   "metadata": {},
   "outputs": [],
   "source": [
    "# PolynomialFeatures 클래스 사용\n",
    "# 특성이 2개인 경우 => 평면을 사용"
   ]
  },
  {
   "cell_type": "markdown",
   "id": "43175f46",
   "metadata": {},
   "source": [
    "### 1. Pandas로 데이터 준비"
   ]
  },
  {
   "cell_type": "code",
   "execution_count": 240,
   "id": "75139f57",
   "metadata": {},
   "outputs": [
    {
     "name": "stdout",
     "output_type": "stream",
     "text": [
      "[[ 8.4   2.11  1.41]\n",
      " [13.7   3.53  2.  ]\n",
      " [15.    3.82  2.43]\n",
      " [16.2   4.59  2.63]\n",
      " [17.4   4.59  2.94]]\n",
      "(56, 3)\n"
     ]
    }
   ],
   "source": [
    "import pandas as pd\n",
    "\n",
    "df = pd.read_csv('https://bit.ly/perch_csv')\n",
    "perch_full = df.to_numpy() # DataFrame을 Numpy의 array로 변환\n",
    "\n",
    "print(perch_full[:5])\n",
    "print(perch_full.shape)"
   ]
  },
  {
   "cell_type": "markdown",
   "id": "0d29a922",
   "metadata": {},
   "source": [
    "### 2. 훈련 세트와 테스트 세트로 분리"
   ]
  },
  {
   "cell_type": "code",
   "execution_count": 241,
   "id": "b719576b",
   "metadata": {},
   "outputs": [],
   "source": [
    "# target 데이터(perch_weight)는 기존과 동일\n",
    "# perch_full, perch_weight를 훈련 세트와 테스트 세트로 분리"
   ]
  },
  {
   "cell_type": "code",
   "execution_count": 242,
   "id": "c0f49e17",
   "metadata": {},
   "outputs": [],
   "source": [
    "from sklearn.model_selection import train_test_split\n",
    "\n",
    "train_input, test_input, train_target, test_target = train_test_split(\n",
    "perch_full, perch_weight, random_state = 42)"
   ]
  },
  {
   "cell_type": "markdown",
   "id": "e286e11b",
   "metadata": {},
   "source": [
    "### 3. 사이킷런의 변환기 (Transformer)"
   ]
  },
  {
   "cell_type": "code",
   "execution_count": 243,
   "id": "3a9c56c3",
   "metadata": {},
   "outputs": [],
   "source": [
    "# perch_full에는 3가지를 포함하고 있음\n",
    "# => 각 특성들을 나누어 생각해 줘야 함"
   ]
  },
  {
   "cell_type": "code",
   "execution_count": 244,
   "id": "9d35c875",
   "metadata": {},
   "outputs": [],
   "source": [
    "# 다항 특성 만들기\n",
    "# PolynomialFeatures 클래스 사용\n",
    "# – 각 특성을 제곱한 항을 추가하고, 특성끼리 서로 곱한 항을 추가\n",
    "\n",
    "# PolynomialFeatures 클래스 사용\n",
    "# PolynomialFeatures(include_bias=True)\n",
    "# - bias 삭제 = 절편없음\n",
    "\n",
    "# fit([a, b]) : 특성 조합을 찾음\n",
    "# => 경제학에서 다뤘던 최대 효용 구하는 그것과 비슷한 느낌\n",
    "\n",
    "# - 깊이, 두께 \n",
    "# - [1, a, b, a*b, a^2, b^2]로 변환\n",
    "# transform([[a,b]]) : 특성 조합을 실제 데이터로 변환"
   ]
  },
  {
   "cell_type": "markdown",
   "id": "d8c5de7d",
   "metadata": {},
   "source": [
    "##### PolynomialFeaures 간단 예제"
   ]
  },
  {
   "cell_type": "code",
   "execution_count": 245,
   "id": "1e871d0c",
   "metadata": {},
   "outputs": [
    {
     "name": "stdout",
     "output_type": "stream",
     "text": [
      "[[1. 2. 3. 4. 6. 9.]]\n"
     ]
    }
   ],
   "source": [
    "from sklearn.preprocessing import PolynomialFeatures\n",
    "# PolynomialFeatures(include_bias=True)\n",
    "\n",
    "poly = PolynomialFeatures() # include_bias=True (기본값)\n",
    "poly.fit([[2, 3]]) # 2, 3의 조합을 찾음(2^2, 3^2, 2x3)\n",
    "print(poly.transform([[2, 3]])) # 특성 조합을 데이터로 변환"
   ]
  },
  {
   "cell_type": "code",
   "execution_count": 246,
   "id": "d8ede76d",
   "metadata": {},
   "outputs": [
    {
     "name": "stdout",
     "output_type": "stream",
     "text": [
      "[[2. 3. 4. 6. 9.]]\n"
     ]
    }
   ],
   "source": [
    "# PolynomialFeatures(include_bias=False)\n",
    "\n",
    "poly = PolynomialFeatures(include_bias=False) # include_bias=False: 1 제거\n",
    "poly.fit([[2, 3]])\n",
    "print(poly.transform([[2, 3]]))\n",
    "\n",
    "# False하면 1이 없징"
   ]
  },
  {
   "cell_type": "markdown",
   "id": "48cc11d8",
   "metadata": {},
   "source": [
    "### 다항 특성 만들기"
   ]
  },
  {
   "cell_type": "code",
   "execution_count": 248,
   "id": "85ddc403",
   "metadata": {},
   "outputs": [
    {
     "name": "stdout",
     "output_type": "stream",
     "text": [
      "[[ 19.6      5.14     3.04   384.16   100.744   59.584   26.4196  15.6256\n",
      "    9.2416]\n",
      " [ 22.       5.88     3.52   484.     129.36    77.44    34.5744  20.6976\n",
      "   12.3904]\n",
      " [ 18.7      5.2      3.12   349.69    97.24    58.344   27.04    16.224\n",
      "    9.7344]]\n",
      "(42, 9)\n"
     ]
    }
   ],
   "source": [
    "from sklearn.preprocessing import PolynomialFeatures\n",
    "\n",
    "poly = PolynomialFeatures(include_bias=False)\n",
    "poly.fit(train_input)\n",
    "train_poly = poly.transform(train_input) # train_input 데이터를 이용하여\n",
    "# 총 9개의 특성이 만들어짐\n",
    "\n",
    "print(train_poly[0:3])\n",
    "print(train_poly.shape)\n",
    "test_poly = poly.transform(test_input)\n",
    "\n",
    "# 캡처 참고\n",
    "# 1행에 9개 컬럼"
   ]
  },
  {
   "cell_type": "code",
   "execution_count": 249,
   "id": "ae353f9f",
   "metadata": {},
   "outputs": [
    {
     "name": "stdout",
     "output_type": "stream",
     "text": [
      "['x0' 'x1' 'x2' 'x0^2' 'x0 x1' 'x0 x2' 'x1^2' 'x1 x2' 'x2^2']\n"
     ]
    }
   ],
   "source": [
    "# get_feature_names()\n",
    "# -> 각 특성의 조합을 알려줌\n",
    "print(poly.get_feature_names_out())"
   ]
  },
  {
   "cell_type": "markdown",
   "id": "b9df7740",
   "metadata": {},
   "source": [
    "### 다중 회귀 모델 훈련"
   ]
  },
  {
   "cell_type": "code",
   "execution_count": 250,
   "id": "647f7207",
   "metadata": {},
   "outputs": [
    {
     "name": "stdout",
     "output_type": "stream",
     "text": [
      "0.9903183436982124\n",
      "\n",
      "0.9714559911594203\n"
     ]
    }
   ],
   "source": [
    "from sklearn.linear_model import LinearRegression\n",
    "\n",
    "lr = LinearRegression()\n",
    "lr.fit(train_poly, train_target)\n",
    "\n",
    "print(lr.score(train_poly, train_target))\n",
    "print()\n",
    "print(lr.score(test_poly, test_target))\n",
    "\n",
    "# 여러 개의 특성 조합이 늘어나면서 정확도 상승"
   ]
  },
  {
   "cell_type": "markdown",
   "id": "352752b4",
   "metadata": {},
   "source": [
    "### 다중 회귀 모델 훈련 #2"
   ]
  },
  {
   "cell_type": "code",
   "execution_count": 257,
   "id": "5dd750d7",
   "metadata": {},
   "outputs": [
    {
     "name": "stdout",
     "output_type": "stream",
     "text": [
      "(42, 55)\n",
      "훈련 세트 score : 0.999999999997515\n",
      "테스트 세트 score : -144.40196592191958\n",
      "=> 훈련 세트에 과대 적합\n"
     ]
    }
   ],
   "source": [
    "# 개수에 따라서 degree가 정해짐 (3개 -> 9개)\n",
    "# degree 증가 등 선택가능\n",
    "# - 고차항의 최대 차수 지정\n",
    "# - 3제곱, 4제곱, 5제곱 항 추가\n",
    "\n",
    "# 고차항의 최대 차수 증가 (5차)\n",
    "poly = PolynomialFeatures(degree=5, include_bias=False)\n",
    "poly.fit(train_input)\n",
    "train_poly = poly.transform(train_input)\n",
    "test_poly = poly.transform(test_input)\n",
    "print(train_poly.shape)\n",
    "\n",
    "# 선형 회귀 모델 훈련 및 훈련 세트 점수 계산\n",
    "lr.fit(train_poly, train_target)\n",
    "print('훈련 세트 score : {}'.format(lr.score(train_poly, train_target)))\n",
    "\n",
    "# 테스트 세트 점수 계산\n",
    "print('테스트 세트 score : {}'.format(lr.score(test_poly, test_target)))\n",
    "print('=> 훈련 세트에 과대 적합')"
   ]
  },
  {
   "cell_type": "code",
   "execution_count": 258,
   "id": "eb6054ee",
   "metadata": {},
   "outputs": [],
   "source": [
    "# 문제점 발생 : 과대적합 발생"
   ]
  },
  {
   "cell_type": "markdown",
   "id": "9f99f20e",
   "metadata": {},
   "source": [
    "### 표준화 (규제 전에 행해야 함)"
   ]
  },
  {
   "cell_type": "code",
   "execution_count": 266,
   "id": "085dc0e3",
   "metadata": {},
   "outputs": [],
   "source": [
    "# 표준화, 정규화 차이\n",
    "# 필요할 때, 적절한 것 골라서 사용\n",
    "\n",
    "# StandardScaler 클래스를 사용한 표준화\n",
    "# - 평균과 표준 편차 사용\n",
    "# - fit(), transform() 사용\n",
    "\n",
    "from sklearn.preprocessing import StandardScaler\n",
    "\n",
    "ss = StandardScaler()\n",
    "ss.fit(train_poly)\n",
    "train_scaled = ss.transform(train_poly)\n",
    "test_scaled = ss.transform(test_poly)"
   ]
  },
  {
   "cell_type": "markdown",
   "id": "283f3f68",
   "metadata": {},
   "source": [
    "### 문제점 해결 : 규제 (Regularization)"
   ]
  },
  {
   "cell_type": "code",
   "execution_count": 265,
   "id": "d6862ce6",
   "metadata": {},
   "outputs": [],
   "source": [
    "# 계수(가중치)를 더해서 내부의 규제 방법을 통해 처리"
   ]
  },
  {
   "cell_type": "markdown",
   "id": "5701fb45",
   "metadata": {},
   "source": [
    "### i) 릿지 모델"
   ]
  },
  {
   "cell_type": "code",
   "execution_count": 271,
   "id": "0c4951cd",
   "metadata": {},
   "outputs": [
    {
     "name": "stdout",
     "output_type": "stream",
     "text": [
      "0.9896101671037343\n"
     ]
    }
   ],
   "source": [
    "from sklearn.linear_model import Ridge\n",
    "ridge = Ridge() # alpha=1.0\n",
    "ridge.fit(train_scaled, train_target)\n",
    "print(ridge.score(train_scaled, train_target)) #훈련 세트 점수 확인"
   ]
  },
  {
   "cell_type": "code",
   "execution_count": 272,
   "id": "bd292aac",
   "metadata": {
    "scrolled": true
   },
   "outputs": [
    {
     "name": "stdout",
     "output_type": "stream",
     "text": [
      "0.9790693977615398\n"
     ]
    }
   ],
   "source": [
    "# 테스트 세트의 점수가 정상으로 돌아옴 \n",
    "# -144 -> 0.97xxxx 정상으로 돌아옴 (이렇게 잘 돌아오는 게 흔한 일은 아님)\n",
    "print(ridge.score(test_scaled, test_target))"
   ]
  },
  {
   "cell_type": "code",
   "execution_count": 273,
   "id": "86cceb3a",
   "metadata": {
    "collapsed": true
   },
   "outputs": [
    {
     "ename": "ValueError",
     "evalue": "x and y must have same first dimension, but have shapes (6,) and (1,)",
     "output_type": "error",
     "traceback": [
      "\u001b[1;31m---------------------------------------------------------------------------\u001b[0m",
      "\u001b[1;31mValueError\u001b[0m                                Traceback (most recent call last)",
      "Input \u001b[1;32mIn [273]\u001b[0m, in \u001b[0;36m<cell line: 7>\u001b[1;34m()\u001b[0m\n\u001b[0;32m     12\u001b[0m train_score\u001b[38;5;241m.\u001b[39mappend(ridge\u001b[38;5;241m.\u001b[39mscore(train_scaled, train_target))\n\u001b[0;32m     13\u001b[0m test_score\u001b[38;5;241m.\u001b[39mappend(ridge\u001b[38;5;241m.\u001b[39mscore(test_scaled, test_target))\n\u001b[1;32m---> 15\u001b[0m \u001b[43mplt\u001b[49m\u001b[38;5;241;43m.\u001b[39;49m\u001b[43mplot\u001b[49m\u001b[43m(\u001b[49m\u001b[43mnp\u001b[49m\u001b[38;5;241;43m.\u001b[39;49m\u001b[43mlog10\u001b[49m\u001b[43m(\u001b[49m\u001b[43malpha_list\u001b[49m\u001b[43m)\u001b[49m\u001b[43m,\u001b[49m\u001b[43m \u001b[49m\u001b[43mtrain_score\u001b[49m\u001b[43m,\u001b[49m\n\u001b[0;32m     16\u001b[0m \u001b[43m\u001b[49m\u001b[43mlabel\u001b[49m\u001b[38;5;241;43m=\u001b[39;49m\u001b[38;5;124;43m'\u001b[39;49m\u001b[38;5;124;43mtrain_set score\u001b[39;49m\u001b[38;5;124;43m'\u001b[39;49m\u001b[43m,\u001b[49m\u001b[43m \u001b[49m\u001b[43mmarker\u001b[49m\u001b[38;5;241;43m=\u001b[39;49m\u001b[38;5;124;43m'\u001b[39;49m\u001b[38;5;124;43mo\u001b[39;49m\u001b[38;5;124;43m'\u001b[39;49m\u001b[43m,\u001b[49m\u001b[43m \u001b[49m\u001b[43mmarkersize\u001b[49m\u001b[38;5;241;43m=\u001b[39;49m\u001b[38;5;241;43m3\u001b[39;49m\u001b[43m)\u001b[49m\n\u001b[0;32m     17\u001b[0m plt\u001b[38;5;241m.\u001b[39mplot(np\u001b[38;5;241m.\u001b[39mlog10(alpha_list), test_score,\n\u001b[0;32m     18\u001b[0m label\u001b[38;5;241m=\u001b[39m\u001b[38;5;124m'\u001b[39m\u001b[38;5;124mtest_set score\u001b[39m\u001b[38;5;124m'\u001b[39m, marker\u001b[38;5;241m=\u001b[39m\u001b[38;5;124m'\u001b[39m\u001b[38;5;124ms\u001b[39m\u001b[38;5;124m'\u001b[39m, markersize\u001b[38;5;241m=\u001b[39m\u001b[38;5;241m3\u001b[39m)\n\u001b[0;32m     20\u001b[0m plt\u001b[38;5;241m.\u001b[39mxlabel(\u001b[38;5;124m'\u001b[39m\u001b[38;5;124malpha\u001b[39m\u001b[38;5;124m'\u001b[39m)\n",
      "File \u001b[1;32mC:\\ProgramData\\Anaconda3\\lib\\site-packages\\matplotlib\\pyplot.py:2757\u001b[0m, in \u001b[0;36mplot\u001b[1;34m(scalex, scaley, data, *args, **kwargs)\u001b[0m\n\u001b[0;32m   2755\u001b[0m \u001b[38;5;129m@_copy_docstring_and_deprecators\u001b[39m(Axes\u001b[38;5;241m.\u001b[39mplot)\n\u001b[0;32m   2756\u001b[0m \u001b[38;5;28;01mdef\u001b[39;00m \u001b[38;5;21mplot\u001b[39m(\u001b[38;5;241m*\u001b[39margs, scalex\u001b[38;5;241m=\u001b[39m\u001b[38;5;28;01mTrue\u001b[39;00m, scaley\u001b[38;5;241m=\u001b[39m\u001b[38;5;28;01mTrue\u001b[39;00m, data\u001b[38;5;241m=\u001b[39m\u001b[38;5;28;01mNone\u001b[39;00m, \u001b[38;5;241m*\u001b[39m\u001b[38;5;241m*\u001b[39mkwargs):\n\u001b[1;32m-> 2757\u001b[0m     \u001b[38;5;28;01mreturn\u001b[39;00m gca()\u001b[38;5;241m.\u001b[39mplot(\n\u001b[0;32m   2758\u001b[0m         \u001b[38;5;241m*\u001b[39margs, scalex\u001b[38;5;241m=\u001b[39mscalex, scaley\u001b[38;5;241m=\u001b[39mscaley,\n\u001b[0;32m   2759\u001b[0m         \u001b[38;5;241m*\u001b[39m\u001b[38;5;241m*\u001b[39m({\u001b[38;5;124m\"\u001b[39m\u001b[38;5;124mdata\u001b[39m\u001b[38;5;124m\"\u001b[39m: data} \u001b[38;5;28;01mif\u001b[39;00m data \u001b[38;5;129;01mis\u001b[39;00m \u001b[38;5;129;01mnot\u001b[39;00m \u001b[38;5;28;01mNone\u001b[39;00m \u001b[38;5;28;01melse\u001b[39;00m {}), \u001b[38;5;241m*\u001b[39m\u001b[38;5;241m*\u001b[39mkwargs)\n",
      "File \u001b[1;32mC:\\ProgramData\\Anaconda3\\lib\\site-packages\\matplotlib\\axes\\_axes.py:1632\u001b[0m, in \u001b[0;36mAxes.plot\u001b[1;34m(self, scalex, scaley, data, *args, **kwargs)\u001b[0m\n\u001b[0;32m   1390\u001b[0m \u001b[38;5;124;03m\"\"\"\u001b[39;00m\n\u001b[0;32m   1391\u001b[0m \u001b[38;5;124;03mPlot y versus x as lines and/or markers.\u001b[39;00m\n\u001b[0;32m   1392\u001b[0m \n\u001b[1;32m   (...)\u001b[0m\n\u001b[0;32m   1629\u001b[0m \u001b[38;5;124;03m(``'green'``) or hex strings (``'#008000'``).\u001b[39;00m\n\u001b[0;32m   1630\u001b[0m \u001b[38;5;124;03m\"\"\"\u001b[39;00m\n\u001b[0;32m   1631\u001b[0m kwargs \u001b[38;5;241m=\u001b[39m cbook\u001b[38;5;241m.\u001b[39mnormalize_kwargs(kwargs, mlines\u001b[38;5;241m.\u001b[39mLine2D)\n\u001b[1;32m-> 1632\u001b[0m lines \u001b[38;5;241m=\u001b[39m [\u001b[38;5;241m*\u001b[39m\u001b[38;5;28mself\u001b[39m\u001b[38;5;241m.\u001b[39m_get_lines(\u001b[38;5;241m*\u001b[39margs, data\u001b[38;5;241m=\u001b[39mdata, \u001b[38;5;241m*\u001b[39m\u001b[38;5;241m*\u001b[39mkwargs)]\n\u001b[0;32m   1633\u001b[0m \u001b[38;5;28;01mfor\u001b[39;00m line \u001b[38;5;129;01min\u001b[39;00m lines:\n\u001b[0;32m   1634\u001b[0m     \u001b[38;5;28mself\u001b[39m\u001b[38;5;241m.\u001b[39madd_line(line)\n",
      "File \u001b[1;32mC:\\ProgramData\\Anaconda3\\lib\\site-packages\\matplotlib\\axes\\_base.py:312\u001b[0m, in \u001b[0;36m_process_plot_var_args.__call__\u001b[1;34m(self, data, *args, **kwargs)\u001b[0m\n\u001b[0;32m    310\u001b[0m     this \u001b[38;5;241m+\u001b[39m\u001b[38;5;241m=\u001b[39m args[\u001b[38;5;241m0\u001b[39m],\n\u001b[0;32m    311\u001b[0m     args \u001b[38;5;241m=\u001b[39m args[\u001b[38;5;241m1\u001b[39m:]\n\u001b[1;32m--> 312\u001b[0m \u001b[38;5;28;01myield from\u001b[39;00m \u001b[38;5;28;43mself\u001b[39;49m\u001b[38;5;241;43m.\u001b[39;49m\u001b[43m_plot_args\u001b[49m\u001b[43m(\u001b[49m\u001b[43mthis\u001b[49m\u001b[43m,\u001b[49m\u001b[43m \u001b[49m\u001b[43mkwargs\u001b[49m\u001b[43m)\u001b[49m\n",
      "File \u001b[1;32mC:\\ProgramData\\Anaconda3\\lib\\site-packages\\matplotlib\\axes\\_base.py:498\u001b[0m, in \u001b[0;36m_process_plot_var_args._plot_args\u001b[1;34m(self, tup, kwargs, return_kwargs)\u001b[0m\n\u001b[0;32m    495\u001b[0m     \u001b[38;5;28mself\u001b[39m\u001b[38;5;241m.\u001b[39maxes\u001b[38;5;241m.\u001b[39myaxis\u001b[38;5;241m.\u001b[39mupdate_units(y)\n\u001b[0;32m    497\u001b[0m \u001b[38;5;28;01mif\u001b[39;00m x\u001b[38;5;241m.\u001b[39mshape[\u001b[38;5;241m0\u001b[39m] \u001b[38;5;241m!=\u001b[39m y\u001b[38;5;241m.\u001b[39mshape[\u001b[38;5;241m0\u001b[39m]:\n\u001b[1;32m--> 498\u001b[0m     \u001b[38;5;28;01mraise\u001b[39;00m \u001b[38;5;167;01mValueError\u001b[39;00m(\u001b[38;5;124mf\u001b[39m\u001b[38;5;124m\"\u001b[39m\u001b[38;5;124mx and y must have same first dimension, but \u001b[39m\u001b[38;5;124m\"\u001b[39m\n\u001b[0;32m    499\u001b[0m                      \u001b[38;5;124mf\u001b[39m\u001b[38;5;124m\"\u001b[39m\u001b[38;5;124mhave shapes \u001b[39m\u001b[38;5;132;01m{\u001b[39;00mx\u001b[38;5;241m.\u001b[39mshape\u001b[38;5;132;01m}\u001b[39;00m\u001b[38;5;124m and \u001b[39m\u001b[38;5;132;01m{\u001b[39;00my\u001b[38;5;241m.\u001b[39mshape\u001b[38;5;132;01m}\u001b[39;00m\u001b[38;5;124m\"\u001b[39m)\n\u001b[0;32m    500\u001b[0m \u001b[38;5;28;01mif\u001b[39;00m x\u001b[38;5;241m.\u001b[39mndim \u001b[38;5;241m>\u001b[39m \u001b[38;5;241m2\u001b[39m \u001b[38;5;129;01mor\u001b[39;00m y\u001b[38;5;241m.\u001b[39mndim \u001b[38;5;241m>\u001b[39m \u001b[38;5;241m2\u001b[39m:\n\u001b[0;32m    501\u001b[0m     \u001b[38;5;28;01mraise\u001b[39;00m \u001b[38;5;167;01mValueError\u001b[39;00m(\u001b[38;5;124mf\u001b[39m\u001b[38;5;124m\"\u001b[39m\u001b[38;5;124mx and y can be no greater than 2D, but have \u001b[39m\u001b[38;5;124m\"\u001b[39m\n\u001b[0;32m    502\u001b[0m                      \u001b[38;5;124mf\u001b[39m\u001b[38;5;124m\"\u001b[39m\u001b[38;5;124mshapes \u001b[39m\u001b[38;5;132;01m{\u001b[39;00mx\u001b[38;5;241m.\u001b[39mshape\u001b[38;5;132;01m}\u001b[39;00m\u001b[38;5;124m and \u001b[39m\u001b[38;5;132;01m{\u001b[39;00my\u001b[38;5;241m.\u001b[39mshape\u001b[38;5;132;01m}\u001b[39;00m\u001b[38;5;124m\"\u001b[39m)\n",
      "\u001b[1;31mValueError\u001b[0m: x and y must have same first dimension, but have shapes (6,) and (1,)"
     ]
    },
    {
     "data": {
      "image/png": "[encoded data removed]",
      "text/plain": [
       "<Figure size 432x288 with 1 Axes>"
      ]
     },
     "metadata": {
      "needs_background": "light"
     },
     "output_type": "display_data"
    }
   ],
   "source": [
    "# 적절한 alpha 찾기\n",
    "import matplotlib.pyplot as plt\n",
    "train_score = []\n",
    "test_score = []\n",
    "alpha_list = [0.001, 0.01, 0.1, 1, 10, 100]\n",
    "\n",
    "for alpha in alpha_list:\n",
    "    ridge = Ridge(alpha=alpha)\n",
    "    ridge.fit(train_scaled, train_target)\n",
    "\n",
    "    #훈련 세트와 테스트 세트 점수를 저장\n",
    "    train_score.append(ridge.score(train_scaled, train_target))\n",
    "    test_score.append(ridge.score(test_scaled, test_target))\n",
    "\n",
    "    plt.plot(np.log10(alpha_list), train_score,\n",
    "    label='train_set score', marker='o', markersize=3)\n",
    "    plt.plot(np.log10(alpha_list), test_score,\n",
    "    label='test_set score', marker='s', markersize=3)\n",
    "\n",
    "    plt.xlabel('alpha')\n",
    "    plt.ylabel('R^2')\n",
    "    plt.legend()\n",
    "    plt.show()"
   ]
  },
  {
   "cell_type": "code",
   "execution_count": 270,
   "id": "1a1e6f8e",
   "metadata": {},
   "outputs": [
    {
     "name": "stdout",
     "output_type": "stream",
     "text": [
      "0.9903815817570362\n",
      "0.9827976465386904\n"
     ]
    }
   ],
   "source": [
    "# alpha=0.1 적용\n",
    "ridge = Ridge(alpha=0.1)\n",
    "ridge.fit(train_scaled, train_target)\n",
    "print(ridge.score(train_scaled, train_target))\n",
    "print(ridge.score(test_scaled, test_target))"
   ]
  },
  {
   "cell_type": "markdown",
   "id": "1616113d",
   "metadata": {},
   "source": [
    "### ii) 라쏘 모델"
   ]
  },
  {
   "cell_type": "code",
   "execution_count": 274,
   "id": "9a4f089b",
   "metadata": {},
   "outputs": [
    {
     "name": "stdout",
     "output_type": "stream",
     "text": [
      "0.989789897208096\n"
     ]
    }
   ],
   "source": [
    "# max_iter를 어느 정도 크게 해주면 경고 메시지가 사라지게 됨\n",
    "\n",
    "from sklearn.linear_model import Lasso\n",
    "lasso = Lasso()\n",
    "lasso.fit(train_scaled, train_target)\n",
    "print(lasso.score(train_scaled, train_target))"
   ]
  },
  {
   "cell_type": "code",
   "execution_count": 275,
   "id": "85b0e894",
   "metadata": {},
   "outputs": [
    {
     "name": "stdout",
     "output_type": "stream",
     "text": [
      "0.9800593698421886\n"
     ]
    }
   ],
   "source": [
    "print(lasso.score(test_scaled, test_target))"
   ]
  },
  {
   "cell_type": "code",
   "execution_count": 276,
   "id": "f740b090",
   "metadata": {
    "collapsed": true
   },
   "outputs": [
    {
     "name": "stderr",
     "output_type": "stream",
     "text": [
      "C:\\ProgramData\\Anaconda3\\lib\\site-packages\\sklearn\\linear_model\\_coordinate_descent.py:647: ConvergenceWarning: Objective did not converge. You might want to increase the number of iterations, check the scale of the features or consider increasing regularisation. Duality gap: 1.878e+04, tolerance: 5.183e+02\n",
      "  model = cd_fast.enet_coordinate_descent(\n"
     ]
    },
    {
     "ename": "ValueError",
     "evalue": "x and y must have same first dimension, but have shapes (6,) and (1,)",
     "output_type": "error",
     "traceback": [
      "\u001b[1;31m---------------------------------------------------------------------------\u001b[0m",
      "\u001b[1;31mValueError\u001b[0m                                Traceback (most recent call last)",
      "Input \u001b[1;32mIn [276]\u001b[0m, in \u001b[0;36m<cell line: 7>\u001b[1;34m()\u001b[0m\n\u001b[0;32m     13\u001b[0m train_score\u001b[38;5;241m.\u001b[39mappend(lasso\u001b[38;5;241m.\u001b[39mscore(train_scaled, train_target))\n\u001b[0;32m     14\u001b[0m test_score\u001b[38;5;241m.\u001b[39mappend(lasso\u001b[38;5;241m.\u001b[39mscore(test_scaled, test_target))\n\u001b[1;32m---> 15\u001b[0m \u001b[43mplt\u001b[49m\u001b[38;5;241;43m.\u001b[39;49m\u001b[43mplot\u001b[49m\u001b[43m(\u001b[49m\u001b[43mnp\u001b[49m\u001b[38;5;241;43m.\u001b[39;49m\u001b[43mlog10\u001b[49m\u001b[43m(\u001b[49m\u001b[43malpha_list\u001b[49m\u001b[43m)\u001b[49m\u001b[43m,\u001b[49m\u001b[43m \u001b[49m\u001b[43mtrain_score\u001b[49m\u001b[43m,\u001b[49m\n\u001b[0;32m     16\u001b[0m \u001b[43m\u001b[49m\u001b[43mlabel\u001b[49m\u001b[38;5;241;43m=\u001b[39;49m\u001b[38;5;124;43m'\u001b[39;49m\u001b[38;5;124;43mtrain_set score\u001b[39;49m\u001b[38;5;124;43m'\u001b[39;49m\u001b[43m,\u001b[49m\u001b[43m \u001b[49m\u001b[43mmarker\u001b[49m\u001b[38;5;241;43m=\u001b[39;49m\u001b[38;5;124;43m'\u001b[39;49m\u001b[38;5;124;43mo\u001b[39;49m\u001b[38;5;124;43m'\u001b[39;49m\u001b[43m,\u001b[49m\u001b[43m \u001b[49m\u001b[43mmarkersize\u001b[49m\u001b[38;5;241;43m=\u001b[39;49m\u001b[38;5;241;43m3\u001b[39;49m\u001b[43m)\u001b[49m\n\u001b[0;32m     17\u001b[0m plt\u001b[38;5;241m.\u001b[39mplot(np\u001b[38;5;241m.\u001b[39mlog10(alpha_list), test_score,\n\u001b[0;32m     18\u001b[0m label\u001b[38;5;241m=\u001b[39m\u001b[38;5;124m'\u001b[39m\u001b[38;5;124mtest_set score\u001b[39m\u001b[38;5;124m'\u001b[39m, marker\u001b[38;5;241m=\u001b[39m\u001b[38;5;124m'\u001b[39m\u001b[38;5;124ms\u001b[39m\u001b[38;5;124m'\u001b[39m, markersize\u001b[38;5;241m=\u001b[39m\u001b[38;5;241m3\u001b[39m)\n\u001b[0;32m     19\u001b[0m plt\u001b[38;5;241m.\u001b[39mxlabel(\u001b[38;5;124m'\u001b[39m\u001b[38;5;124malpha\u001b[39m\u001b[38;5;124m'\u001b[39m)\n",
      "File \u001b[1;32mC:\\ProgramData\\Anaconda3\\lib\\site-packages\\matplotlib\\pyplot.py:2757\u001b[0m, in \u001b[0;36mplot\u001b[1;34m(scalex, scaley, data, *args, **kwargs)\u001b[0m\n\u001b[0;32m   2755\u001b[0m \u001b[38;5;129m@_copy_docstring_and_deprecators\u001b[39m(Axes\u001b[38;5;241m.\u001b[39mplot)\n\u001b[0;32m   2756\u001b[0m \u001b[38;5;28;01mdef\u001b[39;00m \u001b[38;5;21mplot\u001b[39m(\u001b[38;5;241m*\u001b[39margs, scalex\u001b[38;5;241m=\u001b[39m\u001b[38;5;28;01mTrue\u001b[39;00m, scaley\u001b[38;5;241m=\u001b[39m\u001b[38;5;28;01mTrue\u001b[39;00m, data\u001b[38;5;241m=\u001b[39m\u001b[38;5;28;01mNone\u001b[39;00m, \u001b[38;5;241m*\u001b[39m\u001b[38;5;241m*\u001b[39mkwargs):\n\u001b[1;32m-> 2757\u001b[0m     \u001b[38;5;28;01mreturn\u001b[39;00m gca()\u001b[38;5;241m.\u001b[39mplot(\n\u001b[0;32m   2758\u001b[0m         \u001b[38;5;241m*\u001b[39margs, scalex\u001b[38;5;241m=\u001b[39mscalex, scaley\u001b[38;5;241m=\u001b[39mscaley,\n\u001b[0;32m   2759\u001b[0m         \u001b[38;5;241m*\u001b[39m\u001b[38;5;241m*\u001b[39m({\u001b[38;5;124m\"\u001b[39m\u001b[38;5;124mdata\u001b[39m\u001b[38;5;124m\"\u001b[39m: data} \u001b[38;5;28;01mif\u001b[39;00m data \u001b[38;5;129;01mis\u001b[39;00m \u001b[38;5;129;01mnot\u001b[39;00m \u001b[38;5;28;01mNone\u001b[39;00m \u001b[38;5;28;01melse\u001b[39;00m {}), \u001b[38;5;241m*\u001b[39m\u001b[38;5;241m*\u001b[39mkwargs)\n",
      "File \u001b[1;32mC:\\ProgramData\\Anaconda3\\lib\\site-packages\\matplotlib\\axes\\_axes.py:1632\u001b[0m, in \u001b[0;36mAxes.plot\u001b[1;34m(self, scalex, scaley, data, *args, **kwargs)\u001b[0m\n\u001b[0;32m   1390\u001b[0m \u001b[38;5;124;03m\"\"\"\u001b[39;00m\n\u001b[0;32m   1391\u001b[0m \u001b[38;5;124;03mPlot y versus x as lines and/or markers.\u001b[39;00m\n\u001b[0;32m   1392\u001b[0m \n\u001b[1;32m   (...)\u001b[0m\n\u001b[0;32m   1629\u001b[0m \u001b[38;5;124;03m(``'green'``) or hex strings (``'#008000'``).\u001b[39;00m\n\u001b[0;32m   1630\u001b[0m \u001b[38;5;124;03m\"\"\"\u001b[39;00m\n\u001b[0;32m   1631\u001b[0m kwargs \u001b[38;5;241m=\u001b[39m cbook\u001b[38;5;241m.\u001b[39mnormalize_kwargs(kwargs, mlines\u001b[38;5;241m.\u001b[39mLine2D)\n\u001b[1;32m-> 1632\u001b[0m lines \u001b[38;5;241m=\u001b[39m [\u001b[38;5;241m*\u001b[39m\u001b[38;5;28mself\u001b[39m\u001b[38;5;241m.\u001b[39m_get_lines(\u001b[38;5;241m*\u001b[39margs, data\u001b[38;5;241m=\u001b[39mdata, \u001b[38;5;241m*\u001b[39m\u001b[38;5;241m*\u001b[39mkwargs)]\n\u001b[0;32m   1633\u001b[0m \u001b[38;5;28;01mfor\u001b[39;00m line \u001b[38;5;129;01min\u001b[39;00m lines:\n\u001b[0;32m   1634\u001b[0m     \u001b[38;5;28mself\u001b[39m\u001b[38;5;241m.\u001b[39madd_line(line)\n",
      "File \u001b[1;32mC:\\ProgramData\\Anaconda3\\lib\\site-packages\\matplotlib\\axes\\_base.py:312\u001b[0m, in \u001b[0;36m_process_plot_var_args.__call__\u001b[1;34m(self, data, *args, **kwargs)\u001b[0m\n\u001b[0;32m    310\u001b[0m     this \u001b[38;5;241m+\u001b[39m\u001b[38;5;241m=\u001b[39m args[\u001b[38;5;241m0\u001b[39m],\n\u001b[0;32m    311\u001b[0m     args \u001b[38;5;241m=\u001b[39m args[\u001b[38;5;241m1\u001b[39m:]\n\u001b[1;32m--> 312\u001b[0m \u001b[38;5;28;01myield from\u001b[39;00m \u001b[38;5;28;43mself\u001b[39;49m\u001b[38;5;241;43m.\u001b[39;49m\u001b[43m_plot_args\u001b[49m\u001b[43m(\u001b[49m\u001b[43mthis\u001b[49m\u001b[43m,\u001b[49m\u001b[43m \u001b[49m\u001b[43mkwargs\u001b[49m\u001b[43m)\u001b[49m\n",
      "File \u001b[1;32mC:\\ProgramData\\Anaconda3\\lib\\site-packages\\matplotlib\\axes\\_base.py:498\u001b[0m, in \u001b[0;36m_process_plot_var_args._plot_args\u001b[1;34m(self, tup, kwargs, return_kwargs)\u001b[0m\n\u001b[0;32m    495\u001b[0m     \u001b[38;5;28mself\u001b[39m\u001b[38;5;241m.\u001b[39maxes\u001b[38;5;241m.\u001b[39myaxis\u001b[38;5;241m.\u001b[39mupdate_units(y)\n\u001b[0;32m    497\u001b[0m \u001b[38;5;28;01mif\u001b[39;00m x\u001b[38;5;241m.\u001b[39mshape[\u001b[38;5;241m0\u001b[39m] \u001b[38;5;241m!=\u001b[39m y\u001b[38;5;241m.\u001b[39mshape[\u001b[38;5;241m0\u001b[39m]:\n\u001b[1;32m--> 498\u001b[0m     \u001b[38;5;28;01mraise\u001b[39;00m \u001b[38;5;167;01mValueError\u001b[39;00m(\u001b[38;5;124mf\u001b[39m\u001b[38;5;124m\"\u001b[39m\u001b[38;5;124mx and y must have same first dimension, but \u001b[39m\u001b[38;5;124m\"\u001b[39m\n\u001b[0;32m    499\u001b[0m                      \u001b[38;5;124mf\u001b[39m\u001b[38;5;124m\"\u001b[39m\u001b[38;5;124mhave shapes \u001b[39m\u001b[38;5;132;01m{\u001b[39;00mx\u001b[38;5;241m.\u001b[39mshape\u001b[38;5;132;01m}\u001b[39;00m\u001b[38;5;124m and \u001b[39m\u001b[38;5;132;01m{\u001b[39;00my\u001b[38;5;241m.\u001b[39mshape\u001b[38;5;132;01m}\u001b[39;00m\u001b[38;5;124m\"\u001b[39m)\n\u001b[0;32m    500\u001b[0m \u001b[38;5;28;01mif\u001b[39;00m x\u001b[38;5;241m.\u001b[39mndim \u001b[38;5;241m>\u001b[39m \u001b[38;5;241m2\u001b[39m \u001b[38;5;129;01mor\u001b[39;00m y\u001b[38;5;241m.\u001b[39mndim \u001b[38;5;241m>\u001b[39m \u001b[38;5;241m2\u001b[39m:\n\u001b[0;32m    501\u001b[0m     \u001b[38;5;28;01mraise\u001b[39;00m \u001b[38;5;167;01mValueError\u001b[39;00m(\u001b[38;5;124mf\u001b[39m\u001b[38;5;124m\"\u001b[39m\u001b[38;5;124mx and y can be no greater than 2D, but have \u001b[39m\u001b[38;5;124m\"\u001b[39m\n\u001b[0;32m    502\u001b[0m                      \u001b[38;5;124mf\u001b[39m\u001b[38;5;124m\"\u001b[39m\u001b[38;5;124mshapes \u001b[39m\u001b[38;5;132;01m{\u001b[39;00mx\u001b[38;5;241m.\u001b[39mshape\u001b[38;5;132;01m}\u001b[39;00m\u001b[38;5;124m and \u001b[39m\u001b[38;5;132;01m{\u001b[39;00my\u001b[38;5;241m.\u001b[39mshape\u001b[38;5;132;01m}\u001b[39;00m\u001b[38;5;124m\"\u001b[39m)\n",
      "\u001b[1;31mValueError\u001b[0m: x and y must have same first dimension, but have shapes (6,) and (1,)"
     ]
    },
    {
     "data": {
      "image/png": "[encoded data removed]",
      "text/plain": [
       "<Figure size 432x288 with 1 Axes>"
      ]
     },
     "metadata": {
      "needs_background": "light"
     },
     "output_type": "display_data"
    }
   ],
   "source": [
    "# 적절한 alpha 값 찾기\n",
    "# - alpha값을 변경하면서 결정 계수(R2)의 값을 비교\n",
    "\n",
    "train_score = []\n",
    "test_score = []\n",
    "alpha_list = [0.001, 0.01, 0.1, 1, 10, 100]\n",
    "for alpha in alpha_list:\n",
    "    # 라쏘 모델을 만듭니다\n",
    "    lasso = Lasso(alpha=alpha, max_iter=10000)\n",
    "    # 라쏘 모델을 훈련합니다\n",
    "    lasso.fit(train_scaled, train_target)\n",
    "    # 훈련 점수와 테스트 점수를 저장합니다\n",
    "    train_score.append(lasso.score(train_scaled, train_target))\n",
    "    test_score.append(lasso.score(test_scaled, test_target))\n",
    "    plt.plot(np.log10(alpha_list), train_score,\n",
    "    label='train_set score', marker='o', markersize=3)\n",
    "    plt.plot(np.log10(alpha_list), test_score,\n",
    "    label='test_set score', marker='s', markersize=3)\n",
    "    plt.xlabel('alpha')\n",
    "    plt.ylabel('R^2')\n",
    "    plt.legend()\n",
    "    plt.show()"
   ]
  },
  {
   "cell_type": "code",
   "execution_count": 277,
   "id": "985782e3",
   "metadata": {},
   "outputs": [
    {
     "name": "stdout",
     "output_type": "stream",
     "text": [
      "0.9888067471131867\n",
      "0.9824470598706695\n"
     ]
    }
   ],
   "source": [
    "# alpha=10\n",
    "\n",
    "lasso = Lasso(alpha=10)\n",
    "lasso.fit(train_scaled, train_target)\n",
    "print(lasso.score(train_scaled, train_target))\n",
    "print(lasso.score(test_scaled, test_target))"
   ]
  },
  {
   "cell_type": "markdown",
   "id": "3c2c928c",
   "metadata": {},
   "source": [
    "### 표준화, 정규화 차이"
   ]
  },
  {
   "cell_type": "code",
   "execution_count": 279,
   "id": "3ecdfa21",
   "metadata": {},
   "outputs": [],
   "source": [
    "# 표준화(Standardization)\n",
    "#- StandardScaler 클래스 사용"
   ]
  },
  {
   "cell_type": "code",
   "execution_count": 280,
   "id": "263c9674",
   "metadata": {},
   "outputs": [],
   "source": [
    "# 정규화(Normalization)\n",
    "# - MinMaxScaler 클래스 사용"
   ]
  }
 ],
 "metadata": {
  "kernelspec": {
   "display_name": "Python 3 (ipykernel)",
   "language": "python",
   "name": "python3"
  },
  "language_info": {
   "codemirror_mode": {
    "name": "ipython",
    "version": 3
   },
   "file_extension": ".py",
   "mimetype": "text/x-python",
   "name": "python",
   "nbconvert_exporter": "python",
   "pygments_lexer": "ipython3",
   "version": "3.9.12"
  }
 },
 "nbformat": 4,
 "nbformat_minor": 5
}
