{
 "cells": [
  {
   "cell_type": "markdown",
   "id": "7d05adb9",
   "metadata": {},
   "source": [
    "### 공통점"
   ]
  },
  {
   "cell_type": "code",
   "execution_count": null,
   "id": "f6b16d88",
   "metadata": {},
   "outputs": [],
   "source": [
    "# 메서드 이름은 똑같음\n",
    "# => 머신러닝 모델에 따라 메서드는 같지만, 출력값은 다르다는 것\n",
    "KNeighborsClassifier는 정확도\n",
    "KNeighborsRegressor는 결정계수\n",
    "\n",
    "# 객체 생성 -> 훈련 -> 평가 -> 예측\n",
    "생성 : 각각()\n",
    "훈련 : 객체.fit(훈련입력, 훈련정답)\n",
    "평가 : 객체.score()\n",
    "\n",
    "# train_test_split()\n",
    "from sklearn.model_selection import train_test_split    \n",
    "\n",
    "# reshape(row, col)\n",
    "train_input = train_input.reshape(-1, 1) # 2차원 배열로 변경\n",
    "array1 = np.arange(0,10).reshape(2,5) # 이런식으로 바로 변환도 가능\n",
    "\n",
    "# 이웃 구하기\n",
    "# 50cm 농어의 이웃을 구함\n",
    "distances_50, indexes_50 = knr.kneighbors([[50]])"
   ]
  },
  {
   "cell_type": "markdown",
   "id": "d98d1742",
   "metadata": {},
   "source": [
    "### [ 각각 ]"
   ]
  },
  {
   "cell_type": "markdown",
   "id": "56f04ab2",
   "metadata": {},
   "source": [
    "### 최근접 이웃 회귀"
   ]
  },
  {
   "cell_type": "code",
   "execution_count": null,
   "id": "a734d35d",
   "metadata": {},
   "outputs": [],
   "source": [
    "# KNeighborsRegressor 클래스 (객체생성)\n",
    "# -> 결정계수(R^2) 리턴 (회귀식의 정확도)\n",
    "from sklearn.neighbors import KNeighborsRegressor\n",
    "\n",
    "# 객체 생성\n",
    "knr = KNeighborsRegressor()\n",
    "# 모델 훈련\n",
    "knr.fit(train_input, train_target)\n",
    "# 모델 평가\n",
    "# score(): 훈련 모델 점수 확인, 결정 계수(R2)를 리턴\n",
    "print(knr.score(test_input, test_target))\n",
    "# R^2가 최대값이 1이 되려면, 분자=분모 or 분자가 0에 가까워져야\n",
    "\n",
    "# mean_absolute_error (MAE): 평균 절대 오차\n",
    "from sklearn.metrics import mean_absolute_error\n",
    "# 테스트 세트에 대한 예측값 계산\n",
    "test_prediction = knr.predict(test_input)\n",
    "# 테스트 세트에 대한 평균 절대 오차 계산\n",
    "mae = mean_absolute_error(test_target, test_prediction)\n"
   ]
  },
  {
   "cell_type": "markdown",
   "id": "4291f954",
   "metadata": {},
   "source": [
    "### 선형회귀(Linear Regression)"
   ]
  },
  {
   "cell_type": "code",
   "execution_count": null,
   "id": "9980dad8",
   "metadata": {},
   "outputs": [],
   "source": [
    "# LinearRegression 클래스 사용 (객체 생성)\n",
    "from sklearn.linear_model import LinearRegression\n",
    "# fit(), score(), predict() 메소드\n"
   ]
  },
  {
   "cell_type": "markdown",
   "id": "8cb93108",
   "metadata": {},
   "source": [
    "### 다항회귀(Polynomial Regression)"
   ]
  },
  {
   "cell_type": "code",
   "execution_count": 1,
   "id": "1e8fe228",
   "metadata": {},
   "outputs": [],
   "source": [
    "# LinearRegression 클래스 사용 (객체 생성)\n",
    "from sklearn.linear_model import LinearRegression\n",
    "# fit(), score(), predict() 메소드\n",
    "\n",
    "# 길이를 제곱한 데이터를 훈련 세트에 추가\n",
    "# column_stack()사용 -> broadcasting 적용\n",
    "train_poly = np.column_stack((train_input**2, train_input))\n"
   ]
  },
  {
   "cell_type": "markdown",
   "id": "df1e7436",
   "metadata": {},
   "source": [
    "### 다중 회귀(Multiple Regression)"
   ]
  },
  {
   "cell_type": "code",
   "execution_count": null,
   "id": "77910cee",
   "metadata": {},
   "outputs": [],
   "source": [
    "# PolynomialFeatures 클래스 사용\n",
    "# -> 새로운 특성을 뽑아내는 작업을 할 때 ( 훈련은 선형회귀나 다항회귀와 같은 클래스 사용)\n",
    "from sklearn.preprocessing import PolynomialFeatures\n",
    "\n",
    "# pandas로 data 준비\n",
    "import pandas as pd\n",
    "\n",
    "df = pd.read_csv('https://bit.ly/perch_csv')\n",
    "perch_full = df.to_numpy() # DataFrame을 Numpy의 array로 변환\n",
    "\n",
    "# target 데이터(perch_weight)는 기존과 동일\n",
    "# => 예측하고자 하는 무게\n",
    "# perch_full, perch_weight를 훈련 세트와 테스트 세트로 분리\n",
    "# => perch_full에는 '길이, 높이, 두께'가 DF였다가 배열로 바뀐 것\n",
    "# => 각각 분리\n",
    "\n",
    "poly = PolynomialFeatures() # include_bias=True (기본값)\n",
    "poly.fit([[2, 3]]) # 2, 3의 조합을 찾음(2^2, 3^2, 2x3)\n",
    "print(poly.transform([[2, 3]])) # 특성 조합을 데이터로 변환\n",
    "\n",
    "poly = PolynomialFeatures(include_bias=False)\n",
    "poly.fit(train_input)\n",
    "train_poly = poly.transform(train_input)\n",
    "test_poly = poly.transform(test_input)\n",
    "\n",
    "print(poly.get_feature_names_out())\n",
    "# -> 각 특성의 조합을 알려줌\n",
    "\n",
    "# 다중 회귀 모형 '훈련' (선형회귀, 다항회귀와 같음)\n",
    "# -> LinearRegression 클래스 활용\n",
    "from sklearn.linear_model import LinearRegression\n",
    "\n",
    "# degree 증가 등 선택가능\n",
    "# 고차항의 최대 차수 증가 (5차)\n",
    "poly = PolynomialFeatures(degree=5, include_bias=False)\n",
    "\n"
   ]
  },
  {
   "cell_type": "markdown",
   "id": "69c91eef",
   "metadata": {},
   "source": [
    "### +표준화 (규제 전에 행해야 함)"
   ]
  },
  {
   "cell_type": "code",
   "execution_count": null,
   "id": "fe6bbbee",
   "metadata": {},
   "outputs": [],
   "source": [
    "# StandardScaler 클래스를 사용\n",
    "from sklearn.preprocessing import StandardScaler\n",
    "\n",
    "ss = StandardScaler()\n",
    "ss.fit(train_poly)\n",
    "train_scaled = ss.transform(train_poly)\n",
    "test_scaled = ss.transform(test_poly)"
   ]
  },
  {
   "cell_type": "markdown",
   "id": "70606cf6",
   "metadata": {},
   "source": [
    "### 규제 (Regularization)"
   ]
  },
  {
   "cell_type": "code",
   "execution_count": null,
   "id": "ba2862d7",
   "metadata": {},
   "outputs": [],
   "source": [
    "### i) 릿지 모델\n",
    "from sklearn.linear_model import Ridge"
   ]
  },
  {
   "cell_type": "code",
   "execution_count": null,
   "id": "921e0d1e",
   "metadata": {},
   "outputs": [],
   "source": [
    "### ii) 라쏘 모델\n",
    "from sklearn.linear_model import Lasso"
   ]
  }
 ],
 "metadata": {
  "kernelspec": {
   "display_name": "Python 3 (ipykernel)",
   "language": "python",
   "name": "python3"
  },
  "language_info": {
   "codemirror_mode": {
    "name": "ipython",
    "version": 3
   },
   "file_extension": ".py",
   "mimetype": "text/x-python",
   "name": "python",
   "nbconvert_exporter": "python",
   "pygments_lexer": "ipython3",
   "version": "3.9.12"
  }
 },
 "nbformat": 4,
 "nbformat_minor": 5
}
