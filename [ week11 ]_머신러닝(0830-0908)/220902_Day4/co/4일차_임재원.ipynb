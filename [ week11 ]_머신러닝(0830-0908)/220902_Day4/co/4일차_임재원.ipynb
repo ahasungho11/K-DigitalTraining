{
 "cells": [
  {
   "cell_type": "markdown",
   "source": [
    "# SVM(Support Vector Machine)\n",
    "---\n",
    "- ML에서 오랫동안 연구되었고 성능이 좋은 모델\n",
    "- DL보다 성능이 좋은 경우도 있음"
   ],
   "metadata": {
    "collapsed": false,
    "pycharm": {
     "name": "#%% md\n"
    }
   }
  },
  {
   "cell_type": "code",
   "execution_count": 190,
   "outputs": [],
   "source": [
    "# 모듈 로딩\n",
    "from sklearn.svm import SVC\n",
    "from sklearn.datasets import load_digits\n",
    "from sklearn.model_selection import train_test_split\n",
    "from sklearn.linear_model import LogisticRegression\n",
    "from sklearn.preprocessing import MinMaxScaler\n",
    "import numpy as np\n",
    "import matplotlib.pyplot as plt"
   ],
   "metadata": {
    "collapsed": false,
    "pycharm": {
     "name": "#%%\n"
    }
   }
  },
  {
   "cell_type": "markdown",
   "source": [
    "# [1] 데이터 준비"
   ],
   "metadata": {
    "collapsed": false,
    "pycharm": {
     "name": "#%% md\n"
    }
   }
  },
  {
   "cell_type": "code",
   "execution_count": 191,
   "outputs": [],
   "source": [
    "digit = load_digits()\n",
    "data = digit['data']\n",
    "target = digit['target']"
   ],
   "metadata": {
    "collapsed": false,
    "pycharm": {
     "name": "#%%\n"
    }
   }
  },
  {
   "cell_type": "code",
   "execution_count": 198,
   "outputs": [
    {
     "data": {
      "text/plain": "<Figure size 720x360 with 10 Axes>",
      "image/png": "[encoded data removed]"
     },
     "metadata": {
      "needs_background": "light"
     },
     "output_type": "display_data"
    }
   ],
   "source": [
    "fig, axs = plt.subplots(2, 5, figsize=(10, 5))\n",
    "j = 0\n",
    "for i in range(2):\n",
    "    for ii in range(5):\n",
    "        axs[i][ii].imshow(digit['images'][j])\n",
    "        plt.gray()\n",
    "        j += 1\n",
    "plt.show()"
   ],
   "metadata": {
    "collapsed": false,
    "pycharm": {
     "name": "#%%\n"
    }
   }
  },
  {
   "cell_type": "markdown",
   "source": [
    "# [2] 학습 데이터 준비"
   ],
   "metadata": {
    "collapsed": false,
    "pycharm": {
     "name": "#%% md\n"
    }
   }
  },
  {
   "cell_type": "code",
   "execution_count": 193,
   "outputs": [],
   "source": [
    "trainX, testX, trainY, testY = train_test_split(data, target, test_size=0.2)\n",
    "\n",
    "# SVC모듈 활용을 위한 스케일링\n",
    "scaler = MinMaxScaler()\n",
    "scaler.fit(trainX)\n",
    "trainX_scaled = scaler.transform(trainX)\n",
    "testX_scaled = scaler.transform(testX)"
   ],
   "metadata": {
    "collapsed": false,
    "pycharm": {
     "name": "#%%\n"
    }
   }
  },
  {
   "cell_type": "markdown",
   "source": [
    "# [3] 모델 생성"
   ],
   "metadata": {
    "collapsed": false,
    "pycharm": {
     "name": "#%% md\n"
    }
   }
  },
  {
   "cell_type": "code",
   "execution_count": 194,
   "outputs": [],
   "source": [
    "lr = LogisticRegression(max_iter=10000)\n",
    "svc = SVC(gamma=0.01, max_iter=10000, probability=True)\n",
    "model_lr = lr.fit(trainX, trainY)\n",
    "model_svc = svc.fit(trainX_scaled, trainY)"
   ],
   "metadata": {
    "collapsed": false,
    "pycharm": {
     "name": "#%%\n"
    }
   }
  },
  {
   "cell_type": "markdown",
   "source": [
    "# [4] 모델 평가"
   ],
   "metadata": {
    "collapsed": false,
    "pycharm": {
     "name": "#%% md\n"
    }
   }
  },
  {
   "cell_type": "code",
   "execution_count": 195,
   "outputs": [
    {
     "name": "stdout",
     "output_type": "stream",
     "text": [
      "로지스틱 train 점수 : 1.0\n",
      "로지스틱 test 점수 : 0.9722222222222222\n",
      "SVC train 점수 : 0.9596381350034795\n",
      "SVC test 점수 : 0.9583333333333334\n"
     ]
    }
   ],
   "source": [
    "print('로지스틱 train 점수 :', model_lr.score(trainX, trainY))\n",
    "print('로지스틱 test 점수 :', model_lr.score(testX, testY))\n",
    "print('SVC train 점수 :', model_svc.score(trainX_scaled, trainY))\n",
    "print('SVC test 점수 :', model_svc.score(testX_scaled, testY))"
   ],
   "metadata": {
    "collapsed": false,
    "pycharm": {
     "name": "#%%\n"
    }
   }
  },
  {
   "cell_type": "markdown",
   "source": [
    "# [5] 예측값 확인"
   ],
   "metadata": {
    "collapsed": false,
    "pycharm": {
     "name": "#%% md\n"
    }
   }
  },
  {
   "cell_type": "code",
   "execution_count": 197,
   "outputs": [
    {
     "name": "stdout",
     "output_type": "stream",
     "text": [
      "0일 확률 0.0\n",
      "1일 확률 0.0\n",
      "2일 확률 0.0\n",
      "3일 확률 0.0\n",
      "4일 확률 0.0\n",
      "5일 확률 0.0\n",
      "6일 확률 0.0\n",
      "7일 확률 0.0\n",
      "8일 확률 100.0\n",
      "9일 확률 0.0\n",
      "로지스틱 모델 예측결과 : [8]\n",
      "0일 확률 0.0\n",
      "1일 확률 0.0\n",
      "2일 확률 0.0\n",
      "3일 확률 0.0\n",
      "4일 확률 100.0\n",
      "5일 확률 0.0\n",
      "6일 확률 0.0\n",
      "7일 확률 0.0\n",
      "8일 확률 0.0\n",
      "9일 확률 0.0\n",
      "SVC 모델 예측결과 : [4]\n"
     ]
    }
   ],
   "source": [
    "for i in range(10):\n",
    "    print(f'{i}일 확률', np.round(model_lr.predict_proba([digit['data'][8]])[0][i],2\n",
    "                               )*100)\n",
    "print('로지스틱 모델 예측결과 :', model_lr.predict([digit['data'][8]]))\n",
    "for i in range(10):\n",
    "    print(f'{i}일 확률', np.round(scaler.transform([digit['data'][4]])[0][i])*100)\n",
    "\n",
    "print('SVC 모델 예측결과 :', model_svc.predict(scaler.transform([digit['data'][4]])))"
   ],
   "metadata": {
    "collapsed": false,
    "pycharm": {
     "name": "#%%\n"
    }
   }
  }
 ],
 "metadata": {
  "kernelspec": {
   "display_name": "Python 3",
   "language": "python",
   "name": "python3"
  },
  "language_info": {
   "codemirror_mode": {
    "name": "ipython",
    "version": 2
   },
   "file_extension": ".py",
   "mimetype": "text/x-python",
   "name": "python",
   "nbconvert_exporter": "python",
   "pygments_lexer": "ipython2",
   "version": "2.7.6"
  }
 },
 "nbformat": 4,
 "nbformat_minor": 0
}