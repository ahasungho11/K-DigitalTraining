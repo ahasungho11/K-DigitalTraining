{
 "cells": [
  {
   "cell_type": "code",
   "execution_count": null,
   "id": "fd124584",
   "metadata": {},
   "outputs": [],
   "source": []
  },
  {
   "cell_type": "code",
   "execution_count": null,
   "id": "593b2ff8",
   "metadata": {},
   "outputs": [],
   "source": [
    "######## 새로운 pdf자료 (day4)\n",
    "* 모델을 선정할 때 고민해야 되는 것 : 편향과 분산\n",
    "- good : 편향(오차)는 작아야, 분산(모여있는 정도) 작아야\n",
    " => 탄착군 형성된 상태에서 그 안에 다 적중\n",
    " => 분산(탄착군 형성), 오차(정답과의 차이) \n",
    "\n",
    "ex) 과대적합 : 머리는 귀밑 3cm, 갈색 눈동자, 키는 160-165cm\n",
    "    과소적합 : 여자면 됨\n",
    "\n",
    "* 최적적합\n",
    "- 오차가 없지는 않지만, 최대한 많이 맞게끔\n",
    "- 다양한 자료(o), 편향된 자료(x)"
   ]
  },
  {
   "cell_type": "code",
   "execution_count": null,
   "id": "7088e8bf",
   "metadata": {},
   "outputs": [],
   "source": [
    "# 데이터에 따라 적합한 정도가 다름\n",
    "=> 모델 복잡도\n",
    "앙상블 => 모델을 합치는 것\n",
    "ex) 결정나무 모델 => 다른 모델과 합치면 성과가 좋음 => ex) 랜덤 포레스트\n",
    "\n",
    "* SGD처럼 3개 세트가 없으면\n",
    "다른 것들을 max_iter 디폴트가 100 정도 => 이걸 조절해야지"
   ]
  },
  {
   "cell_type": "code",
   "execution_count": null,
   "id": "ef8dd888",
   "metadata": {},
   "outputs": [],
   "source": [
    "# 죽~ 해당 pdf로 학습中"
   ]
  },
  {
   "cell_type": "code",
   "execution_count": null,
   "id": "558e8d01",
   "metadata": {},
   "outputs": [],
   "source": [
    "# 15\n",
    "1 돈 많이\n",
    "2 3 하면 되고\n",
    "4 5 그나만 젤 많이 하는 것\n",
    "6 모델 쓸 줄 모르면 못쓰고"
   ]
  },
  {
   "cell_type": "code",
   "execution_count": null,
   "id": "a5505a20",
   "metadata": {},
   "outputs": [],
   "source": [
    "# 실제로는 머신러닝에서는 무조건 교차검증을 하지요"
   ]
  },
  {
   "cell_type": "code",
   "execution_count": null,
   "id": "60b13e32",
   "metadata": {},
   "outputs": [],
   "source": [
    "여러가지 시도를 해봤으나, 스코어가 좋지 못하다. 개선이 안된다\n",
    "-> 규제를 한번 해보아야 함 (릿지, 라쏘, 엘라스틱) -> alpha값으로"
   ]
  },
  {
   "cell_type": "markdown",
   "id": "1c91bcfa",
   "metadata": {},
   "source": [
    "### SVM"
   ]
  },
  {
   "cell_type": "code",
   "execution_count": null,
   "id": "1dad7685",
   "metadata": {},
   "outputs": [],
   "source": [
    "# KNN, SGD처럼 분류와 회귀 모두 다 쓰임\n",
    "# 선형과 비선형 다 지원\n",
    "# Tree와 머신러닝에서 가장 인기있는 모델\n",
    "# cf) 트리도 분류, 회귀 다 됨"
   ]
  },
  {
   "cell_type": "code",
   "execution_count": null,
   "id": "2c5226bc",
   "metadata": {},
   "outputs": [],
   "source": [
    "# -> #35\n",
    "# 마진이 최대화 되도록 만들어주는 선이 가장 좋다\n",
    "# -> 새로운 데이터가 와도 식별이 쉽다\n",
    "# -> 하나도 안 섞이는 것이 가장 좋지만, 일부 섞이더라도\n",
    "# ex) 선을 기준(0)으로 1과 -1 영역으로 나뉘어서 구분\n",
    "\n",
    "# 특성이 2개만 되어도 평면에서 공간을 띄워서 면(초평면)을 만들어야 했지\n",
    "# #39 -> 평면에 있는 것들을 공간에 넣어서 분류\n",
    "# => 차원의 증가 : Kernel Tick(Kernel function)을 통해\n",
    "\n",
    "# 41 - 일반화, 소프트 마진"
   ]
  },
  {
   "cell_type": "code",
   "execution_count": null,
   "id": "df5b524e",
   "metadata": {},
   "outputs": [],
   "source": [
    "손실함수 - 1번 했을 떄의 \n",
    "비용함수 - 전체 오차에 의한\n",
    "\n",
    "SGD - loss라고 하는 것은 1번하고의 손실을 말해주기 떄문\n",
    "C와 gamma, Kernel가 선 긋는 것에 영향을 끼침"
   ]
  },
  {
   "cell_type": "code",
   "execution_count": null,
   "id": "d9fda9fa",
   "metadata": {},
   "outputs": [],
   "source": [
    "# 모델 튜닝\n",
    "과대적합도 아니고, 왜 정확도가 맞지 않는 것일까?\n",
    "- 모델의 파라미터들을 제어해야함\n",
    "- 하이퍼 파라미터들을 조절해서 정확도를 올려야 하지"
   ]
  },
  {
   "cell_type": "code",
   "execution_count": null,
   "id": "6b65cbaf",
   "metadata": {},
   "outputs": [],
   "source": []
  },
  {
   "cell_type": "code",
   "execution_count": null,
   "id": "a0a72794",
   "metadata": {},
   "outputs": [],
   "source": []
  }
 ],
 "metadata": {
  "kernelspec": {
   "display_name": "Python 3 (ipykernel)",
   "language": "python",
   "name": "python3"
  },
  "language_info": {
   "codemirror_mode": {
    "name": "ipython",
    "version": 3
   },
   "file_extension": ".py",
   "mimetype": "text/x-python",
   "name": "python",
   "nbconvert_exporter": "python",
   "pygments_lexer": "ipython3",
   "version": "3.9.12"
  }
 },
 "nbformat": 4,
 "nbformat_minor": 5
}
