{
 "cells": [
  {
   "cell_type": "code",
   "execution_count": 1,
   "id": "992d736a",
   "metadata": {},
   "outputs": [],
   "source": [
    "# 모듈 로딩 ---------------------------------------\n",
    "from sklearn.datasets import load_iris\n",
    "from sklearn.linear_model import LogisticRegression\n",
    "from sklearn.model_selection import train_test_split\n",
    "import numpy as np"
   ]
  },
  {
   "cell_type": "code",
   "execution_count": 2,
   "id": "cac77659",
   "metadata": {},
   "outputs": [],
   "source": [
    "# 데이터 로딩 ------------------------------------\n",
    "\n",
    "iris= load_iris()"
   ]
  },
  {
   "cell_type": "code",
   "execution_count": 3,
   "id": "3fcfdb67",
   "metadata": {},
   "outputs": [],
   "source": [
    "data=iris.data"
   ]
  },
  {
   "cell_type": "code",
   "execution_count": 4,
   "id": "1e26759a",
   "metadata": {},
   "outputs": [],
   "source": [
    "target=iris.target"
   ]
  },
  {
   "cell_type": "code",
   "execution_count": 5,
   "id": "c6052649",
   "metadata": {},
   "outputs": [
    {
     "data": {
      "text/plain": [
       "((150, 4), (150,), numpy.ndarray, numpy.ndarray)"
      ]
     },
     "execution_count": 5,
     "metadata": {},
     "output_type": "execute_result"
    }
   ],
   "source": [
    "data.shape, target.shape , type(data), type(target)"
   ]
  },
  {
   "cell_type": "code",
   "execution_count": 6,
   "id": "dc87604c",
   "metadata": {},
   "outputs": [],
   "source": [
    "# 모델 생성 ----------------------------------------\n",
    "model=LogisticRegression(max_iter=500)"
   ]
  },
  {
   "cell_type": "code",
   "execution_count": 7,
   "id": "5fc1d543",
   "metadata": {},
   "outputs": [
    {
     "data": {
      "text/plain": [
       "LogisticRegression(max_iter=500)"
      ]
     },
     "execution_count": 7,
     "metadata": {},
     "output_type": "execute_result"
    }
   ],
   "source": [
    "# 학습 ---------------------------------------------\n",
    "model.fit(data, target)"
   ]
  },
  {
   "cell_type": "code",
   "execution_count": 8,
   "id": "5513a9fd",
   "metadata": {},
   "outputs": [
    {
     "name": "stdout",
     "output_type": "stream",
     "text": [
      "classes_   : [0 1 2]\n",
      "coef_      : [[-0.42318869  0.96726702 -2.51710954 -1.07949149]\n",
      " [ 0.53425389 -0.32139452 -0.20643834 -0.94409567]\n",
      " [-0.11106521 -0.6458725   2.72354787  2.02358716]]\n",
      "intercept_ : [  9.84812176   2.23771131 -12.08583307]\n"
     ]
    }
   ],
   "source": [
    "# coef_  : 선형계수 즉 기울기w ==> 특성 Feature 개수 만큼 coef_ \n",
    "# coef_, intercept_          ==> 분류 개수 만큼 \n",
    "print('classes_   :', model.classes_)\n",
    "print('coef_      :', model.coef_)\n",
    "print('intercept_ :', model.intercept_)"
   ]
  },
  {
   "cell_type": "code",
   "execution_count": 9,
   "id": "7d06ccba",
   "metadata": {},
   "outputs": [
    {
     "data": {
      "text/plain": [
       "array([[6.7, 3. , 5.2, 2.3],\n",
       "       [6.3, 2.5, 5. , 1.9],\n",
       "       [6.5, 3. , 5.2, 2. ],\n",
       "       [6.2, 3.4, 5.4, 2.3],\n",
       "       [5.9, 3. , 5.1, 1.8]])"
      ]
     },
     "execution_count": 9,
     "metadata": {},
     "output_type": "execute_result"
    }
   ],
   "source": [
    "data[145:]"
   ]
  },
  {
   "cell_type": "code",
   "execution_count": 10,
   "id": "f9640911",
   "metadata": {},
   "outputs": [
    {
     "name": "stdout",
     "output_type": "stream",
     "text": [
      "[[-5.65724139  1.60812944  4.04911195]]\n"
     ]
    }
   ],
   "source": [
    "new_data=[6.7, 3. , 5.2, 2.3]\n",
    "\n",
    "ret=model.decision_function([new_data])\n",
    "print(ret)"
   ]
  },
  {
   "cell_type": "code",
   "execution_count": 16,
   "id": "92e8650d",
   "metadata": {},
   "outputs": [
    {
     "name": "stdout",
     "output_type": "stream",
     "text": [
      "y = -5.657241385138075  y = 1.6081294368361396  y = 4.0491119483023255  "
     ]
    },
    {
     "data": {
      "text/plain": [
       "([-5.657241385138075, 1.6081294368361396, 4.0491119483023255], list)"
      ]
     },
     "execution_count": 16,
     "metadata": {},
     "output_type": "execute_result"
    }
   ],
   "source": [
    "from scipy.special import softmax\n",
    "\n",
    "# y=aw1+bw2+cw3+dw4+b\n",
    "values=[]\n",
    "for i in range(3):\n",
    "    y=model.coef_[i][0]*new_data[0] + \\\n",
    "      model.coef_[i][1]*new_data[1] + \\\n",
    "      model.coef_[i][2]*new_data[2] + \\\n",
    "      model.coef_[i][3]*new_data[3] +model.intercept_[i]\n",
    "    print('y =', y, end='  ')\n",
    "    values.append(y)   \n",
    "values, type(values)"
   ]
  },
  {
   "cell_type": "code",
   "execution_count": 17,
   "id": "710aef23",
   "metadata": {},
   "outputs": [
    {
     "data": {
      "text/plain": [
       "(array([-5.65724139,  1.60812944,  4.04911195]), numpy.ndarray)"
      ]
     },
     "execution_count": 17,
     "metadata": {},
     "output_type": "execute_result"
    }
   ],
   "source": [
    "# softmax()에 전달하기 위해 변환    \n",
    "arrValue=np.array(values)\n",
    "arrValue, type(arrValue)"
   ]
  },
  {
   "cell_type": "code",
   "execution_count": 12,
   "id": "06a4d224",
   "metadata": {},
   "outputs": [
    {
     "data": {
      "text/plain": [
       "(array([[0.  , 0.08, 0.92]]), array([0.  , 0.08, 0.92]))"
      ]
     },
     "execution_count": 12,
     "metadata": {},
     "output_type": "execute_result"
    }
   ],
   "source": [
    "# 분류 항목별 나온 값을 확률값으로 변환하여 반환\n",
    "from scipy.special import softmax\n",
    "\n",
    "np.round(softmax(ret), 3),   np.round(softmax(arrValue), 3)"
   ]
  },
  {
   "cell_type": "code",
   "execution_count": null,
   "id": "67c6b125",
   "metadata": {},
   "outputs": [],
   "source": []
  }
 ],
 "metadata": {
  "kernelspec": {
   "display_name": "Python 3 (ipykernel)",
   "language": "python",
   "name": "python3"
  },
  "language_info": {
   "codemirror_mode": {
    "name": "ipython",
    "version": 3
   },
   "file_extension": ".py",
   "mimetype": "text/x-python",
   "name": "python",
   "nbconvert_exporter": "python",
   "pygments_lexer": "ipython3",
   "version": "3.9.12"
  }
 },
 "nbformat": 4,
 "nbformat_minor": 5
}
