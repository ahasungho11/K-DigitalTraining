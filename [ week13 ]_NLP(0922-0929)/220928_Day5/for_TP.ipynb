{
 "cells": [
  {
   "cell_type": "code",
   "execution_count": null,
   "metadata": {
    "id": "_uaai7R2k5lJ"
   },
   "outputs": [],
   "source": [
    "##### Teacher"
   ]
  },
  {
   "cell_type": "code",
   "execution_count": null,
   "metadata": {
    "id": "W4v47-w_k5nr"
   },
   "outputs": [],
   "source": [
    "from nltk.tokenize import sent_tokenize, word_tokenize\n",
    "import nltk"
   ]
  },
  {
   "cell_type": "code",
   "execution_count": null,
   "metadata": {
    "colab": {
     "base_uri": "https://localhost:8080/"
    },
    "id": "vcabgyRTk5qJ",
    "outputId": "1748a172-fc75-450f-e182-d6ef8f4a18b9"
   },
   "outputs": [
    {
     "data": {
      "text/plain": [
       "True"
      ]
     },
     "execution_count": 76,
     "metadata": {},
     "output_type": "execute_result"
    }
   ],
   "source": [
    "# 코프스 다운로드 받기\n",
    "nltk.download('all', quiet=True)"
   ]
  },
  {
   "cell_type": "code",
   "execution_count": null,
   "metadata": {
    "id": "v4A2ykwOk5sU"
   },
   "outputs": [],
   "source": [
    "from tensorflow.keras.preprocessing.text import Tokenizer, text_to_word_sequence"
   ]
  },
  {
   "cell_type": "code",
   "execution_count": null,
   "metadata": {
    "colab": {
     "base_uri": "https://localhost:8080/",
     "height": 209
    },
    "collapsed": true,
    "id": "qL4WNXksmDjx",
    "outputId": "22cc79f0-ade6-4ffe-ebd7-8b93720f6249"
   },
   "outputs": [
    {
     "ename": "AttributeError",
     "evalue": "ignored",
     "output_type": "error",
     "traceback": [
      "\u001b[0;31m---------------------------------------------------------------------------\u001b[0m",
      "\u001b[0;31mAttributeError\u001b[0m                            Traceback (most recent call last)",
      "\u001b[0;32m<ipython-input-100-584f2f389327>\u001b[0m in \u001b[0;36m<module>\u001b[0;34m\u001b[0m\n\u001b[1;32m      3\u001b[0m \u001b[0;31m# 단어사전(voca) 생성\u001b[0m\u001b[0;34m\u001b[0m\u001b[0;34m\u001b[0m\u001b[0;34m\u001b[0m\u001b[0m\n\u001b[1;32m      4\u001b[0m \u001b[0;31m# -> 소문자로 변경, 마침표 등 특수문자 제거 등\u001b[0m\u001b[0;34m\u001b[0m\u001b[0;34m\u001b[0m\u001b[0;34m\u001b[0m\u001b[0m\n\u001b[0;32m----> 5\u001b[0;31m \u001b[0mmyToken\u001b[0m\u001b[0;34m.\u001b[0m\u001b[0mfit_on_text\u001b[0m\u001b[0;34m(\u001b[0m\u001b[0mnewsData\u001b[0m\u001b[0;34m)\u001b[0m\u001b[0;34m\u001b[0m\u001b[0;34m\u001b[0m\u001b[0m\n\u001b[0m",
      "\u001b[0;31mAttributeError\u001b[0m: 'Tokenizer' object has no attribute 'fit_on_text'"
     ]
    }
   ],
   "source": [
    "myToken = Tokenizer()  # 파라미터 보고, 처리해 줄 것 확인\n",
    "\n",
    "# 단어사전(voca) 생성\n",
    "# -> 소문자로 변경, 마침표 등 특수문자 제거 등\n",
    "myToken.fit_on_text(newsData20)"
   ]
  },
  {
   "cell_type": "code",
   "execution_count": null,
   "metadata": {
    "id": "s_WT6WrAmDq7"
   },
   "outputs": [],
   "source": [
    "# 생성된 단어사전 => 빈도가 높은 순\n",
    "print(f' voca : {len(myToken.word_index)}개\\n{myToken.word_index}')"
   ]
  },
  {
   "cell_type": "code",
   "execution_count": null,
   "metadata": {
    "id": "px-3msovnzYx"
   },
   "outputs": [],
   "source": [
    "# 생성된 단어 사전의 갯수\n",
    "print(f' word_counts : {myToken.word_counts}')"
   ]
  },
  {
   "cell_type": "code",
   "execution_count": null,
   "metadata": {
    "id": "3s9VgDDDnzcl"
   },
   "outputs": [],
   "source": [
    "# 불용어(stopword) 제거\n",
    "stopwords = nltk.corpus.stopwords('english')\n",
    "print(f'stopwords => {len(stopwords)}\"개 \\n{stopwords}')"
   ]
  },
  {
   "cell_type": "code",
   "execution_count": null,
   "metadata": {
    "id": "VKBidkeuy4Mf"
   },
   "outputs": [],
   "source": [
    "wtokens=set()\n",
    "for news in newsData20:\n",
    "    for sent in sent_tokenize(news):\n",
    "       word_tokenizer(sent)\n",
    "       print(sent) "
   ]
  },
  {
   "cell_type": "code",
   "execution_count": null,
   "metadata": {
    "id": "sBFW5vgsqV5A"
   },
   "outputs": [],
   "source": [
    "# 불용어 제거\n",
    "processed = set()\n",
    "\n",
    "for news in newsData20:\n",
    "    _news = word_tokenize(news)\n",
    "    for n in _news:\n",
    "        if n not in stopwords:\n",
    "            processed.add(n)\n",
    "\n",
    "# if 'i' in news:\n",
    "#     news.replace('i', ' ')"
   ]
  },
  {
   "cell_type": "code",
   "execution_count": null,
   "metadata": {
    "id": "kOhHkJTusMbH"
   },
   "outputs": [],
   "source": [
    "print(len(processed), processed, sep='\\n')"
   ]
  },
  {
   "cell_type": "code",
   "execution_count": null,
   "metadata": {
    "id": "AZp4UgjIsMeA"
   },
   "outputs": [],
   "source": [
    "# 부차적으로 제거해야 하는 불용어가 있는 경우"
   ]
  },
  {
   "cell_type": "code",
   "execution_count": null,
   "metadata": {
    "colab": {
     "base_uri": "https://localhost:8080/"
    },
    "id": "eFHWn85lqWHS",
    "outputId": "74458b84-e2ae-476f-b768-ed15a52f8054"
   },
   "outputs": [
    {
     "name": "stdout",
     "output_type": "stream",
     "text": [
      "\n",
      "\n",
      "I am sure some bashers of Pens fans are pretty confused about the lack\n",
      "of any kind of posts about the recent Pens massacre of the Devils. Actually,\n",
      "I am  bit puzzled too and a bit relieved. However, I am going to put an end\n",
      "to non-PIttsburghers' relief with a bit of praise for the Pens. Man, they\n",
      "are killing those Devils worse than I thought. Jagr just showed you why\n",
      "he is much better than his regular season stats. He is also a lot\n",
      "fo fun to watch in the playoffs. Bowman should let JAgr have a lot of\n",
      "fun in the next couple of games since the Pens are going to beat the pulp out of Jersey anyway. I was very disappointed not to see the Islanders lose the final\n",
      "regular season game.          PENS RULE!!!\n",
      "\n",
      "\n"
     ]
    }
   ],
   "source": [
    "print(newsData20[0])"
   ]
  },
  {
   "cell_type": "code",
   "execution_count": null,
   "metadata": {
    "colab": {
     "base_uri": "https://localhost:8080/",
     "height": 35
    },
    "id": "twgFi0N0oanb",
    "outputId": "310dd088-d79b-46ad-f6a3-540047342ea2"
   },
   "outputs": [
    {
     "data": {
      "application/vnd.google.colaboratory.intrinsic+json": {
       "type": "string"
      },
      "text/plain": [
       "'!\"#$%&()*+,-./:;<=>?@[\\\\]^_`{|}~\\t\\n'"
      ]
     },
     "execution_count": 83,
     "metadata": {},
     "output_type": "execute_result"
    }
   ],
   "source": [
    "myToken.filters\n",
    "여기에 stopwords를 추가하면 좋겠는데\n",
    "-> 붙으면 안됨!!"
   ]
  },
  {
   "cell_type": "code",
   "execution_count": null,
   "metadata": {
    "id": "4vsjh4yxoay1"
   },
   "outputs": [],
   "source": [
    "word_index"
   ]
  },
  {
   "cell_type": "code",
   "execution_count": null,
   "metadata": {
    "id": "7Sya7pqCobNX"
   },
   "outputs": [],
   "source": [
    "* 토큰화 하기 전에 불용어 단어 제거\n",
    "* 문장단위로 토큰화 -> 단어단위로 토큰화 -> 불용어 제거\n"
   ]
  },
  {
   "cell_type": "code",
   "execution_count": null,
   "metadata": {
    "id": "ep7bqHSdnzgI"
   },
   "outputs": [],
   "source": [
    "word_index와 stopwords와 비교해서 삭제 된 것이 있는데,\n",
    "word_counts에는 남아 있으면 nono\n",
    "\n",
    "-> "
   ]
  },
  {
   "cell_type": "code",
   "execution_count": null,
   "metadata": {
    "id": "lARzZGmvnzji"
   },
   "outputs": [],
   "source": [
    "from sklearn.feature_extraction.text import CountVectorizer, TfidfVectorizer"
   ]
  },
  {
   "cell_type": "code",
   "execution_count": null,
   "metadata": {
    "id": "bXbfUZqUnzml"
   },
   "outputs": [],
   "source": []
  },
  {
   "cell_type": "code",
   "execution_count": null,
   "metadata": {
    "id": "ek-gGTpLmDvz"
   },
   "outputs": [],
   "source": [
    "# 텍스트 => 수치화 (단어 사전 사용해서)\n",
    "seq_news = myToken.texts_to_sequences(newsData20)\n",
    "print(f'seq_news : {len(seq_news)}')"
   ]
  },
  {
   "cell_type": "code",
   "execution_count": null,
   "metadata": {
    "id": "a8oKNo-21aBS"
   },
   "outputs": [],
   "source": [
    "import numpy as np\n",
    "# - 길이가 어느 정도인지 확인\n",
    "# - 각각의 길이별로 \n",
    "seq_news_len = [len(news) for news in seq_news]\n",
    "\n",
    "# 해당 길이값들의 평균\n",
    "print(seq_news_len, mean())\n",
    "\n",
    "# --------------------------------\n",
    "# or 평균이나 중앙값 등으로 채울 값 결정짓는 것도\n",
    "seq_news_len = np.array([len(news) for news in seq_news])\n",
    "print(seq_news_len.shape,seq_news_len.mean(), np.median(seq_news_len))"
   ]
  },
  {
   "cell_type": "code",
   "execution_count": null,
   "metadata": {
    "id": "DoW8izoI264M"
   },
   "outputs": [],
   "source": [
    "import matplotlib.pyplot as plt\n",
    "plt.hist(seq_news)\n",
    "plt.show()"
   ]
  },
  {
   "cell_type": "code",
   "execution_count": null,
   "metadata": {
    "id": "j21XpSYU268f"
   },
   "outputs": [],
   "source": [
    "# 가변길이 => 고정길이 PADDING\n",
    "# \n"
   ]
  },
  {
   "cell_type": "code",
   "execution_count": null,
   "metadata": {
    "id": "_KqB_lyf26_0"
   },
   "outputs": [],
   "source": [
    "text_to_word_sequence\n"
   ]
  }
 ],
 "metadata": {
  "colab": {
   "collapsed_sections": [],
   "provenance": []
  },
  "kernelspec": {
   "display_name": "Python 3 (ipykernel)",
   "language": "python",
   "name": "python3"
  },
  "language_info": {
   "codemirror_mode": {
    "name": "ipython",
    "version": 3
   },
   "file_extension": ".py",
   "mimetype": "text/x-python",
   "name": "python",
   "nbconvert_exporter": "python",
   "pygments_lexer": "ipython3",
   "version": "3.9.12"
  }
 },
 "nbformat": 4,
 "nbformat_minor": 1
}
