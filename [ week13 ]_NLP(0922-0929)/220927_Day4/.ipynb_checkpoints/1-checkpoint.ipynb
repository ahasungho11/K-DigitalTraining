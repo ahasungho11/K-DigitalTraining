{
 "cells": [
  {
   "cell_type": "code",
   "execution_count": 1,
   "id": "e4594ccc",
   "metadata": {},
   "outputs": [
    {
     "data": {
      "text/plain": [
       "220927"
      ]
     },
     "execution_count": 1,
     "metadata": {},
     "output_type": "execute_result"
    }
   ],
   "source": [
    "220927"
   ]
  },
  {
   "cell_type": "code",
   "execution_count": null,
   "id": "0fc4afef",
   "metadata": {},
   "outputs": [],
   "source": [
    "감성분석 -> 지도학습일 경우(多), 비지도일 경우도 있음\n",
    "\n",
    "ex) IMDB -> 25000 리뷰 (긍정/부정 평가)\n",
    "\n",
    "* 리뷰 - 토큰 단어사전 - 리뷰 - 단어사전 - text 수치화 - 받은 data - [  ]\n",
    "\n",
    "* [  ] : 모든 리뷰 길이 파악 (for 동일하게 맞추기 위해) - 패딩(길이 맞추기)\n",
    "    - 짧은 것은 0으로 채우면 되는데,\n",
    "\n",
    "    * 확인작업 (if) df라면)\n",
    "        # uniqueDF.sort_values(by=1, ascending=False)\n",
    "        # DF.describe()\n",
    "    \n",
    "    - 긴 것은 어디를 자를 것인가 (앞or뒤 결정)\n",
    "\n",
    "* 2진 수치화 (원-핫 인코딩) (text리뷰를 숫자 리뷰로 맞춘 것)\n",
    " - 타겟 데이터 인코딩\n",
    "\n",
    "#---------------------------------------------------------------------\n",
    "    \n",
    " - 피처가 너무 많아지면, 메모리 할당할 수 없다는 오류 뜸\n",
    "    -> 토큰 1개가 8만이 넘어가게 되는 => 원-핫 인코딩의 문제점\n",
    " - 그렇다면, 해결 방법은?\n",
    "    -> 단어사전을 8xxxx개로 안쓰면 됨.\n",
    "    -> num_words로 개수 맞추고, 패딩으로 잘리는 곳을 채우는 작업을 '미리'\n",
    "    -> 데이터셋을 받아올 때, load_data(num_words=500) 식으로 맞추기\n",
    "\n",
    "#---------------------------------------------------------------------\n",
    "\n",
    "* Train, val, test dataset 준비 완료  "
   ]
  },
  {
   "cell_type": "code",
   "execution_count": null,
   "id": "7737b51b",
   "metadata": {},
   "outputs": [],
   "source": [
    "* 모델 만들기\n",
    "입력구조 -3차원-> (샘플수, 타임스템프 크기, 토큰크기)\n",
    "\n",
    "[ sequential ]\n",
    "* 입력층 : data가 들어옴 -> 해당 정보 처리 -> 결과를 노드 자신에게 돌려줌 (hidden state)\n",
    "  & 결과를  다음 노드에도 전달\n",
    " - 같은 층의 노드끼리 주고받고, 노드 자신에게도 주고 => 순환\n",
    "    \n",
    "* 출력층 (dense, 이진분류 -> af : sigmoid)"
   ]
  },
  {
   "cell_type": "code",
   "execution_count": null,
   "id": "1b631663",
   "metadata": {},
   "outputs": [],
   "source": []
  },
  {
   "cell_type": "code",
   "execution_count": null,
   "id": "57bac4f2",
   "metadata": {},
   "outputs": [],
   "source": []
  },
  {
   "cell_type": "code",
   "execution_count": null,
   "id": "09a91339",
   "metadata": {},
   "outputs": [],
   "source": []
  },
  {
   "cell_type": "code",
   "execution_count": null,
   "id": "a829c288",
   "metadata": {},
   "outputs": [],
   "source": []
  }
 ],
 "metadata": {
  "kernelspec": {
   "display_name": "Python 3 (ipykernel)",
   "language": "python",
   "name": "python3"
  },
  "language_info": {
   "codemirror_mode": {
    "name": "ipython",
    "version": 3
   },
   "file_extension": ".py",
   "mimetype": "text/x-python",
   "name": "python",
   "nbconvert_exporter": "python",
   "pygments_lexer": "ipython3",
   "version": "3.9.12"
  }
 },
 "nbformat": 4,
 "nbformat_minor": 5
}
