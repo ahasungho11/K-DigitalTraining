{
 "cells": [
  {
   "cell_type": "markdown",
   "metadata": {},
   "source": [
    "## 영화리뷰 분석\n",
    "---  \n",
    "- IMBD 데이터 활용"
   ]
  },
  {
   "cell_type": "markdown",
   "metadata": {},
   "source": [
    "### [1] 데이터 준비"
   ]
  },
  {
   "cell_type": "code",
   "execution_count": 2,
   "metadata": {},
   "outputs": [],
   "source": [
    "from tensorflow.keras.datasets.imdb import load_data\n",
    "import numpy as np"
   ]
  },
  {
   "cell_type": "code",
   "execution_count": 3,
   "metadata": {},
   "outputs": [],
   "source": [
    "# 단어사전에서 빈도가 높은 500개만 사용\n",
    "(X_train, y_train), (X_test, y_test) = load_data(num_words=500)"
   ]
  },
  {
   "cell_type": "code",
   "execution_count": 4,
   "metadata": {},
   "outputs": [
    {
     "name": "stdout",
     "output_type": "stream",
     "text": [
      "imDB 정보 \n",
      " X_train : (25000,)  y_train : (25000,)\n",
      "imDB 정보 \n",
      " X_test : (25000,)  y_train : (25000,)\n"
     ]
    }
   ],
   "source": [
    "print(f'imDB 정보 \\n X_train : {X_train.shape}  y_train : {y_test.shape}')\n",
    "print(f'imDB 정보 \\n X_test : {X_test.shape}  y_train : {y_test.shape}')"
   ]
  },
  {
   "cell_type": "code",
   "execution_count": 5,
   "metadata": {},
   "outputs": [
    {
     "name": "stdout",
     "output_type": "stream",
     "text": [
      "[0 - 1]\n",
      "218\n",
      "[1, 14, 22, 16, 43, 2, 2, 2, 2, 65, 458, 2, 66, 2, 4, 173, 36, 256, 5, 25, 100, 43, 2, 112, 50, 2, 2, 9, 35, 480, 284, 5, 150, 4, 172, 112, 167, 2, 336, 385, 39, 4, 172, 2, 2, 17, 2, 38, 13, 447, 4, 192, 50, 16, 6, 147, 2, 19, 14, 22, 4, 2, 2, 469, 4, 22, 71, 87, 12, 16, 43, 2, 38, 76, 15, 13, 2, 4, 22, 17, 2, 17, 12, 16, 2, 18, 2, 5, 62, 386, 12, 8, 316, 8, 106, 5, 4, 2, 2, 16, 480, 66, 2, 33, 4, 130, 12, 16, 38, 2, 5, 25, 124, 51, 36, 135, 48, 25, 2, 33, 6, 22, 12, 215, 28, 77, 52, 5, 14, 407, 16, 82, 2, 8, 4, 107, 117, 2, 15, 256, 4, 2, 7, 2, 5, 2, 36, 71, 43, 2, 476, 26, 400, 317, 46, 7, 4, 2, 2, 13, 104, 88, 4, 381, 15, 297, 98, 32, 2, 56, 26, 141, 6, 194, 2, 18, 4, 226, 22, 21, 134, 476, 26, 480, 5, 144, 30, 2, 18, 51, 36, 28, 224, 92, 25, 104, 4, 226, 65, 16, 38, 2, 88, 12, 16, 283, 5, 16, 2, 113, 103, 32, 15, 16, 2, 19, 178, 32]\n",
      "\n",
      "[1 - 0]\n",
      "189\n",
      "[1, 194, 2, 194, 2, 78, 228, 5, 6, 2, 2, 2, 134, 26, 4, 2, 8, 118, 2, 14, 394, 20, 13, 119, 2, 189, 102, 5, 207, 110, 2, 21, 14, 69, 188, 8, 30, 23, 7, 4, 249, 126, 93, 4, 114, 9, 2, 2, 5, 2, 4, 116, 9, 35, 2, 4, 229, 9, 340, 2, 4, 118, 9, 4, 130, 2, 19, 4, 2, 5, 89, 29, 2, 46, 37, 4, 455, 9, 45, 43, 38, 2, 2, 398, 4, 2, 26, 2, 5, 163, 11, 2, 2, 4, 2, 9, 194, 2, 7, 2, 2, 349, 2, 148, 2, 2, 2, 15, 123, 125, 68, 2, 2, 15, 349, 165, 2, 98, 5, 4, 228, 9, 43, 2, 2, 15, 299, 120, 5, 120, 174, 11, 220, 175, 136, 50, 9, 2, 228, 2, 5, 2, 2, 245, 2, 5, 4, 2, 131, 152, 491, 18, 2, 32, 2, 2, 14, 9, 6, 371, 78, 22, 2, 64, 2, 9, 8, 168, 145, 23, 4, 2, 15, 16, 4, 2, 5, 28, 6, 52, 154, 462, 33, 89, 78, 285, 16, 145, 95]\n",
      "\n",
      "[2 - 0]\n",
      "141\n",
      "[1, 14, 47, 8, 30, 31, 7, 4, 249, 108, 7, 4, 2, 54, 61, 369, 13, 71, 149, 14, 22, 112, 4, 2, 311, 12, 16, 2, 33, 75, 43, 2, 296, 4, 86, 320, 35, 2, 19, 263, 2, 2, 4, 2, 33, 89, 78, 12, 66, 16, 4, 360, 7, 4, 58, 316, 334, 11, 4, 2, 43, 2, 2, 8, 257, 85, 2, 42, 2, 2, 83, 68, 2, 15, 36, 165, 2, 278, 36, 69, 2, 2, 8, 106, 14, 2, 2, 18, 6, 22, 12, 215, 28, 2, 40, 6, 87, 326, 23, 2, 21, 23, 22, 12, 272, 40, 57, 31, 11, 4, 22, 47, 6, 2, 51, 9, 170, 23, 2, 116, 2, 2, 13, 191, 79, 2, 89, 2, 14, 9, 8, 106, 2, 2, 35, 2, 6, 227, 7, 129, 113]\n",
      "\n"
     ]
    }
   ],
   "source": [
    "for idx in range(3):\n",
    "    print(f'[{idx} - {y_train[idx]}]\\n{len(X_train[idx])}\\n{X_train[idx]}\\n')"
   ]
  },
  {
   "cell_type": "markdown",
   "metadata": {},
   "source": [
    "### [2] 학습용 데이터 변환\n",
    "---  \n",
    "- keras에서 이미 대부분의 전처리 끝난 데이터\n",
    "- 길이 조정 => 패딩(Padding)"
   ]
  },
  {
   "cell_type": "markdown",
   "metadata": {},
   "source": [
    "**패딩**"
   ]
  },
  {
   "cell_type": "code",
   "execution_count": 6,
   "metadata": {},
   "outputs": [],
   "source": [
    "from tensorflow.keras.utils import pad_sequences"
   ]
  },
  {
   "cell_type": "code",
   "execution_count": 7,
   "metadata": {},
   "outputs": [
    {
     "data": {
      "text/plain": [
       "218"
      ]
     },
     "execution_count": 7,
     "metadata": {},
     "output_type": "execute_result"
    }
   ],
   "source": [
    "len(X_train[0])"
   ]
  },
  {
   "cell_type": "code",
   "execution_count": 8,
   "metadata": {},
   "outputs": [],
   "source": [
    "list_len = []\n",
    "for i in range(0, len((X_train))) :\n",
    "    list_len.append(len(X_train[i]))"
   ]
  },
  {
   "cell_type": "code",
   "execution_count": 9,
   "metadata": {},
   "outputs": [
    {
     "data": {
      "image/png": "[encoded data removed]",
      "text/plain": [
       "<Figure size 1080x432 with 2 Axes>"
      ]
     },
     "metadata": {
      "needs_background": "light"
     },
     "output_type": "display_data"
    }
   ],
   "source": [
    "import matplotlib.pyplot as plt\n",
    "import seaborn as sns\n",
    "plt.figure(figsize=(15,6))\n",
    "plt.subplot(121)\n",
    "# sns.histplot(list_len)\n",
    "plt.hist(list_len)\n",
    "plt.subplot(122)\n",
    "plt.boxplot(list_len)\n",
    "plt.show()"
   ]
  },
  {
   "cell_type": "code",
   "execution_count": 10,
   "metadata": {},
   "outputs": [],
   "source": [
    "import pandas as pd"
   ]
  },
  {
   "cell_type": "code",
   "execution_count": 11,
   "metadata": {},
   "outputs": [],
   "source": [
    "df_len = pd.DataFrame(list_len)\n",
    "df_len.columns = ['len']"
   ]
  },
  {
   "cell_type": "code",
   "execution_count": 12,
   "metadata": {
    "scrolled": true
   },
   "outputs": [
    {
     "data": {
      "text/html": [
       "<div>\n",
       "<style scoped>\n",
       "    .dataframe tbody tr th:only-of-type {\n",
       "        vertical-align: middle;\n",
       "    }\n",
       "\n",
       "    .dataframe tbody tr th {\n",
       "        vertical-align: top;\n",
       "    }\n",
       "\n",
       "    .dataframe thead th {\n",
       "        text-align: right;\n",
       "    }\n",
       "</style>\n",
       "<table border=\"1\" class=\"dataframe\">\n",
       "  <thead>\n",
       "    <tr style=\"text-align: right;\">\n",
       "      <th></th>\n",
       "      <th>len</th>\n",
       "    </tr>\n",
       "  </thead>\n",
       "  <tbody>\n",
       "    <tr>\n",
       "      <th>count</th>\n",
       "      <td>25000.000000</td>\n",
       "    </tr>\n",
       "    <tr>\n",
       "      <th>mean</th>\n",
       "      <td>238.713640</td>\n",
       "    </tr>\n",
       "    <tr>\n",
       "      <th>std</th>\n",
       "      <td>176.497204</td>\n",
       "    </tr>\n",
       "    <tr>\n",
       "      <th>min</th>\n",
       "      <td>11.000000</td>\n",
       "    </tr>\n",
       "    <tr>\n",
       "      <th>25%</th>\n",
       "      <td>130.000000</td>\n",
       "    </tr>\n",
       "    <tr>\n",
       "      <th>50%</th>\n",
       "      <td>178.000000</td>\n",
       "    </tr>\n",
       "    <tr>\n",
       "      <th>75%</th>\n",
       "      <td>291.000000</td>\n",
       "    </tr>\n",
       "    <tr>\n",
       "      <th>max</th>\n",
       "      <td>2494.000000</td>\n",
       "    </tr>\n",
       "  </tbody>\n",
       "</table>\n",
       "</div>"
      ],
      "text/plain": [
       "                len\n",
       "count  25000.000000\n",
       "mean     238.713640\n",
       "std      176.497204\n",
       "min       11.000000\n",
       "25%      130.000000\n",
       "50%      178.000000\n",
       "75%      291.000000\n",
       "max     2494.000000"
      ]
     },
     "execution_count": 12,
     "metadata": {},
     "output_type": "execute_result"
    }
   ],
   "source": [
    "# 요약 정보 확인\n",
    "# i) describe()\n",
    "df_len.describe()"
   ]
  },
  {
   "cell_type": "code",
   "execution_count": 13,
   "metadata": {},
   "outputs": [
    {
     "data": {
      "text/html": [
       "<div>\n",
       "<style scoped>\n",
       "    .dataframe tbody tr th:only-of-type {\n",
       "        vertical-align: middle;\n",
       "    }\n",
       "\n",
       "    .dataframe tbody tr th {\n",
       "        vertical-align: top;\n",
       "    }\n",
       "\n",
       "    .dataframe thead th {\n",
       "        text-align: right;\n",
       "    }\n",
       "</style>\n",
       "<table border=\"1\" class=\"dataframe\">\n",
       "  <thead>\n",
       "    <tr style=\"text-align: right;\">\n",
       "      <th></th>\n",
       "      <th>count</th>\n",
       "    </tr>\n",
       "    <tr>\n",
       "      <th>len</th>\n",
       "      <th></th>\n",
       "    </tr>\n",
       "  </thead>\n",
       "  <tbody>\n",
       "    <tr>\n",
       "      <th>132</th>\n",
       "      <td>196</td>\n",
       "    </tr>\n",
       "    <tr>\n",
       "      <th>125</th>\n",
       "      <td>194</td>\n",
       "    </tr>\n",
       "    <tr>\n",
       "      <th>130</th>\n",
       "      <td>191</td>\n",
       "    </tr>\n",
       "    <tr>\n",
       "      <th>122</th>\n",
       "      <td>181</td>\n",
       "    </tr>\n",
       "    <tr>\n",
       "      <th>124</th>\n",
       "      <td>180</td>\n",
       "    </tr>\n",
       "    <tr>\n",
       "      <th>...</th>\n",
       "      <td>...</td>\n",
       "    </tr>\n",
       "    <tr>\n",
       "      <th>974</th>\n",
       "      <td>1</td>\n",
       "    </tr>\n",
       "    <tr>\n",
       "      <th>761</th>\n",
       "      <td>1</td>\n",
       "    </tr>\n",
       "    <tr>\n",
       "      <th>972</th>\n",
       "      <td>1</td>\n",
       "    </tr>\n",
       "    <tr>\n",
       "      <th>762</th>\n",
       "      <td>1</td>\n",
       "    </tr>\n",
       "    <tr>\n",
       "      <th>2494</th>\n",
       "      <td>1</td>\n",
       "    </tr>\n",
       "  </tbody>\n",
       "</table>\n",
       "<p>1008 rows × 1 columns</p>\n",
       "</div>"
      ],
      "text/plain": [
       "      count\n",
       "len        \n",
       "132     196\n",
       "125     194\n",
       "130     191\n",
       "122     181\n",
       "124     180\n",
       "...     ...\n",
       "974       1\n",
       "761       1\n",
       "972       1\n",
       "762       1\n",
       "2494      1\n",
       "\n",
       "[1008 rows x 1 columns]"
      ]
     },
     "execution_count": 13,
     "metadata": {},
     "output_type": "execute_result"
    }
   ],
   "source": [
    "# ii) len의 counting\n",
    "df2 = pd.DataFrame(df_len.value_counts())\n",
    "df2.columns = ['count']\n",
    "df2"
   ]
  },
  {
   "cell_type": "code",
   "execution_count": 14,
   "metadata": {},
   "outputs": [],
   "source": [
    "def outlier_iqr(data, column): \n",
    "\n",
    "    # lower, upper 글로벌 변수 선언하기     \n",
    "    global lower, upper    \n",
    "    \n",
    "    # 4분위수 기준 지정하기     \n",
    "    q25, q75 = np.quantile(data[column], 0.25), np.quantile(data[column], 0.75)          \n",
    "    \n",
    "    # IQR 계산하기     \n",
    "    iqr = q75 - q25    \n",
    "    \n",
    "    # outlier cutoff 계산하기     \n",
    "    cut_off = iqr * 1.5          \n",
    "    \n",
    "    # lower와 upper bound 값 구하기     \n",
    "    lower, upper = q25 - cut_off, q75 + cut_off     \n",
    "                 \n",
    "    print('IQR은',iqr, '이다.')     \n",
    "    print('lower bound 값은', lower, '이다.')     \n",
    "    print('upper bound 값은', upper, '이다.')    \n",
    "    \n",
    "    # 1사 분위와 4사 분위에 속해있는 데이터 각각 저장하기     \n",
    "    data1 = data[data[column] > upper]     \n",
    "    data2 = data[data[column] < lower]    \n",
    "    \n",
    "    # 이상치 총 개수 구하기\n",
    "    return print('총 이상치 개수는', data1.shape[0] + data2.shape[0], '이다.')"
   ]
  },
  {
   "cell_type": "code",
   "execution_count": 15,
   "metadata": {},
   "outputs": [
    {
     "name": "stdout",
     "output_type": "stream",
     "text": [
      "IQR은 161.0 이다.\n",
      "lower bound 값은 -111.5 이다.\n",
      "upper bound 값은 532.5 이다.\n",
      "총 이상치 개수는 1805 이다.\n"
     ]
    }
   ],
   "source": [
    "outlier_iqr(df_len, 'len')"
   ]
  },
  {
   "cell_type": "code",
   "execution_count": 16,
   "metadata": {},
   "outputs": [
    {
     "name": "stderr",
     "output_type": "stream",
     "text": [
      "C:\\ProgramData\\Anaconda3\\lib\\site-packages\\seaborn\\distributions.py:2619: FutureWarning: `distplot` is a deprecated function and will be removed in a future version. Please adapt your code to use either `displot` (a figure-level function with similar flexibility) or `histplot` (an axes-level function for histograms).\n",
      "  warnings.warn(msg, FutureWarning)\n"
     ]
    },
    {
     "data": {
      "image/png": "[encoded data removed]",
      "text/plain": [
       "<Figure size 720x360 with 1 Axes>"
      ]
     },
     "metadata": {
      "needs_background": "light"
     },
     "output_type": "display_data"
    }
   ],
   "source": [
    "import seaborn as sns\n",
    "plt.figure(figsize=(10,5))\n",
    "sns.distplot(df_len['len'], kde=False)\n",
    "\n",
    "# 이상치 영역 박스 그리기\n",
    "\n",
    "plt.axvspan(xmin=lower, xmax=df_len.len.min(), alpha=0.2, color='red')\n",
    "plt.axvspan(xmin=upper, xmax=df_len.len.max(), alpha=0.2, color='red')\n",
    "plt.xlim(0, 1200)\n",
    "plt.show()"
   ]
  },
  {
   "cell_type": "code",
   "execution_count": 17,
   "metadata": {},
   "outputs": [
    {
     "name": "stdout",
     "output_type": "stream",
     "text": [
      "[  0   0   0   0   0   0   0   0   0   0   0   0   0   0   0   0   0   0\n",
      "   0   0   0   0   0   0   0   0   0   0   0   0   0   0   0   0   0   0\n",
      "   0   0   0   0   0   0   0   0   0   0   0   0   0   0   0   0   0   0\n",
      "   0   0   0   0   0   0   0   0   0   0   0   0   0   0   0   0   0   0\n",
      "   0   0   0   0   0   0   0   0   0   0   0   0   0   0   0   0   0   0\n",
      "   0   0   0   0   0   0   0   0   0   0   0   0   0   0   0   0   0   0\n",
      "   0   0   0   0   1   2 202  14  31   6   2  10  10   2   2   5   4 360\n",
      "   7   4 177   2 394 354   4 123   9   2   2   2  10  10  13  92 124  89\n",
      " 488   2 100  28   2  14  31  23  27   2  29 220 468   8 124  14 286 170\n",
      "   8 157  46   5  27 239  16 179   2  38  32  25   2 451 202  14   6   2]\n"
     ]
    }
   ],
   "source": [
    "# 데이터별 길이 변경\n",
    "# 메모리 문제로 n_maxlen 180까지만...\n",
    "n_maxlen = 180\n",
    "X_train = pad_sequences(X_train, maxlen=n_maxlen)\n",
    "X_test = pad_sequences(X_test, maxlen=n_maxlen)\n",
    "print(X_test[0])"
   ]
  },
  {
   "cell_type": "markdown",
   "metadata": {},
   "source": [
    "**원 핫 인코딩**"
   ]
  },
  {
   "cell_type": "code",
   "execution_count": 18,
   "metadata": {},
   "outputs": [],
   "source": [
    "from tensorflow.keras.utils import to_categorical"
   ]
  },
  {
   "cell_type": "code",
   "execution_count": 19,
   "metadata": {},
   "outputs": [],
   "source": [
    "train_oh = to_categorical(X_train)"
   ]
  },
  {
   "cell_type": "code",
   "execution_count": 20,
   "metadata": {},
   "outputs": [
    {
     "data": {
      "text/plain": [
       "(25000, 180, 500)"
      ]
     },
     "execution_count": 20,
     "metadata": {},
     "output_type": "execute_result"
    }
   ],
   "source": [
    "train_oh.shape"
   ]
  },
  {
   "cell_type": "markdown",
   "metadata": {},
   "source": [
    "**훈련/테스트 데이터 준비**"
   ]
  },
  {
   "cell_type": "code",
   "execution_count": 21,
   "metadata": {},
   "outputs": [],
   "source": [
    "from sklearn.model_selection import train_test_split"
   ]
  },
  {
   "cell_type": "code",
   "execution_count": 22,
   "metadata": {},
   "outputs": [],
   "source": [
    "X_train, X_val, y_train, y_val = train_test_split(\n",
    "    train_oh, y_train, test_size = 0.2, random_state = 42)"
   ]
  },
  {
   "cell_type": "code",
   "execution_count": 23,
   "metadata": {},
   "outputs": [
    {
     "name": "stdout",
     "output_type": "stream",
     "text": [
      "(20000, 180, 500) (25000, 180) (5000, 180, 500)\n",
      "(20000,) (25000,) (5000,)\n"
     ]
    }
   ],
   "source": [
    "print(X_train.shape, X_test.shape, X_val.shape)\n",
    "print(y_train.shape, y_test.shape, y_val.shape)"
   ]
  },
  {
   "cell_type": "markdown",
   "metadata": {},
   "source": [
    "### [3] 모델\n",
    "---  \n",
    "- 목표 : 영화리뷰 데이터 학습 후 사용자가 입력하는 리뷰가 긍정/부정 분류\n",
    "- 학습모델 : RNN 순환신경망\n",
    "- 입력 : 533\n",
    "- 출력 : 1 => 분류 (이진분류)"
   ]
  },
  {
   "cell_type": "code",
   "execution_count": 24,
   "metadata": {},
   "outputs": [],
   "source": [
    "from tensorflow.keras.models import Sequential\n",
    "from tensorflow.keras.layers import SimpleRNN, Dense"
   ]
  },
  {
   "cell_type": "markdown",
   "metadata": {},
   "source": [
    "**모델 구성**   \n",
    "\n",
    "---  \n",
    "- 입력층 :  노드 n개, input_shape = 533, \n",
    "- 출력층 :  노드 1개, sigmoid"
   ]
  },
  {
   "cell_type": "code",
   "execution_count": 25,
   "metadata": {},
   "outputs": [],
   "source": [
    "model = Sequential()\n",
    "model.add(SimpleRNN(18, input_shape = (n_maxlen, 500), name = 'input'))\n",
    "model.add(Dense(36, name = 'hidden1'))\n",
    "model.add(Dense(18, name = 'hidden2'))\n",
    "model.add(Dense(9, name = 'hidden3'))\n",
    "model.add(Dense(1, activation = 'sigmoid', name = 'output'))"
   ]
  },
  {
   "cell_type": "code",
   "execution_count": 26,
   "metadata": {},
   "outputs": [
    {
     "name": "stdout",
     "output_type": "stream",
     "text": [
      "Model: \"sequential\"\n",
      "_________________________________________________________________\n",
      " Layer (type)                Output Shape              Param #   \n",
      "=================================================================\n",
      " input (SimpleRNN)           (None, 18)                9342      \n",
      "                                                                 \n",
      " hidden1 (Dense)             (None, 36)                684       \n",
      "                                                                 \n",
      " hidden2 (Dense)             (None, 18)                666       \n",
      "                                                                 \n",
      " hidden3 (Dense)             (None, 9)                 171       \n",
      "                                                                 \n",
      " output (Dense)              (None, 1)                 10        \n",
      "                                                                 \n",
      "=================================================================\n",
      "Total params: 10,873\n",
      "Trainable params: 10,873\n",
      "Non-trainable params: 0\n",
      "_________________________________________________________________\n"
     ]
    }
   ],
   "source": [
    "model.summary()"
   ]
  },
  {
   "cell_type": "markdown",
   "metadata": {},
   "source": [
    "**모델생성**   \n",
    "\n",
    "---  \n",
    "- 손실함수, 최적화방법, 평가항목"
   ]
  },
  {
   "cell_type": "code",
   "execution_count": 27,
   "metadata": {},
   "outputs": [],
   "source": [
    "model.compile(loss='binary_crossentropy', optimizer = 'adam', metrics=['accuracy'])"
   ]
  },
  {
   "cell_type": "code",
   "execution_count": 28,
   "metadata": {},
   "outputs": [
    {
     "data": {
      "text/plain": [
       "(20000, 180, 500)"
      ]
     },
     "execution_count": 28,
     "metadata": {},
     "output_type": "execute_result"
    }
   ],
   "source": [
    "X_train.shape"
   ]
  },
  {
   "cell_type": "markdown",
   "metadata": {},
   "source": [
    "### [4] 학습\n",
    "---  \n",
    "- trian 데이터와 타겟으로 학습 진행\n",
    "- epoch 마다 검증 진행  => validation_data, validation_split\n",
    "- 학습 중 이벤트 처리   => callbacks = []\n",
    "- 학습 진행 내용 조절   => verbose\n",
    "- 학습 횟수 조절        => epochs\n",
    "- 배치사이즈 조절       => batch_size"
   ]
  },
  {
   "cell_type": "code",
   "execution_count": 29,
   "metadata": {},
   "outputs": [],
   "source": [
    "import tensorflow as tf\n",
    "callback = tf.keras.callbacks.EarlyStopping(monitor='loss', patience=3)"
   ]
  },
  {
   "cell_type": "code",
   "execution_count": 30,
   "metadata": {},
   "outputs": [
    {
     "name": "stdout",
     "output_type": "stream",
     "text": [
      "Epoch 1/30\n",
      "625/625 [==============================] - 18s 28ms/step - loss: 0.6488 - accuracy: 0.5871 - val_loss: 0.5272 - val_accuracy: 0.7396\n",
      "Epoch 2/30\n",
      "625/625 [==============================] - 14s 22ms/step - loss: 0.5389 - accuracy: 0.7289 - val_loss: 0.5101 - val_accuracy: 0.7484\n",
      "Epoch 3/30\n",
      "625/625 [==============================] - 14s 22ms/step - loss: 0.4719 - accuracy: 0.7794 - val_loss: 0.5198 - val_accuracy: 0.7538\n",
      "Epoch 4/30\n",
      "625/625 [==============================] - 13s 21ms/step - loss: 0.4265 - accuracy: 0.8101 - val_loss: 0.4591 - val_accuracy: 0.7928\n",
      "Epoch 5/30\n",
      "625/625 [==============================] - 14s 23ms/step - loss: 0.3973 - accuracy: 0.8256 - val_loss: 0.4689 - val_accuracy: 0.7934\n",
      "Epoch 6/30\n",
      "625/625 [==============================] - 13s 20ms/step - loss: 0.3731 - accuracy: 0.8418 - val_loss: 0.4912 - val_accuracy: 0.7812\n",
      "Epoch 7/30\n",
      "625/625 [==============================] - 12s 20ms/step - loss: 0.3731 - accuracy: 0.8400 - val_loss: 0.4952 - val_accuracy: 0.7770\n",
      "Epoch 8/30\n",
      "625/625 [==============================] - 13s 20ms/step - loss: 0.3570 - accuracy: 0.8494 - val_loss: 0.4867 - val_accuracy: 0.7768\n",
      "Epoch 9/30\n",
      "625/625 [==============================] - 16s 26ms/step - loss: 0.3521 - accuracy: 0.8482 - val_loss: 0.5200 - val_accuracy: 0.7716\n",
      "Epoch 10/30\n",
      "625/625 [==============================] - 14s 23ms/step - loss: 0.3240 - accuracy: 0.8644 - val_loss: 0.5512 - val_accuracy: 0.7540\n",
      "Epoch 11/30\n",
      "625/625 [==============================] - 16s 25ms/step - loss: 0.3333 - accuracy: 0.8579 - val_loss: 0.5452 - val_accuracy: 0.7702\n",
      "Epoch 12/30\n",
      "625/625 [==============================] - 15s 24ms/step - loss: 0.3355 - accuracy: 0.8605 - val_loss: 0.5337 - val_accuracy: 0.7872\n",
      "Epoch 13/30\n",
      "625/625 [==============================] - 14s 22ms/step - loss: 0.3120 - accuracy: 0.8724 - val_loss: 0.5712 - val_accuracy: 0.7676\n",
      "Epoch 14/30\n",
      "625/625 [==============================] - 13s 21ms/step - loss: 0.3130 - accuracy: 0.8712 - val_loss: 0.5741 - val_accuracy: 0.7712\n",
      "Epoch 15/30\n",
      "625/625 [==============================] - 13s 21ms/step - loss: 0.2946 - accuracy: 0.8803 - val_loss: 0.6034 - val_accuracy: 0.7392\n",
      "Epoch 16/30\n",
      "625/625 [==============================] - 13s 21ms/step - loss: 0.2940 - accuracy: 0.8794 - val_loss: 0.5768 - val_accuracy: 0.7748\n",
      "Epoch 17/30\n",
      "625/625 [==============================] - 13s 21ms/step - loss: 0.2782 - accuracy: 0.8883 - val_loss: 0.6188 - val_accuracy: 0.7668\n",
      "Epoch 18/30\n",
      "625/625 [==============================] - 15s 24ms/step - loss: 0.2888 - accuracy: 0.8835 - val_loss: 0.7032 - val_accuracy: 0.7388\n",
      "Epoch 19/30\n",
      "625/625 [==============================] - 15s 23ms/step - loss: 0.2773 - accuracy: 0.8871 - val_loss: 0.6342 - val_accuracy: 0.7596\n",
      "Epoch 20/30\n",
      "625/625 [==============================] - 17s 27ms/step - loss: 0.2653 - accuracy: 0.8930 - val_loss: 0.6427 - val_accuracy: 0.7414\n",
      "Epoch 21/30\n",
      "625/625 [==============================] - 17s 27ms/step - loss: 0.2613 - accuracy: 0.8966 - val_loss: 0.6683 - val_accuracy: 0.7572\n",
      "Epoch 22/30\n",
      "625/625 [==============================] - 15s 24ms/step - loss: 0.2472 - accuracy: 0.9017 - val_loss: 0.7586 - val_accuracy: 0.6934\n",
      "Epoch 23/30\n",
      "625/625 [==============================] - 18s 28ms/step - loss: 0.2568 - accuracy: 0.8968 - val_loss: 0.7115 - val_accuracy: 0.7322\n",
      "Epoch 24/30\n",
      "625/625 [==============================] - 16s 26ms/step - loss: 0.2714 - accuracy: 0.8899 - val_loss: 0.6714 - val_accuracy: 0.7480\n",
      "Epoch 25/30\n",
      "625/625 [==============================] - 15s 24ms/step - loss: 0.2494 - accuracy: 0.9014 - val_loss: 0.7565 - val_accuracy: 0.7452\n"
     ]
    }
   ],
   "source": [
    "history = model.fit(X_train, y_train, \n",
    "                    epochs = 30,\n",
    "                    callbacks = callback,\n",
    "                    validation_data=(X_val, y_val))"
   ]
  },
  {
   "cell_type": "code",
   "execution_count": 31,
   "metadata": {},
   "outputs": [
    {
     "data": {
      "image/png": "[encoded data removed]",
      "text/plain": [
       "<Figure size 1728x720 with 2 Axes>"
      ]
     },
     "metadata": {
      "needs_background": "light"
     },
     "output_type": "display_data"
    }
   ],
   "source": [
    "import matplotlib.pyplot as plt\n",
    "plt.figure(figsize = (24,10))\n",
    "plt.subplot(121)\n",
    "plt.plot(history.history['accuracy'], label = 'accuracy')\n",
    "plt.plot(history.history['val_accuracy'], label = 'val_accuracy')\n",
    "plt.legend()\n",
    "plt.grid(True, alpha =0.3)\n",
    "\n",
    "plt.subplot(122)\n",
    "plt.plot(history.history['loss'], label = 'loss')\n",
    "plt.plot(history.history['val_loss'], label = 'val_loss')\n",
    "plt.legend()\n",
    "plt.grid(True, alpha =0.3)\n",
    "\n",
    "plt.show()"
   ]
  },
  {
   "cell_type": "markdown",
   "metadata": {},
   "source": [
    "## Embedding RNN Model\n",
    "---  \n",
    "- One-Hot-Encoing 입력 데이터의 많은 메모리 소모에 대한 문제 입력\n",
    "- 토큰을 밀집형태의 벡터로 변경 => Word Embedding\n",
    "- Embedding Layer 적용\n",
    "    * 입력 차원 - 토큰의 크기, 즉 단어사전의 크기\n",
    "    * 출력 차원 - 줄여서 생성하는 벡터 크기\n",
    "    * 입력층일 경우 : input_dim = 타임스템프, 즉 하나의 문장을 구성하는 토큰 수"
   ]
  },
  {
   "cell_type": "code",
   "execution_count": 32,
   "metadata": {},
   "outputs": [],
   "source": [
    "from tensorflow.keras.layers import Embedding"
   ]
  },
  {
   "cell_type": "code",
   "execution_count": 33,
   "metadata": {},
   "outputs": [
    {
     "name": "stdout",
     "output_type": "stream",
     "text": [
      "Model: \"sequential_1\"\n",
      "_________________________________________________________________\n",
      " Layer (type)                Output Shape              Param #   \n",
      "=================================================================\n",
      " embedding (Embedding)       (None, 180, 20)           10000     \n",
      "                                                                 \n",
      " simple_rnn (SimpleRNN)      (None, 10)                310       \n",
      "                                                                 \n",
      "=================================================================\n",
      "Total params: 10,310\n",
      "Trainable params: 10,310\n",
      "Non-trainable params: 0\n",
      "_________________________________________________________________\n"
     ]
    }
   ],
   "source": [
    "model2 = Sequential()\n",
    "model2.add(Embedding(500, 20, input_length = n_maxlen))\n",
    "model2.add(SimpleRNN(10))\n",
    "model.add(Dense(1, activation = 'sigmoid'))\n",
    "\n",
    "model2.summary()"
   ]
  },
  {
   "cell_type": "code",
   "execution_count": 34,
   "metadata": {},
   "outputs": [],
   "source": [
    "model2.compile(loss='binary_crossentropy', optimizer = 'adam', metrics=['accuracy'])"
   ]
  },
  {
   "cell_type": "code",
   "execution_count": 35,
   "metadata": {
    "collapsed": true
   },
   "outputs": [
    {
     "name": "stdout",
     "output_type": "stream",
     "text": [
      "Epoch 1/30\n",
      "WARNING:tensorflow:Model was constructed with shape (None, 180) for input KerasTensor(type_spec=TensorSpec(shape=(None, 180), dtype=tf.float32, name='embedding_input'), name='embedding_input', description=\"created by layer 'embedding_input'\"), but it was called on an input with incompatible shape (32, 180, 500).\n"
     ]
    },
    {
     "ename": "ValueError",
     "evalue": "in user code:\n\n    File \"C:\\Users\\ahasu\\AppData\\Roaming\\Python\\Python39\\site-packages\\keras\\engine\\training.py\", line 1160, in train_function  *\n        return step_function(self, iterator)\n    File \"C:\\Users\\ahasu\\AppData\\Roaming\\Python\\Python39\\site-packages\\keras\\engine\\training.py\", line 1146, in step_function  **\n        outputs = model.distribute_strategy.run(run_step, args=(data,))\n    File \"C:\\Users\\ahasu\\AppData\\Roaming\\Python\\Python39\\site-packages\\keras\\engine\\training.py\", line 1135, in run_step  **\n        outputs = model.train_step(data)\n    File \"C:\\Users\\ahasu\\AppData\\Roaming\\Python\\Python39\\site-packages\\keras\\engine\\training.py\", line 993, in train_step\n        y_pred = self(x, training=True)\n    File \"C:\\Users\\ahasu\\AppData\\Roaming\\Python\\Python39\\site-packages\\keras\\utils\\traceback_utils.py\", line 70, in error_handler\n        raise e.with_traceback(filtered_tb) from None\n    File \"C:\\Users\\ahasu\\AppData\\Roaming\\Python\\Python39\\site-packages\\keras\\engine\\input_spec.py\", line 232, in assert_input_compatibility\n        raise ValueError(\n\n    ValueError: Exception encountered when calling layer \"sequential_1\" \"                 f\"(type Sequential).\n    \n    Input 0 of layer \"simple_rnn\" is incompatible with the layer: expected ndim=3, found ndim=4. Full shape received: (32, 180, 500, 20)\n    \n    Call arguments received by layer \"sequential_1\" \"                 f\"(type Sequential):\n      • inputs=tf.Tensor(shape=(32, 180, 500), dtype=float32)\n      • training=True\n      • mask=None\n",
     "output_type": "error",
     "traceback": [
      "\u001b[1;31m---------------------------------------------------------------------------\u001b[0m",
      "\u001b[1;31mValueError\u001b[0m                                Traceback (most recent call last)",
      "Input \u001b[1;32mIn [35]\u001b[0m, in \u001b[0;36m<cell line: 1>\u001b[1;34m()\u001b[0m\n\u001b[1;32m----> 1\u001b[0m history \u001b[38;5;241m=\u001b[39m \u001b[43mmodel2\u001b[49m\u001b[38;5;241;43m.\u001b[39;49m\u001b[43mfit\u001b[49m\u001b[43m(\u001b[49m\u001b[43mX_train\u001b[49m\u001b[43m,\u001b[49m\u001b[43m \u001b[49m\u001b[43my_train\u001b[49m\u001b[43m,\u001b[49m\u001b[43m \u001b[49m\n\u001b[0;32m      2\u001b[0m \u001b[43m                    \u001b[49m\u001b[43mepochs\u001b[49m\u001b[43m \u001b[49m\u001b[38;5;241;43m=\u001b[39;49m\u001b[43m \u001b[49m\u001b[38;5;241;43m30\u001b[39;49m\u001b[43m,\u001b[49m\n\u001b[0;32m      3\u001b[0m \u001b[43m                    \u001b[49m\u001b[43mcallbacks\u001b[49m\u001b[43m \u001b[49m\u001b[38;5;241;43m=\u001b[39;49m\u001b[43m \u001b[49m\u001b[43mcallback\u001b[49m\u001b[43m,\u001b[49m\n\u001b[0;32m      4\u001b[0m \u001b[43m                    \u001b[49m\u001b[43mvalidation_data\u001b[49m\u001b[38;5;241;43m=\u001b[39;49m\u001b[43m(\u001b[49m\u001b[43mX_val\u001b[49m\u001b[43m,\u001b[49m\u001b[43m \u001b[49m\u001b[43my_val\u001b[49m\u001b[43m)\u001b[49m\u001b[43m)\u001b[49m\n",
      "File \u001b[1;32m~\\AppData\\Roaming\\Python\\Python39\\site-packages\\keras\\utils\\traceback_utils.py:70\u001b[0m, in \u001b[0;36mfilter_traceback.<locals>.error_handler\u001b[1;34m(*args, **kwargs)\u001b[0m\n\u001b[0;32m     67\u001b[0m     filtered_tb \u001b[38;5;241m=\u001b[39m _process_traceback_frames(e\u001b[38;5;241m.\u001b[39m__traceback__)\n\u001b[0;32m     68\u001b[0m     \u001b[38;5;66;03m# To get the full stack trace, call:\u001b[39;00m\n\u001b[0;32m     69\u001b[0m     \u001b[38;5;66;03m# `tf.debugging.disable_traceback_filtering()`\u001b[39;00m\n\u001b[1;32m---> 70\u001b[0m     \u001b[38;5;28;01mraise\u001b[39;00m e\u001b[38;5;241m.\u001b[39mwith_traceback(filtered_tb) \u001b[38;5;28;01mfrom\u001b[39;00m \u001b[38;5;28mNone\u001b[39m\n\u001b[0;32m     71\u001b[0m \u001b[38;5;28;01mfinally\u001b[39;00m:\n\u001b[0;32m     72\u001b[0m     \u001b[38;5;28;01mdel\u001b[39;00m filtered_tb\n",
      "File \u001b[1;32m~\\AppData\\Local\\Temp\\__autograph_generated_filemo9418we.py:15\u001b[0m, in \u001b[0;36mouter_factory.<locals>.inner_factory.<locals>.tf__train_function\u001b[1;34m(iterator)\u001b[0m\n\u001b[0;32m     13\u001b[0m \u001b[38;5;28;01mtry\u001b[39;00m:\n\u001b[0;32m     14\u001b[0m     do_return \u001b[38;5;241m=\u001b[39m \u001b[38;5;28;01mTrue\u001b[39;00m\n\u001b[1;32m---> 15\u001b[0m     retval_ \u001b[38;5;241m=\u001b[39m ag__\u001b[38;5;241m.\u001b[39mconverted_call(ag__\u001b[38;5;241m.\u001b[39mld(step_function), (ag__\u001b[38;5;241m.\u001b[39mld(\u001b[38;5;28mself\u001b[39m), ag__\u001b[38;5;241m.\u001b[39mld(iterator)), \u001b[38;5;28;01mNone\u001b[39;00m, fscope)\n\u001b[0;32m     16\u001b[0m \u001b[38;5;28;01mexcept\u001b[39;00m:\n\u001b[0;32m     17\u001b[0m     do_return \u001b[38;5;241m=\u001b[39m \u001b[38;5;28;01mFalse\u001b[39;00m\n",
      "\u001b[1;31mValueError\u001b[0m: in user code:\n\n    File \"C:\\Users\\ahasu\\AppData\\Roaming\\Python\\Python39\\site-packages\\keras\\engine\\training.py\", line 1160, in train_function  *\n        return step_function(self, iterator)\n    File \"C:\\Users\\ahasu\\AppData\\Roaming\\Python\\Python39\\site-packages\\keras\\engine\\training.py\", line 1146, in step_function  **\n        outputs = model.distribute_strategy.run(run_step, args=(data,))\n    File \"C:\\Users\\ahasu\\AppData\\Roaming\\Python\\Python39\\site-packages\\keras\\engine\\training.py\", line 1135, in run_step  **\n        outputs = model.train_step(data)\n    File \"C:\\Users\\ahasu\\AppData\\Roaming\\Python\\Python39\\site-packages\\keras\\engine\\training.py\", line 993, in train_step\n        y_pred = self(x, training=True)\n    File \"C:\\Users\\ahasu\\AppData\\Roaming\\Python\\Python39\\site-packages\\keras\\utils\\traceback_utils.py\", line 70, in error_handler\n        raise e.with_traceback(filtered_tb) from None\n    File \"C:\\Users\\ahasu\\AppData\\Roaming\\Python\\Python39\\site-packages\\keras\\engine\\input_spec.py\", line 232, in assert_input_compatibility\n        raise ValueError(\n\n    ValueError: Exception encountered when calling layer \"sequential_1\" \"                 f\"(type Sequential).\n    \n    Input 0 of layer \"simple_rnn\" is incompatible with the layer: expected ndim=3, found ndim=4. Full shape received: (32, 180, 500, 20)\n    \n    Call arguments received by layer \"sequential_1\" \"                 f\"(type Sequential):\n      • inputs=tf.Tensor(shape=(32, 180, 500), dtype=float32)\n      • training=True\n      • mask=None\n"
     ]
    }
   ],
   "source": [
    "history = model2.fit(X_train, y_train, \n",
    "                    epochs = 30,\n",
    "                    callbacks = callback,\n",
    "                    validation_data=(X_val, y_val))"
   ]
  },
  {
   "cell_type": "code",
   "execution_count": null,
   "metadata": {},
   "outputs": [],
   "source": []
  }
 ],
 "metadata": {
  "kernelspec": {
   "display_name": "Python 3 (ipykernel)",
   "language": "python",
   "name": "python3"
  },
  "language_info": {
   "codemirror_mode": {
    "name": "ipython",
    "version": 3
   },
   "file_extension": ".py",
   "mimetype": "text/x-python",
   "name": "python",
   "nbconvert_exporter": "python",
   "pygments_lexer": "ipython3",
   "version": "3.9.12"
  },
  "vscode": {
   "interpreter": {
    "hash": "399b942a90945adf822711c817a2148b24a3a269b52160aecaa333816877df5e"
   }
  }
 },
 "nbformat": 4,
 "nbformat_minor": 2
}
