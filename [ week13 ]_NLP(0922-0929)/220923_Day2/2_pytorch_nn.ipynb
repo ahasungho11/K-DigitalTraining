{
 "cells": [
  {
   "cell_type": "markdown",
   "id": "1fed168c",
   "metadata": {},
   "source": [
    "## Pytorch Neural Network\n",
    "---"
   ]
  },
  {
   "cell_type": "code",
   "execution_count": 30,
   "id": "7b6fa1eb",
   "metadata": {},
   "outputs": [],
   "source": [
    "import os\n",
    "import torch\n",
    "from torch import nn                         # 신경망 모듈\n",
    "from torch.utils.data import DataLoader      # 데이터 로딩 관련 모듈\n",
    "from torch.utils.data import Dataset\n",
    "from torchvision import datasets, transforms # torch 저장소 데이터셋 모듈"
   ]
  },
  {
   "cell_type": "markdown",
   "id": "53c5c722",
   "metadata": {},
   "source": [
    "## [1] 데이터 준비\n",
    "---"
   ]
  },
  {
   "cell_type": "code",
   "execution_count": 32,
   "id": "97bea866",
   "metadata": {},
   "outputs": [
    {
     "name": "stdout",
     "output_type": "stream",
     "text": [
      "Using cpu device\n"
     ]
    }
   ],
   "source": [
    "# Tensor의 저장소 설정을 위한 체크\n",
    "# -> 디폴트는 cpu, gpu로 바꾸기 위한 설정\n",
    "# 내가 GPU가 없더라도, 함께 쓰는 경우 다른 팀원을 위해서\n",
    "\n",
    "device = \"cuda\" if torch.cuda.is_available() else \"cpu\"\n",
    "print(f\"Using {device} device\")"
   ]
  },
  {
   "cell_type": "code",
   "execution_count": 59,
   "id": "f84c8323",
   "metadata": {},
   "outputs": [],
   "source": [
    "t1 = torch.tensor([1,2,3])"
   ]
  },
  {
   "cell_type": "code",
   "execution_count": 60,
   "id": "3eac2b9c",
   "metadata": {},
   "outputs": [
    {
     "name": "stdout",
     "output_type": "stream",
     "text": [
      "tensor([11, 12, 13])\n",
      "tensor([1, 2, 3])\n"
     ]
    }
   ],
   "source": [
    "print(t1.add(10))\n",
    "print(t1)"
   ]
  },
  {
   "cell_type": "code",
   "execution_count": 64,
   "id": "6755cb64",
   "metadata": {},
   "outputs": [],
   "source": [
    "t2 = torch.tensor([1,2,3])"
   ]
  },
  {
   "cell_type": "code",
   "execution_count": 65,
   "id": "8b7cbfbc",
   "metadata": {},
   "outputs": [
    {
     "name": "stdout",
     "output_type": "stream",
     "text": [
      "tensor([11, 12, 13])\n",
      "tensor([11, 12, 13])\n"
     ]
    }
   ],
   "source": [
    "# inplace처럼 출력만 하는 것이 아니라, 원본에 적용하라는 것\n",
    "print(t2.add_(10))\n",
    "print(t2)"
   ]
  },
  {
   "cell_type": "code",
   "execution_count": 66,
   "id": "89de0b77",
   "metadata": {},
   "outputs": [
    {
     "data": {
      "text/html": [
       "<div>\n",
       "<style scoped>\n",
       "    .dataframe tbody tr th:only-of-type {\n",
       "        vertical-align: middle;\n",
       "    }\n",
       "\n",
       "    .dataframe tbody tr th {\n",
       "        vertical-align: top;\n",
       "    }\n",
       "\n",
       "    .dataframe thead th {\n",
       "        text-align: right;\n",
       "    }\n",
       "</style>\n",
       "<table border=\"1\" class=\"dataframe\">\n",
       "  <thead>\n",
       "    <tr style=\"text-align: right;\">\n",
       "      <th></th>\n",
       "      <th>0</th>\n",
       "      <th>1</th>\n",
       "      <th>2</th>\n",
       "    </tr>\n",
       "  </thead>\n",
       "  <tbody>\n",
       "    <tr>\n",
       "      <th>0</th>\n",
       "      <td>1</td>\n",
       "      <td>1</td>\n",
       "      <td>1</td>\n",
       "    </tr>\n",
       "    <tr>\n",
       "      <th>1</th>\n",
       "      <td>2</td>\n",
       "      <td>2</td>\n",
       "      <td>2</td>\n",
       "    </tr>\n",
       "  </tbody>\n",
       "</table>\n",
       "</div>"
      ],
      "text/plain": [
       "   0  1  2\n",
       "0  1  1  1\n",
       "1  2  2  2"
      ]
     },
     "execution_count": 66,
     "metadata": {},
     "output_type": "execute_result"
    }
   ],
   "source": [
    "import pandas as pd\n",
    "df = pd.DataFrame([[1,1,1],[2,2,2]])\n",
    "df"
   ]
  },
  {
   "cell_type": "code",
   "execution_count": 67,
   "id": "0ddf914b",
   "metadata": {},
   "outputs": [
    {
     "data": {
      "text/html": [
       "<div>\n",
       "<style scoped>\n",
       "    .dataframe tbody tr th:only-of-type {\n",
       "        vertical-align: middle;\n",
       "    }\n",
       "\n",
       "    .dataframe tbody tr th {\n",
       "        vertical-align: top;\n",
       "    }\n",
       "\n",
       "    .dataframe thead th {\n",
       "        text-align: right;\n",
       "    }\n",
       "</style>\n",
       "<table border=\"1\" class=\"dataframe\">\n",
       "  <thead>\n",
       "    <tr style=\"text-align: right;\">\n",
       "      <th></th>\n",
       "      <th>0</th>\n",
       "      <th>1</th>\n",
       "      <th>2</th>\n",
       "    </tr>\n",
       "  </thead>\n",
       "  <tbody>\n",
       "    <tr>\n",
       "      <th>1</th>\n",
       "      <td>2</td>\n",
       "      <td>2</td>\n",
       "      <td>2</td>\n",
       "    </tr>\n",
       "  </tbody>\n",
       "</table>\n",
       "</div>"
      ],
      "text/plain": [
       "   0  1  2\n",
       "1  2  2  2"
      ]
     },
     "execution_count": 67,
     "metadata": {},
     "output_type": "execute_result"
    }
   ],
   "source": [
    "# axis = 0 ('0'인 '행'이 기본값)\n",
    "df.drop(0)"
   ]
  },
  {
   "cell_type": "code",
   "execution_count": 69,
   "id": "d6cedd42",
   "metadata": {},
   "outputs": [
    {
     "data": {
      "text/html": [
       "<div>\n",
       "<style scoped>\n",
       "    .dataframe tbody tr th:only-of-type {\n",
       "        vertical-align: middle;\n",
       "    }\n",
       "\n",
       "    .dataframe tbody tr th {\n",
       "        vertical-align: top;\n",
       "    }\n",
       "\n",
       "    .dataframe thead th {\n",
       "        text-align: right;\n",
       "    }\n",
       "</style>\n",
       "<table border=\"1\" class=\"dataframe\">\n",
       "  <thead>\n",
       "    <tr style=\"text-align: right;\">\n",
       "      <th></th>\n",
       "      <th>0</th>\n",
       "      <th>1</th>\n",
       "      <th>2</th>\n",
       "    </tr>\n",
       "  </thead>\n",
       "  <tbody>\n",
       "    <tr>\n",
       "      <th>0</th>\n",
       "      <td>1</td>\n",
       "      <td>1</td>\n",
       "      <td>1</td>\n",
       "    </tr>\n",
       "    <tr>\n",
       "      <th>1</th>\n",
       "      <td>2</td>\n",
       "      <td>2</td>\n",
       "      <td>2</td>\n",
       "    </tr>\n",
       "  </tbody>\n",
       "</table>\n",
       "</div>"
      ],
      "text/plain": [
       "   0  1  2\n",
       "0  1  1  1\n",
       "1  2  2  2"
      ]
     },
     "execution_count": 69,
     "metadata": {},
     "output_type": "execute_result"
    }
   ],
   "source": [
    "df"
   ]
  },
  {
   "cell_type": "code",
   "execution_count": 70,
   "id": "e3dc7c5d",
   "metadata": {},
   "outputs": [
    {
     "data": {
      "text/plain": [
       "0    3\n",
       "1    3\n",
       "2    3\n",
       "dtype: int64"
      ]
     },
     "execution_count": 70,
     "metadata": {},
     "output_type": "execute_result"
    }
   ],
   "source": [
    "df.sum()"
   ]
  },
  {
   "cell_type": "code",
   "execution_count": 72,
   "id": "51cc0e99",
   "metadata": {},
   "outputs": [
    {
     "data": {
      "text/plain": [
       "0    3\n",
       "1    6\n",
       "dtype: int64"
      ]
     },
     "execution_count": 72,
     "metadata": {},
     "output_type": "execute_result"
    }
   ],
   "source": [
    "df.sum(axis=1)"
   ]
  },
  {
   "cell_type": "code",
   "execution_count": null,
   "id": "1a092e58",
   "metadata": {},
   "outputs": [],
   "source": [
    "t1.scatter_()\n",
    "# scatter_(dim, index, src, reduce=None) -> Tensor"
   ]
  },
  {
   "cell_type": "markdown",
   "id": "5c14ac7f",
   "metadata": {},
   "source": [
    "### NN 모델 생성\n",
    "---\n",
    "- 함수값들을 만들고, 결과값만 출력해줄 수 있도록"
   ]
  },
  {
   "cell_type": "code",
   "execution_count": 33,
   "id": "0af48fde",
   "metadata": {},
   "outputs": [],
   "source": [
    "# 순차적인 Layer 구성  ==>  Sequential, Layer ...\n",
    "# 상속이기 때문에 생성자 메서드인 __itit__는 꼭 넣어야\n",
    "class NeuralNetwork(nn.Module):\n",
    "    \n",
    "    # 생성자 메서드, NeuralNetwork() 최초 객체 생성 시에만 실행\n",
    "    def __init__(self):\n",
    "        super(NeuralNetwork, self).__init__()\n",
    "        \n",
    "        self.flatten = nn.Flatten()\n",
    "        \n",
    "        self.linear_relu_stack = nn.Sequential(\n",
    "             # linerar_relu_stack => 원하는 이름으로 바꿔도 ok\n",
    "            \n",
    "            # 입력층 (input_dim, output_dim)\n",
    "            # 28*28 (하드코딩 nope! 변수로 해야겠지?)\n",
    "            nn.Linear(28*28, 512),\n",
    "            # Linear => Conv2d 등 바꿔서 쓸 layer들 쓰면 됨 \n",
    "            nn.ReLU(),\n",
    "            \n",
    "            # 은닉층 (input_dim, output_dim)\n",
    "            nn.Linear(512, 512),\n",
    "            nn.ReLU(),\n",
    "            \n",
    "            # 출력층 (input_dim, output_dim)\n",
    "            # cf) 회귀라면, 10->1이 되겠지?\n",
    "            nn.Linear(512, 10),\n",
    "        )\n",
    "\n",
    "    # NN 모델이 동작을 시작할 때 실행    \n",
    "    def forward(self, x):\n",
    "        \n",
    "        # 1차원으로 데이터 변환\n",
    "        x = self.flatten(x)\n",
    "        \n",
    "        # NN 모델에 데이터 전달 (입력층으로)\n",
    "        logits = self.linear_relu_stack(x)\n",
    "        return logits"
   ]
  },
  {
   "cell_type": "code",
   "execution_count": 34,
   "id": "6a3e6d8d",
   "metadata": {},
   "outputs": [
    {
     "name": "stdout",
     "output_type": "stream",
     "text": [
      "NeuralNetwork(\n",
      "  (flatten): Flatten(start_dim=1, end_dim=-1)\n",
      "  (linear_relu_stack): Sequential(\n",
      "    (0): Linear(in_features=784, out_features=512, bias=True)\n",
      "    (1): ReLU()\n",
      "    (2): Linear(in_features=512, out_features=512, bias=True)\n",
      "    (3): ReLU()\n",
      "    (4): Linear(in_features=512, out_features=10, bias=True)\n",
      "  )\n",
      ")\n"
     ]
    }
   ],
   "source": [
    "# NN모델 생성 -> 이 모델을 저장소에 옮겨라\n",
    "mnistM = NeuralNetwork().to(device)\n",
    "print(mnistM)"
   ]
  },
  {
   "cell_type": "code",
   "execution_count": 35,
   "id": "a8a99a01",
   "metadata": {},
   "outputs": [
    {
     "data": {
      "text/plain": [
       "tensor([[[0.5178],\n",
       "         [0.1381]],\n",
       "\n",
       "        [[0.9052],\n",
       "         [0.3432]],\n",
       "\n",
       "        [[0.8064],\n",
       "         [0.7202]]])"
      ]
     },
     "execution_count": 35,
     "metadata": {},
     "output_type": "execute_result"
    }
   ],
   "source": [
    "# cf) torch.rand(샘플수(batch_size,행,열)\n",
    "torch.rand(3,2,1)"
   ]
  },
  {
   "cell_type": "code",
   "execution_count": 36,
   "id": "ee8e450c",
   "metadata": {
    "collapsed": true
   },
   "outputs": [
    {
     "name": "stdout",
     "output_type": "stream",
     "text": [
      "X => tensor([[[0.0750, 0.4212, 0.3372, 0.1446, 0.7829, 0.3823, 0.7294, 0.5903,\n",
      "          0.2850, 0.4220, 0.7100, 0.4598, 0.5676, 0.5560, 0.4715, 0.3894,\n",
      "          0.1574, 0.8910, 0.7499, 0.8169, 0.8263, 0.4610, 0.7376, 0.7838,\n",
      "          0.1712, 0.4838, 0.0080, 0.1076],\n",
      "         [0.0864, 0.3220, 0.8107, 0.5609, 0.7462, 0.5670, 0.6374, 0.2137,\n",
      "          0.9543, 0.3300, 0.2940, 0.4454, 0.2071, 0.9740, 0.1151, 0.1041,\n",
      "          0.8911, 0.3195, 0.8073, 0.9029, 0.1992, 0.3772, 0.6884, 0.9609,\n",
      "          0.6782, 0.2456, 0.4550, 0.8477],\n",
      "         [0.4953, 0.0756, 0.2638, 0.7940, 0.3725, 0.9048, 0.7678, 0.5099,\n",
      "          0.2079, 0.1749, 0.5305, 0.0980, 0.2957, 0.4913, 0.8427, 0.8491,\n",
      "          0.1003, 0.5084, 0.4822, 0.9904, 0.4000, 0.7723, 0.6325, 0.8803,\n",
      "          0.8050, 0.3185, 0.7263, 0.3941],\n",
      "         [0.9675, 0.8580, 0.6779, 0.4575, 0.1049, 0.8342, 0.1807, 0.9542,\n",
      "          0.2093, 0.0020, 0.3611, 0.5459, 0.8467, 0.3167, 0.4254, 0.2432,\n",
      "          0.4175, 0.6571, 0.6936, 0.2487, 0.5757, 0.9759, 0.8967, 0.8948,\n",
      "          0.6075, 0.3093, 0.9975, 0.7015],\n",
      "         [0.1550, 0.1511, 0.0338, 0.5862, 0.2240, 0.4244, 0.6830, 0.0756,\n",
      "          0.9979, 0.4749, 0.5905, 0.7759, 0.5295, 0.9187, 0.3830, 0.1826,\n",
      "          0.1013, 0.8571, 0.6138, 0.9985, 0.1069, 0.6858, 0.2354, 0.2081,\n",
      "          0.5453, 0.3012, 0.8038, 0.4380],\n",
      "         [0.5434, 0.7891, 0.5260, 0.2730, 0.3308, 0.8902, 0.3193, 0.5876,\n",
      "          0.4905, 0.3553, 0.2580, 0.0559, 0.8232, 0.2843, 0.8203, 0.1682,\n",
      "          0.4044, 0.9475, 0.6343, 0.7091, 0.1297, 0.8996, 0.1300, 0.2924,\n",
      "          0.0753, 0.7153, 0.7239, 0.1573],\n",
      "         [0.2684, 0.8757, 0.0248, 0.6002, 0.2872, 0.6342, 0.1265, 0.0071,\n",
      "          0.9173, 0.0567, 0.4537, 0.2051, 0.6869, 0.1955, 0.3528, 0.0835,\n",
      "          0.5995, 0.9755, 0.7334, 0.4590, 0.2160, 0.1271, 0.1902, 0.4971,\n",
      "          0.7381, 0.0374, 0.9725, 0.7544],\n",
      "         [0.7539, 0.0820, 0.6790, 0.5627, 0.3645, 0.2144, 0.3100, 0.7279,\n",
      "          0.6692, 0.9539, 0.6125, 0.9046, 0.9816, 0.7693, 0.7774, 0.5021,\n",
      "          0.1848, 0.2116, 0.2650, 0.4616, 0.5567, 0.5652, 0.4996, 0.7450,\n",
      "          0.0280, 0.2160, 0.0934, 0.6288],\n",
      "         [0.3820, 0.4186, 0.3225, 0.7790, 0.7578, 0.8564, 0.1123, 0.1529,\n",
      "          0.0129, 0.8751, 0.8254, 0.4701, 0.9413, 0.0540, 0.4375, 0.7207,\n",
      "          0.7707, 0.0770, 0.2038, 0.4883, 0.5733, 0.3439, 0.8299, 0.9143,\n",
      "          0.2453, 0.2360, 0.4967, 0.6937],\n",
      "         [0.8438, 0.6057, 0.1981, 0.2631, 0.7777, 0.9906, 0.4618, 0.7001,\n",
      "          0.4074, 0.0598, 0.8458, 0.6437, 0.7421, 0.6596, 0.4034, 0.3745,\n",
      "          0.0180, 0.8512, 0.8729, 0.2134, 0.7274, 0.8137, 0.8638, 0.5073,\n",
      "          0.9679, 0.3131, 0.4102, 0.8632],\n",
      "         [0.5889, 0.7333, 0.4168, 0.6203, 0.8010, 0.6584, 0.9682, 0.8720,\n",
      "          0.2060, 0.5803, 0.0549, 0.3687, 0.1243, 0.2560, 0.9610, 0.8055,\n",
      "          0.5608, 0.8150, 0.8027, 0.9615, 0.0243, 0.5092, 0.7437, 0.7339,\n",
      "          0.1710, 0.1098, 0.6298, 0.7542],\n",
      "         [0.3148, 0.3814, 0.6676, 0.6855, 0.4380, 0.8059, 0.6543, 0.7527,\n",
      "          0.5178, 0.1446, 0.9922, 0.5309, 0.4820, 0.0904, 0.0365, 0.1592,\n",
      "          0.7778, 0.2059, 0.1718, 0.2096, 0.5345, 0.0501, 0.2043, 0.7334,\n",
      "          0.4997, 0.4923, 0.9711, 0.2584],\n",
      "         [0.5181, 0.6755, 0.6226, 0.2486, 0.2869, 0.9503, 0.5497, 0.6767,\n",
      "          0.6525, 0.9182, 0.5980, 0.3720, 0.3072, 0.7432, 0.8811, 0.8589,\n",
      "          0.8405, 0.9338, 0.9674, 0.0712, 0.6529, 0.4048, 0.2658, 0.0182,\n",
      "          0.8298, 0.0587, 0.1331, 0.3933],\n",
      "         [0.8602, 0.9164, 0.6868, 0.5168, 0.2843, 0.2566, 0.3410, 0.0408,\n",
      "          0.5687, 0.6706, 0.4397, 0.1060, 0.2752, 0.6061, 0.6071, 0.8119,\n",
      "          0.5726, 0.7400, 0.1995, 0.9348, 0.6140, 0.1898, 0.8311, 0.8272,\n",
      "          0.6117, 0.9775, 0.2006, 0.8007],\n",
      "         [0.4281, 0.4769, 0.4077, 0.8660, 0.4241, 0.6486, 0.7354, 0.5456,\n",
      "          0.4419, 0.0252, 0.0978, 0.5644, 0.5932, 0.9749, 0.4900, 0.8604,\n",
      "          0.0994, 0.5817, 0.4519, 0.7727, 0.8651, 0.3652, 0.9707, 0.4724,\n",
      "          0.3791, 0.6623, 0.1414, 0.2824],\n",
      "         [0.3991, 0.0365, 0.3562, 0.1457, 0.1604, 0.2693, 0.3282, 0.9042,\n",
      "          0.0293, 0.2919, 0.1396, 0.7117, 0.5726, 0.2617, 0.8931, 0.0525,\n",
      "          0.0614, 0.8314, 0.9780, 0.0073, 0.4358, 0.3201, 0.6202, 0.1326,\n",
      "          0.4663, 0.1800, 0.4359, 0.2264],\n",
      "         [0.8932, 0.6805, 0.7173, 0.8771, 0.8495, 0.4182, 0.7854, 0.8909,\n",
      "          0.4202, 0.3954, 0.1474, 0.9682, 0.9120, 0.1571, 0.6024, 0.9268,\n",
      "          0.1277, 0.0927, 0.5659, 0.7896, 0.4737, 0.9497, 0.5395, 0.3994,\n",
      "          0.1290, 0.6503, 0.0499, 0.0592],\n",
      "         [0.3723, 0.1931, 0.0214, 0.5512, 0.8232, 0.0056, 0.7789, 0.4858,\n",
      "          0.0910, 0.9914, 0.7736, 0.2291, 0.3128, 0.5961, 0.8275, 0.0535,\n",
      "          0.1457, 0.5869, 0.7637, 0.1827, 0.3556, 0.2725, 0.4745, 0.1215,\n",
      "          0.3732, 0.4882, 0.4127, 0.0775],\n",
      "         [0.7504, 0.3812, 0.3194, 0.1207, 0.2335, 0.6253, 0.8240, 0.8699,\n",
      "          0.2446, 0.0544, 0.5408, 0.9568, 0.6988, 0.2546, 0.4468, 0.3988,\n",
      "          0.6974, 0.4189, 0.5563, 0.6146, 0.3103, 0.0742, 0.2444, 0.8732,\n",
      "          0.1942, 0.5829, 0.4688, 0.9769],\n",
      "         [0.6089, 0.5676, 0.1734, 0.1740, 0.4858, 0.0213, 0.3156, 0.3600,\n",
      "          0.6947, 0.1308, 0.2093, 0.9086, 0.2572, 0.1854, 0.3670, 0.9167,\n",
      "          0.0116, 0.4520, 0.7297, 0.3254, 0.2517, 0.8169, 0.5292, 0.7600,\n",
      "          0.3716, 0.2072, 0.4080, 0.8783],\n",
      "         [0.4297, 0.4277, 0.4212, 0.3897, 0.2955, 0.1760, 0.1407, 0.9857,\n",
      "          0.8420, 0.2403, 0.9043, 0.3225, 0.9384, 0.2697, 0.1478, 0.5083,\n",
      "          0.3413, 0.8639, 0.0627, 0.1941, 0.8669, 0.7921, 0.5453, 0.2983,\n",
      "          0.3303, 0.1847, 0.9535, 0.6153],\n",
      "         [0.6863, 0.2582, 0.8857, 0.0534, 0.1344, 0.1428, 0.1133, 0.2983,\n",
      "          0.1794, 0.4650, 0.8990, 0.2243, 0.7447, 0.2489, 0.0286, 0.0439,\n",
      "          0.1860, 0.1337, 0.9058, 0.5018, 0.0026, 0.1659, 0.6844, 0.6414,\n",
      "          0.4068, 0.9781, 0.0625, 0.1921],\n",
      "         [0.4106, 0.1561, 0.3920, 0.0627, 0.9328, 0.0453, 0.5278, 0.5844,\n",
      "          0.9707, 0.3071, 0.4126, 0.6642, 0.9285, 0.9467, 0.8396, 0.3269,\n",
      "          0.7690, 0.7234, 0.6094, 0.4644, 0.6173, 0.4432, 0.1569, 0.1649,\n",
      "          0.9022, 0.1642, 0.3371, 0.3729],\n",
      "         [0.3888, 0.4256, 0.4249, 0.9272, 0.8764, 0.6366, 0.1595, 0.8747,\n",
      "          0.9586, 0.9783, 0.4516, 0.8136, 0.4378, 0.5586, 0.6700, 0.1347,\n",
      "          0.7258, 0.0849, 0.5158, 0.4028, 0.5663, 0.9304, 0.9637, 0.9544,\n",
      "          0.8066, 0.1889, 0.6476, 0.3193],\n",
      "         [0.2575, 0.7531, 0.4943, 0.3189, 0.0014, 0.7386, 0.9348, 0.7778,\n",
      "          0.4522, 0.5104, 0.9832, 0.5717, 0.5020, 0.7087, 0.7943, 0.8641,\n",
      "          0.5187, 0.5550, 0.1654, 0.3699, 0.4324, 0.9489, 0.5758, 0.6559,\n",
      "          0.6256, 0.6643, 0.3491, 0.1190],\n",
      "         [0.9918, 0.9750, 0.5122, 0.7210, 0.3032, 0.7945, 0.7368, 0.5985,\n",
      "          0.3691, 0.9443, 0.5928, 0.6854, 0.2242, 0.4893, 0.9125, 0.6968,\n",
      "          0.6465, 0.2769, 0.2802, 0.1319, 0.4659, 0.7009, 0.8240, 0.5076,\n",
      "          0.7699, 0.0989, 0.4854, 0.0497],\n",
      "         [0.9780, 0.0922, 0.0724, 0.0118, 0.6420, 0.3170, 0.0508, 0.4200,\n",
      "          0.3905, 0.7619, 0.9910, 0.6411, 0.2599, 0.3671, 0.9233, 0.6191,\n",
      "          0.4945, 0.5999, 0.1497, 0.4633, 0.8120, 0.0134, 0.5177, 0.9697,\n",
      "          0.2297, 0.2531, 0.9840, 0.2154],\n",
      "         [0.7440, 0.8366, 0.0271, 0.1563, 0.3628, 0.2438, 0.5840, 0.9076,\n",
      "          0.1748, 0.6651, 0.0448, 0.0694, 0.5107, 0.6708, 0.0779, 0.1322,\n",
      "          0.5437, 0.4433, 0.4505, 0.4154, 0.5084, 0.5009, 0.1997, 0.7915,\n",
      "          0.2529, 0.1586, 0.1472, 0.0162]]])\n"
     ]
    }
   ],
   "source": [
    "# 데이터 준비\n",
    "# -> 28*28이 들어가야 되니까, 이것을 X에 넣고, 모델에 넣어야 함\n",
    "# -> rand() => 0.0 ~ 1.0에서 랜덤으로\n",
    "# torch.rand(size, Arges, )\n",
    "# - size : tensor의 shape\n",
    "\n",
    "# X = torch.rand(1, 28, 28, device=device)\n",
    "print(f'X => {X}')"
   ]
  },
  {
   "cell_type": "code",
   "execution_count": 37,
   "id": "adc82510",
   "metadata": {},
   "outputs": [
    {
     "data": {
      "text/plain": [
       "(torch.Size([1, 28, 28]), 3)"
      ]
     },
     "execution_count": 37,
     "metadata": {},
     "output_type": "execute_result"
    }
   ],
   "source": [
    "inputT = torch.rand(1, 28, 28)\n",
    "inputT.shape, inputT.ndim"
   ]
  },
  {
   "cell_type": "code",
   "execution_count": 38,
   "id": "fe05d6fc",
   "metadata": {},
   "outputs": [
    {
     "name": "stdout",
     "output_type": "stream",
     "text": [
      " 학습 결과 : \n",
      "tensor([[ 0.0843,  0.0135,  0.0170, -0.1053,  0.0151,  0.0801,  0.0621,  0.0368,\n",
      "         -0.0345, -0.0409]], grad_fn=<AddmmBackward0>), \n",
      "torch.Size([1, 10])\n"
     ]
    }
   ],
   "source": [
    "# 학습\n",
    "logits = mnistM(X)\n",
    "print(f' 학습 결과 : \\n{logits}, \\n{logits.shape}')"
   ]
  },
  {
   "cell_type": "code",
   "execution_count": 39,
   "id": "2fdf9179",
   "metadata": {},
   "outputs": [
    {
     "name": "stdout",
     "output_type": "stream",
     "text": [
      "pred_probab : tensor([[0.1072, 0.0999, 0.1003, 0.0887, 0.1001, 0.1068, 0.1049, 0.1023, 0.0952,\n",
      "         0.0946]], grad_fn=<SoftmaxBackward0>)\n",
      "Predicted class: tensor([0])\n"
     ]
    }
   ],
   "source": [
    "# 결과 분석\n",
    "# 전체 각 확률값을 보여줌\n",
    "\n",
    "pred_probab = nn.Softmax(dim=1)(logits)  # softmax로 확률값을 받고\n",
    "# cf) 다중분류가 아니면 sigmoid()나 다른 것들을 쓰겠지?\n",
    "print(f\"pred_probab : {pred_probab}\")\n",
    "\n",
    "# 그 중 가장 큰 확률값의 인덱스 번호를 보여줌\n",
    "y_pred = pred_probab.argmax(1)\n",
    "print(f\"Predicted class: {y_pred}\")\n"
   ]
  },
  {
   "cell_type": "code",
   "execution_count": 40,
   "id": "958d8e0c",
   "metadata": {},
   "outputs": [],
   "source": [
    "## PyTroch의 dataset 사용\n",
    "# dataset을 가져올 때도, 파라미터를 다 줘야 함\n",
    "from torchvision.transforms import ToTensor  # data => tensor로 변환"
   ]
  },
  {
   "cell_type": "code",
   "execution_count": 29,
   "id": "a2d1831a",
   "metadata": {
    "collapsed": true
   },
   "outputs": [
    {
     "name": "stdout",
     "output_type": "stream",
     "text": [
      "Downloading http://fashion-mnist.s3-website.eu-central-1.amazonaws.com/train-images-idx3-ubyte.gz\n",
      "Downloading http://fashion-mnist.s3-website.eu-central-1.amazonaws.com/train-images-idx3-ubyte.gz to data\\FashionMNIST\\raw\\train-images-idx3-ubyte.gz\n"
     ]
    },
    {
     "data": {
      "application/vnd.jupyter.widget-view+json": {
       "model_id": "9383221ab8ec43fb8c6eb0995650bfc2",
       "version_major": 2,
       "version_minor": 0
      },
      "text/plain": [
       "  0%|          | 0/26421880 [00:00<?, ?it/s]"
      ]
     },
     "metadata": {},
     "output_type": "display_data"
    },
    {
     "name": "stdout",
     "output_type": "stream",
     "text": [
      "Extracting data\\FashionMNIST\\raw\\train-images-idx3-ubyte.gz to data\\FashionMNIST\\raw\n",
      "\n",
      "Downloading http://fashion-mnist.s3-website.eu-central-1.amazonaws.com/train-labels-idx1-ubyte.gz\n",
      "Downloading http://fashion-mnist.s3-website.eu-central-1.amazonaws.com/train-labels-idx1-ubyte.gz to data\\FashionMNIST\\raw\\train-labels-idx1-ubyte.gz\n"
     ]
    },
    {
     "data": {
      "application/vnd.jupyter.widget-view+json": {
       "model_id": "2339df0f779543458bce4e115801eea6",
       "version_major": 2,
       "version_minor": 0
      },
      "text/plain": [
       "  0%|          | 0/29515 [00:00<?, ?it/s]"
      ]
     },
     "metadata": {},
     "output_type": "display_data"
    },
    {
     "name": "stdout",
     "output_type": "stream",
     "text": [
      "Extracting data\\FashionMNIST\\raw\\train-labels-idx1-ubyte.gz to data\\FashionMNIST\\raw\n",
      "\n",
      "Downloading http://fashion-mnist.s3-website.eu-central-1.amazonaws.com/t10k-images-idx3-ubyte.gz\n",
      "Downloading http://fashion-mnist.s3-website.eu-central-1.amazonaws.com/t10k-images-idx3-ubyte.gz to data\\FashionMNIST\\raw\\t10k-images-idx3-ubyte.gz\n"
     ]
    },
    {
     "data": {
      "application/vnd.jupyter.widget-view+json": {
       "model_id": "9ed3cf1f9eee4774b23ed9b0051971c6",
       "version_major": 2,
       "version_minor": 0
      },
      "text/plain": [
       "  0%|          | 0/4422102 [00:00<?, ?it/s]"
      ]
     },
     "metadata": {},
     "output_type": "display_data"
    },
    {
     "name": "stdout",
     "output_type": "stream",
     "text": [
      "Extracting data\\FashionMNIST\\raw\\t10k-images-idx3-ubyte.gz to data\\FashionMNIST\\raw\n",
      "\n",
      "Downloading http://fashion-mnist.s3-website.eu-central-1.amazonaws.com/t10k-labels-idx1-ubyte.gz\n",
      "Downloading http://fashion-mnist.s3-website.eu-central-1.amazonaws.com/t10k-labels-idx1-ubyte.gz to data\\FashionMNIST\\raw\\t10k-labels-idx1-ubyte.gz\n"
     ]
    },
    {
     "data": {
      "application/vnd.jupyter.widget-view+json": {
       "model_id": "76a037aad0c044e79019ce5d6abefa56",
       "version_major": 2,
       "version_minor": 0
      },
      "text/plain": [
       "  0%|          | 0/5148 [00:00<?, ?it/s]"
      ]
     },
     "metadata": {},
     "output_type": "display_data"
    },
    {
     "name": "stdout",
     "output_type": "stream",
     "text": [
      "Extracting data\\FashionMNIST\\raw\\t10k-labels-idx1-ubyte.gz to data\\FashionMNIST\\raw\n",
      "\n"
     ]
    }
   ],
   "source": [
    "# train 데이터\n",
    "training_data = datasets.FashionMNIST(\n",
    "    root=\"data\",\n",
    "    train=True,         \n",
    "    download=True,\n",
    "    transform=ToTensor()\n",
    ")\n",
    "\n",
    "# test 데이터\n",
    "test_data = datasets.FashionMNIST(\n",
    "    root=\"data\",\n",
    "    train=False,\n",
    "    download=True,\n",
    "    transform=ToTensor()\n",
    ")"
   ]
  },
  {
   "cell_type": "code",
   "execution_count": 50,
   "id": "53d8611a",
   "metadata": {},
   "outputs": [
    {
     "data": {
      "text/plain": [
       "(torchvision.datasets.mnist.FashionMNIST, torch.Size([60000, 28, 28]))"
      ]
     },
     "execution_count": 50,
     "metadata": {},
     "output_type": "execute_result"
    }
   ],
   "source": [
    "type(training_data), training_data.data.shape"
   ]
  },
  {
   "cell_type": "code",
   "execution_count": 51,
   "id": "96f81f10",
   "metadata": {},
   "outputs": [
    {
     "data": {
      "text/plain": [
       "(torchvision.datasets.mnist.FashionMNIST, torch.Size([10000, 28, 28]))"
      ]
     },
     "execution_count": 51,
     "metadata": {},
     "output_type": "execute_result"
    }
   ],
   "source": [
    "type(test_data), test_data.data.shape"
   ]
  },
  {
   "cell_type": "code",
   "execution_count": 55,
   "id": "0c396f4c",
   "metadata": {},
   "outputs": [
    {
     "data": {
      "image/png": "[encoded data removed]",
      "text/plain": [
       "<Figure size 576x576 with 9 Axes>"
      ]
     },
     "metadata": {
      "needs_background": "light"
     },
     "output_type": "display_data"
    }
   ],
   "source": [
    "import matplotlib.pyplot as plt\n",
    "\n",
    "labels_map = {\n",
    "    0: \"T-Shirt\",\n",
    "    1: \"Trouser\",\n",
    "    2: \"Pullover\",\n",
    "    3: \"Dress\",\n",
    "    4: \"Coat\",\n",
    "    5: \"Sandal\",\n",
    "    6: \"Shirt\",\n",
    "    7: \"Sneaker\",\n",
    "    8: \"Bag\",\n",
    "    9: \"Ankle Boot\",\n",
    "}\n",
    "figure = plt.figure(figsize=(8, 8))\n",
    "cols, rows = 3, 3\n",
    "for i in range(1, cols * rows + 1):\n",
    "    sample_idx = torch.randint(len(training_data), size=(1,)).item()\n",
    "    img, label = training_data[sample_idx]\n",
    "#     __get_item__\n",
    "    figure.add_subplot(rows, cols, i)\n",
    "    plt.title(labels_map[label])\n",
    "    plt.axis(\"off\")\n",
    "    # print(f'img => {img.shape}')\n",
    "    \n",
    "    plt.imshow(img.squeeze(), cmap=\"gray\")\n",
    "    # 그래프를 그릴 때 3차원을 2차원으로 resize했었지\n",
    "    # but, 여기서는 1차원을 없애주는 squeeze() => [ 3차원-1차원 = 2차원 ]\n",
    "plt.show()"
   ]
  },
  {
   "cell_type": "code",
   "execution_count": null,
   "id": "b5b1db4b",
   "metadata": {},
   "outputs": [],
   "source": [
    "# 갖고 온 데이터를 다 \n",
    "totensor()로 tensor로 바꾼 것\n",
    "\n",
    "함수_ => 함수가 수행한 것을 곧바로 적용시켜줌\n"
   ]
  },
  {
   "cell_type": "code",
   "execution_count": null,
   "id": "5b9f0dc1",
   "metadata": {},
   "outputs": [],
   "source": [
    "target_transform = Lambda(lambda y: torch.zeros(\n",
    "    10, dtype=torch.float).scatter_(dim=0, index=torch.tensor(y), value=1))"
   ]
  },
  {
   "cell_type": "code",
   "execution_count": null,
   "id": "64274fed",
   "metadata": {},
   "outputs": [],
   "source": []
  }
 ],
 "metadata": {
  "kernelspec": {
   "display_name": "Python 3 (ipykernel)",
   "language": "python",
   "name": "python3"
  },
  "language_info": {
   "codemirror_mode": {
    "name": "ipython",
    "version": 3
   },
   "file_extension": ".py",
   "mimetype": "text/x-python",
   "name": "python",
   "nbconvert_exporter": "python",
   "pygments_lexer": "ipython3",
   "version": "3.9.12"
  }
 },
 "nbformat": 4,
 "nbformat_minor": 5
}
