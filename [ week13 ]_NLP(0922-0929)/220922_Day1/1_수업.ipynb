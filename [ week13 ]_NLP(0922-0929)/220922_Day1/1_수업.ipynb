{
 "cells": [
  {
   "cell_type": "code",
   "execution_count": 1,
   "id": "1993175d",
   "metadata": {},
   "outputs": [
    {
     "data": {
      "text/plain": [
       "220922"
      ]
     },
     "execution_count": 1,
     "metadata": {},
     "output_type": "execute_result"
    }
   ],
   "source": [
    "220922"
   ]
  },
  {
   "cell_type": "markdown",
   "id": "e2f7cad5",
   "metadata": {},
   "source": [
    "- 영어는 띄어쓰기로 잘 되는편\n",
    "- 한글은 형태소까지로 쪼개고 -> 숫자로 바꾸는 전처리 작업(多) <= 쪼개는 작업을 '토큰화'\n",
    "- (중복x) 단어 나열 - 원핫 인코딩 - 컴퓨터용 사전 만들기\n",
    "- 원핫인코딩 - 피처가 너무 많아짐 => ''\n",
    "- RNN, CNN 등\n",
    "- 텍스트도 이미지(회전, 반전 등)나 음성(주파수 조절 등)과 마찬가지. 많으면 좋지\n",
    "- 임베딩 => 길이 맞추기\n",
    "\n",
    "< 주요 피처 select >\n",
    "- 부족한 데이터 -> 과적합 -> 데이터 증가시키기 힘들 떄 -> CV 중 K-Fold\n",
    "- 피처가 많으면 비슷한 것끼리 분류해줘야지 (삭제하거나 골라야지) ---> 주성분 분석(PCA)\n",
    " -> 피처간 상관관계 보기\n",
    " -> 피처와 타겟 간의 상관관계 보기\n",
    " => 둘다 고려\n",
    " \n",
    "피처가 많으면, 고르거나/버리거나\n",
    "피처 셀렉팅으로 해결x (유사한 게 많다면)\n",
    "유사한 게 많은 것들 중 의미 있는 것을 골라야 (by PCA)\n",
    "\n",
    "정방향 행렬(대칭행렬) -> ex) 공분산 행렬 (for 피처 뽑기)"
   ]
  },
  {
   "cell_type": "code",
   "execution_count": null,
   "id": "9982522a",
   "metadata": {},
   "outputs": [],
   "source": [
    "* PCA 성분 뽑는 것 중요\n",
    "* 군집화\n",
    "- Dunn Index는 사이킷런 지원x\n",
    "- Silhoutte 지수 (내그룹, 근처 다른그룹의 거리까지 다 측정) => 평균값\n",
    "- 포인트 마다의 값이 다 다름 => 1에 가까울수록 군집화가 잘 되었다고 봄\n",
    "- K-Means => 엘보우 방법 참고(pdf)"
   ]
  },
  {
   "cell_type": "code",
   "execution_count": null,
   "id": "e024a932",
   "metadata": {},
   "outputs": [],
   "source": [
    "- 필요없는 피처 삭제"
   ]
  }
 ],
 "metadata": {
  "kernelspec": {
   "display_name": "Python 3 (ipykernel)",
   "language": "python",
   "name": "python3"
  },
  "language_info": {
   "codemirror_mode": {
    "name": "ipython",
    "version": 3
   },
   "file_extension": ".py",
   "mimetype": "text/x-python",
   "name": "python",
   "nbconvert_exporter": "python",
   "pygments_lexer": "ipython3",
   "version": "3.9.12"
  }
 },
 "nbformat": 4,
 "nbformat_minor": 5
}
