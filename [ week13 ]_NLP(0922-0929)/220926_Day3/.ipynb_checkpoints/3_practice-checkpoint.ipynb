{
 "cells": [
  {
   "cell_type": "code",
   "execution_count": 38,
   "id": "7cd2a0bc",
   "metadata": {},
   "outputs": [],
   "source": [
    "# 단어, 문자 토큰화\n",
    "from nltk.tokenize import word_tokenize, sent_tokenize\n",
    "\n",
    "# 어간, 표제어\n",
    "from nltk.stem import LancasterStemmer   \n",
    "from nltk.stem import WordNetLemmatizer  \n",
    "\n",
    "# 텍스트 벡터화 \n",
    "from sklearn.feature_extraction.text import CountVectorizer, TfidfVectorizer\n",
    "\n",
    "# 문장으로부터 단어 토큰화\n",
    "from tensorflow.keras.preprocessing.text import text_to_word_sequence, Tokenizer"
   ]
  },
  {
   "cell_type": "code",
   "execution_count": 39,
   "id": "a2ceb921",
   "metadata": {
    "scrolled": false
   },
   "outputs": [],
   "source": [
    "en_1 = '''The main Henry Ford Museum building houses some of the classrooms for the Henry Ford Academy\n",
    "Henry Ford Academy is the first charter school in the United States to be developed jointly by a global corporation, public education, and a major nonprofit cultural institution. The school is sponsored by the Ford Motor Company, Wayne County Regional Educational Service Agency and The Henry Ford Museum and admits high school students. It is located in Dearborn, Michigan on the campus of the Henry Ford museum. Enrollment is taken from a lottery in the area and totaled 467 in 2010.[1]\n",
    "Freshman meet inside the main museum building in glass walled classrooms, while older students use a converted carousel building and Pullman cars on a siding of the Greenfield Village railroad. Classes are expected to include use of the museum artifacts, a tradition of the original Village Schools. When the Museum was established in 1929, it included a school which served grades kindergarten to college/trade school ages. The last part of the original school closed in 1969.\n",
    "The Henry Ford Learning Institute is using the Henry Ford Academy model for further charter schools including the Power House High in Chicago and Alameda School for Art + Design in San Antonio.\n",
    "The building received the international annual design award of the Council of Educational Facilities Planners International for 2001, the James D. MacConnell Award for outstanding new educational facilities. Notable attendees include Chris Stroud and Isaac Sudut.\n",
    "See also[edit]'''"
   ]
  },
  {
   "cell_type": "code",
   "execution_count": 49,
   "id": "d47ab821",
   "metadata": {
    "collapsed": true
   },
   "outputs": [
    {
     "name": "stdout",
     "output_type": "stream",
     "text": [
      "246 ['the', 'main', 'henry', 'ford', 'museum', 'building', 'houses', 'some', 'of', 'the', 'classrooms', 'for', 'the', 'henry', 'ford', 'academy', 'henry', 'ford', 'academy', 'is', 'the', 'first', 'charter', 'school', 'in', 'the', 'united', 'states', 'to', 'be', 'developed', 'jointly', 'by', 'a', 'global', 'corporation', 'public', 'education', 'and', 'a', 'major', 'nonprofit', 'cultural', 'institution', 'the', 'school', 'is', 'sponsored', 'by', 'the', 'ford', 'motor', 'company', 'wayne', 'county', 'regional', 'educational', 'service', 'agency', 'and', 'the', 'henry', 'ford', 'museum', 'and', 'admits', 'high', 'school', 'students', 'it', 'is', 'located', 'in', 'dearborn', 'michigan', 'on', 'the', 'campus', 'of', 'the', 'henry', 'ford', 'museum', 'enrollment', 'is', 'taken', 'from', 'a', 'lottery', 'in', 'the', 'area', 'and', 'totaled', '467', 'in', '2010', '1', 'freshman', 'meet', 'inside', 'the', 'main', 'museum', 'building', 'in', 'glass', 'walled', 'classrooms', 'while', 'older', 'students', 'use', 'a', 'converted', 'carousel', 'building', 'and', 'pullman', 'cars', 'on', 'a', 'siding', 'of', 'the', 'greenfield', 'village', 'railroad', 'classes', 'are', 'expected', 'to', 'include', 'use', 'of', 'the', 'museum', 'artifacts', 'a', 'tradition', 'of', 'the', 'original', 'village', 'schools', 'when', 'the', 'museum', 'was', 'established', 'in', '1929', 'it', 'included', 'a', 'school', 'which', 'served', 'grades', 'kindergarten', 'to', 'college', 'trade', 'school', 'ages', 'the', 'last', 'part', 'of', 'the', 'original', 'school', 'closed', 'in', '1969', 'the', 'henry', 'ford', 'learning', 'institute', 'is', 'using', 'the', 'henry', 'ford', 'academy', 'model', 'for', 'further', 'charter', 'schools', 'including', 'the', 'power', 'house', 'high', 'in', 'chicago', 'and', 'alameda', 'school', 'for', 'art', 'design', 'in', 'san', 'antonio', 'the', 'building', 'received', 'the', 'international', 'annual', 'design', 'award', 'of', 'the', 'council', 'of', 'educational', 'facilities', 'planners', 'international', 'for', '2001', 'the', 'james', 'd', 'macconnell', 'award', 'for', 'outstanding', 'new', 'educational', 'facilities', 'notable', 'attendees', 'include', 'chris', 'stroud', 'and', 'isaac', 'sudut', 'see', 'also', 'edit']\n"
     ]
    }
   ],
   "source": [
    "tokens = text_to_word_sequence(en_1)\n",
    "print(len(tokens), tokens)"
   ]
  },
  {
   "cell_type": "code",
   "execution_count": 50,
   "id": "69c2bec6",
   "metadata": {},
   "outputs": [],
   "source": [
    "tokenizer = Tokenizer()\n",
    "# myToken = Tokenizer(num_words=50)\n",
    "\n",
    "# fit_on_texts() : 문자 데이터를 입력받아서 리스트의 형태로 변환\n",
    "tokenizer.fit_on_texts(en_1)"
   ]
  },
  {
   "cell_type": "code",
   "execution_count": 51,
   "id": "a7a9eaed",
   "metadata": {},
   "outputs": [
    {
     "name": "stdout",
     "output_type": "stream",
     "text": [
      "31\n",
      "{'e': 1, 'a': 2, 'o': 3, 'n': 4, 'i': 5, 't': 6, 's': 7, 'r': 8, 'l': 9, 'd': 10, 'h': 11, 'c': 12, 'u': 13, 'm': 14, 'f': 15, 'g': 16, 'y': 17, 'b': 18, 'p': 19, 'w': 20, 'v': 21, '1': 22, '0': 23, '9': 24, 'j': 25, '2': 26, 'k': 27, '6': 28, '4': 29, '7': 30, 'x': 31}\n"
     ]
    }
   ],
   "source": [
    "# word_index : 워드 인덱스\n",
    "print(len(tokenizer.word_index))\n",
    "print(tokenizer.word_index)"
   ]
  },
  {
   "cell_type": "code",
   "execution_count": 52,
   "id": "c748a5b3",
   "metadata": {},
   "outputs": [
    {
     "name": "stdout",
     "output_type": "stream",
     "text": [
      "OrderedDict([('t', 93), ('h', 59), ('e', 136), ('m', 35), ('a', 105), ('i', 94), ('n', 99), ('r', 74), ('y', 18), ('f', 30), ('o', 100), ('d', 69), ('u', 48), ('s', 83), ('b', 12), ('l', 71), ('g', 28), ('c', 54), ('v', 7), ('p', 12), ('j', 3), ('w', 10), ('k', 2), ('4', 1), ('6', 2), ('7', 1), ('2', 3), ('0', 4), ('1', 5), ('x', 1), ('9', 4)])\n"
     ]
    }
   ],
   "source": [
    "# word_counts : 빈도 순서대로 단어 출력 (내림차순)\n",
    "print(tokenizer.word_counts)"
   ]
  },
  {
   "cell_type": "code",
   "execution_count": 53,
   "id": "f5c56c0f",
   "metadata": {
    "collapsed": true
   },
   "outputs": [
    {
     "name": "stdout",
     "output_type": "stream",
     "text": [
      "seq_voca : 1532\n",
      "[[6], [11], [1], [], [14], [2], [5], [4], [], [11], [1], [4], [8], [17], [], [15], [3], [8], [10], [], [14], [13], [7], [1], [13], [14], [], [18], [13], [5], [9], [10], [5], [4], [16], [], [11], [3], [13], [7], [1], [7], [], [7], [3], [14], [1], [], [3], [15], [], [6], [11], [1], [], [12], [9], [2], [7], [7], [8], [3], [3], [14], [7], [], [15], [3], [8], [], [6], [11], [1], [], [11], [1], [4], [8], [17], [], [15], [3], [8], [10], [], [2], [12], [2], [10], [1], [14], [17], [], [11], [1], [4], [8], [17], [], [15], [3], [8], [10], [], [2], [12], [2], [10], [1], [14], [17], [], [5], [7], [], [6], [11], [1], [], [15], [5], [8], [7], [6], [], [12], [11], [2], [8], [6], [1], [8], [], [7], [12], [11], [3], [3], [9], [], [5], [4], [], [6], [11], [1], [], [13], [4], [5], [6], [1], [10], [], [7], [6], [2], [6], [1], [7], [], [6], [3], [], [18], [1], [], [10], [1], [21], [1], [9], [3], [19], [1], [10], [], [25], [3], [5], [4], [6], [9], [17], [], [18], [17], [], [2], [], [16], [9], [3], [18], [2], [9], [], [12], [3], [8], [19], [3], [8], [2], [6], [5], [3], [4], [], [], [19], [13], [18], [9], [5], [12], [], [1], [10], [13], [12], [2], [6], [5], [3], [4], [], [], [2], [4], [10], [], [2], [], [14], [2], [25], [3], [8], [], [4], [3], [4], [19], [8], [3], [15], [5], [6], [], [12], [13], [9], [6], [13], [8], [2], [9], [], [5], [4], [7], [6], [5], [6], [13], [6], [5], [3], [4], [], [], [6], [11], [1], [], [7], [12], [11], [3], [3], [9], [], [5], [7], [], [7], [19], [3], [4], [7], [3], [8], [1], [10], [], [18], [17], [], [6], [11], [1], [], [15], [3], [8], [10], [], [14], [3], [6], [3], [8], [], [12], [3], [14], [19], [2], [4], [17], [], [], [20], [2], [17], [4], [1], [], [12], [3], [13], [4], [6], [17], [], [8], [1], [16], [5], [3], [4], [2], [9], [], [1], [10], [13], [12], [2], [6], [5], [3], [4], [2], [9], [], [7], [1], [8], [21], [5], [12], [1], [], [2], [16], [1], [4], [12], [17], [], [2], [4], [10], [], [6], [11], [1], [], [11], [1], [4], [8], [17], [], [15], [3], [8], [10], [], [14], [13], [7], [1], [13], [14], [], [2], [4], [10], [], [2], [10], [14], [5], [6], [7], [], [11], [5], [16], [11], [], [7], [12], [11], [3], [3], [9], [], [7], [6], [13], [10], [1], [4], [6], [7], [], [], [5], [6], [], [5], [7], [], [9], [3], [12], [2], [6], [1], [10], [], [5], [4], [], [10], [1], [2], [8], [18], [3], [8], [4], [], [], [14], [5], [12], [11], [5], [16], [2], [4], [], [3], [4], [], [6], [11], [1], [], [12], [2], [14], [19], [13], [7], [], [3], [15], [], [6], [11], [1], [], [11], [1], [4], [8], [17], [], [15], [3], [8], [10], [], [14], [13], [7], [1], [13], [14], [], [], [1], [4], [8], [3], [9], [9], [14], [1], [4], [6], [], [5], [7], [], [6], [2], [27], [1], [4], [], [15], [8], [3], [14], [], [2], [], [9], [3], [6], [6], [1], [8], [17], [], [5], [4], [], [6], [11], [1], [], [2], [8], [1], [2], [], [2], [4], [10], [], [6], [3], [6], [2], [9], [1], [10], [], [29], [28], [30], [], [5], [4], [], [26], [23], [22], [23], [], [], [22], [], [], [15], [8], [1], [7], [11], [14], [2], [4], [], [14], [1], [1], [6], [], [5], [4], [7], [5], [10], [1], [], [6], [11], [1], [], [14], [2], [5], [4], [], [14], [13], [7], [1], [13], [14], [], [18], [13], [5], [9], [10], [5], [4], [16], [], [5], [4], [], [16], [9], [2], [7], [7], [], [20], [2], [9], [9], [1], [10], [], [12], [9], [2], [7], [7], [8], [3], [3], [14], [7], [], [], [20], [11], [5], [9], [1], [], [3], [9], [10], [1], [8], [], [7], [6], [13], [10], [1], [4], [6], [7], [], [13], [7], [1], [], [2], [], [12], [3], [4], [21], [1], [8], [6], [1], [10], [], [12], [2], [8], [3], [13], [7], [1], [9], [], [18], [13], [5], [9], [10], [5], [4], [16], [], [2], [4], [10], [], [19], [13], [9], [9], [14], [2], [4], [], [12], [2], [8], [7], [], [3], [4], [], [2], [], [7], [5], [10], [5], [4], [16], [], [3], [15], [], [6], [11], [1], [], [16], [8], [1], [1], [4], [15], [5], [1], [9], [10], [], [21], [5], [9], [9], [2], [16], [1], [], [8], [2], [5], [9], [8], [3], [2], [10], [], [], [12], [9], [2], [7], [7], [1], [7], [], [2], [8], [1], [], [1], [31], [19], [1], [12], [6], [1], [10], [], [6], [3], [], [5], [4], [12], [9], [13], [10], [1], [], [13], [7], [1], [], [3], [15], [], [6], [11], [1], [], [14], [13], [7], [1], [13], [14], [], [2], [8], [6], [5], [15], [2], [12], [6], [7], [], [], [2], [], [6], [8], [2], [10], [5], [6], [5], [3], [4], [], [3], [15], [], [6], [11], [1], [], [3], [8], [5], [16], [5], [4], [2], [9], [], [21], [5], [9], [9], [2], [16], [1], [], [7], [12], [11], [3], [3], [9], [7], [], [], [20], [11], [1], [4], [], [6], [11], [1], [], [14], [13], [7], [1], [13], [14], [], [20], [2], [7], [], [1], [7], [6], [2], [18], [9], [5], [7], [11], [1], [10], [], [5], [4], [], [22], [24], [26], [24], [], [], [5], [6], [], [5], [4], [12], [9], [13], [10], [1], [10], [], [2], [], [7], [12], [11], [3], [3], [9], [], [20], [11], [5], [12], [11], [], [7], [1], [8], [21], [1], [10], [], [16], [8], [2], [10], [1], [7], [], [27], [5], [4], [10], [1], [8], [16], [2], [8], [6], [1], [4], [], [6], [3], [], [12], [3], [9], [9], [1], [16], [1], [], [6], [8], [2], [10], [1], [], [7], [12], [11], [3], [3], [9], [], [2], [16], [1], [7], [], [], [6], [11], [1], [], [9], [2], [7], [6], [], [19], [2], [8], [6], [], [3], [15], [], [6], [11], [1], [], [3], [8], [5], [16], [5], [4], [2], [9], [], [7], [12], [11], [3], [3], [9], [], [12], [9], [3], [7], [1], [10], [], [5], [4], [], [22], [24], [28], [24], [], [], [6], [11], [1], [], [11], [1], [4], [8], [17], [], [15], [3], [8], [10], [], [9], [1], [2], [8], [4], [5], [4], [16], [], [5], [4], [7], [6], [5], [6], [13], [6], [1], [], [5], [7], [], [13], [7], [5], [4], [16], [], [6], [11], [1], [], [11], [1], [4], [8], [17], [], [15], [3], [8], [10], [], [2], [12], [2], [10], [1], [14], [17], [], [14], [3], [10], [1], [9], [], [15], [3], [8], [], [15], [13], [8], [6], [11], [1], [8], [], [12], [11], [2], [8], [6], [1], [8], [], [7], [12], [11], [3], [3], [9], [7], [], [5], [4], [12], [9], [13], [10], [5], [4], [16], [], [6], [11], [1], [], [19], [3], [20], [1], [8], [], [11], [3], [13], [7], [1], [], [11], [5], [16], [11], [], [5], [4], [], [12], [11], [5], [12], [2], [16], [3], [], [2], [4], [10], [], [2], [9], [2], [14], [1], [10], [2], [], [7], [12], [11], [3], [3], [9], [], [15], [3], [8], [], [2], [8], [6], [], [], [], [10], [1], [7], [5], [16], [4], [], [5], [4], [], [7], [2], [4], [], [2], [4], [6], [3], [4], [5], [3], [], [], [6], [11], [1], [], [18], [13], [5], [9], [10], [5], [4], [16], [], [8], [1], [12], [1], [5], [21], [1], [10], [], [6], [11], [1], [], [5], [4], [6], [1], [8], [4], [2], [6], [5], [3], [4], [2], [9], [], [2], [4], [4], [13], [2], [9], [], [10], [1], [7], [5], [16], [4], [], [2], [20], [2], [8], [10], [], [3], [15], [], [6], [11], [1], [], [12], [3], [13], [4], [12], [5], [9], [], [3], [15], [], [1], [10], [13], [12], [2], [6], [5], [3], [4], [2], [9], [], [15], [2], [12], [5], [9], [5], [6], [5], [1], [7], [], [19], [9], [2], [4], [4], [1], [8], [7], [], [5], [4], [6], [1], [8], [4], [2], [6], [5], [3], [4], [2], [9], [], [15], [3], [8], [], [26], [23], [23], [22], [], [], [6], [11], [1], [], [25], [2], [14], [1], [7], [], [10], [], [], [14], [2], [12], [12], [3], [4], [4], [1], [9], [9], [], [2], [20], [2], [8], [10], [], [15], [3], [8], [], [3], [13], [6], [7], [6], [2], [4], [10], [5], [4], [16], [], [4], [1], [20], [], [1], [10], [13], [12], [2], [6], [5], [3], [4], [2], [9], [], [15], [2], [12], [5], [9], [5], [6], [5], [1], [7], [], [], [4], [3], [6], [2], [18], [9], [1], [], [2], [6], [6], [1], [4], [10], [1], [1], [7], [], [5], [4], [12], [9], [13], [10], [1], [], [12], [11], [8], [5], [7], [], [7], [6], [8], [3], [13], [10], [], [2], [4], [10], [], [5], [7], [2], [2], [12], [], [7], [13], [10], [13], [6], [], [], [7], [1], [1], [], [2], [9], [7], [3], [], [1], [10], [5], [6], []]\n"
     ]
    }
   ],
   "source": [
    "seq_voca = tokenizer.texts_to_sequences(en_1)\n",
    "print(f'seq_voca : {len(seq_voca)}')\n",
    "print(seq_voca)"
   ]
  },
  {
   "cell_type": "code",
   "execution_count": 54,
   "id": "af153cd8",
   "metadata": {},
   "outputs": [
    {
     "data": {
      "text/plain": [
       "array([[0., 0., 0., 0., 0., 0., 0., 0., 0., 0., 0., 1.]], dtype=float32)"
      ]
     },
     "execution_count": 54,
     "metadata": {},
     "output_type": "execute_result"
    }
   ],
   "source": [
    "# 수치화한 것을 원-핫 인코딩 수행\n",
    "# sklearn OneHotEncoder 객체 생성 (이미 라벨 인코더는 된 셈)\n",
    "# keras 함수\n",
    "from tensorflow.keras.utils import to_categorical\n",
    "to_categorical(seq_voca[1])"
   ]
  },
  {
   "cell_type": "code",
   "execution_count": 55,
   "id": "9d8eab17",
   "metadata": {},
   "outputs": [
    {
     "data": {
      "text/plain": [
       "array([[0., 0., 0., ..., 0., 0., 0.],\n",
       "       [0., 0., 0., ..., 0., 0., 0.],\n",
       "       [0., 1., 0., ..., 0., 0., 0.],\n",
       "       ...,\n",
       "       [0., 0., 0., ..., 0., 0., 0.],\n",
       "       [0., 0., 0., ..., 0., 0., 0.],\n",
       "       [0., 0., 0., ..., 0., 0., 0.]])"
      ]
     },
     "execution_count": 55,
     "metadata": {},
     "output_type": "execute_result"
    }
   ],
   "source": [
    "tokenizer.texts_to_matrix(en_1)"
   ]
  },
  {
   "cell_type": "code",
   "execution_count": null,
   "id": "e93b0469",
   "metadata": {},
   "outputs": [],
   "source": []
  },
  {
   "cell_type": "code",
   "execution_count": null,
   "id": "177f4d6c",
   "metadata": {},
   "outputs": [],
   "source": []
  },
  {
   "cell_type": "code",
   "execution_count": null,
   "id": "f99dd71b",
   "metadata": {},
   "outputs": [],
   "source": []
  }
 ],
 "metadata": {
  "kernelspec": {
   "display_name": "Python 3 (ipykernel)",
   "language": "python",
   "name": "python3"
  },
  "language_info": {
   "codemirror_mode": {
    "name": "ipython",
    "version": 3
   },
   "file_extension": ".py",
   "mimetype": "text/x-python",
   "name": "python",
   "nbconvert_exporter": "python",
   "pygments_lexer": "ipython3",
   "version": "3.9.12"
  }
 },
 "nbformat": 4,
 "nbformat_minor": 5
}
