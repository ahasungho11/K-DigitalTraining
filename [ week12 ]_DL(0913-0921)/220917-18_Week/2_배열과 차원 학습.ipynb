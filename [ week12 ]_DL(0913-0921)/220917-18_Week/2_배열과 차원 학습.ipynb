{
 "cells": [
  {
   "cell_type": "code",
   "execution_count": 90,
   "id": "46875b76",
   "metadata": {},
   "outputs": [],
   "source": [
    "import numpy as np"
   ]
  },
  {
   "cell_type": "code",
   "execution_count": 91,
   "id": "14158cbb",
   "metadata": {},
   "outputs": [
    {
     "name": "stdout",
     "output_type": "stream",
     "text": [
      "[1 2 3 4 5 6 7 8] <class 'numpy.ndarray'>\n"
     ]
    }
   ],
   "source": [
    "# 1차원 & array\n",
    "a = np.arange(1,9)\n",
    "print(a, type(a))"
   ]
  },
  {
   "cell_type": "code",
   "execution_count": 92,
   "id": "83c14517",
   "metadata": {},
   "outputs": [
    {
     "name": "stdout",
     "output_type": "stream",
     "text": [
      "[[1 2]\n",
      " [3 4]\n",
      " [5 6]\n",
      " [7 8]] <class 'numpy.ndarray'>\n"
     ]
    }
   ],
   "source": [
    "# 행은 개수 알아서 맞춰주고, 열은 2개로 하기\n",
    "a = a.reshape(-1,2)\n",
    "print(a, type(a))"
   ]
  },
  {
   "cell_type": "code",
   "execution_count": 93,
   "id": "544a2baf",
   "metadata": {},
   "outputs": [
    {
     "name": "stdout",
     "output_type": "stream",
     "text": [
      "[[1, 2], [3, 4], [5, 6]] <class 'list'>\n"
     ]
    }
   ],
   "source": [
    "# 2차원 & 리스트\n",
    "aa = [[1,2],[3,4],[5,6]]\n",
    "print(aa, type(aa))"
   ]
  },
  {
   "cell_type": "code",
   "execution_count": 94,
   "id": "268bde5f",
   "metadata": {},
   "outputs": [
    {
     "name": "stdout",
     "output_type": "stream",
     "text": [
      "[[1 2]\n",
      " [3 4]\n",
      " [5 6]] <class 'numpy.ndarray'>\n"
     ]
    }
   ],
   "source": [
    "# 2차원 & 리스트 -> 2차원 & array\n",
    "aa = np.array(aa)\n",
    "print(aa, type(aa))"
   ]
  },
  {
   "cell_type": "code",
   "execution_count": 95,
   "id": "5f225119",
   "metadata": {},
   "outputs": [
    {
     "name": "stdout",
     "output_type": "stream",
     "text": [
      "[[[1 2]\n",
      "  [3 4]\n",
      "  [5 6]]] <class 'numpy.ndarray'>\n"
     ]
    }
   ],
   "source": [
    "# 2차원 & array -> 3차원 & array\n",
    "aa = np.array(aa, ndmin=3)\n",
    "print(aa, type(aa))"
   ]
  },
  {
   "cell_type": "code",
   "execution_count": 96,
   "id": "6e6a1771",
   "metadata": {},
   "outputs": [
    {
     "name": "stdout",
     "output_type": "stream",
     "text": [
      "[1, 2, 3, 4, 5, 6, 7, 8, 9] <class 'list'>\n"
     ]
    }
   ],
   "source": [
    "# 1차원 & 리스트\n",
    "b = [1,2,3,4,5,6,7,8,9]\n",
    "print(b, type(b))"
   ]
  },
  {
   "cell_type": "code",
   "execution_count": 97,
   "id": "5eabb290",
   "metadata": {},
   "outputs": [
    {
     "name": "stdout",
     "output_type": "stream",
     "text": [
      "[[[1 2 3 4 5 6 7 8 9]]] <class 'numpy.ndarray'>\n"
     ]
    }
   ],
   "source": [
    "# 1차원 & 리스트 -> 3차원 & array\n",
    "b = np.array(b, ndmin=3)\n",
    "print(b, type(b))"
   ]
  },
  {
   "cell_type": "code",
   "execution_count": 98,
   "id": "092740e5",
   "metadata": {},
   "outputs": [
    {
     "name": "stdout",
     "output_type": "stream",
     "text": [
      "[[0. 0. 0. 0. 0.]\n",
      " [0. 0. 0. 0. 0.]\n",
      " [0. 0. 0. 0. 0.]] <class 'numpy.ndarray'>\n"
     ]
    }
   ],
   "source": [
    "# 0으로 차원 초기화 (실수로)\n",
    "a = np.zeros(shape=(3,5), dtype=float)\n",
    "print(a, type(a))"
   ]
  },
  {
   "cell_type": "code",
   "execution_count": 99,
   "id": "c018800e",
   "metadata": {},
   "outputs": [
    {
     "name": "stdout",
     "output_type": "stream",
     "text": [
      "[[0 0 0 0 0]\n",
      " [0 0 0 0 0]\n",
      " [0 0 0 0 0]] <class 'numpy.ndarray'>\n"
     ]
    }
   ],
   "source": [
    "# 0으로 차원 초기화 (정수로)\n",
    "a = np.zeros(shape=(3,5), dtype=int)\n",
    "print(a, type(a))"
   ]
  },
  {
   "cell_type": "code",
   "execution_count": 100,
   "id": "313fcd7a",
   "metadata": {},
   "outputs": [
    {
     "name": "stdout",
     "output_type": "stream",
     "text": [
      "[[[1 2]\n",
      "  [3 4]\n",
      "  [5 6]]] <class 'numpy.ndarray'>\n",
      "\n",
      "[[[1, 2], [3, 4], [5, 6]]] <class 'list'>\n"
     ]
    }
   ],
   "source": [
    "# 3차원 & array -> 3차원 & list로\n",
    "print(aa, type(aa))\n",
    "print()\n",
    "aa = aa.tolist()\n",
    "print(aa, type(aa))"
   ]
  }
 ],
 "metadata": {
  "kernelspec": {
   "display_name": "Python 3 (ipykernel)",
   "language": "python",
   "name": "python3"
  },
  "language_info": {
   "codemirror_mode": {
    "name": "ipython",
    "version": 3
   },
   "file_extension": ".py",
   "mimetype": "text/x-python",
   "name": "python",
   "nbconvert_exporter": "python",
   "pygments_lexer": "ipython3",
   "version": "3.9.12"
  }
 },
 "nbformat": 4,
 "nbformat_minor": 5
}
