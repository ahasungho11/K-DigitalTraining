{
 "cells": [
  {
   "cell_type": "code",
   "execution_count": null,
   "id": "39e6498f-177b-4634-963a-954714a17922",
   "metadata": {},
   "outputs": [],
   "source": [
    "cap = cv2.VideoCapture(f\"{VideoPath}\")\n",
    "\n",
    "def readFrame(cap, frame):\n",
    "\tcap.set(cv2.CAP_PROP_POS_FRAMES, frame)\n",
    "\tok, image = cap.read()\n",
    "\n",
    "\tif not ok:\n",
    "\t\traise \"프레임 없음\"\n",
    "\treturn image\n"
   ]
  },
  {
   "cell_type": "code",
   "execution_count": null,
   "id": "a836b7ed-fd13-4d12-8fa0-87314e68e1a4",
   "metadata": {},
   "outputs": [],
   "source": []
  },
  {
   "cell_type": "code",
   "execution_count": null,
   "id": "0cc48f3e-b651-459b-9844-836e46e07b9e",
   "metadata": {},
   "outputs": [],
   "source": []
  },
  {
   "cell_type": "code",
   "execution_count": null,
   "id": "36d0152e-4a08-41a5-9053-390d6af8dcc0",
   "metadata": {},
   "outputs": [],
   "source": []
  },
  {
   "cell_type": "code",
   "execution_count": null,
   "id": "5058f980-3b7a-44a4-9b38-7ad60c5847ea",
   "metadata": {},
   "outputs": [],
   "source": []
  },
  {
   "cell_type": "code",
   "execution_count": null,
   "id": "2fc917bd-fd21-453a-aebe-152bec31c58a",
   "metadata": {},
   "outputs": [],
   "source": []
  }
 ],
 "metadata": {
  "kernelspec": {
   "display_name": "Python 3 (ipykernel)",
   "language": "python",
   "name": "python3"
  },
  "language_info": {
   "codemirror_mode": {
    "name": "ipython",
    "version": 3
   },
   "file_extension": ".py",
   "mimetype": "text/x-python",
   "name": "python",
   "nbconvert_exporter": "python",
   "pygments_lexer": "ipython3",
   "version": "3.9.13"
  }
 },
 "nbformat": 4,
 "nbformat_minor": 5
}
