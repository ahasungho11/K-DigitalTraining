{
 "cells": [
  {
   "cell_type": "markdown",
   "id": "0a2a4876",
   "metadata": {},
   "source": [
    "### 모델 속성 및 W, b 초기값 고정\n",
    "---\n",
    "- 모델 속성 확인\n",
    "- 모델 생성 시, 랜덤으로 초기화되는 W,b값 고정"
   ]
  },
  {
   "cell_type": "code",
   "execution_count": 3,
   "id": "ab3b08bb",
   "metadata": {},
   "outputs": [],
   "source": [
    "from tensorflow.keras import models, layers\n",
    "import numpy as np\n",
    "from tensorflow import random   # random seed 설정용\n",
    "from tensorflow.keras.utils import set_random_seed # 위의 것이 안되서"
   ]
  },
  {
   "cell_type": "code",
   "execution_count": 4,
   "id": "98dcc2b9",
   "metadata": {},
   "outputs": [],
   "source": [
    "# 임시 테스트 데이터\n",
    "# 특성 피처 2개(시간, 과외횟수), 출력 1개 정수\n",
    "X=np.array([[2,0],[3,0],[4,3],[5,1],[6,1],[7, 0],[8, 2]])\n",
    "y=np.array([52,56,71,77,82,94,100])"
   ]
  },
  {
   "cell_type": "code",
   "execution_count": 5,
   "id": "5d1879d6",
   "metadata": {},
   "outputs": [
    {
     "data": {
      "text/plain": [
       "((7, 2), (7,))"
      ]
     },
     "execution_count": 5,
     "metadata": {},
     "output_type": "execute_result"
    }
   ],
   "source": [
    "X.shape, y.shape"
   ]
  },
  {
   "cell_type": "code",
   "execution_count": 6,
   "id": "1e3c1aa3",
   "metadata": {},
   "outputs": [],
   "source": [
    "# 변하지 않게 하고 싶으면 고정 model만들기 전에\n",
    "# - W,b 초기값 고정 (seed값을 고정해놓고 쓰면 됨)\n",
    "set_random_seed(11)\n",
    "# np.random.seed(11)"
   ]
  },
  {
   "cell_type": "markdown",
   "id": "25ab1bf4",
   "metadata": {},
   "source": [
    "### 모델 구상"
   ]
  },
  {
   "cell_type": "code",
   "execution_count": 7,
   "id": "4e33d4d3",
   "metadata": {},
   "outputs": [],
   "source": [
    "# 모듈 로딩 별도로 안했기 때문에 요로케 입력\n",
    "model = models.Sequential()"
   ]
  },
  {
   "cell_type": "code",
   "execution_count": 8,
   "id": "f60a8e77",
   "metadata": {},
   "outputs": [],
   "source": [
    "# 입력 데이터는 2개(시간, 과외횟수)\n",
    "# => 이걸 받는 첫째층의 노드는 각각 2개의 가중치(W)와 1개의 절편(b)가 생성\n",
    "model.add(layers.Dense(15, activation='relu', input_shape=(2,)))"
   ]
  },
  {
   "cell_type": "code",
   "execution_count": 9,
   "id": "6aa792d2",
   "metadata": {},
   "outputs": [],
   "source": [
    "# 출력은 af에 linear 넣어도 되고 안넣어도 되고\n",
    "model.add(layers.Dense(1, activation='linear'))"
   ]
  },
  {
   "cell_type": "code",
   "execution_count": 10,
   "id": "1b7037a1",
   "metadata": {},
   "outputs": [
    {
     "name": "stdout",
     "output_type": "stream",
     "text": [
      "Model: \"sequential\"\n",
      "_________________________________________________________________\n",
      " Layer (type)                Output Shape              Param #   \n",
      "=================================================================\n",
      " dense (Dense)               (None, 15)                45        \n",
      "                                                                 \n",
      " dense_1 (Dense)             (None, 1)                 16        \n",
      "                                                                 \n",
      "=================================================================\n",
      "Total params: 61\n",
      "Trainable params: 61\n",
      "Non-trainable params: 0\n",
      "_________________________________________________________________\n"
     ]
    }
   ],
   "source": [
    "model.summary()"
   ]
  },
  {
   "cell_type": "markdown",
   "id": "5d428383",
   "metadata": {},
   "source": [
    "## 모델 속성 확인\n",
    "---"
   ]
  },
  {
   "cell_type": "code",
   "execution_count": 11,
   "id": "3ae2cf54",
   "metadata": {},
   "outputs": [
    {
     "data": {
      "text/plain": [
       "[<keras.layers.core.dense.Dense at 0x1bea277b880>,\n",
       " <keras.layers.core.dense.Dense at 0x1beae8b6af0>]"
      ]
     },
     "execution_count": 11,
     "metadata": {},
     "output_type": "execute_result"
    }
   ],
   "source": [
    "# 현재 모델에 들어가 있는 layers들이 list에 담겨 있음\n",
    "model.layers"
   ]
  },
  {
   "cell_type": "code",
   "execution_count": 12,
   "id": "9e237c9d",
   "metadata": {},
   "outputs": [
    {
     "data": {
      "text/plain": [
       "keras.layers.core.dense.Dense"
      ]
     },
     "execution_count": 12,
     "metadata": {},
     "output_type": "execute_result"
    }
   ],
   "source": [
    "l1 = model.layers[0]\n",
    "type(l1)"
   ]
  },
  {
   "cell_type": "code",
   "execution_count": 13,
   "id": "d817285a",
   "metadata": {},
   "outputs": [
    {
     "data": {
      "text/plain": [
       "[<tf.Variable 'dense/kernel:0' shape=(2, 15) dtype=float32, numpy=\n",
       " array([[-0.0724808 , -0.36772066,  0.14252675, -0.19753218, -0.5447282 ,\n",
       "          0.44409585, -0.43749553,  0.5150628 , -0.37941545,  0.49073625,\n",
       "         -0.446113  , -0.14983064,  0.26036233,  0.4556036 ,  0.09345454],\n",
       "        [-0.15471119,  0.09478283, -0.4131112 , -0.52068454,  0.385912  ,\n",
       "          0.08944392, -0.58129233, -0.5777312 ,  0.56557536, -0.11339569,\n",
       "         -0.45266294,  0.0349015 , -0.2509685 ,  0.47623467, -0.1356551 ]],\n",
       "       dtype=float32)>,\n",
       " <tf.Variable 'dense/bias:0' shape=(15,) dtype=float32, numpy=\n",
       " array([0., 0., 0., 0., 0., 0., 0., 0., 0., 0., 0., 0., 0., 0., 0.],\n",
       "       dtype=float32)>]"
      ]
     },
     "execution_count": 13,
     "metadata": {},
     "output_type": "execute_result"
    }
   ],
   "source": [
    "# l1에 담겨진 가중치(W), 절편(b)를 볼 수 있음\n",
    "l1.weights"
   ]
  },
  {
   "cell_type": "code",
   "execution_count": 14,
   "id": "ce87463d",
   "metadata": {},
   "outputs": [
    {
     "data": {
      "text/plain": [
       "<tf.Variable 'dense/kernel:0' shape=(2, 15) dtype=float32, numpy=\n",
       "array([[-0.0724808 , -0.36772066,  0.14252675, -0.19753218, -0.5447282 ,\n",
       "         0.44409585, -0.43749553,  0.5150628 , -0.37941545,  0.49073625,\n",
       "        -0.446113  , -0.14983064,  0.26036233,  0.4556036 ,  0.09345454],\n",
       "       [-0.15471119,  0.09478283, -0.4131112 , -0.52068454,  0.385912  ,\n",
       "         0.08944392, -0.58129233, -0.5777312 ,  0.56557536, -0.11339569,\n",
       "        -0.45266294,  0.0349015 , -0.2509685 ,  0.47623467, -0.1356551 ]],\n",
       "      dtype=float32)>"
      ]
     },
     "execution_count": 14,
     "metadata": {},
     "output_type": "execute_result"
    }
   ],
   "source": [
    "# l1에 담겨진 가중치(W)만\n",
    "l1.weights[0]"
   ]
  },
  {
   "cell_type": "code",
   "execution_count": 15,
   "id": "3d34bef8",
   "metadata": {},
   "outputs": [
    {
     "data": {
      "text/plain": [
       "[array([[-0.0724808 , -0.36772066,  0.14252675, -0.19753218, -0.5447282 ,\n",
       "          0.44409585, -0.43749553,  0.5150628 , -0.37941545,  0.49073625,\n",
       "         -0.446113  , -0.14983064,  0.26036233,  0.4556036 ,  0.09345454],\n",
       "        [-0.15471119,  0.09478283, -0.4131112 , -0.52068454,  0.385912  ,\n",
       "          0.08944392, -0.58129233, -0.5777312 ,  0.56557536, -0.11339569,\n",
       "         -0.45266294,  0.0349015 , -0.2509685 ,  0.47623467, -0.1356551 ]],\n",
       "       dtype=float32),\n",
       " array([0., 0., 0., 0., 0., 0., 0., 0., 0., 0., 0., 0., 0., 0., 0.],\n",
       "       dtype=float32)]"
      ]
     },
     "execution_count": 15,
     "metadata": {},
     "output_type": "execute_result"
    }
   ],
   "source": [
    "# l1에 담겨진 가중치(W), 절편(b) => tf~ 설명 안뜨게\n",
    "l1.get_weights()"
   ]
  },
  {
   "cell_type": "code",
   "execution_count": 16,
   "id": "af2708c5",
   "metadata": {},
   "outputs": [
    {
     "data": {
      "text/plain": [
       "array([[-0.072, -0.368,  0.143, -0.198, -0.545,  0.444, -0.437,  0.515,\n",
       "        -0.379,  0.491, -0.446, -0.15 ,  0.26 ,  0.456,  0.093],\n",
       "       [-0.155,  0.095, -0.413, -0.521,  0.386,  0.089, -0.581, -0.578,\n",
       "         0.566, -0.113, -0.453,  0.035, -0.251,  0.476, -0.136]],\n",
       "      dtype=float32)"
      ]
     },
     "execution_count": 16,
     "metadata": {},
     "output_type": "execute_result"
    }
   ],
   "source": [
    "# l1에 담겨진 가중치(W)만\n",
    "l1.get_weights()[0].round(3)"
   ]
  },
  {
   "cell_type": "code",
   "execution_count": 17,
   "id": "556a4746",
   "metadata": {},
   "outputs": [
    {
     "data": {
      "text/plain": [
       "array([-0.072, -0.368,  0.143, -0.198, -0.545,  0.444, -0.437,  0.515,\n",
       "       -0.379,  0.491, -0.446, -0.15 ,  0.26 ,  0.456,  0.093],\n",
       "      dtype=float32)"
      ]
     },
     "execution_count": 17,
     "metadata": {},
     "output_type": "execute_result"
    }
   ],
   "source": [
    "# 시간의 가중치(W)\n",
    "l1.get_weights()[0][0].round(3)"
   ]
  }
 ],
 "metadata": {
  "kernelspec": {
   "display_name": "Python 3 (ipykernel)",
   "language": "python",
   "name": "python3"
  },
  "language_info": {
   "codemirror_mode": {
    "name": "ipython",
    "version": 3
   },
   "file_extension": ".py",
   "mimetype": "text/x-python",
   "name": "python",
   "nbconvert_exporter": "python",
   "pygments_lexer": "ipython3",
   "version": "3.9.12"
  }
 },
 "nbformat": 4,
 "nbformat_minor": 5
}
