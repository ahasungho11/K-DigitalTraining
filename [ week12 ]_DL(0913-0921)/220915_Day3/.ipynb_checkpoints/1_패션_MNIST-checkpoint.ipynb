{
 "cells": [
  {
   "cell_type": "code",
   "execution_count": 1,
   "id": "47dee623",
   "metadata": {},
   "outputs": [],
   "source": [
    "# 220915"
   ]
  },
  {
   "cell_type": "code",
   "execution_count": 2,
   "id": "0a683ac9",
   "metadata": {},
   "outputs": [],
   "source": [
    "# 모듈 로딩\n",
    "import tensorflow as tf\n",
    "from tensorflow.keras import Sequential                         # 모델 객체\n",
    "from tensorflow.keras.layers import Dense, Dropout, Flatten     # 레이어 객체, 드롭아웃, 플레튼(층)\n",
    "from tensorflow.keras.datasets.fashion_mnist import load_data           # 케라스 데이터셋에서 MNIST(손글씨 식별 숫자 모델) 로딩\n",
    "from sklearn.model_selection import train_test_split\n",
    "import numpy as np"
   ]
  },
  {
   "cell_type": "code",
   "execution_count": 3,
   "id": "d9e32048",
   "metadata": {},
   "outputs": [],
   "source": [
    "# Flatten() => 펴주는 역할\n",
    "from tensorflow.keras.layers import Flatten\n",
    "\n",
    "# 연산을 하는 게 아니라, 1차원으로 펴주고 전달만 하는 것 (다른 파라미터 불필요)\n",
    "# model.add( Flatten() )\n",
    "# model.add( Flatten(input_shape=(784,)))"
   ]
  },
  {
   "cell_type": "markdown",
   "id": "6f662272",
   "metadata": {},
   "source": [
    "### 모델 도식화 기능"
   ]
  },
  {
   "cell_type": "code",
   "execution_count": 4,
   "id": "1ff4e42b",
   "metadata": {},
   "outputs": [],
   "source": [
    "# import 추가 \n",
    "from tensorflow.keras.utils import plot_model\n",
    "\n",
    "# 패키지 추가 설치\n",
    "# !pip install pydotplus\n",
    "# !pip install pydot\n",
    "# !pip install graphviz\n",
    "\n",
    "# OS가 윈도우일 때 추가 설치 (경로따라 들어가서)\n",
    "# graphviz.exe"
   ]
  },
  {
   "cell_type": "code",
   "execution_count": 9,
   "id": "fe26ac28",
   "metadata": {
    "collapsed": true
   },
   "outputs": [
    {
     "ename": "NameError",
     "evalue": "name 'model2' is not defined",
     "output_type": "error",
     "traceback": [
      "\u001b[1;31m---------------------------------------------------------------------------\u001b[0m",
      "\u001b[1;31mNameError\u001b[0m                                 Traceback (most recent call last)",
      "Input \u001b[1;32mIn [9]\u001b[0m, in \u001b[0;36m<cell line: 4>\u001b[1;34m()\u001b[0m\n\u001b[0;32m      2\u001b[0m \u001b[38;5;28;01mimport\u001b[39;00m \u001b[38;5;21;01mkeras\u001b[39;00m\n\u001b[0;32m      3\u001b[0m \u001b[38;5;28;01mfrom\u001b[39;00m \u001b[38;5;21;01mtensorflow\u001b[39;00m\u001b[38;5;21;01m.\u001b[39;00m\u001b[38;5;21;01mkeras\u001b[39;00m\u001b[38;5;21;01m.\u001b[39;00m\u001b[38;5;21;01mutils\u001b[39;00m \u001b[38;5;28;01mimport\u001b[39;00m plot_model\n\u001b[1;32m----> 4\u001b[0m plot_model(\u001b[43mmodel2\u001b[49m, show_shapes\u001b[38;5;241m=\u001b[39m\u001b[38;5;28;01mTrue\u001b[39;00m, show_dtype\u001b[38;5;241m=\u001b[39m\u001b[38;5;28;01mTrue\u001b[39;00m)\n",
      "\u001b[1;31mNameError\u001b[0m: name 'model2' is not defined"
     ]
    }
   ],
   "source": [
    "# 모델을 만들고, 아래 코드를 참고하여 작성하면 시각화 자료 출력\n",
    "from tensrflow.keras.utils import plot_model\n",
    "plot_model(model2, show_shapes=True, show_dtype=True)"
   ]
  },
  {
   "cell_type": "code",
   "execution_count": null,
   "id": "942e74f9",
   "metadata": {},
   "outputs": [],
   "source": [
    "흑백 - 1 channel\n",
    "컬러 - 3 channel (RGB)\n",
    "\n",
    "입력층 - 784\n",
    "출력층 - 10개 퍼셉트론, 다중분류, 소프트맥스"
   ]
  },
  {
   "cell_type": "markdown",
   "id": "2cf4af1e",
   "metadata": {},
   "source": [
    "### [1] 데이터 로딩 및 준비"
   ]
  },
  {
   "cell_type": "code",
   "execution_count": 6,
   "id": "10880446",
   "metadata": {},
   "outputs": [
    {
     "name": "stdout",
     "output_type": "stream",
     "text": [
      "X_train.shape : (60000, 28, 28)\n",
      "X_test.shape  : (10000, 28, 28)\n"
     ]
    }
   ],
   "source": [
    "# load_data() 함수를 호출하면 NumPy 어레이의 튜플을 반환\n",
    "(X_train, y_train), (X_test, y_test) = load_data()\n",
    "print(f'X_train.shape : {X_train.shape}\\nX_test.shape  : {X_test.shape}')"
   ]
  },
  {
   "cell_type": "code",
   "execution_count": 8,
   "id": "4079ea1c",
   "metadata": {},
   "outputs": [
    {
     "name": "stdout",
     "output_type": "stream",
     "text": [
      "X_train.shape : (33750, 28, 28)\n",
      "X_val.shape   : (10000, 28, 28)\n"
     ]
    }
   ],
   "source": [
    "# 검증용 데이터셋 준비\n",
    "X_train, X_val, y_train, y_val = train_test_split(X_train, y_train, stratify = y_train)\n",
    "print(f'X_train.shape : {X_train.shape}\\nX_val.shape   : {X_test.shape}')"
   ]
  }
 ],
 "metadata": {
  "kernelspec": {
   "display_name": "Python 3 (ipykernel)",
   "language": "python",
   "name": "python3"
  },
  "language_info": {
   "codemirror_mode": {
    "name": "ipython",
    "version": 3
   },
   "file_extension": ".py",
   "mimetype": "text/x-python",
   "name": "python",
   "nbconvert_exporter": "python",
   "pygments_lexer": "ipython3",
   "version": "3.9.12"
  }
 },
 "nbformat": 4,
 "nbformat_minor": 5
}
