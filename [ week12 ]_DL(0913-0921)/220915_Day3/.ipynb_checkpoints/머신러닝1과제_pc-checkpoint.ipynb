{
 "cells": [
  {
   "cell_type": "code",
   "execution_count": 1,
   "id": "c105ccd5",
   "metadata": {},
   "outputs": [],
   "source": [
    "# 1. pilimg를 사용하여 이미지를 불러온다.\n",
    "import PIL.Image as pilimg\n",
    "import numpy as np"
   ]
  },
  {
   "cell_type": "code",
   "execution_count": null,
   "id": "1bccedf4",
   "metadata": {},
   "outputs": [],
   "source": [
    "# 2. 불러온 이미지를 matplot으로 나타내기 위해 numpy array로 만든다.\n",
    "\n",
    "# pilimg.open : 이미지를 불러온다.\n",
    "# image.show() : 이미지를 띄운다.\n",
    "# np.array(image): 불러온 이미지를 Numpy Array로 만든다.\n",
    "\n",
    "image = pilimg.open('air_32x32.jpg')\n",
    "image.show()\n",
    "pix = np.array(image)\n",
    "\n",
    "import matplotlib.pyplot as plt\n",
    "%matplotlib inline \n",
    "plt.imshow(pix)"
   ]
  },
  {
   "cell_type": "code",
   "execution_count": null,
   "id": "c29895e2",
   "metadata": {},
   "outputs": [],
   "source": [
    "# 3. 추가로 imagefilter를 사용하여 이미지를 변경한다.\n",
    "\n",
    "# ImageFilter의 기능 :  BLUR, CONTROUR, DETAIL, EDGE_ENHANCE, EDGE_ENGANCE_MORE, EMBOSS, FIND_EDGES, SMOOTH, SMOOTH_MORE,SHARPEN\n",
    "\n",
    "from PIL import ImageFilter\n",
    "\n",
    "image2=image.filter(ImageFilter.FIND_EDGES)\n",
    "image2.show()\n",
    "\n",
    "pix2 = np.array(image2)\n",
    "plt.imshow(pix2)\n",
    "\n",
    "image3=image.filter(ImageFilter.EMBOSS)\n",
    "pix3 = np.array(image3)\n",
    "plt.imshow(pix3)"
   ]
  },
  {
   "cell_type": "code",
   "execution_count": null,
   "id": "e8cbe514",
   "metadata": {},
   "outputs": [],
   "source": []
  },
  {
   "cell_type": "code",
   "execution_count": null,
   "id": "12c5dfbf",
   "metadata": {},
   "outputs": [],
   "source": []
  },
  {
   "cell_type": "code",
   "execution_count": null,
   "id": "184c9d0a",
   "metadata": {},
   "outputs": [],
   "source": []
  },
  {
   "cell_type": "code",
   "execution_count": null,
   "id": "ecb3b8c3",
   "metadata": {},
   "outputs": [],
   "source": []
  }
 ],
 "metadata": {
  "kernelspec": {
   "display_name": "Python 3 (ipykernel)",
   "language": "python",
   "name": "python3"
  },
  "language_info": {
   "codemirror_mode": {
    "name": "ipython",
    "version": 3
   },
   "file_extension": ".py",
   "mimetype": "text/x-python",
   "name": "python",
   "nbconvert_exporter": "python",
   "pygments_lexer": "ipython3",
   "version": "3.9.12"
  }
 },
 "nbformat": 4,
 "nbformat_minor": 5
}
