{
 "cells": [
  {
   "cell_type": "markdown",
   "id": "af38525b",
   "metadata": {},
   "source": [
    "## MINST + PCA\n",
    "---\n",
    "- Feature 784개 ==> 주요 Feature로 압축"
   ]
  },
  {
   "cell_type": "code",
   "execution_count": 1,
   "id": "c2cfd272",
   "metadata": {},
   "outputs": [],
   "source": [
    "from sklearn.datasets import fetch_openml\n",
    "from sklearn.decomposition import PCA\n",
    "from tensorflow.keras.datasets.mnist import load_data\n",
    "import numpy as np\n",
    "import pandas as pd\n",
    "import matplotlib.pyplot as plt"
   ]
  },
  {
   "cell_type": "markdown",
   "id": "28a4a097",
   "metadata": {},
   "source": [
    "## [1] 데이터 로딩"
   ]
  },
  {
   "cell_type": "code",
   "execution_count": 2,
   "id": "27d06c8c",
   "metadata": {},
   "outputs": [],
   "source": [
    "(X_train, y_train), (X_test, y_test) = load_data()"
   ]
  },
  {
   "cell_type": "code",
   "execution_count": 3,
   "id": "a07e0237",
   "metadata": {},
   "outputs": [
    {
     "data": {
      "text/plain": [
       "((60000, 28, 28), (10000, 28, 28))"
      ]
     },
     "execution_count": 3,
     "metadata": {},
     "output_type": "execute_result"
    }
   ],
   "source": [
    "X_train.shape, X_test.shape"
   ]
  },
  {
   "cell_type": "markdown",
   "id": "3fc21b95",
   "metadata": {},
   "source": [
    "## [2] 데이터 전처리 및 형변화"
   ]
  },
  {
   "cell_type": "code",
   "execution_count": 4,
   "id": "17ca6cf6",
   "metadata": {},
   "outputs": [],
   "source": [
    "# 0-1 사이 범위값으로 피처 정규화\n",
    "X_train = X_train/255.0\n",
    "X_test = X_test/255.0"
   ]
  },
  {
   "cell_type": "code",
   "execution_count": 5,
   "id": "55c1cc5f",
   "metadata": {},
   "outputs": [],
   "source": [
    "# PCA 2차원 데이터 처리 => 2D 형변환\n",
    "X_train = X_train.reshape(-1, 28*28)\n",
    "X_test = X_test.reshape(-1, 28*28)"
   ]
  },
  {
   "cell_type": "code",
   "execution_count": 6,
   "id": "2884ceec",
   "metadata": {},
   "outputs": [
    {
     "name": "stdout",
     "output_type": "stream",
     "text": [
      "X_train : (60000, 784)\n",
      "X_test  : (10000, 784)\n"
     ]
    }
   ],
   "source": [
    "print('X_train : {}'.format(X_train.shape))\n",
    "print('X_test  : {}'.format(X_test.shape))"
   ]
  },
  {
   "cell_type": "markdown",
   "id": "f93632e8",
   "metadata": {},
   "source": [
    "## [2] MNIST의 PC(주성분 요소) 수 찾기\n",
    "---"
   ]
  },
  {
   "cell_type": "code",
   "execution_count": 7,
   "id": "3a293fb2",
   "metadata": {},
   "outputs": [],
   "source": [
    "# 784개 전부를 쓰는게 아니라, 테두리 같은 필요없는 피처들은 빼고자 한다는 것\n",
    "# 주성분 찾는 방법\n",
    "# i) \n",
    "# -> 디폴트 값은 전체 샘플수, 전체 피처수 중에서 작은 걸로\n",
    "# ii) 시각화 해서, 나타내고 싶은 정도까지의 주성분 개수를 정하고"
   ]
  },
  {
   "cell_type": "markdown",
   "id": "ec121621",
   "metadata": {},
   "source": [
    "### PCA 주성분 분석"
   ]
  },
  {
   "cell_type": "code",
   "execution_count": 8,
   "id": "94c3c4fc",
   "metadata": {},
   "outputs": [],
   "source": [
    "# PCA 객체 생성\n",
    "pca = PCA(n_components=0.95)"
   ]
  },
  {
   "cell_type": "code",
   "execution_count": 9,
   "id": "b12dbfd3",
   "metadata": {},
   "outputs": [
    {
     "data": {
      "text/plain": [
       "PCA(n_components=0.95)"
      ]
     },
     "execution_count": 9,
     "metadata": {},
     "output_type": "execute_result"
    }
   ],
   "source": [
    "# PC 계산\n",
    "pca.fit(X_train)"
   ]
  },
  {
   "cell_type": "code",
   "execution_count": 10,
   "id": "f295faf1",
   "metadata": {
    "collapsed": true
   },
   "outputs": [
    {
     "name": "stdout",
     "output_type": "stream",
     "text": [
      "pca.singular_values_ : [554.08236184 473.79289646 441.76832659 412.90967564 392.45954891\n",
      " 369.34743738 321.72592959 302.04650943 295.59576934 273.06366032\n",
      " 258.31039157 252.97700677 232.98056847 231.36547104 223.47337767\n",
      " 216.59463867 204.70103539 200.98426661 193.8016728  190.95856472\n",
      " 183.65236363 178.45839561 173.68452004 169.90685928 167.17214551\n",
      " 162.9474728  160.33074547 157.72351701 153.49152274 147.83552759\n",
      " 144.28725    143.19277799 138.07150073 136.22239172 134.28567117\n",
      " 131.13991042 126.49333601 124.2313057  123.40999747 122.22992796\n",
      " 120.20481924 118.62713309 115.06215042 112.23881111 110.35705642\n",
      " 108.93302362 107.01475474 105.46372614 103.71956692 100.90840213\n",
      " 100.45950025  99.47658474  96.76475599  95.60902108  94.8075482\n",
      "  92.66540711  92.3380578   90.42557427  89.59931997  87.99801628\n",
      "  87.22623816  87.0004999   85.37550857  83.71483558  82.22568067\n",
      "  80.9665046   80.14523835  78.90007754  78.10823212  77.24889952\n",
      "  76.90918966  75.68727777  74.94785429  74.38349456  72.41384403\n",
      "  72.00547004  71.469276    70.05077701  68.33549279  67.30065293\n",
      "  67.04590903  66.82352995  66.5914453   65.52878832  65.07117027\n",
      "  64.71754652  64.16796224  63.10307337  62.3351542   62.0187697\n",
      "  60.84724886  60.28290373  59.85383983  59.22727057  58.72201077\n",
      "  58.1594256   57.41290684  57.36076904  56.5972135   56.39310145\n",
      "  55.79373442  54.81180891  54.57044799  53.83580892  53.59092793\n",
      "  53.26591092  52.32272174  52.01287174  51.72156693  51.00947631\n",
      "  50.04176729  49.86299964  49.82072842  49.31734234  49.16263463\n",
      "  48.80980057  48.27850824  47.96126982  47.7139341   47.28651838\n",
      "  46.90390921  46.79372995  46.49335018  46.17783007  45.93110297\n",
      "  45.18074297  44.84086799  44.70139093  44.39202671  43.75885024\n",
      "  43.69730012  43.36636739  43.14061636  43.07502119  42.88441615\n",
      "  42.71776149  42.2912094   41.8927035   41.14623249  40.78928805\n",
      "  40.7570055   40.17709417  39.88921118  39.81407897  39.72000871\n",
      "  39.41447268  39.19182526  39.08305782  38.72394262  38.49195148\n",
      "  38.41987497  38.28496768  38.1179312   37.74622774]\n",
      "pca.explained_variance_ratio_  : [0.09704664 0.07095924 0.06169089 0.05389419 0.04868797 0.04312231\n",
      " 0.0327193  0.02883895 0.02762029 0.02357001 0.0210919  0.02022991\n",
      " 0.01715818 0.01692111 0.01578641 0.01482953 0.01324561 0.01276897\n",
      " 0.01187263 0.01152684 0.01066166 0.01006713 0.00953573 0.00912544\n",
      " 0.00883405 0.00839319 0.00812579 0.00786366 0.00744733 0.00690859\n",
      " 0.00658094 0.00648148 0.00602615 0.00586582 0.00570021 0.00543628\n",
      " 0.00505786 0.00487859 0.00481429 0.00472266 0.00456747 0.00444836\n",
      " 0.00418501 0.00398215 0.00384975 0.00375103 0.00362009 0.00351591\n",
      " 0.00340058 0.00321874 0.00319017 0.00312805 0.00295983 0.00288955\n",
      " 0.0028413  0.00271436 0.00269521 0.00258473 0.00253771 0.00244781\n",
      " 0.00240506 0.00239263 0.00230408 0.00221532 0.00213721 0.00207225\n",
      " 0.00203043 0.00196783 0.00192853 0.00188632 0.00186977 0.00181083\n",
      " 0.00177562 0.00174898 0.00165758 0.00163894 0.00161462 0.00155116\n",
      " 0.00147613 0.00143176 0.00142094 0.00141153 0.00140174 0.00135736\n",
      " 0.00133847 0.00132396 0.00130157 0.00125873 0.00122828 0.00121584\n",
      " 0.00117034 0.00114874 0.00113244 0.00110886 0.00109002 0.00106923\n",
      " 0.00104196 0.00104007 0.00101256 0.00100527 0.00098402 0.00094969\n",
      " 0.00094134 0.00091617 0.00090785 0.00089687 0.00086539 0.00085517\n",
      " 0.00084562 0.0008225  0.00079158 0.00078594 0.00078461 0.00076883\n",
      " 0.00076402 0.00075309 0.00073678 0.00072713 0.00071965 0.00070682\n",
      " 0.00069542 0.00069216 0.0006833  0.00067406 0.00066688 0.00064527\n",
      " 0.00063559 0.00063165 0.00062293 0.00060529 0.00060359 0.00059448\n",
      " 0.00058831 0.00058652 0.00058134 0.00057683 0.00056537 0.00055476\n",
      " 0.00053517 0.00052593 0.00052509 0.00051026 0.00050297 0.00050108\n",
      " 0.00049871 0.00049107 0.00048554 0.00048285 0.00047401 0.00046835\n",
      " 0.0004666  0.00046333 0.00045929 0.00045038]\n"
     ]
    }
   ],
   "source": [
    "# PC 확인\n",
    "print('pca.singular_values_ : {}'.format(pca.singular_values_))\n",
    "print('pca.explained_variance_ratio_  : {}'.format(pca.explained_variance_ratio_))"
   ]
  },
  {
   "cell_type": "code",
   "execution_count": 14,
   "id": "fa280432",
   "metadata": {},
   "outputs": [
    {
     "name": "stdout",
     "output_type": "stream",
     "text": [
      "mnistPCA.shape : (60000, 154)\n"
     ]
    }
   ],
   "source": [
    "# PC 기반 데이터 투영\n",
    "# 784 -> 154\n",
    "mnistPCA = pca.transform(X_train)\n",
    "print('mnistPCA.shape : {}'.format(mnistPCA.shape))"
   ]
  },
  {
   "cell_type": "code",
   "execution_count": 15,
   "id": "8eabba30",
   "metadata": {},
   "outputs": [
    {
     "data": {
      "text/plain": [
       "(60000, 784)"
      ]
     },
     "execution_count": 15,
     "metadata": {},
     "output_type": "execute_result"
    }
   ],
   "source": [
    "# 압축된 피처 성분 기반 성분 복원 => transform된 mnistPCA를 넣어야\n",
    "# 154 -> 784\n",
    "reMnist = pca.inverse_transform(mnistPCA)\n",
    "reMnist.shape"
   ]
  },
  {
   "cell_type": "markdown",
   "id": "0d045308",
   "metadata": {},
   "source": [
    "## 방법[1,2]"
   ]
  },
  {
   "cell_type": "markdown",
   "id": "f9ce1a94",
   "metadata": {},
   "source": [
    "### 방법[1] : explained_variance_ratio_ 누적값으로 PC 차원수 계산"
   ]
  },
  {
   "cell_type": "code",
   "execution_count": 22,
   "id": "78529b39",
   "metadata": {},
   "outputs": [
    {
     "name": "stdout",
     "output_type": "stream",
     "text": [
      "주성분 갯수(차원) : 154  =>  154개 이상\n"
     ]
    }
   ],
   "source": [
    "cumsum = np.cumsum(pca.explained_variance_ratio_)\n",
    "d = np.argmax(cumsum >= 0.95)+1   # 0번부터 인덱스 값을 뽑기 때문에 +1\n",
    "# -> 95% 이상을 만족시켜줄 수 있는 개수를 뽑아달라\n",
    "\n",
    "print(f'주성분 갯수(차원) : {d}  =>  {d}개 이상')"
   ]
  },
  {
   "cell_type": "markdown",
   "id": "74661b0e",
   "metadata": {},
   "source": [
    "### 방법[2] : n_components=비율값"
   ]
  },
  {
   "cell_type": "code",
   "execution_count": 27,
   "id": "49938ae5",
   "metadata": {},
   "outputs": [
    {
     "data": {
      "text/plain": [
       "PCA(n_components=0.95)"
      ]
     },
     "execution_count": 27,
     "metadata": {},
     "output_type": "execute_result"
    }
   ],
   "source": [
    "PCA2 = PCA(n_components=0.95)\n",
    "PCA2.fit(X_train)"
   ]
  },
  {
   "cell_type": "code",
   "execution_count": 29,
   "id": "7c1fbbc5",
   "metadata": {
    "collapsed": true
   },
   "outputs": [
    {
     "data": {
      "text/plain": [
       "(array([5.11687301, 3.74139084, 3.25270845, 2.8416207 , 2.56711774,\n",
       "        2.27366339, 1.72515498, 1.52056024, 1.45630525, 1.24275009,\n",
       "        1.11208951, 1.06664054, 0.90468083, 0.89218122, 0.83235305,\n",
       "        0.78190032, 0.69838687, 0.67325581, 0.62599524, 0.60776302,\n",
       "        0.56214588, 0.53079883, 0.50278025, 0.48114703, 0.4657832 ,\n",
       "        0.44253869, 0.42843961, 0.41461871, 0.39266734, 0.36426179,\n",
       "        0.34698596, 0.34174189, 0.31773428, 0.30928082, 0.30054903,\n",
       "        0.28663271, 0.26668051, 0.25722791, 0.25383802, 0.24900674,\n",
       "        0.24082399, 0.23454385, 0.22065865, 0.20996268, 0.20298138,\n",
       "        0.19777669, 0.19087248, 0.18537972, 0.1792988 , 0.16971126,\n",
       "        0.16820466, 0.16492926, 0.15605957, 0.15235395, 0.14981035,\n",
       "        0.14311701, 0.14210765, 0.13628201, 0.13380287, 0.129063  ,\n",
       "        0.12680906, 0.12615355, 0.12148498, 0.11680484, 0.11268625,\n",
       "        0.1092614 , 0.1070561 , 0.10375543, 0.10168329, 0.0994582 ,\n",
       "        0.09858537, 0.09547766, 0.09362124, 0.09221661, 0.08739754,\n",
       "        0.08641457, 0.08513238, 0.08178655, 0.07783029, 0.07549089,\n",
       "        0.07492048, 0.07442431, 0.07390824, 0.07156823, 0.07057213,\n",
       "        0.06980718, 0.0686266 , 0.06636774, 0.06476227, 0.06410653,\n",
       "        0.06170749, 0.06056815, 0.05970903, 0.05846547, 0.0574722 ,\n",
       "        0.05637625, 0.05493828, 0.05483854, 0.0533883 , 0.05300391,\n",
       "        0.05188321, 0.05007307, 0.04963306, 0.04830571, 0.04786726,\n",
       "        0.04728841, 0.04562855, 0.04508973, 0.04458608, 0.04336683,\n",
       "        0.041737  , 0.04143934, 0.04136911, 0.04053735, 0.04028342,\n",
       "        0.03970727, 0.03884755, 0.0383387 , 0.03794429, 0.03726753,\n",
       "        0.03666689, 0.03649483, 0.03602779, 0.03554046, 0.03516169,\n",
       "        0.03402223, 0.03351228, 0.03330413, 0.03284475, 0.03191448,\n",
       "        0.03182476, 0.03134455, 0.03101906, 0.03092481, 0.03065173,\n",
       "        0.03041396, 0.0298096 , 0.02925046, 0.02821734, 0.0277299 ,\n",
       "        0.02768602, 0.02690376, 0.02651959, 0.02641979, 0.02629509,\n",
       "        0.02589211, 0.02560041, 0.02545851, 0.02499281, 0.02469425,\n",
       "        0.02460186, 0.02442939, 0.02421668, 0.02374669]),\n",
       " array([0.09704664, 0.07095924, 0.06169089, 0.05389419, 0.04868797,\n",
       "        0.04312231, 0.0327193 , 0.02883895, 0.02762029, 0.02357001,\n",
       "        0.0210919 , 0.02022991, 0.01715818, 0.01692111, 0.01578641,\n",
       "        0.01482953, 0.01324561, 0.01276897, 0.01187263, 0.01152684,\n",
       "        0.01066166, 0.01006713, 0.00953573, 0.00912544, 0.00883405,\n",
       "        0.00839319, 0.00812579, 0.00786366, 0.00744733, 0.00690859,\n",
       "        0.00658094, 0.00648148, 0.00602615, 0.00586582, 0.00570021,\n",
       "        0.00543628, 0.00505786, 0.00487859, 0.00481429, 0.00472266,\n",
       "        0.00456747, 0.00444836, 0.00418501, 0.00398215, 0.00384975,\n",
       "        0.00375103, 0.00362009, 0.00351591, 0.00340058, 0.00321874,\n",
       "        0.00319017, 0.00312805, 0.00295983, 0.00288955, 0.0028413 ,\n",
       "        0.00271436, 0.00269521, 0.00258473, 0.00253771, 0.00244781,\n",
       "        0.00240506, 0.00239263, 0.00230408, 0.00221532, 0.00213721,\n",
       "        0.00207225, 0.00203043, 0.00196783, 0.00192853, 0.00188632,\n",
       "        0.00186977, 0.00181083, 0.00177562, 0.00174898, 0.00165758,\n",
       "        0.00163894, 0.00161462, 0.00155116, 0.00147613, 0.00143176,\n",
       "        0.00142094, 0.00141153, 0.00140174, 0.00135736, 0.00133847,\n",
       "        0.00132396, 0.00130157, 0.00125873, 0.00122828, 0.00121584,\n",
       "        0.00117034, 0.00114874, 0.00113244, 0.00110886, 0.00109002,\n",
       "        0.00106923, 0.00104196, 0.00104007, 0.00101256, 0.00100527,\n",
       "        0.00098402, 0.00094969, 0.00094134, 0.00091617, 0.00090785,\n",
       "        0.00089687, 0.00086539, 0.00085517, 0.00084562, 0.0008225 ,\n",
       "        0.00079158, 0.00078594, 0.00078461, 0.00076883, 0.00076402,\n",
       "        0.00075309, 0.00073678, 0.00072713, 0.00071965, 0.00070682,\n",
       "        0.00069542, 0.00069216, 0.0006833 , 0.00067406, 0.00066688,\n",
       "        0.00064527, 0.00063559, 0.00063165, 0.00062293, 0.00060529,\n",
       "        0.00060359, 0.00059448, 0.00058831, 0.00058652, 0.00058134,\n",
       "        0.00057683, 0.00056537, 0.00055476, 0.00053517, 0.00052593,\n",
       "        0.00052509, 0.00051026, 0.00050297, 0.00050108, 0.00049871,\n",
       "        0.00049107, 0.00048554, 0.00048285, 0.00047401, 0.00046835,\n",
       "        0.0004666 , 0.00046333, 0.00045929, 0.00045038]))"
      ]
     },
     "execution_count": 29,
     "metadata": {},
     "output_type": "execute_result"
    }
   ],
   "source": [
    "PCA2.explained_variance_, PCA2.explained_variance_ratio_"
   ]
  },
  {
   "cell_type": "code",
   "execution_count": 30,
   "id": "bb59a7cb",
   "metadata": {},
   "outputs": [
    {
     "data": {
      "text/plain": [
       "(60000, 154)"
      ]
     },
     "execution_count": 30,
     "metadata": {},
     "output_type": "execute_result"
    }
   ],
   "source": [
    "minstPCA2=PCA2.transform(X_train)\n",
    "minstPCA2.shape"
   ]
  },
  {
   "cell_type": "code",
   "execution_count": 32,
   "id": "a8d75b2e",
   "metadata": {
    "collapsed": true
   },
   "outputs": [
    {
     "data": {
      "text/html": [
       "<div>\n",
       "<style scoped>\n",
       "    .dataframe tbody tr th:only-of-type {\n",
       "        vertical-align: middle;\n",
       "    }\n",
       "\n",
       "    .dataframe tbody tr th {\n",
       "        vertical-align: top;\n",
       "    }\n",
       "\n",
       "    .dataframe thead th {\n",
       "        text-align: right;\n",
       "    }\n",
       "</style>\n",
       "<table border=\"1\" class=\"dataframe\">\n",
       "  <thead>\n",
       "    <tr style=\"text-align: right;\">\n",
       "      <th></th>\n",
       "      <th>0</th>\n",
       "      <th>1</th>\n",
       "      <th>2</th>\n",
       "      <th>3</th>\n",
       "      <th>4</th>\n",
       "      <th>5</th>\n",
       "      <th>6</th>\n",
       "      <th>7</th>\n",
       "      <th>8</th>\n",
       "      <th>9</th>\n",
       "      <th>...</th>\n",
       "      <th>144</th>\n",
       "      <th>145</th>\n",
       "      <th>146</th>\n",
       "      <th>147</th>\n",
       "      <th>148</th>\n",
       "      <th>149</th>\n",
       "      <th>150</th>\n",
       "      <th>151</th>\n",
       "      <th>152</th>\n",
       "      <th>153</th>\n",
       "    </tr>\n",
       "  </thead>\n",
       "  <tbody>\n",
       "    <tr>\n",
       "      <th>0</th>\n",
       "      <td>0.486010</td>\n",
       "      <td>-1.226174</td>\n",
       "      <td>-0.096134</td>\n",
       "      <td>-2.179443</td>\n",
       "      <td>-0.107046</td>\n",
       "      <td>-0.911672</td>\n",
       "      <td>0.917630</td>\n",
       "      <td>0.626665</td>\n",
       "      <td>-1.425549</td>\n",
       "      <td>0.778149</td>\n",
       "      <td>...</td>\n",
       "      <td>-0.008177</td>\n",
       "      <td>-0.208748</td>\n",
       "      <td>-0.124838</td>\n",
       "      <td>0.002851</td>\n",
       "      <td>0.064739</td>\n",
       "      <td>-0.101237</td>\n",
       "      <td>-0.111287</td>\n",
       "      <td>0.215761</td>\n",
       "      <td>-0.078758</td>\n",
       "      <td>0.155255</td>\n",
       "    </tr>\n",
       "    <tr>\n",
       "      <th>1</th>\n",
       "      <td>3.967523</td>\n",
       "      <td>-1.156302</td>\n",
       "      <td>2.338587</td>\n",
       "      <td>-1.806926</td>\n",
       "      <td>-3.244217</td>\n",
       "      <td>-0.713531</td>\n",
       "      <td>-0.176551</td>\n",
       "      <td>-0.411645</td>\n",
       "      <td>0.158663</td>\n",
       "      <td>0.592035</td>\n",
       "      <td>...</td>\n",
       "      <td>0.006221</td>\n",
       "      <td>-0.249039</td>\n",
       "      <td>0.183673</td>\n",
       "      <td>0.135416</td>\n",
       "      <td>0.101673</td>\n",
       "      <td>0.109286</td>\n",
       "      <td>0.111452</td>\n",
       "      <td>0.028397</td>\n",
       "      <td>-0.048854</td>\n",
       "      <td>-0.049973</td>\n",
       "    </tr>\n",
       "    <tr>\n",
       "      <th>2</th>\n",
       "      <td>-0.203332</td>\n",
       "      <td>1.537934</td>\n",
       "      <td>-0.739254</td>\n",
       "      <td>2.043182</td>\n",
       "      <td>-1.202670</td>\n",
       "      <td>-0.007197</td>\n",
       "      <td>-3.368813</td>\n",
       "      <td>1.445458</td>\n",
       "      <td>-0.449200</td>\n",
       "      <td>-0.700032</td>\n",
       "      <td>...</td>\n",
       "      <td>0.152921</td>\n",
       "      <td>-0.356999</td>\n",
       "      <td>0.103831</td>\n",
       "      <td>0.051725</td>\n",
       "      <td>0.403645</td>\n",
       "      <td>-0.023730</td>\n",
       "      <td>0.292016</td>\n",
       "      <td>-0.212533</td>\n",
       "      <td>0.190117</td>\n",
       "      <td>-0.287366</td>\n",
       "    </tr>\n",
       "    <tr>\n",
       "      <th>3</th>\n",
       "      <td>-3.133832</td>\n",
       "      <td>-2.381166</td>\n",
       "      <td>1.073142</td>\n",
       "      <td>0.415209</td>\n",
       "      <td>-0.007268</td>\n",
       "      <td>2.743744</td>\n",
       "      <td>-1.857699</td>\n",
       "      <td>-0.264007</td>\n",
       "      <td>1.187181</td>\n",
       "      <td>0.043574</td>\n",
       "      <td>...</td>\n",
       "      <td>-0.034913</td>\n",
       "      <td>-0.135735</td>\n",
       "      <td>0.025246</td>\n",
       "      <td>0.029662</td>\n",
       "      <td>0.178867</td>\n",
       "      <td>-0.031779</td>\n",
       "      <td>0.053429</td>\n",
       "      <td>0.144324</td>\n",
       "      <td>-0.061563</td>\n",
       "      <td>-0.143237</td>\n",
       "    </tr>\n",
       "    <tr>\n",
       "      <th>4</th>\n",
       "      <td>-1.501000</td>\n",
       "      <td>2.864874</td>\n",
       "      <td>0.064132</td>\n",
       "      <td>-0.947833</td>\n",
       "      <td>0.384946</td>\n",
       "      <td>0.169528</td>\n",
       "      <td>-0.359477</td>\n",
       "      <td>-1.590411</td>\n",
       "      <td>0.884321</td>\n",
       "      <td>0.408283</td>\n",
       "      <td>...</td>\n",
       "      <td>0.008270</td>\n",
       "      <td>-0.040764</td>\n",
       "      <td>0.024695</td>\n",
       "      <td>-0.169255</td>\n",
       "      <td>-0.019242</td>\n",
       "      <td>0.098101</td>\n",
       "      <td>-0.113236</td>\n",
       "      <td>-0.222046</td>\n",
       "      <td>-0.129338</td>\n",
       "      <td>-0.107449</td>\n",
       "    </tr>\n",
       "  </tbody>\n",
       "</table>\n",
       "<p>5 rows × 154 columns</p>\n",
       "</div>"
      ],
      "text/plain": [
       "        0         1         2         3         4         5         6    \\\n",
       "0  0.486010 -1.226174 -0.096134 -2.179443 -0.107046 -0.911672  0.917630   \n",
       "1  3.967523 -1.156302  2.338587 -1.806926 -3.244217 -0.713531 -0.176551   \n",
       "2 -0.203332  1.537934 -0.739254  2.043182 -1.202670 -0.007197 -3.368813   \n",
       "3 -3.133832 -2.381166  1.073142  0.415209 -0.007268  2.743744 -1.857699   \n",
       "4 -1.501000  2.864874  0.064132 -0.947833  0.384946  0.169528 -0.359477   \n",
       "\n",
       "        7         8         9    ...       144       145       146       147  \\\n",
       "0  0.626665 -1.425549  0.778149  ... -0.008177 -0.208748 -0.124838  0.002851   \n",
       "1 -0.411645  0.158663  0.592035  ...  0.006221 -0.249039  0.183673  0.135416   \n",
       "2  1.445458 -0.449200 -0.700032  ...  0.152921 -0.356999  0.103831  0.051725   \n",
       "3 -0.264007  1.187181  0.043574  ... -0.034913 -0.135735  0.025246  0.029662   \n",
       "4 -1.590411  0.884321  0.408283  ...  0.008270 -0.040764  0.024695 -0.169255   \n",
       "\n",
       "        148       149       150       151       152       153  \n",
       "0  0.064739 -0.101237 -0.111287  0.215761 -0.078758  0.155255  \n",
       "1  0.101673  0.109286  0.111452  0.028397 -0.048854 -0.049973  \n",
       "2  0.403645 -0.023730  0.292016 -0.212533  0.190117 -0.287366  \n",
       "3  0.178867 -0.031779  0.053429  0.144324 -0.061563 -0.143237  \n",
       "4 -0.019242  0.098101 -0.113236 -0.222046 -0.129338 -0.107449  \n",
       "\n",
       "[5 rows x 154 columns]"
      ]
     },
     "execution_count": 32,
     "metadata": {},
     "output_type": "execute_result"
    }
   ],
   "source": [
    "minstPCA2=pd.DataFrame(minstPCA2)\n",
    "minstPCA2.head()"
   ]
  },
  {
   "cell_type": "markdown",
   "id": "fc55a1e6",
   "metadata": {},
   "source": [
    "## 이미지 비교"
   ]
  },
  {
   "cell_type": "code",
   "execution_count": 16,
   "id": "4b171ca0",
   "metadata": {},
   "outputs": [],
   "source": [
    "# 이미지를 못보니까, 다시 복원해줘야겠지?\n",
    "# PCA 전후, 이미지 비교\n",
    "def drawImage(selecimg, title):\n",
    "    plt.imshow(selecimg.reshape(28,28), cmap='gray')\n",
    "    plt.title(f'[{title}]')\n",
    "    plt.show()"
   ]
  },
  {
   "cell_type": "code",
   "execution_count": 17,
   "id": "8d66b5be",
   "metadata": {},
   "outputs": [
    {
     "data": {
      "image/png": "[encoded data removed]",
      "text/plain": [
       "<Figure size 432x288 with 1 Axes>"
      ]
     },
     "metadata": {
      "needs_background": "light"
     },
     "output_type": "display_data"
    }
   ],
   "source": [
    "drawImage(X_train[0], 'Re-MNIST')"
   ]
  },
  {
   "cell_type": "code",
   "execution_count": 18,
   "id": "86cfb59c",
   "metadata": {
    "scrolled": true
   },
   "outputs": [
    {
     "data": {
      "image/png": "[encoded data removed]",
      "text/plain": [
       "<Figure size 432x288 with 1 Axes>"
      ]
     },
     "metadata": {
      "needs_background": "light"
     },
     "output_type": "display_data"
    }
   ],
   "source": [
    "drawImage(reMnist[0], 'Re-MNIST')"
   ]
  },
  {
   "cell_type": "code",
   "execution_count": 19,
   "id": "1491d0d7",
   "metadata": {
    "collapsed": true
   },
   "outputs": [
    {
     "data": {
      "text/plain": [
       "array([554.08236184, 473.79289646, 441.76832659, 412.90967564,\n",
       "       392.45954891, 369.34743738, 321.72592959, 302.04650943,\n",
       "       295.59576934, 273.06366032, 258.31039157, 252.97700677,\n",
       "       232.98056847, 231.36547104, 223.47337767, 216.59463867,\n",
       "       204.70103539, 200.98426661, 193.8016728 , 190.95856472,\n",
       "       183.65236363, 178.45839561, 173.68452004, 169.90685928,\n",
       "       167.17214551, 162.9474728 , 160.33074547, 157.72351701,\n",
       "       153.49152274, 147.83552759, 144.28725   , 143.19277799,\n",
       "       138.07150073, 136.22239172, 134.28567117, 131.13991042,\n",
       "       126.49333601, 124.2313057 , 123.40999747, 122.22992796,\n",
       "       120.20481924, 118.62713309, 115.06215042, 112.23881111,\n",
       "       110.35705642, 108.93302362, 107.01475474, 105.46372614,\n",
       "       103.71956692, 100.90840213, 100.45950025,  99.47658474,\n",
       "        96.76475599,  95.60902108,  94.8075482 ,  92.66540711,\n",
       "        92.3380578 ,  90.42557427,  89.59931997,  87.99801628,\n",
       "        87.22623816,  87.0004999 ,  85.37550857,  83.71483558,\n",
       "        82.22568067,  80.9665046 ,  80.14523835,  78.90007754,\n",
       "        78.10823212,  77.24889952,  76.90918966,  75.68727777,\n",
       "        74.94785429,  74.38349456,  72.41384403,  72.00547004,\n",
       "        71.469276  ,  70.05077701,  68.33549279,  67.30065293,\n",
       "        67.04590903,  66.82352995,  66.5914453 ,  65.52878832,\n",
       "        65.07117027,  64.71754652,  64.16796224,  63.10307337,\n",
       "        62.3351542 ,  62.0187697 ,  60.84724886,  60.28290373,\n",
       "        59.85383983,  59.22727057,  58.72201077,  58.1594256 ,\n",
       "        57.41290684,  57.36076904,  56.5972135 ,  56.39310145,\n",
       "        55.79373442,  54.81180891,  54.57044799,  53.83580892,\n",
       "        53.59092793,  53.26591092,  52.32272174,  52.01287174,\n",
       "        51.72156693,  51.00947631,  50.04176729,  49.86299964,\n",
       "        49.82072842,  49.31734234,  49.16263463,  48.80980057,\n",
       "        48.27850824,  47.96126982,  47.7139341 ,  47.28651838,\n",
       "        46.90390921,  46.79372995,  46.49335018,  46.17783007,\n",
       "        45.93110297,  45.18074297,  44.84086799,  44.70139093,\n",
       "        44.39202671,  43.75885024,  43.69730012,  43.36636739,\n",
       "        43.14061636,  43.07502119,  42.88441615,  42.71776149,\n",
       "        42.2912094 ,  41.8927035 ,  41.14623249,  40.78928805,\n",
       "        40.7570055 ,  40.17709417,  39.88921118,  39.81407897,\n",
       "        39.72000871,  39.41447268,  39.19182526,  39.08305782,\n",
       "        38.72394262,  38.49195148,  38.41987497,  38.28496768,\n",
       "        38.1179312 ,  37.74622774])"
      ]
     },
     "execution_count": 19,
     "metadata": {},
     "output_type": "execute_result"
    }
   ],
   "source": [
    "# 주성분 행렬\n",
    "pca.singular_values_"
   ]
  },
  {
   "cell_type": "code",
   "execution_count": 20,
   "id": "06e1510e",
   "metadata": {
    "collapsed": true
   },
   "outputs": [
    {
     "data": {
      "text/plain": [
       "array([5.11687301, 3.74139084, 3.25270845, 2.8416207 , 2.56711774,\n",
       "       2.27366339, 1.72515498, 1.52056024, 1.45630525, 1.24275009,\n",
       "       1.11208951, 1.06664054, 0.90468083, 0.89218122, 0.83235305,\n",
       "       0.78190032, 0.69838687, 0.67325581, 0.62599524, 0.60776302,\n",
       "       0.56214588, 0.53079883, 0.50278025, 0.48114703, 0.4657832 ,\n",
       "       0.44253869, 0.42843961, 0.41461871, 0.39266734, 0.36426179,\n",
       "       0.34698596, 0.34174189, 0.31773428, 0.30928082, 0.30054903,\n",
       "       0.28663271, 0.26668051, 0.25722791, 0.25383802, 0.24900674,\n",
       "       0.24082399, 0.23454385, 0.22065865, 0.20996268, 0.20298138,\n",
       "       0.19777669, 0.19087248, 0.18537972, 0.1792988 , 0.16971126,\n",
       "       0.16820466, 0.16492926, 0.15605957, 0.15235395, 0.14981035,\n",
       "       0.14311701, 0.14210765, 0.13628201, 0.13380287, 0.129063  ,\n",
       "       0.12680906, 0.12615355, 0.12148498, 0.11680484, 0.11268625,\n",
       "       0.1092614 , 0.1070561 , 0.10375543, 0.10168329, 0.0994582 ,\n",
       "       0.09858537, 0.09547766, 0.09362124, 0.09221661, 0.08739754,\n",
       "       0.08641457, 0.08513238, 0.08178655, 0.07783029, 0.07549089,\n",
       "       0.07492048, 0.07442431, 0.07390824, 0.07156823, 0.07057213,\n",
       "       0.06980718, 0.0686266 , 0.06636774, 0.06476227, 0.06410653,\n",
       "       0.06170749, 0.06056815, 0.05970903, 0.05846547, 0.0574722 ,\n",
       "       0.05637625, 0.05493828, 0.05483854, 0.0533883 , 0.05300391,\n",
       "       0.05188321, 0.05007307, 0.04963306, 0.04830571, 0.04786726,\n",
       "       0.04728841, 0.04562855, 0.04508973, 0.04458608, 0.04336683,\n",
       "       0.041737  , 0.04143934, 0.04136911, 0.04053735, 0.04028342,\n",
       "       0.03970727, 0.03884755, 0.0383387 , 0.03794429, 0.03726753,\n",
       "       0.03666689, 0.03649483, 0.03602779, 0.03554046, 0.03516169,\n",
       "       0.03402223, 0.03351228, 0.03330413, 0.03284475, 0.03191448,\n",
       "       0.03182476, 0.03134455, 0.03101906, 0.03092481, 0.03065173,\n",
       "       0.03041396, 0.0298096 , 0.02925046, 0.02821734, 0.0277299 ,\n",
       "       0.02768602, 0.02690376, 0.02651959, 0.02641979, 0.02629509,\n",
       "       0.02589211, 0.02560041, 0.02545851, 0.02499281, 0.02469425,\n",
       "       0.02460186, 0.02442939, 0.02421668, 0.02374669])"
      ]
     },
     "execution_count": 20,
     "metadata": {},
     "output_type": "execute_result"
    }
   ],
   "source": [
    "# 주성분 투영 후, 분산 정도 설명\n",
    "pca.explained_variance_"
   ]
  },
  {
   "cell_type": "code",
   "execution_count": 21,
   "id": "7842f9a5",
   "metadata": {
    "collapsed": true
   },
   "outputs": [
    {
     "data": {
      "text/plain": [
       "array([0.09704664, 0.07095924, 0.06169089, 0.05389419, 0.04868797,\n",
       "       0.04312231, 0.0327193 , 0.02883895, 0.02762029, 0.02357001,\n",
       "       0.0210919 , 0.02022991, 0.01715818, 0.01692111, 0.01578641,\n",
       "       0.01482953, 0.01324561, 0.01276897, 0.01187263, 0.01152684,\n",
       "       0.01066166, 0.01006713, 0.00953573, 0.00912544, 0.00883405,\n",
       "       0.00839319, 0.00812579, 0.00786366, 0.00744733, 0.00690859,\n",
       "       0.00658094, 0.00648148, 0.00602615, 0.00586582, 0.00570021,\n",
       "       0.00543628, 0.00505786, 0.00487859, 0.00481429, 0.00472266,\n",
       "       0.00456747, 0.00444836, 0.00418501, 0.00398215, 0.00384975,\n",
       "       0.00375103, 0.00362009, 0.00351591, 0.00340058, 0.00321874,\n",
       "       0.00319017, 0.00312805, 0.00295983, 0.00288955, 0.0028413 ,\n",
       "       0.00271436, 0.00269521, 0.00258473, 0.00253771, 0.00244781,\n",
       "       0.00240506, 0.00239263, 0.00230408, 0.00221532, 0.00213721,\n",
       "       0.00207225, 0.00203043, 0.00196783, 0.00192853, 0.00188632,\n",
       "       0.00186977, 0.00181083, 0.00177562, 0.00174898, 0.00165758,\n",
       "       0.00163894, 0.00161462, 0.00155116, 0.00147613, 0.00143176,\n",
       "       0.00142094, 0.00141153, 0.00140174, 0.00135736, 0.00133847,\n",
       "       0.00132396, 0.00130157, 0.00125873, 0.00122828, 0.00121584,\n",
       "       0.00117034, 0.00114874, 0.00113244, 0.00110886, 0.00109002,\n",
       "       0.00106923, 0.00104196, 0.00104007, 0.00101256, 0.00100527,\n",
       "       0.00098402, 0.00094969, 0.00094134, 0.00091617, 0.00090785,\n",
       "       0.00089687, 0.00086539, 0.00085517, 0.00084562, 0.0008225 ,\n",
       "       0.00079158, 0.00078594, 0.00078461, 0.00076883, 0.00076402,\n",
       "       0.00075309, 0.00073678, 0.00072713, 0.00071965, 0.00070682,\n",
       "       0.00069542, 0.00069216, 0.0006833 , 0.00067406, 0.00066688,\n",
       "       0.00064527, 0.00063559, 0.00063165, 0.00062293, 0.00060529,\n",
       "       0.00060359, 0.00059448, 0.00058831, 0.00058652, 0.00058134,\n",
       "       0.00057683, 0.00056537, 0.00055476, 0.00053517, 0.00052593,\n",
       "       0.00052509, 0.00051026, 0.00050297, 0.00050108, 0.00049871,\n",
       "       0.00049107, 0.00048554, 0.00048285, 0.00047401, 0.00046835,\n",
       "       0.0004666 , 0.00046333, 0.00045929, 0.00045038])"
      ]
     },
     "execution_count": 21,
     "metadata": {},
     "output_type": "execute_result"
    }
   ],
   "source": [
    "# 주성분에 투영 후, 데이터 분포 정도 (비율)\n",
    "pca.explained_variance_ratio_"
   ]
  }
 ],
 "metadata": {
  "kernelspec": {
   "display_name": "Python 3 (ipykernel)",
   "language": "python",
   "name": "python3"
  },
  "language_info": {
   "codemirror_mode": {
    "name": "ipython",
    "version": 3
   },
   "file_extension": ".py",
   "mimetype": "text/x-python",
   "name": "python",
   "nbconvert_exporter": "python",
   "pygments_lexer": "ipython3",
   "version": "3.9.12"
  }
 },
 "nbformat": 4,
 "nbformat_minor": 5
}
