{
 "cells": [
  {
   "cell_type": "markdown",
   "id": "1096f6da",
   "metadata": {},
   "source": [
    "## K-Means 분할적 군집화\n",
    "---\n",
    "- 지정된 K만큼 임의의 중심점(Centroid)를 지정\n",
    "- 중심점(Centroid)를 기준으로 가까운 거리에 있는 데이터를 하나의 군집으로 묶기\n",
    "- 군집마다 다시 중심점(Centroid) 계산\n",
    "- 중심점(Centroid) 이동이 더 이상 변경되지 않을때까지 반복하는 방법"
   ]
  },
  {
   "cell_type": "code",
   "execution_count": 138,
   "id": "53af8060",
   "metadata": {},
   "outputs": [],
   "source": [
    "from sklearn.datasets import load_iris\n",
    "from sklearn.cluster import KMeans\n",
    "import matplotlib.pyplot as plt\n",
    "import numpy as np"
   ]
  },
  {
   "cell_type": "markdown",
   "id": "4e9b9c05",
   "metadata": {},
   "source": [
    "## [1] 데이터 로딩 및 준비"
   ]
  },
  {
   "cell_type": "code",
   "execution_count": 139,
   "id": "1c8f1440",
   "metadata": {},
   "outputs": [],
   "source": [
    "iris = load_iris()\n",
    "irisData = iris.data\n",
    "# target = iris.target  =>  비지도 학습이라 target 불필요"
   ]
  },
  {
   "cell_type": "code",
   "execution_count": 140,
   "id": "ede9b6ee",
   "metadata": {},
   "outputs": [
    {
     "data": {
      "text/plain": [
       "(150, 4)"
      ]
     },
     "execution_count": 140,
     "metadata": {},
     "output_type": "execute_result"
    }
   ],
   "source": [
    "irisData.shape"
   ]
  },
  {
   "cell_type": "code",
   "execution_count": 141,
   "id": "6d5f78c7",
   "metadata": {},
   "outputs": [],
   "source": [
    "# DataFrame으로 받아왔다면\n",
    "# iris.feature_names[:2]"
   ]
  },
  {
   "cell_type": "code",
   "execution_count": 142,
   "id": "aae16d8f",
   "metadata": {},
   "outputs": [
    {
     "data": {
      "text/plain": [
       "(150, 2)"
      ]
     },
     "execution_count": 142,
     "metadata": {},
     "output_type": "execute_result"
    }
   ],
   "source": [
    "irisData = irisData[:, :2]\n",
    "irisData.shape"
   ]
  },
  {
   "cell_type": "markdown",
   "id": "b761adcc",
   "metadata": {},
   "source": [
    "## [2] 데이터 처리"
   ]
  },
  {
   "cell_type": "code",
   "execution_count": 147,
   "id": "1adfa408",
   "metadata": {},
   "outputs": [],
   "source": [
    "model = KMeans(n_clusters=5)"
   ]
  },
  {
   "cell_type": "code",
   "execution_count": 148,
   "id": "6755a06c",
   "metadata": {},
   "outputs": [
    {
     "data": {
      "text/plain": [
       "KMeans(n_clusters=5)"
      ]
     },
     "execution_count": 148,
     "metadata": {},
     "output_type": "execute_result"
    }
   ],
   "source": [
    "model.fit(irisData)"
   ]
  },
  {
   "cell_type": "code",
   "execution_count": 149,
   "id": "5e853b44",
   "metadata": {},
   "outputs": [
    {
     "data": {
      "text/plain": [
       "array([4, 0, 0, 0, 4, 4, 0, 4, 0, 0, 4, 0, 0, 0, 4, 4, 4, 4, 4, 4, 4, 4,\n",
       "       4, 4, 0, 0, 4, 4, 4, 0, 0, 4, 4, 4, 0, 0, 4, 4, 0, 4, 4, 0, 0, 4,\n",
       "       4, 0, 4, 0, 4, 0, 1, 1, 1, 2, 1, 2, 1, 0, 1, 0, 0, 2, 2, 2, 2, 1,\n",
       "       2, 2, 2, 2, 2, 2, 2, 2, 1, 1, 1, 1, 2, 2, 2, 2, 2, 2, 2, 1, 1, 2,\n",
       "       2, 2, 2, 2, 2, 0, 2, 2, 2, 1, 0, 2, 1, 2, 3, 1, 1, 3, 0, 3, 1, 3,\n",
       "       1, 1, 1, 2, 2, 1, 1, 3, 3, 2, 1, 2, 3, 1, 1, 3, 2, 2, 1, 3, 3, 3,\n",
       "       1, 1, 2, 3, 1, 1, 2, 1, 1, 1, 2, 1, 1, 1, 2, 1, 1, 2])"
      ]
     },
     "execution_count": 149,
     "metadata": {},
     "output_type": "execute_result"
    }
   ],
   "source": [
    "model.predict(irisData)"
   ]
  },
  {
   "cell_type": "code",
   "execution_count": 151,
   "id": "9311636b",
   "metadata": {},
   "outputs": [],
   "source": [
    "labels = np.zeros(len(irisData))"
   ]
  },
  {
   "cell_type": "code",
   "execution_count": 152,
   "id": "613b2b9e",
   "metadata": {},
   "outputs": [
    {
     "data": {
      "image/png": "[encoded data removed]",
      "text/plain": [
       "<Figure size 432x288 with 1 Axes>"
      ]
     },
     "metadata": {
      "needs_background": "light"
     },
     "output_type": "display_data"
    }
   ],
   "source": [
    "# 클러스터링 결과를 시각화합니다\n",
    "x = irisData[:, 0]\n",
    "y = irisData[:, 1]\n",
    "plt.scatter(x, y, c=labels, alpha=0.5)\n",
    "plt.xlabel('sepal length (cm)')\n",
    "plt.ylabel('sepal width (cm)')\n",
    "plt.show()"
   ]
  },
  {
   "cell_type": "code",
   "execution_count": null,
   "id": "3a84e70a",
   "metadata": {},
   "outputs": [],
   "source": []
  },
  {
   "cell_type": "code",
   "execution_count": null,
   "id": "089c53e2",
   "metadata": {},
   "outputs": [],
   "source": []
  },
  {
   "cell_type": "code",
   "execution_count": null,
   "id": "9170adda",
   "metadata": {},
   "outputs": [],
   "source": []
  },
  {
   "cell_type": "code",
   "execution_count": 119,
   "id": "e74feb9d",
   "metadata": {},
   "outputs": [],
   "source": [
    "# n_clusters=10\n",
    "irisCluster = KMeans(n_clusters=10)"
   ]
  },
  {
   "cell_type": "code",
   "execution_count": 83,
   "id": "75da2154",
   "metadata": {},
   "outputs": [
    {
     "data": {
      "text/plain": [
       "KMeans(n_clusters=10)"
      ]
     },
     "execution_count": 83,
     "metadata": {},
     "output_type": "execute_result"
    }
   ],
   "source": [
    "irisCluster.fit(irisData)"
   ]
  },
  {
   "cell_type": "code",
   "execution_count": null,
   "id": "27ecd41b",
   "metadata": {},
   "outputs": [],
   "source": [
    "for n in \n",
    "\n",
    "\n",
    "\n",
    "print(f' inertia_ : {irisCluster.inertia_}')"
   ]
  },
  {
   "cell_type": "code",
   "execution_count": 84,
   "id": "67d81c15",
   "metadata": {
    "collapsed": true
   },
   "outputs": [
    {
     "name": "stdout",
     "output_type": "stream",
     "text": [
      " cluster_centers_ : [[5.4        3.89230769]\n",
      " [6.73636364 3.07727273]\n",
      " [4.94285714 2.38571429]\n",
      " [4.675      3.09375   ]\n",
      " [6.15555556 3.11666667]\n",
      " [7.6        3.73333333]\n",
      " [5.04       3.45      ]\n",
      " [7.475      2.9125    ]\n",
      " [6.26315789 2.61052632]\n",
      " [5.64583333 2.70416667]]\n",
      " labels_ : [6 3 3 3 6 0 3 6 3 3 0 6 3 3 0 0 0 6 0 0 6 6 6 6 6 3 6 6 6 3 3 6 0 0 3 6 0\n",
      " 6 3 6 6 2 3 6 0 3 0 3 0 6 1 4 1 9 8 9 4 2 1 2 2 4 8 4 9 1 9 9 8 9 4 8 8 8\n",
      " 8 1 1 1 4 9 9 9 9 8 9 4 1 8 9 9 9 4 9 2 9 9 9 4 2 9 4 9 1 4 1 7 2 7 8 5 1\n",
      " 8 1 9 9 4 1 5 7 8 1 9 7 8 1 7 8 4 8 7 7 5 8 8 8 7 4 4 4 1 1 1 9 1 1 1 8 1\n",
      " 4 4]\n",
      " labels_Counts : (array([0, 1, 2, 3, 4, 5, 6, 7, 8, 9]), array([13, 22,  7, 16, 18,  3, 20,  8, 19, 24], dtype=int64))\n",
      " inertia_ : 9.632998550426185\n",
      " n_iter_ : 10\n"
     ]
    }
   ],
   "source": [
    "# Cluster 객체 속성 확인\n",
    "print(f' cluster_centers_ : {irisCluster.cluster_centers_}')\n",
    "print(f' labels_ : {irisCluster.labels_}')\n",
    "\n",
    "# 넘파이에서 쓰는, 지난 VGG에 적었던 내용\n",
    "print(f' labels_Counts : {np.unique(irisCluster.labels_, return_counts=True)}')\n",
    "print(f' inertia_ : {irisCluster.inertia_}')\n",
    "print(f' n_iter_ : {irisCluster.n_iter_}')"
   ]
  },
  {
   "cell_type": "code",
   "execution_count": 85,
   "id": "22aa9ff2",
   "metadata": {
    "collapsed": true
   },
   "outputs": [
    {
     "data": {
      "text/plain": [
       "array([[0.49386772, 1.69008411, 1.12531175, ..., 2.44658563, 1.46427447,\n",
       "        0.96503094],\n",
       "       [1.02284555, 1.8379887 , 0.61577892, ..., 2.57648622, 1.41770561,\n",
       "        0.80236196],\n",
       "       [0.98452524, 2.04005854, 0.84972985, ..., 2.78985327, 1.67061121,\n",
       "        1.06791919],\n",
       "       ...,\n",
       "       [1.41640849, 0.24867417, 1.67392975, ..., 0.97891841, 0.45583323,\n",
       "        0.90394583],\n",
       "       [0.93934385, 0.62597032, 1.61529678, ..., 1.3650206 , 0.79199597,\n",
       "        0.88954186],\n",
       "       [1.02284555, 0.83992571, 1.13730796, ..., 1.57742868, 0.53251611,\n",
       "        0.39002315]])"
      ]
     },
     "execution_count": 85,
     "metadata": {},
     "output_type": "execute_result"
    }
   ],
   "source": [
    "# 샘플데이터 => 결정된 군집으로 변환\n",
    "irisCluster.transform(irisData)"
   ]
  },
  {
   "cell_type": "code",
   "execution_count": 109,
   "id": "0d8e603e",
   "metadata": {},
   "outputs": [
    {
     "name": "stdout",
     "output_type": "stream",
     "text": [
      "range(1, 10)\n"
     ]
    }
   ],
   "source": [
    "ks = range(1,10)\n",
    "print(ks)"
   ]
  },
  {
   "cell_type": "code",
   "execution_count": 77,
   "id": "349307cb",
   "metadata": {
    "collapsed": true
   },
   "outputs": [
    {
     "name": "stdout",
     "output_type": "stream",
     "text": [
      "[[6.53421053 3.04210526]\n",
      " [5.1875     3.6375    ]\n",
      " [5.83953488 2.70930233]\n",
      " [7.43846154 3.13076923]\n",
      " [4.76666667 2.89166667]]\n",
      "6.53421052631579\n",
      "3.042105263157895\n"
     ]
    }
   ],
   "source": [
    "print(irisCluster.cluster_centers_)\n",
    "print(irisCluster.cluster_centers_[0][0])\n",
    "print(irisCluster.cluster_centers_[0][1])\n",
    "\n"
   ]
  },
  {
   "cell_type": "markdown",
   "id": "9643ebcd",
   "metadata": {},
   "source": [
    "## 시각화\n",
    "---"
   ]
  },
  {
   "cell_type": "code",
   "execution_count": 38,
   "id": "78fce09f",
   "metadata": {},
   "outputs": [],
   "source": [
    "import pandas as pd"
   ]
  },
  {
   "cell_type": "code",
   "execution_count": 40,
   "id": "7b9ec03e",
   "metadata": {},
   "outputs": [
    {
     "data": {
      "text/plain": [
       "(150, 2)"
      ]
     },
     "execution_count": 40,
     "metadata": {},
     "output_type": "execute_result"
    }
   ],
   "source": [
    "irisDF = pd.DataFrame(irisData)\n",
    "irisDF.shape"
   ]
  },
  {
   "cell_type": "code",
   "execution_count": 63,
   "id": "cabbe27f",
   "metadata": {},
   "outputs": [],
   "source": [
    "# irisDF = np.concatenate(())\n",
    "# irisDF = pd.concat([irisDF, ], axis=1)\n",
    "# irisCluster.labels_"
   ]
  },
  {
   "cell_type": "code",
   "execution_count": 64,
   "id": "72f18afb",
   "metadata": {
    "scrolled": true
   },
   "outputs": [
    {
     "data": {
      "image/png": "[encoded data removed]",
      "text/plain": [
       "<Figure size 432x288 with 1 Axes>"
      ]
     },
     "metadata": {
      "needs_background": "light"
     },
     "output_type": "display_data"
    }
   ],
   "source": [
    "plt.scatter(irisData[:,0], irisData[:,1], c='silver')\n",
    "# irisCluster = KMeans(n_clusters=2) => 2개로 두었기 때문에 2개 나오는 것을 찍어봐\n",
    "plt.plot(irisCluster.cluster_centers_[0][0], irisCluster.cluster_centers_[0][1], 'ro')\n",
    "plt.plot(irisCluster.cluster_centers_[1][0], irisCluster.cluster_centers_[1][1], 'bo')\n",
    "plt.show()"
   ]
  },
  {
   "cell_type": "code",
   "execution_count": 154,
   "id": "fa1b3a1b",
   "metadata": {},
   "outputs": [
    {
     "name": "stderr",
     "output_type": "stream",
     "text": [
      "C:\\ProgramData\\Anaconda3\\lib\\site-packages\\sklearn\\cluster\\_kmeans.py:1036: UserWarning: KMeans is known to have a memory leak on Windows with MKL, when there are less chunks than available threads. You can avoid it by setting the environment variable OMP_NUM_THREADS=1.\n",
      "  warnings.warn(\n"
     ]
    },
    {
     "data": {
      "image/png": "[encoded data removed]",
      "text/plain": [
       "<Figure size 432x288 with 1 Axes>"
      ]
     },
     "metadata": {
      "needs_background": "light"
     },
     "output_type": "display_data"
    }
   ],
   "source": [
    "num_clusters = list(range(1, 9))    # K는 1 ~ 8사이의 정수입니다\n",
    "inertias = []\n",
    "\n",
    "# 각 K별로 모델을 생성하여 inertia를 측정합니다\n",
    "for i in num_clusters:\n",
    "    model = KMeans(n_clusters=i)\n",
    "    model.fit(irisData)\n",
    "    inertias.append(model.inertia_)\n",
    "    \n",
    "# K에 따른 inertia의 변화를 시각화합니다\n",
    "plt.plot(num_clusters, inertias, '-o')\n",
    "plt.xlabel('Number of Clusters (k)')\n",
    "plt.ylabel('Inertia')\n",
    "plt.show()"
   ]
  },
  {
   "cell_type": "code",
   "execution_count": 34,
   "id": "1f22528c",
   "metadata": {
    "scrolled": true
   },
   "outputs": [
    {
     "data": {
      "text/plain": [
       "array([[5.22409639, 3.1313253 ],\n",
       "       [6.61044776, 2.96567164]])"
      ]
     },
     "execution_count": 34,
     "metadata": {},
     "output_type": "execute_result"
    }
   ],
   "source": [
    "plt.plot(irisCluster.cluster_centers_[0][0], irisCluster.cluster_centers_[0[1], 'ro')"
   ]
  }
 ],
 "metadata": {
  "kernelspec": {
   "display_name": "Python 3 (ipykernel)",
   "language": "python",
   "name": "python3"
  },
  "language_info": {
   "codemirror_mode": {
    "name": "ipython",
    "version": 3
   },
   "file_extension": ".py",
   "mimetype": "text/x-python",
   "name": "python",
   "nbconvert_exporter": "python",
   "pygments_lexer": "ipython3",
   "version": "3.9.12"
  }
 },
 "nbformat": 4,
 "nbformat_minor": 5
}
