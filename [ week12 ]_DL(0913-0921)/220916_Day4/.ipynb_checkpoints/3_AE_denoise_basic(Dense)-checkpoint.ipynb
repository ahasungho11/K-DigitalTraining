{
 "cells": [
  {
   "cell_type": "markdown",
   "id": "709ed0ff",
   "metadata": {},
   "source": [
    "## AutoEncode 노이즈 제거\n",
    "---\n",
    "- 데이터 노이즈 제거에 활용\n",
    "- 데이터에서 주요 특징만 추출, 압축하기 때문에 노이즈는 주요 특징에서 제거됨\n",
    "- 압축된 주요 특징으로 데이터 복원 => 노이즈 제거"
   ]
  },
  {
   "cell_type": "code",
   "execution_count": 39,
   "id": "0de13fae",
   "metadata": {},
   "outputs": [],
   "source": [
    "from tensorflow.keras.datasets.mnist import load_data\n",
    "from tensorflow.keras.utils import set_random_seed, plot_model\n",
    "from tensorflow.keras import Sequential\n",
    "from tensorflow.keras.layers import Dense\n",
    "from sklearn.model_selection import train_test_split\n",
    "import numpy as np\n",
    "import matplotlib.pyplot as plt"
   ]
  },
  {
   "cell_type": "markdown",
   "id": "9b7d90e5",
   "metadata": {},
   "source": [
    "## [1] 데이터 준비 및 로딩\n",
    "---"
   ]
  },
  {
   "cell_type": "code",
   "execution_count": 40,
   "id": "cec61fbe",
   "metadata": {
    "scrolled": true
   },
   "outputs": [
    {
     "name": "stdout",
     "output_type": "stream",
     "text": [
      "X_train.shape : (60000, 28, 28)\n",
      "y_train.shape : (60000,)\n",
      "X_test.shape  : (10000, 28, 28)\n",
      "y_test.shape  : (10000,)\n"
     ]
    }
   ],
   "source": [
    "# load_data() 함수를 호출하면 NumPy 어레이의 튜플을 반환\n",
    "mnist = load_data()\n",
    "(X_train, y_train), (X_test, y_test) = load_data()\n",
    "print(f'X_train.shape : {X_train.shape}\\ny_train.shape : {y_train.shape}')\n",
    "print(f'X_test.shape  : {X_test.shape}\\ny_test.shape  : {y_test.shape}')"
   ]
  },
  {
   "cell_type": "markdown",
   "id": "df82977b",
   "metadata": {},
   "source": [
    "## [2] 데이터 전처리 및 학습형태로 변환"
   ]
  },
  {
   "cell_type": "code",
   "execution_count": 41,
   "id": "2d1f5a5a",
   "metadata": {},
   "outputs": [],
   "source": [
    "# 스케일링 => 픽셀 / 255.0\n",
    "X_train = X_train/255.0\n",
    "X_test = X_test/255.0"
   ]
  },
  {
   "cell_type": "code",
   "execution_count": 42,
   "id": "1ba2ad20",
   "metadata": {},
   "outputs": [],
   "source": [
    "# Dense로 1차원을 넣어야 하기 때문에\n",
    "X_train = X_train.reshape(-1, 28*28)\n",
    "X_test = X_test.reshape(-1, 28*28)   "
   ]
  },
  {
   "cell_type": "code",
   "execution_count": 43,
   "id": "3e2fc70d",
   "metadata": {},
   "outputs": [
    {
     "name": "stdout",
     "output_type": "stream",
     "text": [
      "X_train.shape : (60000, 784)\n",
      "X_test.shape  : (10000, 784)\n",
      "y_train.shape : (60000,)\n",
      "y_test.shape  : (10000,)\n"
     ]
    }
   ],
   "source": [
    "print(f'X_train.shape : {X_train.shape}\\nX_test.shape  : {X_test.shape}')\n",
    "print(f'y_train.shape : {y_train.shape}\\ny_test.shape  : {y_test.shape}')"
   ]
  },
  {
   "cell_type": "code",
   "execution_count": 44,
   "id": "c88106ac",
   "metadata": {},
   "outputs": [],
   "source": [
    "# 노이즈 삽입 : 데이터셋에 노이즈 추가\n",
    "# np.random.normal(평균loc=0.0, 표준편차scale=1.0, 출력size=None)\n",
    "X_train_noised = X_train + np.random.normal(0, 0.5, size = X_train.shape)\n",
    "X_test_noised = X_test + np.random.normal(0, 0.5, size = X_test.shape)\n",
    "\n",
    "# 값 변환 : 각 픽셀의 범위를 0.0 - 1.0으로 맞춰 주기 위해 조정\n",
    "# np.clip(array, min, max)\n",
    "X_train_noised = np.clip(X_train_noised, a_min=0, a_max=1)\n",
    "X_test_noised = np.clip(X_test_noised, a_min=0, a_max=1)"
   ]
  },
  {
   "cell_type": "code",
   "execution_count": 45,
   "id": "b288e589",
   "metadata": {},
   "outputs": [
    {
     "data": {
      "image/png": "[encoded data removed]",
      "text/plain": [
       "<Figure size 432x288 with 1 Axes>"
      ]
     },
     "metadata": {
      "needs_background": "light"
     },
     "output_type": "display_data"
    }
   ],
   "source": [
    "# 원본 데이터\n",
    "plt.imshow(X_train[0].reshape(28,28), cmap='gray')\n",
    "plt.show()"
   ]
  },
  {
   "cell_type": "code",
   "execution_count": 46,
   "id": "df8d8243",
   "metadata": {
    "scrolled": true
   },
   "outputs": [
    {
     "data": {
      "image/png": "[encoded data removed]",
      "text/plain": [
       "<Figure size 432x288 with 1 Axes>"
      ]
     },
     "metadata": {
      "needs_background": "light"
     },
     "output_type": "display_data"
    }
   ],
   "source": [
    "# 노이즈 추가 데이터\n",
    "plt.imshow(X_train_noised[0].reshape(28,28), cmap='gray')\n",
    "plt.show()"
   ]
  },
  {
   "cell_type": "markdown",
   "id": "72ead782",
   "metadata": {},
   "source": [
    "## [3] 모델 구성 및 생성"
   ]
  },
  {
   "cell_type": "code",
   "execution_count": 47,
   "id": "e0e7631f",
   "metadata": {},
   "outputs": [],
   "source": [
    "# 노드 수 조절하도록 모델 만드는 함수\n",
    "def createAEModel(n_node):\n",
    "    model = Sequential()\n",
    "    # 입력 (784)\n",
    "    model.add(Dense(units=n_node, activation='relu', input_shape=(784,)))  # 입력되는 노드수는 정해져있즤오\n",
    "    # 출력 (784)\n",
    "    model.add(Dense(784, activation='sigmoid')) # 784같은 수는 변수로 둠\n",
    "    model.compile(loss='mse', optimizer = 'adam', metrics='accuracy')\n",
    "    return model   "
   ]
  },
  {
   "cell_type": "code",
   "execution_count": 24,
   "id": "14b9e1c6",
   "metadata": {},
   "outputs": [],
   "source": [
    "# binary crossentropy 바꾸는 것도 해보기 (x)"
   ]
  },
  {
   "cell_type": "code",
   "execution_count": 25,
   "id": "d388de39",
   "metadata": {},
   "outputs": [],
   "source": [
    "oneModel = createAEModel(100)\n",
    "twoModel = createAEModel(300)\n",
    "thrModel = createAEModel(500)"
   ]
  },
  {
   "cell_type": "code",
   "execution_count": 26,
   "id": "1ba9e62f",
   "metadata": {},
   "outputs": [],
   "source": [
    "# 시각화\n",
    "# plot_model(oneModel, show_shapes=True)"
   ]
  },
  {
   "cell_type": "markdown",
   "id": "f38d52cb",
   "metadata": {},
   "source": [
    "- 과정 진행 -> 노이즈 제거 효과가 있다고 했으니\n",
    "- 은닉층 개수 조절 -> 노이즈 제거 차이 보고"
   ]
  },
  {
   "cell_type": "markdown",
   "id": "7b8f94b6",
   "metadata": {},
   "source": [
    "## [4] 모델 학습"
   ]
  },
  {
   "cell_type": "code",
   "execution_count": 27,
   "id": "13c55302",
   "metadata": {},
   "outputs": [
    {
     "name": "stdout",
     "output_type": "stream",
     "text": [
      "CPU\n",
      "Epoch 1/10\n",
      "1875/1875 [==============================] - 1s 657us/step - loss: 0.0530\n",
      "Epoch 2/10\n",
      "1875/1875 [==============================] - 1s 661us/step - loss: 0.0380\n",
      "Epoch 3/10\n",
      "1875/1875 [==============================] - 1s 668us/step - loss: 0.0375\n",
      "Epoch 4/10\n",
      "1875/1875 [==============================] - 1s 683us/step - loss: 0.0373\n",
      "Epoch 5/10\n",
      "1875/1875 [==============================] - 1s 670us/step - loss: 0.0371\n",
      "Epoch 6/10\n",
      "1875/1875 [==============================] - 1s 688us/step - loss: 0.0369\n",
      "Epoch 7/10\n",
      "1875/1875 [==============================] - 1s 676us/step - loss: 0.0368\n",
      "Epoch 8/10\n",
      "1875/1875 [==============================] - 1s 670us/step - loss: 0.0366\n",
      "Epoch 9/10\n",
      "1875/1875 [==============================] - 1s 669us/step - loss: 0.0365\n",
      "Epoch 10/10\n",
      "1875/1875 [==============================] - 1s 671us/step - loss: 0.0364\n",
      "Epoch 1/10\n",
      "1875/1875 [==============================] - 2s 1ms/step - loss: 0.0266\n",
      "Epoch 2/10\n",
      "1875/1875 [==============================] - 2s 1ms/step - loss: 0.0165\n",
      "Epoch 3/10\n",
      "1875/1875 [==============================] - 2s 1ms/step - loss: 0.0154\n",
      "Epoch 4/10\n",
      "1875/1875 [==============================] - 2s 1ms/step - loss: 0.0148\n",
      "Epoch 5/10\n",
      "1875/1875 [==============================] - 2s 1ms/step - loss: 0.0144\n",
      "Epoch 6/10\n",
      "1875/1875 [==============================] - 2s 1ms/step - loss: 0.0141\n",
      "Epoch 7/10\n",
      "1875/1875 [==============================] - 2s 1ms/step - loss: 0.0138\n",
      "Epoch 8/10\n",
      "1875/1875 [==============================] - 2s 1ms/step - loss: 0.0136\n",
      "Epoch 9/10\n",
      "1875/1875 [==============================] - 2s 1ms/step - loss: 0.0134\n",
      "Epoch 10/10\n",
      "1875/1875 [==============================] - 2s 1ms/step - loss: 0.0133\n",
      "Epoch 1/10\n",
      "1875/1875 [==============================] - 8s 4ms/step - loss: 0.0227\n",
      "Epoch 2/10\n",
      "1875/1875 [==============================] - 7s 4ms/step - loss: 0.0148\n",
      "Epoch 3/10\n",
      "1875/1875 [==============================] - 7s 4ms/step - loss: 0.0135\n",
      "Epoch 4/10\n",
      "1875/1875 [==============================] - 7s 4ms/step - loss: 0.0127\n",
      "Epoch 5/10\n",
      "1875/1875 [==============================] - 7s 4ms/step - loss: 0.0121\n",
      "Epoch 6/10\n",
      "1875/1875 [==============================] - 7s 4ms/step - loss: 0.0117\n",
      "Epoch 7/10\n",
      "1875/1875 [==============================] - 7s 4ms/step - loss: 0.0114\n",
      "Epoch 8/10\n",
      "1875/1875 [==============================] - 7s 4ms/step - loss: 0.0111\n",
      "Epoch 9/10\n",
      "1875/1875 [==============================] - 7s 4ms/step - loss: 0.0109\n",
      "Epoch 10/10\n",
      "1875/1875 [==============================] - 7s 4ms/step - loss: 0.0107\n"
     ]
    }
   ],
   "source": [
    "### X값, y값 모두 입력 데이터로 (X도 내꺼, y도 내꺼)\n",
    "import tensorflow as tf\n",
    "with tf.device(\"/device:CPU:0\"):\n",
    "    print('CPU')\n",
    "    oneModel.fit(X_train_noised, X_train, epochs=10)\n",
    "    twoModel.fit(X_train_noised, X_train, epochs=10)\n",
    "    thrModel.fit(X_train_noised, X_train, epochs=10)\n",
    "# with tf.device(\"/device:GPU:0\"):\n",
    "#     oneModel.fit(X_train_noised, X_train, epochs=10)\n",
    "#     twoModel.fit(X_train_noised, X_train, epochs=10)\n",
    "#     thrModel.fit(X_train_noised, X_train, epochs=10)"
   ]
  },
  {
   "cell_type": "code",
   "execution_count": 28,
   "id": "7a1d4889",
   "metadata": {},
   "outputs": [
    {
     "name": "stdout",
     "output_type": "stream",
     "text": [
      "313/313 [==============================] - 0s 518us/step - loss: 0.0359\n",
      "313/313 [==============================] - 0s 694us/step - loss: 0.0141\n",
      "313/313 [==============================] - 1s 1ms/step - loss: 0.0134\n"
     ]
    },
    {
     "data": {
      "text/plain": [
       "0.013442467898130417"
      ]
     },
     "execution_count": 28,
     "metadata": {},
     "output_type": "execute_result"
    }
   ],
   "source": [
    "oneModel.evaluate(X_test_noised, X_test)\n",
    "twoModel.evaluate(X_test_noised, X_test)\n",
    "thrModel.evaluate(X_test_noised, X_test)"
   ]
  },
  {
   "cell_type": "markdown",
   "id": "384f25c5",
   "metadata": {},
   "source": [
    "## [5] 예측\n",
    "---\n",
    "- 새로운 데이터 사용"
   ]
  },
  {
   "cell_type": "code",
   "execution_count": 29,
   "id": "89d5d490",
   "metadata": {},
   "outputs": [
    {
     "name": "stdout",
     "output_type": "stream",
     "text": [
      "1/1 [==============================] - 0s 47ms/step\n",
      "1/1 [==============================] - 0s 44ms/step\n",
      "1/1 [==============================] - 0s 31ms/step\n"
     ]
    }
   ],
   "source": [
    "# 입력에 들어가는 값이 그대로 y값으로 들어가는 것\n",
    "pre1 = oneModel.predict(X_train_noised[0].reshape(-1,784))\n",
    "pre2 = twoModel.predict(X_train_noised[0].reshape(-1,784))\n",
    "pre3 = thrModel.predict(X_train_noised[0].reshape(-1,784))"
   ]
  },
  {
   "cell_type": "code",
   "execution_count": 30,
   "id": "da4f41c1",
   "metadata": {},
   "outputs": [
    {
     "data": {
      "text/plain": [
       "(1, 784)"
      ]
     },
     "execution_count": 30,
     "metadata": {},
     "output_type": "execute_result"
    }
   ],
   "source": [
    "pre1.shape\n",
    "pre2.shape\n",
    "pre3.shape"
   ]
  },
  {
   "cell_type": "markdown",
   "id": "59f055cd",
   "metadata": {},
   "source": [
    "## 원본 이미지 - AE 진행된 이미지 비교"
   ]
  },
  {
   "cell_type": "code",
   "execution_count": 31,
   "id": "360e04cd",
   "metadata": {},
   "outputs": [
    {
     "data": {
      "image/png": "[encoded data removed]",
      "text/plain": [
       "<Figure size 432x288 with 1 Axes>"
      ]
     },
     "metadata": {
      "needs_background": "light"
     },
     "output_type": "display_data"
    }
   ],
   "source": [
    "plt.imshow(X_train_noised[0].reshape(28,28), cmap='gray')\n",
    "plt.show()"
   ]
  },
  {
   "cell_type": "code",
   "execution_count": 32,
   "id": "6a0e6852",
   "metadata": {},
   "outputs": [
    {
     "data": {
      "image/png": "[encoded data removed]",
      "text/plain": [
       "<Figure size 432x288 with 1 Axes>"
      ]
     },
     "metadata": {
      "needs_background": "light"
     },
     "output_type": "display_data"
    }
   ],
   "source": [
    "plt.imshow(pre1.reshape(28,28), cmap='gray')\n",
    "plt.show()"
   ]
  },
  {
   "cell_type": "code",
   "execution_count": 33,
   "id": "0ec9a0d8",
   "metadata": {},
   "outputs": [
    {
     "data": {
      "image/png": "[encoded data removed]",
      "text/plain": [
       "<Figure size 432x288 with 1 Axes>"
      ]
     },
     "metadata": {
      "needs_background": "light"
     },
     "output_type": "display_data"
    }
   ],
   "source": [
    "plt.imshow(pre2.reshape(28,28), cmap='gray')\n",
    "plt.show()"
   ]
  },
  {
   "cell_type": "code",
   "execution_count": 34,
   "id": "00aa3ef2",
   "metadata": {},
   "outputs": [
    {
     "data": {
      "image/png": "[encoded data removed]",
      "text/plain": [
       "<Figure size 432x288 with 1 Axes>"
      ]
     },
     "metadata": {
      "needs_background": "light"
     },
     "output_type": "display_data"
    }
   ],
   "source": [
    "plt.imshow(pre3.reshape(28,28), cmap='gray')\n",
    "plt.show()"
   ]
  },
  {
   "cell_type": "code",
   "execution_count": 35,
   "id": "a32515f1",
   "metadata": {},
   "outputs": [],
   "source": [
    "# 300개나 500개나 비슷하다면 => 300개를 선택해야제"
   ]
  }
 ],
 "metadata": {
  "kernelspec": {
   "display_name": "Python 3 (ipykernel)",
   "language": "python",
   "name": "python3"
  },
  "language_info": {
   "codemirror_mode": {
    "name": "ipython",
    "version": 3
   },
   "file_extension": ".py",
   "mimetype": "text/x-python",
   "name": "python",
   "nbconvert_exporter": "python",
   "pygments_lexer": "ipython3",
   "version": "3.9.12"
  }
 },
 "nbformat": 4,
 "nbformat_minor": 5
}
