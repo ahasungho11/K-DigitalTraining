{
 "cells": [
  {
   "cell_type": "markdown",
   "id": "1225e70f",
   "metadata": {},
   "source": [
    "## AE(Auto Encode)\n",
    "---\n",
    "- 표현(특징) 학습\n",
    "    * 데이터에서 주요 특징을 찾아 압축 후 복원하는 학습 모델\n",
    "                                                         \n",
    "- 구성\n",
    "    * 인코더(Encoder) : 입력 데이터에서 주요 특징 추출 / 압축\n",
    "    * 디코더(Decoder) : 주요 특징에서 원본 데이터로 복원"
   ]
  },
  {
   "cell_type": "code",
   "execution_count": 8,
   "id": "76bad7ed",
   "metadata": {},
   "outputs": [],
   "source": [
    "from tensorflow.keras.datasets.mnist import load_data\n",
    "from tensorflow.keras.utils import set_random_seed, plot_model\n",
    "from tensorflow.keras import Sequential\n",
    "from tensorflow.keras.layers import Dense\n",
    "from sklearn.model_selection import train_test_split\n",
    "import numpy as np\n",
    "import matplotlib.pyplot as plt"
   ]
  },
  {
   "cell_type": "markdown",
   "id": "e19c6f0e",
   "metadata": {},
   "source": [
    "## [1] 데이터 준비 및 로딩\n",
    "---"
   ]
  },
  {
   "cell_type": "code",
   "execution_count": 9,
   "id": "eebf367e",
   "metadata": {},
   "outputs": [
    {
     "name": "stdout",
     "output_type": "stream",
     "text": [
      "X_train.shape : (60000, 28, 28)\n",
      "y_train.shape : (60000,)\n",
      "X_test.shape  : (10000, 28, 28)\n",
      "y_test.shape  : (10000,)\n"
     ]
    }
   ],
   "source": [
    "# load_data() 함수를 호출하면 NumPy 어레이의 튜플을 반환\n",
    "mnist = load_data()\n",
    "(X_train, y_train), (X_test, y_test) = load_data()\n",
    "print(f'X_train.shape : {X_train.shape}\\ny_train.shape : {y_train.shape}')\n",
    "print(f'X_test.shape  : {X_test.shape}\\ny_test.shape  : {y_test.shape}')"
   ]
  },
  {
   "cell_type": "code",
   "execution_count": 10,
   "id": "1d32f941",
   "metadata": {},
   "outputs": [],
   "source": [
    "# mnist"
   ]
  },
  {
   "cell_type": "markdown",
   "id": "15b4e332",
   "metadata": {},
   "source": [
    "## [2] 데이터 전처리 및 학습형태로 변환"
   ]
  },
  {
   "cell_type": "code",
   "execution_count": 11,
   "id": "f513e142",
   "metadata": {},
   "outputs": [],
   "source": [
    "# 스케일링 => 픽셀 / 255.0\n",
    "X_train = X_train/255.0\n",
    "X_test = X_test/255.0"
   ]
  },
  {
   "cell_type": "code",
   "execution_count": 12,
   "id": "0ed27c26",
   "metadata": {},
   "outputs": [],
   "source": [
    "# Dense로 1차원을 넣어야 하기 때문에\n",
    "X_train = X_train.reshape(-1, 28*28)\n",
    "X_test = X_test.reshape(-1, 28*28)   "
   ]
  },
  {
   "cell_type": "code",
   "execution_count": 13,
   "id": "7ebb0b6a",
   "metadata": {},
   "outputs": [
    {
     "name": "stdout",
     "output_type": "stream",
     "text": [
      "X_train.shape : (60000, 784)\n",
      "X_test.shape  : (10000, 784)\n"
     ]
    }
   ],
   "source": [
    "print(f'X_train.shape : {X_train.shape}')  # 학습용\n",
    "print(f'X_test.shape  : {X_test.shape}')   # 테스트용"
   ]
  },
  {
   "cell_type": "code",
   "execution_count": 14,
   "id": "930ddc34",
   "metadata": {},
   "outputs": [],
   "source": [
    "# 1차원으로 reshape안해준다면, 아래 compile()과정에서\n",
    "# model = Sequential()\n",
    "# model.add(Flatten(input_shape=(28, 28))) 로 첫 레이어 층을 시작하면 됨\n",
    "# model.add(Dense(128, activation='relu'))\n",
    "# model.add(Dropout(0.2))\n",
    "# model.add(Dense(10, activation='softmax'))"
   ]
  },
  {
   "cell_type": "code",
   "execution_count": 15,
   "id": "91128e41",
   "metadata": {},
   "outputs": [],
   "source": [
    "# 검증용 데이터셋 준비\n",
    "from sklearn.model_selection import train_test_split\n",
    "X_train, X_val, y_train, y_val = train_test_split(X_train, y_train,\n",
    "                                                  stratify = y_train,\n",
    "                                                  random_state=11)"
   ]
  },
  {
   "cell_type": "code",
   "execution_count": 16,
   "id": "eca39529",
   "metadata": {},
   "outputs": [
    {
     "name": "stdout",
     "output_type": "stream",
     "text": [
      "X_train.shape : (45000, 784)\n",
      "X_val.shape   : (15000, 784)\n",
      "X_test.shape  : (10000, 784)\n",
      "y_train.shape : (45000,)\n",
      "y_val.shape   : (15000,)\n",
      "y_test.shape  : (10000,)\n"
     ]
    }
   ],
   "source": [
    "print(f'X_train.shape : {X_train.shape}\\nX_val.shape   : {X_val.shape}\\nX_test.shape  : {X_test.shape}')\n",
    "print(f'y_train.shape : {y_train.shape}\\ny_val.shape   : {y_val.shape}\\ny_test.shape  : {y_test.shape}')"
   ]
  },
  {
   "cell_type": "markdown",
   "id": "1944416a",
   "metadata": {},
   "source": [
    "## [3] 모델 구성 및 생성"
   ]
  },
  {
   "cell_type": "code",
   "execution_count": 17,
   "id": "6143962e",
   "metadata": {},
   "outputs": [],
   "source": [
    "# 노드 수 조절하도록 모델 만드는 함수\n",
    "def createAEModel(n_node):\n",
    "    model = Sequential()\n",
    "    # 입력 (784)\n",
    "    model.add(Dense(units=n_node, activation='relu', input_shape=(784,)))  # 입력되는 노드수는 정해져있즤오\n",
    "    # 출력 (784)\n",
    "    model.add(Dense(784, activation='sigmoid')) # 784같은 수는 변수로 둠\n",
    "#     model.add(Dense(10, activation='sigmoid'))\n",
    "    model.compile(loss='mean_squared_error', optimizer = 'adam') #, metrics='accuracy')\n",
    "    return model   "
   ]
  },
  {
   "cell_type": "code",
   "execution_count": 18,
   "id": "2247378a",
   "metadata": {},
   "outputs": [],
   "source": [
    "oneModel = createAEModel(10)\n",
    "twoModel = createAEModel(300)\n",
    "thrModel = createAEModel(500)"
   ]
  },
  {
   "cell_type": "code",
   "execution_count": 19,
   "id": "9c646126",
   "metadata": {},
   "outputs": [],
   "source": [
    "# 시각화\n",
    "# plot_model(oneModel, show_shapes=True)"
   ]
  },
  {
   "cell_type": "markdown",
   "id": "c075b029",
   "metadata": {},
   "source": [
    "## [4] 모델 학습"
   ]
  },
  {
   "cell_type": "code",
   "execution_count": 20,
   "id": "a4d0d107",
   "metadata": {
    "collapsed": true
   },
   "outputs": [
    {
     "name": "stdout",
     "output_type": "stream",
     "text": [
      "CPU\n",
      "Epoch 1/10\n",
      "1407/1407 [==============================] - 1s 746us/step - loss: 0.0522\n",
      "Epoch 2/10\n",
      "1407/1407 [==============================] - 1s 741us/step - loss: 0.0344\n",
      "Epoch 3/10\n",
      "1407/1407 [==============================] - 1s 718us/step - loss: 0.0327\n",
      "Epoch 4/10\n",
      "1407/1407 [==============================] - 1s 744us/step - loss: 0.0317\n",
      "Epoch 5/10\n",
      "1407/1407 [==============================] - 1s 742us/step - loss: 0.0312\n",
      "Epoch 6/10\n",
      "1407/1407 [==============================] - 1s 754us/step - loss: 0.0308\n",
      "Epoch 7/10\n",
      "1407/1407 [==============================] - 1s 715us/step - loss: 0.0306\n",
      "Epoch 8/10\n",
      "1407/1407 [==============================] - 1s 733us/step - loss: 0.0304\n",
      "Epoch 9/10\n",
      "1407/1407 [==============================] - 1s 724us/step - loss: 0.0303\n",
      "Epoch 10/10\n",
      "1407/1407 [==============================] - 1s 717us/step - loss: 0.0302\n",
      "Epoch 1/10\n",
      "1407/1407 [==============================] - 2s 2ms/step - loss: 0.0145\n",
      "Epoch 2/10\n",
      "1407/1407 [==============================] - 2s 2ms/step - loss: 0.0031\n",
      "Epoch 3/10\n",
      "1407/1407 [==============================] - 2s 2ms/step - loss: 0.0021\n",
      "Epoch 4/10\n",
      "1407/1407 [==============================] - 3s 2ms/step - loss: 0.0017\n",
      "Epoch 5/10\n",
      "1407/1407 [==============================] - 3s 2ms/step - loss: 0.0015\n",
      "Epoch 6/10\n",
      "1407/1407 [==============================] - 3s 2ms/step - loss: 0.0013\n",
      "Epoch 7/10\n",
      "1407/1407 [==============================] - 2s 2ms/step - loss: 0.0012\n",
      "Epoch 8/10\n",
      "1407/1407 [==============================] - 2s 2ms/step - loss: 0.0011\n",
      "Epoch 9/10\n",
      "1407/1407 [==============================] - 2s 2ms/step - loss: 0.0011\n",
      "Epoch 10/10\n",
      "1407/1407 [==============================] - 2s 2ms/step - loss: 0.0010\n",
      "Epoch 1/10\n",
      "1407/1407 [==============================] - 5s 3ms/step - loss: 0.0118\n",
      "Epoch 2/10\n",
      "1407/1407 [==============================] - 4s 3ms/step - loss: 0.0024\n",
      "Epoch 3/10\n",
      "1407/1407 [==============================] - 4s 3ms/step - loss: 0.0017\n",
      "Epoch 4/10\n",
      "1407/1407 [==============================] - 4s 3ms/step - loss: 0.0014\n",
      "Epoch 5/10\n",
      "1407/1407 [==============================] - 4s 3ms/step - loss: 0.0013\n",
      "Epoch 6/10\n",
      "1407/1407 [==============================] - 5s 3ms/step - loss: 0.0011\n",
      "Epoch 7/10\n",
      "1407/1407 [==============================] - 4s 3ms/step - loss: 0.0011\n",
      "Epoch 8/10\n",
      "1407/1407 [==============================] - 4s 3ms/step - loss: 9.8136e-04\n",
      "Epoch 9/10\n",
      "1407/1407 [==============================] - 4s 3ms/step - loss: 9.3202e-04\n",
      "Epoch 10/10\n",
      "1407/1407 [==============================] - 5s 3ms/step - loss: 8.9413e-04\n"
     ]
    }
   ],
   "source": [
    "### X값, y값 모두 입력 데이터로 (X도 내꺼, y도 내꺼) => 오토인코더니까\n",
    "import tensorflow as tf\n",
    "with tf.device(\"/device:CPU:0\"):\n",
    "    print('CPU')\n",
    "    oneModel.fit(X_train, X_train, epochs=10)\n",
    "    twoModel.fit(X_train, X_train, epochs=10)\n",
    "    thrModel.fit(X_train, X_train, epochs=10)\n",
    "# with tf.device(\"/device:GPU:0\"):\n",
    "#     print('GPU')\n",
    "#     oneModel.fit(X_train, X_train, epochs=10)\n",
    "#     twoModel.fit(X_train, X_train, epochs=10)\n",
    "#     thrModel.fit(X_train, X_train, epochs=10)"
   ]
  },
  {
   "cell_type": "code",
   "execution_count": 21,
   "id": "587bfb3c",
   "metadata": {},
   "outputs": [
    {
     "name": "stdout",
     "output_type": "stream",
     "text": [
      "313/313 [==============================] - 0s 528us/step - loss: 0.0298\n",
      "313/313 [==============================] - 0s 943us/step - loss: 0.0011\n",
      "313/313 [==============================] - 0s 1ms/step - loss: 9.3525e-04\n"
     ]
    },
    {
     "data": {
      "text/plain": [
       "0.0009352466440759599"
      ]
     },
     "execution_count": 21,
     "metadata": {},
     "output_type": "execute_result"
    }
   ],
   "source": [
    "oneModel.evaluate(X_test, X_test)\n",
    "twoModel.evaluate(X_test, X_test)\n",
    "thrModel.evaluate(X_test, X_test)"
   ]
  },
  {
   "cell_type": "markdown",
   "id": "98e4d936",
   "metadata": {},
   "source": [
    "## [5] 예측\n",
    "---\n",
    "- 새로운 데이터 사용"
   ]
  },
  {
   "cell_type": "code",
   "execution_count": 22,
   "id": "97344d5a",
   "metadata": {},
   "outputs": [
    {
     "name": "stdout",
     "output_type": "stream",
     "text": [
      "1/1 [==============================] - 0s 55ms/step\n",
      "1/1 [==============================] - 0s 34ms/step\n",
      "1/1 [==============================] - 0s 32ms/step\n"
     ]
    }
   ],
   "source": [
    "# 입력에 들어가는 값이 그대로 y값으로 들어가는 것\n",
    "pre = oneModel.predict(X_val[0].reshape(-1,784))\n",
    "pre2 = twoModel.predict(X_val[0].reshape(-1,784))\n",
    "pre3 = thrModel.predict(X_val[0].reshape(-1,784))"
   ]
  },
  {
   "cell_type": "code",
   "execution_count": 23,
   "id": "605fbd74",
   "metadata": {},
   "outputs": [
    {
     "data": {
      "text/plain": [
       "(1, 784)"
      ]
     },
     "execution_count": 23,
     "metadata": {},
     "output_type": "execute_result"
    }
   ],
   "source": [
    "pre.shape\n",
    "pre2.shape\n",
    "pre3.shape"
   ]
  },
  {
   "cell_type": "markdown",
   "id": "78613bf5",
   "metadata": {},
   "source": [
    "## 원본 이미지 - AE 진행된 이미지 비교"
   ]
  },
  {
   "cell_type": "code",
   "execution_count": 24,
   "id": "1e1516c8",
   "metadata": {},
   "outputs": [
    {
     "data": {
      "image/png": "[encoded data removed]",
      "text/plain": [
       "<Figure size 432x288 with 1 Axes>"
      ]
     },
     "metadata": {
      "needs_background": "light"
     },
     "output_type": "display_data"
    }
   ],
   "source": [
    "plt.imshow(X_val[0].reshape(28,28), cmap='gray')\n",
    "plt.show()"
   ]
  },
  {
   "cell_type": "code",
   "execution_count": 25,
   "id": "28721512",
   "metadata": {},
   "outputs": [
    {
     "data": {
      "image/png": "[encoded data removed]",
      "text/plain": [
       "<Figure size 432x288 with 1 Axes>"
      ]
     },
     "metadata": {
      "needs_background": "light"
     },
     "output_type": "display_data"
    }
   ],
   "source": [
    "plt.imshow(pre.reshape(28,28), cmap='gray')\n",
    "plt.show()"
   ]
  },
  {
   "cell_type": "code",
   "execution_count": 26,
   "id": "2c2404a4",
   "metadata": {},
   "outputs": [
    {
     "data": {
      "image/png": "[encoded data removed]",
      "text/plain": [
       "<Figure size 432x288 with 1 Axes>"
      ]
     },
     "metadata": {
      "needs_background": "light"
     },
     "output_type": "display_data"
    }
   ],
   "source": [
    "plt.imshow(pre2.reshape(28,28), cmap='gray')\n",
    "plt.show()"
   ]
  },
  {
   "cell_type": "code",
   "execution_count": 27,
   "id": "02b6a65e",
   "metadata": {},
   "outputs": [
    {
     "data": {
      "image/png": "[encoded data removed]",
      "text/plain": [
       "<Figure size 432x288 with 1 Axes>"
      ]
     },
     "metadata": {
      "needs_background": "light"
     },
     "output_type": "display_data"
    }
   ],
   "source": [
    "plt.imshow(pre3.reshape(28,28), cmap='gray')\n",
    "plt.show()"
   ]
  },
  {
   "cell_type": "code",
   "execution_count": null,
   "id": "18eb350f",
   "metadata": {},
   "outputs": [],
   "source": [
    "# 300개나 500개나 비슷하다면 => 300개를 선택해야제"
   ]
  }
 ],
 "metadata": {
  "kernelspec": {
   "display_name": "Python 3 (ipykernel)",
   "language": "python",
   "name": "python3"
  },
  "language_info": {
   "codemirror_mode": {
    "name": "ipython",
    "version": 3
   },
   "file_extension": ".py",
   "mimetype": "text/x-python",
   "name": "python",
   "nbconvert_exporter": "python",
   "pygments_lexer": "ipython3",
   "version": "3.9.12"
  }
 },
 "nbformat": 4,
 "nbformat_minor": 5
}
