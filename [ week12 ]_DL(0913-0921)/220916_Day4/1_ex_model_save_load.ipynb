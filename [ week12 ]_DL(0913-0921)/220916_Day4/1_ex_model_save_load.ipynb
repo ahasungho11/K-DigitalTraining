{
 "cells": [
  {
   "cell_type": "markdown",
   "id": "87999e03",
   "metadata": {},
   "source": [
    "### 모델 저장과 복원\n",
    "---\n",
    "- 방법1) 모델 전체 저장 - 모델 구조 + 가중치 + 변수\n",
    "    * save_model()\n",
    "    * 복원시 추가 작업 필요 없이 파일 로딩해서 사용 가능  \n",
    "  \n",
    "- 방법2) 가중치만 저장\n",
    "    * save_weights()\n",
    "    * 복원시 모델 구조(Architechture) 생성 후, 가중치 적용\n",
    "    \n",
    "- 방법3) 모델 전체 or 가중치만 자동 저장\n",
    "    * fit()에서 ModelCheckPoint Event에 대한 callbakcs 등록\n",
    "    * save_best_only = True : 모니터링 기준에 따라서 좋은 성능의 모델만 저장\n",
    "    * save_weight_only = True : 가중치만 저장\n",
    "    \n",
    "- 파일 or 폴더\n",
    "    * 파일 확장자가 없으면 폴더로 저장\n",
    "    * 파일 확장자\n",
    "        - h5, hdf5 : HDF5 포맷으로 모델이나 가중치 저장 (多)\n",
    "        - ckpf : 체크파일 형태로 저장\n",
    "        - pd : 모델 저장"
   ]
  },
  {
   "cell_type": "markdown",
   "id": "9c8a5211",
   "metadata": {},
   "source": [
    "### [1] 데이터 준비 및 로딩"
   ]
  },
  {
   "cell_type": "code",
   "execution_count": 203,
   "id": "bb99c58c",
   "metadata": {},
   "outputs": [],
   "source": [
    "from sklearn.datasets import load_iris\n",
    "from tensorflow.keras import Sequential\n",
    "from tensorflow.keras.layers import Dense\n",
    "from tensorflow.keras.utils import set_random_seed, plot_model\n",
    "import numpy as np"
   ]
  },
  {
   "cell_type": "code",
   "execution_count": 204,
   "id": "99c85cf4",
   "metadata": {},
   "outputs": [],
   "source": [
    "iris = load_iris()"
   ]
  },
  {
   "cell_type": "code",
   "execution_count": 205,
   "id": "21ba4674",
   "metadata": {},
   "outputs": [
    {
     "name": "stdout",
     "output_type": "stream",
     "text": [
      "X_train : (150, 4)\n",
      "y_train : (150,)\n"
     ]
    }
   ],
   "source": [
    "X_train = iris.data\n",
    "y_train = iris.target\n",
    "print('X_train : {}\\ny_train : {}'.format(X_train.shape, y_train.shape))"
   ]
  },
  {
   "cell_type": "code",
   "execution_count": 206,
   "id": "fb736222",
   "metadata": {},
   "outputs": [
    {
     "data": {
      "text/plain": [
       "(array(['setosa', 'versicolor', 'virginica'], dtype='<U10'),\n",
       " ['sepal length (cm)',\n",
       "  'sepal width (cm)',\n",
       "  'petal length (cm)',\n",
       "  'petal width (cm)'])"
      ]
     },
     "execution_count": 206,
     "metadata": {},
     "output_type": "execute_result"
    }
   ],
   "source": [
    "iris.target_names, iris.feature_names"
   ]
  },
  {
   "cell_type": "code",
   "execution_count": 207,
   "id": "3185125f",
   "metadata": {},
   "outputs": [
    {
     "data": {
      "text/plain": [
       "(150, 2)"
      ]
     },
     "execution_count": 207,
     "metadata": {},
     "output_type": "execute_result"
    }
   ],
   "source": [
    "# 꽃잎의 길이, 너비\n",
    "X_train = X_train[:,2:]\n",
    "X_train.shape"
   ]
  },
  {
   "cell_type": "markdown",
   "id": "c7c7f14f",
   "metadata": {},
   "source": [
    "### [2] 데이터 전처리"
   ]
  },
  {
   "cell_type": "code",
   "execution_count": 208,
   "id": "cdaf971f",
   "metadata": {},
   "outputs": [],
   "source": [
    "# target => 문자 => 수치화를 위해 인코딩\n",
    "from sklearn.preprocessing import LabelEncoder, OneHotEncoder\n",
    "lencoder = LabelEncoder()\n",
    "y_train = lencoder.fit(y_train).transform(y_train)"
   ]
  },
  {
   "cell_type": "code",
   "execution_count": 209,
   "id": "c8148143",
   "metadata": {},
   "outputs": [],
   "source": [
    "ohencoder = OneHotEncoder()\n",
    "y_train = ohencoder.fit(y_train.reshape(-1,1)).transform(y_train.reshape(-1,1))"
   ]
  },
  {
   "cell_type": "code",
   "execution_count": 210,
   "id": "26bf15fa",
   "metadata": {},
   "outputs": [],
   "source": [
    "y_train = y_train.toarray()"
   ]
  },
  {
   "cell_type": "code",
   "execution_count": 211,
   "id": "7118178d",
   "metadata": {},
   "outputs": [
    {
     "data": {
      "text/plain": [
       "((150, 2), (150, 3), array([1., 0., 0.]))"
      ]
     },
     "execution_count": 211,
     "metadata": {},
     "output_type": "execute_result"
    }
   ],
   "source": [
    "X_train.shape, y_train.shape, y_train[0]"
   ]
  },
  {
   "cell_type": "code",
   "execution_count": 212,
   "id": "24eaea68",
   "metadata": {},
   "outputs": [],
   "source": [
    "# 스케일링 (훈련데이터만 / target은 스케일링x)\n",
    "from sklearn.preprocessing import StandardScaler\n",
    "scaler = StandardScaler()\n",
    "X_train_scaled = scaler.fit(X_train).transform(X_train)"
   ]
  },
  {
   "cell_type": "code",
   "execution_count": 213,
   "id": "f520ac12",
   "metadata": {},
   "outputs": [],
   "source": [
    "from sklearn.model_selection import train_test_split\n",
    "X_train, X_test, y_train, y_test = train_test_split(X_train_scaled, y_train,\n",
    "                                                    stratify=y_train)\n",
    "\n",
    "# 이미 스케일링 한 것을 X_train으로 분리한 상태니까, 여기서 X_val도 분리해주면 됨\n",
    "X_train, X_val, y_train, y_val = train_test_split(X_train, y_train)"
   ]
  },
  {
   "cell_type": "code",
   "execution_count": 214,
   "id": "9e9697d5",
   "metadata": {},
   "outputs": [
    {
     "name": "stdout",
     "output_type": "stream",
     "text": [
      "X_trian.shape : (84, 2)\n",
      "X_val.shape   : (28, 2)\n",
      "X_test.shape  : (38, 2)\n",
      "\n",
      "y_train.shape : (84, 3)\n",
      "y_val.shape   : (28, 3)\n",
      "y_test.shape  : (38, 3)\n"
     ]
    }
   ],
   "source": [
    "print('X_trian.shape : {}'.format(X_train.shape))\n",
    "print('X_val.shape   : {}'.format(X_val.shape))\n",
    "print('X_test.shape  : {}'.format(X_test.shape))\n",
    "print()\n",
    "print('y_train.shape : {}'.format(y_train.shape))\n",
    "print('y_val.shape   : {}'.format(y_val.shape))\n",
    "print('y_test.shape  : {}'.format(y_test.shape))"
   ]
  },
  {
   "cell_type": "markdown",
   "id": "be653cae",
   "metadata": {},
   "source": [
    "### [3] 모델 구성 및 생성"
   ]
  },
  {
   "cell_type": "code",
   "execution_count": 215,
   "id": "156acb5b",
   "metadata": {},
   "outputs": [],
   "source": [
    "irisModel = Sequential(name='irisModel')"
   ]
  },
  {
   "cell_type": "code",
   "execution_count": 216,
   "id": "e9589090",
   "metadata": {},
   "outputs": [],
   "source": [
    "irisModel.add(Dense(10, activation='relu', input_shape=(2,)))\n",
    "irisModel.add(Dense(5, activation='relu'))\n",
    "irisModel.add(Dense(3, activation='softmax'))"
   ]
  },
  {
   "cell_type": "code",
   "execution_count": 217,
   "id": "cfdc0bda",
   "metadata": {},
   "outputs": [
    {
     "name": "stdout",
     "output_type": "stream",
     "text": [
      "Model: \"irisModel\"\n",
      "_________________________________________________________________\n",
      " Layer (type)                Output Shape              Param #   \n",
      "=================================================================\n",
      " dense_9 (Dense)             (None, 10)                30        \n",
      "                                                                 \n",
      " dense_10 (Dense)            (None, 5)                 55        \n",
      "                                                                 \n",
      " dense_11 (Dense)            (None, 3)                 18        \n",
      "                                                                 \n",
      "=================================================================\n",
      "Total params: 103\n",
      "Trainable params: 103\n",
      "Non-trainable params: 0\n",
      "_________________________________________________________________\n"
     ]
    }
   ],
   "source": [
    "irisModel.summary()"
   ]
  },
  {
   "cell_type": "code",
   "execution_count": 218,
   "id": "f40f4018",
   "metadata": {},
   "outputs": [],
   "source": [
    "# 모델생성\n",
    "irisModel.compile(loss='categorical_crossentropy',\n",
    "                 optimizer='adam',\n",
    "                 metrics='accuracy')"
   ]
  },
  {
   "cell_type": "markdown",
   "id": "026d4fbb",
   "metadata": {},
   "source": [
    "### [4] 모델 학습"
   ]
  },
  {
   "cell_type": "code",
   "execution_count": 219,
   "id": "b8096a9c",
   "metadata": {},
   "outputs": [
    {
     "data": {
      "text/plain": [
       "<keras.callbacks.History at 0x252a572e040>"
      ]
     },
     "execution_count": 219,
     "metadata": {},
     "output_type": "execute_result"
    }
   ],
   "source": [
    "irisModel.fit(X_train, y_train, epochs=1000, verbose=False)"
   ]
  },
  {
   "cell_type": "markdown",
   "id": "92844eec",
   "metadata": {},
   "source": [
    "### [5] 모델 평가"
   ]
  },
  {
   "cell_type": "code",
   "execution_count": 220,
   "id": "4f25321c",
   "metadata": {},
   "outputs": [
    {
     "name": "stdout",
     "output_type": "stream",
     "text": [
      "2/2 [==============================] - 0s 0s/step - loss: 0.0503 - accuracy: 0.9737\n"
     ]
    }
   ],
   "source": [
    "lossv, accv = irisModel.evaluate(X_test, y_test)"
   ]
  },
  {
   "cell_type": "code",
   "execution_count": 221,
   "id": "0959b685",
   "metadata": {},
   "outputs": [
    {
     "data": {
      "text/plain": [
       "(0.05027642846107483, 0.9736841917037964)"
      ]
     },
     "execution_count": 221,
     "metadata": {},
     "output_type": "execute_result"
    }
   ],
   "source": [
    "lossv, accv"
   ]
  },
  {
   "cell_type": "code",
   "execution_count": 222,
   "id": "b7dd5267",
   "metadata": {},
   "outputs": [],
   "source": [
    "M_FILE = 'irisModel.h5'\n",
    "W_FILE = 'irisWeight.h5'"
   ]
  },
  {
   "cell_type": "code",
   "execution_count": 223,
   "id": "28199f20",
   "metadata": {},
   "outputs": [],
   "source": [
    "from tensorflow.keras.models import save_model"
   ]
  },
  {
   "cell_type": "code",
   "execution_count": 224,
   "id": "757dc036",
   "metadata": {},
   "outputs": [],
   "source": [
    "if accv >= 0.95:\n",
    "    save_model(irisModel, M_FILE)\n",
    "    irisModel.save_weights(W_FILE)"
   ]
  },
  {
   "cell_type": "markdown",
   "id": "935790e0",
   "metadata": {},
   "source": [
    "### [6] 복원\n",
    "---\n",
    "- 모델 or 가중치 복원\n",
    "- load_model(모델 파일 or 모델 폴더명)\n",
    "- Sequencial.load_weights(가중치 파일 or 폴더명)"
   ]
  },
  {
   "cell_type": "markdown",
   "id": "07e66c91",
   "metadata": {},
   "source": [
    "### [6-1] 모델 복원"
   ]
  },
  {
   "cell_type": "code",
   "execution_count": 225,
   "id": "a979dcb2",
   "metadata": {},
   "outputs": [],
   "source": [
    "from tensorflow.keras.models import load_model"
   ]
  },
  {
   "cell_type": "code",
   "execution_count": 226,
   "id": "fd628340",
   "metadata": {},
   "outputs": [],
   "source": [
    "reModel = load_model(M_FILE)"
   ]
  },
  {
   "cell_type": "code",
   "execution_count": 227,
   "id": "5b6a8e76",
   "metadata": {},
   "outputs": [
    {
     "name": "stdout",
     "output_type": "stream",
     "text": [
      "WARNING:tensorflow:5 out of the last 7 calls to <function Model.make_test_function.<locals>.test_function at 0x00000252A4598DC0> triggered tf.function retracing. Tracing is expensive and the excessive number of tracings could be due to (1) creating @tf.function repeatedly in a loop, (2) passing tensors with different shapes, (3) passing Python objects instead of tensors. For (1), please define your @tf.function outside of the loop. For (2), @tf.function has reduce_retracing=True option that can avoid unnecessary retracing. For (3), please refer to https://www.tensorflow.org/guide/function#controlling_retracing and https://www.tensorflow.org/api_docs/python/tf/function for  more details.\n",
      "2/2 [==============================] - 0s 1ms/step - loss: 0.0503 - accuracy: 0.9737\n"
     ]
    },
    {
     "data": {
      "text/plain": [
       "[0.05027642846107483, 0.9736841917037964]"
      ]
     },
     "execution_count": 227,
     "metadata": {},
     "output_type": "execute_result"
    }
   ],
   "source": [
    "reModel.evaluate(X_test, y_test)"
   ]
  },
  {
   "cell_type": "code",
   "execution_count": 228,
   "id": "90ba42f6",
   "metadata": {},
   "outputs": [
    {
     "name": "stdout",
     "output_type": "stream",
     "text": [
      "Model: \"irisModel\"\n",
      "_________________________________________________________________\n",
      " Layer (type)                Output Shape              Param #   \n",
      "=================================================================\n",
      " dense_9 (Dense)             (None, 10)                30        \n",
      "                                                                 \n",
      " dense_10 (Dense)            (None, 5)                 55        \n",
      "                                                                 \n",
      " dense_11 (Dense)            (None, 3)                 18        \n",
      "                                                                 \n",
      "=================================================================\n",
      "Total params: 103\n",
      "Trainable params: 103\n",
      "Non-trainable params: 0\n",
      "_________________________________________________________________\n"
     ]
    }
   ],
   "source": [
    "reModel.summary()"
   ]
  },
  {
   "cell_type": "markdown",
   "id": "6a11cca0",
   "metadata": {},
   "source": [
    "### [6-2] 가중치 복원\n",
    "---\n",
    "- 모델 구조 (가중치 복원은 모델이 있어야, 컴파일까지 되어 있어야 함)\n",
    "- 가중치 로딩  \n",
    "=> 모델 아키텍처 구조를 알아야 그대로 모델을 만들어 놓고, 가중치를 넣어야 함"
   ]
  },
  {
   "cell_type": "code",
   "execution_count": 229,
   "id": "a362d921",
   "metadata": {},
   "outputs": [
    {
     "name": "stdout",
     "output_type": "stream",
     "text": [
      "Model: \"irisModel\"\n",
      "_________________________________________________________________\n",
      " Layer (type)                Output Shape              Param #   \n",
      "=================================================================\n",
      " dense_12 (Dense)            (None, 10)                30        \n",
      "                                                                 \n",
      " dense_13 (Dense)            (None, 5)                 55        \n",
      "                                                                 \n",
      " dense_14 (Dense)            (None, 3)                 18        \n",
      "                                                                 \n",
      "=================================================================\n",
      "Total params: 103\n",
      "Trainable params: 103\n",
      "Non-trainable params: 0\n",
      "_________________________________________________________________\n"
     ]
    }
   ],
   "source": [
    "# 모델 구조 구성\n",
    "irisModel_new = Sequential(name='irisModel')\n",
    "irisModel_new.add(Dense(10, activation='relu', input_shape=(2,)))\n",
    "irisModel_new.add(Dense(5, activation='relu'))\n",
    "irisModel_new.add(Dense(3, activation='softmax'))\n",
    "irisModel_new.summary()"
   ]
  },
  {
   "cell_type": "code",
   "execution_count": 233,
   "id": "99d27c75",
   "metadata": {},
   "outputs": [],
   "source": [
    "# 모델 생성\n",
    "irisModel_new.compile(loss='categorical_crossentropy',\n",
    "                      optimizer='adam',\n",
    "                      metrics='accuracy')"
   ]
  },
  {
   "cell_type": "code",
   "execution_count": 234,
   "id": "ae3cfb28",
   "metadata": {},
   "outputs": [],
   "source": [
    "# 가중치 로딩\n",
    "irisModel_new.load_weights(W_FILE)"
   ]
  },
  {
   "cell_type": "code",
   "execution_count": null,
   "id": "a42abc02",
   "metadata": {},
   "outputs": [],
   "source": [
    "# 훈련\n",
    "irisModel_new.fit()"
   ]
  },
  {
   "cell_type": "code",
   "execution_count": 235,
   "id": "f1ecb6a6",
   "metadata": {},
   "outputs": [
    {
     "name": "stdout",
     "output_type": "stream",
     "text": [
      "WARNING:tensorflow:6 out of the last 9 calls to <function Model.make_test_function.<locals>.test_function at 0x00000252A43A94C0> triggered tf.function retracing. Tracing is expensive and the excessive number of tracings could be due to (1) creating @tf.function repeatedly in a loop, (2) passing tensors with different shapes, (3) passing Python objects instead of tensors. For (1), please define your @tf.function outside of the loop. For (2), @tf.function has reduce_retracing=True option that can avoid unnecessary retracing. For (3), please refer to https://www.tensorflow.org/guide/function#controlling_retracing and https://www.tensorflow.org/api_docs/python/tf/function for  more details.\n",
      "2/2 [==============================] - 0s 2ms/step - loss: 0.0503 - accuracy: 0.9737\n"
     ]
    },
    {
     "data": {
      "text/plain": [
       "[0.05027642846107483, 0.9736841917037964]"
      ]
     },
     "execution_count": 235,
     "metadata": {},
     "output_type": "execute_result"
    }
   ],
   "source": [
    "irisModel_new.evaluate(X_test, y_test)"
   ]
  },
  {
   "cell_type": "code",
   "execution_count": 236,
   "id": "d68076e3",
   "metadata": {},
   "outputs": [],
   "source": [
    "# 가중치와 bias 값을 최적화 시키기 위해 연산을 하는 것인데,\n",
    "# 이렇게 모델 or 가중치만 저장해서 로딩하는 것"
   ]
  },
  {
   "cell_type": "code",
   "execution_count": 238,
   "id": "297a8609",
   "metadata": {},
   "outputs": [
    {
     "data": {
      "text/plain": [
       "<keras.callbacks.History at 0x252a6b348b0>"
      ]
     },
     "execution_count": 238,
     "metadata": {},
     "output_type": "execute_result"
    }
   ],
   "source": [
    "irisModel_new.fit(X_train, y_train, epochs=1000, verbose=False)"
   ]
  },
  {
   "cell_type": "code",
   "execution_count": 243,
   "id": "cd225c7f",
   "metadata": {},
   "outputs": [
    {
     "name": "stdout",
     "output_type": "stream",
     "text": [
      "1/1 [==============================] - 0s 12ms/step\n"
     ]
    },
    {
     "data": {
      "text/plain": [
       "array([[4.0919355e-07, 1.3240391e-03, 9.9867553e-01]], dtype=float32)"
      ]
     },
     "execution_count": 243,
     "metadata": {},
     "output_type": "execute_result"
    }
   ],
   "source": [
    "pre_i = irisModel_new.predict(X_train[0].reshape(-1,2))\n",
    "pre_i"
   ]
  }
 ],
 "metadata": {
  "kernelspec": {
   "display_name": "Python 3 (ipykernel)",
   "language": "python",
   "name": "python3"
  },
  "language_info": {
   "codemirror_mode": {
    "name": "ipython",
    "version": 3
   },
   "file_extension": ".py",
   "mimetype": "text/x-python",
   "name": "python",
   "nbconvert_exporter": "python",
   "pygments_lexer": "ipython3",
   "version": "3.9.12"
  }
 },
 "nbformat": 4,
 "nbformat_minor": 5
}
