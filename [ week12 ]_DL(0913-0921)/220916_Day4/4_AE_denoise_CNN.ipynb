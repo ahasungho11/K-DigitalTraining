{
 "cells": [
  {
   "cell_type": "markdown",
   "id": "709ed0ff",
   "metadata": {},
   "source": [
    "## AutoEncode 노이즈 제거_CNN\n",
    "---\n",
    "- 데이터 노이즈 제거에 활용\n",
    "- 데이터에서 주요 특징만 추출, 압축하기 때문에 노이즈는 주요 특징에서 제거됨\n",
    "- 압축된 주요 특징으로 데이터 복원 => 노이즈 제거"
   ]
  },
  {
   "cell_type": "code",
   "execution_count": 1,
   "id": "0de13fae",
   "metadata": {},
   "outputs": [],
   "source": [
    "from tensorflow.keras.datasets.mnist import load_data\n",
    "from tensorflow.keras.utils import set_random_seed, plot_model\n",
    "from tensorflow.keras.layers import Dense, Conv2D, Flatten, MaxPool2D\n",
    "from tensorflow.keras import Sequential\n",
    "from sklearn.model_selection import train_test_split\n",
    "import numpy as np\n",
    "import matplotlib.pyplot as plt"
   ]
  },
  {
   "cell_type": "markdown",
   "id": "9b7d90e5",
   "metadata": {},
   "source": [
    "## [1] 데이터 준비 및 로딩\n",
    "---"
   ]
  },
  {
   "cell_type": "code",
   "execution_count": 2,
   "id": "47163595",
   "metadata": {},
   "outputs": [],
   "source": [
    "# W, b 고정하도록 seed 설정\n",
    "set_random_seed(11)"
   ]
  },
  {
   "cell_type": "code",
   "execution_count": 3,
   "id": "cec61fbe",
   "metadata": {
    "scrolled": true
   },
   "outputs": [
    {
     "name": "stdout",
     "output_type": "stream",
     "text": [
      "X_train.shape : (60000, 28, 28)\n",
      "y_train.shape : (60000,)\n",
      "X_test.shape  : (10000, 28, 28)\n",
      "y_test.shape  : (10000,)\n"
     ]
    }
   ],
   "source": [
    "# load_data() 함수를 호출하면 NumPy 어레이의 튜플을 반환\n",
    "mnist = load_data()\n",
    "(X_train, y_train), (X_test, y_test) = load_data()\n",
    "print(f'X_train.shape : {X_train.shape}\\ny_train.shape : {y_train.shape}')\n",
    "print(f'X_test.shape  : {X_test.shape}\\ny_test.shape  : {y_test.shape}')"
   ]
  },
  {
   "cell_type": "markdown",
   "id": "df82977b",
   "metadata": {},
   "source": [
    "## [2] 데이터 전처리 및 학습형태로 변환"
   ]
  },
  {
   "cell_type": "code",
   "execution_count": 4,
   "id": "2d1f5a5a",
   "metadata": {},
   "outputs": [],
   "source": [
    "# 스케일링 => 픽셀 / 255.0\n",
    "X_train = X_train/255.0\n",
    "X_test = X_test/255.0"
   ]
  },
  {
   "cell_type": "code",
   "execution_count": 5,
   "id": "1ba2ad20",
   "metadata": {},
   "outputs": [],
   "source": [
    "# CNN은 3차원을 넣어야 하기 때문에\n",
    "X_train = X_train.reshape(-1, 28, 28, 1)\n",
    "X_test = X_test.reshape(-1, 28, 28, 1)   "
   ]
  },
  {
   "cell_type": "code",
   "execution_count": 6,
   "id": "88afa93d",
   "metadata": {},
   "outputs": [
    {
     "name": "stdout",
     "output_type": "stream",
     "text": [
      "X_train.shape : (60000, 28, 28, 1)\n",
      "X_test.shape  : (10000, 28, 28, 1)\n"
     ]
    }
   ],
   "source": [
    "print(f'X_train.shape : {X_train.shape}')  # 학습용\n",
    "print(f'X_test.shape  : {X_test.shape}')   # 테스트용"
   ]
  },
  {
   "cell_type": "code",
   "execution_count": 7,
   "id": "3e2fc70d",
   "metadata": {},
   "outputs": [
    {
     "name": "stdout",
     "output_type": "stream",
     "text": [
      "X_train.shape : (60000, 28, 28, 1)\n",
      "X_test.shape  : (10000, 28, 28, 1)\n",
      "y_train.shape : (60000,)\n",
      "y_test.shape  : (10000,)\n"
     ]
    }
   ],
   "source": [
    "print(f'X_train.shape : {X_train.shape}\\nX_test.shape  : {X_test.shape}')\n",
    "print(f'y_train.shape : {y_train.shape}\\ny_test.shape  : {y_test.shape}')"
   ]
  },
  {
   "cell_type": "code",
   "execution_count": 8,
   "id": "c88106ac",
   "metadata": {},
   "outputs": [],
   "source": [
    "# 노이즈 삽입 : 데이터셋에 노이즈 추가\n",
    "# np.random.normal(평균loc=0.0, 표준편차scale=1.0, 출력size=None)\n",
    "X_train_noised = X_train + np.random.normal(0, 0.5, size = X_train.shape)\n",
    "X_test_noised = X_test + np.random.normal(0, 0.5, size = X_test.shape)\n",
    "\n",
    "# 값 변환 : 각 픽셀의 범위를 0.0 - 1.0으로 맞춰 주기 위해 조정\n",
    "# np.clip(array, min, max)\n",
    "X_train_noised = np.clip(X_train_noised, a_min=0, a_max=1)\n",
    "X_test_noised = np.clip(X_test_noised, a_min=0, a_max=1)"
   ]
  },
  {
   "cell_type": "code",
   "execution_count": 9,
   "id": "f165c4d3",
   "metadata": {},
   "outputs": [],
   "source": [
    "# 노이즈 추가한 데이터들의 resahpe\n",
    "X_train_noised = X_train_noised.reshape(-1, 28, 28, 1)\n",
    "X_test_noised = X_test_noised.reshape(-1, 28, 28, 1)"
   ]
  },
  {
   "cell_type": "code",
   "execution_count": 10,
   "id": "9a75468c",
   "metadata": {},
   "outputs": [
    {
     "data": {
      "text/plain": [
       "((28, 28, 1), (28, 28, 1))"
      ]
     },
     "execution_count": 10,
     "metadata": {},
     "output_type": "execute_result"
    }
   ],
   "source": [
    "X_train_noised[0].shape, X_train[0].shape"
   ]
  },
  {
   "cell_type": "code",
   "execution_count": 11,
   "id": "b288e589",
   "metadata": {},
   "outputs": [
    {
     "data": {
      "image/png": "[encoded data removed]",
      "text/plain": [
       "<Figure size 432x288 with 1 Axes>"
      ]
     },
     "metadata": {
      "needs_background": "light"
     },
     "output_type": "display_data"
    }
   ],
   "source": [
    "# 원본 데이터\n",
    "plt.imshow(X_train[0], cmap='gray')\n",
    "# plt.imshow(X_train[0].reshape(-1, 28,28, 1), cmap='gray')\n",
    "plt.show()"
   ]
  },
  {
   "cell_type": "code",
   "execution_count": 12,
   "id": "df8d8243",
   "metadata": {
    "scrolled": true
   },
   "outputs": [
    {
     "data": {
      "image/png": "[encoded data removed]",
      "text/plain": [
       "<Figure size 432x288 with 1 Axes>"
      ]
     },
     "metadata": {
      "needs_background": "light"
     },
     "output_type": "display_data"
    }
   ],
   "source": [
    "# 노이즈 추가 데이터\n",
    "plt.imshow(X_train_noised[0], cmap='gray')\n",
    "# plt.imshow(X_train_noised[0].reshape(28,28), cmap='gray')\n",
    "plt.show()"
   ]
  },
  {
   "cell_type": "markdown",
   "id": "72ead782",
   "metadata": {},
   "source": [
    "## [3] 모델 생성 및 학습"
   ]
  },
  {
   "cell_type": "code",
   "execution_count": 19,
   "id": "e0e7631f",
   "metadata": {},
   "outputs": [],
   "source": [
    "# 필터 수 조절하도록 모델 만드는 함수\n",
    "def createAEModel(n_filter):\n",
    "    model = Sequential()\n",
    "    model.add(Conv2D(filters=n_filter, kernel_size=3, padding='same', activation='relu', input_shape=(28,28,1)))\n",
    "    # model.add(MaxPool2D()) => 같은 모양이 나와야 하니까 (En/De)\n",
    "    # model.add(Flatten())\n",
    "    model.add(Conv2D(filters=1, kernel_size=3, padding='same', activation='sigmoid'))\n",
    "    model.compile(loss='binary_crossentropy', optimizer = 'adam') #, metrics='accuracy')\n",
    "                        # 입력, 출력 2개로 일단 생각하고 있자\n",
    "    return model   "
   ]
  },
  {
   "cell_type": "code",
   "execution_count": 20,
   "id": "d388de39",
   "metadata": {},
   "outputs": [],
   "source": [
    "oneModel = createAEModel(50)\n",
    "twoModel = createAEModel(150)\n",
    "thrModel = createAEModel(350)"
   ]
  },
  {
   "cell_type": "code",
   "execution_count": 21,
   "id": "6a255da0",
   "metadata": {},
   "outputs": [
    {
     "name": "stdout",
     "output_type": "stream",
     "text": [
      "Model: \"sequential_3\"\n",
      "_________________________________________________________________\n",
      " Layer (type)                Output Shape              Param #   \n",
      "=================================================================\n",
      " conv2d_6 (Conv2D)           (None, 28, 28, 50)        500       \n",
      "                                                                 \n",
      " conv2d_7 (Conv2D)           (None, 28, 28, 1)         451       \n",
      "                                                                 \n",
      "=================================================================\n",
      "Total params: 951\n",
      "Trainable params: 951\n",
      "Non-trainable params: 0\n",
      "_________________________________________________________________\n"
     ]
    }
   ],
   "source": [
    "oneModel.summary()"
   ]
  },
  {
   "cell_type": "code",
   "execution_count": 22,
   "id": "1ba9e62f",
   "metadata": {},
   "outputs": [],
   "source": [
    "# 시각화\n",
    "# plot_model(oneModel, show_shapes=True)"
   ]
  },
  {
   "cell_type": "markdown",
   "id": "f38d52cb",
   "metadata": {},
   "source": [
    "- 과정 진행 -> 노이즈 제거 효과가 있다고 했으니\n",
    "- 은닉층 개수 조절 -> 노이즈 제거 차이 보고"
   ]
  },
  {
   "cell_type": "markdown",
   "id": "7b8f94b6",
   "metadata": {},
   "source": [
    "## [4] 모델 학습"
   ]
  },
  {
   "cell_type": "code",
   "execution_count": 23,
   "id": "87d1ec2b",
   "metadata": {},
   "outputs": [],
   "source": [
    "import os\n",
    "os.environ[\"KMP_DUPLICATE_LIB_OK\"]=\"TRUE\""
   ]
  },
  {
   "cell_type": "code",
   "execution_count": 24,
   "id": "13c55302",
   "metadata": {},
   "outputs": [
    {
     "name": "stdout",
     "output_type": "stream",
     "text": [
      "CPU\n",
      "Epoch 1/3\n",
      "1875/1875 [==============================] - 56s 30ms/step - loss: 0.1375\n",
      "Epoch 2/3\n",
      "1875/1875 [==============================] - 57s 31ms/step - loss: 0.1134\n",
      "Epoch 3/3\n",
      "1875/1875 [==============================] - 56s 30ms/step - loss: 0.1108\n",
      "Epoch 1/10\n",
      "1875/1875 [==============================] - 100s 53ms/step - loss: 0.1289\n",
      "Epoch 2/10\n",
      "1875/1875 [==============================] - 100s 53ms/step - loss: 0.1106\n",
      "Epoch 3/10\n",
      "1875/1875 [==============================] - 101s 54ms/step - loss: 0.1085\n",
      "Epoch 4/10\n",
      "1875/1875 [==============================] - 99s 53ms/step - loss: 0.1078\n",
      "Epoch 5/10\n",
      "1875/1875 [==============================] - 100s 53ms/step - loss: 0.1075\n",
      "Epoch 6/10\n",
      "1875/1875 [==============================] - 103s 55ms/step - loss: 0.1073\n",
      "Epoch 7/10\n",
      "1875/1875 [==============================] - 103s 55ms/step - loss: 0.1072\n",
      "Epoch 8/10\n",
      "1875/1875 [==============================] - 102s 54ms/step - loss: 0.1071\n",
      "Epoch 9/10\n",
      "1875/1875 [==============================] - 103s 55ms/step - loss: 0.1070\n",
      "Epoch 10/10\n",
      "1875/1875 [==============================] - 100s 53ms/step - loss: 0.1070\n",
      "Epoch 1/10\n",
      "1875/1875 [==============================] - 244s 130ms/step - loss: 0.1234\n",
      "Epoch 2/10\n",
      "1875/1875 [==============================] - 251s 134ms/step - loss: 0.1092\n",
      "Epoch 3/10\n",
      "1875/1875 [==============================] - 247s 132ms/step - loss: 0.1078\n",
      "Epoch 4/10\n",
      "1875/1875 [==============================] - 250s 133ms/step - loss: 0.1074\n",
      "Epoch 5/10\n",
      "1875/1875 [==============================] - 254s 135ms/step - loss: 0.1072\n",
      "Epoch 6/10\n",
      "1875/1875 [==============================] - 257s 137ms/step - loss: 0.1071\n",
      "Epoch 7/10\n",
      "1875/1875 [==============================] - 251s 134ms/step - loss: 0.1069\n",
      "Epoch 8/10\n",
      "1875/1875 [==============================] - 240s 128ms/step - loss: 0.1068\n",
      "Epoch 9/10\n",
      "1875/1875 [==============================] - 237s 126ms/step - loss: 0.1068\n",
      "Epoch 10/10\n",
      "1875/1875 [==============================] - 235s 125ms/step - loss: 0.1067\n"
     ]
    }
   ],
   "source": [
    "### X값, y값 모두 입력 데이터로 (X도 내꺼, y도 내꺼)\n",
    "# CNN -> 3차원으로 커지니까 시간은 더 걸리겠지\n",
    "import tensorflow as tf\n",
    "with tf.device(\"/device:CPU:0\"):\n",
    "    print('CPU')\n",
    "    oneModel.fit(X_train_noised, X_train, epochs=3)\n",
    "    twoModel.fit(X_train_noised, X_train, epochs=10)\n",
    "    thrModel.fit(X_train_noised, X_train, epochs=10)"
   ]
  },
  {
   "cell_type": "code",
   "execution_count": 25,
   "id": "7a1d4889",
   "metadata": {},
   "outputs": [
    {
     "name": "stdout",
     "output_type": "stream",
     "text": [
      "313/313 [==============================] - 2s 4ms/step - loss: 0.1087\n",
      "313/313 [==============================] - 3s 8ms/step - loss: 0.1061\n",
      "313/313 [==============================] - 5s 16ms/step - loss: 0.1060\n"
     ]
    },
    {
     "data": {
      "text/plain": [
       "0.10600610077381134"
      ]
     },
     "execution_count": 25,
     "metadata": {},
     "output_type": "execute_result"
    }
   ],
   "source": [
    "oneModel.evaluate(X_test_noised, X_test)\n",
    "twoModel.evaluate(X_test_noised, X_test)\n",
    "thrModel.evaluate(X_test_noised, X_test)"
   ]
  },
  {
   "cell_type": "markdown",
   "id": "384f25c5",
   "metadata": {},
   "source": [
    "## [5] 예측\n",
    "---\n",
    "- 새로운 데이터 사용"
   ]
  },
  {
   "cell_type": "code",
   "execution_count": 26,
   "id": "89d5d490",
   "metadata": {},
   "outputs": [
    {
     "name": "stdout",
     "output_type": "stream",
     "text": [
      "1/1 [==============================] - 0s 50ms/step\n",
      "1/1 [==============================] - 0s 27ms/step\n",
      "1/1 [==============================] - 0s 38ms/step\n"
     ]
    }
   ],
   "source": [
    "# 입력에 들어가는 값이 그대로 y값으로 들어가는 것\n",
    "pre1 = oneModel.predict(X_train_noised[0].reshape(-1,28,28,1))\n",
    "pre2 = twoModel.predict(X_train_noised[0].reshape(-1,28,28,1))\n",
    "pre3 = thrModel.predict(X_train_noised[0].reshape(-1,28,28,1))"
   ]
  },
  {
   "cell_type": "code",
   "execution_count": 27,
   "id": "da4f41c1",
   "metadata": {},
   "outputs": [
    {
     "data": {
      "text/plain": [
       "(1, 28, 28, 1)"
      ]
     },
     "execution_count": 27,
     "metadata": {},
     "output_type": "execute_result"
    }
   ],
   "source": [
    "pre1.shape\n",
    "pre2.shape\n",
    "pre3.shape"
   ]
  },
  {
   "cell_type": "markdown",
   "id": "59f055cd",
   "metadata": {},
   "source": [
    "## 원본 이미지 - AE 진행된 이미지 비교"
   ]
  },
  {
   "cell_type": "code",
   "execution_count": 28,
   "id": "360e04cd",
   "metadata": {},
   "outputs": [
    {
     "data": {
      "image/png": "[encoded data removed]",
      "text/plain": [
       "<Figure size 432x288 with 1 Axes>"
      ]
     },
     "metadata": {
      "needs_background": "light"
     },
     "output_type": "display_data"
    }
   ],
   "source": [
    "plt.imshow(X_train_noised[0].reshape(28,28), cmap='gray')\n",
    "plt.show()"
   ]
  },
  {
   "cell_type": "code",
   "execution_count": 29,
   "id": "6a0e6852",
   "metadata": {},
   "outputs": [
    {
     "data": {
      "image/png": "[encoded data removed]",
      "text/plain": [
       "<Figure size 432x288 with 1 Axes>"
      ]
     },
     "metadata": {
      "needs_background": "light"
     },
     "output_type": "display_data"
    }
   ],
   "source": [
    "plt.imshow(pre1.reshape(28,28), cmap='gray')\n",
    "plt.show()"
   ]
  },
  {
   "cell_type": "code",
   "execution_count": 30,
   "id": "0ec9a0d8",
   "metadata": {},
   "outputs": [
    {
     "data": {
      "image/png": "[encoded data removed]",
      "text/plain": [
       "<Figure size 432x288 with 1 Axes>"
      ]
     },
     "metadata": {
      "needs_background": "light"
     },
     "output_type": "display_data"
    }
   ],
   "source": [
    "plt.imshow(pre2.reshape(28,28), cmap='gray')\n",
    "plt.show()"
   ]
  },
  {
   "cell_type": "code",
   "execution_count": 31,
   "id": "00aa3ef2",
   "metadata": {},
   "outputs": [
    {
     "data": {
      "image/png": "[encoded data removed]",
      "text/plain": [
       "<Figure size 432x288 with 1 Axes>"
      ]
     },
     "metadata": {
      "needs_background": "light"
     },
     "output_type": "display_data"
    }
   ],
   "source": [
    "plt.imshow(pre3.reshape(28,28), cmap='gray')\n",
    "plt.show()"
   ]
  },
  {
   "cell_type": "code",
   "execution_count": 26,
   "id": "a32515f1",
   "metadata": {},
   "outputs": [],
   "source": [
    "# 300개나 500개나 비슷하다면 => 300개를 선택해야제"
   ]
  }
 ],
 "metadata": {
  "kernelspec": {
   "display_name": "Python 3 (ipykernel)",
   "language": "python",
   "name": "python3"
  },
  "language_info": {
   "codemirror_mode": {
    "name": "ipython",
    "version": 3
   },
   "file_extension": ".py",
   "mimetype": "text/x-python",
   "name": "python",
   "nbconvert_exporter": "python",
   "pygments_lexer": "ipython3",
   "version": "3.9.12"
  }
 },
 "nbformat": 4,
 "nbformat_minor": 5
}
