{
 "cells": [
  {
   "cell_type": "markdown",
   "metadata": {
    "id": "BW6Hoy-OqEUc"
   },
   "source": [
    "## 손글씨 식별 숫자 모델\n",
    "---\n",
    "- 데 이 터 : MNIST 데이터 사용\n",
    "- 학습모델 : 신경망 모델\n",
    "- 동    작 : 0 ~ 9 사이 숫자 판별"
   ]
  },
  {
   "cell_type": "code",
   "execution_count": 28,
   "metadata": {
    "executionInfo": {
     "elapsed": 460,
     "status": "ok",
     "timestamp": 1663138582016,
     "user": {
      "displayName": "후생복리",
      "userId": "02207267627840065605"
     },
     "user_tz": -540
    },
    "id": "bNRyHmw1qW23"
   },
   "outputs": [],
   "source": [
    "# 모듈 로딩\n",
    "import tensorflow as tf\n",
    "from tensorflow.keras import Sequential                # 모델 객체\n",
    "from tensorflow.keras.layers import Dense, Dropout     # 레이어 객체, 드롭아웃\n",
    "from tensorflow.keras.datasets.mnist import load_data  # 케라스 데이터셋에서 MNIST(손글씨 식별 숫자 모델) 로딩\n",
    "from sklearn.model_selection import train_test_split\n",
    "import numpy as np\n",
    "from tensorflow.keras.layers import Dense, Dropout, Flatten, Conv2D, MaxPool2D"
   ]
  },
  {
   "cell_type": "markdown",
   "metadata": {
    "id": "o0pX0LSpqvQr"
   },
   "source": [
    "### [1] 데이터 로딩 및 준비"
   ]
  },
  {
   "cell_type": "code",
   "execution_count": 29,
   "metadata": {
    "executionInfo": {
     "elapsed": 734,
     "status": "ok",
     "timestamp": 1663140205815,
     "user": {
      "displayName": "후생복리",
      "userId": "02207267627840065605"
     },
     "user_tz": -540
    },
    "id": "bkCiGB1Nqqwf"
   },
   "outputs": [],
   "source": [
    "(X_train, y_train), (X_test, y_test) = load_data()"
   ]
  },
  {
   "cell_type": "code",
   "execution_count": 30,
   "metadata": {
    "colab": {
     "base_uri": "https://localhost:8080/"
    },
    "executionInfo": {
     "elapsed": 6,
     "status": "ok",
     "timestamp": 1663140206882,
     "user": {
      "displayName": "후생복리",
      "userId": "02207267627840065605"
     },
     "user_tz": -540
    },
    "id": "azww8Vt0qq3W",
    "outputId": "2540eefe-5d0b-43ae-b094-c8c97c78b4a2"
   },
   "outputs": [
    {
     "name": "stdout",
     "output_type": "stream",
     "text": [
      "X_train.shape : (60000, 28, 28), X_test.shape : (10000, 28, 28)\n"
     ]
    }
   ],
   "source": [
    "print(f'X_train.shape : {X_train.shape}, X_test.shape : {X_test.shape}')"
   ]
  },
  {
   "cell_type": "code",
   "execution_count": 31,
   "metadata": {
    "executionInfo": {
     "elapsed": 4,
     "status": "ok",
     "timestamp": 1663140206884,
     "user": {
      "displayName": "후생복리",
      "userId": "02207267627840065605"
     },
     "user_tz": -540
    },
    "id": "y4-Hn3U8rA-b"
   },
   "outputs": [],
   "source": [
    "# 검증용 데이터셋 준비\n",
    "X_train, X_val, y_train, y_val = train_test_split(X_train, y_train, stratify = y_train)"
   ]
  },
  {
   "cell_type": "code",
   "execution_count": 32,
   "metadata": {
    "colab": {
     "base_uri": "https://localhost:8080/"
    },
    "executionInfo": {
     "elapsed": 5,
     "status": "ok",
     "timestamp": 1663140207559,
     "user": {
      "displayName": "후생복리",
      "userId": "02207267627840065605"
     },
     "user_tz": -540
    },
    "id": "gqWdGsjirYCX",
    "outputId": "f5d640ee-1ba9-436d-998e-f81549a136bd"
   },
   "outputs": [
    {
     "name": "stdout",
     "output_type": "stream",
     "text": [
      "X_train.shape : (45000, 28, 28), X_valt.shape : (15000, 28, 28)\n",
      "y_train.shape : (45000,), y_valt.shape : (15000,)\n"
     ]
    }
   ],
   "source": [
    "print(f'X_train.shape : {X_train.shape}, X_valt.shape : {X_val.shape}')\n",
    "print(f'y_train.shape : {y_train.shape}, y_valt.shape : {y_val.shape}')"
   ]
  },
  {
   "cell_type": "markdown",
   "metadata": {
    "id": "UXWAbKcxrxOv"
   },
   "source": [
    "### [2] 데이터 전처리\n",
    "---\n",
    "- 수치형 데이터 => 스케일링\n",
    "- 범주형 데이터 => 원-핫-인코딩"
   ]
  },
  {
   "cell_type": "code",
   "execution_count": 33,
   "metadata": {
    "colab": {
     "base_uri": "https://localhost:8080/"
    },
    "executionInfo": {
     "elapsed": 4,
     "status": "ok",
     "timestamp": 1663140207559,
     "user": {
      "displayName": "후생복리",
      "userId": "02207267627840065605"
     },
     "user_tz": -540
    },
    "id": "tXx_fHrSrfIH",
    "outputId": "8684c2d4-809a-44be-86db-19111bb7579b"
   },
   "outputs": [],
   "source": [
    "# 저장된 값 확인\n",
    "# X_train[0], y_train[0]"
   ]
  },
  {
   "cell_type": "code",
   "execution_count": 34,
   "metadata": {
    "executionInfo": {
     "elapsed": 2,
     "status": "ok",
     "timestamp": 1663140208159,
     "user": {
      "displayName": "후생복리",
      "userId": "02207267627840065605"
     },
     "user_tz": -540
    },
    "id": "qsfl6f8jrgPJ"
   },
   "outputs": [],
   "source": [
    "# 이미지 데이터의 픽셀값. 즉, 특성(Feature) 0.0 ~ 1.0으로 스케일링\n",
    "# 정수/정수 => 소수점 아래 값들을 날림\n",
    "# but, 살리고 싶으면, 범위가 큰 값으로 나누어 주면 거기에 맞춰서 => 실수\n",
    "# 따라서 255 -> 255.0\n",
    "\n",
    "X_train = X_train/255.0   # numpy에서의 브로드캐스팅\n",
    "X_val = X_val/255.0\n",
    "X_test = X_test/255.0"
   ]
  },
  {
   "cell_type": "code",
   "execution_count": 35,
   "metadata": {
    "executionInfo": {
     "elapsed": 1,
     "status": "ok",
     "timestamp": 1663140209103,
     "user": {
      "displayName": "후생복리",
      "userId": "02207267627840065605"
     },
     "user_tz": -540
    },
    "id": "dyi7IqNyrgRW"
   },
   "outputs": [
    {
     "data": {
      "text/plain": [
       "scipy.sparse.csr.csr_matrix"
      ]
     },
     "execution_count": 35,
     "metadata": {},
     "output_type": "execute_result"
    }
   ],
   "source": [
    "# 타겟 라벨 => OneHotEncoding으로 변환\n",
    "# 원래 숫자 0~9인 상태\n",
    "from sklearn.preprocessing import OneHotEncoder\n",
    "encoder = OneHotEncoder()\n",
    "encoder.fit(y_train.reshape(-1,1))\n",
    "y_train = encoder.transform(y_train.reshape(-1,1))\n",
    "\n",
    "type(y_train)  # 다시 numpy로 만들어줘야"
   ]
  },
  {
   "cell_type": "code",
   "execution_count": 36,
   "metadata": {
    "executionInfo": {
     "elapsed": 1,
     "status": "ok",
     "timestamp": 1663140209954,
     "user": {
      "displayName": "후생복리",
      "userId": "02207267627840065605"
     },
     "user_tz": -540
    },
    "id": "hp2B8s-vub2A"
   },
   "outputs": [
    {
     "name": "stdout",
     "output_type": "stream",
     "text": [
      "y_train[0]    : [0. 0. 0. 0. 0. 0. 1. 0. 0. 0.]\n",
      "type(y_train) : <class 'numpy.ndarray'>\n"
     ]
    }
   ],
   "source": [
    "y_train = y_train.toarray()\n",
    "# .reshape로 하면 scipy 형태로 나옴\n",
    "# 이것을 ndarray로 바꿔주기 위해 .toarray()로 해주는 것\n",
    "\n",
    "print(f'y_train[0]    : {y_train[0]}\\ntype(y_train) : {type(y_train)}')"
   ]
  },
  {
   "cell_type": "code",
   "execution_count": 37,
   "metadata": {},
   "outputs": [
    {
     "name": "stdout",
     "output_type": "stream",
     "text": [
      "y_val : <class 'numpy.ndarray'>\n",
      "y_test: <class 'numpy.ndarray'>\n"
     ]
    }
   ],
   "source": [
    "# [ y_val, y_test ]도 reshape 후, 넘파이 배열로 바꿔줌\n",
    "y_val = encoder.transform(y_val.reshape(-1,1)).toarray()\n",
    "y_test = encoder.transform(y_test.reshape(-1,1)).toarray()\n",
    "y_test.shape, y_val.shape\n",
    "print('y_val : {}\\ny_test: {}'.format(type(y_val), type(y_test)))"
   ]
  },
  {
   "cell_type": "markdown",
   "metadata": {},
   "source": [
    "#### 여기까지 타겟 [ y_train / y_val / y_test ]들을 넘파이 배열로 바꾼 상태  \n",
    "#### 원래는 split 하면서 numpy였는데,  인코딩을 하면, type가 scipy로 바뀌더라.  \n",
    "#### => 따라서, 다시 재배열해주고 넘파이로 바꿔준 것  \n",
    "\n",
    "#### (split으로 분리를 한 상태니까, 열만 1개로 맞추면 -> 행에 -1을 넣으면 알아서 맞춤)"
   ]
  },
  {
   "cell_type": "code",
   "execution_count": 38,
   "metadata": {},
   "outputs": [
    {
     "data": {
      "text/plain": [
       "((45000, 784), (45000, 10))"
      ]
     },
     "execution_count": 38,
     "metadata": {},
     "output_type": "execute_result"
    }
   ],
   "source": [
    "# Dense 위한 변환\n",
    "\n",
    "X_train.shape\n",
    "# 이것을 (45000,784)로 바꿔야\n",
    "\n",
    "X_train = X_train.reshape(-1, 28*28)\n",
    "# X_train = X_train.reshape(-1, 784)\n",
    "\n",
    "X_train.shape, y_train.shape"
   ]
  },
  {
   "cell_type": "code",
   "execution_count": 39,
   "metadata": {},
   "outputs": [
    {
     "name": "stdout",
     "output_type": "stream",
     "text": [
      "X_val : <class 'numpy.ndarray'>\n",
      "X_test: <class 'numpy.ndarray'>\n"
     ]
    }
   ],
   "source": [
    "# X_val, X_test\n",
    "X_val = X_val.reshape(-1, 784)\n",
    "X_test = X_test.reshape(-1, 784)\n",
    "X_val.shape, X_test.shape\n",
    "print('X_val : {}\\nX_test: {}'.format(type(X_val), type(X_test)))"
   ]
  },
  {
   "cell_type": "markdown",
   "metadata": {},
   "source": [
    "#### 여기까지 데이터 [ X_train / X_val / X_test ]들을 reshape까지만 한 상태\n",
    "#### => 원래 split을 하면서 numpy인 상태. 인코딩도 안했으니 그대로 유지\n",
    "#### split으로 분리를 한 상태니까, 열만 784개로 맞추면 -> 행에 -1을 넣으면 알아서 맞춤"
   ]
  },
  {
   "cell_type": "markdown",
   "metadata": {
    "id": "2NoNRTGQvlaH"
   },
   "source": [
    "### [3] 모델 생성\n",
    "---\n",
    "- (1) 모델 구성\n",
    "- (2) 모델 생성"
   ]
  },
  {
   "cell_type": "markdown",
   "metadata": {
    "id": "4ZtOf3GyvxK5"
   },
   "source": [
    "### [3-1] 모델 구성\n",
    "---\n",
    "- 입력 데이터 : 784  => 28* 28 이미지 데이터\n",
    "- 출력 데이터 : 10   => 0 ~ 9 숫자 라벨\n",
    "- 학 습 방 법 : 분류 -> 다중분류(10가지)\n"
   ]
  },
  {
   "cell_type": "code",
   "execution_count": 40,
   "metadata": {
    "executionInfo": {
     "elapsed": 406,
     "status": "ok",
     "timestamp": 1663141673828,
     "user": {
      "displayName": "후생복리",
      "userId": "02207267627840065605"
     },
     "user_tz": -540
    },
    "id": "SwVwn3K9vPC4"
   },
   "outputs": [],
   "source": [
    "model2 = Sequential(name='MNIST_NNModel')"
   ]
  },
  {
   "cell_type": "code",
   "execution_count": 41,
   "metadata": {
    "executionInfo": {
     "elapsed": 2,
     "status": "ok",
     "timestamp": 1663141674431,
     "user": {
      "displayName": "후생복리",
      "userId": "02207267627840065605"
     },
     "user_tz": -540
    },
    "id": "nvrX6ZPFv0Ur"
   },
   "outputs": [],
   "source": [
    "# Layer 생성 => Node(퍼셉트론, 뉴런)의 개수, 활성화 함수\n",
    "# [옵션] 입력을 받아들이는  : input_shape=(,)\n",
    "model2.add( Dense(250, activation = 'relu', input_shape=(784,)))\n",
    "model2.add (Dropout(0.3))"
   ]
  },
  {
   "cell_type": "code",
   "execution_count": 42,
   "metadata": {
    "executionInfo": {
     "elapsed": 3,
     "status": "ok",
     "timestamp": 1663141674432,
     "user": {
      "displayName": "후생복리",
      "userId": "02207267627840065605"
     },
     "user_tz": -540
    },
    "id": "nvpi2mCq7ZOR"
   },
   "outputs": [],
   "source": [
    "# 은닉층 추가 (100)\n",
    "model2.add( Dense(100, activation = 'relu'))\n",
    "model2.add (Dropout(0.3))\n",
    "# model2.add( Dense(30, activation = 'relu'))"
   ]
  },
  {
   "cell_type": "code",
   "execution_count": 43,
   "metadata": {
    "executionInfo": {
     "elapsed": 2,
     "status": "ok",
     "timestamp": 1663141675058,
     "user": {
      "displayName": "후생복리",
      "userId": "02207267627840065605"
     },
     "user_tz": -540
    },
    "id": "YXHaHDT77ZV_"
   },
   "outputs": [],
   "source": [
    "# model2.add( Dense(30, activation = 'relu'))"
   ]
  },
  {
   "cell_type": "code",
   "execution_count": 44,
   "metadata": {
    "executionInfo": {
     "elapsed": 2,
     "status": "ok",
     "timestamp": 1663141675806,
     "user": {
      "displayName": "후생복리",
      "userId": "02207267627840065605"
     },
     "user_tz": -540
    },
    "id": "QbauAP-Hv0XZ"
   },
   "outputs": [],
   "source": [
    "# 출력 Layer 생성 => Node(퍼셉트론, 뉴런) 갯수, 활성화 함수\n",
    "model2.add( Dense(10, activation = 'softmax'))"
   ]
  },
  {
   "cell_type": "code",
   "execution_count": 45,
   "metadata": {
    "colab": {
     "base_uri": "https://localhost:8080/"
    },
    "executionInfo": {
     "elapsed": 5,
     "status": "ok",
     "timestamp": 1663141676272,
     "user": {
      "displayName": "후생복리",
      "userId": "02207267627840065605"
     },
     "user_tz": -540
    },
    "id": "MS_Yl0yevPFC",
    "outputId": "570222f3-36be-46ed-bb41-db275ee0ee90"
   },
   "outputs": [
    {
     "name": "stdout",
     "output_type": "stream",
     "text": [
      "Model: \"MNIST_NNModel\"\n",
      "_________________________________________________________________\n",
      " Layer (type)                Output Shape              Param #   \n",
      "=================================================================\n",
      " dense_3 (Dense)             (None, 250)               196250    \n",
      "                                                                 \n",
      " dropout_2 (Dropout)         (None, 250)               0         \n",
      "                                                                 \n",
      " dense_4 (Dense)             (None, 100)               25100     \n",
      "                                                                 \n",
      " dropout_3 (Dropout)         (None, 100)               0         \n",
      "                                                                 \n",
      " dense_5 (Dense)             (None, 10)                1010      \n",
      "                                                                 \n",
      "=================================================================\n",
      "Total params: 222,360\n",
      "Trainable params: 222,360\n",
      "Non-trainable params: 0\n",
      "_________________________________________________________________\n"
     ]
    }
   ],
   "source": [
    "# 모델 확인\n",
    "model2.summary()"
   ]
  },
  {
   "cell_type": "markdown",
   "metadata": {
    "id": "3NOcuNIv1I7v"
   },
   "source": [
    "### [3-2] 모델 생성\n",
    "---\n",
    "- loss함수\n",
    "  * 이진분류 : binary_crossentropy\n",
    "  * 다중분류 : sparse_categorical_crossentropy, categorical_crossentropy  \n",
    "- optimizer 기법 => 'rmsprop'(기)\n",
    "- metrics 평가항목 => 'loss'(기)"
   ]
  },
  {
   "cell_type": "code",
   "execution_count": 46,
   "metadata": {
    "executionInfo": {
     "elapsed": 410,
     "status": "ok",
     "timestamp": 1663141678749,
     "user": {
      "displayName": "후생복리",
      "userId": "02207267627840065605"
     },
     "user_tz": -540
    },
    "id": "NmISaFQ8xM4Z"
   },
   "outputs": [],
   "source": [
    "model2.compile(loss='categorical_crossentropy', optimizer='adam',\n",
    "              metrics='accuracy') # 원-핫-인코딩 했으니까"
   ]
  },
  {
   "cell_type": "code",
   "execution_count": 47,
   "metadata": {
    "executionInfo": {
     "elapsed": 2,
     "status": "ok",
     "timestamp": 1663141679177,
     "user": {
      "displayName": "후생복리",
      "userId": "02207267627840065605"
     },
     "user_tz": -540
    },
    "id": "jB1pjpaO1Jdo"
   },
   "outputs": [],
   "source": [
    "# compile()에서 오타가 있었더라도 넘어갈 수 있으나, \n",
    "# fit()에서는 읽기 때문에 이를 잡아낼 수 있음"
   ]
  },
  {
   "cell_type": "code",
   "execution_count": 48,
   "metadata": {
    "collapsed": true
   },
   "outputs": [
    {
     "data": {
      "image/png": "[encoded data removed]",
      "text/plain": [
       "<IPython.core.display.Image object>"
      ]
     },
     "execution_count": 48,
     "metadata": {},
     "output_type": "execute_result"
    }
   ],
   "source": [
    "from tensorflow.keras.utils import plot_model\n",
    "plot_model(model, show_shapes=True, show_dtype=True)"
   ]
  },
  {
   "cell_type": "markdown",
   "metadata": {
    "id": "WTaasMbq1_5f"
   },
   "source": [
    "### [4] 학습"
   ]
  },
  {
   "cell_type": "code",
   "execution_count": 50,
   "metadata": {
    "executionInfo": {
     "elapsed": 411,
     "status": "ok",
     "timestamp": 1663144306113,
     "user": {
      "displayName": "후생복리",
      "userId": "02207267627840065605"
     },
     "user_tz": -540
    },
    "id": "PEZC4HxN9wlZ"
   },
   "outputs": [],
   "source": [
    "from tensorflow.keras.callbacks import EarlyStopping, ModelCheckpoint"
   ]
  },
  {
   "cell_type": "code",
   "execution_count": 51,
   "metadata": {
    "executionInfo": {
     "elapsed": 1,
     "status": "ok",
     "timestamp": 1663141681107,
     "user": {
      "displayName": "후생복리",
      "userId": "02207267627840065605"
     },
     "user_tz": -540
    },
    "id": "crhJpLWR9rmc"
   },
   "outputs": [],
   "source": [
    "# 시각화한 그래프에서 큰 변동이 없는 임계점을 발견했다면,\n",
    "# (더이상 개선이 발생하지 않는 지점을 발견한다면)\n",
    "stopCB = EarlyStopping(monitor='val_loss', patience=2)"
   ]
  },
  {
   "cell_type": "code",
   "execution_count": 52,
   "metadata": {
    "executionInfo": {
     "elapsed": 839,
     "status": "ok",
     "timestamp": 1663144570722,
     "user": {
      "displayName": "후생복리",
      "userId": "02207267627840065605"
     },
     "user_tz": -540
    },
    "id": "Y01WUTRRG7HH"
   },
   "outputs": [],
   "source": [
    "MODEL_PATH = '.model.{epoch:02d}-{val_loss:.2f}.h5'\n",
    "modelCB = ModelCheckpoint(filepath = MODEL_PATH, save_best_only=True, save_weights_only=True)"
   ]
  },
  {
   "cell_type": "code",
   "execution_count": 1,
   "metadata": {},
   "outputs": [
    {
     "data": {
      "text/plain": [
       "[name: \"/device:CPU:0\"\n",
       " device_type: \"CPU\"\n",
       " memory_limit: 268435456\n",
       " locality {\n",
       " }\n",
       " incarnation: 11224217504438696315\n",
       " xla_global_id: -1]"
      ]
     },
     "execution_count": 1,
     "metadata": {},
     "output_type": "execute_result"
    }
   ],
   "source": [
    "from tensorflow.python.client import device_lib\n",
    "device_lib.list_local_devices()"
   ]
  },
  {
   "cell_type": "code",
   "execution_count": 54,
   "metadata": {},
   "outputs": [],
   "source": [
    "# with tf.device(\"/device:CPU:0\"):\n",
    "#     model2.fit(X_train, y_train, epochs=10,\n",
    "#                 validation_data=(X_val, y_val))\n",
    "\n",
    "\n",
    "# his2 = model2.fit(X_train, y_train, epochs=10,\n",
    "#                 validation_data=(X_val, y_val),\n",
    "#                 callbacks=[stopCB, modelCB])"
   ]
  },
  {
   "cell_type": "code",
   "execution_count": 55,
   "metadata": {
    "colab": {
     "base_uri": "https://localhost:8080/"
    },
    "executionInfo": {
     "elapsed": 65459,
     "status": "ok",
     "timestamp": 1663144639326,
     "user": {
      "displayName": "후생복리",
      "userId": "02207267627840065605"
     },
     "user_tz": -540
    },
    "id": "0D6yyYIP2JBG",
    "outputId": "3545ef62-af13-41ca-e85c-bdc8ea85f13d"
   },
   "outputs": [
    {
     "name": "stdout",
     "output_type": "stream",
     "text": [
      "Epoch 1/100\n",
      "1407/1407 [==============================] - 9s 5ms/step - loss: 0.3566 - accuracy: 0.8922 - val_loss: 0.1401 - val_accuracy: 0.9578\n",
      "Epoch 2/100\n",
      "1407/1407 [==============================] - 6s 4ms/step - loss: 0.1712 - accuracy: 0.9488 - val_loss: 0.1033 - val_accuracy: 0.9681\n",
      "Epoch 3/100\n",
      "1407/1407 [==============================] - 8s 6ms/step - loss: 0.1344 - accuracy: 0.9596 - val_loss: 0.0929 - val_accuracy: 0.9737\n",
      "Epoch 4/100\n",
      "1407/1407 [==============================] - 10s 7ms/step - loss: 0.1116 - accuracy: 0.9654 - val_loss: 0.0820 - val_accuracy: 0.9759\n",
      "Epoch 5/100\n",
      "1407/1407 [==============================] - 6s 4ms/step - loss: 0.0955 - accuracy: 0.9706 - val_loss: 0.0855 - val_accuracy: 0.9748\n",
      "Epoch 6/100\n",
      "1407/1407 [==============================] - 6s 4ms/step - loss: 0.0888 - accuracy: 0.9724 - val_loss: 0.0805 - val_accuracy: 0.9782\n",
      "Epoch 7/100\n",
      "1407/1407 [==============================] - 10s 7ms/step - loss: 0.0782 - accuracy: 0.9752 - val_loss: 0.0809 - val_accuracy: 0.9769\n",
      "Epoch 8/100\n",
      "1407/1407 [==============================] - 9s 6ms/step - loss: 0.0719 - accuracy: 0.9780 - val_loss: 0.0753 - val_accuracy: 0.9791\n",
      "Epoch 9/100\n",
      "1407/1407 [==============================] - 7s 5ms/step - loss: 0.0648 - accuracy: 0.9792 - val_loss: 0.0805 - val_accuracy: 0.9789\n",
      "Epoch 10/100\n",
      "1407/1407 [==============================] - 6s 4ms/step - loss: 0.0634 - accuracy: 0.9790 - val_loss: 0.0851 - val_accuracy: 0.9785\n",
      "Epoch 11/100\n",
      "1407/1407 [==============================] - 6s 4ms/step - loss: 0.0576 - accuracy: 0.9821 - val_loss: 0.0826 - val_accuracy: 0.9789\n",
      "Epoch 12/100\n",
      "1407/1407 [==============================] - 7s 5ms/step - loss: 0.0558 - accuracy: 0.9824 - val_loss: 0.0809 - val_accuracy: 0.9782\n",
      "Epoch 13/100\n",
      "1407/1407 [==============================] - 7s 5ms/step - loss: 0.0532 - accuracy: 0.9830 - val_loss: 0.0879 - val_accuracy: 0.9775\n",
      "Epoch 14/100\n",
      "1407/1407 [==============================] - 6s 5ms/step - loss: 0.0500 - accuracy: 0.9836 - val_loss: 0.0784 - val_accuracy: 0.9798\n",
      "Epoch 15/100\n",
      "1407/1407 [==============================] - 7s 5ms/step - loss: 0.0487 - accuracy: 0.9844 - val_loss: 0.0803 - val_accuracy: 0.9794\n",
      "Epoch 16/100\n",
      "1407/1407 [==============================] - 6s 4ms/step - loss: 0.0452 - accuracy: 0.9847 - val_loss: 0.0835 - val_accuracy: 0.9805\n",
      "Epoch 17/100\n",
      "1407/1407 [==============================] - 6s 4ms/step - loss: 0.0457 - accuracy: 0.9855 - val_loss: 0.0823 - val_accuracy: 0.9805\n",
      "Epoch 18/100\n",
      "1407/1407 [==============================] - 6s 4ms/step - loss: 0.0418 - accuracy: 0.9868 - val_loss: 0.0886 - val_accuracy: 0.9805\n",
      "Epoch 19/100\n",
      "1407/1407 [==============================] - 6s 4ms/step - loss: 0.0430 - accuracy: 0.9868 - val_loss: 0.0858 - val_accuracy: 0.9797\n",
      "Epoch 20/100\n",
      "1407/1407 [==============================] - 6s 4ms/step - loss: 0.0427 - accuracy: 0.9866 - val_loss: 0.0819 - val_accuracy: 0.9806\n",
      "Epoch 21/100\n",
      "1407/1407 [==============================] - 6s 4ms/step - loss: 0.0401 - accuracy: 0.9876 - val_loss: 0.0890 - val_accuracy: 0.9799\n",
      "Epoch 22/100\n",
      "1407/1407 [==============================] - 6s 5ms/step - loss: 0.0383 - accuracy: 0.9878 - val_loss: 0.0907 - val_accuracy: 0.9799\n",
      "Epoch 23/100\n",
      "1407/1407 [==============================] - 6s 4ms/step - loss: 0.0402 - accuracy: 0.9876 - val_loss: 0.0906 - val_accuracy: 0.9798\n",
      "Epoch 24/100\n",
      "1407/1407 [==============================] - 6s 4ms/step - loss: 0.0370 - accuracy: 0.9884 - val_loss: 0.0867 - val_accuracy: 0.9817\n",
      "Epoch 25/100\n",
      "1407/1407 [==============================] - 6s 4ms/step - loss: 0.0368 - accuracy: 0.9878 - val_loss: 0.0854 - val_accuracy: 0.9817\n",
      "Epoch 26/100\n",
      "1407/1407 [==============================] - 6s 4ms/step - loss: 0.0349 - accuracy: 0.9887 - val_loss: 0.0985 - val_accuracy: 0.9802\n",
      "Epoch 27/100\n",
      "1407/1407 [==============================] - 9s 6ms/step - loss: 0.0354 - accuracy: 0.9889 - val_loss: 0.0931 - val_accuracy: 0.9811\n",
      "Epoch 28/100\n",
      "1407/1407 [==============================] - 7s 5ms/step - loss: 0.0349 - accuracy: 0.9890 - val_loss: 0.0914 - val_accuracy: 0.9811\n",
      "Epoch 29/100\n",
      "1407/1407 [==============================] - 6s 4ms/step - loss: 0.0346 - accuracy: 0.9895 - val_loss: 0.0945 - val_accuracy: 0.9807\n",
      "Epoch 30/100\n",
      "1407/1407 [==============================] - 7s 5ms/step - loss: 0.0341 - accuracy: 0.9898 - val_loss: 0.0911 - val_accuracy: 0.9817\n",
      "Epoch 31/100\n",
      "1407/1407 [==============================] - 8s 5ms/step - loss: 0.0332 - accuracy: 0.9895 - val_loss: 0.0881 - val_accuracy: 0.9827\n",
      "Epoch 32/100\n",
      "1407/1407 [==============================] - 7s 5ms/step - loss: 0.0317 - accuracy: 0.9893 - val_loss: 0.0904 - val_accuracy: 0.9825\n",
      "Epoch 33/100\n",
      "1407/1407 [==============================] - 6s 4ms/step - loss: 0.0305 - accuracy: 0.9906 - val_loss: 0.0989 - val_accuracy: 0.9809\n",
      "Epoch 34/100\n",
      "1407/1407 [==============================] - 8s 6ms/step - loss: 0.0254 - accuracy: 0.9922 - val_loss: 0.0999 - val_accuracy: 0.9815\n",
      "Epoch 35/100\n",
      "1407/1407 [==============================] - 8s 6ms/step - loss: 0.0330 - accuracy: 0.9900 - val_loss: 0.1026 - val_accuracy: 0.9805\n",
      "Epoch 36/100\n",
      "1407/1407 [==============================] - 9s 6ms/step - loss: 0.0314 - accuracy: 0.9903 - val_loss: 0.0939 - val_accuracy: 0.9822\n",
      "Epoch 37/100\n",
      "1407/1407 [==============================] - 7s 5ms/step - loss: 0.0329 - accuracy: 0.9901 - val_loss: 0.1023 - val_accuracy: 0.9817\n",
      "Epoch 38/100\n",
      "1407/1407 [==============================] - 7s 5ms/step - loss: 0.0262 - accuracy: 0.9916 - val_loss: 0.1036 - val_accuracy: 0.9817\n",
      "Epoch 39/100\n",
      "1407/1407 [==============================] - 8s 6ms/step - loss: 0.0301 - accuracy: 0.9911 - val_loss: 0.1110 - val_accuracy: 0.9817\n",
      "Epoch 40/100\n",
      "1407/1407 [==============================] - 9s 6ms/step - loss: 0.0310 - accuracy: 0.9905 - val_loss: 0.1106 - val_accuracy: 0.9819\n",
      "Epoch 41/100\n",
      "1407/1407 [==============================] - 9s 7ms/step - loss: 0.0282 - accuracy: 0.9916 - val_loss: 0.1175 - val_accuracy: 0.9804\n",
      "Epoch 42/100\n",
      "1407/1407 [==============================] - 8s 6ms/step - loss: 0.0280 - accuracy: 0.9914 - val_loss: 0.1022 - val_accuracy: 0.9832\n",
      "Epoch 43/100\n",
      "1407/1407 [==============================] - 9s 6ms/step - loss: 0.0264 - accuracy: 0.9923 - val_loss: 0.1101 - val_accuracy: 0.9815\n",
      "Epoch 44/100\n",
      "1407/1407 [==============================] - 7s 5ms/step - loss: 0.0269 - accuracy: 0.9919 - val_loss: 0.1111 - val_accuracy: 0.9822\n",
      "Epoch 45/100\n",
      "1407/1407 [==============================] - 8s 5ms/step - loss: 0.0288 - accuracy: 0.9919 - val_loss: 0.1149 - val_accuracy: 0.9805\n",
      "Epoch 46/100\n",
      "1407/1407 [==============================] - 9s 6ms/step - loss: 0.0272 - accuracy: 0.9912 - val_loss: 0.1096 - val_accuracy: 0.9833\n",
      "Epoch 47/100\n",
      "1407/1407 [==============================] - 8s 6ms/step - loss: 0.0240 - accuracy: 0.9925 - val_loss: 0.1035 - val_accuracy: 0.9828\n",
      "Epoch 48/100\n",
      "1407/1407 [==============================] - 8s 6ms/step - loss: 0.0261 - accuracy: 0.9922 - val_loss: 0.1093 - val_accuracy: 0.9823\n",
      "Epoch 49/100\n",
      "1407/1407 [==============================] - 10s 7ms/step - loss: 0.0291 - accuracy: 0.9920 - val_loss: 0.1072 - val_accuracy: 0.9809\n",
      "Epoch 50/100\n",
      "1407/1407 [==============================] - 8s 6ms/step - loss: 0.0243 - accuracy: 0.9926 - val_loss: 0.1083 - val_accuracy: 0.9817\n",
      "Epoch 51/100\n",
      "1407/1407 [==============================] - 7s 5ms/step - loss: 0.0261 - accuracy: 0.9927 - val_loss: 0.1080 - val_accuracy: 0.9817\n",
      "Epoch 52/100\n",
      "1407/1407 [==============================] - 6s 4ms/step - loss: 0.0250 - accuracy: 0.9923 - val_loss: 0.1091 - val_accuracy: 0.9831\n",
      "Epoch 53/100\n",
      "1407/1407 [==============================] - 6s 5ms/step - loss: 0.0276 - accuracy: 0.9919 - val_loss: 0.1111 - val_accuracy: 0.9823\n",
      "Epoch 54/100\n",
      "1407/1407 [==============================] - 6s 4ms/step - loss: 0.0268 - accuracy: 0.9923 - val_loss: 0.1100 - val_accuracy: 0.9819\n",
      "Epoch 55/100\n",
      "1407/1407 [==============================] - 6s 5ms/step - loss: 0.0246 - accuracy: 0.9928 - val_loss: 0.1073 - val_accuracy: 0.9826\n",
      "Epoch 56/100\n",
      "1407/1407 [==============================] - 6s 5ms/step - loss: 0.0229 - accuracy: 0.9929 - val_loss: 0.1193 - val_accuracy: 0.9818\n",
      "Epoch 57/100\n",
      "1407/1407 [==============================] - 6s 4ms/step - loss: 0.0231 - accuracy: 0.9932 - val_loss: 0.1125 - val_accuracy: 0.9832\n",
      "Epoch 58/100\n",
      "1407/1407 [==============================] - 6s 4ms/step - loss: 0.0249 - accuracy: 0.9925 - val_loss: 0.1173 - val_accuracy: 0.9806\n",
      "Epoch 59/100\n",
      "1407/1407 [==============================] - 6s 4ms/step - loss: 0.0256 - accuracy: 0.9921 - val_loss: 0.1223 - val_accuracy: 0.9811\n",
      "Epoch 60/100\n",
      "1407/1407 [==============================] - 9s 7ms/step - loss: 0.0232 - accuracy: 0.9933 - val_loss: 0.1255 - val_accuracy: 0.9822\n",
      "Epoch 61/100\n",
      "1407/1407 [==============================] - 8s 5ms/step - loss: 0.0226 - accuracy: 0.9933 - val_loss: 0.1192 - val_accuracy: 0.9831\n",
      "Epoch 62/100\n",
      "1407/1407 [==============================] - 7s 5ms/step - loss: 0.0236 - accuracy: 0.9926 - val_loss: 0.1234 - val_accuracy: 0.9827\n",
      "Epoch 63/100\n",
      "1407/1407 [==============================] - 8s 6ms/step - loss: 0.0228 - accuracy: 0.9935 - val_loss: 0.1193 - val_accuracy: 0.9831\n",
      "Epoch 64/100\n",
      "1407/1407 [==============================] - 9s 6ms/step - loss: 0.0238 - accuracy: 0.9939 - val_loss: 0.1312 - val_accuracy: 0.9821\n",
      "Epoch 65/100\n",
      "1407/1407 [==============================] - 7s 5ms/step - loss: 0.0242 - accuracy: 0.9927 - val_loss: 0.1267 - val_accuracy: 0.9817\n",
      "Epoch 66/100\n",
      "1407/1407 [==============================] - 9s 6ms/step - loss: 0.0229 - accuracy: 0.9934 - val_loss: 0.1232 - val_accuracy: 0.9829\n",
      "Epoch 67/100\n",
      "1407/1407 [==============================] - 6s 4ms/step - loss: 0.0262 - accuracy: 0.9926 - val_loss: 0.1123 - val_accuracy: 0.9836\n",
      "Epoch 68/100\n",
      "1407/1407 [==============================] - 6s 4ms/step - loss: 0.0212 - accuracy: 0.9932 - val_loss: 0.1315 - val_accuracy: 0.9810\n",
      "Epoch 69/100\n",
      "1407/1407 [==============================] - 6s 4ms/step - loss: 0.0216 - accuracy: 0.9934 - val_loss: 0.1171 - val_accuracy: 0.9827\n",
      "Epoch 70/100\n",
      "1407/1407 [==============================] - 7s 5ms/step - loss: 0.0242 - accuracy: 0.9934 - val_loss: 0.1216 - val_accuracy: 0.9822\n",
      "Epoch 71/100\n",
      "1407/1407 [==============================] - 6s 4ms/step - loss: 0.0203 - accuracy: 0.9937 - val_loss: 0.1319 - val_accuracy: 0.9815\n",
      "Epoch 72/100\n",
      "1407/1407 [==============================] - 6s 4ms/step - loss: 0.0192 - accuracy: 0.9946 - val_loss: 0.1353 - val_accuracy: 0.9813\n",
      "Epoch 73/100\n",
      "1407/1407 [==============================] - 7s 5ms/step - loss: 0.0243 - accuracy: 0.9933 - val_loss: 0.1258 - val_accuracy: 0.9814\n",
      "Epoch 74/100\n",
      "1407/1407 [==============================] - 7s 5ms/step - loss: 0.0216 - accuracy: 0.9936 - val_loss: 0.1263 - val_accuracy: 0.9827\n",
      "Epoch 75/100\n",
      "1407/1407 [==============================] - 7s 5ms/step - loss: 0.0233 - accuracy: 0.9932 - val_loss: 0.1325 - val_accuracy: 0.9833\n",
      "Epoch 76/100\n",
      "1407/1407 [==============================] - 10s 7ms/step - loss: 0.0227 - accuracy: 0.9938 - val_loss: 0.1322 - val_accuracy: 0.9834\n",
      "Epoch 77/100\n",
      "1407/1407 [==============================] - 10s 7ms/step - loss: 0.0204 - accuracy: 0.9939 - val_loss: 0.1370 - val_accuracy: 0.9833\n",
      "Epoch 78/100\n",
      "1407/1407 [==============================] - 10s 7ms/step - loss: 0.0207 - accuracy: 0.9940 - val_loss: 0.1365 - val_accuracy: 0.9816\n",
      "Epoch 79/100\n",
      "1407/1407 [==============================] - 8s 6ms/step - loss: 0.0215 - accuracy: 0.9942 - val_loss: 0.1332 - val_accuracy: 0.9827\n",
      "Epoch 80/100\n",
      "1407/1407 [==============================] - 7s 5ms/step - loss: 0.0204 - accuracy: 0.9942 - val_loss: 0.1383 - val_accuracy: 0.9809\n",
      "Epoch 81/100\n",
      "1407/1407 [==============================] - 7s 5ms/step - loss: 0.0230 - accuracy: 0.9934 - val_loss: 0.1382 - val_accuracy: 0.9831\n",
      "Epoch 82/100\n",
      "1407/1407 [==============================] - 6s 5ms/step - loss: 0.0211 - accuracy: 0.9941 - val_loss: 0.1403 - val_accuracy: 0.9819\n",
      "Epoch 83/100\n",
      "1407/1407 [==============================] - 6s 4ms/step - loss: 0.0190 - accuracy: 0.9946 - val_loss: 0.1360 - val_accuracy: 0.9817\n",
      "Epoch 84/100\n",
      "1407/1407 [==============================] - 7s 5ms/step - loss: 0.0206 - accuracy: 0.9939 - val_loss: 0.1348 - val_accuracy: 0.9807\n",
      "Epoch 85/100\n",
      "1407/1407 [==============================] - 7s 5ms/step - loss: 0.0198 - accuracy: 0.9943 - val_loss: 0.1446 - val_accuracy: 0.9807\n",
      "Epoch 86/100\n",
      "1407/1407 [==============================] - 6s 5ms/step - loss: 0.0199 - accuracy: 0.9940 - val_loss: 0.1433 - val_accuracy: 0.9819\n",
      "Epoch 87/100\n",
      "1407/1407 [==============================] - 6s 5ms/step - loss: 0.0201 - accuracy: 0.9942 - val_loss: 0.1546 - val_accuracy: 0.9814\n",
      "Epoch 88/100\n",
      "1407/1407 [==============================] - 8s 6ms/step - loss: 0.0186 - accuracy: 0.9945 - val_loss: 0.1429 - val_accuracy: 0.9819\n",
      "Epoch 89/100\n",
      "1407/1407 [==============================] - 8s 5ms/step - loss: 0.0194 - accuracy: 0.9945 - val_loss: 0.1392 - val_accuracy: 0.9820\n",
      "Epoch 90/100\n",
      "1407/1407 [==============================] - 7s 5ms/step - loss: 0.0223 - accuracy: 0.9940 - val_loss: 0.1364 - val_accuracy: 0.9816\n",
      "Epoch 91/100\n",
      "1407/1407 [==============================] - 8s 6ms/step - loss: 0.0205 - accuracy: 0.9945 - val_loss: 0.1398 - val_accuracy: 0.9829\n",
      "Epoch 92/100\n",
      "1407/1407 [==============================] - 9s 7ms/step - loss: 0.0175 - accuracy: 0.9952 - val_loss: 0.1540 - val_accuracy: 0.9820\n",
      "Epoch 93/100\n",
      "1407/1407 [==============================] - 8s 6ms/step - loss: 0.0194 - accuracy: 0.9950 - val_loss: 0.1455 - val_accuracy: 0.9819\n",
      "Epoch 94/100\n",
      "1407/1407 [==============================] - 10s 7ms/step - loss: 0.0209 - accuracy: 0.9941 - val_loss: 0.1530 - val_accuracy: 0.9808\n",
      "Epoch 95/100\n",
      "1407/1407 [==============================] - 9s 6ms/step - loss: 0.0169 - accuracy: 0.9949 - val_loss: 0.1498 - val_accuracy: 0.9816\n",
      "Epoch 96/100\n",
      "1407/1407 [==============================] - 7s 5ms/step - loss: 0.0204 - accuracy: 0.9940 - val_loss: 0.1325 - val_accuracy: 0.9838\n",
      "Epoch 97/100\n",
      "1407/1407 [==============================] - 8s 6ms/step - loss: 0.0183 - accuracy: 0.9952 - val_loss: 0.1570 - val_accuracy: 0.9820\n",
      "Epoch 98/100\n",
      "1407/1407 [==============================] - 8s 6ms/step - loss: 0.0202 - accuracy: 0.9945 - val_loss: 0.1441 - val_accuracy: 0.9821\n",
      "Epoch 99/100\n",
      "1407/1407 [==============================] - 7s 5ms/step - loss: 0.0201 - accuracy: 0.9950 - val_loss: 0.1507 - val_accuracy: 0.9827\n",
      "Epoch 100/100\n",
      "1407/1407 [==============================] - 8s 5ms/step - loss: 0.0237 - accuracy: 0.9937 - val_loss: 0.1393 - val_accuracy: 0.9823\n"
     ]
    }
   ],
   "source": [
    "with tf.device(\"/device:GPU:0\"):\n",
    "    model2.fit(X_train, y_train, epochs=100,\n",
    "                validation_data=(X_val, y_val))\n",
    "\n",
    "\n",
    "# his2 = model2.fit(X_train, y_train, epochs=10,\n",
    "#                 validation_data=(X_val, y_val),\n",
    "#                 callbacks=[stopCB, modelCB])"
   ]
  },
  {
   "cell_type": "code",
   "execution_count": 56,
   "metadata": {
    "colab": {
     "base_uri": "https://localhost:8080/",
     "height": 280
    },
    "executionInfo": {
     "elapsed": 8,
     "status": "ok",
     "timestamp": 1663141741096,
     "user": {
      "displayName": "후생복리",
      "userId": "02207267627840065605"
     },
     "user_tz": -540
    },
    "id": "1kELTKer2JDi",
    "outputId": "cb0ead4f-13e9-4889-e6b0-384778cb7207"
   },
   "outputs": [
    {
     "ename": "NameError",
     "evalue": "name 'his2' is not defined",
     "output_type": "error",
     "traceback": [
      "\u001b[1;31m---------------------------------------------------------------------------\u001b[0m",
      "\u001b[1;31mNameError\u001b[0m                                 Traceback (most recent call last)",
      "Input \u001b[1;32mIn [56]\u001b[0m, in \u001b[0;36m<cell line: 5>\u001b[1;34m()\u001b[0m\n\u001b[0;32m      2\u001b[0m \u001b[38;5;28;01mimport\u001b[39;00m \u001b[38;5;21;01mmatplotlib\u001b[39;00m\u001b[38;5;21;01m.\u001b[39;00m\u001b[38;5;21;01mpyplot\u001b[39;00m \u001b[38;5;28;01mas\u001b[39;00m \u001b[38;5;21;01mplt\u001b[39;00m\n\u001b[0;32m      4\u001b[0m \u001b[38;5;66;03m# 손실함수\u001b[39;00m\n\u001b[1;32m----> 5\u001b[0m plt\u001b[38;5;241m.\u001b[39mplot(\u001b[43mhis2\u001b[49m\u001b[38;5;241m.\u001b[39mepoch, his2\u001b[38;5;241m.\u001b[39mhistory[\u001b[38;5;124m'\u001b[39m\u001b[38;5;124mloss\u001b[39m\u001b[38;5;124m'\u001b[39m], label\u001b[38;5;241m=\u001b[39m\u001b[38;5;124m'\u001b[39m\u001b[38;5;124mTrain loss\u001b[39m\u001b[38;5;124m'\u001b[39m)\n\u001b[0;32m      6\u001b[0m plt\u001b[38;5;241m.\u001b[39mplot(his2\u001b[38;5;241m.\u001b[39mepoch, his2\u001b[38;5;241m.\u001b[39mhistory[\u001b[38;5;124m'\u001b[39m\u001b[38;5;124mval_loss\u001b[39m\u001b[38;5;124m'\u001b[39m], label\u001b[38;5;241m=\u001b[39m\u001b[38;5;124m'\u001b[39m\u001b[38;5;124mValidation loss\u001b[39m\u001b[38;5;124m'\u001b[39m)\n\u001b[0;32m      7\u001b[0m plt\u001b[38;5;241m.\u001b[39mxlabel(\u001b[38;5;124m'\u001b[39m\u001b[38;5;124mepochs\u001b[39m\u001b[38;5;124m'\u001b[39m)\n",
      "\u001b[1;31mNameError\u001b[0m: name 'his2' is not defined"
     ]
    }
   ],
   "source": [
    "# 학습 진행 결과 시각화\n",
    "import matplotlib.pyplot as plt\n",
    "\n",
    "# 손실함수\n",
    "plt.plot(his2.epoch, his2.history['loss'], label='Train loss')\n",
    "plt.plot(his2.epoch, his2.history['val_loss'], label='Validation loss')\n",
    "plt.xlabel('epochs')\n",
    "plt.ylabel('loss')\n",
    "plt.legend()\n",
    "plt.show()\n",
    "\n",
    "# val은 상승, train은 하락 => 과적합\n",
    "# -> 수치로만 봤으면, 쉽게 알아차리지 못했을 것임\n",
    "# => 첫  층 퍼셉트론 개수 증가 (10 -> 250)\n",
    "# => 둘째층 퍼센트론 개수 증가 (30 -> 100)\n",
    "\n",
    "# 다시 보면 val은 지속적으로 증가\n",
    "# => 그래도 과적합 현상 계속 보이면 => dropout을 층층마다 넣던지 등등\n",
    "\n",
    "# ※ 수정하면 모델 다시 만들고 적용하기\n"
   ]
  },
  {
   "cell_type": "code",
   "execution_count": null,
   "metadata": {
    "colab": {
     "base_uri": "https://localhost:8080/",
     "height": 280
    },
    "executionInfo": {
     "elapsed": 5,
     "status": "ok",
     "timestamp": 1663141741096,
     "user": {
      "displayName": "후생복리",
      "userId": "02207267627840065605"
     },
     "user_tz": -540
    },
    "id": "oK_Mk_a15zqe",
    "outputId": "955f2cf3-dbd2-47d6-cef7-3c474b1e2067"
   },
   "outputs": [],
   "source": [
    "# 정확도\n",
    "plt.plot(his2.epoch, his2.history['accuracy'], label='Train accuracy')\n",
    "plt.plot(his2.epoch, his2.history['val_accuracy'], label='Validation accuracy')\n",
    "plt.xlabel('epochs')\n",
    "plt.ylabel('accuracy')\n",
    "plt.legend()\n",
    "plt.show()"
   ]
  },
  {
   "cell_type": "code",
   "execution_count": null,
   "metadata": {
    "id": "ytrkk_uW2JFw"
   },
   "outputs": [],
   "source": [
    "# 모델이 원하는 상태로 만들어 진다면 파일로 저장\n",
    "# 모델 저장(epochs가 끝날 때마다)\n",
    "# 모델 저장, 가중치 값만 저장(save-loading 느낌)"
   ]
  },
  {
   "cell_type": "markdown",
   "metadata": {
    "id": "EPwh3IDj2Cg1"
   },
   "source": [
    "### [5] 평가\n",
    "---\n",
    "- evaluate() 메서드\n",
    "  * test data, target\n",
    "  * 반환값 : loss, metrics에서 지정한 성능평가 항목"
   ]
  },
  {
   "cell_type": "code",
   "execution_count": null,
   "metadata": {
    "colab": {
     "base_uri": "https://localhost:8080/"
    },
    "executionInfo": {
     "elapsed": 1262,
     "status": "ok",
     "timestamp": 1663145229988,
     "user": {
      "displayName": "후생복리",
      "userId": "02207267627840065605"
     },
     "user_tz": -540
    },
    "id": "XEI-DmUD-PXu",
    "outputId": "28e1752b-32a0-4fb5-9717-584032d17cc7"
   },
   "outputs": [],
   "source": [
    "# val을 별도 만들었으므로, test는 사용하지 않은 상태로 마지막에 평가할 때만\n",
    "test_result = model2.evaluate(X_test, y_test)"
   ]
  },
  {
   "cell_type": "code",
   "execution_count": null,
   "metadata": {
    "colab": {
     "base_uri": "https://localhost:8080/"
    },
    "executionInfo": {
     "elapsed": 424,
     "status": "ok",
     "timestamp": 1663145495860,
     "user": {
      "displayName": "후생복리",
      "userId": "02207267627840065605"
     },
     "user_tz": -540
    },
    "id": "QJWK6YF5MPDz",
    "outputId": "21d53972-1ba3-4a48-bd48-52b8b246adbc"
   },
   "outputs": [],
   "source": [
    "X_test[0].reshape(-1,784)"
   ]
  },
  {
   "cell_type": "markdown",
   "metadata": {
    "id": "Sd0sGhmV2E7I"
   },
   "source": [
    "### [6] 테스트/예측"
   ]
  },
  {
   "cell_type": "code",
   "execution_count": null,
   "metadata": {
    "executionInfo": {
     "elapsed": 3,
     "status": "ok",
     "timestamp": 1663145655199,
     "user": {
      "displayName": "후생복리",
      "userId": "02207267627840065605"
     },
     "user_tz": -540
    },
    "id": "eNGhm1v2LwAH"
   },
   "outputs": [],
   "source": [
    "# summary()에 들어갈 때, \n",
    "# 입력으로 들어갈 때는 tensor 객체로 들어가지\n",
    "\n",
    "# dense형태로 들어가야 하기 때문에\n",
    "pre_label = model2.predict(X_test[0].reshape(-1,784))"
   ]
  },
  {
   "cell_type": "code",
   "execution_count": null,
   "metadata": {
    "colab": {
     "base_uri": "https://localhost:8080/"
    },
    "executionInfo": {
     "elapsed": 422,
     "status": "ok",
     "timestamp": 1663145800099,
     "user": {
      "displayName": "후생복리",
      "userId": "02207267627840065605"
     },
     "user_tz": -540
    },
    "id": "soA7wwALNM0k",
    "outputId": "67e9d182-57a8-4913-f779-d1a0dff89499"
   },
   "outputs": [],
   "source": [
    "print('예측값 : {}'.format(np.round(pre_label,2)))\n",
    "print('실제값 : {}'.format(y_test[0]))\n",
    "# => 7번 이라는 것"
   ]
  },
  {
   "cell_type": "code",
   "execution_count": null,
   "metadata": {
    "colab": {
     "base_uri": "https://localhost:8080/"
    },
    "executionInfo": {
     "elapsed": 571,
     "status": "ok",
     "timestamp": 1663143777236,
     "user": {
      "displayName": "후생복리",
      "userId": "02207267627840065605"
     },
     "user_tz": -540
    },
    "id": "XFzknLJA1Jf-",
    "outputId": "1ec96d5a-5178-46d7-ae0e-feac2ba2d233"
   },
   "outputs": [],
   "source": [
    "model2.predict(X_train[:1])"
   ]
  },
  {
   "cell_type": "markdown",
   "metadata": {
    "id": "otlVG7JOOWsr"
   },
   "source": [
    "---\n",
    "# 분류, 멀티 레이어 퍼셉트론, 심층 신경망\n",
    "---"
   ]
  },
  {
   "cell_type": "markdown",
   "metadata": {
    "id": "Zd78qtG1K84u"
   },
   "source": [
    "### [7] 저장"
   ]
  },
  {
   "cell_type": "code",
   "execution_count": null,
   "metadata": {
    "colab": {
     "base_uri": "https://localhost:8080/",
     "height": 360
    },
    "executionInfo": {
     "elapsed": 610,
     "status": "error",
     "timestamp": 1663143912848,
     "user": {
      "displayName": "후생복리",
      "userId": "02207267627840065605"
     },
     "user_tz": -540
    },
    "id": "gCqgrLM5GEXn",
    "outputId": "c6195bab-a18e-426e-edfc-b60743d51a3a"
   },
   "outputs": [],
   "source": [
    "# 이런식으로 표현해도 되고\n",
    "model3 = Sequential([ Dense(10, activation = 'relu', input_shape=(3,)),\n",
    "                      Dense(5, activation = 'relu'),\n",
    "                      Dense(1, activation = 'sigmoid')])\n",
    "\n",
    "# # 다 만들고 모델 저장\n",
    "model3.save()\n",
    "\n",
    "# # 가중치만 저장\n",
    "model3.save_weights()"
   ]
  }
 ],
 "metadata": {
  "colab": {
   "authorship_tag": "ABX9TyPeEjnOsPKfBVjX9h0FBpos",
   "collapsed_sections": [],
   "provenance": []
  },
  "kernelspec": {
   "display_name": "Python 3 (ipykernel)",
   "language": "python",
   "name": "python3"
  },
  "language_info": {
   "codemirror_mode": {
    "name": "ipython",
    "version": 3
   },
   "file_extension": ".py",
   "mimetype": "text/x-python",
   "name": "python",
   "nbconvert_exporter": "python",
   "pygments_lexer": "ipython3",
   "version": "3.9.12"
  }
 },
 "nbformat": 4,
 "nbformat_minor": 1
}
