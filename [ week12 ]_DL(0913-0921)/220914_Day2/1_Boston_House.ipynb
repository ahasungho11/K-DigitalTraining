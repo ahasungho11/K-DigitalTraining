{
 "cells": [
  {
   "cell_type": "code",
   "execution_count": 1,
   "id": "df8fd8fb",
   "metadata": {},
   "outputs": [],
   "source": [
    "# 모듈 로딩\n",
    "import tensorflow as tf\n",
    "from tensorflow.keras import Sequential      # 모델 객체\n",
    "from tensorflow.keras.layers import Dense    # 레이어 객체\n",
    "from tensorflow.keras.datasets.boston_housing import load_data\n",
    "from keras.layers import Dropout\n",
    "import numpy as np"
   ]
  },
  {
   "cell_type": "code",
   "execution_count": 2,
   "id": "d1668432",
   "metadata": {},
   "outputs": [],
   "source": [
    "# Tensorflow는 (x_train, y_train), (x_test, y_test) => 훈련, 테스트끼리"
   ]
  },
  {
   "cell_type": "code",
   "execution_count": 3,
   "id": "f47136f7",
   "metadata": {},
   "outputs": [],
   "source": [
    "# 학습용:테스트용 = 8:2\n",
    "(X_train, y_train), (X_test, y_test) = load_data()"
   ]
  },
  {
   "cell_type": "code",
   "execution_count": 4,
   "id": "0c3885d5",
   "metadata": {},
   "outputs": [
    {
     "data": {
      "text/plain": [
       "((404, 13), (102, 13))"
      ]
     },
     "execution_count": 4,
     "metadata": {},
     "output_type": "execute_result"
    }
   ],
   "source": [
    "X_train.shape, X_test.shape"
   ]
  },
  {
   "cell_type": "code",
   "execution_count": 5,
   "id": "70db480e",
   "metadata": {},
   "outputs": [
    {
     "data": {
      "text/plain": [
       "(array([[  1.23247,   0.     ,   8.14   ,   0.     ,   0.538  ,   6.142  ,\n",
       "          91.7    ,   3.9769 ,   4.     , 307.     ,  21.     , 396.9    ,\n",
       "          18.72   ]]),\n",
       " 15.2)"
      ]
     },
     "execution_count": 5,
     "metadata": {},
     "output_type": "execute_result"
    }
   ],
   "source": [
    "X_train[:1], y_train[0]"
   ]
  },
  {
   "cell_type": "markdown",
   "id": "f7076531",
   "metadata": {},
   "source": [
    "### [ 1-1 ] 전처리\n",
    "---\n",
    "- 특성(Feature)의 전처리\n",
    "  * 수치 데이터 : 값의 범위\n",
    "  * 문자 데이터 : 수치화"
   ]
  },
  {
   "cell_type": "code",
   "execution_count": 6,
   "id": "855f69dc",
   "metadata": {},
   "outputs": [
    {
     "data": {
      "text/plain": [
       "StandardScaler()"
      ]
     },
     "execution_count": 6,
     "metadata": {},
     "output_type": "execute_result"
    }
   ],
   "source": [
    "from sklearn.preprocessing import StandardScaler, MinMaxScaler, RobustScaler\n",
    "scaler = StandardScaler()\n",
    "scaler.fit(X_train)"
   ]
  },
  {
   "cell_type": "code",
   "execution_count": 7,
   "id": "462f6e4a",
   "metadata": {},
   "outputs": [
    {
     "data": {
      "text/plain": [
       "(array([3.74511057e+00, 1.14801980e+01, 1.11044307e+01, 6.18811881e-02,\n",
       "        5.57355941e-01, 6.26708168e+00, 6.90106436e+01, 3.74027079e+00,\n",
       "        9.44059406e+00, 4.05898515e+02, 1.84759901e+01, 3.54783168e+02,\n",
       "        1.27408168e+01]),\n",
       " array([9.22929073e+00, 2.37382770e+01, 6.80287253e+00, 2.40939633e-01,\n",
       "        1.17147847e-01, 7.08908627e-01, 2.79060634e+01, 2.02770050e+00,\n",
       "        8.68758849e+00, 1.66168506e+02, 2.19765689e+00, 9.39946015e+01,\n",
       "        7.24556085e+00]))"
      ]
     },
     "execution_count": 7,
     "metadata": {},
     "output_type": "execute_result"
    }
   ],
   "source": [
    "scaler.mean_, scaler.scale_"
   ]
  },
  {
   "cell_type": "code",
   "execution_count": 8,
   "id": "e3289485",
   "metadata": {},
   "outputs": [],
   "source": [
    "X_train_scaled = scaler.transform(X_train)"
   ]
  },
  {
   "cell_type": "markdown",
   "id": "a5200b6e",
   "metadata": {},
   "source": [
    "### [2] NN Model 실습\n",
    "---\n",
    "- (1) 구상  \n",
    "- (2) 생성  \n",
    "- (3) 학습  \n",
    "- (4) 평가  \n",
    "- (5) 테스트\n",
    "---"
   ]
  },
  {
   "cell_type": "markdown",
   "id": "e6c75923",
   "metadata": {},
   "source": [
    "### [2-1] 구상\n",
    "---\n",
    "- 입력 데이터 => 13 feature\n",
    "- 출력 데이터 => 1 집값"
   ]
  },
  {
   "cell_type": "code",
   "execution_count": 9,
   "id": "b9762f80",
   "metadata": {},
   "outputs": [],
   "source": [
    "# NN Model의 layer를 층층이 담아서 관리하는 객체\n",
    "model = Sequential(name='Boston')"
   ]
  },
  {
   "cell_type": "code",
   "execution_count": 10,
   "id": "358b90ca",
   "metadata": {},
   "outputs": [],
   "source": [
    "# input_shape=(,)를 따로 떼어줘도\n",
    "# model.add ( Input(shape=(13,), name='input'))\n",
    "\n",
    "# Layer 추가 하기 (하나만 바로 출력하는 경우 - loss가 너무 큼)\n",
    "# if) 층 1개 => 즉, 바로 출력\n",
    "# model.add(Dense(1, activation='linear', input_shape=(13,)))\n",
    "\n",
    "# 회귀 => layer추가 후, 출력\n",
    "model.add(Dense(30, activation='relu', input_shape=(13,), name = 'hidden-1'))\n",
    "\n",
    "# 과적합을 해결하기 위해서 Dropout()  사용\n",
    "# 지정된 비용만큼 node를 비활성화\n",
    "# 30개 중 15개는 Drop 시키고 넘김\n",
    "model.add( Dropout(0.5) )\n",
    "model.add(Dense(10, activation='relu' , name = 'hidden-2'))\n",
    "\n",
    "# 회귀 => 출력\n",
    "model.add(Dense(1, activation='linear', name='output'))"
   ]
  },
  {
   "cell_type": "code",
   "execution_count": 11,
   "id": "f2f2a16d",
   "metadata": {},
   "outputs": [
    {
     "name": "stdout",
     "output_type": "stream",
     "text": [
      "Model: \"Boston\"\n",
      "_________________________________________________________________\n",
      " Layer (type)                Output Shape              Param #   \n",
      "=================================================================\n",
      " hidden-1 (Dense)            (None, 30)                420       \n",
      "                                                                 \n",
      " dropout (Dropout)           (None, 30)                0         \n",
      "                                                                 \n",
      " hidden-2 (Dense)            (None, 10)                310       \n",
      "                                                                 \n",
      " output (Dense)              (None, 1)                 11        \n",
      "                                                                 \n",
      "=================================================================\n",
      "Total params: 741\n",
      "Trainable params: 741\n",
      "Non-trainable params: 0\n",
      "_________________________________________________________________\n"
     ]
    }
   ],
   "source": [
    "# 모델 구성 확인\n",
    "model.summary()"
   ]
  },
  {
   "cell_type": "markdown",
   "id": "3c5241f4",
   "metadata": {},
   "source": [
    "### [2-2] 생성\n",
    "---\n",
    "- Sequential 클래스의 compile 메서드  \n",
    "  \n",
    "- 모델이 동작하기 위해서 필요한 설정\n",
    "    * 오차 계산 함수 설정       => loss  \n",
    "    - W, B 최적화 방식 설정     => optimizer  \n",
    "    - 모델의 성능 측정 항목 설정 => metrics  \n",
    "    \n",
    "- 파라미터 값들\n",
    "    * str 타입으로 입력 가능\n",
    "    * 객체 타입으로 입력 가능"
   ]
  },
  {
   "cell_type": "code",
   "execution_count": 12,
   "id": "3a40c43f",
   "metadata": {},
   "outputs": [],
   "source": [
    "model.compile(loss='mse', optimizer='adam', metrics=['accuracy'])\n",
    "# optimizer에 들어가는 것 여러개 띄워주고자 할 때 => shift + tab으로 적는 방식 보기"
   ]
  },
  {
   "cell_type": "markdown",
   "id": "9113d260",
   "metadata": {},
   "source": [
    "### [2-3] 학습\n",
    "---\n",
    "- fit() 메서드\n",
    "    * 파라미터\n",
    "    * 반환값 -> History 객체"
   ]
  },
  {
   "cell_type": "code",
   "execution_count": null,
   "id": "d6d68f3d",
   "metadata": {},
   "outputs": [],
   "source": []
  },
  {
   "cell_type": "code",
   "execution_count": 14,
   "id": "b9b61344",
   "metadata": {},
   "outputs": [],
   "source": [
    "from tensorflow.keras.callbacks import EarlyStopping\n",
    "# 검증 데이터에 대한 loss값 3번 연속 개선되지 않으면 학습 중지\n",
    "stopCB = EarlyStopping(monitor='val_loss', patience=3)\n",
    "\n",
    "# 많이 돌리더라도 원하는 수치에 도달하지 않을 수도 있으니"
   ]
  },
  {
   "cell_type": "code",
   "execution_count": 17,
   "id": "81911f76",
   "metadata": {
    "scrolled": true
   },
   "outputs": [
    {
     "name": "stdout",
     "output_type": "stream",
     "text": [
      "GPU를 사용한 학습\n",
      "Epoch 1/3\n",
      "41/41 [==============================] - 0s 6ms/step - loss: 1851.7629 - accuracy: 0.0000e+00 - val_loss: 141.6653 - val_accuracy: 0.0000e+00\n",
      "Epoch 2/3\n",
      "41/41 [==============================] - 0s 5ms/step - loss: 1252.0577 - accuracy: 0.0000e+00 - val_loss: 137.9150 - val_accuracy: 0.0000e+00\n",
      "Epoch 3/3\n",
      "41/41 [==============================] - 0s 5ms/step - loss: 899.5803 - accuracy: 0.0000e+00 - val_loss: 137.0550 - val_accuracy: 0.0000e+00\n"
     ]
    }
   ],
   "source": [
    "result = model.fit(X_train, y_train, epochs=3, batch_size = 10,\n",
    "                   validation_data=(X_test, y_test), callbacks=[stopCB])\n",
    "# epochs = 1      : 처음~끝까지 학습 횟수가 1이라는 것\n",
    "\n",
    "# batch_size = 12 : 학습량 크기\n",
    "# 아래의 13/13에서 13은 무엇일까 -> 404/13  13*32 -> 일단 다 \n",
    "# 배치 사이즈 10으로 바꾸면 => 404/10 = 40번 해야하는데 약간 부족 -> 41\n",
    "# 배치 사이즈 수치가 작을 수록, 학습량은 커지게 되겠지 -> epochs 아래의 숫자는 커진다는 것\n",
    "\n",
    "# validation_split : 학습 데이터의 일부를 검증용으로 분리 0.0 ~ 1.0\n",
    "# -> 쓰면 epochs 아래의 숫자가 줄어들겠지 -> 검증용으로 떼어버리니까\n",
    "# -> val에 대한 loss와 accuracy도 같이 나오겠지 => history에도 똑같이 담김\n",
    "\n",
    "# validation_data  : (테스트 데이터, 테스트 타겟)\n",
    "#                     data있으면 바로 넣어버리면 됨 (위의 것처럼)\n",
    "#                     미리 나눠 놓은게 없으면, validation_split=0.2, 이렇게 써서 학습시켜도 됨\n",
    "\n",
    "# callbacks : 학습 시, 발생하는 이벤트 처리 함수 등록\n",
    "# 계속 돌렸을 때, loss값이 증가/감소 하는 구간도 있음을 확인\n",
    "# -> fit(callbacks=None(기본값), )\n",
    "# -> 개선되는 지점 -> 임계점  (개선 안되는 지점에서 멈추게끔 만드는 파라미터들)\n",
    "# -> 이것과 비슷한 callbacks, 함수를 만들어줘야함\n",
    "# => 무조건 epochs를 많이 할 필요가 없게 만들어줌"
   ]
  },
  {
   "cell_type": "code",
   "execution_count": 28,
   "id": "5b61594a",
   "metadata": {},
   "outputs": [],
   "source": [
    "tf.keras.callbacks.EarlyStopping\n",
    "-> callback 상속  \n",
    "\n",
    "tf.keras.callbacks.EarlyStopping(\n",
    "    monitor='val_loss',\n",
    "    min_delta=0,\n",
    "    patience=0,         # 카운팅 넘버(횟수, 값)\n",
    "    verbose=0,\n",
    "    mode='auto',        # 오차(작아져야), 정확도(올라가야) => 바꿔줘야 함\n",
    "    baseline=None,\n",
    "    restore_best_weights=False\n",
    ")"
   ]
  },
  {
   "cell_type": "code",
   "execution_count": 44,
   "id": "c252182b",
   "metadata": {},
   "outputs": [
    {
     "data": {
      "text/plain": [
       "(keras.callbacks.History, <keras.callbacks.History at 0x22bdacee220>)"
      ]
     },
     "execution_count": 44,
     "metadata": {},
     "output_type": "execute_result"
    }
   ],
   "source": [
    "# 학습 후, 학습 결과 체크 => History 객체\n",
    "type(result), result\n",
    "\n",
    "# History 반환값\n",
    "# - 형태 : dict 형태\n",
    "# - 기본 : 학습데이터에 대한 loss 값 저장\n",
    "\n",
    "# => keras.callbacks.History  로 나옴\n",
    "# result만 찍으면, 객체 주소밖에 안나오징\n",
    "# result.history <= result. 까지 찍고 파라미터를 보셈 (Docstring) => history.params"
   ]
  },
  {
   "cell_type": "code",
   "execution_count": 45,
   "id": "55f73e95",
   "metadata": {},
   "outputs": [
    {
     "data": {
      "text/plain": [
       "{'verbose': 1, 'epochs': 3, 'steps': 41}"
      ]
     },
     "execution_count": 45,
     "metadata": {},
     "output_type": "execute_result"
    }
   ],
   "source": [
    "result.params\n",
    "# result.param (s를 빼면 배열 값으로 가져올 수 있음)"
   ]
  },
  {
   "cell_type": "code",
   "execution_count": 46,
   "id": "1b44811d",
   "metadata": {},
   "outputs": [
    {
     "data": {
      "text/plain": [
       "dict_keys(['loss', 'accuracy', 'val_loss', 'val_accuracy'])"
      ]
     },
     "execution_count": 46,
     "metadata": {},
     "output_type": "execute_result"
    }
   ],
   "source": [
    "result.history.keys()\n",
    "# 아무것도 metrics를 안 줬으니까, loss만 딱 뜨게 되겠지\n",
    "# 이후 'accuracy'를 넣어줘서 밑에 나온 것"
   ]
  },
  {
   "cell_type": "code",
   "execution_count": 47,
   "id": "a44dca41",
   "metadata": {},
   "outputs": [
    {
     "data": {
      "text/plain": [
       "([8139.49755859375, 4055.926025390625, 2736.16943359375], [0.0, 0.0, 0.0])"
      ]
     },
     "execution_count": 47,
     "metadata": {},
     "output_type": "execute_result"
    }
   ],
   "source": [
    "result.history['loss'], result.history['accuracy']\n",
    "# epoch=1이니까 1개뱎에 없겠지 (전체 1번 했으니까)\n",
    "# epochs=3으로 바꾼 후 => 3개가 떴음\n",
    "\n",
    "# => 훈련과 검증 값을 비교해볼 수도 있겠지?\n",
    "# metrics=['accuracy']를 넣었으니 뜨겠지?"
   ]
  },
  {
   "cell_type": "code",
   "execution_count": 48,
   "id": "0692d86b",
   "metadata": {},
   "outputs": [
    {
     "data": {
      "image/png": "[encoded data removed]",
      "text/plain": [
       "<Figure size 432x288 with 1 Axes>"
      ]
     },
     "metadata": {
      "needs_background": "light"
     },
     "output_type": "display_data"
    }
   ],
   "source": [
    "### 시각화\n",
    "import matplotlib.pyplot as plt\n",
    "plt.plot(result.epoch, result.history['loss'], label='loss')\n",
    "# plt.plot(result.epoch, result.history['accuracy'], label='accuracy')\n",
    "plt.plot(result.epoch, result.history['val_loss'], label='val_loss')\n",
    "plt.legend()\n",
    "plt.show()"
   ]
  },
  {
   "cell_type": "code",
   "execution_count": 49,
   "id": "b2ccfa11",
   "metadata": {},
   "outputs": [],
   "source": [
    "# 하나는 훈련 데이터에 대한 것, 하나는 검증 데이터에 대한 것\n",
    "# -> 범례넣고 비교해보면 \n",
    "\n",
    "# 각 나타내는 loss나 accuracy 등 뭐가 높은게 더 좋은지 인지한 상태에서 비교\n",
    "# epoch의 값을 "
   ]
  },
  {
   "cell_type": "markdown",
   "id": "49bc6926",
   "metadata": {},
   "source": [
    "### [2-4] 평가\n",
    "---\n",
    "- evaluate() 메서드\n",
    "    - 파라미터 : test_data, test_target\n",
    "    - 반환값 : loss, compile()의 metrics에서 설정한 항목값\n",
    "\n",
    "- History 반환값\n",
    "  - loss, accuracy에서의 성능 지표값"
   ]
  },
  {
   "cell_type": "code",
   "execution_count": 50,
   "id": "30aef227",
   "metadata": {},
   "outputs": [
    {
     "name": "stdout",
     "output_type": "stream",
     "text": [
      "4/4 [==============================] - 0s 667us/step - loss: 184.7586 - accuracy: 0.0000e+00\n"
     ]
    },
    {
     "data": {
      "text/plain": [
       "[184.75857543945312, 0.0]"
      ]
     },
     "execution_count": 50,
     "metadata": {},
     "output_type": "execute_result"
    }
   ],
   "source": [
    "eRet = model.evaluate(X_test, y_test)\n",
    "# loss value & metrics values 가 반환됨\n",
    "\n",
    "eRet\n",
    "# loss값, accuracy값"
   ]
  },
  {
   "cell_type": "markdown",
   "id": "b15c5237",
   "metadata": {},
   "source": [
    "### [ 2-5 ] 예측\n",
    "---\n",
    "- predict()"
   ]
  },
  {
   "cell_type": "code",
   "execution_count": 51,
   "id": "af27b556",
   "metadata": {},
   "outputs": [
    {
     "name": "stdout",
     "output_type": "stream",
     "text": [
      "1/1 [==============================] - 0s 59ms/step\n"
     ]
    },
    {
     "data": {
      "text/plain": [
       "array([[31.525204]], dtype=float32)"
      ]
     },
     "execution_count": 51,
     "metadata": {},
     "output_type": "execute_result"
    }
   ],
   "source": [
    "# 훈련/검증/테스트에 쓰이지 않는 새로운 data를 입력해서 predict()로 예측값을 구하도록\n",
    "model.predict(X_train[:1])"
   ]
  },
  {
   "cell_type": "code",
   "execution_count": null,
   "id": "9070646e",
   "metadata": {},
   "outputs": [],
   "source": []
  }
 ],
 "metadata": {
  "kernelspec": {
   "display_name": "Python 3.11.0 64-bit",
   "language": "python",
   "name": "python3"
  },
  "language_info": {
   "codemirror_mode": {
    "name": "ipython",
    "version": 3
   },
   "file_extension": ".py",
   "mimetype": "text/x-python",
   "name": "python",
   "nbconvert_exporter": "python",
   "pygments_lexer": "ipython3",
   "version": "3.11.0"
  },
  "vscode": {
   "interpreter": {
    "hash": "25334c1ec4fe8ade4d2de16036465563188327fab73b93d66eced48be3141c83"
   }
  }
 },
 "nbformat": 4,
 "nbformat_minor": 5
}
