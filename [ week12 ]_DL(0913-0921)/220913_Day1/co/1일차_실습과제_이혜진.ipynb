{
 "cells": [
  {
   "cell_type": "code",
   "execution_count": 577,
   "id": "00eb89bd",
   "metadata": {},
   "outputs": [],
   "source": [
    "from urllib.request import Request, urlopen, urlretrieve"
   ]
  },
  {
   "cell_type": "code",
   "execution_count": 578,
   "id": "7ec18bd1",
   "metadata": {},
   "outputs": [
    {
     "data": {
      "text/plain": [
       "<function urllib.request.urlretrieve(url, filename=None, reporthook=None, data=None)>"
      ]
     },
     "execution_count": 578,
     "metadata": {},
     "output_type": "execute_result"
    }
   ],
   "source": [
    "urllib.request.urlretrieve"
   ]
  },
  {
   "cell_type": "code",
   "execution_count": 579,
   "id": "22008008",
   "metadata": {},
   "outputs": [],
   "source": [
    "URL = 'https://archive.ics.uci.edu/ml/machine-learning-databases/auto-mpg/auto-mpg.data'"
   ]
  },
  {
   "cell_type": "code",
   "execution_count": 580,
   "id": "eb73db51",
   "metadata": {},
   "outputs": [],
   "source": [
    "FILE = './auto-mpg.data'"
   ]
  },
  {
   "cell_type": "code",
   "execution_count": 581,
   "id": "fd6d857a",
   "metadata": {},
   "outputs": [],
   "source": [
    "ret = urlretrieve(URL,FILE) # 파일로 그대로 저장 "
   ]
  },
  {
   "cell_type": "code",
   "execution_count": 582,
   "id": "dd82528e",
   "metadata": {},
   "outputs": [
    {
     "data": {
      "text/plain": [
       "('./auto-mpg.data', <http.client.HTTPMessage at 0x26a1a79db50>)"
      ]
     },
     "execution_count": 582,
     "metadata": {},
     "output_type": "execute_result"
    }
   ],
   "source": [
    "ret"
   ]
  },
  {
   "cell_type": "code",
   "execution_count": 583,
   "id": "f398e868",
   "metadata": {},
   "outputs": [],
   "source": [
    "# re(정규표현식) -> \\s : 화이트 스페이스 \n",
    "import pandas as pd\n",
    "\n",
    "df = pd.read_csv(URL, sep='\\s+', header = None)"
   ]
  },
  {
   "cell_type": "code",
   "execution_count": 584,
   "id": "b5395414",
   "metadata": {},
   "outputs": [
    {
     "data": {
      "text/html": [
       "<div>\n",
       "<style scoped>\n",
       "    .dataframe tbody tr th:only-of-type {\n",
       "        vertical-align: middle;\n",
       "    }\n",
       "\n",
       "    .dataframe tbody tr th {\n",
       "        vertical-align: top;\n",
       "    }\n",
       "\n",
       "    .dataframe thead th {\n",
       "        text-align: right;\n",
       "    }\n",
       "</style>\n",
       "<table border=\"1\" class=\"dataframe\">\n",
       "  <thead>\n",
       "    <tr style=\"text-align: right;\">\n",
       "      <th></th>\n",
       "      <th>0</th>\n",
       "      <th>1</th>\n",
       "      <th>2</th>\n",
       "      <th>3</th>\n",
       "      <th>4</th>\n",
       "      <th>5</th>\n",
       "      <th>6</th>\n",
       "      <th>7</th>\n",
       "      <th>8</th>\n",
       "    </tr>\n",
       "  </thead>\n",
       "  <tbody>\n",
       "    <tr>\n",
       "      <th>0</th>\n",
       "      <td>18.0</td>\n",
       "      <td>8</td>\n",
       "      <td>307.0</td>\n",
       "      <td>130.0</td>\n",
       "      <td>3504.0</td>\n",
       "      <td>12.0</td>\n",
       "      <td>70</td>\n",
       "      <td>1</td>\n",
       "      <td>chevrolet chevelle malibu</td>\n",
       "    </tr>\n",
       "    <tr>\n",
       "      <th>1</th>\n",
       "      <td>15.0</td>\n",
       "      <td>8</td>\n",
       "      <td>350.0</td>\n",
       "      <td>165.0</td>\n",
       "      <td>3693.0</td>\n",
       "      <td>11.5</td>\n",
       "      <td>70</td>\n",
       "      <td>1</td>\n",
       "      <td>buick skylark 320</td>\n",
       "    </tr>\n",
       "    <tr>\n",
       "      <th>2</th>\n",
       "      <td>18.0</td>\n",
       "      <td>8</td>\n",
       "      <td>318.0</td>\n",
       "      <td>150.0</td>\n",
       "      <td>3436.0</td>\n",
       "      <td>11.0</td>\n",
       "      <td>70</td>\n",
       "      <td>1</td>\n",
       "      <td>plymouth satellite</td>\n",
       "    </tr>\n",
       "    <tr>\n",
       "      <th>3</th>\n",
       "      <td>16.0</td>\n",
       "      <td>8</td>\n",
       "      <td>304.0</td>\n",
       "      <td>150.0</td>\n",
       "      <td>3433.0</td>\n",
       "      <td>12.0</td>\n",
       "      <td>70</td>\n",
       "      <td>1</td>\n",
       "      <td>amc rebel sst</td>\n",
       "    </tr>\n",
       "    <tr>\n",
       "      <th>4</th>\n",
       "      <td>17.0</td>\n",
       "      <td>8</td>\n",
       "      <td>302.0</td>\n",
       "      <td>140.0</td>\n",
       "      <td>3449.0</td>\n",
       "      <td>10.5</td>\n",
       "      <td>70</td>\n",
       "      <td>1</td>\n",
       "      <td>ford torino</td>\n",
       "    </tr>\n",
       "  </tbody>\n",
       "</table>\n",
       "</div>"
      ],
      "text/plain": [
       "      0  1      2      3       4     5   6  7                          8\n",
       "0  18.0  8  307.0  130.0  3504.0  12.0  70  1  chevrolet chevelle malibu\n",
       "1  15.0  8  350.0  165.0  3693.0  11.5  70  1          buick skylark 320\n",
       "2  18.0  8  318.0  150.0  3436.0  11.0  70  1         plymouth satellite\n",
       "3  16.0  8  304.0  150.0  3433.0  12.0  70  1              amc rebel sst\n",
       "4  17.0  8  302.0  140.0  3449.0  10.5  70  1                ford torino"
      ]
     },
     "execution_count": 584,
     "metadata": {},
     "output_type": "execute_result"
    }
   ],
   "source": [
    "df.head()"
   ]
  },
  {
   "cell_type": "code",
   "execution_count": 585,
   "id": "bb396595",
   "metadata": {},
   "outputs": [
    {
     "name": "stdout",
     "output_type": "stream",
     "text": [
      "<class 'pandas.core.frame.DataFrame'>\n",
      "RangeIndex: 398 entries, 0 to 397\n",
      "Data columns (total 9 columns):\n",
      " #   Column  Non-Null Count  Dtype  \n",
      "---  ------  --------------  -----  \n",
      " 0   0       398 non-null    float64\n",
      " 1   1       398 non-null    int64  \n",
      " 2   2       398 non-null    float64\n",
      " 3   3       398 non-null    object \n",
      " 4   4       398 non-null    float64\n",
      " 5   5       398 non-null    float64\n",
      " 6   6       398 non-null    int64  \n",
      " 7   7       398 non-null    int64  \n",
      " 8   8       398 non-null    object \n",
      "dtypes: float64(4), int64(3), object(2)\n",
      "memory usage: 28.1+ KB\n"
     ]
    }
   ],
   "source": [
    "df.info() # horsepower -> object에서 int로 바꿔주기 "
   ]
  },
  {
   "cell_type": "code",
   "execution_count": 586,
   "id": "ac2861cd",
   "metadata": {},
   "outputs": [
    {
     "data": {
      "text/plain": [
       "(398, 9)"
      ]
     },
     "execution_count": 586,
     "metadata": {},
     "output_type": "execute_result"
    }
   ],
   "source": [
    "df.shape"
   ]
  },
  {
   "cell_type": "code",
   "execution_count": 587,
   "id": "0a02017c",
   "metadata": {},
   "outputs": [],
   "source": [
    "# 컬럼명 변경 \n",
    "df.columns = ['mpg', 'cylinders', 'displacement', 'horsepower','weight','acceleration','model year','origin','car name']"
   ]
  },
  {
   "cell_type": "code",
   "execution_count": 588,
   "id": "fc1eda47",
   "metadata": {},
   "outputs": [
    {
     "data": {
      "text/html": [
       "<div>\n",
       "<style scoped>\n",
       "    .dataframe tbody tr th:only-of-type {\n",
       "        vertical-align: middle;\n",
       "    }\n",
       "\n",
       "    .dataframe tbody tr th {\n",
       "        vertical-align: top;\n",
       "    }\n",
       "\n",
       "    .dataframe thead th {\n",
       "        text-align: right;\n",
       "    }\n",
       "</style>\n",
       "<table border=\"1\" class=\"dataframe\">\n",
       "  <thead>\n",
       "    <tr style=\"text-align: right;\">\n",
       "      <th></th>\n",
       "      <th>mpg</th>\n",
       "      <th>kml</th>\n",
       "      <th>cylinders</th>\n",
       "      <th>displacement</th>\n",
       "      <th>horsepower</th>\n",
       "      <th>weight</th>\n",
       "      <th>acceleration</th>\n",
       "      <th>model year</th>\n",
       "      <th>origin</th>\n",
       "      <th>car name</th>\n",
       "    </tr>\n",
       "  </thead>\n",
       "  <tbody>\n",
       "    <tr>\n",
       "      <th>0</th>\n",
       "      <td>18.0</td>\n",
       "      <td>7.650</td>\n",
       "      <td>8</td>\n",
       "      <td>307.0</td>\n",
       "      <td>130.0</td>\n",
       "      <td>3504.0</td>\n",
       "      <td>12.0</td>\n",
       "      <td>70</td>\n",
       "      <td>1</td>\n",
       "      <td>chevrolet chevelle malibu</td>\n",
       "    </tr>\n",
       "    <tr>\n",
       "      <th>1</th>\n",
       "      <td>15.0</td>\n",
       "      <td>6.375</td>\n",
       "      <td>8</td>\n",
       "      <td>350.0</td>\n",
       "      <td>165.0</td>\n",
       "      <td>3693.0</td>\n",
       "      <td>11.5</td>\n",
       "      <td>70</td>\n",
       "      <td>1</td>\n",
       "      <td>buick skylark 320</td>\n",
       "    </tr>\n",
       "    <tr>\n",
       "      <th>2</th>\n",
       "      <td>18.0</td>\n",
       "      <td>7.650</td>\n",
       "      <td>8</td>\n",
       "      <td>318.0</td>\n",
       "      <td>150.0</td>\n",
       "      <td>3436.0</td>\n",
       "      <td>11.0</td>\n",
       "      <td>70</td>\n",
       "      <td>1</td>\n",
       "      <td>plymouth satellite</td>\n",
       "    </tr>\n",
       "    <tr>\n",
       "      <th>3</th>\n",
       "      <td>16.0</td>\n",
       "      <td>6.800</td>\n",
       "      <td>8</td>\n",
       "      <td>304.0</td>\n",
       "      <td>150.0</td>\n",
       "      <td>3433.0</td>\n",
       "      <td>12.0</td>\n",
       "      <td>70</td>\n",
       "      <td>1</td>\n",
       "      <td>amc rebel sst</td>\n",
       "    </tr>\n",
       "    <tr>\n",
       "      <th>4</th>\n",
       "      <td>17.0</td>\n",
       "      <td>7.225</td>\n",
       "      <td>8</td>\n",
       "      <td>302.0</td>\n",
       "      <td>140.0</td>\n",
       "      <td>3449.0</td>\n",
       "      <td>10.5</td>\n",
       "      <td>70</td>\n",
       "      <td>1</td>\n",
       "      <td>ford torino</td>\n",
       "    </tr>\n",
       "    <tr>\n",
       "      <th>...</th>\n",
       "      <td>...</td>\n",
       "      <td>...</td>\n",
       "      <td>...</td>\n",
       "      <td>...</td>\n",
       "      <td>...</td>\n",
       "      <td>...</td>\n",
       "      <td>...</td>\n",
       "      <td>...</td>\n",
       "      <td>...</td>\n",
       "      <td>...</td>\n",
       "    </tr>\n",
       "    <tr>\n",
       "      <th>393</th>\n",
       "      <td>27.0</td>\n",
       "      <td>11.475</td>\n",
       "      <td>4</td>\n",
       "      <td>140.0</td>\n",
       "      <td>86.00</td>\n",
       "      <td>2790.0</td>\n",
       "      <td>15.6</td>\n",
       "      <td>82</td>\n",
       "      <td>1</td>\n",
       "      <td>ford mustang gl</td>\n",
       "    </tr>\n",
       "    <tr>\n",
       "      <th>394</th>\n",
       "      <td>44.0</td>\n",
       "      <td>18.700</td>\n",
       "      <td>4</td>\n",
       "      <td>97.0</td>\n",
       "      <td>52.00</td>\n",
       "      <td>2130.0</td>\n",
       "      <td>24.6</td>\n",
       "      <td>82</td>\n",
       "      <td>2</td>\n",
       "      <td>vw pickup</td>\n",
       "    </tr>\n",
       "    <tr>\n",
       "      <th>395</th>\n",
       "      <td>32.0</td>\n",
       "      <td>13.600</td>\n",
       "      <td>4</td>\n",
       "      <td>135.0</td>\n",
       "      <td>84.00</td>\n",
       "      <td>2295.0</td>\n",
       "      <td>11.6</td>\n",
       "      <td>82</td>\n",
       "      <td>1</td>\n",
       "      <td>dodge rampage</td>\n",
       "    </tr>\n",
       "    <tr>\n",
       "      <th>396</th>\n",
       "      <td>28.0</td>\n",
       "      <td>11.900</td>\n",
       "      <td>4</td>\n",
       "      <td>120.0</td>\n",
       "      <td>79.00</td>\n",
       "      <td>2625.0</td>\n",
       "      <td>18.6</td>\n",
       "      <td>82</td>\n",
       "      <td>1</td>\n",
       "      <td>ford ranger</td>\n",
       "    </tr>\n",
       "    <tr>\n",
       "      <th>397</th>\n",
       "      <td>31.0</td>\n",
       "      <td>13.175</td>\n",
       "      <td>4</td>\n",
       "      <td>119.0</td>\n",
       "      <td>82.00</td>\n",
       "      <td>2720.0</td>\n",
       "      <td>19.4</td>\n",
       "      <td>82</td>\n",
       "      <td>1</td>\n",
       "      <td>chevy s-10</td>\n",
       "    </tr>\n",
       "  </tbody>\n",
       "</table>\n",
       "<p>398 rows × 10 columns</p>\n",
       "</div>"
      ],
      "text/plain": [
       "      mpg     kml  cylinders  displacement horsepower  weight  acceleration  \\\n",
       "0    18.0   7.650          8         307.0      130.0  3504.0          12.0   \n",
       "1    15.0   6.375          8         350.0      165.0  3693.0          11.5   \n",
       "2    18.0   7.650          8         318.0      150.0  3436.0          11.0   \n",
       "3    16.0   6.800          8         304.0      150.0  3433.0          12.0   \n",
       "4    17.0   7.225          8         302.0      140.0  3449.0          10.5   \n",
       "..    ...     ...        ...           ...        ...     ...           ...   \n",
       "393  27.0  11.475          4         140.0      86.00  2790.0          15.6   \n",
       "394  44.0  18.700          4          97.0      52.00  2130.0          24.6   \n",
       "395  32.0  13.600          4         135.0      84.00  2295.0          11.6   \n",
       "396  28.0  11.900          4         120.0      79.00  2625.0          18.6   \n",
       "397  31.0  13.175          4         119.0      82.00  2720.0          19.4   \n",
       "\n",
       "     model year  origin                   car name  \n",
       "0            70       1  chevrolet chevelle malibu  \n",
       "1            70       1          buick skylark 320  \n",
       "2            70       1         plymouth satellite  \n",
       "3            70       1              amc rebel sst  \n",
       "4            70       1                ford torino  \n",
       "..          ...     ...                        ...  \n",
       "393          82       1            ford mustang gl  \n",
       "394          82       2                  vw pickup  \n",
       "395          82       1              dodge rampage  \n",
       "396          82       1                ford ranger  \n",
       "397          82       1                 chevy s-10  \n",
       "\n",
       "[398 rows x 10 columns]"
      ]
     },
     "execution_count": 588,
     "metadata": {},
     "output_type": "execute_result"
    }
   ],
   "source": [
    "# kml\n",
    "df.insert(1, 'kml', df['mpg']*0.425)\n",
    "df"
   ]
  },
  {
   "cell_type": "markdown",
   "id": "0f8e3c8a",
   "metadata": {},
   "source": [
    "## horsepower 이상치 제거"
   ]
  },
  {
   "cell_type": "code",
   "execution_count": 589,
   "id": "de95ba30",
   "metadata": {},
   "outputs": [
    {
     "data": {
      "text/html": [
       "<div>\n",
       "<style scoped>\n",
       "    .dataframe tbody tr th:only-of-type {\n",
       "        vertical-align: middle;\n",
       "    }\n",
       "\n",
       "    .dataframe tbody tr th {\n",
       "        vertical-align: top;\n",
       "    }\n",
       "\n",
       "    .dataframe thead th {\n",
       "        text-align: right;\n",
       "    }\n",
       "</style>\n",
       "<table border=\"1\" class=\"dataframe\">\n",
       "  <thead>\n",
       "    <tr style=\"text-align: right;\">\n",
       "      <th></th>\n",
       "      <th>mpg</th>\n",
       "      <th>kml</th>\n",
       "      <th>cylinders</th>\n",
       "      <th>displacement</th>\n",
       "      <th>horsepower</th>\n",
       "      <th>weight</th>\n",
       "      <th>acceleration</th>\n",
       "      <th>model year</th>\n",
       "      <th>origin</th>\n",
       "      <th>car name</th>\n",
       "    </tr>\n",
       "  </thead>\n",
       "  <tbody>\n",
       "    <tr>\n",
       "      <th>32</th>\n",
       "      <td>25.0</td>\n",
       "      <td>10.6250</td>\n",
       "      <td>4</td>\n",
       "      <td>98.0</td>\n",
       "      <td>?</td>\n",
       "      <td>2046.0</td>\n",
       "      <td>19.0</td>\n",
       "      <td>71</td>\n",
       "      <td>1</td>\n",
       "      <td>ford pinto</td>\n",
       "    </tr>\n",
       "    <tr>\n",
       "      <th>126</th>\n",
       "      <td>21.0</td>\n",
       "      <td>8.9250</td>\n",
       "      <td>6</td>\n",
       "      <td>200.0</td>\n",
       "      <td>?</td>\n",
       "      <td>2875.0</td>\n",
       "      <td>17.0</td>\n",
       "      <td>74</td>\n",
       "      <td>1</td>\n",
       "      <td>ford maverick</td>\n",
       "    </tr>\n",
       "    <tr>\n",
       "      <th>330</th>\n",
       "      <td>40.9</td>\n",
       "      <td>17.3825</td>\n",
       "      <td>4</td>\n",
       "      <td>85.0</td>\n",
       "      <td>?</td>\n",
       "      <td>1835.0</td>\n",
       "      <td>17.3</td>\n",
       "      <td>80</td>\n",
       "      <td>2</td>\n",
       "      <td>renault lecar deluxe</td>\n",
       "    </tr>\n",
       "    <tr>\n",
       "      <th>336</th>\n",
       "      <td>23.6</td>\n",
       "      <td>10.0300</td>\n",
       "      <td>4</td>\n",
       "      <td>140.0</td>\n",
       "      <td>?</td>\n",
       "      <td>2905.0</td>\n",
       "      <td>14.3</td>\n",
       "      <td>80</td>\n",
       "      <td>1</td>\n",
       "      <td>ford mustang cobra</td>\n",
       "    </tr>\n",
       "    <tr>\n",
       "      <th>354</th>\n",
       "      <td>34.5</td>\n",
       "      <td>14.6625</td>\n",
       "      <td>4</td>\n",
       "      <td>100.0</td>\n",
       "      <td>?</td>\n",
       "      <td>2320.0</td>\n",
       "      <td>15.8</td>\n",
       "      <td>81</td>\n",
       "      <td>2</td>\n",
       "      <td>renault 18i</td>\n",
       "    </tr>\n",
       "    <tr>\n",
       "      <th>374</th>\n",
       "      <td>23.0</td>\n",
       "      <td>9.7750</td>\n",
       "      <td>4</td>\n",
       "      <td>151.0</td>\n",
       "      <td>?</td>\n",
       "      <td>3035.0</td>\n",
       "      <td>20.5</td>\n",
       "      <td>82</td>\n",
       "      <td>1</td>\n",
       "      <td>amc concord dl</td>\n",
       "    </tr>\n",
       "  </tbody>\n",
       "</table>\n",
       "</div>"
      ],
      "text/plain": [
       "      mpg      kml  cylinders  displacement horsepower  weight  acceleration  \\\n",
       "32   25.0  10.6250          4          98.0          ?  2046.0          19.0   \n",
       "126  21.0   8.9250          6         200.0          ?  2875.0          17.0   \n",
       "330  40.9  17.3825          4          85.0          ?  1835.0          17.3   \n",
       "336  23.6  10.0300          4         140.0          ?  2905.0          14.3   \n",
       "354  34.5  14.6625          4         100.0          ?  2320.0          15.8   \n",
       "374  23.0   9.7750          4         151.0          ?  3035.0          20.5   \n",
       "\n",
       "     model year  origin              car name  \n",
       "32           71       1            ford pinto  \n",
       "126          74       1         ford maverick  \n",
       "330          80       2  renault lecar deluxe  \n",
       "336          80       1    ford mustang cobra  \n",
       "354          81       2           renault 18i  \n",
       "374          82       1        amc concord dl  "
      ]
     },
     "execution_count": 589,
     "metadata": {},
     "output_type": "execute_result"
    }
   ],
   "source": [
    "# horsepower 이상치 제거 \n",
    "df[df['horsepower']=='?']"
   ]
  },
  {
   "cell_type": "code",
   "execution_count": 590,
   "id": "c5298891",
   "metadata": {},
   "outputs": [
    {
     "data": {
      "text/plain": [
       "6"
      ]
     },
     "execution_count": 590,
     "metadata": {},
     "output_type": "execute_result"
    }
   ],
   "source": [
    "# '?' string이 있대서 확인 후 없애줌    \n",
    "sum(df.horsepower=='?')"
   ]
  },
  {
   "cell_type": "code",
   "execution_count": 591,
   "id": "6f65c888",
   "metadata": {},
   "outputs": [],
   "source": [
    "df=df[df.horsepower!='?']"
   ]
  },
  {
   "cell_type": "code",
   "execution_count": 592,
   "id": "cf49e0f6",
   "metadata": {},
   "outputs": [
    {
     "name": "stderr",
     "output_type": "stream",
     "text": [
      "C:\\Users\\User\\AppData\\Local\\Temp\\ipykernel_15088\\2086782923.py:1: SettingWithCopyWarning: \n",
      "A value is trying to be set on a copy of a slice from a DataFrame.\n",
      "Try using .loc[row_indexer,col_indexer] = value instead\n",
      "\n",
      "See the caveats in the documentation: https://pandas.pydata.org/pandas-docs/stable/user_guide/indexing.html#returning-a-view-versus-a-copy\n",
      "  df.horsepower=df['horsepower'].astype('float64')\n"
     ]
    }
   ],
   "source": [
    "df.horsepower=df['horsepower'].astype('float64')"
   ]
  },
  {
   "cell_type": "code",
   "execution_count": 593,
   "id": "cf3ba48b",
   "metadata": {},
   "outputs": [
    {
     "data": {
      "text/plain": [
       "(392, 10)"
      ]
     },
     "execution_count": 593,
     "metadata": {},
     "output_type": "execute_result"
    }
   ],
   "source": [
    "# 6행 삭제해서 392\n",
    "df.shape"
   ]
  },
  {
   "cell_type": "code",
   "execution_count": 594,
   "id": "3fb39e94",
   "metadata": {},
   "outputs": [
    {
     "name": "stderr",
     "output_type": "stream",
     "text": [
      "C:\\Users\\User\\AppData\\Local\\Temp\\ipykernel_15088\\1197504229.py:2: SettingWithCopyWarning: \n",
      "A value is trying to be set on a copy of a slice from a DataFrame.\n",
      "Try using .loc[row_indexer,col_indexer] = value instead\n",
      "\n",
      "See the caveats in the documentation: https://pandas.pydata.org/pandas-docs/stable/user_guide/indexing.html#returning-a-view-versus-a-copy\n",
      "  df.horsepower=df.horsepower.astype('int64')\n"
     ]
    }
   ],
   "source": [
    "# int64로 변환\n",
    "df.horsepower=df.horsepower.astype('int64')"
   ]
  },
  {
   "cell_type": "code",
   "execution_count": 595,
   "id": "0adb5264",
   "metadata": {},
   "outputs": [
    {
     "data": {
      "text/html": [
       "<div>\n",
       "<style scoped>\n",
       "    .dataframe tbody tr th:only-of-type {\n",
       "        vertical-align: middle;\n",
       "    }\n",
       "\n",
       "    .dataframe tbody tr th {\n",
       "        vertical-align: top;\n",
       "    }\n",
       "\n",
       "    .dataframe thead th {\n",
       "        text-align: right;\n",
       "    }\n",
       "</style>\n",
       "<table border=\"1\" class=\"dataframe\">\n",
       "  <thead>\n",
       "    <tr style=\"text-align: right;\">\n",
       "      <th></th>\n",
       "      <th>mpg</th>\n",
       "      <th>kml</th>\n",
       "      <th>cylinders</th>\n",
       "      <th>displacement</th>\n",
       "      <th>horsepower</th>\n",
       "      <th>weight</th>\n",
       "      <th>acceleration</th>\n",
       "      <th>model year</th>\n",
       "      <th>origin</th>\n",
       "    </tr>\n",
       "  </thead>\n",
       "  <tbody>\n",
       "    <tr>\n",
       "      <th>count</th>\n",
       "      <td>392.000000</td>\n",
       "      <td>392.000000</td>\n",
       "      <td>392.000000</td>\n",
       "      <td>392.000000</td>\n",
       "      <td>392.000000</td>\n",
       "      <td>392.000000</td>\n",
       "      <td>392.000000</td>\n",
       "      <td>392.000000</td>\n",
       "      <td>392.000000</td>\n",
       "    </tr>\n",
       "    <tr>\n",
       "      <th>mean</th>\n",
       "      <td>23.445918</td>\n",
       "      <td>9.964515</td>\n",
       "      <td>5.471939</td>\n",
       "      <td>194.411990</td>\n",
       "      <td>104.469388</td>\n",
       "      <td>2977.584184</td>\n",
       "      <td>15.541327</td>\n",
       "      <td>75.979592</td>\n",
       "      <td>1.576531</td>\n",
       "    </tr>\n",
       "    <tr>\n",
       "      <th>std</th>\n",
       "      <td>7.805007</td>\n",
       "      <td>3.317128</td>\n",
       "      <td>1.705783</td>\n",
       "      <td>104.644004</td>\n",
       "      <td>38.491160</td>\n",
       "      <td>849.402560</td>\n",
       "      <td>2.758864</td>\n",
       "      <td>3.683737</td>\n",
       "      <td>0.805518</td>\n",
       "    </tr>\n",
       "    <tr>\n",
       "      <th>min</th>\n",
       "      <td>9.000000</td>\n",
       "      <td>3.825000</td>\n",
       "      <td>3.000000</td>\n",
       "      <td>68.000000</td>\n",
       "      <td>46.000000</td>\n",
       "      <td>1613.000000</td>\n",
       "      <td>8.000000</td>\n",
       "      <td>70.000000</td>\n",
       "      <td>1.000000</td>\n",
       "    </tr>\n",
       "    <tr>\n",
       "      <th>25%</th>\n",
       "      <td>17.000000</td>\n",
       "      <td>7.225000</td>\n",
       "      <td>4.000000</td>\n",
       "      <td>105.000000</td>\n",
       "      <td>75.000000</td>\n",
       "      <td>2225.250000</td>\n",
       "      <td>13.775000</td>\n",
       "      <td>73.000000</td>\n",
       "      <td>1.000000</td>\n",
       "    </tr>\n",
       "    <tr>\n",
       "      <th>50%</th>\n",
       "      <td>22.750000</td>\n",
       "      <td>9.668750</td>\n",
       "      <td>4.000000</td>\n",
       "      <td>151.000000</td>\n",
       "      <td>93.500000</td>\n",
       "      <td>2803.500000</td>\n",
       "      <td>15.500000</td>\n",
       "      <td>76.000000</td>\n",
       "      <td>1.000000</td>\n",
       "    </tr>\n",
       "    <tr>\n",
       "      <th>75%</th>\n",
       "      <td>29.000000</td>\n",
       "      <td>12.325000</td>\n",
       "      <td>8.000000</td>\n",
       "      <td>275.750000</td>\n",
       "      <td>126.000000</td>\n",
       "      <td>3614.750000</td>\n",
       "      <td>17.025000</td>\n",
       "      <td>79.000000</td>\n",
       "      <td>2.000000</td>\n",
       "    </tr>\n",
       "    <tr>\n",
       "      <th>max</th>\n",
       "      <td>46.600000</td>\n",
       "      <td>19.805000</td>\n",
       "      <td>8.000000</td>\n",
       "      <td>455.000000</td>\n",
       "      <td>230.000000</td>\n",
       "      <td>5140.000000</td>\n",
       "      <td>24.800000</td>\n",
       "      <td>82.000000</td>\n",
       "      <td>3.000000</td>\n",
       "    </tr>\n",
       "  </tbody>\n",
       "</table>\n",
       "</div>"
      ],
      "text/plain": [
       "              mpg         kml   cylinders  displacement  horsepower  \\\n",
       "count  392.000000  392.000000  392.000000    392.000000  392.000000   \n",
       "mean    23.445918    9.964515    5.471939    194.411990  104.469388   \n",
       "std      7.805007    3.317128    1.705783    104.644004   38.491160   \n",
       "min      9.000000    3.825000    3.000000     68.000000   46.000000   \n",
       "25%     17.000000    7.225000    4.000000    105.000000   75.000000   \n",
       "50%     22.750000    9.668750    4.000000    151.000000   93.500000   \n",
       "75%     29.000000   12.325000    8.000000    275.750000  126.000000   \n",
       "max     46.600000   19.805000    8.000000    455.000000  230.000000   \n",
       "\n",
       "            weight  acceleration  model year      origin  \n",
       "count   392.000000    392.000000  392.000000  392.000000  \n",
       "mean   2977.584184     15.541327   75.979592    1.576531  \n",
       "std     849.402560      2.758864    3.683737    0.805518  \n",
       "min    1613.000000      8.000000   70.000000    1.000000  \n",
       "25%    2225.250000     13.775000   73.000000    1.000000  \n",
       "50%    2803.500000     15.500000   76.000000    1.000000  \n",
       "75%    3614.750000     17.025000   79.000000    2.000000  \n",
       "max    5140.000000     24.800000   82.000000    3.000000  "
      ]
     },
     "execution_count": 595,
     "metadata": {},
     "output_type": "execute_result"
    }
   ],
   "source": [
    "df.describe()"
   ]
  },
  {
   "cell_type": "code",
   "execution_count": 596,
   "id": "ec2be252",
   "metadata": {},
   "outputs": [
    {
     "data": {
      "text/html": [
       "<div>\n",
       "<style scoped>\n",
       "    .dataframe tbody tr th:only-of-type {\n",
       "        vertical-align: middle;\n",
       "    }\n",
       "\n",
       "    .dataframe tbody tr th {\n",
       "        vertical-align: top;\n",
       "    }\n",
       "\n",
       "    .dataframe thead th {\n",
       "        text-align: right;\n",
       "    }\n",
       "</style>\n",
       "<table border=\"1\" class=\"dataframe\">\n",
       "  <thead>\n",
       "    <tr style=\"text-align: right;\">\n",
       "      <th></th>\n",
       "      <th>mpg</th>\n",
       "      <th>kml</th>\n",
       "      <th>cylinders</th>\n",
       "      <th>displacement</th>\n",
       "      <th>horsepower</th>\n",
       "      <th>weight</th>\n",
       "      <th>acceleration</th>\n",
       "      <th>model year</th>\n",
       "      <th>origin</th>\n",
       "      <th>car name</th>\n",
       "    </tr>\n",
       "  </thead>\n",
       "  <tbody>\n",
       "    <tr>\n",
       "      <th>0</th>\n",
       "      <td>18.0</td>\n",
       "      <td>7.650</td>\n",
       "      <td>8</td>\n",
       "      <td>307.0</td>\n",
       "      <td>130</td>\n",
       "      <td>3504.0</td>\n",
       "      <td>12.0</td>\n",
       "      <td>70</td>\n",
       "      <td>1</td>\n",
       "      <td>chevrolet chevelle malibu</td>\n",
       "    </tr>\n",
       "    <tr>\n",
       "      <th>1</th>\n",
       "      <td>15.0</td>\n",
       "      <td>6.375</td>\n",
       "      <td>8</td>\n",
       "      <td>350.0</td>\n",
       "      <td>165</td>\n",
       "      <td>3693.0</td>\n",
       "      <td>11.5</td>\n",
       "      <td>70</td>\n",
       "      <td>1</td>\n",
       "      <td>buick skylark 320</td>\n",
       "    </tr>\n",
       "    <tr>\n",
       "      <th>2</th>\n",
       "      <td>18.0</td>\n",
       "      <td>7.650</td>\n",
       "      <td>8</td>\n",
       "      <td>318.0</td>\n",
       "      <td>150</td>\n",
       "      <td>3436.0</td>\n",
       "      <td>11.0</td>\n",
       "      <td>70</td>\n",
       "      <td>1</td>\n",
       "      <td>plymouth satellite</td>\n",
       "    </tr>\n",
       "    <tr>\n",
       "      <th>3</th>\n",
       "      <td>16.0</td>\n",
       "      <td>6.800</td>\n",
       "      <td>8</td>\n",
       "      <td>304.0</td>\n",
       "      <td>150</td>\n",
       "      <td>3433.0</td>\n",
       "      <td>12.0</td>\n",
       "      <td>70</td>\n",
       "      <td>1</td>\n",
       "      <td>amc rebel sst</td>\n",
       "    </tr>\n",
       "    <tr>\n",
       "      <th>4</th>\n",
       "      <td>17.0</td>\n",
       "      <td>7.225</td>\n",
       "      <td>8</td>\n",
       "      <td>302.0</td>\n",
       "      <td>140</td>\n",
       "      <td>3449.0</td>\n",
       "      <td>10.5</td>\n",
       "      <td>70</td>\n",
       "      <td>1</td>\n",
       "      <td>ford torino</td>\n",
       "    </tr>\n",
       "    <tr>\n",
       "      <th>5</th>\n",
       "      <td>15.0</td>\n",
       "      <td>6.375</td>\n",
       "      <td>8</td>\n",
       "      <td>429.0</td>\n",
       "      <td>198</td>\n",
       "      <td>4341.0</td>\n",
       "      <td>10.0</td>\n",
       "      <td>70</td>\n",
       "      <td>1</td>\n",
       "      <td>ford galaxie 500</td>\n",
       "    </tr>\n",
       "    <tr>\n",
       "      <th>6</th>\n",
       "      <td>14.0</td>\n",
       "      <td>5.950</td>\n",
       "      <td>8</td>\n",
       "      <td>454.0</td>\n",
       "      <td>220</td>\n",
       "      <td>4354.0</td>\n",
       "      <td>9.0</td>\n",
       "      <td>70</td>\n",
       "      <td>1</td>\n",
       "      <td>chevrolet impala</td>\n",
       "    </tr>\n",
       "    <tr>\n",
       "      <th>7</th>\n",
       "      <td>14.0</td>\n",
       "      <td>5.950</td>\n",
       "      <td>8</td>\n",
       "      <td>440.0</td>\n",
       "      <td>215</td>\n",
       "      <td>4312.0</td>\n",
       "      <td>8.5</td>\n",
       "      <td>70</td>\n",
       "      <td>1</td>\n",
       "      <td>plymouth fury iii</td>\n",
       "    </tr>\n",
       "    <tr>\n",
       "      <th>8</th>\n",
       "      <td>14.0</td>\n",
       "      <td>5.950</td>\n",
       "      <td>8</td>\n",
       "      <td>455.0</td>\n",
       "      <td>225</td>\n",
       "      <td>4425.0</td>\n",
       "      <td>10.0</td>\n",
       "      <td>70</td>\n",
       "      <td>1</td>\n",
       "      <td>pontiac catalina</td>\n",
       "    </tr>\n",
       "    <tr>\n",
       "      <th>9</th>\n",
       "      <td>15.0</td>\n",
       "      <td>6.375</td>\n",
       "      <td>8</td>\n",
       "      <td>390.0</td>\n",
       "      <td>190</td>\n",
       "      <td>3850.0</td>\n",
       "      <td>8.5</td>\n",
       "      <td>70</td>\n",
       "      <td>1</td>\n",
       "      <td>amc ambassador dpl</td>\n",
       "    </tr>\n",
       "  </tbody>\n",
       "</table>\n",
       "</div>"
      ],
      "text/plain": [
       "    mpg    kml  cylinders  displacement  horsepower  weight  acceleration  \\\n",
       "0  18.0  7.650          8         307.0         130  3504.0          12.0   \n",
       "1  15.0  6.375          8         350.0         165  3693.0          11.5   \n",
       "2  18.0  7.650          8         318.0         150  3436.0          11.0   \n",
       "3  16.0  6.800          8         304.0         150  3433.0          12.0   \n",
       "4  17.0  7.225          8         302.0         140  3449.0          10.5   \n",
       "5  15.0  6.375          8         429.0         198  4341.0          10.0   \n",
       "6  14.0  5.950          8         454.0         220  4354.0           9.0   \n",
       "7  14.0  5.950          8         440.0         215  4312.0           8.5   \n",
       "8  14.0  5.950          8         455.0         225  4425.0          10.0   \n",
       "9  15.0  6.375          8         390.0         190  3850.0           8.5   \n",
       "\n",
       "   model year  origin                   car name  \n",
       "0          70       1  chevrolet chevelle malibu  \n",
       "1          70       1          buick skylark 320  \n",
       "2          70       1         plymouth satellite  \n",
       "3          70       1              amc rebel sst  \n",
       "4          70       1                ford torino  \n",
       "5          70       1           ford galaxie 500  \n",
       "6          70       1           chevrolet impala  \n",
       "7          70       1          plymouth fury iii  \n",
       "8          70       1           pontiac catalina  \n",
       "9          70       1         amc ambassador dpl  "
      ]
     },
     "execution_count": 596,
     "metadata": {},
     "output_type": "execute_result"
    }
   ],
   "source": [
    "df.head(10)"
   ]
  },
  {
   "cell_type": "markdown",
   "id": "d9e21c07",
   "metadata": {},
   "source": [
    "## origin 컬럼에 대한 origin_label 컬럼 추가 및 자료형 설정\n",
    "\n",
    "- 1 : usa, 2 : europe, 3. Asia"
   ]
  },
  {
   "cell_type": "code",
   "execution_count": 597,
   "id": "085c957c",
   "metadata": {},
   "outputs": [
    {
     "data": {
      "text/plain": [
       "array([1, 3, 2], dtype=int64)"
      ]
     },
     "execution_count": 597,
     "metadata": {},
     "output_type": "execute_result"
    }
   ],
   "source": [
    "df['origin'].unique()"
   ]
  },
  {
   "cell_type": "code",
   "execution_count": 598,
   "id": "3477ee8e",
   "metadata": {},
   "outputs": [],
   "source": [
    "# origin 컬럼 라벨 데이터 생성\n",
    "\n",
    "originLable = df['origin'].replace({1:'USA', 2:'EU', 3:'JPA'}) "
   ]
  },
  {
   "cell_type": "code",
   "execution_count": 599,
   "id": "860ac035",
   "metadata": {},
   "outputs": [
    {
     "data": {
      "text/html": [
       "<div>\n",
       "<style scoped>\n",
       "    .dataframe tbody tr th:only-of-type {\n",
       "        vertical-align: middle;\n",
       "    }\n",
       "\n",
       "    .dataframe tbody tr th {\n",
       "        vertical-align: top;\n",
       "    }\n",
       "\n",
       "    .dataframe thead th {\n",
       "        text-align: right;\n",
       "    }\n",
       "</style>\n",
       "<table border=\"1\" class=\"dataframe\">\n",
       "  <thead>\n",
       "    <tr style=\"text-align: right;\">\n",
       "      <th></th>\n",
       "      <th>mpg</th>\n",
       "      <th>origin_label</th>\n",
       "      <th>kml</th>\n",
       "      <th>cylinders</th>\n",
       "      <th>displacement</th>\n",
       "      <th>horsepower</th>\n",
       "      <th>weight</th>\n",
       "      <th>acceleration</th>\n",
       "      <th>model year</th>\n",
       "      <th>origin</th>\n",
       "      <th>car name</th>\n",
       "    </tr>\n",
       "  </thead>\n",
       "  <tbody>\n",
       "    <tr>\n",
       "      <th>0</th>\n",
       "      <td>18.0</td>\n",
       "      <td>USA</td>\n",
       "      <td>7.650</td>\n",
       "      <td>8</td>\n",
       "      <td>307.0</td>\n",
       "      <td>130</td>\n",
       "      <td>3504.0</td>\n",
       "      <td>12.0</td>\n",
       "      <td>70</td>\n",
       "      <td>1</td>\n",
       "      <td>chevrolet chevelle malibu</td>\n",
       "    </tr>\n",
       "    <tr>\n",
       "      <th>1</th>\n",
       "      <td>15.0</td>\n",
       "      <td>USA</td>\n",
       "      <td>6.375</td>\n",
       "      <td>8</td>\n",
       "      <td>350.0</td>\n",
       "      <td>165</td>\n",
       "      <td>3693.0</td>\n",
       "      <td>11.5</td>\n",
       "      <td>70</td>\n",
       "      <td>1</td>\n",
       "      <td>buick skylark 320</td>\n",
       "    </tr>\n",
       "    <tr>\n",
       "      <th>2</th>\n",
       "      <td>18.0</td>\n",
       "      <td>USA</td>\n",
       "      <td>7.650</td>\n",
       "      <td>8</td>\n",
       "      <td>318.0</td>\n",
       "      <td>150</td>\n",
       "      <td>3436.0</td>\n",
       "      <td>11.0</td>\n",
       "      <td>70</td>\n",
       "      <td>1</td>\n",
       "      <td>plymouth satellite</td>\n",
       "    </tr>\n",
       "    <tr>\n",
       "      <th>3</th>\n",
       "      <td>16.0</td>\n",
       "      <td>USA</td>\n",
       "      <td>6.800</td>\n",
       "      <td>8</td>\n",
       "      <td>304.0</td>\n",
       "      <td>150</td>\n",
       "      <td>3433.0</td>\n",
       "      <td>12.0</td>\n",
       "      <td>70</td>\n",
       "      <td>1</td>\n",
       "      <td>amc rebel sst</td>\n",
       "    </tr>\n",
       "    <tr>\n",
       "      <th>4</th>\n",
       "      <td>17.0</td>\n",
       "      <td>USA</td>\n",
       "      <td>7.225</td>\n",
       "      <td>8</td>\n",
       "      <td>302.0</td>\n",
       "      <td>140</td>\n",
       "      <td>3449.0</td>\n",
       "      <td>10.5</td>\n",
       "      <td>70</td>\n",
       "      <td>1</td>\n",
       "      <td>ford torino</td>\n",
       "    </tr>\n",
       "    <tr>\n",
       "      <th>...</th>\n",
       "      <td>...</td>\n",
       "      <td>...</td>\n",
       "      <td>...</td>\n",
       "      <td>...</td>\n",
       "      <td>...</td>\n",
       "      <td>...</td>\n",
       "      <td>...</td>\n",
       "      <td>...</td>\n",
       "      <td>...</td>\n",
       "      <td>...</td>\n",
       "      <td>...</td>\n",
       "    </tr>\n",
       "    <tr>\n",
       "      <th>393</th>\n",
       "      <td>27.0</td>\n",
       "      <td>USA</td>\n",
       "      <td>11.475</td>\n",
       "      <td>4</td>\n",
       "      <td>140.0</td>\n",
       "      <td>86</td>\n",
       "      <td>2790.0</td>\n",
       "      <td>15.6</td>\n",
       "      <td>82</td>\n",
       "      <td>1</td>\n",
       "      <td>ford mustang gl</td>\n",
       "    </tr>\n",
       "    <tr>\n",
       "      <th>394</th>\n",
       "      <td>44.0</td>\n",
       "      <td>EU</td>\n",
       "      <td>18.700</td>\n",
       "      <td>4</td>\n",
       "      <td>97.0</td>\n",
       "      <td>52</td>\n",
       "      <td>2130.0</td>\n",
       "      <td>24.6</td>\n",
       "      <td>82</td>\n",
       "      <td>2</td>\n",
       "      <td>vw pickup</td>\n",
       "    </tr>\n",
       "    <tr>\n",
       "      <th>395</th>\n",
       "      <td>32.0</td>\n",
       "      <td>USA</td>\n",
       "      <td>13.600</td>\n",
       "      <td>4</td>\n",
       "      <td>135.0</td>\n",
       "      <td>84</td>\n",
       "      <td>2295.0</td>\n",
       "      <td>11.6</td>\n",
       "      <td>82</td>\n",
       "      <td>1</td>\n",
       "      <td>dodge rampage</td>\n",
       "    </tr>\n",
       "    <tr>\n",
       "      <th>396</th>\n",
       "      <td>28.0</td>\n",
       "      <td>USA</td>\n",
       "      <td>11.900</td>\n",
       "      <td>4</td>\n",
       "      <td>120.0</td>\n",
       "      <td>79</td>\n",
       "      <td>2625.0</td>\n",
       "      <td>18.6</td>\n",
       "      <td>82</td>\n",
       "      <td>1</td>\n",
       "      <td>ford ranger</td>\n",
       "    </tr>\n",
       "    <tr>\n",
       "      <th>397</th>\n",
       "      <td>31.0</td>\n",
       "      <td>USA</td>\n",
       "      <td>13.175</td>\n",
       "      <td>4</td>\n",
       "      <td>119.0</td>\n",
       "      <td>82</td>\n",
       "      <td>2720.0</td>\n",
       "      <td>19.4</td>\n",
       "      <td>82</td>\n",
       "      <td>1</td>\n",
       "      <td>chevy s-10</td>\n",
       "    </tr>\n",
       "  </tbody>\n",
       "</table>\n",
       "<p>392 rows × 11 columns</p>\n",
       "</div>"
      ],
      "text/plain": [
       "      mpg origin_label     kml  cylinders  displacement  horsepower  weight  \\\n",
       "0    18.0          USA   7.650          8         307.0         130  3504.0   \n",
       "1    15.0          USA   6.375          8         350.0         165  3693.0   \n",
       "2    18.0          USA   7.650          8         318.0         150  3436.0   \n",
       "3    16.0          USA   6.800          8         304.0         150  3433.0   \n",
       "4    17.0          USA   7.225          8         302.0         140  3449.0   \n",
       "..    ...          ...     ...        ...           ...         ...     ...   \n",
       "393  27.0          USA  11.475          4         140.0          86  2790.0   \n",
       "394  44.0           EU  18.700          4          97.0          52  2130.0   \n",
       "395  32.0          USA  13.600          4         135.0          84  2295.0   \n",
       "396  28.0          USA  11.900          4         120.0          79  2625.0   \n",
       "397  31.0          USA  13.175          4         119.0          82  2720.0   \n",
       "\n",
       "     acceleration  model year  origin                   car name  \n",
       "0            12.0          70       1  chevrolet chevelle malibu  \n",
       "1            11.5          70       1          buick skylark 320  \n",
       "2            11.0          70       1         plymouth satellite  \n",
       "3            12.0          70       1              amc rebel sst  \n",
       "4            10.5          70       1                ford torino  \n",
       "..            ...         ...     ...                        ...  \n",
       "393          15.6          82       1            ford mustang gl  \n",
       "394          24.6          82       2                  vw pickup  \n",
       "395          11.6          82       1              dodge rampage  \n",
       "396          18.6          82       1                ford ranger  \n",
       "397          19.4          82       1                 chevy s-10  \n",
       "\n",
       "[392 rows x 11 columns]"
      ]
     },
     "execution_count": 599,
     "metadata": {},
     "output_type": "execute_result"
    }
   ],
   "source": [
    "# origin 컬럼에 대한 라벨 -> 컬럼 추가 \n",
    "\n",
    "df.insert(1, 'origin_label', originLable)\n",
    "df"
   ]
  },
  {
   "cell_type": "code",
   "execution_count": 600,
   "id": "82235e6d",
   "metadata": {},
   "outputs": [
    {
     "data": {
      "text/plain": [
       "mpg             float64\n",
       "origin_label     object\n",
       "kml             float64\n",
       "cylinders         int64\n",
       "displacement    float64\n",
       "horsepower        int64\n",
       "weight          float64\n",
       "acceleration    float64\n",
       "model year        int64\n",
       "origin            int64\n",
       "car name         object\n",
       "dtype: object"
      ]
     },
     "execution_count": 600,
     "metadata": {},
     "output_type": "execute_result"
    }
   ],
   "source": [
    "df.dtypes"
   ]
  },
  {
   "cell_type": "code",
   "execution_count": 601,
   "id": "c30b8c5e",
   "metadata": {},
   "outputs": [
    {
     "name": "stderr",
     "output_type": "stream",
     "text": [
      "C:\\Users\\User\\AppData\\Local\\Temp\\ipykernel_15088\\3047980335.py:3: SettingWithCopyWarning: \n",
      "A value is trying to be set on a copy of a slice from a DataFrame.\n",
      "Try using .loc[row_indexer,col_indexer] = value instead\n",
      "\n",
      "See the caveats in the documentation: https://pandas.pydata.org/pandas-docs/stable/user_guide/indexing.html#returning-a-view-versus-a-copy\n",
      "  df[['origin','origin_label']] = df[['origin','origin_label']].astype('category')\n"
     ]
    }
   ],
   "source": [
    "# origin, origin_lable 을 int64/object 기본자료형 => 범주형 category\n",
    "\n",
    "df[['origin','origin_label']] = df[['origin','origin_label']].astype('category')"
   ]
  },
  {
   "cell_type": "code",
   "execution_count": 602,
   "id": "14846bda",
   "metadata": {},
   "outputs": [
    {
     "data": {
      "text/plain": [
       "mpg              float64\n",
       "origin_label    category\n",
       "kml              float64\n",
       "cylinders          int64\n",
       "displacement     float64\n",
       "horsepower         int64\n",
       "weight           float64\n",
       "acceleration     float64\n",
       "model year         int64\n",
       "origin          category\n",
       "car name          object\n",
       "dtype: object"
      ]
     },
     "execution_count": 602,
     "metadata": {},
     "output_type": "execute_result"
    }
   ],
   "source": [
    "df.dtypes                                          #카테고리로 바뀜 "
   ]
  },
  {
   "cell_type": "code",
   "execution_count": 603,
   "id": "5e578958",
   "metadata": {},
   "outputs": [
    {
     "name": "stderr",
     "output_type": "stream",
     "text": [
      "C:\\Users\\User\\AppData\\Local\\Temp\\ipykernel_15088\\3741999230.py:6: SettingWithCopyWarning: \n",
      "A value is trying to be set on a copy of a slice from a DataFrame.\n",
      "Try using .loc[row_indexer,col_indexer] = value instead\n",
      "\n",
      "See the caveats in the documentation: https://pandas.pydata.org/pandas-docs/stable/user_guide/indexing.html#returning-a-view-versus-a-copy\n",
      "  df['horsepower']=pd.cut(x = df['horsepower'],\n"
     ]
    }
   ],
   "source": [
    "# horsepower 컬럼 타입 변경 int 연속형 ==> 범주형 category 변환\n",
    "# 구간 => label horsepower_low , horsepower_normal, horsepower_high  세 구간으로 설정\n",
    "\n",
    "# 만약에 원본 horsepower 두고 새로운게 필요하다면 변수명을 'horsepower_label' 같은걸로 다르게 해주면 됨 \n",
    "\n",
    "df['horsepower']=pd.cut(x = df['horsepower'], \n",
    "       bins=3, \n",
    "       labels=['horsepower_low','horsepower_normal','horsepower_high'],\n",
    "      include_lowest=True)"
   ]
  },
  {
   "cell_type": "code",
   "execution_count": 604,
   "id": "4e6c1ad2",
   "metadata": {},
   "outputs": [
    {
     "data": {
      "text/plain": [
       "horsepower_low       257\n",
       "horsepower_normal    103\n",
       "horsepower_high       32\n",
       "Name: horsepower, dtype: int64"
      ]
     },
     "execution_count": 604,
     "metadata": {},
     "output_type": "execute_result"
    }
   ],
   "source": [
    "df['horsepower'].value_counts()"
   ]
  },
  {
   "cell_type": "code",
   "execution_count": 605,
   "id": "566f2b18",
   "metadata": {},
   "outputs": [
    {
     "name": "stderr",
     "output_type": "stream",
     "text": [
      "C:\\Users\\User\\AppData\\Local\\Temp\\ipykernel_15088\\1029128638.py:1: SettingWithCopyWarning: \n",
      "A value is trying to be set on a copy of a slice from a DataFrame.\n",
      "Try using .loc[row_indexer,col_indexer] = value instead\n",
      "\n",
      "See the caveats in the documentation: https://pandas.pydata.org/pandas-docs/stable/user_guide/indexing.html#returning-a-view-versus-a-copy\n",
      "  df['horsepower']=df['horsepower'].astype('category')\n"
     ]
    }
   ],
   "source": [
    "df['horsepower']=df['horsepower'].astype('category')"
   ]
  },
  {
   "cell_type": "code",
   "execution_count": 606,
   "id": "c60df729",
   "metadata": {},
   "outputs": [
    {
     "data": {
      "text/html": [
       "<div>\n",
       "<style scoped>\n",
       "    .dataframe tbody tr th:only-of-type {\n",
       "        vertical-align: middle;\n",
       "    }\n",
       "\n",
       "    .dataframe tbody tr th {\n",
       "        vertical-align: top;\n",
       "    }\n",
       "\n",
       "    .dataframe thead th {\n",
       "        text-align: right;\n",
       "    }\n",
       "</style>\n",
       "<table border=\"1\" class=\"dataframe\">\n",
       "  <thead>\n",
       "    <tr style=\"text-align: right;\">\n",
       "      <th></th>\n",
       "      <th>horsepower_low</th>\n",
       "      <th>horsepower_normal</th>\n",
       "      <th>horsepower_high</th>\n",
       "    </tr>\n",
       "  </thead>\n",
       "  <tbody>\n",
       "    <tr>\n",
       "      <th>0</th>\n",
       "      <td>0</td>\n",
       "      <td>1</td>\n",
       "      <td>0</td>\n",
       "    </tr>\n",
       "    <tr>\n",
       "      <th>1</th>\n",
       "      <td>0</td>\n",
       "      <td>1</td>\n",
       "      <td>0</td>\n",
       "    </tr>\n",
       "    <tr>\n",
       "      <th>2</th>\n",
       "      <td>0</td>\n",
       "      <td>1</td>\n",
       "      <td>0</td>\n",
       "    </tr>\n",
       "    <tr>\n",
       "      <th>3</th>\n",
       "      <td>0</td>\n",
       "      <td>1</td>\n",
       "      <td>0</td>\n",
       "    </tr>\n",
       "    <tr>\n",
       "      <th>4</th>\n",
       "      <td>0</td>\n",
       "      <td>1</td>\n",
       "      <td>0</td>\n",
       "    </tr>\n",
       "    <tr>\n",
       "      <th>...</th>\n",
       "      <td>...</td>\n",
       "      <td>...</td>\n",
       "      <td>...</td>\n",
       "    </tr>\n",
       "    <tr>\n",
       "      <th>393</th>\n",
       "      <td>1</td>\n",
       "      <td>0</td>\n",
       "      <td>0</td>\n",
       "    </tr>\n",
       "    <tr>\n",
       "      <th>394</th>\n",
       "      <td>1</td>\n",
       "      <td>0</td>\n",
       "      <td>0</td>\n",
       "    </tr>\n",
       "    <tr>\n",
       "      <th>395</th>\n",
       "      <td>1</td>\n",
       "      <td>0</td>\n",
       "      <td>0</td>\n",
       "    </tr>\n",
       "    <tr>\n",
       "      <th>396</th>\n",
       "      <td>1</td>\n",
       "      <td>0</td>\n",
       "      <td>0</td>\n",
       "    </tr>\n",
       "    <tr>\n",
       "      <th>397</th>\n",
       "      <td>1</td>\n",
       "      <td>0</td>\n",
       "      <td>0</td>\n",
       "    </tr>\n",
       "  </tbody>\n",
       "</table>\n",
       "<p>392 rows × 3 columns</p>\n",
       "</div>"
      ],
      "text/plain": [
       "     horsepower_low  horsepower_normal  horsepower_high\n",
       "0                 0                  1                0\n",
       "1                 0                  1                0\n",
       "2                 0                  1                0\n",
       "3                 0                  1                0\n",
       "4                 0                  1                0\n",
       "..              ...                ...              ...\n",
       "393               1                  0                0\n",
       "394               1                  0                0\n",
       "395               1                  0                0\n",
       "396               1                  0                0\n",
       "397               1                  0                0\n",
       "\n",
       "[392 rows x 3 columns]"
      ]
     },
     "execution_count": 606,
     "metadata": {},
     "output_type": "execute_result"
    }
   ],
   "source": [
    "#horsepower 컬럼의 one-hot-encoding 변환 => pandas.get_dummies(data)\n",
    "\n",
    "oneHot = pd.get_dummies(df['horsepower'])\n",
    "oneHot"
   ]
  },
  {
   "cell_type": "code",
   "execution_count": 607,
   "id": "7d60d22a",
   "metadata": {},
   "outputs": [
    {
     "data": {
      "text/plain": [
       "0    horsepower_normal\n",
       "1    horsepower_normal\n",
       "2    horsepower_normal\n",
       "Name: horsepower, dtype: category\n",
       "Categories (3, object): ['horsepower_low' < 'horsepower_normal' < 'horsepower_high']"
      ]
     },
     "execution_count": 607,
     "metadata": {},
     "output_type": "execute_result"
    }
   ],
   "source": [
    "df['horsepower'].head(3)  # 확인"
   ]
  },
  {
   "cell_type": "code",
   "execution_count": 608,
   "id": "bdf6cd66",
   "metadata": {},
   "outputs": [
    {
     "data": {
      "text/html": [
       "<div>\n",
       "<style scoped>\n",
       "    .dataframe tbody tr th:only-of-type {\n",
       "        vertical-align: middle;\n",
       "    }\n",
       "\n",
       "    .dataframe tbody tr th {\n",
       "        vertical-align: top;\n",
       "    }\n",
       "\n",
       "    .dataframe thead th {\n",
       "        text-align: right;\n",
       "    }\n",
       "</style>\n",
       "<table border=\"1\" class=\"dataframe\">\n",
       "  <thead>\n",
       "    <tr style=\"text-align: right;\">\n",
       "      <th></th>\n",
       "      <th>mpg</th>\n",
       "      <th>origin_label</th>\n",
       "      <th>kml</th>\n",
       "      <th>cylinders</th>\n",
       "      <th>displacement</th>\n",
       "      <th>horsepower</th>\n",
       "      <th>weight</th>\n",
       "      <th>acceleration</th>\n",
       "      <th>model year</th>\n",
       "      <th>origin</th>\n",
       "      <th>car name</th>\n",
       "      <th>horsepower_low</th>\n",
       "      <th>horsepower_normal</th>\n",
       "      <th>horsepower_high</th>\n",
       "    </tr>\n",
       "  </thead>\n",
       "  <tbody>\n",
       "    <tr>\n",
       "      <th>0</th>\n",
       "      <td>18.0</td>\n",
       "      <td>USA</td>\n",
       "      <td>7.650</td>\n",
       "      <td>8</td>\n",
       "      <td>307.0</td>\n",
       "      <td>horsepower_normal</td>\n",
       "      <td>3504.0</td>\n",
       "      <td>12.0</td>\n",
       "      <td>70</td>\n",
       "      <td>1</td>\n",
       "      <td>chevrolet chevelle malibu</td>\n",
       "      <td>0</td>\n",
       "      <td>1</td>\n",
       "      <td>0</td>\n",
       "    </tr>\n",
       "    <tr>\n",
       "      <th>1</th>\n",
       "      <td>15.0</td>\n",
       "      <td>USA</td>\n",
       "      <td>6.375</td>\n",
       "      <td>8</td>\n",
       "      <td>350.0</td>\n",
       "      <td>horsepower_normal</td>\n",
       "      <td>3693.0</td>\n",
       "      <td>11.5</td>\n",
       "      <td>70</td>\n",
       "      <td>1</td>\n",
       "      <td>buick skylark 320</td>\n",
       "      <td>0</td>\n",
       "      <td>1</td>\n",
       "      <td>0</td>\n",
       "    </tr>\n",
       "    <tr>\n",
       "      <th>2</th>\n",
       "      <td>18.0</td>\n",
       "      <td>USA</td>\n",
       "      <td>7.650</td>\n",
       "      <td>8</td>\n",
       "      <td>318.0</td>\n",
       "      <td>horsepower_normal</td>\n",
       "      <td>3436.0</td>\n",
       "      <td>11.0</td>\n",
       "      <td>70</td>\n",
       "      <td>1</td>\n",
       "      <td>plymouth satellite</td>\n",
       "      <td>0</td>\n",
       "      <td>1</td>\n",
       "      <td>0</td>\n",
       "    </tr>\n",
       "    <tr>\n",
       "      <th>3</th>\n",
       "      <td>16.0</td>\n",
       "      <td>USA</td>\n",
       "      <td>6.800</td>\n",
       "      <td>8</td>\n",
       "      <td>304.0</td>\n",
       "      <td>horsepower_normal</td>\n",
       "      <td>3433.0</td>\n",
       "      <td>12.0</td>\n",
       "      <td>70</td>\n",
       "      <td>1</td>\n",
       "      <td>amc rebel sst</td>\n",
       "      <td>0</td>\n",
       "      <td>1</td>\n",
       "      <td>0</td>\n",
       "    </tr>\n",
       "    <tr>\n",
       "      <th>4</th>\n",
       "      <td>17.0</td>\n",
       "      <td>USA</td>\n",
       "      <td>7.225</td>\n",
       "      <td>8</td>\n",
       "      <td>302.0</td>\n",
       "      <td>horsepower_normal</td>\n",
       "      <td>3449.0</td>\n",
       "      <td>10.5</td>\n",
       "      <td>70</td>\n",
       "      <td>1</td>\n",
       "      <td>ford torino</td>\n",
       "      <td>0</td>\n",
       "      <td>1</td>\n",
       "      <td>0</td>\n",
       "    </tr>\n",
       "    <tr>\n",
       "      <th>...</th>\n",
       "      <td>...</td>\n",
       "      <td>...</td>\n",
       "      <td>...</td>\n",
       "      <td>...</td>\n",
       "      <td>...</td>\n",
       "      <td>...</td>\n",
       "      <td>...</td>\n",
       "      <td>...</td>\n",
       "      <td>...</td>\n",
       "      <td>...</td>\n",
       "      <td>...</td>\n",
       "      <td>...</td>\n",
       "      <td>...</td>\n",
       "      <td>...</td>\n",
       "    </tr>\n",
       "    <tr>\n",
       "      <th>393</th>\n",
       "      <td>27.0</td>\n",
       "      <td>USA</td>\n",
       "      <td>11.475</td>\n",
       "      <td>4</td>\n",
       "      <td>140.0</td>\n",
       "      <td>horsepower_low</td>\n",
       "      <td>2790.0</td>\n",
       "      <td>15.6</td>\n",
       "      <td>82</td>\n",
       "      <td>1</td>\n",
       "      <td>ford mustang gl</td>\n",
       "      <td>1</td>\n",
       "      <td>0</td>\n",
       "      <td>0</td>\n",
       "    </tr>\n",
       "    <tr>\n",
       "      <th>394</th>\n",
       "      <td>44.0</td>\n",
       "      <td>EU</td>\n",
       "      <td>18.700</td>\n",
       "      <td>4</td>\n",
       "      <td>97.0</td>\n",
       "      <td>horsepower_low</td>\n",
       "      <td>2130.0</td>\n",
       "      <td>24.6</td>\n",
       "      <td>82</td>\n",
       "      <td>2</td>\n",
       "      <td>vw pickup</td>\n",
       "      <td>1</td>\n",
       "      <td>0</td>\n",
       "      <td>0</td>\n",
       "    </tr>\n",
       "    <tr>\n",
       "      <th>395</th>\n",
       "      <td>32.0</td>\n",
       "      <td>USA</td>\n",
       "      <td>13.600</td>\n",
       "      <td>4</td>\n",
       "      <td>135.0</td>\n",
       "      <td>horsepower_low</td>\n",
       "      <td>2295.0</td>\n",
       "      <td>11.6</td>\n",
       "      <td>82</td>\n",
       "      <td>1</td>\n",
       "      <td>dodge rampage</td>\n",
       "      <td>1</td>\n",
       "      <td>0</td>\n",
       "      <td>0</td>\n",
       "    </tr>\n",
       "    <tr>\n",
       "      <th>396</th>\n",
       "      <td>28.0</td>\n",
       "      <td>USA</td>\n",
       "      <td>11.900</td>\n",
       "      <td>4</td>\n",
       "      <td>120.0</td>\n",
       "      <td>horsepower_low</td>\n",
       "      <td>2625.0</td>\n",
       "      <td>18.6</td>\n",
       "      <td>82</td>\n",
       "      <td>1</td>\n",
       "      <td>ford ranger</td>\n",
       "      <td>1</td>\n",
       "      <td>0</td>\n",
       "      <td>0</td>\n",
       "    </tr>\n",
       "    <tr>\n",
       "      <th>397</th>\n",
       "      <td>31.0</td>\n",
       "      <td>USA</td>\n",
       "      <td>13.175</td>\n",
       "      <td>4</td>\n",
       "      <td>119.0</td>\n",
       "      <td>horsepower_low</td>\n",
       "      <td>2720.0</td>\n",
       "      <td>19.4</td>\n",
       "      <td>82</td>\n",
       "      <td>1</td>\n",
       "      <td>chevy s-10</td>\n",
       "      <td>1</td>\n",
       "      <td>0</td>\n",
       "      <td>0</td>\n",
       "    </tr>\n",
       "  </tbody>\n",
       "</table>\n",
       "<p>392 rows × 14 columns</p>\n",
       "</div>"
      ],
      "text/plain": [
       "      mpg origin_label     kml  cylinders  displacement         horsepower  \\\n",
       "0    18.0          USA   7.650          8         307.0  horsepower_normal   \n",
       "1    15.0          USA   6.375          8         350.0  horsepower_normal   \n",
       "2    18.0          USA   7.650          8         318.0  horsepower_normal   \n",
       "3    16.0          USA   6.800          8         304.0  horsepower_normal   \n",
       "4    17.0          USA   7.225          8         302.0  horsepower_normal   \n",
       "..    ...          ...     ...        ...           ...                ...   \n",
       "393  27.0          USA  11.475          4         140.0     horsepower_low   \n",
       "394  44.0           EU  18.700          4          97.0     horsepower_low   \n",
       "395  32.0          USA  13.600          4         135.0     horsepower_low   \n",
       "396  28.0          USA  11.900          4         120.0     horsepower_low   \n",
       "397  31.0          USA  13.175          4         119.0     horsepower_low   \n",
       "\n",
       "     weight  acceleration  model year origin                   car name  \\\n",
       "0    3504.0          12.0          70      1  chevrolet chevelle malibu   \n",
       "1    3693.0          11.5          70      1          buick skylark 320   \n",
       "2    3436.0          11.0          70      1         plymouth satellite   \n",
       "3    3433.0          12.0          70      1              amc rebel sst   \n",
       "4    3449.0          10.5          70      1                ford torino   \n",
       "..      ...           ...         ...    ...                        ...   \n",
       "393  2790.0          15.6          82      1            ford mustang gl   \n",
       "394  2130.0          24.6          82      2                  vw pickup   \n",
       "395  2295.0          11.6          82      1              dodge rampage   \n",
       "396  2625.0          18.6          82      1                ford ranger   \n",
       "397  2720.0          19.4          82      1                 chevy s-10   \n",
       "\n",
       "     horsepower_low  horsepower_normal  horsepower_high  \n",
       "0                 0                  1                0  \n",
       "1                 0                  1                0  \n",
       "2                 0                  1                0  \n",
       "3                 0                  1                0  \n",
       "4                 0                  1                0  \n",
       "..              ...                ...              ...  \n",
       "393               1                  0                0  \n",
       "394               1                  0                0  \n",
       "395               1                  0                0  \n",
       "396               1                  0                0  \n",
       "397               1                  0                0  \n",
       "\n",
       "[392 rows x 14 columns]"
      ]
     },
     "execution_count": 608,
     "metadata": {},
     "output_type": "execute_result"
    }
   ],
   "source": [
    "pd.concat([df,oneHot], axis = 1)"
   ]
  },
  {
   "cell_type": "markdown",
   "id": "910727eb",
   "metadata": {},
   "source": [
    "## car name "
   ]
  },
  {
   "cell_type": "code",
   "execution_count": 609,
   "id": "603a3da5",
   "metadata": {},
   "outputs": [
    {
     "data": {
      "text/plain": [
       "amc matador            5\n",
       "ford pinto             5\n",
       "toyota corolla         5\n",
       "toyota corona          4\n",
       "amc hornet             4\n",
       "                      ..\n",
       "buick skyhawk          1\n",
       "chevrolet monza 2+2    1\n",
       "ford mustang ii        1\n",
       "pontiac astro          1\n",
       "chevy s-10             1\n",
       "Name: car name, Length: 301, dtype: int64"
      ]
     },
     "execution_count": 609,
     "metadata": {},
     "output_type": "execute_result"
    }
   ],
   "source": [
    "df['car name'].value_counts()"
   ]
  },
  {
   "cell_type": "code",
   "execution_count": 610,
   "id": "f9c3a2c9",
   "metadata": {},
   "outputs": [
    {
     "data": {
      "text/plain": [
       "0      chevrolet chevelle malibu\n",
       "1              buick skylark 320\n",
       "2             plymouth satellite\n",
       "3                  amc rebel sst\n",
       "4                    ford torino\n",
       "                 ...            \n",
       "393              ford mustang gl\n",
       "394                    vw pickup\n",
       "395                dodge rampage\n",
       "396                  ford ranger\n",
       "397                   chevy s-10\n",
       "Name: car name, Length: 392, dtype: object"
      ]
     },
     "execution_count": 610,
     "metadata": {},
     "output_type": "execute_result"
    }
   ],
   "source": [
    "df['car name'].fillna('aaaaaa')"
   ]
  },
  {
   "cell_type": "code",
   "execution_count": 611,
   "id": "a2c7c27f",
   "metadata": {},
   "outputs": [
    {
     "name": "stderr",
     "output_type": "stream",
     "text": [
      "C:\\Users\\User\\AppData\\Local\\Temp\\ipykernel_15088\\498444503.py:1: SettingWithCopyWarning: \n",
      "A value is trying to be set on a copy of a slice from a DataFrame.\n",
      "Try using .loc[row_indexer,col_indexer] = value instead\n",
      "\n",
      "See the caveats in the documentation: https://pandas.pydata.org/pandas-docs/stable/user_guide/indexing.html#returning-a-view-versus-a-copy\n",
      "  df['car name']=[i[0] for i in df['car name'].str.split(' ')]\n"
     ]
    }
   ],
   "source": [
    "df['car name']=[i[0] for i in df['car name'].str.split(' ')]"
   ]
  },
  {
   "cell_type": "code",
   "execution_count": 612,
   "id": "7608460d",
   "metadata": {},
   "outputs": [
    {
     "data": {
      "text/plain": [
       "array(['chevrolet', 'buick', 'plymouth', 'amc', 'ford', 'pontiac',\n",
       "       'dodge', 'toyota', 'datsun', 'volkswagen', 'peugeot', 'audi',\n",
       "       'saab', 'bmw', 'chevy', 'hi', 'mercury', 'opel', 'fiat',\n",
       "       'oldsmobile', 'chrysler', 'mazda', 'volvo', 'renault', 'toyouta',\n",
       "       'maxda', 'honda', 'subaru', 'chevroelt', 'capri', 'vw',\n",
       "       'mercedes-benz', 'cadillac', 'mercedes', 'vokswagen', 'triumph',\n",
       "       'nissan'], dtype=object)"
      ]
     },
     "execution_count": 612,
     "metadata": {},
     "output_type": "execute_result"
    }
   ],
   "source": [
    "df['car name'].unique()"
   ]
  },
  {
   "cell_type": "code",
   "execution_count": 613,
   "id": "72309275",
   "metadata": {},
   "outputs": [
    {
     "name": "stderr",
     "output_type": "stream",
     "text": [
      "C:\\Users\\User\\AppData\\Local\\Temp\\ipykernel_15088\\1999663632.py:1: SettingWithCopyWarning: \n",
      "A value is trying to be set on a copy of a slice from a DataFrame.\n",
      "Try using .loc[row_indexer,col_indexer] = value instead\n",
      "\n",
      "See the caveats in the documentation: https://pandas.pydata.org/pandas-docs/stable/user_guide/indexing.html#returning-a-view-versus-a-copy\n",
      "  df['car name']=df['car name'].replace(['chevrolet','chevy','chevroelt'],'chevrolet')\n",
      "C:\\Users\\User\\AppData\\Local\\Temp\\ipykernel_15088\\1999663632.py:2: SettingWithCopyWarning: \n",
      "A value is trying to be set on a copy of a slice from a DataFrame.\n",
      "Try using .loc[row_indexer,col_indexer] = value instead\n",
      "\n",
      "See the caveats in the documentation: https://pandas.pydata.org/pandas-docs/stable/user_guide/indexing.html#returning-a-view-versus-a-copy\n",
      "  df['car name']=df['car name'].replace(['volkswagen','vw','vokswagen'],'volkswagen')\n",
      "C:\\Users\\User\\AppData\\Local\\Temp\\ipykernel_15088\\1999663632.py:3: SettingWithCopyWarning: \n",
      "A value is trying to be set on a copy of a slice from a DataFrame.\n",
      "Try using .loc[row_indexer,col_indexer] = value instead\n",
      "\n",
      "See the caveats in the documentation: https://pandas.pydata.org/pandas-docs/stable/user_guide/indexing.html#returning-a-view-versus-a-copy\n",
      "  df['car name']=df['car name'].replace('maxda','mazda')\n",
      "C:\\Users\\User\\AppData\\Local\\Temp\\ipykernel_15088\\1999663632.py:4: SettingWithCopyWarning: \n",
      "A value is trying to be set on a copy of a slice from a DataFrame.\n",
      "Try using .loc[row_indexer,col_indexer] = value instead\n",
      "\n",
      "See the caveats in the documentation: https://pandas.pydata.org/pandas-docs/stable/user_guide/indexing.html#returning-a-view-versus-a-copy\n",
      "  df['car name']=df['car name'].replace('toyouta','toyota')\n",
      "C:\\Users\\User\\AppData\\Local\\Temp\\ipykernel_15088\\1999663632.py:5: SettingWithCopyWarning: \n",
      "A value is trying to be set on a copy of a slice from a DataFrame.\n",
      "Try using .loc[row_indexer,col_indexer] = value instead\n",
      "\n",
      "See the caveats in the documentation: https://pandas.pydata.org/pandas-docs/stable/user_guide/indexing.html#returning-a-view-versus-a-copy\n",
      "  df['car name']=df['car name'].replace('mercedes','mercedes-benz')\n",
      "C:\\Users\\User\\AppData\\Local\\Temp\\ipykernel_15088\\1999663632.py:6: SettingWithCopyWarning: \n",
      "A value is trying to be set on a copy of a slice from a DataFrame.\n",
      "Try using .loc[row_indexer,col_indexer] = value instead\n",
      "\n",
      "See the caveats in the documentation: https://pandas.pydata.org/pandas-docs/stable/user_guide/indexing.html#returning-a-view-versus-a-copy\n",
      "  df['car name']=df['car name'].replace('nissan','datsun')\n",
      "C:\\Users\\User\\AppData\\Local\\Temp\\ipykernel_15088\\1999663632.py:7: SettingWithCopyWarning: \n",
      "A value is trying to be set on a copy of a slice from a DataFrame.\n",
      "Try using .loc[row_indexer,col_indexer] = value instead\n",
      "\n",
      "See the caveats in the documentation: https://pandas.pydata.org/pandas-docs/stable/user_guide/indexing.html#returning-a-view-versus-a-copy\n",
      "  df['car name']=df['car name'].replace('capri','ford')\n"
     ]
    }
   ],
   "source": [
    "df['car name']=df['car name'].replace(['chevrolet','chevy','chevroelt'],'chevrolet')\n",
    "df['car name']=df['car name'].replace(['volkswagen','vw','vokswagen'],'volkswagen')\n",
    "df['car name']=df['car name'].replace('maxda','mazda')\n",
    "df['car name']=df['car name'].replace('toyouta','toyota')\n",
    "df['car name']=df['car name'].replace('mercedes','mercedes-benz')\n",
    "df['car name']=df['car name'].replace('nissan','datsun')\n",
    "df['car name']=df['car name'].replace('capri','ford')"
   ]
  },
  {
   "cell_type": "code",
   "execution_count": 614,
   "id": "662f8ea1",
   "metadata": {},
   "outputs": [
    {
     "data": {
      "text/plain": [
       "392"
      ]
     },
     "execution_count": 614,
     "metadata": {},
     "output_type": "execute_result"
    }
   ],
   "source": [
    "len(df['car name'])"
   ]
  },
  {
   "cell_type": "code",
   "execution_count": 615,
   "id": "b658743e",
   "metadata": {},
   "outputs": [
    {
     "name": "stdout",
     "output_type": "stream",
     "text": [
      "<class 'pandas.core.frame.DataFrame'>\n",
      "Int64Index: 392 entries, 0 to 397\n",
      "Data columns (total 11 columns):\n",
      " #   Column        Non-Null Count  Dtype   \n",
      "---  ------        --------------  -----   \n",
      " 0   mpg           392 non-null    float64 \n",
      " 1   origin_label  392 non-null    category\n",
      " 2   kml           392 non-null    float64 \n",
      " 3   cylinders     392 non-null    int64   \n",
      " 4   displacement  392 non-null    float64 \n",
      " 5   horsepower    392 non-null    category\n",
      " 6   weight        392 non-null    float64 \n",
      " 7   acceleration  392 non-null    float64 \n",
      " 8   model year    392 non-null    int64   \n",
      " 9   origin        392 non-null    category\n",
      " 10  car name      392 non-null    object  \n",
      "dtypes: category(3), float64(5), int64(2), object(1)\n",
      "memory usage: 29.1+ KB\n"
     ]
    }
   ],
   "source": [
    "df.info()"
   ]
  },
  {
   "cell_type": "code",
   "execution_count": 616,
   "id": "fa2eb7e3",
   "metadata": {},
   "outputs": [
    {
     "data": {
      "text/plain": [
       "(array([13., 78., 73., 58., 53., 48., 37., 22.,  4.,  6.]),\n",
       " array([ 3.825,  5.423,  7.021,  8.619, 10.217, 11.815, 13.413, 15.011,\n",
       "        16.609, 18.207, 19.805]),\n",
       " <BarContainer object of 10 artists>)"
      ]
     },
     "execution_count": 616,
     "metadata": {},
     "output_type": "execute_result"
    },
    {
     "data": {
      "image/png": "[encoded data removed]",
      "text/plain": [
       "<Figure size 432x288 with 1 Axes>"
      ]
     },
     "metadata": {
      "needs_background": "light"
     },
     "output_type": "display_data"
    }
   ],
   "source": [
    "import numpy as np \n",
    "import matplotlib.pyplot as plt\n",
    "import seaborn as sns\n",
    "\n",
    "plt.hist(df['kml'])"
   ]
  },
  {
   "cell_type": "code",
   "execution_count": 617,
   "id": "9d90256c",
   "metadata": {},
   "outputs": [],
   "source": [
    "#sns.pairplot(df)"
   ]
  },
  {
   "cell_type": "markdown",
   "id": "ffd8f69c",
   "metadata": {},
   "source": [
    "## 데이터정규화 : weight\n",
    "\n",
    "- 수치데이터 컬럼마다 값의 범위가 다름\n",
    "- 값의 범위 0 ~ 1 또는 -1 ~ 1 로 값을 설정 "
   ]
  },
  {
   "cell_type": "code",
   "execution_count": 618,
   "id": "e759d4da",
   "metadata": {},
   "outputs": [
    {
     "data": {
      "text/plain": [
       "0      3504.0\n",
       "1      3693.0\n",
       "2      3436.0\n",
       "3      3433.0\n",
       "4      3449.0\n",
       "        ...  \n",
       "393    2790.0\n",
       "394    2130.0\n",
       "395    2295.0\n",
       "396    2625.0\n",
       "397    2720.0\n",
       "Name: weight, Length: 392, dtype: float64"
      ]
     },
     "execution_count": 618,
     "metadata": {},
     "output_type": "execute_result"
    }
   ],
   "source": [
    "df['weight']"
   ]
  },
  {
   "cell_type": "code",
   "execution_count": 619,
   "id": "60823d0f",
   "metadata": {},
   "outputs": [
    {
     "data": {
      "text/plain": [
       "5140.0"
      ]
     },
     "execution_count": 619,
     "metadata": {},
     "output_type": "execute_result"
    }
   ],
   "source": [
    "# 방법 : 컬럼의 최대값의 절대값으로 전체 데이터 나누기 \n",
    "abs(df['weight'].max()) "
   ]
  },
  {
   "cell_type": "code",
   "execution_count": 620,
   "id": "391affad",
   "metadata": {},
   "outputs": [
    {
     "name": "stderr",
     "output_type": "stream",
     "text": [
      "C:\\Users\\User\\AppData\\Local\\Temp\\ipykernel_15088\\4076199435.py:1: SettingWithCopyWarning: \n",
      "A value is trying to be set on a copy of a slice from a DataFrame.\n",
      "Try using .loc[row_indexer,col_indexer] = value instead\n",
      "\n",
      "See the caveats in the documentation: https://pandas.pydata.org/pandas-docs/stable/user_guide/indexing.html#returning-a-view-versus-a-copy\n",
      "  df['weight_nor']= df['weight'] / abs(df['weight'].max())\n"
     ]
    },
    {
     "data": {
      "text/plain": [
       "(0.31381322957198443, 1.0)"
      ]
     },
     "execution_count": 620,
     "metadata": {},
     "output_type": "execute_result"
    }
   ],
   "source": [
    "df['weight_nor']= df['weight'] / abs(df['weight'].max())\n",
    "df['weight_nor'].min(), df['weight_nor'].max()"
   ]
  },
  {
   "cell_type": "code",
   "execution_count": 621,
   "id": "c3860a01",
   "metadata": {},
   "outputs": [
    {
     "name": "stdout",
     "output_type": "stream",
     "text": [
      "<class 'pandas.core.frame.DataFrame'>\n",
      "Int64Index: 392 entries, 0 to 397\n",
      "Data columns (total 12 columns):\n",
      " #   Column        Non-Null Count  Dtype   \n",
      "---  ------        --------------  -----   \n",
      " 0   mpg           392 non-null    float64 \n",
      " 1   origin_label  392 non-null    category\n",
      " 2   kml           392 non-null    float64 \n",
      " 3   cylinders     392 non-null    int64   \n",
      " 4   displacement  392 non-null    float64 \n",
      " 5   horsepower    392 non-null    category\n",
      " 6   weight        392 non-null    float64 \n",
      " 7   acceleration  392 non-null    float64 \n",
      " 8   model year    392 non-null    int64   \n",
      " 9   origin        392 non-null    category\n",
      " 10  car name      392 non-null    object  \n",
      " 11  weight_nor    392 non-null    float64 \n",
      "dtypes: category(3), float64(6), int64(2), object(1)\n",
      "memory usage: 32.2+ KB\n"
     ]
    }
   ],
   "source": [
    "df.info()"
   ]
  },
  {
   "cell_type": "code",
   "execution_count": 622,
   "id": "08c58430",
   "metadata": {},
   "outputs": [],
   "source": [
    "from sklearn.preprocessing import StandardScaler,OneHotEncoder\n",
    "from sklearn.model_selection import train_test_split\n",
    "from sklearn.linear_model import LinearRegression\n",
    "from sklearn.metrics import mean_squared_error"
   ]
  },
  {
   "cell_type": "code",
   "execution_count": 623,
   "id": "ed64e050",
   "metadata": {},
   "outputs": [
    {
     "data": {
      "text/html": [
       "<div>\n",
       "<style scoped>\n",
       "    .dataframe tbody tr th:only-of-type {\n",
       "        vertical-align: middle;\n",
       "    }\n",
       "\n",
       "    .dataframe tbody tr th {\n",
       "        vertical-align: top;\n",
       "    }\n",
       "\n",
       "    .dataframe thead th {\n",
       "        text-align: right;\n",
       "    }\n",
       "</style>\n",
       "<table border=\"1\" class=\"dataframe\">\n",
       "  <thead>\n",
       "    <tr style=\"text-align: right;\">\n",
       "      <th></th>\n",
       "      <th>mpg</th>\n",
       "      <th>kml</th>\n",
       "      <th>cylinders</th>\n",
       "      <th>displacement</th>\n",
       "      <th>weight</th>\n",
       "      <th>acceleration</th>\n",
       "      <th>model year</th>\n",
       "      <th>weight_nor</th>\n",
       "    </tr>\n",
       "  </thead>\n",
       "  <tbody>\n",
       "    <tr>\n",
       "      <th>mpg</th>\n",
       "      <td>1.000000</td>\n",
       "      <td>1.000000</td>\n",
       "      <td>-0.777618</td>\n",
       "      <td>-0.805127</td>\n",
       "      <td>-0.832244</td>\n",
       "      <td>0.423329</td>\n",
       "      <td>0.580541</td>\n",
       "      <td>-0.832244</td>\n",
       "    </tr>\n",
       "    <tr>\n",
       "      <th>kml</th>\n",
       "      <td>1.000000</td>\n",
       "      <td>1.000000</td>\n",
       "      <td>-0.777618</td>\n",
       "      <td>-0.805127</td>\n",
       "      <td>-0.832244</td>\n",
       "      <td>0.423329</td>\n",
       "      <td>0.580541</td>\n",
       "      <td>-0.832244</td>\n",
       "    </tr>\n",
       "    <tr>\n",
       "      <th>cylinders</th>\n",
       "      <td>-0.777618</td>\n",
       "      <td>-0.777618</td>\n",
       "      <td>1.000000</td>\n",
       "      <td>0.950823</td>\n",
       "      <td>0.897527</td>\n",
       "      <td>-0.504683</td>\n",
       "      <td>-0.345647</td>\n",
       "      <td>0.897527</td>\n",
       "    </tr>\n",
       "    <tr>\n",
       "      <th>displacement</th>\n",
       "      <td>-0.805127</td>\n",
       "      <td>-0.805127</td>\n",
       "      <td>0.950823</td>\n",
       "      <td>1.000000</td>\n",
       "      <td>0.932994</td>\n",
       "      <td>-0.543800</td>\n",
       "      <td>-0.369855</td>\n",
       "      <td>0.932994</td>\n",
       "    </tr>\n",
       "    <tr>\n",
       "      <th>weight</th>\n",
       "      <td>-0.832244</td>\n",
       "      <td>-0.832244</td>\n",
       "      <td>0.897527</td>\n",
       "      <td>0.932994</td>\n",
       "      <td>1.000000</td>\n",
       "      <td>-0.416839</td>\n",
       "      <td>-0.309120</td>\n",
       "      <td>1.000000</td>\n",
       "    </tr>\n",
       "    <tr>\n",
       "      <th>acceleration</th>\n",
       "      <td>0.423329</td>\n",
       "      <td>0.423329</td>\n",
       "      <td>-0.504683</td>\n",
       "      <td>-0.543800</td>\n",
       "      <td>-0.416839</td>\n",
       "      <td>1.000000</td>\n",
       "      <td>0.290316</td>\n",
       "      <td>-0.416839</td>\n",
       "    </tr>\n",
       "    <tr>\n",
       "      <th>model year</th>\n",
       "      <td>0.580541</td>\n",
       "      <td>0.580541</td>\n",
       "      <td>-0.345647</td>\n",
       "      <td>-0.369855</td>\n",
       "      <td>-0.309120</td>\n",
       "      <td>0.290316</td>\n",
       "      <td>1.000000</td>\n",
       "      <td>-0.309120</td>\n",
       "    </tr>\n",
       "    <tr>\n",
       "      <th>weight_nor</th>\n",
       "      <td>-0.832244</td>\n",
       "      <td>-0.832244</td>\n",
       "      <td>0.897527</td>\n",
       "      <td>0.932994</td>\n",
       "      <td>1.000000</td>\n",
       "      <td>-0.416839</td>\n",
       "      <td>-0.309120</td>\n",
       "      <td>1.000000</td>\n",
       "    </tr>\n",
       "  </tbody>\n",
       "</table>\n",
       "</div>"
      ],
      "text/plain": [
       "                   mpg       kml  cylinders  displacement    weight  \\\n",
       "mpg           1.000000  1.000000  -0.777618     -0.805127 -0.832244   \n",
       "kml           1.000000  1.000000  -0.777618     -0.805127 -0.832244   \n",
       "cylinders    -0.777618 -0.777618   1.000000      0.950823  0.897527   \n",
       "displacement -0.805127 -0.805127   0.950823      1.000000  0.932994   \n",
       "weight       -0.832244 -0.832244   0.897527      0.932994  1.000000   \n",
       "acceleration  0.423329  0.423329  -0.504683     -0.543800 -0.416839   \n",
       "model year    0.580541  0.580541  -0.345647     -0.369855 -0.309120   \n",
       "weight_nor   -0.832244 -0.832244   0.897527      0.932994  1.000000   \n",
       "\n",
       "              acceleration  model year  weight_nor  \n",
       "mpg               0.423329    0.580541   -0.832244  \n",
       "kml               0.423329    0.580541   -0.832244  \n",
       "cylinders        -0.504683   -0.345647    0.897527  \n",
       "displacement     -0.543800   -0.369855    0.932994  \n",
       "weight           -0.416839   -0.309120    1.000000  \n",
       "acceleration      1.000000    0.290316   -0.416839  \n",
       "model year        0.290316    1.000000   -0.309120  \n",
       "weight_nor       -0.416839   -0.309120    1.000000  "
      ]
     },
     "execution_count": 623,
     "metadata": {},
     "output_type": "execute_result"
    }
   ],
   "source": [
    "cor=df.corr()\n",
    "cor"
   ]
  },
  {
   "cell_type": "code",
   "execution_count": 624,
   "id": "a7d157cf",
   "metadata": {},
   "outputs": [
    {
     "data": {
      "text/plain": [
       "<AxesSubplot:>"
      ]
     },
     "execution_count": 624,
     "metadata": {},
     "output_type": "execute_result"
    },
    {
     "data": {
      "image/png": "[encoded data removed]",
      "text/plain": [
       "<Figure size 432x288 with 2 Axes>"
      ]
     },
     "metadata": {
      "needs_background": "light"
     },
     "output_type": "display_data"
    }
   ],
   "source": [
    "sns.heatmap(cor,center=0,cmap=\"vlag\")"
   ]
  },
  {
   "cell_type": "markdown",
   "id": "16342caa",
   "metadata": {},
   "source": [
    "## ML - Linear Regression Model"
   ]
  },
  {
   "cell_type": "code",
   "execution_count": 625,
   "id": "4a631ae3",
   "metadata": {},
   "outputs": [
    {
     "name": "stdout",
     "output_type": "stream",
     "text": [
      "train data length: 313\n",
      "test data length: 79\n"
     ]
    }
   ],
   "source": [
    "X= df.drop(['mpg', 'origin_label', 'horsepower', 'model year', 'origin', 'car name'],axis='columns')\n",
    "Y=df['kml']\n",
    "\n",
    "X_train,X_test,Y_train,Y_test=train_test_split(X,Y,test_size=0.2)\n",
    "print(\"train data length:\",len(X_train))\n",
    "print(\"test data length:\",len(X_test))"
   ]
  },
  {
   "cell_type": "code",
   "execution_count": 640,
   "id": "b70b3543",
   "metadata": {},
   "outputs": [
    {
     "data": {
      "text/html": [
       "<div>\n",
       "<style scoped>\n",
       "    .dataframe tbody tr th:only-of-type {\n",
       "        vertical-align: middle;\n",
       "    }\n",
       "\n",
       "    .dataframe tbody tr th {\n",
       "        vertical-align: top;\n",
       "    }\n",
       "\n",
       "    .dataframe thead th {\n",
       "        text-align: right;\n",
       "    }\n",
       "</style>\n",
       "<table border=\"1\" class=\"dataframe\">\n",
       "  <thead>\n",
       "    <tr style=\"text-align: right;\">\n",
       "      <th></th>\n",
       "      <th>kml</th>\n",
       "      <th>cylinders</th>\n",
       "      <th>displacement</th>\n",
       "      <th>weight</th>\n",
       "      <th>acceleration</th>\n",
       "      <th>weight_nor</th>\n",
       "    </tr>\n",
       "  </thead>\n",
       "  <tbody>\n",
       "    <tr>\n",
       "      <th>0</th>\n",
       "      <td>7.650</td>\n",
       "      <td>8</td>\n",
       "      <td>307.0</td>\n",
       "      <td>3504.0</td>\n",
       "      <td>12.0</td>\n",
       "      <td>0.681712</td>\n",
       "    </tr>\n",
       "    <tr>\n",
       "      <th>1</th>\n",
       "      <td>6.375</td>\n",
       "      <td>8</td>\n",
       "      <td>350.0</td>\n",
       "      <td>3693.0</td>\n",
       "      <td>11.5</td>\n",
       "      <td>0.718482</td>\n",
       "    </tr>\n",
       "    <tr>\n",
       "      <th>2</th>\n",
       "      <td>7.650</td>\n",
       "      <td>8</td>\n",
       "      <td>318.0</td>\n",
       "      <td>3436.0</td>\n",
       "      <td>11.0</td>\n",
       "      <td>0.668482</td>\n",
       "    </tr>\n",
       "    <tr>\n",
       "      <th>3</th>\n",
       "      <td>6.800</td>\n",
       "      <td>8</td>\n",
       "      <td>304.0</td>\n",
       "      <td>3433.0</td>\n",
       "      <td>12.0</td>\n",
       "      <td>0.667899</td>\n",
       "    </tr>\n",
       "    <tr>\n",
       "      <th>4</th>\n",
       "      <td>7.225</td>\n",
       "      <td>8</td>\n",
       "      <td>302.0</td>\n",
       "      <td>3449.0</td>\n",
       "      <td>10.5</td>\n",
       "      <td>0.671012</td>\n",
       "    </tr>\n",
       "    <tr>\n",
       "      <th>...</th>\n",
       "      <td>...</td>\n",
       "      <td>...</td>\n",
       "      <td>...</td>\n",
       "      <td>...</td>\n",
       "      <td>...</td>\n",
       "      <td>...</td>\n",
       "    </tr>\n",
       "    <tr>\n",
       "      <th>393</th>\n",
       "      <td>11.475</td>\n",
       "      <td>4</td>\n",
       "      <td>140.0</td>\n",
       "      <td>2790.0</td>\n",
       "      <td>15.6</td>\n",
       "      <td>0.542802</td>\n",
       "    </tr>\n",
       "    <tr>\n",
       "      <th>394</th>\n",
       "      <td>18.700</td>\n",
       "      <td>4</td>\n",
       "      <td>97.0</td>\n",
       "      <td>2130.0</td>\n",
       "      <td>24.6</td>\n",
       "      <td>0.414397</td>\n",
       "    </tr>\n",
       "    <tr>\n",
       "      <th>395</th>\n",
       "      <td>13.600</td>\n",
       "      <td>4</td>\n",
       "      <td>135.0</td>\n",
       "      <td>2295.0</td>\n",
       "      <td>11.6</td>\n",
       "      <td>0.446498</td>\n",
       "    </tr>\n",
       "    <tr>\n",
       "      <th>396</th>\n",
       "      <td>11.900</td>\n",
       "      <td>4</td>\n",
       "      <td>120.0</td>\n",
       "      <td>2625.0</td>\n",
       "      <td>18.6</td>\n",
       "      <td>0.510700</td>\n",
       "    </tr>\n",
       "    <tr>\n",
       "      <th>397</th>\n",
       "      <td>13.175</td>\n",
       "      <td>4</td>\n",
       "      <td>119.0</td>\n",
       "      <td>2720.0</td>\n",
       "      <td>19.4</td>\n",
       "      <td>0.529183</td>\n",
       "    </tr>\n",
       "  </tbody>\n",
       "</table>\n",
       "<p>392 rows × 6 columns</p>\n",
       "</div>"
      ],
      "text/plain": [
       "        kml  cylinders  displacement  weight  acceleration  weight_nor\n",
       "0     7.650          8         307.0  3504.0          12.0    0.681712\n",
       "1     6.375          8         350.0  3693.0          11.5    0.718482\n",
       "2     7.650          8         318.0  3436.0          11.0    0.668482\n",
       "3     6.800          8         304.0  3433.0          12.0    0.667899\n",
       "4     7.225          8         302.0  3449.0          10.5    0.671012\n",
       "..      ...        ...           ...     ...           ...         ...\n",
       "393  11.475          4         140.0  2790.0          15.6    0.542802\n",
       "394  18.700          4          97.0  2130.0          24.6    0.414397\n",
       "395  13.600          4         135.0  2295.0          11.6    0.446498\n",
       "396  11.900          4         120.0  2625.0          18.6    0.510700\n",
       "397  13.175          4         119.0  2720.0          19.4    0.529183\n",
       "\n",
       "[392 rows x 6 columns]"
      ]
     },
     "execution_count": 640,
     "metadata": {},
     "output_type": "execute_result"
    }
   ],
   "source": [
    "X"
   ]
  },
  {
   "cell_type": "code",
   "execution_count": 626,
   "id": "d1195912",
   "metadata": {},
   "outputs": [],
   "source": [
    "scaler = StandardScaler()\n",
    "X_train_scaled=scaler.fit_transform(X_train)\n",
    "X_test_scaled=scaler.fit_transform(X_test)"
   ]
  },
  {
   "cell_type": "code",
   "execution_count": 627,
   "id": "4f06b2d8",
   "metadata": {
    "scrolled": true
   },
   "outputs": [
    {
     "name": "stdout",
     "output_type": "stream",
     "text": [
      "Coefficients:  [ 3.12344373e+00 -4.29195408e-16 -4.15734571e-16 -2.20121917e-16\n",
      " -4.97070726e-16 -6.78189163e-16]\n",
      "Intercept: 9.866924920127795\n",
      "train R2 Score: 1.0\n",
      "Test R2 Score: 0.9410220699816928\n",
      "MSE: 0.9211883069731285\n",
      "RMSE: 0.9597855525965832\n"
     ]
    }
   ],
   "source": [
    "lr = LinearRegression()\n",
    "lr.fit(X_train_scaled,Y_train)\n",
    "Y_pred = lr.predict(X_test_scaled)\n",
    "\n",
    "print('Coefficients: ', lr.coef_)\n",
    "print('Intercept:',lr.intercept_)\n",
    "print(\"train R2 Score:\",lr.score(X_train_scaled,Y_train))\n",
    "print(\"Test R2 Score:\",lr.score(X_test_scaled,Y_test))\n",
    "print(\"MSE:\",mean_squared_error(Y_test,Y_pred))\n",
    "print(\"RMSE:\",mean_squared_error(Y_test,Y_pred,squared=False))"
   ]
  },
  {
   "cell_type": "code",
   "execution_count": 628,
   "id": "46ed4922",
   "metadata": {},
   "outputs": [
    {
     "name": "stdout",
     "output_type": "stream",
     "text": [
      "predict:  [ 6.72446837 13.67732887  6.38858139 14.44986893  7.73212931 14.48345762\n",
      "  6.05269441 10.08333818  8.20237109  7.39624233  6.05269441  6.72446837\n",
      "  5.71680743  5.04503347  8.06801629  8.06801629 11.76277308 10.75511214\n",
      " 14.78575591 17.33849696 12.77043402 12.09866006  6.05269441  8.90773375\n",
      " 12.53531314  6.05269441 10.08333818  5.38092045 14.8193446   7.56418582\n",
      " 10.41922516  8.73979025  9.6802738  14.18115934  4.70914649  6.55652488\n",
      "  6.05269441  7.9000728   5.71680743 11.3597087  11.93071657  8.47108067\n",
      " 13.47579668 11.09099912  7.56418582 13.81168366  9.07567724 12.73684532\n",
      "  8.20237109 11.76277308 16.666723   14.44986893  7.56418582  7.06035535\n",
      "  9.7474512  16.46519081  6.72446837  7.39624233  8.06801629  7.76571801\n",
      " 13.27426449 11.05741042 10.25128167 11.09099912  6.38858139  5.38092045\n",
      " 11.59482959 13.03914361 10.75511214 13.34144189  9.7474512  11.76277308\n",
      "  7.73212931 10.08333818 10.08333818  8.47108067 13.2406758   8.06801629\n",
      " 13.00555491]\n"
     ]
    }
   ],
   "source": [
    "print('predict: ', Y_pred)"
   ]
  },
  {
   "cell_type": "markdown",
   "id": "c3bb336a",
   "metadata": {},
   "source": [
    "# keras"
   ]
  },
  {
   "cell_type": "code",
   "execution_count": 629,
   "id": "94d842fa",
   "metadata": {},
   "outputs": [],
   "source": [
    "import tensorflow as tf"
   ]
  },
  {
   "cell_type": "code",
   "execution_count": 630,
   "id": "4c0b39d2",
   "metadata": {},
   "outputs": [],
   "source": [
    "from tensorflow.keras import Sequential\n",
    "from tensorflow.keras.layers import Dense\n",
    "import numpy as np\n",
    "from sklearn.preprocessing import LabelEncoder, OneHotEncoder\n",
    "from tensorflow import keras\n",
    "from tensorflow.keras import layers"
   ]
  },
  {
   "cell_type": "code",
   "execution_count": 631,
   "id": "670c36aa",
   "metadata": {},
   "outputs": [],
   "source": [
    "model=Sequential(name='auto_mpg')"
   ]
  },
  {
   "cell_type": "code",
   "execution_count": 632,
   "id": "725381b5",
   "metadata": {},
   "outputs": [],
   "source": [
    "model.add(Dense(10, activation='relu', input_shape=(6, )))"
   ]
  },
  {
   "cell_type": "code",
   "execution_count": 633,
   "id": "7a5edf0d",
   "metadata": {},
   "outputs": [],
   "source": [
    "model.add(Dense(30, activation='relu'))"
   ]
  },
  {
   "cell_type": "code",
   "execution_count": 634,
   "id": "d0762529",
   "metadata": {},
   "outputs": [],
   "source": [
    "model.add(Dense(1, activation='linear'))"
   ]
  },
  {
   "cell_type": "code",
   "execution_count": 635,
   "id": "18e74a16",
   "metadata": {},
   "outputs": [
    {
     "name": "stdout",
     "output_type": "stream",
     "text": [
      "Model: \"auto_mpg\"\n",
      "_________________________________________________________________\n",
      " Layer (type)                Output Shape              Param #   \n",
      "=================================================================\n",
      " dense_44 (Dense)            (None, 10)                70        \n",
      "                                                                 \n",
      " dense_45 (Dense)            (None, 30)                330       \n",
      "                                                                 \n",
      " dense_46 (Dense)            (None, 1)                 31        \n",
      "                                                                 \n",
      "=================================================================\n",
      "Total params: 431\n",
      "Trainable params: 431\n",
      "Non-trainable params: 0\n",
      "_________________________________________________________________\n"
     ]
    }
   ],
   "source": [
    "model.summary()"
   ]
  },
  {
   "cell_type": "code",
   "execution_count": 636,
   "id": "ffd6e454",
   "metadata": {},
   "outputs": [],
   "source": [
    "model.compile(optimizer='adam', loss='mean_squared_error', metrics=['mean_squared_error'])"
   ]
  },
  {
   "cell_type": "code",
   "execution_count": 637,
   "id": "069f048d",
   "metadata": {},
   "outputs": [
    {
     "name": "stdout",
     "output_type": "stream",
     "text": [
      "Epoch 1/100\n",
      "10/10 [==============================] - 0s 1ms/step - loss: 110.0888 - mean_squared_error: 110.0888\n",
      "Epoch 2/100\n",
      "10/10 [==============================] - 0s 1ms/step - loss: 105.7721 - mean_squared_error: 105.7721\n",
      "Epoch 3/100\n",
      "10/10 [==============================] - 0s 1ms/step - loss: 101.4328 - mean_squared_error: 101.4328\n",
      "Epoch 4/100\n",
      "10/10 [==============================] - 0s 1ms/step - loss: 97.1627 - mean_squared_error: 97.1627\n",
      "Epoch 5/100\n",
      "10/10 [==============================] - 0s 1ms/step - loss: 92.6564 - mean_squared_error: 92.6564\n",
      "Epoch 6/100\n",
      "10/10 [==============================] - 0s 1ms/step - loss: 87.6999 - mean_squared_error: 87.6999\n",
      "Epoch 7/100\n",
      "10/10 [==============================] - 0s 1ms/step - loss: 81.9603 - mean_squared_error: 81.9603\n",
      "Epoch 8/100\n",
      "10/10 [==============================] - 0s 1ms/step - loss: 74.9114 - mean_squared_error: 74.9114\n",
      "Epoch 9/100\n",
      "10/10 [==============================] - 0s 1ms/step - loss: 67.0199 - mean_squared_error: 67.0199\n",
      "Epoch 10/100\n",
      "10/10 [==============================] - 0s 1ms/step - loss: 57.7194 - mean_squared_error: 57.7194\n",
      "Epoch 11/100\n",
      "10/10 [==============================] - 0s 1ms/step - loss: 47.8906 - mean_squared_error: 47.8906\n",
      "Epoch 12/100\n",
      "10/10 [==============================] - 0s 1ms/step - loss: 37.8387 - mean_squared_error: 37.8387\n",
      "Epoch 13/100\n",
      "10/10 [==============================] - 0s 1ms/step - loss: 29.0135 - mean_squared_error: 29.0135\n",
      "Epoch 14/100\n",
      "10/10 [==============================] - 0s 1ms/step - loss: 21.8711 - mean_squared_error: 21.8711\n",
      "Epoch 15/100\n",
      "10/10 [==============================] - 0s 1ms/step - loss: 16.4720 - mean_squared_error: 16.4720\n",
      "Epoch 16/100\n",
      "10/10 [==============================] - 0s 1ms/step - loss: 13.6082 - mean_squared_error: 13.6082\n",
      "Epoch 17/100\n",
      "10/10 [==============================] - 0s 1ms/step - loss: 12.2691 - mean_squared_error: 12.2691\n",
      "Epoch 18/100\n",
      "10/10 [==============================] - 0s 1ms/step - loss: 11.6082 - mean_squared_error: 11.6082\n",
      "Epoch 19/100\n",
      "10/10 [==============================] - 0s 1ms/step - loss: 11.1609 - mean_squared_error: 11.1609\n",
      "Epoch 20/100\n",
      "10/10 [==============================] - 0s 1ms/step - loss: 10.7524 - mean_squared_error: 10.7524\n",
      "Epoch 21/100\n",
      "10/10 [==============================] - 0s 1ms/step - loss: 10.3578 - mean_squared_error: 10.3578\n",
      "Epoch 22/100\n",
      "10/10 [==============================] - 0s 1ms/step - loss: 9.9828 - mean_squared_error: 9.9828\n",
      "Epoch 23/100\n",
      "10/10 [==============================] - 0s 1ms/step - loss: 9.6435 - mean_squared_error: 9.6435\n",
      "Epoch 24/100\n",
      "10/10 [==============================] - 0s 1ms/step - loss: 9.3012 - mean_squared_error: 9.3012\n",
      "Epoch 25/100\n",
      "10/10 [==============================] - 0s 1ms/step - loss: 8.9769 - mean_squared_error: 8.9769\n",
      "Epoch 26/100\n",
      "10/10 [==============================] - 0s 1ms/step - loss: 8.6702 - mean_squared_error: 8.6702\n",
      "Epoch 27/100\n",
      "10/10 [==============================] - 0s 1ms/step - loss: 8.3600 - mean_squared_error: 8.3600\n",
      "Epoch 28/100\n",
      "10/10 [==============================] - 0s 1ms/step - loss: 8.0661 - mean_squared_error: 8.0661\n",
      "Epoch 29/100\n",
      "10/10 [==============================] - 0s 1ms/step - loss: 7.8055 - mean_squared_error: 7.8055\n",
      "Epoch 30/100\n",
      "10/10 [==============================] - 0s 1ms/step - loss: 7.5145 - mean_squared_error: 7.5145\n",
      "Epoch 31/100\n",
      "10/10 [==============================] - 0s 1ms/step - loss: 7.2347 - mean_squared_error: 7.2347\n",
      "Epoch 32/100\n",
      "10/10 [==============================] - 0s 1ms/step - loss: 6.9811 - mean_squared_error: 6.9811\n",
      "Epoch 33/100\n",
      "10/10 [==============================] - 0s 1ms/step - loss: 6.7307 - mean_squared_error: 6.7307\n",
      "Epoch 34/100\n",
      "10/10 [==============================] - 0s 1ms/step - loss: 6.4807 - mean_squared_error: 6.4807\n",
      "Epoch 35/100\n",
      "10/10 [==============================] - 0s 1ms/step - loss: 6.2449 - mean_squared_error: 6.2449\n",
      "Epoch 36/100\n",
      "10/10 [==============================] - 0s 1ms/step - loss: 6.0222 - mean_squared_error: 6.0222\n",
      "Epoch 37/100\n",
      "10/10 [==============================] - 0s 1ms/step - loss: 5.8040 - mean_squared_error: 5.8040\n",
      "Epoch 38/100\n",
      "10/10 [==============================] - 0s 1ms/step - loss: 5.5786 - mean_squared_error: 5.5786\n",
      "Epoch 39/100\n",
      "10/10 [==============================] - 0s 1ms/step - loss: 5.3556 - mean_squared_error: 5.3556\n",
      "Epoch 40/100\n",
      "10/10 [==============================] - 0s 1ms/step - loss: 5.1662 - mean_squared_error: 5.1662\n",
      "Epoch 41/100\n",
      "10/10 [==============================] - 0s 1ms/step - loss: 4.9746 - mean_squared_error: 4.9746\n",
      "Epoch 42/100\n",
      "10/10 [==============================] - 0s 1ms/step - loss: 4.7763 - mean_squared_error: 4.7763\n",
      "Epoch 43/100\n",
      "10/10 [==============================] - 0s 1ms/step - loss: 4.5988 - mean_squared_error: 4.5988\n",
      "Epoch 44/100\n",
      "10/10 [==============================] - 0s 1ms/step - loss: 4.4226 - mean_squared_error: 4.4226\n",
      "Epoch 45/100\n",
      "10/10 [==============================] - 0s 2ms/step - loss: 4.2632 - mean_squared_error: 4.2632\n",
      "Epoch 46/100\n",
      "10/10 [==============================] - 0s 1ms/step - loss: 4.0881 - mean_squared_error: 4.0881\n",
      "Epoch 47/100\n",
      "10/10 [==============================] - 0s 1ms/step - loss: 3.9296 - mean_squared_error: 3.9296\n",
      "Epoch 48/100\n",
      "10/10 [==============================] - 0s 1ms/step - loss: 3.7859 - mean_squared_error: 3.7859\n",
      "Epoch 49/100\n",
      "10/10 [==============================] - 0s 1ms/step - loss: 3.6410 - mean_squared_error: 3.6410\n",
      "Epoch 50/100\n",
      "10/10 [==============================] - 0s 1ms/step - loss: 3.5026 - mean_squared_error: 3.5026\n",
      "Epoch 51/100\n",
      "10/10 [==============================] - 0s 1ms/step - loss: 3.3826 - mean_squared_error: 3.3826\n",
      "Epoch 52/100\n",
      "10/10 [==============================] - 0s 1ms/step - loss: 3.2462 - mean_squared_error: 3.2462\n",
      "Epoch 53/100\n",
      "10/10 [==============================] - 0s 1ms/step - loss: 3.1209 - mean_squared_error: 3.1209\n",
      "Epoch 54/100\n",
      "10/10 [==============================] - 0s 1ms/step - loss: 3.0061 - mean_squared_error: 3.0061\n",
      "Epoch 55/100\n",
      "10/10 [==============================] - 0s 1ms/step - loss: 2.8899 - mean_squared_error: 2.8899\n",
      "Epoch 56/100\n",
      "10/10 [==============================] - 0s 1ms/step - loss: 2.7798 - mean_squared_error: 2.7798\n",
      "Epoch 57/100\n",
      "10/10 [==============================] - 0s 1ms/step - loss: 2.6708 - mean_squared_error: 2.6708\n",
      "Epoch 58/100\n",
      "10/10 [==============================] - 0s 1ms/step - loss: 2.5663 - mean_squared_error: 2.5663\n",
      "Epoch 59/100\n",
      "10/10 [==============================] - 0s 1ms/step - loss: 2.4694 - mean_squared_error: 2.4694\n",
      "Epoch 60/100\n",
      "10/10 [==============================] - 0s 1ms/step - loss: 2.3681 - mean_squared_error: 2.3681\n",
      "Epoch 61/100\n",
      "10/10 [==============================] - 0s 1ms/step - loss: 2.2875 - mean_squared_error: 2.2875\n",
      "Epoch 62/100\n",
      "10/10 [==============================] - 0s 1ms/step - loss: 2.1908 - mean_squared_error: 2.1908\n",
      "Epoch 63/100\n",
      "10/10 [==============================] - 0s 1ms/step - loss: 2.1118 - mean_squared_error: 2.1118\n",
      "Epoch 64/100\n",
      "10/10 [==============================] - 0s 1ms/step - loss: 2.0264 - mean_squared_error: 2.0264\n",
      "Epoch 65/100\n",
      "10/10 [==============================] - 0s 1ms/step - loss: 1.9596 - mean_squared_error: 1.9596\n",
      "Epoch 66/100\n",
      "10/10 [==============================] - 0s 1ms/step - loss: 1.8806 - mean_squared_error: 1.8806\n",
      "Epoch 67/100\n",
      "10/10 [==============================] - 0s 1ms/step - loss: 1.8223 - mean_squared_error: 1.8223\n",
      "Epoch 68/100\n",
      "10/10 [==============================] - 0s 1ms/step - loss: 1.7579 - mean_squared_error: 1.7579\n",
      "Epoch 69/100\n",
      "10/10 [==============================] - 0s 1ms/step - loss: 1.6939 - mean_squared_error: 1.6939\n",
      "Epoch 70/100\n",
      "10/10 [==============================] - 0s 1ms/step - loss: 1.6374 - mean_squared_error: 1.6374\n",
      "Epoch 71/100\n",
      "10/10 [==============================] - 0s 1ms/step - loss: 1.5799 - mean_squared_error: 1.5799\n",
      "Epoch 72/100\n",
      "10/10 [==============================] - 0s 1ms/step - loss: 1.5252 - mean_squared_error: 1.5252\n",
      "Epoch 73/100\n",
      "10/10 [==============================] - 0s 1ms/step - loss: 1.4740 - mean_squared_error: 1.4740\n",
      "Epoch 74/100\n",
      "10/10 [==============================] - 0s 1ms/step - loss: 1.4241 - mean_squared_error: 1.4241\n",
      "Epoch 75/100\n"
     ]
    },
    {
     "name": "stdout",
     "output_type": "stream",
     "text": [
      "10/10 [==============================] - 0s 1ms/step - loss: 1.3743 - mean_squared_error: 1.3743\n",
      "Epoch 76/100\n",
      "10/10 [==============================] - 0s 1ms/step - loss: 1.3290 - mean_squared_error: 1.3290\n",
      "Epoch 77/100\n",
      "10/10 [==============================] - 0s 1ms/step - loss: 1.2809 - mean_squared_error: 1.2809\n",
      "Epoch 78/100\n",
      "10/10 [==============================] - 0s 1ms/step - loss: 1.2386 - mean_squared_error: 1.2386\n",
      "Epoch 79/100\n",
      "10/10 [==============================] - 0s 1ms/step - loss: 1.1950 - mean_squared_error: 1.1950\n",
      "Epoch 80/100\n",
      "10/10 [==============================] - 0s 1ms/step - loss: 1.1528 - mean_squared_error: 1.1528\n",
      "Epoch 81/100\n",
      "10/10 [==============================] - 0s 1ms/step - loss: 1.1142 - mean_squared_error: 1.1142\n",
      "Epoch 82/100\n",
      "10/10 [==============================] - 0s 1ms/step - loss: 1.0753 - mean_squared_error: 1.0753\n",
      "Epoch 83/100\n",
      "10/10 [==============================] - 0s 1ms/step - loss: 1.0385 - mean_squared_error: 1.0385\n",
      "Epoch 84/100\n",
      "10/10 [==============================] - 0s 1000us/step - loss: 1.0032 - mean_squared_error: 1.0032\n",
      "Epoch 85/100\n",
      "10/10 [==============================] - 0s 1ms/step - loss: 0.9686 - mean_squared_error: 0.9686\n",
      "Epoch 86/100\n",
      "10/10 [==============================] - 0s 1ms/step - loss: 0.9299 - mean_squared_error: 0.9299\n",
      "Epoch 87/100\n",
      "10/10 [==============================] - 0s 1ms/step - loss: 0.8985 - mean_squared_error: 0.8985\n",
      "Epoch 88/100\n",
      "10/10 [==============================] - 0s 1ms/step - loss: 0.8672 - mean_squared_error: 0.8672\n",
      "Epoch 89/100\n",
      "10/10 [==============================] - 0s 1ms/step - loss: 0.8355 - mean_squared_error: 0.8355\n",
      "Epoch 90/100\n",
      "10/10 [==============================] - 0s 997us/step - loss: 0.8076 - mean_squared_error: 0.8076\n",
      "Epoch 91/100\n",
      "10/10 [==============================] - 0s 1ms/step - loss: 0.7793 - mean_squared_error: 0.7793\n",
      "Epoch 92/100\n",
      "10/10 [==============================] - 0s 1ms/step - loss: 0.7521 - mean_squared_error: 0.7521\n",
      "Epoch 93/100\n",
      "10/10 [==============================] - 0s 1ms/step - loss: 0.7252 - mean_squared_error: 0.7252\n",
      "Epoch 94/100\n",
      "10/10 [==============================] - 0s 1ms/step - loss: 0.7007 - mean_squared_error: 0.7007\n",
      "Epoch 95/100\n",
      "10/10 [==============================] - 0s 1ms/step - loss: 0.6751 - mean_squared_error: 0.6751\n",
      "Epoch 96/100\n",
      "10/10 [==============================] - 0s 1ms/step - loss: 0.6527 - mean_squared_error: 0.6527\n",
      "Epoch 97/100\n",
      "10/10 [==============================] - 0s 1ms/step - loss: 0.6311 - mean_squared_error: 0.6311\n",
      "Epoch 98/100\n",
      "10/10 [==============================] - 0s 1ms/step - loss: 0.6120 - mean_squared_error: 0.6120\n",
      "Epoch 99/100\n",
      "10/10 [==============================] - 0s 1ms/step - loss: 0.5900 - mean_squared_error: 0.5900\n",
      "Epoch 100/100\n",
      "10/10 [==============================] - 0s 992us/step - loss: 0.5715 - mean_squared_error: 0.5715\n"
     ]
    },
    {
     "data": {
      "text/plain": [
       "<keras.callbacks.History at 0x26a1aa5d3d0>"
      ]
     },
     "execution_count": 637,
     "metadata": {},
     "output_type": "execute_result"
    }
   ],
   "source": [
    "model.fit(X_train_scaled, Y_train, epochs=100)"
   ]
  },
  {
   "cell_type": "code",
   "execution_count": 638,
   "id": "07d2adcb",
   "metadata": {},
   "outputs": [
    {
     "name": "stdout",
     "output_type": "stream",
     "text": [
      "3/3 [==============================] - 0s 1ms/step - loss: 2.0078 - mean_squared_error: 2.0078\n"
     ]
    },
    {
     "data": {
      "text/plain": [
       "[2.0078353881835938, 2.0078353881835938]"
      ]
     },
     "execution_count": 638,
     "metadata": {},
     "output_type": "execute_result"
    }
   ],
   "source": [
    "model.evaluate(X_test_scaled, Y_test)"
   ]
  },
  {
   "cell_type": "code",
   "execution_count": 639,
   "id": "d742e9e0",
   "metadata": {},
   "outputs": [
    {
     "name": "stdout",
     "output_type": "stream",
     "text": [
      "3/3 [==============================] - 0s 983us/step\n"
     ]
    },
    {
     "data": {
      "text/plain": [
       "2.007835380848193"
      ]
     },
     "execution_count": 639,
     "metadata": {},
     "output_type": "execute_result"
    }
   ],
   "source": [
    "from sklearn.metrics import mean_squared_error\n",
    "\n",
    "mean_squared_error(Y_test, model.predict(X_test_scaled))"
   ]
  },
  {
   "cell_type": "code",
   "execution_count": null,
   "id": "fff2cd5f",
   "metadata": {},
   "outputs": [],
   "source": []
  }
 ],
 "metadata": {
  "kernelspec": {
   "display_name": "Python 3 (ipykernel)",
   "language": "python",
   "name": "python3"
  },
  "language_info": {
   "codemirror_mode": {
    "name": "ipython",
    "version": 3
   },
   "file_extension": ".py",
   "mimetype": "text/x-python",
   "name": "python",
   "nbconvert_exporter": "python",
   "pygments_lexer": "ipython3",
   "version": "3.9.12"
  }
 },
 "nbformat": 4,
 "nbformat_minor": 5
}
