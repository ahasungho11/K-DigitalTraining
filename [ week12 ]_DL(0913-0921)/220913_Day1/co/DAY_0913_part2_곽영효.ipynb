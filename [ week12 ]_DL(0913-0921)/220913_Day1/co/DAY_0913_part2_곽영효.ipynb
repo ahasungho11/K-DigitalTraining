{
 "cells": [
  {
   "cell_type": "markdown",
   "metadata": {},
   "source": [
    "## Kera LIB\n",
    "\n",
    "- Tensorflow 기반의 Keras 패키지\n",
    "- 기본 데이터 Tensor 타입\n",
    "- 모델을 직접 설계/생성해야함!!!"
   ]
  },
  {
   "cell_type": "code",
   "execution_count": 1,
   "metadata": {},
   "outputs": [],
   "source": [
    "import tensorflow as tf"
   ]
  },
  {
   "cell_type": "code",
   "execution_count": 64,
   "metadata": {},
   "outputs": [],
   "source": [
    "# sequential: 모델을 담을 통\n",
    "\n",
    "from tensorflow.keras import Sequential\n",
    "from tensorflow.keras.layers import Dense\n",
    "import numpy as np\n",
    "from sklearn.model_selection import train_test_split"
   ]
  },
  {
   "cell_type": "markdown",
   "metadata": {},
   "source": [
    "## [1] 모델 구성"
   ]
  },
  {
   "cell_type": "code",
   "execution_count": 3,
   "metadata": {},
   "outputs": [],
   "source": [
    "model = Sequential(name = 'HelloModel')"
   ]
  },
  {
   "cell_type": "code",
   "execution_count": 4,
   "metadata": {},
   "outputs": [],
   "source": [
    "# 첫번째 층은 반드시 입력정보 파라미터 설정 => input_shape = () 튜플, input_dim = 숫자\n",
    "l1 = Dense(10, activation='relu', input_shape = (5,))"
   ]
  },
  {
   "cell_type": "code",
   "execution_count": 5,
   "metadata": {},
   "outputs": [],
   "source": [
    "# 각 노드(퍼셉트론, 유닛) : 10개 입력 / 출력 : 50개 \n",
    "l2 = Dense(50, activation = 'softmax')"
   ]
  },
  {
   "cell_type": "code",
   "execution_count": 6,
   "metadata": {},
   "outputs": [],
   "source": [
    "# 각 노드(퍼셉트론, 유닛) : 10개 입력 / 출력 : 50개 \n",
    "l3 = Dense(50, activation = 'softmax')"
   ]
  },
  {
   "cell_type": "code",
   "execution_count": 7,
   "metadata": {},
   "outputs": [],
   "source": [
    "model.add(l1)\n",
    "model.add(l2)\n",
    "model.add(l3)"
   ]
  },
  {
   "cell_type": "code",
   "execution_count": 8,
   "metadata": {},
   "outputs": [
    {
     "name": "stdout",
     "output_type": "stream",
     "text": [
      "Model: \"HelloModel\"\n",
      "_________________________________________________________________\n",
      " Layer (type)                Output Shape              Param #   \n",
      "=================================================================\n",
      " dense (Dense)               (None, 10)                60        \n",
      "                                                                 \n",
      " dense_1 (Dense)             (None, 50)                550       \n",
      "                                                                 \n",
      " dense_2 (Dense)             (None, 50)                2550      \n",
      "                                                                 \n",
      "=================================================================\n",
      "Total params: 3,160\n",
      "Trainable params: 3,160\n",
      "Non-trainable params: 0\n",
      "_________________________________________________________________\n"
     ]
    }
   ],
   "source": [
    "## 모델 구성 확인 ==> summary()\n",
    "model.summary()"
   ]
  },
  {
   "cell_type": "markdown",
   "metadata": {},
   "source": [
    "## [2] 모델 생성\n",
    "---\n",
    "- 손실함수, 최적화 기법, 성능평가항목 설정\n",
    "- compile() 메서드\n",
    "    - optimizer : string 타입의 최적화 기법명 입력 또는 객체 <- 기본값 사용하지 않는 경우\n",
    "    - loss: 손실함수 string 타입의 이름 입력\n",
    "        - 분류 : categorical_crossentry, sparse_categorical_crossentropy, binary_crossentropy\n",
    "        - 회귀 : mse, mae...\n",
    "    - metrics: 모델 평가 항목\n",
    "        - accuracy"
   ]
  },
  {
   "cell_type": "code",
   "execution_count": 9,
   "metadata": {},
   "outputs": [],
   "source": [
    "model.compile(optimizer= 'adam', loss='categorical_crossentry', metrics = ['accuracy'])"
   ]
  },
  {
   "cell_type": "markdown",
   "metadata": {},
   "source": [
    "## [3] 학습\n",
    "\n",
    "- fit() 메서드\n",
    "    - 훈련용 데이터\n",
    "    - 훈련용 타겟\n",
    "    - epochs : 학습 횟수(처음 ~ 끝까지)\n",
    "    - batch_size : 한번 학습량 (기본: 32)\n",
    "    - validation_split / validation_data = () : 검증 데이터 설정\n",
    "    - callbacks: 이벤트처리 함수 목록(ex: 학습중단, 모델 검증 및 저장)\n",
    "    - verbose : 학습 과정 출력 여부 설정(기본: True)\n",
    "    "
   ]
  },
  {
   "cell_type": "code",
   "execution_count": 10,
   "metadata": {},
   "outputs": [],
   "source": [
    "from sklearn.datasets import load_iris"
   ]
  },
  {
   "cell_type": "code",
   "execution_count": 11,
   "metadata": {},
   "outputs": [],
   "source": [
    "iris = load_iris()"
   ]
  },
  {
   "cell_type": "code",
   "execution_count": 12,
   "metadata": {},
   "outputs": [],
   "source": [
    "data = iris.data\n",
    "target = iris.target"
   ]
  },
  {
   "cell_type": "code",
   "execution_count": 13,
   "metadata": {},
   "outputs": [
    {
     "data": {
      "text/plain": [
       "((150, 4), (150,))"
      ]
     },
     "execution_count": 13,
     "metadata": {},
     "output_type": "execute_result"
    }
   ],
   "source": [
    "data.shape, target.shape"
   ]
  },
  {
   "cell_type": "code",
   "execution_count": 14,
   "metadata": {},
   "outputs": [],
   "source": [
    "model = Sequential(name = 'Iris')"
   ]
  },
  {
   "cell_type": "code",
   "execution_count": 15,
   "metadata": {},
   "outputs": [],
   "source": [
    "# l2 => 각 노드(퍼셉트론, 유닛) : 10개 입력 / 출력 : 1개\n",
    "# 총 3개 출력\n",
    "\n",
    "l1 = Dense(10, activation='relu', input_shape = (4,))\n",
    "l2 = Dense(3, activation='softmax')"
   ]
  },
  {
   "cell_type": "code",
   "execution_count": 16,
   "metadata": {},
   "outputs": [],
   "source": [
    "model.add(l1)\n",
    "model.add(l2)"
   ]
  },
  {
   "cell_type": "code",
   "execution_count": 17,
   "metadata": {},
   "outputs": [
    {
     "name": "stdout",
     "output_type": "stream",
     "text": [
      "Model: \"Iris\"\n",
      "_________________________________________________________________\n",
      " Layer (type)                Output Shape              Param #   \n",
      "=================================================================\n",
      " dense_3 (Dense)             (None, 10)                50        \n",
      "                                                                 \n",
      " dense_4 (Dense)             (None, 3)                 33        \n",
      "                                                                 \n",
      "=================================================================\n",
      "Total params: 83\n",
      "Trainable params: 83\n",
      "Non-trainable params: 0\n",
      "_________________________________________________________________\n"
     ]
    }
   ],
   "source": [
    "model.summary()"
   ]
  },
  {
   "cell_type": "code",
   "execution_count": 18,
   "metadata": {},
   "outputs": [],
   "source": [
    "model.compile(optimizer= 'adam', loss='sparse_categorical_crossentropy', metrics = ['accuracy'])"
   ]
  },
  {
   "cell_type": "code",
   "execution_count": 19,
   "metadata": {},
   "outputs": [
    {
     "name": "stdout",
     "output_type": "stream",
     "text": [
      "Epoch 1/5\n",
      "5/5 [==============================] - 0s 2ms/step - loss: 2.2710 - accuracy: 0.3333\n",
      "Epoch 2/5\n",
      "5/5 [==============================] - 0s 2ms/step - loss: 2.1223 - accuracy: 0.3333\n",
      "Epoch 3/5\n",
      "5/5 [==============================] - 0s 2ms/step - loss: 1.9833 - accuracy: 0.3333\n",
      "Epoch 4/5\n",
      "5/5 [==============================] - 0s 2ms/step - loss: 1.8571 - accuracy: 0.3333\n",
      "Epoch 5/5\n",
      "5/5 [==============================] - 0s 2ms/step - loss: 1.7482 - accuracy: 0.3333\n"
     ]
    },
    {
     "data": {
      "text/plain": [
       "<keras.callbacks.History at 0x1f1b25d7250>"
      ]
     },
     "execution_count": 19,
     "metadata": {},
     "output_type": "execute_result"
    }
   ],
   "source": [
    "model.fit(data, target, epochs=5)"
   ]
  },
  {
   "cell_type": "code",
   "execution_count": 20,
   "metadata": {},
   "outputs": [
    {
     "name": "stdout",
     "output_type": "stream",
     "text": [
      "1/1 [==============================] - 0s 105ms/step - loss: 0.0000e+00 - accuracy: 0.0000e+00\n"
     ]
    },
    {
     "data": {
      "text/plain": [
       "[0.0, 0.0]"
      ]
     },
     "execution_count": 20,
     "metadata": {},
     "output_type": "execute_result"
    }
   ],
   "source": [
    "## 평가\n",
    "model.evaluate([[5.1, 3.5, 1.4, 0.2]])"
   ]
  },
  {
   "cell_type": "code",
   "execution_count": 21,
   "metadata": {},
   "outputs": [
    {
     "name": "stdout",
     "output_type": "stream",
     "text": [
      "1/1 [==============================] - 0s 102ms/step\n"
     ]
    },
    {
     "data": {
      "text/plain": [
       "array([[0.03775442, 0.07325147, 0.8889941 ]], dtype=float32)"
      ]
     },
     "execution_count": 21,
     "metadata": {},
     "output_type": "execute_result"
    }
   ],
   "source": [
    "## 예측\n",
    "model.predict([[5.1, 3.5, 1.4, 0.2]])"
   ]
  },
  {
   "cell_type": "code",
   "execution_count": 22,
   "metadata": {},
   "outputs": [
    {
     "name": "stdout",
     "output_type": "stream",
     "text": [
      "1/1 [==============================] - 0s 63ms/step\n"
     ]
    },
    {
     "data": {
      "text/plain": [
       "array([[0.04229188, 0.06741333, 0.89029485]], dtype=float32)"
      ]
     },
     "execution_count": 22,
     "metadata": {},
     "output_type": "execute_result"
    }
   ],
   "source": [
    "model.predict([[6.1, 3.4, 1.6, 0.1]])"
   ]
  },
  {
   "cell_type": "code",
   "execution_count": 23,
   "metadata": {},
   "outputs": [],
   "source": [
    "import pandas as pd"
   ]
  },
  {
   "cell_type": "code",
   "execution_count": 24,
   "metadata": {},
   "outputs": [],
   "source": [
    "dataset = pd.read_csv('./autompg.csv')"
   ]
  },
  {
   "cell_type": "code",
   "execution_count": 25,
   "metadata": {},
   "outputs": [],
   "source": [
    "dataset.drop('Unnamed: 0',axis=1, inplace=True)"
   ]
  },
  {
   "cell_type": "code",
   "execution_count": 26,
   "metadata": {},
   "outputs": [
    {
     "data": {
      "text/html": [
       "<div>\n",
       "<style scoped>\n",
       "    .dataframe tbody tr th:only-of-type {\n",
       "        vertical-align: middle;\n",
       "    }\n",
       "\n",
       "    .dataframe tbody tr th {\n",
       "        vertical-align: top;\n",
       "    }\n",
       "\n",
       "    .dataframe thead th {\n",
       "        text-align: right;\n",
       "    }\n",
       "</style>\n",
       "<table border=\"1\" class=\"dataframe\">\n",
       "  <thead>\n",
       "    <tr style=\"text-align: right;\">\n",
       "      <th></th>\n",
       "      <th>mpg</th>\n",
       "      <th>cylinders</th>\n",
       "      <th>displacement</th>\n",
       "      <th>horsepower</th>\n",
       "      <th>weight</th>\n",
       "      <th>acceleration</th>\n",
       "      <th>model year</th>\n",
       "      <th>origin</th>\n",
       "      <th>car name</th>\n",
       "    </tr>\n",
       "  </thead>\n",
       "  <tbody>\n",
       "    <tr>\n",
       "      <th>0</th>\n",
       "      <td>18.0</td>\n",
       "      <td>8</td>\n",
       "      <td>307.0</td>\n",
       "      <td>130</td>\n",
       "      <td>3504</td>\n",
       "      <td>12.0</td>\n",
       "      <td>70</td>\n",
       "      <td>1</td>\n",
       "      <td>chevrolet chevelle malibu</td>\n",
       "    </tr>\n",
       "    <tr>\n",
       "      <th>1</th>\n",
       "      <td>15.0</td>\n",
       "      <td>8</td>\n",
       "      <td>350.0</td>\n",
       "      <td>165</td>\n",
       "      <td>3693</td>\n",
       "      <td>11.5</td>\n",
       "      <td>70</td>\n",
       "      <td>1</td>\n",
       "      <td>buick skylark 320</td>\n",
       "    </tr>\n",
       "    <tr>\n",
       "      <th>2</th>\n",
       "      <td>18.0</td>\n",
       "      <td>8</td>\n",
       "      <td>318.0</td>\n",
       "      <td>150</td>\n",
       "      <td>3436</td>\n",
       "      <td>11.0</td>\n",
       "      <td>70</td>\n",
       "      <td>1</td>\n",
       "      <td>plymouth satellite</td>\n",
       "    </tr>\n",
       "    <tr>\n",
       "      <th>3</th>\n",
       "      <td>16.0</td>\n",
       "      <td>8</td>\n",
       "      <td>304.0</td>\n",
       "      <td>150</td>\n",
       "      <td>3433</td>\n",
       "      <td>12.0</td>\n",
       "      <td>70</td>\n",
       "      <td>1</td>\n",
       "      <td>amc rebel sst</td>\n",
       "    </tr>\n",
       "    <tr>\n",
       "      <th>4</th>\n",
       "      <td>17.0</td>\n",
       "      <td>8</td>\n",
       "      <td>302.0</td>\n",
       "      <td>140</td>\n",
       "      <td>3449</td>\n",
       "      <td>10.5</td>\n",
       "      <td>70</td>\n",
       "      <td>1</td>\n",
       "      <td>ford torino</td>\n",
       "    </tr>\n",
       "  </tbody>\n",
       "</table>\n",
       "</div>"
      ],
      "text/plain": [
       "    mpg  cylinders  displacement  horsepower  weight  acceleration  \\\n",
       "0  18.0          8         307.0         130    3504          12.0   \n",
       "1  15.0          8         350.0         165    3693          11.5   \n",
       "2  18.0          8         318.0         150    3436          11.0   \n",
       "3  16.0          8         304.0         150    3433          12.0   \n",
       "4  17.0          8         302.0         140    3449          10.5   \n",
       "\n",
       "   model year  origin                   car name  \n",
       "0          70       1  chevrolet chevelle malibu  \n",
       "1          70       1          buick skylark 320  \n",
       "2          70       1         plymouth satellite  \n",
       "3          70       1              amc rebel sst  \n",
       "4          70       1                ford torino  "
      ]
     },
     "execution_count": 26,
     "metadata": {},
     "output_type": "execute_result"
    }
   ],
   "source": [
    "dataset.head()"
   ]
  },
  {
   "cell_type": "code",
   "execution_count": 27,
   "metadata": {},
   "outputs": [],
   "source": [
    "mpg_data = dataset.iloc[:,[1,2,3,4,6]]\n",
    "mpg_target = dataset.iloc[:,0]"
   ]
  },
  {
   "cell_type": "code",
   "execution_count": 28,
   "metadata": {},
   "outputs": [
    {
     "data": {
      "text/plain": [
       "((398, 5), (398,))"
      ]
     },
     "execution_count": 28,
     "metadata": {},
     "output_type": "execute_result"
    }
   ],
   "source": [
    "mpg_data.shape, mpg_target.shape"
   ]
  },
  {
   "cell_type": "code",
   "execution_count": 173,
   "metadata": {},
   "outputs": [],
   "source": [
    "# 회귀는 activation이 필요없어\n",
    "model = Sequential(name = 'autompg')\n",
    "l1 = Dense(150,  input_shape = (5,))\n",
    "l2 = Dense(150)"
   ]
  },
  {
   "cell_type": "code",
   "execution_count": 174,
   "metadata": {},
   "outputs": [],
   "source": [
    "model.add(l1)\n",
    "model.add(l2)"
   ]
  },
  {
   "cell_type": "code",
   "execution_count": 175,
   "metadata": {},
   "outputs": [
    {
     "name": "stdout",
     "output_type": "stream",
     "text": [
      "Model: \"autompg\"\n",
      "_________________________________________________________________\n",
      " Layer (type)                Output Shape              Param #   \n",
      "=================================================================\n",
      " dense_40 (Dense)            (None, 150)               900       \n",
      "                                                                 \n",
      " dense_41 (Dense)            (None, 150)               22650     \n",
      "                                                                 \n",
      "=================================================================\n",
      "Total params: 23,550\n",
      "Trainable params: 23,550\n",
      "Non-trainable params: 0\n",
      "_________________________________________________________________\n"
     ]
    }
   ],
   "source": [
    "model.summary()"
   ]
  },
  {
   "cell_type": "code",
   "execution_count": 176,
   "metadata": {},
   "outputs": [],
   "source": [
    "model.compile(optimizer= 'adam', loss='mae', metrics = ['accuracy'])"
   ]
  },
  {
   "cell_type": "code",
   "execution_count": 177,
   "metadata": {},
   "outputs": [],
   "source": [
    "train_x, test_x, train_y, test_y = train_test_split(mpg_data, mpg_target, random_state=42)"
   ]
  },
  {
   "cell_type": "code",
   "execution_count": 184,
   "metadata": {},
   "outputs": [
    {
     "name": "stdout",
     "output_type": "stream",
     "text": [
      "Epoch 1/270\n",
      "10/10 [==============================] - 0s 2ms/step - loss: 2.9457 - accuracy: 0.0101\n",
      "Epoch 2/270\n",
      "10/10 [==============================] - 0s 2ms/step - loss: 2.8131 - accuracy: 0.0067\n",
      "Epoch 3/270\n",
      "10/10 [==============================] - 0s 2ms/step - loss: 2.9643 - accuracy: 0.0000e+00\n",
      "Epoch 4/270\n",
      "10/10 [==============================] - 0s 3ms/step - loss: 3.2624 - accuracy: 0.0067\n",
      "Epoch 5/270\n",
      "10/10 [==============================] - 0s 3ms/step - loss: 2.9746 - accuracy: 0.0034\n",
      "Epoch 6/270\n",
      "10/10 [==============================] - 0s 2ms/step - loss: 3.0872 - accuracy: 0.0034\n",
      "Epoch 7/270\n",
      "10/10 [==============================] - 0s 2ms/step - loss: 2.9749 - accuracy: 0.0067\n",
      "Epoch 8/270\n",
      "10/10 [==============================] - 0s 3ms/step - loss: 2.8549 - accuracy: 0.0000e+00\n",
      "Epoch 9/270\n",
      "10/10 [==============================] - 0s 2ms/step - loss: 2.9846 - accuracy: 0.0000e+00\n",
      "Epoch 10/270\n",
      "10/10 [==============================] - 0s 2ms/step - loss: 3.0944 - accuracy: 0.0000e+00\n",
      "Epoch 11/270\n",
      "10/10 [==============================] - 0s 2ms/step - loss: 3.1875 - accuracy: 0.0000e+00\n",
      "Epoch 12/270\n",
      "10/10 [==============================] - 0s 2ms/step - loss: 2.9621 - accuracy: 0.0034\n",
      "Epoch 13/270\n",
      "10/10 [==============================] - 0s 2ms/step - loss: 3.0109 - accuracy: 0.0000e+00\n",
      "Epoch 14/270\n",
      "10/10 [==============================] - 0s 2ms/step - loss: 2.9317 - accuracy: 0.0000e+00\n",
      "Epoch 15/270\n",
      "10/10 [==============================] - 0s 2ms/step - loss: 3.0519 - accuracy: 0.0034\n",
      "Epoch 16/270\n",
      "10/10 [==============================] - 0s 2ms/step - loss: 3.2670 - accuracy: 0.0034\n",
      "Epoch 17/270\n",
      "10/10 [==============================] - 0s 2ms/step - loss: 2.9731 - accuracy: 0.0101\n",
      "Epoch 18/270\n",
      "10/10 [==============================] - 0s 2ms/step - loss: 2.8030 - accuracy: 0.0000e+00\n",
      "Epoch 19/270\n",
      "10/10 [==============================] - 0s 2ms/step - loss: 2.8859 - accuracy: 0.0000e+00\n",
      "Epoch 20/270\n",
      "10/10 [==============================] - 0s 2ms/step - loss: 2.8950 - accuracy: 0.0067\n",
      "Epoch 21/270\n",
      "10/10 [==============================] - 0s 2ms/step - loss: 2.8632 - accuracy: 0.0000e+00\n",
      "Epoch 22/270\n",
      "10/10 [==============================] - 0s 2ms/step - loss: 2.9035 - accuracy: 0.0000e+00\n",
      "Epoch 23/270\n",
      "10/10 [==============================] - 0s 2ms/step - loss: 2.7714 - accuracy: 0.0067\n",
      "Epoch 24/270\n",
      "10/10 [==============================] - 0s 2ms/step - loss: 2.7713 - accuracy: 0.0000e+00\n",
      "Epoch 25/270\n",
      "10/10 [==============================] - 0s 2ms/step - loss: 2.8926 - accuracy: 0.0034\n",
      "Epoch 26/270\n",
      "10/10 [==============================] - 0s 2ms/step - loss: 2.7662 - accuracy: 0.0000e+00\n",
      "Epoch 27/270\n",
      "10/10 [==============================] - 0s 2ms/step - loss: 2.7776 - accuracy: 0.0000e+00\n",
      "Epoch 28/270\n",
      "10/10 [==============================] - 0s 2ms/step - loss: 2.8220 - accuracy: 0.0034\n",
      "Epoch 29/270\n",
      "10/10 [==============================] - 0s 2ms/step - loss: 3.1338 - accuracy: 0.0034\n",
      "Epoch 30/270\n",
      "10/10 [==============================] - 0s 2ms/step - loss: 3.1207 - accuracy: 0.0034\n",
      "Epoch 31/270\n",
      "10/10 [==============================] - 0s 2ms/step - loss: 3.2498 - accuracy: 0.0000e+00\n",
      "Epoch 32/270\n",
      "10/10 [==============================] - 0s 2ms/step - loss: 2.9204 - accuracy: 0.0000e+00\n",
      "Epoch 33/270\n",
      "10/10 [==============================] - 0s 2ms/step - loss: 2.8674 - accuracy: 0.0000e+00\n",
      "Epoch 34/270\n",
      "10/10 [==============================] - 0s 2ms/step - loss: 2.9045 - accuracy: 0.0134\n",
      "Epoch 35/270\n",
      "10/10 [==============================] - 0s 2ms/step - loss: 3.0476 - accuracy: 0.0000e+00\n",
      "Epoch 36/270\n",
      "10/10 [==============================] - 0s 2ms/step - loss: 2.8534 - accuracy: 0.0034\n",
      "Epoch 37/270\n",
      "10/10 [==============================] - 0s 2ms/step - loss: 2.8944 - accuracy: 0.0034\n",
      "Epoch 38/270\n",
      "10/10 [==============================] - 0s 2ms/step - loss: 2.7717 - accuracy: 0.0000e+00\n",
      "Epoch 39/270\n",
      "10/10 [==============================] - 0s 2ms/step - loss: 2.8255 - accuracy: 0.0000e+00\n",
      "Epoch 40/270\n",
      "10/10 [==============================] - 0s 2ms/step - loss: 2.8701 - accuracy: 0.0034\n",
      "Epoch 41/270\n",
      "10/10 [==============================] - 0s 2ms/step - loss: 2.9009 - accuracy: 0.0000e+00\n",
      "Epoch 42/270\n",
      "10/10 [==============================] - 0s 2ms/step - loss: 3.3283 - accuracy: 0.0000e+00\n",
      "Epoch 43/270\n",
      "10/10 [==============================] - 0s 2ms/step - loss: 3.1275 - accuracy: 0.0000e+00\n",
      "Epoch 44/270\n",
      "10/10 [==============================] - 0s 2ms/step - loss: 3.0629 - accuracy: 0.0000e+00\n",
      "Epoch 45/270\n",
      "10/10 [==============================] - 0s 2ms/step - loss: 2.9452 - accuracy: 0.0000e+00\n",
      "Epoch 46/270\n",
      "10/10 [==============================] - 0s 2ms/step - loss: 2.9706 - accuracy: 0.0101\n",
      "Epoch 47/270\n",
      "10/10 [==============================] - 0s 2ms/step - loss: 3.1309 - accuracy: 0.0000e+00\n",
      "Epoch 48/270\n",
      "10/10 [==============================] - 0s 2ms/step - loss: 3.0889 - accuracy: 0.0034\n",
      "Epoch 49/270\n",
      "10/10 [==============================] - 0s 2ms/step - loss: 2.8655 - accuracy: 0.0000e+00\n",
      "Epoch 50/270\n",
      "10/10 [==============================] - 0s 2ms/step - loss: 2.7955 - accuracy: 0.0067\n",
      "Epoch 51/270\n",
      "10/10 [==============================] - 0s 2ms/step - loss: 2.7961 - accuracy: 0.0000e+00\n",
      "Epoch 52/270\n",
      "10/10 [==============================] - 0s 2ms/step - loss: 2.7854 - accuracy: 0.0067\n",
      "Epoch 53/270\n",
      "10/10 [==============================] - 0s 2ms/step - loss: 2.9031 - accuracy: 0.0067\n",
      "Epoch 54/270\n",
      "10/10 [==============================] - 0s 2ms/step - loss: 2.9903 - accuracy: 0.0000e+00\n",
      "Epoch 55/270\n",
      "10/10 [==============================] - 0s 2ms/step - loss: 2.8721 - accuracy: 0.0034\n",
      "Epoch 56/270\n",
      "10/10 [==============================] - 0s 2ms/step - loss: 2.9727 - accuracy: 0.0000e+00\n",
      "Epoch 57/270\n",
      "10/10 [==============================] - 0s 2ms/step - loss: 2.7956 - accuracy: 0.0034\n",
      "Epoch 58/270\n",
      "10/10 [==============================] - 0s 2ms/step - loss: 2.9599 - accuracy: 0.0000e+00\n",
      "Epoch 59/270\n",
      "10/10 [==============================] - 0s 2ms/step - loss: 3.2863 - accuracy: 0.0000e+00\n",
      "Epoch 60/270\n",
      "10/10 [==============================] - 0s 2ms/step - loss: 2.9141 - accuracy: 0.0134\n",
      "Epoch 61/270\n",
      "10/10 [==============================] - 0s 2ms/step - loss: 3.3852 - accuracy: 0.0000e+00\n",
      "Epoch 62/270\n",
      "10/10 [==============================] - 0s 2ms/step - loss: 2.9022 - accuracy: 0.0000e+00\n",
      "Epoch 63/270\n",
      "10/10 [==============================] - 0s 2ms/step - loss: 2.8127 - accuracy: 0.0000e+00\n",
      "Epoch 64/270\n",
      "10/10 [==============================] - 0s 2ms/step - loss: 2.8626 - accuracy: 0.0000e+00\n",
      "Epoch 65/270\n",
      "10/10 [==============================] - 0s 2ms/step - loss: 3.2345 - accuracy: 0.0000e+00\n",
      "Epoch 66/270\n",
      "10/10 [==============================] - 0s 2ms/step - loss: 2.9978 - accuracy: 0.0000e+00\n",
      "Epoch 67/270\n",
      "10/10 [==============================] - 0s 2ms/step - loss: 2.8360 - accuracy: 0.0034\n",
      "Epoch 68/270\n",
      "10/10 [==============================] - 0s 2ms/step - loss: 2.8269 - accuracy: 0.0067\n",
      "Epoch 69/270\n",
      "10/10 [==============================] - 0s 2ms/step - loss: 2.8693 - accuracy: 0.0067\n",
      "Epoch 70/270\n",
      "10/10 [==============================] - 0s 2ms/step - loss: 2.8950 - accuracy: 0.0034\n",
      "Epoch 71/270\n",
      "10/10 [==============================] - 0s 2ms/step - loss: 3.3697 - accuracy: 0.0000e+00\n",
      "Epoch 72/270\n",
      "10/10 [==============================] - 0s 2ms/step - loss: 3.0090 - accuracy: 0.0168\n",
      "Epoch 73/270\n",
      "10/10 [==============================] - 0s 2ms/step - loss: 2.9323 - accuracy: 0.0000e+00\n",
      "Epoch 74/270\n",
      "10/10 [==============================] - 0s 2ms/step - loss: 3.2349 - accuracy: 0.0000e+00\n",
      "Epoch 75/270\n",
      "10/10 [==============================] - 0s 2ms/step - loss: 3.2907 - accuracy: 0.0000e+00\n",
      "Epoch 76/270\n",
      "10/10 [==============================] - 0s 2ms/step - loss: 2.9384 - accuracy: 0.0000e+00\n",
      "Epoch 77/270\n",
      "10/10 [==============================] - 0s 2ms/step - loss: 3.3105 - accuracy: 0.0034\n",
      "Epoch 78/270\n",
      "10/10 [==============================] - 0s 2ms/step - loss: 3.0364 - accuracy: 0.0034\n",
      "Epoch 79/270\n",
      "10/10 [==============================] - 0s 2ms/step - loss: 2.9728 - accuracy: 0.0000e+00\n",
      "Epoch 80/270\n",
      "10/10 [==============================] - 0s 2ms/step - loss: 3.0400 - accuracy: 0.0000e+00\n",
      "Epoch 81/270\n",
      "10/10 [==============================] - 0s 2ms/step - loss: 3.2523 - accuracy: 0.0101\n",
      "Epoch 82/270\n",
      "10/10 [==============================] - 0s 2ms/step - loss: 3.0934 - accuracy: 0.0101\n",
      "Epoch 83/270\n",
      "10/10 [==============================] - 0s 2ms/step - loss: 2.8695 - accuracy: 0.0000e+00\n",
      "Epoch 84/270\n",
      "10/10 [==============================] - 0s 2ms/step - loss: 2.8372 - accuracy: 0.0034\n",
      "Epoch 85/270\n",
      "10/10 [==============================] - 0s 2ms/step - loss: 2.8052 - accuracy: 0.0034\n",
      "Epoch 86/270\n",
      "10/10 [==============================] - 0s 2ms/step - loss: 2.9218 - accuracy: 0.0034\n",
      "Epoch 87/270\n",
      "10/10 [==============================] - 0s 2ms/step - loss: 2.7834 - accuracy: 0.0101\n",
      "Epoch 88/270\n",
      "10/10 [==============================] - 0s 2ms/step - loss: 2.8167 - accuracy: 0.0000e+00\n",
      "Epoch 89/270\n",
      "10/10 [==============================] - 0s 2ms/step - loss: 3.0372 - accuracy: 0.0067\n",
      "Epoch 90/270\n",
      "10/10 [==============================] - 0s 2ms/step - loss: 3.0168 - accuracy: 0.0101\n",
      "Epoch 91/270\n",
      "10/10 [==============================] - 0s 2ms/step - loss: 2.7896 - accuracy: 0.0000e+00\n",
      "Epoch 92/270\n",
      "10/10 [==============================] - 0s 2ms/step - loss: 2.9368 - accuracy: 0.0034\n",
      "Epoch 93/270\n",
      "10/10 [==============================] - 0s 2ms/step - loss: 2.9163 - accuracy: 0.0000e+00\n",
      "Epoch 94/270\n",
      "10/10 [==============================] - 0s 2ms/step - loss: 2.8200 - accuracy: 0.0034\n",
      "Epoch 95/270\n",
      "10/10 [==============================] - 0s 2ms/step - loss: 2.8649 - accuracy: 0.0000e+00\n",
      "Epoch 96/270\n",
      "10/10 [==============================] - 0s 2ms/step - loss: 2.8221 - accuracy: 0.0000e+00\n",
      "Epoch 97/270\n",
      "10/10 [==============================] - 0s 2ms/step - loss: 2.8554 - accuracy: 0.0034\n",
      "Epoch 98/270\n",
      "10/10 [==============================] - 0s 2ms/step - loss: 2.8334 - accuracy: 0.0000e+00\n",
      "Epoch 99/270\n",
      "10/10 [==============================] - 0s 2ms/step - loss: 2.8765 - accuracy: 0.0067\n",
      "Epoch 100/270\n",
      "10/10 [==============================] - 0s 2ms/step - loss: 3.0340 - accuracy: 0.0101\n",
      "Epoch 101/270\n",
      "10/10 [==============================] - 0s 2ms/step - loss: 3.1776 - accuracy: 0.0034\n",
      "Epoch 102/270\n",
      "10/10 [==============================] - 0s 2ms/step - loss: 3.1231 - accuracy: 0.0000e+00\n",
      "Epoch 103/270\n",
      "10/10 [==============================] - 0s 2ms/step - loss: 2.9985 - accuracy: 0.0000e+00\n",
      "Epoch 104/270\n",
      "10/10 [==============================] - 0s 2ms/step - loss: 3.0623 - accuracy: 0.0000e+00\n",
      "Epoch 105/270\n",
      "10/10 [==============================] - 0s 2ms/step - loss: 3.3801 - accuracy: 0.0000e+00\n",
      "Epoch 106/270\n",
      "10/10 [==============================] - 0s 2ms/step - loss: 2.9160 - accuracy: 0.0000e+00\n",
      "Epoch 107/270\n",
      "10/10 [==============================] - 0s 2ms/step - loss: 2.7719 - accuracy: 0.0000e+00\n",
      "Epoch 108/270\n",
      "10/10 [==============================] - 0s 2ms/step - loss: 2.7472 - accuracy: 0.0034\n",
      "Epoch 109/270\n",
      "10/10 [==============================] - 0s 2ms/step - loss: 2.8062 - accuracy: 0.0034\n",
      "Epoch 110/270\n",
      "10/10 [==============================] - 0s 2ms/step - loss: 2.7499 - accuracy: 0.0101\n",
      "Epoch 111/270\n",
      "10/10 [==============================] - 0s 2ms/step - loss: 2.8006 - accuracy: 0.0034\n",
      "Epoch 112/270\n",
      "10/10 [==============================] - 0s 2ms/step - loss: 3.0759 - accuracy: 0.0000e+00\n",
      "Epoch 113/270\n",
      "10/10 [==============================] - 0s 2ms/step - loss: 3.1099 - accuracy: 0.0101\n",
      "Epoch 114/270\n",
      "10/10 [==============================] - 0s 2ms/step - loss: 2.9744 - accuracy: 0.0168\n",
      "Epoch 115/270\n",
      "10/10 [==============================] - 0s 2ms/step - loss: 2.8296 - accuracy: 0.0067\n",
      "Epoch 116/270\n",
      "10/10 [==============================] - 0s 2ms/step - loss: 2.8327 - accuracy: 0.0034\n",
      "Epoch 117/270\n",
      "10/10 [==============================] - 0s 2ms/step - loss: 2.8312 - accuracy: 0.0067\n",
      "Epoch 118/270\n",
      "10/10 [==============================] - 0s 2ms/step - loss: 2.8752 - accuracy: 0.0000e+00\n",
      "Epoch 119/270\n",
      "10/10 [==============================] - 0s 2ms/step - loss: 3.0251 - accuracy: 0.0134\n",
      "Epoch 120/270\n",
      "10/10 [==============================] - 0s 2ms/step - loss: 3.0792 - accuracy: 0.0101\n",
      "Epoch 121/270\n",
      "10/10 [==============================] - 0s 2ms/step - loss: 2.9342 - accuracy: 0.0034\n",
      "Epoch 122/270\n",
      "10/10 [==============================] - 0s 2ms/step - loss: 3.0293 - accuracy: 0.0000e+00\n",
      "Epoch 123/270\n",
      "10/10 [==============================] - 0s 2ms/step - loss: 3.1773 - accuracy: 0.0101\n",
      "Epoch 124/270\n",
      "10/10 [==============================] - 0s 2ms/step - loss: 3.2672 - accuracy: 0.0268\n",
      "Epoch 125/270\n",
      "10/10 [==============================] - 0s 2ms/step - loss: 3.1425 - accuracy: 0.0201\n",
      "Epoch 126/270\n",
      "10/10 [==============================] - 0s 3ms/step - loss: 2.9752 - accuracy: 0.0000e+00\n",
      "Epoch 127/270\n",
      "10/10 [==============================] - 0s 2ms/step - loss: 2.9921 - accuracy: 0.0000e+00\n",
      "Epoch 128/270\n",
      "10/10 [==============================] - 0s 2ms/step - loss: 2.7971 - accuracy: 0.0034\n",
      "Epoch 129/270\n",
      "10/10 [==============================] - 0s 2ms/step - loss: 2.8628 - accuracy: 0.0000e+00\n",
      "Epoch 130/270\n",
      "10/10 [==============================] - 0s 2ms/step - loss: 2.8797 - accuracy: 0.0067\n",
      "Epoch 131/270\n",
      "10/10 [==============================] - 0s 2ms/step - loss: 2.8693 - accuracy: 0.0067\n",
      "Epoch 132/270\n",
      "10/10 [==============================] - 0s 2ms/step - loss: 2.7672 - accuracy: 0.0067\n",
      "Epoch 133/270\n",
      "10/10 [==============================] - 0s 2ms/step - loss: 2.8562 - accuracy: 0.0000e+00\n",
      "Epoch 134/270\n",
      "10/10 [==============================] - 0s 2ms/step - loss: 2.7543 - accuracy: 0.0000e+00\n",
      "Epoch 135/270\n",
      "10/10 [==============================] - 0s 2ms/step - loss: 2.8017 - accuracy: 0.0034\n",
      "Epoch 136/270\n",
      "10/10 [==============================] - 0s 2ms/step - loss: 2.7658 - accuracy: 0.0034\n",
      "Epoch 137/270\n",
      "10/10 [==============================] - 0s 2ms/step - loss: 2.8776 - accuracy: 0.0034\n",
      "Epoch 138/270\n",
      "10/10 [==============================] - 0s 2ms/step - loss: 2.7919 - accuracy: 0.0034\n",
      "Epoch 139/270\n",
      "10/10 [==============================] - 0s 2ms/step - loss: 2.8441 - accuracy: 0.0034\n",
      "Epoch 140/270\n",
      "10/10 [==============================] - 0s 2ms/step - loss: 2.7927 - accuracy: 0.0134\n",
      "Epoch 141/270\n",
      "10/10 [==============================] - 0s 2ms/step - loss: 3.2159 - accuracy: 0.0067\n",
      "Epoch 142/270\n",
      "10/10 [==============================] - 0s 2ms/step - loss: 3.2292 - accuracy: 0.0067\n",
      "Epoch 143/270\n",
      "10/10 [==============================] - 0s 3ms/step - loss: 3.2848 - accuracy: 0.0000e+00\n",
      "Epoch 144/270\n",
      "10/10 [==============================] - 0s 2ms/step - loss: 2.9779 - accuracy: 0.0101\n",
      "Epoch 145/270\n",
      "10/10 [==============================] - 0s 2ms/step - loss: 2.9018 - accuracy: 0.0034\n",
      "Epoch 146/270\n",
      "10/10 [==============================] - 0s 2ms/step - loss: 2.8192 - accuracy: 0.0000e+00\n",
      "Epoch 147/270\n",
      "10/10 [==============================] - 0s 2ms/step - loss: 2.7892 - accuracy: 0.0000e+00\n",
      "Epoch 148/270\n",
      "10/10 [==============================] - 0s 2ms/step - loss: 2.7621 - accuracy: 0.0067\n",
      "Epoch 149/270\n",
      "10/10 [==============================] - 0s 2ms/step - loss: 2.7644 - accuracy: 0.0000e+00\n",
      "Epoch 150/270\n",
      "10/10 [==============================] - 0s 2ms/step - loss: 2.7431 - accuracy: 0.0034\n",
      "Epoch 151/270\n",
      "10/10 [==============================] - 0s 2ms/step - loss: 2.7932 - accuracy: 0.0034\n",
      "Epoch 152/270\n",
      "10/10 [==============================] - 0s 2ms/step - loss: 2.7464 - accuracy: 0.0134\n",
      "Epoch 153/270\n",
      "10/10 [==============================] - 0s 2ms/step - loss: 2.7556 - accuracy: 0.0034\n",
      "Epoch 154/270\n",
      "10/10 [==============================] - 0s 2ms/step - loss: 2.7806 - accuracy: 0.0067\n",
      "Epoch 155/270\n",
      "10/10 [==============================] - 0s 2ms/step - loss: 3.0637 - accuracy: 0.0101\n",
      "Epoch 156/270\n",
      "10/10 [==============================] - 0s 2ms/step - loss: 3.0408 - accuracy: 0.0000e+00\n",
      "Epoch 157/270\n",
      "10/10 [==============================] - 0s 2ms/step - loss: 2.8232 - accuracy: 0.0000e+00\n",
      "Epoch 158/270\n",
      "10/10 [==============================] - 0s 2ms/step - loss: 2.7760 - accuracy: 0.0067\n",
      "Epoch 159/270\n",
      "10/10 [==============================] - 0s 2ms/step - loss: 2.8308 - accuracy: 0.0000e+00\n",
      "Epoch 160/270\n",
      "10/10 [==============================] - 0s 2ms/step - loss: 2.9136 - accuracy: 0.0034\n",
      "Epoch 161/270\n",
      "10/10 [==============================] - 0s 2ms/step - loss: 3.1286 - accuracy: 0.0101\n",
      "Epoch 162/270\n",
      "10/10 [==============================] - 0s 2ms/step - loss: 3.2821 - accuracy: 0.0000e+00\n",
      "Epoch 163/270\n",
      "10/10 [==============================] - 0s 2ms/step - loss: 3.0738 - accuracy: 0.0000e+00\n",
      "Epoch 164/270\n",
      "10/10 [==============================] - 0s 2ms/step - loss: 2.8321 - accuracy: 0.0134\n",
      "Epoch 165/270\n",
      "10/10 [==============================] - 0s 2ms/step - loss: 2.8413 - accuracy: 0.0034\n",
      "Epoch 166/270\n",
      "10/10 [==============================] - 0s 2ms/step - loss: 2.9161 - accuracy: 0.0067\n",
      "Epoch 167/270\n",
      "10/10 [==============================] - 0s 2ms/step - loss: 2.8797 - accuracy: 0.0000e+00\n",
      "Epoch 168/270\n",
      "10/10 [==============================] - 0s 2ms/step - loss: 2.7763 - accuracy: 0.0168\n",
      "Epoch 169/270\n",
      "10/10 [==============================] - 0s 2ms/step - loss: 2.8637 - accuracy: 0.0134\n",
      "Epoch 170/270\n",
      "10/10 [==============================] - 0s 2ms/step - loss: 2.8754 - accuracy: 0.0034\n",
      "Epoch 171/270\n",
      "10/10 [==============================] - 0s 2ms/step - loss: 2.7941 - accuracy: 0.0034\n",
      "Epoch 172/270\n",
      "10/10 [==============================] - 0s 2ms/step - loss: 2.7479 - accuracy: 0.0067\n",
      "Epoch 173/270\n",
      "10/10 [==============================] - 0s 2ms/step - loss: 2.9893 - accuracy: 0.0000e+00\n",
      "Epoch 174/270\n",
      "10/10 [==============================] - 0s 3ms/step - loss: 2.8838 - accuracy: 0.0000e+00\n",
      "Epoch 175/270\n",
      "10/10 [==============================] - 0s 2ms/step - loss: 2.8688 - accuracy: 0.0034\n",
      "Epoch 176/270\n",
      "10/10 [==============================] - 0s 2ms/step - loss: 2.8439 - accuracy: 0.0000e+00\n",
      "Epoch 177/270\n",
      "10/10 [==============================] - 0s 2ms/step - loss: 2.7989 - accuracy: 0.0000e+00\n",
      "Epoch 178/270\n",
      "10/10 [==============================] - 0s 2ms/step - loss: 2.8957 - accuracy: 0.0034\n",
      "Epoch 179/270\n",
      "10/10 [==============================] - 0s 2ms/step - loss: 2.8066 - accuracy: 0.0000e+00\n",
      "Epoch 180/270\n",
      "10/10 [==============================] - 0s 2ms/step - loss: 2.7845 - accuracy: 0.0168\n",
      "Epoch 181/270\n",
      "10/10 [==============================] - 0s 2ms/step - loss: 2.8872 - accuracy: 0.0101\n",
      "Epoch 182/270\n",
      "10/10 [==============================] - 0s 2ms/step - loss: 2.9602 - accuracy: 0.0000e+00\n",
      "Epoch 183/270\n",
      "10/10 [==============================] - 0s 2ms/step - loss: 2.9195 - accuracy: 0.0000e+00\n",
      "Epoch 184/270\n",
      "10/10 [==============================] - 0s 2ms/step - loss: 2.8691 - accuracy: 0.0000e+00\n",
      "Epoch 185/270\n",
      "10/10 [==============================] - 0s 2ms/step - loss: 2.8405 - accuracy: 0.0034\n",
      "Epoch 186/270\n",
      "10/10 [==============================] - 0s 2ms/step - loss: 2.7575 - accuracy: 0.0000e+00\n",
      "Epoch 187/270\n",
      "10/10 [==============================] - 0s 2ms/step - loss: 2.7696 - accuracy: 0.0034\n",
      "Epoch 188/270\n",
      "10/10 [==============================] - 0s 2ms/step - loss: 2.7966 - accuracy: 0.0101\n",
      "Epoch 189/270\n",
      "10/10 [==============================] - 0s 2ms/step - loss: 2.7607 - accuracy: 0.0034\n",
      "Epoch 190/270\n",
      "10/10 [==============================] - 0s 2ms/step - loss: 2.8596 - accuracy: 0.0101\n",
      "Epoch 191/270\n",
      "10/10 [==============================] - 0s 2ms/step - loss: 2.7587 - accuracy: 0.0034\n",
      "Epoch 192/270\n",
      "10/10 [==============================] - 0s 2ms/step - loss: 2.7715 - accuracy: 0.0000e+00\n",
      "Epoch 193/270\n",
      "10/10 [==============================] - 0s 2ms/step - loss: 2.9039 - accuracy: 0.0000e+00\n",
      "Epoch 194/270\n",
      "10/10 [==============================] - 0s 2ms/step - loss: 2.8387 - accuracy: 0.0000e+00\n",
      "Epoch 195/270\n",
      "10/10 [==============================] - 0s 2ms/step - loss: 2.7593 - accuracy: 0.0101\n",
      "Epoch 196/270\n",
      "10/10 [==============================] - 0s 2ms/step - loss: 2.7425 - accuracy: 0.0034\n",
      "Epoch 197/270\n",
      "10/10 [==============================] - 0s 2ms/step - loss: 2.7890 - accuracy: 0.0101\n",
      "Epoch 198/270\n",
      "10/10 [==============================] - 0s 2ms/step - loss: 2.9788 - accuracy: 0.0000e+00\n",
      "Epoch 199/270\n",
      "10/10 [==============================] - 0s 2ms/step - loss: 2.8932 - accuracy: 0.0034\n",
      "Epoch 200/270\n",
      "10/10 [==============================] - 0s 2ms/step - loss: 2.8275 - accuracy: 0.0000e+00\n",
      "Epoch 201/270\n",
      "10/10 [==============================] - 0s 3ms/step - loss: 2.8061 - accuracy: 0.0067\n",
      "Epoch 202/270\n",
      "10/10 [==============================] - 0s 2ms/step - loss: 2.8137 - accuracy: 0.0201\n",
      "Epoch 203/270\n",
      "10/10 [==============================] - 0s 2ms/step - loss: 2.9579 - accuracy: 0.0134\n",
      "Epoch 204/270\n",
      "10/10 [==============================] - 0s 2ms/step - loss: 2.9399 - accuracy: 0.0134\n",
      "Epoch 205/270\n",
      "10/10 [==============================] - 0s 2ms/step - loss: 2.9262 - accuracy: 0.0034\n",
      "Epoch 206/270\n",
      "10/10 [==============================] - 0s 4ms/step - loss: 2.8800 - accuracy: 0.0034\n",
      "Epoch 207/270\n",
      "10/10 [==============================] - 0s 3ms/step - loss: 2.7979 - accuracy: 0.0034\n",
      "Epoch 208/270\n",
      "10/10 [==============================] - 0s 4ms/step - loss: 2.7394 - accuracy: 0.0067\n",
      "Epoch 209/270\n",
      "10/10 [==============================] - 0s 3ms/step - loss: 2.8391 - accuracy: 0.0034\n",
      "Epoch 210/270\n",
      "10/10 [==============================] - 0s 2ms/step - loss: 2.7926 - accuracy: 0.0168\n",
      "Epoch 211/270\n",
      "10/10 [==============================] - 0s 2ms/step - loss: 2.8727 - accuracy: 0.0000e+00\n",
      "Epoch 212/270\n",
      "10/10 [==============================] - 0s 2ms/step - loss: 2.7500 - accuracy: 0.0034\n",
      "Epoch 213/270\n",
      "10/10 [==============================] - 0s 2ms/step - loss: 3.0773 - accuracy: 0.0034\n",
      "Epoch 214/270\n",
      "10/10 [==============================] - 0s 2ms/step - loss: 2.9094 - accuracy: 0.0101\n",
      "Epoch 215/270\n",
      "10/10 [==============================] - 0s 2ms/step - loss: 3.1826 - accuracy: 0.0034\n",
      "Epoch 216/270\n",
      "10/10 [==============================] - 0s 2ms/step - loss: 2.8472 - accuracy: 0.0034\n",
      "Epoch 217/270\n",
      "10/10 [==============================] - 0s 2ms/step - loss: 2.9000 - accuracy: 0.0000e+00\n",
      "Epoch 218/270\n",
      "10/10 [==============================] - 0s 2ms/step - loss: 2.8143 - accuracy: 0.0101\n",
      "Epoch 219/270\n",
      "10/10 [==============================] - 0s 2ms/step - loss: 2.9335 - accuracy: 0.0000e+00\n",
      "Epoch 220/270\n",
      "10/10 [==============================] - 0s 2ms/step - loss: 2.7863 - accuracy: 0.0067\n",
      "Epoch 221/270\n",
      "10/10 [==============================] - 0s 2ms/step - loss: 2.7971 - accuracy: 0.0067\n",
      "Epoch 222/270\n",
      "10/10 [==============================] - 0s 2ms/step - loss: 3.1213 - accuracy: 0.0000e+00\n",
      "Epoch 223/270\n",
      "10/10 [==============================] - 0s 2ms/step - loss: 3.0734 - accuracy: 0.0000e+00\n",
      "Epoch 224/270\n",
      "10/10 [==============================] - 0s 2ms/step - loss: 3.2395 - accuracy: 0.0000e+00\n",
      "Epoch 225/270\n",
      "10/10 [==============================] - 0s 2ms/step - loss: 3.0177 - accuracy: 0.0000e+00\n",
      "Epoch 226/270\n",
      "10/10 [==============================] - 0s 2ms/step - loss: 3.0780 - accuracy: 0.0067\n",
      "Epoch 227/270\n",
      "10/10 [==============================] - 0s 2ms/step - loss: 2.9474 - accuracy: 0.0000e+00\n",
      "Epoch 228/270\n",
      "10/10 [==============================] - 0s 2ms/step - loss: 2.9132 - accuracy: 0.0000e+00\n",
      "Epoch 229/270\n",
      "10/10 [==============================] - 0s 2ms/step - loss: 2.9672 - accuracy: 0.0101\n",
      "Epoch 230/270\n",
      "10/10 [==============================] - 0s 2ms/step - loss: 2.7966 - accuracy: 0.0000e+00\n",
      "Epoch 231/270\n",
      "10/10 [==============================] - 0s 2ms/step - loss: 2.7867 - accuracy: 0.0101\n",
      "Epoch 232/270\n",
      "10/10 [==============================] - 0s 2ms/step - loss: 2.9644 - accuracy: 0.0034\n",
      "Epoch 233/270\n",
      "10/10 [==============================] - 0s 2ms/step - loss: 2.8579 - accuracy: 0.0101\n",
      "Epoch 234/270\n",
      "10/10 [==============================] - 0s 2ms/step - loss: 2.8860 - accuracy: 0.0168\n",
      "Epoch 235/270\n",
      "10/10 [==============================] - 0s 2ms/step - loss: 2.8620 - accuracy: 0.0034\n",
      "Epoch 236/270\n",
      "10/10 [==============================] - 0s 3ms/step - loss: 2.7962 - accuracy: 0.0067\n",
      "Epoch 237/270\n",
      "10/10 [==============================] - 0s 2ms/step - loss: 2.7973 - accuracy: 0.0067\n",
      "Epoch 238/270\n",
      "10/10 [==============================] - 0s 2ms/step - loss: 2.8197 - accuracy: 0.0034\n",
      "Epoch 239/270\n",
      "10/10 [==============================] - 0s 2ms/step - loss: 2.9338 - accuracy: 0.0000e+00\n",
      "Epoch 240/270\n",
      "10/10 [==============================] - 0s 2ms/step - loss: 2.9583 - accuracy: 0.0000e+00\n",
      "Epoch 241/270\n",
      "10/10 [==============================] - 0s 2ms/step - loss: 2.8449 - accuracy: 0.0168\n",
      "Epoch 242/270\n",
      "10/10 [==============================] - 0s 2ms/step - loss: 2.8476 - accuracy: 0.0168\n",
      "Epoch 243/270\n",
      "10/10 [==============================] - 0s 2ms/step - loss: 2.8158 - accuracy: 0.0034\n",
      "Epoch 244/270\n",
      "10/10 [==============================] - 0s 2ms/step - loss: 2.8084 - accuracy: 0.0268\n",
      "Epoch 245/270\n",
      "10/10 [==============================] - 0s 2ms/step - loss: 3.0214 - accuracy: 0.0034\n",
      "Epoch 246/270\n",
      "10/10 [==============================] - 0s 2ms/step - loss: 3.0782 - accuracy: 0.0101\n",
      "Epoch 247/270\n",
      "10/10 [==============================] - 0s 3ms/step - loss: 2.9046 - accuracy: 0.0000e+00\n",
      "Epoch 248/270\n",
      "10/10 [==============================] - 0s 2ms/step - loss: 2.8671 - accuracy: 0.0000e+00\n",
      "Epoch 249/270\n",
      "10/10 [==============================] - 0s 2ms/step - loss: 3.0799 - accuracy: 0.0000e+00\n",
      "Epoch 250/270\n",
      "10/10 [==============================] - 0s 2ms/step - loss: 2.9535 - accuracy: 0.0000e+00\n",
      "Epoch 251/270\n",
      "10/10 [==============================] - 0s 2ms/step - loss: 2.9354 - accuracy: 0.0134\n",
      "Epoch 252/270\n",
      "10/10 [==============================] - 0s 2ms/step - loss: 2.9908 - accuracy: 0.0034\n",
      "Epoch 253/270\n",
      "10/10 [==============================] - 0s 2ms/step - loss: 2.8418 - accuracy: 0.0000e+00\n",
      "Epoch 254/270\n",
      "10/10 [==============================] - 0s 2ms/step - loss: 2.9552 - accuracy: 0.0034\n",
      "Epoch 255/270\n",
      "10/10 [==============================] - 0s 2ms/step - loss: 2.9306 - accuracy: 0.0000e+00\n",
      "Epoch 256/270\n",
      "10/10 [==============================] - 0s 2ms/step - loss: 2.7832 - accuracy: 0.0067\n",
      "Epoch 257/270\n",
      "10/10 [==============================] - 0s 2ms/step - loss: 2.9469 - accuracy: 0.0067\n",
      "Epoch 258/270\n",
      "10/10 [==============================] - 0s 2ms/step - loss: 3.0112 - accuracy: 0.0034\n",
      "Epoch 259/270\n",
      "10/10 [==============================] - 0s 2ms/step - loss: 2.9169 - accuracy: 0.0034\n",
      "Epoch 260/270\n",
      "10/10 [==============================] - 0s 2ms/step - loss: 3.0306 - accuracy: 0.0000e+00\n",
      "Epoch 261/270\n",
      "10/10 [==============================] - 0s 2ms/step - loss: 3.0206 - accuracy: 0.0000e+00\n",
      "Epoch 262/270\n",
      "10/10 [==============================] - 0s 2ms/step - loss: 3.0220 - accuracy: 0.0034\n",
      "Epoch 263/270\n",
      "10/10 [==============================] - 0s 2ms/step - loss: 2.8846 - accuracy: 0.0000e+00\n",
      "Epoch 264/270\n",
      "10/10 [==============================] - 0s 2ms/step - loss: 2.9235 - accuracy: 0.0067\n",
      "Epoch 265/270\n",
      "10/10 [==============================] - 0s 2ms/step - loss: 2.8580 - accuracy: 0.0000e+00\n",
      "Epoch 266/270\n",
      "10/10 [==============================] - 0s 2ms/step - loss: 3.0013 - accuracy: 0.0034\n",
      "Epoch 267/270\n",
      "10/10 [==============================] - 0s 2ms/step - loss: 2.8702 - accuracy: 0.0168\n",
      "Epoch 268/270\n",
      "10/10 [==============================] - 0s 3ms/step - loss: 2.8410 - accuracy: 0.0034\n",
      "Epoch 269/270\n",
      "10/10 [==============================] - 0s 2ms/step - loss: 3.0929 - accuracy: 0.0067\n",
      "Epoch 270/270\n",
      "10/10 [==============================] - 0s 2ms/step - loss: 3.0497 - accuracy: 0.0034\n"
     ]
    },
    {
     "data": {
      "text/plain": [
       "<keras.callbacks.History at 0x1f1bec25640>"
      ]
     },
     "execution_count": 184,
     "metadata": {},
     "output_type": "execute_result"
    }
   ],
   "source": [
    "model.fit(train_x, train_y, epochs=270)"
   ]
  },
  {
   "cell_type": "code",
   "execution_count": 185,
   "metadata": {},
   "outputs": [
    {
     "name": "stdout",
     "output_type": "stream",
     "text": [
      "4/4 [==============================] - 0s 2ms/step - loss: 2.5391 - accuracy: 0.0000e+00\n"
     ]
    },
    {
     "data": {
      "text/plain": [
       "[2.539097547531128, 0.0]"
      ]
     },
     "execution_count": 185,
     "metadata": {},
     "output_type": "execute_result"
    }
   ],
   "source": [
    "model.evaluate(test_x, test_y)"
   ]
  },
  {
   "cell_type": "code",
   "execution_count": null,
   "metadata": {},
   "outputs": [],
   "source": []
  }
 ],
 "metadata": {
  "kernelspec": {
   "display_name": "Python 3.9.12 ('base')",
   "language": "python",
   "name": "python3"
  },
  "language_info": {
   "codemirror_mode": {
    "name": "ipython",
    "version": 3
   },
   "file_extension": ".py",
   "mimetype": "text/x-python",
   "name": "python",
   "nbconvert_exporter": "python",
   "pygments_lexer": "ipython3",
   "version": "3.9.12"
  },
  "orig_nbformat": 4,
  "vscode": {
   "interpreter": {
    "hash": "ad2bdc8ecc057115af97d19610ffacc2b4e99fae6737bb82f5d7fb13d2f2c186"
   }
  }
 },
 "nbformat": 4,
 "nbformat_minor": 2
}
