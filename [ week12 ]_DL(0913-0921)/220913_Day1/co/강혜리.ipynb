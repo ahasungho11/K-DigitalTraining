{
 "cells": [
  {
   "cell_type": "markdown",
   "metadata": {},
   "source": [
    "## **AUTO MPG**\n",
    "\n",
    "---\n",
    "\n",
    "- auto mpg dataset을 이용해 mpg 예측 모델 생성"
   ]
  },
  {
   "cell_type": "code",
   "execution_count": 496,
   "metadata": {},
   "outputs": [],
   "source": [
    "import pandas as pd\n",
    "from urllib.request import urlopen, urlretrieve\n",
    "\n",
    "url = 'https://archive.ics.uci.edu/ml/machine-learning-databases/auto-mpg/auto-mpg.data'\n",
    "FILE = 'auto.csv'"
   ]
  },
  {
   "cell_type": "code",
   "execution_count": 497,
   "metadata": {},
   "outputs": [],
   "source": [
    "df = pd.read_csv(url, sep = '\\s+', header=None)"
   ]
  },
  {
   "cell_type": "code",
   "execution_count": 498,
   "metadata": {},
   "outputs": [
    {
     "data": {
      "text/html": [
       "<div>\n",
       "<style scoped>\n",
       "    .dataframe tbody tr th:only-of-type {\n",
       "        vertical-align: middle;\n",
       "    }\n",
       "\n",
       "    .dataframe tbody tr th {\n",
       "        vertical-align: top;\n",
       "    }\n",
       "\n",
       "    .dataframe thead th {\n",
       "        text-align: right;\n",
       "    }\n",
       "</style>\n",
       "<table border=\"1\" class=\"dataframe\">\n",
       "  <thead>\n",
       "    <tr style=\"text-align: right;\">\n",
       "      <th></th>\n",
       "      <th>0</th>\n",
       "      <th>1</th>\n",
       "      <th>2</th>\n",
       "      <th>3</th>\n",
       "      <th>4</th>\n",
       "      <th>5</th>\n",
       "      <th>6</th>\n",
       "      <th>7</th>\n",
       "      <th>8</th>\n",
       "    </tr>\n",
       "  </thead>\n",
       "  <tbody>\n",
       "    <tr>\n",
       "      <th>0</th>\n",
       "      <td>18.0</td>\n",
       "      <td>8</td>\n",
       "      <td>307.0</td>\n",
       "      <td>130.0</td>\n",
       "      <td>3504.0</td>\n",
       "      <td>12.0</td>\n",
       "      <td>70</td>\n",
       "      <td>1</td>\n",
       "      <td>chevrolet chevelle malibu</td>\n",
       "    </tr>\n",
       "    <tr>\n",
       "      <th>1</th>\n",
       "      <td>15.0</td>\n",
       "      <td>8</td>\n",
       "      <td>350.0</td>\n",
       "      <td>165.0</td>\n",
       "      <td>3693.0</td>\n",
       "      <td>11.5</td>\n",
       "      <td>70</td>\n",
       "      <td>1</td>\n",
       "      <td>buick skylark 320</td>\n",
       "    </tr>\n",
       "    <tr>\n",
       "      <th>2</th>\n",
       "      <td>18.0</td>\n",
       "      <td>8</td>\n",
       "      <td>318.0</td>\n",
       "      <td>150.0</td>\n",
       "      <td>3436.0</td>\n",
       "      <td>11.0</td>\n",
       "      <td>70</td>\n",
       "      <td>1</td>\n",
       "      <td>plymouth satellite</td>\n",
       "    </tr>\n",
       "    <tr>\n",
       "      <th>3</th>\n",
       "      <td>16.0</td>\n",
       "      <td>8</td>\n",
       "      <td>304.0</td>\n",
       "      <td>150.0</td>\n",
       "      <td>3433.0</td>\n",
       "      <td>12.0</td>\n",
       "      <td>70</td>\n",
       "      <td>1</td>\n",
       "      <td>amc rebel sst</td>\n",
       "    </tr>\n",
       "    <tr>\n",
       "      <th>4</th>\n",
       "      <td>17.0</td>\n",
       "      <td>8</td>\n",
       "      <td>302.0</td>\n",
       "      <td>140.0</td>\n",
       "      <td>3449.0</td>\n",
       "      <td>10.5</td>\n",
       "      <td>70</td>\n",
       "      <td>1</td>\n",
       "      <td>ford torino</td>\n",
       "    </tr>\n",
       "  </tbody>\n",
       "</table>\n",
       "</div>"
      ],
      "text/plain": [
       "      0  1      2      3       4     5   6  7                          8\n",
       "0  18.0  8  307.0  130.0  3504.0  12.0  70  1  chevrolet chevelle malibu\n",
       "1  15.0  8  350.0  165.0  3693.0  11.5  70  1          buick skylark 320\n",
       "2  18.0  8  318.0  150.0  3436.0  11.0  70  1         plymouth satellite\n",
       "3  16.0  8  304.0  150.0  3433.0  12.0  70  1              amc rebel sst\n",
       "4  17.0  8  302.0  140.0  3449.0  10.5  70  1                ford torino"
      ]
     },
     "execution_count": 498,
     "metadata": {},
     "output_type": "execute_result"
    }
   ],
   "source": [
    "df.head()"
   ]
  },
  {
   "cell_type": "code",
   "execution_count": 499,
   "metadata": {},
   "outputs": [],
   "source": [
    "df.columns=['mpg', 'cylinders', 'displacement', 'horsepower', 'weight',\n",
    "       'acceleration', 'model-year', 'origin', 'car-name']"
   ]
  },
  {
   "cell_type": "code",
   "execution_count": 500,
   "metadata": {},
   "outputs": [
    {
     "name": "stdout",
     "output_type": "stream",
     "text": [
      "<class 'pandas.core.frame.DataFrame'>\n",
      "RangeIndex: 398 entries, 0 to 397\n",
      "Data columns (total 9 columns):\n",
      " #   Column        Non-Null Count  Dtype  \n",
      "---  ------        --------------  -----  \n",
      " 0   mpg           398 non-null    float64\n",
      " 1   cylinders     398 non-null    int64  \n",
      " 2   displacement  398 non-null    float64\n",
      " 3   horsepower    398 non-null    object \n",
      " 4   weight        398 non-null    float64\n",
      " 5   acceleration  398 non-null    float64\n",
      " 6   model-year    398 non-null    int64  \n",
      " 7   origin        398 non-null    int64  \n",
      " 8   car-name      398 non-null    object \n",
      "dtypes: float64(4), int64(3), object(2)\n",
      "memory usage: 28.1+ KB\n"
     ]
    }
   ],
   "source": [
    "df.info()"
   ]
  },
  {
   "cell_type": "code",
   "execution_count": 501,
   "metadata": {},
   "outputs": [
    {
     "name": "stdout",
     "output_type": "stream",
     "text": [
      "0.42514285110463595\n"
     ]
    },
    {
     "data": {
      "text/html": [
       "<div>\n",
       "<style scoped>\n",
       "    .dataframe tbody tr th:only-of-type {\n",
       "        vertical-align: middle;\n",
       "    }\n",
       "\n",
       "    .dataframe tbody tr th {\n",
       "        vertical-align: top;\n",
       "    }\n",
       "\n",
       "    .dataframe thead th {\n",
       "        text-align: right;\n",
       "    }\n",
       "</style>\n",
       "<table border=\"1\" class=\"dataframe\">\n",
       "  <thead>\n",
       "    <tr style=\"text-align: right;\">\n",
       "      <th></th>\n",
       "      <th>mpg</th>\n",
       "      <th>cylinders</th>\n",
       "      <th>displacement</th>\n",
       "      <th>horsepower</th>\n",
       "      <th>weight</th>\n",
       "      <th>acceleration</th>\n",
       "      <th>model-year</th>\n",
       "      <th>origin</th>\n",
       "      <th>car-name</th>\n",
       "      <th>kpl</th>\n",
       "    </tr>\n",
       "  </thead>\n",
       "  <tbody>\n",
       "    <tr>\n",
       "      <th>0</th>\n",
       "      <td>18.0</td>\n",
       "      <td>8</td>\n",
       "      <td>307.0</td>\n",
       "      <td>130.0</td>\n",
       "      <td>3504.0</td>\n",
       "      <td>12.0</td>\n",
       "      <td>70</td>\n",
       "      <td>1</td>\n",
       "      <td>chevrolet chevelle malibu</td>\n",
       "      <td>7.652571</td>\n",
       "    </tr>\n",
       "    <tr>\n",
       "      <th>1</th>\n",
       "      <td>15.0</td>\n",
       "      <td>8</td>\n",
       "      <td>350.0</td>\n",
       "      <td>165.0</td>\n",
       "      <td>3693.0</td>\n",
       "      <td>11.5</td>\n",
       "      <td>70</td>\n",
       "      <td>1</td>\n",
       "      <td>buick skylark 320</td>\n",
       "      <td>6.377143</td>\n",
       "    </tr>\n",
       "    <tr>\n",
       "      <th>2</th>\n",
       "      <td>18.0</td>\n",
       "      <td>8</td>\n",
       "      <td>318.0</td>\n",
       "      <td>150.0</td>\n",
       "      <td>3436.0</td>\n",
       "      <td>11.0</td>\n",
       "      <td>70</td>\n",
       "      <td>1</td>\n",
       "      <td>plymouth satellite</td>\n",
       "      <td>7.652571</td>\n",
       "    </tr>\n",
       "    <tr>\n",
       "      <th>3</th>\n",
       "      <td>16.0</td>\n",
       "      <td>8</td>\n",
       "      <td>304.0</td>\n",
       "      <td>150.0</td>\n",
       "      <td>3433.0</td>\n",
       "      <td>12.0</td>\n",
       "      <td>70</td>\n",
       "      <td>1</td>\n",
       "      <td>amc rebel sst</td>\n",
       "      <td>6.802286</td>\n",
       "    </tr>\n",
       "    <tr>\n",
       "      <th>4</th>\n",
       "      <td>17.0</td>\n",
       "      <td>8</td>\n",
       "      <td>302.0</td>\n",
       "      <td>140.0</td>\n",
       "      <td>3449.0</td>\n",
       "      <td>10.5</td>\n",
       "      <td>70</td>\n",
       "      <td>1</td>\n",
       "      <td>ford torino</td>\n",
       "      <td>7.227428</td>\n",
       "    </tr>\n",
       "  </tbody>\n",
       "</table>\n",
       "</div>"
      ],
      "text/plain": [
       "    mpg  cylinders  displacement horsepower  weight  acceleration  model-year  \\\n",
       "0  18.0          8         307.0      130.0  3504.0          12.0          70   \n",
       "1  15.0          8         350.0      165.0  3693.0          11.5          70   \n",
       "2  18.0          8         318.0      150.0  3436.0          11.0          70   \n",
       "3  16.0          8         304.0      150.0  3433.0          12.0          70   \n",
       "4  17.0          8         302.0      140.0  3449.0          10.5          70   \n",
       "\n",
       "   origin                   car-name       kpl  \n",
       "0       1  chevrolet chevelle malibu  7.652571  \n",
       "1       1          buick skylark 320  6.377143  \n",
       "2       1         plymouth satellite  7.652571  \n",
       "3       1              amc rebel sst  6.802286  \n",
       "4       1                ford torino  7.227428  "
      ]
     },
     "execution_count": 501,
     "metadata": {},
     "output_type": "execute_result"
    }
   ],
   "source": [
    "kpl = 1.60934/3.78541\n",
    "print(kpl)\n",
    "\n",
    "df['kpl'] = df['mpg']*kpl\n",
    "df['kpl'].round(2)\n",
    "df.head()"
   ]
  },
  {
   "cell_type": "code",
   "execution_count": 502,
   "metadata": {},
   "outputs": [],
   "source": [
    "import numpy as np\n",
    "df.replace('?' or 0, np.nan, inplace=True)"
   ]
  },
  {
   "cell_type": "code",
   "execution_count": 503,
   "metadata": {},
   "outputs": [
    {
     "data": {
      "text/plain": [
       "mpg             0\n",
       "cylinders       0\n",
       "displacement    0\n",
       "horsepower      6\n",
       "weight          0\n",
       "acceleration    0\n",
       "model-year      0\n",
       "origin          0\n",
       "car-name        0\n",
       "kpl             0\n",
       "dtype: int64"
      ]
     },
     "execution_count": 503,
     "metadata": {},
     "output_type": "execute_result"
    }
   ],
   "source": [
    "df.isnull().sum()"
   ]
  },
  {
   "cell_type": "code",
   "execution_count": 504,
   "metadata": {},
   "outputs": [],
   "source": [
    "# 엔진출력 = 수치형, 출시연도, 출시국가 = 범주형으로 타입 변경\n",
    "df['horsepower'] = df['horsepower'].astype('float64')\n",
    "df['origin'] = df['origin'].astype('category')\n",
    "#df['model-year'] = df['model-year'].astype('category')"
   ]
  },
  {
   "cell_type": "code",
   "execution_count": 505,
   "metadata": {},
   "outputs": [],
   "source": [
    "df.dropna(subset=['horsepower'], inplace=True)"
   ]
  },
  {
   "cell_type": "code",
   "execution_count": 506,
   "metadata": {},
   "outputs": [
    {
     "data": {
      "text/plain": [
       "0"
      ]
     },
     "execution_count": 506,
     "metadata": {},
     "output_type": "execute_result"
    }
   ],
   "source": [
    "df.duplicated().sum()"
   ]
  },
  {
   "cell_type": "code",
   "execution_count": 507,
   "metadata": {},
   "outputs": [
    {
     "data": {
      "text/html": [
       "<div>\n",
       "<style scoped>\n",
       "    .dataframe tbody tr th:only-of-type {\n",
       "        vertical-align: middle;\n",
       "    }\n",
       "\n",
       "    .dataframe tbody tr th {\n",
       "        vertical-align: top;\n",
       "    }\n",
       "\n",
       "    .dataframe thead th {\n",
       "        text-align: right;\n",
       "    }\n",
       "</style>\n",
       "<table border=\"1\" class=\"dataframe\">\n",
       "  <thead>\n",
       "    <tr style=\"text-align: right;\">\n",
       "      <th></th>\n",
       "      <th>mpg</th>\n",
       "      <th>cylinders</th>\n",
       "      <th>displacement</th>\n",
       "      <th>horsepower</th>\n",
       "      <th>weight</th>\n",
       "      <th>acceleration</th>\n",
       "      <th>model-year</th>\n",
       "      <th>origin</th>\n",
       "      <th>car-name</th>\n",
       "      <th>kpl</th>\n",
       "    </tr>\n",
       "  </thead>\n",
       "  <tbody>\n",
       "    <tr>\n",
       "      <th>0</th>\n",
       "      <td>18.0</td>\n",
       "      <td>8</td>\n",
       "      <td>307.0</td>\n",
       "      <td>130.0</td>\n",
       "      <td>3504.0</td>\n",
       "      <td>12.0</td>\n",
       "      <td>70</td>\n",
       "      <td>1</td>\n",
       "      <td>chevrolet chevelle malibu</td>\n",
       "      <td>7.652571</td>\n",
       "    </tr>\n",
       "    <tr>\n",
       "      <th>1</th>\n",
       "      <td>15.0</td>\n",
       "      <td>8</td>\n",
       "      <td>350.0</td>\n",
       "      <td>165.0</td>\n",
       "      <td>3693.0</td>\n",
       "      <td>11.5</td>\n",
       "      <td>70</td>\n",
       "      <td>1</td>\n",
       "      <td>buick skylark 320</td>\n",
       "      <td>6.377143</td>\n",
       "    </tr>\n",
       "    <tr>\n",
       "      <th>2</th>\n",
       "      <td>18.0</td>\n",
       "      <td>8</td>\n",
       "      <td>318.0</td>\n",
       "      <td>150.0</td>\n",
       "      <td>3436.0</td>\n",
       "      <td>11.0</td>\n",
       "      <td>70</td>\n",
       "      <td>1</td>\n",
       "      <td>plymouth satellite</td>\n",
       "      <td>7.652571</td>\n",
       "    </tr>\n",
       "    <tr>\n",
       "      <th>3</th>\n",
       "      <td>16.0</td>\n",
       "      <td>8</td>\n",
       "      <td>304.0</td>\n",
       "      <td>150.0</td>\n",
       "      <td>3433.0</td>\n",
       "      <td>12.0</td>\n",
       "      <td>70</td>\n",
       "      <td>1</td>\n",
       "      <td>amc rebel sst</td>\n",
       "      <td>6.802286</td>\n",
       "    </tr>\n",
       "    <tr>\n",
       "      <th>4</th>\n",
       "      <td>17.0</td>\n",
       "      <td>8</td>\n",
       "      <td>302.0</td>\n",
       "      <td>140.0</td>\n",
       "      <td>3449.0</td>\n",
       "      <td>10.5</td>\n",
       "      <td>70</td>\n",
       "      <td>1</td>\n",
       "      <td>ford torino</td>\n",
       "      <td>7.227428</td>\n",
       "    </tr>\n",
       "  </tbody>\n",
       "</table>\n",
       "</div>"
      ],
      "text/plain": [
       "    mpg  cylinders  displacement  horsepower  weight  acceleration  \\\n",
       "0  18.0          8         307.0       130.0  3504.0          12.0   \n",
       "1  15.0          8         350.0       165.0  3693.0          11.5   \n",
       "2  18.0          8         318.0       150.0  3436.0          11.0   \n",
       "3  16.0          8         304.0       150.0  3433.0          12.0   \n",
       "4  17.0          8         302.0       140.0  3449.0          10.5   \n",
       "\n",
       "   model-year origin                   car-name       kpl  \n",
       "0          70      1  chevrolet chevelle malibu  7.652571  \n",
       "1          70      1          buick skylark 320  6.377143  \n",
       "2          70      1         plymouth satellite  7.652571  \n",
       "3          70      1              amc rebel sst  6.802286  \n",
       "4          70      1                ford torino  7.227428  "
      ]
     },
     "execution_count": 507,
     "metadata": {},
     "output_type": "execute_result"
    }
   ],
   "source": [
    "df.head()"
   ]
  },
  {
   "cell_type": "code",
   "execution_count": 508,
   "metadata": {},
   "outputs": [
    {
     "data": {
      "image/png": "[encoded data removed]",
      "text/plain": [
       "<Figure size 720x720 with 2 Axes>"
      ]
     },
     "metadata": {
      "needs_background": "light"
     },
     "output_type": "display_data"
    },
    {
     "name": "stdout",
     "output_type": "stream",
     "text": [
      "kpl             1.000000\n",
      "mpg             1.000000\n",
      "model-year      0.580541\n",
      "acceleration    0.423329\n",
      "cylinders      -0.777618\n",
      "horsepower     -0.778427\n",
      "displacement   -0.805127\n",
      "weight         -0.832244\n",
      "Name: mpg, dtype: float64\n"
     ]
    }
   ],
   "source": [
    "import matplotlib.pyplot as plt\n",
    "import seaborn as sns\n",
    "fig, ax = plt.subplots(figsize=(10, 10))\n",
    "sns.heatmap(df.corr(), annot=True)\n",
    "plt.show()\n",
    "\n",
    "corr_mat=df.corr()\n",
    "print(corr_mat[\"mpg\"].sort_values(ascending=False))"
   ]
  },
  {
   "cell_type": "code",
   "execution_count": 509,
   "metadata": {},
   "outputs": [],
   "source": [
    "from sklearn.preprocessing import StandardScaler, minmax_scale\n",
    "\n",
    "data= df.drop(['mpg','kpl','car-name','origin','acceleration'],axis='columns')\n",
    "target = df['kpl']\n",
    "\n",
    "ss = StandardScaler()\n",
    "scaled_data = ss.fit_transform(data)"
   ]
  },
  {
   "cell_type": "code",
   "execution_count": 510,
   "metadata": {},
   "outputs": [
    {
     "data": {
      "text/plain": [
       "((313, 5), (313,), (79, 5), (79,))"
      ]
     },
     "execution_count": 510,
     "metadata": {},
     "output_type": "execute_result"
    }
   ],
   "source": [
    "from sklearn.model_selection import train_test_split\n",
    "\n",
    "train_input, test_input, train_target, test_target = train_test_split(\n",
    "    scaled_data, target, random_state=42, test_size=0.2\n",
    ")\n",
    "\n",
    "train_input.shape, train_target.shape, test_input.shape, test_target.shape"
   ]
  },
  {
   "cell_type": "code",
   "execution_count": 511,
   "metadata": {},
   "outputs": [
    {
     "name": "stdout",
     "output_type": "stream",
     "text": [
      "0.8105442443714308\n",
      "0.7931645680840771\n"
     ]
    }
   ],
   "source": [
    "from sklearn.linear_model import LinearRegression\n",
    "\n",
    "lr = LinearRegression()\n",
    "lr.fit(train_input, train_target)\n",
    "print(lr.score(train_input, train_target))\n",
    "print(lr.score(test_input, test_target))"
   ]
  },
  {
   "cell_type": "code",
   "execution_count": 512,
   "metadata": {},
   "outputs": [],
   "source": [
    "from sklearn.utils import all_estimators\n",
    "# 오류 무시\n",
    "import warnings\n",
    "warnings.filterwarnings(\"ignore\")\n",
    "\n",
    "models = all_estimators(type_filter='regressor')\n",
    "\n",
    "scores = []\n",
    "model_name = []\n",
    "for name, model in models:\n",
    "    try:\n",
    "        # 모델 객체 생성\n",
    "        md = model()\n",
    "        model_name.append(name)\n",
    "\n",
    "\n",
    "        # 학습\n",
    "        md.fit(train_input, train_target)\n",
    "        # 평가\n",
    "        if md.score(train_input, train_target) < 0.8 or md.score(test_input, test_target) < 0.8:\n",
    "            pass\n",
    "        else:\n",
    "            scores.append((md.score(train_input, train_target),md.score(test_input, test_target)))\n",
    "    except :\n",
    "        pass"
   ]
  },
  {
   "cell_type": "code",
   "execution_count": 513,
   "metadata": {},
   "outputs": [
    {
     "name": "stdout",
     "output_type": "stream",
     "text": [
      "[ARDRegression]train score : 0.9066422101758487, test score : 0.8208763873883679\n",
      "[AdaBoostRegressor]train score : 0.9783882811046216, test score : 0.8727146652892339\n",
      "[BaggingRegressor]train score : 0.9990883200735734, test score : 0.8920152279425642\n",
      "[BayesianRidge]train score : 0.8033014690506614, test score : 0.8269408959063325\n",
      "[CCA]train score : 0.96544772840577, test score : 0.8751958904375092\n",
      "[DecisionTreeRegressor]train score : 0.9517151297412872, test score : 0.8632936927595374\n",
      "[DummyRegressor]train score : 0.9084275105946893, test score : 0.8574609558206475\n",
      "[ElasticNet]train score : 0.8775916667128253, test score : 0.8762486121091765\n",
      "[ElasticNetCV]train score : 0.8592576663360707, test score : 0.8551428242176387\n",
      "[ExtraTreeRegressor]train score : 0.8680142827144758, test score : 0.8527952148349806\n",
      "[ExtraTreesRegressor]train score : 0.9814568208166928, test score : 0.8826304072545267\n",
      "[GammaRegressor]train score : 0.8759365727700236, test score : 0.8729947117708468\n"
     ]
    }
   ],
   "source": [
    "for i in range(len(scores)):\n",
    "    print('[{}]train score : {}, test score : {}'.format(model_name[i], scores[i][0], scores[i][1]))"
   ]
  },
  {
   "cell_type": "code",
   "execution_count": 514,
   "metadata": {},
   "outputs": [],
   "source": [
    "import tensorflow as tf\n",
    "from tensorflow.keras import Sequential\n",
    "from tensorflow.keras.layers import Dense"
   ]
  },
  {
   "cell_type": "code",
   "execution_count": 515,
   "metadata": {},
   "outputs": [],
   "source": [
    "model = Sequential(name = 'auto_mpg')"
   ]
  },
  {
   "cell_type": "code",
   "execution_count": 516,
   "metadata": {},
   "outputs": [],
   "source": [
    "l1 = Dense(64, activation = 'relu', input_shape = (5,), name = 'first')\n",
    "l2 = Dense(64, activation = 'relu', name = 'layer_1')\n",
    "l3 = Dense(1, activation = 'linear', name = 'last')"
   ]
  },
  {
   "cell_type": "code",
   "execution_count": 517,
   "metadata": {},
   "outputs": [],
   "source": [
    "model.add(l1)\n",
    "model.add(l2)\n",
    "model.add(l3)"
   ]
  },
  {
   "cell_type": "code",
   "execution_count": 518,
   "metadata": {},
   "outputs": [
    {
     "name": "stdout",
     "output_type": "stream",
     "text": [
      "Model: \"auto_mpg\"\n",
      "_________________________________________________________________\n",
      " Layer (type)                Output Shape              Param #   \n",
      "=================================================================\n",
      " first (Dense)               (None, 64)                384       \n",
      "                                                                 \n",
      " layer_1 (Dense)             (None, 64)                4160      \n",
      "                                                                 \n",
      " last (Dense)                (None, 1)                 65        \n",
      "                                                                 \n",
      "=================================================================\n",
      "Total params: 4,609\n",
      "Trainable params: 4,609\n",
      "Non-trainable params: 0\n",
      "_________________________________________________________________\n"
     ]
    }
   ],
   "source": [
    "model.summary()"
   ]
  },
  {
   "cell_type": "code",
   "execution_count": 522,
   "metadata": {},
   "outputs": [],
   "source": [
    "optimizer = tf.keras.optimizers.RMSprop(0.001)\n",
    "model.compile(optimizer='adam', loss = 'mean_squared_error', metrics=['mean_squared_error'])"
   ]
  },
  {
   "cell_type": "code",
   "execution_count": 523,
   "metadata": {},
   "outputs": [
    {
     "name": "stdout",
     "output_type": "stream",
     "text": [
      "Epoch 1/100\n",
      "10/10 [==============================] - 1s 1ms/step - loss: 1.3560 - mean_squared_error: 1.3560\n",
      "Epoch 2/100\n",
      "10/10 [==============================] - 0s 1ms/step - loss: 1.3162 - mean_squared_error: 1.3162\n",
      "Epoch 3/100\n",
      "10/10 [==============================] - 0s 2ms/step - loss: 1.3093 - mean_squared_error: 1.3093\n",
      "Epoch 4/100\n",
      "10/10 [==============================] - 0s 2ms/step - loss: 1.2984 - mean_squared_error: 1.2984\n",
      "Epoch 5/100\n",
      "10/10 [==============================] - 0s 2ms/step - loss: 1.2858 - mean_squared_error: 1.2858\n",
      "Epoch 6/100\n",
      "10/10 [==============================] - 0s 1ms/step - loss: 1.2816 - mean_squared_error: 1.2816\n",
      "Epoch 7/100\n",
      "10/10 [==============================] - 0s 2ms/step - loss: 1.2731 - mean_squared_error: 1.2731\n",
      "Epoch 8/100\n",
      "10/10 [==============================] - 0s 1ms/step - loss: 1.2756 - mean_squared_error: 1.2756\n",
      "Epoch 9/100\n",
      "10/10 [==============================] - 0s 2ms/step - loss: 1.2710 - mean_squared_error: 1.2710\n",
      "Epoch 10/100\n",
      "10/10 [==============================] - 0s 2ms/step - loss: 1.2745 - mean_squared_error: 1.2745\n",
      "Epoch 11/100\n",
      "10/10 [==============================] - 0s 2ms/step - loss: 1.2648 - mean_squared_error: 1.2648\n",
      "Epoch 12/100\n",
      "10/10 [==============================] - 0s 2ms/step - loss: 1.2846 - mean_squared_error: 1.2846\n",
      "Epoch 13/100\n",
      "10/10 [==============================] - 0s 2ms/step - loss: 1.2817 - mean_squared_error: 1.2817\n",
      "Epoch 14/100\n",
      "10/10 [==============================] - 0s 2ms/step - loss: 1.2628 - mean_squared_error: 1.2628\n",
      "Epoch 15/100\n",
      "10/10 [==============================] - 0s 2ms/step - loss: 1.3335 - mean_squared_error: 1.3335\n",
      "Epoch 16/100\n",
      "10/10 [==============================] - 0s 1ms/step - loss: 1.2795 - mean_squared_error: 1.2795\n",
      "Epoch 17/100\n",
      "10/10 [==============================] - 0s 2ms/step - loss: 1.2364 - mean_squared_error: 1.2364\n",
      "Epoch 18/100\n",
      "10/10 [==============================] - 0s 2ms/step - loss: 1.2257 - mean_squared_error: 1.2257\n",
      "Epoch 19/100\n",
      "10/10 [==============================] - 0s 2ms/step - loss: 1.2265 - mean_squared_error: 1.2265\n",
      "Epoch 20/100\n",
      "10/10 [==============================] - 0s 2ms/step - loss: 1.2396 - mean_squared_error: 1.2396\n",
      "Epoch 21/100\n",
      "10/10 [==============================] - 0s 2ms/step - loss: 1.2379 - mean_squared_error: 1.2379\n",
      "Epoch 22/100\n",
      "10/10 [==============================] - 0s 2ms/step - loss: 1.2224 - mean_squared_error: 1.2224\n",
      "Epoch 23/100\n",
      "10/10 [==============================] - 0s 2ms/step - loss: 1.2668 - mean_squared_error: 1.2668\n",
      "Epoch 24/100\n",
      "10/10 [==============================] - 0s 2ms/step - loss: 1.2231 - mean_squared_error: 1.2231\n",
      "Epoch 25/100\n",
      "10/10 [==============================] - 0s 2ms/step - loss: 1.2123 - mean_squared_error: 1.2123\n",
      "Epoch 26/100\n",
      "10/10 [==============================] - 0s 2ms/step - loss: 1.2237 - mean_squared_error: 1.2237\n",
      "Epoch 27/100\n",
      "10/10 [==============================] - 0s 2ms/step - loss: 1.2253 - mean_squared_error: 1.2253\n",
      "Epoch 28/100\n",
      "10/10 [==============================] - 0s 2ms/step - loss: 1.2143 - mean_squared_error: 1.2143\n",
      "Epoch 29/100\n",
      "10/10 [==============================] - 0s 2ms/step - loss: 1.2108 - mean_squared_error: 1.2108\n",
      "Epoch 30/100\n",
      "10/10 [==============================] - 0s 2ms/step - loss: 1.2062 - mean_squared_error: 1.2062\n",
      "Epoch 31/100\n",
      "10/10 [==============================] - 0s 2ms/step - loss: 1.2092 - mean_squared_error: 1.2092\n",
      "Epoch 32/100\n",
      "10/10 [==============================] - 0s 2ms/step - loss: 1.1994 - mean_squared_error: 1.1994\n",
      "Epoch 33/100\n",
      "10/10 [==============================] - 0s 2ms/step - loss: 1.1885 - mean_squared_error: 1.1885\n",
      "Epoch 34/100\n",
      "10/10 [==============================] - 0s 2ms/step - loss: 1.2178 - mean_squared_error: 1.2178\n",
      "Epoch 35/100\n",
      "10/10 [==============================] - 0s 2ms/step - loss: 1.1861 - mean_squared_error: 1.1861\n",
      "Epoch 36/100\n",
      "10/10 [==============================] - 0s 2ms/step - loss: 1.2056 - mean_squared_error: 1.2056\n",
      "Epoch 37/100\n",
      "10/10 [==============================] - 0s 2ms/step - loss: 1.2078 - mean_squared_error: 1.2078\n",
      "Epoch 38/100\n",
      "10/10 [==============================] - 0s 2ms/step - loss: 1.1798 - mean_squared_error: 1.1798\n",
      "Epoch 39/100\n",
      "10/10 [==============================] - 0s 2ms/step - loss: 1.1592 - mean_squared_error: 1.1592\n",
      "Epoch 40/100\n",
      "10/10 [==============================] - 0s 2ms/step - loss: 1.1815 - mean_squared_error: 1.1815\n",
      "Epoch 41/100\n",
      "10/10 [==============================] - 0s 2ms/step - loss: 1.1814 - mean_squared_error: 1.1814\n",
      "Epoch 42/100\n",
      "10/10 [==============================] - 0s 2ms/step - loss: 1.1758 - mean_squared_error: 1.1758\n",
      "Epoch 43/100\n",
      "10/10 [==============================] - 0s 1ms/step - loss: 1.1563 - mean_squared_error: 1.1563\n",
      "Epoch 44/100\n",
      "10/10 [==============================] - 0s 2ms/step - loss: 1.1840 - mean_squared_error: 1.1840\n",
      "Epoch 45/100\n",
      "10/10 [==============================] - 0s 1ms/step - loss: 1.1498 - mean_squared_error: 1.1498\n",
      "Epoch 46/100\n",
      "10/10 [==============================] - 0s 2ms/step - loss: 1.1595 - mean_squared_error: 1.1595\n",
      "Epoch 47/100\n",
      "10/10 [==============================] - 0s 2ms/step - loss: 1.1790 - mean_squared_error: 1.1790\n",
      "Epoch 48/100\n",
      "10/10 [==============================] - 0s 2ms/step - loss: 1.1453 - mean_squared_error: 1.1453\n",
      "Epoch 49/100\n",
      "10/10 [==============================] - 0s 2ms/step - loss: 1.1542 - mean_squared_error: 1.1542\n",
      "Epoch 50/100\n",
      "10/10 [==============================] - 0s 2ms/step - loss: 1.1328 - mean_squared_error: 1.1328\n",
      "Epoch 51/100\n",
      "10/10 [==============================] - 0s 2ms/step - loss: 1.1316 - mean_squared_error: 1.1316\n",
      "Epoch 52/100\n",
      "10/10 [==============================] - 0s 2ms/step - loss: 1.1320 - mean_squared_error: 1.1320\n",
      "Epoch 53/100\n",
      "10/10 [==============================] - 0s 1ms/step - loss: 1.1370 - mean_squared_error: 1.1370\n",
      "Epoch 54/100\n",
      "10/10 [==============================] - 0s 2ms/step - loss: 1.1532 - mean_squared_error: 1.1532\n",
      "Epoch 55/100\n",
      "10/10 [==============================] - 0s 1ms/step - loss: 1.1490 - mean_squared_error: 1.1490\n",
      "Epoch 56/100\n",
      "10/10 [==============================] - 0s 1ms/step - loss: 1.1085 - mean_squared_error: 1.1085\n",
      "Epoch 57/100\n",
      "10/10 [==============================] - 0s 2ms/step - loss: 1.1283 - mean_squared_error: 1.1283\n",
      "Epoch 58/100\n",
      "10/10 [==============================] - 0s 1ms/step - loss: 1.1344 - mean_squared_error: 1.1344\n",
      "Epoch 59/100\n",
      "10/10 [==============================] - 0s 1ms/step - loss: 1.1253 - mean_squared_error: 1.1253\n",
      "Epoch 60/100\n",
      "10/10 [==============================] - 0s 2ms/step - loss: 1.1438 - mean_squared_error: 1.1438\n",
      "Epoch 61/100\n",
      "10/10 [==============================] - 0s 2ms/step - loss: 1.1100 - mean_squared_error: 1.1100\n",
      "Epoch 62/100\n",
      "10/10 [==============================] - 0s 2ms/step - loss: 1.1206 - mean_squared_error: 1.1206\n",
      "Epoch 63/100\n",
      "10/10 [==============================] - 0s 3ms/step - loss: 1.1158 - mean_squared_error: 1.1158\n",
      "Epoch 64/100\n",
      "10/10 [==============================] - 0s 2ms/step - loss: 1.0897 - mean_squared_error: 1.0897\n",
      "Epoch 65/100\n",
      "10/10 [==============================] - 0s 2ms/step - loss: 1.0929 - mean_squared_error: 1.0929\n",
      "Epoch 66/100\n",
      "10/10 [==============================] - 0s 2ms/step - loss: 1.0893 - mean_squared_error: 1.0893\n",
      "Epoch 67/100\n",
      "10/10 [==============================] - 0s 2ms/step - loss: 1.1024 - mean_squared_error: 1.1024\n",
      "Epoch 68/100\n",
      "10/10 [==============================] - 0s 2ms/step - loss: 1.0971 - mean_squared_error: 1.0971\n",
      "Epoch 69/100\n",
      "10/10 [==============================] - 0s 2ms/step - loss: 1.0768 - mean_squared_error: 1.0768\n",
      "Epoch 70/100\n",
      "10/10 [==============================] - 0s 2ms/step - loss: 1.0890 - mean_squared_error: 1.0890\n",
      "Epoch 71/100\n",
      "10/10 [==============================] - 0s 2ms/step - loss: 1.1539 - mean_squared_error: 1.1539\n",
      "Epoch 72/100\n",
      "10/10 [==============================] - 0s 2ms/step - loss: 1.0866 - mean_squared_error: 1.0866\n",
      "Epoch 73/100\n",
      "10/10 [==============================] - 0s 2ms/step - loss: 1.0900 - mean_squared_error: 1.0900\n",
      "Epoch 74/100\n",
      "10/10 [==============================] - 0s 2ms/step - loss: 1.0920 - mean_squared_error: 1.0920\n",
      "Epoch 75/100\n",
      "10/10 [==============================] - 0s 2ms/step - loss: 1.0752 - mean_squared_error: 1.0752\n",
      "Epoch 76/100\n",
      "10/10 [==============================] - 0s 2ms/step - loss: 1.0670 - mean_squared_error: 1.0670\n",
      "Epoch 77/100\n",
      "10/10 [==============================] - 0s 2ms/step - loss: 1.0648 - mean_squared_error: 1.0648\n",
      "Epoch 78/100\n",
      "10/10 [==============================] - 0s 2ms/step - loss: 1.0696 - mean_squared_error: 1.0696\n",
      "Epoch 79/100\n",
      "10/10 [==============================] - 0s 2ms/step - loss: 1.0695 - mean_squared_error: 1.0695\n",
      "Epoch 80/100\n",
      "10/10 [==============================] - 0s 2ms/step - loss: 1.0805 - mean_squared_error: 1.0805\n",
      "Epoch 81/100\n",
      "10/10 [==============================] - 0s 2ms/step - loss: 1.0499 - mean_squared_error: 1.0499\n",
      "Epoch 82/100\n",
      "10/10 [==============================] - 0s 2ms/step - loss: 1.0558 - mean_squared_error: 1.0558\n",
      "Epoch 83/100\n",
      "10/10 [==============================] - 0s 2ms/step - loss: 1.0514 - mean_squared_error: 1.0514\n",
      "Epoch 84/100\n",
      "10/10 [==============================] - 0s 2ms/step - loss: 1.0643 - mean_squared_error: 1.0643\n",
      "Epoch 85/100\n",
      "10/10 [==============================] - 0s 2ms/step - loss: 1.0537 - mean_squared_error: 1.0537\n",
      "Epoch 86/100\n",
      "10/10 [==============================] - 0s 2ms/step - loss: 1.0391 - mean_squared_error: 1.0391\n",
      "Epoch 87/100\n",
      "10/10 [==============================] - 0s 2ms/step - loss: 1.0480 - mean_squared_error: 1.0480\n",
      "Epoch 88/100\n",
      "10/10 [==============================] - 0s 2ms/step - loss: 1.0429 - mean_squared_error: 1.0429\n",
      "Epoch 89/100\n",
      "10/10 [==============================] - 0s 2ms/step - loss: 1.0511 - mean_squared_error: 1.0511\n",
      "Epoch 90/100\n",
      "10/10 [==============================] - 0s 2ms/step - loss: 1.0427 - mean_squared_error: 1.0427\n",
      "Epoch 91/100\n",
      "10/10 [==============================] - 0s 2ms/step - loss: 1.0469 - mean_squared_error: 1.0469\n",
      "Epoch 92/100\n",
      "10/10 [==============================] - 0s 2ms/step - loss: 1.0217 - mean_squared_error: 1.0217\n",
      "Epoch 93/100\n",
      "10/10 [==============================] - 0s 2ms/step - loss: 1.0528 - mean_squared_error: 1.0528\n",
      "Epoch 94/100\n",
      "10/10 [==============================] - 0s 2ms/step - loss: 1.0504 - mean_squared_error: 1.0504\n",
      "Epoch 95/100\n",
      "10/10 [==============================] - 0s 2ms/step - loss: 1.1451 - mean_squared_error: 1.1451\n",
      "Epoch 96/100\n",
      "10/10 [==============================] - 0s 2ms/step - loss: 1.0382 - mean_squared_error: 1.0382\n",
      "Epoch 97/100\n",
      "10/10 [==============================] - 0s 2ms/step - loss: 1.0605 - mean_squared_error: 1.0605\n",
      "Epoch 98/100\n",
      "10/10 [==============================] - 0s 2ms/step - loss: 1.0605 - mean_squared_error: 1.0605\n",
      "Epoch 99/100\n",
      "10/10 [==============================] - 0s 2ms/step - loss: 1.0780 - mean_squared_error: 1.0780\n",
      "Epoch 100/100\n",
      "10/10 [==============================] - 0s 2ms/step - loss: 1.0025 - mean_squared_error: 1.0025\n"
     ]
    },
    {
     "data": {
      "text/plain": [
       "<keras.callbacks.History at 0x187f2be3160>"
      ]
     },
     "execution_count": 523,
     "metadata": {},
     "output_type": "execute_result"
    }
   ],
   "source": [
    "model.fit(train_input, train_target, epochs = 100)"
   ]
  },
  {
   "cell_type": "code",
   "execution_count": 524,
   "metadata": {},
   "outputs": [
    {
     "name": "stdout",
     "output_type": "stream",
     "text": [
      "10/10 [==============================] - 0s 886us/step - loss: 1.0025 - mean_squared_error: 1.0025\n"
     ]
    },
    {
     "data": {
      "text/plain": [
       "[1.0024689435958862, 1.0024689435958862]"
      ]
     },
     "execution_count": 524,
     "metadata": {},
     "output_type": "execute_result"
    }
   ],
   "source": [
    "model.evaluate(train_input, train_target)"
   ]
  },
  {
   "cell_type": "code",
   "execution_count": null,
   "metadata": {},
   "outputs": [],
   "source": []
  }
 ],
 "metadata": {
  "kernelspec": {
   "display_name": "Python 3.9.12 ('base')",
   "language": "python",
   "name": "python3"
  },
  "language_info": {
   "codemirror_mode": {
    "name": "ipython",
    "version": 3
   },
   "file_extension": ".py",
   "mimetype": "text/x-python",
   "name": "python",
   "nbconvert_exporter": "python",
   "pygments_lexer": "ipython3",
   "version": "3.9.12"
  },
  "orig_nbformat": 4,
  "vscode": {
   "interpreter": {
    "hash": "ad2bdc8ecc057115af97d19610ffacc2b4e99fae6737bb82f5d7fb13d2f2c186"
   }
  }
 },
 "nbformat": 4,
 "nbformat_minor": 2
}
