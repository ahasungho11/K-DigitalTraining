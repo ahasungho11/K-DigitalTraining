{
 "cells": [
  {
   "cell_type": "code",
   "execution_count": 2,
   "id": "ab8215d4",
   "metadata": {},
   "outputs": [],
   "source": [
    "# 활성함수\n",
    "from sklearn.linear_model import Perceptron"
   ]
  },
  {
   "cell_type": "code",
   "execution_count": null,
   "id": "86450afe",
   "metadata": {},
   "outputs": [],
   "source": [
    "l1 -> 릿지 (0으로 날려버림)\n",
    "l2 -> 라쏘 (0에 가까이, 날리지는 않음)"
   ]
  },
  {
   "cell_type": "code",
   "execution_count": null,
   "id": "15cac180",
   "metadata": {},
   "outputs": [],
   "source": [
    "# 경사하강법"
   ]
  },
  {
   "cell_type": "code",
   "execution_count": null,
   "id": "375ba5bb",
   "metadata": {},
   "outputs": [],
   "source": [
    "SGDClassifier할 때\n",
    "n_iter_no_chage & tol & early_stopping=True"
   ]
  },
  {
   "cell_type": "code",
   "execution_count": null,
   "id": "b2cd146d",
   "metadata": {},
   "outputs": [],
   "source": [
    "모델 성능 평가\n",
    "실제값과 모델 예측값 과의 차이 -> 오차\n",
    "i) 손실함수\n",
    "ii) 비용함수\n",
    "\n",
    "error -> 오차값, 단순히 더하면 상쇄됨(p)\n",
    "square error -> 오차값을 제곱시킨 후(s), 너무커서(p)->제곱근(s)\n",
    "\n",
    "오차를 구한 것의 손실/비용함수 값을 구해서, 이것이 최소가 되는 값을 찾아\n",
    "=> 경사하강법\n",
    "=> 최소가 되는 지점의 w를 찾아\n",
    "\n",
    "선형회귀 (이진 분류, 다중 분류)\n",
    "- 모든 범주의 합은 당연히 1\n",
    "- 선형회귀에서 기존의 비용함수를 쓰면 문제 발생(p)\n",
    " -> 실제값과 오차의 관계를 보면 -> 0과 1일 때 각각으로 나눠져야 함\n",
    " -> 로지스틱/로그 손실함수\n",
    "\n",
    "# 문제집의 경사하강법 - 모멘텀 부분 참고해주기\n",
    "# 어떨 때 쓰는 것일까 - 정리 - 생각\n",
    "\n",
    "# 모멘텀 + 아다그라드 = Adam (많이 씀)\n",
    "\n",
    "- GD를 기본적으로하다가\n",
    "- SGD를 쓰면 \n",
    "\n",
    "# Perceptron할 때, 참고 SGDClassifer\n",
    "# 분류기 (API의 perceptron 참고)\n",
    "\n",
    "\n"
   ]
  },
  {
   "cell_type": "code",
   "execution_count": null,
   "id": "09cecaed",
   "metadata": {},
   "outputs": [],
   "source": [
    "# 과ㅏ"
   ]
  },
  {
   "cell_type": "markdown",
   "id": "bd002134",
   "metadata": {},
   "source": [
    "## 퍼셉트론(Perceptron)\n",
    "---\n",
    "- 뉴런을 컴퓨터 프로그램화 한 클래스\n",
    "- 단순한 구조의 분류(Classification) 모델\n",
    "- AND, OR 문제 분류 성공\n",
    "- XOR 문제 분류 실패"
   ]
  },
  {
   "cell_type": "code",
   "execution_count": 3,
   "id": "2cd8d792",
   "metadata": {},
   "outputs": [],
   "source": [
    "from sklearn.linear_model import Perceptron\n",
    "import numpy as np"
   ]
  },
  {
   "cell_type": "markdown",
   "id": "0d7965d9",
   "metadata": {},
   "source": [
    "### [1] AND 분류\n",
    "---\n",
    "x1 x2 y  \n",
    "0  0  0  \n",
    "1  0  0  \n",
    "0  1  0  \n",
    "1  1  1  "
   ]
  },
  {
   "cell_type": "code",
   "execution_count": 7,
   "id": "48bf7cec",
   "metadata": {},
   "outputs": [],
   "source": [
    "X1 = [[0., 0.], [1.,0.], [0.,1.], [1., 1.]] \n",
    "y1 = [0, 0, 0, 1]"
   ]
  },
  {
   "cell_type": "code",
   "execution_count": 8,
   "id": "23d47119",
   "metadata": {},
   "outputs": [],
   "source": [
    "# 모델 객체 생성\n",
    "andModel = Perceptron()"
   ]
  },
  {
   "cell_type": "code",
   "execution_count": 9,
   "id": "c48dcc49",
   "metadata": {},
   "outputs": [
    {
     "data": {
      "text/plain": [
       "Perceptron()"
      ]
     },
     "execution_count": 9,
     "metadata": {},
     "output_type": "execute_result"
    }
   ],
   "source": [
    "# 학습\n",
    "andModel.fit(X1, y1)"
   ]
  },
  {
   "cell_type": "code",
   "execution_count": 13,
   "id": "6e422a42",
   "metadata": {},
   "outputs": [],
   "source": [
    "# 모델 객체 속성 출력 함수\n",
    "def showAttribute(model):\n",
    "    print(f'classes_   : {model.classes_}')\n",
    "    print(f'coef_      : {model.coef_}')\n",
    "    print(f'intercept_ : {model.intercept_}')\n",
    "    print(f'n_iter_    : {model.n_iter_}')"
   ]
  },
  {
   "cell_type": "code",
   "execution_count": 14,
   "id": "e18226b5",
   "metadata": {},
   "outputs": [
    {
     "name": "stdout",
     "output_type": "stream",
     "text": [
      "classes_   : [0 1]\n",
      "coef_      : [[2. 2.]]\n",
      "intercept_ : [-2.]\n",
      "n_iter_    : 10\n"
     ]
    }
   ],
   "source": [
    "showAttribute(andModel)"
   ]
  },
  {
   "cell_type": "code",
   "execution_count": 34,
   "id": "e7df98ee",
   "metadata": {},
   "outputs": [],
   "source": [
    "# 예측\n",
    "predict_and = andModel.predict(X1)\n",
    "predict_and_n = andModel.predict([[0.,0.],[1.,1.],[1.,1.],[0.,1.]])"
   ]
  },
  {
   "cell_type": "code",
   "execution_count": 37,
   "id": "96cd2b5d",
   "metadata": {},
   "outputs": [
    {
     "name": "stdout",
     "output_type": "stream",
     "text": [
      "정답 : [0, 0, 0, 1]\n",
      "예측1 : [0 0 0 1]\n",
      "예측2 : [0 1 1 0]\n"
     ]
    }
   ],
   "source": [
    "print(f'정답 : {y1}')\n",
    "print(f'예측1 : {predict_and}')\n",
    "print(f'예측2 : {predict_and_n}')"
   ]
  },
  {
   "cell_type": "code",
   "execution_count": 38,
   "id": "feafcd11",
   "metadata": {},
   "outputs": [],
   "source": [
    "from sklearn.metrics import accuracy_score"
   ]
  },
  {
   "cell_type": "code",
   "execution_count": 40,
   "id": "9feef66f",
   "metadata": {},
   "outputs": [
    {
     "name": "stdout",
     "output_type": "stream",
     "text": [
      "accuracy_score : 1.0\n",
      "accuracy_score : 0.25\n"
     ]
    }
   ],
   "source": [
    "print(f'accuracy_score : {accuracy_score(y1, predict_and)}')\n",
    "print(f'accuracy_score : {accuracy_score(y1, predict_and_n)}')"
   ]
  },
  {
   "cell_type": "markdown",
   "id": "adc70787",
   "metadata": {},
   "source": [
    "### [2] OR 연산 분류\n",
    "---\n",
    "x1 x2 y  \n",
    "0  0  0  \n",
    "1  0  0  \n",
    "0  1  0  \n",
    "1  1  1  "
   ]
  },
  {
   "cell_type": "code",
   "execution_count": 56,
   "id": "31578546",
   "metadata": {},
   "outputs": [],
   "source": [
    "X2 = [[0., 0.], [1.,0.], [0.,1.], [1., 1.]] \n",
    "y2 = [0, 1, 1, 1]"
   ]
  },
  {
   "cell_type": "code",
   "execution_count": 57,
   "id": "e3358a2f",
   "metadata": {},
   "outputs": [],
   "source": [
    "# 모델 객체 생성\n",
    "andModel2 = Perceptron()"
   ]
  },
  {
   "cell_type": "code",
   "execution_count": 58,
   "id": "de42c030",
   "metadata": {},
   "outputs": [
    {
     "data": {
      "text/plain": [
       "Perceptron()"
      ]
     },
     "execution_count": 58,
     "metadata": {},
     "output_type": "execute_result"
    }
   ],
   "source": [
    "# 학습\n",
    "andModel2.fit(X2, y2)"
   ]
  },
  {
   "cell_type": "code",
   "execution_count": 59,
   "id": "321e5851",
   "metadata": {},
   "outputs": [],
   "source": [
    "# 모델 객체 속성 출력 함수\n",
    "def showAttribute(model):\n",
    "    print(f'classes_   : {model.classes_}')\n",
    "    print(f'coef_      : {model.coef_}')\n",
    "    print(f'intercept_ : {model.intercept_}')\n",
    "    print(f'n_iter_    : {model.n_iter_}')"
   ]
  },
  {
   "cell_type": "code",
   "execution_count": 60,
   "id": "847b6bc3",
   "metadata": {},
   "outputs": [
    {
     "name": "stdout",
     "output_type": "stream",
     "text": [
      "classes_   : [0 1]\n",
      "coef_      : [[2. 2.]]\n",
      "intercept_ : [-1.]\n",
      "n_iter_    : 7\n"
     ]
    }
   ],
   "source": [
    "showAttribute(andModel2)"
   ]
  },
  {
   "cell_type": "code",
   "execution_count": 61,
   "id": "fdd6b6a1",
   "metadata": {},
   "outputs": [],
   "source": [
    "# 예측\n",
    "predict_and2 = andModel2.predict(X2)"
   ]
  },
  {
   "cell_type": "code",
   "execution_count": 62,
   "id": "edaec8cb",
   "metadata": {},
   "outputs": [
    {
     "name": "stdout",
     "output_type": "stream",
     "text": [
      "정답 : [0, 1, 1, 1]\n",
      "예측 : [0 1 1 1]\n"
     ]
    }
   ],
   "source": [
    "print(f'정답 : {y2}')\n",
    "print(f'예측 : {predict_and2}')"
   ]
  },
  {
   "cell_type": "code",
   "execution_count": 63,
   "id": "6446e47b",
   "metadata": {},
   "outputs": [],
   "source": [
    "from sklearn.metrics import accuracy_score"
   ]
  },
  {
   "cell_type": "code",
   "execution_count": 65,
   "id": "d71fb0bb",
   "metadata": {},
   "outputs": [
    {
     "name": "stdout",
     "output_type": "stream",
     "text": [
      "accuracy_score : 1.0\n"
     ]
    }
   ],
   "source": [
    "print(f'accuracy_score : {accuracy_score(y2, predict_and2)}')"
   ]
  },
  {
   "cell_type": "markdown",
   "id": "fbc7c027",
   "metadata": {},
   "source": [
    "### [3] XOR 연산 분류\n",
    "---\n",
    "x1 x2 y  \n",
    "0  0  0  \n",
    "1  0  0  \n",
    "0  1  0  \n",
    "1  1  1  "
   ]
  },
  {
   "cell_type": "code",
   "execution_count": 84,
   "id": "e82b114c",
   "metadata": {},
   "outputs": [],
   "source": [
    "# XOR -> 같으면 0, 다르면 1\n",
    "X3 = [[0., 0.], [1.,0.], [0.,1.], [1., 1.]] \n",
    "y3 = [0, 1, 1, 0]"
   ]
  },
  {
   "cell_type": "code",
   "execution_count": 76,
   "id": "a6eb68fb",
   "metadata": {},
   "outputs": [],
   "source": [
    "# 모델 객체 생성\n",
    "andModel3 = Perceptron()"
   ]
  },
  {
   "cell_type": "code",
   "execution_count": 77,
   "id": "f22972ad",
   "metadata": {},
   "outputs": [
    {
     "data": {
      "text/plain": [
       "Perceptron()"
      ]
     },
     "execution_count": 77,
     "metadata": {},
     "output_type": "execute_result"
    }
   ],
   "source": [
    "# 학습\n",
    "andModel3.fit(X3, y3)"
   ]
  },
  {
   "cell_type": "code",
   "execution_count": 78,
   "id": "2af545cd",
   "metadata": {},
   "outputs": [],
   "source": [
    "# 모델 객체 속성 출력 함수\n",
    "def showAttribute(model):\n",
    "    print(f'classes_   : {model.classes_}')\n",
    "    print(f'coef_      : {model.coef_}')\n",
    "    print(f'intercept_ : {model.intercept_}')\n",
    "    print(f'n_iter_    : {model.n_iter_}')"
   ]
  },
  {
   "cell_type": "code",
   "execution_count": 79,
   "id": "de6278a8",
   "metadata": {},
   "outputs": [
    {
     "name": "stdout",
     "output_type": "stream",
     "text": [
      "classes_   : [0 1]\n",
      "coef_      : [[0. 0.]]\n",
      "intercept_ : [0.]\n",
      "n_iter_    : 6\n"
     ]
    }
   ],
   "source": [
    "showAttribute(andModel3)"
   ]
  },
  {
   "cell_type": "code",
   "execution_count": 80,
   "id": "91695a6e",
   "metadata": {},
   "outputs": [],
   "source": [
    "# 예측\n",
    "predict_and3 = andModel3.predict(X3)"
   ]
  },
  {
   "cell_type": "code",
   "execution_count": 85,
   "id": "4dcae5ef",
   "metadata": {},
   "outputs": [
    {
     "name": "stdout",
     "output_type": "stream",
     "text": [
      "정답 : [0, 1, 1, 0]\n",
      "예측 : [0 0 0 0]\n"
     ]
    }
   ],
   "source": [
    "print(f'정답 : {y3}')\n",
    "print(f'예측 : {predict_and3}')"
   ]
  },
  {
   "cell_type": "code",
   "execution_count": 87,
   "id": "de6ffdd4",
   "metadata": {},
   "outputs": [],
   "source": [
    "from sklearn.metrics import accuracy_score"
   ]
  },
  {
   "cell_type": "code",
   "execution_count": 88,
   "id": "827fbc59",
   "metadata": {},
   "outputs": [
    {
     "name": "stdout",
     "output_type": "stream",
     "text": [
      "accuracy_score : 0.5\n"
     ]
    }
   ],
   "source": [
    "print(f'accuracy_score : {accuracy_score(y3, predict_and3)}')"
   ]
  },
  {
   "cell_type": "code",
   "execution_count": 89,
   "id": "f48bf778",
   "metadata": {},
   "outputs": [],
   "source": [
    "# 이렇게 XOR은 못풀어내니까, 평면으로 띄워내야 하게 되었다\n",
    "# => 1개의 노드로 하는 것이 아니라, 중간에 [ 노드or뉴런 ]을 추가\n",
    "# => 중간층[은닉층] : 추가된 노드or뉴런\n",
    "# 입력층 - 중간층 - 출력층 => 멀티 레이어 퍼셉트론(MLP) => 따로 모듈 나와있음\n",
    "# MLP에도 분류/회귀 다 있음\n",
    "# => XOR 문제를 해결할 수 있게 됨\n",
    "\n",
    "# 층의 개수, 피처 조절(특성 공학), 학습 횟수, 회귀계수값(규제),\n",
    "# 학습량, 러닝 레이트, 활성 함수 등 조절하는 것 (교재 참고)\n",
    "\n",
    "# - 조절하면서 정확도 높여나가기\n",
    "\n",
    "# 대량의 데이터에만 \n",
    "# 소량의 데이터라면 과대적합 -> 머신러닝하는게 낫겠지\n",
    "\n",
    "# 학습(앞->뒤 : Feed-Forward(전방향 연산))\n",
    "# 업데이트(뒤->앞 : Back-Propagate(역전파))\n",
    "\n",
    "# 이진분류 - 시그모이드\n",
    "# 다중분류 - 소프트맥스\n",
    "# 중간 - ReLU"
   ]
  },
  {
   "cell_type": "code",
   "execution_count": null,
   "id": "dbbfdae1",
   "metadata": {},
   "outputs": [],
   "source": [
    "# 학습을 많이 할 수록 (은닉층이 많을 수록) -> 오버피팅 가능성, 시간 많이 소요\n",
    "# DNN(심층신경망) -> CNN, RNN"
   ]
  },
  {
   "cell_type": "code",
   "execution_count": 92,
   "id": "909aa3a5",
   "metadata": {},
   "outputs": [],
   "source": [
    "# from sklearn.neural_network import MLPClassifier\n",
    "# from sklearn.neural_network import MLPRegressor\n",
    "\n",
    "# => MLPClassifier와 MLPRegressor의 파라미터 사이트에서 볼 것"
   ]
  },
  {
   "cell_type": "code",
   "execution_count": null,
   "id": "6cdb3f88",
   "metadata": {},
   "outputs": [],
   "source": [
    "# 입력 - 은닉 - 출력 \n",
    "\n",
    "# * 다중분류 수만큼  - 분류하고 싶은 개수만큼 출력창에 떠야\n",
    "\n",
    "# * hidden_layer_sizes=(100,)\n",
    "# - 튜플\n",
    "# - 1개일 때 퍼셉트론의 개수\n",
    "\n",
    "# * length = n_layers -2 (입력, 출력)\n",
    "\n",
    "# * 전체 첨부터 끝까지 all => epoch\n",
    "# * 전체를 쪼개서 일부 => batch_size"
   ]
  },
  {
   "cell_type": "code",
   "execution_count": null,
   "id": "01a357bd",
   "metadata": {},
   "outputs": [],
   "source": []
  },
  {
   "cell_type": "code",
   "execution_count": null,
   "id": "3426bc51",
   "metadata": {},
   "outputs": [],
   "source": [
    "입력층의 레이어와 중간층이 레이어가 전부 연결되는\n",
    "=> dense레이어, 전결합층\n",
    "모든 입력받은 것을 전 레이어에 \n"
   ]
  }
 ],
 "metadata": {
  "kernelspec": {
   "display_name": "Python 3 (ipykernel)",
   "language": "python",
   "name": "python3"
  },
  "language_info": {
   "codemirror_mode": {
    "name": "ipython",
    "version": 3
   },
   "file_extension": ".py",
   "mimetype": "text/x-python",
   "name": "python",
   "nbconvert_exporter": "python",
   "pygments_lexer": "ipython3",
   "version": "3.9.12"
  }
 },
 "nbformat": 4,
 "nbformat_minor": 5
}
