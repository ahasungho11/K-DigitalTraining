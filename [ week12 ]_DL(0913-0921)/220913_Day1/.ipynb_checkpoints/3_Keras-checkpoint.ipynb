{
 "cells": [
  {
   "cell_type": "markdown",
   "id": "37e57c23",
   "metadata": {},
   "source": [
    "### Keras LIB\n",
    "---\n",
    "- Tensorflow 기반의 Keras 패키지 (Tnesor를 흘려보낸다(flow))\n",
    "- 기본 데이터 Tensor 타입\n",
    "- 모델을 직접 설계, 생성해야 함"
   ]
  },
  {
   "cell_type": "code",
   "execution_count": 1,
   "id": "76b55fa0",
   "metadata": {},
   "outputs": [],
   "source": [
    "import tensorflow as tf"
   ]
  },
  {
   "cell_type": "code",
   "execution_count": 2,
   "id": "52f8382d",
   "metadata": {},
   "outputs": [],
   "source": [
    "from tensorflow.keras import Sequential\n",
    "from tensorflow.keras.layers import Dense\n",
    "import numpy as np\n",
    "from sklearn.datasets import load_iris"
   ]
  },
  {
   "cell_type": "code",
   "execution_count": 3,
   "id": "be6e4c97",
   "metadata": {},
   "outputs": [],
   "source": [
    "# # 모듈 로딩시 경고뜰 때\n",
    "# from keras import Sequential\n",
    "# from keras.layers import Dense"
   ]
  },
  {
   "cell_type": "code",
   "execution_count": 4,
   "id": "edd831a5",
   "metadata": {},
   "outputs": [
    {
     "data": {
      "text/plain": [
       "'2.10.0'"
      ]
     },
     "execution_count": 4,
     "metadata": {},
     "output_type": "execute_result"
    }
   ],
   "source": [
    "# 버전 확인\n",
    "import tensorflow\n",
    "tensorflow.__version__"
   ]
  },
  {
   "cell_type": "code",
   "execution_count": null,
   "id": "ea975973",
   "metadata": {},
   "outputs": [],
   "source": [
    "* 케라스는 사이킷런과 다르게 일일이 다 넣어줘야 함\n",
    " - Sequential : layers(종류 많음)를 담는 곳, 순차적으로 처리해줌\n",
    "  -> 입력에 몇개, 은닉층에 몇개, 출력에 몇개\n",
    " - 활성함수\n",
    " - 입력 몇 개 받는지(첫번째 일 때만 입력)\n",
    " - 중간층은 입력받은 거 고대로 받으니까 입력x\n",
    " - 출력 노드수, (  )를 정해줘야\n",
    " - 층수, 층별 노드/퍼셉트론 수\n",
    "\n",
    " - 손실함수\n",
    " - 최적화 기법\n",
    " - 훈련 , 배치사이즈, 멈출 여부, 모델 저장 등등 \n",
    "\n",
    " - 뉴런=노드=퍼셉트론=유닛\n",
    "\n",
    "# 은닉층의 개수, \n",
    "# 이중분류(시그모이드), 다중분류(소프트맥스)\n",
    "# 출력층의 노드갯수 자동으로 잡음"
   ]
  },
  {
   "cell_type": "markdown",
   "id": "2171567d",
   "metadata": {},
   "source": [
    "### [1] 모델 구성"
   ]
  },
  {
   "cell_type": "code",
   "execution_count": 21,
   "id": "1fc52526",
   "metadata": {},
   "outputs": [],
   "source": [
    "model = Sequential(name = 'HelloModel')  # 모델 이름 입력"
   ]
  },
  {
   "cell_type": "code",
   "execution_count": 22,
   "id": "474a5acd",
   "metadata": {},
   "outputs": [],
   "source": [
    "# 같은 결과. 첫번째 레이어 만들 때 (2가지)\n",
    "# i)\n",
    "# model = tf.keras.Sequential()\n",
    "# model.add(tf.keras.layers.Dense(8, input_shape=(16,)))\n",
    "\n",
    "# ii)\n",
    "model = tf.keras.Sequential()\n",
    "model.add(tf.keras.Input(shape=(16,)))\n",
    "model.add(tf.keras.layers.Dense(8))"
   ]
  },
  {
   "cell_type": "code",
   "execution_count": 23,
   "id": "66127e0f",
   "metadata": {},
   "outputs": [],
   "source": [
    "# 층(lyaer)을 담자\n",
    "# Dense()는 1차원으로만 넣을 수 있음\n",
    "# 첫째 층은 반드시 입력 정보 파라미터 설정\n",
    "# -> input_shape=()를 꼭 넣어야 함(튜플 타입), input_dim=숫자\n",
    "# => 첫째 층 이외에 input을 넣어봤자 적용안됨!!\n",
    "\n",
    "l1 = Dense(10, activation='relu')  # 혼자서는 못쓰지b"
   ]
  },
  {
   "cell_type": "code",
   "execution_count": 24,
   "id": "70e62098",
   "metadata": {},
   "outputs": [],
   "source": [
    "# 각 노드(퍼셉트론/유닛) 입력 : 10개 / 출력 : 50개\n",
    "# 전층의 퍼셉트론이 10개 -> 각각 값들이 다음층으로 전달 \n",
    "l2 = Dense(50, activation='relu')"
   ]
  },
  {
   "cell_type": "code",
   "execution_count": 25,
   "id": "97cdf771",
   "metadata": {},
   "outputs": [],
   "source": [
    "# 각 노드(퍼셉트론/유닛) 입력 : 10개 / 출력 : 50개\n",
    "# 전층의 퍼셉트론이 10개 -> 각각 값들이 다음층으로 전달 \n",
    "l3 = Dense(5, activation='softmax')"
   ]
  },
  {
   "cell_type": "code",
   "execution_count": 26,
   "id": "6b267a9c",
   "metadata": {},
   "outputs": [],
   "source": [
    "# 퍼셉트론 1개마다 출력갯수"
   ]
  },
  {
   "cell_type": "code",
   "execution_count": 27,
   "id": "da522e8b",
   "metadata": {},
   "outputs": [],
   "source": [
    "model.add(l1)\n",
    "model.add(l2)\n",
    "model.add(l3)"
   ]
  },
  {
   "cell_type": "code",
   "execution_count": 20,
   "id": "4def5ef5",
   "metadata": {},
   "outputs": [
    {
     "name": "stdout",
     "output_type": "stream",
     "text": [
      "Model: \"sequential_1\"\n",
      "_________________________________________________________________\n",
      " Layer (type)                Output Shape              Param #   \n",
      "=================================================================\n",
      " dense_4 (Dense)             (None, 8)                 136       \n",
      "                                                                 \n",
      " dense_5 (Dense)             (None, 10)                90        \n",
      "                                                                 \n",
      " dense_6 (Dense)             (None, 50)                550       \n",
      "                                                                 \n",
      " dense_7 (Dense)             (None, 5)                 255       \n",
      "                                                                 \n",
      "=================================================================\n",
      "Total params: 1,031\n",
      "Trainable params: 1,031\n",
      "Non-trainable params: 0\n",
      "_________________________________________________________________\n"
     ]
    }
   ],
   "source": [
    "## 모델 구성 확인 => summary()\n",
    "model.summary()\n",
    "# - Param = 60의 의미  : [ 가중치(5)+입력을 받은 층의 bias(1)  = 6 ] x [ 입력받은 층의 퍼셉트론(10) ] = 60\n",
    "# - Param = 550의 의미 : [ 가중치(50)+입력을 받은 층의 bias(1) = 51 ] x [ 입력받은 층의 퍼셉트론(50) ] = 550\n",
    "# - Param = 255의 의미 : [ 가중치(5)+입력을 받은 층의 bias(1)  = 6 ] x [ 입력받은 층의 퍼셉트론(5) ] = 255"
   ]
  },
  {
   "cell_type": "code",
   "execution_count": null,
   "id": "9c012dba",
   "metadata": {},
   "outputs": [],
   "source": [
    "compile(\n",
    "    optimizer='rmsprop',\n",
    "    loss=None,\n",
    "    metrics=None,\n",
    "    loss_weights=None,\n",
    "    weighted_metrics=None,\n",
    "    run_eagerly=None,\n",
    "    steps_per_execution=None,\n",
    "    jit_compile=None,\n",
    "    **kwargs\n",
    ")\n",
    "\n",
    "\n",
    "분류 -> 오차제곱\n",
    "회귀 -> 엔트로피, "
   ]
  },
  {
   "cell_type": "markdown",
   "id": "eaf62aed",
   "metadata": {},
   "source": [
    "### [2] 모델 생성\n",
    "---\n",
    "- 손실함수, 최적화 기법, 성능평가항목 설정\n",
    "- compile()메서드\n",
    "    - optimizer : string 타입의 최적화기법명 입력 or 객체 <- 기본값 사용하지 않는 경우\n",
    "    - loss : 손실함수로 string 타입의 이름 입력\n",
    "        - 분류 : categorical_crossentropy, sparse_categorical_crossentropy, binary_categorical_crossentropy\n",
    "        - 회귀 : mean_squared_error(mse), mean_absolute_error(mae)...\n",
    "    - metrics : 모델 평가 항목\n",
    "        - accuracy, mse, mae ..."
   ]
  },
  {
   "cell_type": "code",
   "execution_count": 29,
   "id": "dae35b0a",
   "metadata": {},
   "outputs": [],
   "source": [
    "model.compile(optimizer='adam', loss='sparse_categorical_crossentropy', metrics=['accuracy'])"
   ]
  },
  {
   "cell_type": "markdown",
   "id": "e14d2c7b",
   "metadata": {},
   "source": [
    "### [3] 학습\n",
    "---\n",
    "- fit() 매서드\n",
    "    - 훈련용 데이터\n",
    "    - 훈련용 타겟\n",
    "    - epochs : 학습 횟수 (처음~끝까지)\n",
    "    - batch_size : 한번 학습량 (기본값 : 32)\n",
    "    - validation_split / validation_data = (,) : 튜플로, 검증 데이터 설정\n",
    "    - callbacks : 이번트 처리 함수 목록  ex) 학습 중단 이벤트, 모델 검증 및 저장 이벤트 ...\n",
    "    - verbose : 학습 과정 출력 여부 설정 (기본값 : 'auto')\n",
    "    "
   ]
  },
  {
   "cell_type": "code",
   "execution_count": 30,
   "id": "0b31063c",
   "metadata": {
    "collapsed": true
   },
   "outputs": [
    {
     "ename": "NameError",
     "evalue": "name 'data' is not defined",
     "output_type": "error",
     "traceback": [
      "\u001b[1;31m---------------------------------------------------------------------------\u001b[0m",
      "\u001b[1;31mNameError\u001b[0m                                 Traceback (most recent call last)",
      "Input \u001b[1;32mIn [30]\u001b[0m, in \u001b[0;36m<cell line: 1>\u001b[1;34m()\u001b[0m\n\u001b[1;32m----> 1\u001b[0m model\u001b[38;5;241m.\u001b[39mfit(\u001b[43mdata\u001b[49m, target)\n",
      "\u001b[1;31mNameError\u001b[0m: name 'data' is not defined"
     ]
    }
   ],
   "source": [
    "model.fit(data, target) # compile할 때, 이름이 틀려도 넘어갈 수 있으나, fit할 때"
   ]
  },
  {
   "cell_type": "markdown",
   "id": "9e685a48",
   "metadata": {},
   "source": [
    "## 여기까지 IRIS로 모델 만들어보기"
   ]
  },
  {
   "cell_type": "code",
   "execution_count": 31,
   "id": "5af49f81",
   "metadata": {},
   "outputs": [],
   "source": [
    "# 데이터 로딩\n",
    "iris = load_iris()"
   ]
  },
  {
   "cell_type": "code",
   "execution_count": 32,
   "id": "72d2df4e",
   "metadata": {},
   "outputs": [
    {
     "name": "stdout",
     "output_type": "stream",
     "text": [
      "(150, 4) (150,)\n"
     ]
    }
   ],
   "source": [
    "data = iris.data\n",
    "target = iris.target\n",
    "print(data.shape, target.shape)"
   ]
  },
  {
   "cell_type": "code",
   "execution_count": 33,
   "id": "4dd4b079",
   "metadata": {},
   "outputs": [
    {
     "data": {
      "text/plain": [
       "array([[5.1, 3.5, 1.4, 0.2]])"
      ]
     },
     "execution_count": 33,
     "metadata": {},
     "output_type": "execute_result"
    }
   ],
   "source": [
    "data[:1]"
   ]
  },
  {
   "cell_type": "code",
   "execution_count": 34,
   "id": "0774468e",
   "metadata": {},
   "outputs": [
    {
     "data": {
      "text/plain": [
       "(array([0, 0, 0, 0, 0]), array([1, 1, 1, 1, 1]), array([2, 2, 2, 2, 2]))"
      ]
     },
     "execution_count": 34,
     "metadata": {},
     "output_type": "execute_result"
    }
   ],
   "source": [
    "target[:5], target[50:55], target[100:105]"
   ]
  },
  {
   "cell_type": "code",
   "execution_count": 35,
   "id": "2052ac39",
   "metadata": {},
   "outputs": [
    {
     "name": "stdout",
     "output_type": "stream",
     "text": [
      "Model: \"Iris\"\n",
      "_________________________________________________________________\n",
      " Layer (type)                Output Shape              Param #   \n",
      "=================================================================\n",
      " dense_12 (Dense)            (None, 10)                50        \n",
      "                                                                 \n",
      " dense_13 (Dense)            (None, 3)                 33        \n",
      "                                                                 \n",
      "=================================================================\n",
      "Total params: 83\n",
      "Trainable params: 83\n",
      "Non-trainable params: 0\n",
      "_________________________________________________________________\n"
     ]
    }
   ],
   "source": [
    "# 모델 구성\n",
    "model_I = Sequential(name = 'Iris')\n",
    "\n",
    "# 층 담기 (.unique()로 생각해보자)\n",
    "# 4개 입력, 출력 1개 => 총 10개가 다음 층의 입력\n",
    "l1 = Dense(10, activation='relu', input_shape=(4,))  # 첫번째(입력:4)\n",
    "# l2 = Dense(50, activation='relu')                    # 중간(그대로 받음)\n",
    "\n",
    "# 각 노드(퍼셉트론, 유닛) : 10개 입력, 출력 1개\n",
    "# 총 3개 출력\n",
    "l3 = Dense(3, activation='softmax')                  # 마지막(출력:3)\n",
    "\n",
    "model_I.add(l1)\n",
    "# model_I.add(l2)\n",
    "model_I.add(l3)\n",
    "\n",
    "## 모델 구성 확인 => summary()\n",
    "model_I.summary()"
   ]
  },
  {
   "cell_type": "code",
   "execution_count": 36,
   "id": "dbb5cbee",
   "metadata": {},
   "outputs": [],
   "source": [
    "# ont-hot-encoding 안되어 있다면 'sparse_categorical_crossentropy'\n",
    "model_I.compile(optimizer='adam', loss='sparse_categorical_crossentropy', metrics=['accuracy'])"
   ]
  },
  {
   "cell_type": "code",
   "execution_count": 37,
   "id": "2660dfd0",
   "metadata": {},
   "outputs": [
    {
     "name": "stdout",
     "output_type": "stream",
     "text": [
      "Epoch 1/5\n",
      "5/5 [==============================] - 0s 1ms/step - loss: 5.0915 - accuracy: 0.3333\n",
      "Epoch 2/5\n",
      "5/5 [==============================] - 0s 750us/step - loss: 4.8495 - accuracy: 0.3333\n",
      "Epoch 3/5\n",
      "5/5 [==============================] - 0s 1ms/step - loss: 4.6232 - accuracy: 0.3333\n",
      "Epoch 4/5\n",
      "5/5 [==============================] - 0s 1ms/step - loss: 4.3920 - accuracy: 0.3333\n",
      "Epoch 5/5\n",
      "5/5 [==============================] - 0s 750us/step - loss: 4.1697 - accuracy: 0.3333\n"
     ]
    },
    {
     "data": {
      "text/plain": [
       "<keras.callbacks.History at 0x1f8231c11c0>"
      ]
     },
     "execution_count": 37,
     "metadata": {},
     "output_type": "execute_result"
    }
   ],
   "source": [
    "model_I.fit(data, target, epochs=5) # compile할 때, 이름이 틀려도 넘어갈 수 있으나, fit할 때"
   ]
  },
  {
   "cell_type": "code",
   "execution_count": null,
   "id": "46656242",
   "metadata": {},
   "outputs": [],
   "source": [
    "# 원-핫-인코딩 바꾸는 과정 => 캡처\n",
    "# 그러면 loss함수도 또 바뀌어야겠지\n",
    "# => 고로 "
   ]
  },
  {
   "cell_type": "markdown",
   "id": "6d0fd9f2",
   "metadata": {},
   "source": [
    "### [4] 평가"
   ]
  },
  {
   "cell_type": "code",
   "execution_count": 38,
   "id": "d18f0d7a",
   "metadata": {},
   "outputs": [
    {
     "name": "stdout",
     "output_type": "stream",
     "text": [
      "1/1 [==============================] - 0s 73ms/step - loss: 0.0000e+00 - accuracy: 0.0000e+00\n"
     ]
    },
    {
     "data": {
      "text/plain": [
       "[0.0, 0.0]"
      ]
     },
     "execution_count": 38,
     "metadata": {},
     "output_type": "execute_result"
    }
   ],
   "source": [
    "# 평가 (test data가 있으면 그걸로)\n",
    "model_I.evaluate([[5.1, 3.5, 1.4, 0.2]])"
   ]
  },
  {
   "cell_type": "code",
   "execution_count": 39,
   "id": "b6e287e3",
   "metadata": {},
   "outputs": [
    {
     "name": "stdout",
     "output_type": "stream",
     "text": [
      "1/1 [==============================] - 0s 66ms/step\n"
     ]
    },
    {
     "data": {
      "text/plain": [
       "array([[0.9498837 , 0.03733537, 0.012781  ]], dtype=float32)"
      ]
     },
     "execution_count": 39,
     "metadata": {},
     "output_type": "execute_result"
    }
   ],
   "source": [
    "# 예측\n",
    "model_I.predict([[5.1, 3.5, 1.4, 0.2]])"
   ]
  },
  {
   "cell_type": "code",
   "execution_count": 50,
   "id": "73d949ee",
   "metadata": {},
   "outputs": [],
   "source": [
    "# 설계 - compile (모델 만든 상태) - fit"
   ]
  }
 ],
 "metadata": {
  "kernelspec": {
   "display_name": "Python 3.11.0 64-bit",
   "language": "python",
   "name": "python3"
  },
  "language_info": {
   "codemirror_mode": {
    "name": "ipython",
    "version": 3
   },
   "file_extension": ".py",
   "mimetype": "text/x-python",
   "name": "python",
   "nbconvert_exporter": "python",
   "pygments_lexer": "ipython3",
   "version": "3.11.0"
  },
  "vscode": {
   "interpreter": {
    "hash": "25334c1ec4fe8ade4d2de16036465563188327fab73b93d66eced48be3141c83"
   }
  }
 },
 "nbformat": 4,
 "nbformat_minor": 5
}
