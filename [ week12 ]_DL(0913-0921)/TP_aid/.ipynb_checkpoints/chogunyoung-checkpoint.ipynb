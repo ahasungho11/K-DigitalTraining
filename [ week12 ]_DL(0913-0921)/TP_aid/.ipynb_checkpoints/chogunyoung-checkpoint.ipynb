{
 "cells": [
  {
   "cell_type": "markdown",
   "metadata": {},
   "source": [
    "# 브랜드 로고 맞추기"
   ]
  },
  {
   "cell_type": "code",
   "execution_count": 5,
   "metadata": {},
   "outputs": [],
   "source": [
    "# 모듈 로딩\n",
    "from urllib.request import urlopen,Request,urlretrieve\n",
    "from bs4 import BeautifulSoup\n",
    "from selenium import webdriver\n",
    "from PIL import Image\n",
    "from sklearn.linear_model import LogisticRegression\n",
    "from sklearn.utils import all_estimators\n",
    "from sklearn.model_selection import train_test_split\n",
    "import matplotlib.pyplot as plt\n",
    "import os\n",
    "import cv2\n",
    "import numpy as np \n",
    "import pandas as pd"
   ]
  },
  {
   "cell_type": "markdown",
   "metadata": {},
   "source": [
    "## [1] 데이터 크롤링"
   ]
  },
  {
   "cell_type": "code",
   "execution_count": 7,
   "metadata": {},
   "outputs": [],
   "source": [
    "# 동적 웹 크롤링으로 사진저장 함수\n",
    "def image_save(urlpath,logoname):\n",
    "    driver = webdriver.Chrome('C:/Users/whrjs/PycharmProjects/exam/day_0725/chromedriver.exe')\n",
    "    driver.get(urlpath)\n",
    "    html=driver.page_source\n",
    "    soup=BeautifulSoup(html,'html.parser')\n",
    "    driver.quit()\n",
    "\n",
    "    # 태그-속성 찾기\n",
    "    image_finds=soup.select(\"div.bRMDJf img\")\n",
    "    \n",
    "    # 이미지의 url찾기\n",
    "    image=[]\n",
    "    for image_find in image_finds:\n",
    "        try:\n",
    "            image.append(image_find['src'])\n",
    "            image.append(image_find['data-src'])\n",
    "        except:\n",
    "            pass\n",
    "    \n",
    "    # 폴더 만들기\n",
    "    if not os.path.exists('./'+logoname):\n",
    "        os.makedirs(logoname)\n",
    "    \n",
    "    # 파일 저장하기\n",
    "    for i in range(0,len(image)):\n",
    "        urlretrieve(image[i],'./'+logoname+'/'+logoname+str(i)+'.png')\n",
    "\n",
    "    # 파일 크기 조절\n",
    "    for png in os.listdir('./'+logoname):\n",
    "        Image.open('./'+logoname+'/'+png).resize((50,50)).save('./'+logoname+'/'+png)"
   ]
  },
  {
   "cell_type": "code",
   "execution_count": 10,
   "metadata": {},
   "outputs": [],
   "source": [
    "# 이미지 크기만 조절하는 함수\n",
    "def resize_img(imagefile):\n",
    "    Image.open(imagefile).resize((50,50)).save(imagefile)"
   ]
  },
  {
   "cell_type": "code",
   "execution_count": 39,
   "metadata": {},
   "outputs": [],
   "source": [
    "resize_img('./banolim/image3.png')"
   ]
  },
  {
   "cell_type": "code",
   "execution_count": 8,
   "metadata": {},
   "outputs": [
    {
     "name": "stderr",
     "output_type": "stream",
     "text": [
      "C:\\Users\\whrjs\\AppData\\Local\\Temp\\ipykernel_22132\\1952335184.py:3: DeprecationWarning: executable_path has been deprecated, please pass in a Service object\n",
      "  driver = webdriver.Chrome('C:/Users/whrjs/PycharmProjects/exam/day_0725/chromedriver.exe')\n"
     ]
    }
   ],
   "source": [
    "# 피자헛 크롤링\n",
    "image_save('https://www.google.com/search?q=%ED%94%BC%EC%9E%90%ED%97%9B+ci+png&tbm=isch&ved=2ahUKEwi_n7-EpqL6AhVRFYgKHeruA4wQ2-cCegQIABAA&oq=%ED%94%BC%EC%9E%90%ED%97%9B+ci+png&gs_lcp=CgNpbWcQA1CoE1izFWDgGWgAcAB4AIABuAGIAc0EkgEDMC40mAEAoAEBqgELZ3dzLXdpei1pbWfAAQE&sclient=img&ei=1iEpY7_cENGqoATq3Y_gCA&bih=892&biw=1920&rlz=1C1CHZN_koKR1011KR1011&hl=ko','pizzahut')"
   ]
  },
  {
   "cell_type": "code",
   "execution_count": 9,
   "metadata": {},
   "outputs": [
    {
     "name": "stderr",
     "output_type": "stream",
     "text": [
      "C:\\Users\\whrjs\\AppData\\Local\\Temp\\ipykernel_22132\\1952335184.py:3: DeprecationWarning: executable_path has been deprecated, please pass in a Service object\n",
      "  driver = webdriver.Chrome('C:/Users/whrjs/PycharmProjects/exam/day_0725/chromedriver.exe')\n"
     ]
    }
   ],
   "source": [
    "# 파파존스 크롤링\n",
    "image_save('https://www.google.com/search?q=papajohns+ci+png&tbm=isch&ved=2ahUKEwjB77a_uKL6AhVCTPUHHUi1Dy8Q2-cCegQIABAA&oq=papajohns+ci+png&gs_lcp=CgNpbWcQA1CSClj3I2CyNGgAcAB4AIABzAGIAfcIkgEFMC40LjKYAQCgAQGqAQtnd3Mtd2l6LWltZ8ABAQ&sclient=img&ei=MTUpY4GTK8KY1e8PyOq--AI&bih=892&biw=1920&rlz=1C1CHZN_koKR1011KR1011&hl=ko','papazons')"
   ]
  },
  {
   "cell_type": "code",
   "execution_count": 13,
   "metadata": {},
   "outputs": [
    {
     "name": "stderr",
     "output_type": "stream",
     "text": [
      "C:\\Users\\whrjs\\AppData\\Local\\Temp\\ipykernel_22132\\1952335184.py:3: DeprecationWarning: executable_path has been deprecated, please pass in a Service object\n",
      "  driver = webdriver.Chrome('C:/Users/whrjs/PycharmProjects/exam/day_0725/chromedriver.exe')\n"
     ]
    }
   ],
   "source": [
    "# 미스터피자 크롤링\n",
    "image_save('https://www.google.com/search?q=%EB%AF%B8%EC%8A%A4%ED%84%B0%ED%94%BC%EC%9E%90+%EB%A1%9C%EA%B3%A0+png&tbm=isch&ved=2ahUKEwiqyYO5vKL6AhWp0IsBHWCyBMMQ2-cCegQIABAA&oq=%EB%AF%B8%EC%8A%A4%ED%84%B0%ED%94%BC%EC%9E%90+%EB%A1%9C%EA%B3%A0+png&gs_lcp=CgNpbWcQAzIFCAAQgAQ6BAgAEBg6BAgAEB5Q8QNY6BlgwxtoA3AAeACAAdQBiAHcCpIBBTAuNy4xmAEAoAEBqgELZ3dzLXdpei1pbWfAAQE&sclient=img&ei=VjkpY6rGAamhr7wP4OSSmAw&bih=892&biw=1920&rlz=1C1CHZN_koKR1011KR1011&hl=ko','mrpizza')"
   ]
  },
  {
   "cell_type": "code",
   "execution_count": 20,
   "metadata": {},
   "outputs": [
    {
     "name": "stderr",
     "output_type": "stream",
     "text": [
      "C:\\Users\\whrjs\\AppData\\Local\\Temp\\ipykernel_22132\\1952335184.py:3: DeprecationWarning: executable_path has been deprecated, please pass in a Service object\n",
      "  driver = webdriver.Chrome('C:/Users/whrjs/PycharmProjects/exam/day_0725/chromedriver.exe')\n"
     ]
    }
   ],
   "source": [
    "# 도미노 피자 크롤링\n",
    "image_save('https://www.google.com/search?q=domino+pizza+logo+png&tbm=isch&ved=2ahUKEwjXuebUwqL6AhWGS_UHHaTqClcQ2-cCegQIABAA&oq=domino+pizza+logo+png&gs_lcp=CgNpbWcQAzIECAAQEzIICAAQHhAIEBM6BQgAEIAEOggIABCABBCxAzoECAAQGDoECAAQHjoGCAAQHhAFOgYIABAeEBM6CAgAEB4QBRATUM8CWNcyYNI1aAFwAHgCgAHUBIgBujaSAQsxLjcuNy43LjEuMpgBAKABAaoBC2d3cy13aXotaW1nwAEB&sclient=img&ei=2j8pY9fkNYaX1e8PpNWruAU&bih=714&biw=1536&rlz=1C1CHZN_koKR1011KR1011&hl=ko','domino')"
   ]
  },
  {
   "cell_type": "code",
   "execution_count": 31,
   "metadata": {},
   "outputs": [
    {
     "name": "stderr",
     "output_type": "stream",
     "text": [
      "C:\\Users\\whrjs\\AppData\\Local\\Temp\\ipykernel_22132\\1952335184.py:3: DeprecationWarning: executable_path has been deprecated, please pass in a Service object\n",
      "  driver = webdriver.Chrome('C:/Users/whrjs/PycharmProjects/exam/day_0725/chromedriver.exe')\n"
     ]
    }
   ],
   "source": [
    "# 반올림 피자 크롤링\n",
    "image_save('https://www.google.com/search?q=banolim+pizza+ci+png&tbm=isch&ved=2ahUKEwiHjreoyKL6AhXgSfUHHXhMBUcQ2-cCegQIABAA&oq=banolim+pizza+ci+png&gs_lcp=CgNpbWcQA1DKBFjjCGChCmgAcAB4AIABygGIAdgEkgEFMC4xLjKYAQCgAQGqAQtnd3Mtd2l6LWltZ8ABAQ&sclient=img&ei=yEUpY4eKG-CT1e8P-JiVuAQ&bih=656&biw=1536&rlz=1C1CHZN_koKR1011KR1011&hl=ko','banolim')"
   ]
  },
  {
   "cell_type": "code",
   "execution_count": null,
   "metadata": {},
   "outputs": [],
   "source": []
  },
  {
   "cell_type": "markdown",
   "metadata": {},
   "source": [
    "## [2] 이미지 회전 시키기 => 데이터 증식"
   ]
  },
  {
   "cell_type": "code",
   "execution_count": 6,
   "metadata": {},
   "outputs": [],
   "source": [
    "# 크롤링 데이터 로테이션시키는 함수\n",
    "def rota_save(color,foldname):\n",
    "    # 폴더 만들기\n",
    "    if not os.path.exists('./'+foldname):\n",
    "        os.makedirs(foldname)\n",
    "    \n",
    "    rotation=[45,90,135,180,225,270,315]\n",
    "    for file in os.listdir('./data/'):\n",
    "        for rot in rotation:\n",
    "            img=np.array(Image.open('./data/'+file).convert(color))\n",
    "            rows,cols = img.shape[0:2]\n",
    "            ro_mt = cv2.getRotationMatrix2D((cols/2,rows/2),rot,1.42)\n",
    "            ro_img = cv2.warpAffine(img, ro_mt,(cols, rows))\n",
    "            \n",
    "            # 이미지 저장\n",
    "            filename=f\"{file}_ro{str(rot)}\"\n",
    "            cv2.imwrite('./'+foldname+'/'+filename+'.png',ro_img)"
   ]
  },
  {
   "cell_type": "code",
   "execution_count": 7,
   "metadata": {},
   "outputs": [],
   "source": [
    "# 크롤링 데이터 convert 함수\n",
    "def data_con(color,foldname):\n",
    "    for file in os.listdir('./data/'):\n",
    "        img=Image.open('./data/'+file).convert(color).save('./'+foldname+'/'+file)"
   ]
  },
  {
   "cell_type": "code",
   "execution_count": 8,
   "metadata": {},
   "outputs": [],
   "source": [
    "# 흑백으로 로테이션\n",
    "rota_save('L','blwh')"
   ]
  },
  {
   "cell_type": "code",
   "execution_count": 9,
   "metadata": {},
   "outputs": [],
   "source": [
    "# rgb로 로테이션\n",
    "rota_save('RGB','rgb')"
   ]
  },
  {
   "cell_type": "code",
   "execution_count": 10,
   "metadata": {},
   "outputs": [],
   "source": [
    "# 원본사진 흑백으로\n",
    "data_con('L','blwh')"
   ]
  },
  {
   "cell_type": "code",
   "execution_count": 11,
   "metadata": {},
   "outputs": [],
   "source": [
    "# 원본사진 색깔로\n",
    "data_con('RGB','rgb')"
   ]
  },
  {
   "cell_type": "markdown",
   "metadata": {},
   "source": [
    "## [3] 사진 데이터화 시키기"
   ]
  },
  {
   "cell_type": "code",
   "execution_count": 12,
   "metadata": {},
   "outputs": [],
   "source": [
    "def solution(foldname):\n",
    "    l=[]\n",
    "    for i in os.listdir('./'+foldname+'/'):\n",
    "        n=np.array(Image.open('./'+foldname+'/'+i))/255.0\n",
    "        if foldname=='blwh':\n",
    "           n_list=n.reshape(-1,50*50)[0].tolist()\n",
    "        else:\n",
    "            n_list=n.reshape(-1,50*50,3)[0].tolist()\n",
    "        l.append(n_list)\n",
    "    return np.array(l)"
   ]
  },
  {
   "cell_type": "code",
   "execution_count": 13,
   "metadata": {},
   "outputs": [],
   "source": [
    "# 이미지 잘못된거 찾아주는 코드\n",
    "# c=[]\n",
    "# for i in os.listdir('./blwh/'):\n",
    "#     n=np.array(Image.open('./blwh/'+i))/255.0\n",
    "#     print(n.shape)\n",
    "#     if n.shape[0]!=50:\n",
    "#         print(i)\n",
    "#     n_list=n.reshape(-1,50*50)[0].tolist()\n",
    "#     print(len(n_list))\n",
    "#     c.append(n_list)\n",
    "\n",
    "# 크기가 잘못 되어있으면 해당 파일을 이름을 출력해줌"
   ]
  },
  {
   "cell_type": "code",
   "execution_count": 14,
   "metadata": {},
   "outputs": [
    {
     "data": {
      "text/plain": [
       "array([[1.        , 1.        , 1.        , ..., 1.        , 1.        ,\n",
       "        1.        ],\n",
       "       [0.09411765, 0.59215686, 1.        , ..., 1.        , 1.        ,\n",
       "        1.        ],\n",
       "       [0.42352941, 0.98431373, 0.87058824, ..., 1.        , 1.        ,\n",
       "        1.        ],\n",
       "       ...,\n",
       "       [0.75294118, 0.52941176, 0.34901961, ..., 0.69803922, 0.83921569,\n",
       "        0.97254902],\n",
       "       [0.99215686, 0.99607843, 0.99607843, ..., 0.94509804, 0.99215686,\n",
       "        0.99215686],\n",
       "       [0.30980392, 0.30980392, 0.30980392, ..., 0.30980392, 0.30980392,\n",
       "        0.30980392]])"
      ]
     },
     "execution_count": 14,
     "metadata": {},
     "output_type": "execute_result"
    }
   ],
   "source": [
    "blwh=solution('blwh')\n",
    "blwh"
   ]
  },
  {
   "cell_type": "code",
   "execution_count": 15,
   "metadata": {},
   "outputs": [
    {
     "data": {
      "text/plain": [
       "array([[[1.        , 1.        , 1.        ],\n",
       "        [1.        , 1.        , 1.        ],\n",
       "        [1.        , 1.        , 1.        ],\n",
       "        ...,\n",
       "        [1.        , 1.        , 1.        ],\n",
       "        [1.        , 1.        , 1.        ],\n",
       "        [1.        , 1.        , 1.        ]],\n",
       "\n",
       "       [[0.09411765, 0.09411765, 0.09411765],\n",
       "        [0.59215686, 0.59215686, 0.59215686],\n",
       "        [1.        , 1.        , 1.        ],\n",
       "        ...,\n",
       "        [1.        , 1.        , 1.        ],\n",
       "        [1.        , 1.        , 1.        ],\n",
       "        [1.        , 1.        , 1.        ]],\n",
       "\n",
       "       [[0.42352941, 0.41960784, 0.43137255],\n",
       "        [0.98431373, 0.98431373, 0.98431373],\n",
       "        [0.87058824, 0.87058824, 0.8745098 ],\n",
       "        ...,\n",
       "        [1.        , 1.        , 1.        ],\n",
       "        [1.        , 1.        , 1.        ],\n",
       "        [1.        , 1.        , 1.        ]],\n",
       "\n",
       "       ...,\n",
       "\n",
       "       [[0.74901961, 0.74509804, 0.76078431],\n",
       "        [0.52156863, 0.52156863, 0.55294118],\n",
       "        [0.34117647, 0.35686275, 0.34117647],\n",
       "        ...,\n",
       "        [0.69019608, 0.68235294, 0.74117647],\n",
       "        [0.83137255, 0.81960784, 0.87843137],\n",
       "        [0.97254902, 0.96862745, 0.98431373]],\n",
       "\n",
       "       [[0.98823529, 0.99607843, 0.99215686],\n",
       "        [0.99215686, 0.99607843, 0.99607843],\n",
       "        [0.99607843, 0.99215686, 1.        ],\n",
       "        ...,\n",
       "        [0.95686275, 0.93333333, 0.96470588],\n",
       "        [0.99607843, 0.99215686, 0.99215686],\n",
       "        [0.99215686, 0.99607843, 0.98039216]],\n",
       "\n",
       "       [[0.23921569, 0.14117647, 0.66666667],\n",
       "        [0.23921569, 0.14117647, 0.66666667],\n",
       "        [0.23921569, 0.14117647, 0.66666667],\n",
       "        ...,\n",
       "        [0.23921569, 0.14117647, 0.66666667],\n",
       "        [0.23921569, 0.14117647, 0.66666667],\n",
       "        [0.23921569, 0.14117647, 0.66666667]]])"
      ]
     },
     "execution_count": 15,
     "metadata": {},
     "output_type": "execute_result"
    }
   ],
   "source": [
    "rgb=solution('rgb')\n",
    "rgb"
   ]
  },
  {
   "cell_type": "code",
   "execution_count": 16,
   "metadata": {
    "collapsed": true
   },
   "outputs": [
    {
     "ename": "NameError",
     "evalue": "name 'a' is not defined",
     "output_type": "error",
     "traceback": [
      "\u001b[1;31m---------------------------------------------------------------------------\u001b[0m",
      "\u001b[1;31mNameError\u001b[0m                                 Traceback (most recent call last)",
      "Input \u001b[1;32mIn [16]\u001b[0m, in \u001b[0;36m<cell line: 1>\u001b[1;34m()\u001b[0m\n\u001b[1;32m----> 1\u001b[0m pd\u001b[38;5;241m.\u001b[39mDataFrame(\u001b[43ma\u001b[49m)\u001b[38;5;241m.\u001b[39mto_csv(\u001b[38;5;124m'\u001b[39m\u001b[38;5;124mblack_white_image.csv\u001b[39m\u001b[38;5;124m'\u001b[39m,index\u001b[38;5;241m=\u001b[39m\u001b[38;5;28;01mFalse\u001b[39;00m)\n",
      "\u001b[1;31mNameError\u001b[0m: name 'a' is not defined"
     ]
    }
   ],
   "source": [
    "# pd.DataFrame(a).to_csv('black_white_image.csv',index=False)"
   ]
  },
  {
   "cell_type": "code",
   "execution_count": null,
   "metadata": {},
   "outputs": [],
   "source": [
    "# 데이터가 3차원이라서 csv파일로 저장이 안된다.\n",
    "# pd.DataFrame(b).to_csv('color_image.csv',index=False)"
   ]
  },
  {
   "cell_type": "code",
   "execution_count": 21,
   "metadata": {},
   "outputs": [
    {
     "data": {
      "text/plain": [
       "<matplotlib.image.AxesImage at 0x1e3d22c6070>"
      ]
     },
     "execution_count": 21,
     "metadata": {},
     "output_type": "execute_result"
    },
    {
     "data": {
      "image/png": "[encoded data removed]",
      "text/plain": [
       "<Figure size 432x288 with 1 Axes>"
      ]
     },
     "metadata": {
      "needs_background": "light"
     },
     "output_type": "display_data"
    }
   ],
   "source": [
    "plt.imshow(blwh[3500].reshape(50,50,), cmap='gray')"
   ]
  },
  {
   "cell_type": "code",
   "execution_count": 22,
   "metadata": {},
   "outputs": [
    {
     "data": {
      "text/plain": [
       "<matplotlib.image.AxesImage at 0x1e3a5c2d5e0>"
      ]
     },
     "execution_count": 22,
     "metadata": {},
     "output_type": "execute_result"
    },
    {
     "data": {
      "image/png": "[encoded data removed]",
      "text/plain": [
       "<Figure size 432x288 with 1 Axes>"
      ]
     },
     "metadata": {
      "needs_background": "light"
     },
     "output_type": "display_data"
    }
   ],
   "source": [
    "plt.imshow(rgb[3500].reshape(50,50,3), cmap='gray')"
   ]
  },
  {
   "cell_type": "code",
   "execution_count": 30,
   "metadata": {},
   "outputs": [],
   "source": [
    "label = pd.read_csv('target.csv')\n",
    "y = np.array(label.label)"
   ]
  },
  {
   "cell_type": "code",
   "execution_count": 31,
   "metadata": {},
   "outputs": [
    {
     "data": {
      "text/plain": [
       "array([ 0,  0,  0, ..., 25, 25, 25], dtype=int64)"
      ]
     },
     "execution_count": 31,
     "metadata": {},
     "output_type": "execute_result"
    }
   ],
   "source": [
    "y"
   ]
  }
 ],
 "metadata": {
  "kernelspec": {
   "display_name": "Python 3 (ipykernel)",
   "language": "python",
   "name": "python3"
  },
  "language_info": {
   "codemirror_mode": {
    "name": "ipython",
    "version": 3
   },
   "file_extension": ".py",
   "mimetype": "text/x-python",
   "name": "python",
   "nbconvert_exporter": "python",
   "pygments_lexer": "ipython3",
   "version": "3.9.12"
  },
  "vscode": {
   "interpreter": {
    "hash": "d1dde8d3f1fc6169eb2afb9c884f1482ff31994a855398e316a83a9dc8ff488b"
   }
  }
 },
 "nbformat": 4,
 "nbformat_minor": 2
}
