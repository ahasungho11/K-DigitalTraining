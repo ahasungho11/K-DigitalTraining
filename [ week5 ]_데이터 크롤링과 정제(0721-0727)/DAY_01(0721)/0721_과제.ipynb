{
 "cells": [
  {
   "cell_type": "code",
   "execution_count": 218,
   "id": "34d8f10e",
   "metadata": {},
   "outputs": [],
   "source": [
    "from urllib.request import urlopen\n",
    "from bs4 import BeautifulSoup"
   ]
  },
  {
   "cell_type": "code",
   "execution_count": 219,
   "id": "346958af",
   "metadata": {},
   "outputs": [
    {
     "ename": "AttributeError",
     "evalue": "ResultSet object has no attribute 'select'. You're probably treating a list of elements like a single element. Did you call find_all() when you meant to call find()?",
     "output_type": "error",
     "traceback": [
      "\u001b[1;31m---------------------------------------------------------------------------\u001b[0m",
      "\u001b[1;31mAttributeError\u001b[0m                            Traceback (most recent call last)",
      "Input \u001b[1;32mIn [219]\u001b[0m, in \u001b[0;36m<cell line: 2>\u001b[1;34m()\u001b[0m\n\u001b[0;32m      1\u001b[0m \u001b[38;5;66;03m# 1) Period_name 뽑아 담기\u001b[39;00m\n\u001b[1;32m----> 2\u001b[0m period_name \u001b[38;5;241m=\u001b[39m \u001b[43msoup\u001b[49m\u001b[38;5;241;43m.\u001b[39;49m\u001b[43mselect\u001b[49m(\u001b[38;5;124m'\u001b[39m\u001b[38;5;124mp.period-name\u001b[39m\u001b[38;5;124m'\u001b[39m)\n\u001b[0;32m      4\u001b[0m period \u001b[38;5;241m=\u001b[39m []\n\u001b[0;32m      5\u001b[0m \u001b[38;5;28;01mfor\u001b[39;00m p \u001b[38;5;129;01min\u001b[39;00m period_name:\n",
      "File \u001b[1;32mC:\\ProgramData\\Anaconda3\\lib\\site-packages\\bs4\\element.py:2289\u001b[0m, in \u001b[0;36mResultSet.__getattr__\u001b[1;34m(self, key)\u001b[0m\n\u001b[0;32m   2287\u001b[0m \u001b[38;5;28;01mdef\u001b[39;00m \u001b[38;5;21m__getattr__\u001b[39m(\u001b[38;5;28mself\u001b[39m, key):\n\u001b[0;32m   2288\u001b[0m     \u001b[38;5;124;03m\"\"\"Raise a helpful exception to explain a common code fix.\"\"\"\u001b[39;00m\n\u001b[1;32m-> 2289\u001b[0m     \u001b[38;5;28;01mraise\u001b[39;00m \u001b[38;5;167;01mAttributeError\u001b[39;00m(\n\u001b[0;32m   2290\u001b[0m         \u001b[38;5;124m\"\u001b[39m\u001b[38;5;124mResultSet object has no attribute \u001b[39m\u001b[38;5;124m'\u001b[39m\u001b[38;5;132;01m%s\u001b[39;00m\u001b[38;5;124m'\u001b[39m\u001b[38;5;124m. You\u001b[39m\u001b[38;5;124m'\u001b[39m\u001b[38;5;124mre probably treating a list of elements like a single element. Did you call find_all() when you meant to call find()?\u001b[39m\u001b[38;5;124m\"\u001b[39m \u001b[38;5;241m%\u001b[39m key\n\u001b[0;32m   2291\u001b[0m     )\n",
      "\u001b[1;31mAttributeError\u001b[0m: ResultSet object has no attribute 'select'. You're probably treating a list of elements like a single element. Did you call find_all() when you meant to call find()?"
     ]
    }
   ],
   "source": [
    "# 1) Period_name 뽑아 담기\n",
    "period_name = soup.select('p.period-name')\n",
    "\n",
    "period = []\n",
    "for p in period_name:\n",
    "    period.append(p.text)\n",
    "period"
   ]
  },
  {
   "cell_type": "code",
   "execution_count": null,
   "id": "b1091431",
   "metadata": {},
   "outputs": [],
   "source": [
    "# 2) Short_desc 뽑아 담기\n",
    "short_desc = soup.select('div.tombstone-container > p.short-desc')\n",
    "short = []\n",
    "\n",
    "for s in short_desc:\n",
    "    short.append(s.text)\n",
    "short"
   ]
  },
  {
   "cell_type": "code",
   "execution_count": null,
   "id": "280bdfc7",
   "metadata": {},
   "outputs": [],
   "source": [
    "# 3) Temperature 뽑아 담기\n",
    "temperature = soup.select('div.tombstone-container > p.temp')\n",
    "temp = []\n",
    "\n",
    "for t in temperature:\n",
    "    temp.append(t.text)\n",
    "temp"
   ]
  },
  {
   "cell_type": "code",
   "execution_count": null,
   "id": "350d39b0",
   "metadata": {},
   "outputs": [],
   "source": [
    "# 4) Image desc 뽑아 담기\n",
    "desc = []\n",
    "for i in range(8):\n",
    "    desc.append(soup.select('img')[int(i)]['title'])\n",
    "desc"
   ]
  },
  {
   "cell_type": "code",
   "execution_count": null,
   "id": "e2f0d00e",
   "metadata": {
    "scrolled": true
   },
   "outputs": [],
   "source": [
    "soup.select_one('img')[\"title\"]"
   ]
  },
  {
   "cell_type": "code",
   "execution_count": null,
   "id": "bb7030f5",
   "metadata": {},
   "outputs": [],
   "source": [
    "<div class=\"tombstone-container\">\n",
    "<p class=\"period-name\">Tonight<br><br></p>\n",
    "<p><img src=\"newimages/medium/nbkn.png\" alt=\"Tonight: Mostly cloudy, with a low around 53. West southwest wind 16 to 21 mph, with gusts as high as 26 mph. \" title=\"Tonight: Mostly cloudy, with a low around 53. West southwest wind 16 to 21 mph, with gusts as high as 26 mph. \" class=\"forecast-icon\"></p><p class=\"short-desc\">Mostly Cloudy</p><p class=\"temp temp-low\">Low: 53 &deg;F</p></div></li><li class=\"forecast-tombstone\">"
   ]
  },
  {
   "cell_type": "code",
   "execution_count": null,
   "id": "caa70944",
   "metadata": {},
   "outputs": [],
   "source": []
  },
  {
   "cell_type": "code",
   "execution_count": null,
   "id": "cae7bf2c",
   "metadata": {},
   "outputs": [],
   "source": [
    "contents = bs4.select('p.content')  # 소스코드에 패턴이 적혀 있는 것을 확인한 후,\n",
    "for content in contents:\n",
    "    print(content.text)\n",
    "    \n",
    "link2 = soup.select_one('div#class1 p#second')"
   ]
  },
  {
   "cell_type": "code",
   "execution_count": null,
   "id": "42a9c9a7",
   "metadata": {},
   "outputs": [],
   "source": [
    "# 출력 항목 (4개 항목)\n",
    "# – period-name\n",
    "# – short-desc\n",
    "# – temp\n",
    "# – <img title=“...”>"
   ]
  },
  {
   "cell_type": "code",
   "execution_count": null,
   "id": "75e04386",
   "metadata": {},
   "outputs": [],
   "source": [
    "# def scraping_use_find(html)\n",
    "# – find(), find_all() 함수를 이용하여 스크레이핑\n",
    "# def scraping_use_select(html)\n",
    "# – select(), select_one() 함수를 이용하여 스크레이핑soup.select_one('div.tombstone-container"
   ]
  },
  {
   "cell_type": "code",
   "execution_count": null,
   "id": "48b037ea",
   "metadata": {},
   "outputs": [],
   "source": [
    "soup = BeautifulSoup(res,'html.parser')\n",
    "soup = soup.find(\"div\",class_=\"poster\")\n",
    "#img의 경로를 받아온다\n",
    "imgUrl = soup.find(\"img\")[\"src\"]\n",
    " \n",
    "#urlretrieve는 다운로드 함수\n",
    "#img.alt는 이미지 대체 텍스트 == 마약왕\n",
    "urllib.request.urlretrieve(imgUrl, soup.find(\"img\")[\"alt\"]+'.jpg')"
   ]
  },
  {
   "cell_type": "code",
   "execution_count": null,
   "id": "59e10af5",
   "metadata": {},
   "outputs": [],
   "source": [
    "soup.find()"
   ]
  },
  {
   "cell_type": "code",
   "execution_count": null,
   "id": "2de0f3ed",
   "metadata": {},
   "outputs": [],
   "source": [
    "def scraping_use_find(html):\n",
    "    "
   ]
  },
  {
   "cell_type": "code",
   "execution_count": null,
   "id": "b556842b",
   "metadata": {},
   "outputs": [],
   "source": [
    "soup\n",
    "period_name = soup.select('p.period-name')\n",
    "period_name"
   ]
  },
  {
   "cell_type": "code",
   "execution_count": null,
   "id": "8cf6aff7",
   "metadata": {},
   "outputs": [],
   "source": [
    "soup.select('div.tombstone-container > p.period-time > img')\n"
   ]
  },
  {
   "cell_type": "code",
   "execution_count": null,
   "id": "b83dfedc",
   "metadata": {},
   "outputs": [],
   "source": [
    "desc = []\n",
    "for i in range(8):\n",
    "    desc.append(soup.select('img')[int(i)]['title'])"
   ]
  },
  {
   "cell_type": "code",
   "execution_count": null,
   "id": "1093bf14",
   "metadata": {},
   "outputs": [],
   "source": []
  },
  {
   "cell_type": "code",
   "execution_count": null,
   "id": "debdc89a",
   "metadata": {},
   "outputs": [],
   "source": [
    "html = urlopen('https://forecast.weather.gov/MapClick.php?lat=37.7772&lon=-122.4168#.Ytjs7HZBxPY')\n",
    "soup = BeautifulSoup(html.read(), 'html.parser')\n",
    "div_tag = soup.select('div.tombstone-container')\n",
    "div_tag\n",
    "\n",
    "# div_tag.select('img')\n",
    "# desc = []\n",
    "# for i in range(8):\n",
    "#     desc.append(div_tag.select('img')[int(i)]['title'])"
   ]
  },
  {
   "cell_type": "code",
   "execution_count": 220,
   "id": "f202fcb2",
   "metadata": {
    "collapsed": true
   },
   "outputs": [
    {
     "data": {
      "text/plain": [
       "[<div class=\"tombstone-container\">\n",
       " <p class=\"period-name\">Overnight<br/><br/></p>\n",
       " <p><img alt=\"Overnight: Mostly cloudy, with a steady temperature around 56. West southwest wind 15 to 17 mph, with gusts as high as 22 mph. \" class=\"forecast-icon\" src=\"newimages/medium/nbkn.png\" title=\"Overnight: Mostly cloudy, with a steady temperature around 56. West southwest wind 15 to 17 mph, with gusts as high as 22 mph. \"/></p><p class=\"short-desc\">Mostly Cloudy</p><p class=\"temp temp-low\">Low: 56 °F</p></div>,\n",
       " <div class=\"tombstone-container\">\n",
       " <p class=\"period-name\">Thursday<br/><br/></p>\n",
       " <p><img alt=\"Thursday: Mostly cloudy through mid morning, then gradual clearing, with a high near 68. Breezy, with a west wind 13 to 18 mph increasing to 21 to 26 mph in the afternoon. Winds could gust as high as 34 mph. \" class=\"forecast-icon\" src=\"DualImage.php?i=bkn&amp;j=wind_few\" title=\"Thursday: Mostly cloudy through mid morning, then gradual clearing, with a high near 68. Breezy, with a west wind 13 to 18 mph increasing to 21 to 26 mph in the afternoon. Winds could gust as high as 34 mph. \"/></p><p class=\"short-desc\">Partly Sunny<br/>then Sunny<br/>and Breezy</p><p class=\"temp temp-high\">High: 68 °F</p></div>,\n",
       " <div class=\"tombstone-container\">\n",
       " <p class=\"period-name\">Thursday<br/>Night</p>\n",
       " <p><img alt=\"Thursday Night: Partly cloudy, with a low around 55. Breezy, with a west wind 17 to 23 mph, with gusts as high as 30 mph. \" class=\"forecast-icon\" src=\"DualImage.php?i=nwind_few&amp;j=nsct\" title=\"Thursday Night: Partly cloudy, with a low around 55. Breezy, with a west wind 17 to 23 mph, with gusts as high as 30 mph. \"/></p><p class=\"short-desc\">Mostly Clear<br/>and Breezy<br/>then Partly<br/>Cloudy</p><p class=\"temp temp-low\">Low: 55 °F</p></div>,\n",
       " <div class=\"tombstone-container\">\n",
       " <p class=\"period-name\">Friday<br/><br/></p>\n",
       " <p><img alt=\"Friday: Sunny, with a high near 68. Breezy, with a west wind 20 to 26 mph, with gusts as high as 34 mph. \" class=\"forecast-icon\" src=\"newimages/medium/wind_few.png\" title=\"Friday: Sunny, with a high near 68. Breezy, with a west wind 20 to 26 mph, with gusts as high as 34 mph. \"/></p><p class=\"short-desc\">Sunny and<br/>Breezy</p><p class=\"temp temp-high\">High: 68 °F</p></div>,\n",
       " <div class=\"tombstone-container\">\n",
       " <p class=\"period-name\">Friday<br/>Night</p>\n",
       " <p><img alt=\"Friday Night: Partly cloudy, with a low around 54. Breezy, with a west wind 17 to 25 mph, with gusts as high as 33 mph. \" class=\"forecast-icon\" src=\"newimages/medium/nwind_sct.png\" title=\"Friday Night: Partly cloudy, with a low around 54. Breezy, with a west wind 17 to 25 mph, with gusts as high as 33 mph. \"/></p><p class=\"short-desc\">Partly Cloudy<br/>and Breezy</p><p class=\"temp temp-low\">Low: 54 °F</p></div>,\n",
       " <div class=\"tombstone-container\">\n",
       " <p class=\"period-name\">Saturday<br/><br/></p>\n",
       " <p><img alt=\"Saturday: Mostly sunny, with a high near 68.\" class=\"forecast-icon\" src=\"newimages/medium/sct.png\" title=\"Saturday: Mostly sunny, with a high near 68.\"/></p><p class=\"short-desc\">Mostly Sunny</p><p class=\"temp temp-high\">High: 68 °F</p></div>,\n",
       " <div class=\"tombstone-container\">\n",
       " <p class=\"period-name\">Saturday<br/>Night</p>\n",
       " <p><img alt=\"Saturday Night: Partly cloudy, with a low around 54.\" class=\"forecast-icon\" src=\"newimages/medium/nsct.png\" title=\"Saturday Night: Partly cloudy, with a low around 54.\"/></p><p class=\"short-desc\">Partly Cloudy</p><p class=\"temp temp-low\">Low: 54 °F</p></div>,\n",
       " <div class=\"tombstone-container\">\n",
       " <p class=\"period-name\">Sunday<br/><br/></p>\n",
       " <p><img alt=\"Sunday: Mostly sunny, with a high near 70.\" class=\"forecast-icon\" src=\"newimages/medium/sct.png\" title=\"Sunday: Mostly sunny, with a high near 70.\"/></p><p class=\"short-desc\">Mostly Sunny</p><p class=\"temp temp-high\">High: 70 °F</p></div>,\n",
       " <div class=\"tombstone-container\">\n",
       " <p class=\"period-name\">Sunday<br/>Night</p>\n",
       " <p><img alt=\"Sunday Night: Mostly cloudy, with a low around 54.\" class=\"forecast-icon\" src=\"newimages/medium/nbkn.png\" title=\"Sunday Night: Mostly cloudy, with a low around 54.\"/></p><p class=\"short-desc\">Mostly Cloudy</p><p class=\"temp temp-low\">Low: 54 °F</p></div>]"
      ]
     },
     "execution_count": 220,
     "metadata": {},
     "output_type": "execute_result"
    }
   ],
   "source": [
    "html = urlopen('https://forecast.weather.gov/MapClick.php?lat=37.7772&lon=-122.4168#.Ytjs7HZBxPY')\n",
    "bs = BeautifulSoup(html.read(), 'html.parser')\n",
    "soup = bs.select('div.tombstone-container')\n",
    "soup\n",
    "\n",
    "# div_tag = bs.select('div.tombstone-container')\n",
    "# div_tag\n",
    "# div_tag.select_one('p.period-name')\n",
    "\n",
    "# for i in range(len(div_tag)):\n",
    "#     period_name = div_tag.select_one('p.period-name')\n",
    "    \n",
    "# period_name"
   ]
  },
  {
   "cell_type": "code",
   "execution_count": 233,
   "id": "611fd457",
   "metadata": {
    "collapsed": true
   },
   "outputs": [
    {
     "data": {
      "text/plain": [
       "[<div class=\"tombstone-container\">\n",
       " <p class=\"period-name\">Overnight<br/><br/></p>\n",
       " <p><img alt=\"Overnight: Mostly cloudy, with a steady temperature around 56. West southwest wind around 17 mph, with gusts as high as 22 mph. \" class=\"forecast-icon\" src=\"newimages/medium/nbkn.png\" title=\"Overnight: Mostly cloudy, with a steady temperature around 56. West southwest wind around 17 mph, with gusts as high as 22 mph. \"/></p><p class=\"short-desc\">Mostly Cloudy</p><p class=\"temp temp-low\">Low: 56 °F</p></div>,\n",
       " <div class=\"tombstone-container\">\n",
       " <p class=\"period-name\">Thursday<br/><br/></p>\n",
       " <p><img alt=\"Thursday: Mostly cloudy through mid morning, then gradual clearing, with a high near 68. Breezy, with a west southwest wind 13 to 18 mph increasing to 21 to 26 mph in the afternoon. Winds could gust as high as 34 mph. \" class=\"forecast-icon\" src=\"DualImage.php?i=bkn&amp;j=wind_few\" title=\"Thursday: Mostly cloudy through mid morning, then gradual clearing, with a high near 68. Breezy, with a west southwest wind 13 to 18 mph increasing to 21 to 26 mph in the afternoon. Winds could gust as high as 34 mph. \"/></p><p class=\"short-desc\">Partly Sunny<br/>then Sunny<br/>and Breezy</p><p class=\"temp temp-high\">High: 68 °F</p></div>,\n",
       " <div class=\"tombstone-container\">\n",
       " <p class=\"period-name\">Thursday<br/>Night</p>\n",
       " <p><img alt=\"Thursday Night: Mostly clear, with a low around 55. Breezy, with a west wind 17 to 25 mph, with gusts as high as 32 mph. \" class=\"forecast-icon\" src=\"DualImage.php?i=nwind_few&amp;j=nsct\" title=\"Thursday Night: Mostly clear, with a low around 55. Breezy, with a west wind 17 to 25 mph, with gusts as high as 32 mph. \"/></p><p class=\"short-desc\">Mostly Clear<br/>and Breezy<br/>then Partly<br/>Cloudy</p><p class=\"temp temp-low\">Low: 55 °F</p></div>,\n",
       " <div class=\"tombstone-container\">\n",
       " <p class=\"period-name\">Friday<br/><br/></p>\n",
       " <p><img alt=\"Friday: Mostly sunny, with a high near 68. Breezy, with a west wind 20 to 26 mph, with gusts as high as 34 mph. \" class=\"forecast-icon\" src=\"DualImage.php?i=sct&amp;j=wind_few\" title=\"Friday: Mostly sunny, with a high near 68. Breezy, with a west wind 20 to 26 mph, with gusts as high as 34 mph. \"/></p><p class=\"short-desc\">Mostly Sunny<br/>then Sunny<br/>and Breezy</p><p class=\"temp temp-high\">High: 68 °F</p></div>,\n",
       " <div class=\"tombstone-container\">\n",
       " <p class=\"period-name\">Friday<br/>Night</p>\n",
       " <p><img alt=\"Friday Night: Partly cloudy, with a low around 54. Breezy, with a west wind 17 to 25 mph, with gusts as high as 33 mph. \" class=\"forecast-icon\" src=\"newimages/medium/nwind_sct.png\" title=\"Friday Night: Partly cloudy, with a low around 54. Breezy, with a west wind 17 to 25 mph, with gusts as high as 33 mph. \"/></p><p class=\"short-desc\">Partly Cloudy<br/>and Breezy</p><p class=\"temp temp-low\">Low: 54 °F</p></div>,\n",
       " <div class=\"tombstone-container\">\n",
       " <p class=\"period-name\">Saturday<br/><br/></p>\n",
       " <p><img alt=\"Saturday: Mostly sunny, with a high near 68.\" class=\"forecast-icon\" src=\"newimages/medium/sct.png\" title=\"Saturday: Mostly sunny, with a high near 68.\"/></p><p class=\"short-desc\">Mostly Sunny</p><p class=\"temp temp-high\">High: 68 °F</p></div>,\n",
       " <div class=\"tombstone-container\">\n",
       " <p class=\"period-name\">Saturday<br/>Night</p>\n",
       " <p><img alt=\"Saturday Night: Partly cloudy, with a low around 54.\" class=\"forecast-icon\" src=\"newimages/medium/nsct.png\" title=\"Saturday Night: Partly cloudy, with a low around 54.\"/></p><p class=\"short-desc\">Partly Cloudy</p><p class=\"temp temp-low\">Low: 54 °F</p></div>,\n",
       " <div class=\"tombstone-container\">\n",
       " <p class=\"period-name\">Sunday<br/><br/></p>\n",
       " <p><img alt=\"Sunday: Mostly sunny, with a high near 70.\" class=\"forecast-icon\" src=\"newimages/medium/sct.png\" title=\"Sunday: Mostly sunny, with a high near 70.\"/></p><p class=\"short-desc\">Mostly Sunny</p><p class=\"temp temp-high\">High: 70 °F</p></div>,\n",
       " <div class=\"tombstone-container\">\n",
       " <p class=\"period-name\">Sunday<br/>Night</p>\n",
       " <p><img alt=\"Sunday Night: Partly cloudy, with a low around 54.\" class=\"forecast-icon\" src=\"newimages/medium/nsct.png\" title=\"Sunday Night: Partly cloudy, with a low around 54.\"/></p><p class=\"short-desc\">Partly Cloudy</p><p class=\"temp temp-low\">Low: 54 °F</p></div>]"
      ]
     },
     "execution_count": 233,
     "metadata": {},
     "output_type": "execute_result"
    }
   ],
   "source": [
    "html = urlopen('https://forecast.weather.gov/MapClick.php?lat=37.7772&lon=-122.4168#.Ytjs7HZBxPY')\n",
    "bs = BeautifulSoup(html.read(), 'html.parser')\n",
    "soup = bs.select('div.tombstone-container')\n",
    "soup"
   ]
  },
  {
   "cell_type": "code",
   "execution_count": 235,
   "id": "c27fe274",
   "metadata": {
    "collapsed": true
   },
   "outputs": [
    {
     "ename": "AttributeError",
     "evalue": "ResultSet object has no attribute 'select'. You're probably treating a list of elements like a single element. Did you call find_all() when you meant to call find()?",
     "output_type": "error",
     "traceback": [
      "\u001b[1;31m---------------------------------------------------------------------------\u001b[0m",
      "\u001b[1;31mAttributeError\u001b[0m                            Traceback (most recent call last)",
      "Input \u001b[1;32mIn [235]\u001b[0m, in \u001b[0;36m<cell line: 1>\u001b[1;34m()\u001b[0m\n\u001b[1;32m----> 1\u001b[0m \u001b[43msoup\u001b[49m\u001b[38;5;241;43m.\u001b[39;49m\u001b[43mselect\u001b[49m(\u001b[38;5;124m'\u001b[39m\u001b[38;5;124mdiv.tombstone-container > p.period-name\u001b[39m\u001b[38;5;124m'\u001b[39m)\n",
      "File \u001b[1;32mC:\\ProgramData\\Anaconda3\\lib\\site-packages\\bs4\\element.py:2289\u001b[0m, in \u001b[0;36mResultSet.__getattr__\u001b[1;34m(self, key)\u001b[0m\n\u001b[0;32m   2287\u001b[0m \u001b[38;5;28;01mdef\u001b[39;00m \u001b[38;5;21m__getattr__\u001b[39m(\u001b[38;5;28mself\u001b[39m, key):\n\u001b[0;32m   2288\u001b[0m     \u001b[38;5;124;03m\"\"\"Raise a helpful exception to explain a common code fix.\"\"\"\u001b[39;00m\n\u001b[1;32m-> 2289\u001b[0m     \u001b[38;5;28;01mraise\u001b[39;00m \u001b[38;5;167;01mAttributeError\u001b[39;00m(\n\u001b[0;32m   2290\u001b[0m         \u001b[38;5;124m\"\u001b[39m\u001b[38;5;124mResultSet object has no attribute \u001b[39m\u001b[38;5;124m'\u001b[39m\u001b[38;5;132;01m%s\u001b[39;00m\u001b[38;5;124m'\u001b[39m\u001b[38;5;124m. You\u001b[39m\u001b[38;5;124m'\u001b[39m\u001b[38;5;124mre probably treating a list of elements like a single element. Did you call find_all() when you meant to call find()?\u001b[39m\u001b[38;5;124m\"\u001b[39m \u001b[38;5;241m%\u001b[39m key\n\u001b[0;32m   2291\u001b[0m     )\n",
      "\u001b[1;31mAttributeError\u001b[0m: ResultSet object has no attribute 'select'. You're probably treating a list of elements like a single element. Did you call find_all() when you meant to call find()?"
     ]
    }
   ],
   "source": [
    "soup.select('div.tombstone-container > p.period-name')"
   ]
  },
  {
   "cell_type": "code",
   "execution_count": 234,
   "id": "ff10e416",
   "metadata": {
    "collapsed": true
   },
   "outputs": [
    {
     "ename": "AttributeError",
     "evalue": "ResultSet object has no attribute 'select'. You're probably treating a list of elements like a single element. Did you call find_all() when you meant to call find()?",
     "output_type": "error",
     "traceback": [
      "\u001b[1;31m---------------------------------------------------------------------------\u001b[0m",
      "\u001b[1;31mAttributeError\u001b[0m                            Traceback (most recent call last)",
      "Input \u001b[1;32mIn [234]\u001b[0m, in \u001b[0;36m<cell line: 1>\u001b[1;34m()\u001b[0m\n\u001b[1;32m----> 1\u001b[0m period_name \u001b[38;5;241m=\u001b[39m \u001b[43msoup\u001b[49m\u001b[38;5;241;43m.\u001b[39;49m\u001b[43mselect\u001b[49m(\u001b[38;5;124m'\u001b[39m\u001b[38;5;124mp.period-name\u001b[39m\u001b[38;5;124m'\u001b[39m)\n\u001b[0;32m      2\u001b[0m period_name\n",
      "File \u001b[1;32mC:\\ProgramData\\Anaconda3\\lib\\site-packages\\bs4\\element.py:2289\u001b[0m, in \u001b[0;36mResultSet.__getattr__\u001b[1;34m(self, key)\u001b[0m\n\u001b[0;32m   2287\u001b[0m \u001b[38;5;28;01mdef\u001b[39;00m \u001b[38;5;21m__getattr__\u001b[39m(\u001b[38;5;28mself\u001b[39m, key):\n\u001b[0;32m   2288\u001b[0m     \u001b[38;5;124;03m\"\"\"Raise a helpful exception to explain a common code fix.\"\"\"\u001b[39;00m\n\u001b[1;32m-> 2289\u001b[0m     \u001b[38;5;28;01mraise\u001b[39;00m \u001b[38;5;167;01mAttributeError\u001b[39;00m(\n\u001b[0;32m   2290\u001b[0m         \u001b[38;5;124m\"\u001b[39m\u001b[38;5;124mResultSet object has no attribute \u001b[39m\u001b[38;5;124m'\u001b[39m\u001b[38;5;132;01m%s\u001b[39;00m\u001b[38;5;124m'\u001b[39m\u001b[38;5;124m. You\u001b[39m\u001b[38;5;124m'\u001b[39m\u001b[38;5;124mre probably treating a list of elements like a single element. Did you call find_all() when you meant to call find()?\u001b[39m\u001b[38;5;124m\"\u001b[39m \u001b[38;5;241m%\u001b[39m key\n\u001b[0;32m   2291\u001b[0m     )\n",
      "\u001b[1;31mAttributeError\u001b[0m: ResultSet object has no attribute 'select'. You're probably treating a list of elements like a single element. Did you call find_all() when you meant to call find()?"
     ]
    }
   ],
   "source": [
    "period_name = soup.select('p.period-name')\n",
    "period_name"
   ]
  },
  {
   "cell_type": "code",
   "execution_count": null,
   "id": "bf6a8bf9",
   "metadata": {},
   "outputs": [],
   "source": [
    "period_name = soup.select('p.period-name')\n",
    "period = []\n",
    "for p in period_name:\n",
    "    period.append(p.text)"
   ]
  },
  {
   "cell_type": "code",
   "execution_count": 268,
   "id": "236729ba",
   "metadata": {},
   "outputs": [
    {
     "ename": "KeyError",
     "evalue": "'title'",
     "output_type": "error",
     "traceback": [
      "\u001b[1;31m---------------------------------------------------------------------------\u001b[0m",
      "\u001b[1;31mKeyError\u001b[0m                                  Traceback (most recent call last)",
      "Input \u001b[1;32mIn [268]\u001b[0m, in \u001b[0;36m<cell line: 1>\u001b[1;34m()\u001b[0m\n\u001b[1;32m----> 1\u001b[0m \u001b[43msoup\u001b[49m\u001b[38;5;241;43m.\u001b[39;49m\u001b[43mselect\u001b[49m\u001b[43m(\u001b[49m\u001b[38;5;124;43m'\u001b[39;49m\u001b[38;5;124;43mimg\u001b[39;49m\u001b[38;5;124;43m'\u001b[39;49m\u001b[43m)\u001b[49m\u001b[43m[\u001b[49m\u001b[38;5;241;43m0\u001b[39;49m\u001b[43m]\u001b[49m\u001b[43m[\u001b[49m\u001b[38;5;124;43m'\u001b[39;49m\u001b[38;5;124;43mtitle\u001b[39;49m\u001b[38;5;124;43m'\u001b[39;49m\u001b[43m]\u001b[49m\n",
      "File \u001b[1;32mC:\\ProgramData\\Anaconda3\\lib\\site-packages\\bs4\\element.py:1519\u001b[0m, in \u001b[0;36mTag.__getitem__\u001b[1;34m(self, key)\u001b[0m\n\u001b[0;32m   1516\u001b[0m \u001b[38;5;28;01mdef\u001b[39;00m \u001b[38;5;21m__getitem__\u001b[39m(\u001b[38;5;28mself\u001b[39m, key):\n\u001b[0;32m   1517\u001b[0m     \u001b[38;5;124;03m\"\"\"tag[key] returns the value of the 'key' attribute for the Tag,\u001b[39;00m\n\u001b[0;32m   1518\u001b[0m \u001b[38;5;124;03m    and throws an exception if it's not there.\"\"\"\u001b[39;00m\n\u001b[1;32m-> 1519\u001b[0m     \u001b[38;5;28;01mreturn\u001b[39;00m \u001b[38;5;28;43mself\u001b[39;49m\u001b[38;5;241;43m.\u001b[39;49m\u001b[43mattrs\u001b[49m\u001b[43m[\u001b[49m\u001b[43mkey\u001b[49m\u001b[43m]\u001b[49m\n",
      "\u001b[1;31mKeyError\u001b[0m: 'title'"
     ]
    }
   ],
   "source": []
  },
  {
   "cell_type": "code",
   "execution_count": 276,
   "id": "f04923d1",
   "metadata": {},
   "outputs": [
    {
     "name": "stdout",
     "output_type": "stream",
     "text": [
      "[<p class=\"period-name\">Today<br/><br/></p>, <p class=\"period-name\">Tonight<br/><br/></p>, <p class=\"period-name\">Friday<br/><br/></p>, <p class=\"period-name\">Friday<br/>Night</p>, <p class=\"period-name\">Saturday<br/><br/></p>, <p class=\"period-name\">Saturday<br/>Night</p>, <p class=\"period-name\">Sunday<br/><br/></p>, <p class=\"period-name\">Sunday<br/>Night</p>, <p class=\"period-name\">Monday<br/><br/></p>] <class 'bs4.element.ResultSet'>\n",
      "National Weather Service Scraping\n",
      "----------------------------------\n",
      "[select 함수 이용]\n",
      "--------------------------------------------------------------------------------\n",
      "[Period]: Today\n",
      "[Short desc]: Partly Sunnythen Sunnyand Breezy\n",
      "[Temperature]: High: 69 °F\n",
      "[Image desc]: Today: Mostly cloudy through mid morning, then gradual clearing, with a high near 69. Breezy, with a west southwest wind 9 to 14 mph increasing to 21 to 26 mph in the afternoon. Winds could gust as high as 34 mph. \n",
      "--------------------------------------------------------------------------------\n",
      "[Period]: Tonight\n",
      "[Short desc]: Mostly Clearand Breezythen PartlyCloudy\n",
      "[Temperature]: Low: 56 °F\n",
      "[Image desc]: Tonight: Mostly clear, with a low around 56. Breezy, with a west wind 16 to 25 mph, with gusts as high as 32 mph. \n",
      "--------------------------------------------------------------------------------\n",
      "[Period]: Friday\n",
      "[Short desc]: Sunny andBreezy\n",
      "[Temperature]: High: 67 °F\n",
      "[Image desc]: Friday: Sunny, with a high near 67. Breezy, with a west wind 20 to 28 mph, with gusts as high as 36 mph. \n",
      "--------------------------------------------------------------------------------\n",
      "[Period]: FridayNight\n",
      "[Short desc]: Partly Cloudyand Breezy\n",
      "[Temperature]: Low: 54 °F\n",
      "[Image desc]: Friday Night: Partly cloudy, with a low around 54. Breezy, with a west wind 16 to 26 mph, with gusts as high as 34 mph. \n",
      "--------------------------------------------------------------------------------\n",
      "[Period]: Saturday\n",
      "[Short desc]: Mostly Sunny\n",
      "[Temperature]: High: 68 °F\n",
      "[Image desc]: Saturday: Mostly sunny, with a high near 68. West southwest wind 9 to 18 mph, with gusts as high as 24 mph. \n",
      "--------------------------------------------------------------------------------\n",
      "[Period]: SaturdayNight\n",
      "[Short desc]: Partly Cloudy\n",
      "[Temperature]: Low: 54 °F\n",
      "[Image desc]: Saturday Night: Partly cloudy, with a low around 54.\n",
      "--------------------------------------------------------------------------------\n",
      "[Period]: Sunday\n",
      "[Short desc]: Mostly Sunny\n",
      "[Temperature]: High: 70 °F\n",
      "[Image desc]: Sunday: Mostly sunny, with a high near 70.\n",
      "--------------------------------------------------------------------------------\n",
      "[Period]: SundayNight\n",
      "[Short desc]: Mostly Cloudy\n",
      "[Temperature]: Low: 55 °F\n",
      "[Image desc]: Sunday Night: Mostly cloudy, with a low around 55.\n",
      "--------------------------------------------------------------------------------\n"
     ]
    }
   ],
   "source": [
    "html = urlopen('https://forecast.weather.gov/MapClick.php?lat=37.7772&lon=-122.4168#.Ytjs7HZBxPY')\n",
    "soup = BeautifulSoup(html.read(), 'html.parser')\n",
    "div_tag = soup.select('div.tombstone-container')\n",
    "\n",
    "# for i in range(len(div_tag)):\n",
    "#     period_name = div_tag.select_one('p.period-name')\n",
    "\n",
    "def scraping_use_select(html):\n",
    "    html = urlopen('https://forecast.weather.gov/MapClick.php?lat=37.7772&lon=-122.4168#.Ytjs7HZBxPY')\n",
    "    soup = BeautifulSoup(html.read(), 'html.parser')\n",
    "    tag_div = soup.select('div.tombstone-container')\n",
    "\n",
    "    # 1) Period_name 뽑아 담기\n",
    "    period_name = soup.select('div.tombstone-container > p.period-name')\n",
    "    period = []\n",
    "    for p in period_name:\n",
    "        period.append(p.text)\n",
    "    \n",
    "    # 2) Short_desc 뽑아 담기\n",
    "    short_desc = soup.select('div.tombstone-container > p.short-desc')\n",
    "    short = []\n",
    "    for s in short_desc:\n",
    "        short.append(s.text)\n",
    "        \n",
    "    # 3) Temperature 뽑아 담기\n",
    "    temperature = soup.select('div.tombstone-container > p.temp')\n",
    "    temp = []\n",
    "\n",
    "    for t in temperature:\n",
    "        temp.append(t.text)\n",
    "        \n",
    "    # 4) Image desc 뽑아 담기\n",
    "    desc = []\n",
    "    for i in range(8):\n",
    "        desc.append(soup.select('div.tombstone-container > p > img')[i]['title'])\n",
    "    \n",
    "    # 출력\n",
    "    print('National Weather Service Scraping')\n",
    "    print('----------------------------------')\n",
    "    print('[select 함수 이용]')\n",
    "    print('--------------------------------------------------------------------------------')\n",
    "    \n",
    "    for n in range(8):\n",
    "        print('[Period]: {}'.format(period[int(n)]))\n",
    "        print('[Short desc]: {}'.format(short[int(n)]))\n",
    "        print('[Temperature]: {}'.format(temp[int(n)]))\n",
    "        print('[Image desc]: {}'.format(desc[int(n)]))\n",
    "        print('--------------------------------------------------------------------------------')\n",
    "        \n",
    "scraping_use_select(html)"
   ]
  },
  {
   "cell_type": "code",
   "execution_count": null,
   "id": "6f2e3c91",
   "metadata": {},
   "outputs": [],
   "source": [
    "National Weather Service Scraping\n",
    "----------------------------------\n",
    "[find 함수 이용]\n",
    "--------------------------------------------------------------------------------\n",
    "[Period]: Tonight\n",
    "[Short desc]: Mostly Clearand Breezythen MostlyClear\n",
    "[Temperature]: Low: 57 °F\n",
    "[Image desc]: Tonight: Mostly clear, with a low around 57. Breezy, with a west southwest wind 17 to 22 mph\n",
    "decreasing to 10 to 15 mph after midnight. Winds could gust as high as 28 mph.\n",
    "--------------------------------------------------------------------------------"
   ]
  },
  {
   "cell_type": "code",
   "execution_count": 264,
   "id": "53fdbc52",
   "metadata": {},
   "outputs": [
    {
     "data": {
      "text/plain": [
       "bs4.element.ResultSet"
      ]
     },
     "execution_count": 264,
     "metadata": {},
     "output_type": "execute_result"
    }
   ],
   "source": [
    "type(div_tag)"
   ]
  },
  {
   "cell_type": "code",
   "execution_count": 262,
   "id": "9fe5d36b",
   "metadata": {
    "collapsed": true
   },
   "outputs": [
    {
     "ename": "AttributeError",
     "evalue": "ResultSet object has no attribute 'select'. You're probably treating a list of elements like a single element. Did you call find_all() when you meant to call find()?",
     "output_type": "error",
     "traceback": [
      "\u001b[1;31m---------------------------------------------------------------------------\u001b[0m",
      "\u001b[1;31mAttributeError\u001b[0m                            Traceback (most recent call last)",
      "Input \u001b[1;32mIn [262]\u001b[0m, in \u001b[0;36m<cell line: 1>\u001b[1;34m()\u001b[0m\n\u001b[1;32m----> 1\u001b[0m tag_img \u001b[38;5;241m=\u001b[39m \u001b[43mdiv_tag\u001b[49m\u001b[38;5;241;43m.\u001b[39;49m\u001b[43mselect\u001b[49m(\u001b[38;5;124m'\u001b[39m\u001b[38;5;124mp > img\u001b[39m\u001b[38;5;124m'\u001b[39m)\n\u001b[0;32m      2\u001b[0m tag_img\n",
      "File \u001b[1;32mC:\\ProgramData\\Anaconda3\\lib\\site-packages\\bs4\\element.py:2289\u001b[0m, in \u001b[0;36mResultSet.__getattr__\u001b[1;34m(self, key)\u001b[0m\n\u001b[0;32m   2287\u001b[0m \u001b[38;5;28;01mdef\u001b[39;00m \u001b[38;5;21m__getattr__\u001b[39m(\u001b[38;5;28mself\u001b[39m, key):\n\u001b[0;32m   2288\u001b[0m     \u001b[38;5;124;03m\"\"\"Raise a helpful exception to explain a common code fix.\"\"\"\u001b[39;00m\n\u001b[1;32m-> 2289\u001b[0m     \u001b[38;5;28;01mraise\u001b[39;00m \u001b[38;5;167;01mAttributeError\u001b[39;00m(\n\u001b[0;32m   2290\u001b[0m         \u001b[38;5;124m\"\u001b[39m\u001b[38;5;124mResultSet object has no attribute \u001b[39m\u001b[38;5;124m'\u001b[39m\u001b[38;5;132;01m%s\u001b[39;00m\u001b[38;5;124m'\u001b[39m\u001b[38;5;124m. You\u001b[39m\u001b[38;5;124m'\u001b[39m\u001b[38;5;124mre probably treating a list of elements like a single element. Did you call find_all() when you meant to call find()?\u001b[39m\u001b[38;5;124m\"\u001b[39m \u001b[38;5;241m%\u001b[39m key\n\u001b[0;32m   2291\u001b[0m     )\n",
      "\u001b[1;31mAttributeError\u001b[0m: ResultSet object has no attribute 'select'. You're probably treating a list of elements like a single element. Did you call find_all() when you meant to call find()?"
     ]
    }
   ],
   "source": [
    "tag_img = div_tag.select('p > img')\n",
    "tag_img\n",
    "# for i in tag_img:\n",
    "#     print(i)"
   ]
  },
  {
   "cell_type": "code",
   "execution_count": 270,
   "id": "f6b356be",
   "metadata": {},
   "outputs": [
    {
     "data": {
      "text/plain": [
       "'Today: Mostly cloudy through mid morning, then gradual clearing, with a high near 69. Breezy, with a west southwest wind 9 to 14 mph increasing to 21 to 26 mph in the afternoon. Winds could gust as high as 34 mph. '"
      ]
     },
     "execution_count": 270,
     "metadata": {},
     "output_type": "execute_result"
    }
   ],
   "source": [
    "soup.select('div > p > img')[i]['title']"
   ]
  },
  {
   "cell_type": "code",
   "execution_count": 278,
   "id": "fd51fdc1",
   "metadata": {},
   "outputs": [
    {
     "data": {
      "text/plain": [
       "<div class=\"tombstone-container\">\n",
       "<p class=\"period-name\">Today<br/><br/></p>\n",
       "<p><img alt=\"Today: Mostly cloudy through mid morning, then gradual clearing, with a high near 69. Breezy, with a west southwest wind 9 to 14 mph increasing to 21 to 26 mph in the afternoon. Winds could gust as high as 34 mph. \" class=\"forecast-icon\" src=\"DualImage.php?i=bkn&amp;j=wind_few\" title=\"Today: Mostly cloudy through mid morning, then gradual clearing, with a high near 69. Breezy, with a west southwest wind 9 to 14 mph increasing to 21 to 26 mph in the afternoon. Winds could gust as high as 34 mph. \"/></p><p class=\"short-desc\">Partly Sunny<br/>then Sunny<br/>and Breezy</p><p class=\"temp temp-high\">High: 69 °F</p></div>"
      ]
     },
     "execution_count": 278,
     "metadata": {},
     "output_type": "execute_result"
    }
   ],
   "source": [
    "soup.select_one('div.tombstone-container')"
   ]
  },
  {
   "cell_type": "code",
   "execution_count": 280,
   "id": "c7081c7c",
   "metadata": {},
   "outputs": [
    {
     "ename": "AttributeError",
     "evalue": "ResultSet object has no attribute 'text'. You're probably treating a list of elements like a single element. Did you call find_all() when you meant to call find()?",
     "output_type": "error",
     "traceback": [
      "\u001b[1;31m---------------------------------------------------------------------------\u001b[0m",
      "\u001b[1;31mAttributeError\u001b[0m                            Traceback (most recent call last)",
      "Input \u001b[1;32mIn [280]\u001b[0m, in \u001b[0;36m<cell line: 2>\u001b[1;34m()\u001b[0m\n\u001b[0;32m      1\u001b[0m temperature \u001b[38;5;241m=\u001b[39m soup\u001b[38;5;241m.\u001b[39mselect(\u001b[38;5;124m'\u001b[39m\u001b[38;5;124mdiv > p.temp\u001b[39m\u001b[38;5;124m'\u001b[39m)\n\u001b[1;32m----> 2\u001b[0m \u001b[43mtemperature\u001b[49m\u001b[38;5;241;43m.\u001b[39;49m\u001b[43mtext\u001b[49m\n",
      "File \u001b[1;32mC:\\ProgramData\\Anaconda3\\lib\\site-packages\\bs4\\element.py:2289\u001b[0m, in \u001b[0;36mResultSet.__getattr__\u001b[1;34m(self, key)\u001b[0m\n\u001b[0;32m   2287\u001b[0m \u001b[38;5;28;01mdef\u001b[39;00m \u001b[38;5;21m__getattr__\u001b[39m(\u001b[38;5;28mself\u001b[39m, key):\n\u001b[0;32m   2288\u001b[0m     \u001b[38;5;124;03m\"\"\"Raise a helpful exception to explain a common code fix.\"\"\"\u001b[39;00m\n\u001b[1;32m-> 2289\u001b[0m     \u001b[38;5;28;01mraise\u001b[39;00m \u001b[38;5;167;01mAttributeError\u001b[39;00m(\n\u001b[0;32m   2290\u001b[0m         \u001b[38;5;124m\"\u001b[39m\u001b[38;5;124mResultSet object has no attribute \u001b[39m\u001b[38;5;124m'\u001b[39m\u001b[38;5;132;01m%s\u001b[39;00m\u001b[38;5;124m'\u001b[39m\u001b[38;5;124m. You\u001b[39m\u001b[38;5;124m'\u001b[39m\u001b[38;5;124mre probably treating a list of elements like a single element. Did you call find_all() when you meant to call find()?\u001b[39m\u001b[38;5;124m\"\u001b[39m \u001b[38;5;241m%\u001b[39m key\n\u001b[0;32m   2291\u001b[0m     )\n",
      "\u001b[1;31mAttributeError\u001b[0m: ResultSet object has no attribute 'text'. You're probably treating a list of elements like a single element. Did you call find_all() when you meant to call find()?"
     ]
    }
   ],
   "source": [
    "temperature = soup.select('div > p.temp')\n",
    "temperature"
   ]
  },
  {
   "cell_type": "code",
   "execution_count": null,
   "id": "e8bcb77f",
   "metadata": {},
   "outputs": [],
   "source": []
  }
 ],
 "metadata": {
  "kernelspec": {
   "display_name": "Python 3 (ipykernel)",
   "language": "python",
   "name": "python3"
  },
  "language_info": {
   "codemirror_mode": {
    "name": "ipython",
    "version": 3
   },
   "file_extension": ".py",
   "mimetype": "text/x-python",
   "name": "python",
   "nbconvert_exporter": "python",
   "pygments_lexer": "ipython3",
   "version": "3.9.12"
  }
 },
 "nbformat": 4,
 "nbformat_minor": 5
}
