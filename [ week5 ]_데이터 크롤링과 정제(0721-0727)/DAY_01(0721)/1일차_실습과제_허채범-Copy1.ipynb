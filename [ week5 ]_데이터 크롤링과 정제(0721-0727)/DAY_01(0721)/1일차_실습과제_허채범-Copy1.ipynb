{
 "cells": [
  {
   "cell_type": "markdown",
   "id": "002972ae",
   "metadata": {},
   "source": [
    "# 1일차_실습과제_허채범\n",
    "\n",
    "- 일주일간의 일기예보 내용을 화면에 출력\n",
    "- 출력 항목 (4개 항목)  \n",
    "– period-name  \n",
    "– short-desc  \n",
    "– temp  \n",
    "– < img title=“...” >  "
   ]
  },
  {
   "cell_type": "code",
   "execution_count": 3,
   "id": "99b5299f",
   "metadata": {},
   "outputs": [],
   "source": [
    "from urllib.request import urlopen\n",
    "from bs4 import BeautifulSoup"
   ]
  },
  {
   "cell_type": "code",
   "execution_count": null,
   "id": "381233d2",
   "metadata": {},
   "outputs": [],
   "source": []
  },
  {
   "cell_type": "code",
   "execution_count": null,
   "id": "90771b05",
   "metadata": {},
   "outputs": [],
   "source": []
  },
  {
   "cell_type": "code",
   "execution_count": null,
   "id": "273f2dd1",
   "metadata": {},
   "outputs": [],
   "source": []
  },
  {
   "cell_type": "code",
   "execution_count": null,
   "id": "da30f172",
   "metadata": {},
   "outputs": [],
   "source": []
  },
  {
   "cell_type": "code",
   "execution_count": 81,
   "id": "65cea33d",
   "metadata": {},
   "outputs": [
    {
     "name": "stdout",
     "output_type": "stream",
     "text": [
      "National Weather Service Scraping\n",
      "----------------------------------\n",
      "[select 함수 이용]\n",
      "--------------------------------------------------------------------------------\n",
      "[Period] = Today\n",
      "[Short desc] = Partly Sunnythen Sunnyand Breezy\n",
      "[Temperature] = High: 69 °F\n",
      "[Image desc] = Today: Mostly cloudy through mid morning, then gradual clearing, with a high near 69. Breezy, with a west southwest wind 9 to 14 mph increasing to 21 to 26 mph in the afternoon. Winds could gust as high as 34 mph. \n",
      "--------------------------------------------------------------------------------\n",
      "[Period] = Tonight\n",
      "[Short desc] = Mostly Clearand Breezythen PartlyCloudy\n",
      "[Temperature] = Low: 56 °F\n",
      "[Image desc] = Tonight: Mostly clear, with a low around 56. Breezy, with a west wind 16 to 25 mph, with gusts as high as 32 mph. \n",
      "--------------------------------------------------------------------------------\n",
      "[Period] = Friday\n",
      "[Short desc] = Sunny andBreezy\n",
      "[Temperature] = High: 67 °F\n",
      "[Image desc] = Friday: Sunny, with a high near 67. Breezy, with a west wind 20 to 28 mph, with gusts as high as 36 mph. \n",
      "--------------------------------------------------------------------------------\n",
      "[Period] = FridayNight\n",
      "[Short desc] = Partly Cloudyand Breezy\n",
      "[Temperature] = Low: 54 °F\n",
      "[Image desc] = Friday Night: Partly cloudy, with a low around 54. Breezy, with a west wind 16 to 26 mph, with gusts as high as 34 mph. \n",
      "--------------------------------------------------------------------------------\n",
      "[Period] = Saturday\n",
      "[Short desc] = Mostly Sunny\n",
      "[Temperature] = High: 68 °F\n",
      "[Image desc] = Saturday: Mostly sunny, with a high near 68. West southwest wind 9 to 18 mph, with gusts as high as 24 mph. \n",
      "--------------------------------------------------------------------------------\n",
      "[Period] = SaturdayNight\n",
      "[Short desc] = Partly Cloudy\n",
      "[Temperature] = Low: 54 °F\n",
      "[Image desc] = Saturday Night: Partly cloudy, with a low around 54.\n",
      "--------------------------------------------------------------------------------\n",
      "[Period] = Sunday\n",
      "[Short desc] = Mostly Sunny\n",
      "[Temperature] = High: 70 °F\n",
      "[Image desc] = Sunday: Mostly sunny, with a high near 70.\n",
      "--------------------------------------------------------------------------------\n",
      "[Period] = SundayNight\n",
      "[Short desc] = Mostly Cloudy\n",
      "[Temperature] = Low: 55 °F\n",
      "[Image desc] = Sunday Night: Mostly cloudy, with a low around 55.\n",
      "--------------------------------------------------------------------------------\n",
      "[Period] = Monday\n",
      "[Short desc] = Mostly Sunny\n",
      "[Temperature] = High: 70 °F\n",
      "[Image desc] = Monday: Mostly sunny, with a high near 70.\n",
      "--------------------------------------------------------------------------------\n"
     ]
    }
   ],
   "source": [
    "html = urlopen('https://forecast.weather.gov/MapClick.php?lat=37.7772&lon=-122.4168#.Ytjs7HZBxPY')\n",
    "\n",
    "def scraping_use_select(html):\n",
    "    soup = BeautifulSoup(html.read(), 'html.parser')\n",
    "    div_tags = soup.select('div.tombstone-container')\n",
    "    \n",
    "    print('National Weather Service Scraping')\n",
    "    print('----------------------------------')\n",
    "    print('[select 함수 이용]')\n",
    "    print('--------------------------------------------------------------------------------')\n",
    "    \n",
    "    for div_tag in div_tags:\n",
    "        print('[Period] = {}'.format(div_tag.select_one('p.period-name').text))\n",
    "        print('[Short desc] = {}'.format(div_tag.select_one('p.short-desc').text))\n",
    "        print('[Temperature] = {}'.format(div_tag.select_one('p.temp').text))\n",
    "        print('[Image desc] = {}'.format(div_tag.select_one('p > img')['title']))\n",
    "        print('--------------------------------------------------------------------------------')\n",
    "\n",
    "scraping_use_select(html)"
   ]
  },
  {
   "cell_type": "code",
   "execution_count": 6,
   "id": "644f2000",
   "metadata": {},
   "outputs": [
    {
     "ename": "AttributeError",
     "evalue": "'HTTPResponse' object has no attribute 'find'",
     "output_type": "error",
     "traceback": [
      "\u001b[1;31m---------------------------------------------------------------------------\u001b[0m",
      "\u001b[1;31mAttributeError\u001b[0m                            Traceback (most recent call last)",
      "Input \u001b[1;32mIn [6]\u001b[0m, in \u001b[0;36m<cell line: 6>\u001b[1;34m()\u001b[0m\n\u001b[0;32m      3\u001b[0m html \u001b[38;5;241m=\u001b[39m urlopen(\u001b[38;5;124m'\u001b[39m\u001b[38;5;124mhttps://forecast.weather.gov/MapClick.php?lat=37.7772&lon=-122.4168#.YtpW1HZBxPY\u001b[39m\u001b[38;5;124m'\u001b[39m)\n\u001b[0;32m      5\u001b[0m \u001b[38;5;66;03m# def scraping_use_find(html):\u001b[39;00m\n\u001b[1;32m----> 6\u001b[0m seven_day \u001b[38;5;241m=\u001b[39m \u001b[43mhtml\u001b[49m\u001b[38;5;241;43m.\u001b[39;49m\u001b[43mfind\u001b[49m(\u001b[38;5;28mid\u001b[39m\u001b[38;5;241m=\u001b[39m\u001b[38;5;124m'\u001b[39m\u001b[38;5;124mseven-day-forecast\u001b[39m\u001b[38;5;124m'\u001b[39m)\n\u001b[0;32m      7\u001b[0m forecast_items \u001b[38;5;241m=\u001b[39m seven_day\u001b[38;5;241m.\u001b[39mfind_all(class_\u001b[38;5;241m=\u001b[39m\u001b[38;5;124m'\u001b[39m\u001b[38;5;124mtombstone-container\u001b[39m\u001b[38;5;124m'\u001b[39m)\n",
      "\u001b[1;31mAttributeError\u001b[0m: 'HTTPResponse' object has no attribute 'find'"
     ]
    }
   ],
   "source": [
    "from urllib.request import urlopen\n",
    "from bs4 import BeautifulSoup\n",
    "html = urlopen('https://forecast.weather.gov/MapClick.php?lat=37.7772&lon=-122.4168#.YtpW1HZBxPY')\n",
    "\n",
    "# def scraping_use_find(html):\n",
    "seven_day = html.find(id='seven-day-forecast')\n",
    "forecast_items = seven_day.find_all(class_='tombstone-container')\n",
    "    \n",
    "    \n",
    "    \n",
    "    \n",
    "#     soup = BeautifulSoup(html.read(), 'html.parser')\n",
    "#     div_tags = soup.find_all('div',{'class':'tombstone-container'})\n",
    "    \n",
    "#     print('National Weather Service Scraping')\n",
    "#     print('----------------------------------')\n",
    "#     print('[find 함수 이용]')\n",
    "#     print('--------------------------------------------------------------------------------')\n",
    "    \n",
    "#     for div_tag in div_tags:\n",
    "#         print('[Period] = {}'.format(div_tag.find('p',{'class':'period-name'}).text))\n",
    "#         print('[Short desc] = {}'.format(div_tag.find('p',{'class':'short-desc'}).text))\n",
    "#         print('[Temperature] = {}'.format(div_tag.find('p',{'class':'temp'}).text))\n",
    "#         print('[Image desc] = {}'.format(div_tag.find('img')['title']))\n",
    "#         print('--------------------------------------------------------------------------------')\n",
    "\n",
    "# scraping_use_find(html)"
   ]
  },
  {
   "cell_type": "code",
   "execution_count": null,
   "id": "75c7460f",
   "metadata": {},
   "outputs": [],
   "source": []
  }
 ],
 "metadata": {
  "kernelspec": {
   "display_name": "Python 3 (ipykernel)",
   "language": "python",
   "name": "python3"
  },
  "language_info": {
   "codemirror_mode": {
    "name": "ipython",
    "version": 3
   },
   "file_extension": ".py",
   "mimetype": "text/x-python",
   "name": "python",
   "nbconvert_exporter": "python",
   "pygments_lexer": "ipython3",
   "version": "3.9.12"
  }
 },
 "nbformat": 4,
 "nbformat_minor": 5
}
