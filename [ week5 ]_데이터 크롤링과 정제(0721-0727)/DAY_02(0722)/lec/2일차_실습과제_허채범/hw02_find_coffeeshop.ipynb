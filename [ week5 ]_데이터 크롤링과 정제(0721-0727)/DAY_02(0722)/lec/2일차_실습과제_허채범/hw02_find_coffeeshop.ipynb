{
 "cells": [
  {
   "cell_type": "code",
   "execution_count": 243,
   "id": "2bbace0a",
   "metadata": {
    "scrolled": true
   },
   "outputs": [
    {
     "name": "stdout",
     "output_type": "stream",
     "text": [
      "검색할 매장의 도시를 입력하세요: 대구 북구\n",
      "----------------------------------------\n",
      "검색된 매장 수: 6\n",
      "----------------------------------------\n",
      "[  1]: ['대구광역시 북구 동화천로 229 (연경동) 1층~2층', '053-982-6877']\n",
      "[  2]: ['대구광역시 북구 대학로 17길 3 (산격동 1393-11) 할리스 B1~3층', '053-951-9990']\n",
      "[  3]: ['대구광역시 북구 구암로 59 비전스퀘어 1,2층 .', '053-324-6122']\n",
      "[  4]: ['대구광역시 북구 침산남로 157 (침산동) .', '053-353-5544']\n",
      "[  5]: ['대구 북구 성북로 36,2층 601,602,603,604 473-3, 침산초등학교 맞은편', '053-353-5412']\n",
      "[  6]: ['대구광역시 북구 동천로 125 (동천동) .', '053-321-0099']\n"
     ]
    }
   ],
   "source": [
    "import pandas as pd\n",
    "\n",
    "cafeDF = pd.read_csv('hollys_branches.csv', encoding='utf-8', index_col = 0)\n",
    "addr1, addr2 = input('검색할 매장의 도시를 입력하세요: ').split()\n",
    "check= []\n",
    "\n",
    "for i in range(len(cafeDF)):\n",
    "    if (addr1 in cafeDF['위치(시,구)'][i]) & (addr2 in cafeDF['위치(시,구)'][i]):\n",
    "        check.append(cafeDF.iloc[i])\n",
    "\n",
    "checkDF = pd.DataFrame(check)\n",
    "print('-'*40)\n",
    "print('검색된 매장 수: {}'.format(len(checkDF)))\n",
    "print('-'*40)\n",
    "\n",
    "for j in range(len(checkDF)):\n",
    "    print(\"[  {}]: ['{}', '{}']\".format(j+1,checkDF['주소'].to_list()[j],checkDF['전화번호'].to_list()[j]))"
   ]
  },
  {
   "cell_type": "code",
   "execution_count": null,
   "id": "7b127151",
   "metadata": {},
   "outputs": [],
   "source": []
  }
 ],
 "metadata": {
  "kernelspec": {
   "display_name": "Python 3 (ipykernel)",
   "language": "python",
   "name": "python3"
  },
  "language_info": {
   "codemirror_mode": {
    "name": "ipython",
    "version": 3
   },
   "file_extension": ".py",
   "mimetype": "text/x-python",
   "name": "python",
   "nbconvert_exporter": "python",
   "pygments_lexer": "ipython3",
   "version": "3.9.12"
  }
 },
 "nbformat": 4,
 "nbformat_minor": 5
}
