{
 "cells": [
  {
   "cell_type": "code",
   "execution_count": null,
   "id": "11d89266",
   "metadata": {},
   "outputs": [],
   "source": []
  },
  {
   "cell_type": "markdown",
   "id": "07f97120",
   "metadata": {},
   "source": [
    "http://www.kyobobook.co.kr/categoryRenewal/categoryMain.laf?linkClass=3301&mallGb=KOR&orderClick=JAR\n",
    "-> 3301 들어가는 숫자\n",
    "해당하는 카테고리의 책을 검색하게 됨"
   ]
  },
  {
   "cell_type": "markdown",
   "id": "d2362f3e",
   "metadata": {},
   "source": [
    "- li-> list 목록\n",
    "- 전체 페이지를 알기 위해서는 끝까지 가봐야 알 수 있음\n",
    " -> 전체 페이지 수를 모르는 경우, continue를 활용하여\n",
    " - <strong>굵게</strng> : 굵게"
   ]
  },
  {
   "cell_type": "markdown",
   "id": "6fd8e5e5",
   "metadata": {},
   "source": [
    "- 패턴 중 하나를 떼어다가 놓고 시험을 해보고, 되면 전체로 돌려"
   ]
  },
  {
   "cell_type": "markdown",
   "id": "1e77b711",
   "metadata": {},
   "source": [
    "# 교보문고 베스트 셀러 1권 정보 분석"
   ]
  },
  {
   "cell_type": "code",
   "execution_count": 1,
   "id": "f06c256f",
   "metadata": {},
   "outputs": [],
   "source": [
    "html = '''\n",
    "<div class=\"title\">\n",
    "<a onclick=\"javascript:ecommerceClickListGA('9791162245620', 'KOR', '구글 엔지니어는 이렇게 일한다                                                                       ', '한빛미디어', '3301', '타이터스 윈터스', '컴퓨터/IT &gt; 컴퓨터공학', '카테고리_KOR_3301');\" \n",
    "href=\"javascript:makeDetailUrl('KOR','3301','9791162245620','0 ', 'N' )\">\n",
    "<strong>구글 엔지니어는 이렇게 일한다</strong></a>\n",
    "</div>\n",
    "\n",
    "<div class=\"pub_info\">\n",
    "<span class=\"author\">타이터스 윈터스</span>\n",
    "<span class=\"publication\">한빛미디어</span>\n",
    "<span class=\"publication\">\t \n",
    "2022.05.10\t<!-- 초판일 -->\n",
    "</span>\n",
    "</div>\n",
    "\n",
    "<div class=\"info\">\n",
    "<span>지난 50년의 세월과 이 책이 입증한 사실이 한 가지 있습니다. 바로 '소프트웨어 엔지니어링의 발전은 결코 정체되지 않는다'라는 것입니다. 빠른 기술 변화 속에서 소프트웨어 엔지니어링의 중요성이 더욱</span>\n",
    "</div>\n",
    "'''"
   ]
  },
  {
   "cell_type": "code",
   "execution_count": 2,
   "id": "2ee96a28",
   "metadata": {},
   "outputs": [],
   "source": [
    "from bs4 import BeautifulSoup\n",
    "book = BeautifulSoup(html, 'html.parser')\n",
    "\n",
    "book_title = book.find('div', attrs={'class': 'title'}).find('strong').text\n",
    "book_info = book.find('div', attrs={'class':'pub_info'})\n",
    "book_author = book_info.find('span', attrs={'class': 'author'}).text\n",
    "book_publication = book_info.find('span', attrs={'class': 'publication'}).text\n",
    "book_summary = book.find('div', attrs={'class': 'info'}).find('span').text\n",
    "\n",
    "print('title:', book_title)\n",
    "print('author:', book_author)\n",
    "print('publication:', book_publication)\n",
    "print('summary:', book_summary)"
   ]
  },
  {
   "cell_type": "code",
   "execution_count": null,
   "id": "01d72dea",
   "metadata": {},
   "outputs": [],
   "source": []
  },
  {
   "cell_type": "code",
   "execution_count": null,
   "id": "6af8e4db",
   "metadata": {},
   "outputs": [],
   "source": []
  },
  {
   "cell_type": "code",
   "execution_count": null,
   "id": "0421e0c8",
   "metadata": {},
   "outputs": [],
   "source": []
  },
  {
   "cell_type": "code",
   "execution_count": null,
   "id": "4bcac53d",
   "metadata": {},
   "outputs": [],
   "source": []
  }
 ],
 "metadata": {
  "kernelspec": {
   "display_name": "Python 3 (ipykernel)",
   "language": "python",
   "name": "python3"
  },
  "language_info": {
   "codemirror_mode": {
    "name": "ipython",
    "version": 3
   },
   "file_extension": ".py",
   "mimetype": "text/x-python",
   "name": "python",
   "nbconvert_exporter": "python",
   "pygments_lexer": "ipython3",
   "version": "3.9.12"
  }
 },
 "nbformat": 4,
 "nbformat_minor": 5
}
